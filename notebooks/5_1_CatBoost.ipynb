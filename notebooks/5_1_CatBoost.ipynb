{
  "nbformat": 4,
  "nbformat_minor": 0,
  "metadata": {
    "colab": {
      "provenance": [],
      "gpuType": "T4",
      "authorship_tag": "ABX9TyPFlJ1w6HPfPtRlSmKzylVW",
      "include_colab_link": true
    },
    "kernelspec": {
      "name": "python3",
      "display_name": "Python 3"
    },
    "language_info": {
      "name": "python"
    },
    "widgets": {
      "application/vnd.jupyter.widget-state+json": {
        "12ee5f8090bc43979a48c01050ffe727": {
          "model_module": "catboost-widget",
          "model_name": "CatboostWidgetModel",
          "model_module_version": "^1.0.0",
          "state": {
            "_dom_classes": [],
            "_model_module": "catboost-widget",
            "_model_module_version": "^1.0.0",
            "_model_name": "CatboostWidgetModel",
            "_view_count": null,
            "_view_module": "catboost-widget",
            "_view_module_version": "^1.0.0",
            "_view_name": "CatboostWidgetView",
            "data": {
              "catboost_info": {
                "path": "catboost_info",
                "name": "catboost_info",
                "content": {
                  "passed_iterations": 999,
                  "total_iterations": 1000,
                  "data": {
                    "iterations": [
                      {
                        "learn": [
                          0.9095123571
                        ],
                        "iteration": 0,
                        "passed_time": 0.06459600345,
                        "remaining_time": 64.53140744,
                        "test": [
                          0.9095340065
                        ]
                      },
                      {
                        "learn": [
                          0.7691732719
                        ],
                        "iteration": 1,
                        "passed_time": 0.1101485039,
                        "remaining_time": 54.96410345,
                        "test": [
                          0.769208033
                        ]
                      },
                      {
                        "learn": [
                          0.6595520477
                        ],
                        "iteration": 2,
                        "passed_time": 0.1338934474,
                        "remaining_time": 44.49725568,
                        "test": [
                          0.6595953974
                        ]
                      },
                      {
                        "learn": [
                          0.5711203392
                        ],
                        "iteration": 3,
                        "passed_time": 0.1434924905,
                        "remaining_time": 35.72963014,
                        "test": [
                          0.5711692283
                        ]
                      },
                      {
                        "learn": [
                          0.4981785503
                        ],
                        "iteration": 4,
                        "passed_time": 0.1528123828,
                        "remaining_time": 30.40966418,
                        "test": [
                          0.4982309461
                        ]
                      },
                      {
                        "learn": [
                          0.437027778
                        ],
                        "iteration": 5,
                        "passed_time": 0.1633473302,
                        "remaining_time": 27.0612077,
                        "test": [
                          0.4370823081
                        ]
                      },
                      {
                        "learn": [
                          0.3851239588
                        ],
                        "iteration": 6,
                        "passed_time": 0.1726585121,
                        "remaining_time": 24.49284321,
                        "test": [
                          0.3851796578
                        ]
                      },
                      {
                        "learn": [
                          0.3406391382
                        ],
                        "iteration": 7,
                        "passed_time": 0.182114937,
                        "remaining_time": 22.58225219,
                        "test": [
                          0.3406955233
                        ]
                      },
                      {
                        "learn": [
                          0.3022154745
                        ],
                        "iteration": 8,
                        "passed_time": 0.1913643336,
                        "remaining_time": 21.0713394,
                        "test": [
                          0.3022718596
                        ]
                      },
                      {
                        "learn": [
                          0.2688151668
                        ],
                        "iteration": 9,
                        "passed_time": 0.2023295804,
                        "remaining_time": 20.03062846,
                        "test": [
                          0.2688711962
                        ]
                      },
                      {
                        "learn": [
                          0.2396282669
                        ],
                        "iteration": 10,
                        "passed_time": 0.2119084121,
                        "remaining_time": 19.05249269,
                        "test": [
                          0.2396837373
                        ]
                      },
                      {
                        "learn": [
                          0.2140099925
                        ],
                        "iteration": 11,
                        "passed_time": 0.2212572302,
                        "remaining_time": 18.21684529,
                        "test": [
                          0.2140647259
                        ]
                      },
                      {
                        "learn": [
                          0.1914399438
                        ],
                        "iteration": 12,
                        "passed_time": 0.2304830706,
                        "remaining_time": 17.4989839,
                        "test": [
                          0.1914937625
                        ]
                      },
                      {
                        "learn": [
                          0.1714916626
                        ],
                        "iteration": 13,
                        "passed_time": 0.2408948233,
                        "remaining_time": 16.96587827,
                        "test": [
                          0.1715444903
                        ]
                      },
                      {
                        "learn": [
                          0.1538118462
                        ],
                        "iteration": 14,
                        "passed_time": 0.2502006546,
                        "remaining_time": 16.42984298,
                        "test": [
                          0.1538635813
                        ]
                      },
                      {
                        "learn": [
                          0.1381051908
                        ],
                        "iteration": 15,
                        "passed_time": 0.2600953494,
                        "remaining_time": 15.99586399,
                        "test": [
                          0.1381557824
                        ]
                      },
                      {
                        "learn": [
                          0.124122537
                        ],
                        "iteration": 16,
                        "passed_time": 0.272570601,
                        "remaining_time": 15.76099417,
                        "test": [
                          0.1241719852
                        ]
                      },
                      {
                        "learn": [
                          0.1116523203
                        ],
                        "iteration": 17,
                        "passed_time": 0.2829470524,
                        "remaining_time": 15.43633364,
                        "test": [
                          0.1117005868
                        ]
                      },
                      {
                        "learn": [
                          0.100512877
                        ],
                        "iteration": 18,
                        "passed_time": 0.2923250313,
                        "remaining_time": 15.09320293,
                        "test": [
                          0.100559981
                        ]
                      },
                      {
                        "learn": [
                          0.09054835412
                        ],
                        "iteration": 19,
                        "passed_time": 0.3017192519,
                        "remaining_time": 14.78424334,
                        "test": [
                          0.09059427025
                        ]
                      },
                      {
                        "learn": [
                          0.08162380476
                        ],
                        "iteration": 20,
                        "passed_time": 0.3138071968,
                        "remaining_time": 14.62939265,
                        "test": [
                          0.08166855201
                        ]
                      },
                      {
                        "learn": [
                          0.07362192934
                        ],
                        "iteration": 21,
                        "passed_time": 0.3241786876,
                        "remaining_time": 14.4112162,
                        "test": [
                          0.07366552043
                        ]
                      },
                      {
                        "learn": [
                          0.0664402043
                        ],
                        "iteration": 22,
                        "passed_time": 0.3378482009,
                        "remaining_time": 14.35120401,
                        "test": [
                          0.0664826837
                        ]
                      },
                      {
                        "learn": [
                          0.05998911607
                        ],
                        "iteration": 23,
                        "passed_time": 0.3606301342,
                        "remaining_time": 14.66562546,
                        "test": [
                          0.06003048378
                        ]
                      },
                      {
                        "learn": [
                          0.05418988688
                        ],
                        "iteration": 24,
                        "passed_time": 0.4029840786,
                        "remaining_time": 15.71637906,
                        "test": [
                          0.0542301556
                        ]
                      },
                      {
                        "learn": [
                          0.04897267058
                        ],
                        "iteration": 25,
                        "passed_time": 0.442639192,
                        "remaining_time": 16.58194511,
                        "test": [
                          0.04901188796
                        ]
                      },
                      {
                        "learn": [
                          0.04427643839
                        ],
                        "iteration": 26,
                        "passed_time": 0.4811261857,
                        "remaining_time": 17.33836217,
                        "test": [
                          0.04431461712
                        ]
                      },
                      {
                        "learn": [
                          0.04004681895
                        ],
                        "iteration": 27,
                        "passed_time": 0.5194479519,
                        "remaining_time": 18.03226462,
                        "test": [
                          0.04008398127
                        ]
                      },
                      {
                        "learn": [
                          0.03623538053
                        ],
                        "iteration": 28,
                        "passed_time": 0.5587692806,
                        "remaining_time": 18.70913695,
                        "test": [
                          0.03627157092
                        ]
                      },
                      {
                        "learn": [
                          0.03279931976
                        ],
                        "iteration": 29,
                        "passed_time": 0.6034138847,
                        "remaining_time": 19.51038227,
                        "test": [
                          0.03283455092
                        ]
                      },
                      {
                        "learn": [
                          0.02970034991
                        ],
                        "iteration": 30,
                        "passed_time": 0.6279499313,
                        "remaining_time": 19.62849947,
                        "test": [
                          0.02973465677
                        ]
                      },
                      {
                        "learn": [
                          0.02690425304
                        ],
                        "iteration": 31,
                        "passed_time": 0.6379951297,
                        "remaining_time": 19.29935267,
                        "test": [
                          0.0269376642
                        ]
                      },
                      {
                        "learn": [
                          0.02438071804
                        ],
                        "iteration": 32,
                        "passed_time": 0.6477530099,
                        "remaining_time": 18.98112608,
                        "test": [
                          0.02441325732
                        ]
                      },
                      {
                        "learn": [
                          0.0221024703
                        ],
                        "iteration": 33,
                        "passed_time": 0.6567108325,
                        "remaining_time": 18.65831365,
                        "test": [
                          0.02213416786
                        ]
                      },
                      {
                        "learn": [
                          0.02004502715
                        ],
                        "iteration": 34,
                        "passed_time": 0.6656596918,
                        "remaining_time": 18.35318865,
                        "test": [
                          0.02007590682
                        ]
                      },
                      {
                        "learn": [
                          0.0181863437
                        ],
                        "iteration": 35,
                        "passed_time": 0.67447757,
                        "remaining_time": 18.06101049,
                        "test": [
                          0.01821643248
                        ]
                      },
                      {
                        "learn": [
                          0.0165072353
                        ],
                        "iteration": 36,
                        "passed_time": 0.6858189374,
                        "remaining_time": 17.84982802,
                        "test": [
                          0.01653655701
                        ]
                      },
                      {
                        "learn": [
                          0.01498964804
                        ],
                        "iteration": 37,
                        "passed_time": 0.6946973551,
                        "remaining_time": 17.58681199,
                        "test": [
                          0.0150182265
                        ]
                      },
                      {
                        "learn": [
                          0.01361795468
                        ],
                        "iteration": 38,
                        "passed_time": 0.7045606872,
                        "remaining_time": 17.36109796,
                        "test": [
                          0.0136458169
                        ]
                      },
                      {
                        "learn": [
                          0.01237777627
                        ],
                        "iteration": 39,
                        "passed_time": 0.7132980066,
                        "remaining_time": 17.11915216,
                        "test": [
                          0.0124049413
                        ]
                      },
                      {
                        "learn": [
                          0.01125640456
                        ],
                        "iteration": 40,
                        "passed_time": 0.7221012049,
                        "remaining_time": 16.8901233,
                        "test": [
                          0.0112828994
                        ]
                      },
                      {
                        "learn": [
                          0.01024217629
                        ],
                        "iteration": 41,
                        "passed_time": 0.7313724058,
                        "remaining_time": 16.6822563,
                        "test": [
                          0.01026802238
                        ]
                      },
                      {
                        "learn": [
                          0.009324563731
                        ],
                        "iteration": 42,
                        "passed_time": 0.7467522139,
                        "remaining_time": 16.61957834,
                        "test": [
                          0.009349781707
                        ]
                      },
                      {
                        "learn": [
                          0.008494578035
                        ],
                        "iteration": 43,
                        "passed_time": 0.7556225221,
                        "remaining_time": 16.41761662,
                        "test": [
                          0.008519189344
                        ]
                      },
                      {
                        "learn": [
                          0.007743339951
                        ],
                        "iteration": 44,
                        "passed_time": 0.7644527684,
                        "remaining_time": 16.22338653,
                        "test": [
                          0.007767363651
                        ]
                      },
                      {
                        "learn": [
                          0.007063553593
                        ],
                        "iteration": 45,
                        "passed_time": 0.7731294313,
                        "remaining_time": 16.03403212,
                        "test": [
                          0.007087010329
                        ]
                      },
                      {
                        "learn": [
                          0.006448115238
                        ],
                        "iteration": 46,
                        "passed_time": 0.7786857501,
                        "remaining_time": 15.78909617,
                        "test": [
                          0.006471023274
                        ]
                      },
                      {
                        "learn": [
                          0.005891113456
                        ],
                        "iteration": 47,
                        "passed_time": 0.7874861057,
                        "remaining_time": 15.61847443,
                        "test": [
                          0.005913489863
                        ]
                      },
                      {
                        "learn": [
                          0.005386676915
                        ],
                        "iteration": 48,
                        "passed_time": 0.796222917,
                        "remaining_time": 15.45322437,
                        "test": [
                          0.005408542341
                        ]
                      },
                      {
                        "learn": [
                          0.004929679518
                        ],
                        "iteration": 49,
                        "passed_time": 0.8047473104,
                        "remaining_time": 15.2901989,
                        "test": [
                          0.004951047461
                        ]
                      },
                      {
                        "learn": [
                          0.00451589127
                        ],
                        "iteration": 50,
                        "passed_time": 0.8132754116,
                        "remaining_time": 15.13330129,
                        "test": [
                          0.004536779199
                        ]
                      },
                      {
                        "learn": [
                          0.00414086222
                        ],
                        "iteration": 51,
                        "passed_time": 0.8218041147,
                        "remaining_time": 14.98212117,
                        "test": [
                          0.004161286414
                        ]
                      },
                      {
                        "learn": [
                          0.003801041301
                        ],
                        "iteration": 52,
                        "passed_time": 0.8262510324,
                        "remaining_time": 14.76339109,
                        "test": [
                          0.003821017244
                        ]
                      },
                      {
                        "learn": [
                          0.003492901665
                        ],
                        "iteration": 53,
                        "passed_time": 0.8382322004,
                        "remaining_time": 14.68458633,
                        "test": [
                          0.003512444445
                        ]
                      },
                      {
                        "learn": [
                          0.003249036382
                        ],
                        "iteration": 54,
                        "passed_time": 0.8394600406,
                        "remaining_time": 14.42344979,
                        "test": [
                          0.003269440725
                        ]
                      },
                      {
                        "learn": [
                          0.002993102872
                        ],
                        "iteration": 55,
                        "passed_time": 0.8480912289,
                        "remaining_time": 14.296395,
                        "test": [
                          0.003013050229
                        ]
                      },
                      {
                        "learn": [
                          0.002779270191
                        ],
                        "iteration": 56,
                        "passed_time": 0.8499991336,
                        "remaining_time": 14.06226637,
                        "test": [
                          0.002799964765
                        ]
                      },
                      {
                        "learn": [
                          0.002570135409
                        ],
                        "iteration": 57,
                        "passed_time": 0.851938018,
                        "remaining_time": 13.8366485,
                        "test": [
                          0.002590559404
                        ]
                      },
                      {
                        "learn": [
                          0.002377457265
                        ],
                        "iteration": 58,
                        "passed_time": 0.8543284843,
                        "remaining_time": 13.62581532,
                        "test": [
                          0.002397414548
                        ]
                      },
                      {
                        "learn": [
                          0.002202330779
                        ],
                        "iteration": 59,
                        "passed_time": 0.8630620989,
                        "remaining_time": 13.52130622,
                        "test": [
                          0.002221839017
                        ]
                      },
                      {
                        "learn": [
                          0.002043184293
                        ],
                        "iteration": 60,
                        "passed_time": 0.8743750424,
                        "remaining_time": 13.45964205,
                        "test": [
                          0.002062258971
                        ]
                      },
                      {
                        "learn": [
                          0.001914395182
                        ],
                        "iteration": 61,
                        "passed_time": 0.8764443229,
                        "remaining_time": 13.25975443,
                        "test": [
                          0.001934086453
                        ]
                      },
                      {
                        "learn": [
                          0.001781573998
                        ],
                        "iteration": 62,
                        "passed_time": 0.8818039307,
                        "remaining_time": 13.11508386,
                        "test": [
                          0.001800820393
                        ]
                      },
                      {
                        "learn": [
                          0.001660480388
                        ],
                        "iteration": 63,
                        "passed_time": 0.8859266229,
                        "remaining_time": 12.95667686,
                        "test": [
                          0.001679299177
                        ]
                      },
                      {
                        "learn": [
                          0.001550258447
                        ],
                        "iteration": 64,
                        "passed_time": 0.8948023088,
                        "remaining_time": 12.87138706,
                        "test": [
                          0.001568664024
                        ]
                      },
                      {
                        "learn": [
                          0.001450229346
                        ],
                        "iteration": 65,
                        "passed_time": 0.9036666055,
                        "remaining_time": 12.78825166,
                        "test": [
                          0.001467989545
                        ]
                      },
                      {
                        "learn": [
                          0.001360406884
                        ],
                        "iteration": 66,
                        "passed_time": 0.9055875052,
                        "remaining_time": 12.61064392,
                        "test": [
                          0.001377938888
                        ]
                      },
                      {
                        "learn": [
                          0.00127864281
                        ],
                        "iteration": 67,
                        "passed_time": 0.9074592937,
                        "remaining_time": 12.43753032,
                        "test": [
                          0.001295955354
                        ]
                      },
                      {
                        "learn": [
                          0.001201594303
                        ],
                        "iteration": 68,
                        "passed_time": 0.9104325488,
                        "remaining_time": 12.28424207,
                        "test": [
                          0.001218542469
                        ]
                      },
                      {
                        "learn": [
                          0.0011312504
                        ],
                        "iteration": 69,
                        "passed_time": 0.9190695577,
                        "remaining_time": 12.21049555,
                        "test": [
                          0.001147846894
                        ]
                      },
                      {
                        "learn": [
                          0.001066637476
                        ],
                        "iteration": 70,
                        "passed_time": 0.9301662436,
                        "remaining_time": 12.17076677,
                        "test": [
                          0.001082894506
                        ]
                      },
                      {
                        "learn": [
                          0.001007387481
                        ],
                        "iteration": 71,
                        "passed_time": 0.9341315398,
                        "remaining_time": 12.03991762,
                        "test": [
                          0.001023316463
                        ]
                      },
                      {
                        "learn": [
                          0.0009727066105
                        ],
                        "iteration": 72,
                        "passed_time": 0.9360652166,
                        "remaining_time": 11.88674597,
                        "test": [
                          0.0009890744132
                        ]
                      },
                      {
                        "learn": [
                          0.0009225478875
                        ],
                        "iteration": 73,
                        "passed_time": 0.9417005494,
                        "remaining_time": 11.78398255,
                        "test": [
                          0.0009385606431
                        ]
                      },
                      {
                        "learn": [
                          0.0008946262133
                        ],
                        "iteration": 74,
                        "passed_time": 0.9429571934,
                        "remaining_time": 11.62980539,
                        "test": [
                          0.0009110520821
                        ]
                      },
                      {
                        "learn": [
                          0.0008510588409
                        ],
                        "iteration": 75,
                        "passed_time": 0.9466381561,
                        "remaining_time": 11.50912706,
                        "test": [
                          0.0008671250967
                        ]
                      },
                      {
                        "learn": [
                          0.0008098491026
                        ],
                        "iteration": 76,
                        "passed_time": 0.9490270154,
                        "remaining_time": 11.37599916,
                        "test": [
                          0.0008255854733
                        ]
                      },
                      {
                        "learn": [
                          0.0007718669485
                        ],
                        "iteration": 77,
                        "passed_time": 0.9581766136,
                        "remaining_time": 11.32613895,
                        "test": [
                          0.000787285742
                        ]
                      },
                      {
                        "learn": [
                          0.000737506583
                        ],
                        "iteration": 78,
                        "passed_time": 0.9611585201,
                        "remaining_time": 11.20540503,
                        "test": [
                          0.0007526004543
                        ]
                      },
                      {
                        "learn": [
                          0.0007058385012
                        ],
                        "iteration": 79,
                        "passed_time": 0.9700721041,
                        "remaining_time": 11.1558292,
                        "test": [
                          0.000720610428
                        ]
                      },
                      {
                        "learn": [
                          0.0006753174987
                        ],
                        "iteration": 80,
                        "passed_time": 0.9724746484,
                        "remaining_time": 11.03338521,
                        "test": [
                          0.0006897995414
                        ]
                      },
                      {
                        "learn": [
                          0.000648094107
                        ],
                        "iteration": 81,
                        "passed_time": 0.9755434024,
                        "remaining_time": 10.92132736,
                        "test": [
                          0.0006622766873
                        ]
                      },
                      {
                        "learn": [
                          0.0006360444896
                        ],
                        "iteration": 82,
                        "passed_time": 0.9790251841,
                        "remaining_time": 10.81645896,
                        "test": [
                          0.0006504935289
                        ]
                      },
                      {
                        "learn": [
                          0.000611913095
                        ],
                        "iteration": 83,
                        "passed_time": 0.984673551,
                        "remaining_time": 10.73763063,
                        "test": [
                          0.0006261365698
                        ]
                      },
                      {
                        "learn": [
                          0.0006020053737
                        ],
                        "iteration": 84,
                        "passed_time": 0.9858749081,
                        "remaining_time": 10.61265342,
                        "test": [
                          0.0006164746618
                        ]
                      },
                      {
                        "learn": [
                          0.0005931197158
                        ],
                        "iteration": 85,
                        "passed_time": 0.9870718326,
                        "remaining_time": 10.49050762,
                        "test": [
                          0.0006078313431
                        ]
                      },
                      {
                        "learn": [
                          0.0005720533697
                        ],
                        "iteration": 86,
                        "passed_time": 0.9954416507,
                        "remaining_time": 10.4464164,
                        "test": [
                          0.0005864501496
                        ]
                      },
                      {
                        "learn": [
                          0.0005524927234
                        ],
                        "iteration": 87,
                        "passed_time": 1.003723796,
                        "remaining_time": 10.40222844,
                        "test": [
                          0.0005669366509
                        ]
                      },
                      {
                        "learn": [
                          0.0005338163201
                        ],
                        "iteration": 88,
                        "passed_time": 1.011969904,
                        "remaining_time": 10.35847845,
                        "test": [
                          0.0005479767658
                        ]
                      },
                      {
                        "learn": [
                          0.0005155009195
                        ],
                        "iteration": 89,
                        "passed_time": 1.015460369,
                        "remaining_time": 10.26743262,
                        "test": [
                          0.0005293871143
                        ]
                      },
                      {
                        "learn": [
                          0.0004994282615
                        ],
                        "iteration": 90,
                        "passed_time": 1.023861531,
                        "remaining_time": 10.22736408,
                        "test": [
                          0.0005128540465
                        ]
                      },
                      {
                        "learn": [
                          0.0004833211113
                        ],
                        "iteration": 91,
                        "passed_time": 1.032064776,
                        "remaining_time": 10.18603062,
                        "test": [
                          0.0004964921993
                        ]
                      },
                      {
                        "learn": [
                          0.0004688707815
                        ],
                        "iteration": 92,
                        "passed_time": 1.040284334,
                        "remaining_time": 10.14556872,
                        "test": [
                          0.0004820860395
                        ]
                      },
                      {
                        "learn": [
                          0.0004551947166
                        ],
                        "iteration": 93,
                        "passed_time": 1.048641795,
                        "remaining_time": 10.10712198,
                        "test": [
                          0.0004681472377
                        ]
                      },
                      {
                        "learn": [
                          0.0004415930955
                        ],
                        "iteration": 94,
                        "passed_time": 1.056835019,
                        "remaining_time": 10.06774413,
                        "test": [
                          0.0004543070988
                        ]
                      },
                      {
                        "learn": [
                          0.0004382023803
                        ],
                        "iteration": 95,
                        "passed_time": 1.057977754,
                        "remaining_time": 9.962623849,
                        "test": [
                          0.0004510527646
                        ]
                      },
                      {
                        "learn": [
                          0.0004265029464
                        ],
                        "iteration": 96,
                        "passed_time": 1.095577746,
                        "remaining_time": 10.19903819,
                        "test": [
                          0.000439101264
                        ]
                      },
                      {
                        "learn": [
                          0.0004152231024
                        ],
                        "iteration": 97,
                        "passed_time": 1.133936571,
                        "remaining_time": 10.43684477,
                        "test": [
                          0.0004288256417
                        ]
                      },
                      {
                        "learn": [
                          0.0004038076963
                        ],
                        "iteration": 98,
                        "passed_time": 1.172131692,
                        "remaining_time": 10.66758237,
                        "test": [
                          0.0004171654644
                        ]
                      },
                      {
                        "learn": [
                          0.000393706843
                        ],
                        "iteration": 99,
                        "passed_time": 1.211774249,
                        "remaining_time": 10.90596824,
                        "test": [
                          0.0004068185249
                        ]
                      },
                      {
                        "learn": [
                          0.0003841279647
                        ],
                        "iteration": 100,
                        "passed_time": 1.24961872,
                        "remaining_time": 11.12284385,
                        "test": [
                          0.0003981747595
                        ]
                      },
                      {
                        "learn": [
                          0.0003742329733
                        ],
                        "iteration": 101,
                        "passed_time": 1.288109635,
                        "remaining_time": 11.3404162,
                        "test": [
                          0.0003880348233
                        ]
                      },
                      {
                        "learn": [
                          0.0003655923842
                        ],
                        "iteration": 102,
                        "passed_time": 1.310755849,
                        "remaining_time": 11.41502909,
                        "test": [
                          0.0003794146319
                        ]
                      },
                      {
                        "learn": [
                          0.0003572337137
                        ],
                        "iteration": 103,
                        "passed_time": 1.319253305,
                        "remaining_time": 11.36587463,
                        "test": [
                          0.0003710734805
                        ]
                      },
                      {
                        "learn": [
                          0.0003487128054
                        ],
                        "iteration": 104,
                        "passed_time": 1.351475875,
                        "remaining_time": 11.51972294,
                        "test": [
                          0.000362317975
                        ]
                      },
                      {
                        "learn": [
                          0.0003412983797
                        ],
                        "iteration": 105,
                        "passed_time": 1.365884968,
                        "remaining_time": 11.51982228,
                        "test": [
                          0.000354544507
                        ]
                      },
                      {
                        "learn": [
                          0.0003340230893
                        ],
                        "iteration": 106,
                        "passed_time": 1.382887748,
                        "remaining_time": 11.54129681,
                        "test": [
                          0.0003472875298
                        ]
                      },
                      {
                        "learn": [
                          0.0003265017623
                        ],
                        "iteration": 107,
                        "passed_time": 1.396873236,
                        "remaining_time": 11.53713821,
                        "test": [
                          0.0003395473878
                        ]
                      },
                      {
                        "learn": [
                          0.0003199074836
                        ],
                        "iteration": 108,
                        "passed_time": 1.418004898,
                        "remaining_time": 11.59121435,
                        "test": [
                          0.000332968643
                        ]
                      },
                      {
                        "learn": [
                          0.0003135871828
                        ],
                        "iteration": 109,
                        "passed_time": 1.442014818,
                        "remaining_time": 11.6672108,
                        "test": [
                          0.0003266615931
                        ]
                      },
                      {
                        "learn": [
                          0.0003071247688
                        ],
                        "iteration": 110,
                        "passed_time": 1.468376909,
                        "remaining_time": 11.76024389,
                        "test": [
                          0.0003198763413
                        ]
                      },
                      {
                        "learn": [
                          0.0003007614146
                        ],
                        "iteration": 111,
                        "passed_time": 1.492076232,
                        "remaining_time": 11.83003298,
                        "test": [
                          0.0003133103016
                        ]
                      },
                      {
                        "learn": [
                          0.0002951556251
                        ],
                        "iteration": 112,
                        "passed_time": 1.525416128,
                        "remaining_time": 11.97384164,
                        "test": [
                          0.0003075082038
                        ]
                      },
                      {
                        "learn": [
                          0.0002898154013
                        ],
                        "iteration": 113,
                        "passed_time": 1.564657214,
                        "remaining_time": 12.16040607,
                        "test": [
                          0.0003019765851
                        ]
                      },
                      {
                        "learn": [
                          0.0002840647938
                        ],
                        "iteration": 114,
                        "passed_time": 1.603882252,
                        "remaining_time": 12.34291994,
                        "test": [
                          0.0002960376597
                        ]
                      },
                      {
                        "learn": [
                          0.0002784864988
                        ],
                        "iteration": 115,
                        "passed_time": 1.644687602,
                        "remaining_time": 12.53365379,
                        "test": [
                          0.0002902761089
                        ]
                      },
                      {
                        "learn": [
                          0.0002737277056
                        ],
                        "iteration": 116,
                        "passed_time": 1.684690675,
                        "remaining_time": 12.71437492,
                        "test": [
                          0.0002853400404
                        ]
                      },
                      {
                        "learn": [
                          0.0002691140034
                        ],
                        "iteration": 117,
                        "passed_time": 1.705422918,
                        "remaining_time": 12.74731368,
                        "test": [
                          0.0002807421946
                        ]
                      },
                      {
                        "learn": [
                          0.0002645271257
                        ],
                        "iteration": 118,
                        "passed_time": 1.723814192,
                        "remaining_time": 12.76201936,
                        "test": [
                          0.0002761694116
                        ]
                      },
                      {
                        "learn": [
                          0.0002598164977
                        ],
                        "iteration": 119,
                        "passed_time": 1.761737738,
                        "remaining_time": 12.91941008,
                        "test": [
                          0.0002712864959
                        ]
                      },
                      {
                        "learn": [
                          0.0002556456862
                        ],
                        "iteration": 120,
                        "passed_time": 1.797518831,
                        "remaining_time": 13.0580087,
                        "test": [
                          0.0002671276699
                        ]
                      },
                      {
                        "learn": [
                          0.0002511385875
                        ],
                        "iteration": 121,
                        "passed_time": 1.840499343,
                        "remaining_time": 13.24556085,
                        "test": [
                          0.0002624538171
                        ]
                      },
                      {
                        "learn": [
                          0.0002472619034
                        ],
                        "iteration": 122,
                        "passed_time": 1.879237002,
                        "remaining_time": 13.39911261,
                        "test": [
                          0.000258416533
                        ]
                      },
                      {
                        "learn": [
                          0.0002435263646
                        ],
                        "iteration": 123,
                        "passed_time": 1.918975586,
                        "remaining_time": 13.55663398,
                        "test": [
                          0.0002546919623
                        ]
                      },
                      {
                        "learn": [
                          0.0002394703207
                        ],
                        "iteration": 124,
                        "passed_time": 1.954446307,
                        "remaining_time": 13.68112415,
                        "test": [
                          0.0002504778246
                        ]
                      },
                      {
                        "learn": [
                          0.0002359046626
                        ],
                        "iteration": 125,
                        "passed_time": 1.965708585,
                        "remaining_time": 13.6351532,
                        "test": [
                          0.0002469215465
                        ]
                      },
                      {
                        "learn": [
                          0.0002326001533
                        ],
                        "iteration": 126,
                        "passed_time": 2.003745659,
                        "remaining_time": 13.77377921,
                        "test": [
                          0.0002435044534
                        ]
                      },
                      {
                        "learn": [
                          0.000228872456
                        ],
                        "iteration": 127,
                        "passed_time": 2.03066587,
                        "remaining_time": 13.83391124,
                        "test": [
                          0.0002396255359
                        ]
                      },
                      {
                        "learn": [
                          0.0002256109008
                        ],
                        "iteration": 128,
                        "passed_time": 2.053048091,
                        "remaining_time": 13.86205339,
                        "test": [
                          0.0002363726658
                        ]
                      },
                      {
                        "learn": [
                          0.0002224877613
                        ],
                        "iteration": 129,
                        "passed_time": 2.085409875,
                        "remaining_time": 13.95620455,
                        "test": [
                          0.000233256797
                        ]
                      },
                      {
                        "learn": [
                          0.00021908449
                        ],
                        "iteration": 130,
                        "passed_time": 2.122812756,
                        "remaining_time": 14.08186477,
                        "test": [
                          0.0002297077647
                        ]
                      },
                      {
                        "learn": [
                          0.0002161235635
                        ],
                        "iteration": 131,
                        "passed_time": 2.148770123,
                        "remaining_time": 14.12979142,
                        "test": [
                          0.0002267529426
                        ]
                      },
                      {
                        "learn": [
                          0.0002131805035
                        ],
                        "iteration": 132,
                        "passed_time": 2.170174039,
                        "remaining_time": 14.146924,
                        "test": [
                          0.0002236711195
                        ]
                      },
                      {
                        "learn": [
                          0.0002104929345
                        ],
                        "iteration": 133,
                        "passed_time": 2.190429831,
                        "remaining_time": 14.15606145,
                        "test": [
                          0.0002208472936
                        ]
                      },
                      {
                        "learn": [
                          0.000207429288
                        ],
                        "iteration": 134,
                        "passed_time": 2.215083782,
                        "remaining_time": 14.19294423,
                        "test": [
                          0.0002176479237
                        ]
                      },
                      {
                        "learn": [
                          0.0002043964613
                        ],
                        "iteration": 135,
                        "passed_time": 2.24218799,
                        "remaining_time": 14.2444884,
                        "test": [
                          0.000214482525
                        ]
                      },
                      {
                        "learn": [
                          0.0002018880288
                        ],
                        "iteration": 136,
                        "passed_time": 2.268033505,
                        "remaining_time": 14.28695558,
                        "test": [
                          0.0002118469178
                        ]
                      },
                      {
                        "learn": [
                          0.0001989055509
                        ],
                        "iteration": 137,
                        "passed_time": 2.304468602,
                        "remaining_time": 14.39457924,
                        "test": [
                          0.0002087374264
                        ]
                      },
                      {
                        "learn": [
                          0.0001965516265
                        ],
                        "iteration": 138,
                        "passed_time": 2.31744725,
                        "remaining_time": 14.35483512,
                        "test": [
                          0.0002062609427
                        ]
                      },
                      {
                        "learn": [
                          0.0001942125784
                        ],
                        "iteration": 139,
                        "passed_time": 2.333744216,
                        "remaining_time": 14.33585733,
                        "test": [
                          0.0002038023255
                        ]
                      },
                      {
                        "learn": [
                          0.000191653214
                        ],
                        "iteration": 140,
                        "passed_time": 2.376957191,
                        "remaining_time": 14.48089523,
                        "test": [
                          0.0002011231315
                        ]
                      },
                      {
                        "learn": [
                          0.0001893472562
                        ],
                        "iteration": 141,
                        "passed_time": 2.433675342,
                        "remaining_time": 14.7048834,
                        "test": [
                          0.0001987026047
                        ]
                      },
                      {
                        "learn": [
                          0.0001869957388
                        ],
                        "iteration": 142,
                        "passed_time": 2.487170414,
                        "remaining_time": 14.90562968,
                        "test": [
                          0.0001961787624
                        ]
                      },
                      {
                        "learn": [
                          0.0001848373534
                        ],
                        "iteration": 143,
                        "passed_time": 2.540201925,
                        "remaining_time": 15.10008922,
                        "test": [
                          0.0001939108578
                        ]
                      },
                      {
                        "learn": [
                          0.0001824803272
                        ],
                        "iteration": 144,
                        "passed_time": 2.602849777,
                        "remaining_time": 15.34783834,
                        "test": [
                          0.0001914438161
                        ]
                      },
                      {
                        "learn": [
                          0.0001801472967
                        ],
                        "iteration": 145,
                        "passed_time": 2.654151646,
                        "remaining_time": 15.52496922,
                        "test": [
                          0.0001890033508
                        ]
                      },
                      {
                        "learn": [
                          0.0001781533451
                        ],
                        "iteration": 146,
                        "passed_time": 2.704311442,
                        "remaining_time": 15.69236503,
                        "test": [
                          0.0001873841244
                        ]
                      },
                      {
                        "learn": [
                          0.0001761721235
                        ],
                        "iteration": 147,
                        "passed_time": 2.717549585,
                        "remaining_time": 15.64427194,
                        "test": [
                          0.0001852983837
                        ]
                      },
                      {
                        "learn": [
                          0.0001740123112
                        ],
                        "iteration": 148,
                        "passed_time": 2.764458133,
                        "remaining_time": 15.78895216,
                        "test": [
                          0.0001830316081
                        ]
                      },
                      {
                        "learn": [
                          0.0001721763169
                        ],
                        "iteration": 149,
                        "passed_time": 2.827276653,
                        "remaining_time": 16.02123437,
                        "test": [
                          0.0001812019416
                        ]
                      },
                      {
                        "learn": [
                          0.0001700529449
                        ],
                        "iteration": 150,
                        "passed_time": 2.865149065,
                        "remaining_time": 16.10934805,
                        "test": [
                          0.000178974311
                        ]
                      },
                      {
                        "learn": [
                          0.0001683623641
                        ],
                        "iteration": 151,
                        "passed_time": 2.880274414,
                        "remaining_time": 16.06889936,
                        "test": [
                          0.0001771857002
                        ]
                      },
                      {
                        "learn": [
                          0.0001663925571
                        ],
                        "iteration": 152,
                        "passed_time": 2.897727846,
                        "remaining_time": 16.04166984,
                        "test": [
                          0.0001751154314
                        ]
                      },
                      {
                        "learn": [
                          0.0001645052835
                        ],
                        "iteration": 153,
                        "passed_time": 2.918070606,
                        "remaining_time": 16.03043982,
                        "test": [
                          0.000173129557
                        ]
                      },
                      {
                        "learn": [
                          0.0001625713336
                        ],
                        "iteration": 154,
                        "passed_time": 2.930938706,
                        "remaining_time": 15.97834327,
                        "test": [
                          0.0001710994506
                        ]
                      },
                      {
                        "learn": [
                          0.0001609282232
                        ],
                        "iteration": 155,
                        "passed_time": 2.952231798,
                        "remaining_time": 15.97233101,
                        "test": [
                          0.0001694619234
                        ]
                      },
                      {
                        "learn": [
                          0.0001591446125
                        ],
                        "iteration": 156,
                        "passed_time": 2.970165393,
                        "remaining_time": 15.94808552,
                        "test": [
                          0.0001675846252
                        ]
                      },
                      {
                        "learn": [
                          0.0001576427591
                        ],
                        "iteration": 157,
                        "passed_time": 3.006660022,
                        "remaining_time": 16.02283379,
                        "test": [
                          0.0001660875238
                        ]
                      },
                      {
                        "learn": [
                          0.0001560314485
                        ],
                        "iteration": 158,
                        "passed_time": 3.033738201,
                        "remaining_time": 16.04637627,
                        "test": [
                          0.0001643881462
                        ]
                      },
                      {
                        "learn": [
                          0.0001546672044
                        ],
                        "iteration": 159,
                        "passed_time": 3.050103546,
                        "remaining_time": 16.01304362,
                        "test": [
                          0.0001629368401
                        ]
                      },
                      {
                        "learn": [
                          0.0001529818346
                        ],
                        "iteration": 160,
                        "passed_time": 3.068744708,
                        "remaining_time": 15.99178143,
                        "test": [
                          0.0001611624481
                        ]
                      },
                      {
                        "learn": [
                          0.0001513844699
                        ],
                        "iteration": 161,
                        "passed_time": 3.088480971,
                        "remaining_time": 15.97621638,
                        "test": [
                          0.0001594780957
                        ]
                      },
                      {
                        "learn": [
                          0.000150096146
                        ],
                        "iteration": 162,
                        "passed_time": 3.117585394,
                        "remaining_time": 16.00870536,
                        "test": [
                          0.0001580616045
                        ]
                      },
                      {
                        "learn": [
                          0.0001485248862
                        ],
                        "iteration": 163,
                        "passed_time": 3.134190684,
                        "remaining_time": 15.97672812,
                        "test": [
                          0.0001564066699
                        ]
                      },
                      {
                        "learn": [
                          0.0001470890644
                        ],
                        "iteration": 164,
                        "passed_time": 3.163276566,
                        "remaining_time": 16.00809656,
                        "test": [
                          0.0001549767043
                        ]
                      },
                      {
                        "learn": [
                          0.000145780864
                        ],
                        "iteration": 165,
                        "passed_time": 3.185920781,
                        "remaining_time": 16.00637308,
                        "test": [
                          0.0001535904869
                        ]
                      },
                      {
                        "learn": [
                          0.0001444797854
                        ],
                        "iteration": 166,
                        "passed_time": 3.202430588,
                        "remaining_time": 15.97380048,
                        "test": [
                          0.0001522949544
                        ]
                      },
                      {
                        "learn": [
                          0.0001431868212
                        ],
                        "iteration": 167,
                        "passed_time": 3.223038599,
                        "remaining_time": 15.96171496,
                        "test": [
                          0.0001509246803
                        ]
                      },
                      {
                        "learn": [
                          0.0001420204238
                        ],
                        "iteration": 168,
                        "passed_time": 3.248170498,
                        "remaining_time": 15.97177328,
                        "test": [
                          0.0001496822014
                        ]
                      },
                      {
                        "learn": [
                          0.0001410503099
                        ],
                        "iteration": 169,
                        "passed_time": 3.278611851,
                        "remaining_time": 16.00734022,
                        "test": [
                          0.0001485983622
                        ]
                      },
                      {
                        "learn": [
                          0.0001397766142
                        ],
                        "iteration": 170,
                        "passed_time": 3.303202918,
                        "remaining_time": 16.01377321,
                        "test": [
                          0.0001473310066
                        ]
                      },
                      {
                        "learn": [
                          0.0001385105118
                        ],
                        "iteration": 171,
                        "passed_time": 3.334539563,
                        "remaining_time": 16.05231836,
                        "test": [
                          0.0001459915399
                        ]
                      },
                      {
                        "learn": [
                          0.0001374888579
                        ],
                        "iteration": 172,
                        "passed_time": 3.353808396,
                        "remaining_time": 16.0323673,
                        "test": [
                          0.0001452275855
                        ]
                      },
                      {
                        "learn": [
                          0.0001360171418
                        ],
                        "iteration": 173,
                        "passed_time": 3.390677109,
                        "remaining_time": 16.09597294,
                        "test": [
                          0.0001436786712
                        ]
                      },
                      {
                        "learn": [
                          0.0001350120392
                        ],
                        "iteration": 174,
                        "passed_time": 3.411249917,
                        "remaining_time": 16.08160675,
                        "test": [
                          0.0001426022267
                        ]
                      },
                      {
                        "learn": [
                          0.0001336943597
                        ],
                        "iteration": 175,
                        "passed_time": 3.444123709,
                        "remaining_time": 16.124761,
                        "test": [
                          0.0001412093093
                        ]
                      },
                      {
                        "learn": [
                          0.0001324925643
                        ],
                        "iteration": 176,
                        "passed_time": 3.487123559,
                        "remaining_time": 16.21413949,
                        "test": [
                          0.0001399341248
                        ]
                      },
                      {
                        "learn": [
                          0.0001313029777
                        ],
                        "iteration": 177,
                        "passed_time": 3.53999638,
                        "remaining_time": 16.34762373,
                        "test": [
                          0.0001386725635
                        ]
                      },
                      {
                        "learn": [
                          0.0001300062913
                        ],
                        "iteration": 178,
                        "passed_time": 3.558244862,
                        "remaining_time": 16.32021806,
                        "test": [
                          0.0001373048949
                        ]
                      },
                      {
                        "learn": [
                          0.0001289201567
                        ],
                        "iteration": 179,
                        "passed_time": 3.586832323,
                        "remaining_time": 16.34001391,
                        "test": [
                          0.0001361530141
                        ]
                      },
                      {
                        "learn": [
                          0.0001279588519
                        ],
                        "iteration": 180,
                        "passed_time": 3.604744904,
                        "remaining_time": 16.3109728,
                        "test": [
                          0.000135126633
                        ]
                      },
                      {
                        "learn": [
                          0.0001270035522
                        ],
                        "iteration": 181,
                        "passed_time": 3.61873046,
                        "remaining_time": 16.26440393,
                        "test": [
                          0.0001341069643
                        ]
                      },
                      {
                        "learn": [
                          0.0001258602696
                        ],
                        "iteration": 182,
                        "passed_time": 3.638622859,
                        "remaining_time": 16.24456216,
                        "test": [
                          0.0001328970545
                        ]
                      },
                      {
                        "learn": [
                          0.0001246089567
                        ],
                        "iteration": 183,
                        "passed_time": 3.652117446,
                        "remaining_time": 16.19634693,
                        "test": [
                          0.000131580107
                        ]
                      },
                      {
                        "learn": [
                          0.0001236734343
                        ],
                        "iteration": 184,
                        "passed_time": 3.669382754,
                        "remaining_time": 16.16511862,
                        "test": [
                          0.0001306495847
                        ]
                      },
                      {
                        "learn": [
                          0.0001225585768
                        ],
                        "iteration": 185,
                        "passed_time": 3.687682068,
                        "remaining_time": 16.13856561,
                        "test": [
                          0.0001294704947
                        ]
                      },
                      {
                        "learn": [
                          0.0001216361564
                        ],
                        "iteration": 186,
                        "passed_time": 3.705396793,
                        "remaining_time": 16.10955932,
                        "test": [
                          0.0001284886806
                        ]
                      },
                      {
                        "learn": [
                          0.0001206571464
                        ],
                        "iteration": 187,
                        "passed_time": 3.729411086,
                        "remaining_time": 16.10788193,
                        "test": [
                          0.0001274474604
                        ]
                      },
                      {
                        "learn": [
                          0.0001196528752
                        ],
                        "iteration": 188,
                        "passed_time": 3.766053816,
                        "remaining_time": 16.16015685,
                        "test": [
                          0.0001263529881
                        ]
                      },
                      {
                        "learn": [
                          0.0001188660293
                        ],
                        "iteration": 189,
                        "passed_time": 3.781210804,
                        "remaining_time": 16.11989869,
                        "test": [
                          0.0001255706958
                        ]
                      },
                      {
                        "learn": [
                          0.0001177927239
                        ],
                        "iteration": 190,
                        "passed_time": 3.80152408,
                        "remaining_time": 16.10174336,
                        "test": [
                          0.0001244378973
                        ]
                      },
                      {
                        "learn": [
                          0.0001167285378
                        ],
                        "iteration": 191,
                        "passed_time": 3.815319912,
                        "remaining_time": 16.05613796,
                        "test": [
                          0.0001233150992
                        ]
                      },
                      {
                        "learn": [
                          0.000115841044
                        ],
                        "iteration": 192,
                        "passed_time": 3.851671176,
                        "remaining_time": 16.1051743,
                        "test": [
                          0.0001223730877
                        ]
                      },
                      {
                        "learn": [
                          0.0001150297558
                        ],
                        "iteration": 193,
                        "passed_time": 3.871355148,
                        "remaining_time": 16.08408376,
                        "test": [
                          0.0001215047136
                        ]
                      },
                      {
                        "learn": [
                          0.0001141527213
                        ],
                        "iteration": 194,
                        "passed_time": 3.885037232,
                        "remaining_time": 16.03823063,
                        "test": [
                          0.0001205746007
                        ]
                      },
                      {
                        "learn": [
                          0.0001131179405
                        ],
                        "iteration": 195,
                        "passed_time": 3.902950774,
                        "remaining_time": 16.01006338,
                        "test": [
                          0.0001194844337
                        ]
                      },
                      {
                        "learn": [
                          0.0001123294073
                        ],
                        "iteration": 196,
                        "passed_time": 3.920657438,
                        "remaining_time": 15.98115697,
                        "test": [
                          0.0001186415317
                        ]
                      },
                      {
                        "learn": [
                          0.000111467671
                        ],
                        "iteration": 197,
                        "passed_time": 3.94202289,
                        "remaining_time": 15.96718363,
                        "test": [
                          0.0001177841256
                        ]
                      },
                      {
                        "learn": [
                          0.0001108480011
                        ],
                        "iteration": 198,
                        "passed_time": 3.958427228,
                        "remaining_time": 15.93316688,
                        "test": [
                          0.0001171686866
                        ]
                      },
                      {
                        "learn": [
                          0.0001098407149
                        ],
                        "iteration": 199,
                        "passed_time": 3.979877503,
                        "remaining_time": 15.91951001,
                        "test": [
                          0.0001161081482
                        ]
                      },
                      {
                        "learn": [
                          0.0001089601195
                        ],
                        "iteration": 200,
                        "passed_time": 3.996233546,
                        "remaining_time": 15.88552539,
                        "test": [
                          0.0001151749459
                        ]
                      },
                      {
                        "learn": [
                          0.0001082367618
                        ],
                        "iteration": 201,
                        "passed_time": 4.012190898,
                        "remaining_time": 15.85014028,
                        "test": [
                          0.0001144028772
                        ]
                      },
                      {
                        "learn": [
                          0.00010763574
                        ],
                        "iteration": 202,
                        "passed_time": 4.026754867,
                        "remaining_time": 15.809476,
                        "test": [
                          0.0001138056024
                        ]
                      },
                      {
                        "learn": [
                          0.0001066539136
                        ],
                        "iteration": 203,
                        "passed_time": 4.054182285,
                        "remaining_time": 15.81926029,
                        "test": [
                          0.0001127728316
                        ]
                      },
                      {
                        "learn": [
                          0.0001060616762
                        ],
                        "iteration": 204,
                        "passed_time": 4.100607215,
                        "remaining_time": 15.90235481,
                        "test": [
                          0.0001121844529
                        ]
                      },
                      {
                        "learn": [
                          0.0001053542991
                        ],
                        "iteration": 205,
                        "passed_time": 4.165064175,
                        "remaining_time": 16.05369396,
                        "test": [
                          0.0001114801528
                        ]
                      },
                      {
                        "learn": [
                          0.0001046506069
                        ],
                        "iteration": 206,
                        "passed_time": 4.190461437,
                        "remaining_time": 16.05331362,
                        "test": [
                          0.0001107795625
                        ]
                      },
                      {
                        "learn": [
                          0.0001039508231
                        ],
                        "iteration": 207,
                        "passed_time": 4.212729799,
                        "remaining_time": 16.04077885,
                        "test": [
                          0.0001100334622
                        ]
                      },
                      {
                        "learn": [
                          0.0001033735178
                        ],
                        "iteration": 208,
                        "passed_time": 4.231525787,
                        "remaining_time": 16.01500908,
                        "test": [
                          0.0001094103554
                        ]
                      },
                      {
                        "learn": [
                          0.0001025413358
                        ],
                        "iteration": 209,
                        "passed_time": 4.248440725,
                        "remaining_time": 15.98222939,
                        "test": [
                          0.000108529574
                        ]
                      },
                      {
                        "learn": [
                          0.0001019721511
                        ],
                        "iteration": 210,
                        "passed_time": 4.277216995,
                        "remaining_time": 15.9939536,
                        "test": [
                          0.0001079160456
                        ]
                      },
                      {
                        "learn": [
                          0.0001012872932
                        ],
                        "iteration": 211,
                        "passed_time": 4.33104383,
                        "remaining_time": 16.0984082,
                        "test": [
                          0.0001071868069
                        ]
                      },
                      {
                        "learn": [
                          0.0001007246783
                        ],
                        "iteration": 212,
                        "passed_time": 4.388268308,
                        "remaining_time": 16.21393032,
                        "test": [
                          0.000106580847
                        ]
                      },
                      {
                        "learn": [
                          0.0001000459558
                        ],
                        "iteration": 213,
                        "passed_time": 4.445957831,
                        "remaining_time": 16.32954605,
                        "test": [
                          0.0001059053691
                        ]
                      },
                      {
                        "learn": [
                          0.00009935663751
                        ],
                        "iteration": 214,
                        "passed_time": 4.503396256,
                        "remaining_time": 16.44263284,
                        "test": [
                          0.0001051701376
                        ]
                      },
                      {
                        "learn": [
                          0.00009868533461
                        ],
                        "iteration": 215,
                        "passed_time": 4.574343059,
                        "remaining_time": 16.6031711,
                        "test": [
                          0.0001045018807
                        ]
                      },
                      {
                        "learn": [
                          0.00009800621512
                        ],
                        "iteration": 216,
                        "passed_time": 4.627456104,
                        "remaining_time": 16.6972264,
                        "test": [
                          0.0001037777909
                        ]
                      },
                      {
                        "learn": [
                          0.00009746128053
                        ],
                        "iteration": 217,
                        "passed_time": 4.679305371,
                        "remaining_time": 16.78539817,
                        "test": [
                          0.0001031906095
                        ]
                      },
                      {
                        "learn": [
                          0.00009697025563
                        ],
                        "iteration": 218,
                        "passed_time": 4.731356732,
                        "remaining_time": 16.87301191,
                        "test": [
                          0.0001028623001
                        ]
                      },
                      {
                        "learn": [
                          0.00009631130419
                        ],
                        "iteration": 219,
                        "passed_time": 4.808857186,
                        "remaining_time": 17.04958457,
                        "test": [
                          0.0001023460449
                        ]
                      },
                      {
                        "learn": [
                          0.00009579795237
                        ],
                        "iteration": 220,
                        "passed_time": 4.869258657,
                        "remaining_time": 17.16358595,
                        "test": [
                          0.0001017671764
                        ]
                      },
                      {
                        "learn": [
                          0.00009513937315
                        ],
                        "iteration": 221,
                        "passed_time": 4.89821023,
                        "remaining_time": 17.16579982,
                        "test": [
                          0.0001010632857
                        ]
                      },
                      {
                        "learn": [
                          0.0000943676208
                        ],
                        "iteration": 222,
                        "passed_time": 4.931359424,
                        "remaining_time": 17.18235997,
                        "test": [
                          0.0001002468857
                        ]
                      },
                      {
                        "learn": [
                          0.00009384080085
                        ],
                        "iteration": 223,
                        "passed_time": 4.975055597,
                        "remaining_time": 17.23501403,
                        "test": [
                          0.00009972205716
                        ]
                      },
                      {
                        "learn": [
                          0.00009319688706
                        ],
                        "iteration": 224,
                        "passed_time": 5.005865427,
                        "remaining_time": 17.24242536,
                        "test": [
                          0.00009903426497
                        ]
                      },
                      {
                        "learn": [
                          0.00009267671743
                        ],
                        "iteration": 225,
                        "passed_time": 5.032818213,
                        "remaining_time": 17.23628893,
                        "test": [
                          0.00009847462152
                        ]
                      },
                      {
                        "learn": [
                          0.0000921589424
                        ],
                        "iteration": 226,
                        "passed_time": 5.057009117,
                        "remaining_time": 17.22056409,
                        "test": [
                          0.00009808921993
                        ]
                      },
                      {
                        "learn": [
                          0.00009152727461
                        ],
                        "iteration": 227,
                        "passed_time": 5.06847665,
                        "remaining_time": 17.1616841,
                        "test": [
                          0.00009741404596
                        ]
                      },
                      {
                        "learn": [
                          0.00009101592035
                        ],
                        "iteration": 228,
                        "passed_time": 5.11952468,
                        "remaining_time": 17.23647829,
                        "test": [
                          0.00009686367696
                        ]
                      },
                      {
                        "learn": [
                          0.00009050701654
                        ],
                        "iteration": 229,
                        "passed_time": 5.145425293,
                        "remaining_time": 17.22598903,
                        "test": [
                          0.00009631603758
                        ]
                      },
                      {
                        "learn": [
                          0.00008988703022
                        ],
                        "iteration": 230,
                        "passed_time": 5.181949682,
                        "remaining_time": 17.25073292,
                        "test": [
                          0.00009565402775
                        ]
                      },
                      {
                        "learn": [
                          0.00008938409431
                        ],
                        "iteration": 231,
                        "passed_time": 5.196268134,
                        "remaining_time": 17.20143934,
                        "test": [
                          0.0000951134357
                        ]
                      },
                      {
                        "learn": [
                          0.00008888336691
                        ],
                        "iteration": 232,
                        "passed_time": 5.214462844,
                        "remaining_time": 17.16520601,
                        "test": [
                          0.00009457517003
                        ]
                      },
                      {
                        "learn": [
                          0.00008851246324
                        ],
                        "iteration": 233,
                        "passed_time": 5.230477565,
                        "remaining_time": 17.12199066,
                        "test": [
                          0.00009416355802
                        ]
                      },
                      {
                        "learn": [
                          0.00008801697791
                        ],
                        "iteration": 234,
                        "passed_time": 5.259022103,
                        "remaining_time": 17.11979536,
                        "test": [
                          0.00009366965463
                        ]
                      },
                      {
                        "learn": [
                          0.00008752416636
                        ],
                        "iteration": 235,
                        "passed_time": 5.323502032,
                        "remaining_time": 17.23370997,
                        "test": [
                          0.00009314063239
                        ]
                      },
                      {
                        "learn": [
                          0.00008692617197
                        ],
                        "iteration": 236,
                        "passed_time": 5.369606874,
                        "remaining_time": 17.28696221,
                        "test": [
                          0.00009250295946
                        ]
                      },
                      {
                        "learn": [
                          0.00008633253874
                        ],
                        "iteration": 237,
                        "passed_time": 5.413199054,
                        "remaining_time": 17.33133479,
                        "test": [
                          0.00009187034872
                        ]
                      },
                      {
                        "learn": [
                          0.00008574326047
                        ],
                        "iteration": 238,
                        "passed_time": 5.458373009,
                        "remaining_time": 17.38000778,
                        "test": [
                          0.00009124262645
                        ]
                      },
                      {
                        "learn": [
                          0.00008515831855
                        ],
                        "iteration": 239,
                        "passed_time": 5.531313316,
                        "remaining_time": 17.5158255,
                        "test": [
                          0.00009061938941
                        ]
                      },
                      {
                        "learn": [
                          0.00008469630191
                        ],
                        "iteration": 240,
                        "passed_time": 5.633217524,
                        "remaining_time": 17.74112905,
                        "test": [
                          0.00009012006403
                        ]
                      },
                      {
                        "learn": [
                          0.00008433929441
                        ],
                        "iteration": 241,
                        "passed_time": 5.725093002,
                        "remaining_time": 17.9323161,
                        "test": [
                          0.00008972912258
                        ]
                      },
                      {
                        "learn": [
                          0.00008386487667
                        ],
                        "iteration": 242,
                        "passed_time": 5.820795818,
                        "remaining_time": 18.13309644,
                        "test": [
                          0.0000892563302
                        ]
                      },
                      {
                        "learn": [
                          0.00008329371926
                        ],
                        "iteration": 243,
                        "passed_time": 5.936855174,
                        "remaining_time": 18.39451849,
                        "test": [
                          0.00008864850922
                        ]
                      },
                      {
                        "learn": [
                          0.00008272642671
                        ],
                        "iteration": 244,
                        "passed_time": 6.025334282,
                        "remaining_time": 18.56786687,
                        "test": [
                          0.00008804508044
                        ]
                      },
                      {
                        "learn": [
                          0.00008237885496
                        ],
                        "iteration": 245,
                        "passed_time": 6.088942602,
                        "remaining_time": 18.66285659,
                        "test": [
                          0.00008766535518
                        ]
                      },
                      {
                        "learn": [
                          0.00008203274726
                        ],
                        "iteration": 246,
                        "passed_time": 6.185684452,
                        "remaining_time": 18.85757244,
                        "test": [
                          0.00008732074876
                        ]
                      },
                      {
                        "learn": [
                          0.00008147445001
                        ],
                        "iteration": 247,
                        "passed_time": 6.279056656,
                        "remaining_time": 19.03972018,
                        "test": [
                          0.00008672730164
                        ]
                      },
                      {
                        "learn": [
                          0.00008092002383
                        ],
                        "iteration": 248,
                        "passed_time": 6.386855008,
                        "remaining_time": 19.26316511,
                        "test": [
                          0.00008613802958
                        ]
                      },
                      {
                        "learn": [
                          0.00008048808867
                        ],
                        "iteration": 249,
                        "passed_time": 6.459399707,
                        "remaining_time": 19.37819912,
                        "test": [
                          0.00008567173242
                        ]
                      },
                      {
                        "learn": [
                          0.00008017511466
                        ],
                        "iteration": 250,
                        "passed_time": 6.516742614,
                        "remaining_time": 19.44637537,
                        "test": [
                          0.0000853363074
                        ]
                      },
                      {
                        "learn": [
                          0.00007974587809
                        ],
                        "iteration": 251,
                        "passed_time": 6.555626926,
                        "remaining_time": 19.45876564,
                        "test": [
                          0.00008488359623
                        ]
                      },
                      {
                        "learn": [
                          0.00007929347089
                        ],
                        "iteration": 252,
                        "passed_time": 6.635274838,
                        "remaining_time": 19.59110792,
                        "test": [
                          0.00008443270893
                        ]
                      },
                      {
                        "learn": [
                          0.00007896196659
                        ],
                        "iteration": 253,
                        "passed_time": 6.704489572,
                        "remaining_time": 19.69113866,
                        "test": [
                          0.00008410244535
                        ]
                      },
                      {
                        "learn": [
                          0.00007863205041
                        ],
                        "iteration": 254,
                        "passed_time": 6.778304322,
                        "remaining_time": 19.80328125,
                        "test": [
                          0.00008377381953
                        ]
                      },
                      {
                        "learn": [
                          0.00007818534437
                        ],
                        "iteration": 255,
                        "passed_time": 6.866551439,
                        "remaining_time": 19.95591512,
                        "test": [
                          0.00008329679627
                        ]
                      },
                      {
                        "learn": [
                          0.00007785878437
                        ],
                        "iteration": 256,
                        "passed_time": 6.957456483,
                        "remaining_time": 20.11435863,
                        "test": [
                          0.00008306923407
                        ]
                      },
                      {
                        "learn": [
                          0.00007744615496
                        ],
                        "iteration": 257,
                        "passed_time": 7.052276347,
                        "remaining_time": 20.2821281,
                        "test": [
                          0.00008262322904
                        ]
                      },
                      {
                        "learn": [
                          0.00007700465998
                        ],
                        "iteration": 258,
                        "passed_time": 7.112710381,
                        "remaining_time": 20.34949186,
                        "test": [
                          0.00008218249091
                        ]
                      },
                      {
                        "learn": [
                          0.00007659748358
                        ],
                        "iteration": 259,
                        "passed_time": 7.170616371,
                        "remaining_time": 20.40867736,
                        "test": [
                          0.00008174244758
                        ]
                      },
                      {
                        "learn": [
                          0.00007619354548
                        ],
                        "iteration": 260,
                        "passed_time": 7.237702634,
                        "remaining_time": 20.4929588,
                        "test": [
                          0.0000813060582
                        ]
                      },
                      {
                        "learn": [
                          0.00007567382251
                        ],
                        "iteration": 261,
                        "passed_time": 7.295596301,
                        "remaining_time": 20.55019111,
                        "test": [
                          0.00008075422515
                        ]
                      },
                      {
                        "learn": [
                          0.00007535934721
                        ],
                        "iteration": 262,
                        "passed_time": 7.350700576,
                        "remaining_time": 20.59873127,
                        "test": [
                          0.00008044015309
                        ]
                      },
                      {
                        "learn": [
                          0.00007496373441
                        ],
                        "iteration": 263,
                        "passed_time": 7.395071342,
                        "remaining_time": 20.61656253,
                        "test": [
                          0.00008001298233
                        ]
                      },
                      {
                        "learn": [
                          0.0000744521134
                        ],
                        "iteration": 264,
                        "passed_time": 7.470409828,
                        "remaining_time": 20.71981594,
                        "test": [
                          0.00007947035549
                        ]
                      },
                      {
                        "learn": [
                          0.00007414327722
                        ],
                        "iteration": 265,
                        "passed_time": 7.508285435,
                        "remaining_time": 20.71835154,
                        "test": [
                          0.00007916204042
                        ]
                      },
                      {
                        "learn": [
                          0.00007375559268
                        ],
                        "iteration": 266,
                        "passed_time": 7.569112021,
                        "remaining_time": 20.77962214,
                        "test": [
                          0.00007874341209
                        ]
                      },
                      {
                        "learn": [
                          0.0000733707432
                        ],
                        "iteration": 267,
                        "passed_time": 7.625592975,
                        "remaining_time": 20.82811215,
                        "test": [
                          0.00007832815233
                        ]
                      },
                      {
                        "learn": [
                          0.00007306724216
                        ],
                        "iteration": 268,
                        "passed_time": 7.686837469,
                        "remaining_time": 20.8887665,
                        "test": [
                          0.00007802521582
                        ]
                      },
                      {
                        "learn": [
                          0.0000726089353
                        ],
                        "iteration": 269,
                        "passed_time": 7.796180455,
                        "remaining_time": 21.07856197,
                        "test": [
                          0.00007752380601
                        ]
                      },
                      {
                        "learn": [
                          0.00007230856709
                        ],
                        "iteration": 270,
                        "passed_time": 7.929038119,
                        "remaining_time": 21.32940512,
                        "test": [
                          0.00007722364253
                        ]
                      },
                      {
                        "learn": [
                          0.00007193258263
                        ],
                        "iteration": 271,
                        "passed_time": 7.990393735,
                        "remaining_time": 21.38605382,
                        "test": [
                          0.00007681829621
                        ]
                      },
                      {
                        "learn": [
                          0.00007155940842
                        ],
                        "iteration": 272,
                        "passed_time": 8.122759402,
                        "remaining_time": 21.63093804,
                        "test": [
                          0.00007641601448
                        ]
                      },
                      {
                        "learn": [
                          0.00007126424508
                        ],
                        "iteration": 273,
                        "passed_time": 8.252470411,
                        "remaining_time": 21.86603474,
                        "test": [
                          0.0000760949323
                        ]
                      },
                      {
                        "learn": [
                          0.00007097029145
                        ],
                        "iteration": 274,
                        "passed_time": 8.358472664,
                        "remaining_time": 22.03597339,
                        "test": [
                          0.00007577528937
                        ]
                      },
                      {
                        "learn": [
                          0.00007067759716
                        ],
                        "iteration": 275,
                        "passed_time": 8.41605632,
                        "remaining_time": 22.07690136,
                        "test": [
                          0.00007548300452
                        ]
                      },
                      {
                        "learn": [
                          0.00007031226436
                        ],
                        "iteration": 276,
                        "passed_time": 8.483016036,
                        "remaining_time": 22.14159059,
                        "test": [
                          0.00007508927762
                        ]
                      },
                      {
                        "learn": [
                          0.00006983061317
                        ],
                        "iteration": 277,
                        "passed_time": 8.512334176,
                        "remaining_time": 22.10757293,
                        "test": [
                          0.00007457982789
                        ]
                      },
                      {
                        "learn": [
                          0.00006954277634
                        ],
                        "iteration": 278,
                        "passed_time": 8.554160488,
                        "remaining_time": 22.10591295,
                        "test": [
                          0.00007426692212
                        ]
                      },
                      {
                        "learn": [
                          0.00006922181203
                        ],
                        "iteration": 279,
                        "passed_time": 8.660381342,
                        "remaining_time": 22.26955202,
                        "test": [
                          0.00007390663288
                        ]
                      },
                      {
                        "learn": [
                          0.00006893665517
                        ],
                        "iteration": 280,
                        "passed_time": 8.757066515,
                        "remaining_time": 22.40687126,
                        "test": [
                          0.00007359719495
                        ]
                      },
                      {
                        "learn": [
                          0.00006865275144
                        ],
                        "iteration": 281,
                        "passed_time": 8.826324153,
                        "remaining_time": 22.47269767,
                        "test": [
                          0.00007328918385
                        ]
                      },
                      {
                        "learn": [
                          0.00006837015049
                        ],
                        "iteration": 282,
                        "passed_time": 8.942815959,
                        "remaining_time": 22.65724043,
                        "test": [
                          0.00007298253135
                        ]
                      },
                      {
                        "learn": [
                          0.00006808832499
                        ],
                        "iteration": 283,
                        "passed_time": 8.99470092,
                        "remaining_time": 22.67678119,
                        "test": [
                          0.00007270157436
                        ]
                      },
                      {
                        "learn": [
                          0.00006780764096
                        ],
                        "iteration": 284,
                        "passed_time": 9.071909949,
                        "remaining_time": 22.75935303,
                        "test": [
                          0.0000724215045
                        ]
                      },
                      {
                        "learn": [
                          0.00006745911384
                        ],
                        "iteration": 285,
                        "passed_time": 9.100942737,
                        "remaining_time": 22.72053536,
                        "test": [
                          0.00007204644438
                        ]
                      },
                      {
                        "learn": [
                          0.00006711287587
                        ],
                        "iteration": 286,
                        "passed_time": 9.127526234,
                        "remaining_time": 22.67570106,
                        "test": [
                          0.00007167419451
                        ]
                      },
                      {
                        "learn": [
                          0.00006676874714
                        ],
                        "iteration": 287,
                        "passed_time": 9.171379489,
                        "remaining_time": 22.67368818,
                        "test": [
                          0.00007130436407
                        ]
                      },
                      {
                        "learn": [
                          0.00006649385731
                        ],
                        "iteration": 288,
                        "passed_time": 9.192612342,
                        "remaining_time": 22.61573486,
                        "test": [
                          0.00007102996434
                        ]
                      },
                      {
                        "learn": [
                          0.00006622023924
                        ],
                        "iteration": 289,
                        "passed_time": 9.205536313,
                        "remaining_time": 22.53769235,
                        "test": [
                          0.00007075689218
                        ]
                      },
                      {
                        "learn": [
                          0.00006600027651
                        ],
                        "iteration": 290,
                        "passed_time": 9.222416635,
                        "remaining_time": 22.46973675,
                        "test": [
                          0.00007051145728
                        ]
                      },
                      {
                        "learn": [
                          0.00006554456277
                        ],
                        "iteration": 291,
                        "passed_time": 9.255583071,
                        "remaining_time": 22.44161923,
                        "test": [
                          0.00007003091034
                        ]
                      },
                      {
                        "learn": [
                          0.00006539398164
                        ],
                        "iteration": 292,
                        "passed_time": 9.274189796,
                        "remaining_time": 22.3783351,
                        "test": [
                          0.00006985816977
                        ]
                      },
                      {
                        "learn": [
                          0.00006494199009
                        ],
                        "iteration": 293,
                        "passed_time": 9.291847395,
                        "remaining_time": 22.31307572,
                        "test": [
                          0.00006938139465
                        ]
                      },
                      {
                        "learn": [
                          0.00006479362366
                        ],
                        "iteration": 294,
                        "passed_time": 9.30483276,
                        "remaining_time": 22.23697321,
                        "test": [
                          0.00006923349349
                        ]
                      },
                      {
                        "learn": [
                          0.00006440865011
                        ],
                        "iteration": 295,
                        "passed_time": 9.385674103,
                        "remaining_time": 22.32268435,
                        "test": [
                          0.00006882680098
                        ]
                      },
                      {
                        "learn": [
                          0.00006419916534
                        ],
                        "iteration": 296,
                        "passed_time": 9.43366692,
                        "remaining_time": 22.32952136,
                        "test": [
                          0.00006859341976
                        ]
                      },
                      {
                        "learn": [
                          0.00006393535523
                        ],
                        "iteration": 297,
                        "passed_time": 9.473450638,
                        "remaining_time": 22.31665217,
                        "test": [
                          0.0000683985818
                        ]
                      },
                      {
                        "learn": [
                          0.00006361037096
                        ],
                        "iteration": 298,
                        "passed_time": 9.511343734,
                        "remaining_time": 22.29917043,
                        "test": [
                          0.00006804937849
                        ]
                      },
                      {
                        "learn": [
                          0.0000632872912
                        ],
                        "iteration": 299,
                        "passed_time": 9.525328935,
                        "remaining_time": 22.22576752,
                        "test": [
                          0.00006770229062
                        ]
                      },
                      {
                        "learn": [
                          0.00006307541183
                        ],
                        "iteration": 300,
                        "passed_time": 9.562700168,
                        "remaining_time": 22.20706783,
                        "test": [
                          0.00006746020568
                        ]
                      },
                      {
                        "learn": [
                          0.00006293489921
                        ],
                        "iteration": 301,
                        "passed_time": 9.609441842,
                        "remaining_time": 22.20990201,
                        "test": [
                          0.00006729874955
                        ]
                      },
                      {
                        "learn": [
                          0.00006255717152
                        ],
                        "iteration": 302,
                        "passed_time": 9.633410697,
                        "remaining_time": 22.16002395,
                        "test": [
                          0.00006692163603
                        ]
                      },
                      {
                        "learn": [
                          0.00006235840046
                        ],
                        "iteration": 303,
                        "passed_time": 9.683675756,
                        "remaining_time": 22.17052081,
                        "test": [
                          0.00006669934073
                        ]
                      },
                      {
                        "learn": [
                          0.00006211699792
                        ],
                        "iteration": 304,
                        "passed_time": 9.741714824,
                        "remaining_time": 22.19833378,
                        "test": [
                          0.00006644324175
                        ]
                      },
                      {
                        "learn": [
                          0.00006186157515
                        ],
                        "iteration": 305,
                        "passed_time": 9.794636868,
                        "remaining_time": 22.21398035,
                        "test": [
                          0.00006616722287
                        ]
                      },
                      {
                        "learn": [
                          0.00006166691089
                        ],
                        "iteration": 306,
                        "passed_time": 9.855380394,
                        "remaining_time": 22.24683587,
                        "test": [
                          0.00006595004558
                        ]
                      },
                      {
                        "learn": [
                          0.00006129440047
                        ],
                        "iteration": 307,
                        "passed_time": 9.897250631,
                        "remaining_time": 22.23667999,
                        "test": [
                          0.00006557793219
                        ]
                      },
                      {
                        "learn": [
                          0.00006116068085
                        ],
                        "iteration": 308,
                        "passed_time": 9.936056301,
                        "remaining_time": 22.21946571,
                        "test": [
                          0.00006544429942
                        ]
                      },
                      {
                        "learn": [
                          0.00006085124292
                        ],
                        "iteration": 309,
                        "passed_time": 10.01891916,
                        "remaining_time": 22.30017491,
                        "test": [
                          0.00006511259039
                        ]
                      },
                      {
                        "learn": [
                          0.00006054363506
                        ],
                        "iteration": 310,
                        "passed_time": 10.09594979,
                        "remaining_time": 22.36691128,
                        "test": [
                          0.00006478297199
                        ]
                      },
                      {
                        "learn": [
                          0.00006035673157
                        ],
                        "iteration": 311,
                        "passed_time": 10.14790049,
                        "remaining_time": 22.37742159,
                        "test": [
                          0.00006457392148
                        ]
                      },
                      {
                        "learn": [
                          0.00005998966175
                        ],
                        "iteration": 312,
                        "passed_time": 10.1622532,
                        "remaining_time": 22.30500941,
                        "test": [
                          0.00006418778165
                        ]
                      },
                      {
                        "learn": [
                          0.00005986135791
                        ],
                        "iteration": 313,
                        "passed_time": 10.18353489,
                        "remaining_time": 22.24810489,
                        "test": [
                          0.00006404030854
                        ]
                      },
                      {
                        "learn": [
                          0.0000596148932
                        ],
                        "iteration": 314,
                        "passed_time": 10.20163905,
                        "remaining_time": 22.18451666,
                        "test": [
                          0.0000637749103
                        ]
                      },
                      {
                        "learn": [
                          0.0000593140163
                        ],
                        "iteration": 315,
                        "passed_time": 10.24364671,
                        "remaining_time": 22.1729568,
                        "test": [
                          0.00006345293479
                        ]
                      },
                      {
                        "learn": [
                          0.00005918836142
                        ],
                        "iteration": 316,
                        "passed_time": 10.27621589,
                        "remaining_time": 22.14086894,
                        "test": [
                          0.00006332721788
                        ]
                      },
                      {
                        "learn": [
                          0.00005882542323
                        ],
                        "iteration": 317,
                        "passed_time": 10.32482053,
                        "remaining_time": 22.14316855,
                        "test": [
                          0.00006296467672
                        ]
                      },
                      {
                        "learn": [
                          0.00005870153019
                        ],
                        "iteration": 318,
                        "passed_time": 10.36193414,
                        "remaining_time": 22.12061803,
                        "test": [
                          0.00006282221616
                        ]
                      },
                      {
                        "learn": [
                          0.0000585245029
                        ],
                        "iteration": 319,
                        "passed_time": 10.37599967,
                        "remaining_time": 22.0489993,
                        "test": [
                          0.00006262438184
                        ]
                      },
                      {
                        "learn": [
                          0.00005811097397
                        ],
                        "iteration": 320,
                        "passed_time": 10.3974347,
                        "remaining_time": 21.9933276,
                        "test": [
                          0.00006219036226
                        ]
                      },
                      {
                        "learn": [
                          0.00005800515835
                        ],
                        "iteration": 321,
                        "passed_time": 10.41614632,
                        "remaining_time": 21.93213418,
                        "test": [
                          0.00006213385944
                        ]
                      },
                      {
                        "learn": [
                          0.00005783208279
                        ],
                        "iteration": 322,
                        "passed_time": 10.4387558,
                        "remaining_time": 21.87937362,
                        "test": [
                          0.00006194008851
                        ]
                      },
                      {
                        "learn": [
                          0.00005742276613
                        ],
                        "iteration": 323,
                        "passed_time": 10.45953374,
                        "remaining_time": 21.8229778,
                        "test": [
                          0.00006151043009
                        ]
                      },
                      {
                        "learn": [
                          0.00005725272415
                        ],
                        "iteration": 324,
                        "passed_time": 10.50422224,
                        "remaining_time": 21.81646158,
                        "test": [
                          0.00006132033172
                        ]
                      },
                      {
                        "learn": [
                          0.00005713530152
                        ],
                        "iteration": 325,
                        "passed_time": 10.58403293,
                        "remaining_time": 21.88232576,
                        "test": [
                          0.00006118532174
                        ]
                      },
                      {
                        "learn": [
                          0.00005678058936
                        ],
                        "iteration": 326,
                        "passed_time": 10.61060591,
                        "remaining_time": 21.8377302,
                        "test": [
                          0.00006088629973
                        ]
                      },
                      {
                        "learn": [
                          0.00005666445088
                        ],
                        "iteration": 327,
                        "passed_time": 10.64934152,
                        "remaining_time": 21.81816312,
                        "test": [
                          0.00006076995032
                        ]
                      },
                      {
                        "learn": [
                          0.00005654899479
                        ],
                        "iteration": 328,
                        "passed_time": 10.67623761,
                        "remaining_time": 21.77433264,
                        "test": [
                          0.0000606542647
                        ]
                      },
                      {
                        "learn": [
                          0.00005614644011
                        ],
                        "iteration": 329,
                        "passed_time": 10.69722215,
                        "remaining_time": 21.71860255,
                        "test": [
                          0.0000602317777
                        ]
                      },
                      {
                        "learn": [
                          0.00005598316631
                        ],
                        "iteration": 330,
                        "passed_time": 10.7337549,
                        "remaining_time": 21.69450763,
                        "test": [
                          0.00006004875149
                        ]
                      },
                      {
                        "learn": [
                          0.00005587045224
                        ],
                        "iteration": 331,
                        "passed_time": 10.77841177,
                        "remaining_time": 21.68668393,
                        "test": [
                          0.00005991907044
                        ]
                      },
                      {
                        "learn": [
                          0.00005547171901
                        ],
                        "iteration": 332,
                        "passed_time": 10.80745001,
                        "remaining_time": 21.64735482,
                        "test": [
                          0.00005950084535
                        ]
                      },
                      {
                        "learn": [
                          0.00005536044418
                        ],
                        "iteration": 333,
                        "passed_time": 10.84380077,
                        "remaining_time": 21.62266861,
                        "test": [
                          0.00005938942163
                        ]
                      },
                      {
                        "learn": [
                          0.0000552017921
                        ],
                        "iteration": 334,
                        "passed_time": 10.88195349,
                        "remaining_time": 21.60148976,
                        "test": [
                          0.00005921150723
                        ]
                      },
                      {
                        "learn": [
                          0.00005480649569
                        ],
                        "iteration": 335,
                        "passed_time": 10.92212482,
                        "remaining_time": 21.58419904,
                        "test": [
                          0.00005879733932
                        ]
                      },
                      {
                        "learn": [
                          0.00005465051117
                        ],
                        "iteration": 336,
                        "passed_time": 10.97370517,
                        "remaining_time": 21.58921819,
                        "test": [
                          0.0000586224585
                        ]
                      },
                      {
                        "learn": [
                          0.0000545544663
                        ],
                        "iteration": 337,
                        "passed_time": 11.02645487,
                        "remaining_time": 21.59619267,
                        "test": [
                          0.00005851424207
                        ]
                      },
                      {
                        "learn": [
                          0.0000541625943
                        ],
                        "iteration": 338,
                        "passed_time": 11.08163682,
                        "remaining_time": 21.60755734,
                        "test": [
                          0.00005810394523
                        ]
                      },
                      {
                        "learn": [
                          0.0000540561149
                        ],
                        "iteration": 339,
                        "passed_time": 11.1572839,
                        "remaining_time": 21.65825698,
                        "test": [
                          0.00005799746583
                        ]
                      },
                      {
                        "learn": [
                          0.00005397886708
                        ],
                        "iteration": 340,
                        "passed_time": 11.19489308,
                        "remaining_time": 21.63470539,
                        "test": [
                          0.00005798324707
                        ]
                      },
                      {
                        "learn": [
                          0.00005363577436
                        ],
                        "iteration": 341,
                        "passed_time": 11.24553407,
                        "remaining_time": 21.6361445,
                        "test": [
                          0.00005762378292
                        ]
                      },
                      {
                        "learn": [
                          0.00005354253974
                        ],
                        "iteration": 342,
                        "passed_time": 11.28661899,
                        "remaining_time": 21.61897573,
                        "test": [
                          0.00005751865591
                        ]
                      },
                      {
                        "learn": [
                          0.00005343850457
                        ],
                        "iteration": 343,
                        "passed_time": 11.32779629,
                        "remaining_time": 21.60184408,
                        "test": [
                          0.0000573985657
                        ]
                      },
                      {
                        "learn": [
                          0.00005333499051
                        ],
                        "iteration": 344,
                        "passed_time": 11.36808141,
                        "remaining_time": 21.58287921,
                        "test": [
                          0.00005727915169
                        ]
                      },
                      {
                        "learn": [
                          0.000052972865
                        ],
                        "iteration": 345,
                        "passed_time": 11.40798703,
                        "remaining_time": 21.56307375,
                        "test": [
                          0.00005689148576
                        ]
                      },
                      {
                        "learn": [
                          0.0000528704862
                        ],
                        "iteration": 346,
                        "passed_time": 11.44850572,
                        "remaining_time": 21.54430615,
                        "test": [
                          0.00005678918141
                        ]
                      },
                      {
                        "learn": [
                          0.00005274779046
                        ],
                        "iteration": 347,
                        "passed_time": 11.49636443,
                        "remaining_time": 21.53916555,
                        "test": [
                          0.00005669429042
                        ]
                      },
                      {
                        "learn": [
                          0.00005240915816
                        ],
                        "iteration": 348,
                        "passed_time": 11.53860947,
                        "remaining_time": 21.52330878,
                        "test": [
                          0.00005633978299
                        ]
                      },
                      {
                        "learn": [
                          0.00005230875213
                        ],
                        "iteration": 349,
                        "passed_time": 11.57841714,
                        "remaining_time": 21.50277469,
                        "test": [
                          0.00005623891168
                        ]
                      },
                      {
                        "learn": [
                          0.00005216492056
                        ],
                        "iteration": 350,
                        "passed_time": 11.62007077,
                        "remaining_time": 21.48554396,
                        "test": [
                          0.00005607756101
                        ]
                      },
                      {
                        "learn": [
                          0.00005202241968
                        ],
                        "iteration": 351,
                        "passed_time": 11.6607951,
                        "remaining_time": 21.46646371,
                        "test": [
                          0.00005591730219
                        ]
                      },
                      {
                        "learn": [
                          0.0000516431752
                        ],
                        "iteration": 352,
                        "passed_time": 11.70302655,
                        "remaining_time": 21.45002317,
                        "test": [
                          0.00005552057893
                        ]
                      },
                      {
                        "learn": [
                          0.00005154577793
                        ],
                        "iteration": 353,
                        "passed_time": 11.74351475,
                        "remaining_time": 21.43025572,
                        "test": [
                          0.00005540804477
                        ]
                      },
                      {
                        "learn": [
                          0.00005144896071
                        ],
                        "iteration": 354,
                        "passed_time": 11.78383238,
                        "remaining_time": 21.41006165,
                        "test": [
                          0.00005529616819
                        ]
                      },
                      {
                        "learn": [
                          0.00005119123948
                        ],
                        "iteration": 355,
                        "passed_time": 11.82356119,
                        "remaining_time": 21.38868934,
                        "test": [
                          0.00005502126596
                        ]
                      },
                      {
                        "learn": [
                          0.00005097677008
                        ],
                        "iteration": 356,
                        "passed_time": 11.86325749,
                        "remaining_time": 21.36715565,
                        "test": [
                          0.00005479215906
                        ]
                      },
                      {
                        "learn": [
                          0.00005083984628
                        ],
                        "iteration": 357,
                        "passed_time": 11.90440877,
                        "remaining_time": 21.3481297,
                        "test": [
                          0.00005463808527
                        ]
                      },
                      {
                        "learn": [
                          0.00005074523755
                        ],
                        "iteration": 358,
                        "passed_time": 11.93983143,
                        "remaining_time": 21.31875195,
                        "test": [
                          0.00005454351687
                        ]
                      },
                      {
                        "learn": [
                          0.00005037229288
                        ],
                        "iteration": 359,
                        "passed_time": 11.99285169,
                        "remaining_time": 21.32062524,
                        "test": [
                          0.0000541535804
                        ]
                      },
                      {
                        "learn": [
                          0.00005027927539
                        ],
                        "iteration": 360,
                        "passed_time": 12.0383444,
                        "remaining_time": 21.30887001,
                        "test": [
                          0.00005404629452
                        ]
                      },
                      {
                        "learn": [
                          0.00005018652466
                        ],
                        "iteration": 361,
                        "passed_time": 12.08043875,
                        "remaining_time": 21.29093901,
                        "test": [
                          0.00005395326463
                        ]
                      },
                      {
                        "learn": [
                          0.00005005367665
                        ],
                        "iteration": 362,
                        "passed_time": 12.11968085,
                        "remaining_time": 21.26786971,
                        "test": [
                          0.00005380404829
                        ]
                      },
                      {
                        "learn": [
                          0.00004968429287
                        ],
                        "iteration": 363,
                        "passed_time": 12.16015517,
                        "remaining_time": 21.24686453,
                        "test": [
                          0.00005341828688
                        ]
                      },
                      {
                        "learn": [
                          0.00004955351378
                        ],
                        "iteration": 364,
                        "passed_time": 12.2252775,
                        "remaining_time": 21.26863346,
                        "test": [
                          0.00005327141553
                        ]
                      },
                      {
                        "learn": [
                          0.00004946355158
                        ],
                        "iteration": 365,
                        "passed_time": 12.26596837,
                        "remaining_time": 21.2476064,
                        "test": [
                          0.00005316739897
                        ]
                      },
                      {
                        "learn": [
                          0.00004937383443
                        ],
                        "iteration": 366,
                        "passed_time": 12.30786184,
                        "remaining_time": 21.22854645,
                        "test": [
                          0.00005307748331
                        ]
                      },
                      {
                        "learn": [
                          0.00004906343183
                        ],
                        "iteration": 367,
                        "passed_time": 12.33915268,
                        "remaining_time": 21.19115351,
                        "test": [
                          0.00005275036498
                        ]
                      },
                      {
                        "learn": [
                          0.00004897483444
                        ],
                        "iteration": 368,
                        "passed_time": 12.35870993,
                        "remaining_time": 21.1337289,
                        "test": [
                          0.00005264799239
                        ]
                      },
                      {
                        "learn": [
                          0.00004884761624
                        ],
                        "iteration": 369,
                        "passed_time": 12.3738186,
                        "remaining_time": 21.06893437,
                        "test": [
                          0.00005250489905
                        ]
                      },
                      {
                        "learn": [
                          0.00004872145266
                        ],
                        "iteration": 370,
                        "passed_time": 12.39168957,
                        "remaining_time": 21.00909095,
                        "test": [
                          0.0000523629658
                        ]
                      },
                      {
                        "learn": [
                          0.00004835844003
                        ],
                        "iteration": 371,
                        "passed_time": 12.40741887,
                        "remaining_time": 20.94585766,
                        "test": [
                          0.00005198467669
                        ]
                      },
                      {
                        "learn": [
                          0.00004827213799
                        ],
                        "iteration": 372,
                        "passed_time": 12.42295993,
                        "remaining_time": 20.88256267,
                        "test": [
                          0.00005188494375
                        ]
                      },
                      {
                        "learn": [
                          0.00004814849619
                        ],
                        "iteration": 373,
                        "passed_time": 12.43939659,
                        "remaining_time": 20.8210221,
                        "test": [
                          0.00005174600996
                        ]
                      },
                      {
                        "learn": [
                          0.00004804210984
                        ],
                        "iteration": 374,
                        "passed_time": 12.47033041,
                        "remaining_time": 20.78388402,
                        "test": [
                          0.00005161899648
                        ]
                      },
                      {
                        "learn": [
                          0.00004780123772
                        ],
                        "iteration": 375,
                        "passed_time": 12.49022418,
                        "remaining_time": 20.72845715,
                        "test": [
                          0.0000513633907
                        ]
                      },
                      {
                        "learn": [
                          0.00004759828539
                        ],
                        "iteration": 376,
                        "passed_time": 12.50649152,
                        "remaining_time": 20.66722604,
                        "test": [
                          0.00005114737969
                        ]
                      },
                      {
                        "learn": [
                          0.00004751451754
                        ],
                        "iteration": 377,
                        "passed_time": 12.54217914,
                        "remaining_time": 20.63818895,
                        "test": [
                          0.00005106349087
                        ]
                      },
                      {
                        "learn": [
                          0.00004743134834
                        ],
                        "iteration": 378,
                        "passed_time": 12.59058987,
                        "remaining_time": 20.62996388,
                        "test": [
                          0.00005096753285
                        ]
                      },
                      {
                        "learn": [
                          0.00004722965535
                        ],
                        "iteration": 379,
                        "passed_time": 12.61782948,
                        "remaining_time": 20.58698494,
                        "test": [
                          0.00005076569098
                        ]
                      },
                      {
                        "learn": [
                          0.00004700793389
                        ],
                        "iteration": 380,
                        "passed_time": 12.63721533,
                        "remaining_time": 20.53132884,
                        "test": [
                          0.0000505240403
                        ]
                      },
                      {
                        "learn": [
                          0.00004692585033
                        ],
                        "iteration": 381,
                        "passed_time": 12.66482494,
                        "remaining_time": 20.48916705,
                        "test": [
                          0.00005044180785
                        ]
                      },
                      {
                        "learn": [
                          0.00004684463528
                        ],
                        "iteration": 382,
                        "passed_time": 12.72989782,
                        "remaining_time": 20.50743331,
                        "test": [
                          0.0000503481793
                        ]
                      },
                      {
                        "learn": [
                          0.00004676347916
                        ],
                        "iteration": 383,
                        "passed_time": 12.788231,
                        "remaining_time": 20.51445389,
                        "test": [
                          0.0000502667037
                        ]
                      },
                      {
                        "learn": [
                          0.00004652841676
                        ],
                        "iteration": 384,
                        "passed_time": 12.84228821,
                        "remaining_time": 20.51430455,
                        "test": [
                          0.00005001734188
                        ]
                      },
                      {
                        "learn": [
                          0.00004629416703
                        ],
                        "iteration": 385,
                        "passed_time": 12.90162289,
                        "remaining_time": 20.52227061,
                        "test": [
                          0.00004976872141
                        ]
                      },
                      {
                        "learn": [
                          0.00004621473553
                        ],
                        "iteration": 386,
                        "passed_time": 12.92096283,
                        "remaining_time": 20.46653803,
                        "test": [
                          0.0000496770315
                        ]
                      },
                      {
                        "learn": [
                          0.00004613563282
                        ],
                        "iteration": 387,
                        "passed_time": 12.95365894,
                        "remaining_time": 20.43205998,
                        "test": [
                          0.00004959799083
                        ]
                      },
                      {
                        "learn": [
                          0.00004590323178
                        ],
                        "iteration": 388,
                        "passed_time": 12.9760357,
                        "remaining_time": 20.38138254,
                        "test": [
                          0.00004935154783
                        ]
                      },
                      {
                        "learn": [
                          0.00004567177059
                        ],
                        "iteration": 389,
                        "passed_time": 12.99115734,
                        "remaining_time": 20.31950251,
                        "test": [
                          0.00004910603848
                        ]
                      },
                      {
                        "learn": [
                          0.00004556000878
                        ],
                        "iteration": 390,
                        "passed_time": 13.03358303,
                        "remaining_time": 20.30038891,
                        "test": [
                          0.00004898074341
                        ]
                      },
                      {
                        "learn": [
                          0.00004544905654
                        ],
                        "iteration": 391,
                        "passed_time": 13.04820469,
                        "remaining_time": 20.23803177,
                        "test": [
                          0.00004885609352
                        ]
                      },
                      {
                        "learn": [
                          0.00004533887356
                        ],
                        "iteration": 392,
                        "passed_time": 13.06340631,
                        "remaining_time": 20.17681331,
                        "test": [
                          0.00004873214465
                        ]
                      },
                      {
                        "learn": [
                          0.00004514408834
                        ],
                        "iteration": 393,
                        "passed_time": 13.08783436,
                        "remaining_time": 20.13001934,
                        "test": [
                          0.00004852563143
                        ]
                      },
                      {
                        "learn": [
                          0.00004494954505
                        ],
                        "iteration": 394,
                        "passed_time": 13.10029964,
                        "remaining_time": 20.06501591,
                        "test": [
                          0.0000483196083
                        ]
                      },
                      {
                        "learn": [
                          0.00004484117974
                        ],
                        "iteration": 395,
                        "passed_time": 13.12458629,
                        "remaining_time": 20.01830838,
                        "test": [
                          0.00004819779658
                        ]
                      },
                      {
                        "learn": [
                          0.00004473355886
                        ],
                        "iteration": 396,
                        "passed_time": 13.14511926,
                        "remaining_time": 19.96601238,
                        "test": [
                          0.00004807704258
                        ]
                      },
                      {
                        "learn": [
                          0.00004464394408
                        ],
                        "iteration": 397,
                        "passed_time": 13.17282572,
                        "remaining_time": 19.92472634,
                        "test": [
                          0.00004796892851
                        ]
                      },
                      {
                        "learn": [
                          0.00004445134253
                        ],
                        "iteration": 398,
                        "passed_time": 13.19245056,
                        "remaining_time": 19.8713353,
                        "test": [
                          0.000047765148
                        ]
                      },
                      {
                        "learn": [
                          0.00004425899844
                        ],
                        "iteration": 399,
                        "passed_time": 13.2299409,
                        "remaining_time": 19.84491135,
                        "test": [
                          0.00004757264572
                        ]
                      },
                      {
                        "learn": [
                          0.00004418598462
                        ],
                        "iteration": 400,
                        "passed_time": 13.24623603,
                        "remaining_time": 19.78677152,
                        "test": [
                          0.00004748844361
                        ]
                      },
                      {
                        "learn": [
                          0.00004408121742
                        ],
                        "iteration": 401,
                        "passed_time": 13.26036639,
                        "remaining_time": 19.72561965,
                        "test": [
                          0.00004737088449
                        ]
                      },
                      {
                        "learn": [
                          0.00004397721637
                        ],
                        "iteration": 402,
                        "passed_time": 13.27564871,
                        "remaining_time": 19.66640764,
                        "test": [
                          0.00004725394263
                        ]
                      },
                      {
                        "learn": [
                          0.00004375488695
                        ],
                        "iteration": 403,
                        "passed_time": 13.29228068,
                        "remaining_time": 19.60940417,
                        "test": [
                          0.00004701914388
                        ]
                      },
                      {
                        "learn": [
                          0.00004353334229
                        ],
                        "iteration": 404,
                        "passed_time": 13.30336472,
                        "remaining_time": 19.5444494,
                        "test": [
                          0.00004678483522
                        ]
                      },
                      {
                        "learn": [
                          0.00004346271066
                        ],
                        "iteration": 405,
                        "passed_time": 13.32347873,
                        "remaining_time": 19.49297135,
                        "test": [
                          0.00004670346198
                        ]
                      },
                      {
                        "learn": [
                          0.00004339215348
                        ],
                        "iteration": 406,
                        "passed_time": 13.33904697,
                        "remaining_time": 19.43502421,
                        "test": [
                          0.00004663268146
                        ]
                      },
                      {
                        "learn": [
                          0.00004332205226
                        ],
                        "iteration": 407,
                        "passed_time": 13.35765481,
                        "remaining_time": 19.38169522,
                        "test": [
                          0.00004656258024
                        ]
                      },
                      {
                        "learn": [
                          0.00004313344587
                        ],
                        "iteration": 408,
                        "passed_time": 13.41131324,
                        "remaining_time": 19.37918368,
                        "test": [
                          0.00004636326636
                        ]
                      },
                      {
                        "learn": [
                          0.00004306417905
                        ],
                        "iteration": 409,
                        "passed_time": 13.46603464,
                        "remaining_time": 19.37795228,
                        "test": [
                          0.00004628333856
                        ]
                      },
                      {
                        "learn": [
                          0.00004287623644
                        ],
                        "iteration": 410,
                        "passed_time": 13.51969508,
                        "remaining_time": 19.37494016,
                        "test": [
                          0.00004608471948
                        ]
                      },
                      {
                        "learn": [
                          0.00004277693466
                        ],
                        "iteration": 411,
                        "passed_time": 13.57632331,
                        "remaining_time": 19.37591773,
                        "test": [
                          0.00004597340434
                        ]
                      },
                      {
                        "learn": [
                          0.00004267846727
                        ],
                        "iteration": 412,
                        "passed_time": 13.65486353,
                        "remaining_time": 19.40776003,
                        "test": [
                          0.00004586277779
                        ]
                      },
                      {
                        "learn": [
                          0.00004258066366
                        ],
                        "iteration": 413,
                        "passed_time": 13.70480531,
                        "remaining_time": 19.39858915,
                        "test": [
                          0.00004575282435
                        ]
                      },
                      {
                        "learn": [
                          0.00004239424095
                        ],
                        "iteration": 414,
                        "passed_time": 13.76611107,
                        "remaining_time": 19.40524091,
                        "test": [
                          0.00004556644816
                        ]
                      },
                      {
                        "learn": [
                          0.00004220832074
                        ],
                        "iteration": 415,
                        "passed_time": 13.84202535,
                        "remaining_time": 19.43207405,
                        "test": [
                          0.00004537033226
                        ]
                      },
                      {
                        "learn": [
                          0.00004214156329
                        ],
                        "iteration": 416,
                        "passed_time": 13.89751468,
                        "remaining_time": 19.42985866,
                        "test": [
                          0.00004529333569
                        ]
                      },
                      {
                        "learn": [
                          0.00004207509121
                        ],
                        "iteration": 417,
                        "passed_time": 13.95884293,
                        "remaining_time": 19.43551815,
                        "test": [
                          0.00004522673333
                        ]
                      },
                      {
                        "learn": [
                          0.00004197958606
                        ],
                        "iteration": 418,
                        "passed_time": 13.99745841,
                        "remaining_time": 19.40936358,
                        "test": [
                          0.00004511933889
                        ]
                      },
                      {
                        "learn": [
                          0.00004176583008
                        ],
                        "iteration": 419,
                        "passed_time": 14.0263249,
                        "remaining_time": 19.36968677,
                        "test": [
                          0.00004489397278
                        ]
                      },
                      {
                        "learn": [
                          0.00004170586872
                        ],
                        "iteration": 420,
                        "passed_time": 14.0601533,
                        "remaining_time": 19.33688542,
                        "test": [
                          0.00004481873805
                        ]
                      },
                      {
                        "learn": [
                          0.00004152201122
                        ],
                        "iteration": 421,
                        "passed_time": 14.1021568,
                        "remaining_time": 19.31527637,
                        "test": [
                          0.00004462497332
                        ]
                      },
                      {
                        "learn": [
                          0.00004142856258
                        ],
                        "iteration": 422,
                        "passed_time": 14.11650521,
                        "remaining_time": 19.25584754,
                        "test": [
                          0.0000445199921
                        ]
                      },
                      {
                        "learn": [
                          0.00004133570638
                        ],
                        "iteration": 423,
                        "passed_time": 14.1445946,
                        "remaining_time": 19.21529832,
                        "test": [
                          0.0000444160717
                        ]
                      },
                      {
                        "learn": [
                          0.00004127192358
                        ],
                        "iteration": 424,
                        "passed_time": 14.18801251,
                        "remaining_time": 19.19554633,
                        "test": [
                          0.00004434218315
                        ]
                      },
                      {
                        "learn": [
                          0.00004108925718
                        ],
                        "iteration": 425,
                        "passed_time": 14.24805447,
                        "remaining_time": 19.19808278,
                        "test": [
                          0.00004415970286
                        ]
                      },
                      {
                        "learn": [
                          0.00004102603891
                        ],
                        "iteration": 426,
                        "passed_time": 14.28861544,
                        "remaining_time": 19.17418419,
                        "test": [
                          0.00004408649672
                        ]
                      },
                      {
                        "learn": [
                          0.00004084399598
                        ],
                        "iteration": 427,
                        "passed_time": 14.32854209,
                        "remaining_time": 19.14935999,
                        "test": [
                          0.00004390467712
                        ]
                      },
                      {
                        "learn": [
                          0.00004075343824
                        ],
                        "iteration": 428,
                        "passed_time": 14.37265828,
                        "remaining_time": 19.13004167,
                        "test": [
                          0.00004380300554
                        ]
                      },
                      {
                        "learn": [
                          0.00004066333956
                        ],
                        "iteration": 429,
                        "passed_time": 14.39185524,
                        "remaining_time": 19.07757555,
                        "test": [
                          0.00004370182095
                        ]
                      },
                      {
                        "learn": [
                          0.00004060647693
                        ],
                        "iteration": 430,
                        "passed_time": 14.40715773,
                        "remaining_time": 19.02012238,
                        "test": [
                          0.00004366275038
                        ]
                      },
                      {
                        "learn": [
                          0.00004042601593
                        ],
                        "iteration": 431,
                        "passed_time": 14.42672152,
                        "remaining_time": 18.96846719,
                        "test": [
                          0.00004347288154
                        ]
                      },
                      {
                        "learn": [
                          0.0000403645688
                        ],
                        "iteration": 432,
                        "passed_time": 14.44829358,
                        "remaining_time": 18.91958997,
                        "test": [
                          0.00004340203589
                        ]
                      },
                      {
                        "learn": [
                          0.00004018452034
                        ],
                        "iteration": 433,
                        "passed_time": 14.46258355,
                        "remaining_time": 18.86134168,
                        "test": [
                          0.00004322187266
                        ]
                      },
                      {
                        "learn": [
                          0.00004012374941
                        ],
                        "iteration": 434,
                        "passed_time": 14.51457812,
                        "remaining_time": 18.85226813,
                        "test": [
                          0.00004315179936
                        ]
                      },
                      {
                        "learn": [
                          0.00004003615701
                        ],
                        "iteration": 435,
                        "passed_time": 14.53551514,
                        "remaining_time": 18.80282233,
                        "test": [
                          0.00004305313655
                        ]
                      },
                      {
                        "learn": [
                          0.00003997586996
                        ],
                        "iteration": 436,
                        "passed_time": 14.57300265,
                        "remaining_time": 18.7748295,
                        "test": [
                          0.00004299278127
                        ]
                      },
                      {
                        "learn": [
                          0.00003977022215
                        ],
                        "iteration": 437,
                        "passed_time": 14.61892654,
                        "remaining_time": 18.75761807,
                        "test": [
                          0.00004277657175
                        ]
                      },
                      {
                        "learn": [
                          0.00003971065783
                        ],
                        "iteration": 438,
                        "passed_time": 14.63911827,
                        "remaining_time": 18.7073926,
                        "test": [
                          0.00004270775779
                        ]
                      },
                      {
                        "learn": [
                          0.00003965149675
                        ],
                        "iteration": 439,
                        "passed_time": 14.65448038,
                        "remaining_time": 18.65115684,
                        "test": [
                          0.0000426394153
                        ]
                      },
                      {
                        "learn": [
                          0.00003944711448
                        ],
                        "iteration": 440,
                        "passed_time": 14.68491848,
                        "remaining_time": 18.61421639,
                        "test": [
                          0.00004242447753
                        ]
                      },
                      {
                        "learn": [
                          0.00003938855515
                        ],
                        "iteration": 441,
                        "passed_time": 14.7007429,
                        "remaining_time": 18.55885643,
                        "test": [
                          0.00004235682986
                        ]
                      },
                      {
                        "learn": [
                          0.00003933494323
                        ],
                        "iteration": 442,
                        "passed_time": 14.72489884,
                        "remaining_time": 18.51415046,
                        "test": [
                          0.00004228946755
                        ]
                      },
                      {
                        "learn": [
                          0.00003915792525
                        ],
                        "iteration": 443,
                        "passed_time": 14.7659902,
                        "remaining_time": 18.49074449,
                        "test": [
                          0.00004210351632
                        ]
                      },
                      {
                        "learn": [
                          0.00003909996457
                        ],
                        "iteration": 444,
                        "passed_time": 14.79982279,
                        "remaining_time": 18.45820595,
                        "test": [
                          0.00004204556185
                        ]
                      },
                      {
                        "learn": [
                          0.00003904231097
                        ],
                        "iteration": 445,
                        "passed_time": 14.83214222,
                        "remaining_time": 18.42378204,
                        "test": [
                          0.0000419789874
                        ]
                      },
                      {
                        "learn": [
                          0.00003884024577
                        ],
                        "iteration": 446,
                        "passed_time": 14.86244854,
                        "remaining_time": 18.38687705,
                        "test": [
                          0.00004176658382
                        ]
                      },
                      {
                        "learn": [
                          0.00003878320013
                        ],
                        "iteration": 447,
                        "passed_time": 14.88296563,
                        "remaining_time": 18.3379398,
                        "test": [
                          0.00004170088099
                        ]
                      },
                      {
                        "learn": [
                          0.00003872636541
                        ],
                        "iteration": 448,
                        "passed_time": 14.90610142,
                        "remaining_time": 18.29234273,
                        "test": [
                          0.00004164402146
                        ]
                      },
                      {
                        "learn": [
                          0.0000386443594
                        ],
                        "iteration": 449,
                        "passed_time": 14.92445506,
                        "remaining_time": 18.24100063,
                        "test": [
                          0.0000415519066
                        ]
                      },
                      {
                        "learn": [
                          0.00003846928626
                        ],
                        "iteration": 450,
                        "passed_time": 14.93729025,
                        "remaining_time": 18.18308724,
                        "test": [
                          0.00004136817628
                        ]
                      },
                      {
                        "learn": [
                          0.00003838808982
                        ],
                        "iteration": 451,
                        "passed_time": 14.96612666,
                        "remaining_time": 18.14477303,
                        "test": [
                          0.00004127711604
                        ]
                      },
                      {
                        "learn": [
                          0.00003830753546
                        ],
                        "iteration": 452,
                        "passed_time": 14.99382791,
                        "remaining_time": 18.10512995,
                        "test": [
                          0.00004118667616
                        ]
                      },
                      {
                        "learn": [
                          0.00003813319746
                        ],
                        "iteration": 453,
                        "passed_time": 15.02733587,
                        "remaining_time": 18.07252288,
                        "test": [
                          0.00004101216446
                        ]
                      },
                      {
                        "learn": [
                          0.00003805341235
                        ],
                        "iteration": 454,
                        "passed_time": 15.06700968,
                        "remaining_time": 18.0472973,
                        "test": [
                          0.00004092257448
                        ]
                      },
                      {
                        "learn": [
                          0.00003799861553
                        ],
                        "iteration": 455,
                        "passed_time": 15.10994137,
                        "remaining_time": 18.02589497,
                        "test": [
                          0.00004085930038
                        ]
                      },
                      {
                        "learn": [
                          0.00003795012162
                        ],
                        "iteration": 456,
                        "passed_time": 15.13453268,
                        "remaining_time": 17.98260667,
                        "test": [
                          0.00004080477032
                        ]
                      },
                      {
                        "learn": [
                          0.00003777686305
                        ],
                        "iteration": 457,
                        "passed_time": 15.1539015,
                        "remaining_time": 17.93321968,
                        "test": [
                          0.00004062320196
                        ]
                      },
                      {
                        "learn": [
                          0.00003770888348
                        ],
                        "iteration": 458,
                        "passed_time": 15.17195743,
                        "remaining_time": 17.88241606,
                        "test": [
                          0.00004054202103
                        ]
                      },
                      {
                        "learn": [
                          0.00003763090053
                        ],
                        "iteration": 459,
                        "passed_time": 15.18977752,
                        "remaining_time": 17.83147796,
                        "test": [
                          0.00004045448136
                        ]
                      },
                      {
                        "learn": [
                          0.00003745842982
                        ],
                        "iteration": 460,
                        "passed_time": 15.2193255,
                        "remaining_time": 17.79439576,
                        "test": [
                          0.00004027406999
                        ]
                      },
                      {
                        "learn": [
                          0.00003738130298
                        ],
                        "iteration": 461,
                        "passed_time": 15.23323917,
                        "remaining_time": 17.73913998,
                        "test": [
                          0.00004018712587
                        ]
                      },
                      {
                        "learn": [
                          0.00003730459488
                        ],
                        "iteration": 462,
                        "passed_time": 15.24714454,
                        "remaining_time": 17.68405317,
                        "test": [
                          0.0000401009448
                        ]
                      },
                      {
                        "learn": [
                          0.0000372517367
                        ],
                        "iteration": 463,
                        "passed_time": 15.2889922,
                        "remaining_time": 17.66142202,
                        "test": [
                          0.00004004836889
                        ]
                      },
                      {
                        "learn": [
                          0.00003705686772
                        ],
                        "iteration": 464,
                        "passed_time": 15.32508817,
                        "remaining_time": 17.63209069,
                        "test": [
                          0.00003984416653
                        ]
                      },
                      {
                        "learn": [
                          0.00003698142207
                        ],
                        "iteration": 465,
                        "passed_time": 15.34662228,
                        "remaining_time": 17.58604356,
                        "test": [
                          0.00003975936577
                        ]
                      },
                      {
                        "learn": [
                          0.0000369296092
                        ],
                        "iteration": 466,
                        "passed_time": 15.38310584,
                        "remaining_time": 17.55716363,
                        "test": [
                          0.00003969940752
                        ]
                      },
                      {
                        "learn": [
                          0.00003686706093
                        ],
                        "iteration": 467,
                        "passed_time": 15.40384986,
                        "remaining_time": 17.51035924,
                        "test": [
                          0.00003962431547
                        ]
                      },
                      {
                        "learn": [
                          0.00003669661261
                        ],
                        "iteration": 468,
                        "passed_time": 15.42701817,
                        "remaining_time": 17.46641077,
                        "test": [
                          0.00003945391988
                        ]
                      },
                      {
                        "learn": [
                          0.00003662252865
                        ],
                        "iteration": 469,
                        "passed_time": 15.47028143,
                        "remaining_time": 17.44521098,
                        "test": [
                          0.00003937057388
                        ]
                      },
                      {
                        "learn": [
                          0.00003657167115
                        ],
                        "iteration": 470,
                        "passed_time": 15.50142197,
                        "remaining_time": 17.41030196,
                        "test": [
                          0.00003931200524
                        ]
                      },
                      {
                        "learn": [
                          0.00003649826339
                        ],
                        "iteration": 471,
                        "passed_time": 15.52739264,
                        "remaining_time": 17.36962567,
                        "test": [
                          0.00003922953705
                        ]
                      },
                      {
                        "learn": [
                          0.0000363290527
                        ],
                        "iteration": 472,
                        "passed_time": 15.55961609,
                        "remaining_time": 17.33597819,
                        "test": [
                          0.0000390527238
                        ]
                      },
                      {
                        "learn": [
                          0.00003625636146
                        ],
                        "iteration": 473,
                        "passed_time": 15.60286544,
                        "remaining_time": 17.3145722,
                        "test": [
                          0.00003897115204
                        ]
                      },
                      {
                        "learn": [
                          0.00003618407036
                        ],
                        "iteration": 474,
                        "passed_time": 15.62139986,
                        "remaining_time": 17.26575774,
                        "test": [
                          0.00003888985634
                        ]
                      },
                      {
                        "learn": [
                          0.000036015418
                        ],
                        "iteration": 475,
                        "passed_time": 15.63511252,
                        "remaining_time": 17.21176252,
                        "test": [
                          0.00003872149555
                        ]
                      },
                      {
                        "learn": [
                          0.00003596598113
                        ],
                        "iteration": 476,
                        "passed_time": 15.65747164,
                        "remaining_time": 17.1674165,
                        "test": [
                          0.00003867183845
                        ]
                      },
                      {
                        "learn": [
                          0.00003589464229
                        ],
                        "iteration": 477,
                        "passed_time": 15.67602535,
                        "remaining_time": 17.11900676,
                        "test": [
                          0.00003859191066
                        ]
                      },
                      {
                        "learn": [
                          0.00003584573584
                        ],
                        "iteration": 478,
                        "passed_time": 15.75149926,
                        "remaining_time": 17.13263281,
                        "test": [
                          0.00003853556293
                        ]
                      },
                      {
                        "learn": [
                          0.00003577507629
                        ],
                        "iteration": 479,
                        "passed_time": 15.80732026,
                        "remaining_time": 17.12459695,
                        "test": [
                          0.00003845623069
                        ]
                      },
                      {
                        "learn": [
                          0.00003558597361
                        ],
                        "iteration": 480,
                        "passed_time": 15.85381683,
                        "remaining_time": 17.10630132,
                        "test": [
                          0.00003825838086
                        ]
                      },
                      {
                        "learn": [
                          0.00003553786742
                        ],
                        "iteration": 481,
                        "passed_time": 15.89616767,
                        "remaining_time": 17.0834333,
                        "test": [
                          0.00003820311567
                        ]
                      },
                      {
                        "learn": [
                          0.0000354682625
                        ],
                        "iteration": 482,
                        "passed_time": 15.9684434,
                        "remaining_time": 17.09251602,
                        "test": [
                          0.00003812494971
                        ]
                      },
                      {
                        "learn": [
                          0.00003541051895
                        ],
                        "iteration": 483,
                        "passed_time": 16.0448107,
                        "remaining_time": 17.10562463,
                        "test": [
                          0.00003805513076
                        ]
                      },
                      {
                        "learn": [
                          0.00003524412782
                        ],
                        "iteration": 484,
                        "passed_time": 16.15306671,
                        "remaining_time": 17.15222548,
                        "test": [
                          0.0000378815527
                        ]
                      },
                      {
                        "learn": [
                          0.0000351968219
                        ],
                        "iteration": 485,
                        "passed_time": 16.22873061,
                        "remaining_time": 17.1637192,
                        "test": [
                          0.00003782716843
                        ]
                      },
                      {
                        "learn": [
                          0.00003512852905
                        ],
                        "iteration": 486,
                        "passed_time": 16.2942263,
                        "remaining_time": 17.16414393,
                        "test": [
                          0.00003775065264
                        ]
                      },
                      {
                        "learn": [
                          0.00003508160466
                        ],
                        "iteration": 487,
                        "passed_time": 16.44545057,
                        "remaining_time": 17.25424322,
                        "test": [
                          0.00003770353594
                        ]
                      },
                      {
                        "learn": [
                          0.00003489496483
                        ],
                        "iteration": 488,
                        "passed_time": 16.55035083,
                        "remaining_time": 17.29494739,
                        "test": [
                          0.00003750871349
                        ]
                      },
                      {
                        "learn": [
                          0.00003482775761
                        ],
                        "iteration": 489,
                        "passed_time": 16.65434489,
                        "remaining_time": 17.33411407,
                        "test": [
                          0.00003743320579
                        ]
                      },
                      {
                        "learn": [
                          0.00003476084817
                        ],
                        "iteration": 490,
                        "passed_time": 16.68102284,
                        "remaining_time": 17.2925471,
                        "test": [
                          0.00003735826263
                        ]
                      },
                      {
                        "learn": [
                          0.00003469427683
                        ],
                        "iteration": 491,
                        "passed_time": 16.73041691,
                        "remaining_time": 17.27449551,
                        "test": [
                          0.00003728350868
                        ]
                      },
                      {
                        "learn": [
                          0.00003450919101
                        ],
                        "iteration": 492,
                        "passed_time": 16.76650494,
                        "remaining_time": 17.24263287,
                        "test": [
                          0.0000370903395
                        ]
                      },
                      {
                        "learn": [
                          0.00003446363452
                        ],
                        "iteration": 493,
                        "passed_time": 16.81157163,
                        "remaining_time": 17.21994989,
                        "test": [
                          0.00003704487918
                        ]
                      },
                      {
                        "learn": [
                          0.00003439807748
                        ],
                        "iteration": 494,
                        "passed_time": 16.82999077,
                        "remaining_time": 17.16999058,
                        "test": [
                          0.00003697140938
                        ]
                      },
                      {
                        "learn": [
                          0.00003433293298
                        ],
                        "iteration": 495,
                        "passed_time": 16.85419517,
                        "remaining_time": 17.12603703,
                        "test": [
                          0.00003689833351
                        ]
                      },
                      {
                        "learn": [
                          0.00003416058635
                        ],
                        "iteration": 496,
                        "passed_time": 16.90737322,
                        "remaining_time": 17.11148638,
                        "test": [
                          0.00003671830056
                        ]
                      },
                      {
                        "learn": [
                          0.0000341159449
                        ],
                        "iteration": 497,
                        "passed_time": 16.93287673,
                        "remaining_time": 17.06888377,
                        "test": [
                          0.00003667360328
                        ]
                      },
                      {
                        "learn": [
                          0.00003407133137
                        ],
                        "iteration": 498,
                        "passed_time": 16.96117867,
                        "remaining_time": 17.02915934,
                        "test": [
                          0.0000366292348
                        ]
                      },
                      {
                        "learn": [
                          0.00003400734695
                        ],
                        "iteration": 499,
                        "passed_time": 16.99496086,
                        "remaining_time": 16.99496086,
                        "test": [
                          0.00003655723526
                        ]
                      },
                      {
                        "learn": [
                          0.00003396342202
                        ],
                        "iteration": 500,
                        "passed_time": 17.03848695,
                        "remaining_time": 16.97046903,
                        "test": [
                          0.00003650645531
                        ]
                      },
                      {
                        "learn": [
                          0.00003378103479
                        ],
                        "iteration": 501,
                        "passed_time": 17.05591948,
                        "remaining_time": 16.92001574,
                        "test": [
                          0.00003631651203
                        ]
                      },
                      {
                        "learn": [
                          0.00003374254115
                        ],
                        "iteration": 502,
                        "passed_time": 17.12450262,
                        "remaining_time": 16.9202342,
                        "test": [
                          0.00003627272358
                        ]
                      },
                      {
                        "learn": [
                          0.00003367962686
                        ],
                        "iteration": 503,
                        "passed_time": 17.1727756,
                        "remaining_time": 16.90019186,
                        "test": [
                          0.0000362021664
                        ]
                      },
                      {
                        "learn": [
                          0.00003363645878
                        ],
                        "iteration": 504,
                        "passed_time": 17.24293332,
                        "remaining_time": 16.9014891,
                        "test": [
                          0.00003615227667
                        ]
                      },
                      {
                        "learn": [
                          0.00003347448155
                        ],
                        "iteration": 505,
                        "passed_time": 17.28359131,
                        "remaining_time": 16.87370377,
                        "test": [
                          0.00003598387866
                        ]
                      },
                      {
                        "learn": [
                          0.00003341227447
                        ],
                        "iteration": 506,
                        "passed_time": 17.31620835,
                        "remaining_time": 16.83804875,
                        "test": [
                          0.00003591409693
                        ]
                      },
                      {
                        "learn": [
                          0.00003336974537
                        ],
                        "iteration": 507,
                        "passed_time": 17.37517764,
                        "remaining_time": 16.82792795,
                        "test": [
                          0.00003586499196
                        ]
                      },
                      {
                        "learn": [
                          0.00003332720386
                        ],
                        "iteration": 508,
                        "passed_time": 17.42389332,
                        "remaining_time": 16.80772421,
                        "test": [
                          0.00003581597073
                        ]
                      },
                      {
                        "learn": [
                          0.00003326580636
                        ],
                        "iteration": 509,
                        "passed_time": 17.44287067,
                        "remaining_time": 16.75883653,
                        "test": [
                          0.00003574709164
                        ]
                      },
                      {
                        "learn": [
                          0.00003310938139
                        ],
                        "iteration": 510,
                        "passed_time": 17.45768832,
                        "remaining_time": 16.7060853,
                        "test": [
                          0.00003558624657
                        ]
                      },
                      {
                        "learn": [
                          0.00003306746024
                        ],
                        "iteration": 511,
                        "passed_time": 17.47746405,
                        "remaining_time": 16.65820792,
                        "test": [
                          0.00003553773715
                        ]
                      },
                      {
                        "learn": [
                          0.00003302561043
                        ],
                        "iteration": 512,
                        "passed_time": 17.4930194,
                        "remaining_time": 16.60643362,
                        "test": [
                          0.00003548959064
                        ]
                      },
                      {
                        "learn": [
                          0.00003296525825
                        ],
                        "iteration": 513,
                        "passed_time": 17.51978982,
                        "remaining_time": 16.56540438,
                        "test": [
                          0.00003542196778
                        ]
                      },
                      {
                        "learn": [
                          0.00003280472336
                        ],
                        "iteration": 514,
                        "passed_time": 17.54007816,
                        "remaining_time": 16.51832604,
                        "test": [
                          0.00003526151664
                        ]
                      },
                      {
                        "learn": [
                          0.00003276333573
                        ],
                        "iteration": 515,
                        "passed_time": 17.60706629,
                        "remaining_time": 16.5151552,
                        "test": [
                          0.00003521998012
                        ]
                      },
                      {
                        "learn": [
                          0.00003270367835
                        ],
                        "iteration": 516,
                        "passed_time": 17.67140524,
                        "remaining_time": 16.50926253,
                        "test": [
                          0.00003515323818
                        ]
                      },
                      {
                        "learn": [
                          0.00003265419186
                        ],
                        "iteration": 517,
                        "passed_time": 17.73273798,
                        "remaining_time": 16.50034692,
                        "test": [
                          0.0000350934071
                        ]
                      },
                      {
                        "learn": [
                          0.00003259501836
                        ],
                        "iteration": 518,
                        "passed_time": 17.78663395,
                        "remaining_time": 16.48433706,
                        "test": [
                          0.00003502725761
                        ]
                      },
                      {
                        "learn": [
                          0.00003253627603
                        ],
                        "iteration": 519,
                        "passed_time": 17.83974443,
                        "remaining_time": 16.46745639,
                        "test": [
                          0.00003496129422
                        ]
                      },
                      {
                        "learn": [
                          0.00003235890754
                        ],
                        "iteration": 520,
                        "passed_time": 17.85888872,
                        "remaining_time": 16.41920863,
                        "test": [
                          0.00003477683187
                        ]
                      },
                      {
                        "learn": [
                          0.00003230073594
                        ],
                        "iteration": 521,
                        "passed_time": 17.88352091,
                        "remaining_time": 16.37609769,
                        "test": [
                          0.00003471166255
                        ]
                      },
                      {
                        "learn": [
                          0.00003226079686
                        ],
                        "iteration": 522,
                        "passed_time": 17.90317015,
                        "remaining_time": 16.32851274,
                        "test": [
                          0.00003466568422
                        ]
                      },
                      {
                        "learn": [
                          0.00003220318358
                        ],
                        "iteration": 523,
                        "passed_time": 17.92631431,
                        "remaining_time": 16.28420918,
                        "test": [
                          0.00003460101119
                        ]
                      },
                      {
                        "learn": [
                          0.00003204459664
                        ],
                        "iteration": 524,
                        "passed_time": 17.95203104,
                        "remaining_time": 16.2423138,
                        "test": [
                          0.00003443650597
                        ]
                      },
                      {
                        "learn": [
                          0.00003200516626
                        ],
                        "iteration": 525,
                        "passed_time": 17.97984173,
                        "remaining_time": 16.20236688,
                        "test": [
                          0.00003439690189
                        ]
                      },
                      {
                        "learn": [
                          0.0000319480927
                        ],
                        "iteration": 526,
                        "passed_time": 17.99204483,
                        "remaining_time": 16.14845769,
                        "test": [
                          0.00003433300742
                        ]
                      },
                      {
                        "learn": [
                          0.00003190891046
                        ],
                        "iteration": 527,
                        "passed_time": 18.01896327,
                        "remaining_time": 16.1078611,
                        "test": [
                          0.00003429400509
                        ]
                      },
                      {
                        "learn": [
                          0.00003185242315
                        ],
                        "iteration": 528,
                        "passed_time": 18.05206265,
                        "remaining_time": 16.07281949,
                        "test": [
                          0.00003423069066
                        ]
                      },
                      {
                        "learn": [
                          0.00003180548015
                        ],
                        "iteration": 529,
                        "passed_time": 18.0864836,
                        "remaining_time": 16.03895715,
                        "test": [
                          0.00003417406997
                        ]
                      },
                      {
                        "learn": [
                          0.00003164808121
                        ],
                        "iteration": 530,
                        "passed_time": 18.11826168,
                        "remaining_time": 16.00275843,
                        "test": [
                          0.00003401074344
                        ]
                      },
                      {
                        "learn": [
                          0.00003160216801
                        ],
                        "iteration": 531,
                        "passed_time": 18.15011284,
                        "remaining_time": 15.96664062,
                        "test": [
                          0.00003395813031
                        ]
                      },
                      {
                        "learn": [
                          0.00003156390392
                        ],
                        "iteration": 532,
                        "passed_time": 18.20751978,
                        "remaining_time": 15.95293008,
                        "test": [
                          0.00003391399446
                        ]
                      },
                      {
                        "learn": [
                          0.00003152568324
                        ],
                        "iteration": 533,
                        "passed_time": 18.27721272,
                        "remaining_time": 15.94977739,
                        "test": [
                          0.00003387587925
                        ]
                      },
                      {
                        "learn": [
                          0.0000313516089
                        ],
                        "iteration": 534,
                        "passed_time": 18.33247973,
                        "remaining_time": 15.93383752,
                        "test": [
                          0.00003369531899
                        ]
                      },
                      {
                        "learn": [
                          0.00003131362396
                        ],
                        "iteration": 535,
                        "passed_time": 18.37218357,
                        "remaining_time": 15.90427832,
                        "test": [
                          0.00003365729373
                        ]
                      },
                      {
                        "learn": [
                          0.00003127574759
                        ],
                        "iteration": 536,
                        "passed_time": 18.42279439,
                        "remaining_time": 15.88408529,
                        "test": [
                          0.00003361966551
                        ]
                      },
                      {
                        "learn": [
                          0.00003122131989
                        ],
                        "iteration": 537,
                        "passed_time": 18.52878188,
                        "remaining_time": 15.91133314,
                        "test": [
                          0.00003355841069
                        ]
                      },
                      {
                        "learn": [
                          0.00003116714034
                        ],
                        "iteration": 538,
                        "passed_time": 18.64820679,
                        "remaining_time": 15.94957946,
                        "test": [
                          0.00003349762736
                        ]
                      },
                      {
                        "learn": [
                          0.00003111317481
                        ],
                        "iteration": 539,
                        "passed_time": 18.76983002,
                        "remaining_time": 15.98911446,
                        "test": [
                          0.00003343717281
                        ]
                      },
                      {
                        "learn": [
                          0.00003094063897
                        ],
                        "iteration": 540,
                        "passed_time": 18.87624757,
                        "remaining_time": 16.01515275,
                        "test": [
                          0.00003325809522
                        ]
                      },
                      {
                        "learn": [
                          0.00003090359388
                        ],
                        "iteration": 541,
                        "passed_time": 19.00193176,
                        "remaining_time": 16.05698292,
                        "test": [
                          0.00003322112148
                        ]
                      },
                      {
                        "learn": [
                          0.0000308503852
                        ],
                        "iteration": 542,
                        "passed_time": 19.11719462,
                        "remaining_time": 16.0894253,
                        "test": [
                          0.00003316144239
                        ]
                      },
                      {
                        "learn": [
                          0.00003081386743
                        ],
                        "iteration": 543,
                        "passed_time": 19.27831858,
                        "remaining_time": 16.15976705,
                        "test": [
                          0.00003311946852
                        ]
                      },
                      {
                        "learn": [
                          0.00003076117675
                        ],
                        "iteration": 544,
                        "passed_time": 19.3932755,
                        "remaining_time": 16.19071624,
                        "test": [
                          0.00003306016475
                        ]
                      },
                      {
                        "learn": [
                          0.00003060584362
                        ],
                        "iteration": 545,
                        "passed_time": 19.47481979,
                        "remaining_time": 16.19334832,
                        "test": [
                          0.00003290508907
                        ]
                      },
                      {
                        "learn": [
                          0.00003055351896
                        ],
                        "iteration": 546,
                        "passed_time": 19.58733601,
                        "remaining_time": 16.22132215,
                        "test": [
                          0.00003284627849
                        ]
                      },
                      {
                        "learn": [
                          0.00003051764947
                        ],
                        "iteration": 547,
                        "passed_time": 19.65549749,
                        "remaining_time": 16.21219866,
                        "test": [
                          0.00003280499012
                        ]
                      },
                      {
                        "learn": [
                          0.00003048177377
                        ],
                        "iteration": 548,
                        "passed_time": 19.7117667,
                        "remaining_time": 16.19309067,
                        "test": [
                          0.00003276368313
                        ]
                      },
                      {
                        "learn": [
                          0.00003044989633
                        ],
                        "iteration": 549,
                        "passed_time": 19.7729424,
                        "remaining_time": 16.17786196,
                        "test": [
                          0.00003272782605
                        ]
                      },
                      {
                        "learn": [
                          0.00003039837194
                        ],
                        "iteration": 550,
                        "passed_time": 19.85129774,
                        "remaining_time": 16.17646585,
                        "test": [
                          0.00003266999565
                        ]
                      },
                      {
                        "learn": [
                          0.00003034700884
                        ],
                        "iteration": 551,
                        "passed_time": 19.94618649,
                        "remaining_time": 16.18820933,
                        "test": [
                          0.00003261254987
                        ]
                      },
                      {
                        "learn": [
                          0.00003017705681
                        ],
                        "iteration": 552,
                        "passed_time": 20.03997666,
                        "remaining_time": 16.19867914,
                        "test": [
                          0.00003243640351
                        ]
                      },
                      {
                        "learn": [
                          0.00003012619621
                        ],
                        "iteration": 553,
                        "passed_time": 20.09860678,
                        "remaining_time": 16.18046683,
                        "test": [
                          0.00003237935787
                        ]
                      },
                      {
                        "learn": [
                          0.00003009132861
                        ],
                        "iteration": 554,
                        "passed_time": 20.16077716,
                        "remaining_time": 16.16494745,
                        "test": [
                          0.00003233915203
                        ]
                      },
                      {
                        "learn": [
                          0.00003006032278
                        ],
                        "iteration": 555,
                        "passed_time": 20.24783672,
                        "remaining_time": 16.1691358,
                        "test": [
                          0.00003230425341
                        ]
                      },
                      {
                        "learn": [
                          0.00002989105626
                        ],
                        "iteration": 556,
                        "passed_time": 20.31478943,
                        "remaining_time": 16.15700488,
                        "test": [
                          0.00003212916787
                        ]
                      },
                      {
                        "learn": [
                          0.00002984999432
                        ],
                        "iteration": 557,
                        "passed_time": 20.4626677,
                        "remaining_time": 16.20877979,
                        "test": [
                          0.0000320819488
                        ]
                      },
                      {
                        "learn": [
                          0.00002980915571
                        ],
                        "iteration": 558,
                        "passed_time": 20.60443823,
                        "remaining_time": 16.25502193,
                        "test": [
                          0.00003203520432
                        ]
                      },
                      {
                        "learn": [
                          0.00002975949861
                        ],
                        "iteration": 559,
                        "passed_time": 20.65696667,
                        "remaining_time": 16.23047381,
                        "test": [
                          0.00003197932807
                        ]
                      },
                      {
                        "learn": [
                          0.00002971013929
                        ],
                        "iteration": 560,
                        "passed_time": 20.74519811,
                        "remaining_time": 16.23376466,
                        "test": [
                          0.00003192414972
                        ]
                      },
                      {
                        "learn": [
                          0.00002966107154
                        ],
                        "iteration": 561,
                        "passed_time": 20.8194337,
                        "remaining_time": 16.22582199,
                        "test": [
                          0.00003186918231
                        ]
                      },
                      {
                        "learn": [
                          0.00002961214957
                        ],
                        "iteration": 562,
                        "passed_time": 20.94501245,
                        "remaining_time": 16.25749634,
                        "test": [
                          0.00003181428313
                        ]
                      },
                      {
                        "learn": [
                          0.00002945950883
                        ],
                        "iteration": 563,
                        "passed_time": 21.00578795,
                        "remaining_time": 16.23851693,
                        "test": [
                          0.000031661844
                        ]
                      },
                      {
                        "learn": [
                          0.00002942582302
                        ],
                        "iteration": 564,
                        "passed_time": 21.08577315,
                        "remaining_time": 16.23417933,
                        "test": [
                          0.00003162801551
                        ]
                      },
                      {
                        "learn": [
                          0.00002939245671
                        ],
                        "iteration": 565,
                        "passed_time": 21.11828253,
                        "remaining_time": 16.19317071,
                        "test": [
                          0.00003158965526
                        ]
                      },
                      {
                        "learn": [
                          0.00002934424816
                        ],
                        "iteration": 566,
                        "passed_time": 21.13624844,
                        "remaining_time": 16.14108567,
                        "test": [
                          0.00003153565251
                        ]
                      },
                      {
                        "learn": [
                          0.00002931469709
                        ],
                        "iteration": 567,
                        "passed_time": 21.17113116,
                        "remaining_time": 16.10198708,
                        "test": [
                          0.00003150241646
                        ]
                      },
                      {
                        "learn": [
                          0.00002914792133
                        ],
                        "iteration": 568,
                        "passed_time": 21.19470087,
                        "remaining_time": 16.05433405,
                        "test": [
                          0.00003132999539
                        ]
                      },
                      {
                        "learn": [
                          0.00002912128907
                        ],
                        "iteration": 569,
                        "passed_time": 21.23091472,
                        "remaining_time": 16.01630409,
                        "test": [
                          0.00003129694236
                        ]
                      },
                      {
                        "learn": [
                          0.00002908164776
                        ],
                        "iteration": 570,
                        "passed_time": 21.24993221,
                        "remaining_time": 15.96536063,
                        "test": [
                          0.0000312492332
                        ]
                      },
                      {
                        "learn": [
                          0.0000290526209
                        ],
                        "iteration": 571,
                        "passed_time": 21.28072056,
                        "remaining_time": 15.92333636,
                        "test": [
                          0.00003121648415
                        ]
                      },
                      {
                        "learn": [
                          0.00002901993698
                        ],
                        "iteration": 572,
                        "passed_time": 21.29760235,
                        "remaining_time": 15.87098814,
                        "test": [
                          0.00003119929694
                        ]
                      },
                      {
                        "learn": [
                          0.00002897290093
                        ],
                        "iteration": 573,
                        "passed_time": 21.31059836,
                        "remaining_time": 15.81587962,
                        "test": [
                          0.00003114655664
                        ]
                      },
                      {
                        "learn": [
                          0.00002892600756
                        ],
                        "iteration": 574,
                        "passed_time": 21.32884375,
                        "remaining_time": 15.76479755,
                        "test": [
                          0.000031094111
                        ]
                      },
                      {
                        "learn": [
                          0.00002887946779
                        ],
                        "iteration": 575,
                        "passed_time": 21.34634914,
                        "remaining_time": 15.71328479,
                        "test": [
                          0.00003104187008
                        ]
                      },
                      {
                        "learn": [
                          0.00002873121923
                        ],
                        "iteration": 576,
                        "passed_time": 21.36077458,
                        "remaining_time": 15.65963197,
                        "test": [
                          0.00003088616164
                        ]
                      },
                      {
                        "learn": [
                          0.00002868494932
                        ],
                        "iteration": 577,
                        "passed_time": 21.37461325,
                        "remaining_time": 15.60568649,
                        "test": [
                          0.00003083431465
                        ]
                      },
                      {
                        "learn": [
                          0.00002865320526
                        ],
                        "iteration": 578,
                        "passed_time": 21.39613723,
                        "remaining_time": 15.55746766,
                        "test": [
                          0.0000307978279
                        ]
                      },
                      {
                        "learn": [
                          0.00002862154805
                        ],
                        "iteration": 579,
                        "passed_time": 21.41019354,
                        "remaining_time": 15.50393326,
                        "test": [
                          0.000030761428
                        ]
                      },
                      {
                        "learn": [
                          0.00002847112511
                        ],
                        "iteration": 580,
                        "passed_time": 21.42416048,
                        "remaining_time": 15.45047029,
                        "test": [
                          0.00003060602663
                        ]
                      },
                      {
                        "learn": [
                          0.00002843952993
                        ],
                        "iteration": 581,
                        "passed_time": 21.44491184,
                        "remaining_time": 15.40201572,
                        "test": [
                          0.00003057464858
                        ]
                      },
                      {
                        "learn": [
                          0.00002840806813
                        ],
                        "iteration": 582,
                        "passed_time": 21.48087018,
                        "remaining_time": 15.36453322,
                        "test": [
                          0.00003054316817
                        ]
                      },
                      {
                        "learn": [
                          0.00002837665906
                        ],
                        "iteration": 583,
                        "passed_time": 21.4977518,
                        "remaining_time": 15.31346704,
                        "test": [
                          0.00003051198554
                        ]
                      },
                      {
                        "learn": [
                          0.00002834549814
                        ],
                        "iteration": 584,
                        "passed_time": 21.56013939,
                        "remaining_time": 15.29479974,
                        "test": [
                          0.00003048080911
                        ]
                      },
                      {
                        "learn": [
                          0.00002831441477
                        ],
                        "iteration": 585,
                        "passed_time": 21.64529868,
                        "remaining_time": 15.29207108,
                        "test": [
                          0.00003044500165
                        ]
                      },
                      {
                        "learn": [
                          0.00002828349889
                        ],
                        "iteration": 586,
                        "passed_time": 21.69649362,
                        "remaining_time": 15.26516502,
                        "test": [
                          0.00003040928105
                        ]
                      },
                      {
                        "learn": [
                          0.00002823877059
                        ],
                        "iteration": 587,
                        "passed_time": 21.75201659,
                        "remaining_time": 15.2412089,
                        "test": [
                          0.00003035919901
                        ]
                      },
                      {
                        "learn": [
                          0.00002820164176
                        ],
                        "iteration": 588,
                        "passed_time": 21.80561312,
                        "remaining_time": 15.21580134,
                        "test": [
                          0.00003031432182
                        ]
                      },
                      {
                        "learn": [
                          0.0000280520408
                        ],
                        "iteration": 589,
                        "passed_time": 21.84837691,
                        "remaining_time": 15.1827704,
                        "test": [
                          0.00003016491938
                        ]
                      },
                      {
                        "learn": [
                          0.00002800772195
                        ],
                        "iteration": 590,
                        "passed_time": 21.89311093,
                        "remaining_time": 15.15107,
                        "test": [
                          0.00003011522196
                        ]
                      },
                      {
                        "learn": [
                          0.00002797742023
                        ],
                        "iteration": 591,
                        "passed_time": 21.9209716,
                        "remaining_time": 15.10769664,
                        "test": [
                          0.00003008019306
                        ]
                      },
                      {
                        "learn": [
                          0.00002793347049
                        ],
                        "iteration": 592,
                        "passed_time": 21.95533849,
                        "remaining_time": 15.06884109,
                        "test": [
                          0.00003003078721
                        ]
                      },
                      {
                        "learn": [
                          0.00002788986505
                        ],
                        "iteration": 593,
                        "passed_time": 21.96758807,
                        "remaining_time": 15.01488343,
                        "test": [
                          0.00002998187145
                        ]
                      },
                      {
                        "learn": [
                          0.00002774076969
                        ],
                        "iteration": 594,
                        "passed_time": 21.98683219,
                        "remaining_time": 14.96582695,
                        "test": [
                          0.00002983305526
                        ]
                      },
                      {
                        "learn": [
                          0.00002771075334
                        ],
                        "iteration": 595,
                        "passed_time": 22.00938953,
                        "remaining_time": 14.9191164,
                        "test": [
                          0.00002980317229
                        ]
                      },
                      {
                        "learn": [
                          0.00002766751702
                        ],
                        "iteration": 596,
                        "passed_time": 22.02799166,
                        "remaining_time": 14.86981682,
                        "test": [
                          0.00002975464426
                        ]
                      },
                      {
                        "learn": [
                          0.00002763789771
                        ],
                        "iteration": 597,
                        "passed_time": 22.08833629,
                        "remaining_time": 14.84868092,
                        "test": [
                          0.00002972030707
                        ]
                      },
                      {
                        "learn": [
                          0.00002760828459
                        ],
                        "iteration": 598,
                        "passed_time": 22.13538418,
                        "remaining_time": 14.81851261,
                        "test": [
                          0.00002968626455
                        ]
                      },
                      {
                        "learn": [
                          0.00002757870871
                        ],
                        "iteration": 599,
                        "passed_time": 22.20112086,
                        "remaining_time": 14.80074724,
                        "test": [
                          0.00002965682514
                        ]
                      },
                      {
                        "learn": [
                          0.00002753611136
                        ],
                        "iteration": 600,
                        "passed_time": 22.26395061,
                        "remaining_time": 14.78089234,
                        "test": [
                          0.00002960908187
                        ]
                      },
                      {
                        "learn": [
                          0.00002750670297
                        ],
                        "iteration": 601,
                        "passed_time": 22.30838681,
                        "remaining_time": 14.74873414,
                        "test": [
                          0.00002957958043
                        ]
                      },
                      {
                        "learn": [
                          0.0000273586157
                        ],
                        "iteration": 602,
                        "passed_time": 22.32926332,
                        "remaining_time": 14.70102411,
                        "test": [
                          0.00002942720023
                        ]
                      },
                      {
                        "learn": [
                          0.00002731634405
                        ],
                        "iteration": 603,
                        "passed_time": 22.36311487,
                        "remaining_time": 14.66190975,
                        "test": [
                          0.00002937966478
                        ]
                      },
                      {
                        "learn": [
                          0.00002727432984
                        ],
                        "iteration": 604,
                        "passed_time": 22.38821266,
                        "remaining_time": 14.61709752,
                        "test": [
                          0.00002933252637
                        ]
                      },
                      {
                        "learn": [
                          0.00002723246763
                        ],
                        "iteration": 605,
                        "passed_time": 22.40635899,
                        "remaining_time": 14.56783077,
                        "test": [
                          0.00002928547481
                        ]
                      },
                      {
                        "learn": [
                          0.00002720379748
                        ],
                        "iteration": 606,
                        "passed_time": 22.42669649,
                        "remaining_time": 14.52008521,
                        "test": [
                          0.00002925249932
                        ]
                      },
                      {
                        "learn": [
                          0.00002704339597
                        ],
                        "iteration": 607,
                        "passed_time": 22.45217672,
                        "remaining_time": 14.47574551,
                        "test": [
                          0.00002908703873
                        ]
                      },
                      {
                        "learn": [
                          0.00002701495224
                        ],
                        "iteration": 608,
                        "passed_time": 22.51045188,
                        "remaining_time": 14.45252329,
                        "test": [
                          0.00002905414389
                        ]
                      },
                      {
                        "learn": [
                          0.00002697364526
                        ],
                        "iteration": 609,
                        "passed_time": 22.57520113,
                        "remaining_time": 14.43332532,
                        "test": [
                          0.00002900787709
                        ]
                      },
                      {
                        "learn": [
                          0.00002694853289
                        ],
                        "iteration": 610,
                        "passed_time": 22.61333088,
                        "remaining_time": 14.39703063,
                        "test": [
                          0.0000289796567
                        ]
                      },
                      {
                        "learn": [
                          0.00002692006435
                        ],
                        "iteration": 611,
                        "passed_time": 22.62810018,
                        "remaining_time": 14.34591972,
                        "test": [
                          0.00002896480517
                        ]
                      },
                      {
                        "learn": [
                          0.00002687922264
                        ],
                        "iteration": 612,
                        "passed_time": 22.64590108,
                        "remaining_time": 14.2968413,
                        "test": [
                          0.00002891891058
                        ]
                      },
                      {
                        "learn": [
                          0.00002685136826
                        ],
                        "iteration": 613,
                        "passed_time": 22.65979828,
                        "remaining_time": 14.24541064,
                        "test": [
                          0.00002888673536
                        ]
                      },
                      {
                        "learn": [
                          0.00002682347046
                        ],
                        "iteration": 614,
                        "passed_time": 22.67876696,
                        "remaining_time": 14.19727688,
                        "test": [
                          0.00002885455705
                        ]
                      },
                      {
                        "learn": [
                          0.00002679551372
                        ],
                        "iteration": 615,
                        "passed_time": 22.69276288,
                        "remaining_time": 14.1461379,
                        "test": [
                          0.00002884001259
                        ]
                      },
                      {
                        "learn": [
                          0.00002675528927
                        ],
                        "iteration": 616,
                        "passed_time": 22.71260874,
                        "remaining_time": 14.09875065,
                        "test": [
                          0.00002879470736
                        ]
                      },
                      {
                        "learn": [
                          0.00002659623085
                        ],
                        "iteration": 617,
                        "passed_time": 22.72662115,
                        "remaining_time": 14.04784673,
                        "test": [
                          0.00002863081319
                        ]
                      },
                      {
                        "learn": [
                          0.00002655631659
                        ],
                        "iteration": 618,
                        "passed_time": 22.74503419,
                        "remaining_time": 13.99977064,
                        "test": [
                          0.00002858582124
                        ]
                      },
                      {
                        "learn": [
                          0.00002651651398
                        ],
                        "iteration": 619,
                        "passed_time": 22.75950699,
                        "remaining_time": 13.94937525,
                        "test": [
                          0.00002854100299
                        ]
                      },
                      {
                        "learn": [
                          0.00002648927377
                        ],
                        "iteration": 620,
                        "passed_time": 22.79626024,
                        "remaining_time": 13.91269345,
                        "test": [
                          0.00002850961564
                        ]
                      },
                      {
                        "learn": [
                          0.00002646207388
                        ],
                        "iteration": 621,
                        "passed_time": 22.85677874,
                        "remaining_time": 13.89045396,
                        "test": [
                          0.00002847840509
                        ]
                      },
                      {
                        "learn": [
                          0.00002630381573
                        ],
                        "iteration": 622,
                        "passed_time": 22.9700354,
                        "remaining_time": 13.90000537,
                        "test": [
                          0.00002831510958
                        ]
                      },
                      {
                        "learn": [
                          0.0000262646521
                        ],
                        "iteration": 623,
                        "passed_time": 23.03027776,
                        "remaining_time": 13.87721865,
                        "test": [
                          0.00002827117845
                        ]
                      },
                      {
                        "learn": [
                          0.00002623775309
                        ],
                        "iteration": 624,
                        "passed_time": 23.06936679,
                        "remaining_time": 13.84162007,
                        "test": [
                          0.00002824421119
                        ]
                      },
                      {
                        "learn": [
                          0.00002621077652
                        ],
                        "iteration": 625,
                        "passed_time": 23.10030508,
                        "remaining_time": 13.80114074,
                        "test": [
                          0.00002821753551
                        ]
                      },
                      {
                        "learn": [
                          0.00002618634346
                        ],
                        "iteration": 626,
                        "passed_time": 23.13449222,
                        "remaining_time": 13.76262456,
                        "test": [
                          0.00002818653278
                        ]
                      },
                      {
                        "learn": [
                          0.00002615403176
                        ],
                        "iteration": 627,
                        "passed_time": 23.21684029,
                        "remaining_time": 13.75265062,
                        "test": [
                          0.00002814752424
                        ]
                      },
                      {
                        "learn": [
                          0.00002612738399
                        ],
                        "iteration": 628,
                        "passed_time": 23.28217324,
                        "remaining_time": 13.73241061,
                        "test": [
                          0.00002812104708
                        ]
                      },
                      {
                        "learn": [
                          0.00002608904235
                        ],
                        "iteration": 629,
                        "passed_time": 23.32670927,
                        "remaining_time": 13.69981338,
                        "test": [
                          0.00002807782937
                        ]
                      },
                      {
                        "learn": [
                          0.00002605073793
                        ],
                        "iteration": 630,
                        "passed_time": 23.34429769,
                        "remaining_time": 13.65141973,
                        "test": [
                          0.00002803478536
                        ]
                      },
                      {
                        "learn": [
                          0.00002601260101
                        ],
                        "iteration": 631,
                        "passed_time": 23.35816198,
                        "remaining_time": 13.60095508,
                        "test": [
                          0.00002799207324
                        ]
                      },
                      {
                        "learn": [
                          0.00002585566889
                        ],
                        "iteration": 632,
                        "passed_time": 23.37719047,
                        "remaining_time": 13.55360016,
                        "test": [
                          0.0000278304124
                        ]
                      },
                      {
                        "learn": [
                          0.00002582965389
                        ],
                        "iteration": 633,
                        "passed_time": 23.3922649,
                        "remaining_time": 13.50405198,
                        "test": [
                          0.00002780431675
                        ]
                      },
                      {
                        "learn": [
                          0.00002579186127
                        ],
                        "iteration": 634,
                        "passed_time": 23.41592434,
                        "remaining_time": 13.45954706,
                        "test": [
                          0.00002776197376
                        ]
                      },
                      {
                        "learn": [
                          0.00002575432455
                        ],
                        "iteration": 635,
                        "passed_time": 23.42986341,
                        "remaining_time": 13.40954447,
                        "test": [
                          0.00002772002159
                        ]
                      },
                      {
                        "learn": [
                          0.00002572857786
                        ],
                        "iteration": 636,
                        "passed_time": 23.4540093,
                        "remaining_time": 13.36547155,
                        "test": [
                          0.00002769028751
                        ]
                      },
                      {
                        "learn": [
                          0.0000255840732
                        ],
                        "iteration": 637,
                        "passed_time": 23.46886389,
                        "remaining_time": 13.31618923,
                        "test": [
                          0.00002754175048
                        ]
                      },
                      {
                        "learn": [
                          0.00002555836994
                        ],
                        "iteration": 638,
                        "passed_time": 23.49180782,
                        "remaining_time": 13.2715847,
                        "test": [
                          0.00002751586266
                        ]
                      },
                      {
                        "learn": [
                          0.0000255327923
                        ],
                        "iteration": 639,
                        "passed_time": 23.51154996,
                        "remaining_time": 13.22524685,
                        "test": [
                          0.00002749044941
                        ]
                      },
                      {
                        "learn": [
                          0.00002550724103
                        ],
                        "iteration": 640,
                        "passed_time": 23.53635624,
                        "remaining_time": 13.18182822,
                        "test": [
                          0.00002746484696
                        ]
                      },
                      {
                        "learn": [
                          0.0000254703774
                        ],
                        "iteration": 641,
                        "passed_time": 23.55643306,
                        "remaining_time": 13.13583027,
                        "test": [
                          0.00002742340349
                        ]
                      },
                      {
                        "learn": [
                          0.0000254336394
                        ],
                        "iteration": 642,
                        "passed_time": 23.58950374,
                        "remaining_time": 13.09712727,
                        "test": [
                          0.00002738232604
                        ]
                      },
                      {
                        "learn": [
                          0.000025408541
                        ],
                        "iteration": 643,
                        "passed_time": 23.61314488,
                        "remaining_time": 13.05322916,
                        "test": [
                          0.00002735337672
                        ]
                      },
                      {
                        "learn": [
                          0.00002537211473
                        ],
                        "iteration": 644,
                        "passed_time": 23.65198858,
                        "remaining_time": 13.01776116,
                        "test": [
                          0.00002731239232
                        ]
                      },
                      {
                        "learn": [
                          0.00002535175746
                        ],
                        "iteration": 645,
                        "passed_time": 23.68422397,
                        "remaining_time": 12.97866143,
                        "test": [
                          0.00002728729237
                        ]
                      },
                      {
                        "learn": [
                          0.00002531555297
                        ],
                        "iteration": 646,
                        "passed_time": 23.70835278,
                        "remaining_time": 12.93516002,
                        "test": [
                          0.00002724643204
                        ]
                      },
                      {
                        "learn": [
                          0.00002529069186
                        ],
                        "iteration": 647,
                        "passed_time": 23.7321082,
                        "remaining_time": 12.89151557,
                        "test": [
                          0.00002722179736
                        ]
                      },
                      {
                        "learn": [
                          0.00002526588967
                        ],
                        "iteration": 648,
                        "passed_time": 23.79492463,
                        "remaining_time": 12.86905785,
                        "test": [
                          0.00002719324507
                        ]
                      },
                      {
                        "learn": [
                          0.00002511109937
                        ],
                        "iteration": 649,
                        "passed_time": 23.84797912,
                        "remaining_time": 12.84121953,
                        "test": [
                          0.00002703394471
                        ]
                      },
                      {
                        "learn": [
                          0.00002508648329
                        ],
                        "iteration": 650,
                        "passed_time": 23.89911646,
                        "remaining_time": 12.81227595,
                        "test": [
                          0.00002700549478
                        ]
                      },
                      {
                        "learn": [
                          0.0000250509426
                        ],
                        "iteration": 651,
                        "passed_time": 23.94855694,
                        "remaining_time": 12.78235861,
                        "test": [
                          0.00002696559913
                        ]
                      },
                      {
                        "learn": [
                          0.00002501540035
                        ],
                        "iteration": 652,
                        "passed_time": 24.02022295,
                        "remaining_time": 12.76419198,
                        "test": [
                          0.00002692560421
                        ]
                      },
                      {
                        "learn": [
                          0.00002499117045
                        ],
                        "iteration": 653,
                        "passed_time": 24.08071155,
                        "remaining_time": 12.73994831,
                        "test": [
                          0.00002689764127
                        ]
                      },
                      {
                        "learn": [
                          0.00002484791583
                        ],
                        "iteration": 654,
                        "passed_time": 24.17042993,
                        "remaining_time": 12.73098981,
                        "test": [
                          0.00002675086917
                        ]
                      },
                      {
                        "learn": [
                          0.00002481279543
                        ],
                        "iteration": 655,
                        "passed_time": 24.21982064,
                        "remaining_time": 12.70063765,
                        "test": [
                          0.00002671115653
                        ]
                      },
                      {
                        "learn": [
                          0.0000247886896
                        ],
                        "iteration": 656,
                        "passed_time": 24.27630572,
                        "remaining_time": 12.67393129,
                        "test": [
                          0.00002668358752
                        ]
                      },
                      {
                        "learn": [
                          0.00002476470475
                        ],
                        "iteration": 657,
                        "passed_time": 24.29572471,
                        "remaining_time": 12.62786908,
                        "test": [
                          0.0000266560092
                        ]
                      },
                      {
                        "learn": [
                          0.00002473455037
                        ],
                        "iteration": 658,
                        "passed_time": 24.31620756,
                        "remaining_time": 12.58243821,
                        "test": [
                          0.00002661974578
                        ]
                      },
                      {
                        "learn": [
                          0.00002469992471
                        ],
                        "iteration": 659,
                        "passed_time": 24.37773953,
                        "remaining_time": 12.55822946,
                        "test": [
                          0.00002658084271
                        ]
                      },
                      {
                        "learn": [
                          0.00002466536109
                        ],
                        "iteration": 660,
                        "passed_time": 24.40336137,
                        "remaining_time": 12.51549093,
                        "test": [
                          0.00002654212884
                        ]
                      },
                      {
                        "learn": [
                          0.00002464160422
                        ],
                        "iteration": 661,
                        "passed_time": 24.42965151,
                        "remaining_time": 12.47314533,
                        "test": [
                          0.00002651848674
                        ]
                      },
                      {
                        "learn": [
                          0.00002460731046
                        ],
                        "iteration": 662,
                        "passed_time": 24.45748578,
                        "remaining_time": 12.43163304,
                        "test": [
                          0.00002648007066
                        ]
                      },
                      {
                        "learn": [
                          0.00002457318109
                        ],
                        "iteration": 663,
                        "passed_time": 24.49942648,
                        "remaining_time": 12.39730015,
                        "test": [
                          0.00002644165147
                        ]
                      },
                      {
                        "learn": [
                          0.0000245452135
                        ],
                        "iteration": 664,
                        "passed_time": 24.5522412,
                        "remaining_time": 12.36842226,
                        "test": [
                          0.00002640942352
                        ]
                      },
                      {
                        "learn": [
                          0.00002452187228
                        ],
                        "iteration": 665,
                        "passed_time": 24.6101692,
                        "remaining_time": 12.34203681,
                        "test": [
                          0.00002638253071
                        ]
                      },
                      {
                        "learn": [
                          0.00002436908885
                        ],
                        "iteration": 666,
                        "passed_time": 24.677857,
                        "remaining_time": 12.32042936,
                        "test": [
                          0.00002622578935
                        ]
                      },
                      {
                        "learn": [
                          0.00002433548214
                        ],
                        "iteration": 667,
                        "passed_time": 24.73134103,
                        "remaining_time": 12.29162458,
                        "test": [
                          0.00002618765863
                        ]
                      },
                      {
                        "learn": [
                          0.00002430188784
                        ],
                        "iteration": 668,
                        "passed_time": 24.7843632,
                        "remaining_time": 12.26251752,
                        "test": [
                          0.00002615012036
                        ]
                      },
                      {
                        "learn": [
                          0.00002426852927
                        ],
                        "iteration": 669,
                        "passed_time": 24.84509326,
                        "remaining_time": 12.23713548,
                        "test": [
                          0.00002611260691
                        ]
                      },
                      {
                        "learn": [
                          0.0000242352467
                        ],
                        "iteration": 670,
                        "passed_time": 24.89810921,
                        "remaining_time": 12.20786577,
                        "test": [
                          0.00002607545636
                        ]
                      },
                      {
                        "learn": [
                          0.00002408873206
                        ],
                        "iteration": 671,
                        "passed_time": 24.95110299,
                        "remaining_time": 12.17851456,
                        "test": [
                          0.00002592295985
                        ]
                      },
                      {
                        "learn": [
                          0.00002405565576
                        ],
                        "iteration": 672,
                        "passed_time": 25.05482169,
                        "remaining_time": 12.17373951,
                        "test": [
                          0.00002588590857
                        ]
                      },
                      {
                        "learn": [
                          0.000024028673
                        ],
                        "iteration": 673,
                        "passed_time": 25.08649355,
                        "remaining_time": 12.13382329,
                        "test": [
                          0.00002585486396
                        ]
                      },
                      {
                        "learn": [
                          0.00002399590533
                        ],
                        "iteration": 674,
                        "passed_time": 25.11038067,
                        "remaining_time": 12.09018329,
                        "test": [
                          0.00002581830587
                        ]
                      },
                      {
                        "learn": [
                          0.00002397336283
                        ],
                        "iteration": 675,
                        "passed_time": 25.13819752,
                        "remaining_time": 12.0484852,
                        "test": [
                          0.00002579218541
                        ]
                      },
                      {
                        "learn": [
                          0.00002395083118
                        ],
                        "iteration": 676,
                        "passed_time": 25.19820938,
                        "remaining_time": 12.02218852,
                        "test": [
                          0.00002576981661
                        ]
                      },
                      {
                        "learn": [
                          0.00002392847169
                        ],
                        "iteration": 677,
                        "passed_time": 25.2319737,
                        "remaining_time": 11.98332674,
                        "test": [
                          0.00002574402184
                        ]
                      },
                      {
                        "learn": [
                          0.00002389604212
                        ],
                        "iteration": 678,
                        "passed_time": 25.24733368,
                        "remaining_time": 11.93577925,
                        "test": [
                          0.00002570756301
                        ]
                      },
                      {
                        "learn": [
                          0.00002386376764
                        ],
                        "iteration": 679,
                        "passed_time": 25.26322855,
                        "remaining_time": 11.88857814,
                        "test": [
                          0.00002567129959
                        ]
                      },
                      {
                        "learn": [
                          0.00002383161414
                        ],
                        "iteration": 680,
                        "passed_time": 25.27516884,
                        "remaining_time": 11.83961654,
                        "test": [
                          0.00002563533704
                        ]
                      },
                      {
                        "learn": [
                          0.00002380947642
                        ],
                        "iteration": 681,
                        "passed_time": 25.29304699,
                        "remaining_time": 11.79353218,
                        "test": [
                          0.00002560993311
                        ]
                      },
                      {
                        "learn": [
                          0.00002378740384
                        ],
                        "iteration": 682,
                        "passed_time": 25.30691244,
                        "remaining_time": 11.745668,
                        "test": [
                          0.00002558784657
                        ]
                      },
                      {
                        "learn": [
                          0.00002376550652
                        ],
                        "iteration": 683,
                        "passed_time": 25.33506067,
                        "remaining_time": 11.70450171,
                        "test": [
                          0.00002556242557
                        ]
                      },
                      {
                        "learn": [
                          0.00002361474703
                        ],
                        "iteration": 684,
                        "passed_time": 25.3711318,
                        "remaining_time": 11.66701682,
                        "test": [
                          0.00002540784154
                        ]
                      },
                      {
                        "learn": [
                          0.00002359280318
                        ],
                        "iteration": 685,
                        "passed_time": 25.46390919,
                        "remaining_time": 11.65549196,
                        "test": [
                          0.00002538607914
                        ]
                      },
                      {
                        "learn": [
                          0.00002357105009
                        ],
                        "iteration": 686,
                        "passed_time": 25.53003478,
                        "remaining_time": 11.6315879,
                        "test": [
                          0.00002536094506
                        ]
                      },
                      {
                        "learn": [
                          0.00002354934663
                        ],
                        "iteration": 687,
                        "passed_time": 25.60365164,
                        "remaining_time": 11.6109583,
                        "test": [
                          0.00002533592885
                        ]
                      },
                      {
                        "learn": [
                          0.00002351797943
                        ],
                        "iteration": 688,
                        "passed_time": 25.66418295,
                        "remaining_time": 11.58426836,
                        "test": [
                          0.00002530083947
                        ]
                      },
                      {
                        "learn": [
                          0.00002349635197
                        ],
                        "iteration": 689,
                        "passed_time": 25.73691199,
                        "remaining_time": 11.56296046,
                        "test": [
                          0.00002527916548
                        ]
                      },
                      {
                        "learn": [
                          0.0000233462268
                        ],
                        "iteration": 690,
                        "passed_time": 25.78369517,
                        "remaining_time": 11.52990131,
                        "test": [
                          0.0000251252778
                        ]
                      },
                      {
                        "learn": [
                          0.0000233151
                        ],
                        "iteration": 691,
                        "passed_time": 25.79757072,
                        "remaining_time": 11.48215576,
                        "test": [
                          0.00002509030009
                        ]
                      },
                      {
                        "learn": [
                          0.00002328415466
                        ],
                        "iteration": 692,
                        "passed_time": 25.81188258,
                        "remaining_time": 11.43470123,
                        "test": [
                          0.00002505561084
                        ]
                      },
                      {
                        "learn": [
                          0.00002326277379
                        ],
                        "iteration": 693,
                        "passed_time": 25.82856343,
                        "remaining_time": 11.38838676,
                        "test": [
                          0.00002503431992
                        ]
                      },
                      {
                        "learn": [
                          0.00002324164106
                        ],
                        "iteration": 694,
                        "passed_time": 25.84726753,
                        "remaining_time": 11.34304546,
                        "test": [
                          0.00002500988531
                        ]
                      },
                      {
                        "learn": [
                          0.00002322447092
                        ],
                        "iteration": 695,
                        "passed_time": 25.86243822,
                        "remaining_time": 11.29623739,
                        "test": [
                          0.00002498869985
                        ]
                      },
                      {
                        "learn": [
                          0.00002320323428
                        ],
                        "iteration": 696,
                        "passed_time": 25.8906463,
                        "remaining_time": 11.2551877,
                        "test": [
                          0.00002496456611
                        ]
                      },
                      {
                        "learn": [
                          0.00002318227526
                        ],
                        "iteration": 697,
                        "passed_time": 25.91688548,
                        "remaining_time": 11.21332294,
                        "test": [
                          0.000024940223
                        ]
                      },
                      {
                        "learn": [
                          0.00002315184171
                        ],
                        "iteration": 698,
                        "passed_time": 25.98212469,
                        "remaining_time": 11.1882969,
                        "test": [
                          0.00002490593234
                        ]
                      },
                      {
                        "learn": [
                          0.00002313080514
                        ],
                        "iteration": 699,
                        "passed_time": 26.02572963,
                        "remaining_time": 11.15388413,
                        "test": [
                          0.00002488504
                        ]
                      },
                      {
                        "learn": [
                          0.0000231099826
                        ],
                        "iteration": 700,
                        "passed_time": 26.07070864,
                        "remaining_time": 11.12003122,
                        "test": [
                          0.00002486099467
                        ]
                      },
                      {
                        "learn": [
                          0.00002308911663
                        ],
                        "iteration": 701,
                        "passed_time": 26.1172191,
                        "remaining_time": 11.08679671,
                        "test": [
                          0.00002484021555
                        ]
                      },
                      {
                        "learn": [
                          0.00002306847089
                        ],
                        "iteration": 702,
                        "passed_time": 26.13754612,
                        "remaining_time": 11.04246259,
                        "test": [
                          0.00002481646178
                        ]
                      },
                      {
                        "learn": [
                          0.00002303833047
                        ],
                        "iteration": 703,
                        "passed_time": 26.15201472,
                        "remaining_time": 10.99573346,
                        "test": [
                          0.00002478245028
                        ]
                      },
                      {
                        "learn": [
                          0.00002288943673
                        ],
                        "iteration": 704,
                        "passed_time": 26.16894471,
                        "remaining_time": 10.9501258,
                        "test": [
                          0.00002463003597
                        ]
                      },
                      {
                        "learn": [
                          0.00002286886388
                        ],
                        "iteration": 705,
                        "passed_time": 26.18688234,
                        "remaining_time": 10.90501899,
                        "test": [
                          0.00002460954377
                        ]
                      },
                      {
                        "learn": [
                          0.00002284836548
                        ],
                        "iteration": 706,
                        "passed_time": 26.20669599,
                        "remaining_time": 10.86076652,
                        "test": [
                          0.00002458598852
                        ]
                      },
                      {
                        "learn": [
                          0.00002281881441
                        ],
                        "iteration": 707,
                        "passed_time": 26.22110869,
                        "remaining_time": 10.81435556,
                        "test": [
                          0.00002455257413
                        ]
                      },
                      {
                        "learn": [
                          0.00002279834237
                        ],
                        "iteration": 708,
                        "passed_time": 26.23537192,
                        "remaining_time": 10.76797353,
                        "test": [
                          0.00002453237505
                        ]
                      },
                      {
                        "learn": [
                          0.00002277969731
                        ],
                        "iteration": 709,
                        "passed_time": 26.2697206,
                        "remaining_time": 10.72988588,
                        "test": [
                          0.00002450891596
                        ]
                      },
                      {
                        "learn": [
                          0.00002263127659
                        ],
                        "iteration": 710,
                        "passed_time": 26.31445811,
                        "remaining_time": 10.6960315,
                        "test": [
                          0.00002435679787
                        ]
                      },
                      {
                        "learn": [
                          0.00002261117833
                        ],
                        "iteration": 711,
                        "passed_time": 26.33520102,
                        "remaining_time": 10.65244086,
                        "test": [
                          0.00002433383662
                        ]
                      },
                      {
                        "learn": [
                          0.00002259358478
                        ],
                        "iteration": 712,
                        "passed_time": 26.35576192,
                        "remaining_time": 10.60884105,
                        "test": [
                          0.00002432396972
                        ]
                      },
                      {
                        "learn": [
                          0.00002257355165
                        ],
                        "iteration": 713,
                        "passed_time": 26.40628816,
                        "remaining_time": 10.5773087,
                        "test": [
                          0.00002430396451
                        ]
                      },
                      {
                        "learn": [
                          0.0000225482811
                        ],
                        "iteration": 714,
                        "passed_time": 26.44917421,
                        "remaining_time": 10.54267783,
                        "test": [
                          0.00002427399469
                        ]
                      },
                      {
                        "learn": [
                          0.00002251934884
                        ],
                        "iteration": 715,
                        "passed_time": 26.47514518,
                        "remaining_time": 10.50131457,
                        "test": [
                          0.0000242413635
                        ]
                      },
                      {
                        "learn": [
                          0.00002249948941
                        ],
                        "iteration": 716,
                        "passed_time": 26.48778539,
                        "remaining_time": 10.45473259,
                        "test": [
                          0.00002421849686
                        ]
                      },
                      {
                        "learn": [
                          0.00002248120261
                        ],
                        "iteration": 717,
                        "passed_time": 26.51389119,
                        "remaining_time": 10.41353386,
                        "test": [
                          0.00002419553406
                        ]
                      },
                      {
                        "learn": [
                          0.00002245254486
                        ],
                        "iteration": 718,
                        "passed_time": 26.54148354,
                        "remaining_time": 10.3729581,
                        "test": [
                          0.00002416332162
                        ]
                      },
                      {
                        "learn": [
                          0.00002242382817
                        ],
                        "iteration": 719,
                        "passed_time": 26.55972014,
                        "remaining_time": 10.32878005,
                        "test": [
                          0.00002413116501
                        ]
                      },
                      {
                        "learn": [
                          0.00002240009302
                        ],
                        "iteration": 720,
                        "passed_time": 26.57423646,
                        "remaining_time": 10.28323436,
                        "test": [
                          0.00002411282703
                        ]
                      },
                      {
                        "learn": [
                          0.00002238052982
                        ],
                        "iteration": 721,
                        "passed_time": 26.5997491,
                        "remaining_time": 10.24200866,
                        "test": [
                          0.00002409005654
                        ]
                      },
                      {
                        "learn": [
                          0.00002236096041
                        ],
                        "iteration": 722,
                        "passed_time": 26.63753564,
                        "remaining_time": 10.20552887,
                        "test": [
                          0.00002406778234
                        ]
                      },
                      {
                        "learn": [
                          0.0000223414639
                        ],
                        "iteration": 723,
                        "passed_time": 26.6546168,
                        "remaining_time": 10.16115226,
                        "test": [
                          0.00002404520417
                        ]
                      },
                      {
                        "learn": [
                          0.00002231327607
                        ],
                        "iteration": 724,
                        "passed_time": 26.68214381,
                        "remaining_time": 10.12081317,
                        "test": [
                          0.00002401366482
                        ]
                      },
                      {
                        "learn": [
                          0.00002217497971
                        ],
                        "iteration": 725,
                        "passed_time": 26.73664774,
                        "remaining_time": 10.09069074,
                        "test": [
                          0.00002387218754
                        ]
                      },
                      {
                        "learn": [
                          0.00002214690356
                        ],
                        "iteration": 726,
                        "passed_time": 26.76892405,
                        "remaining_time": 10.05215442,
                        "test": [
                          0.00002384062494
                        ]
                      },
                      {
                        "learn": [
                          0.00002212765519
                        ],
                        "iteration": 727,
                        "passed_time": 26.78567084,
                        "remaining_time": 10.00783306,
                        "test": [
                          0.0000238184562
                        ]
                      },
                      {
                        "learn": [
                          0.00002209972482
                        ],
                        "iteration": 728,
                        "passed_time": 26.86487544,
                        "remaining_time": 9.986805547,
                        "test": [
                          0.00002378730148
                        ]
                      },
                      {
                        "learn": [
                          0.00002207197125
                        ],
                        "iteration": 729,
                        "passed_time": 26.91819986,
                        "remaining_time": 9.956046525,
                        "test": [
                          0.0000237558676
                        ]
                      },
                      {
                        "learn": [
                          0.00002204419287
                        ],
                        "iteration": 730,
                        "passed_time": 26.97235063,
                        "remaining_time": 9.925529848,
                        "test": [
                          0.00002372489589
                        ]
                      },
                      {
                        "learn": [
                          0.00002190788167
                        ],
                        "iteration": 731,
                        "passed_time": 27.02537321,
                        "remaining_time": 9.894535546,
                        "test": [
                          0.00002358410566
                        ]
                      },
                      {
                        "learn": [
                          0.00002188893418
                        ],
                        "iteration": 732,
                        "passed_time": 27.07847987,
                        "remaining_time": 9.863511767,
                        "test": [
                          0.00002356508528
                        ]
                      },
                      {
                        "learn": [
                          0.00002186994016
                        ],
                        "iteration": 733,
                        "passed_time": 27.13778151,
                        "remaining_time": 9.834672865,
                        "test": [
                          0.00002354626186
                        ]
                      },
                      {
                        "learn": [
                          0.00002185099112
                        ],
                        "iteration": 734,
                        "passed_time": 27.19079088,
                        "remaining_time": 9.803482428,
                        "test": [
                          0.00002352446535
                        ]
                      },
                      {
                        "learn": [
                          0.00002183213359
                        ],
                        "iteration": 735,
                        "passed_time": 27.21974058,
                        "remaining_time": 9.7636026,
                        "test": [
                          0.00002350564038
                        ]
                      },
                      {
                        "learn": [
                          0.00002181335825
                        ],
                        "iteration": 736,
                        "passed_time": 27.23685247,
                        "remaining_time": 9.719528085,
                        "test": [
                          0.00002348691777
                        ]
                      },
                      {
                        "learn": [
                          0.00002179452087
                        ],
                        "iteration": 737,
                        "passed_time": 27.2584536,
                        "remaining_time": 9.677120384,
                        "test": [
                          0.00002346818586
                        ]
                      },
                      {
                        "learn": [
                          0.00002177791991
                        ],
                        "iteration": 738,
                        "passed_time": 27.27352176,
                        "remaining_time": 9.632461678,
                        "test": [
                          0.00002344956251
                        ]
                      },
                      {
                        "learn": [
                          0.00002175928415
                        ],
                        "iteration": 739,
                        "passed_time": 27.29250212,
                        "remaining_time": 9.589257501,
                        "test": [
                          0.00002342808238
                        ]
                      },
                      {
                        "learn": [
                          0.00002173227502
                        ],
                        "iteration": 740,
                        "passed_time": 27.3114072,
                        "remaining_time": 9.546092395,
                        "test": [
                          0.00002339761161
                        ]
                      },
                      {
                        "learn": [
                          0.00002171376489
                        ],
                        "iteration": 741,
                        "passed_time": 27.33303035,
                        "remaining_time": 9.503937778,
                        "test": [
                          0.00002337918523
                        ]
                      },
                      {
                        "learn": [
                          0.00002168681314
                        ],
                        "iteration": 742,
                        "passed_time": 27.37850738,
                        "remaining_time": 9.470089362,
                        "test": [
                          0.00002334900293
                        ]
                      },
                      {
                        "learn": [
                          0.00002166010024
                        ],
                        "iteration": 743,
                        "passed_time": 27.42088258,
                        "remaining_time": 9.435142394,
                        "test": [
                          0.00002331883149
                        ]
                      },
                      {
                        "learn": [
                          0.00002164170487
                        ],
                        "iteration": 744,
                        "passed_time": 27.46279895,
                        "remaining_time": 9.400018432,
                        "test": [
                          0.00002330048731
                        ]
                      },
                      {
                        "learn": [
                          0.00002162334363
                        ],
                        "iteration": 745,
                        "passed_time": 27.5050256,
                        "remaining_time": 9.364981906,
                        "test": [
                          0.00002328216173
                        ]
                      },
                      {
                        "learn": [
                          0.00002159681063
                        ],
                        "iteration": 746,
                        "passed_time": 27.54661117,
                        "remaining_time": 9.329709004,
                        "test": [
                          0.00002325229427
                        ]
                      },
                      {
                        "learn": [
                          0.00002157853468
                        ],
                        "iteration": 747,
                        "passed_time": 27.59248771,
                        "remaining_time": 9.295864844,
                        "test": [
                          0.00002323425097
                        ]
                      },
                      {
                        "learn": [
                          0.00002143321424
                        ],
                        "iteration": 748,
                        "passed_time": 27.63541533,
                        "remaining_time": 9.261000332,
                        "test": [
                          0.00002308546113
                        ]
                      },
                      {
                        "learn": [
                          0.00002141516938
                        ],
                        "iteration": 749,
                        "passed_time": 27.69293984,
                        "remaining_time": 9.230979946,
                        "test": [
                          0.00002306476577
                        ]
                      },
                      {
                        "learn": [
                          0.00002138893571
                        ],
                        "iteration": 750,
                        "passed_time": 27.74443771,
                        "remaining_time": 9.198888136,
                        "test": [
                          0.00002303517902
                        ]
                      },
                      {
                        "learn": [
                          0.00002136282455
                        ],
                        "iteration": 751,
                        "passed_time": 27.7937169,
                        "remaining_time": 9.166013021,
                        "test": [
                          0.00002300578459
                        ]
                      },
                      {
                        "learn": [
                          0.00002134485879
                        ],
                        "iteration": 752,
                        "passed_time": 27.83853872,
                        "remaining_time": 9.131632223,
                        "test": [
                          0.00002298785139
                        ]
                      },
                      {
                        "learn": [
                          0.00002132695972
                        ],
                        "iteration": 753,
                        "passed_time": 27.91310347,
                        "remaining_time": 9.106927658,
                        "test": [
                          0.00002296743984
                        ]
                      },
                      {
                        "learn": [
                          0.00002118208904
                        ],
                        "iteration": 754,
                        "passed_time": 27.96832108,
                        "remaining_time": 9.075812801,
                        "test": [
                          0.0000228192347
                        ]
                      },
                      {
                        "learn": [
                          0.00002116429853
                        ],
                        "iteration": 755,
                        "passed_time": 28.0202319,
                        "remaining_time": 9.043566909,
                        "test": [
                          0.00002280139767
                        ]
                      },
                      {
                        "learn": [
                          0.00002113857355
                        ],
                        "iteration": 756,
                        "passed_time": 28.07143247,
                        "remaining_time": 9.011041071,
                        "test": [
                          0.00002277239717
                        ]
                      },
                      {
                        "learn": [
                          0.00002111282842
                        ],
                        "iteration": 757,
                        "passed_time": 28.15870329,
                        "remaining_time": 8.989981789,
                        "test": [
                          0.00002274351143
                        ]
                      },
                      {
                        "learn": [
                          0.00002109525659
                        ],
                        "iteration": 758,
                        "passed_time": 28.21175438,
                        "remaining_time": 8.957882484,
                        "test": [
                          0.0000227232922
                        ]
                      },
                      {
                        "learn": [
                          0.00002107765529
                        ],
                        "iteration": 759,
                        "passed_time": 28.26340126,
                        "remaining_time": 8.925284609,
                        "test": [
                          0.00002270576069
                        ]
                      },
                      {
                        "learn": [
                          0.00002105224049
                        ],
                        "iteration": 760,
                        "passed_time": 28.31670616,
                        "remaining_time": 8.893157388,
                        "test": [
                          0.00002267725803
                        ]
                      },
                      {
                        "learn": [
                          0.00002103478498
                        ],
                        "iteration": 761,
                        "passed_time": 28.36749287,
                        "remaining_time": 8.860188061,
                        "test": [
                          0.00002265694574
                        ]
                      },
                      {
                        "learn": [
                          0.00002101732947
                        ],
                        "iteration": 762,
                        "passed_time": 28.42135956,
                        "remaining_time": 8.828128722,
                        "test": [
                          0.00002263958018
                        ]
                      },
                      {
                        "learn": [
                          0.00002099203099
                        ],
                        "iteration": 763,
                        "passed_time": 28.47542165,
                        "remaining_time": 8.796072656,
                        "test": [
                          0.00002261108372
                        ]
                      },
                      {
                        "learn": [
                          0.00002097474918
                        ],
                        "iteration": 764,
                        "passed_time": 28.52946551,
                        "remaining_time": 8.763953457,
                        "test": [
                          0.00002259117001
                        ]
                      },
                      {
                        "learn": [
                          0.00002094962596
                        ],
                        "iteration": 765,
                        "passed_time": 28.58269912,
                        "remaining_time": 8.731529497,
                        "test": [
                          0.00002256295893
                        ]
                      },
                      {
                        "learn": [
                          0.00002092787287
                        ],
                        "iteration": 766,
                        "passed_time": 28.63563974,
                        "remaining_time": 8.698962267,
                        "test": [
                          0.00002253721534
                        ]
                      },
                      {
                        "learn": [
                          0.0000209030102
                        ],
                        "iteration": 767,
                        "passed_time": 28.68813781,
                        "remaining_time": 8.666208298,
                        "test": [
                          0.00002250900736
                        ]
                      },
                      {
                        "learn": [
                          0.00002088593466
                        ],
                        "iteration": 768,
                        "passed_time": 28.75213744,
                        "remaining_time": 8.63685793,
                        "test": [
                          0.00002248938057
                        ]
                      },
                      {
                        "learn": [
                          0.00002086884827
                        ],
                        "iteration": 769,
                        "passed_time": 28.81174215,
                        "remaining_time": 8.606104797,
                        "test": [
                          0.00002246975378
                        ]
                      },
                      {
                        "learn": [
                          0.00002084410812
                        ],
                        "iteration": 770,
                        "passed_time": 28.88096749,
                        "remaining_time": 8.578134314,
                        "test": [
                          0.00002244183891
                        ]
                      },
                      {
                        "learn": [
                          0.00002081940054
                        ],
                        "iteration": 771,
                        "passed_time": 28.96891344,
                        "remaining_time": 8.555585835,
                        "test": [
                          0.00002241393491
                        ]
                      },
                      {
                        "learn": [
                          0.00002067598307
                        ],
                        "iteration": 772,
                        "passed_time": 29.03170372,
                        "remaining_time": 8.52548091,
                        "test": [
                          0.00002226762964
                        ]
                      },
                      {
                        "learn": [
                          0.00002065899749
                        ],
                        "iteration": 773,
                        "passed_time": 29.11892226,
                        "remaining_time": 8.502424328,
                        "test": [
                          0.00002225067042
                        ]
                      },
                      {
                        "learn": [
                          0.00002063451324
                        ],
                        "iteration": 774,
                        "passed_time": 29.17291699,
                        "remaining_time": 8.469556545,
                        "test": [
                          0.00002222324719
                        ]
                      },
                      {
                        "learn": [
                          0.00002061021355
                        ],
                        "iteration": 775,
                        "passed_time": 29.20955727,
                        "remaining_time": 8.431624779,
                        "test": [
                          0.00002219593718
                        ]
                      },
                      {
                        "learn": [
                          0.00002058597745
                        ],
                        "iteration": 776,
                        "passed_time": 29.24305772,
                        "remaining_time": 8.392795202,
                        "test": [
                          0.00002216859771
                        ]
                      },
                      {
                        "learn": [
                          0.00002056935788
                        ],
                        "iteration": 777,
                        "passed_time": 29.27495851,
                        "remaining_time": 8.353522866,
                        "test": [
                          0.00002214956492
                        ]
                      },
                      {
                        "learn": [
                          0.0000204369038
                        ],
                        "iteration": 778,
                        "passed_time": 29.30517632,
                        "remaining_time": 8.313791998,
                        "test": [
                          0.00002201398576
                        ]
                      },
                      {
                        "learn": [
                          0.00002041277627
                        ],
                        "iteration": 779,
                        "passed_time": 29.3638644,
                        "remaining_time": 8.2821156,
                        "test": [
                          0.00002198687271
                        ]
                      },
                      {
                        "learn": [
                          0.00002039624045
                        ],
                        "iteration": 780,
                        "passed_time": 29.43229009,
                        "remaining_time": 8.253100549,
                        "test": [
                          0.00002196773756
                        ]
                      },
                      {
                        "learn": [
                          0.00002037229282
                        ],
                        "iteration": 781,
                        "passed_time": 29.4920575,
                        "remaining_time": 8.221571018,
                        "test": [
                          0.00002194070052
                        ]
                      },
                      {
                        "learn": [
                          0.0000203559431
                        ],
                        "iteration": 782,
                        "passed_time": 29.54523311,
                        "remaining_time": 8.188142509,
                        "test": [
                          0.0000219219593
                        ]
                      },
                      {
                        "learn": [
                          0.00002033206992
                        ],
                        "iteration": 783,
                        "passed_time": 29.56990422,
                        "remaining_time": 8.146810346,
                        "test": [
                          0.00002189504477
                        ]
                      },
                      {
                        "learn": [
                          0.00002031261063
                        ],
                        "iteration": 784,
                        "passed_time": 29.59974207,
                        "remaining_time": 8.106935725,
                        "test": [
                          0.00002187294428
                        ]
                      },
                      {
                        "learn": [
                          0.00002028890804
                        ],
                        "iteration": 785,
                        "passed_time": 29.63008085,
                        "remaining_time": 8.067223032,
                        "test": [
                          0.00002184620191
                        ]
                      },
                      {
                        "learn": [
                          0.00002027262967
                        ],
                        "iteration": 786,
                        "passed_time": 29.64927067,
                        "remaining_time": 8.024516712,
                        "test": [
                          0.00002182994835
                        ]
                      },
                      {
                        "learn": [
                          0.00002025640403
                        ],
                        "iteration": 787,
                        "passed_time": 29.67757474,
                        "remaining_time": 7.984322139,
                        "test": [
                          0.00002181130639
                        ]
                      },
                      {
                        "learn": [
                          0.00002023295424
                        ],
                        "iteration": 788,
                        "passed_time": 29.69560884,
                        "remaining_time": 7.941411236,
                        "test": [
                          0.00002178486644
                        ]
                      },
                      {
                        "learn": [
                          0.00002021682476
                        ],
                        "iteration": 789,
                        "passed_time": 29.71185529,
                        "remaining_time": 7.898088115,
                        "test": [
                          0.00002176622759
                        ]
                      },
                      {
                        "learn": [
                          0.00002020090155
                        ],
                        "iteration": 790,
                        "passed_time": 29.7534275,
                        "remaining_time": 7.861525093,
                        "test": [
                          0.00002174797956
                        ]
                      },
                      {
                        "learn": [
                          0.00002017751535
                        ],
                        "iteration": 791,
                        "passed_time": 29.78257861,
                        "remaining_time": 7.821687313,
                        "test": [
                          0.00002172173348
                        ]
                      },
                      {
                        "learn": [
                          0.00002015425942
                        ],
                        "iteration": 792,
                        "passed_time": 29.83983238,
                        "remaining_time": 7.789212236,
                        "test": [
                          0.00002169548739
                        ]
                      },
                      {
                        "learn": [
                          0.00002013830364
                        ],
                        "iteration": 793,
                        "passed_time": 29.85867758,
                        "remaining_time": 7.7467098,
                        "test": [
                          0.0000216770393
                        ]
                      },
                      {
                        "learn": [
                          0.00002011526329
                        ],
                        "iteration": 794,
                        "passed_time": 29.88827087,
                        "remaining_time": 7.707038401,
                        "test": [
                          0.00002165130347
                        ]
                      },
                      {
                        "learn": [
                          0.00002009230049
                        ],
                        "iteration": 795,
                        "passed_time": 29.938718,
                        "remaining_time": 7.672736773,
                        "test": [
                          0.00002162566069
                        ]
                      },
                      {
                        "learn": [
                          0.00002007649205
                        ],
                        "iteration": 796,
                        "passed_time": 30.02912673,
                        "remaining_time": 7.648573056,
                        "test": [
                          0.00002160720018
                        ]
                      },
                      {
                        "learn": [
                          0.0000200606681
                        ],
                        "iteration": 797,
                        "passed_time": 30.08634171,
                        "remaining_time": 7.615840884,
                        "test": [
                          0.00002159892762
                        ]
                      },
                      {
                        "learn": [
                          0.00001992600552
                        ],
                        "iteration": 798,
                        "passed_time": 30.15580892,
                        "remaining_time": 7.586129653,
                        "test": [
                          0.00002146187819
                        ]
                      },
                      {
                        "learn": [
                          0.00001991034441
                        ],
                        "iteration": 799,
                        "passed_time": 30.19947439,
                        "remaining_time": 7.549868598,
                        "test": [
                          0.00002144391243
                        ]
                      },
                      {
                        "learn": [
                          0.00001989470502
                        ],
                        "iteration": 800,
                        "passed_time": 30.23069838,
                        "remaining_time": 7.5104981,
                        "test": [
                          0.00002142576986
                        ]
                      },
                      {
                        "learn": [
                          0.00001987902375
                        ],
                        "iteration": 801,
                        "passed_time": 30.25888103,
                        "remaining_time": 7.470397063,
                        "test": [
                          0.0000214100948
                        ]
                      },
                      {
                        "learn": [
                          0.00001986351463
                        ],
                        "iteration": 802,
                        "passed_time": 30.27879424,
                        "remaining_time": 7.428296968,
                        "test": [
                          0.0000213922407
                        ]
                      },
                      {
                        "learn": [
                          0.00001984797759
                        ],
                        "iteration": 803,
                        "passed_time": 30.30970469,
                        "remaining_time": 7.388932983,
                        "test": [
                          0.00002137674709
                        ]
                      },
                      {
                        "learn": [
                          0.00001971356471
                        ],
                        "iteration": 804,
                        "passed_time": 30.33489495,
                        "remaining_time": 7.348204366,
                        "test": [
                          0.00002123999854
                        ]
                      },
                      {
                        "learn": [
                          0.00001969111371
                        ],
                        "iteration": 805,
                        "passed_time": 30.36722371,
                        "remaining_time": 7.309232505,
                        "test": [
                          0.00002121454032
                        ]
                      },
                      {
                        "learn": [
                          0.00001967559839
                        ],
                        "iteration": 806,
                        "passed_time": 30.39813878,
                        "remaining_time": 7.269939014,
                        "test": [
                          0.00002119935379
                        ]
                      },
                      {
                        "learn": [
                          0.00001966023661
                        ],
                        "iteration": 807,
                        "passed_time": 30.44669014,
                        "remaining_time": 7.234857064,
                        "test": [
                          0.00002118159895
                        ]
                      },
                      {
                        "learn": [
                          0.00001964497254
                        ],
                        "iteration": 808,
                        "passed_time": 30.49948014,
                        "remaining_time": 7.200742531,
                        "test": [
                          0.00002116384566
                        ]
                      },
                      {
                        "learn": [
                          0.00001962257582
                        ],
                        "iteration": 809,
                        "passed_time": 30.52823053,
                        "remaining_time": 7.160942964,
                        "test": [
                          0.00002113889149
                        ]
                      },
                      {
                        "learn": [
                          0.00001960737998
                        ],
                        "iteration": 810,
                        "passed_time": 30.60495506,
                        "remaining_time": 7.132350809,
                        "test": [
                          0.00002112349094
                        ]
                      },
                      {
                        "learn": [
                          0.00001959209109
                        ],
                        "iteration": 811,
                        "passed_time": 30.63916612,
                        "remaining_time": 7.093797082,
                        "test": [
                          0.00002110584156
                        ]
                      },
                      {
                        "learn": [
                          0.00001957822904
                        ],
                        "iteration": 812,
                        "passed_time": 30.69460958,
                        "remaining_time": 7.06013775,
                        "test": [
                          0.0000210885706
                        ]
                      },
                      {
                        "learn": [
                          0.0000195642941
                        ],
                        "iteration": 813,
                        "passed_time": 30.71488786,
                        "remaining_time": 7.01838961,
                        "test": [
                          0.00002107102204
                        ]
                      },
                      {
                        "learn": [
                          0.00001954927817
                        ],
                        "iteration": 814,
                        "passed_time": 30.76236255,
                        "remaining_time": 6.982867572,
                        "test": [
                          0.00002105355567
                        ]
                      },
                      {
                        "learn": [
                          0.00001953413197
                        ],
                        "iteration": 815,
                        "passed_time": 30.78137559,
                        "remaining_time": 6.940898418,
                        "test": [
                          0.00002103637932
                        ]
                      },
                      {
                        "learn": [
                          0.00001951218036
                        ],
                        "iteration": 816,
                        "passed_time": 30.83264659,
                        "remaining_time": 6.906210925,
                        "test": [
                          0.00002101171362
                        ]
                      },
                      {
                        "learn": [
                          0.00001949044278
                        ],
                        "iteration": 817,
                        "passed_time": 30.87560097,
                        "remaining_time": 6.86963249,
                        "test": [
                          0.00002098705722
                        ]
                      },
                      {
                        "learn": [
                          0.00001947541755
                        ],
                        "iteration": 818,
                        "passed_time": 30.90777424,
                        "remaining_time": 6.830655846,
                        "test": [
                          0.00002097215606
                        ]
                      },
                      {
                        "learn": [
                          0.00001946047606
                        ],
                        "iteration": 819,
                        "passed_time": 30.96397861,
                        "remaining_time": 6.796970915,
                        "test": [
                          0.00002095478895
                        ]
                      },
                      {
                        "learn": [
                          0.00001944565555
                        ],
                        "iteration": 820,
                        "passed_time": 31.07101791,
                        "remaining_time": 6.774314502,
                        "test": [
                          0.00002093773357
                        ]
                      },
                      {
                        "learn": [
                          0.00001943076369
                        ],
                        "iteration": 821,
                        "passed_time": 31.20703917,
                        "remaining_time": 6.757728678,
                        "test": [
                          0.00002092065648
                        ]
                      },
                      {
                        "learn": [
                          0.00001940917345
                        ],
                        "iteration": 822,
                        "passed_time": 31.26971948,
                        "remaining_time": 6.725079403,
                        "test": [
                          0.00002089640022
                        ]
                      },
                      {
                        "learn": [
                          0.00001939146203
                        ],
                        "iteration": 823,
                        "passed_time": 31.41596305,
                        "remaining_time": 6.710205701,
                        "test": [
                          0.00002087606931
                        ]
                      },
                      {
                        "learn": [
                          0.00001937670821
                        ],
                        "iteration": 824,
                        "passed_time": 31.50283027,
                        "remaining_time": 6.682418543,
                        "test": [
                          0.00002085909769
                        ]
                      },
                      {
                        "learn": [
                          0.0000193552684
                        ],
                        "iteration": 825,
                        "passed_time": 31.56157948,
                        "remaining_time": 6.648565169,
                        "test": [
                          0.00002083491897
                        ]
                      },
                      {
                        "learn": [
                          0.00001921862376
                        ],
                        "iteration": 826,
                        "passed_time": 31.65682659,
                        "remaining_time": 6.622286579,
                        "test": [
                          0.00002069449941
                        ]
                      },
                      {
                        "learn": [
                          0.00001919725995
                        ],
                        "iteration": 827,
                        "passed_time": 31.71791857,
                        "remaining_time": 6.58874637,
                        "test": [
                          0.00002067071618
                        ]
                      },
                      {
                        "learn": [
                          0.00001917611327
                        ],
                        "iteration": 828,
                        "passed_time": 31.79041893,
                        "remaining_time": 6.557492928,
                        "test": [
                          0.00002064683989
                        ]
                      },
                      {
                        "learn": [
                          0.00001916161534
                        ],
                        "iteration": 829,
                        "passed_time": 31.84613278,
                        "remaining_time": 6.522701895,
                        "test": [
                          0.00002063015363
                        ]
                      },
                      {
                        "learn": [
                          0.00001914720892
                        ],
                        "iteration": 830,
                        "passed_time": 31.91841253,
                        "remaining_time": 6.491229504,
                        "test": [
                          0.00002061339137
                        ]
                      },
                      {
                        "learn": [
                          0.00001912606224
                        ],
                        "iteration": 831,
                        "passed_time": 32.01367044,
                        "remaining_time": 6.464298839,
                        "test": [
                          0.00002058969809
                        ]
                      },
                      {
                        "learn": [
                          0.00001910494192
                        ],
                        "iteration": 832,
                        "passed_time": 32.12511955,
                        "remaining_time": 6.440450139,
                        "test": [
                          0.00002056612268
                        ]
                      },
                      {
                        "learn": [
                          0.00001896518305
                        ],
                        "iteration": 833,
                        "passed_time": 32.20305246,
                        "remaining_time": 6.409720273,
                        "test": [
                          0.0000204236249
                        ]
                      },
                      {
                        "learn": [
                          0.00001895073941
                        ],
                        "iteration": 834,
                        "passed_time": 32.27671992,
                        "remaining_time": 6.378034476,
                        "test": [
                          0.00002040944026
                        ]
                      },
                      {
                        "learn": [
                          0.00001893646016
                        ],
                        "iteration": 835,
                        "passed_time": 32.34122023,
                        "remaining_time": 6.344449901,
                        "test": [
                          0.0000203952277
                        ]
                      },
                      {
                        "learn": [
                          0.00001891563607
                        ],
                        "iteration": 836,
                        "passed_time": 32.40492202,
                        "remaining_time": 6.31063595,
                        "test": [
                          0.00002037173449
                        ]
                      },
                      {
                        "learn": [
                          0.00001889497792
                        ],
                        "iteration": 837,
                        "passed_time": 32.47988322,
                        "remaining_time": 6.278927305,
                        "test": [
                          0.00002034847701
                        ]
                      },
                      {
                        "learn": [
                          0.00001888077467
                        ],
                        "iteration": 838,
                        "passed_time": 32.55460956,
                        "remaining_time": 6.247070487,
                        "test": [
                          0.00002033218468
                        ]
                      },
                      {
                        "learn": [
                          0.00001886658693
                        ],
                        "iteration": 839,
                        "passed_time": 32.58387531,
                        "remaining_time": 6.20645244,
                        "test": [
                          0.00002032469533
                        ]
                      },
                      {
                        "learn": [
                          0.00001885252791
                        ],
                        "iteration": 840,
                        "passed_time": 32.63222374,
                        "remaining_time": 6.169469174,
                        "test": [
                          0.0000203083999
                        ]
                      },
                      {
                        "learn": [
                          0.00001883839135
                        ],
                        "iteration": 841,
                        "passed_time": 32.67177538,
                        "remaining_time": 6.130808206,
                        "test": [
                          0.00002029212618
                        ]
                      },
                      {
                        "learn": [
                          0.00001882430907
                        ],
                        "iteration": 842,
                        "passed_time": 32.70942314,
                        "remaining_time": 6.09179055,
                        "test": [
                          0.0000202758354
                        ]
                      },
                      {
                        "learn": [
                          0.0000188039518
                        ],
                        "iteration": 843,
                        "passed_time": 32.76841601,
                        "remaining_time": 6.056721442,
                        "test": [
                          0.00002025315022
                        ]
                      },
                      {
                        "learn": [
                          0.0000187836178
                        ],
                        "iteration": 844,
                        "passed_time": 32.82713191,
                        "remaining_time": 6.021544906,
                        "test": [
                          0.00002023014709
                        ]
                      },
                      {
                        "learn": [
                          0.00001876324502
                        ],
                        "iteration": 845,
                        "passed_time": 32.87398245,
                        "remaining_time": 5.984152834,
                        "test": [
                          0.00002020725563
                        ]
                      },
                      {
                        "learn": [
                          0.0000187430537
                        ],
                        "iteration": 846,
                        "passed_time": 32.91078779,
                        "remaining_time": 5.944923887,
                        "test": [
                          0.00002018454873
                        ]
                      },
                      {
                        "learn": [
                          0.00001872279724
                        ],
                        "iteration": 847,
                        "passed_time": 32.96071059,
                        "remaining_time": 5.908051898,
                        "test": [
                          0.00002016184183
                        ]
                      },
                      {
                        "learn": [
                          0.00001871051092
                        ],
                        "iteration": 848,
                        "passed_time": 33.02408506,
                        "remaining_time": 5.87354163,
                        "test": [
                          0.00002014794411
                        ]
                      },
                      {
                        "learn": [
                          0.00001869682412
                        ],
                        "iteration": 849,
                        "passed_time": 33.07285774,
                        "remaining_time": 5.83638666,
                        "test": [
                          0.00002013214962
                        ]
                      },
                      {
                        "learn": [
                          0.00001868300549
                        ],
                        "iteration": 850,
                        "passed_time": 33.11921528,
                        "remaining_time": 5.798781524,
                        "test": [
                          0.00002011626829
                        ]
                      },
                      {
                        "learn": [
                          0.00001866296771
                        ],
                        "iteration": 851,
                        "passed_time": 33.16425987,
                        "remaining_time": 5.760927771,
                        "test": [
                          0.00002009387157
                        ]
                      },
                      {
                        "learn": [
                          0.00001865105051
                        ],
                        "iteration": 852,
                        "passed_time": 33.22973518,
                        "remaining_time": 5.726578044,
                        "test": [
                          0.00002008734843
                        ]
                      },
                      {
                        "learn": [
                          0.00001863116006
                        ],
                        "iteration": 853,
                        "passed_time": 33.32692358,
                        "remaining_time": 5.697577099,
                        "test": [
                          0.00002006494086
                        ]
                      },
                      {
                        "learn": [
                          0.00001861908156
                        ],
                        "iteration": 854,
                        "passed_time": 33.39346887,
                        "remaining_time": 5.663219867,
                        "test": [
                          0.00002005142776
                        ]
                      },
                      {
                        "learn": [
                          0.00001859923144
                        ],
                        "iteration": 855,
                        "passed_time": 33.4835839,
                        "remaining_time": 5.632752432,
                        "test": [
                          0.00002002891317
                        ]
                      },
                      {
                        "learn": [
                          0.00001858564235
                        ],
                        "iteration": 856,
                        "passed_time": 33.54743299,
                        "remaining_time": 5.597763031,
                        "test": [
                          0.00002001549779
                        ]
                      },
                      {
                        "learn": [
                          0.00001844704976
                        ],
                        "iteration": 857,
                        "passed_time": 33.57744185,
                        "remaining_time": 5.55710576,
                        "test": [
                          0.00001987449508
                        ]
                      },
                      {
                        "learn": [
                          0.00001843073727
                        ],
                        "iteration": 858,
                        "passed_time": 33.61886549,
                        "remaining_time": 5.518346955,
                        "test": [
                          0.00001985475818
                        ]
                      },
                      {
                        "learn": [
                          0.00001841114305
                        ],
                        "iteration": 859,
                        "passed_time": 33.6384458,
                        "remaining_time": 5.476026061,
                        "test": [
                          0.00001983283759
                        ]
                      },
                      {
                        "learn": [
                          0.00001839779901
                        ],
                        "iteration": 860,
                        "passed_time": 33.65235936,
                        "remaining_time": 5.432843149,
                        "test": [
                          0.00001981734088
                        ]
                      },
                      {
                        "learn": [
                          0.00001837819858
                        ],
                        "iteration": 861,
                        "passed_time": 33.67132019,
                        "remaining_time": 5.390536178,
                        "test": [
                          0.00001979533344
                        ]
                      },
                      {
                        "learn": [
                          0.00001836490416
                        ],
                        "iteration": 862,
                        "passed_time": 33.68517736,
                        "remaining_time": 5.347473115,
                        "test": [
                          0.00001977993909
                        ]
                      },
                      {
                        "learn": [
                          0.00001834553793
                        ],
                        "iteration": 863,
                        "passed_time": 33.7001449,
                        "remaining_time": 5.304652438,
                        "test": [
                          0.00001975842639
                        ]
                      },
                      {
                        "learn": [
                          0.00001821328082
                        ],
                        "iteration": 864,
                        "passed_time": 33.71685749,
                        "remaining_time": 5.26216851,
                        "test": [
                          0.0000196262003
                        ]
                      },
                      {
                        "learn": [
                          0.00001819400764
                        ],
                        "iteration": 865,
                        "passed_time": 33.75556934,
                        "remaining_time": 5.223148142,
                        "test": [
                          0.00001960438517
                        ]
                      },
                      {
                        "learn": [
                          0.00001818083264
                        ],
                        "iteration": 866,
                        "passed_time": 33.80804106,
                        "remaining_time": 5.186239286,
                        "test": [
                          0.00001958918313
                        ]
                      },
                      {
                        "learn": [
                          0.00001816762662
                        ],
                        "iteration": 867,
                        "passed_time": 33.86417209,
                        "remaining_time": 5.149851055,
                        "test": [
                          0.0000195739842
                        ]
                      },
                      {
                        "learn": [
                          0.00001814850388
                        ],
                        "iteration": 868,
                        "passed_time": 33.91952512,
                        "remaining_time": 5.113300104,
                        "test": [
                          0.00001955246995
                        ]
                      },
                      {
                        "learn": [
                          0.00001812930204
                        ],
                        "iteration": 869,
                        "passed_time": 33.97792871,
                        "remaining_time": 5.077161762,
                        "test": [
                          0.00001953094639
                        ]
                      },
                      {
                        "learn": [
                          0.0000181103499
                        ],
                        "iteration": 870,
                        "passed_time": 34.03099241,
                        "remaining_time": 5.040181425,
                        "test": [
                          0.00001950962291
                        ]
                      },
                      {
                        "learn": [
                          0.00001809475703
                        ],
                        "iteration": 871,
                        "passed_time": 34.08523469,
                        "remaining_time": 5.003337203,
                        "test": [
                          0.0000194917564
                        ]
                      },
                      {
                        "learn": [
                          0.00001808182708
                        ],
                        "iteration": 872,
                        "passed_time": 34.14268853,
                        "remaining_time": 4.966920325,
                        "test": [
                          0.00001947665983
                        ]
                      },
                      {
                        "learn": [
                          0.0000180686769
                        ],
                        "iteration": 873,
                        "passed_time": 34.20341831,
                        "remaining_time": 4.930927583,
                        "test": [
                          0.00001946363372
                        ]
                      },
                      {
                        "learn": [
                          0.0000180498907
                        ],
                        "iteration": 874,
                        "passed_time": 34.25541122,
                        "remaining_time": 4.893630174,
                        "test": [
                          0.00001944262196
                        ]
                      },
                      {
                        "learn": [
                          0.00001803113397
                        ],
                        "iteration": 875,
                        "passed_time": 34.31558083,
                        "remaining_time": 4.857456647,
                        "test": [
                          0.00001942138998
                        ]
                      },
                      {
                        "learn": [
                          0.00001801820712
                        ],
                        "iteration": 876,
                        "passed_time": 34.38537426,
                        "remaining_time": 4.822578145,
                        "test": [
                          0.00001940659118
                        ]
                      },
                      {
                        "learn": [
                          0.0000179995512
                        ],
                        "iteration": 877,
                        "passed_time": 34.43637055,
                        "remaining_time": 4.785008209,
                        "test": [
                          0.00001938555771
                        ]
                      },
                      {
                        "learn": [
                          0.00001798088753
                        ],
                        "iteration": 878,
                        "passed_time": 34.48992217,
                        "remaining_time": 4.747759479,
                        "test": [
                          0.00001936463746
                        ]
                      },
                      {
                        "learn": [
                          0.00001796812818
                        ],
                        "iteration": 879,
                        "passed_time": 34.54348201,
                        "remaining_time": 4.71047482,
                        "test": [
                          0.00001935002477
                        ]
                      },
                      {
                        "learn": [
                          0.0000179495467
                        ],
                        "iteration": 880,
                        "passed_time": 34.59678777,
                        "remaining_time": 4.673118893,
                        "test": [
                          0.00001932910297
                        ]
                      },
                      {
                        "learn": [
                          0.00001793108465
                        ],
                        "iteration": 881,
                        "passed_time": 34.65044308,
                        "remaining_time": 4.635773564,
                        "test": [
                          0.00001930836573
                        ]
                      },
                      {
                        "learn": [
                          0.00001791263035
                        ],
                        "iteration": 882,
                        "passed_time": 34.70366307,
                        "remaining_time": 4.598333612,
                        "test": [
                          0.00001928743927
                        ]
                      },
                      {
                        "learn": [
                          0.00001790001368
                        ],
                        "iteration": 883,
                        "passed_time": 34.7526074,
                        "remaining_time": 4.560296898,
                        "test": [
                          0.00001927302355
                        ]
                      },
                      {
                        "learn": [
                          0.00001788172533
                        ],
                        "iteration": 884,
                        "passed_time": 34.80452065,
                        "remaining_time": 4.522621328,
                        "test": [
                          0.00001925239022
                        ]
                      },
                      {
                        "learn": [
                          0.00001786341216
                        ],
                        "iteration": 885,
                        "passed_time": 34.8571006,
                        "remaining_time": 4.4849994,
                        "test": [
                          0.00001923195695
                        ]
                      },
                      {
                        "learn": [
                          0.00001784517034
                        ],
                        "iteration": 886,
                        "passed_time": 34.91330372,
                        "remaining_time": 4.447805321,
                        "test": [
                          0.00001921132827
                        ]
                      },
                      {
                        "learn": [
                          0.00001783367653
                        ],
                        "iteration": 887,
                        "passed_time": 34.98278276,
                        "remaining_time": 4.41224287,
                        "test": [
                          0.00001919701491
                        ]
                      },
                      {
                        "learn": [
                          0.00001781792702
                        ],
                        "iteration": 888,
                        "passed_time": 35.04626838,
                        "remaining_time": 4.375855782,
                        "test": [
                          0.00001917825042
                        ]
                      },
                      {
                        "learn": [
                          0.00001780550887
                        ],
                        "iteration": 889,
                        "passed_time": 35.16055795,
                        "remaining_time": 4.345686938,
                        "test": [
                          0.00001916570975
                        ]
                      },
                      {
                        "learn": [
                          0.00001779295579
                        ],
                        "iteration": 890,
                        "passed_time": 35.2562743,
                        "remaining_time": 4.313057126,
                        "test": [
                          0.00001915348236
                        ]
                      },
                      {
                        "learn": [
                          0.00001765610177
                        ],
                        "iteration": 891,
                        "passed_time": 35.33761031,
                        "remaining_time": 4.278544746,
                        "test": [
                          0.0000190142477
                        ]
                      },
                      {
                        "learn": [
                          0.00001764114943
                        ],
                        "iteration": 892,
                        "passed_time": 35.46397457,
                        "remaining_time": 4.249322821,
                        "test": [
                          0.00001899628038
                        ]
                      },
                      {
                        "learn": [
                          0.00001762640956
                        ],
                        "iteration": 893,
                        "passed_time": 35.54138875,
                        "remaining_time": 4.21407965,
                        "test": [
                          0.00001897929325
                        ]
                      },
                      {
                        "learn": [
                          0.00001761411549
                        ],
                        "iteration": 894,
                        "passed_time": 35.55584479,
                        "remaining_time": 4.171356093,
                        "test": [
                          0.0000189669635
                        ]
                      },
                      {
                        "learn": [
                          0.00001760170819
                        ],
                        "iteration": 895,
                        "passed_time": 35.60354047,
                        "remaining_time": 4.132553805,
                        "test": [
                          0.0000189547237
                        ]
                      },
                      {
                        "learn": [
                          0.00001758387891
                        ],
                        "iteration": 896,
                        "passed_time": 35.6287336,
                        "remaining_time": 4.091147783,
                        "test": [
                          0.00001893458201
                        ]
                      },
                      {
                        "learn": [
                          0.00001745278033
                        ],
                        "iteration": 897,
                        "passed_time": 35.6454949,
                        "remaining_time": 4.048820134,
                        "test": [
                          0.00001880352841
                        ]
                      },
                      {
                        "learn": [
                          0.00001744187587
                        ],
                        "iteration": 898,
                        "passed_time": 35.66242986,
                        "remaining_time": 4.006568872,
                        "test": [
                          0.00001879139407
                        ]
                      },
                      {
                        "learn": [
                          0.00001742966399
                        ],
                        "iteration": 899,
                        "passed_time": 35.68208893,
                        "remaining_time": 3.964676547,
                        "test": [
                          0.00001877747154
                        ]
                      },
                      {
                        "learn": [
                          0.00001741756842
                        ],
                        "iteration": 900,
                        "passed_time": 35.72576878,
                        "remaining_time": 3.925472929,
                        "test": [
                          0.00001876316903
                        ]
                      },
                      {
                        "learn": [
                          0.00001740537826
                        ],
                        "iteration": 901,
                        "passed_time": 35.78464071,
                        "remaining_time": 3.887909966,
                        "test": [
                          0.00001874924029
                        ]
                      },
                      {
                        "learn": [
                          0.00001738783124
                        ],
                        "iteration": 902,
                        "passed_time": 35.82616242,
                        "remaining_time": 3.848436051,
                        "test": [
                          0.00001872959799
                        ]
                      },
                      {
                        "learn": [
                          0.00001737798605
                        ],
                        "iteration": 903,
                        "passed_time": 35.86422225,
                        "remaining_time": 3.808589973,
                        "test": [
                          0.00001871755206
                        ]
                      },
                      {
                        "learn": [
                          0.00001736600991
                        ],
                        "iteration": 904,
                        "passed_time": 35.88978125,
                        "remaining_time": 3.767435601,
                        "test": [
                          0.00001870373343
                        ]
                      },
                      {
                        "learn": [
                          0.00001734846445
                        ],
                        "iteration": 905,
                        "passed_time": 35.90519935,
                        "remaining_time": 3.725263509,
                        "test": [
                          0.00001868398412
                        ]
                      },
                      {
                        "learn": [
                          0.00001733110974
                        ],
                        "iteration": 906,
                        "passed_time": 35.92140815,
                        "remaining_time": 3.683231486,
                        "test": [
                          0.00001866443798
                        ]
                      },
                      {
                        "learn": [
                          0.00001732375377
                        ],
                        "iteration": 907,
                        "passed_time": 35.94558402,
                        "remaining_time": 3.642063579,
                        "test": [
                          0.00001865397397
                        ]
                      },
                      {
                        "learn": [
                          0.00001730639906
                        ],
                        "iteration": 908,
                        "passed_time": 35.96674575,
                        "remaining_time": 3.600631313,
                        "test": [
                          0.00001863442318
                        ]
                      },
                      {
                        "learn": [
                          0.00001728917308
                        ],
                        "iteration": 909,
                        "passed_time": 36.00120863,
                        "remaining_time": 3.560559095,
                        "test": [
                          0.00001861496699
                        ]
                      },
                      {
                        "learn": [
                          0.00001727179357
                        ],
                        "iteration": 910,
                        "passed_time": 36.02441382,
                        "remaining_time": 3.519399374,
                        "test": [
                          0.00001859582408
                        ]
                      },
                      {
                        "learn": [
                          0.00001725999268
                        ],
                        "iteration": 911,
                        "passed_time": 36.04605678,
                        "remaining_time": 3.478128286,
                        "test": [
                          0.00001858209696
                        ]
                      },
                      {
                        "learn": [
                          0.00001724281633
                        ],
                        "iteration": 912,
                        "passed_time": 36.06994677,
                        "remaining_time": 3.437114314,
                        "test": [
                          0.00001856266869
                        ]
                      },
                      {
                        "learn": [
                          0.00001723099683
                        ],
                        "iteration": 913,
                        "passed_time": 36.10115282,
                        "remaining_time": 3.396826195,
                        "test": [
                          0.00001854933705
                        ]
                      },
                      {
                        "learn": [
                          0.00001721926883
                        ],
                        "iteration": 914,
                        "passed_time": 36.12350571,
                        "remaining_time": 3.355735503,
                        "test": [
                          0.00001853739193
                        ]
                      },
                      {
                        "learn": [
                          0.00001720213591
                        ],
                        "iteration": 915,
                        "passed_time": 36.14394602,
                        "remaining_time": 3.314510334,
                        "test": [
                          0.00001851833122
                        ]
                      },
                      {
                        "learn": [
                          0.00001719055835
                        ],
                        "iteration": 916,
                        "passed_time": 36.17185719,
                        "remaining_time": 3.274006703,
                        "test": [
                          0.00001850490963
                        ]
                      },
                      {
                        "learn": [
                          0.00001717641559
                        ],
                        "iteration": 917,
                        "passed_time": 36.20141808,
                        "remaining_time": 3.233677868,
                        "test": [
                          0.00001848791164
                        ]
                      },
                      {
                        "learn": [
                          0.00001716466898
                        ],
                        "iteration": 918,
                        "passed_time": 36.2227209,
                        "remaining_time": 3.192644606,
                        "test": [
                          0.00001847618054
                        ]
                      },
                      {
                        "learn": [
                          0.0000171530449
                        ],
                        "iteration": 919,
                        "passed_time": 36.26478163,
                        "remaining_time": 3.153459272,
                        "test": [
                          0.00001846452234
                        ]
                      },
                      {
                        "learn": [
                          0.00001714144408
                        ],
                        "iteration": 920,
                        "passed_time": 36.27429169,
                        "remaining_time": 3.111475617,
                        "test": [
                          0.00001845298045
                        ]
                      },
                      {
                        "learn": [
                          0.0000171245562
                        ],
                        "iteration": 921,
                        "passed_time": 36.28368325,
                        "remaining_time": 3.069552379,
                        "test": [
                          0.00001843402055
                        ]
                      },
                      {
                        "learn": [
                          0.00001710769313
                        ],
                        "iteration": 922,
                        "passed_time": 36.29293849,
                        "remaining_time": 3.027688259,
                        "test": [
                          0.0000184150529
                        ]
                      },
                      {
                        "learn": [
                          0.00001709626601
                        ],
                        "iteration": 923,
                        "passed_time": 36.30220293,
                        "remaining_time": 2.985895479,
                        "test": [
                          0.00001840370022
                        ]
                      },
                      {
                        "learn": [
                          0.00001708459075
                        ],
                        "iteration": 924,
                        "passed_time": 36.31164629,
                        "remaining_time": 2.944187537,
                        "test": [
                          0.00001839226225
                        ]
                      },
                      {
                        "learn": [
                          0.00001707329391
                        ],
                        "iteration": 925,
                        "passed_time": 36.32093313,
                        "remaining_time": 2.902536773,
                        "test": [
                          0.00001837892906
                        ]
                      },
                      {
                        "learn": [
                          0.00001705657663
                        ],
                        "iteration": 926,
                        "passed_time": 36.33013824,
                        "remaining_time": 2.860949397,
                        "test": [
                          0.00001836027004
                        ]
                      },
                      {
                        "learn": [
                          0.00001692399228
                        ],
                        "iteration": 927,
                        "passed_time": 36.33958155,
                        "remaining_time": 2.819450293,
                        "test": [
                          0.00001822575945
                        ]
                      },
                      {
                        "learn": [
                          0.00001691263495
                        ],
                        "iteration": 928,
                        "passed_time": 36.3489746,
                        "remaining_time": 2.778016358,
                        "test": [
                          0.00001821440058
                        ]
                      },
                      {
                        "learn": [
                          0.00001689609447
                        ],
                        "iteration": 929,
                        "passed_time": 36.35829151,
                        "remaining_time": 2.736645598,
                        "test": [
                          0.00001819574621
                        ]
                      },
                      {
                        "learn": [
                          0.00001687953073
                        ],
                        "iteration": 930,
                        "passed_time": 36.36772912,
                        "remaining_time": 2.695352642,
                        "test": [
                          0.00001817717559
                        ]
                      },
                      {
                        "learn": [
                          0.00001686308642
                        ],
                        "iteration": 931,
                        "passed_time": 36.37690287,
                        "remaining_time": 2.654108793,
                        "test": [
                          0.00001815871664
                        ]
                      },
                      {
                        "learn": [
                          0.00001685173374
                        ],
                        "iteration": 932,
                        "passed_time": 36.38612109,
                        "remaining_time": 2.612936884,
                        "test": [
                          0.00001814745546
                        ]
                      },
                      {
                        "learn": [
                          0.00001683550965
                        ],
                        "iteration": 933,
                        "passed_time": 36.39526942,
                        "remaining_time": 2.57182846,
                        "test": [
                          0.00001812908026
                        ]
                      },
                      {
                        "learn": [
                          0.00001670019104
                        ],
                        "iteration": 934,
                        "passed_time": 36.41600497,
                        "remaining_time": 2.531593929,
                        "test": [
                          0.00001799182301
                        ]
                      },
                      {
                        "learn": [
                          0.00001668893762
                        ],
                        "iteration": 935,
                        "passed_time": 36.44144102,
                        "remaining_time": 2.491722463,
                        "test": [
                          0.00001798056184
                        ]
                      },
                      {
                        "learn": [
                          0.00001667271974
                        ],
                        "iteration": 936,
                        "passed_time": 36.45066392,
                        "remaining_time": 2.450791704,
                        "test": [
                          0.00001796248751
                        ]
                      },
                      {
                        "learn": [
                          0.00001666160745
                        ],
                        "iteration": 937,
                        "passed_time": 36.45986723,
                        "remaining_time": 2.409927258,
                        "test": [
                          0.00001794946451
                        ]
                      },
                      {
                        "learn": [
                          0.00001664539112
                        ],
                        "iteration": 938,
                        "passed_time": 36.48168656,
                        "remaining_time": 2.369949819,
                        "test": [
                          0.00001793158094
                        ]
                      },
                      {
                        "learn": [
                          0.00001663425092
                        ],
                        "iteration": 939,
                        "passed_time": 36.49486346,
                        "remaining_time": 2.32945937,
                        "test": [
                          0.00001792032597
                        ]
                      },
                      {
                        "learn": [
                          0.00001662322084
                        ],
                        "iteration": 940,
                        "passed_time": 36.50738983,
                        "remaining_time": 2.288986185,
                        "test": [
                          0.00001790759299
                        ]
                      },
                      {
                        "learn": [
                          0.00001661221556
                        ],
                        "iteration": 941,
                        "passed_time": 36.5313372,
                        "remaining_time": 2.249275539,
                        "test": [
                          0.00001789484914
                        ]
                      },
                      {
                        "learn": [
                          0.00001660110018
                        ],
                        "iteration": 942,
                        "passed_time": 36.55384078,
                        "remaining_time": 2.209511055,
                        "test": [
                          0.00001788389816
                        ]
                      },
                      {
                        "learn": [
                          0.00001658520023
                        ],
                        "iteration": 943,
                        "passed_time": 36.56231276,
                        "remaining_time": 2.168950757,
                        "test": [
                          0.00001786591843
                        ]
                      },
                      {
                        "learn": [
                          0.00001657413603
                        ],
                        "iteration": 944,
                        "passed_time": 36.57090916,
                        "remaining_time": 2.128465613,
                        "test": [
                          0.00001785338862
                        ]
                      },
                      {
                        "learn": [
                          0.00001655826554
                        ],
                        "iteration": 945,
                        "passed_time": 36.57933282,
                        "remaining_time": 2.088038026,
                        "test": [
                          0.00001783540579
                        ]
                      },
                      {
                        "learn": [
                          0.00001654735953
                        ],
                        "iteration": 946,
                        "passed_time": 36.58782551,
                        "remaining_time": 2.047681893,
                        "test": [
                          0.00001782287288
                        ]
                      },
                      {
                        "learn": [
                          0.00001653426673
                        ],
                        "iteration": 947,
                        "passed_time": 36.59638389,
                        "remaining_time": 2.007396585,
                        "test": [
                          0.00001780775304
                        ]
                      },
                      {
                        "learn": [
                          0.00001652343206
                        ],
                        "iteration": 948,
                        "passed_time": 36.60496069,
                        "remaining_time": 1.967179131,
                        "test": [
                          0.00001779708586
                        ]
                      },
                      {
                        "learn": [
                          0.00001650765464
                        ],
                        "iteration": 949,
                        "passed_time": 36.61337442,
                        "remaining_time": 1.927019706,
                        "test": [
                          0.00001777911545
                        ]
                      },
                      {
                        "learn": [
                          0.00001649671451
                        ],
                        "iteration": 950,
                        "passed_time": 36.62200177,
                        "remaining_time": 1.886938051,
                        "test": [
                          0.00001776667558
                        ]
                      },
                      {
                        "learn": [
                          0.00001648590775
                        ],
                        "iteration": 951,
                        "passed_time": 36.63057918,
                        "remaining_time": 1.846919959,
                        "test": [
                          0.00001775591536
                        ]
                      },
                      {
                        "learn": [
                          0.00001647022493
                        ],
                        "iteration": 952,
                        "passed_time": 36.63902067,
                        "remaining_time": 1.806961145,
                        "test": [
                          0.00001773833267
                        ]
                      },
                      {
                        "learn": [
                          0.00001645462431
                        ],
                        "iteration": 953,
                        "passed_time": 36.64755598,
                        "remaining_time": 1.76707293,
                        "test": [
                          0.00001772065383
                        ]
                      },
                      {
                        "learn": [
                          0.00001644390906
                        ],
                        "iteration": 954,
                        "passed_time": 36.6560981,
                        "remaining_time": 1.727250696,
                        "test": [
                          0.00001770841558
                        ]
                      },
                      {
                        "learn": [
                          0.00001642832705
                        ],
                        "iteration": 955,
                        "passed_time": 36.66529755,
                        "remaining_time": 1.687524155,
                        "test": [
                          0.00001769073674
                        ]
                      },
                      {
                        "learn": [
                          0.00001641768779
                        ],
                        "iteration": 956,
                        "passed_time": 36.67377756,
                        "remaining_time": 1.647829086,
                        "test": [
                          0.00001767859154
                        ]
                      },
                      {
                        "learn": [
                          0.00001640218022
                        ],
                        "iteration": 957,
                        "passed_time": 36.68240608,
                        "remaining_time": 1.608205694,
                        "test": [
                          0.00001766131904
                        ]
                      },
                      {
                        "learn": [
                          0.00001639156733
                        ],
                        "iteration": 958,
                        "passed_time": 36.69094826,
                        "remaining_time": 1.568643252,
                        "test": [
                          0.00001764897068
                        ]
                      },
                      {
                        "learn": [
                          0.00001637616368
                        ],
                        "iteration": 959,
                        "passed_time": 36.69933704,
                        "remaining_time": 1.529139043,
                        "test": [
                          0.00001763158496
                        ]
                      },
                      {
                        "learn": [
                          0.000016360729
                        ],
                        "iteration": 960,
                        "passed_time": 36.70780764,
                        "remaining_time": 1.489702911,
                        "test": [
                          0.00001761429849
                        ]
                      },
                      {
                        "learn": [
                          0.0000163501859
                        ],
                        "iteration": 961,
                        "passed_time": 36.71629099,
                        "remaining_time": 1.450331661,
                        "test": [
                          0.00001760205404
                        ]
                      },
                      {
                        "learn": [
                          0.00001634107895
                        ],
                        "iteration": 962,
                        "passed_time": 36.72504822,
                        "remaining_time": 1.411035082,
                        "test": [
                          0.00001759711904
                        ]
                      },
                      {
                        "learn": [
                          0.00001633139816
                        ],
                        "iteration": 963,
                        "passed_time": 36.73370631,
                        "remaining_time": 1.371798161,
                        "test": [
                          0.00001759060676
                        ]
                      },
                      {
                        "learn": [
                          0.00001632085661
                        ],
                        "iteration": 964,
                        "passed_time": 36.74236752,
                        "remaining_time": 1.332624729,
                        "test": [
                          0.00001758004816
                        ]
                      },
                      {
                        "learn": [
                          0.00001630567163
                        ],
                        "iteration": 965,
                        "passed_time": 36.75074337,
                        "remaining_time": 1.293504425,
                        "test": [
                          0.00001756305326
                        ]
                      },
                      {
                        "learn": [
                          0.00001629043547
                        ],
                        "iteration": 966,
                        "passed_time": 36.75928918,
                        "remaining_time": 1.254453509,
                        "test": [
                          0.00001754587381
                        ]
                      },
                      {
                        "learn": [
                          0.000016156294
                        ],
                        "iteration": 967,
                        "passed_time": 36.767689,
                        "remaining_time": 1.215460794,
                        "test": [
                          0.00001740987125
                        ]
                      },
                      {
                        "learn": [
                          0.00001614705987
                        ],
                        "iteration": 968,
                        "passed_time": 36.77628038,
                        "remaining_time": 1.17653735,
                        "test": [
                          0.00001739959801
                        ]
                      },
                      {
                        "learn": [
                          0.00001613671219
                        ],
                        "iteration": 969,
                        "passed_time": 36.78476337,
                        "remaining_time": 1.137673094,
                        "test": [
                          0.00001738756138
                        ]
                      },
                      {
                        "learn": [
                          0.0000161262699
                        ],
                        "iteration": 970,
                        "passed_time": 36.79332724,
                        "remaining_time": 1.098873831,
                        "test": [
                          0.0000173773874
                        ]
                      },
                      {
                        "learn": [
                          0.00001611129895
                        ],
                        "iteration": 971,
                        "passed_time": 36.80163442,
                        "remaining_time": 1.060129386,
                        "test": [
                          0.00001736049177
                        ]
                      },
                      {
                        "learn": [
                          0.00001610095902
                        ],
                        "iteration": 972,
                        "passed_time": 36.81012725,
                        "remaining_time": 1.021452658,
                        "test": [
                          0.0000173499254
                        ]
                      },
                      {
                        "learn": [
                          0.00001609056791
                        ],
                        "iteration": 973,
                        "passed_time": 36.81861439,
                        "remaining_time": 0.9828377559,
                        "test": [
                          0.00001733976383
                        ]
                      },
                      {
                        "learn": [
                          0.00001596147001
                        ],
                        "iteration": 974,
                        "passed_time": 36.82718229,
                        "remaining_time": 0.9442867255,
                        "test": [
                          0.00001720909485
                        ]
                      },
                      {
                        "learn": [
                          0.00001595112387
                        ],
                        "iteration": 975,
                        "passed_time": 36.83572926,
                        "remaining_time": 0.9057966211,
                        "test": [
                          0.00001719872856
                        ]
                      },
                      {
                        "learn": [
                          0.00001594097316
                        ],
                        "iteration": 976,
                        "passed_time": 36.84416432,
                        "remaining_time": 0.8673651785,
                        "test": [
                          0.00001718677723
                        ]
                      },
                      {
                        "learn": [
                          0.00001593074954
                        ],
                        "iteration": 977,
                        "passed_time": 36.85277714,
                        "remaining_time": 0.8289990767,
                        "test": [
                          0.00001717513143
                        ]
                      },
                      {
                        "learn": [
                          0.00001591591197
                        ],
                        "iteration": 978,
                        "passed_time": 36.86092527,
                        "remaining_time": 0.7906837902,
                        "test": [
                          0.00001715843742
                        ]
                      },
                      {
                        "learn": [
                          0.00001590573489
                        ],
                        "iteration": 979,
                        "passed_time": 36.86861783,
                        "remaining_time": 0.7524207719,
                        "test": [
                          0.00001714678076
                        ]
                      },
                      {
                        "learn": [
                          0.00001589561674
                        ],
                        "iteration": 980,
                        "passed_time": 36.87647664,
                        "remaining_time": 0.7142232988,
                        "test": [
                          0.0000171349349
                        ]
                      },
                      {
                        "learn": [
                          0.00001588077606
                        ],
                        "iteration": 981,
                        "passed_time": 36.88377181,
                        "remaining_time": 0.6760772838,
                        "test": [
                          0.00001711852625
                        ]
                      },
                      {
                        "learn": [
                          0.00001587188313
                        ],
                        "iteration": 982,
                        "passed_time": 36.89156934,
                        "remaining_time": 0.6380027251,
                        "test": [
                          0.00001710845463
                        ]
                      },
                      {
                        "learn": [
                          0.00001586176033
                        ],
                        "iteration": 983,
                        "passed_time": 36.90004551,
                        "remaining_time": 0.60000074,
                        "test": [
                          0.00001709680418
                        ]
                      },
                      {
                        "learn": [
                          0.00001585166234
                        ],
                        "iteration": 984,
                        "passed_time": 36.90821819,
                        "remaining_time": 0.5620540841,
                        "test": [
                          0.00001708674497
                        ]
                      },
                      {
                        "learn": [
                          0.00001583699227
                        ],
                        "iteration": 985,
                        "passed_time": 36.91664483,
                        "remaining_time": 0.5241714276,
                        "test": [
                          0.00001707045109
                        ]
                      },
                      {
                        "learn": [
                          0.00001582697028
                        ],
                        "iteration": 986,
                        "passed_time": 36.92471562,
                        "remaining_time": 0.4863437721,
                        "test": [
                          0.00001706017474
                        ]
                      },
                      {
                        "learn": [
                          0.00001581699016
                        ],
                        "iteration": 987,
                        "passed_time": 36.93230014,
                        "remaining_time": 0.448570447,
                        "test": [
                          0.00001705493887
                        ]
                      },
                      {
                        "learn": [
                          0.00001580689993
                        ],
                        "iteration": 988,
                        "passed_time": 36.93995298,
                        "remaining_time": 0.410858931,
                        "test": [
                          0.00001704358309
                        ]
                      },
                      {
                        "learn": [
                          0.0000157949486
                        ],
                        "iteration": 989,
                        "passed_time": 36.94881266,
                        "remaining_time": 0.3732203299,
                        "test": [
                          0.00001702886494
                        ]
                      },
                      {
                        "learn": [
                          0.00001578237226
                        ],
                        "iteration": 990,
                        "passed_time": 36.95638917,
                        "remaining_time": 0.3356281559,
                        "test": [
                          0.00001701385211
                        ]
                      },
                      {
                        "learn": [
                          0.00001577039456
                        ],
                        "iteration": 991,
                        "passed_time": 36.9639109,
                        "remaining_time": 0.2980960556,
                        "test": [
                          0.00001699933557
                        ]
                      },
                      {
                        "learn": [
                          0.00001576051525
                        ],
                        "iteration": 992,
                        "passed_time": 36.97142038,
                        "remaining_time": 0.2606243129,
                        "test": [
                          0.00001698796584
                        ]
                      },
                      {
                        "learn": [
                          0.00001575059252
                        ],
                        "iteration": 993,
                        "passed_time": 36.97895991,
                        "remaining_time": 0.2232130377,
                        "test": [
                          0.00001697651546
                        ]
                      },
                      {
                        "learn": [
                          0.00001573624503
                        ],
                        "iteration": 994,
                        "passed_time": 36.98640791,
                        "remaining_time": 0.1858613463,
                        "test": [
                          0.00001696041699
                        ]
                      },
                      {
                        "learn": [
                          0.00001572908447
                        ],
                        "iteration": 995,
                        "passed_time": 36.99570732,
                        "remaining_time": 0.1485771378,
                        "test": [
                          0.00001695912973
                        ]
                      },
                      {
                        "learn": [
                          0.00001571727273
                        ],
                        "iteration": 996,
                        "passed_time": 37.00318497,
                        "remaining_time": 0.1113435857,
                        "test": [
                          0.0000169447078
                        ]
                      },
                      {
                        "learn": [
                          0.00001570297953
                        ],
                        "iteration": 997,
                        "passed_time": 37.01067525,
                        "remaining_time": 0.07416968989,
                        "test": [
                          0.000016928797
                        ]
                      },
                      {
                        "learn": [
                          0.00001569322429
                        ],
                        "iteration": 998,
                        "passed_time": 37.01827468,
                        "remaining_time": 0.03705533001,
                        "test": [
                          0.00001691754513
                        ]
                      },
                      {
                        "learn": [
                          0.00001568342098
                        ],
                        "iteration": 999,
                        "passed_time": 37.02577002,
                        "remaining_time": 0,
                        "test": [
                          0.00001690765962
                        ]
                      }
                    ],
                    "meta": {
                      "test_sets": [
                        "test"
                      ],
                      "test_metrics": [
                        {
                          "best_value": "Min",
                          "name": "MultiClass"
                        }
                      ],
                      "learn_metrics": [
                        {
                          "best_value": "Min",
                          "name": "MultiClass"
                        }
                      ],
                      "launch_mode": "Train",
                      "parameters": "",
                      "iteration_count": 1000,
                      "learn_sets": [
                        "learn"
                      ],
                      "name": "experiment"
                    }
                  }
                }
              }
            },
            "layout": "IPY_MODEL_bcde2c4e159a4d8d91090e38344ee5b0"
          }
        }
      }
    },
    "accelerator": "GPU"
  },
  "cells": [
    {
      "cell_type": "markdown",
      "metadata": {
        "id": "view-in-github",
        "colab_type": "text"
      },
      "source": [
        "<a href=\"https://colab.research.google.com/github/Yanina-Kutovaya/GNN/blob/main/notebooks/5_1_CatBoost.ipynb\" target=\"_parent\"><img src=\"https://colab.research.google.com/assets/colab-badge.svg\" alt=\"Open In Colab\"/></a>"
      ]
    },
    {
      "cell_type": "markdown",
      "source": [
        "# Реализация CatBoostClassifier с использованием GPU (CUDA 12.5) для классификации узлов на датасете Bitcoin-OTC\n",
        "\n",
        "Задача — предсказать \"уровень доверия\" пользователей\n",
        "\n",
        "Признаки узлов/рёбер - синтетические"
      ],
      "metadata": {
        "id": "YCOQl0-4rgpv"
      }
    },
    {
      "cell_type": "markdown",
      "source": [
        "Небходимо выбрать среду выполнения с GPU: Среда выполнения → Сменить среду выполнения → Графический процессор T4"
      ],
      "metadata": {
        "id": "dE5Com4Fr4PG"
      }
    },
    {
      "cell_type": "markdown",
      "source": [
        "## 1. Установка зависимостей"
      ],
      "metadata": {
        "id": "5hgp6VWTshjH"
      }
    },
    {
      "cell_type": "markdown",
      "source": [
        "Требования:\n",
        "- CatBoost ≥1.2.2\n",
        "- PyTorch Geometric для загрузки данных\n"
      ],
      "metadata": {
        "id": "2_ESRcv8srxJ"
      }
    },
    {
      "cell_type": "markdown",
      "source": [
        "* CatBoost автоматически использует доступные GPU через CUDA, явная установка CUDA 12.5 не требуется"
      ],
      "metadata": {
        "id": "dwH_a7CotLHY"
      }
    },
    {
      "cell_type": "code",
      "source": [
        "install = True\n",
        "if install:\n",
        "  !pip install -q catboost\n",
        "  !pip install -q torch-geometric"
      ],
      "metadata": {
        "id": "syNkpHxOr0o5"
      },
      "execution_count": 1,
      "outputs": []
    },
    {
      "cell_type": "markdown",
      "source": [
        "## 2. Импорт библиотек"
      ],
      "metadata": {
        "id": "ozuwHyaWsB-5"
      }
    },
    {
      "cell_type": "code",
      "source": [
        "import numpy as np\n",
        "import pandas as pd\n",
        "from catboost import CatBoostClassifier, Pool\n",
        "from torch_geometric.datasets import BitcoinOTC\n",
        "from sklearn.model_selection import train_test_split\n",
        "from sklearn.metrics import classification_report"
      ],
      "metadata": {
        "id": "wllZ2lz2tUEZ"
      },
      "execution_count": 2,
      "outputs": []
    },
    {
      "cell_type": "markdown",
      "source": [
        "## 3. Загрузка данных"
      ],
      "metadata": {
        "id": "HRF04tYPxl_7"
      }
    },
    {
      "cell_type": "code",
      "source": [
        "dataset = BitcoinOTC(root='/tmp/BitcoinOTC')\n",
        "data = dataset[0]"
      ],
      "metadata": {
        "id": "V8wKGX0ltWRC"
      },
      "execution_count": 3,
      "outputs": []
    },
    {
      "cell_type": "markdown",
      "source": [
        "## 4. Создание признаков узлов с учётом рёбер"
      ],
      "metadata": {
        "id": "KDJSrnVsxuq1"
      }
    },
    {
      "cell_type": "code",
      "source": [
        "def create_node_features(data):\n",
        "    num_nodes = data.num_nodes\n",
        "    features = []\n",
        "\n",
        "    # Степень узлов\n",
        "    degrees = np.zeros(num_nodes)\n",
        "    for src in data.edge_index[0].unique().cpu().numpy():\n",
        "        degrees[src] = (data.edge_index[0].cpu().numpy() == src).sum()\n",
        "\n",
        "    # Статистики по рёбрам\n",
        "    edge_attrs = [[] for _ in range(num_nodes)]\n",
        "    for i in range(data.edge_index.size(1)):\n",
        "        src = data.edge_index[0, i].item()\n",
        "        attr = data.edge_attr[i].item()\n",
        "        edge_attrs[src].append(attr)\n",
        "\n",
        "    # Создание фичей\n",
        "    for node_id in range(num_nodes):\n",
        "        node_feats = [\n",
        "            degrees[node_id],  # Степень узла\n",
        "            np.mean(edge_attrs[node_id]) if edge_attrs[node_id] else 0,  # Среднее значение рёбер\n",
        "            np.max(edge_attrs[node_id]) if edge_attrs[node_id] else 0,   # Максимум\n",
        "            np.min(edge_attrs[node_id]) if edge_attrs[node_id] else 0,   # Минимум\n",
        "            len(edge_attrs[node_id])                                      # Количество рёбер\n",
        "        ]\n",
        "        features.append(node_feats)\n",
        "\n",
        "    return np.array(features)"
      ],
      "metadata": {
        "id": "cEa_9JUvtXqZ"
      },
      "execution_count": 4,
      "outputs": []
    },
    {
      "cell_type": "markdown",
      "source": [
        "## 5. Подготовка данных"
      ],
      "metadata": {
        "id": "N3tBESn5x1bB"
      }
    },
    {
      "cell_type": "code",
      "source": [
        "X = create_node_features(data)\n",
        "X"
      ],
      "metadata": {
        "colab": {
          "base_uri": "https://localhost:8080/"
        },
        "id": "63tjiuFEp58V",
        "outputId": "9ad1608b-4018-4b80-bbd4-c7597b59886c"
      },
      "execution_count": 5,
      "outputs": [
        {
          "output_type": "execute_result",
          "data": {
            "text/plain": [
              "array([[2. , 2.5, 4. , 1. , 2. ],\n",
              "       [3. , 5. , 5. , 5. , 3. ],\n",
              "       [0. , 0. , 0. , 0. , 0. ],\n",
              "       ...,\n",
              "       [0. , 0. , 0. , 0. , 0. ],\n",
              "       [0. , 0. , 0. , 0. , 0. ],\n",
              "       [0. , 0. , 0. , 0. , 0. ]])"
            ]
          },
          "metadata": {},
          "execution_count": 5
        }
      ]
    },
    {
      "cell_type": "code",
      "source": [
        "y = np.zeros(data.num_nodes)\n",
        "\n",
        "# Создание меток (3 класса)\n",
        "q1 = np.quantile(X[:, 0], 0.5)\n",
        "q2 = np.quantile(X[:, 0], 0.999)\n",
        "y[X[:, 0] > q2] = 2\n",
        "y[(X[:, 0] > q1) & (X[:, 0] <= q2)] = 1"
      ],
      "metadata": {
        "id": "lbVFWlgjtbez"
      },
      "execution_count": 6,
      "outputs": []
    },
    {
      "cell_type": "markdown",
      "source": [
        "## 6. Разделение данных"
      ],
      "metadata": {
        "id": "p7oQxlCzx6QZ"
      }
    },
    {
      "cell_type": "code",
      "source": [
        "X_train, X_test, y_train, y_test = train_test_split(\n",
        "    X, y,\n",
        "    test_size=0.2,\n",
        "    stratify=y,\n",
        "    random_state=42\n",
        ")"
      ],
      "metadata": {
        "id": "vIC2EBNKthNL"
      },
      "execution_count": 7,
      "outputs": []
    },
    {
      "cell_type": "markdown",
      "source": [
        "## 7. Создание CatBoost модели с GPU"
      ],
      "metadata": {
        "id": "6hA_2K_Lx-r1"
      }
    },
    {
      "cell_type": "code",
      "source": [
        "model = CatBoostClassifier(\n",
        "    iterations=1000,\n",
        "    learning_rate=0.1,\n",
        "    depth=8,\n",
        "    loss_function='MultiClass',\n",
        "    task_type='GPU',  # Включение GPU\n",
        "    devices='0:1',    # Использование первого GPU\n",
        "    verbose=100,\n",
        "    early_stopping_rounds=50\n",
        ")"
      ],
      "metadata": {
        "id": "_zQpjgzitizP"
      },
      "execution_count": 8,
      "outputs": []
    },
    {
      "cell_type": "markdown",
      "source": [
        "## 8. Обучение"
      ],
      "metadata": {
        "id": "9rCWtMJVyDp7"
      }
    },
    {
      "cell_type": "code",
      "source": [
        "model.fit(\n",
        "    X_train, y_train,\n",
        "    eval_set=(X_test, y_test),\n",
        "    plot=True\n",
        ")"
      ],
      "metadata": {
        "colab": {
          "base_uri": "https://localhost:8080/",
          "height": 260,
          "referenced_widgets": [
            "12ee5f8090bc43979a48c01050ffe727"
          ]
        },
        "id": "3Gt9avFytk6w",
        "outputId": "ae5fdf9c-bcbc-422d-c687-f7212d00f263"
      },
      "execution_count": 9,
      "outputs": [
        {
          "output_type": "display_data",
          "data": {
            "text/plain": [
              "MetricVisualizer(layout=Layout(align_self='stretch', height='500px'))"
            ],
            "application/vnd.jupyter.widget-view+json": {
              "version_major": 2,
              "version_minor": 0,
              "model_id": "12ee5f8090bc43979a48c01050ffe727"
            }
          },
          "metadata": {}
        },
        {
          "output_type": "stream",
          "name": "stdout",
          "text": [
            "0:\tlearn: 0.9095124\ttest: 0.9095340\tbest: 0.9095340 (0)\ttotal: 64.6ms\tremaining: 1m 4s\n",
            "100:\tlearn: 0.0003841\ttest: 0.0003982\tbest: 0.0003982 (100)\ttotal: 1.25s\tremaining: 11.1s\n",
            "200:\tlearn: 0.0001090\ttest: 0.0001152\tbest: 0.0001152 (200)\ttotal: 4s\tremaining: 15.9s\n",
            "300:\tlearn: 0.0000631\ttest: 0.0000675\tbest: 0.0000675 (300)\ttotal: 9.56s\tremaining: 22.2s\n",
            "400:\tlearn: 0.0000442\ttest: 0.0000475\tbest: 0.0000475 (400)\ttotal: 13.2s\tremaining: 19.8s\n",
            "500:\tlearn: 0.0000340\ttest: 0.0000365\tbest: 0.0000365 (500)\ttotal: 17s\tremaining: 17s\n",
            "600:\tlearn: 0.0000275\ttest: 0.0000296\tbest: 0.0000296 (600)\ttotal: 22.3s\tremaining: 14.8s\n",
            "700:\tlearn: 0.0000231\ttest: 0.0000249\tbest: 0.0000249 (700)\ttotal: 26.1s\tremaining: 11.1s\n",
            "800:\tlearn: 0.0000199\ttest: 0.0000214\tbest: 0.0000214 (800)\ttotal: 30.2s\tremaining: 7.51s\n",
            "900:\tlearn: 0.0000174\ttest: 0.0000188\tbest: 0.0000188 (900)\ttotal: 35.7s\tremaining: 3.92s\n",
            "999:\tlearn: 0.0000157\ttest: 0.0000169\tbest: 0.0000169 (999)\ttotal: 37s\tremaining: 0us\n",
            "bestTest = 1.690765962e-05\n",
            "bestIteration = 999\n"
          ]
        },
        {
          "output_type": "execute_result",
          "data": {
            "text/plain": [
              "<catboost.core.CatBoostClassifier at 0x79c5b9824810>"
            ]
          },
          "metadata": {},
          "execution_count": 9
        }
      ]
    },
    {
      "cell_type": "markdown",
      "source": [
        "## 9. Оценка"
      ],
      "metadata": {
        "id": "Y1Um4P5GyK05"
      }
    },
    {
      "cell_type": "code",
      "source": [
        "y_pred = model.predict(X_test)\n",
        "print(classification_report(y_test, y_pred, labels=[0, 1, 2]))"
      ],
      "metadata": {
        "colab": {
          "base_uri": "https://localhost:8080/"
        },
        "id": "KgEKu4uuty6F",
        "outputId": "573b0725-630e-4805-e8df-924fb085ccc5"
      },
      "execution_count": 10,
      "outputs": [
        {
          "output_type": "stream",
          "name": "stdout",
          "text": [
            "              precision    recall  f1-score   support\n",
            "\n",
            "           0       1.00      1.00      1.00      1198\n",
            "           1       1.00      1.00      1.00         2\n",
            "           2       1.00      1.00      1.00         1\n",
            "\n",
            "    accuracy                           1.00      1201\n",
            "   macro avg       1.00      1.00      1.00      1201\n",
            "weighted avg       1.00      1.00      1.00      1201\n",
            "\n"
          ]
        }
      ]
    },
    {
      "cell_type": "markdown",
      "source": [
        "## 10. Важность признаков"
      ],
      "metadata": {
        "id": "6EXQ93LVyPSR"
      }
    },
    {
      "cell_type": "code",
      "source": [
        "feature_names = ['Degree', 'EdgeMean', 'EdgeMax', 'EdgeMin', 'EdgeCount']\n",
        "print(\"\\nFeature Importance:\")\n",
        "for name, score in zip(feature_names, model.get_feature_importance()):\n",
        "    print(f\"{name}: {score:.2f}\")"
      ],
      "metadata": {
        "colab": {
          "base_uri": "https://localhost:8080/"
        },
        "id": "5p5L1DUvsKws",
        "outputId": "2fce3c43-eb89-43e2-8cb8-8d545cbb82d0"
      },
      "execution_count": 11,
      "outputs": [
        {
          "output_type": "stream",
          "name": "stdout",
          "text": [
            "\n",
            "Feature Importance:\n",
            "Degree: 60.55\n",
            "EdgeMean: 3.39\n",
            "EdgeMax: 5.70\n",
            "EdgeMin: 3.55\n",
            "EdgeCount: 26.81\n"
          ]
        }
      ]
    },
    {
      "cell_type": "markdown",
      "source": [
        "## 11. Сохранение модели"
      ],
      "metadata": {
        "id": "3xXSoaINrwI9"
      }
    },
    {
      "cell_type": "code",
      "source": [
        "model.save_model('catboost_model.cbm')"
      ],
      "metadata": {
        "id": "_1WjdzZYrVtq"
      },
      "execution_count": 12,
      "outputs": []
    },
    {
      "cell_type": "markdown",
      "source": [
        "## 12. Загрузка модели"
      ],
      "metadata": {
        "id": "w2jSGq9br_D5"
      }
    },
    {
      "cell_type": "code",
      "source": [
        "loaded_model = CatBoostClassifier()\n",
        "loaded_model.load_model('catboost_model.cbm')"
      ],
      "metadata": {
        "colab": {
          "base_uri": "https://localhost:8080/"
        },
        "id": "anX3Sw_crcet",
        "outputId": "75d26af6-7891-460e-b859-40b92d6068fa"
      },
      "execution_count": 13,
      "outputs": [
        {
          "output_type": "execute_result",
          "data": {
            "text/plain": [
              "<catboost.core.CatBoostClassifier at 0x79c4b7dd16d0>"
            ]
          },
          "metadata": {},
          "execution_count": 13
        }
      ]
    },
    {
      "cell_type": "code",
      "source": [
        "y_pred = loaded_model.predict(X_test)\n",
        "print(classification_report(y_test, y_pred, labels=[0, 1, 2]))"
      ],
      "metadata": {
        "colab": {
          "base_uri": "https://localhost:8080/"
        },
        "id": "eVD6fffSriNn",
        "outputId": "bbe15244-8089-443d-aeaa-91c4c04ccfbe"
      },
      "execution_count": 14,
      "outputs": [
        {
          "output_type": "stream",
          "name": "stdout",
          "text": [
            "              precision    recall  f1-score   support\n",
            "\n",
            "           0       1.00      1.00      1.00      1198\n",
            "           1       1.00      1.00      1.00         2\n",
            "           2       1.00      1.00      1.00         1\n",
            "\n",
            "    accuracy                           1.00      1201\n",
            "   macro avg       1.00      1.00      1.00      1201\n",
            "weighted avg       1.00      1.00      1.00      1201\n",
            "\n"
          ]
        }
      ]
    }
  ]
}