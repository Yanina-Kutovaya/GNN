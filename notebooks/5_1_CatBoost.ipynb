{
  "nbformat": 4,
  "nbformat_minor": 0,
  "metadata": {
    "colab": {
      "provenance": [],
      "gpuType": "T4",
      "authorship_tag": "ABX9TyMS1O1S2l2V3l1/Q+9NbTeO",
      "include_colab_link": true
    },
    "kernelspec": {
      "name": "python3",
      "display_name": "Python 3"
    },
    "language_info": {
      "name": "python"
    },
    "widgets": {
      "application/vnd.jupyter.widget-state+json": {
        "daa54488979b4959aad85e4a6228b86c": {
          "model_module": "catboost-widget",
          "model_name": "CatboostWidgetModel",
          "model_module_version": "^1.0.0",
          "state": {
            "_dom_classes": [],
            "_model_module": "catboost-widget",
            "_model_module_version": "^1.0.0",
            "_model_name": "CatboostWidgetModel",
            "_view_count": null,
            "_view_module": "catboost-widget",
            "_view_module_version": "^1.0.0",
            "_view_name": "CatboostWidgetView",
            "data": {
              "catboost_info": {
                "path": "catboost_info",
                "name": "catboost_info",
                "content": {
                  "passed_iterations": 999,
                  "total_iterations": 1000,
                  "data": {
                    "iterations": [
                      {
                        "learn": [
                          0.9095124587
                        ],
                        "iteration": 0,
                        "passed_time": 0.05590058551,
                        "remaining_time": 55.84468492,
                        "test": [
                          0.9095340065
                        ]
                      },
                      {
                        "learn": [
                          0.7691731703
                        ],
                        "iteration": 1,
                        "passed_time": 0.1159080671,
                        "remaining_time": 57.83812549,
                        "test": [
                          0.769208033
                        ]
                      },
                      {
                        "learn": [
                          0.6595520985
                        ],
                        "iteration": 2,
                        "passed_time": 0.1632973803,
                        "remaining_time": 54.26916271,
                        "test": [
                          0.6595953974
                        ]
                      },
                      {
                        "learn": [
                          0.5711203392
                        ],
                        "iteration": 3,
                        "passed_time": 0.2044395481,
                        "remaining_time": 50.90544747,
                        "test": [
                          0.5711692283
                        ]
                      },
                      {
                        "learn": [
                          0.4981785503
                        ],
                        "iteration": 4,
                        "passed_time": 0.2204844794,
                        "remaining_time": 43.87641139,
                        "test": [
                          0.4982309461
                        ]
                      },
                      {
                        "learn": [
                          0.437027778
                        ],
                        "iteration": 5,
                        "passed_time": 0.2302490911,
                        "remaining_time": 38.14459942,
                        "test": [
                          0.4370823589
                        ]
                      },
                      {
                        "learn": [
                          0.3851239334
                        ],
                        "iteration": 6,
                        "passed_time": 0.2412106398,
                        "remaining_time": 34.21745219,
                        "test": [
                          0.3851796578
                        ]
                      },
                      {
                        "learn": [
                          0.3406391382
                        ],
                        "iteration": 7,
                        "passed_time": 0.2505752719,
                        "remaining_time": 31.07133372,
                        "test": [
                          0.3406955233
                        ]
                      },
                      {
                        "learn": [
                          0.3022154745
                        ],
                        "iteration": 8,
                        "passed_time": 0.2628679125,
                        "remaining_time": 28.94467792,
                        "test": [
                          0.3022718596
                        ]
                      },
                      {
                        "learn": [
                          0.268815116
                        ],
                        "iteration": 9,
                        "passed_time": 0.2721518633,
                        "remaining_time": 26.94303447,
                        "test": [
                          0.2688711962
                        ]
                      },
                      {
                        "learn": [
                          0.2396282415
                        ],
                        "iteration": 10,
                        "passed_time": 0.2824041043,
                        "remaining_time": 25.39069629,
                        "test": [
                          0.2396837373
                        ]
                      },
                      {
                        "learn": [
                          0.2140099925
                        ],
                        "iteration": 11,
                        "passed_time": 0.2916819946,
                        "remaining_time": 24.01515089,
                        "test": [
                          0.2140647259
                        ]
                      },
                      {
                        "learn": [
                          0.1914399438
                        ],
                        "iteration": 12,
                        "passed_time": 0.3016310689,
                        "remaining_time": 22.90075885,
                        "test": [
                          0.1914937625
                        ]
                      },
                      {
                        "learn": [
                          0.1714916626
                        ],
                        "iteration": 13,
                        "passed_time": 0.3111121133,
                        "remaining_time": 21.91118169,
                        "test": [
                          0.1715444903
                        ]
                      },
                      {
                        "learn": [
                          0.153811859
                        ],
                        "iteration": 14,
                        "passed_time": 0.3214780528,
                        "remaining_time": 21.11039213,
                        "test": [
                          0.1538635813
                        ]
                      },
                      {
                        "learn": [
                          0.1381051908
                        ],
                        "iteration": 15,
                        "passed_time": 0.3346233592,
                        "remaining_time": 20.57933659,
                        "test": [
                          0.1381557824
                        ]
                      },
                      {
                        "learn": [
                          0.1241225498
                        ],
                        "iteration": 16,
                        "passed_time": 0.3717143952,
                        "remaining_time": 21.49383827,
                        "test": [
                          0.1241719852
                        ]
                      },
                      {
                        "learn": [
                          0.1116523203
                        ],
                        "iteration": 17,
                        "passed_time": 0.3818001761,
                        "remaining_time": 20.82932072,
                        "test": [
                          0.1117005868
                        ]
                      },
                      {
                        "learn": [
                          0.100512877
                        ],
                        "iteration": 18,
                        "passed_time": 0.3910416945,
                        "remaining_time": 20.19010012,
                        "test": [
                          0.100559981
                        ]
                      },
                      {
                        "learn": [
                          0.09054835412
                        ],
                        "iteration": 19,
                        "passed_time": 0.4000992112,
                        "remaining_time": 19.60486135,
                        "test": [
                          0.09059427025
                        ]
                      },
                      {
                        "learn": [
                          0.08162380476
                        ],
                        "iteration": 20,
                        "passed_time": 0.4130282347,
                        "remaining_time": 19.25498294,
                        "test": [
                          0.08166855201
                        ]
                      },
                      {
                        "learn": [
                          0.07362192934
                        ],
                        "iteration": 21,
                        "passed_time": 0.4223936317,
                        "remaining_time": 18.7773169,
                        "test": [
                          0.07366552678
                        ]
                      },
                      {
                        "learn": [
                          0.0664402043
                        ],
                        "iteration": 22,
                        "passed_time": 0.4316500108,
                        "remaining_time": 18.33574176,
                        "test": [
                          0.0664826837
                        ]
                      },
                      {
                        "learn": [
                          0.05998911607
                        ],
                        "iteration": 23,
                        "passed_time": 0.4408953479,
                        "remaining_time": 17.92974415,
                        "test": [
                          0.06003047743
                        ]
                      },
                      {
                        "learn": [
                          0.05418988688
                        ],
                        "iteration": 24,
                        "passed_time": 0.4643943908,
                        "remaining_time": 18.11138124,
                        "test": [
                          0.0542301556
                        ]
                      },
                      {
                        "learn": [
                          0.04897267058
                        ],
                        "iteration": 25,
                        "passed_time": 0.4853209855,
                        "remaining_time": 18.18087076,
                        "test": [
                          0.04901188796
                        ]
                      },
                      {
                        "learn": [
                          0.04427643839
                        ],
                        "iteration": 26,
                        "passed_time": 0.4994379138,
                        "remaining_time": 17.9982626,
                        "test": [
                          0.04431461712
                        ]
                      },
                      {
                        "learn": [
                          0.04004681895
                        ],
                        "iteration": 27,
                        "passed_time": 0.5159524049,
                        "remaining_time": 17.9109192,
                        "test": [
                          0.04008398127
                        ]
                      },
                      {
                        "learn": [
                          0.03623538053
                        ],
                        "iteration": 28,
                        "passed_time": 0.5348133641,
                        "remaining_time": 17.90702678,
                        "test": [
                          0.03627157092
                        ]
                      },
                      {
                        "learn": [
                          0.03279931658
                        ],
                        "iteration": 29,
                        "passed_time": 0.5531564645,
                        "remaining_time": 17.88539235,
                        "test": [
                          0.03283455092
                        ]
                      },
                      {
                        "learn": [
                          0.02970034991
                        ],
                        "iteration": 30,
                        "passed_time": 0.5671533728,
                        "remaining_time": 17.72811672,
                        "test": [
                          0.02973465677
                        ]
                      },
                      {
                        "learn": [
                          0.02690425304
                        ],
                        "iteration": 31,
                        "passed_time": 0.5811453575,
                        "remaining_time": 17.57964707,
                        "test": [
                          0.0269376642
                        ]
                      },
                      {
                        "learn": [
                          0.02438072122
                        ],
                        "iteration": 32,
                        "passed_time": 0.5999750233,
                        "remaining_time": 17.58108629,
                        "test": [
                          0.0244132589
                        ]
                      },
                      {
                        "learn": [
                          0.0221024703
                        ],
                        "iteration": 33,
                        "passed_time": 0.6139516293,
                        "remaining_time": 17.44344923,
                        "test": [
                          0.02213416786
                        ]
                      },
                      {
                        "learn": [
                          0.02004502715
                        ],
                        "iteration": 34,
                        "passed_time": 0.6582592858,
                        "remaining_time": 18.14914888,
                        "test": [
                          0.02007590682
                        ]
                      },
                      {
                        "learn": [
                          0.01818634529
                        ],
                        "iteration": 35,
                        "passed_time": 0.7111402704,
                        "remaining_time": 19.04275613,
                        "test": [
                          0.01821643248
                        ]
                      },
                      {
                        "learn": [
                          0.0165072353
                        ],
                        "iteration": 36,
                        "passed_time": 0.762872079,
                        "remaining_time": 19.85529222,
                        "test": [
                          0.01653655701
                        ]
                      },
                      {
                        "learn": [
                          0.01498964962
                        ],
                        "iteration": 37,
                        "passed_time": 0.8051083294,
                        "remaining_time": 20.38195297,
                        "test": [
                          0.0150182265
                        ]
                      },
                      {
                        "learn": [
                          0.01361795468
                        ],
                        "iteration": 38,
                        "passed_time": 0.8163139788,
                        "remaining_time": 20.11481368,
                        "test": [
                          0.0136458169
                        ]
                      },
                      {
                        "learn": [
                          0.01237777548
                        ],
                        "iteration": 39,
                        "passed_time": 0.8257122141,
                        "remaining_time": 19.81709314,
                        "test": [
                          0.0124049413
                        ]
                      },
                      {
                        "learn": [
                          0.01125640456
                        ],
                        "iteration": 40,
                        "passed_time": 0.8349382488,
                        "remaining_time": 19.52940928,
                        "test": [
                          0.0112828994
                        ]
                      },
                      {
                        "learn": [
                          0.01024217471
                        ],
                        "iteration": 41,
                        "passed_time": 0.8441150415,
                        "remaining_time": 19.25386214,
                        "test": [
                          0.01026802317
                        ]
                      },
                      {
                        "learn": [
                          0.009324563731
                        ],
                        "iteration": 42,
                        "passed_time": 0.8533135025,
                        "remaining_time": 18.99118656,
                        "test": [
                          0.009349781707
                        ]
                      },
                      {
                        "learn": [
                          0.008494578829
                        ],
                        "iteration": 43,
                        "passed_time": 0.8626160128,
                        "remaining_time": 18.74229337,
                        "test": [
                          0.008519189344
                        ]
                      },
                      {
                        "learn": [
                          0.007743339951
                        ],
                        "iteration": 44,
                        "passed_time": 0.8651142262,
                        "remaining_time": 18.35964636,
                        "test": [
                          0.007767363651
                        ]
                      },
                      {
                        "learn": [
                          0.007063553593
                        ],
                        "iteration": 45,
                        "passed_time": 0.8744015077,
                        "remaining_time": 18.13432692,
                        "test": [
                          0.007087010329
                        ]
                      },
                      {
                        "learn": [
                          0.006448115238
                        ],
                        "iteration": 46,
                        "passed_time": 0.8836763643,
                        "remaining_time": 17.91794841,
                        "test": [
                          0.006471023274
                        ]
                      },
                      {
                        "learn": [
                          0.005891113456
                        ],
                        "iteration": 47,
                        "passed_time": 0.8879383105,
                        "remaining_time": 17.61077649,
                        "test": [
                          0.005913489863
                        ]
                      },
                      {
                        "learn": [
                          0.005386676915
                        ],
                        "iteration": 48,
                        "passed_time": 0.8973277715,
                        "remaining_time": 17.41548389,
                        "test": [
                          0.005408542341
                        ]
                      },
                      {
                        "learn": [
                          0.004929679518
                        ],
                        "iteration": 49,
                        "passed_time": 0.9069618471,
                        "remaining_time": 17.23227509,
                        "test": [
                          0.004951047461
                        ]
                      },
                      {
                        "learn": [
                          0.004515890873
                        ],
                        "iteration": 50,
                        "passed_time": 0.9163594574,
                        "remaining_time": 17.05147304,
                        "test": [
                          0.004536779199
                        ]
                      },
                      {
                        "learn": [
                          0.00414086222
                        ],
                        "iteration": 51,
                        "passed_time": 0.9221867958,
                        "remaining_time": 16.81217466,
                        "test": [
                          0.004161286414
                        ]
                      },
                      {
                        "learn": [
                          0.003801041698
                        ],
                        "iteration": 52,
                        "passed_time": 0.9247085283,
                        "remaining_time": 16.52262219,
                        "test": [
                          0.003821017244
                        ]
                      },
                      {
                        "learn": [
                          0.003492901665
                        ],
                        "iteration": 53,
                        "passed_time": 0.9311580078,
                        "remaining_time": 16.3125088,
                        "test": [
                          0.003512444048
                        ]
                      },
                      {
                        "learn": [
                          0.003213375038
                        ],
                        "iteration": 54,
                        "passed_time": 0.9422832558,
                        "remaining_time": 16.19013958,
                        "test": [
                          0.003232497558
                        ]
                      },
                      {
                        "learn": [
                          0.002960105224
                        ],
                        "iteration": 55,
                        "passed_time": 0.9516163186,
                        "remaining_time": 16.04153223,
                        "test": [
                          0.002978821777
                        ]
                      },
                      {
                        "learn": [
                          0.002763013856
                        ],
                        "iteration": 56,
                        "passed_time": 0.9528960717,
                        "remaining_time": 15.76457887,
                        "test": [
                          0.002782520704
                        ]
                      },
                      {
                        "learn": [
                          0.00258692099
                        ],
                        "iteration": 57,
                        "passed_time": 0.9541881818,
                        "remaining_time": 15.49733219,
                        "test": [
                          0.002607251286
                        ]
                      },
                      {
                        "learn": [
                          0.002392966384
                        ],
                        "iteration": 58,
                        "passed_time": 0.9635247663,
                        "remaining_time": 15.36740348,
                        "test": [
                          0.002412833739
                        ]
                      },
                      {
                        "learn": [
                          0.002216793119
                        ],
                        "iteration": 59,
                        "passed_time": 0.9689214057,
                        "remaining_time": 15.17976869,
                        "test": [
                          0.002236215399
                        ]
                      },
                      {
                        "learn": [
                          0.002056519654
                        ],
                        "iteration": 60,
                        "passed_time": 0.9724692254,
                        "remaining_time": 14.96964922,
                        "test": [
                          0.002075511748
                        ]
                      },
                      {
                        "learn": [
                          0.001910910817
                        ],
                        "iteration": 61,
                        "passed_time": 0.9817808999,
                        "remaining_time": 14.85339491,
                        "test": [
                          0.001929488408
                        ]
                      },
                      {
                        "learn": [
                          0.001778211919
                        ],
                        "iteration": 62,
                        "passed_time": 0.9910632549,
                        "remaining_time": 14.74009952,
                        "test": [
                          0.001796389698
                        ]
                      },
                      {
                        "learn": [
                          0.001686899192
                        ],
                        "iteration": 63,
                        "passed_time": 0.992331125,
                        "remaining_time": 14.5128427,
                        "test": [
                          0.001705748155
                        ]
                      },
                      {
                        "learn": [
                          0.001605444606
                        ],
                        "iteration": 64,
                        "passed_time": 0.993684759,
                        "remaining_time": 14.29377307,
                        "test": [
                          0.001624980934
                        ]
                      },
                      {
                        "learn": [
                          0.00150200608
                        ],
                        "iteration": 65,
                        "passed_time": 1.003080111,
                        "remaining_time": 14.19510338,
                        "test": [
                          0.001520824174
                        ]
                      },
                      {
                        "learn": [
                          0.00140686317
                        ],
                        "iteration": 66,
                        "passed_time": 1.005567905,
                        "remaining_time": 14.00290829,
                        "test": [
                          0.001425259616
                        ]
                      },
                      {
                        "learn": [
                          0.00134869936
                        ],
                        "iteration": 67,
                        "passed_time": 1.006826134,
                        "remaining_time": 13.79944054,
                        "test": [
                          0.001367714582
                        ]
                      },
                      {
                        "learn": [
                          0.001267445872
                        ],
                        "iteration": 68,
                        "passed_time": 1.016036155,
                        "remaining_time": 13.70912551,
                        "test": [
                          0.001286028724
                        ]
                      },
                      {
                        "learn": [
                          0.001192957237
                        ],
                        "iteration": 69,
                        "passed_time": 1.025371725,
                        "remaining_time": 13.62279578,
                        "test": [
                          0.001211124396
                        ]
                      },
                      {
                        "learn": [
                          0.001151468335
                        ],
                        "iteration": 70,
                        "passed_time": 1.026629134,
                        "remaining_time": 13.43293614,
                        "test": [
                          0.001170193424
                        ]
                      },
                      {
                        "learn": [
                          0.001100598525
                        ],
                        "iteration": 71,
                        "passed_time": 1.028622913,
                        "remaining_time": 13.25780643,
                        "test": [
                          0.001119758267
                        ]
                      },
                      {
                        "learn": [
                          0.001040703153
                        ],
                        "iteration": 72,
                        "passed_time": 1.031739248,
                        "remaining_time": 13.1016751,
                        "test": [
                          0.001059420401
                        ]
                      },
                      {
                        "learn": [
                          0.0009867458121
                        ],
                        "iteration": 73,
                        "passed_time": 1.041128894,
                        "remaining_time": 13.02818048,
                        "test": [
                          0.001005511796
                        ]
                      },
                      {
                        "learn": [
                          0.0009372003073
                        ],
                        "iteration": 74,
                        "passed_time": 1.044261558,
                        "remaining_time": 12.87922588,
                        "test": [
                          0.0009555211174
                        ]
                      },
                      {
                        "learn": [
                          0.0009138596048
                        ],
                        "iteration": 75,
                        "passed_time": 1.045551722,
                        "remaining_time": 12.71170778,
                        "test": [
                          0.0009326516937
                        ]
                      },
                      {
                        "learn": [
                          0.0008690934892
                        ],
                        "iteration": 76,
                        "passed_time": 1.053120738,
                        "remaining_time": 12.62377197,
                        "test": [
                          0.0008874565834
                        ]
                      },
                      {
                        "learn": [
                          0.0008503316741
                        ],
                        "iteration": 77,
                        "passed_time": 1.05440677,
                        "remaining_time": 12.46362874,
                        "test": [
                          0.000869132994
                        ]
                      },
                      {
                        "learn": [
                          0.0008222937187
                        ],
                        "iteration": 78,
                        "passed_time": 1.056397568,
                        "remaining_time": 12.31572354,
                        "test": [
                          0.0008414149979
                        ]
                      },
                      {
                        "learn": [
                          0.0007848543092
                        ],
                        "iteration": 79,
                        "passed_time": 1.058860563,
                        "remaining_time": 12.17689648,
                        "test": [
                          0.0008035304644
                        ]
                      },
                      {
                        "learn": [
                          0.0007515508468
                        ],
                        "iteration": 80,
                        "passed_time": 1.068625272,
                        "remaining_time": 12.12427932,
                        "test": [
                          0.0007702691867
                        ]
                      },
                      {
                        "learn": [
                          0.0007192329205
                        ],
                        "iteration": 81,
                        "passed_time": 1.071111944,
                        "remaining_time": 11.99122884,
                        "test": [
                          0.0007375266332
                        ]
                      },
                      {
                        "learn": [
                          0.0006904720665
                        ],
                        "iteration": 82,
                        "passed_time": 1.080899472,
                        "remaining_time": 11.94198573,
                        "test": [
                          0.0007087998247
                        ]
                      },
                      {
                        "learn": [
                          0.0006637160824
                        ],
                        "iteration": 83,
                        "passed_time": 1.084151962,
                        "remaining_time": 11.82241902,
                        "test": [
                          0.0006816186178
                        ]
                      },
                      {
                        "learn": [
                          0.0006387375674
                        ],
                        "iteration": 84,
                        "passed_time": 1.093623606,
                        "remaining_time": 11.77253647,
                        "test": [
                          0.0006562286273
                        ]
                      },
                      {
                        "learn": [
                          0.0006154011826
                        ],
                        "iteration": 85,
                        "passed_time": 1.099508667,
                        "remaining_time": 11.68547583,
                        "test": [
                          0.0006324897499
                        ]
                      },
                      {
                        "learn": [
                          0.0006086416884
                        ],
                        "iteration": 86,
                        "passed_time": 1.100747904,
                        "remaining_time": 11.55152685,
                        "test": [
                          0.0006260001391
                        ]
                      },
                      {
                        "learn": [
                          0.0005874409961
                        ],
                        "iteration": 87,
                        "passed_time": 1.109491013,
                        "remaining_time": 11.4983614,
                        "test": [
                          0.0006048329962
                        ]
                      },
                      {
                        "learn": [
                          0.0005673365132
                        ],
                        "iteration": 88,
                        "passed_time": 1.11818885,
                        "remaining_time": 11.44573082,
                        "test": [
                          0.0005843523738
                        ]
                      },
                      {
                        "learn": [
                          0.0005475918419
                        ],
                        "iteration": 89,
                        "passed_time": 1.126771063,
                        "remaining_time": 11.39290741,
                        "test": [
                          0.0005642452605
                        ]
                      },
                      {
                        "learn": [
                          0.0005303549826
                        ],
                        "iteration": 90,
                        "passed_time": 1.15114506,
                        "remaining_time": 11.49880065,
                        "test": [
                          0.0005464223303
                        ]
                      },
                      {
                        "learn": [
                          0.000512763771
                        ],
                        "iteration": 91,
                        "passed_time": 1.168354993,
                        "remaining_time": 11.5311558,
                        "test": [
                          0.0005284967669
                        ]
                      },
                      {
                        "learn": [
                          0.0004973931674
                        ],
                        "iteration": 92,
                        "passed_time": 1.186993675,
                        "remaining_time": 11.57637918,
                        "test": [
                          0.0005131597126
                        ]
                      },
                      {
                        "learn": [
                          0.0004826996051
                        ],
                        "iteration": 93,
                        "passed_time": 1.204287091,
                        "remaining_time": 11.6072777,
                        "test": [
                          0.0004981280763
                        ]
                      },
                      {
                        "learn": [
                          0.0004680587489
                        ],
                        "iteration": 94,
                        "passed_time": 1.226630843,
                        "remaining_time": 11.68527277,
                        "test": [
                          0.0004831762933
                        ]
                      },
                      {
                        "learn": [
                          0.0004541380122
                        ],
                        "iteration": 95,
                        "passed_time": 1.245050454,
                        "remaining_time": 11.72422511,
                        "test": [
                          0.0004689557963
                        ]
                      },
                      {
                        "learn": [
                          0.0004417214862
                        ],
                        "iteration": 96,
                        "passed_time": 1.261945427,
                        "remaining_time": 11.74780125,
                        "test": [
                          0.0004562339517
                        ]
                      },
                      {
                        "learn": [
                          0.0004300954042
                        ],
                        "iteration": 97,
                        "passed_time": 1.281053224,
                        "remaining_time": 11.79091845,
                        "test": [
                          0.0004446400294
                        ]
                      },
                      {
                        "learn": [
                          0.0004181201809
                        ],
                        "iteration": 98,
                        "passed_time": 1.302913514,
                        "remaining_time": 11.85782905,
                        "test": [
                          0.0004323852449
                        ]
                      },
                      {
                        "learn": [
                          0.0004076982517
                        ],
                        "iteration": 99,
                        "passed_time": 1.331025031,
                        "remaining_time": 11.97922528,
                        "test": [
                          0.0004216797842
                        ]
                      },
                      {
                        "learn": [
                          0.0003976919421
                        ],
                        "iteration": 100,
                        "passed_time": 1.380924578,
                        "remaining_time": 12.291596,
                        "test": [
                          0.0004117024828
                        ]
                      },
                      {
                        "learn": [
                          0.000387401828
                        ],
                        "iteration": 101,
                        "passed_time": 1.440356576,
                        "remaining_time": 12.68078632,
                        "test": [
                          0.0004011514681
                        ]
                      },
                      {
                        "learn": [
                          0.0003783568603
                        ],
                        "iteration": 102,
                        "passed_time": 1.460385541,
                        "remaining_time": 12.71811486,
                        "test": [
                          0.0003921313399
                        ]
                      },
                      {
                        "learn": [
                          0.0003697220779
                        ],
                        "iteration": 103,
                        "passed_time": 1.519806337,
                        "remaining_time": 13.09371613,
                        "test": [
                          0.0003835182206
                        ]
                      },
                      {
                        "learn": [
                          0.000360727062
                        ],
                        "iteration": 104,
                        "passed_time": 1.565070579,
                        "remaining_time": 13.34036351,
                        "test": [
                          0.0003742738925
                        ]
                      },
                      {
                        "learn": [
                          0.0003529542392
                        ],
                        "iteration": 105,
                        "passed_time": 1.626420254,
                        "remaining_time": 13.71716705,
                        "test": [
                          0.0003661014307
                        ]
                      },
                      {
                        "learn": [
                          0.0003455497641
                        ],
                        "iteration": 106,
                        "passed_time": 1.699388342,
                        "remaining_time": 14.1827457,
                        "test": [
                          0.0003587197602
                        ]
                      },
                      {
                        "learn": [
                          0.0003375885985
                        ],
                        "iteration": 107,
                        "passed_time": 1.734828338,
                        "remaining_time": 14.32839702,
                        "test": [
                          0.0003505273227
                        ]
                      },
                      {
                        "learn": [
                          0.000330645104
                        ],
                        "iteration": 108,
                        "passed_time": 1.781677023,
                        "remaining_time": 14.56398374,
                        "test": [
                          0.000343603258
                        ]
                      },
                      {
                        "learn": [
                          0.0003241016704
                        ],
                        "iteration": 109,
                        "passed_time": 1.815662835,
                        "remaining_time": 14.69036294,
                        "test": [
                          0.0003370765742
                        ]
                      },
                      {
                        "learn": [
                          0.0003175053569
                        ],
                        "iteration": 110,
                        "passed_time": 1.888201539,
                        "remaining_time": 15.12262314,
                        "test": [
                          0.000330129035
                        ]
                      },
                      {
                        "learn": [
                          0.0003106242463
                        ],
                        "iteration": 111,
                        "passed_time": 1.982022512,
                        "remaining_time": 15.71460706,
                        "test": [
                          0.0003230347671
                        ]
                      },
                      {
                        "learn": [
                          0.000304935849
                        ],
                        "iteration": 112,
                        "passed_time": 2.057444026,
                        "remaining_time": 16.15002523,
                        "test": [
                          0.0003171322695
                        ]
                      },
                      {
                        "learn": [
                          0.0002992812243
                        ],
                        "iteration": 113,
                        "passed_time": 2.186404654,
                        "remaining_time": 16.99258354,
                        "test": [
                          0.0003112690286
                        ]
                      },
                      {
                        "learn": [
                          0.000293276838
                        ],
                        "iteration": 114,
                        "passed_time": 2.274909565,
                        "remaining_time": 17.50691274,
                        "test": [
                          0.0003050677137
                        ]
                      },
                      {
                        "learn": [
                          0.0002874544916
                        ],
                        "iteration": 115,
                        "passed_time": 2.35974863,
                        "remaining_time": 17.98291197,
                        "test": [
                          0.0002990543693
                        ]
                      },
                      {
                        "learn": [
                          0.0002825205322
                        ],
                        "iteration": 116,
                        "passed_time": 2.482847291,
                        "remaining_time": 18.73806973,
                        "test": [
                          0.000293928618
                        ]
                      },
                      {
                        "learn": [
                          0.0002777375945
                        ],
                        "iteration": 117,
                        "passed_time": 2.592480521,
                        "remaining_time": 19.37769338,
                        "test": [
                          0.0002891652094
                        ]
                      },
                      {
                        "learn": [
                          0.0002729863449
                        ],
                        "iteration": 118,
                        "passed_time": 2.699799264,
                        "remaining_time": 19.98758951,
                        "test": [
                          0.0002844315782
                        ]
                      },
                      {
                        "learn": [
                          0.00026794072
                        ],
                        "iteration": 119,
                        "passed_time": 2.819322659,
                        "remaining_time": 20.67503283,
                        "test": [
                          0.0002792067671
                        ]
                      },
                      {
                        "learn": [
                          0.0002636160581
                        ],
                        "iteration": 120,
                        "passed_time": 2.921318996,
                        "remaining_time": 21.2218132,
                        "test": [
                          0.0002748974406
                        ]
                      },
                      {
                        "learn": [
                          0.0002587876104
                        ],
                        "iteration": 121,
                        "passed_time": 3.025396442,
                        "remaining_time": 21.77293505,
                        "test": [
                          0.0002698957374
                        ]
                      },
                      {
                        "learn": [
                          0.0002548849205
                        ],
                        "iteration": 122,
                        "passed_time": 3.080680423,
                        "remaining_time": 21.96550188,
                        "test": [
                          0.0002658200155
                        ]
                      },
                      {
                        "learn": [
                          0.000250890516
                        ],
                        "iteration": 123,
                        "passed_time": 3.144706907,
                        "remaining_time": 22.21583266,
                        "test": [
                          0.0002618396312
                        ]
                      },
                      {
                        "learn": [
                          0.0002466494793
                        ],
                        "iteration": 124,
                        "passed_time": 3.239569357,
                        "remaining_time": 22.6769855,
                        "test": [
                          0.0002574349174
                        ]
                      },
                      {
                        "learn": [
                          0.0002428338639
                        ],
                        "iteration": 125,
                        "passed_time": 3.299408499,
                        "remaining_time": 22.88637324,
                        "test": [
                          0.0002536312378
                        ]
                      },
                      {
                        "learn": [
                          0.0002395324812
                        ],
                        "iteration": 126,
                        "passed_time": 3.370064915,
                        "remaining_time": 23.1658793,
                        "test": [
                          0.0002502074944
                        ]
                      },
                      {
                        "learn": [
                          0.0002355159917
                        ],
                        "iteration": 127,
                        "passed_time": 3.421560149,
                        "remaining_time": 23.30937852,
                        "test": [
                          0.0002460351693
                        ]
                      },
                      {
                        "learn": [
                          0.0002322530717
                        ],
                        "iteration": 128,
                        "passed_time": 3.471703633,
                        "remaining_time": 23.44072763,
                        "test": [
                          0.0002427832173
                        ]
                      },
                      {
                        "learn": [
                          0.0002290130307
                        ],
                        "iteration": 129,
                        "passed_time": 3.554407833,
                        "remaining_time": 23.78719088,
                        "test": [
                          0.000239552854
                        ]
                      },
                      {
                        "learn": [
                          0.0002253346648
                        ],
                        "iteration": 130,
                        "passed_time": 3.648362644,
                        "remaining_time": 24.20173388,
                        "test": [
                          0.0002357246576
                        ]
                      },
                      {
                        "learn": [
                          0.0002222637104
                        ],
                        "iteration": 131,
                        "passed_time": 3.712592994,
                        "remaining_time": 24.41311151,
                        "test": [
                          0.0002326615446
                        ]
                      },
                      {
                        "learn": [
                          0.0002193315936
                        ],
                        "iteration": 132,
                        "passed_time": 3.764994082,
                        "remaining_time": 24.5432321,
                        "test": [
                          0.0002295816074
                        ]
                      },
                      {
                        "learn": [
                          0.0002165387364
                        ],
                        "iteration": 133,
                        "passed_time": 3.835526268,
                        "remaining_time": 24.78780409,
                        "test": [
                          0.000226643957
                        ]
                      },
                      {
                        "learn": [
                          0.0002132161869
                        ],
                        "iteration": 134,
                        "passed_time": 3.882675569,
                        "remaining_time": 24.8778842,
                        "test": [
                          0.0002231820735
                        ]
                      },
                      {
                        "learn": [
                          0.0002100482819
                        ],
                        "iteration": 135,
                        "passed_time": 3.941604761,
                        "remaining_time": 25.04078319,
                        "test": [
                          0.0002198782591
                        ]
                      },
                      {
                        "learn": [
                          0.0002074438666
                        ],
                        "iteration": 136,
                        "passed_time": 4.02114966,
                        "remaining_time": 25.33030771,
                        "test": [
                          0.0002171391006
                        ]
                      },
                      {
                        "learn": [
                          0.0002044525422
                        ],
                        "iteration": 137,
                        "passed_time": 4.098962903,
                        "remaining_time": 25.60366683,
                        "test": [
                          0.000214017847
                        ]
                      },
                      {
                        "learn": [
                          0.0002020078957
                        ],
                        "iteration": 138,
                        "passed_time": 4.163602668,
                        "remaining_time": 25.79037336,
                        "test": [
                          0.0002114433829
                        ]
                      },
                      {
                        "learn": [
                          0.0001994615714
                        ],
                        "iteration": 139,
                        "passed_time": 4.220343887,
                        "remaining_time": 25.92496959,
                        "test": [
                          0.0002087708516
                        ]
                      },
                      {
                        "learn": [
                          0.0001966654138
                        ],
                        "iteration": 140,
                        "passed_time": 4.243105186,
                        "remaining_time": 25.8498394,
                        "test": [
                          0.0002058527055
                        ]
                      },
                      {
                        "learn": [
                          0.0001942761658
                        ],
                        "iteration": 141,
                        "passed_time": 4.261915211,
                        "remaining_time": 25.75157219,
                        "test": [
                          0.0002033424988
                        ]
                      },
                      {
                        "learn": [
                          0.0001919466217
                        ],
                        "iteration": 142,
                        "passed_time": 4.283738408,
                        "remaining_time": 25.67247423,
                        "test": [
                          0.000200833446
                        ]
                      },
                      {
                        "learn": [
                          0.0001897088296
                        ],
                        "iteration": 143,
                        "passed_time": 4.311336061,
                        "remaining_time": 25.6284977,
                        "test": [
                          0.0001984807623
                        ]
                      },
                      {
                        "learn": [
                          0.0001871270453
                        ],
                        "iteration": 144,
                        "passed_time": 4.344940608,
                        "remaining_time": 25.62016703,
                        "test": [
                          0.0001957876101
                        ]
                      },
                      {
                        "learn": [
                          0.0001846913568
                        ],
                        "iteration": 145,
                        "passed_time": 4.401792541,
                        "remaining_time": 25.74747144,
                        "test": [
                          0.0001932434074
                        ]
                      },
                      {
                        "learn": [
                          0.0001827439822
                        ],
                        "iteration": 146,
                        "passed_time": 4.452553698,
                        "remaining_time": 25.83692724,
                        "test": [
                          0.0001913070381
                        ]
                      },
                      {
                        "learn": [
                          0.0001806918032
                        ],
                        "iteration": 147,
                        "passed_time": 4.47590255,
                        "remaining_time": 25.76668225,
                        "test": [
                          0.0001891477842
                        ]
                      },
                      {
                        "learn": [
                          0.0001783179651
                        ],
                        "iteration": 148,
                        "passed_time": 4.508824909,
                        "remaining_time": 25.75174495,
                        "test": [
                          0.0001866701466
                        ]
                      },
                      {
                        "learn": [
                          0.0001764150955
                        ],
                        "iteration": 149,
                        "passed_time": 4.537990126,
                        "remaining_time": 25.71527738,
                        "test": [
                          0.0001847776619
                        ]
                      },
                      {
                        "learn": [
                          0.000174320223
                        ],
                        "iteration": 150,
                        "passed_time": 4.556677987,
                        "remaining_time": 25.61999743,
                        "test": [
                          0.0001825819802
                        ]
                      },
                      {
                        "learn": [
                          0.0001724468208
                        ],
                        "iteration": 151,
                        "passed_time": 4.570260283,
                        "remaining_time": 25.49724158,
                        "test": [
                          0.0001806086619
                        ]
                      },
                      {
                        "learn": [
                          0.0001702723555
                        ],
                        "iteration": 152,
                        "passed_time": 4.584487314,
                        "remaining_time": 25.37948206,
                        "test": [
                          0.0001783372585
                        ]
                      },
                      {
                        "learn": [
                          0.0001684355051
                        ],
                        "iteration": 153,
                        "passed_time": 4.607069048,
                        "remaining_time": 25.30896373,
                        "test": [
                          0.0001764050952
                        ]
                      },
                      {
                        "learn": [
                          0.0001664204115
                        ],
                        "iteration": 154,
                        "passed_time": 4.641387946,
                        "remaining_time": 25.30305042,
                        "test": [
                          0.0001742971455
                        ]
                      },
                      {
                        "learn": [
                          0.0001648389653
                        ],
                        "iteration": 155,
                        "passed_time": 4.65892866,
                        "remaining_time": 25.20599865,
                        "test": [
                          0.0001727251288
                        ]
                      },
                      {
                        "learn": [
                          0.0001628593194
                        ],
                        "iteration": 156,
                        "passed_time": 4.674874959,
                        "remaining_time": 25.10139867,
                        "test": [
                          0.0001706549964
                        ]
                      },
                      {
                        "learn": [
                          0.0001613030972
                        ],
                        "iteration": 157,
                        "passed_time": 4.688825795,
                        "remaining_time": 24.98728683,
                        "test": [
                          0.0001691072484
                        ]
                      },
                      {
                        "learn": [
                          0.0001597571482
                        ],
                        "iteration": 158,
                        "passed_time": 4.702980579,
                        "remaining_time": 24.87551363,
                        "test": [
                          0.0001674710612
                        ]
                      },
                      {
                        "learn": [
                          0.0001581025362
                        ],
                        "iteration": 159,
                        "passed_time": 4.718799564,
                        "remaining_time": 24.77369771,
                        "test": [
                          0.0001657280472
                        ]
                      },
                      {
                        "learn": [
                          0.0001565970846
                        ],
                        "iteration": 160,
                        "passed_time": 4.733720351,
                        "remaining_time": 24.66826941,
                        "test": [
                          0.0001641369854
                        ]
                      },
                      {
                        "learn": [
                          0.0001549307725
                        ],
                        "iteration": 161,
                        "passed_time": 4.74966769,
                        "remaining_time": 24.56926867,
                        "test": [
                          0.0001623871597
                        ]
                      },
                      {
                        "learn": [
                          0.0001533592646
                        ],
                        "iteration": 162,
                        "passed_time": 4.774175378,
                        "remaining_time": 24.51524412,
                        "test": [
                          0.0001606832039
                        ]
                      },
                      {
                        "learn": [
                          0.0001517222833
                        ],
                        "iteration": 163,
                        "passed_time": 4.805426911,
                        "remaining_time": 24.49595669,
                        "test": [
                          0.0001589660963
                        ]
                      },
                      {
                        "learn": [
                          0.0001503592179
                        ],
                        "iteration": 164,
                        "passed_time": 4.823419209,
                        "remaining_time": 24.40942448,
                        "test": [
                          0.0001576119145
                        ]
                      },
                      {
                        "learn": [
                          0.0001490054331
                        ],
                        "iteration": 165,
                        "passed_time": 4.841521911,
                        "remaining_time": 24.32427273,
                        "test": [
                          0.0001561797281
                        ]
                      },
                      {
                        "learn": [
                          0.0001476600729
                        ],
                        "iteration": 166,
                        "passed_time": 4.861315719,
                        "remaining_time": 24.24835925,
                        "test": [
                          0.0001551285076
                        ]
                      },
                      {
                        "learn": [
                          0.0001464421852
                        ],
                        "iteration": 167,
                        "passed_time": 4.879231011,
                        "remaining_time": 24.16381072,
                        "test": [
                          0.0001538308286
                        ]
                      },
                      {
                        "learn": [
                          0.0001451138602
                        ],
                        "iteration": 168,
                        "passed_time": 4.897976257,
                        "remaining_time": 24.08413177,
                        "test": [
                          0.0001524239654
                        ]
                      },
                      {
                        "learn": [
                          0.0001437940342
                        ],
                        "iteration": 169,
                        "passed_time": 4.937508073,
                        "remaining_time": 24.10665706,
                        "test": [
                          0.0001510275492
                        ]
                      },
                      {
                        "learn": [
                          0.0001424819256
                        ],
                        "iteration": 170,
                        "passed_time": 4.991078028,
                        "remaining_time": 24.19651278,
                        "test": [
                          0.0001497231579
                        ]
                      },
                      {
                        "learn": [
                          0.0001414156799
                        ],
                        "iteration": 171,
                        "passed_time": 5.04336108,
                        "remaining_time": 24.27850566,
                        "test": [
                          0.0001485809671
                        ]
                      },
                      {
                        "learn": [
                          0.0001401192416
                        ],
                        "iteration": 172,
                        "passed_time": 5.099880913,
                        "remaining_time": 24.37919951,
                        "test": [
                          0.0001472919733
                        ]
                      },
                      {
                        "learn": [
                          0.0001388344166
                        ],
                        "iteration": 173,
                        "passed_time": 5.154661524,
                        "remaining_time": 24.46982999,
                        "test": [
                          0.0001459329278
                        ]
                      },
                      {
                        "learn": [
                          0.0001375558821
                        ],
                        "iteration": 174,
                        "passed_time": 5.209436257,
                        "remaining_time": 24.55877093,
                        "test": [
                          0.0001445824806
                        ]
                      },
                      {
                        "learn": [
                          0.0001364358632
                        ],
                        "iteration": 175,
                        "passed_time": 5.259703493,
                        "remaining_time": 24.62497545,
                        "test": [
                          0.0001433904125
                        ]
                      },
                      {
                        "learn": [
                          0.0001350675123
                        ],
                        "iteration": 176,
                        "passed_time": 5.277950627,
                        "remaining_time": 24.54097947,
                        "test": [
                          0.0001419519852
                        ]
                      },
                      {
                        "learn": [
                          0.0001337126605
                        ],
                        "iteration": 177,
                        "passed_time": 5.324776246,
                        "remaining_time": 24.58969705,
                        "test": [
                          0.0001405280248
                        ]
                      },
                      {
                        "learn": [
                          0.0001323708984
                        ],
                        "iteration": 178,
                        "passed_time": 5.383789133,
                        "remaining_time": 24.69324513,
                        "test": [
                          0.0001391187546
                        ]
                      },
                      {
                        "learn": [
                          0.0001313720243
                        ],
                        "iteration": 179,
                        "passed_time": 5.450136619,
                        "remaining_time": 24.82840015,
                        "test": [
                          0.000138053365
                        ]
                      },
                      {
                        "learn": [
                          0.0001303797012
                        ],
                        "iteration": 180,
                        "passed_time": 5.488438973,
                        "remaining_time": 24.83442828,
                        "test": [
                          0.0001369953826
                        ]
                      },
                      {
                        "learn": [
                          0.0001293936439
                        ],
                        "iteration": 181,
                        "passed_time": 5.541097602,
                        "remaining_time": 24.90449362,
                        "test": [
                          0.000135944708
                        ]
                      },
                      {
                        "learn": [
                          0.0001282088341
                        ],
                        "iteration": 182,
                        "passed_time": 5.593306469,
                        "remaining_time": 24.97120975,
                        "test": [
                          0.0001346963232
                        ]
                      },
                      {
                        "learn": [
                          0.0001270357491
                        ],
                        "iteration": 183,
                        "passed_time": 5.612098271,
                        "remaining_time": 24.88843581,
                        "test": [
                          0.0001334606559
                        ]
                      },
                      {
                        "learn": [
                          0.0001259530514
                        ],
                        "iteration": 184,
                        "passed_time": 5.631050145,
                        "remaining_time": 24.80705875,
                        "test": [
                          0.0001323850923
                        ]
                      },
                      {
                        "learn": [
                          0.0001247993839
                        ],
                        "iteration": 185,
                        "passed_time": 5.653461744,
                        "remaining_time": 24.74149387,
                        "test": [
                          0.0001311702072
                        ]
                      },
                      {
                        "learn": [
                          0.0001238496923
                        ],
                        "iteration": 186,
                        "passed_time": 5.688300373,
                        "remaining_time": 24.7304182,
                        "test": [
                          0.0001301612956
                        ]
                      },
                      {
                        "learn": [
                          0.0001228333735
                        ],
                        "iteration": 187,
                        "passed_time": 5.705982338,
                        "remaining_time": 24.64498754,
                        "test": [
                          0.0001290856948
                        ]
                      },
                      {
                        "learn": [
                          0.0001217972279
                        ],
                        "iteration": 188,
                        "passed_time": 5.719905736,
                        "remaining_time": 24.54414578,
                        "test": [
                          0.0001279608495
                        ]
                      },
                      {
                        "learn": [
                          0.0001208662218
                        ],
                        "iteration": 189,
                        "passed_time": 5.751279259,
                        "remaining_time": 24.51861158,
                        "test": [
                          0.000127036444
                        ]
                      },
                      {
                        "learn": [
                          0.0001197578657
                        ],
                        "iteration": 190,
                        "passed_time": 5.769787754,
                        "remaining_time": 24.43852509,
                        "test": [
                          0.0001258713617
                        ]
                      },
                      {
                        "learn": [
                          0.0001187784214
                        ],
                        "iteration": 191,
                        "passed_time": 5.821090333,
                        "remaining_time": 24.49708848,
                        "test": [
                          0.0001248361591
                        ]
                      },
                      {
                        "learn": [
                          0.0001178668575
                        ],
                        "iteration": 192,
                        "passed_time": 5.847119448,
                        "remaining_time": 24.44883624,
                        "test": [
                          0.0001238706854
                        ]
                      },
                      {
                        "learn": [
                          0.000116903828
                        ],
                        "iteration": 193,
                        "passed_time": 5.892197697,
                        "remaining_time": 24.47995538,
                        "test": [
                          0.0001228534237
                        ]
                      },
                      {
                        "learn": [
                          0.0001161225903
                        ],
                        "iteration": 194,
                        "passed_time": 5.911419486,
                        "remaining_time": 24.40355224,
                        "test": [
                          0.0001220192937
                        ]
                      },
                      {
                        "learn": [
                          0.0001150564811
                        ],
                        "iteration": 195,
                        "passed_time": 5.925055292,
                        "remaining_time": 24.30481865,
                        "test": [
                          0.0001209004163
                        ]
                      },
                      {
                        "learn": [
                          0.0001141182042
                        ],
                        "iteration": 196,
                        "passed_time": 5.945257601,
                        "remaining_time": 24.23371499,
                        "test": [
                          0.0001199107856
                        ]
                      },
                      {
                        "learn": [
                          0.0001133540141
                        ],
                        "iteration": 197,
                        "passed_time": 5.963522784,
                        "remaining_time": 24.15527916,
                        "test": [
                          0.0001191527619
                        ]
                      },
                      {
                        "learn": [
                          0.0001124754784
                        ],
                        "iteration": 198,
                        "passed_time": 5.983063006,
                        "remaining_time": 24.08258024,
                        "test": [
                          0.0001182799832
                        ]
                      },
                      {
                        "learn": [
                          0.0001116769077
                        ],
                        "iteration": 199,
                        "passed_time": 6.020389878,
                        "remaining_time": 24.08155951,
                        "test": [
                          0.0001174309023
                        ]
                      },
                      {
                        "learn": [
                          0.0001106488888
                        ],
                        "iteration": 200,
                        "passed_time": 6.059105039,
                        "remaining_time": 24.08569615,
                        "test": [
                          0.0001163534901
                        ]
                      },
                      {
                        "learn": [
                          0.0001100244173
                        ],
                        "iteration": 201,
                        "passed_time": 6.10453733,
                        "remaining_time": 24.1159445,
                        "test": [
                          0.0001156804688
                        ]
                      },
                      {
                        "learn": [
                          0.0001091660806
                        ],
                        "iteration": 202,
                        "passed_time": 6.12327459,
                        "remaining_time": 24.04063965,
                        "test": [
                          0.0001148275541
                        ]
                      },
                      {
                        "learn": [
                          0.000108395203
                        ],
                        "iteration": 203,
                        "passed_time": 6.134995178,
                        "remaining_time": 23.9385106,
                        "test": [
                          0.0001140085237
                        ]
                      },
                      {
                        "learn": [
                          0.0001076654059
                        ],
                        "iteration": 204,
                        "passed_time": 6.158231373,
                        "remaining_time": 23.88192166,
                        "test": [
                          0.0001134525777
                        ]
                      },
                      {
                        "learn": [
                          0.0001069395791
                        ],
                        "iteration": 205,
                        "passed_time": 6.1722415,
                        "remaining_time": 23.79009588,
                        "test": [
                          0.0001127311059
                        ]
                      },
                      {
                        "learn": [
                          0.0001063367211
                        ],
                        "iteration": 206,
                        "passed_time": 6.189452494,
                        "remaining_time": 23.71128419,
                        "test": [
                          0.0001121323298
                        ]
                      },
                      {
                        "learn": [
                          0.0001056189839
                        ],
                        "iteration": 207,
                        "passed_time": 6.203865046,
                        "remaining_time": 23.62240921,
                        "test": [
                          0.0001113677551
                        ]
                      },
                      {
                        "learn": [
                          0.0001049050805
                        ],
                        "iteration": 208,
                        "passed_time": 6.222095166,
                        "remaining_time": 23.5486951,
                        "test": [
                          0.000110607647
                        ]
                      },
                      {
                        "learn": [
                          0.0001041674048
                        ],
                        "iteration": 209,
                        "passed_time": 6.245341968,
                        "remaining_time": 23.49438169,
                        "test": [
                          0.0001098230097
                        ]
                      },
                      {
                        "learn": [
                          0.0001034622238
                        ],
                        "iteration": 210,
                        "passed_time": 6.26154267,
                        "remaining_time": 23.41401501,
                        "test": [
                          0.0001090728646
                        ]
                      },
                      {
                        "learn": [
                          0.0001027605975
                        ],
                        "iteration": 211,
                        "passed_time": 6.279869056,
                        "remaining_time": 23.34215479,
                        "test": [
                          0.0001083269877
                        ]
                      },
                      {
                        "learn": [
                          0.0001021815614
                        ],
                        "iteration": 212,
                        "passed_time": 6.296398314,
                        "remaining_time": 23.26415715,
                        "test": [
                          0.0001077039678
                        ]
                      },
                      {
                        "learn": [
                          0.0001014870941
                        ],
                        "iteration": 213,
                        "passed_time": 6.376260864,
                        "remaining_time": 23.41935065,
                        "test": [
                          0.0001069661431
                        ]
                      },
                      {
                        "learn": [
                          0.0001007752194
                        ],
                        "iteration": 214,
                        "passed_time": 6.415210402,
                        "remaining_time": 23.42297751,
                        "test": [
                          0.0001062100798
                        ]
                      },
                      {
                        "learn": [
                          0.000100207263
                        ],
                        "iteration": 215,
                        "passed_time": 6.451608073,
                        "remaining_time": 23.41694782,
                        "test": [
                          0.0001056465281
                        ]
                      },
                      {
                        "learn": [
                          0.00009938755649
                        ],
                        "iteration": 216,
                        "passed_time": 6.484517875,
                        "remaining_time": 23.39805298,
                        "test": [
                          0.0001047836876
                        ]
                      },
                      {
                        "learn": [
                          0.00009882757184
                        ],
                        "iteration": 217,
                        "passed_time": 6.499841243,
                        "remaining_time": 23.31594428,
                        "test": [
                          0.0001041813382
                        ]
                      },
                      {
                        "learn": [
                          0.00009820660534
                        ],
                        "iteration": 218,
                        "passed_time": 6.531177488,
                        "remaining_time": 23.29155077,
                        "test": [
                          0.0001034944952
                        ]
                      },
                      {
                        "learn": [
                          0.0000975343657
                        ],
                        "iteration": 219,
                        "passed_time": 6.586249509,
                        "remaining_time": 23.35124826,
                        "test": [
                          0.0001028267594
                        ]
                      },
                      {
                        "learn": [
                          0.00009700860658
                        ],
                        "iteration": 220,
                        "passed_time": 6.656761464,
                        "remaining_time": 23.46433113,
                        "test": [
                          0.0001022360233
                        ]
                      },
                      {
                        "learn": [
                          0.00009633147225
                        ],
                        "iteration": 221,
                        "passed_time": 6.726999536,
                        "remaining_time": 23.57480017,
                        "test": [
                          0.0001015183481
                        ]
                      },
                      {
                        "learn": [
                          0.00009566035547
                        ],
                        "iteration": 222,
                        "passed_time": 6.800488507,
                        "remaining_time": 23.69497565,
                        "test": [
                          0.0001008069014
                        ]
                      },
                      {
                        "learn": [
                          0.00009512097934
                        ],
                        "iteration": 223,
                        "passed_time": 6.866820123,
                        "remaining_time": 23.78862685,
                        "test": [
                          0.0001002721284
                        ]
                      },
                      {
                        "learn": [
                          0.00009445956506
                        ],
                        "iteration": 224,
                        "passed_time": 6.923310427,
                        "remaining_time": 23.84695814,
                        "test": [
                          0.00009957138297
                        ]
                      },
                      {
                        "learn": [
                          0.00009392730451
                        ],
                        "iteration": 225,
                        "passed_time": 6.992443562,
                        "remaining_time": 23.9475722,
                        "test": [
                          0.00009900092657
                        ]
                      },
                      {
                        "learn": [
                          0.00009339756265
                        ],
                        "iteration": 226,
                        "passed_time": 7.062484098,
                        "remaining_time": 24.04978065,
                        "test": [
                          0.00009847536596
                        ]
                      },
                      {
                        "learn": [
                          0.00009274913881
                        ],
                        "iteration": 227,
                        "passed_time": 7.119726199,
                        "remaining_time": 24.1071431,
                        "test": [
                          0.00009778862839
                        ]
                      },
                      {
                        "learn": [
                          0.00009222622716
                        ],
                        "iteration": 228,
                        "passed_time": 7.172964139,
                        "remaining_time": 24.15002337,
                        "test": [
                          0.00009722913384
                        ]
                      },
                      {
                        "learn": [
                          0.00009170598928
                        ],
                        "iteration": 229,
                        "passed_time": 7.229958337,
                        "remaining_time": 24.20464313,
                        "test": [
                          0.00009667238749
                        ]
                      },
                      {
                        "learn": [
                          0.00009107010921
                        ],
                        "iteration": 230,
                        "passed_time": 7.248922523,
                        "remaining_time": 24.13169446,
                        "test": [
                          0.00009599935378
                        ]
                      },
                      {
                        "learn": [
                          0.00009055596952
                        ],
                        "iteration": 231,
                        "passed_time": 7.275933658,
                        "remaining_time": 24.08584935,
                        "test": [
                          0.00009545023793
                        ]
                      },
                      {
                        "learn": [
                          0.00009004435472
                        ],
                        "iteration": 232,
                        "passed_time": 7.299201642,
                        "remaining_time": 24.02784403,
                        "test": [
                          0.00009490329335
                        ]
                      },
                      {
                        "learn": [
                          0.00008942040426
                        ],
                        "iteration": 233,
                        "passed_time": 7.318099194,
                        "remaining_time": 23.95582899,
                        "test": [
                          0.00009424357266
                        ]
                      },
                      {
                        "learn": [
                          0.000088914472
                        ],
                        "iteration": 234,
                        "passed_time": 7.339072203,
                        "remaining_time": 23.89102228,
                        "test": [
                          0.00009374181545
                        ]
                      },
                      {
                        "learn": [
                          0.00008841130656
                        ],
                        "iteration": 235,
                        "passed_time": 7.386121769,
                        "remaining_time": 23.91100437,
                        "test": [
                          0.00009320490838
                        ]
                      },
                      {
                        "learn": [
                          0.0000879176265
                        ],
                        "iteration": 236,
                        "passed_time": 7.412298197,
                        "remaining_time": 23.86322162,
                        "test": [
                          0.00009267639484
                        ]
                      },
                      {
                        "learn": [
                          0.00008742884732
                        ],
                        "iteration": 237,
                        "passed_time": 7.432008431,
                        "remaining_time": 23.79491775,
                        "test": [
                          0.00009215354522
                        ]
                      },
                      {
                        "learn": [
                          0.00008682562325
                        ],
                        "iteration": 238,
                        "passed_time": 7.455864792,
                        "remaining_time": 23.7402222,
                        "test": [
                          0.00009151626934
                        ]
                      },
                      {
                        "learn": [
                          0.00008622690924
                        ],
                        "iteration": 239,
                        "passed_time": 7.483221194,
                        "remaining_time": 23.69686711,
                        "test": [
                          0.00009088444025
                        ]
                      },
                      {
                        "learn": [
                          0.00008563273629
                        ],
                        "iteration": 240,
                        "passed_time": 7.497427833,
                        "remaining_time": 23.61223122,
                        "test": [
                          0.0000902574314
                        ]
                      },
                      {
                        "learn": [
                          0.00008514732569
                        ],
                        "iteration": 241,
                        "passed_time": 7.527414551,
                        "remaining_time": 23.57760425,
                        "test": [
                          0.00008974036358
                        ]
                      },
                      {
                        "learn": [
                          0.00008478293585
                        ],
                        "iteration": 242,
                        "passed_time": 7.618578749,
                        "remaining_time": 23.73359717,
                        "test": [
                          0.00008937986963
                        ]
                      },
                      {
                        "learn": [
                          0.00008419882522
                        ],
                        "iteration": 243,
                        "passed_time": 7.675092705,
                        "remaining_time": 23.78020527,
                        "test": [
                          0.00008876373577
                        ]
                      },
                      {
                        "learn": [
                          0.00008373790662
                        ],
                        "iteration": 244,
                        "passed_time": 7.76295525,
                        "remaining_time": 23.92257638,
                        "test": [
                          0.00008827111033
                        ]
                      },
                      {
                        "learn": [
                          0.00008326275685
                        ],
                        "iteration": 245,
                        "passed_time": 7.852096345,
                        "remaining_time": 24.06699449,
                        "test": [
                          0.00008776610241
                        ]
                      },
                      {
                        "learn": [
                          0.00008290816257
                        ],
                        "iteration": 246,
                        "passed_time": 7.909144777,
                        "remaining_time": 24.11168428,
                        "test": [
                          0.00008741506282
                        ]
                      },
                      {
                        "learn": [
                          0.00008233780542
                        ],
                        "iteration": 247,
                        "passed_time": 7.929040408,
                        "remaining_time": 24.04289672,
                        "test": [
                          0.00008681407206
                        ]
                      },
                      {
                        "learn": [
                          0.00008189047281
                        ],
                        "iteration": 248,
                        "passed_time": 7.985803291,
                        "remaining_time": 24.08569587,
                        "test": [
                          0.000086336385
                        ]
                      },
                      {
                        "learn": [
                          0.00008132802532
                        ],
                        "iteration": 249,
                        "passed_time": 8.059698453,
                        "remaining_time": 24.17909536,
                        "test": [
                          0.00008574408556
                        ]
                      },
                      {
                        "learn": [
                          0.00008100799776
                        ],
                        "iteration": 250,
                        "passed_time": 8.074994178,
                        "remaining_time": 24.09629737,
                        "test": [
                          0.00008540289736
                        ]
                      },
                      {
                        "learn": [
                          0.00008057183792
                        ],
                        "iteration": 251,
                        "passed_time": 8.092696096,
                        "remaining_time": 24.0211773,
                        "test": [
                          0.00008494452225
                        ]
                      },
                      {
                        "learn": [
                          0.00008023077379
                        ],
                        "iteration": 252,
                        "passed_time": 8.110479765,
                        "remaining_time": 23.94675251,
                        "test": [
                          0.00008460705003
                        ]
                      },
                      {
                        "learn": [
                          0.00007977250414
                        ],
                        "iteration": 253,
                        "passed_time": 8.125487671,
                        "remaining_time": 23.86462127,
                        "test": [
                          0.00008415237851
                        ]
                      },
                      {
                        "learn": [
                          0.00007943511257
                        ],
                        "iteration": 254,
                        "passed_time": 8.14244676,
                        "remaining_time": 23.788717,
                        "test": [
                          0.00008381805774
                        ]
                      },
                      {
                        "learn": [
                          0.00007898081947
                        ],
                        "iteration": 255,
                        "passed_time": 8.161563286,
                        "remaining_time": 23.7195433,
                        "test": [
                          0.00008333573036
                        ]
                      },
                      {
                        "learn": [
                          0.0000786470012
                        ],
                        "iteration": 256,
                        "passed_time": 8.180847343,
                        "remaining_time": 23.65124348,
                        "test": [
                          0.00008300493326
                        ]
                      },
                      {
                        "learn": [
                          0.00007822385661
                        ],
                        "iteration": 257,
                        "passed_time": 8.192756137,
                        "remaining_time": 23.56211261,
                        "test": [
                          0.00008255332634
                        ]
                      },
                      {
                        "learn": [
                          0.00007777535771
                        ],
                        "iteration": 258,
                        "passed_time": 8.208429123,
                        "remaining_time": 23.48434741,
                        "test": [
                          0.00008210766871
                        ]
                      },
                      {
                        "learn": [
                          0.0000773579453
                        ],
                        "iteration": 259,
                        "passed_time": 8.235291755,
                        "remaining_time": 23.4389073,
                        "test": [
                          0.00008166218479
                        ]
                      },
                      {
                        "learn": [
                          0.00007694400692
                        ],
                        "iteration": 260,
                        "passed_time": 8.253755733,
                        "remaining_time": 23.36982945,
                        "test": [
                          0.00008122044787
                        ]
                      },
                      {
                        "learn": [
                          0.00007641442015
                        ],
                        "iteration": 261,
                        "passed_time": 8.289955923,
                        "remaining_time": 23.35109722,
                        "test": [
                          0.00008066357125
                        ]
                      },
                      {
                        "learn": [
                          0.00007609338759
                        ],
                        "iteration": 262,
                        "passed_time": 8.347986898,
                        "remaining_time": 23.39340815,
                        "test": [
                          0.00008034504497
                        ]
                      },
                      {
                        "learn": [
                          0.00007568814053
                        ],
                        "iteration": 263,
                        "passed_time": 8.401412845,
                        "remaining_time": 23.42212066,
                        "test": [
                          0.0000799129113
                        ]
                      },
                      {
                        "learn": [
                          0.00007516728849
                        ],
                        "iteration": 264,
                        "passed_time": 8.453367588,
                        "remaining_time": 23.44613274,
                        "test": [
                          0.00007936533395
                        ]
                      },
                      {
                        "learn": [
                          0.00007497099268
                        ],
                        "iteration": 265,
                        "passed_time": 8.507055797,
                        "remaining_time": 23.47435697,
                        "test": [
                          0.00007917177394
                        ]
                      },
                      {
                        "learn": [
                          0.00007445532689
                        ],
                        "iteration": 266,
                        "passed_time": 8.570709673,
                        "remaining_time": 23.52932655,
                        "test": [
                          0.00007862958136
                        ]
                      },
                      {
                        "learn": [
                          0.0000740616
                        ],
                        "iteration": 267,
                        "passed_time": 8.629939165,
                        "remaining_time": 23.57132638,
                        "test": [
                          0.00007820984878
                        ]
                      },
                      {
                        "learn": [
                          0.00007375200697
                        ],
                        "iteration": 268,
                        "passed_time": 8.684200148,
                        "remaining_time": 23.59907178,
                        "test": [
                          0.00007790285508
                        ]
                      },
                      {
                        "learn": [
                          0.0000732865473
                        ],
                        "iteration": 269,
                        "passed_time": 8.741980522,
                        "remaining_time": 23.63572512,
                        "test": [
                          0.00007739733846
                        ]
                      },
                      {
                        "learn": [
                          0.0000730991103
                        ],
                        "iteration": 270,
                        "passed_time": 8.802845728,
                        "remaining_time": 23.67997984,
                        "test": [
                          0.00007729889898
                        ]
                      },
                      {
                        "learn": [
                          0.0000725958456
                        ],
                        "iteration": 271,
                        "passed_time": 8.902054691,
                        "remaining_time": 23.82608755,
                        "test": [
                          0.00007677007525
                        ]
                      },
                      {
                        "learn": [
                          0.00007233328243
                        ],
                        "iteration": 272,
                        "passed_time": 8.977647139,
                        "remaining_time": 23.90750722,
                        "test": [
                          0.00007648194685
                        ]
                      },
                      {
                        "learn": [
                          0.00007191338234
                        ],
                        "iteration": 273,
                        "passed_time": 9.038785802,
                        "remaining_time": 23.94948355,
                        "test": [
                          0.00007603770986
                        ]
                      },
                      {
                        "learn": [
                          0.00007149492151
                        ],
                        "iteration": 274,
                        "passed_time": 9.092725254,
                        "remaining_time": 23.97173022,
                        "test": [
                          0.00007559537739
                        ]
                      },
                      {
                        "learn": [
                          0.00007131561128
                        ],
                        "iteration": 275,
                        "passed_time": 9.151403351,
                        "remaining_time": 24.00585517,
                        "test": [
                          0.00007541831908
                        ]
                      },
                      {
                        "learn": [
                          0.00007082344491
                        ],
                        "iteration": 276,
                        "passed_time": 9.216562129,
                        "remaining_time": 24.05622534,
                        "test": [
                          0.00007490141877
                        ]
                      },
                      {
                        "learn": [
                          0.00007057194904
                        ],
                        "iteration": 277,
                        "passed_time": 9.25340306,
                        "remaining_time": 24.03221946,
                        "test": [
                          0.0000746254185
                        ]
                      },
                      {
                        "learn": [
                          0.00007015974148
                        ],
                        "iteration": 278,
                        "passed_time": 9.271322628,
                        "remaining_time": 23.95922443,
                        "test": [
                          0.00007419021402
                        ]
                      },
                      {
                        "learn": [
                          0.00006995157809
                        ],
                        "iteration": 279,
                        "passed_time": 9.303590854,
                        "remaining_time": 23.92351934,
                        "test": [
                          0.000073944928
                        ]
                      },
                      {
                        "learn": [
                          0.00006954222421
                        ],
                        "iteration": 280,
                        "passed_time": 9.330065941,
                        "remaining_time": 23.8730157,
                        "test": [
                          0.00007351298043
                        ]
                      },
                      {
                        "learn": [
                          0.000069372114
                        ],
                        "iteration": 281,
                        "passed_time": 9.351102651,
                        "remaining_time": 23.80883583,
                        "test": [
                          0.00007332050607
                        ]
                      },
                      {
                        "learn": [
                          0.00006896535944
                        ],
                        "iteration": 282,
                        "passed_time": 9.368074125,
                        "remaining_time": 23.7346613,
                        "test": [
                          0.00007289153625
                        ]
                      },
                      {
                        "learn": [
                          0.0000687975818
                        ],
                        "iteration": 283,
                        "passed_time": 9.385933316,
                        "remaining_time": 23.66312766,
                        "test": [
                          0.00007272610979
                        ]
                      },
                      {
                        "learn": [
                          0.00006839316602
                        ],
                        "iteration": 284,
                        "passed_time": 9.404448366,
                        "remaining_time": 23.59361607,
                        "test": [
                          0.00007232382807
                        ]
                      },
                      {
                        "learn": [
                          0.00006815634178
                        ],
                        "iteration": 285,
                        "passed_time": 9.425526625,
                        "remaining_time": 23.53086017,
                        "test": [
                          0.00007206427366
                        ]
                      },
                      {
                        "learn": [
                          0.00006768420698
                        ],
                        "iteration": 286,
                        "passed_time": 9.48138151,
                        "remaining_time": 23.554791,
                        "test": [
                          0.00007156950796
                        ]
                      },
                      {
                        "learn": [
                          0.00006745235186
                        ],
                        "iteration": 287,
                        "passed_time": 9.521339808,
                        "remaining_time": 23.53886786,
                        "test": [
                          0.00007131508397
                        ]
                      },
                      {
                        "learn": [
                          0.00006705392261
                        ],
                        "iteration": 288,
                        "passed_time": 9.561942756,
                        "remaining_time": 23.52436436,
                        "test": [
                          0.00007091894386
                        ]
                      },
                      {
                        "learn": [
                          0.00006689472461
                        ],
                        "iteration": 289,
                        "passed_time": 9.602625357,
                        "remaining_time": 23.50987588,
                        "test": [
                          0.00007076140223
                        ]
                      },
                      {
                        "learn": [
                          0.00006643023271
                        ],
                        "iteration": 290,
                        "passed_time": 9.644211549,
                        "remaining_time": 23.49740889,
                        "test": [
                          0.00007027521618
                        ]
                      },
                      {
                        "learn": [
                          0.00006620603909
                        ],
                        "iteration": 291,
                        "passed_time": 9.68541952,
                        "remaining_time": 23.48382541,
                        "test": [
                          0.00007002908026
                        ]
                      },
                      {
                        "learn": [
                          0.00006581308145
                        ],
                        "iteration": 292,
                        "passed_time": 9.73138738,
                        "remaining_time": 23.48153883,
                        "test": [
                          0.00006961561957
                        ]
                      },
                      {
                        "learn": [
                          0.00006559254178
                        ],
                        "iteration": 293,
                        "passed_time": 9.785702784,
                        "remaining_time": 23.49900056,
                        "test": [
                          0.00006937350982
                        ]
                      },
                      {
                        "learn": [
                          0.00006532103295
                        ],
                        "iteration": 294,
                        "passed_time": 9.826852021,
                        "remaining_time": 23.48451076,
                        "test": [
                          0.0000691039055
                        ]
                      },
                      {
                        "learn": [
                          0.00006505075243
                        ],
                        "iteration": 295,
                        "passed_time": 9.902763713,
                        "remaining_time": 23.5525191,
                        "test": [
                          0.00006881347554
                        ]
                      },
                      {
                        "learn": [
                          0.00006471635723
                        ],
                        "iteration": 296,
                        "passed_time": 9.94514987,
                        "remaining_time": 23.54020323,
                        "test": [
                          0.00006845836635
                        ]
                      },
                      {
                        "learn": [
                          0.00006444833484
                        ],
                        "iteration": 297,
                        "passed_time": 9.988645898,
                        "remaining_time": 23.53030007,
                        "test": [
                          0.00006819222988
                        ]
                      },
                      {
                        "learn": [
                          0.00006411744469
                        ],
                        "iteration": 298,
                        "passed_time": 10.02816344,
                        "remaining_time": 23.51084472,
                        "test": [
                          0.00006784048927
                        ]
                      },
                      {
                        "learn": [
                          0.00006378855832
                        ],
                        "iteration": 299,
                        "passed_time": 10.06856061,
                        "remaining_time": 23.49330809,
                        "test": [
                          0.00006749133558
                        ]
                      },
                      {
                        "learn": [
                          0.00006369285465
                        ],
                        "iteration": 300,
                        "passed_time": 10.10861246,
                        "remaining_time": 23.47481763,
                        "test": [
                          0.00006736610876
                        ]
                      },
                      {
                        "learn": [
                          0.00006331047423
                        ],
                        "iteration": 301,
                        "passed_time": 10.1478876,
                        "remaining_time": 23.45438921,
                        "test": [
                          0.00006696470795
                        ]
                      },
                      {
                        "learn": [
                          0.00006316689081
                        ],
                        "iteration": 302,
                        "passed_time": 10.19853747,
                        "remaining_time": 23.46000204,
                        "test": [
                          0.00006682285535
                        ]
                      },
                      {
                        "learn": [
                          0.00006284350087
                        ],
                        "iteration": 303,
                        "passed_time": 10.26256623,
                        "remaining_time": 23.49587531,
                        "test": [
                          0.00006647960754
                        ]
                      },
                      {
                        "learn": [
                          0.00006259861809
                        ],
                        "iteration": 304,
                        "passed_time": 10.30871049,
                        "remaining_time": 23.4903403,
                        "test": [
                          0.00006622107053
                        ]
                      },
                      {
                        "learn": [
                          0.00006233938007
                        ],
                        "iteration": 305,
                        "passed_time": 10.34084004,
                        "remaining_time": 23.45275485,
                        "test": [
                          0.00006594331462
                        ]
                      },
                      {
                        "learn": [
                          0.00006202040713
                        ],
                        "iteration": 306,
                        "passed_time": 10.37773795,
                        "remaining_time": 23.42596873,
                        "test": [
                          0.00006560506695
                        ]
                      },
                      {
                        "learn": [
                          0.00006188222088
                        ],
                        "iteration": 307,
                        "passed_time": 10.43802701,
                        "remaining_time": 23.45167107,
                        "test": [
                          0.00006546852467
                        ]
                      },
                      {
                        "learn": [
                          0.00006162596062
                        ],
                        "iteration": 308,
                        "passed_time": 10.48926574,
                        "remaining_time": 23.45657808,
                        "test": [
                          0.00006521385873
                        ]
                      },
                      {
                        "learn": [
                          0.0000613112868
                        ],
                        "iteration": 309,
                        "passed_time": 10.55008813,
                        "remaining_time": 23.48245422,
                        "test": [
                          0.00006488045611
                        ]
                      },
                      {
                        "learn": [
                          0.00006099854853
                        ],
                        "iteration": 310,
                        "passed_time": 10.60518408,
                        "remaining_time": 23.49508628,
                        "test": [
                          0.00006454868504
                        ]
                      },
                      {
                        "learn": [
                          0.00006068765273
                        ],
                        "iteration": 311,
                        "passed_time": 10.64617514,
                        "remaining_time": 23.47618108,
                        "test": [
                          0.00006421914109
                        ]
                      },
                      {
                        "learn": [
                          0.00006055505597
                        ],
                        "iteration": 312,
                        "passed_time": 10.68497281,
                        "remaining_time": 23.45232052,
                        "test": [
                          0.00006406887013
                        ]
                      },
                      {
                        "learn": [
                          0.00006030442241
                        ],
                        "iteration": 313,
                        "passed_time": 10.73661362,
                        "remaining_time": 23.45642338,
                        "test": [
                          0.0000638009346
                        ]
                      },
                      {
                        "learn": [
                          0.00006005453949
                        ],
                        "iteration": 314,
                        "passed_time": 10.7587577,
                        "remaining_time": 23.39602865,
                        "test": [
                          0.00006353348915
                        ]
                      },
                      {
                        "learn": [
                          0.00005986778489
                        ],
                        "iteration": 315,
                        "passed_time": 10.77362513,
                        "remaining_time": 23.32012528,
                        "test": [
                          0.00006332855786
                        ]
                      },
                      {
                        "learn": [
                          0.00005961984992
                        ],
                        "iteration": 316,
                        "passed_time": 10.80295098,
                        "remaining_time": 23.27575873,
                        "test": [
                          0.00006308247158
                        ]
                      },
                      {
                        "learn": [
                          0.00005937283308
                        ],
                        "iteration": 317,
                        "passed_time": 10.83435935,
                        "remaining_time": 23.23595308,
                        "test": [
                          0.00006283707389
                        ]
                      },
                      {
                        "learn": [
                          0.00005912660411
                        ],
                        "iteration": 318,
                        "passed_time": 10.87722228,
                        "remaining_time": 23.22065322,
                        "test": [
                          0.00006257376008
                        ]
                      },
                      {
                        "learn": [
                          0.00005894483104
                        ],
                        "iteration": 319,
                        "passed_time": 10.93984236,
                        "remaining_time": 23.24716501,
                        "test": [
                          0.00006237434383
                        ]
                      },
                      {
                        "learn": [
                          0.00005864584004
                        ],
                        "iteration": 320,
                        "passed_time": 10.99721955,
                        "remaining_time": 23.26203139,
                        "test": [
                          0.00006205795161
                        ]
                      },
                      {
                        "learn": [
                          0.00005841833988
                        ],
                        "iteration": 321,
                        "passed_time": 11.05949973,
                        "remaining_time": 23.28677272,
                        "test": [
                          0.00006188195413
                        ]
                      },
                      {
                        "learn": [
                          0.00005812189239
                        ],
                        "iteration": 322,
                        "passed_time": 11.10283611,
                        "remaining_time": 23.2712695,
                        "test": [
                          0.0000615679379
                        ]
                      },
                      {
                        "learn": [
                          0.00005794600037
                        ],
                        "iteration": 323,
                        "passed_time": 11.14743537,
                        "remaining_time": 23.25822934,
                        "test": [
                          0.0000613747315
                        ]
                      },
                      {
                        "learn": [
                          0.00005765274775
                        ],
                        "iteration": 324,
                        "passed_time": 11.18684643,
                        "remaining_time": 23.23421951,
                        "test": [
                          0.0000610641521
                        ]
                      },
                      {
                        "learn": [
                          0.00005741351029
                        ],
                        "iteration": 325,
                        "passed_time": 11.23729837,
                        "remaining_time": 23.23294203,
                        "test": [
                          0.0000608086921
                        ]
                      },
                      {
                        "learn": [
                          0.0000572937985
                        ],
                        "iteration": 326,
                        "passed_time": 11.26103481,
                        "remaining_time": 23.17638051,
                        "test": [
                          0.00006069028928
                        ]
                      },
                      {
                        "learn": [
                          0.0000570556839
                        ],
                        "iteration": 327,
                        "passed_time": 11.28099894,
                        "remaining_time": 23.11229051,
                        "test": [
                          0.00006045388069
                        ]
                      },
                      {
                        "learn": [
                          0.0000568185805
                        ],
                        "iteration": 328,
                        "passed_time": 11.29495398,
                        "remaining_time": 23.03621314,
                        "test": [
                          0.00006021774505
                        ]
                      },
                      {
                        "learn": [
                          0.00005664981027
                        ],
                        "iteration": 329,
                        "passed_time": 11.31288677,
                        "remaining_time": 22.96858829,
                        "test": [
                          0.00006003235525
                        ]
                      },
                      {
                        "learn": [
                          0.00005636360499
                        ],
                        "iteration": 330,
                        "passed_time": 11.33173944,
                        "remaining_time": 22.90312292,
                        "test": [
                          0.00005972941253
                        ]
                      },
                      {
                        "learn": [
                          0.00005612914434
                        ],
                        "iteration": 331,
                        "passed_time": 11.35240848,
                        "remaining_time": 22.84159296,
                        "test": [
                          0.00005947975294
                        ]
                      },
                      {
                        "learn": [
                          0.00005596436926
                        ],
                        "iteration": 332,
                        "passed_time": 11.38402779,
                        "remaining_time": 22.80224186,
                        "test": [
                          0.00005929834589
                        ]
                      },
                      {
                        "learn": [
                          0.00005573148434
                        ],
                        "iteration": 333,
                        "passed_time": 11.41025524,
                        "remaining_time": 22.7521856,
                        "test": [
                          0.00005906695604
                        ]
                      },
                      {
                        "learn": [
                          0.00005545001865
                        ],
                        "iteration": 334,
                        "passed_time": 11.44034234,
                        "remaining_time": 22.7099333,
                        "test": [
                          0.000058769243
                        ]
                      },
                      {
                        "learn": [
                          0.00005528894094
                        ],
                        "iteration": 335,
                        "passed_time": 11.45726007,
                        "remaining_time": 22.64172823,
                        "test": [
                          0.00005859199238
                        ]
                      },
                      {
                        "learn": [
                          0.00005501005597
                        ],
                        "iteration": 336,
                        "passed_time": 11.48244723,
                        "remaining_time": 22.59009648,
                        "test": [
                          0.00005829747422
                        ]
                      },
                      {
                        "learn": [
                          0.00005491190806
                        ],
                        "iteration": 337,
                        "passed_time": 11.50348581,
                        "remaining_time": 22.53049588,
                        "test": [
                          0.00005818818456
                        ]
                      },
                      {
                        "learn": [
                          0.00005463517576
                        ],
                        "iteration": 338,
                        "passed_time": 11.58022395,
                        "remaining_time": 22.5797287,
                        "test": [
                          0.00005789581286
                        ]
                      },
                      {
                        "learn": [
                          0.00005440744606
                        ],
                        "iteration": 339,
                        "passed_time": 11.60014729,
                        "remaining_time": 22.51793297,
                        "test": [
                          0.00005766924325
                        ]
                      },
                      {
                        "learn": [
                          0.00005432822548
                        ],
                        "iteration": 340,
                        "passed_time": 11.62110343,
                        "remaining_time": 22.45837877,
                        "test": [
                          0.00005765473912
                        ]
                      },
                      {
                        "learn": [
                          0.00005410161245
                        ],
                        "iteration": 341,
                        "passed_time": 11.63515403,
                        "remaining_time": 22.38576419,
                        "test": [
                          0.00005741340483
                        ]
                      },
                      {
                        "learn": [
                          0.00005388711513
                        ],
                        "iteration": 342,
                        "passed_time": 11.68594161,
                        "remaining_time": 22.38385901,
                        "test": [
                          0.00005718839853
                        ]
                      },
                      {
                        "learn": [
                          0.00005378069776
                        ],
                        "iteration": 343,
                        "passed_time": 11.71637956,
                        "remaining_time": 22.34286335,
                        "test": [
                          0.00005706730334
                        ]
                      },
                      {
                        "learn": [
                          0.00005355592721
                        ],
                        "iteration": 344,
                        "passed_time": 11.7464861,
                        "remaining_time": 22.3012997,
                        "test": [
                          0.00005682799764
                        ]
                      },
                      {
                        "learn": [
                          0.00005330983472
                        ],
                        "iteration": 345,
                        "passed_time": 11.76566772,
                        "remaining_time": 22.23915228,
                        "test": [
                          0.00005655865387
                        ]
                      },
                      {
                        "learn": [
                          0.00005320518539
                        ],
                        "iteration": 346,
                        "passed_time": 11.80246076,
                        "remaining_time": 22.21039445,
                        "test": [
                          0.00005645506537
                        ]
                      },
                      {
                        "learn": [
                          0.00005307967319
                        ],
                        "iteration": 347,
                        "passed_time": 11.86289149,
                        "remaining_time": 22.22587715,
                        "test": [
                          0.00005630674856
                        ]
                      },
                      {
                        "learn": [
                          0.00005285764465
                        ],
                        "iteration": 348,
                        "passed_time": 11.91911292,
                        "remaining_time": 22.23307309,
                        "test": [
                          0.0000560707432
                        ]
                      },
                      {
                        "learn": [
                          0.00005263605036
                        ],
                        "iteration": 349,
                        "passed_time": 11.98230285,
                        "remaining_time": 22.25284814,
                        "test": [
                          0.00005584998641
                        ]
                      },
                      {
                        "learn": [
                          0.00005248903012
                        ],
                        "iteration": 350,
                        "passed_time": 12.00288839,
                        "remaining_time": 22.19337484,
                        "test": [
                          0.00005568812704
                        ]
                      },
                      {
                        "learn": [
                          0.00005222437632
                        ],
                        "iteration": 351,
                        "passed_time": 12.02529537,
                        "remaining_time": 22.13747557,
                        "test": [
                          0.00005540893809
                        ]
                      },
                      {
                        "learn": [
                          0.00005196090121
                        ],
                        "iteration": 352,
                        "passed_time": 12.04007719,
                        "remaining_time": 22.06779021,
                        "test": [
                          0.00005513080997
                        ]
                      },
                      {
                        "learn": [
                          0.00005186136368
                        ],
                        "iteration": 353,
                        "passed_time": 12.06124221,
                        "remaining_time": 22.01006346,
                        "test": [
                          0.0000550177547
                        ]
                      },
                      {
                        "learn": [
                          0.00005176241551
                        ],
                        "iteration": 354,
                        "passed_time": 12.07810232,
                        "remaining_time": 21.94472112,
                        "test": [
                          0.00005490520812
                        ]
                      },
                      {
                        "learn": [
                          0.00005150158315
                        ],
                        "iteration": 355,
                        "passed_time": 12.0960694,
                        "remaining_time": 21.88165362,
                        "test": [
                          0.00005463028108
                        ]
                      },
                      {
                        "learn": [
                          0.00005128503243
                        ],
                        "iteration": 356,
                        "passed_time": 12.10994776,
                        "remaining_time": 21.81147454,
                        "test": [
                          0.00005440056622
                        ]
                      },
                      {
                        "learn": [
                          0.00005114495717
                        ],
                        "iteration": 357,
                        "passed_time": 12.12930513,
                        "remaining_time": 21.75143545,
                        "test": [
                          0.00005424656067
                        ]
                      },
                      {
                        "learn": [
                          0.00005104852147
                        ],
                        "iteration": 358,
                        "passed_time": 12.14627196,
                        "remaining_time": 21.68735466,
                        "test": [
                          0.0000541510307
                        ]
                      },
                      {
                        "learn": [
                          0.00005079139889
                        ],
                        "iteration": 359,
                        "passed_time": 12.16524178,
                        "remaining_time": 21.6270965,
                        "test": [
                          0.00005388015464
                        ]
                      },
                      {
                        "learn": [
                          0.00005057741028
                        ],
                        "iteration": 360,
                        "passed_time": 12.17808423,
                        "remaining_time": 21.55622111,
                        "test": [
                          0.00005365316938
                        ]
                      },
                      {
                        "learn": [
                          0.0000504827178
                        ],
                        "iteration": 361,
                        "passed_time": 12.20044451,
                        "remaining_time": 21.50244087,
                        "test": [
                          0.00005355957495
                        ]
                      },
                      {
                        "learn": [
                          0.00005034708126
                        ],
                        "iteration": 362,
                        "passed_time": 12.22844296,
                        "remaining_time": 21.45872773,
                        "test": [
                          0.0000534103276
                        ]
                      },
                      {
                        "learn": [
                          0.00005009369948
                        ],
                        "iteration": 363,
                        "passed_time": 12.24137019,
                        "remaining_time": 21.38876769,
                        "test": [
                          0.00005314336604
                        ]
                      },
                      {
                        "learn": [
                          0.00004984127927
                        ],
                        "iteration": 364,
                        "passed_time": 12.25732232,
                        "remaining_time": 21.32438267,
                        "test": [
                          0.00005287735984
                        ]
                      },
                      {
                        "learn": [
                          0.00004974939394
                        ],
                        "iteration": 365,
                        "passed_time": 12.27236718,
                        "remaining_time": 21.25869069,
                        "test": [
                          0.00005277313236
                        ]
                      },
                      {
                        "learn": [
                          0.00004965780019
                        ],
                        "iteration": 366,
                        "passed_time": 12.28679366,
                        "remaining_time": 21.19220813,
                        "test": [
                          0.00005268255291
                        ]
                      },
                      {
                        "learn": [
                          0.00004934582186
                        ],
                        "iteration": 367,
                        "passed_time": 12.30437602,
                        "remaining_time": 21.13142839,
                        "test": [
                          0.00005235460949
                        ]
                      },
                      {
                        "learn": [
                          0.0000492554037
                        ],
                        "iteration": 368,
                        "passed_time": 12.31987695,
                        "remaining_time": 21.06732345,
                        "test": [
                          0.00005225195774
                        ]
                      },
                      {
                        "learn": [
                          0.00004912554585
                        ],
                        "iteration": 369,
                        "passed_time": 12.33843434,
                        "remaining_time": 21.0086855,
                        "test": [
                          0.00005210911875
                        ]
                      },
                      {
                        "learn": [
                          0.00004899669919
                        ],
                        "iteration": 370,
                        "passed_time": 12.35805991,
                        "remaining_time": 20.95207461,
                        "test": [
                          0.00005196726615
                        ]
                      },
                      {
                        "learn": [
                          0.00004874984055
                        ],
                        "iteration": 371,
                        "passed_time": 12.42574028,
                        "remaining_time": 20.97678736,
                        "test": [
                          0.00005170776447
                        ]
                      },
                      {
                        "learn": [
                          0.0000485429334
                        ],
                        "iteration": 372,
                        "passed_time": 12.5066833,
                        "remaining_time": 21.02329874,
                        "test": [
                          0.00005148882225
                        ]
                      },
                      {
                        "learn": [
                          0.00004841675121
                        ],
                        "iteration": 373,
                        "passed_time": 12.52009081,
                        "remaining_time": 20.95608783,
                        "test": [
                          0.0000513497799
                        ]
                      },
                      {
                        "learn": [
                          0.00004830813155
                        ],
                        "iteration": 374,
                        "passed_time": 12.53413601,
                        "remaining_time": 20.89022669,
                        "test": [
                          0.00005122302387
                        ]
                      },
                      {
                        "learn": [
                          0.00004806473764
                        ],
                        "iteration": 375,
                        "passed_time": 12.55419601,
                        "remaining_time": 20.83462317,
                        "test": [
                          0.00005096731573
                        ]
                      },
                      {
                        "learn": [
                          0.00004786011033
                        ],
                        "iteration": 376,
                        "passed_time": 12.5674707,
                        "remaining_time": 20.76799536,
                        "test": [
                          0.00005075099454
                        ]
                      },
                      {
                        "learn": [
                          0.0000477746799
                        ],
                        "iteration": 377,
                        "passed_time": 12.64188589,
                        "remaining_time": 20.80225668,
                        "test": [
                          0.00005066669007
                        ]
                      },
                      {
                        "learn": [
                          0.00004768988225
                        ],
                        "iteration": 378,
                        "passed_time": 12.69876519,
                        "remaining_time": 20.80721157,
                        "test": [
                          0.00005057043738
                        ]
                      },
                      {
                        "learn": [
                          0.00004760543199
                        ],
                        "iteration": 379,
                        "passed_time": 12.79286794,
                        "remaining_time": 20.87257401,
                        "test": [
                          0.00005048711309
                        ]
                      },
                      {
                        "learn": [
                          0.00004726265255
                        ],
                        "iteration": 380,
                        "passed_time": 12.81636537,
                        "remaining_time": 20.82238889,
                        "test": [
                          0.00005012683316
                        ]
                      },
                      {
                        "learn": [
                          0.00004717913905
                        ],
                        "iteration": 381,
                        "passed_time": 12.83110617,
                        "remaining_time": 20.75817699,
                        "test": [
                          0.00005004428122
                        ]
                      },
                      {
                        "learn": [
                          0.00004709619008
                        ],
                        "iteration": 382,
                        "passed_time": 12.85018155,
                        "remaining_time": 20.70120631,
                        "test": [
                          0.00004995006333
                        ]
                      },
                      {
                        "learn": [
                          0.00004701345514
                        ],
                        "iteration": 383,
                        "passed_time": 12.86410949,
                        "remaining_time": 20.63617564,
                        "test": [
                          0.0000498683799
                        ]
                      },
                      {
                        "learn": [
                          0.00004677607877
                        ],
                        "iteration": 384,
                        "passed_time": 12.88007722,
                        "remaining_time": 20.57466881,
                        "test": [
                          0.0000496192042
                        ]
                      },
                      {
                        "learn": [
                          0.00004653957092
                        ],
                        "iteration": 385,
                        "passed_time": 12.90032906,
                        "remaining_time": 20.52021254,
                        "test": [
                          0.00004937095904
                        ]
                      },
                      {
                        "learn": [
                          0.00004645863193
                        ],
                        "iteration": 386,
                        "passed_time": 12.92568762,
                        "remaining_time": 20.47402199,
                        "test": [
                          0.00004927907682
                        ]
                      },
                      {
                        "learn": [
                          0.00004637799071
                        ],
                        "iteration": 387,
                        "passed_time": 12.97642925,
                        "remaining_time": 20.46797604,
                        "test": [
                          0.00004919935064
                        ]
                      },
                      {
                        "learn": [
                          0.00004626241676
                        ],
                        "iteration": 388,
                        "passed_time": 13.01640089,
                        "remaining_time": 20.44478392,
                        "test": [
                          0.00004907225342
                        ]
                      },
                      {
                        "learn": [
                          0.00004590980144
                        ],
                        "iteration": 389,
                        "passed_time": 13.07456564,
                        "remaining_time": 20.44996163,
                        "test": [
                          0.00004870792561
                        ]
                      },
                      {
                        "learn": [
                          0.00004579580632
                        ],
                        "iteration": 390,
                        "passed_time": 13.11418047,
                        "remaining_time": 20.42592303,
                        "test": [
                          0.00004858259952
                        ]
                      },
                      {
                        "learn": [
                          0.00004568275415
                        ],
                        "iteration": 391,
                        "passed_time": 13.16032918,
                        "remaining_time": 20.41193913,
                        "test": [
                          0.00004845814195
                        ]
                      },
                      {
                        "learn": [
                          0.00004557043091
                        ],
                        "iteration": 392,
                        "passed_time": 13.24603425,
                        "remaining_time": 20.4588875,
                        "test": [
                          0.00004833464594
                        ]
                      },
                      {
                        "learn": [
                          0.0000454930404
                        ],
                        "iteration": 393,
                        "passed_time": 13.32412232,
                        "remaining_time": 20.49344701,
                        "test": [
                          0.00004824694497
                        ]
                      },
                      {
                        "learn": [
                          0.00004517827043
                        ],
                        "iteration": 394,
                        "passed_time": 13.36982863,
                        "remaining_time": 20.47783879,
                        "test": [
                          0.0000479216257
                        ]
                      },
                      {
                        "learn": [
                          0.00004506789514
                        ],
                        "iteration": 395,
                        "passed_time": 13.39877011,
                        "remaining_time": 20.43650795,
                        "test": [
                          0.0000478001924
                        ]
                      },
                      {
                        "learn": [
                          0.00004495823016
                        ],
                        "iteration": 396,
                        "passed_time": 13.41811213,
                        "remaining_time": 20.38065898,
                        "test": [
                          0.00004767961521
                        ]
                      },
                      {
                        "learn": [
                          0.00004486703654
                        ],
                        "iteration": 397,
                        "passed_time": 13.43100737,
                        "remaining_time": 20.31524231,
                        "test": [
                          0.00004757168105
                        ]
                      },
                      {
                        "learn": [
                          0.00004479200033
                        ],
                        "iteration": 398,
                        "passed_time": 13.45674842,
                        "remaining_time": 20.2694381,
                        "test": [
                          0.00004748670659
                        ]
                      },
                      {
                        "learn": [
                          0.00004447929617
                        ],
                        "iteration": 399,
                        "passed_time": 13.48488133,
                        "remaining_time": 20.22732199,
                        "test": [
                          0.00004720980678
                        ]
                      },
                      {
                        "learn": [
                          0.00004440491444
                        ],
                        "iteration": 400,
                        "passed_time": 13.50281734,
                        "remaining_time": 20.17004386,
                        "test": [
                          0.00004712529449
                        ]
                      },
                      {
                        "learn": [
                          0.0000442982148
                        ],
                        "iteration": 401,
                        "passed_time": 13.55105592,
                        "remaining_time": 20.15803841,
                        "test": [
                          0.00004700784084
                        ]
                      },
                      {
                        "learn": [
                          0.00004419235576
                        ],
                        "iteration": 402,
                        "passed_time": 13.59091645,
                        "remaining_time": 20.13344198,
                        "test": [
                          0.00004689117194
                        ]
                      },
                      {
                        "learn": [
                          0.00004408715741
                        ],
                        "iteration": 403,
                        "passed_time": 13.61638345,
                        "remaining_time": 20.08753598,
                        "test": [
                          0.00004677534984
                        ]
                      },
                      {
                        "learn": [
                          0.00004374477811
                        ],
                        "iteration": 404,
                        "passed_time": 13.63324639,
                        "remaining_time": 20.02909038,
                        "test": [
                          0.00004642251119
                        ]
                      },
                      {
                        "learn": [
                          0.00004367274135
                        ],
                        "iteration": 405,
                        "passed_time": 13.64815803,
                        "remaining_time": 19.96799475,
                        "test": [
                          0.00004634103559
                        ]
                      },
                      {
                        "learn": [
                          0.00004360100858
                        ],
                        "iteration": 406,
                        "passed_time": 13.69205873,
                        "remaining_time": 19.94936322,
                        "test": [
                          0.0000462701403
                        ]
                      },
                      {
                        "learn": [
                          0.00004352957668
                        ],
                        "iteration": 407,
                        "passed_time": 13.750425,
                        "remaining_time": 19.95159706,
                        "test": [
                          0.000046199549
                        ]
                      },
                      {
                        "learn": [
                          0.00004345874653
                        ],
                        "iteration": 408,
                        "passed_time": 13.80171278,
                        "remaining_time": 19.94330625,
                        "test": [
                          0.0000461189264
                        ]
                      },
                      {
                        "learn": [
                          0.00004315019572
                        ],
                        "iteration": 409,
                        "passed_time": 13.8598123,
                        "remaining_time": 19.94460794,
                        "test": [
                          0.00004580109803
                        ]
                      },
                      {
                        "learn": [
                          0.00004308000455
                        ],
                        "iteration": 410,
                        "passed_time": 13.90131095,
                        "remaining_time": 19.92183005,
                        "test": [
                          0.00004572106477
                        ]
                      },
                      {
                        "learn": [
                          0.00004297912394
                        ],
                        "iteration": 411,
                        "passed_time": 13.94257718,
                        "remaining_time": 19.89862957,
                        "test": [
                          0.0000456100474
                        ]
                      },
                      {
                        "learn": [
                          0.0000428788885
                        ],
                        "iteration": 412,
                        "passed_time": 13.99336853,
                        "remaining_time": 19.88887972,
                        "test": [
                          0.00004549969692
                        ]
                      },
                      {
                        "learn": [
                          0.00004277932306
                        ],
                        "iteration": 413,
                        "passed_time": 14.04800484,
                        "remaining_time": 19.884374,
                        "test": [
                          0.00004539003504
                        ]
                      },
                      {
                        "learn": [
                          0.00004259172476
                        ],
                        "iteration": 414,
                        "passed_time": 14.11715778,
                        "remaining_time": 19.90008989,
                        "test": [
                          0.0000452035472
                        ]
                      },
                      {
                        "learn": [
                          0.00004240461345
                        ],
                        "iteration": 415,
                        "passed_time": 14.2153749,
                        "remaining_time": 19.95619937,
                        "test": [
                          0.00004500723587
                        ]
                      },
                      {
                        "learn": [
                          0.00004233670833
                        ],
                        "iteration": 416,
                        "passed_time": 14.24250811,
                        "remaining_time": 19.9121876,
                        "test": [
                          0.00004493004389
                        ]
                      },
                      {
                        "learn": [
                          0.00004226903584
                        ],
                        "iteration": 417,
                        "passed_time": 14.28236413,
                        "remaining_time": 19.88597111,
                        "test": [
                          0.00004486333297
                        ]
                      },
                      {
                        "learn": [
                          0.00004217190533
                        ],
                        "iteration": 418,
                        "passed_time": 14.30895802,
                        "remaining_time": 19.84129978,
                        "test": [
                          0.00004475629213
                        ]
                      },
                      {
                        "learn": [
                          0.00004207543551
                        ],
                        "iteration": 419,
                        "passed_time": 14.36797199,
                        "remaining_time": 19.84148513,
                        "test": [
                          0.00004465022217
                        ]
                      },
                      {
                        "learn": [
                          0.00004177661512
                        ],
                        "iteration": 420,
                        "passed_time": 14.53642966,
                        "remaining_time": 19.99190682,
                        "test": [
                          0.00004433675186
                        ]
                      },
                      {
                        "learn": [
                          0.00004171057419
                        ],
                        "iteration": 421,
                        "passed_time": 14.58761025,
                        "remaining_time": 19.98018656,
                        "test": [
                          0.00004426189865
                        ]
                      },
                      {
                        "learn": [
                          0.00004161554362
                        ],
                        "iteration": 422,
                        "passed_time": 14.695177,
                        "remaining_time": 20.04519416,
                        "test": [
                          0.0000441573858
                        ]
                      },
                      {
                        "learn": [
                          0.00004152106827
                        ],
                        "iteration": 423,
                        "passed_time": 14.82768028,
                        "remaining_time": 20.14326378,
                        "test": [
                          0.00004405336614
                        ]
                      },
                      {
                        "learn": [
                          0.00004145617501
                        ],
                        "iteration": 424,
                        "passed_time": 14.94292031,
                        "remaining_time": 20.21689218,
                        "test": [
                          0.00004397966061
                        ]
                      },
                      {
                        "learn": [
                          0.0000413915237
                        ],
                        "iteration": 425,
                        "passed_time": 15.09777176,
                        "remaining_time": 20.34300701,
                        "test": [
                          0.00004391578165
                        ]
                      },
                      {
                        "learn": [
                          0.0000410892882
                        ],
                        "iteration": 426,
                        "passed_time": 15.2019795,
                        "remaining_time": 20.39984602,
                        "test": [
                          0.0000436049634
                        ]
                      },
                      {
                        "learn": [
                          0.00004102509596
                        ],
                        "iteration": 427,
                        "passed_time": 15.32508958,
                        "remaining_time": 20.48119448,
                        "test": [
                          0.00004354155592
                        ]
                      },
                      {
                        "learn": [
                          0.00004093303693
                        ],
                        "iteration": 428,
                        "passed_time": 15.41310376,
                        "remaining_time": 20.51487703,
                        "test": [
                          0.00004344036823
                        ]
                      },
                      {
                        "learn": [
                          0.00004084155795
                        ],
                        "iteration": 429,
                        "passed_time": 15.51346485,
                        "remaining_time": 20.56436038,
                        "test": [
                          0.0000433394628
                        ]
                      },
                      {
                        "learn": [
                          0.00004078374306
                        ],
                        "iteration": 430,
                        "passed_time": 15.6481778,
                        "remaining_time": 20.65849923,
                        "test": [
                          0.00004326810224
                        ]
                      },
                      {
                        "learn": [
                          0.00004072109242
                        ],
                        "iteration": 431,
                        "passed_time": 15.77972482,
                        "remaining_time": 20.74741597,
                        "test": [
                          0.00004319702085
                        ]
                      },
                      {
                        "learn": [
                          0.00004042083898
                        ],
                        "iteration": 432,
                        "passed_time": 15.88024909,
                        "remaining_time": 20.79469107,
                        "test": [
                          0.00004288853207
                        ]
                      },
                      {
                        "learn": [
                          0.00004035865362
                        ],
                        "iteration": 433,
                        "passed_time": 15.95710122,
                        "remaining_time": 20.81041312,
                        "test": [
                          0.000042827178
                        ]
                      },
                      {
                        "learn": [
                          0.00004029681566
                        ],
                        "iteration": 434,
                        "passed_time": 16.00195824,
                        "remaining_time": 20.78415266,
                        "test": [
                          0.00004275699924
                        ]
                      },
                      {
                        "learn": [
                          0.00004020783675
                        ],
                        "iteration": 435,
                        "passed_time": 16.05928187,
                        "remaining_time": 20.77393343,
                        "test": [
                          0.00004265892578
                        ]
                      },
                      {
                        "learn": [
                          0.00004014657883
                        ],
                        "iteration": 436,
                        "passed_time": 16.18729725,
                        "remaining_time": 20.85457288,
                        "test": [
                          0.00004259843711
                        ]
                      },
                      {
                        "learn": [
                          0.00004005854907
                        ],
                        "iteration": 437,
                        "passed_time": 16.2623507,
                        "remaining_time": 20.86630386,
                        "test": [
                          0.00004250171915
                        ]
                      },
                      {
                        "learn": [
                          0.00003987917061
                        ],
                        "iteration": 438,
                        "passed_time": 16.29870032,
                        "remaining_time": 20.82817968,
                        "test": [
                          0.00004231427904
                        ]
                      },
                      {
                        "learn": [
                          0.00003970002478
                        ],
                        "iteration": 439,
                        "passed_time": 16.3556051,
                        "remaining_time": 20.81622467,
                        "test": [
                          0.00004212704365
                        ]
                      },
                      {
                        "learn": [
                          0.00003961328228
                        ],
                        "iteration": 440,
                        "passed_time": 16.4445099,
                        "remaining_time": 20.8446282,
                        "test": [
                          0.00004203129656
                        ]
                      },
                      {
                        "learn": [
                          0.00003955367453
                        ],
                        "iteration": 441,
                        "passed_time": 16.50620227,
                        "remaining_time": 20.83814676,
                        "test": [
                          0.00004196382569
                        ]
                      },
                      {
                        "learn": [
                          0.00003949929646
                        ],
                        "iteration": 442,
                        "passed_time": 16.63114561,
                        "remaining_time": 20.9109438,
                        "test": [
                          0.00004189655954
                        ]
                      },
                      {
                        "learn": [
                          0.00003944019121
                        ],
                        "iteration": 443,
                        "passed_time": 16.68949808,
                        "remaining_time": 20.89946156,
                        "test": [
                          0.00004182938955
                        ]
                      },
                      {
                        "learn": [
                          0.00003926228301
                        ],
                        "iteration": 444,
                        "passed_time": 16.74279271,
                        "remaining_time": 20.88146057,
                        "test": [
                          0.00004165254837
                        ]
                      },
                      {
                        "learn": [
                          0.0000390848804
                        ],
                        "iteration": 445,
                        "passed_time": 16.83705309,
                        "remaining_time": 20.91418703,
                        "test": [
                          0.00004146726403
                        ]
                      },
                      {
                        "learn": [
                          0.00003900041774
                        ],
                        "iteration": 446,
                        "passed_time": 16.94449793,
                        "remaining_time": 20.96265628,
                        "test": [
                          0.00004137423414
                        ]
                      },
                      {
                        "learn": [
                          0.000038942516
                        ],
                        "iteration": 447,
                        "passed_time": 16.99527184,
                        "remaining_time": 20.94060281,
                        "test": [
                          0.00004130853131
                        ]
                      },
                      {
                        "learn": [
                          0.00003888482208
                        ],
                        "iteration": 448,
                        "passed_time": 17.0842552,
                        "remaining_time": 20.96531095,
                        "test": [
                          0.00004125184858
                        ]
                      },
                      {
                        "learn": [
                          0.00003880155052
                        ],
                        "iteration": 449,
                        "passed_time": 17.20955629,
                        "remaining_time": 21.03390213,
                        "test": [
                          0.00004116010904
                        ]
                      },
                      {
                        "learn": [
                          0.00003874441492
                        ],
                        "iteration": 450,
                        "passed_time": 17.29096218,
                        "remaining_time": 21.04820008,
                        "test": [
                          0.00004109567175
                        ]
                      },
                      {
                        "learn": [
                          0.00003854321203
                        ],
                        "iteration": 451,
                        "passed_time": 17.40082817,
                        "remaining_time": 21.09657929,
                        "test": [
                          0.00004088589542
                        ]
                      },
                      {
                        "learn": [
                          0.00003834233172
                        ],
                        "iteration": 452,
                        "passed_time": 17.46226169,
                        "remaining_time": 21.08577736,
                        "test": [
                          0.00004067709305
                        ]
                      },
                      {
                        "learn": [
                          0.00003828608325
                        ],
                        "iteration": 453,
                        "passed_time": 17.51084119,
                        "remaining_time": 21.05929359,
                        "test": [
                          0.00004062149596
                        ]
                      },
                      {
                        "learn": [
                          0.00003820512875
                        ],
                        "iteration": 454,
                        "passed_time": 17.57255507,
                        "remaining_time": 21.04844508,
                        "test": [
                          0.00004053248293
                        ]
                      },
                      {
                        "learn": [
                          0.00003814956268
                        ],
                        "iteration": 455,
                        "passed_time": 17.62777219,
                        "remaining_time": 21.02962296,
                        "test": [
                          0.0000404695097
                        ]
                      },
                      {
                        "learn": [
                          0.00003810021266
                        ],
                        "iteration": 456,
                        "passed_time": 17.6721691,
                        "remaining_time": 20.99778516,
                        "test": [
                          0.00004041476872
                        ]
                      },
                      {
                        "learn": [
                          0.00003804518631
                        ],
                        "iteration": 457,
                        "passed_time": 17.7118392,
                        "remaining_time": 20.96029879,
                        "test": [
                          0.00004035228248
                        ]
                      },
                      {
                        "learn": [
                          0.00003785720959
                        ],
                        "iteration": 458,
                        "passed_time": 17.74046898,
                        "remaining_time": 20.90979023,
                        "test": [
                          0.00004015289104
                        ]
                      },
                      {
                        "learn": [
                          0.00003765910231
                        ],
                        "iteration": 459,
                        "passed_time": 17.77890651,
                        "remaining_time": 20.87089025,
                        "test": [
                          0.00003994683069
                        ]
                      },
                      {
                        "learn": [
                          0.00003760477697
                        ],
                        "iteration": 460,
                        "passed_time": 17.80736588,
                        "remaining_time": 20.82032583,
                        "test": [
                          0.00003988530291
                        ]
                      },
                      {
                        "learn": [
                          0.00003752647763
                        ],
                        "iteration": 461,
                        "passed_time": 17.84333645,
                        "remaining_time": 20.77860392,
                        "test": [
                          0.00003979920869
                        ]
                      },
                      {
                        "learn": [
                          0.00003744854741
                        ],
                        "iteration": 462,
                        "passed_time": 17.8747242,
                        "remaining_time": 20.73159157,
                        "test": [
                          0.00003971343086
                        ]
                      },
                      {
                        "learn": [
                          0.00003739504716
                        ],
                        "iteration": 463,
                        "passed_time": 17.91226169,
                        "remaining_time": 20.69175058,
                        "test": [
                          0.00003966075569
                        ]
                      },
                      {
                        "learn": [
                          0.00003731791721
                        ],
                        "iteration": 464,
                        "passed_time": 17.93204049,
                        "remaining_time": 20.63148744,
                        "test": [
                          0.00003957603558
                        ]
                      },
                      {
                        "learn": [
                          0.00003712237514
                        ],
                        "iteration": 465,
                        "passed_time": 17.98564642,
                        "remaining_time": 20.61016135,
                        "test": [
                          0.00003937279788
                        ]
                      },
                      {
                        "learn": [
                          0.0000370697527
                        ],
                        "iteration": 466,
                        "passed_time": 18.02451232,
                        "remaining_time": 20.5718738,
                        "test": [
                          0.00003931323667
                        ]
                      },
                      {
                        "learn": [
                          0.00003688745852
                        ],
                        "iteration": 467,
                        "passed_time": 18.04701257,
                        "remaining_time": 20.5149801,
                        "test": [
                          0.00003911943782
                        ]
                      },
                      {
                        "learn": [
                          0.00003683530756
                        ],
                        "iteration": 468,
                        "passed_time": 18.06697249,
                        "remaining_time": 20.45535692,
                        "test": [
                          0.00003906811505
                        ]
                      },
                      {
                        "learn": [
                          0.00003676006352
                        ],
                        "iteration": 469,
                        "passed_time": 18.09442348,
                        "remaining_time": 20.40434988,
                        "test": [
                          0.00003898544214
                        ]
                      },
                      {
                        "learn": [
                          0.00003670859185
                        ],
                        "iteration": 470,
                        "passed_time": 18.11107929,
                        "remaining_time": 20.34131835,
                        "test": [
                          0.00003892685489
                        ]
                      },
                      {
                        "learn": [
                          0.00003663407364
                        ],
                        "iteration": 471,
                        "passed_time": 18.13581175,
                        "remaining_time": 20.28751823,
                        "test": [
                          0.00003884508151
                        ]
                      },
                      {
                        "learn": [
                          0.00003658304554
                        ],
                        "iteration": 472,
                        "passed_time": 18.16784313,
                        "remaining_time": 20.24197322,
                        "test": [
                          0.00003878717046
                        ]
                      },
                      {
                        "learn": [
                          0.00003639032613
                        ],
                        "iteration": 473,
                        "passed_time": 18.20778122,
                        "remaining_time": 20.20525933,
                        "test": [
                          0.0000385870532
                        ]
                      },
                      {
                        "learn": [
                          0.00003631703624
                        ],
                        "iteration": 474,
                        "passed_time": 18.24417859,
                        "remaining_time": 20.16461844,
                        "test": [
                          0.00003850673458
                        ]
                      },
                      {
                        "learn": [
                          0.00003614765185
                        ],
                        "iteration": 475,
                        "passed_time": 18.27106833,
                        "remaining_time": 20.113529,
                        "test": [
                          0.00003833816597
                        ]
                      },
                      {
                        "learn": [
                          0.00003609749846
                        ],
                        "iteration": 476,
                        "passed_time": 18.30600304,
                        "remaining_time": 20.07136182,
                        "test": [
                          0.00003828861123
                        ]
                      },
                      {
                        "learn": [
                          0.00003602520425
                        ],
                        "iteration": 477,
                        "passed_time": 18.3382045,
                        "remaining_time": 20.02624007,
                        "test": [
                          0.00003820936274
                        ]
                      },
                      {
                        "learn": [
                          0.00003597558748
                        ],
                        "iteration": 478,
                        "passed_time": 18.35112602,
                        "remaining_time": 19.96020178,
                        "test": [
                          0.00003815291885
                        ]
                      },
                      {
                        "learn": [
                          0.0000359040191
                        ],
                        "iteration": 479,
                        "passed_time": 18.36787329,
                        "remaining_time": 19.8985294,
                        "test": [
                          0.0000380742535
                        ]
                      },
                      {
                        "learn": [
                          0.00003583277952
                        ],
                        "iteration": 480,
                        "passed_time": 18.38536897,
                        "remaining_time": 19.83785134,
                        "test": [
                          0.0000379960131
                        ]
                      },
                      {
                        "learn": [
                          0.00003566510113
                        ],
                        "iteration": 481,
                        "passed_time": 18.39951575,
                        "remaining_time": 19.77375344,
                        "test": [
                          0.00003782162857
                        ]
                      },
                      {
                        "learn": [
                          0.00003559454705
                        ],
                        "iteration": 482,
                        "passed_time": 18.42031182,
                        "remaining_time": 19.71697974,
                        "test": [
                          0.00003774432492
                        ]
                      },
                      {
                        "learn": [
                          0.00003541709171
                        ],
                        "iteration": 483,
                        "passed_time": 18.48316514,
                        "remaining_time": 19.70519259,
                        "test": [
                          0.00003755628616
                        ]
                      },
                      {
                        "learn": [
                          0.00003536898243
                        ],
                        "iteration": 484,
                        "passed_time": 18.5133444,
                        "remaining_time": 19.65849973,
                        "test": [
                          0.00003750160101
                        ]
                      },
                      {
                        "learn": [
                          0.00003532113369
                        ],
                        "iteration": 485,
                        "passed_time": 18.57273652,
                        "remaining_time": 19.64277072,
                        "test": [
                          0.00003744719502
                        ]
                      },
                      {
                        "learn": [
                          0.00003525186066
                        ],
                        "iteration": 486,
                        "passed_time": 18.58219689,
                        "remaining_time": 19.5742649,
                        "test": [
                          0.00003737118173
                        ]
                      },
                      {
                        "learn": [
                          0.00003520424147
                        ],
                        "iteration": 487,
                        "passed_time": 18.59165526,
                        "remaining_time": 19.50599896,
                        "test": [
                          0.00003732425734
                        ]
                      },
                      {
                        "learn": [
                          0.00003513563533
                        ],
                        "iteration": 488,
                        "passed_time": 18.60115585,
                        "remaining_time": 19.43801766,
                        "test": [
                          0.00003724881478
                        ]
                      },
                      {
                        "learn": [
                          0.00003494848369
                        ],
                        "iteration": 489,
                        "passed_time": 18.61072061,
                        "remaining_time": 19.37034186,
                        "test": [
                          0.00003705525167
                        ]
                      },
                      {
                        "learn": [
                          0.0000348806313
                        ],
                        "iteration": 490,
                        "passed_time": 18.61999766,
                        "remaining_time": 19.3026045,
                        "test": [
                          0.00003698060939
                        ]
                      },
                      {
                        "learn": [
                          0.00003469427063
                        ],
                        "iteration": 491,
                        "passed_time": 18.6292802,
                        "remaining_time": 19.23511045,
                        "test": [
                          0.00003678751466
                        ]
                      },
                      {
                        "learn": [
                          0.00003462730846
                        ],
                        "iteration": 492,
                        "passed_time": 18.63847379,
                        "remaining_time": 19.16776108,
                        "test": [
                          0.0000367139363
                        ]
                      },
                      {
                        "learn": [
                          0.00003458120605
                        ],
                        "iteration": 493,
                        "passed_time": 18.64800403,
                        "remaining_time": 19.10099198,
                        "test": [
                          0.00003666857523
                        ]
                      },
                      {
                        "learn": [
                          0.00003451481151
                        ],
                        "iteration": 494,
                        "passed_time": 18.65741855,
                        "remaining_time": 19.0343361,
                        "test": [
                          0.00003659558311
                        ]
                      },
                      {
                        "learn": [
                          0.00003444861239
                        ],
                        "iteration": 495,
                        "passed_time": 18.66671934,
                        "remaining_time": 18.96779545,
                        "test": [
                          0.00003652308418
                        ]
                      },
                      {
                        "learn": [
                          0.00003439467168
                        ],
                        "iteration": 496,
                        "passed_time": 18.67656707,
                        "remaining_time": 18.9020387,
                        "test": [
                          0.00003646244353
                        ]
                      },
                      {
                        "learn": [
                          0.00003423046733
                        ],
                        "iteration": 497,
                        "passed_time": 18.68674568,
                        "remaining_time": 18.83684003,
                        "test": [
                          0.0000362989464
                        ]
                      },
                      {
                        "learn": [
                          0.00003418538853
                        ],
                        "iteration": 498,
                        "passed_time": 18.69631656,
                        "remaining_time": 18.7712517,
                        "test": [
                          0.00003625465236
                        ]
                      },
                      {
                        "learn": [
                          0.00003412052319
                        ],
                        "iteration": 499,
                        "passed_time": 18.70579712,
                        "remaining_time": 18.70579712,
                        "test": [
                          0.00003618332592
                        ]
                      },
                      {
                        "learn": [
                          0.00003395704777
                        ],
                        "iteration": 500,
                        "passed_time": 18.71518635,
                        "remaining_time": 18.64047502,
                        "test": [
                          0.00003601383297
                        ]
                      },
                      {
                        "learn": [
                          0.00003389266942
                        ],
                        "iteration": 501,
                        "passed_time": 18.72448486,
                        "remaining_time": 18.57528578,
                        "test": [
                          0.00003594328819
                        ]
                      },
                      {
                        "learn": [
                          0.00003385370431
                        ],
                        "iteration": 502,
                        "passed_time": 18.73394146,
                        "remaining_time": 18.51047497,
                        "test": [
                          0.0000358995897
                        ]
                      },
                      {
                        "learn": [
                          0.00003378998665
                        ],
                        "iteration": 503,
                        "passed_time": 18.74319392,
                        "remaining_time": 18.4456829,
                        "test": [
                          0.00003582942645
                        ]
                      },
                      {
                        "learn": [
                          0.00003374625404
                        ],
                        "iteration": 504,
                        "passed_time": 18.75193,
                        "remaining_time": 18.38060466,
                        "test": [
                          0.00003577991203
                        ]
                      },
                      {
                        "learn": [
                          0.00003370254624
                        ],
                        "iteration": 505,
                        "passed_time": 18.76039742,
                        "remaining_time": 18.31548681,
                        "test": [
                          0.00003573059924
                        ]
                      },
                      {
                        "learn": [
                          0.00003352070803
                        ],
                        "iteration": 506,
                        "passed_time": 18.76882225,
                        "remaining_time": 18.25055103,
                        "test": [
                          0.00003554251395
                        ]
                      },
                      {
                        "learn": [
                          0.00003347753995
                        ],
                        "iteration": 507,
                        "passed_time": 18.77736021,
                        "remaining_time": 18.18594729,
                        "test": [
                          0.00003549359509
                        ]
                      },
                      {
                        "learn": [
                          0.00003343458589
                        ],
                        "iteration": 508,
                        "passed_time": 18.78602013,
                        "remaining_time": 18.1216815,
                        "test": [
                          0.00003544486544
                        ]
                      },
                      {
                        "learn": [
                          0.0000332534642
                        ],
                        "iteration": 509,
                        "passed_time": 18.79444487,
                        "remaining_time": 18.05740782,
                        "test": [
                          0.00003525755251
                        ]
                      },
                      {
                        "learn": [
                          0.00003321540482
                        ],
                        "iteration": 510,
                        "passed_time": 18.80315156,
                        "remaining_time": 17.99362253,
                        "test": [
                          0.00003521570271
                        ]
                      },
                      {
                        "learn": [
                          0.00003317295326
                        ],
                        "iteration": 511,
                        "passed_time": 18.81161685,
                        "remaining_time": 17.92982231,
                        "test": [
                          0.00003516745694
                        ]
                      },
                      {
                        "learn": [
                          0.00003313058545
                        ],
                        "iteration": 512,
                        "passed_time": 18.821612,
                        "remaining_time": 17.86769015,
                        "test": [
                          0.00003511962372
                        ]
                      },
                      {
                        "learn": [
                          0.00003306946091
                        ],
                        "iteration": 513,
                        "passed_time": 18.8300867,
                        "remaining_time": 17.80432322,
                        "test": [
                          0.00003505231104
                        ]
                      },
                      {
                        "learn": [
                          0.00003302741259
                        ],
                        "iteration": 514,
                        "passed_time": 18.83862435,
                        "remaining_time": 17.74122875,
                        "test": [
                          0.00003501094822
                        ]
                      },
                      {
                        "learn": [
                          0.00003286661095
                        ],
                        "iteration": 515,
                        "passed_time": 18.84715798,
                        "remaining_time": 17.67834198,
                        "test": [
                          0.00003485088171
                        ]
                      },
                      {
                        "learn": [
                          0.00003280613159
                        ],
                        "iteration": 516,
                        "passed_time": 18.85555227,
                        "remaining_time": 17.61553529,
                        "test": [
                          0.00003478463916
                        ]
                      },
                      {
                        "learn": [
                          0.0000327559813
                        ],
                        "iteration": 517,
                        "passed_time": 18.86411551,
                        "remaining_time": 17.5530959,
                        "test": [
                          0.00003472525785
                        ]
                      },
                      {
                        "learn": [
                          0.00003269615643
                        ],
                        "iteration": 518,
                        "passed_time": 18.87248824,
                        "remaining_time": 17.49068756,
                        "test": [
                          0.00003465959534
                        ]
                      },
                      {
                        "learn": [
                          0.00003251777675
                        ],
                        "iteration": 519,
                        "passed_time": 18.88098225,
                        "remaining_time": 17.428599,
                        "test": [
                          0.00003447523224
                        ]
                      },
                      {
                        "learn": [
                          0.00003245857534
                        ],
                        "iteration": 520,
                        "passed_time": 18.88935181,
                        "remaining_time": 17.36660176,
                        "test": [
                          0.00003441034829
                        ]
                      },
                      {
                        "learn": [
                          0.00003239964069
                        ],
                        "iteration": 521,
                        "passed_time": 18.89772212,
                        "remaining_time": 17.30481068,
                        "test": [
                          0.00003434566596
                        ]
                      },
                      {
                        "learn": [
                          0.00003235935731
                        ],
                        "iteration": 522,
                        "passed_time": 18.90632765,
                        "remaining_time": 17.24343841,
                        "test": [
                          0.00003429986754
                        ]
                      },
                      {
                        "learn": [
                          0.00003230091585
                        ],
                        "iteration": 523,
                        "passed_time": 18.91741156,
                        "remaining_time": 17.1845189,
                        "test": [
                          0.00003423596687
                        ]
                      },
                      {
                        "learn": [
                          0.00003226091783
                        ],
                        "iteration": 524,
                        "passed_time": 18.92597318,
                        "remaining_time": 17.12349954,
                        "test": [
                          0.00003419048482
                        ]
                      },
                      {
                        "learn": [
                          0.00003210190283
                        ],
                        "iteration": 525,
                        "passed_time": 18.93447584,
                        "remaining_time": 17.06262652,
                        "test": [
                          0.00003403206538
                        ]
                      },
                      {
                        "learn": [
                          0.00003204423993
                        ],
                        "iteration": 526,
                        "passed_time": 18.94503987,
                        "remaining_time": 17.00380239,
                        "test": [
                          0.00003396884711
                        ]
                      },
                      {
                        "learn": [
                          0.00003200470409
                        ],
                        "iteration": 527,
                        "passed_time": 18.95291531,
                        "remaining_time": 16.94275762,
                        "test": [
                          0.00003393002779
                        ]
                      },
                      {
                        "learn": [
                          0.00003194751576
                        ],
                        "iteration": 528,
                        "passed_time": 18.96083256,
                        "remaining_time": 16.88195111,
                        "test": [
                          0.0000338671135
                        ]
                      },
                      {
                        "learn": [
                          0.00003178122699
                        ],
                        "iteration": 529,
                        "passed_time": 18.96902461,
                        "remaining_time": 16.82158786,
                        "test": [
                          0.00003369215203
                        ]
                      },
                      {
                        "learn": [
                          0.00003174206026
                        ],
                        "iteration": 530,
                        "passed_time": 18.97678579,
                        "remaining_time": 16.76104055,
                        "test": [
                          0.00003364801928
                        ]
                      },
                      {
                        "learn": [
                          0.0000316956849
                        ],
                        "iteration": 531,
                        "passed_time": 18.98455807,
                        "remaining_time": 16.70070146,
                        "test": [
                          0.0000335960017
                        ]
                      },
                      {
                        "learn": [
                          0.00003165696483
                        ],
                        "iteration": 532,
                        "passed_time": 18.99229733,
                        "remaining_time": 16.64053068,
                        "test": [
                          0.00003355217293
                        ]
                      },
                      {
                        "learn": [
                          0.00003161829129
                        ],
                        "iteration": 533,
                        "passed_time": 19.00139027,
                        "remaining_time": 16.58173758,
                        "test": [
                          0.00003351413216
                        ]
                      },
                      {
                        "learn": [
                          0.0000315625143
                        ],
                        "iteration": 534,
                        "passed_time": 19.00900746,
                        "remaining_time": 16.52184761,
                        "test": [
                          0.00003345276568
                        ]
                      },
                      {
                        "learn": [
                          0.00003140510295
                        ],
                        "iteration": 535,
                        "passed_time": 19.01693801,
                        "remaining_time": 16.46242395,
                        "test": [
                          0.00003329641825
                        ]
                      },
                      {
                        "learn": [
                          0.00003136686987
                        ],
                        "iteration": 536,
                        "passed_time": 19.02475706,
                        "remaining_time": 16.40309594,
                        "test": [
                          0.00003325867837
                        ]
                      },
                      {
                        "learn": [
                          0.00003131178148
                        ],
                        "iteration": 537,
                        "passed_time": 19.03236858,
                        "remaining_time": 16.34378119,
                        "test": [
                          0.00003319809354
                        ]
                      },
                      {
                        "learn": [
                          0.0000312568854
                        ],
                        "iteration": 538,
                        "passed_time": 19.03998843,
                        "remaining_time": 16.28466543,
                        "test": [
                          0.00003313783752
                        ]
                      },
                      {
                        "learn": [
                          0.00003120231502
                        ],
                        "iteration": 539,
                        "passed_time": 19.04890073,
                        "remaining_time": 16.22684136,
                        "test": [
                          0.00003307783894
                        ]
                      },
                      {
                        "learn": [
                          0.00003102917742
                        ],
                        "iteration": 540,
                        "passed_time": 19.05657104,
                        "remaining_time": 16.16814437,
                        "test": [
                          0.00003289923593
                        ]
                      },
                      {
                        "learn": [
                          0.00003099187179
                        ],
                        "iteration": 541,
                        "passed_time": 19.0641362,
                        "remaining_time": 16.10954682,
                        "test": [
                          0.00003286266543
                        ]
                      },
                      {
                        "learn": [
                          0.00003093790626
                        ],
                        "iteration": 542,
                        "passed_time": 19.07154189,
                        "remaining_time": 16.05100303,
                        "test": [
                          0.00003280356018
                        ]
                      },
                      {
                        "learn": [
                          0.00003090094493
                        ],
                        "iteration": 543,
                        "passed_time": 19.07923819,
                        "remaining_time": 15.99289084,
                        "test": [
                          0.00003276177861
                        ]
                      },
                      {
                        "learn": [
                          0.00003084762458
                        ],
                        "iteration": 544,
                        "passed_time": 19.08686709,
                        "remaining_time": 15.93490739,
                        "test": [
                          0.00003270306729
                        ]
                      },
                      {
                        "learn": [
                          0.0000308109269
                        ],
                        "iteration": 545,
                        "passed_time": 19.0944738,
                        "remaining_time": 15.87708994,
                        "test": [
                          0.00003266679456
                        ]
                      },
                      {
                        "learn": [
                          0.00003063900832
                        ],
                        "iteration": 546,
                        "passed_time": 19.10208872,
                        "remaining_time": 15.81946287,
                        "test": [
                          0.00003248984793
                        ]
                      },
                      {
                        "learn": [
                          0.00003060265805
                        ],
                        "iteration": 547,
                        "passed_time": 19.10972368,
                        "remaining_time": 15.76203486,
                        "test": [
                          0.00003244866191
                        ]
                      },
                      {
                        "learn": [
                          0.00003056649699
                        ],
                        "iteration": 548,
                        "passed_time": 19.11735626,
                        "remaining_time": 15.70478629,
                        "test": [
                          0.00003240784191
                        ]
                      },
                      {
                        "learn": [
                          0.00003053430626
                        ],
                        "iteration": 549,
                        "passed_time": 19.1250934,
                        "remaining_time": 15.64780369,
                        "test": [
                          0.00003237216163
                        ]
                      },
                      {
                        "learn": [
                          0.0000304821522
                        ],
                        "iteration": 550,
                        "passed_time": 19.13263186,
                        "remaining_time": 15.59083794,
                        "test": [
                          0.00003231501053
                        ]
                      },
                      {
                        "learn": [
                          0.00003031129444
                        ],
                        "iteration": 551,
                        "passed_time": 19.14024985,
                        "remaining_time": 15.53411582,
                        "test": [
                          0.00003213906578
                        ]
                      },
                      {
                        "learn": [
                          0.00003025963046
                        ],
                        "iteration": 552,
                        "passed_time": 19.14780316,
                        "remaining_time": 15.47751901,
                        "test": [
                          0.00003208231482
                        ]
                      },
                      {
                        "learn": [
                          0.00003020830459
                        ],
                        "iteration": 553,
                        "passed_time": 19.1547702,
                        "remaining_time": 15.42062727,
                        "test": [
                          0.00003202574996
                        ]
                      },
                      {
                        "learn": [
                          0.00003017308338
                        ],
                        "iteration": 554,
                        "passed_time": 19.16195713,
                        "remaining_time": 15.36409175,
                        "test": [
                          0.00003198581708
                        ]
                      },
                      {
                        "learn": [
                          0.00003014162778
                        ],
                        "iteration": 555,
                        "passed_time": 19.17000672,
                        "remaining_time": 15.30842263,
                        "test": [
                          0.00003195130619
                        ]
                      },
                      {
                        "learn": [
                          0.00003009079199
                        ],
                        "iteration": 556,
                        "passed_time": 19.17820907,
                        "remaining_time": 15.25304599,
                        "test": [
                          0.00003189523763
                        ]
                      },
                      {
                        "learn": [
                          0.00002993031914
                        ],
                        "iteration": 557,
                        "passed_time": 19.18651257,
                        "remaining_time": 15.19791856,
                        "test": [
                          0.00003172999417
                        ]
                      },
                      {
                        "learn": [
                          0.00002988900595
                        ],
                        "iteration": 558,
                        "passed_time": 19.19435908,
                        "remaining_time": 15.14259813,
                        "test": [
                          0.00003168372427
                        ]
                      },
                      {
                        "learn": [
                          0.00002983878743
                        ],
                        "iteration": 559,
                        "passed_time": 19.20148838,
                        "remaining_time": 15.08688372,
                        "test": [
                          0.00003162874444
                        ]
                      },
                      {
                        "learn": [
                          0.00002978898455
                        ],
                        "iteration": 560,
                        "passed_time": 19.20855538,
                        "remaining_time": 15.03129378,
                        "test": [
                          0.00003157384216
                        ]
                      },
                      {
                        "learn": [
                          0.00002973930263
                        ],
                        "iteration": 561,
                        "passed_time": 19.21562287,
                        "remaining_time": 14.9758769,
                        "test": [
                          0.00003151922835
                        ]
                      },
                      {
                        "learn": [
                          0.00002957090773
                        ],
                        "iteration": 562,
                        "passed_time": 19.22282105,
                        "remaining_time": 14.92073322,
                        "test": [
                          0.00003134601631
                        ]
                      },
                      {
                        "learn": [
                          0.00002953688382
                        ],
                        "iteration": 563,
                        "passed_time": 19.23000434,
                        "remaining_time": 14.86574804,
                        "test": [
                          0.00003131260036
                        ]
                      },
                      {
                        "learn": [
                          0.00002950290644
                        ],
                        "iteration": 564,
                        "passed_time": 19.23718421,
                        "remaining_time": 14.81092944,
                        "test": [
                          0.00003127925886
                        ]
                      },
                      {
                        "learn": [
                          0.00002946917411
                        ],
                        "iteration": 565,
                        "passed_time": 19.24810163,
                        "remaining_time": 14.75914506,
                        "test": [
                          0.0000312408955
                        ]
                      },
                      {
                        "learn": [
                          0.00002942044756
                        ],
                        "iteration": 566,
                        "passed_time": 19.25514608,
                        "remaining_time": 14.70454718,
                        "test": [
                          0.00003118746969
                        ]
                      },
                      {
                        "learn": [
                          0.00002939051186
                        ],
                        "iteration": 567,
                        "passed_time": 19.26235056,
                        "remaining_time": 14.65023845,
                        "test": [
                          0.00003115451902
                        ]
                      },
                      {
                        "learn": [
                          0.00002934224748
                        ],
                        "iteration": 568,
                        "passed_time": 19.26940957,
                        "remaining_time": 14.5959851,
                        "test": [
                          0.00003110138788
                        ]
                      },
                      {
                        "learn": [
                          0.00002919637182
                        ],
                        "iteration": 569,
                        "passed_time": 19.27676954,
                        "remaining_time": 14.54212439,
                        "test": [
                          0.00003094962805
                        ]
                      },
                      {
                        "learn": [
                          0.00002915627764
                        ],
                        "iteration": 570,
                        "passed_time": 19.28395848,
                        "remaining_time": 14.48829805,
                        "test": [
                          0.00003090239968
                        ]
                      },
                      {
                        "learn": [
                          0.00002912690027
                        ],
                        "iteration": 571,
                        "passed_time": 19.29118115,
                        "remaining_time": 14.43466002,
                        "test": [
                          0.0000308699453
                        ]
                      },
                      {
                        "learn": [
                          0.00002909389997
                        ],
                        "iteration": 572,
                        "passed_time": 19.29849054,
                        "remaining_time": 14.38124862,
                        "test": [
                          0.00003083758397
                        ]
                      },
                      {
                        "learn": [
                          0.00002904642966
                        ],
                        "iteration": 573,
                        "passed_time": 19.31528253,
                        "remaining_time": 14.33503547,
                        "test": [
                          0.00003078533996
                        ]
                      },
                      {
                        "learn": [
                          0.00002899912064
                        ],
                        "iteration": 574,
                        "passed_time": 19.35382977,
                        "remaining_time": 14.30500461,
                        "test": [
                          0.00003073337821
                        ]
                      },
                      {
                        "learn": [
                          0.00002883312965
                        ],
                        "iteration": 575,
                        "passed_time": 19.36087602,
                        "remaining_time": 14.25175596,
                        "test": [
                          0.00003056280271
                        ]
                      },
                      {
                        "learn": [
                          0.00002880342348
                        ],
                        "iteration": 576,
                        "passed_time": 19.37028235,
                        "remaining_time": 14.20039764,
                        "test": [
                          0.00003052640281
                        ]
                      },
                      {
                        "learn": [
                          0.00002875670381
                        ],
                        "iteration": 577,
                        "passed_time": 19.37739922,
                        "remaining_time": 14.14751293,
                        "test": [
                          0.00003047504282
                        ]
                      },
                      {
                        "learn": [
                          0.0000287245379
                        ],
                        "iteration": 578,
                        "passed_time": 19.38458418,
                        "remaining_time": 14.09483582,
                        "test": [
                          0.00003043873287
                        ]
                      },
                      {
                        "learn": [
                          0.00002869264805
                        ],
                        "iteration": 579,
                        "passed_time": 19.39171916,
                        "remaining_time": 14.04227939,
                        "test": [
                          0.0000304027238
                        ]
                      },
                      {
                        "learn": [
                          0.00002866077681
                        ],
                        "iteration": 580,
                        "passed_time": 19.3999774,
                        "remaining_time": 13.99068938,
                        "test": [
                          0.00003036655963
                        ]
                      },
                      {
                        "learn": [
                          0.00002862885594
                        ],
                        "iteration": 581,
                        "passed_time": 19.40711726,
                        "remaining_time": 13.93844504,
                        "test": [
                          0.00003033536459
                        ]
                      },
                      {
                        "learn": [
                          0.00002847819106
                        ],
                        "iteration": 582,
                        "passed_time": 19.41428398,
                        "remaining_time": 13.88637465,
                        "test": [
                          0.00003018506882
                        ]
                      },
                      {
                        "learn": [
                          0.00002844651213
                        ],
                        "iteration": 583,
                        "passed_time": 19.4214194,
                        "remaining_time": 13.83443574,
                        "test": [
                          0.00003015399165
                        ]
                      },
                      {
                        "learn": [
                          0.00002841501001
                        ],
                        "iteration": 584,
                        "passed_time": 19.42869826,
                        "remaining_time": 13.78275176,
                        "test": [
                          0.00003012299823
                        ]
                      },
                      {
                        "learn": [
                          0.00002838368159
                        ],
                        "iteration": 585,
                        "passed_time": 19.43585941,
                        "remaining_time": 13.73113617,
                        "test": [
                          0.00003008757851
                        ]
                      },
                      {
                        "learn": [
                          0.00002835239039
                        ],
                        "iteration": 586,
                        "passed_time": 19.44300063,
                        "remaining_time": 13.67965802,
                        "test": [
                          0.0000300523573
                        ]
                      },
                      {
                        "learn": [
                          0.00002830714719
                        ],
                        "iteration": 587,
                        "passed_time": 19.45002255,
                        "remaining_time": 13.6282471,
                        "test": [
                          0.00003000264437
                        ]
                      },
                      {
                        "learn": [
                          0.00002815075324
                        ],
                        "iteration": 588,
                        "passed_time": 19.45716415,
                        "remaining_time": 13.5770704,
                        "test": [
                          0.00002983935196
                        ]
                      },
                      {
                        "learn": [
                          0.00002811980635
                        ],
                        "iteration": 589,
                        "passed_time": 19.46435558,
                        "remaining_time": 13.52607761,
                        "test": [
                          0.00002980905645
                        ]
                      },
                      {
                        "learn": [
                          0.00002807509976
                        ],
                        "iteration": 590,
                        "passed_time": 19.47141424,
                        "remaining_time": 13.47514116,
                        "test": [
                          0.00002975975296
                        ]
                      },
                      {
                        "learn": [
                          0.00002804441962
                        ],
                        "iteration": 591,
                        "passed_time": 19.47860761,
                        "remaining_time": 13.42444579,
                        "test": [
                          0.00002972510559
                        ]
                      },
                      {
                        "learn": [
                          0.00002800009146
                        ],
                        "iteration": 592,
                        "passed_time": 19.48564038,
                        "remaining_time": 13.3737869,
                        "test": [
                          0.00002967657756
                        ]
                      },
                      {
                        "learn": [
                          0.00002795603626
                        ],
                        "iteration": 593,
                        "passed_time": 19.4926645,
                        "remaining_time": 13.323269,
                        "test": [
                          0.00002962803401
                        ]
                      },
                      {
                        "learn": [
                          0.00002792557945
                        ],
                        "iteration": 594,
                        "passed_time": 19.49985916,
                        "remaining_time": 13.27301338,
                        "test": [
                          0.00002959823479
                        ]
                      },
                      {
                        "learn": [
                          0.00002777636312
                        ],
                        "iteration": 595,
                        "passed_time": 19.50705678,
                        "remaining_time": 13.22290426,
                        "test": [
                          0.00002944961401
                        ]
                      },
                      {
                        "learn": [
                          0.00002773268944
                        ],
                        "iteration": 596,
                        "passed_time": 19.51409992,
                        "remaining_time": 13.17283462,
                        "test": [
                          0.00002940167222
                        ]
                      },
                      {
                        "learn": [
                          0.0000277026948
                        ],
                        "iteration": 597,
                        "passed_time": 19.52113413,
                        "remaining_time": 13.12290288,
                        "test": [
                          0.00002936771966
                        ]
                      },
                      {
                        "learn": [
                          0.00002767290489
                        ],
                        "iteration": 598,
                        "passed_time": 19.52825584,
                        "remaining_time": 13.07317294,
                        "test": [
                          0.0000293337671
                        ]
                      },
                      {
                        "learn": [
                          0.00002764309016
                        ],
                        "iteration": 599,
                        "passed_time": 19.54178373,
                        "remaining_time": 13.02785582,
                        "test": [
                          0.00002930464408
                        ]
                      },
                      {
                        "learn": [
                          0.00002759990037
                        ],
                        "iteration": 600,
                        "passed_time": 19.56582558,
                        "remaining_time": 12.98962464,
                        "test": [
                          0.00002925729784
                        ]
                      },
                      {
                        "learn": [
                          0.00002745137884
                        ],
                        "iteration": 601,
                        "passed_time": 19.57308312,
                        "remaining_time": 12.94034399,
                        "test": [
                          0.0000291092571
                        ]
                      },
                      {
                        "learn": [
                          0.00002742200147
                        ],
                        "iteration": 602,
                        "passed_time": 19.5801584,
                        "remaining_time": 12.89108273,
                        "test": [
                          0.00002907599934
                        ]
                      },
                      {
                        "learn": [
                          0.00002737934829
                        ],
                        "iteration": 603,
                        "passed_time": 19.58737459,
                        "remaining_time": 12.84205354,
                        "test": [
                          0.00002902894158
                        ]
                      },
                      {
                        "learn": [
                          0.00002733694016
                        ],
                        "iteration": 604,
                        "passed_time": 19.59461027,
                        "remaining_time": 12.7931753,
                        "test": [
                          0.00002898236769
                        ]
                      },
                      {
                        "learn": [
                          0.00002729463438
                        ],
                        "iteration": 605,
                        "passed_time": 19.60157139,
                        "remaining_time": 12.74425599,
                        "test": [
                          0.00002893590547
                        ]
                      },
                      {
                        "learn": [
                          0.00002726568196
                        ],
                        "iteration": 606,
                        "passed_time": 19.60892521,
                        "remaining_time": 12.69572917,
                        "test": [
                          0.00002890332392
                        ]
                      },
                      {
                        "learn": [
                          0.00002722370808
                        ],
                        "iteration": 607,
                        "passed_time": 19.6159531,
                        "remaining_time": 12.64712765,
                        "test": [
                          0.00002885705712
                        ]
                      },
                      {
                        "learn": [
                          0.00002719492626
                        ],
                        "iteration": 608,
                        "passed_time": 19.62318201,
                        "remaining_time": 12.59879173,
                        "test": [
                          0.00002882477644
                        ]
                      },
                      {
                        "learn": [
                          0.00002703437276
                        ],
                        "iteration": 609,
                        "passed_time": 19.63024297,
                        "remaining_time": 12.55048321,
                        "test": [
                          0.00002866017196
                        ]
                      },
                      {
                        "learn": [
                          0.00002700896572
                        ],
                        "iteration": 610,
                        "passed_time": 19.63740176,
                        "remaining_time": 12.50237199,
                        "test": [
                          0.00002863211286
                        ]
                      },
                      {
                        "learn": [
                          0.00002698042584
                        ],
                        "iteration": 611,
                        "passed_time": 19.64439029,
                        "remaining_time": 12.45428665,
                        "test": [
                          0.00002860388006
                        ]
                      },
                      {
                        "learn": [
                          0.00002693921501
                        ],
                        "iteration": 612,
                        "passed_time": 19.65135243,
                        "remaining_time": 12.40631874,
                        "test": [
                          0.00002855867718
                        ]
                      },
                      {
                        "learn": [
                          0.00002691097291
                        ],
                        "iteration": 613,
                        "passed_time": 19.65842658,
                        "remaining_time": 12.35855482,
                        "test": [
                          0.00002852668497
                        ]
                      },
                      {
                        "learn": [
                          0.00002688278974
                        ],
                        "iteration": 614,
                        "passed_time": 19.66602738,
                        "remaining_time": 12.31125291,
                        "test": [
                          0.00002849489128
                        ]
                      },
                      {
                        "learn": [
                          0.00002685463448
                        ],
                        "iteration": 615,
                        "passed_time": 19.673217,
                        "remaining_time": 12.26382358,
                        "test": [
                          0.00002846723852
                        ]
                      },
                      {
                        "learn": [
                          0.00002669506737
                        ],
                        "iteration": 616,
                        "passed_time": 19.68018554,
                        "remaining_time": 12.21638746,
                        "test": [
                          0.00002830362352
                        ]
                      },
                      {
                        "learn": [
                          0.00002665460097
                        ],
                        "iteration": 617,
                        "passed_time": 19.68719197,
                        "remaining_time": 12.16910572,
                        "test": [
                          0.00002825931397
                        ]
                      },
                      {
                        "learn": [
                          0.00002661418111
                        ],
                        "iteration": 618,
                        "passed_time": 19.69413597,
                        "remaining_time": 12.12191568,
                        "test": [
                          0.00002821491757
                        ]
                      },
                      {
                        "learn": [
                          0.0000265742017
                        ],
                        "iteration": 619,
                        "passed_time": 19.70105117,
                        "remaining_time": 12.07483782,
                        "test": [
                          0.00002817098954
                        ]
                      },
                      {
                        "learn": [
                          0.00002654659237
                        ],
                        "iteration": 620,
                        "passed_time": 19.70803419,
                        "remaining_time": 12.02793069,
                        "test": [
                          0.00002813969524
                        ]
                      },
                      {
                        "learn": [
                          0.00002651919396
                        ],
                        "iteration": 621,
                        "passed_time": 19.71517253,
                        "remaining_time": 11.98124633,
                        "test": [
                          0.0000281086677
                        ]
                      },
                      {
                        "learn": [
                          0.00002647943789
                        ],
                        "iteration": 622,
                        "passed_time": 19.72242281,
                        "remaining_time": 11.93475666,
                        "test": [
                          0.00002806504365
                        ]
                      },
                      {
                        "learn": [
                          0.00002632098432
                        ],
                        "iteration": 623,
                        "passed_time": 19.72966915,
                        "remaining_time": 11.88839038,
                        "test": [
                          0.00002790289891
                        ]
                      },
                      {
                        "learn": [
                          0.0000262937348
                        ],
                        "iteration": 624,
                        "passed_time": 19.73699381,
                        "remaining_time": 11.84219629,
                        "test": [
                          0.00002787594096
                        ]
                      },
                      {
                        "learn": [
                          0.00002626658454
                        ],
                        "iteration": 625,
                        "passed_time": 19.74413896,
                        "remaining_time": 11.79601912,
                        "test": [
                          0.00002784944519
                        ]
                      },
                      {
                        "learn": [
                          0.0000262420243
                        ],
                        "iteration": 626,
                        "passed_time": 19.75135006,
                        "remaining_time": 11.7500057,
                        "test": [
                          0.00002781883949
                        ]
                      },
                      {
                        "learn": [
                          0.00002620946135
                        ],
                        "iteration": 627,
                        "passed_time": 19.75840805,
                        "remaining_time": 11.70402515,
                        "test": [
                          0.00002778042651
                        ]
                      },
                      {
                        "learn": [
                          0.00002618258405
                        ],
                        "iteration": 628,
                        "passed_time": 19.76795312,
                        "remaining_time": 11.65963531,
                        "test": [
                          0.0000277540455
                        ]
                      },
                      {
                        "learn": [
                          0.0000261438919
                        ],
                        "iteration": 629,
                        "passed_time": 19.77491211,
                        "remaining_time": 11.61383727,
                        "test": [
                          0.00002771160014
                        ]
                      },
                      {
                        "learn": [
                          0.00002610515943
                        ],
                        "iteration": 630,
                        "passed_time": 19.78196466,
                        "remaining_time": 11.56821705,
                        "test": [
                          0.00002766915789
                        ]
                      },
                      {
                        "learn": [
                          0.00002594783338
                        ],
                        "iteration": 631,
                        "passed_time": 19.7889852,
                        "remaining_time": 11.52270024,
                        "test": [
                          0.00002750790027
                        ]
                      },
                      {
                        "learn": [
                          0.00002590947312
                        ],
                        "iteration": 632,
                        "passed_time": 19.79592629,
                        "remaining_time": 11.477259,
                        "test": [
                          0.0000274659388
                        ]
                      },
                      {
                        "learn": [
                          0.00002588309366
                        ],
                        "iteration": 633,
                        "passed_time": 19.80301315,
                        "remaining_time": 11.43202336,
                        "test": [
                          0.00002745226596
                        ]
                      },
                      {
                        "learn": [
                          0.0000258451413
                        ],
                        "iteration": 634,
                        "passed_time": 19.81001163,
                        "remaining_time": 11.38685708,
                        "test": [
                          0.00002741058366
                        ]
                      },
                      {
                        "learn": [
                          0.00002580724477
                        ],
                        "iteration": 635,
                        "passed_time": 19.8170519,
                        "remaining_time": 11.34183473,
                        "test": [
                          0.00002736884552
                        ]
                      },
                      {
                        "learn": [
                          0.00002578125769
                        ],
                        "iteration": 636,
                        "passed_time": 19.82410878,
                        "remaining_time": 11.29694111,
                        "test": [
                          0.00002733949606
                        ]
                      },
                      {
                        "learn": [
                          0.0000257553373
                        ],
                        "iteration": 637,
                        "passed_time": 19.83125064,
                        "remaining_time": 11.25221431,
                        "test": [
                          0.00002731005665
                        ]
                      },
                      {
                        "learn": [
                          0.0000257294898
                        ],
                        "iteration": 638,
                        "passed_time": 19.83842056,
                        "remaining_time": 11.207621,
                        "test": [
                          0.00002728455656
                        ]
                      },
                      {
                        "learn": [
                          0.00002558483315
                        ],
                        "iteration": 639,
                        "passed_time": 19.84547201,
                        "remaining_time": 11.163078,
                        "test": [
                          0.00002714044583
                        ]
                      },
                      {
                        "learn": [
                          0.00002555901047
                        ],
                        "iteration": 640,
                        "passed_time": 19.85262309,
                        "remaining_time": 11.11870778,
                        "test": [
                          0.00002711524041
                        ]
                      },
                      {
                        "learn": [
                          0.0000255219018
                        ],
                        "iteration": 641,
                        "passed_time": 19.85980385,
                        "remaining_time": 11.07447006,
                        "test": [
                          0.00002707435527
                        ]
                      },
                      {
                        "learn": [
                          0.00002548476521
                        ],
                        "iteration": 642,
                        "passed_time": 19.8668851,
                        "remaining_time": 11.03029235,
                        "test": [
                          0.00002703366865
                        ]
                      },
                      {
                        "learn": [
                          0.00002545945743
                        ],
                        "iteration": 643,
                        "passed_time": 19.87412211,
                        "remaining_time": 10.98631595,
                        "test": [
                          0.00002700482479
                        ]
                      },
                      {
                        "learn": [
                          0.00002542276751
                        ],
                        "iteration": 644,
                        "passed_time": 19.88113164,
                        "remaining_time": 10.94232827,
                        "test": [
                          0.00002696443904
                        ]
                      },
                      {
                        "learn": [
                          0.0000254021652
                        ],
                        "iteration": 645,
                        "passed_time": 19.8896325,
                        "remaining_time": 10.8992723,
                        "test": [
                          0.0000269397113
                        ]
                      },
                      {
                        "learn": [
                          0.00002536568
                        ],
                        "iteration": 646,
                        "passed_time": 19.89665805,
                        "remaining_time": 10.85551823,
                        "test": [
                          0.00002689943412
                        ]
                      },
                      {
                        "learn": [
                          0.00002534051645
                        ],
                        "iteration": 647,
                        "passed_time": 19.90369174,
                        "remaining_time": 10.81188193,
                        "test": [
                          0.00002687471569
                        ]
                      },
                      {
                        "learn": [
                          0.00002519666783
                        ],
                        "iteration": 648,
                        "passed_time": 19.91078,
                        "remaining_time": 10.76838795,
                        "test": [
                          0.00002672764582
                        ]
                      },
                      {
                        "learn": [
                          0.00002516046179
                        ],
                        "iteration": 649,
                        "passed_time": 19.91776199,
                        "remaining_time": 10.72494877,
                        "test": [
                          0.00002668793627
                        ]
                      },
                      {
                        "learn": [
                          0.00002513569528
                        ],
                        "iteration": 650,
                        "passed_time": 19.9249823,
                        "remaining_time": 10.68174934,
                        "test": [
                          0.00002665996403
                        ]
                      },
                      {
                        "learn": [
                          0.000025099756
                        ],
                        "iteration": 651,
                        "passed_time": 19.93513818,
                        "remaining_time": 10.64022712,
                        "test": [
                          0.00002662035374
                        ]
                      },
                      {
                        "learn": [
                          0.00002506402454
                        ],
                        "iteration": 652,
                        "passed_time": 19.94201512,
                        "remaining_time": 10.59705857,
                        "test": [
                          0.00002658105673
                        ]
                      },
                      {
                        "learn": [
                          0.0000250395527
                        ],
                        "iteration": 653,
                        "passed_time": 19.94889816,
                        "remaining_time": 10.55400423,
                        "test": [
                          0.0000265532706
                        ]
                      },
                      {
                        "learn": [
                          0.00002501503278
                        ],
                        "iteration": 654,
                        "passed_time": 19.9559628,
                        "remaining_time": 10.51115598,
                        "test": [
                          0.00002652579464
                        ]
                      },
                      {
                        "learn": [
                          0.00002486065502
                        ],
                        "iteration": 655,
                        "passed_time": 19.96314406,
                        "remaining_time": 10.46847798,
                        "test": [
                          0.00002636776913
                        ]
                      },
                      {
                        "learn": [
                          0.00002483640186
                        ],
                        "iteration": 656,
                        "passed_time": 19.97001854,
                        "remaining_time": 10.42574788,
                        "test": [
                          0.00002634041415
                        ]
                      },
                      {
                        "learn": [
                          0.00002481219833
                        ],
                        "iteration": 657,
                        "passed_time": 19.97693488,
                        "remaining_time": 10.38314852,
                        "test": [
                          0.00002631302814
                        ]
                      },
                      {
                        "learn": [
                          0.00002478175858
                        ],
                        "iteration": 658,
                        "passed_time": 19.98413093,
                        "remaining_time": 10.3408022,
                        "test": [
                          0.00002627755879
                        ]
                      },
                      {
                        "learn": [
                          0.00002474690494
                        ],
                        "iteration": 659,
                        "passed_time": 19.99142268,
                        "remaining_time": 10.29861168,
                        "test": [
                          0.00002623912099
                        ]
                      },
                      {
                        "learn": [
                          0.00002471200477
                        ],
                        "iteration": 660,
                        "passed_time": 19.9983664,
                        "remaining_time": 10.25634828,
                        "test": [
                          0.00002620080416
                        ]
                      },
                      {
                        "learn": [
                          0.00002468813778
                        ],
                        "iteration": 661,
                        "passed_time": 20.00538496,
                        "remaining_time": 10.21422978,
                        "test": [
                          0.00002617736058
                        ]
                      },
                      {
                        "learn": [
                          0.00002465345939
                        ],
                        "iteration": 662,
                        "passed_time": 20.01229431,
                        "remaining_time": 10.17216166,
                        "test": [
                          0.00002613932602
                        ]
                      },
                      {
                        "learn": [
                          0.00002461907723
                        ],
                        "iteration": 663,
                        "passed_time": 20.0191546,
                        "remaining_time": 10.13017462,
                        "test": [
                          0.00002610149307
                        ]
                      },
                      {
                        "learn": [
                          0.0000245908863
                        ],
                        "iteration": 664,
                        "passed_time": 20.02614298,
                        "remaining_time": 10.08835774,
                        "test": [
                          0.00002606985137
                        ]
                      },
                      {
                        "learn": [
                          0.00002444833424
                        ],
                        "iteration": 665,
                        "passed_time": 20.03305997,
                        "remaining_time": 10.04660965,
                        "test": [
                          0.00002592445803
                        ]
                      },
                      {
                        "learn": [
                          0.00002441427777
                        ],
                        "iteration": 666,
                        "passed_time": 20.03995952,
                        "remaining_time": 10.0049573,
                        "test": [
                          0.00002588710587
                        ]
                      },
                      {
                        "learn": [
                          0.00002438035622
                        ],
                        "iteration": 667,
                        "passed_time": 20.04687186,
                        "remaining_time": 9.963415354,
                        "test": [
                          0.00002584966376
                        ]
                      },
                      {
                        "learn": [
                          0.00002434645949
                        ],
                        "iteration": 668,
                        "passed_time": 20.05369614,
                        "remaining_time": 9.921933367,
                        "test": [
                          0.00002581271018
                        ]
                      },
                      {
                        "learn": [
                          0.00002431280781
                        ],
                        "iteration": 669,
                        "passed_time": 20.0605404,
                        "remaining_time": 9.880564674,
                        "test": [
                          0.00002577545418
                        ]
                      },
                      {
                        "learn": [
                          0.00002427925538
                        ],
                        "iteration": 670,
                        "passed_time": 20.06740998,
                        "remaining_time": 9.839311303,
                        "test": [
                          0.00002573889763
                        ]
                      },
                      {
                        "learn": [
                          0.00002425151577
                        ],
                        "iteration": 671,
                        "passed_time": 20.07432871,
                        "remaining_time": 9.798184253,
                        "test": [
                          0.00002570599038
                        ]
                      },
                      {
                        "learn": [
                          0.0000242182301
                        ],
                        "iteration": 672,
                        "passed_time": 20.0811135,
                        "remaining_time": 9.757093782,
                        "test": [
                          0.00002566953
                        ]
                      },
                      {
                        "learn": [
                          0.00002407198531
                        ],
                        "iteration": 673,
                        "passed_time": 20.08807551,
                        "remaining_time": 9.716190825,
                        "test": [
                          0.00002552015392
                        ]
                      },
                      {
                        "learn": [
                          0.00002403897105
                        ],
                        "iteration": 674,
                        "passed_time": 20.09491447,
                        "remaining_time": 9.675329191,
                        "test": [
                          0.00002548370594
                        ]
                      },
                      {
                        "learn": [
                          0.00002401634015
                        ],
                        "iteration": 675,
                        "passed_time": 20.10177994,
                        "remaining_time": 9.634580917,
                        "test": [
                          0.00002545798252
                        ]
                      },
                      {
                        "learn": [
                          0.00002399358362
                        ],
                        "iteration": 676,
                        "passed_time": 20.10876703,
                        "remaining_time": 9.593990771,
                        "test": [
                          0.00002543563077
                        ]
                      },
                      {
                        "learn": [
                          0.00002397099769
                        ],
                        "iteration": 677,
                        "passed_time": 20.11604745,
                        "remaining_time": 9.553639052,
                        "test": [
                          0.0000254104176
                        ]
                      },
                      {
                        "learn": [
                          0.00002393837891
                        ],
                        "iteration": 678,
                        "passed_time": 20.1229946,
                        "remaining_time": 9.513227198,
                        "test": [
                          0.00002537433874
                        ]
                      },
                      {
                        "learn": [
                          0.00002390578495
                        ],
                        "iteration": 679,
                        "passed_time": 20.12979564,
                        "remaining_time": 9.472845006,
                        "test": [
                          0.00002533875617
                        ]
                      },
                      {
                        "learn": [
                          0.00002387341121
                        ],
                        "iteration": 680,
                        "passed_time": 20.1366918,
                        "remaining_time": 9.432605997,
                        "test": [
                          0.00002530317825
                        ]
                      },
                      {
                        "learn": [
                          0.00002385109979
                        ],
                        "iteration": 681,
                        "passed_time": 20.14367471,
                        "remaining_time": 9.392505216,
                        "test": [
                          0.00002527805193
                        ]
                      },
                      {
                        "learn": [
                          0.00002382885351
                        ],
                        "iteration": 682,
                        "passed_time": 20.15052645,
                        "remaining_time": 9.352440536,
                        "test": [
                          0.00002525618252
                        ]
                      },
                      {
                        "learn": [
                          0.00002368784926
                        ],
                        "iteration": 683,
                        "passed_time": 20.1583978,
                        "remaining_time": 9.312944012,
                        "test": [
                          0.00002511225324
                        ]
                      },
                      {
                        "learn": [
                          0.00002365580277
                        ],
                        "iteration": 684,
                        "passed_time": 20.16642543,
                        "remaining_time": 9.273611693,
                        "test": [
                          0.0000250769638
                        ]
                      },
                      {
                        "learn": [
                          0.00002363370693
                        ],
                        "iteration": 685,
                        "passed_time": 20.1745056,
                        "remaining_time": 9.234394692,
                        "test": [
                          0.00002505539681
                        ]
                      },
                      {
                        "learn": [
                          0.00002361185923
                        ],
                        "iteration": 686,
                        "passed_time": 20.18214892,
                        "remaining_time": 9.195069306,
                        "test": [
                          0.00002503047676
                        ]
                      },
                      {
                        "learn": [
                          0.00002358993244
                        ],
                        "iteration": 687,
                        "passed_time": 20.18908744,
                        "remaining_time": 9.155516399,
                        "test": [
                          0.00002500583898
                        ]
                      },
                      {
                        "learn": [
                          0.00002355820854
                        ],
                        "iteration": 688,
                        "passed_time": 20.19572233,
                        "remaining_time": 9.115921109,
                        "test": [
                          0.00002497134049
                        ]
                      },
                      {
                        "learn": [
                          0.00002353653144
                        ],
                        "iteration": 689,
                        "passed_time": 20.20246911,
                        "remaining_time": 9.076471631,
                        "test": [
                          0.00002494985416
                        ]
                      },
                      {
                        "learn": [
                          0.00002350501226
                        ],
                        "iteration": 690,
                        "passed_time": 20.20915052,
                        "remaining_time": 9.037087568,
                        "test": [
                          0.00002491525952
                        ]
                      },
                      {
                        "learn": [
                          0.00002335480955
                        ],
                        "iteration": 691,
                        "passed_time": 20.21589173,
                        "remaining_time": 8.997824644,
                        "test": [
                          0.00002476194723
                        ]
                      },
                      {
                        "learn": [
                          0.00002332366259
                        ],
                        "iteration": 692,
                        "passed_time": 20.22256177,
                        "remaining_time": 8.958624045,
                        "test": [
                          0.00002472784423
                        ]
                      },
                      {
                        "learn": [
                          0.00002330211111
                        ],
                        "iteration": 693,
                        "passed_time": 20.23326306,
                        "remaining_time": 8.921294661,
                        "test": [
                          0.00002470655951
                        ]
                      },
                      {
                        "learn": [
                          0.00002328080003
                        ],
                        "iteration": 694,
                        "passed_time": 20.24028589,
                        "remaining_time": 8.88242762,
                        "test": [
                          0.00002468251728
                        ]
                      },
                      {
                        "learn": [
                          0.00002326336158
                        ],
                        "iteration": 695,
                        "passed_time": 20.24725254,
                        "remaining_time": 8.843627546,
                        "test": [
                          0.0000246615443
                        ]
                      },
                      {
                        "learn": [
                          0.00002324210323
                        ],
                        "iteration": 696,
                        "passed_time": 20.25408763,
                        "remaining_time": 8.804861625,
                        "test": [
                          0.0000246373966
                        ]
                      },
                      {
                        "learn": [
                          0.00002322092243
                        ],
                        "iteration": 697,
                        "passed_time": 20.26085426,
                        "remaining_time": 8.766157574,
                        "test": [
                          0.00002461345362
                        ]
                      },
                      {
                        "learn": [
                          0.00002319022368
                        ],
                        "iteration": 698,
                        "passed_time": 20.26754439,
                        "remaining_time": 8.727511963,
                        "test": [
                          0.00002457994772
                        ]
                      },
                      {
                        "learn": [
                          0.00002316908165
                        ],
                        "iteration": 699,
                        "passed_time": 20.27431154,
                        "remaining_time": 8.68899066,
                        "test": [
                          0.00002455904453
                        ]
                      },
                      {
                        "learn": [
                          0.00002314811642
                        ],
                        "iteration": 700,
                        "passed_time": 20.28123155,
                        "remaining_time": 8.650625154,
                        "test": [
                          0.00002453539623
                        ]
                      },
                      {
                        "learn": [
                          0.00002312713258
                        ],
                        "iteration": 701,
                        "passed_time": 20.28799197,
                        "remaining_time": 8.612281492,
                        "test": [
                          0.0000245146016
                        ]
                      },
                      {
                        "learn": [
                          0.00002310621389
                        ],
                        "iteration": 702,
                        "passed_time": 20.29469948,
                        "remaining_time": 8.574005327,
                        "test": [
                          0.00002449105411
                        ]
                      },
                      {
                        "learn": [
                          0.00002295696809
                        ],
                        "iteration": 703,
                        "passed_time": 20.30136587,
                        "remaining_time": 8.535801559,
                        "test": [
                          0.00002433902132
                        ]
                      },
                      {
                        "learn": [
                          0.00002292682922
                        ],
                        "iteration": 704,
                        "passed_time": 20.30797078,
                        "remaining_time": 8.497661534,
                        "test": [
                          0.00002430579303
                        ]
                      },
                      {
                        "learn": [
                          0.0000229060594
                        ],
                        "iteration": 705,
                        "passed_time": 20.31480167,
                        "remaining_time": 8.459704946,
                        "test": [
                          0.00002428540475
                        ]
                      },
                      {
                        "learn": [
                          0.00002288548656
                        ],
                        "iteration": 706,
                        "passed_time": 20.33549258,
                        "remaining_time": 8.427580375,
                        "test": [
                          0.00002426213641
                        ]
                      },
                      {
                        "learn": [
                          0.00002285551984
                        ],
                        "iteration": 707,
                        "passed_time": 20.34608632,
                        "remaining_time": 8.391323737,
                        "test": [
                          0.00002422930361
                        ]
                      },
                      {
                        "learn": [
                          0.00002283497026
                        ],
                        "iteration": 708,
                        "passed_time": 20.3771,
                        "remaining_time": 8.363520592,
                        "test": [
                          0.00002420911384
                        ]
                      },
                      {
                        "learn": [
                          0.0000228162492
                        ],
                        "iteration": 709,
                        "passed_time": 20.39231947,
                        "remaining_time": 8.32925725,
                        "test": [
                          0.00002419668173
                        ]
                      },
                      {
                        "learn": [
                          0.00002278662833
                        ],
                        "iteration": 710,
                        "passed_time": 20.39903411,
                        "remaining_time": 8.291590518,
                        "test": [
                          0.0000241641467
                        ]
                      },
                      {
                        "learn": [
                          0.00002264732078
                        ],
                        "iteration": 711,
                        "passed_time": 20.4058365,
                        "remaining_time": 8.254046226,
                        "test": [
                          0.00002402236854
                        ]
                      },
                      {
                        "learn": [
                          0.00002262974895
                        ],
                        "iteration": 712,
                        "passed_time": 20.41278817,
                        "remaining_time": 8.216648254,
                        "test": [
                          0.00002401301654
                        ]
                      },
                      {
                        "learn": [
                          0.00002260939478
                        ],
                        "iteration": 713,
                        "passed_time": 20.41975708,
                        "remaining_time": 8.179342471,
                        "test": [
                          0.00002399291052
                        ]
                      },
                      {
                        "learn": [
                          0.00002258410716
                        ],
                        "iteration": 714,
                        "passed_time": 20.42654359,
                        "remaining_time": 8.142048843,
                        "test": [
                          0.00002396352384
                        ]
                      },
                      {
                        "learn": [
                          0.00002255490194
                        ],
                        "iteration": 715,
                        "passed_time": 20.43315239,
                        "remaining_time": 8.104769944,
                        "test": [
                          0.00002393128504
                        ]
                      },
                      {
                        "learn": [
                          0.0000225347649
                        ],
                        "iteration": 716,
                        "passed_time": 20.43998882,
                        "remaining_time": 8.067666438,
                        "test": [
                          0.00002390852231
                        ]
                      },
                      {
                        "learn": [
                          0.00002251648585
                        ],
                        "iteration": 717,
                        "passed_time": 20.44693612,
                        "remaining_time": 8.03069079,
                        "test": [
                          0.00002388585263
                        ]
                      },
                      {
                        "learn": [
                          0.00002248757375
                        ],
                        "iteration": 718,
                        "passed_time": 20.45367015,
                        "remaining_time": 7.993715316,
                        "test": [
                          0.00002385410081
                        ]
                      },
                      {
                        "learn": [
                          0.00002245868802
                        ],
                        "iteration": 719,
                        "passed_time": 20.46031938,
                        "remaining_time": 7.956790872,
                        "test": [
                          0.0000238224467
                        ]
                      },
                      {
                        "learn": [
                          0.00002243470627
                        ],
                        "iteration": 720,
                        "passed_time": 20.46708024,
                        "remaining_time": 7.919993603,
                        "test": [
                          0.00002379405881
                        ]
                      },
                      {
                        "learn": [
                          0.00002241506862
                        ],
                        "iteration": 721,
                        "passed_time": 20.47658078,
                        "remaining_time": 7.884334426,
                        "test": [
                          0.00002377197072
                        ]
                      },
                      {
                        "learn": [
                          0.00002239537825
                        ],
                        "iteration": 722,
                        "passed_time": 20.48343467,
                        "remaining_time": 7.847733616,
                        "test": [
                          0.00002374959416
                        ]
                      },
                      {
                        "learn": [
                          0.00002237576231
                        ],
                        "iteration": 723,
                        "passed_time": 20.49026189,
                        "remaining_time": 7.811204807,
                        "test": [
                          0.00002372752314
                        ]
                      },
                      {
                        "learn": [
                          0.00002222842724
                        ],
                        "iteration": 724,
                        "passed_time": 20.49695272,
                        "remaining_time": 7.774706202,
                        "test": [
                          0.00002357725684
                        ]
                      },
                      {
                        "learn": [
                          0.00002220890901
                        ],
                        "iteration": 725,
                        "passed_time": 20.50370606,
                        "remaining_time": 7.738313306,
                        "test": [
                          0.00002355518891
                        ]
                      },
                      {
                        "learn": [
                          0.00002218063434
                        ],
                        "iteration": 726,
                        "passed_time": 20.51037249,
                        "remaining_time": 7.70196931,
                        "test": [
                          0.00002352432887
                        ]
                      },
                      {
                        "learn": [
                          0.000022161265
                        ],
                        "iteration": 727,
                        "passed_time": 20.51722021,
                        "remaining_time": 7.665774584,
                        "test": [
                          0.00002350233849
                        ]
                      },
                      {
                        "learn": [
                          0.00002213311595
                        ],
                        "iteration": 728,
                        "passed_time": 20.5239409,
                        "remaining_time": 7.629613145,
                        "test": [
                          0.00002347127527
                        ]
                      },
                      {
                        "learn": [
                          0.00002210508787
                        ],
                        "iteration": 729,
                        "passed_time": 20.53064335,
                        "remaining_time": 7.593525621,
                        "test": [
                          0.0000234407099
                        ]
                      },
                      {
                        "learn": [
                          0.00002207718386
                        ],
                        "iteration": 730,
                        "passed_time": 20.53731977,
                        "remaining_time": 7.557508916,
                        "test": [
                          0.00002341013833
                        ]
                      },
                      {
                        "learn": [
                          0.00002205969733
                        ],
                        "iteration": 731,
                        "passed_time": 20.54419148,
                        "remaining_time": 7.521643875,
                        "test": [
                          0.00002338825651
                        ]
                      },
                      {
                        "learn": [
                          0.00002192160879
                        ],
                        "iteration": 732,
                        "passed_time": 20.57704444,
                        "remaining_time": 7.49532178,
                        "test": [
                          0.000023250717
                        ]
                      },
                      {
                        "learn": [
                          0.00002190250621
                        ],
                        "iteration": 733,
                        "passed_time": 20.58396078,
                        "remaining_time": 7.459582517,
                        "test": [
                          0.00002323188893
                        ]
                      },
                      {
                        "learn": [
                          0.00002188353391
                        ],
                        "iteration": 734,
                        "passed_time": 20.59075672,
                        "remaining_time": 7.423878274,
                        "test": [
                          0.00002321048789
                        ]
                      },
                      {
                        "learn": [
                          0.00002186453834
                        ],
                        "iteration": 735,
                        "passed_time": 20.59756822,
                        "remaining_time": 7.388258164,
                        "test": [
                          0.00002319188936
                        ]
                      },
                      {
                        "learn": [
                          0.00002184562962
                        ],
                        "iteration": 736,
                        "passed_time": 20.60439862,
                        "remaining_time": 7.352722981,
                        "test": [
                          0.00002317314969
                        ]
                      },
                      {
                        "learn": [
                          0.0000218267085
                        ],
                        "iteration": 737,
                        "passed_time": 20.61126975,
                        "remaining_time": 7.317280048,
                        "test": [
                          0.0000231546194
                        ]
                      },
                      {
                        "learn": [
                          0.0000218099602
                        ],
                        "iteration": 738,
                        "passed_time": 20.61810567,
                        "remaining_time": 7.281902001,
                        "test": [
                          0.00002313637292
                        ]
                      },
                      {
                        "learn": [
                          0.00002179121898
                        ],
                        "iteration": 739,
                        "passed_time": 20.62487845,
                        "remaining_time": 7.246578914,
                        "test": [
                          0.00002311488658
                        ]
                      },
                      {
                        "learn": [
                          0.00002176400978
                        ],
                        "iteration": 740,
                        "passed_time": 20.63154663,
                        "remaining_time": 7.211296325,
                        "test": [
                          0.00002308500361
                        ]
                      },
                      {
                        "learn": [
                          0.00002174535231
                        ],
                        "iteration": 741,
                        "passed_time": 20.63838043,
                        "remaining_time": 7.176148452,
                        "test": [
                          0.00002306667649
                        ]
                      },
                      {
                        "learn": [
                          0.00002171822221
                        ],
                        "iteration": 742,
                        "passed_time": 20.64528623,
                        "remaining_time": 7.141101698,
                        "test": [
                          0.00002303698118
                        ]
                      },
                      {
                        "learn": [
                          0.00002169129218
                        ],
                        "iteration": 743,
                        "passed_time": 20.65348385,
                        "remaining_time": 7.106575088,
                        "test": [
                          0.00002300740219
                        ]
                      },
                      {
                        "learn": [
                          0.00002167273397
                        ],
                        "iteration": 744,
                        "passed_time": 20.66028992,
                        "remaining_time": 7.071642859,
                        "test": [
                          0.00002298925032
                        ]
                      },
                      {
                        "learn": [
                          0.00002165429673
                        ],
                        "iteration": 745,
                        "passed_time": 20.66697837,
                        "remaining_time": 7.036745988,
                        "test": [
                          0.00002297102555
                        ]
                      },
                      {
                        "learn": [
                          0.00002162759778
                        ],
                        "iteration": 746,
                        "passed_time": 20.6737139,
                        "remaining_time": 7.001940585,
                        "test": [
                          0.00002294173658
                        ]
                      },
                      {
                        "learn": [
                          0.00002149027849
                        ],
                        "iteration": 747,
                        "passed_time": 20.68045889,
                        "remaining_time": 6.967213424,
                        "test": [
                          0.00002280479106
                        ]
                      },
                      {
                        "learn": [
                          0.0000214636726
                        ],
                        "iteration": 748,
                        "passed_time": 20.68711151,
                        "remaining_time": 6.932530025,
                        "test": [
                          0.00002277549744
                        ]
                      },
                      {
                        "learn": [
                          0.00002144553003
                        ],
                        "iteration": 749,
                        "passed_time": 20.69389463,
                        "remaining_time": 6.897964877,
                        "test": [
                          0.00002275498663
                        ]
                      },
                      {
                        "learn": [
                          0.00002141910094
                        ],
                        "iteration": 750,
                        "passed_time": 20.70049338,
                        "remaining_time": 6.863412585,
                        "test": [
                          0.00002272599543
                        ]
                      },
                      {
                        "learn": [
                          0.00002139279748
                        ],
                        "iteration": 751,
                        "passed_time": 20.70715239,
                        "remaining_time": 6.828954511,
                        "test": [
                          0.00002269699493
                        ]
                      },
                      {
                        "learn": [
                          0.00002137470299
                        ],
                        "iteration": 752,
                        "passed_time": 20.71390644,
                        "remaining_time": 6.794601448,
                        "test": [
                          0.0000226792525
                        ]
                      },
                      {
                        "learn": [
                          0.00002135676359
                        ],
                        "iteration": 753,
                        "passed_time": 20.72071018,
                        "remaining_time": 6.760337804,
                        "test": [
                          0.00002265903326
                        ]
                      },
                      {
                        "learn": [
                          0.00002133067725
                        ],
                        "iteration": 754,
                        "passed_time": 20.72725472,
                        "remaining_time": 6.726062789,
                        "test": [
                          0.00002263016459
                        ]
                      },
                      {
                        "learn": [
                          0.00002119384805
                        ],
                        "iteration": 755,
                        "passed_time": 20.73386539,
                        "remaining_time": 6.691882479,
                        "test": [
                          0.00002249389682
                        ]
                      },
                      {
                        "learn": [
                          0.00002116787803
                        ],
                        "iteration": 756,
                        "passed_time": 20.7406636,
                        "remaining_time": 6.65783521,
                        "test": [
                          0.00002246518169
                        ]
                      },
                      {
                        "learn": [
                          0.00002114201968
                        ],
                        "iteration": 757,
                        "passed_time": 20.74738786,
                        "remaining_time": 6.62383623,
                        "test": [
                          0.0000224367938
                        ]
                      },
                      {
                        "learn": [
                          0.00002112438891
                        ],
                        "iteration": 758,
                        "passed_time": 20.75423392,
                        "remaining_time": 6.589947794,
                        "test": [
                          0.00002241667382
                        ]
                      },
                      {
                        "learn": [
                          0.00002110662012
                        ],
                        "iteration": 759,
                        "passed_time": 20.76108011,
                        "remaining_time": 6.55613056,
                        "test": [
                          0.00002239941217
                        ]
                      },
                      {
                        "learn": [
                          0.00002108102697
                        ],
                        "iteration": 760,
                        "passed_time": 20.7678639,
                        "remaining_time": 6.522364615,
                        "test": [
                          0.00002237120108
                        ]
                      },
                      {
                        "learn": [
                          0.0000210633962
                        ],
                        "iteration": 761,
                        "passed_time": 20.77468703,
                        "remaining_time": 6.488681774,
                        "test": [
                          0.00002235119742
                        ]
                      },
                      {
                        "learn": [
                          0.0000210458709
                        ],
                        "iteration": 762,
                        "passed_time": 20.78156205,
                        "remaining_time": 6.455085461,
                        "test": [
                          0.00002234212924
                        ]
                      },
                      {
                        "learn": [
                          0.00002102047937
                        ],
                        "iteration": 763,
                        "passed_time": 20.78829417,
                        "remaining_time": 6.421514954,
                        "test": [
                          0.00002231440669
                        ]
                      },
                      {
                        "learn": [
                          0.0000210029215
                        ],
                        "iteration": 764,
                        "passed_time": 20.79511437,
                        "remaining_time": 6.38804167,
                        "test": [
                          0.00002229448988
                        ]
                      },
                      {
                        "learn": [
                          0.0000209777471
                        ],
                        "iteration": 765,
                        "passed_time": 20.80187218,
                        "remaining_time": 6.354618918,
                        "test": [
                          0.00002226688055
                        ]
                      },
                      {
                        "learn": [
                          0.00002095599401
                        ],
                        "iteration": 766,
                        "passed_time": 20.80870155,
                        "remaining_time": 6.321287434,
                        "test": [
                          0.000022241123
                        ]
                      },
                      {
                        "learn": [
                          0.00002093079169
                        ],
                        "iteration": 767,
                        "passed_time": 20.81533677,
                        "remaining_time": 6.287966317,
                        "test": [
                          0.00002221360517
                        ]
                      },
                      {
                        "learn": [
                          0.00002091360758
                        ],
                        "iteration": 768,
                        "passed_time": 20.82215034,
                        "remaining_time": 6.254768177,
                        "test": [
                          0.00002219406679
                        ]
                      },
                      {
                        "learn": [
                          0.00002089642193
                        ],
                        "iteration": 769,
                        "passed_time": 20.82898208,
                        "remaining_time": 6.221643997,
                        "test": [
                          0.00002217465402
                        ]
                      },
                      {
                        "learn": [
                          0.00002087154685
                        ],
                        "iteration": 770,
                        "passed_time": 20.83589348,
                        "remaining_time": 6.188611681,
                        "test": [
                          0.00002214743552
                        ]
                      },
                      {
                        "learn": [
                          0.00002072773855
                        ],
                        "iteration": 771,
                        "passed_time": 20.84270311,
                        "remaining_time": 6.155616982,
                        "test": [
                          0.00002200119849
                        ]
                      },
                      {
                        "learn": [
                          0.00002070313023
                        ],
                        "iteration": 772,
                        "passed_time": 20.8494911,
                        "remaining_time": 6.122683675,
                        "test": [
                          0.00002197397688
                        ]
                      },
                      {
                        "learn": [
                          0.00002068603608
                        ],
                        "iteration": 773,
                        "passed_time": 20.85632289,
                        "remaining_time": 6.089830715,
                        "test": [
                          0.00002195720687
                        ]
                      },
                      {
                        "learn": [
                          0.00002066143242
                        ],
                        "iteration": 774,
                        "passed_time": 20.86308772,
                        "remaining_time": 6.057025466,
                        "test": [
                          0.00002193027684
                        ]
                      },
                      {
                        "learn": [
                          0.0000206369885
                        ],
                        "iteration": 775,
                        "passed_time": 20.87005359,
                        "remaining_time": 6.024345365,
                        "test": [
                          0.00002190324289
                        ]
                      },
                      {
                        "learn": [
                          0.00002061247013
                        ],
                        "iteration": 776,
                        "passed_time": 20.87677186,
                        "remaining_time": 5.991660393,
                        "test": [
                          0.00002187632217
                        ]
                      },
                      {
                        "learn": [
                          0.00002059577922
                        ],
                        "iteration": 777,
                        "passed_time": 20.88357305,
                        "remaining_time": 5.959065832,
                        "test": [
                          0.00002185747549
                        ]
                      },
                      {
                        "learn": [
                          0.00002058215446
                        ],
                        "iteration": 778,
                        "passed_time": 20.89054201,
                        "remaining_time": 5.92658509,
                        "test": [
                          0.0000218409102
                        ]
                      },
                      {
                        "learn": [
                          0.00002043898668
                        ],
                        "iteration": 779,
                        "passed_time": 20.89721347,
                        "remaining_time": 5.894085851,
                        "test": [
                          0.00002169547033
                        ]
                      },
                      {
                        "learn": [
                          0.00002042243845
                        ],
                        "iteration": 780,
                        "passed_time": 20.90403412,
                        "remaining_time": 5.861694587,
                        "test": [
                          0.00002167673222
                        ]
                      },
                      {
                        "learn": [
                          0.00002039831867
                        ],
                        "iteration": 781,
                        "passed_time": 20.91073898,
                        "remaining_time": 5.829336442,
                        "test": [
                          0.00002165029847
                        ]
                      },
                      {
                        "learn": [
                          0.00002038179836
                        ],
                        "iteration": 782,
                        "passed_time": 20.9199725,
                        "remaining_time": 5.797744613,
                        "test": [
                          0.00002163145179
                        ]
                      },
                      {
                        "learn": [
                          0.0000203578042
                        ],
                        "iteration": 783,
                        "passed_time": 20.92662042,
                        "remaining_time": 5.765497462,
                        "test": [
                          0.00002160522432
                        ]
                      },
                      {
                        "learn": [
                          0.00002033809831
                        ],
                        "iteration": 784,
                        "passed_time": 20.93341318,
                        "remaining_time": 5.733355203,
                        "test": [
                          0.00002158331769
                        ]
                      },
                      {
                        "learn": [
                          0.00002031439728
                        ],
                        "iteration": 785,
                        "passed_time": 20.94005794,
                        "remaining_time": 5.701237149,
                        "test": [
                          0.00002155697701
                        ]
                      },
                      {
                        "learn": [
                          0.00002029795296
                        ],
                        "iteration": 786,
                        "passed_time": 20.94705191,
                        "remaining_time": 5.669278344,
                        "test": [
                          0.00002154070174
                        ]
                      },
                      {
                        "learn": [
                          0.00002028175523
                        ],
                        "iteration": 787,
                        "passed_time": 20.95416621,
                        "remaining_time": 5.637415276,
                        "test": [
                          0.00002152254986
                        ]
                      },
                      {
                        "learn": [
                          0.00002025800147
                        ],
                        "iteration": 788,
                        "passed_time": 20.96092595,
                        "remaining_time": 5.605520121,
                        "test": [
                          0.00002149668996
                        ]
                      },
                      {
                        "learn": [
                          0.00002024185492
                        ],
                        "iteration": 789,
                        "passed_time": 20.96784946,
                        "remaining_time": 5.573732134,
                        "test": [
                          0.0000214780511
                        ]
                      },
                      {
                        "learn": [
                          0.00002022565565
                        ],
                        "iteration": 790,
                        "passed_time": 20.97473057,
                        "remaining_time": 5.541995815,
                        "test": [
                          0.00002145981238
                        ]
                      },
                      {
                        "learn": [
                          0.00002020223998
                        ],
                        "iteration": 791,
                        "passed_time": 20.98144089,
                        "remaining_time": 5.510277405,
                        "test": [
                          0.0000214341603
                        ]
                      },
                      {
                        "learn": [
                          0.00002017898716
                        ],
                        "iteration": 792,
                        "passed_time": 20.98812928,
                        "remaining_time": 5.478616345,
                        "test": [
                          0.00002140840585
                        ]
                      },
                      {
                        "learn": [
                          0.00002016290731
                        ],
                        "iteration": 793,
                        "passed_time": 20.99492915,
                        "remaining_time": 5.44704711,
                        "test": [
                          0.00002139035324
                        ]
                      },
                      {
                        "learn": [
                          0.00002013971807
                        ],
                        "iteration": 794,
                        "passed_time": 21.00161024,
                        "remaining_time": 5.415509559,
                        "test": [
                          0.00002136479731
                        ]
                      },
                      {
                        "learn": [
                          0.00002011651643
                        ],
                        "iteration": 795,
                        "passed_time": 21.00824581,
                        "remaining_time": 5.384022795,
                        "test": [
                          0.00002133924449
                        ]
                      },
                      {
                        "learn": [
                          0.00002010062889
                        ],
                        "iteration": 796,
                        "passed_time": 21.0150049,
                        "remaining_time": 5.352629855,
                        "test": [
                          0.00002132148965
                        ]
                      },
                      {
                        "learn": [
                          0.00001996584379
                        ],
                        "iteration": 797,
                        "passed_time": 21.02178674,
                        "remaining_time": 5.321304413,
                        "test": [
                          0.0000211867914
                        ]
                      },
                      {
                        "learn": [
                          0.00001995001208
                        ],
                        "iteration": 798,
                        "passed_time": 21.02847596,
                        "remaining_time": 5.290017107,
                        "test": [
                          0.00002116905828
                        ]
                      },
                      {
                        "learn": [
                          0.00001993432926
                        ],
                        "iteration": 799,
                        "passed_time": 21.03526675,
                        "remaining_time": 5.258816687,
                        "test": [
                          0.00002115129723
                        ]
                      },
                      {
                        "learn": [
                          0.00001991854563
                        ],
                        "iteration": 800,
                        "passed_time": 21.04208792,
                        "remaining_time": 5.227684765,
                        "test": [
                          0.00002113344004
                        ]
                      },
                      {
                        "learn": [
                          0.00001990278837
                        ],
                        "iteration": 801,
                        "passed_time": 21.04890691,
                        "remaining_time": 5.196612928,
                        "test": [
                          0.00002111795573
                        ]
                      },
                      {
                        "learn": [
                          0.00001988711485
                        ],
                        "iteration": 802,
                        "passed_time": 21.05562129,
                        "remaining_time": 5.165575834,
                        "test": [
                          0.0000211002986
                        ]
                      },
                      {
                        "learn": [
                          0.00001987145685
                        ],
                        "iteration": 803,
                        "passed_time": 21.06232035,
                        "remaining_time": 5.134595507,
                        "test": [
                          0.00002108501126
                        ]
                      },
                      {
                        "learn": [
                          0.00001985586708
                        ],
                        "iteration": 804,
                        "passed_time": 21.06929914,
                        "remaining_time": 5.10374327,
                        "test": [
                          0.00002106735258
                        ]
                      },
                      {
                        "learn": [
                          0.00001983325169
                        ],
                        "iteration": 805,
                        "passed_time": 21.07716782,
                        "remaining_time": 5.073164464,
                        "test": [
                          0.00002104228984
                        ]
                      },
                      {
                        "learn": [
                          0.00001969887448
                        ],
                        "iteration": 806,
                        "passed_time": 21.08372752,
                        "remaining_time": 5.042328886,
                        "test": [
                          0.0000209081918
                        ]
                      },
                      {
                        "learn": [
                          0.00001968336381
                        ],
                        "iteration": 807,
                        "passed_time": 21.09043516,
                        "remaining_time": 5.011588553,
                        "test": [
                          0.00002089063858
                        ]
                      },
                      {
                        "learn": [
                          0.00001966788261
                        ],
                        "iteration": 808,
                        "passed_time": 21.09712208,
                        "remaining_time": 4.980902742,
                        "test": [
                          0.00002087336607
                        ]
                      },
                      {
                        "learn": [
                          0.00001964555258
                        ],
                        "iteration": 809,
                        "passed_time": 21.10369598,
                        "remaining_time": 4.950249673,
                        "test": [
                          0.00002084869572
                        ]
                      },
                      {
                        "learn": [
                          0.00001963016598
                        ],
                        "iteration": 810,
                        "passed_time": 21.1103861,
                        "remaining_time": 4.919683074,
                        "test": [
                          0.00002083360535
                        ]
                      },
                      {
                        "learn": [
                          0.00001961489725
                        ],
                        "iteration": 811,
                        "passed_time": 21.11846616,
                        "remaining_time": 4.889497092,
                        "test": [
                          0.00002081613122
                        ]
                      },
                      {
                        "learn": [
                          0.00001960088631
                        ],
                        "iteration": 812,
                        "passed_time": 21.1252465,
                        "remaining_time": 4.859066539,
                        "test": [
                          0.00002079907119
                        ]
                      },
                      {
                        "learn": [
                          0.00001958698239
                        ],
                        "iteration": 813,
                        "passed_time": 21.13198984,
                        "remaining_time": 4.828685639,
                        "test": [
                          0.00002078170718
                        ]
                      },
                      {
                        "learn": [
                          0.00001957174158
                        ],
                        "iteration": 814,
                        "passed_time": 21.13959718,
                        "remaining_time": 4.798558869,
                        "test": [
                          0.00002076454479
                        ]
                      },
                      {
                        "learn": [
                          0.00001955657676
                        ],
                        "iteration": 815,
                        "passed_time": 21.1462847,
                        "remaining_time": 4.768279884,
                        "test": [
                          0.00002074747856
                        ]
                      },
                      {
                        "learn": [
                          0.00001953449023
                        ],
                        "iteration": 816,
                        "passed_time": 21.15296026,
                        "remaining_time": 4.738055971,
                        "test": [
                          0.00002072330605
                        ]
                      },
                      {
                        "learn": [
                          0.00001951256499
                        ],
                        "iteration": 817,
                        "passed_time": 21.15950869,
                        "remaining_time": 4.707861346,
                        "test": [
                          0.00002069923589
                        ]
                      },
                      {
                        "learn": [
                          0.00001949744515
                        ],
                        "iteration": 818,
                        "passed_time": 21.1661376,
                        "remaining_time": 4.677742254,
                        "test": [
                          0.00002068434094
                        ]
                      },
                      {
                        "learn": [
                          0.00001948251762
                        ],
                        "iteration": 819,
                        "passed_time": 21.17299281,
                        "remaining_time": 4.647730129,
                        "test": [
                          0.00002066717234
                        ]
                      },
                      {
                        "learn": [
                          0.00001946743035
                        ],
                        "iteration": 820,
                        "passed_time": 21.17971141,
                        "remaining_time": 4.617744632,
                        "test": [
                          0.00002065030307
                        ]
                      },
                      {
                        "learn": [
                          0.00001945257416
                        ],
                        "iteration": 821,
                        "passed_time": 21.18637292,
                        "remaining_time": 4.587803382,
                        "test": [
                          0.00002063352531
                        ]
                      },
                      {
                        "learn": [
                          0.00001943079936
                        ],
                        "iteration": 822,
                        "passed_time": 21.19293762,
                        "remaining_time": 4.557897883,
                        "test": [
                          0.00002060974518
                        ]
                      },
                      {
                        "learn": [
                          0.00001941303212
                        ],
                        "iteration": 823,
                        "passed_time": 21.19958364,
                        "remaining_time": 4.528066408,
                        "test": [
                          0.00002058960969
                        ]
                      },
                      {
                        "learn": [
                          0.00001939825813
                        ],
                        "iteration": 824,
                        "passed_time": 21.2062178,
                        "remaining_time": 4.498288624,
                        "test": [
                          0.00002057283503
                        ]
                      },
                      {
                        "learn": [
                          0.00001925779359
                        ],
                        "iteration": 825,
                        "passed_time": 21.21286869,
                        "remaining_time": 4.468570402,
                        "test": [
                          0.00002043043185
                        ]
                      },
                      {
                        "learn": [
                          0.00001923993019
                        ],
                        "iteration": 826,
                        "passed_time": 21.22265499,
                        "remaining_time": 4.439563861,
                        "test": [
                          0.00002041681484
                        ]
                      },
                      {
                        "learn": [
                          0.0000192185183
                        ],
                        "iteration": 827,
                        "passed_time": 21.22936365,
                        "remaining_time": 4.409964429,
                        "test": [
                          0.00002039351705
                        ]
                      },
                      {
                        "learn": [
                          0.00001919719481
                        ],
                        "iteration": 828,
                        "passed_time": 21.23596824,
                        "remaining_time": 4.380398755,
                        "test": [
                          0.00002036993388
                        ]
                      },
                      {
                        "learn": [
                          0.00001918257127
                        ],
                        "iteration": 829,
                        "passed_time": 21.24536051,
                        "remaining_time": 4.351459381,
                        "test": [
                          0.00002035345079
                        ]
                      },
                      {
                        "learn": [
                          0.00001916797253
                        ],
                        "iteration": 830,
                        "passed_time": 21.25222045,
                        "remaining_time": 4.322052053,
                        "test": [
                          0.0000203368855
                        ]
                      },
                      {
                        "learn": [
                          0.00001914687703
                        ],
                        "iteration": 831,
                        "passed_time": 21.2588959,
                        "remaining_time": 4.292661673,
                        "test": [
                          0.00002031359701
                        ]
                      },
                      {
                        "learn": [
                          0.000019125659
                        ],
                        "iteration": 832,
                        "passed_time": 21.26552047,
                        "remaining_time": 4.263315628,
                        "test": [
                          0.00002029040002
                        ]
                      },
                      {
                        "learn": [
                          0.00001910463949
                        ],
                        "iteration": 833,
                        "passed_time": 21.27216625,
                        "remaining_time": 4.234028293,
                        "test": [
                          0.00002026722164
                        ]
                      },
                      {
                        "learn": [
                          0.00001897122851
                        ],
                        "iteration": 834,
                        "passed_time": 21.27891175,
                        "remaining_time": 4.204814897,
                        "test": [
                          0.00002013430539
                        ]
                      },
                      {
                        "learn": [
                          0.00001895684535
                        ],
                        "iteration": 835,
                        "passed_time": 21.28566978,
                        "remaining_time": 4.175657708,
                        "test": [
                          0.00002012009128
                        ]
                      },
                      {
                        "learn": [
                          0.000018935922
                        ],
                        "iteration": 836,
                        "passed_time": 21.29231809,
                        "remaining_time": 4.146532675,
                        "test": [
                          0.00002009719517
                        ]
                      },
                      {
                        "learn": [
                          0.00001891517235
                        ],
                        "iteration": 837,
                        "passed_time": 21.29905297,
                        "remaining_time": 4.117478021,
                        "test": [
                          0.00002007409279
                        ]
                      },
                      {
                        "learn": [
                          0.00001890087294
                        ],
                        "iteration": 838,
                        "passed_time": 21.30579666,
                        "remaining_time": 4.088478263,
                        "test": [
                          0.00002005821145
                        ]
                      },
                      {
                        "learn": [
                          0.00001888658904
                        ],
                        "iteration": 839,
                        "passed_time": 21.31252548,
                        "remaining_time": 4.059528663,
                        "test": [
                          0.00002004401285
                        ]
                      },
                      {
                        "learn": [
                          0.00001887237959
                        ],
                        "iteration": 840,
                        "passed_time": 21.31940948,
                        "remaining_time": 4.030661245,
                        "test": [
                          0.00002002811135
                        ]
                      },
                      {
                        "learn": [
                          0.00001885829886
                        ],
                        "iteration": 841,
                        "passed_time": 21.3261233,
                        "remaining_time": 4.001814111,
                        "test": [
                          0.0000200120346
                        ]
                      },
                      {
                        "learn": [
                          0.00001884418246
                        ],
                        "iteration": 842,
                        "passed_time": 21.33286267,
                        "remaining_time": 3.973024246,
                        "test": [
                          0.00001999604625
                        ]
                      },
                      {
                        "learn": [
                          0.00001882356308
                        ],
                        "iteration": 843,
                        "passed_time": 21.34126294,
                        "remaining_time": 3.944593625,
                        "test": [
                          0.00001997344326
                        ]
                      },
                      {
                        "learn": [
                          0.00001880310811
                        ],
                        "iteration": 844,
                        "passed_time": 21.36224093,
                        "remaining_time": 3.918517567,
                        "test": [
                          0.0000199511365
                        ]
                      },
                      {
                        "learn": [
                          0.00001878267484
                        ],
                        "iteration": 845,
                        "passed_time": 21.37015944,
                        "remaining_time": 3.890076304,
                        "test": [
                          0.00001992864207
                        ]
                      },
                      {
                        "learn": [
                          0.00001876241218
                        ],
                        "iteration": 846,
                        "passed_time": 21.38252102,
                        "remaining_time": 3.862486087,
                        "test": [
                          0.00001990632445
                        ]
                      },
                      {
                        "learn": [
                          0.0000187420363
                        ],
                        "iteration": 847,
                        "passed_time": 21.40497248,
                        "remaining_time": 3.83674035,
                        "test": [
                          0.00001988402234
                        ]
                      },
                      {
                        "learn": [
                          0.0000187296988
                        ],
                        "iteration": 848,
                        "passed_time": 21.41518886,
                        "remaining_time": 3.808826288,
                        "test": [
                          0.00001987030297
                        ]
                      },
                      {
                        "learn": [
                          0.00001871579022
                        ],
                        "iteration": 849,
                        "passed_time": 21.42194082,
                        "remaining_time": 3.780342498,
                        "test": [
                          0.00001985451003
                        ]
                      },
                      {
                        "learn": [
                          0.00001870197159
                        ],
                        "iteration": 850,
                        "passed_time": 21.4285857,
                        "remaining_time": 3.751891033,
                        "test": [
                          0.00001983882721
                        ]
                      },
                      {
                        "learn": [
                          0.00001868193226
                        ],
                        "iteration": 851,
                        "passed_time": 21.4351361,
                        "remaining_time": 3.723474346,
                        "test": [
                          0.00001981702915
                        ]
                      },
                      {
                        "learn": [
                          0.00001866996543
                        ],
                        "iteration": 852,
                        "passed_time": 21.44178219,
                        "remaining_time": 3.695125418,
                        "test": [
                          0.00001981050601
                        ]
                      },
                      {
                        "learn": [
                          0.00001864998193
                        ],
                        "iteration": 853,
                        "passed_time": 21.44845485,
                        "remaining_time": 3.66683186,
                        "test": [
                          0.00001978869089
                        ]
                      },
                      {
                        "learn": [
                          0.00001863771887
                        ],
                        "iteration": 854,
                        "passed_time": 21.45530333,
                        "remaining_time": 3.638618694,
                        "test": [
                          0.00001977497152
                        ]
                      },
                      {
                        "learn": [
                          0.00001861785479
                        ],
                        "iteration": 855,
                        "passed_time": 21.46197939,
                        "remaining_time": 3.61042644,
                        "test": [
                          0.00001975325255
                        ]
                      },
                      {
                        "learn": [
                          0.00001848528129
                        ],
                        "iteration": 856,
                        "passed_time": 21.46894168,
                        "remaining_time": 3.582332159,
                        "test": [
                          0.00001962072558
                        ]
                      },
                      {
                        "learn": [
                          0.00001846542807
                        ],
                        "iteration": 857,
                        "passed_time": 21.47564675,
                        "remaining_time": 3.554244568,
                        "test": [
                          0.00001959901592
                        ]
                      },
                      {
                        "learn": [
                          0.00001844905664
                        ],
                        "iteration": 858,
                        "passed_time": 21.48247966,
                        "remaining_time": 3.526227745,
                        "test": [
                          0.00001957966674
                        ]
                      },
                      {
                        "learn": [
                          0.00001842937712
                        ],
                        "iteration": 859,
                        "passed_time": 21.4892001,
                        "remaining_time": 3.498241877,
                        "test": [
                          0.00001955805788
                        ]
                      },
                      {
                        "learn": [
                          0.00001841587954
                        ],
                        "iteration": 860,
                        "passed_time": 21.49591798,
                        "remaining_time": 3.470304993,
                        "test": [
                          0.00001954285119
                        ]
                      },
                      {
                        "learn": [
                          0.00001839631168
                        ],
                        "iteration": 861,
                        "passed_time": 21.5027908,
                        "remaining_time": 3.442442146,
                        "test": [
                          0.00001952123458
                        ]
                      },
                      {
                        "learn": [
                          0.00001838299245
                        ],
                        "iteration": 862,
                        "passed_time": 21.50958665,
                        "remaining_time": 3.414615726,
                        "test": [
                          0.0000195061287
                        ]
                      },
                      {
                        "learn": [
                          0.00001836341839
                        ],
                        "iteration": 863,
                        "passed_time": 21.51626301,
                        "remaining_time": 3.386819178,
                        "test": [
                          0.00001948471681
                        ]
                      },
                      {
                        "learn": [
                          0.00001835006814
                        ],
                        "iteration": 864,
                        "passed_time": 21.52300286,
                        "remaining_time": 3.359081371,
                        "test": [
                          0.00001947158369
                        ]
                      },
                      {
                        "learn": [
                          0.00001821173921
                        ],
                        "iteration": 865,
                        "passed_time": 21.52972448,
                        "remaining_time": 3.331389238,
                        "test": [
                          0.00001933135799
                        ]
                      },
                      {
                        "learn": [
                          0.00001819846341
                        ],
                        "iteration": 866,
                        "passed_time": 21.53642127,
                        "remaining_time": 3.303741671,
                        "test": [
                          0.00001931636068
                        ]
                      },
                      {
                        "learn": [
                          0.00001818521707
                        ],
                        "iteration": 867,
                        "passed_time": 21.54325828,
                        "remaining_time": 3.276163702,
                        "test": [
                          0.00001930136026
                        ]
                      },
                      {
                        "learn": [
                          0.00001816589426
                        ],
                        "iteration": 868,
                        "passed_time": 21.55008236,
                        "remaining_time": 3.248631519,
                        "test": [
                          0.00001928023219
                        ]
                      },
                      {
                        "learn": [
                          0.00001814681649
                        ],
                        "iteration": 869,
                        "passed_time": 21.55681369,
                        "remaining_time": 3.22113308,
                        "test": [
                          0.00001925929643
                        ]
                      },
                      {
                        "learn": [
                          0.00001812761775
                        ],
                        "iteration": 870,
                        "passed_time": 21.5901645,
                        "remaining_time": 3.197624823,
                        "test": [
                          0.00001923818231
                        ]
                      },
                      {
                        "learn": [
                          0.00001811193958
                        ],
                        "iteration": 871,
                        "passed_time": 21.59693961,
                        "remaining_time": 3.17019297,
                        "test": [
                          0.00001922070664
                        ]
                      },
                      {
                        "learn": [
                          0.00001809891503
                        ],
                        "iteration": 872,
                        "passed_time": 21.60369761,
                        "remaining_time": 3.142805953,
                        "test": [
                          0.00001920580392
                        ]
                      },
                      {
                        "learn": [
                          0.00001808580672
                        ],
                        "iteration": 873,
                        "passed_time": 21.61047069,
                        "remaining_time": 3.115468314,
                        "test": [
                          0.00001919306784
                        ]
                      },
                      {
                        "learn": [
                          0.00001806691971
                        ],
                        "iteration": 874,
                        "passed_time": 21.6172425,
                        "remaining_time": 3.088177501,
                        "test": [
                          0.00001917203902
                        ]
                      },
                      {
                        "learn": [
                          0.00001804796292
                        ],
                        "iteration": 875,
                        "passed_time": 21.62404546,
                        "remaining_time": 3.060937942,
                        "test": [
                          0.00001915140879
                        ]
                      },
                      {
                        "learn": [
                          0.00001803517875
                        ],
                        "iteration": 876,
                        "passed_time": 21.63248099,
                        "remaining_time": 3.033973958,
                        "test": [
                          0.00001913669994
                        ]
                      },
                      {
                        "learn": [
                          0.00001801632276
                        ],
                        "iteration": 877,
                        "passed_time": 21.63923969,
                        "remaining_time": 3.006819182,
                        "test": [
                          0.00001911616742
                        ]
                      },
                      {
                        "learn": [
                          0.00001799761567
                        ],
                        "iteration": 878,
                        "passed_time": 21.64590978,
                        "remaining_time": 2.979698616,
                        "test": [
                          0.00001909553564
                        ]
                      },
                      {
                        "learn": [
                          0.000017984664
                        ],
                        "iteration": 879,
                        "passed_time": 21.65261344,
                        "remaining_time": 2.952629105,
                        "test": [
                          0.00001908092295
                        ]
                      },
                      {
                        "learn": [
                          0.0000179661275
                        ],
                        "iteration": 880,
                        "passed_time": 21.65941654,
                        "remaining_time": 2.92561926,
                        "test": [
                          0.00001906057964
                        ]
                      },
                      {
                        "learn": [
                          0.00001794744212
                        ],
                        "iteration": 881,
                        "passed_time": 21.66633664,
                        "remaining_time": 2.898670889,
                        "test": [
                          0.00001904004246
                        ]
                      },
                      {
                        "learn": [
                          0.00001792892888
                        ],
                        "iteration": 882,
                        "passed_time": 21.67302068,
                        "remaining_time": 2.871736602,
                        "test": [
                          0.00001901981392
                        ]
                      },
                      {
                        "learn": [
                          0.00001791627654
                        ],
                        "iteration": 883,
                        "passed_time": 21.67990637,
                        "remaining_time": 2.844874592,
                        "test": [
                          0.00001900539975
                        ]
                      },
                      {
                        "learn": [
                          0.00001789791064
                        ],
                        "iteration": 884,
                        "passed_time": 21.68658688,
                        "remaining_time": 2.818031063,
                        "test": [
                          0.00001898515414
                        ]
                      },
                      {
                        "learn": [
                          0.00001787934933
                        ],
                        "iteration": 885,
                        "passed_time": 21.69332616,
                        "remaining_time": 2.791240612,
                        "test": [
                          0.00001896511326
                        ]
                      },
                      {
                        "learn": [
                          0.00001786115248
                        ],
                        "iteration": 886,
                        "passed_time": 21.69998021,
                        "remaining_time": 2.764484513,
                        "test": [
                          0.00001894486766
                        ]
                      },
                      {
                        "learn": [
                          0.00001784963851
                        ],
                        "iteration": 887,
                        "passed_time": 21.70691464,
                        "remaining_time": 2.737809054,
                        "test": [
                          0.00001893078538
                        ]
                      },
                      {
                        "learn": [
                          0.0000178338859
                        ],
                        "iteration": 888,
                        "passed_time": 21.71372769,
                        "remaining_time": 2.71116285,
                        "test": [
                          0.00001891221321
                        ]
                      },
                      {
                        "learn": [
                          0.00001770229568
                        ],
                        "iteration": 889,
                        "passed_time": 21.72051309,
                        "remaining_time": 2.684557798,
                        "test": [
                          0.00001878125886
                        ]
                      },
                      {
                        "learn": [
                          0.00001768985116
                        ],
                        "iteration": 890,
                        "passed_time": 21.72745955,
                        "remaining_time": 2.658016937,
                        "test": [
                          0.0000187687368
                        ]
                      },
                      {
                        "learn": [
                          0.00001767161709
                        ],
                        "iteration": 891,
                        "passed_time": 21.7341624,
                        "remaining_time": 2.631490514,
                        "test": [
                          0.00001874898284
                        ]
                      },
                      {
                        "learn": [
                          0.00001765668336
                        ],
                        "iteration": 892,
                        "passed_time": 21.74093887,
                        "remaining_time": 2.605017311,
                        "test": [
                          0.00001873121714
                        ]
                      },
                      {
                        "learn": [
                          0.00001764192644
                        ],
                        "iteration": 893,
                        "passed_time": 21.74777651,
                        "remaining_time": 2.578595425,
                        "test": [
                          0.00001871472164
                        ]
                      },
                      {
                        "learn": [
                          0.0000176296091
                        ],
                        "iteration": 894,
                        "passed_time": 21.75446461,
                        "remaining_time": 2.552199758,
                        "test": [
                          0.00001870247564
                        ]
                      },
                      {
                        "learn": [
                          0.00001761714907
                        ],
                        "iteration": 895,
                        "passed_time": 21.76119925,
                        "remaining_time": 2.525853484,
                        "test": [
                          0.00001869033976
                        ]
                      },
                      {
                        "learn": [
                          0.00001759920192
                        ],
                        "iteration": 896,
                        "passed_time": 21.76774171,
                        "remaining_time": 2.49952887,
                        "test": [
                          0.00001867078896
                        ]
                      },
                      {
                        "learn": [
                          0.00001758688923
                        ],
                        "iteration": 897,
                        "passed_time": 21.77447761,
                        "remaining_time": 2.473270285,
                        "test": [
                          0.00001865844215
                        ]
                      },
                      {
                        "learn": [
                          0.00001757595375
                        ],
                        "iteration": 898,
                        "passed_time": 21.78129491,
                        "remaining_time": 2.447064278,
                        "test": [
                          0.00001864632022
                        ]
                      },
                      {
                        "learn": [
                          0.00001744478693
                        ],
                        "iteration": 899,
                        "passed_time": 21.78786732,
                        "remaining_time": 2.420874147,
                        "test": [
                          0.000018513877
                        ]
                      },
                      {
                        "learn": [
                          0.00001743264484
                        ],
                        "iteration": 900,
                        "passed_time": 21.79464492,
                        "remaining_time": 2.394750107,
                        "test": [
                          0.00001849995912
                        ]
                      },
                      {
                        "learn": [
                          0.00001742040349
                        ],
                        "iteration": 901,
                        "passed_time": 21.80145599,
                        "remaining_time": 2.368672602,
                        "test": [
                          0.00001848604279
                        ]
                      },
                      {
                        "learn": [
                          0.00001740277893
                        ],
                        "iteration": 902,
                        "passed_time": 21.80809524,
                        "remaining_time": 2.342619312,
                        "test": [
                          0.00001846668586
                        ]
                      },
                      {
                        "learn": [
                          0.0000173928593
                        ],
                        "iteration": 903,
                        "passed_time": 21.8149956,
                        "remaining_time": 2.316636701,
                        "test": [
                          0.00001845492995
                        ]
                      },
                      {
                        "learn": [
                          0.00001738083973
                        ],
                        "iteration": 904,
                        "passed_time": 21.82171102,
                        "remaining_time": 2.290676848,
                        "test": [
                          0.00001844112373
                        ]
                      },
                      {
                        "learn": [
                          0.00001736321982
                        ],
                        "iteration": 905,
                        "passed_time": 21.82824786,
                        "remaining_time": 2.264740947,
                        "test": [
                          0.00001842176059
                        ]
                      },
                      {
                        "learn": [
                          0.00001734571313
                        ],
                        "iteration": 906,
                        "passed_time": 21.83489748,
                        "remaining_time": 2.238859389,
                        "test": [
                          0.00001840261304
                        ]
                      },
                      {
                        "learn": [
                          0.0000173384316
                        ],
                        "iteration": 907,
                        "passed_time": 21.84175737,
                        "remaining_time": 2.213041496,
                        "test": [
                          0.00001839244216
                        ]
                      },
                      {
                        "learn": [
                          0.00001732097918
                        ],
                        "iteration": 908,
                        "passed_time": 21.84825712,
                        "remaining_time": 2.187229261,
                        "test": [
                          0.00001837328064
                        ]
                      },
                      {
                        "learn": [
                          0.00001730360277
                        ],
                        "iteration": 909,
                        "passed_time": 21.85482008,
                        "remaining_time": 2.161465723,
                        "test": [
                          0.00001835413618
                        ]
                      },
                      {
                        "learn": [
                          0.00001728619999
                        ],
                        "iteration": 910,
                        "passed_time": 21.86139273,
                        "remaining_time": 2.135745284,
                        "test": [
                          0.00001833507548
                        ]
                      },
                      {
                        "learn": [
                          0.00001727435412
                        ],
                        "iteration": 911,
                        "passed_time": 21.86807356,
                        "remaining_time": 2.110077274,
                        "test": [
                          0.00001832175469
                        ]
                      },
                      {
                        "learn": [
                          0.00001725702423
                        ],
                        "iteration": 912,
                        "passed_time": 21.87461655,
                        "remaining_time": 2.084437722,
                        "test": [
                          0.00001830269244
                        ]
                      },
                      {
                        "learn": [
                          0.000017245152
                        ],
                        "iteration": 913,
                        "passed_time": 21.88126383,
                        "remaining_time": 2.05884977,
                        "test": [
                          0.00001828935459
                        ]
                      },
                      {
                        "learn": [
                          0.00001723342866
                        ],
                        "iteration": 914,
                        "passed_time": 21.88800326,
                        "remaining_time": 2.033311778,
                        "test": [
                          0.00001827781891
                        ]
                      },
                      {
                        "learn": [
                          0.00001721627557
                        ],
                        "iteration": 915,
                        "passed_time": 21.8946833,
                        "remaining_time": 2.007809385,
                        "test": [
                          0.00001825904668
                        ]
                      },
                      {
                        "learn": [
                          0.00001720452897
                        ],
                        "iteration": 916,
                        "passed_time": 21.90372573,
                        "remaining_time": 1.982561871,
                        "test": [
                          0.00001824551187
                        ]
                      },
                      {
                        "learn": [
                          0.00001719033502
                        ],
                        "iteration": 917,
                        "passed_time": 21.91058118,
                        "remaining_time": 1.95715431,
                        "test": [
                          0.00001822892952
                        ]
                      },
                      {
                        "learn": [
                          0.00001717860703
                        ],
                        "iteration": 918,
                        "passed_time": 21.91726289,
                        "remaining_time": 1.931771811,
                        "test": [
                          0.00001821728837
                        ]
                      },
                      {
                        "learn": [
                          0.00001716693176
                        ],
                        "iteration": 919,
                        "passed_time": 21.92397031,
                        "remaining_time": 1.906432201,
                        "test": [
                          0.00001820602875
                        ]
                      },
                      {
                        "learn": [
                          0.00001715523944
                        ],
                        "iteration": 920,
                        "passed_time": 21.93065845,
                        "remaining_time": 1.881131398,
                        "test": [
                          0.00001819437055
                        ]
                      },
                      {
                        "learn": [
                          0.00001713823059
                        ],
                        "iteration": 921,
                        "passed_time": 21.93775804,
                        "remaining_time": 1.855905777,
                        "test": [
                          0.00001817590849
                        ]
                      },
                      {
                        "learn": [
                          0.00001712142025
                        ],
                        "iteration": 922,
                        "passed_time": 21.94449241,
                        "remaining_time": 1.830688966,
                        "test": [
                          0.00001815735028
                        ]
                      },
                      {
                        "learn": [
                          0.00001710979772
                        ],
                        "iteration": 923,
                        "passed_time": 21.95123695,
                        "remaining_time": 1.805512996,
                        "test": [
                          0.00001814599606
                        ]
                      },
                      {
                        "learn": [
                          0.0000170981938
                        ],
                        "iteration": 924,
                        "passed_time": 21.95793,
                        "remaining_time": 1.780372703,
                        "test": [
                          0.0000181348419
                        ]
                      },
                      {
                        "learn": [
                          0.00001708666432
                        ],
                        "iteration": 925,
                        "passed_time": 21.96589789,
                        "remaining_time": 1.75537413,
                        "test": [
                          0.00001812170878
                        ]
                      },
                      {
                        "learn": [
                          0.00001695099675
                        ],
                        "iteration": 926,
                        "passed_time": 21.97248749,
                        "remaining_time": 1.730303762,
                        "test": [
                          0.00001798433521
                        ]
                      },
                      {
                        "learn": [
                          0.0000169373906
                        ],
                        "iteration": 927,
                        "passed_time": 21.9791041,
                        "remaining_time": 1.705275318,
                        "test": [
                          0.00001796902771
                        ]
                      },
                      {
                        "learn": [
                          0.00001692591075
                        ],
                        "iteration": 928,
                        "passed_time": 21.98582956,
                        "remaining_time": 1.680294832,
                        "test": [
                          0.00001795786735
                        ]
                      },
                      {
                        "learn": [
                          0.0000169093191
                        ],
                        "iteration": 929,
                        "passed_time": 21.99241914,
                        "remaining_time": 1.655343376,
                        "test": [
                          0.00001793969531
                        ]
                      },
                      {
                        "learn": [
                          0.00001689273054
                        ],
                        "iteration": 930,
                        "passed_time": 22.00277566,
                        "remaining_time": 1.630710549,
                        "test": [
                          0.00001792122705
                        ]
                      },
                      {
                        "learn": [
                          0.00001687621333
                        ],
                        "iteration": 931,
                        "passed_time": 22.00936431,
                        "remaining_time": 1.605833448,
                        "test": [
                          0.00001790306898
                        ]
                      },
                      {
                        "learn": [
                          0.00001686485601
                        ],
                        "iteration": 932,
                        "passed_time": 22.01601069,
                        "remaining_time": 1.580999696,
                        "test": [
                          0.00001789201253
                        ]
                      },
                      {
                        "learn": [
                          0.00001684836361
                        ],
                        "iteration": 933,
                        "passed_time": 22.02288059,
                        "remaining_time": 1.556220684,
                        "test": [
                          0.00001787382964
                        ]
                      },
                      {
                        "learn": [
                          0.00001683199684
                        ],
                        "iteration": 934,
                        "passed_time": 22.02937214,
                        "remaining_time": 1.531453678,
                        "test": [
                          0.00001785605619
                        ]
                      },
                      {
                        "learn": [
                          0.00001682069379
                        ],
                        "iteration": 935,
                        "passed_time": 22.03610395,
                        "remaining_time": 1.50674215,
                        "test": [
                          0.00001784499818
                        ]
                      },
                      {
                        "learn": [
                          0.00001668552096
                        ],
                        "iteration": 936,
                        "passed_time": 22.04269237,
                        "remaining_time": 1.482059359,
                        "test": [
                          0.00001770822792
                        ]
                      },
                      {
                        "learn": [
                          0.00001667423963
                        ],
                        "iteration": 937,
                        "passed_time": 22.04966912,
                        "remaining_time": 1.457440816,
                        "test": [
                          0.00001769538017
                        ]
                      },
                      {
                        "learn": [
                          0.00001665801864
                        ],
                        "iteration": 938,
                        "passed_time": 22.05634065,
                        "remaining_time": 1.432840021,
                        "test": [
                          0.00001767770287
                        ]
                      },
                      {
                        "learn": [
                          0.00001664694048
                        ],
                        "iteration": 939,
                        "passed_time": 22.06293298,
                        "remaining_time": 1.408272318,
                        "test": [
                          0.00001766674413
                        ]
                      },
                      {
                        "learn": [
                          0.00001663575996
                        ],
                        "iteration": 940,
                        "passed_time": 22.06965126,
                        "remaining_time": 1.383750716,
                        "test": [
                          0.00001765400184
                        ]
                      },
                      {
                        "learn": [
                          0.00001662469885
                        ],
                        "iteration": 941,
                        "passed_time": 22.07630282,
                        "remaining_time": 1.359262806,
                        "test": [
                          0.00001764166278
                        ]
                      },
                      {
                        "learn": [
                          0.00001661361449
                        ],
                        "iteration": 942,
                        "passed_time": 22.08299345,
                        "remaining_time": 1.334815086,
                        "test": [
                          0.00001763070404
                        ]
                      },
                      {
                        "learn": [
                          0.00001659754239
                        ],
                        "iteration": 943,
                        "passed_time": 22.08962888,
                        "remaining_time": 1.310401713,
                        "test": [
                          0.0000176131229
                        ]
                      },
                      {
                        "learn": [
                          0.00001658652936
                        ],
                        "iteration": 944,
                        "passed_time": 22.09633073,
                        "remaining_time": 1.286029831,
                        "test": [
                          0.00001760057758
                        ]
                      },
                      {
                        "learn": [
                          0.00001657053171
                        ],
                        "iteration": 945,
                        "passed_time": 22.10291539,
                        "remaining_time": 1.261688617,
                        "test": [
                          0.00001758299954
                        ]
                      },
                      {
                        "learn": [
                          0.00001655954815
                        ],
                        "iteration": 946,
                        "passed_time": 22.10943333,
                        "remaining_time": 1.237381169,
                        "test": [
                          0.00001757055502
                        ]
                      },
                      {
                        "learn": [
                          0.0000165464569
                        ],
                        "iteration": 947,
                        "passed_time": 22.11709855,
                        "remaining_time": 1.213174182,
                        "test": [
                          0.00001755593768
                        ]
                      },
                      {
                        "learn": [
                          0.0000165355695
                        ],
                        "iteration": 948,
                        "passed_time": 22.12389612,
                        "remaining_time": 1.188955429,
                        "test": [
                          0.00001754507199
                        ]
                      },
                      {
                        "learn": [
                          0.00001651964629
                        ],
                        "iteration": 949,
                        "passed_time": 22.13050393,
                        "remaining_time": 1.164763365,
                        "test": [
                          0.00001752778863
                        ]
                      },
                      {
                        "learn": [
                          0.00001650871081
                        ],
                        "iteration": 950,
                        "passed_time": 22.13725743,
                        "remaining_time": 1.140615788,
                        "test": [
                          0.00001751554883
                        ]
                      },
                      {
                        "learn": [
                          0.00001649790095
                        ],
                        "iteration": 951,
                        "passed_time": 22.14394957,
                        "remaining_time": 1.116501659,
                        "test": [
                          0.00001750488011
                        ]
                      },
                      {
                        "learn": [
                          0.00001648204753
                        ],
                        "iteration": 952,
                        "passed_time": 22.15060981,
                        "remaining_time": 1.092422519,
                        "test": [
                          0.00001748759675
                        ]
                      },
                      {
                        "learn": [
                          0.00001646641589
                        ],
                        "iteration": 953,
                        "passed_time": 22.15715183,
                        "remaining_time": 1.068374197,
                        "test": [
                          0.00001747020948
                        ]
                      },
                      {
                        "learn": [
                          0.00001645565101
                        ],
                        "iteration": 954,
                        "passed_time": 22.16384032,
                        "remaining_time": 1.044369439,
                        "test": [
                          0.00001745805653
                        ]
                      },
                      {
                        "learn": [
                          0.00001643994803
                        ],
                        "iteration": 955,
                        "passed_time": 22.17038665,
                        "remaining_time": 1.020394365,
                        "test": [
                          0.00001744078868
                        ]
                      },
                      {
                        "learn": [
                          0.00001642933359
                        ],
                        "iteration": 956,
                        "passed_time": 22.17697441,
                        "remaining_time": 0.9964575753,
                        "test": [
                          0.00001742884666
                        ]
                      },
                      {
                        "learn": [
                          0.00001641373762
                        ],
                        "iteration": 957,
                        "passed_time": 22.18342943,
                        "remaining_time": 0.9725511857,
                        "test": [
                          0.00001741175561
                        ]
                      },
                      {
                        "learn": [
                          0.00001640309061
                        ],
                        "iteration": 958,
                        "passed_time": 22.18996287,
                        "remaining_time": 0.9486845441,
                        "test": [
                          0.00001739971588
                        ]
                      },
                      {
                        "learn": [
                          0.00001638763267
                        ],
                        "iteration": 959,
                        "passed_time": 22.19685972,
                        "remaining_time": 0.9248691552,
                        "test": [
                          0.0000173828218
                        ]
                      },
                      {
                        "learn": [
                          0.00001637217938
                        ],
                        "iteration": 960,
                        "passed_time": 22.20675614,
                        "remaining_time": 0.9012107071,
                        "test": [
                          0.00001736564079
                        ]
                      },
                      {
                        "learn": [
                          0.00001636156184
                        ],
                        "iteration": 961,
                        "passed_time": 22.21336408,
                        "remaining_time": 0.8774509718,
                        "test": [
                          0.00001735387868
                        ]
                      },
                      {
                        "learn": [
                          0.00001635240836
                        ],
                        "iteration": 962,
                        "passed_time": 22.22028133,
                        "remaining_time": 0.8537387428,
                        "test": [
                          0.00001734874826
                        ]
                      },
                      {
                        "learn": [
                          0.00001634273067
                        ],
                        "iteration": 963,
                        "passed_time": 22.22708398,
                        "remaining_time": 0.830057078,
                        "test": [
                          0.00001733689774
                        ]
                      },
                      {
                        "learn": [
                          0.00001633216276
                        ],
                        "iteration": 964,
                        "passed_time": 22.23375038,
                        "remaining_time": 0.8064054541,
                        "test": [
                          0.0000173266245
                        ]
                      },
                      {
                        "learn": [
                          0.00001631680253
                        ],
                        "iteration": 965,
                        "passed_time": 22.24028201,
                        "remaining_time": 0.782784253,
                        "test": [
                          0.00001730963426
                        ]
                      },
                      {
                        "learn": [
                          0.0000161826564
                        ],
                        "iteration": 966,
                        "passed_time": 22.24680082,
                        "remaining_time": 0.7591979597,
                        "test": [
                          0.00001717423501
                        ]
                      },
                      {
                        "learn": [
                          0.00001616744971
                        ],
                        "iteration": 967,
                        "passed_time": 22.25342732,
                        "remaining_time": 0.7356504899,
                        "test": [
                          0.00001715743553
                        ]
                      },
                      {
                        "learn": [
                          0.00001615809306
                        ],
                        "iteration": 968,
                        "passed_time": 22.26029397,
                        "remaining_time": 0.7121456275,
                        "test": [
                          0.00001714706923
                        ]
                      },
                      {
                        "learn": [
                          0.00001614769265
                        ],
                        "iteration": 969,
                        "passed_time": 22.26697485,
                        "remaining_time": 0.6886693253,
                        "test": [
                          0.00001713521406
                        ]
                      },
                      {
                        "learn": [
                          0.00001613730309
                        ],
                        "iteration": 970,
                        "passed_time": 22.27368098,
                        "remaining_time": 0.6652283713,
                        "test": [
                          0.00001712504784
                        ]
                      },
                      {
                        "learn": [
                          0.00001612214137
                        ],
                        "iteration": 971,
                        "passed_time": 22.28032821,
                        "remaining_time": 0.6418201541,
                        "test": [
                          0.00001710854458
                        ]
                      },
                      {
                        "learn": [
                          0.00001611182161
                        ],
                        "iteration": 972,
                        "passed_time": 22.28710379,
                        "remaining_time": 0.6184499511,
                        "test": [
                          0.0000170983706
                        ]
                      },
                      {
                        "learn": [
                          0.00001610140258
                        ],
                        "iteration": 973,
                        "passed_time": 22.2938307,
                        "remaining_time": 0.5951125239,
                        "test": [
                          0.00001708820282
                        ]
                      },
                      {
                        "learn": [
                          0.00001609113244
                        ],
                        "iteration": 974,
                        "passed_time": 22.30049157,
                        "remaining_time": 0.5718074763,
                        "test": [
                          0.00001707645311
                        ]
                      },
                      {
                        "learn": [
                          0.00001608080957
                        ],
                        "iteration": 975,
                        "passed_time": 22.30720778,
                        "remaining_time": 0.5485378961,
                        "test": [
                          0.00001706637839
                        ]
                      },
                      {
                        "learn": [
                          0.00001595158605
                        ],
                        "iteration": 976,
                        "passed_time": 22.3138703,
                        "remaining_time": 0.5253009384,
                        "test": [
                          0.00001693591724
                        ]
                      },
                      {
                        "learn": [
                          0.00001594136709
                        ],
                        "iteration": 977,
                        "passed_time": 22.32269286,
                        "remaining_time": 0.5021464652,
                        "test": [
                          0.00001692426834
                        ]
                      },
                      {
                        "learn": [
                          0.00001592647368
                        ],
                        "iteration": 978,
                        "passed_time": 22.32930655,
                        "remaining_time": 0.4789738893,
                        "test": [
                          0.00001690786589
                        ]
                      },
                      {
                        "learn": [
                          0.00001591627333
                        ],
                        "iteration": 979,
                        "passed_time": 22.33604626,
                        "remaining_time": 0.4558376787,
                        "test": [
                          0.0000168963147
                        ]
                      },
                      {
                        "learn": [
                          0.00001590607764
                        ],
                        "iteration": 980,
                        "passed_time": 22.34281254,
                        "remaining_time": 0.4327354111,
                        "test": [
                          0.00001688466115
                        ]
                      },
                      {
                        "learn": [
                          0.00001589128659
                        ],
                        "iteration": 981,
                        "passed_time": 22.35008573,
                        "remaining_time": 0.4096757058,
                        "test": [
                          0.00001686857354
                        ]
                      },
                      {
                        "learn": [
                          0.00001588217343
                        ],
                        "iteration": 982,
                        "passed_time": 22.35762704,
                        "remaining_time": 0.3866527566,
                        "test": [
                          0.00001685869889
                        ]
                      },
                      {
                        "learn": [
                          0.00001587212973
                        ],
                        "iteration": 983,
                        "passed_time": 22.36534428,
                        "remaining_time": 0.3636641347,
                        "test": [
                          0.0000168472423
                        ]
                      },
                      {
                        "learn": [
                          0.00001586198366
                        ],
                        "iteration": 984,
                        "passed_time": 22.37268542,
                        "remaining_time": 0.3407007933,
                        "test": [
                          0.00001683725598
                        ]
                      },
                      {
                        "learn": [
                          0.00001584723294
                        ],
                        "iteration": 985,
                        "passed_time": 22.37921698,
                        "remaining_time": 0.3177576448,
                        "test": [
                          0.00001682086284
                        ]
                      },
                      {
                        "learn": [
                          0.00001583710859
                        ],
                        "iteration": 986,
                        "passed_time": 22.42735962,
                        "remaining_time": 0.2953958207,
                        "test": [
                          0.0000168112782
                        ]
                      },
                      {
                        "learn": [
                          0.00001582710986
                        ],
                        "iteration": 987,
                        "passed_time": 22.45576498,
                        "remaining_time": 0.2727420848,
                        "test": [
                          0.00001680129964
                        ]
                      },
                      {
                        "learn": [
                          0.00001581705995
                        ],
                        "iteration": 988,
                        "passed_time": 22.462509,
                        "remaining_time": 0.2498357927,
                        "test": [
                          0.00001679013928
                        ]
                      },
                      {
                        "learn": [
                          0.00001580498765
                        ],
                        "iteration": 989,
                        "passed_time": 22.46921906,
                        "remaining_time": 0.2269618087,
                        "test": [
                          0.00001678085707
                        ]
                      },
                      {
                        "learn": [
                          0.00001579238339
                        ],
                        "iteration": 990,
                        "passed_time": 22.47616178,
                        "remaining_time": 0.204122559,
                        "test": [
                          0.00001676622887
                        ]
                      },
                      {
                        "learn": [
                          0.000015780415
                        ],
                        "iteration": 991,
                        "passed_time": 22.48292729,
                        "remaining_time": 0.1813139297,
                        "test": [
                          0.00001675191395
                        ]
                      },
                      {
                        "learn": [
                          0.00001577049072
                        ],
                        "iteration": 992,
                        "passed_time": 22.48964632,
                        "remaining_time": 0.1585372852,
                        "test": [
                          0.00001674084354
                        ]
                      },
                      {
                        "learn": [
                          0.00001576056023
                        ],
                        "iteration": 993,
                        "passed_time": 22.49630699,
                        "remaining_time": 0.1357925975,
                        "test": [
                          0.00001672948311
                        ]
                      },
                      {
                        "learn": [
                          0.00001574611659
                        ],
                        "iteration": 994,
                        "passed_time": 22.50302195,
                        "remaining_time": 0.1130805123,
                        "test": [
                          0.00001671367312
                        ]
                      },
                      {
                        "learn": [
                          0.00001573900721
                        ],
                        "iteration": 995,
                        "passed_time": 22.50989704,
                        "remaining_time": 0.09040119294,
                        "test": [
                          0.0000167122897
                        ]
                      },
                      {
                        "learn": [
                          0.00001572705433
                        ],
                        "iteration": 996,
                        "passed_time": 22.51646882,
                        "remaining_time": 0.06775266445,
                        "test": [
                          0.00001669827566
                        ]
                      },
                      {
                        "learn": [
                          0.00001571267893
                        ],
                        "iteration": 997,
                        "passed_time": 22.52325172,
                        "remaining_time": 0.045136777,
                        "test": [
                          0.00001668246257
                        ]
                      },
                      {
                        "learn": [
                          0.00001570287561
                        ],
                        "iteration": 998,
                        "passed_time": 22.53000662,
                        "remaining_time": 0.02255255917,
                        "test": [
                          0.00001667139371
                        ]
                      },
                      {
                        "learn": [
                          0.00001569302267
                        ],
                        "iteration": 999,
                        "passed_time": 22.53683756,
                        "remaining_time": 0,
                        "test": [
                          0.00001666172843
                        ]
                      }
                    ],
                    "meta": {
                      "test_sets": [
                        "test"
                      ],
                      "test_metrics": [
                        {
                          "best_value": "Min",
                          "name": "MultiClass"
                        }
                      ],
                      "learn_metrics": [
                        {
                          "best_value": "Min",
                          "name": "MultiClass"
                        }
                      ],
                      "launch_mode": "Train",
                      "parameters": "",
                      "iteration_count": 1000,
                      "learn_sets": [
                        "learn"
                      ],
                      "name": "experiment"
                    }
                  }
                }
              }
            },
            "layout": "IPY_MODEL_516692e2da904860af501daa29880476"
          }
        }
      }
    },
    "accelerator": "GPU"
  },
  "cells": [
    {
      "cell_type": "markdown",
      "metadata": {
        "id": "view-in-github",
        "colab_type": "text"
      },
      "source": [
        "<a href=\"https://colab.research.google.com/github/Yanina-Kutovaya/GNN/blob/main/notebooks/5_1_CatBoost.ipynb\" target=\"_parent\"><img src=\"https://colab.research.google.com/assets/colab-badge.svg\" alt=\"Open In Colab\"/></a>"
      ]
    },
    {
      "cell_type": "markdown",
      "source": [
        "# Реализация CatBoostClassifier с использованием GPU (CUDA 12.5) для классификации узлов на датасете Bitcoin-OTC\n",
        "\n",
        "Задача — предсказать \"уровень доверия\" пользователей\n",
        "\n",
        "Признаки узлов/рёбер - синтетические"
      ],
      "metadata": {
        "id": "YCOQl0-4rgpv"
      }
    },
    {
      "cell_type": "markdown",
      "source": [
        "Небходимо выбрать среду выполнения с GPU: Среда выполнения → Сменить среду выполнения → Графический процессор T4"
      ],
      "metadata": {
        "id": "dE5Com4Fr4PG"
      }
    },
    {
      "cell_type": "markdown",
      "source": [
        "## 1. Установка зависимостей"
      ],
      "metadata": {
        "id": "5hgp6VWTshjH"
      }
    },
    {
      "cell_type": "markdown",
      "source": [
        "Требования:\n",
        "- CatBoost ≥1.2.2\n",
        "- PyTorch Geometric для загрузки данных\n"
      ],
      "metadata": {
        "id": "2_ESRcv8srxJ"
      }
    },
    {
      "cell_type": "markdown",
      "source": [
        "* CatBoost автоматически использует доступные GPU через CUDA, явная установка CUDA 12.5 не требуется"
      ],
      "metadata": {
        "id": "dwH_a7CotLHY"
      }
    },
    {
      "cell_type": "code",
      "source": [
        "install = True\n",
        "if install:\n",
        "  !pip install -q catboost\n",
        "  !pip install -q torch-geometric"
      ],
      "metadata": {
        "id": "syNkpHxOr0o5"
      },
      "execution_count": 1,
      "outputs": []
    },
    {
      "cell_type": "code",
      "source": [
        "from google.colab import output\n",
        "output.disable_custom_widget_manager()"
      ],
      "metadata": {
        "id": "o_R7X6z6ubi0"
      },
      "execution_count": 2,
      "outputs": []
    },
    {
      "cell_type": "markdown",
      "source": [
        "## 2. Импорт библиотек"
      ],
      "metadata": {
        "id": "ozuwHyaWsB-5"
      }
    },
    {
      "cell_type": "code",
      "source": [
        "import numpy as np\n",
        "import pandas as pd\n",
        "from catboost import CatBoostClassifier, Pool\n",
        "from torch_geometric.datasets import BitcoinOTC\n",
        "from sklearn.model_selection import train_test_split\n",
        "from sklearn.metrics import classification_report"
      ],
      "metadata": {
        "id": "wllZ2lz2tUEZ"
      },
      "execution_count": 3,
      "outputs": []
    },
    {
      "cell_type": "markdown",
      "source": [
        "## 3. Загрузка данных"
      ],
      "metadata": {
        "id": "HRF04tYPxl_7"
      }
    },
    {
      "cell_type": "code",
      "source": [
        "dataset = BitcoinOTC(root='/tmp/BitcoinOTC')\n",
        "data = dataset[0]"
      ],
      "metadata": {
        "id": "V8wKGX0ltWRC"
      },
      "execution_count": 4,
      "outputs": []
    },
    {
      "cell_type": "markdown",
      "source": [
        "## 4. Создание признаков узлов с учётом рёбер"
      ],
      "metadata": {
        "id": "KDJSrnVsxuq1"
      }
    },
    {
      "cell_type": "code",
      "source": [
        "def create_node_features(data):\n",
        "    num_nodes = data.num_nodes\n",
        "    features = []\n",
        "\n",
        "    # Степень узлов\n",
        "    degrees = np.zeros(num_nodes)\n",
        "    for src in data.edge_index[0].unique().cpu().numpy():\n",
        "        degrees[src] = (data.edge_index[0].cpu().numpy() == src).sum()\n",
        "\n",
        "    # Статистики по рёбрам\n",
        "    edge_attrs = [[] for _ in range(num_nodes)]\n",
        "    for i in range(data.edge_index.size(1)):\n",
        "        src = data.edge_index[0, i].item()\n",
        "        attr = data.edge_attr[i].item()\n",
        "        edge_attrs[src].append(attr)\n",
        "\n",
        "    # Создание фичей\n",
        "    for node_id in range(num_nodes):\n",
        "        node_feats = [\n",
        "            degrees[node_id],  # Степень узла\n",
        "            np.mean(edge_attrs[node_id]) if edge_attrs[node_id] else 0,  # Среднее значение рёбер\n",
        "            np.max(edge_attrs[node_id]) if edge_attrs[node_id] else 0,   # Максимум\n",
        "            np.min(edge_attrs[node_id]) if edge_attrs[node_id] else 0,   # Минимум\n",
        "            len(edge_attrs[node_id])                                      # Количество рёбер\n",
        "        ]\n",
        "        features.append(node_feats)\n",
        "\n",
        "    return np.array(features)"
      ],
      "metadata": {
        "id": "cEa_9JUvtXqZ"
      },
      "execution_count": 5,
      "outputs": []
    },
    {
      "cell_type": "markdown",
      "source": [
        "## 5. Подготовка данных"
      ],
      "metadata": {
        "id": "N3tBESn5x1bB"
      }
    },
    {
      "cell_type": "code",
      "source": [
        "X = create_node_features(data)\n",
        "X"
      ],
      "metadata": {
        "colab": {
          "base_uri": "https://localhost:8080/"
        },
        "id": "63tjiuFEp58V",
        "outputId": "dd98a794-2c55-4f01-9013-25a67aca1465"
      },
      "execution_count": 6,
      "outputs": [
        {
          "output_type": "execute_result",
          "data": {
            "text/plain": [
              "array([[2. , 2.5, 4. , 1. , 2. ],\n",
              "       [3. , 5. , 5. , 5. , 3. ],\n",
              "       [0. , 0. , 0. , 0. , 0. ],\n",
              "       ...,\n",
              "       [0. , 0. , 0. , 0. , 0. ],\n",
              "       [0. , 0. , 0. , 0. , 0. ],\n",
              "       [0. , 0. , 0. , 0. , 0. ]])"
            ]
          },
          "metadata": {},
          "execution_count": 6
        }
      ]
    },
    {
      "cell_type": "code",
      "source": [
        "y = np.zeros(data.num_nodes)\n",
        "\n",
        "# Создание меток (3 класса)\n",
        "q1 = np.quantile(X[:, 0], 0.5)\n",
        "q2 = np.quantile(X[:, 0], 0.999)\n",
        "y[X[:, 0] > q2] = 2\n",
        "y[(X[:, 0] > q1) & (X[:, 0] <= q2)] = 1"
      ],
      "metadata": {
        "id": "lbVFWlgjtbez"
      },
      "execution_count": 7,
      "outputs": []
    },
    {
      "cell_type": "markdown",
      "source": [
        "## 6. Разделение данных"
      ],
      "metadata": {
        "id": "p7oQxlCzx6QZ"
      }
    },
    {
      "cell_type": "code",
      "source": [
        "X_train, X_test, y_train, y_test = train_test_split(\n",
        "    X, y,\n",
        "    test_size=0.2,\n",
        "    stratify=y,\n",
        "    random_state=42\n",
        ")"
      ],
      "metadata": {
        "id": "vIC2EBNKthNL"
      },
      "execution_count": 8,
      "outputs": []
    },
    {
      "cell_type": "markdown",
      "source": [
        "## 7. Создание CatBoost модели с GPU"
      ],
      "metadata": {
        "id": "6hA_2K_Lx-r1"
      }
    },
    {
      "cell_type": "code",
      "source": [
        "model = CatBoostClassifier(\n",
        "    iterations=1000,\n",
        "    learning_rate=0.1,\n",
        "    depth=8,\n",
        "    loss_function='MultiClass',\n",
        "    task_type='GPU',  # Включение GPU\n",
        "    devices='0:1',    # Использование первого GPU\n",
        "    verbose=100,\n",
        "    early_stopping_rounds=50\n",
        ")"
      ],
      "metadata": {
        "id": "_zQpjgzitizP"
      },
      "execution_count": 9,
      "outputs": []
    },
    {
      "cell_type": "markdown",
      "source": [
        "## 8. Обучение"
      ],
      "metadata": {
        "id": "9rCWtMJVyDp7"
      }
    },
    {
      "cell_type": "code",
      "source": [
        "model.fit(\n",
        "    X_train, y_train,\n",
        "    eval_set=(X_test, y_test),\n",
        "    plot=True\n",
        ")"
      ],
      "metadata": {
        "colab": {
          "base_uri": "https://localhost:8080/",
          "height": 260,
          "referenced_widgets": [
            "daa54488979b4959aad85e4a6228b86c"
          ]
        },
        "id": "3Gt9avFytk6w",
        "outputId": "c4f12a78-cd0f-479b-a2d7-fa17c30dd1c3"
      },
      "execution_count": 10,
      "outputs": [
        {
          "output_type": "display_data",
          "data": {
            "text/plain": [
              "MetricVisualizer(layout=Layout(align_self='stretch', height='500px'))"
            ],
            "application/vnd.jupyter.widget-view+json": {
              "version_major": 2,
              "version_minor": 0,
              "model_id": "daa54488979b4959aad85e4a6228b86c"
            }
          },
          "metadata": {}
        },
        {
          "output_type": "stream",
          "name": "stdout",
          "text": [
            "0:\tlearn: 0.9095125\ttest: 0.9095340\tbest: 0.9095340 (0)\ttotal: 55.9ms\tremaining: 55.8s\n",
            "100:\tlearn: 0.0003977\ttest: 0.0004117\tbest: 0.0004117 (100)\ttotal: 1.38s\tremaining: 12.3s\n",
            "200:\tlearn: 0.0001106\ttest: 0.0001164\tbest: 0.0001164 (200)\ttotal: 6.06s\tremaining: 24.1s\n",
            "300:\tlearn: 0.0000637\ttest: 0.0000674\tbest: 0.0000674 (300)\ttotal: 10.1s\tremaining: 23.5s\n",
            "400:\tlearn: 0.0000444\ttest: 0.0000471\tbest: 0.0000471 (400)\ttotal: 13.5s\tremaining: 20.2s\n",
            "500:\tlearn: 0.0000340\ttest: 0.0000360\tbest: 0.0000360 (500)\ttotal: 18.7s\tremaining: 18.6s\n",
            "600:\tlearn: 0.0000276\ttest: 0.0000293\tbest: 0.0000293 (600)\ttotal: 19.6s\tremaining: 13s\n",
            "700:\tlearn: 0.0000231\ttest: 0.0000245\tbest: 0.0000245 (700)\ttotal: 20.3s\tremaining: 8.65s\n",
            "800:\tlearn: 0.0000199\ttest: 0.0000211\tbest: 0.0000211 (800)\ttotal: 21s\tremaining: 5.23s\n",
            "900:\tlearn: 0.0000174\ttest: 0.0000185\tbest: 0.0000185 (900)\ttotal: 21.8s\tremaining: 2.39s\n",
            "999:\tlearn: 0.0000157\ttest: 0.0000167\tbest: 0.0000167 (999)\ttotal: 22.5s\tremaining: 0us\n",
            "bestTest = 1.666172843e-05\n",
            "bestIteration = 999\n"
          ]
        },
        {
          "output_type": "execute_result",
          "data": {
            "text/plain": [
              "<catboost.core.CatBoostClassifier at 0x785e1ecdac90>"
            ]
          },
          "metadata": {},
          "execution_count": 10
        }
      ]
    },
    {
      "cell_type": "markdown",
      "source": [
        "## 9. Оценка"
      ],
      "metadata": {
        "id": "Y1Um4P5GyK05"
      }
    },
    {
      "cell_type": "code",
      "source": [
        "y_pred = model.predict(X_test)\n",
        "print(classification_report(y_test, y_pred, labels=[0, 1, 2]))"
      ],
      "metadata": {
        "colab": {
          "base_uri": "https://localhost:8080/"
        },
        "id": "KgEKu4uuty6F",
        "outputId": "ee7bab87-ea52-4958-95fc-d9859de52250"
      },
      "execution_count": 11,
      "outputs": [
        {
          "output_type": "stream",
          "name": "stdout",
          "text": [
            "              precision    recall  f1-score   support\n",
            "\n",
            "           0       1.00      1.00      1.00      1198\n",
            "           1       1.00      1.00      1.00         2\n",
            "           2       1.00      1.00      1.00         1\n",
            "\n",
            "    accuracy                           1.00      1201\n",
            "   macro avg       1.00      1.00      1.00      1201\n",
            "weighted avg       1.00      1.00      1.00      1201\n",
            "\n"
          ]
        }
      ]
    },
    {
      "cell_type": "markdown",
      "source": [
        "## 10. Важность признаков"
      ],
      "metadata": {
        "id": "6EXQ93LVyPSR"
      }
    },
    {
      "cell_type": "code",
      "source": [
        "feature_names = ['Degree', 'EdgeMean', 'EdgeMax', 'EdgeMin', 'EdgeCount']\n",
        "print(\"\\nFeature Importance:\")\n",
        "for name, score in zip(feature_names, model.get_feature_importance()):\n",
        "    print(f\"{name}: {score:.2f}\")"
      ],
      "metadata": {
        "colab": {
          "base_uri": "https://localhost:8080/"
        },
        "id": "5p5L1DUvsKws",
        "outputId": "ba920b18-ff6c-4430-a4b7-8ab0d4c20346"
      },
      "execution_count": 12,
      "outputs": [
        {
          "output_type": "stream",
          "name": "stdout",
          "text": [
            "\n",
            "Feature Importance:\n",
            "Degree: 65.10\n",
            "EdgeMean: 7.08\n",
            "EdgeMax: 0.04\n",
            "EdgeMin: 1.49\n",
            "EdgeCount: 26.29\n"
          ]
        }
      ]
    },
    {
      "cell_type": "markdown",
      "source": [
        "## 11. Сохранение модели"
      ],
      "metadata": {
        "id": "3xXSoaINrwI9"
      }
    },
    {
      "cell_type": "code",
      "source": [
        "#model.save_model('catboost_model.cbm')"
      ],
      "metadata": {
        "id": "_1WjdzZYrVtq"
      },
      "execution_count": 13,
      "outputs": []
    },
    {
      "cell_type": "markdown",
      "source": [
        "## 12. Загрузка модели"
      ],
      "metadata": {
        "id": "w2jSGq9br_D5"
      }
    },
    {
      "cell_type": "code",
      "source": [
        "#loaded_model = CatBoostClassifier()\n",
        "#loaded_model.load_model('catboost_model.cbm')"
      ],
      "metadata": {
        "id": "anX3Sw_crcet"
      },
      "execution_count": 14,
      "outputs": []
    },
    {
      "cell_type": "code",
      "source": [
        "#y_pred = loaded_model.predict(X_test)\n",
        "#print(classification_report(y_test, y_pred, labels=[0, 1, 2]))"
      ],
      "metadata": {
        "id": "eVD6fffSriNn"
      },
      "execution_count": 15,
      "outputs": []
    }
  ]
}