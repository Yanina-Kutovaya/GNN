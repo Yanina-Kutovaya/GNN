{
  "nbformat": 4,
  "nbformat_minor": 0,
  "metadata": {
    "colab": {
      "provenance": [],
      "gpuType": "T4",
      "authorship_tag": "ABX9TyPBSLJHvOQICxmzlL8uWb6g",
      "include_colab_link": true
    },
    "kernelspec": {
      "name": "python3",
      "display_name": "Python 3"
    },
    "language_info": {
      "name": "python"
    },
    "widgets": {
      "application/vnd.jupyter.widget-state+json": {
        "eea5d62f6bc64bfab81a977510f37aff": {
          "model_module": "catboost-widget",
          "model_name": "CatboostWidgetModel",
          "model_module_version": "^1.0.0",
          "state": {
            "_dom_classes": [],
            "_model_module": "catboost-widget",
            "_model_module_version": "^1.0.0",
            "_model_name": "CatboostWidgetModel",
            "_view_count": null,
            "_view_module": "catboost-widget",
            "_view_module_version": "^1.0.0",
            "_view_name": "CatboostWidgetView",
            "data": {
              "catboost_info": {
                "path": "catboost_info",
                "name": "catboost_info",
                "content": {
                  "passed_iterations": 999,
                  "total_iterations": 1000,
                  "data": {
                    "iterations": [
                      {
                        "learn": [
                          0.9095123571
                        ],
                        "iteration": 0,
                        "passed_time": 0.02339440201,
                        "remaining_time": 23.37100761,
                        "test": [
                          0.9095340065
                        ]
                      },
                      {
                        "learn": [
                          0.7691731703
                        ],
                        "iteration": 1,
                        "passed_time": 0.04686311733,
                        "remaining_time": 23.38469555,
                        "test": [
                          0.769208033
                        ]
                      },
                      {
                        "learn": [
                          0.6595520477
                        ],
                        "iteration": 2,
                        "passed_time": 0.05618395779,
                        "remaining_time": 18.67180197,
                        "test": [
                          0.6595953974
                        ]
                      },
                      {
                        "learn": [
                          0.5711204408
                        ],
                        "iteration": 3,
                        "passed_time": 0.06543086996,
                        "remaining_time": 16.29228662,
                        "test": [
                          0.5711692283
                        ]
                      },
                      {
                        "learn": [
                          0.4981785503
                        ],
                        "iteration": 4,
                        "passed_time": 0.07463065568,
                        "remaining_time": 14.85150048,
                        "test": [
                          0.4982309461
                        ]
                      },
                      {
                        "learn": [
                          0.437027778
                        ],
                        "iteration": 5,
                        "passed_time": 0.08408977642,
                        "remaining_time": 13.93087296,
                        "test": [
                          0.4370823081
                        ]
                      },
                      {
                        "learn": [
                          0.3851239334
                        ],
                        "iteration": 6,
                        "passed_time": 0.09972509231,
                        "remaining_time": 14.14671667,
                        "test": [
                          0.3851796578
                        ]
                      },
                      {
                        "learn": [
                          0.3406391128
                        ],
                        "iteration": 7,
                        "passed_time": 0.1089768156,
                        "remaining_time": 13.51312514,
                        "test": [
                          0.3406955233
                        ]
                      },
                      {
                        "learn": [
                          0.3022154745
                        ],
                        "iteration": 8,
                        "passed_time": 0.1182155956,
                        "remaining_time": 13.01685058,
                        "test": [
                          0.3022718596
                        ]
                      },
                      {
                        "learn": [
                          0.2688151414
                        ],
                        "iteration": 9,
                        "passed_time": 0.12740569,
                        "remaining_time": 12.61316331,
                        "test": [
                          0.2688711962
                        ]
                      },
                      {
                        "learn": [
                          0.2396282415
                        ],
                        "iteration": 10,
                        "passed_time": 0.1366119219,
                        "remaining_time": 12.2826537,
                        "test": [
                          0.2396837373
                        ]
                      },
                      {
                        "learn": [
                          0.2140099925
                        ],
                        "iteration": 11,
                        "passed_time": 0.1459279992,
                        "remaining_time": 12.0147386,
                        "test": [
                          0.2140647259
                        ]
                      },
                      {
                        "learn": [
                          0.1914399438
                        ],
                        "iteration": 12,
                        "passed_time": 0.156130987,
                        "remaining_time": 11.85394493,
                        "test": [
                          0.1914937625
                        ]
                      },
                      {
                        "learn": [
                          0.1714916626
                        ],
                        "iteration": 13,
                        "passed_time": 0.1655123043,
                        "remaining_time": 11.65679515,
                        "test": [
                          0.1715444903
                        ]
                      },
                      {
                        "learn": [
                          0.1538118462
                        ],
                        "iteration": 14,
                        "passed_time": 0.1747146901,
                        "remaining_time": 11.47293132,
                        "test": [
                          0.1538635813
                        ]
                      },
                      {
                        "learn": [
                          0.1381051908
                        ],
                        "iteration": 15,
                        "passed_time": 0.183856863,
                        "remaining_time": 11.30719708,
                        "test": [
                          0.1381557824
                        ]
                      },
                      {
                        "learn": [
                          0.124122537
                        ],
                        "iteration": 16,
                        "passed_time": 0.1930039671,
                        "remaining_time": 11.16017057,
                        "test": [
                          0.1241719852
                        ]
                      },
                      {
                        "learn": [
                          0.111652333
                        ],
                        "iteration": 17,
                        "passed_time": 0.202242459,
                        "remaining_time": 11.03344971,
                        "test": [
                          0.1117005868
                        ]
                      },
                      {
                        "learn": [
                          0.100512877
                        ],
                        "iteration": 18,
                        "passed_time": 0.2114545361,
                        "remaining_time": 10.91773158,
                        "test": [
                          0.100559981
                        ]
                      },
                      {
                        "learn": [
                          0.09054835412
                        ],
                        "iteration": 19,
                        "passed_time": 0.2207360734,
                        "remaining_time": 10.8160676,
                        "test": [
                          0.09059427025
                        ]
                      },
                      {
                        "learn": [
                          0.08162379841
                        ],
                        "iteration": 20,
                        "passed_time": 0.2326056787,
                        "remaining_time": 10.84385521,
                        "test": [
                          0.08166855201
                        ]
                      },
                      {
                        "learn": [
                          0.07362192934
                        ],
                        "iteration": 21,
                        "passed_time": 0.2411542293,
                        "remaining_time": 10.72040165,
                        "test": [
                          0.07366552678
                        ]
                      },
                      {
                        "learn": [
                          0.06644021065
                        ],
                        "iteration": 22,
                        "passed_time": 0.2494444238,
                        "remaining_time": 10.59596531,
                        "test": [
                          0.06648267735
                        ]
                      },
                      {
                        "learn": [
                          0.05998911607
                        ],
                        "iteration": 23,
                        "passed_time": 0.2577014364,
                        "remaining_time": 10.47985841,
                        "test": [
                          0.06003047743
                        ]
                      },
                      {
                        "learn": [
                          0.05418988052
                        ],
                        "iteration": 24,
                        "passed_time": 0.2659212798,
                        "remaining_time": 10.37092991,
                        "test": [
                          0.0542301556
                        ]
                      },
                      {
                        "learn": [
                          0.04897267058
                        ],
                        "iteration": 25,
                        "passed_time": 0.2741875176,
                        "remaining_time": 10.27148624,
                        "test": [
                          0.04901188796
                        ]
                      },
                      {
                        "learn": [
                          0.04427643839
                        ],
                        "iteration": 26,
                        "passed_time": 0.3062081856,
                        "remaining_time": 11.03483572,
                        "test": [
                          0.04431461712
                        ]
                      },
                      {
                        "learn": [
                          0.04004681895
                        ],
                        "iteration": 27,
                        "passed_time": 0.3188711155,
                        "remaining_time": 11.06938301,
                        "test": [
                          0.04008398127
                        ]
                      },
                      {
                        "learn": [
                          0.03623538053
                        ],
                        "iteration": 28,
                        "passed_time": 0.3404884475,
                        "remaining_time": 11.4004925,
                        "test": [
                          0.03627157092
                        ]
                      },
                      {
                        "learn": [
                          0.03279931976
                        ],
                        "iteration": 29,
                        "passed_time": 0.35698311,
                        "remaining_time": 11.54245389,
                        "test": [
                          0.03283455092
                        ]
                      },
                      {
                        "learn": [
                          0.02970034991
                        ],
                        "iteration": 30,
                        "passed_time": 0.3801004004,
                        "remaining_time": 11.88120284,
                        "test": [
                          0.02973465677
                        ]
                      },
                      {
                        "learn": [
                          0.02690425304
                        ],
                        "iteration": 31,
                        "passed_time": 0.4012461088,
                        "remaining_time": 12.13769479,
                        "test": [
                          0.0269376642
                        ]
                      },
                      {
                        "learn": [
                          0.02438072122
                        ],
                        "iteration": 32,
                        "passed_time": 0.4198677061,
                        "remaining_time": 12.30339612,
                        "test": [
                          0.0244132589
                        ]
                      },
                      {
                        "learn": [
                          0.0221024703
                        ],
                        "iteration": 33,
                        "passed_time": 0.4424938074,
                        "remaining_time": 12.57202994,
                        "test": [
                          0.02213416786
                        ]
                      },
                      {
                        "learn": [
                          0.02004502715
                        ],
                        "iteration": 34,
                        "passed_time": 0.4562318115,
                        "remaining_time": 12.5789628,
                        "test": [
                          0.02007590682
                        ]
                      },
                      {
                        "learn": [
                          0.0181863437
                        ],
                        "iteration": 35,
                        "passed_time": 0.4952186071,
                        "remaining_time": 13.26085381,
                        "test": [
                          0.01821643248
                        ]
                      },
                      {
                        "learn": [
                          0.01650723371
                        ],
                        "iteration": 36,
                        "passed_time": 0.5331705466,
                        "remaining_time": 13.87684423,
                        "test": [
                          0.01653655701
                        ]
                      },
                      {
                        "learn": [
                          0.01498964804
                        ],
                        "iteration": 37,
                        "passed_time": 0.5607939175,
                        "remaining_time": 14.19694075,
                        "test": [
                          0.0150182265
                        ]
                      },
                      {
                        "learn": [
                          0.01361795468
                        ],
                        "iteration": 38,
                        "passed_time": 0.5694772913,
                        "remaining_time": 14.03250454,
                        "test": [
                          0.0136458169
                        ]
                      },
                      {
                        "learn": [
                          0.01237777548
                        ],
                        "iteration": 39,
                        "passed_time": 0.5922369326,
                        "remaining_time": 14.21368638,
                        "test": [
                          0.0124049413
                        ]
                      },
                      {
                        "learn": [
                          0.01125640377
                        ],
                        "iteration": 40,
                        "passed_time": 0.6136228585,
                        "remaining_time": 14.35278832,
                        "test": [
                          0.0112828994
                        ]
                      },
                      {
                        "learn": [
                          0.01024217629
                        ],
                        "iteration": 41,
                        "passed_time": 0.6319996922,
                        "remaining_time": 14.41561203,
                        "test": [
                          0.01026802317
                        ]
                      },
                      {
                        "learn": [
                          0.009324563731
                        ],
                        "iteration": 42,
                        "passed_time": 0.6420841703,
                        "remaining_time": 14.29010584,
                        "test": [
                          0.009349781707
                        ]
                      },
                      {
                        "learn": [
                          0.008494578829
                        ],
                        "iteration": 43,
                        "passed_time": 0.6648283912,
                        "remaining_time": 14.44490777,
                        "test": [
                          0.008519189344
                        ]
                      },
                      {
                        "learn": [
                          0.007743339951
                        ],
                        "iteration": 44,
                        "passed_time": 0.6870577932,
                        "remaining_time": 14.58089317,
                        "test": [
                          0.007767363651
                        ]
                      },
                      {
                        "learn": [
                          0.007063553593
                        ],
                        "iteration": 45,
                        "passed_time": 0.7104157791,
                        "remaining_time": 14.7334055,
                        "test": [
                          0.007087010329
                        ]
                      },
                      {
                        "learn": [
                          0.006448114841
                        ],
                        "iteration": 46,
                        "passed_time": 0.7224241417,
                        "remaining_time": 14.64830228,
                        "test": [
                          0.006471023274
                        ]
                      },
                      {
                        "learn": [
                          0.005891113456
                        ],
                        "iteration": 47,
                        "passed_time": 0.7453809962,
                        "remaining_time": 14.78338976,
                        "test": [
                          0.005913489863
                        ]
                      },
                      {
                        "learn": [
                          0.005386677312
                        ],
                        "iteration": 48,
                        "passed_time": 0.7562040851,
                        "remaining_time": 14.67653235,
                        "test": [
                          0.005408542341
                        ]
                      },
                      {
                        "learn": [
                          0.004929679518
                        ],
                        "iteration": 49,
                        "passed_time": 0.7938090299,
                        "remaining_time": 15.08237157,
                        "test": [
                          0.004951047461
                        ]
                      },
                      {
                        "learn": [
                          0.00451589127
                        ],
                        "iteration": 50,
                        "passed_time": 0.8827447723,
                        "remaining_time": 16.42597625,
                        "test": [
                          0.004536779199
                        ]
                      },
                      {
                        "learn": [
                          0.00414086222
                        ],
                        "iteration": 51,
                        "passed_time": 0.9196268608,
                        "remaining_time": 16.76550508,
                        "test": [
                          0.004161286414
                        ]
                      },
                      {
                        "learn": [
                          0.003801041698
                        ],
                        "iteration": 52,
                        "passed_time": 0.9458160143,
                        "remaining_time": 16.89976916,
                        "test": [
                          0.003821017244
                        ]
                      },
                      {
                        "learn": [
                          0.003492901665
                        ],
                        "iteration": 53,
                        "passed_time": 0.9798403763,
                        "remaining_time": 17.16535178,
                        "test": [
                          0.003512444445
                        ]
                      },
                      {
                        "learn": [
                          0.003249036184
                        ],
                        "iteration": 54,
                        "passed_time": 0.9812392815,
                        "remaining_time": 16.85947493,
                        "test": [
                          0.003269440725
                        ]
                      },
                      {
                        "learn": [
                          0.002993102872
                        ],
                        "iteration": 55,
                        "passed_time": 1.011963484,
                        "remaining_time": 17.05881302,
                        "test": [
                          0.003013050229
                        ]
                      },
                      {
                        "learn": [
                          0.002779270191
                        ],
                        "iteration": 56,
                        "passed_time": 1.054708727,
                        "remaining_time": 17.44895316,
                        "test": [
                          0.002799964765
                        ]
                      },
                      {
                        "learn": [
                          0.002570135409
                        ],
                        "iteration": 57,
                        "passed_time": 1.060910969,
                        "remaining_time": 17.23065747,
                        "test": [
                          0.002590559404
                        ]
                      },
                      {
                        "learn": [
                          0.002377457265
                        ],
                        "iteration": 58,
                        "passed_time": 1.081082756,
                        "remaining_time": 17.24235378,
                        "test": [
                          0.002397414548
                        ]
                      },
                      {
                        "learn": [
                          0.002202330581
                        ],
                        "iteration": 59,
                        "passed_time": 1.095526957,
                        "remaining_time": 17.16325565,
                        "test": [
                          0.002221839017
                        ]
                      },
                      {
                        "learn": [
                          0.002043184293
                        ],
                        "iteration": 60,
                        "passed_time": 1.106884606,
                        "remaining_time": 17.03876467,
                        "test": [
                          0.002062258971
                        ]
                      },
                      {
                        "learn": [
                          0.001914395182
                        ],
                        "iteration": 61,
                        "passed_time": 1.108802361,
                        "remaining_time": 16.77510669,
                        "test": [
                          0.001934086453
                        ]
                      },
                      {
                        "learn": [
                          0.001781573998
                        ],
                        "iteration": 62,
                        "passed_time": 1.122986166,
                        "remaining_time": 16.70219108,
                        "test": [
                          0.001800820591
                        ]
                      },
                      {
                        "learn": [
                          0.001660480587
                        ],
                        "iteration": 63,
                        "passed_time": 1.127757963,
                        "remaining_time": 16.49346021,
                        "test": [
                          0.001679299376
                        ]
                      },
                      {
                        "learn": [
                          0.001578634526
                        ],
                        "iteration": 64,
                        "passed_time": 1.129150192,
                        "remaining_time": 16.24239123,
                        "test": [
                          0.001598137106
                        ]
                      },
                      {
                        "learn": [
                          0.001476841406
                        ],
                        "iteration": 65,
                        "passed_time": 1.146422839,
                        "remaining_time": 16.22362017,
                        "test": [
                          0.001495628234
                        ]
                      },
                      {
                        "learn": [
                          0.001383205735
                        ],
                        "iteration": 66,
                        "passed_time": 1.149778995,
                        "remaining_time": 16.01110152,
                        "test": [
                          0.001401571807
                        ]
                      },
                      {
                        "learn": [
                          0.001297839774
                        ],
                        "iteration": 67,
                        "passed_time": 1.154189613,
                        "remaining_time": 15.81918705,
                        "test": [
                          0.001315800673
                        ]
                      },
                      {
                        "learn": [
                          0.001219544581
                        ],
                        "iteration": 68,
                        "passed_time": 1.15827829,
                        "remaining_time": 15.62836359,
                        "test": [
                          0.001237115495
                        ]
                      },
                      {
                        "learn": [
                          0.001160773806
                        ],
                        "iteration": 69,
                        "passed_time": 1.160181892,
                        "remaining_time": 15.41384514,
                        "test": [
                          0.001178779868
                        ]
                      },
                      {
                        "learn": [
                          0.001094232987
                        ],
                        "iteration": 70,
                        "passed_time": 1.16590994,
                        "remaining_time": 15.25535682,
                        "test": [
                          0.001111844696
                        ]
                      },
                      {
                        "learn": [
                          0.001033447466
                        ],
                        "iteration": 71,
                        "passed_time": 1.170512747,
                        "remaining_time": 15.08660874,
                        "test": [
                          0.001050679312
                        ]
                      },
                      {
                        "learn": [
                          0.0009891245387
                        ],
                        "iteration": 72,
                        "passed_time": 1.173386151,
                        "remaining_time": 14.90039674,
                        "test": [
                          0.001006741012
                        ]
                      },
                      {
                        "learn": [
                          0.0009380947243
                        ],
                        "iteration": 73,
                        "passed_time": 1.193777855,
                        "remaining_time": 14.93835532,
                        "test": [
                          0.0009557571538
                        ]
                      },
                      {
                        "learn": [
                          0.0008898847407
                        ],
                        "iteration": 74,
                        "passed_time": 1.201811683,
                        "remaining_time": 14.82234409,
                        "test": [
                          0.0009071672092
                        ]
                      },
                      {
                        "learn": [
                          0.0008654926937
                        ],
                        "iteration": 75,
                        "passed_time": 1.203954583,
                        "remaining_time": 14.63755309,
                        "test": [
                          0.0008832248025
                        ]
                      },
                      {
                        "learn": [
                          0.0008231930987
                        ],
                        "iteration": 76,
                        "passed_time": 1.20941118,
                        "remaining_time": 14.49722752,
                        "test": [
                          0.0008405413258
                        ]
                      },
                      {
                        "learn": [
                          0.0007948999004
                        ],
                        "iteration": 77,
                        "passed_time": 1.212271453,
                        "remaining_time": 14.32967025,
                        "test": [
                          0.0008125630743
                        ]
                      },
                      {
                        "learn": [
                          0.0007770520067
                        ],
                        "iteration": 78,
                        "passed_time": 1.221798153,
                        "remaining_time": 14.24400126,
                        "test": [
                          0.0007951314205
                        ]
                      },
                      {
                        "learn": [
                          0.0007433866978
                        ],
                        "iteration": 79,
                        "passed_time": 1.225394058,
                        "remaining_time": 14.09203166,
                        "test": [
                          0.0007615030854
                        ]
                      },
                      {
                        "learn": [
                          0.0007107548174
                        ],
                        "iteration": 80,
                        "passed_time": 1.241415907,
                        "remaining_time": 14.0847064,
                        "test": [
                          0.0007284737745
                        ]
                      },
                      {
                        "learn": [
                          0.0006815779715
                        ],
                        "iteration": 81,
                        "passed_time": 1.296714143,
                        "remaining_time": 14.51687297,
                        "test": [
                          0.000699326458
                        ]
                      },
                      {
                        "learn": [
                          0.0006546136442
                        ],
                        "iteration": 82,
                        "passed_time": 1.338266739,
                        "remaining_time": 14.78542891,
                        "test": [
                          0.0006723858534
                        ]
                      },
                      {
                        "learn": [
                          0.0006282879451
                        ],
                        "iteration": 83,
                        "passed_time": 1.347477745,
                        "remaining_time": 14.69392398,
                        "test": [
                          0.0006456832703
                        ]
                      },
                      {
                        "learn": [
                          0.0006047096181
                        ],
                        "iteration": 84,
                        "passed_time": 1.355546454,
                        "remaining_time": 14.59205888,
                        "test": [
                          0.0006217266697
                        ]
                      },
                      {
                        "learn": [
                          0.0005964008001
                        ],
                        "iteration": 85,
                        "passed_time": 1.356813743,
                        "remaining_time": 14.42009024,
                        "test": [
                          0.0006137117061
                        ]
                      },
                      {
                        "learn": [
                          0.0005753008551
                        ],
                        "iteration": 86,
                        "passed_time": 1.363330119,
                        "remaining_time": 14.30713101,
                        "test": [
                          0.0005922325942
                        ]
                      },
                      {
                        "learn": [
                          0.0005684006125
                        ],
                        "iteration": 87,
                        "passed_time": 1.375343328,
                        "remaining_time": 14.25355813,
                        "test": [
                          0.0005855993069
                        ]
                      },
                      {
                        "learn": [
                          0.0005487784756
                        ],
                        "iteration": 88,
                        "passed_time": 1.389256958,
                        "remaining_time": 14.22037178,
                        "test": [
                          0.000565613934
                        ]
                      },
                      {
                        "learn": [
                          0.0005297862322
                        ],
                        "iteration": 89,
                        "passed_time": 1.403039109,
                        "remaining_time": 14.18628433,
                        "test": [
                          0.0005462717553
                        ]
                      },
                      {
                        "learn": [
                          0.000513096882
                        ],
                        "iteration": 90,
                        "passed_time": 1.441074753,
                        "remaining_time": 14.39491154,
                        "test": [
                          0.0005304419826
                        ]
                      },
                      {
                        "learn": [
                          0.0004963364629
                        ],
                        "iteration": 91,
                        "passed_time": 1.476812932,
                        "remaining_time": 14.57550154,
                        "test": [
                          0.0005133362932
                        ]
                      },
                      {
                        "learn": [
                          0.0004813740593
                        ],
                        "iteration": 92,
                        "passed_time": 1.537626369,
                        "remaining_time": 14.9959905,
                        "test": [
                          0.000499613428
                        ]
                      },
                      {
                        "learn": [
                          0.0004673037402
                        ],
                        "iteration": 93,
                        "passed_time": 1.595195932,
                        "remaining_time": 15.37497356,
                        "test": [
                          0.0004851829996
                        ]
                      },
                      {
                        "learn": [
                          0.0004530831936
                        ],
                        "iteration": 94,
                        "passed_time": 1.631311275,
                        "remaining_time": 15.54038636,
                        "test": [
                          0.0004706177287
                        ]
                      },
                      {
                        "learn": [
                          0.0004396839602
                        ],
                        "iteration": 95,
                        "passed_time": 1.670335815,
                        "remaining_time": 15.72899559,
                        "test": [
                          0.0004568857317
                        ]
                      },
                      {
                        "learn": [
                          0.0004278488401
                        ],
                        "iteration": 96,
                        "passed_time": 1.815989894,
                        "remaining_time": 16.9055554,
                        "test": [
                          0.0004447242005
                        ]
                      },
                      {
                        "learn": [
                          0.0004164347244
                        ],
                        "iteration": 97,
                        "passed_time": 1.882491372,
                        "remaining_time": 17.32660426,
                        "test": [
                          0.0004333103328
                        ]
                      },
                      {
                        "learn": [
                          0.0004050559694
                        ],
                        "iteration": 98,
                        "passed_time": 1.973708359,
                        "remaining_time": 17.96273971,
                        "test": [
                          0.0004216212218
                        ]
                      },
                      {
                        "learn": [
                          0.0003949399296
                        ],
                        "iteration": 99,
                        "passed_time": 2.059792981,
                        "remaining_time": 18.53813683,
                        "test": [
                          0.0004112011785
                        ]
                      },
                      {
                        "learn": [
                          0.0003852320402
                        ],
                        "iteration": 100,
                        "passed_time": 2.153745729,
                        "remaining_time": 19.17046941,
                        "test": [
                          0.0004014931898
                        ]
                      },
                      {
                        "learn": [
                          0.0003753778192
                        ],
                        "iteration": 101,
                        "passed_time": 2.277374519,
                        "remaining_time": 20.04982664,
                        "test": [
                          0.0003913488614
                        ]
                      },
                      {
                        "learn": [
                          0.0003667250958
                        ],
                        "iteration": 102,
                        "passed_time": 2.326272945,
                        "remaining_time": 20.25890128,
                        "test": [
                          0.0003826928625
                        ]
                      },
                      {
                        "learn": [
                          0.0003583539187
                        ],
                        "iteration": 103,
                        "passed_time": 2.371434029,
                        "remaining_time": 20.43081625,
                        "test": [
                          0.0003752561533
                        ]
                      },
                      {
                        "learn": [
                          0.0003497654155
                        ],
                        "iteration": 104,
                        "passed_time": 2.429163569,
                        "remaining_time": 20.70572757,
                        "test": [
                          0.0003663747882
                        ]
                      },
                      {
                        "learn": [
                          0.0003422076359
                        ],
                        "iteration": 105,
                        "passed_time": 2.489884396,
                        "remaining_time": 20.99959104,
                        "test": [
                          0.0003585384897
                        ]
                      },
                      {
                        "learn": [
                          0.0003349237101
                        ],
                        "iteration": 106,
                        "passed_time": 2.543278071,
                        "remaining_time": 21.22567586,
                        "test": [
                          0.0003512415858
                        ]
                      },
                      {
                        "learn": [
                          0.0003273446643
                        ],
                        "iteration": 107,
                        "passed_time": 2.602100227,
                        "remaining_time": 21.4914204,
                        "test": [
                          0.0003433878922
                        ]
                      },
                      {
                        "learn": [
                          0.0003207427179
                        ],
                        "iteration": 108,
                        "passed_time": 2.665366787,
                        "remaining_time": 21.78753952,
                        "test": [
                          0.0003376138101
                        ]
                      },
                      {
                        "learn": [
                          0.0003144145508
                        ],
                        "iteration": 109,
                        "passed_time": 2.799912515,
                        "remaining_time": 22.65383762,
                        "test": [
                          0.0003312623918
                        ]
                      },
                      {
                        "learn": [
                          0.0003079205478
                        ],
                        "iteration": 110,
                        "passed_time": 2.855520853,
                        "remaining_time": 22.86989224,
                        "test": [
                          0.0003243757227
                        ]
                      },
                      {
                        "learn": [
                          0.0003015069938
                        ],
                        "iteration": 111,
                        "passed_time": 2.920631837,
                        "remaining_time": 23.15643814,
                        "test": [
                          0.0003176954366
                        ]
                      },
                      {
                        "learn": [
                          0.0002958931395
                        ],
                        "iteration": 112,
                        "passed_time": 2.96483144,
                        "remaining_time": 23.27261493,
                        "test": [
                          0.0003118344787
                        ]
                      },
                      {
                        "learn": [
                          0.0002904260139
                        ],
                        "iteration": 113,
                        "passed_time": 3.05685423,
                        "remaining_time": 23.75765656,
                        "test": [
                          0.0003061261552
                        ]
                      },
                      {
                        "learn": [
                          0.0002846294001
                        ],
                        "iteration": 114,
                        "passed_time": 3.130234283,
                        "remaining_time": 24.08919426,
                        "test": [
                          0.0003000823882
                        ]
                      },
                      {
                        "learn": [
                          0.0002791264174
                        ],
                        "iteration": 115,
                        "passed_time": 3.244683314,
                        "remaining_time": 24.72672457,
                        "test": [
                          0.0002943390514
                        ]
                      },
                      {
                        "learn": [
                          0.0002743612966
                        ],
                        "iteration": 116,
                        "passed_time": 3.37278905,
                        "remaining_time": 25.45446778,
                        "test": [
                          0.0002893505495
                        ]
                      },
                      {
                        "learn": [
                          0.0002697425818
                        ],
                        "iteration": 117,
                        "passed_time": 3.457125923,
                        "remaining_time": 25.84055139,
                        "test": [
                          0.0002847178145
                        ]
                      },
                      {
                        "learn": [
                          0.0002652693301
                        ],
                        "iteration": 118,
                        "passed_time": 3.549655876,
                        "remaining_time": 26.2793851,
                        "test": [
                          0.0002802294259
                        ]
                      },
                      {
                        "learn": [
                          0.0002604005091
                        ],
                        "iteration": 119,
                        "passed_time": 3.615755264,
                        "remaining_time": 26.5155386,
                        "test": [
                          0.0002751355614
                        ]
                      },
                      {
                        "learn": [
                          0.0002562250573
                        ],
                        "iteration": 120,
                        "passed_time": 3.676459898,
                        "remaining_time": 26.7075062,
                        "test": [
                          0.0002707527837
                        ]
                      },
                      {
                        "learn": [
                          0.0002516814563
                        ],
                        "iteration": 121,
                        "passed_time": 3.767249569,
                        "remaining_time": 27.11184526,
                        "test": [
                          0.0002659948343
                        ]
                      },
                      {
                        "learn": [
                          0.0002477996603
                        ],
                        "iteration": 122,
                        "passed_time": 3.869888888,
                        "remaining_time": 27.5926224,
                        "test": [
                          0.0002619142735
                        ]
                      },
                      {
                        "learn": [
                          0.0002435617751
                        ],
                        "iteration": 123,
                        "passed_time": 3.930758586,
                        "remaining_time": 27.76890743,
                        "test": [
                          0.0002574720897
                        ]
                      },
                      {
                        "learn": [
                          0.0002393665461
                        ],
                        "iteration": 124,
                        "passed_time": 3.98972356,
                        "remaining_time": 27.92806492,
                        "test": [
                          0.0002530781206
                        ]
                      },
                      {
                        "learn": [
                          0.0002358043124
                        ],
                        "iteration": 125,
                        "passed_time": 4.109430787,
                        "remaining_time": 28.50509927,
                        "test": [
                          0.0002495025864
                        ]
                      },
                      {
                        "learn": [
                          0.0002325084138
                        ],
                        "iteration": 126,
                        "passed_time": 4.197666797,
                        "remaining_time": 28.85482767,
                        "test": [
                          0.0002460657905
                        ]
                      },
                      {
                        "learn": [
                          0.0002288807689
                        ],
                        "iteration": 127,
                        "passed_time": 4.259604206,
                        "remaining_time": 29.01855365,
                        "test": [
                          0.0002422490584
                        ]
                      },
                      {
                        "learn": [
                          0.0002256223651
                        ],
                        "iteration": 128,
                        "passed_time": 4.292815158,
                        "remaining_time": 28.98482172,
                        "test": [
                          0.0002389774781
                        ]
                      },
                      {
                        "learn": [
                          0.0002225023523
                        ],
                        "iteration": 129,
                        "passed_time": 4.321599609,
                        "remaining_time": 28.9214743,
                        "test": [
                          0.0002358430232
                        ]
                      },
                      {
                        "learn": [
                          0.000219081537
                        ],
                        "iteration": 130,
                        "passed_time": 4.348616205,
                        "remaining_time": 28.84692734,
                        "test": [
                          0.0002322407884
                        ]
                      },
                      {
                        "learn": [
                          0.0002160047264
                        ],
                        "iteration": 131,
                        "passed_time": 4.419357535,
                        "remaining_time": 29.06062379,
                        "test": [
                          0.0002291491883
                        ]
                      },
                      {
                        "learn": [
                          0.0002131824886
                        ],
                        "iteration": 132,
                        "passed_time": 4.463712541,
                        "remaining_time": 29.09803589,
                        "test": [
                          0.0002261597251
                        ]
                      },
                      {
                        "learn": [
                          0.0002104965078
                        ],
                        "iteration": 133,
                        "passed_time": 4.544955759,
                        "remaining_time": 29.37262453,
                        "test": [
                          0.000223309819
                        ]
                      },
                      {
                        "learn": [
                          0.000207298329
                        ],
                        "iteration": 134,
                        "passed_time": 4.667975706,
                        "remaining_time": 29.90962212,
                        "test": [
                          0.000219942107
                        ]
                      },
                      {
                        "learn": [
                          0.0002042507872
                        ],
                        "iteration": 135,
                        "passed_time": 4.795583669,
                        "remaining_time": 30.46606096,
                        "test": [
                          0.0002167294365
                        ]
                      },
                      {
                        "learn": [
                          0.0002017443772
                        ],
                        "iteration": 136,
                        "passed_time": 4.872287111,
                        "remaining_time": 30.69185239,
                        "test": [
                          0.0002140700073
                        ]
                      },
                      {
                        "learn": [
                          0.000198986037
                        ],
                        "iteration": 137,
                        "passed_time": 4.930001048,
                        "remaining_time": 30.79464423,
                        "test": [
                          0.0002111529033
                        ]
                      },
                      {
                        "learn": [
                          0.0001965150994
                        ],
                        "iteration": 138,
                        "passed_time": 4.996565039,
                        "remaining_time": 30.94994604,
                        "test": [
                          0.0002085353115
                        ]
                      },
                      {
                        "learn": [
                          0.0001941781854
                        ],
                        "iteration": 139,
                        "passed_time": 5.065368291,
                        "remaining_time": 31.11583379,
                        "test": [
                          0.0002060541627
                        ]
                      },
                      {
                        "learn": [
                          0.0001914873285
                        ],
                        "iteration": 140,
                        "passed_time": 5.116954419,
                        "remaining_time": 31.17350246,
                        "test": [
                          0.0002032141205
                        ]
                      },
                      {
                        "learn": [
                          0.0001893022674
                        ],
                        "iteration": 141,
                        "passed_time": 5.152318166,
                        "remaining_time": 31.13161258,
                        "test": [
                          0.0002008910655
                        ]
                      },
                      {
                        "learn": [
                          0.0001868128925
                        ],
                        "iteration": 142,
                        "passed_time": 5.184912001,
                        "remaining_time": 31.07321388,
                        "test": [
                          0.0001982055685
                        ]
                      },
                      {
                        "learn": [
                          0.0001847756147
                        ],
                        "iteration": 143,
                        "passed_time": 5.244423485,
                        "remaining_time": 31.17518405,
                        "test": [
                          0.000196036426
                        ]
                      },
                      {
                        "learn": [
                          0.0001822888454
                        ],
                        "iteration": 144,
                        "passed_time": 5.282359497,
                        "remaining_time": 31.147706,
                        "test": [
                          0.0001934126305
                        ]
                      },
                      {
                        "learn": [
                          0.0001799456037
                        ],
                        "iteration": 145,
                        "passed_time": 5.32173645,
                        "remaining_time": 31.12851321,
                        "test": [
                          0.0001909355513
                        ]
                      },
                      {
                        "learn": [
                          0.0001780734422
                        ],
                        "iteration": 146,
                        "passed_time": 5.386905409,
                        "remaining_time": 31.25870962,
                        "test": [
                          0.0001894470853
                        ]
                      },
                      {
                        "learn": [
                          0.0001760946027
                        ],
                        "iteration": 147,
                        "passed_time": 5.448765181,
                        "remaining_time": 31.36721577,
                        "test": [
                          0.0001873423614
                        ]
                      },
                      {
                        "learn": [
                          0.0001738063749
                        ],
                        "iteration": 148,
                        "passed_time": 5.463681365,
                        "remaining_time": 31.20532108,
                        "test": [
                          0.0001849217727
                        ]
                      },
                      {
                        "learn": [
                          0.0001720922575
                        ],
                        "iteration": 149,
                        "passed_time": 5.480660563,
                        "remaining_time": 31.05707653,
                        "test": [
                          0.0001831990198
                        ]
                      },
                      {
                        "learn": [
                          0.0001699599026
                        ],
                        "iteration": 150,
                        "passed_time": 5.494546568,
                        "remaining_time": 30.89317905,
                        "test": [
                          0.0001809381501
                        ]
                      },
                      {
                        "learn": [
                          0.0001682716295
                        ],
                        "iteration": 151,
                        "passed_time": 5.513609796,
                        "remaining_time": 30.76013886,
                        "test": [
                          0.0001791326033
                        ]
                      },
                      {
                        "learn": [
                          0.0001662935469
                        ],
                        "iteration": 152,
                        "passed_time": 5.528343441,
                        "remaining_time": 30.60462023,
                        "test": [
                          0.0001770302988
                        ]
                      },
                      {
                        "learn": [
                          0.0001643910744
                        ],
                        "iteration": 153,
                        "passed_time": 5.549112971,
                        "remaining_time": 30.48408814,
                        "test": [
                          0.0001750089892
                        ]
                      },
                      {
                        "learn": [
                          0.0001624498662
                        ],
                        "iteration": 154,
                        "passed_time": 5.654703511,
                        "remaining_time": 30.82725462,
                        "test": [
                          0.0001729489812
                        ]
                      },
                      {
                        "learn": [
                          0.00016080987
                        ],
                        "iteration": 155,
                        "passed_time": 5.711838516,
                        "remaining_time": 30.90251094,
                        "test": [
                          0.0001713014041
                        ]
                      },
                      {
                        "learn": [
                          0.0001589005238
                        ],
                        "iteration": 156,
                        "passed_time": 5.754807827,
                        "remaining_time": 30.90001909,
                        "test": [
                          0.0001692762854
                        ]
                      },
                      {
                        "learn": [
                          0.0001575206837
                        ],
                        "iteration": 157,
                        "passed_time": 5.808739508,
                        "remaining_time": 30.95543459,
                        "test": [
                          0.0001678884426
                        ]
                      },
                      {
                        "learn": [
                          0.0001559119414
                        ],
                        "iteration": 158,
                        "passed_time": 5.864799324,
                        "remaining_time": 31.02073101,
                        "test": [
                          0.0001661744493
                        ]
                      },
                      {
                        "learn": [
                          0.00015443123
                        ],
                        "iteration": 159,
                        "passed_time": 5.925829658,
                        "remaining_time": 31.1106057,
                        "test": [
                          0.0001645899509
                        ]
                      },
                      {
                        "learn": [
                          0.0001529710403
                        ],
                        "iteration": 160,
                        "passed_time": 5.965355221,
                        "remaining_time": 31.08654056,
                        "test": [
                          0.0001630227731
                        ]
                      },
                      {
                        "learn": [
                          0.0001512488705
                        ],
                        "iteration": 161,
                        "passed_time": 5.979740776,
                        "remaining_time": 30.93223932,
                        "test": [
                          0.0001611936772
                        ]
                      },
                      {
                        "learn": [
                          0.0001498455435
                        ],
                        "iteration": 162,
                        "passed_time": 5.998042826,
                        "remaining_time": 30.79976592,
                        "test": [
                          0.0001596449118
                        ]
                      },
                      {
                        "learn": [
                          0.000148268812
                        ],
                        "iteration": 163,
                        "passed_time": 6.029632485,
                        "remaining_time": 30.73641925,
                        "test": [
                          0.0001579651254
                        ]
                      },
                      {
                        "learn": [
                          0.0001469547182
                        ],
                        "iteration": 164,
                        "passed_time": 6.075793739,
                        "remaining_time": 30.74719862,
                        "test": [
                          0.0001566453987
                        ]
                      },
                      {
                        "learn": [
                          0.0001457678736
                        ],
                        "iteration": 165,
                        "passed_time": 6.098997217,
                        "remaining_time": 30.64194987,
                        "test": [
                          0.0001553654001
                        ]
                      },
                      {
                        "learn": [
                          0.000144469537
                        ],
                        "iteration": 166,
                        "passed_time": 6.16581481,
                        "remaining_time": 30.75523195,
                        "test": [
                          0.0001540613562
                        ]
                      },
                      {
                        "learn": [
                          0.0001431788309
                        ],
                        "iteration": 167,
                        "passed_time": 6.212661899,
                        "remaining_time": 30.76746845,
                        "test": [
                          0.0001526789478
                        ]
                      },
                      {
                        "learn": [
                          0.0001418955816
                        ],
                        "iteration": 168,
                        "passed_time": 6.229212819,
                        "remaining_time": 30.63003463,
                        "test": [
                          0.0001513051252
                        ]
                      },
                      {
                        "learn": [
                          0.0001406198388
                        ],
                        "iteration": 169,
                        "passed_time": 6.254117579,
                        "remaining_time": 30.53480936,
                        "test": [
                          0.0001499410548
                        ]
                      },
                      {
                        "learn": [
                          0.0001394699803
                        ],
                        "iteration": 170,
                        "passed_time": 6.268447532,
                        "remaining_time": 30.38914037,
                        "test": [
                          0.0001487861838
                        ]
                      },
                      {
                        "learn": [
                          0.000138208146
                        ],
                        "iteration": 171,
                        "passed_time": 6.287306552,
                        "remaining_time": 30.26680131,
                        "test": [
                          0.0001474372007
                        ]
                      },
                      {
                        "learn": [
                          0.000137191058
                        ],
                        "iteration": 172,
                        "passed_time": 6.303234402,
                        "remaining_time": 30.13164654,
                        "test": [
                          0.0001464153358
                        ]
                      },
                      {
                        "learn": [
                          0.0001357174064
                        ],
                        "iteration": 173,
                        "passed_time": 6.322079166,
                        "remaining_time": 30.01170914,
                        "test": [
                          0.0001448496469
                        ]
                      },
                      {
                        "learn": [
                          0.000134716423
                        ],
                        "iteration": 174,
                        "passed_time": 6.348730799,
                        "remaining_time": 29.92973091,
                        "test": [
                          0.0001437653734
                        ]
                      },
                      {
                        "learn": [
                          0.0001335106449
                        ],
                        "iteration": 175,
                        "passed_time": 6.368770592,
                        "remaining_time": 29.81742595,
                        "test": [
                          0.0001424727318
                        ]
                      },
                      {
                        "learn": [
                          0.0001321886228
                        ],
                        "iteration": 176,
                        "passed_time": 6.410604638,
                        "remaining_time": 29.80750066,
                        "test": [
                          0.0001410633499
                        ]
                      },
                      {
                        "learn": [
                          0.0001308787971
                        ],
                        "iteration": 177,
                        "passed_time": 6.429974181,
                        "remaining_time": 29.69347627,
                        "test": [
                          0.000139667703
                        ]
                      },
                      {
                        "learn": [
                          0.00012969998
                        ],
                        "iteration": 178,
                        "passed_time": 6.44479607,
                        "remaining_time": 29.55965125,
                        "test": [
                          0.0001384049009
                        ]
                      },
                      {
                        "learn": [
                          0.0001287368513
                        ],
                        "iteration": 179,
                        "passed_time": 6.460184641,
                        "remaining_time": 29.42973003,
                        "test": [
                          0.0001373647353
                        ]
                      },
                      {
                        "learn": [
                          0.0001276606053
                        ],
                        "iteration": 180,
                        "passed_time": 6.477052519,
                        "remaining_time": 29.30776803,
                        "test": [
                          0.0001362127924
                        ]
                      },
                      {
                        "learn": [
                          0.0001265900791
                        ],
                        "iteration": 181,
                        "passed_time": 6.493412142,
                        "remaining_time": 29.18467655,
                        "test": [
                          0.0001350675371
                        ]
                      },
                      {
                        "learn": [
                          0.0001254459156
                        ],
                        "iteration": 182,
                        "passed_time": 6.508848834,
                        "remaining_time": 29.05863113,
                        "test": [
                          0.0001338438304
                        ]
                      },
                      {
                        "learn": [
                          0.0001243125092
                        ],
                        "iteration": 183,
                        "passed_time": 6.523599911,
                        "remaining_time": 28.93074743,
                        "test": [
                          0.0001326326675
                        ]
                      },
                      {
                        "learn": [
                          0.0001233810067
                        ],
                        "iteration": 184,
                        "passed_time": 6.538727508,
                        "remaining_time": 28.80574551,
                        "test": [
                          0.0001316978647
                        ]
                      },
                      {
                        "learn": [
                          0.0001223843659
                        ],
                        "iteration": 185,
                        "passed_time": 6.554536634,
                        "remaining_time": 28.68490763,
                        "test": [
                          0.0001306250555
                        ]
                      },
                      {
                        "learn": [
                          0.0001214655189
                        ],
                        "iteration": 186,
                        "passed_time": 6.570381926,
                        "remaining_time": 28.5653503,
                        "test": [
                          0.0001296369757
                        ]
                      },
                      {
                        "learn": [
                          0.0001203670391
                        ],
                        "iteration": 187,
                        "passed_time": 6.609778704,
                        "remaining_time": 28.54861866,
                        "test": [
                          0.0001284644864
                        ]
                      },
                      {
                        "learn": [
                          0.0001193587975
                        ],
                        "iteration": 188,
                        "passed_time": 6.659243179,
                        "remaining_time": 28.57484772,
                        "test": [
                          0.0001273563785
                        ]
                      },
                      {
                        "learn": [
                          0.0001184570229
                        ],
                        "iteration": 189,
                        "passed_time": 6.712112185,
                        "remaining_time": 28.61479405,
                        "test": [
                          0.0001264519611
                        ]
                      },
                      {
                        "learn": [
                          0.0001173831839
                        ],
                        "iteration": 190,
                        "passed_time": 6.780925606,
                        "remaining_time": 28.7213027,
                        "test": [
                          0.0001253071152
                        ]
                      },
                      {
                        "learn": [
                          0.0001164375991
                        ],
                        "iteration": 191,
                        "passed_time": 6.83327532,
                        "remaining_time": 28.75670031,
                        "test": [
                          0.0001242916898
                        ]
                      },
                      {
                        "learn": [
                          0.0001156724412
                        ],
                        "iteration": 192,
                        "passed_time": 6.885834655,
                        "remaining_time": 28.79206511,
                        "test": [
                          0.0001234633788
                        ]
                      },
                      {
                        "learn": [
                          0.0001146229826
                        ],
                        "iteration": 193,
                        "passed_time": 6.936152578,
                        "remaining_time": 28.81721123,
                        "test": [
                          0.0001223462259
                        ]
                      },
                      {
                        "learn": [
                          0.0001138682841
                        ],
                        "iteration": 194,
                        "passed_time": 6.986831622,
                        "remaining_time": 28.84307413,
                        "test": [
                          0.0001215296274
                        ]
                      },
                      {
                        "learn": [
                          0.0001128333048
                        ],
                        "iteration": 195,
                        "passed_time": 7.039783582,
                        "remaining_time": 28.87747959,
                        "test": [
                          0.0001204289887
                        ]
                      },
                      {
                        "learn": [
                          0.0001120446103
                        ],
                        "iteration": 196,
                        "passed_time": 7.093660051,
                        "remaining_time": 28.9147666,
                        "test": [
                          0.0001195753048
                        ]
                      },
                      {
                        "learn": [
                          0.0001111864473
                        ],
                        "iteration": 197,
                        "passed_time": 7.160513642,
                        "remaining_time": 29.00369667,
                        "test": [
                          0.0001187148713
                        ]
                      },
                      {
                        "learn": [
                          0.000110570239
                        ],
                        "iteration": 198,
                        "passed_time": 7.254301893,
                        "remaining_time": 29.19947646,
                        "test": [
                          0.0001180960078
                        ]
                      },
                      {
                        "learn": [
                          0.0001095628287
                        ],
                        "iteration": 199,
                        "passed_time": 7.333014745,
                        "remaining_time": 29.33205898,
                        "test": [
                          0.0001170255188
                        ]
                      },
                      {
                        "learn": [
                          0.0001086821837
                        ],
                        "iteration": 200,
                        "passed_time": 7.385553195,
                        "remaining_time": 29.35849255,
                        "test": [
                          0.0001160826388
                        ]
                      },
                      {
                        "learn": [
                          0.0001079618162
                        ],
                        "iteration": 201,
                        "passed_time": 7.454598962,
                        "remaining_time": 29.4493563,
                        "test": [
                          0.0001153058429
                        ]
                      },
                      {
                        "learn": [
                          0.0001072452204
                        ],
                        "iteration": 202,
                        "passed_time": 7.530225044,
                        "remaining_time": 29.5644796,
                        "test": [
                          0.0001145865176
                        ]
                      },
                      {
                        "learn": [
                          0.0001063822807
                        ],
                        "iteration": 203,
                        "passed_time": 7.627886355,
                        "remaining_time": 29.76371342,
                        "test": [
                          0.0001136635513
                        ]
                      },
                      {
                        "learn": [
                          0.0001057932692
                        ],
                        "iteration": 204,
                        "passed_time": 7.685777915,
                        "remaining_time": 29.80582167,
                        "test": [
                          0.0001130717482
                        ]
                      },
                      {
                        "learn": [
                          0.0001050889194
                        ],
                        "iteration": 205,
                        "passed_time": 7.759669515,
                        "remaining_time": 29.9086291,
                        "test": [
                          0.0001123644207
                        ]
                      },
                      {
                        "learn": [
                          0.0001043883167
                        ],
                        "iteration": 206,
                        "passed_time": 7.844549443,
                        "remaining_time": 30.05182468,
                        "test": [
                          0.0001116606045
                        ]
                      },
                      {
                        "learn": [
                          0.0001036913307
                        ],
                        "iteration": 207,
                        "passed_time": 7.901705349,
                        "remaining_time": 30.08726268,
                        "test": [
                          0.0001109102361
                        ]
                      },
                      {
                        "learn": [
                          0.0001031166558
                        ],
                        "iteration": 208,
                        "passed_time": 7.996733004,
                        "remaining_time": 30.2651474,
                        "test": [
                          0.0001102823649
                        ]
                      },
                      {
                        "learn": [
                          0.0001022845482
                        ],
                        "iteration": 209,
                        "passed_time": 8.020947008,
                        "remaining_time": 30.17403874,
                        "test": [
                          0.0001093931465
                        ]
                      },
                      {
                        "learn": [
                          0.0001015988342
                        ],
                        "iteration": 210,
                        "passed_time": 8.048241575,
                        "remaining_time": 30.09508343,
                        "test": [
                          0.0001086559547
                        ]
                      },
                      {
                        "learn": [
                          0.0001010354686
                        ],
                        "iteration": 211,
                        "passed_time": 8.067833426,
                        "remaining_time": 29.98798462,
                        "test": [
                          0.0001080414338
                        ]
                      },
                      {
                        "learn": [
                          0.0001004754281
                        ],
                        "iteration": 212,
                        "passed_time": 8.08217389,
                        "remaining_time": 29.86230447,
                        "test": [
                          0.0001074308212
                        ]
                      },
                      {
                        "learn": [
                          0.00009979967099
                        ],
                        "iteration": 213,
                        "passed_time": 8.108478686,
                        "remaining_time": 29.78160863,
                        "test": [
                          0.0001067053914
                        ]
                      },
                      {
                        "learn": [
                          0.00009899137915
                        ],
                        "iteration": 214,
                        "passed_time": 8.165512304,
                        "remaining_time": 29.81361469,
                        "test": [
                          0.0001058430596
                        ]
                      },
                      {
                        "learn": [
                          0.0000984415809
                        ],
                        "iteration": 215,
                        "passed_time": 8.23943173,
                        "remaining_time": 29.90608554,
                        "test": [
                          0.0001052911459
                        ]
                      },
                      {
                        "learn": [
                          0.00009776254826
                        ],
                        "iteration": 216,
                        "passed_time": 8.305008637,
                        "remaining_time": 29.96692056,
                        "test": [
                          0.000104559252
                        ]
                      },
                      {
                        "learn": [
                          0.00009721990901
                        ],
                        "iteration": 217,
                        "passed_time": 8.418006904,
                        "remaining_time": 30.19670366,
                        "test": [
                          0.0001039687578
                        ]
                      },
                      {
                        "learn": [
                          0.00009672917568
                        ],
                        "iteration": 218,
                        "passed_time": 8.442639387,
                        "remaining_time": 30.10822539,
                        "test": [
                          0.0001036391953
                        ]
                      },
                      {
                        "learn": [
                          0.0000960726871
                        ],
                        "iteration": 219,
                        "passed_time": 8.552819895,
                        "remaining_time": 30.32363417,
                        "test": [
                          0.0001029801694
                        ]
                      },
                      {
                        "learn": [
                          0.00009556189738
                        ],
                        "iteration": 220,
                        "passed_time": 8.570416107,
                        "remaining_time": 30.20974727,
                        "test": [
                          0.0001023983479
                        ]
                      },
                      {
                        "learn": [
                          0.00009490347946
                        ],
                        "iteration": 221,
                        "passed_time": 8.601383548,
                        "remaining_time": 30.14358739,
                        "test": [
                          0.000101688266
                        ]
                      },
                      {
                        "learn": [
                          0.00009425063862
                        ],
                        "iteration": 222,
                        "passed_time": 8.619984037,
                        "remaining_time": 30.0346529,
                        "test": [
                          0.0001009845552
                        ]
                      },
                      {
                        "learn": [
                          0.00009372612643
                        ],
                        "iteration": 223,
                        "passed_time": 8.640009771,
                        "remaining_time": 29.93146242,
                        "test": [
                          0.0001004579214
                        ]
                      },
                      {
                        "learn": [
                          0.00009308238014
                        ],
                        "iteration": 224,
                        "passed_time": 8.660934234,
                        "remaining_time": 29.83210681,
                        "test": [
                          0.00009976412409
                        ]
                      },
                      {
                        "learn": [
                          0.00009256435076
                        ],
                        "iteration": 225,
                        "passed_time": 8.693840834,
                        "remaining_time": 29.77448144,
                        "test": [
                          0.00009920135401
                        ]
                      },
                      {
                        "learn": [
                          0.00009204883386
                        ],
                        "iteration": 226,
                        "passed_time": 8.760661026,
                        "remaining_time": 29.83255935,
                        "test": [
                          0.00009881805545
                        ]
                      },
                      {
                        "learn": [
                          0.00009141723431
                        ],
                        "iteration": 227,
                        "passed_time": 8.824995542,
                        "remaining_time": 29.88112526,
                        "test": [
                          0.00009813724236
                        ]
                      },
                      {
                        "learn": [
                          0.00009090795207
                        ],
                        "iteration": 228,
                        "passed_time": 8.852573337,
                        "remaining_time": 29.80495215,
                        "test": [
                          0.00009758413756
                        ]
                      },
                      {
                        "learn": [
                          0.00009040118852
                        ],
                        "iteration": 229,
                        "passed_time": 8.911517773,
                        "remaining_time": 29.83421167,
                        "test": [
                          0.00009703353903
                        ]
                      },
                      {
                        "learn": [
                          0.00008978136969
                        ],
                        "iteration": 230,
                        "passed_time": 8.946100593,
                        "remaining_time": 29.7816076,
                        "test": [
                          0.00009636609481
                        ]
                      },
                      {
                        "learn": [
                          0.00008928029489
                        ],
                        "iteration": 231,
                        "passed_time": 8.970447767,
                        "remaining_time": 29.69527537,
                        "test": [
                          0.00009582274214
                        ]
                      },
                      {
                        "learn": [
                          0.00008878155265
                        ],
                        "iteration": 232,
                        "passed_time": 8.990597919,
                        "remaining_time": 29.59565925,
                        "test": [
                          0.00009528185853
                        ]
                      },
                      {
                        "learn": [
                          0.00008817296863
                        ],
                        "iteration": 233,
                        "passed_time": 9.011349801,
                        "remaining_time": 29.49869208,
                        "test": [
                          0.00009462702011
                        ]
                      },
                      {
                        "learn": [
                          0.00008767939403
                        ],
                        "iteration": 234,
                        "passed_time": 9.033140953,
                        "remaining_time": 29.40575672,
                        "test": [
                          0.00009413145414
                        ]
                      },
                      {
                        "learn": [
                          0.0000871884808
                        ],
                        "iteration": 235,
                        "passed_time": 9.081047863,
                        "remaining_time": 29.3979685,
                        "test": [
                          0.00009359972091
                        ]
                      },
                      {
                        "learn": [
                          0.00008659062288
                        ],
                        "iteration": 236,
                        "passed_time": 9.118025178,
                        "remaining_time": 29.3546549,
                        "test": [
                          0.00009295699822
                        ]
                      },
                      {
                        "learn": [
                          0.00008611609348
                        ],
                        "iteration": 237,
                        "passed_time": 9.134907967,
                        "remaining_time": 29.24705828,
                        "test": [
                          0.00009243803829
                        ]
                      },
                      {
                        "learn": [
                          0.00008552707577
                        ],
                        "iteration": 238,
                        "passed_time": 9.170182169,
                        "remaining_time": 29.19878088,
                        "test": [
                          0.00009180522903
                        ]
                      },
                      {
                        "learn": [
                          0.00008506131212
                        ],
                        "iteration": 239,
                        "passed_time": 9.196791007,
                        "remaining_time": 29.12317152,
                        "test": [
                          0.00009129635003
                        ]
                      },
                      {
                        "learn": [
                          0.00008448072516
                        ],
                        "iteration": 240,
                        "passed_time": 9.212333807,
                        "remaining_time": 29.01311767,
                        "test": [
                          0.00009067329911
                        ]
                      },
                      {
                        "learn": [
                          0.00008400652455
                        ],
                        "iteration": 241,
                        "passed_time": 9.235684636,
                        "remaining_time": 28.92830146,
                        "test": [
                          0.00009016120042
                        ]
                      },
                      {
                        "learn": [
                          0.00008365296007
                        ],
                        "iteration": 242,
                        "passed_time": 9.284274203,
                        "remaining_time": 28.92261552,
                        "test": [
                          0.00008980558873
                        ]
                      },
                      {
                        "learn": [
                          0.0000830820384
                        ],
                        "iteration": 243,
                        "passed_time": 9.32055526,
                        "remaining_time": 28.87844171,
                        "test": [
                          0.00008919317086
                        ]
                      },
                      {
                        "learn": [
                          0.00008251503122
                        ],
                        "iteration": 244,
                        "passed_time": 9.349583704,
                        "remaining_time": 28.81198244,
                        "test": [
                          0.00008858525684
                        ]
                      },
                      {
                        "learn": [
                          0.00008216915306
                        ],
                        "iteration": 245,
                        "passed_time": 9.417805698,
                        "remaining_time": 28.8659573,
                        "test": [
                          0.00008820324243
                        ]
                      },
                      {
                        "learn": [
                          0.0000817059143
                        ],
                        "iteration": 246,
                        "passed_time": 9.442125598,
                        "remaining_time": 28.78510354,
                        "test": [
                          0.0000877381984
                        ]
                      },
                      {
                        "learn": [
                          0.000081266938
                        ],
                        "iteration": 247,
                        "passed_time": 9.494933973,
                        "remaining_time": 28.79109011,
                        "test": [
                          0.00008725914034
                        ]
                      },
                      {
                        "learn": [
                          0.00008071271034
                        ],
                        "iteration": 248,
                        "passed_time": 9.561642227,
                        "remaining_time": 28.83852736,
                        "test": [
                          0.00008666560017
                        ]
                      },
                      {
                        "learn": [
                          0.000080281135
                        ],
                        "iteration": 249,
                        "passed_time": 9.585609242,
                        "remaining_time": 28.75682773,
                        "test": [
                          0.00008619498527
                        ]
                      },
                      {
                        "learn": [
                          0.00007997020819
                        ],
                        "iteration": 250,
                        "passed_time": 9.610609637,
                        "remaining_time": 28.67867178,
                        "test": [
                          0.00008585841878
                        ]
                      },
                      {
                        "learn": [
                          0.00007954304984
                        ],
                        "iteration": 251,
                        "passed_time": 9.644010813,
                        "remaining_time": 28.62587337,
                        "test": [
                          0.00008540418771
                        ]
                      },
                      {
                        "learn": [
                          0.00007909231763
                        ],
                        "iteration": 252,
                        "passed_time": 9.661946997,
                        "remaining_time": 28.52756683,
                        "test": [
                          0.00008495185496
                        ]
                      },
                      {
                        "learn": [
                          0.00007876236423
                        ],
                        "iteration": 253,
                        "passed_time": 9.685553018,
                        "remaining_time": 28.44654548,
                        "test": [
                          0.00008461997223
                        ]
                      },
                      {
                        "learn": [
                          0.00007843412924
                        ],
                        "iteration": 254,
                        "passed_time": 9.702800951,
                        "remaining_time": 28.34739886,
                        "test": [
                          0.00008428983893
                        ]
                      },
                      {
                        "learn": [
                          0.00007798883763
                        ],
                        "iteration": 255,
                        "passed_time": 9.722176491,
                        "remaining_time": 28.25507543,
                        "test": [
                          0.00008381078707
                        ]
                      },
                      {
                        "learn": [
                          0.00007754507212
                        ],
                        "iteration": 256,
                        "passed_time": 9.765080284,
                        "remaining_time": 28.23134106,
                        "test": [
                          0.0000833648937
                        ]
                      },
                      {
                        "learn": [
                          0.000077251652
                        ],
                        "iteration": 257,
                        "passed_time": 9.822123791,
                        "remaining_time": 28.24812346,
                        "test": [
                          0.00008303453707
                        ]
                      },
                      {
                        "learn": [
                          0.00007681163969
                        ],
                        "iteration": 258,
                        "passed_time": 9.876193975,
                        "remaining_time": 28.25582909,
                        "test": [
                          0.0000825925458
                        ]
                      },
                      {
                        "learn": [
                          0.00007628589298
                        ],
                        "iteration": 259,
                        "passed_time": 9.951734937,
                        "remaining_time": 28.32416867,
                        "test": [
                          0.00008203053256
                        ]
                      },
                      {
                        "learn": [
                          0.0000760012138
                        ],
                        "iteration": 260,
                        "passed_time": 10.00581063,
                        "remaining_time": 28.33062858,
                        "test": [
                          0.00008170958686
                        ]
                      },
                      {
                        "learn": [
                          0.00007548168934
                        ],
                        "iteration": 261,
                        "passed_time": 10.06015415,
                        "remaining_time": 28.33738076,
                        "test": [
                          0.00008115468921
                        ]
                      },
                      {
                        "learn": [
                          0.00007516879598
                        ],
                        "iteration": 262,
                        "passed_time": 10.11522761,
                        "remaining_time": 28.34571387,
                        "test": [
                          0.00008083946947
                        ]
                      },
                      {
                        "learn": [
                          0.00007477344373
                        ],
                        "iteration": 263,
                        "passed_time": 10.13234671,
                        "remaining_time": 28.24775446,
                        "test": [
                          0.00008040941402
                        ]
                      },
                      {
                        "learn": [
                          0.00007426228799
                        ],
                        "iteration": 264,
                        "passed_time": 10.15175983,
                        "remaining_time": 28.15676783,
                        "test": [
                          0.00007986343101
                        ]
                      },
                      {
                        "learn": [
                          0.00007395481661
                        ],
                        "iteration": 265,
                        "passed_time": 10.1637977,
                        "remaining_time": 28.04596809,
                        "test": [
                          0.00007955406751
                        ]
                      },
                      {
                        "learn": [
                          0.00007356742985
                        ],
                        "iteration": 266,
                        "passed_time": 10.18761966,
                        "remaining_time": 27.96825921,
                        "test": [
                          0.00007913265995
                        ]
                      },
                      {
                        "learn": [
                          0.00007318309528
                        ],
                        "iteration": 267,
                        "passed_time": 10.21757689,
                        "remaining_time": 27.90771,
                        "test": [
                          0.00007871444105
                        ]
                      },
                      {
                        "learn": [
                          0.0000728810707
                        ],
                        "iteration": 268,
                        "passed_time": 10.23370166,
                        "remaining_time": 27.80979894,
                        "test": [
                          0.00007841044372
                        ]
                      },
                      {
                        "learn": [
                          0.00007242349587
                        ],
                        "iteration": 269,
                        "passed_time": 10.29521092,
                        "remaining_time": 27.8351999,
                        "test": [
                          0.00007790671995
                        ]
                      },
                      {
                        "learn": [
                          0.00007212457932
                        ],
                        "iteration": 270,
                        "passed_time": 10.40436359,
                        "remaining_time": 27.98812199,
                        "test": [
                          0.00007760570036
                        ]
                      },
                      {
                        "learn": [
                          0.0000717490043
                        ],
                        "iteration": 271,
                        "passed_time": 10.46712999,
                        "remaining_time": 28.01496556,
                        "test": [
                          0.00007719746934
                        ]
                      },
                      {
                        "learn": [
                          0.0000713761837
                        ],
                        "iteration": 272,
                        "passed_time": 10.5088265,
                        "remaining_time": 27.98504346,
                        "test": [
                          0.00007679231533
                        ]
                      },
                      {
                        "learn": [
                          0.00007108221766
                        ],
                        "iteration": 273,
                        "passed_time": 10.53998323,
                        "remaining_time": 27.92710886,
                        "test": [
                          0.00007646980631
                        ]
                      },
                      {
                        "learn": [
                          0.00007078965985
                        ],
                        "iteration": 274,
                        "passed_time": 10.56311951,
                        "remaining_time": 27.84822416,
                        "test": [
                          0.00007614880478
                        ]
                      },
                      {
                        "learn": [
                          0.00007049816906
                        ],
                        "iteration": 275,
                        "passed_time": 10.60014106,
                        "remaining_time": 27.80616713,
                        "test": [
                          0.0000758552916
                        ]
                      },
                      {
                        "learn": [
                          0.00007013327672
                        ],
                        "iteration": 276,
                        "passed_time": 10.61415852,
                        "remaining_time": 27.70410329,
                        "test": [
                          0.0000754591701
                        ]
                      },
                      {
                        "learn": [
                          0.00006965194813
                        ],
                        "iteration": 277,
                        "passed_time": 10.62905642,
                        "remaining_time": 27.60495948,
                        "test": [
                          0.00007494703419
                        ]
                      },
                      {
                        "learn": [
                          0.00006936536443
                        ],
                        "iteration": 278,
                        "passed_time": 10.64449799,
                        "remaining_time": 27.50782455,
                        "test": [
                          0.00007463306759
                        ]
                      },
                      {
                        "learn": [
                          0.00006904515696
                        ],
                        "iteration": 279,
                        "passed_time": 10.67106879,
                        "remaining_time": 27.43989117,
                        "test": [
                          0.0000742704706
                        ]
                      },
                      {
                        "learn": [
                          0.00006876115398
                        ],
                        "iteration": 280,
                        "passed_time": 10.68582399,
                        "remaining_time": 27.34201939,
                        "test": [
                          0.00007395948796
                        ]
                      },
                      {
                        "learn": [
                          0.00006847847238
                        ],
                        "iteration": 281,
                        "passed_time": 10.70230147,
                        "remaining_time": 27.24912218,
                        "test": [
                          0.00007365042845
                        ]
                      },
                      {
                        "learn": [
                          0.00006819696947
                        ],
                        "iteration": 282,
                        "passed_time": 10.7197059,
                        "remaining_time": 27.15911352,
                        "test": [
                          0.00007334252281
                        ]
                      },
                      {
                        "learn": [
                          0.00006784554524
                        ],
                        "iteration": 283,
                        "passed_time": 10.73540589,
                        "remaining_time": 27.06531908,
                        "test": [
                          0.00007296179876
                        ]
                      },
                      {
                        "learn": [
                          0.00006756655481
                        ],
                        "iteration": 284,
                        "passed_time": 10.75065071,
                        "remaining_time": 26.97093072,
                        "test": [
                          0.00007268116436
                        ]
                      },
                      {
                        "learn": [
                          0.0000672190575
                        ],
                        "iteration": 285,
                        "passed_time": 10.76841976,
                        "remaining_time": 26.88339757,
                        "test": [
                          0.00007230515509
                        ]
                      },
                      {
                        "learn": [
                          0.00006687394859
                        ],
                        "iteration": 286,
                        "passed_time": 10.79961034,
                        "remaining_time": 26.82969399,
                        "test": [
                          0.00007193126746
                        ]
                      },
                      {
                        "learn": [
                          0.00006653101096
                        ],
                        "iteration": 287,
                        "passed_time": 10.85042876,
                        "remaining_time": 26.8246711,
                        "test": [
                          0.00007156028934
                        ]
                      },
                      {
                        "learn": [
                          0.00006637667662
                        ],
                        "iteration": 288,
                        "passed_time": 10.86875226,
                        "remaining_time": 26.73938705,
                        "test": [
                          0.00007140421798
                        ]
                      },
                      {
                        "learn": [
                          0.00006598556146
                        ],
                        "iteration": 289,
                        "passed_time": 10.88428713,
                        "remaining_time": 26.64773747,
                        "test": [
                          0.00007101158913
                        ]
                      },
                      {
                        "learn": [
                          0.00006576667196
                        ],
                        "iteration": 290,
                        "passed_time": 10.89892689,
                        "remaining_time": 26.55443013,
                        "test": [
                          0.00007076498794
                        ]
                      },
                      {
                        "learn": [
                          0.00006531222997
                        ],
                        "iteration": 291,
                        "passed_time": 10.91515846,
                        "remaining_time": 26.46552119,
                        "test": [
                          0.00007028310722
                        ]
                      },
                      {
                        "learn": [
                          0.00006516297021
                        ],
                        "iteration": 292,
                        "passed_time": 10.93043716,
                        "remaining_time": 26.37480912,
                        "test": [
                          0.00007010950435
                        ]
                      },
                      {
                        "learn": [
                          0.00006471204569
                        ],
                        "iteration": 293,
                        "passed_time": 10.9450908,
                        "remaining_time": 26.2831092,
                        "test": [
                          0.00006963146368
                        ]
                      },
                      {
                        "learn": [
                          0.00006456504406
                        ],
                        "iteration": 294,
                        "passed_time": 10.95900936,
                        "remaining_time": 26.1901749,
                        "test": [
                          0.00006948328336
                        ]
                      },
                      {
                        "learn": [
                          0.00006418152837
                        ],
                        "iteration": 295,
                        "passed_time": 10.98477303,
                        "remaining_time": 26.12594667,
                        "test": [
                          0.00006907593946
                        ]
                      },
                      {
                        "learn": [
                          0.00006397321609
                        ],
                        "iteration": 296,
                        "passed_time": 10.99941775,
                        "remaining_time": 26.03565885,
                        "test": [
                          0.00006884121825
                        ]
                      },
                      {
                        "learn": [
                          0.00006359176001
                        ],
                        "iteration": 297,
                        "passed_time": 11.0148158,
                        "remaining_time": 25.94765332,
                        "test": [
                          0.00006845832293
                        ]
                      },
                      {
                        "learn": [
                          0.00006338679771
                        ],
                        "iteration": 298,
                        "passed_time": 11.0455888,
                        "remaining_time": 25.89617977,
                        "test": [
                          0.00006822725567
                        ]
                      },
                      {
                        "learn": [
                          0.00006318369649
                        ],
                        "iteration": 299,
                        "passed_time": 11.06489761,
                        "remaining_time": 25.81809441,
                        "test": [
                          0.00006799840312
                        ]
                      },
                      {
                        "learn": [
                          0.00006285354458
                        ],
                        "iteration": 300,
                        "passed_time": 11.0834781,
                        "remaining_time": 25.73870827,
                        "test": [
                          0.00006763682973
                        ]
                      },
                      {
                        "learn": [
                          0.00006271439677
                        ],
                        "iteration": 301,
                        "passed_time": 11.10728302,
                        "remaining_time": 25.67179982,
                        "test": [
                          0.00006747508203
                        ]
                      },
                      {
                        "learn": [
                          0.00006233820138
                        ],
                        "iteration": 302,
                        "passed_time": 11.13393056,
                        "remaining_time": 25.61171486,
                        "test": [
                          0.00006709739777
                        ]
                      },
                      {
                        "learn": [
                          0.00006214029882
                        ],
                        "iteration": 303,
                        "passed_time": 11.15907964,
                        "remaining_time": 25.54841919,
                        "test": [
                          0.00006687453173
                        ]
                      },
                      {
                        "learn": [
                          0.00006190021767
                        ],
                        "iteration": 304,
                        "passed_time": 11.20432222,
                        "remaining_time": 25.53116048,
                        "test": [
                          0.00006661806674
                        ]
                      },
                      {
                        "learn": [
                          0.0000616459984
                        ],
                        "iteration": 305,
                        "passed_time": 11.24653588,
                        "remaining_time": 25.50684935,
                        "test": [
                          0.00006634175008
                        ]
                      },
                      {
                        "learn": [
                          0.00006145236395
                        ],
                        "iteration": 306,
                        "passed_time": 11.2914947,
                        "remaining_time": 25.48861832,
                        "test": [
                          0.00006612361743
                        ]
                      },
                      {
                        "learn": [
                          0.00006108118731
                        ],
                        "iteration": 307,
                        "passed_time": 11.33198265,
                        "remaining_time": 25.46016881,
                        "test": [
                          0.00006575141719
                        ]
                      },
                      {
                        "learn": [
                          0.00006094878907
                        ],
                        "iteration": 308,
                        "passed_time": 11.37244451,
                        "remaining_time": 25.43158303,
                        "test": [
                          0.00006561750526
                        ]
                      },
                      {
                        "learn": [
                          0.00006064034992
                        ],
                        "iteration": 309,
                        "passed_time": 11.41573491,
                        "remaining_time": 25.40921642,
                        "test": [
                          0.00006528499596
                        ]
                      },
                      {
                        "learn": [
                          0.00006033367261
                        ],
                        "iteration": 310,
                        "passed_time": 11.42864745,
                        "remaining_time": 25.3194151,
                        "test": [
                          0.00006495434775
                        ]
                      },
                      {
                        "learn": [
                          0.00006014757559
                        ],
                        "iteration": 311,
                        "passed_time": 11.45001484,
                        "remaining_time": 25.24875068,
                        "test": [
                          0.0000647447141
                        ]
                      },
                      {
                        "learn": [
                          0.00005978168447
                        ],
                        "iteration": 312,
                        "passed_time": 11.47685501,
                        "remaining_time": 25.19041338,
                        "test": [
                          0.0000643582889
                        ]
                      },
                      {
                        "learn": [
                          0.00005965464617
                        ],
                        "iteration": 313,
                        "passed_time": 11.51826338,
                        "remaining_time": 25.16410406,
                        "test": [
                          0.00006421054903
                        ]
                      },
                      {
                        "learn": [
                          0.00005940936016
                        ],
                        "iteration": 314,
                        "passed_time": 11.55897519,
                        "remaining_time": 25.13618414,
                        "test": [
                          0.00006394466691
                        ]
                      },
                      {
                        "learn": [
                          0.00005910936417
                        ],
                        "iteration": 315,
                        "passed_time": 11.60725841,
                        "remaining_time": 25.12457199,
                        "test": [
                          0.00006362192835
                        ]
                      },
                      {
                        "learn": [
                          0.00005898484456
                        ],
                        "iteration": 316,
                        "passed_time": 11.65183207,
                        "remaining_time": 25.10473598,
                        "test": [
                          0.00006349601912
                        ]
                      },
                      {
                        "learn": [
                          0.00005874213306
                        ],
                        "iteration": 317,
                        "passed_time": 11.69183279,
                        "remaining_time": 25.07493698,
                        "test": [
                          0.00006325207309
                        ]
                      },
                      {
                        "learn": [
                          0.0000585003459
                        ],
                        "iteration": 318,
                        "passed_time": 11.75686342,
                        "remaining_time": 25.0985078,
                        "test": [
                          0.00006299035362
                        ]
                      },
                      {
                        "learn": [
                          0.00005820520737
                        ],
                        "iteration": 319,
                        "passed_time": 11.79841094,
                        "remaining_time": 25.07162325,
                        "test": [
                          0.00006267274548
                        ]
                      },
                      {
                        "learn": [
                          0.00005803057469
                        ],
                        "iteration": 320,
                        "passed_time": 11.85682414,
                        "remaining_time": 25.08032272,
                        "test": [
                          0.00006247595958
                        ]
                      },
                      {
                        "learn": [
                          0.00005780642451
                        ],
                        "iteration": 321,
                        "passed_time": 11.88995127,
                        "remaining_time": 25.03536324,
                        "test": [
                          0.00006230027228
                        ]
                      },
                      {
                        "learn": [
                          0.00005751533696
                        ],
                        "iteration": 322,
                        "passed_time": 11.91702903,
                        "remaining_time": 24.97779769,
                        "test": [
                          0.00006198700669
                        ]
                      },
                      {
                        "learn": [
                          0.00005722568866
                        ],
                        "iteration": 323,
                        "passed_time": 11.95706643,
                        "remaining_time": 24.94745958,
                        "test": [
                          0.00006167558359
                        ]
                      },
                      {
                        "learn": [
                          0.0000570565276
                        ],
                        "iteration": 324,
                        "passed_time": 12.00524707,
                        "remaining_time": 24.93397468,
                        "test": [
                          0.00006148470977
                        ]
                      },
                      {
                        "learn": [
                          0.00005682127909
                        ],
                        "iteration": 325,
                        "passed_time": 12.05030903,
                        "remaining_time": 24.91382909,
                        "test": [
                          0.00006123042846
                        ]
                      },
                      {
                        "learn": [
                          0.00005658655168
                        ],
                        "iteration": 326,
                        "passed_time": 12.09638578,
                        "remaining_time": 24.89561965,
                        "test": [
                          0.00006105052268
                        ]
                      },
                      {
                        "learn": [
                          0.00005647140578
                        ],
                        "iteration": 327,
                        "passed_time": 12.13535954,
                        "remaining_time": 24.86268784,
                        "test": [
                          0.00006093406781
                        ]
                      },
                      {
                        "learn": [
                          0.00005623814863
                        ],
                        "iteration": 328,
                        "passed_time": 12.17363171,
                        "remaining_time": 24.82828839,
                        "test": [
                          0.00006069928457
                        ]
                      },
                      {
                        "learn": [
                          0.00005595536777
                        ],
                        "iteration": 329,
                        "passed_time": 12.2111913,
                        "remaining_time": 24.7924187,
                        "test": [
                          0.00006039493363
                        ]
                      },
                      {
                        "learn": [
                          0.00005579293767
                        ],
                        "iteration": 330,
                        "passed_time": 12.2490839,
                        "remaining_time": 24.75721188,
                        "test": [
                          0.00006021131807
                        ]
                      },
                      {
                        "learn": [
                          0.00005556232328
                        ],
                        "iteration": 331,
                        "passed_time": 12.28923991,
                        "remaining_time": 24.72654296,
                        "test": [
                          0.0000599623657
                        ]
                      },
                      {
                        "learn": [
                          0.0000554021389
                        ],
                        "iteration": 332,
                        "passed_time": 12.32887501,
                        "remaining_time": 24.69477367,
                        "test": [
                          0.00005978126262
                        ]
                      },
                      {
                        "learn": [
                          0.00005517303199
                        ],
                        "iteration": 333,
                        "passed_time": 12.3695324,
                        "remaining_time": 24.66499574,
                        "test": [
                          0.00005955058619
                        ]
                      },
                      {
                        "learn": [
                          0.00005489629969
                        ],
                        "iteration": 334,
                        "passed_time": 12.40995302,
                        "remaining_time": 24.63468287,
                        "test": [
                          0.00005925337565
                        ]
                      },
                      {
                        "learn": [
                          0.00005473976925
                        ],
                        "iteration": 335,
                        "passed_time": 12.45004106,
                        "remaining_time": 24.60365258,
                        "test": [
                          0.0000590762429
                        ]
                      },
                      {
                        "learn": [
                          0.00005446558044
                        ],
                        "iteration": 336,
                        "passed_time": 12.49002367,
                        "remaining_time": 24.57236111,
                        "test": [
                          0.00005878176816
                        ]
                      },
                      {
                        "learn": [
                          0.00005425157322
                        ],
                        "iteration": 337,
                        "passed_time": 12.53070291,
                        "remaining_time": 24.54238261,
                        "test": [
                          0.00005855456578
                        ]
                      },
                      {
                        "learn": [
                          0.00005409832451
                        ],
                        "iteration": 338,
                        "passed_time": 12.57847483,
                        "remaining_time": 24.52617068,
                        "test": [
                          0.00005838140337
                        ]
                      },
                      {
                        "learn": [
                          0.00005387397581
                        ],
                        "iteration": 339,
                        "passed_time": 12.62059465,
                        "remaining_time": 24.49880138,
                        "test": [
                          0.00005815572708
                        ]
                      },
                      {
                        "learn": [
                          0.00005367825073
                        ],
                        "iteration": 340,
                        "passed_time": 12.67853279,
                        "remaining_time": 24.50191527,
                        "test": [
                          0.00005802260301
                        ]
                      },
                      {
                        "learn": [
                          0.00005357389918
                        ],
                        "iteration": 341,
                        "passed_time": 12.71026296,
                        "remaining_time": 24.45424862,
                        "test": [
                          0.00005790077578
                        ]
                      },
                      {
                        "learn": [
                          0.00005336265257
                        ],
                        "iteration": 342,
                        "passed_time": 12.72903682,
                        "remaining_time": 24.38185769,
                        "test": [
                          0.00005767646429
                        ]
                      },
                      {
                        "learn": [
                          0.00005314070468
                        ],
                        "iteration": 343,
                        "passed_time": 12.75091893,
                        "remaining_time": 24.31570586,
                        "test": [
                          0.00005743726406
                        ]
                      },
                      {
                        "learn": [
                          0.0000530381832
                        ],
                        "iteration": 344,
                        "passed_time": 12.77608395,
                        "remaining_time": 24.25604343,
                        "test": [
                          0.00005731727931
                        ]
                      },
                      {
                        "learn": [
                          0.00005291463756
                        ],
                        "iteration": 345,
                        "passed_time": 12.79189514,
                        "remaining_time": 24.17890006,
                        "test": [
                          0.00005722062648
                        ]
                      },
                      {
                        "learn": [
                          0.00005269429021
                        ],
                        "iteration": 346,
                        "passed_time": 12.81481463,
                        "remaining_time": 24.1154869,
                        "test": [
                          0.00005699872822
                        ]
                      },
                      {
                        "learn": [
                          0.00005245330332
                        ],
                        "iteration": 347,
                        "passed_time": 12.87820629,
                        "remaining_time": 24.12813363,
                        "test": [
                          0.00005673125175
                        ]
                      },
                      {
                        "learn": [
                          0.00005235345561
                        ],
                        "iteration": 348,
                        "passed_time": 12.92290167,
                        "remaining_time": 24.10546988,
                        "test": [
                          0.00005661436263
                        ]
                      },
                      {
                        "learn": [
                          0.00005225384364
                        ],
                        "iteration": 349,
                        "passed_time": 12.95163473,
                        "remaining_time": 24.05303592,
                        "test": [
                          0.00005651340447
                        ]
                      },
                      {
                        "learn": [
                          0.00005187302654
                        ],
                        "iteration": 350,
                        "passed_time": 12.99161752,
                        "remaining_time": 24.02153781,
                        "test": [
                          0.00005611339328
                        ]
                      },
                      {
                        "learn": [
                          0.00005173125148
                        ],
                        "iteration": 351,
                        "passed_time": 13.03148885,
                        "remaining_time": 23.98978629,
                        "test": [
                          0.00005595264437
                        ]
                      },
                      {
                        "learn": [
                          0.00005159051864
                        ],
                        "iteration": 352,
                        "passed_time": 13.07353978,
                        "remaining_time": 23.96198368,
                        "test": [
                          0.00005579326026
                        ]
                      },
                      {
                        "learn": [
                          0.00005137505666
                        ],
                        "iteration": 353,
                        "passed_time": 13.10110937,
                        "remaining_time": 23.90767415,
                        "test": [
                          0.00005556152921
                        ]
                      },
                      {
                        "learn": [
                          0.0000511601468
                        ],
                        "iteration": 354,
                        "passed_time": 13.11771226,
                        "remaining_time": 23.83358988,
                        "test": [
                          0.00005533047436
                        ]
                      },
                      {
                        "learn": [
                          0.00005102205981
                        ],
                        "iteration": 355,
                        "passed_time": 13.13361376,
                        "remaining_time": 23.75855972,
                        "test": [
                          0.00005517398115
                        ]
                      },
                      {
                        "learn": [
                          0.00005092741386
                        ],
                        "iteration": 356,
                        "passed_time": 13.14837475,
                        "remaining_time": 23.68180663,
                        "test": [
                          0.000055063519
                        ]
                      },
                      {
                        "learn": [
                          0.00005055319744
                        ],
                        "iteration": 357,
                        "passed_time": 13.22941512,
                        "remaining_time": 23.7242584,
                        "test": [
                          0.00005467123756
                        ]
                      },
                      {
                        "learn": [
                          0.000050459572
                        ],
                        "iteration": 358,
                        "passed_time": 13.3093673,
                        "remaining_time": 23.76407922,
                        "test": [
                          0.00005457620388
                        ]
                      },
                      {
                        "learn": [
                          0.00005032508002
                        ],
                        "iteration": 359,
                        "passed_time": 13.39402126,
                        "remaining_time": 23.81159335,
                        "test": [
                          0.00005442379267
                        ]
                      },
                      {
                        "learn": [
                          0.00005023282558
                        ],
                        "iteration": 360,
                        "passed_time": 13.44817619,
                        "remaining_time": 23.80438944,
                        "test": [
                          0.00005431588643
                        ]
                      },
                      {
                        "learn": [
                          0.00004990301176
                        ],
                        "iteration": 361,
                        "passed_time": 13.50789821,
                        "remaining_time": 23.80673773,
                        "test": [
                          0.00005398477915
                        ]
                      },
                      {
                        "learn": [
                          0.00004977088648
                        ],
                        "iteration": 362,
                        "passed_time": 13.57051054,
                        "remaining_time": 23.81381602,
                        "test": [
                          0.00005383548838
                        ]
                      },
                      {
                        "learn": [
                          0.0000496399616
                        ],
                        "iteration": 363,
                        "passed_time": 13.64290337,
                        "remaining_time": 23.8376004,
                        "test": [
                          0.00005368694824
                        ]
                      },
                      {
                        "learn": [
                          0.00004950992695
                        ],
                        "iteration": 364,
                        "passed_time": 13.70732725,
                        "remaining_time": 23.84699398,
                        "test": [
                          0.00005353939449
                        ]
                      },
                      {
                        "learn": [
                          0.00004918280552
                        ],
                        "iteration": 365,
                        "passed_time": 13.74272089,
                        "remaining_time": 23.80569685,
                        "test": [
                          0.0000531973874
                        ]
                      },
                      {
                        "learn": [
                          0.00004909396308
                        ],
                        "iteration": 366,
                        "passed_time": 13.76665351,
                        "remaining_time": 23.74466396,
                        "test": [
                          0.00005310718017
                        ]
                      },
                      {
                        "learn": [
                          0.00004902226753
                        ],
                        "iteration": 367,
                        "passed_time": 13.79931297,
                        "remaining_time": 23.6988201,
                        "test": [
                          0.00005301749404
                        ]
                      },
                      {
                        "learn": [
                          0.00004893426569
                        ],
                        "iteration": 368,
                        "passed_time": 13.84835815,
                        "remaining_time": 23.68106772,
                        "test": [
                          0.00005291473682
                        ]
                      },
                      {
                        "learn": [
                          0.00004856985103
                        ],
                        "iteration": 369,
                        "passed_time": 13.86541363,
                        "remaining_time": 23.60867726,
                        "test": [
                          0.0000525335475
                        ]
                      },
                      {
                        "learn": [
                          0.00004844431402
                        ],
                        "iteration": 370,
                        "passed_time": 13.92434806,
                        "remaining_time": 23.60758741,
                        "test": [
                          0.00005239122342
                        ]
                      },
                      {
                        "learn": [
                          0.00004831966723
                        ],
                        "iteration": 371,
                        "passed_time": 13.97621869,
                        "remaining_time": 23.59426166,
                        "test": [
                          0.00005224996016
                        ]
                      },
                      {
                        "learn": [
                          0.00004823427092
                        ],
                        "iteration": 372,
                        "passed_time": 14.06365814,
                        "remaining_time": 23.64051917,
                        "test": [
                          0.00005215014968
                        ]
                      },
                      {
                        "learn": [
                          0.0000478733148
                        ],
                        "iteration": 373,
                        "passed_time": 14.12316465,
                        "remaining_time": 23.63930767,
                        "test": [
                          0.00005177301444
                        ]
                      },
                      {
                        "learn": [
                          0.00004776728826
                        ],
                        "iteration": 374,
                        "passed_time": 14.19220015,
                        "remaining_time": 23.65366691,
                        "test": [
                          0.00005164561633
                        ]
                      },
                      {
                        "learn": [
                          0.00004764594801
                        ],
                        "iteration": 375,
                        "passed_time": 14.22483441,
                        "remaining_time": 23.607172,
                        "test": [
                          0.00005150814971
                        ]
                      },
                      {
                        "learn": [
                          0.00004756260821
                        ],
                        "iteration": 376,
                        "passed_time": 14.27677483,
                        "remaining_time": 23.59265443,
                        "test": [
                          0.00005141093855
                        ]
                      },
                      {
                        "learn": [
                          0.00004736064847
                        ],
                        "iteration": 377,
                        "passed_time": 14.32281315,
                        "remaining_time": 23.56822692,
                        "test": [
                          0.0000512079428
                        ]
                      },
                      {
                        "learn": [
                          0.00004715926567
                        ],
                        "iteration": 378,
                        "passed_time": 14.38423968,
                        "remaining_time": 23.56889933,
                        "test": [
                          0.00005099270415
                        ]
                      },
                      {
                        "learn": [
                          0.0000470771759
                        ],
                        "iteration": 379,
                        "passed_time": 14.42623673,
                        "remaining_time": 23.53754413,
                        "test": [
                          0.00005090959699
                        ]
                      },
                      {
                        "learn": [
                          0.00004697468544
                        ],
                        "iteration": 380,
                        "passed_time": 14.46736869,
                        "remaining_time": 23.50472761,
                        "test": [
                          0.00005078646389
                        ]
                      },
                      {
                        "learn": [
                          0.00004689343317
                        ],
                        "iteration": 381,
                        "passed_time": 14.51971917,
                        "remaining_time": 23.49001688,
                        "test": [
                          0.00005070400811
                        ]
                      },
                      {
                        "learn": [
                          0.00004657482935
                        ],
                        "iteration": 382,
                        "passed_time": 14.56136346,
                        "remaining_time": 23.45786228,
                        "test": [
                          0.00005037202302
                        ]
                      },
                      {
                        "learn": [
                          0.00004649449832
                        ],
                        "iteration": 383,
                        "passed_time": 14.60339679,
                        "remaining_time": 23.42628235,
                        "test": [
                          0.0000502903458
                        ]
                      },
                      {
                        "learn": [
                          0.00004637889024
                        ],
                        "iteration": 384,
                        "passed_time": 14.64723141,
                        "remaining_time": 23.3975255,
                        "test": [
                          0.00005015969078
                        ]
                      },
                      {
                        "learn": [
                          0.00004626403281
                        ],
                        "iteration": 385,
                        "passed_time": 14.69816986,
                        "remaining_time": 23.3799904,
                        "test": [
                          0.0000500296065
                        ]
                      },
                      {
                        "learn": [
                          0.00004606649007
                        ],
                        "iteration": 386,
                        "passed_time": 14.74180684,
                        "remaining_time": 23.3507173,
                        "test": [
                          0.00004981882517
                        ]
                      },
                      {
                        "learn": [
                          0.0000458690776
                        ],
                        "iteration": 387,
                        "passed_time": 14.84359953,
                        "remaining_time": 23.41310029,
                        "test": [
                          0.00004962029604
                        ]
                      },
                      {
                        "learn": [
                          0.00004575629218
                        ],
                        "iteration": 388,
                        "passed_time": 14.91054887,
                        "remaining_time": 23.41991095,
                        "test": [
                          0.00004949236132
                        ]
                      },
                      {
                        "learn": [
                          0.00004564424811
                        ],
                        "iteration": 389,
                        "passed_time": 14.9739186,
                        "remaining_time": 23.42074447,
                        "test": [
                          0.00004936557428
                        ]
                      },
                      {
                        "learn": [
                          0.00004553301051
                        ],
                        "iteration": 390,
                        "passed_time": 15.04878276,
                        "remaining_time": 23.43915269,
                        "test": [
                          0.00004923968676
                        ]
                      },
                      {
                        "learn": [
                          0.00004530370508
                        ],
                        "iteration": 391,
                        "passed_time": 15.12672817,
                        "remaining_time": 23.4618641,
                        "test": [
                          0.0000489958555
                        ]
                      },
                      {
                        "learn": [
                          0.00004507524336
                        ],
                        "iteration": 392,
                        "passed_time": 15.21743836,
                        "remaining_time": 23.50377884,
                        "test": [
                          0.00004875290515
                        ]
                      },
                      {
                        "learn": [
                          0.00004499990937
                        ],
                        "iteration": 393,
                        "passed_time": 15.31958523,
                        "remaining_time": 23.56261079,
                        "test": [
                          0.00004866492813
                        ]
                      },
                      {
                        "learn": [
                          0.00004492500032
                        ],
                        "iteration": 394,
                        "passed_time": 15.41963223,
                        "remaining_time": 23.6174114,
                        "test": [
                          0.00004857731712
                        ]
                      },
                      {
                        "learn": [
                          0.0000446982384
                        ],
                        "iteration": 395,
                        "passed_time": 15.51532455,
                        "remaining_time": 23.66478795,
                        "test": [
                          0.00004833639847
                        ]
                      },
                      {
                        "learn": [
                          0.00004459121928
                        ],
                        "iteration": 396,
                        "passed_time": 15.62388344,
                        "remaining_time": 23.73098668,
                        "test": [
                          0.0000482151792
                        ]
                      },
                      {
                        "learn": [
                          0.00004438327611
                        ],
                        "iteration": 397,
                        "passed_time": 15.74440282,
                        "remaining_time": 23.81439824,
                        "test": [
                          0.00004798806676
                        ]
                      },
                      {
                        "learn": [
                          0.00004431013201
                        ],
                        "iteration": 398,
                        "passed_time": 15.80738765,
                        "remaining_time": 23.81012526,
                        "test": [
                          0.00004790280073
                        ]
                      },
                      {
                        "learn": [
                          0.00004423726707
                        ],
                        "iteration": 399,
                        "passed_time": 15.87443877,
                        "remaining_time": 23.81165816,
                        "test": [
                          0.00004782871057
                        ]
                      },
                      {
                        "learn": [
                          0.00004404600551
                        ],
                        "iteration": 400,
                        "passed_time": 15.93088753,
                        "remaining_time": 23.79701155,
                        "test": [
                          0.0000476255194
                        ]
                      },
                      {
                        "learn": [
                          0.00004394168498
                        ],
                        "iteration": 401,
                        "passed_time": 16.00046023,
                        "remaining_time": 23.80167964,
                        "test": [
                          0.00004750719724
                        ]
                      },
                      {
                        "learn": [
                          0.00004371930283
                        ],
                        "iteration": 402,
                        "passed_time": 16.12559478,
                        "remaining_time": 23.88828805,
                        "test": [
                          0.00004727134076
                        ]
                      },
                      {
                        "learn": [
                          0.00004361641534
                        ],
                        "iteration": 403,
                        "passed_time": 16.21711489,
                        "remaining_time": 23.9242586,
                        "test": [
                          0.00004715497895
                        ]
                      },
                      {
                        "learn": [
                          0.00004351435603
                        ],
                        "iteration": 404,
                        "passed_time": 16.28947009,
                        "remaining_time": 23.93144371,
                        "test": [
                          0.00004703947324
                        ]
                      },
                      {
                        "learn": [
                          0.00004332535881
                        ],
                        "iteration": 405,
                        "passed_time": 16.36744669,
                        "remaining_time": 23.94646141,
                        "test": [
                          0.00004683869839
                        ]
                      },
                      {
                        "learn": [
                          0.0000432554499
                        ],
                        "iteration": 406,
                        "passed_time": 16.43184463,
                        "remaining_time": 23.941238,
                        "test": [
                          0.00004676793959
                        ]
                      },
                      {
                        "learn": [
                          0.00004306700481
                        ],
                        "iteration": 407,
                        "passed_time": 16.49446579,
                        "remaining_time": 23.93314645,
                        "test": [
                          0.00004657862288
                        ]
                      },
                      {
                        "learn": [
                          0.00004299785895
                        ],
                        "iteration": 408,
                        "passed_time": 16.55414809,
                        "remaining_time": 23.92054162,
                        "test": [
                          0.00004649783898
                        ]
                      },
                      {
                        "learn": [
                          0.00004292911944
                        ],
                        "iteration": 409,
                        "passed_time": 16.61102662,
                        "remaining_time": 23.90367245,
                        "test": [
                          0.00004641762892
                        ]
                      },
                      {
                        "learn": [
                          0.00004286062186
                        ],
                        "iteration": 410,
                        "passed_time": 16.67154142,
                        "remaining_time": 23.8918197,
                        "test": [
                          0.00004633771353
                        ]
                      },
                      {
                        "learn": [
                          0.00004264298861
                        ],
                        "iteration": 411,
                        "passed_time": 16.72127007,
                        "remaining_time": 23.8643369,
                        "test": [
                          0.00004610721081
                        ]
                      },
                      {
                        "learn": [
                          0.00004254497408
                        ],
                        "iteration": 412,
                        "passed_time": 16.77481908,
                        "remaining_time": 23.84217627,
                        "test": [
                          0.00004599628959
                        ]
                      },
                      {
                        "learn": [
                          0.00004232871183
                        ],
                        "iteration": 413,
                        "passed_time": 16.82617556,
                        "remaining_time": 23.81676057,
                        "test": [
                          0.00004576714857
                        ]
                      },
                      {
                        "learn": [
                          0.00004226177447
                        ],
                        "iteration": 414,
                        "passed_time": 16.91972548,
                        "remaining_time": 23.85069737,
                        "test": [
                          0.00004569938302
                        ]
                      },
                      {
                        "learn": [
                          0.000042195321
                        ],
                        "iteration": 415,
                        "passed_time": 16.98551157,
                        "remaining_time": 23.84504509,
                        "test": [
                          0.00004562170405
                        ]
                      },
                      {
                        "learn": [
                          0.00004201012971
                        ],
                        "iteration": 416,
                        "passed_time": 17.13955006,
                        "remaining_time": 23.96248846,
                        "test": [
                          0.00004542560365
                        ]
                      },
                      {
                        "learn": [
                          0.00004194414772
                        ],
                        "iteration": 417,
                        "passed_time": 17.19093892,
                        "remaining_time": 23.93570922,
                        "test": [
                          0.00004535870972
                        ]
                      },
                      {
                        "learn": [
                          0.00004173033281
                        ],
                        "iteration": 418,
                        "passed_time": 17.25926122,
                        "remaining_time": 23.932293,
                        "test": [
                          0.00004513260228
                        ]
                      },
                      {
                        "learn": [
                          0.00004163601875
                        ],
                        "iteration": 419,
                        "passed_time": 17.34082296,
                        "remaining_time": 23.94685075,
                        "test": [
                          0.00004502567622
                        ]
                      },
                      {
                        "learn": [
                          0.00004157654439
                        ],
                        "iteration": 420,
                        "passed_time": 17.44757242,
                        "remaining_time": 23.99559247,
                        "test": [
                          0.00004495002894
                        ]
                      },
                      {
                        "learn": [
                          0.00004151204196
                        ],
                        "iteration": 421,
                        "passed_time": 17.5617886,
                        "remaining_time": 24.05382419,
                        "test": [
                          0.00004487508267
                        ]
                      },
                      {
                        "learn": [
                          0.00004130022462
                        ],
                        "iteration": 422,
                        "passed_time": 17.61268354,
                        "remaining_time": 24.0248662,
                        "test": [
                          0.00004465080221
                        ]
                      },
                      {
                        "learn": [
                          0.0000412078337
                        ],
                        "iteration": 423,
                        "passed_time": 17.62663252,
                        "remaining_time": 23.94561399,
                        "test": [
                          0.00004454640413
                        ]
                      },
                      {
                        "learn": [
                          0.00004102555503
                        ],
                        "iteration": 424,
                        "passed_time": 17.64341548,
                        "remaining_time": 23.8705033,
                        "test": [
                          0.00004435351722
                        ]
                      },
                      {
                        "learn": [
                          0.00004096237708
                        ],
                        "iteration": 425,
                        "passed_time": 17.66289372,
                        "remaining_time": 23.79929812,
                        "test": [
                          0.00004428976854
                        ]
                      },
                      {
                        "learn": [
                          0.00004089962409
                        ],
                        "iteration": 426,
                        "passed_time": 17.68537462,
                        "remaining_time": 23.73236454,
                        "test": [
                          0.00004421637008
                        ]
                      },
                      {
                        "learn": [
                          0.00004071808985
                        ],
                        "iteration": 427,
                        "passed_time": 17.71130902,
                        "remaining_time": 23.67025411,
                        "test": [
                          0.00004403415034
                        ]
                      },
                      {
                        "learn": [
                          0.00004062799118
                        ],
                        "iteration": 428,
                        "passed_time": 17.73797877,
                        "remaining_time": 23.60929108,
                        "test": [
                          0.00004393228956
                        ]
                      },
                      {
                        "learn": [
                          0.00004053844773
                        ],
                        "iteration": 429,
                        "passed_time": 17.79379569,
                        "remaining_time": 23.58712452,
                        "test": [
                          0.00004383072964
                        ]
                      },
                      {
                        "learn": [
                          0.00004036308923
                        ],
                        "iteration": 430,
                        "passed_time": 17.829202,
                        "remaining_time": 23.53785601,
                        "test": [
                          0.00004367276617
                        ]
                      },
                      {
                        "learn": [
                          0.00004030196779
                        ],
                        "iteration": 431,
                        "passed_time": 17.84907439,
                        "remaining_time": 23.46822744,
                        "test": [
                          0.00004360140561
                        ]
                      },
                      {
                        "learn": [
                          0.00004024112242
                        ],
                        "iteration": 432,
                        "passed_time": 17.87689539,
                        "remaining_time": 23.40923715,
                        "test": [
                          0.00004353035834
                        ]
                      },
                      {
                        "learn": [
                          0.00004006144928
                        ],
                        "iteration": 433,
                        "passed_time": 17.9182345,
                        "remaining_time": 23.36802011,
                        "test": [
                          0.00004334989734
                        ]
                      },
                      {
                        "learn": [
                          0.00004000116534
                        ],
                        "iteration": 434,
                        "passed_time": 17.97321894,
                        "remaining_time": 23.34452575,
                        "test": [
                          0.00004327951696
                        ]
                      },
                      {
                        "learn": [
                          0.00003991383659
                        ],
                        "iteration": 435,
                        "passed_time": 18.03657579,
                        "remaining_time": 23.33171731,
                        "test": [
                          0.00004318069285
                        ]
                      },
                      {
                        "learn": [
                          0.00003985410477
                        ],
                        "iteration": 436,
                        "passed_time": 18.0958503,
                        "remaining_time": 23.31341812,
                        "test": [
                          0.0000431202197
                        ]
                      },
                      {
                        "learn": [
                          0.00003964894705
                        ],
                        "iteration": 437,
                        "passed_time": 18.14710004,
                        "remaining_time": 23.28463521,
                        "test": [
                          0.00004290363485
                        ]
                      },
                      {
                        "learn": [
                          0.00003958994416
                        ],
                        "iteration": 438,
                        "passed_time": 18.16637163,
                        "remaining_time": 23.21488494,
                        "test": [
                          0.00004283460997
                        ]
                      },
                      {
                        "learn": [
                          0.00003953113358
                        ],
                        "iteration": 439,
                        "passed_time": 18.17580377,
                        "remaining_time": 23.13284116,
                        "test": [
                          0.00004276590147
                        ]
                      },
                      {
                        "learn": [
                          0.0000393272445
                        ],
                        "iteration": 440,
                        "passed_time": 18.18502251,
                        "remaining_time": 23.0508562,
                        "test": [
                          0.00004255088305
                        ]
                      },
                      {
                        "learn": [
                          0.00003926909461
                        ],
                        "iteration": 441,
                        "passed_time": 18.19444325,
                        "remaining_time": 22.96945551,
                        "test": [
                          0.00004248285385
                        ]
                      },
                      {
                        "learn": [
                          0.00003921587352
                        ],
                        "iteration": 442,
                        "passed_time": 18.20412743,
                        "remaining_time": 22.88871102,
                        "test": [
                          0.00004241548224
                        ]
                      },
                      {
                        "learn": [
                          0.00003903921535
                        ],
                        "iteration": 443,
                        "passed_time": 18.2135027,
                        "remaining_time": 22.80789978,
                        "test": [
                          0.00004222904403
                        ]
                      },
                      {
                        "learn": [
                          0.00003898172305
                        ],
                        "iteration": 444,
                        "passed_time": 18.22287103,
                        "remaining_time": 22.72740095,
                        "test": [
                          0.00004217090965
                        ]
                      },
                      {
                        "learn": [
                          0.00003892453473
                        ],
                        "iteration": 445,
                        "passed_time": 18.23219285,
                        "remaining_time": 22.64716331,
                        "test": [
                          0.00004210423594
                        ]
                      },
                      {
                        "learn": [
                          0.00003872295341
                        ],
                        "iteration": 446,
                        "passed_time": 18.24128671,
                        "remaining_time": 22.56696096,
                        "test": [
                          0.00004189153769
                        ]
                      },
                      {
                        "learn": [
                          0.00003866633272
                        ],
                        "iteration": 447,
                        "passed_time": 18.25060497,
                        "remaining_time": 22.48735256,
                        "test": [
                          0.00004182554949
                        ]
                      },
                      {
                        "learn": [
                          0.00003860979267
                        ],
                        "iteration": 448,
                        "passed_time": 18.26255197,
                        "remaining_time": 22.41128315,
                        "test": [
                          0.00004176838908
                        ]
                      },
                      {
                        "learn": [
                          0.00003852827054
                        ],
                        "iteration": 449,
                        "passed_time": 18.27165478,
                        "remaining_time": 22.33202251,
                        "test": [
                          0.00004167608501
                        ]
                      },
                      {
                        "learn": [
                          0.00003835357893
                        ],
                        "iteration": 450,
                        "passed_time": 18.28108271,
                        "remaining_time": 22.25346876,
                        "test": [
                          0.00004149204761
                        ]
                      },
                      {
                        "learn": [
                          0.00003827293151
                        ],
                        "iteration": 451,
                        "passed_time": 18.29018311,
                        "remaining_time": 22.17482377,
                        "test": [
                          0.0000414007113
                        ]
                      },
                      {
                        "learn": [
                          0.00003819269664
                        ],
                        "iteration": 452,
                        "passed_time": 18.30038758,
                        "remaining_time": 22.09781899,
                        "test": [
                          0.00004130978444
                        ]
                      },
                      {
                        "learn": [
                          0.0000380188115
                        ],
                        "iteration": 453,
                        "passed_time": 18.31120921,
                        "remaining_time": 22.02185072,
                        "test": [
                          0.00004113527894
                        ]
                      },
                      {
                        "learn": [
                          0.00003793935208
                        ],
                        "iteration": 454,
                        "passed_time": 18.32063764,
                        "remaining_time": 21.94450003,
                        "test": [
                          0.00004104560522
                        ]
                      },
                      {
                        "learn": [
                          0.00003788507948
                        ],
                        "iteration": 455,
                        "passed_time": 18.33000161,
                        "remaining_time": 21.86737034,
                        "test": [
                          0.00004098203334
                        ]
                      },
                      {
                        "learn": [
                          0.00003783692366
                        ],
                        "iteration": 456,
                        "passed_time": 18.33939808,
                        "remaining_time": 21.79057584,
                        "test": [
                          0.00004092712486
                        ]
                      },
                      {
                        "learn": [
                          0.00003766413037
                        ],
                        "iteration": 457,
                        "passed_time": 18.34870079,
                        "remaining_time": 21.71396469,
                        "test": [
                          0.00004074552549
                        ]
                      },
                      {
                        "learn": [
                          0.00003759626246
                        ],
                        "iteration": 458,
                        "passed_time": 18.35793424,
                        "remaining_time": 21.6375652,
                        "test": [
                          0.000040664084
                        ]
                      },
                      {
                        "learn": [
                          0.00003751867345
                        ],
                        "iteration": 459,
                        "passed_time": 18.36713313,
                        "remaining_time": 21.56141715,
                        "test": [
                          0.00004057645128
                        ]
                      },
                      {
                        "learn": [
                          0.00003734670834
                        ],
                        "iteration": 460,
                        "passed_time": 18.37643487,
                        "remaining_time": 21.48567982,
                        "test": [
                          0.00004039564907
                        ]
                      },
                      {
                        "learn": [
                          0.00003726989788
                        ],
                        "iteration": 461,
                        "passed_time": 18.38560363,
                        "remaining_time": 21.41007522,
                        "test": [
                          0.0000403086057
                        ]
                      },
                      {
                        "learn": [
                          0.00003719353098
                        ],
                        "iteration": 462,
                        "passed_time": 18.39493252,
                        "remaining_time": 21.33494334,
                        "test": [
                          0.00004022214856
                        ]
                      },
                      {
                        "learn": [
                          0.00003714120321
                        ],
                        "iteration": 463,
                        "passed_time": 18.40393406,
                        "remaining_time": 21.25971693,
                        "test": [
                          0.00004016926867
                        ]
                      },
                      {
                        "learn": [
                          0.00003706561177
                        ],
                        "iteration": 464,
                        "passed_time": 18.41213333,
                        "remaining_time": 21.18385233,
                        "test": [
                          0.00004008368936
                        ]
                      },
                      {
                        "learn": [
                          0.00003687144691
                        ],
                        "iteration": 465,
                        "passed_time": 18.42009986,
                        "remaining_time": 21.10801143,
                        "test": [
                          0.00003987969482
                        ]
                      },
                      {
                        "learn": [
                          0.00003682012723
                        ],
                        "iteration": 466,
                        "passed_time": 18.4282564,
                        "remaining_time": 21.03267808,
                        "test": [
                          0.00003981973656
                        ]
                      },
                      {
                        "learn": [
                          0.00003663903036
                        ],
                        "iteration": 467,
                        "passed_time": 18.43637551,
                        "remaining_time": 20.95758926,
                        "test": [
                          0.00003962525222
                        ]
                      },
                      {
                        "learn": [
                          0.00003658797124
                        ],
                        "iteration": 468,
                        "passed_time": 18.44438372,
                        "remaining_time": 20.88266046,
                        "test": [
                          0.00003957376194
                        ]
                      },
                      {
                        "learn": [
                          0.00003651423158
                        ],
                        "iteration": 469,
                        "passed_time": 18.45238539,
                        "remaining_time": 20.80800906,
                        "test": [
                          0.00003949022363
                        ]
                      },
                      {
                        "learn": [
                          0.00003646370908
                        ],
                        "iteration": 470,
                        "passed_time": 18.46055452,
                        "remaining_time": 20.73382875,
                        "test": [
                          0.00003943136962
                        ]
                      },
                      {
                        "learn": [
                          0.00003639075108
                        ],
                        "iteration": 471,
                        "passed_time": 18.46850213,
                        "remaining_time": 20.65968035,
                        "test": [
                          0.00003934860676
                        ]
                      },
                      {
                        "learn": [
                          0.00003622187229
                        ],
                        "iteration": 472,
                        "passed_time": 18.47672461,
                        "remaining_time": 20.58611812,
                        "test": [
                          0.00003917169735
                        ]
                      },
                      {
                        "learn": [
                          0.00003614945091
                        ],
                        "iteration": 473,
                        "passed_time": 18.48464056,
                        "remaining_time": 20.51249142,
                        "test": [
                          0.00003908982161
                        ]
                      },
                      {
                        "learn": [
                          0.00003607756924
                        ],
                        "iteration": 474,
                        "passed_time": 18.49267809,
                        "remaining_time": 20.43927578,
                        "test": [
                          0.00003900844836
                        ]
                      },
                      {
                        "learn": [
                          0.00003590934183
                        ],
                        "iteration": 475,
                        "passed_time": 18.50083934,
                        "remaining_time": 20.3664702,
                        "test": [
                          0.00003883948892
                        ]
                      },
                      {
                        "learn": [
                          0.00003586011279
                        ],
                        "iteration": 476,
                        "passed_time": 18.50889277,
                        "remaining_time": 20.29381744,
                        "test": [
                          0.00003878984113
                        ]
                      },
                      {
                        "learn": [
                          0.00003578926093
                        ],
                        "iteration": 477,
                        "passed_time": 18.51685343,
                        "remaining_time": 20.22133366,
                        "test": [
                          0.00003870962487
                        ]
                      },
                      {
                        "learn": [
                          0.00003574068637
                        ],
                        "iteration": 478,
                        "passed_time": 18.52490409,
                        "remaining_time": 20.14921719,
                        "test": [
                          0.00003865319649
                        ]
                      },
                      {
                        "learn": [
                          0.00003567042076
                        ],
                        "iteration": 479,
                        "passed_time": 18.53285925,
                        "remaining_time": 20.07726419,
                        "test": [
                          0.00003857356647
                        ]
                      },
                      {
                        "learn": [
                          0.00003548172752
                        ],
                        "iteration": 480,
                        "passed_time": 18.54082754,
                        "remaining_time": 20.00559147,
                        "test": [
                          0.0000383758128
                        ]
                      },
                      {
                        "learn": [
                          0.00003543381364
                        ],
                        "iteration": 481,
                        "passed_time": 18.54893257,
                        "remaining_time": 19.93433002,
                        "test": [
                          0.00003832006062
                        ]
                      },
                      {
                        "learn": [
                          0.00003536465228
                        ],
                        "iteration": 482,
                        "passed_time": 18.55690852,
                        "remaining_time": 19.86319193,
                        "test": [
                          0.00003824159999
                        ]
                      },
                      {
                        "learn": [
                          0.00003518829809
                        ],
                        "iteration": 483,
                        "passed_time": 18.56495306,
                        "remaining_time": 19.79238798,
                        "test": [
                          0.0000380529936
                        ]
                      },
                      {
                        "learn": [
                          0.00003514114417
                        ],
                        "iteration": 484,
                        "passed_time": 18.57352436,
                        "remaining_time": 19.72240215,
                        "test": [
                          0.00003799802308
                        ]
                      },
                      {
                        "learn": [
                          0.00003509417945
                        ],
                        "iteration": 485,
                        "passed_time": 18.58268966,
                        "remaining_time": 19.65329729,
                        "test": [
                          0.00003794334413
                        ]
                      },
                      {
                        "learn": [
                          0.0000350262278
                        ],
                        "iteration": 486,
                        "passed_time": 18.59064665,
                        "remaining_time": 19.58316578,
                        "test": [
                          0.00003786654608
                        ]
                      },
                      {
                        "learn": [
                          0.00003497960119
                        ],
                        "iteration": 487,
                        "passed_time": 18.59860796,
                        "remaining_time": 19.5132936,
                        "test": [
                          0.00003781933942
                        ]
                      },
                      {
                        "learn": [
                          0.00003491230712
                        ],
                        "iteration": 488,
                        "passed_time": 18.6060484,
                        "remaining_time": 19.44313034,
                        "test": [
                          0.0000377431121
                        ]
                      },
                      {
                        "learn": [
                          0.00003472644584
                        ],
                        "iteration": 489,
                        "passed_time": 18.61324771,
                        "remaining_time": 19.3729721,
                        "test": [
                          0.00003754861225
                        ]
                      },
                      {
                        "learn": [
                          0.0000346598714
                        ],
                        "iteration": 490,
                        "passed_time": 18.62267211,
                        "remaining_time": 19.30537699,
                        "test": [
                          0.00003747317279
                        ]
                      },
                      {
                        "learn": [
                          0.00003447468942
                        ],
                        "iteration": 491,
                        "passed_time": 18.62993662,
                        "remaining_time": 19.23578822,
                        "test": [
                          0.00003727942048
                        ]
                      },
                      {
                        "learn": [
                          0.00003440893386
                        ],
                        "iteration": 492,
                        "passed_time": 18.63720289,
                        "remaining_time": 19.16645408,
                        "test": [
                          0.00003720506666
                        ]
                      },
                      {
                        "learn": [
                          0.00003436368756
                        ],
                        "iteration": 493,
                        "passed_time": 18.64437404,
                        "remaining_time": 19.09727381,
                        "test": [
                          0.00003715932406
                        ]
                      },
                      {
                        "learn": [
                          0.00003429852134
                        ],
                        "iteration": 494,
                        "passed_time": 18.65161361,
                        "remaining_time": 19.02841389,
                        "test": [
                          0.0000370855627
                        ]
                      },
                      {
                        "learn": [
                          0.00003423358156
                        ],
                        "iteration": 495,
                        "passed_time": 18.65890108,
                        "remaining_time": 18.9598511,
                        "test": [
                          0.00003701238137
                        ]
                      },
                      {
                        "learn": [
                          0.00003418045663
                        ],
                        "iteration": 496,
                        "passed_time": 18.66616347,
                        "remaining_time": 18.89150951,
                        "test": [
                          0.0000369510428
                        ]
                      },
                      {
                        "learn": [
                          0.0000341361936
                        ],
                        "iteration": 497,
                        "passed_time": 18.67347795,
                        "remaining_time": 18.82346573,
                        "test": [
                          0.00003690627728
                        ]
                      },
                      {
                        "learn": [
                          0.00003397305318
                        ],
                        "iteration": 498,
                        "passed_time": 18.68073771,
                        "remaining_time": 18.75561041,
                        "test": [
                          0.00003674269951
                        ]
                      },
                      {
                        "learn": [
                          0.00003379037128
                        ],
                        "iteration": 499,
                        "passed_time": 18.6881799,
                        "remaining_time": 18.6881799,
                        "test": [
                          0.00003655170161
                        ]
                      },
                      {
                        "learn": [
                          0.00003374666658
                        ],
                        "iteration": 500,
                        "passed_time": 18.69554278,
                        "remaining_time": 18.62090988,
                        "test": [
                          0.00003650072934
                        ]
                      },
                      {
                        "learn": [
                          0.00003368350414
                        ],
                        "iteration": 501,
                        "passed_time": 18.70285625,
                        "remaining_time": 18.5538295,
                        "test": [
                          0.00003642920749
                        ]
                      },
                      {
                        "learn": [
                          0.00003364535791
                        ],
                        "iteration": 502,
                        "passed_time": 18.71012474,
                        "remaining_time": 18.48694234,
                        "test": [
                          0.00003638560515
                        ]
                      },
                      {
                        "learn": [
                          0.0000335827507
                        ],
                        "iteration": 503,
                        "passed_time": 18.71732248,
                        "remaining_time": 18.42022213,
                        "test": [
                          0.00003631467575
                        ]
                      },
                      {
                        "learn": [
                          0.00003353990211
                        ],
                        "iteration": 504,
                        "passed_time": 18.72453789,
                        "remaining_time": 18.35375497,
                        "test": [
                          0.00003626448204
                        ]
                      },
                      {
                        "learn": [
                          0.00003349709074
                        ],
                        "iteration": 505,
                        "passed_time": 18.73192748,
                        "remaining_time": 18.28769205,
                        "test": [
                          0.00003621489008
                        ]
                      },
                      {
                        "learn": [
                          0.0000334352776
                        ],
                        "iteration": 506,
                        "passed_time": 18.73914853,
                        "remaining_time": 18.2216967,
                        "test": [
                          0.00003614503391
                        ]
                      },
                      {
                        "learn": [
                          0.00003327410994
                        ],
                        "iteration": 507,
                        "passed_time": 18.74639776,
                        "remaining_time": 18.15596004,
                        "test": [
                          0.00003597671655
                        ]
                      },
                      {
                        "learn": [
                          0.00003311288645
                        ],
                        "iteration": 508,
                        "passed_time": 18.75366708,
                        "remaining_time": 18.09047257,
                        "test": [
                          0.00003580870937
                        ]
                      },
                      {
                        "learn": [
                          0.0000330519108
                        ],
                        "iteration": 509,
                        "passed_time": 18.76078815,
                        "remaining_time": 18.02507097,
                        "test": [
                          0.00003573972481
                        ]
                      },
                      {
                        "learn": [
                          0.00003301460516
                        ],
                        "iteration": 510,
                        "passed_time": 18.7680939,
                        "remaining_time": 17.9600742,
                        "test": [
                          0.00003569748727
                        ]
                      },
                      {
                        "learn": [
                          0.0000329729973
                        ],
                        "iteration": 511,
                        "passed_time": 18.77538768,
                        "remaining_time": 17.89529138,
                        "test": [
                          0.00003564878244
                        ]
                      },
                      {
                        "learn": [
                          0.00003293148869
                        ],
                        "iteration": 512,
                        "passed_time": 18.7840428,
                        "remaining_time": 17.83202504,
                        "test": [
                          0.00003560045602
                        ]
                      },
                      {
                        "learn": [
                          0.00003287135984
                        ],
                        "iteration": 513,
                        "passed_time": 18.79289193,
                        "remaining_time": 17.76915463,
                        "test": [
                          0.00003553254469
                        ]
                      },
                      {
                        "learn": [
                          0.00003283007457
                        ],
                        "iteration": 514,
                        "passed_time": 18.80020952,
                        "remaining_time": 17.70505169,
                        "test": [
                          0.00003549078794
                        ]
                      },
                      {
                        "learn": [
                          0.00003278899711
                        ],
                        "iteration": 515,
                        "passed_time": 18.80723473,
                        "remaining_time": 17.64089459,
                        "test": [
                          0.00003544944373
                        ]
                      },
                      {
                        "learn": [
                          0.0000326107198
                        ],
                        "iteration": 516,
                        "passed_time": 18.81421319,
                        "remaining_time": 17.57691484,
                        "test": [
                          0.00003526341806
                        ]
                      },
                      {
                        "learn": [
                          0.00003256143492
                        ],
                        "iteration": 517,
                        "passed_time": 18.82107377,
                        "remaining_time": 17.51304548,
                        "test": [
                          0.00003520336365
                        ]
                      },
                      {
                        "learn": [
                          0.00003238368801
                        ],
                        "iteration": 518,
                        "passed_time": 18.82793602,
                        "remaining_time": 17.44939735,
                        "test": [
                          0.00003501793353
                        ]
                      },
                      {
                        "learn": [
                          0.00003232519382
                        ],
                        "iteration": 519,
                        "passed_time": 18.8349419,
                        "remaining_time": 17.38610021,
                        "test": [
                          0.00003495200116
                        ]
                      },
                      {
                        "learn": [
                          0.00003226704703
                        ],
                        "iteration": 520,
                        "passed_time": 18.84177267,
                        "remaining_time": 17.32285818,
                        "test": [
                          0.0000348862487
                        ]
                      },
                      {
                        "learn": [
                          0.00003220914839
                        ],
                        "iteration": 521,
                        "passed_time": 18.84871621,
                        "remaining_time": 17.25993554,
                        "test": [
                          0.00003482078781
                        ]
                      },
                      {
                        "learn": [
                          0.00003216961565
                        ],
                        "iteration": 522,
                        "passed_time": 18.85567407,
                        "remaining_time": 17.19724002,
                        "test": [
                          0.00003477481258
                        ]
                      },
                      {
                        "learn": [
                          0.00003211217607
                        ],
                        "iteration": 523,
                        "passed_time": 18.86265465,
                        "remaining_time": 17.13477788,
                        "test": [
                          0.00003470993484
                        ]
                      },
                      {
                        "learn": [
                          0.00003207289768
                        ],
                        "iteration": 524,
                        "passed_time": 18.86951269,
                        "remaining_time": 17.07241624,
                        "test": [
                          0.00003466404646
                        ]
                      },
                      {
                        "learn": [
                          0.00003203362549
                        ],
                        "iteration": 525,
                        "passed_time": 18.87687959,
                        "remaining_time": 17.0107242,
                        "test": [
                          0.00003462434932
                        ]
                      },
                      {
                        "learn": [
                          0.00003185796611
                        ],
                        "iteration": 526,
                        "passed_time": 18.88361233,
                        "remaining_time": 16.94866913,
                        "test": [
                          0.00003444145338
                        ]
                      },
                      {
                        "learn": [
                          0.00003170009879
                        ],
                        "iteration": 527,
                        "passed_time": 18.89054105,
                        "remaining_time": 16.88699882,
                        "test": [
                          0.00003428324796
                        ]
                      },
                      {
                        "learn": [
                          0.0000316439806
                        ],
                        "iteration": 528,
                        "passed_time": 18.90591721,
                        "remaining_time": 16.83305672,
                        "test": [
                          0.00003421954891
                        ]
                      },
                      {
                        "learn": [
                          0.00003159728264
                        ],
                        "iteration": 529,
                        "passed_time": 18.91729039,
                        "remaining_time": 16.77571035,
                        "test": [
                          0.00003416292822
                        ]
                      },
                      {
                        "learn": [
                          0.00003155900303
                        ],
                        "iteration": 530,
                        "passed_time": 18.93060685,
                        "remaining_time": 16.72025351,
                        "test": [
                          0.00003411831159
                        ]
                      },
                      {
                        "learn": [
                          0.00003151330387
                        ],
                        "iteration": 531,
                        "passed_time": 18.94953686,
                        "remaining_time": 16.66989333,
                        "test": [
                          0.00003406580082
                        ]
                      },
                      {
                        "learn": [
                          0.00003147521657
                        ],
                        "iteration": 532,
                        "passed_time": 18.95663002,
                        "remaining_time": 16.60927996,
                        "test": [
                          0.0000340213796
                        ]
                      },
                      {
                        "learn": [
                          0.00003143729988
                        ],
                        "iteration": 533,
                        "passed_time": 18.96387845,
                        "remaining_time": 16.54900254,
                        "test": [
                          0.00003398305346
                        ]
                      },
                      {
                        "learn": [
                          0.00003138245964
                        ],
                        "iteration": 534,
                        "passed_time": 18.97090982,
                        "remaining_time": 16.4887347,
                        "test": [
                          0.00003392111625
                        ]
                      },
                      {
                        "learn": [
                          0.00003134466391
                        ],
                        "iteration": 535,
                        "passed_time": 18.97795236,
                        "remaining_time": 16.42867517,
                        "test": [
                          0.00003388298553
                        ]
                      },
                      {
                        "learn": [
                          0.00003130718768
                        ],
                        "iteration": 536,
                        "passed_time": 18.98493139,
                        "remaining_time": 16.36875835,
                        "test": [
                          0.00003384527356
                        ]
                      },
                      {
                        "learn": [
                          0.00003113401286
                        ],
                        "iteration": 537,
                        "passed_time": 18.99193916,
                        "remaining_time": 16.30906299,
                        "test": [
                          0.00003366501417
                        ]
                      },
                      {
                        "learn": [
                          0.00003096122267
                        ],
                        "iteration": 538,
                        "passed_time": 18.9991068,
                        "remaining_time": 16.24969988,
                        "test": [
                          0.00003348504016
                        ]
                      },
                      {
                        "learn": [
                          0.00003090743704
                        ],
                        "iteration": 539,
                        "passed_time": 19.00664498,
                        "remaining_time": 16.19084572,
                        "test": [
                          0.00003342437779
                        ]
                      },
                      {
                        "learn": [
                          0.0000308541322
                        ],
                        "iteration": 540,
                        "passed_time": 19.01367748,
                        "remaining_time": 16.13175224,
                        "test": [
                          0.00003336411246
                        ]
                      },
                      {
                        "learn": [
                          0.0000308173942
                        ],
                        "iteration": 541,
                        "passed_time": 19.02073948,
                        "remaining_time": 16.07287579,
                        "test": [
                          0.00003332694951
                        ]
                      },
                      {
                        "learn": [
                          0.00003076445848
                        ],
                        "iteration": 542,
                        "passed_time": 19.02775974,
                        "remaining_time": 16.01415507,
                        "test": [
                          0.00003326718046
                        ]
                      },
                      {
                        "learn": [
                          0.00003072820126
                        ],
                        "iteration": 543,
                        "passed_time": 19.03492019,
                        "remaining_time": 15.95574193,
                        "test": [
                          0.00003322480955
                        ]
                      },
                      {
                        "learn": [
                          0.00003067572461
                        ],
                        "iteration": 544,
                        "passed_time": 19.04498418,
                        "remaining_time": 15.89994092,
                        "test": [
                          0.00003316561125
                        ]
                      },
                      {
                        "learn": [
                          0.00003063964419
                        ],
                        "iteration": 545,
                        "passed_time": 19.05239134,
                        "remaining_time": 15.84209829,
                        "test": [
                          0.00003312914931
                        ]
                      },
                      {
                        "learn": [
                          0.00003058751184
                        ],
                        "iteration": 546,
                        "passed_time": 19.06060474,
                        "remaining_time": 15.78510777,
                        "test": [
                          0.00003307024257
                        ]
                      },
                      {
                        "learn": [
                          0.00003055187809
                        ],
                        "iteration": 547,
                        "passed_time": 19.06765626,
                        "remaining_time": 15.72733692,
                        "test": [
                          0.00003302886114
                        ]
                      },
                      {
                        "learn": [
                          0.00003027831585
                        ],
                        "iteration": 548,
                        "passed_time": 19.07483499,
                        "remaining_time": 15.66985534,
                        "test": [
                          0.00003274944266
                        ]
                      },
                      {
                        "learn": [
                          0.00003024683544
                        ],
                        "iteration": 549,
                        "passed_time": 19.08189629,
                        "remaining_time": 15.6124606,
                        "test": [
                          0.00003271349562
                        ]
                      },
                      {
                        "learn": [
                          0.00003019554679
                        ],
                        "iteration": 550,
                        "passed_time": 19.08884814,
                        "remaining_time": 15.55515937,
                        "test": [
                          0.00003265566832
                        ]
                      },
                      {
                        "learn": [
                          0.00003014448767
                        ],
                        "iteration": 551,
                        "passed_time": 19.09593342,
                        "remaining_time": 15.49814886,
                        "test": [
                          0.00003259802403
                        ]
                      },
                      {
                        "learn": [
                          0.00003009365498
                        ],
                        "iteration": 552,
                        "passed_time": 19.10277459,
                        "remaining_time": 15.44112159,
                        "test": [
                          0.00003254039215
                        ]
                      },
                      {
                        "learn": [
                          0.00003004305803
                        ],
                        "iteration": 553,
                        "passed_time": 19.10971491,
                        "remaining_time": 15.38435532,
                        "test": [
                          0.00003248325345
                        ]
                      },
                      {
                        "learn": [
                          0.00003000843547
                        ],
                        "iteration": 554,
                        "passed_time": 19.11677863,
                        "remaining_time": 15.32786755,
                        "test": [
                          0.00003244293284
                        ]
                      },
                      {
                        "learn": [
                          0.00002997763436
                        ],
                        "iteration": 555,
                        "passed_time": 19.12395448,
                        "remaining_time": 15.27164711,
                        "test": [
                          0.00003240785432
                        ]
                      },
                      {
                        "learn": [
                          0.00002992760815
                        ],
                        "iteration": 556,
                        "passed_time": 19.13093044,
                        "remaining_time": 15.21544378,
                        "test": [
                          0.00003235148488
                        ]
                      },
                      {
                        "learn": [
                          0.00002988662375
                        ],
                        "iteration": 557,
                        "passed_time": 19.13794999,
                        "remaining_time": 15.15945142,
                        "test": [
                          0.00003230425651
                        ]
                      },
                      {
                        "learn": [
                          0.00002984589991
                        ],
                        "iteration": 558,
                        "passed_time": 19.14489733,
                        "remaining_time": 15.10357732,
                        "test": [
                          0.00003225722356
                        ]
                      },
                      {
                        "learn": [
                          0.00002979650957
                        ],
                        "iteration": 559,
                        "passed_time": 19.16841773,
                        "remaining_time": 15.06089965,
                        "test": [
                          0.00003220145277
                        ]
                      },
                      {
                        "learn": [
                          0.00002950948541
                        ],
                        "iteration": 560,
                        "passed_time": 19.19546011,
                        "remaining_time": 15.02104632,
                        "test": [
                          0.00003190815982
                        ]
                      },
                      {
                        "learn": [
                          0.00002946066581
                        ],
                        "iteration": 561,
                        "passed_time": 19.20276065,
                        "remaining_time": 14.96585261,
                        "test": [
                          0.00003185291014
                        ]
                      },
                      {
                        "learn": [
                          0.00002941203542
                        ],
                        "iteration": 562,
                        "passed_time": 19.21110471,
                        "remaining_time": 14.91163901,
                        "test": [
                          0.0000317979086
                        ]
                      },
                      {
                        "learn": [
                          0.0000293785016
                        ],
                        "iteration": 563,
                        "passed_time": 19.21894517,
                        "remaining_time": 14.85719875,
                        "test": [
                          0.00003176408942
                        ]
                      },
                      {
                        "learn": [
                          0.00002934512908
                        ],
                        "iteration": 564,
                        "passed_time": 19.2311562,
                        "remaining_time": 14.8062884,
                        "test": [
                          0.00003173046254
                        ]
                      },
                      {
                        "learn": [
                          0.00002931195818
                        ],
                        "iteration": 565,
                        "passed_time": 19.23798421,
                        "remaining_time": 14.75138719,
                        "test": [
                          0.00003169190688
                        ]
                      },
                      {
                        "learn": [
                          0.00002926401329
                        ],
                        "iteration": 566,
                        "passed_time": 19.24465288,
                        "remaining_time": 14.69653386,
                        "test": [
                          0.00003163780487
                        ]
                      },
                      {
                        "learn": [
                          0.00002923468244
                        ],
                        "iteration": 567,
                        "passed_time": 19.25407744,
                        "remaining_time": 14.64394622,
                        "test": [
                          0.00003160417489
                        ]
                      },
                      {
                        "learn": [
                          0.00002918706945
                        ],
                        "iteration": 568,
                        "passed_time": 19.26079897,
                        "remaining_time": 14.58946284,
                        "test": [
                          0.00003155066843
                        ]
                      },
                      {
                        "learn": [
                          0.00002916064501
                        ],
                        "iteration": 569,
                        "passed_time": 19.2678234,
                        "remaining_time": 14.53537555,
                        "test": [
                          0.00003151742929
                        ]
                      },
                      {
                        "learn": [
                          0.00002912118361
                        ],
                        "iteration": 570,
                        "passed_time": 19.27485496,
                        "remaining_time": 14.48145845,
                        "test": [
                          0.00003146971084
                        ]
                      },
                      {
                        "learn": [
                          0.00002897339101
                        ],
                        "iteration": 571,
                        "passed_time": 19.28179371,
                        "remaining_time": 14.42763585,
                        "test": [
                          0.00003131785795
                        ]
                      },
                      {
                        "learn": [
                          0.00002882197239
                        ],
                        "iteration": 572,
                        "passed_time": 19.28921901,
                        "remaining_time": 14.37433947,
                        "test": [
                          0.00003116629974
                        ]
                      },
                      {
                        "learn": [
                          0.00002877520619
                        ],
                        "iteration": 573,
                        "passed_time": 19.29635405,
                        "remaining_time": 14.3209875,
                        "test": [
                          0.00003111327096
                        ]
                      },
                      {
                        "learn": [
                          0.00002872865712
                        ],
                        "iteration": 574,
                        "passed_time": 19.30302199,
                        "remaining_time": 14.26745103,
                        "test": [
                          0.00003106073538
                        ]
                      },
                      {
                        "learn": [
                          0.00002868228176
                        ],
                        "iteration": 575,
                        "passed_time": 19.30989711,
                        "remaining_time": 14.21422981,
                        "test": [
                          0.0000310083921
                        ]
                      },
                      {
                        "learn": [
                          0.00002865318355
                        ],
                        "iteration": 576,
                        "passed_time": 19.31703382,
                        "remaining_time": 14.16136101,
                        "test": [
                          0.0000309713191
                        ]
                      },
                      {
                        "learn": [
                          0.00002860705943
                        ],
                        "iteration": 577,
                        "passed_time": 19.32378342,
                        "remaining_time": 14.10836782,
                        "test": [
                          0.00003091955277
                        ]
                      },
                      {
                        "learn": [
                          0.00002857553249
                        ],
                        "iteration": 578,
                        "passed_time": 19.33085103,
                        "remaining_time": 14.0557656,
                        "test": [
                          0.00003088277755
                        ]
                      },
                      {
                        "learn": [
                          0.00002854412032
                        ],
                        "iteration": 579,
                        "passed_time": 19.33767481,
                        "remaining_time": 14.00314383,
                        "test": [
                          0.00003084607677
                        ]
                      },
                      {
                        "learn": [
                          0.00002851274227
                        ],
                        "iteration": 580,
                        "passed_time": 19.34446772,
                        "remaining_time": 13.95065744,
                        "test": [
                          0.00003080977923
                        ]
                      },
                      {
                        "learn": [
                          0.00002848140765
                        ],
                        "iteration": 581,
                        "passed_time": 19.35130398,
                        "remaining_time": 13.89835922,
                        "test": [
                          0.00003077820576
                        ]
                      },
                      {
                        "learn": [
                          0.00002845026844
                        ],
                        "iteration": 582,
                        "passed_time": 19.35815912,
                        "remaining_time": 13.84623045,
                        "test": [
                          0.0000307466323
                        ]
                      },
                      {
                        "learn": [
                          0.00002841911062
                        ],
                        "iteration": 583,
                        "passed_time": 19.36507078,
                        "remaining_time": 13.79429699,
                        "test": [
                          0.00003071505573
                        ]
                      },
                      {
                        "learn": [
                          0.00002826908161
                        ],
                        "iteration": 584,
                        "passed_time": 19.37202808,
                        "remaining_time": 13.74254983,
                        "test": [
                          0.00003056508876
                        ]
                      },
                      {
                        "learn": [
                          0.00002811930695
                        ],
                        "iteration": 585,
                        "passed_time": 19.37898589,
                        "remaining_time": 13.6909559,
                        "test": [
                          0.00003041026743
                        ]
                      },
                      {
                        "learn": [
                          0.00002808863922
                        ],
                        "iteration": 586,
                        "passed_time": 19.38588089,
                        "remaining_time": 13.63946986,
                        "test": [
                          0.00003037446618
                        ]
                      },
                      {
                        "learn": [
                          0.00002804408152
                        ],
                        "iteration": 587,
                        "passed_time": 19.39277839,
                        "remaining_time": 13.58813724,
                        "test": [
                          0.00003032407706
                        ]
                      },
                      {
                        "learn": [
                          0.00002800717292
                        ],
                        "iteration": 588,
                        "passed_time": 19.39957185,
                        "remaining_time": 13.5368829,
                        "test": [
                          0.00003027929913
                        ]
                      },
                      {
                        "learn": [
                          0.00002797670061
                        ],
                        "iteration": 589,
                        "passed_time": 19.40638991,
                        "remaining_time": 13.48579638,
                        "test": [
                          0.00003024851043
                        ]
                      },
                      {
                        "learn": [
                          0.00002793265471
                        ],
                        "iteration": 590,
                        "passed_time": 19.41311463,
                        "remaining_time": 13.43479506,
                        "test": [
                          0.00003019870754
                        ]
                      },
                      {
                        "learn": [
                          0.00002790248637
                        ],
                        "iteration": 591,
                        "passed_time": 19.42005599,
                        "remaining_time": 13.38409264,
                        "test": [
                          0.0000301635918
                        ]
                      },
                      {
                        "learn": [
                          0.00002785880959
                        ],
                        "iteration": 592,
                        "passed_time": 19.42686692,
                        "remaining_time": 13.33344829,
                        "test": [
                          0.00003011428211
                        ]
                      },
                      {
                        "learn": [
                          0.00002781532202
                        ],
                        "iteration": 593,
                        "passed_time": 19.4337721,
                        "remaining_time": 13.28301595,
                        "test": [
                          0.00003006526709
                        ]
                      },
                      {
                        "learn": [
                          0.00002778543595
                        ],
                        "iteration": 594,
                        "passed_time": 19.44064478,
                        "remaining_time": 13.23270779,
                        "test": [
                          0.00003003498708
                        ]
                      },
                      {
                        "learn": [
                          0.00002775556849
                        ],
                        "iteration": 595,
                        "passed_time": 19.44740227,
                        "remaining_time": 13.18246731,
                        "test": [
                          0.00003001916778
                        ]
                      },
                      {
                        "learn": [
                          0.0000277125524
                        ],
                        "iteration": 596,
                        "passed_time": 19.45421163,
                        "remaining_time": 13.13240751,
                        "test": [
                          0.0000299705498
                        ]
                      },
                      {
                        "learn": [
                          0.00002756418907
                        ],
                        "iteration": 597,
                        "passed_time": 19.46120589,
                        "remaining_time": 13.08261667,
                        "test": [
                          0.00002981739105
                        ]
                      },
                      {
                        "learn": [
                          0.00002753479619
                        ],
                        "iteration": 598,
                        "passed_time": 19.46798703,
                        "remaining_time": 13.03282604,
                        "test": [
                          0.00002978305386
                        ]
                      },
                      {
                        "learn": [
                          0.0000273865104
                        ],
                        "iteration": 599,
                        "passed_time": 19.47757783,
                        "remaining_time": 12.98505188,
                        "test": [
                          0.00002963443308
                        ]
                      },
                      {
                        "learn": [
                          0.00002734397819
                        ],
                        "iteration": 600,
                        "passed_time": 19.48438171,
                        "remaining_time": 12.93555458,
                        "test": [
                          0.00002958641064
                        ]
                      },
                      {
                        "learn": [
                          0.00002731487999
                        ],
                        "iteration": 601,
                        "passed_time": 19.49149943,
                        "remaining_time": 12.8864066,
                        "test": [
                          0.00002957087981
                        ]
                      },
                      {
                        "learn": [
                          0.00002728584071
                        ],
                        "iteration": 602,
                        "passed_time": 19.4983285,
                        "remaining_time": 12.83720799,
                        "test": [
                          0.00002953722192
                        ]
                      },
                      {
                        "learn": [
                          0.0000272438017
                        ],
                        "iteration": 603,
                        "passed_time": 19.50510129,
                        "remaining_time": 12.78811277,
                        "test": [
                          0.00002948977643
                        ]
                      },
                      {
                        "learn": [
                          0.00002720208217
                        ],
                        "iteration": 604,
                        "passed_time": 19.51172673,
                        "remaining_time": 12.73906126,
                        "test": [
                          0.00002944233713
                        ]
                      },
                      {
                        "learn": [
                          0.00002716044328
                        ],
                        "iteration": 605,
                        "passed_time": 19.51860078,
                        "remaining_time": 12.6903114,
                        "test": [
                          0.00002939519251
                        ]
                      },
                      {
                        "learn": [
                          0.0000271318941
                        ],
                        "iteration": 606,
                        "passed_time": 19.52547557,
                        "remaining_time": 12.6417,
                        "test": [
                          0.00002936211467
                        ]
                      },
                      {
                        "learn": [
                          0.0000270905654
                        ],
                        "iteration": 607,
                        "passed_time": 19.53219532,
                        "remaining_time": 12.59312593,
                        "test": [
                          0.00002931545703
                        ]
                      },
                      {
                        "learn": [
                          0.00002706229848
                        ],
                        "iteration": 608,
                        "passed_time": 19.53919549,
                        "remaining_time": 12.54486935,
                        "test": [
                          0.00002928238849
                        ]
                      },
                      {
                        "learn": [
                          0.00002702128927
                        ],
                        "iteration": 609,
                        "passed_time": 19.54582936,
                        "remaining_time": 12.49651386,
                        "test": [
                          0.00002923612169
                        ]
                      },
                      {
                        "learn": [
                          0.00002699619241
                        ],
                        "iteration": 610,
                        "passed_time": 19.55284311,
                        "remaining_time": 12.44853678,
                        "test": [
                          0.00002920750116
                        ]
                      },
                      {
                        "learn": [
                          0.00002684915976
                        ],
                        "iteration": 611,
                        "passed_time": 19.55960022,
                        "remaining_time": 12.40053086,
                        "test": [
                          0.00002906014282
                        ]
                      },
                      {
                        "learn": [
                          0.0000268085662
                        ],
                        "iteration": 612,
                        "passed_time": 19.56635688,
                        "remaining_time": 12.35265924,
                        "test": [
                          0.00002901416759
                        ]
                      },
                      {
                        "learn": [
                          0.00002666185614
                        ],
                        "iteration": 613,
                        "passed_time": 19.57336734,
                        "remaining_time": 12.3050811,
                        "test": [
                          0.00002886289785
                        ]
                      },
                      {
                        "learn": [
                          0.00002663407621
                        ],
                        "iteration": 614,
                        "passed_time": 19.58015364,
                        "remaining_time": 12.25749455,
                        "test": [
                          0.00002883060476
                        ]
                      },
                      {
                        "learn": [
                          0.00002660638933
                        ],
                        "iteration": 615,
                        "passed_time": 19.58695717,
                        "remaining_time": 12.21005122,
                        "test": [
                          0.00002880257358
                        ]
                      },
                      {
                        "learn": [
                          0.00002656630756
                        ],
                        "iteration": 616,
                        "passed_time": 19.59381913,
                        "remaining_time": 12.16277589,
                        "test": [
                          0.00002875716288
                        ]
                      },
                      {
                        "learn": [
                          0.00002652632505
                        ],
                        "iteration": 617,
                        "passed_time": 19.60065908,
                        "remaining_time": 12.11561775,
                        "test": [
                          0.00002871209028
                        ]
                      },
                      {
                        "learn": [
                          0.00002648669925
                        ],
                        "iteration": 618,
                        "passed_time": 19.60737108,
                        "remaining_time": 12.06851112,
                        "test": [
                          0.00002866718518
                        ]
                      },
                      {
                        "learn": [
                          0.00002644711068
                        ],
                        "iteration": 619,
                        "passed_time": 19.61411921,
                        "remaining_time": 12.02155694,
                        "test": [
                          0.00002862228938
                        ]
                      },
                      {
                        "learn": [
                          0.00002641998833
                        ],
                        "iteration": 620,
                        "passed_time": 19.62084776,
                        "remaining_time": 11.97472029,
                        "test": [
                          0.00002859079657
                        ]
                      },
                      {
                        "learn": [
                          0.00002639293423
                        ],
                        "iteration": 621,
                        "passed_time": 19.62767918,
                        "remaining_time": 11.92807513,
                        "test": [
                          0.00002855918588
                        ]
                      },
                      {
                        "learn": [
                          0.00002635374578
                        ],
                        "iteration": 622,
                        "passed_time": 19.634569,
                        "remaining_time": 11.88159312,
                        "test": [
                          0.0000285149911
                        ]
                      },
                      {
                        "learn": [
                          0.00002631477447
                        ],
                        "iteration": 623,
                        "passed_time": 19.64125531,
                        "remaining_time": 11.83511538,
                        "test": [
                          0.0000284707746
                        ]
                      },
                      {
                        "learn": [
                          0.00002628802124
                        ],
                        "iteration": 624,
                        "passed_time": 19.64809383,
                        "remaining_time": 11.7888563,
                        "test": [
                          0.00002844391591
                        ]
                      },
                      {
                        "learn": [
                          0.00002626131764
                        ],
                        "iteration": 625,
                        "passed_time": 19.65490777,
                        "remaining_time": 11.74270848,
                        "test": [
                          0.00002841674083
                        ]
                      },
                      {
                        "learn": [
                          0.00002611805371
                        ],
                        "iteration": 626,
                        "passed_time": 19.66172828,
                        "remaining_time": 11.69669003,
                        "test": [
                          0.00002826693825
                        ]
                      },
                      {
                        "learn": [
                          0.00002608597775
                        ],
                        "iteration": 627,
                        "passed_time": 19.66873132,
                        "remaining_time": 11.65090454,
                        "test": [
                          0.00002822804138
                        ]
                      },
                      {
                        "learn": [
                          0.00002594059837
                        ],
                        "iteration": 628,
                        "passed_time": 19.67562369,
                        "remaining_time": 11.60517709,
                        "test": [
                          0.00002808226497
                        ]
                      },
                      {
                        "learn": [
                          0.00002590236684
                        ],
                        "iteration": 629,
                        "passed_time": 19.68226447,
                        "remaining_time": 11.55942516,
                        "test": [
                          0.00002803892629
                        ]
                      },
                      {
                        "learn": [
                          0.00002586417719
                        ],
                        "iteration": 630,
                        "passed_time": 19.69166357,
                        "remaining_time": 11.51541023,
                        "test": [
                          0.00002799609321
                        ]
                      },
                      {
                        "learn": [
                          0.00002582630702
                        ],
                        "iteration": 631,
                        "passed_time": 19.69843376,
                        "remaining_time": 11.46997409,
                        "test": [
                          0.00002795306161
                        ]
                      },
                      {
                        "learn": [
                          0.00002578848494
                        ],
                        "iteration": 632,
                        "passed_time": 19.70505143,
                        "remaining_time": 11.42457168,
                        "test": [
                          0.00002791044875
                        ]
                      },
                      {
                        "learn": [
                          0.00002576253818
                        ],
                        "iteration": 633,
                        "passed_time": 19.71172353,
                        "remaining_time": 11.37932305,
                        "test": [
                          0.00002788405844
                        ]
                      },
                      {
                        "learn": [
                          0.00002572508831
                        ],
                        "iteration": 634,
                        "passed_time": 19.71835753,
                        "remaining_time": 11.33417401,
                        "test": [
                          0.00002784150452
                        ]
                      },
                      {
                        "learn": [
                          0.00002568770668
                        ],
                        "iteration": 635,
                        "passed_time": 19.72504523,
                        "remaining_time": 11.28917683,
                        "test": [
                          0.00002779945309
                        ]
                      },
                      {
                        "learn": [
                          0.00002566217557
                        ],
                        "iteration": 636,
                        "passed_time": 19.73180358,
                        "remaining_time": 11.24434019,
                        "test": [
                          0.00002776952049
                        ]
                      },
                      {
                        "learn": [
                          0.00002563662275
                        ],
                        "iteration": 637,
                        "passed_time": 19.73854113,
                        "remaining_time": 11.19961111,
                        "test": [
                          0.00002773988567
                        ]
                      },
                      {
                        "learn": [
                          0.00002561114592
                        ],
                        "iteration": 638,
                        "passed_time": 19.74527343,
                        "remaining_time": 11.15499798,
                        "test": [
                          0.00002771420567
                        ]
                      },
                      {
                        "learn": [
                          0.00002558568925
                        ],
                        "iteration": 639,
                        "passed_time": 19.75205097,
                        "remaining_time": 11.11052867,
                        "test": [
                          0.00002768841091
                        ]
                      },
                      {
                        "learn": [
                          0.00002556031633
                        ],
                        "iteration": 640,
                        "passed_time": 19.75886071,
                        "remaining_time": 11.066195,
                        "test": [
                          0.00002767503584
                        ]
                      },
                      {
                        "learn": [
                          0.00002540466682
                        ],
                        "iteration": 641,
                        "passed_time": 19.7655432,
                        "remaining_time": 11.02190727,
                        "test": [
                          0.00002751448234
                        ]
                      },
                      {
                        "learn": [
                          0.00002536824055
                        ],
                        "iteration": 642,
                        "passed_time": 19.77225655,
                        "remaining_time": 10.97775364,
                        "test": [
                          0.00002747339869
                        ]
                      },
                      {
                        "learn": [
                          0.00002534325846
                        ],
                        "iteration": 643,
                        "passed_time": 19.78081281,
                        "remaining_time": 10.93473503,
                        "test": [
                          0.00002744404303
                        ]
                      },
                      {
                        "learn": [
                          0.00002530695782
                        ],
                        "iteration": 644,
                        "passed_time": 19.78746957,
                        "remaining_time": 10.89077783,
                        "test": [
                          0.00002740308655
                        ]
                      },
                      {
                        "learn": [
                          0.0000251677883
                        ],
                        "iteration": 645,
                        "passed_time": 19.79449394,
                        "remaining_time": 10.84713755,
                        "test": [
                          0.00002725887346
                        ]
                      },
                      {
                        "learn": [
                          0.00002513175441
                        ],
                        "iteration": 646,
                        "passed_time": 19.80116421,
                        "remaining_time": 10.80341726,
                        "test": [
                          0.00002721809378
                        ]
                      },
                      {
                        "learn": [
                          0.0000251069879
                        ],
                        "iteration": 647,
                        "passed_time": 19.80801832,
                        "remaining_time": 10.75991118,
                        "test": [
                          0.00002719318924
                        ]
                      },
                      {
                        "learn": [
                          0.0000250824168
                        ],
                        "iteration": 648,
                        "passed_time": 19.81474184,
                        "remaining_time": 10.71644744,
                        "test": [
                          0.00002716453769
                        ]
                      },
                      {
                        "learn": [
                          0.0000250467055
                        ],
                        "iteration": 649,
                        "passed_time": 19.82141087,
                        "remaining_time": 10.67306739,
                        "test": [
                          0.00002712404338
                        ]
                      },
                      {
                        "learn": [
                          0.00002502230501
                        ],
                        "iteration": 650,
                        "passed_time": 19.82821744,
                        "remaining_time": 10.62987387,
                        "test": [
                          0.00002709568341
                        ]
                      },
                      {
                        "learn": [
                          0.00002498688839
                        ],
                        "iteration": 651,
                        "passed_time": 19.83482585,
                        "remaining_time": 10.58668619,
                        "test": [
                          0.00002705541243
                        ]
                      },
                      {
                        "learn": [
                          0.00002495159583
                        ],
                        "iteration": 652,
                        "passed_time": 19.84142768,
                        "remaining_time": 10.54360705,
                        "test": [
                          0.00002701540821
                        ]
                      },
                      {
                        "learn": [
                          0.00002492732096
                        ],
                        "iteration": 653,
                        "passed_time": 19.84816848,
                        "remaining_time": 10.50071299,
                        "test": [
                          0.00002698724675
                        ]
                      },
                      {
                        "learn": [
                          0.00002490328338
                        ],
                        "iteration": 654,
                        "passed_time": 19.85487136,
                        "remaining_time": 10.45790934,
                        "test": [
                          0.00002695919076
                        ]
                      },
                      {
                        "learn": [
                          0.00002486833513
                        ],
                        "iteration": 655,
                        "passed_time": 19.86142192,
                        "remaining_time": 10.41513588,
                        "test": [
                          0.00002691986894
                        ]
                      },
                      {
                        "learn": [
                          0.00002484447901
                        ],
                        "iteration": 656,
                        "passed_time": 19.86826377,
                        "remaining_time": 10.37262477,
                        "test": [
                          0.00002689171058
                        ]
                      },
                      {
                        "learn": [
                          0.00002482054378
                        ],
                        "iteration": 657,
                        "passed_time": 19.87498569,
                        "remaining_time": 10.33015974,
                        "test": [
                          0.00002686403921
                        ]
                      },
                      {
                        "learn": [
                          0.00002467160506
                        ],
                        "iteration": 658,
                        "passed_time": 19.88173029,
                        "remaining_time": 10.28781491,
                        "test": [
                          0.00002670898835
                        ]
                      },
                      {
                        "learn": [
                          0.00002463704454
                        ],
                        "iteration": 659,
                        "passed_time": 19.88834779,
                        "remaining_time": 10.2455125,
                        "test": [
                          0.00002666976269
                        ]
                      },
                      {
                        "learn": [
                          0.0000246027787
                        ],
                        "iteration": 660,
                        "passed_time": 19.89496706,
                        "remaining_time": 10.20331896,
                        "test": [
                          0.00002663116049
                        ]
                      },
                      {
                        "learn": [
                          0.00002457912264
                        ],
                        "iteration": 661,
                        "passed_time": 19.90175658,
                        "remaining_time": 10.16131983,
                        "test": [
                          0.00002660722992
                        ]
                      },
                      {
                        "learn": [
                          0.00002442599335
                        ],
                        "iteration": 662,
                        "passed_time": 19.90833888,
                        "remaining_time": 10.11932157,
                        "test": [
                          0.00002644980926
                        ]
                      },
                      {
                        "learn": [
                          0.00002439198341
                        ],
                        "iteration": 663,
                        "passed_time": 19.91494615,
                        "remaining_time": 10.07744263,
                        "test": [
                          0.00002641117295
                        ]
                      },
                      {
                        "learn": [
                          0.00002436423915
                        ],
                        "iteration": 664,
                        "passed_time": 19.92178195,
                        "remaining_time": 10.03578489,
                        "test": [
                          0.00002637886435
                        ]
                      },
                      {
                        "learn": [
                          0.00002434093514
                        ],
                        "iteration": 665,
                        "passed_time": 19.9290925,
                        "remaining_time": 9.99446981,
                        "test": [
                          0.0000263520646
                        ]
                      },
                      {
                        "learn": [
                          0.00002430728656
                        ],
                        "iteration": 666,
                        "passed_time": 19.94061479,
                        "remaining_time": 9.955359409,
                        "test": [
                          0.00002631383772
                        ]
                      },
                      {
                        "learn": [
                          0.00002427380858
                        ],
                        "iteration": 667,
                        "passed_time": 19.9698423,
                        "remaining_time": 9.925131201,
                        "test": [
                          0.00002627591172
                        ]
                      },
                      {
                        "learn": [
                          0.00002424038332
                        ],
                        "iteration": 668,
                        "passed_time": 19.97668687,
                        "remaining_time": 9.883831622,
                        "test": [
                          0.00002623827729
                        ]
                      },
                      {
                        "learn": [
                          0.0000242071721
                        ],
                        "iteration": 669,
                        "passed_time": 19.98332408,
                        "remaining_time": 9.842532755,
                        "test": [
                          0.00002620065838
                        ]
                      },
                      {
                        "learn": [
                          0.00002417406323
                        ],
                        "iteration": 670,
                        "passed_time": 19.99029677,
                        "remaining_time": 9.801501697,
                        "test": [
                          0.00002616301464
                        ]
                      },
                      {
                        "learn": [
                          0.00002414661519
                        ],
                        "iteration": 671,
                        "passed_time": 19.99709606,
                        "remaining_time": 9.760487363,
                        "test": [
                          0.00002614191294
                        ]
                      },
                      {
                        "learn": [
                          0.00002411375447
                        ],
                        "iteration": 672,
                        "passed_time": 20.00375918,
                        "remaining_time": 9.719508548,
                        "test": [
                          0.0000261047717
                        ]
                      },
                      {
                        "learn": [
                          0.00002408681513
                        ],
                        "iteration": 673,
                        "passed_time": 20.01050448,
                        "remaining_time": 9.678671308,
                        "test": [
                          0.00002607363559
                        ]
                      },
                      {
                        "learn": [
                          0.00002405429872
                        ],
                        "iteration": 674,
                        "passed_time": 20.01724405,
                        "remaining_time": 9.637932322,
                        "test": [
                          0.00002603668357
                        ]
                      },
                      {
                        "learn": [
                          0.0000239129362
                        ],
                        "iteration": 675,
                        "passed_time": 20.0240307,
                        "remaining_time": 9.597316487,
                        "test": [
                          0.0000258915725
                        ]
                      },
                      {
                        "learn": [
                          0.00002389052552
                        ],
                        "iteration": 676,
                        "passed_time": 20.03088464,
                        "remaining_time": 9.556832702,
                        "test": [
                          0.00002586892608
                        ]
                      },
                      {
                        "learn": [
                          0.00002386818464
                        ],
                        "iteration": 677,
                        "passed_time": 20.04070078,
                        "remaining_time": 9.517854941,
                        "test": [
                          0.00002584320576
                        ]
                      },
                      {
                        "learn": [
                          0.00002383595979
                        ],
                        "iteration": 678,
                        "passed_time": 20.0483718,
                        "remaining_time": 9.477948966,
                        "test": [
                          0.00002580665077
                        ]
                      },
                      {
                        "learn": [
                          0.00002380392726
                        ],
                        "iteration": 679,
                        "passed_time": 20.05522841,
                        "remaining_time": 9.437754547,
                        "test": [
                          0.00002577029119
                        ]
                      },
                      {
                        "learn": [
                          0.00002365293979
                        ],
                        "iteration": 680,
                        "passed_time": 20.06259025,
                        "remaining_time": 9.397894698,
                        "test": [
                          0.00002561512401
                        ]
                      },
                      {
                        "learn": [
                          0.00002363099593
                        ],
                        "iteration": 681,
                        "passed_time": 20.07028495,
                        "remaining_time": 9.358285359,
                        "test": [
                          0.00002558951845
                        ]
                      },
                      {
                        "learn": [
                          0.00002360902416
                        ],
                        "iteration": 682,
                        "passed_time": 20.07764798,
                        "remaining_time": 9.318615532,
                        "test": [
                          0.00002556734662
                        ]
                      },
                      {
                        "learn": [
                          0.00002358712374
                        ],
                        "iteration": 683,
                        "passed_time": 20.08443559,
                        "remaining_time": 9.278774335,
                        "test": [
                          0.00002554203884
                        ]
                      },
                      {
                        "learn": [
                          0.00002355559215
                        ],
                        "iteration": 684,
                        "passed_time": 20.09113222,
                        "remaining_time": 9.238987811,
                        "test": [
                          0.0000255062562
                        ]
                      },
                      {
                        "learn": [
                          0.00002353386698
                        ],
                        "iteration": 685,
                        "passed_time": 20.09783123,
                        "remaining_time": 9.199298845,
                        "test": [
                          0.00002549464607
                        ]
                      },
                      {
                        "learn": [
                          0.0000235121356
                        ],
                        "iteration": 686,
                        "passed_time": 20.10461064,
                        "remaining_time": 9.159742548,
                        "test": [
                          0.00002546942514
                        ]
                      },
                      {
                        "learn": [
                          0.00002349063221
                        ],
                        "iteration": 687,
                        "passed_time": 20.11139186,
                        "remaining_time": 9.120282356,
                        "test": [
                          0.00002544420422
                        ]
                      },
                      {
                        "learn": [
                          0.00002345934101
                        ],
                        "iteration": 688,
                        "passed_time": 20.11789365,
                        "remaining_time": 9.080790893,
                        "test": [
                          0.00002540883102
                        ]
                      },
                      {
                        "learn": [
                          0.0000234378097
                        ],
                        "iteration": 689,
                        "passed_time": 20.1244917,
                        "remaining_time": 9.0414383,
                        "test": [
                          0.00002538706242
                        ]
                      },
                      {
                        "learn": [
                          0.00002340680697
                        ],
                        "iteration": 690,
                        "passed_time": 20.13113905,
                        "remaining_time": 9.002202557,
                        "test": [
                          0.00002535197149
                        ]
                      },
                      {
                        "learn": [
                          0.00002337583836
                        ],
                        "iteration": 691,
                        "passed_time": 20.13774557,
                        "remaining_time": 8.963042826,
                        "test": [
                          0.00002531690227
                        ]
                      },
                      {
                        "learn": [
                          0.00002334506517
                        ],
                        "iteration": 692,
                        "passed_time": 20.14424133,
                        "remaining_time": 8.923927975,
                        "test": [
                          0.00002528200675
                        ]
                      },
                      {
                        "learn": [
                          0.00002332385025
                        ],
                        "iteration": 693,
                        "passed_time": 20.15084888,
                        "remaining_time": 8.884956422,
                        "test": [
                          0.00002526062278
                        ]
                      },
                      {
                        "learn": [
                          0.00002318385098
                        ],
                        "iteration": 694,
                        "passed_time": 20.15741019,
                        "remaining_time": 8.846057711,
                        "test": [
                          0.0000251171991
                        ]
                      },
                      {
                        "learn": [
                          0.00002316668549
                        ],
                        "iteration": 695,
                        "passed_time": 20.17692104,
                        "remaining_time": 8.812908042,
                        "test": [
                          0.00002509591284
                        ]
                      },
                      {
                        "learn": [
                          0.00002314572026
                        ],
                        "iteration": 696,
                        "passed_time": 20.20624929,
                        "remaining_time": 8.784065329,
                        "test": [
                          0.00002507118355
                        ]
                      },
                      {
                        "learn": [
                          0.00002312488376
                        ],
                        "iteration": 697,
                        "passed_time": 20.22303279,
                        "remaining_time": 8.749793555,
                        "test": [
                          0.00002504703585
                        ]
                      },
                      {
                        "learn": [
                          0.00002309447193
                        ],
                        "iteration": 698,
                        "passed_time": 20.22979881,
                        "remaining_time": 8.711258141,
                        "test": [
                          0.00002501255443
                        ]
                      },
                      {
                        "learn": [
                          0.00002307365404
                        ],
                        "iteration": 699,
                        "passed_time": 20.2365171,
                        "remaining_time": 8.672793042,
                        "test": [
                          0.00002499156749
                        ]
                      },
                      {
                        "learn": [
                          0.00002293397582
                        ],
                        "iteration": 700,
                        "passed_time": 20.24580378,
                        "remaining_time": 8.635514025,
                        "test": [
                          0.00002484831751
                        ]
                      },
                      {
                        "learn": [
                          0.00002291328665
                        ],
                        "iteration": 701,
                        "passed_time": 20.25232371,
                        "remaining_time": 8.597140266,
                        "test": [
                          0.00002482761749
                        ]
                      },
                      {
                        "learn": [
                          0.00002289266263
                        ],
                        "iteration": 702,
                        "passed_time": 20.25914609,
                        "remaining_time": 8.558984907,
                        "test": [
                          0.00002480357991
                        ]
                      },
                      {
                        "learn": [
                          0.00002286272072
                        ],
                        "iteration": 703,
                        "passed_time": 20.26570298,
                        "remaining_time": 8.520806933,
                        "test": [
                          0.00002476967077
                        ]
                      },
                      {
                        "learn": [
                          0.00002283302076
                        ],
                        "iteration": 704,
                        "passed_time": 20.27232971,
                        "remaining_time": 8.482747892,
                        "test": [
                          0.00002473588416
                        ]
                      },
                      {
                        "learn": [
                          0.00002281242775
                        ],
                        "iteration": 705,
                        "passed_time": 20.28063688,
                        "remaining_time": 8.445477681,
                        "test": [
                          0.00002471528805
                        ]
                      },
                      {
                        "learn": [
                          0.0000227921015
                        ],
                        "iteration": 706,
                        "passed_time": 20.28747513,
                        "remaining_time": 8.407680641,
                        "test": [
                          0.00002469163664
                        ]
                      },
                      {
                        "learn": [
                          0.00002276254577
                        ],
                        "iteration": 707,
                        "passed_time": 20.29395031,
                        "remaining_time": 8.369821315,
                        "test": [
                          0.00002465803148
                        ]
                      },
                      {
                        "learn": [
                          0.00002274234515
                        ],
                        "iteration": 708,
                        "passed_time": 20.30074216,
                        "remaining_time": 8.332180492,
                        "test": [
                          0.00002463753153
                        ]
                      },
                      {
                        "learn": [
                          0.00002272376988
                        ],
                        "iteration": 709,
                        "passed_time": 20.30745912,
                        "remaining_time": 8.29459598,
                        "test": [
                          0.00002461416859
                        ]
                      },
                      {
                        "learn": [
                          0.00002269452278
                        ],
                        "iteration": 710,
                        "passed_time": 20.31407502,
                        "remaining_time": 8.257057217,
                        "test": [
                          0.00002458095426
                        ]
                      },
                      {
                        "learn": [
                          0.0000226744912
                        ],
                        "iteration": 711,
                        "passed_time": 20.32072796,
                        "remaining_time": 8.219620299,
                        "test": [
                          0.00002455740057
                        ]
                      },
                      {
                        "learn": [
                          0.00002265703104
                        ],
                        "iteration": 712,
                        "passed_time": 20.32762715,
                        "remaining_time": 8.182368852,
                        "test": [
                          0.00002454793535
                        ]
                      },
                      {
                        "learn": [
                          0.00002263695293
                        ],
                        "iteration": 713,
                        "passed_time": 20.33434784,
                        "remaining_time": 8.145130927,
                        "test": [
                          0.00002452763081
                        ]
                      },
                      {
                        "learn": [
                          0.00002249297868
                        ],
                        "iteration": 714,
                        "passed_time": 20.34105633,
                        "remaining_time": 8.1079735,
                        "test": [
                          0.00002437856027
                        ]
                      },
                      {
                        "learn": [
                          0.00002246421392
                        ],
                        "iteration": 715,
                        "passed_time": 20.34768671,
                        "remaining_time": 8.070870148,
                        "test": [
                          0.0000243461369
                        ]
                      },
                      {
                        "learn": [
                          0.00002244437155
                        ],
                        "iteration": 716,
                        "passed_time": 20.35428213,
                        "remaining_time": 8.033837997,
                        "test": [
                          0.00002432267471
                        ]
                      },
                      {
                        "learn": [
                          0.00002242626311
                        ],
                        "iteration": 717,
                        "passed_time": 20.3611729,
                        "remaining_time": 7.997006625,
                        "test": [
                          0.00002429971191
                        ]
                      },
                      {
                        "learn": [
                          0.00002239769686
                        ],
                        "iteration": 718,
                        "passed_time": 20.36902766,
                        "remaining_time": 7.96063529,
                        "test": [
                          0.00002426749792
                        ]
                      },
                      {
                        "learn": [
                          0.00002236915078
                        ],
                        "iteration": 719,
                        "passed_time": 20.37561339,
                        "remaining_time": 7.923849652,
                        "test": [
                          0.00002423516296
                        ]
                      },
                      {
                        "learn": [
                          0.00002234549162
                        ],
                        "iteration": 720,
                        "passed_time": 20.3822068,
                        "remaining_time": 7.88715076,
                        "test": [
                          0.00002420628187
                        ]
                      },
                      {
                        "learn": [
                          0.00002220712236
                        ],
                        "iteration": 721,
                        "passed_time": 20.38876708,
                        "remaining_time": 7.850522506,
                        "test": [
                          0.00002406470689
                        ]
                      },
                      {
                        "learn": [
                          0.00002218765997
                        ],
                        "iteration": 722,
                        "passed_time": 20.39557748,
                        "remaining_time": 7.814073254,
                        "test": [
                          0.00002404213646
                        ]
                      },
                      {
                        "learn": [
                          0.00002216833716
                        ],
                        "iteration": 723,
                        "passed_time": 20.40231585,
                        "remaining_time": 7.777678417,
                        "test": [
                          0.00002401955054
                        ]
                      },
                      {
                        "learn": [
                          0.00002214016795
                        ],
                        "iteration": 724,
                        "passed_time": 20.41034152,
                        "remaining_time": 7.741853681,
                        "test": [
                          0.00002398771652
                        ]
                      },
                      {
                        "learn": [
                          0.00002212094129
                        ],
                        "iteration": 725,
                        "passed_time": 20.41711015,
                        "remaining_time": 7.705631103,
                        "test": [
                          0.00002396514455
                        ]
                      },
                      {
                        "learn": [
                          0.00002209299076
                        ],
                        "iteration": 726,
                        "passed_time": 20.42373301,
                        "remaining_time": 7.669434815,
                        "test": [
                          0.0000239335928
                        ]
                      },
                      {
                        "learn": [
                          0.00002207386646
                        ],
                        "iteration": 727,
                        "passed_time": 20.43045569,
                        "remaining_time": 7.633357071,
                        "test": [
                          0.00002391133721
                        ]
                      },
                      {
                        "learn": [
                          0.0000220461284
                        ],
                        "iteration": 728,
                        "passed_time": 20.43692696,
                        "remaining_time": 7.597266402,
                        "test": [
                          0.00002387997467
                        ]
                      },
                      {
                        "learn": [
                          0.00002201835467
                        ],
                        "iteration": 729,
                        "passed_time": 20.44362109,
                        "remaining_time": 7.561339308,
                        "test": [
                          0.00002384852063
                        ]
                      },
                      {
                        "learn": [
                          0.00002199084615
                        ],
                        "iteration": 730,
                        "passed_time": 20.45315691,
                        "remaining_time": 7.526537904,
                        "test": [
                          0.00002381727751
                        ]
                      },
                      {
                        "learn": [
                          0.00002197354728
                        ],
                        "iteration": 731,
                        "passed_time": 20.46015004,
                        "remaining_time": 7.490874604,
                        "test": [
                          0.00002379530109
                        ]
                      },
                      {
                        "learn": [
                          0.00002195456722
                        ],
                        "iteration": 732,
                        "passed_time": 20.46688095,
                        "remaining_time": 7.455194017,
                        "test": [
                          0.00002377617214
                        ]
                      },
                      {
                        "learn": [
                          0.00002193587098
                        ],
                        "iteration": 733,
                        "passed_time": 20.4734792,
                        "remaining_time": 7.419544232,
                        "test": [
                          0.00002375724481
                        ]
                      },
                      {
                        "learn": [
                          0.00002191704291
                        ],
                        "iteration": 734,
                        "passed_time": 20.48059654,
                        "remaining_time": 7.384160658,
                        "test": [
                          0.00002373537075
                        ]
                      },
                      {
                        "learn": [
                          0.00002177932193
                        ],
                        "iteration": 735,
                        "passed_time": 20.4872109,
                        "remaining_time": 7.348673476,
                        "test": [
                          0.00002359763272
                        ]
                      },
                      {
                        "learn": [
                          0.00002176057141
                        ],
                        "iteration": 736,
                        "passed_time": 20.49394452,
                        "remaining_time": 7.313307205,
                        "test": [
                          0.00002357861544
                        ]
                      },
                      {
                        "learn": [
                          0.00002174194031
                        ],
                        "iteration": 737,
                        "passed_time": 20.50049127,
                        "remaining_time": 7.277952186,
                        "test": [
                          0.00002355998123
                        ]
                      },
                      {
                        "learn": [
                          0.00002172540138
                        ],
                        "iteration": 738,
                        "passed_time": 20.50709491,
                        "remaining_time": 7.242695226,
                        "test": [
                          0.0000235409593
                        ]
                      },
                      {
                        "learn": [
                          0.0000217069781
                        ],
                        "iteration": 739,
                        "passed_time": 20.5137598,
                        "remaining_time": 7.207537225,
                        "test": [
                          0.00002351928065
                        ]
                      },
                      {
                        "learn": [
                          0.00002168007753
                        ],
                        "iteration": 740,
                        "passed_time": 20.52043065,
                        "remaining_time": 7.172458217,
                        "test": [
                          0.0000234889138
                        ]
                      },
                      {
                        "learn": [
                          0.00002166159066
                        ],
                        "iteration": 741,
                        "passed_time": 20.52697541,
                        "remaining_time": 7.137411935,
                        "test": [
                          0.00002347037419
                        ]
                      },
                      {
                        "learn": [
                          0.00002163479556
                        ],
                        "iteration": 742,
                        "passed_time": 20.53369194,
                        "remaining_time": 7.102501788,
                        "test": [
                          0.00002344010505
                        ]
                      },
                      {
                        "learn": [
                          0.00002148925799
                        ],
                        "iteration": 743,
                        "passed_time": 20.54028061,
                        "remaining_time": 7.067623437,
                        "test": [
                          0.00002329092594
                        ]
                      },
                      {
                        "learn": [
                          0.00002147101927
                        ],
                        "iteration": 744,
                        "passed_time": 20.5476871,
                        "remaining_time": 7.033100953,
                        "test": [
                          0.00002327229794
                        ]
                      },
                      {
                        "learn": [
                          0.00002145272781
                        ],
                        "iteration": 745,
                        "passed_time": 20.55476951,
                        "remaining_time": 6.998540823,
                        "test": [
                          0.0000232539584
                        ]
                      },
                      {
                        "learn": [
                          0.0000214262522
                        ],
                        "iteration": 746,
                        "passed_time": 20.56120549,
                        "remaining_time": 6.963835328,
                        "test": [
                          0.00002322409559
                        ]
                      },
                      {
                        "learn": [
                          0.00002140815771
                        ],
                        "iteration": 747,
                        "passed_time": 20.56784087,
                        "remaining_time": 6.929272591,
                        "test": [
                          0.00002320566456
                        ]
                      },
                      {
                        "learn": [
                          0.00002138189767
                        ],
                        "iteration": 748,
                        "passed_time": 20.57430862,
                        "remaining_time": 6.894728256,
                        "test": [
                          0.0000231758886
                        ]
                      },
                      {
                        "learn": [
                          0.00002136390244
                        ],
                        "iteration": 749,
                        "passed_time": 20.58089516,
                        "remaining_time": 6.860298388,
                        "test": [
                          0.00002315509708
                        ]
                      },
                      {
                        "learn": [
                          0.00002133784557
                        ],
                        "iteration": 750,
                        "passed_time": 20.58737444,
                        "remaining_time": 6.825907104,
                        "test": [
                          0.00002312540952
                        ]
                      },
                      {
                        "learn": [
                          0.00002131185383
                        ],
                        "iteration": 751,
                        "passed_time": 20.59403881,
                        "remaining_time": 6.791651098,
                        "test": [
                          0.00002309592514
                        ]
                      },
                      {
                        "learn": [
                          0.00002129400904
                        ],
                        "iteration": 752,
                        "passed_time": 20.60062567,
                        "remaining_time": 6.757442949,
                        "test": [
                          0.00002307788338
                        ]
                      },
                      {
                        "learn": [
                          0.00002127614099
                        ],
                        "iteration": 753,
                        "passed_time": 20.60722841,
                        "remaining_time": 6.723313248,
                        "test": [
                          0.00002305717871
                        ]
                      },
                      {
                        "learn": [
                          0.00002125034932
                        ],
                        "iteration": 754,
                        "passed_time": 20.61386349,
                        "remaining_time": 6.68926696,
                        "test": [
                          0.00002302799054
                        ]
                      },
                      {
                        "learn": [
                          0.00002123267823
                        ],
                        "iteration": 755,
                        "passed_time": 20.62063498,
                        "remaining_time": 6.655337217,
                        "test": [
                          0.0000230101411
                        ]
                      },
                      {
                        "learn": [
                          0.00002120700599
                        ],
                        "iteration": 756,
                        "passed_time": 20.62712945,
                        "remaining_time": 6.621390298,
                        "test": [
                          0.00002298096224
                        ]
                      },
                      {
                        "learn": [
                          0.00002118143611
                        ],
                        "iteration": 757,
                        "passed_time": 20.63378999,
                        "remaining_time": 6.587568835,
                        "test": [
                          0.0000229520548
                        ]
                      },
                      {
                        "learn": [
                          0.0000210451001
                        ],
                        "iteration": 758,
                        "passed_time": 20.64042645,
                        "remaining_time": 6.553811297,
                        "test": [
                          0.00002281275344
                        ]
                      },
                      {
                        "learn": [
                          0.00002102752361
                        ],
                        "iteration": 759,
                        "passed_time": 20.6472039,
                        "remaining_time": 6.520169651,
                        "test": [
                          0.00002279502187
                        ]
                      },
                      {
                        "learn": [
                          0.00002100222824
                        ],
                        "iteration": 760,
                        "passed_time": 20.65379894,
                        "remaining_time": 6.486541324,
                        "test": [
                          0.00002276621988
                        ]
                      },
                      {
                        "learn": [
                          0.00002098483942
                        ],
                        "iteration": 761,
                        "passed_time": 20.66030043,
                        "remaining_time": 6.452954729,
                        "test": [
                          0.00002274610456
                        ]
                      },
                      {
                        "learn": [
                          0.00002096748161
                        ],
                        "iteration": 762,
                        "passed_time": 20.66716463,
                        "remaining_time": 6.419551793,
                        "test": [
                          0.00002272854513
                        ]
                      },
                      {
                        "learn": [
                          0.00002094233668
                        ],
                        "iteration": 763,
                        "passed_time": 20.67395344,
                        "remaining_time": 6.386195041,
                        "test": [
                          0.00002269994477
                        ]
                      },
                      {
                        "learn": [
                          0.00002092517429
                        ],
                        "iteration": 764,
                        "passed_time": 20.68073712,
                        "remaining_time": 6.352906175,
                        "test": [
                          0.0000226799256
                        ]
                      },
                      {
                        "learn": [
                          0.00002090017359
                        ],
                        "iteration": 765,
                        "passed_time": 20.68726959,
                        "remaining_time": 6.319609769,
                        "test": [
                          0.00002265162146
                        ]
                      },
                      {
                        "learn": [
                          0.00002087854612
                        ],
                        "iteration": 766,
                        "passed_time": 20.69393614,
                        "remaining_time": 6.286423887,
                        "test": [
                          0.00002263020802
                        ]
                      },
                      {
                        "learn": [
                          0.00002073486344
                        ],
                        "iteration": 767,
                        "passed_time": 20.70050136,
                        "remaining_time": 6.253276451,
                        "test": [
                          0.00002248329789
                        ]
                      },
                      {
                        "learn": [
                          0.00002071772276
                        ],
                        "iteration": 768,
                        "passed_time": 20.70719805,
                        "remaining_time": 6.220237646,
                        "test": [
                          0.00002246328027
                        ]
                      },
                      {
                        "learn": [
                          0.00002070075579
                        ],
                        "iteration": 769,
                        "passed_time": 20.71383677,
                        "remaining_time": 6.187249943,
                        "test": [
                          0.00002244356508
                        ]
                      },
                      {
                        "learn": [
                          0.0000206762033
                        ],
                        "iteration": 770,
                        "passed_time": 20.72040091,
                        "remaining_time": 6.154308442,
                        "test": [
                          0.00002241565332
                        ]
                      },
                      {
                        "learn": [
                          0.00002065161359
                        ],
                        "iteration": 771,
                        "passed_time": 20.72687888,
                        "remaining_time": 6.121409824,
                        "test": [
                          0.00002238784082
                        ]
                      },
                      {
                        "learn": [
                          0.0000206271402
                        ],
                        "iteration": 772,
                        "passed_time": 20.73348084,
                        "remaining_time": 6.088615978,
                        "test": [
                          0.00002236015704
                        ]
                      },
                      {
                        "learn": [
                          0.00002061035934
                        ],
                        "iteration": 773,
                        "passed_time": 20.74010613,
                        "remaining_time": 6.055896621,
                        "test": [
                          0.00002234308615
                        ]
                      },
                      {
                        "learn": [
                          0.00002058606741
                        ],
                        "iteration": 774,
                        "passed_time": 20.74665484,
                        "remaining_time": 6.023222372,
                        "test": [
                          0.00002231557453
                        ]
                      },
                      {
                        "learn": [
                          0.00002056175066
                        ],
                        "iteration": 775,
                        "passed_time": 20.75318796,
                        "remaining_time": 5.990610959,
                        "test": [
                          0.0000222881389
                        ]
                      },
                      {
                        "learn": [
                          0.00002053759986
                        ],
                        "iteration": 776,
                        "passed_time": 20.75980604,
                        "remaining_time": 5.958091051,
                        "test": [
                          0.00002226072188
                        ]
                      },
                      {
                        "learn": [
                          0.00002052106559
                        ],
                        "iteration": 777,
                        "passed_time": 20.76855449,
                        "remaining_time": 5.926245625,
                        "test": [
                          0.00002224140682
                        ]
                      },
                      {
                        "learn": [
                          0.00002050763159
                        ],
                        "iteration": 778,
                        "passed_time": 20.77544838,
                        "remaining_time": 5.893933366,
                        "test": [
                          0.00002222463371
                        ]
                      },
                      {
                        "learn": [
                          0.00002048363433
                        ],
                        "iteration": 779,
                        "passed_time": 20.78201377,
                        "remaining_time": 5.861593626,
                        "test": [
                          0.00002219751601
                        ]
                      },
                      {
                        "learn": [
                          0.00002046730788
                        ],
                        "iteration": 780,
                        "passed_time": 20.78885354,
                        "remaining_time": 5.829396833,
                        "test": [
                          0.0000221782754
                        ]
                      },
                      {
                        "learn": [
                          0.00002044335715
                        ],
                        "iteration": 781,
                        "passed_time": 20.79536923,
                        "remaining_time": 5.797174543,
                        "test": [
                          0.00002215134847
                        ]
                      },
                      {
                        "learn": [
                          0.00002030809437
                        ],
                        "iteration": 782,
                        "passed_time": 20.80183818,
                        "remaining_time": 5.765004961,
                        "test": [
                          0.00002201341347
                        ]
                      },
                      {
                        "learn": [
                          0.00002028451276
                        ],
                        "iteration": 783,
                        "passed_time": 20.80844187,
                        "remaining_time": 5.732938067,
                        "test": [
                          0.0000219865889
                        ]
                      },
                      {
                        "learn": [
                          0.00002026500384
                        ],
                        "iteration": 784,
                        "passed_time": 20.81512941,
                        "remaining_time": 5.70095901,
                        "test": [
                          0.00002196419683
                        ]
                      },
                      {
                        "learn": [
                          0.00002024144238
                        ],
                        "iteration": 785,
                        "passed_time": 20.82164848,
                        "remaining_time": 5.668998442,
                        "test": [
                          0.00002193734745
                        ]
                      },
                      {
                        "learn": [
                          0.00002022526947
                        ],
                        "iteration": 786,
                        "passed_time": 20.82835032,
                        "remaining_time": 5.637151992,
                        "test": [
                          0.00002192100084
                        ]
                      },
                      {
                        "learn": [
                          0.00002020914464
                        ],
                        "iteration": 787,
                        "passed_time": 20.83501039,
                        "remaining_time": 5.605358125,
                        "test": [
                          0.00002190215726
                        ]
                      },
                      {
                        "learn": [
                          0.00002018573518
                        ],
                        "iteration": 788,
                        "passed_time": 20.84156555,
                        "remaining_time": 5.573599913,
                        "test": [
                          0.00002187581967
                        ]
                      },
                      {
                        "learn": [
                          0.00002016977475
                        ],
                        "iteration": 789,
                        "passed_time": 20.84819609,
                        "remaining_time": 5.541925543,
                        "test": [
                          0.00002185728317
                        ]
                      },
                      {
                        "learn": [
                          0.00002015385153
                        ],
                        "iteration": 790,
                        "passed_time": 20.85484187,
                        "remaining_time": 5.510318522,
                        "test": [
                          0.00002183852955
                        ]
                      },
                      {
                        "learn": [
                          0.00002013062198
                        ],
                        "iteration": 791,
                        "passed_time": 20.8614022,
                        "remaining_time": 5.478752094,
                        "test": [
                          0.00002181218886
                        ]
                      },
                      {
                        "learn": [
                          0.00002010747927
                        ],
                        "iteration": 792,
                        "passed_time": 20.86786828,
                        "remaining_time": 5.447224127,
                        "test": [
                          0.00002178615215
                        ]
                      },
                      {
                        "learn": [
                          0.00002009170029
                        ],
                        "iteration": 793,
                        "passed_time": 20.87449788,
                        "remaining_time": 5.415801717,
                        "test": [
                          0.00002176761565
                        ]
                      },
                      {
                        "learn": [
                          0.00001994970345
                        ],
                        "iteration": 794,
                        "passed_time": 20.88102709,
                        "remaining_time": 5.384415789,
                        "test": [
                          0.00002162267208
                        ]
                      },
                      {
                        "learn": [
                          0.00001992683836
                        ],
                        "iteration": 795,
                        "passed_time": 20.88759263,
                        "remaining_time": 5.353101628,
                        "test": [
                          0.00002159682769
                        ]
                      },
                      {
                        "learn": [
                          0.00001991108265
                        ],
                        "iteration": 796,
                        "passed_time": 20.89409198,
                        "remaining_time": 5.321832712,
                        "test": [
                          0.00002157837804
                        ]
                      },
                      {
                        "learn": [
                          0.00001989540448
                        ],
                        "iteration": 797,
                        "passed_time": 20.90084948,
                        "remaining_time": 5.290691222,
                        "test": [
                          0.00002157000777
                        ]
                      },
                      {
                        "learn": [
                          0.00001987982092
                        ],
                        "iteration": 798,
                        "passed_time": 20.90769541,
                        "remaining_time": 5.259633014,
                        "test": [
                          0.00002155174423
                        ]
                      },
                      {
                        "learn": [
                          0.00001986423735
                        ],
                        "iteration": 799,
                        "passed_time": 20.91434673,
                        "remaining_time": 5.228586681,
                        "test": [
                          0.00002153370092
                        ]
                      },
                      {
                        "learn": [
                          0.00001984870032
                        ],
                        "iteration": 800,
                        "passed_time": 20.92117837,
                        "remaining_time": 5.197646062,
                        "test": [
                          0.00002151555215
                        ]
                      },
                      {
                        "learn": [
                          0.00001983313537
                        ],
                        "iteration": 801,
                        "passed_time": 20.92821414,
                        "remaining_time": 5.166815959,
                        "test": [
                          0.00002149966616
                        ]
                      },
                      {
                        "learn": [
                          0.00001981760298
                        ],
                        "iteration": 802,
                        "passed_time": 20.93472973,
                        "remaining_time": 5.135917506,
                        "test": [
                          0.00002148172211
                        ]
                      },
                      {
                        "learn": [
                          0.00001980211403
                        ],
                        "iteration": 803,
                        "passed_time": 20.94136571,
                        "remaining_time": 5.105109054,
                        "test": [
                          0.00002146623781
                        ]
                      },
                      {
                        "learn": [
                          0.00001978674914
                        ],
                        "iteration": 804,
                        "passed_time": 20.94805435,
                        "remaining_time": 5.074373413,
                        "test": [
                          0.00002144830616
                        ]
                      },
                      {
                        "learn": [
                          0.00001976429969
                        ],
                        "iteration": 805,
                        "passed_time": 20.96130085,
                        "remaining_time": 5.045275887,
                        "test": [
                          0.00002142274713
                        ]
                      },
                      {
                        "learn": [
                          0.00001974903562
                        ],
                        "iteration": 806,
                        "passed_time": 20.98974999,
                        "remaining_time": 5.019853468,
                        "test": [
                          0.00002140727214
                        ]
                      },
                      {
                        "learn": [
                          0.00001973368935
                        ],
                        "iteration": 807,
                        "passed_time": 20.99648052,
                        "remaining_time": 4.989262699,
                        "test": [
                          0.00002138960725
                        ]
                      },
                      {
                        "learn": [
                          0.00001971850437
                        ],
                        "iteration": 808,
                        "passed_time": 21.00319369,
                        "remaining_time": 4.958726816,
                        "test": [
                          0.00002137155153
                        ]
                      },
                      {
                        "learn": [
                          0.00001957736674
                        ],
                        "iteration": 809,
                        "passed_time": 21.00989651,
                        "remaining_time": 4.928247329,
                        "test": [
                          0.00002122758504
                        ]
                      },
                      {
                        "learn": [
                          0.00001956209491
                        ],
                        "iteration": 810,
                        "passed_time": 21.0165204,
                        "remaining_time": 4.897808083,
                        "test": [
                          0.00002121220309
                        ]
                      },
                      {
                        "learn": [
                          0.00001954700609
                        ],
                        "iteration": 811,
                        "passed_time": 21.02316073,
                        "remaining_time": 4.867431301,
                        "test": [
                          0.00002119464987
                        ]
                      },
                      {
                        "learn": [
                          0.00001953312232
                        ],
                        "iteration": 812,
                        "passed_time": 21.03264749,
                        "remaining_time": 4.837767626,
                        "test": [
                          0.0000211770951
                        ]
                      },
                      {
                        "learn": [
                          0.00001951944018
                        ],
                        "iteration": 813,
                        "passed_time": 21.04050694,
                        "remaining_time": 4.807781683,
                        "test": [
                          0.00002115962253
                        ]
                      },
                      {
                        "learn": [
                          0.00001950431724
                        ],
                        "iteration": 814,
                        "passed_time": 21.04723943,
                        "remaining_time": 4.777594227,
                        "test": [
                          0.00002114207396
                        ]
                      },
                      {
                        "learn": [
                          0.00001948939746
                        ],
                        "iteration": 815,
                        "passed_time": 21.05411553,
                        "remaining_time": 4.747496639,
                        "test": [
                          0.00002112461069
                        ]
                      },
                      {
                        "learn": [
                          0.00001946753736
                        ],
                        "iteration": 816,
                        "passed_time": 21.0606429,
                        "remaining_time": 4.717377786,
                        "test": [
                          0.00002109963791
                        ]
                      },
                      {
                        "learn": [
                          0.00001944585872
                        ],
                        "iteration": 817,
                        "passed_time": 21.06721676,
                        "remaining_time": 4.687326956,
                        "test": [
                          0.00002107516452
                        ]
                      },
                      {
                        "learn": [
                          0.00001943084124
                        ],
                        "iteration": 818,
                        "passed_time": 21.07402064,
                        "remaining_time": 4.657384293,
                        "test": [
                          0.00002106008811
                        ]
                      },
                      {
                        "learn": [
                          0.00001941603468
                        ],
                        "iteration": 819,
                        "passed_time": 21.08066647,
                        "remaining_time": 4.627463371,
                        "test": [
                          0.0000210427272
                        ]
                      },
                      {
                        "learn": [
                          0.00001940122037
                        ],
                        "iteration": 820,
                        "passed_time": 21.08727739,
                        "remaining_time": 4.597591539,
                        "test": [
                          0.00002102535544
                        ]
                      },
                      {
                        "learn": [
                          0.00001938649136
                        ],
                        "iteration": 821,
                        "passed_time": 21.09401997,
                        "remaining_time": 4.56780481,
                        "test": [
                          0.00002100839156
                        ]
                      },
                      {
                        "learn": [
                          0.0000192459896
                        ],
                        "iteration": 822,
                        "passed_time": 21.10065963,
                        "remaining_time": 4.538051949,
                        "test": [
                          0.00002086513694
                        ]
                      },
                      {
                        "learn": [
                          0.00001922837279
                        ],
                        "iteration": 823,
                        "passed_time": 21.10723392,
                        "remaining_time": 4.508341227,
                        "test": [
                          0.00002084459356
                        ]
                      },
                      {
                        "learn": [
                          0.00001921377406
                        ],
                        "iteration": 824,
                        "passed_time": 21.11388983,
                        "remaining_time": 4.478703902,
                        "test": [
                          0.00002082753042
                        ]
                      },
                      {
                        "learn": [
                          0.00001919238544
                        ],
                        "iteration": 825,
                        "passed_time": 21.12338905,
                        "remaining_time": 4.44972118,
                        "test": [
                          0.00002080335016
                        ]
                      },
                      {
                        "learn": [
                          0.00001917477483
                        ],
                        "iteration": 826,
                        "passed_time": 21.13003872,
                        "remaining_time": 4.420189479,
                        "test": [
                          0.00002078193827
                        ]
                      },
                      {
                        "learn": [
                          0.00001915353044
                        ],
                        "iteration": 827,
                        "passed_time": 21.13660947,
                        "remaining_time": 4.390696653,
                        "test": [
                          0.0000207577611
                        ]
                      },
                      {
                        "learn": [
                          0.00001913243494
                        ],
                        "iteration": 828,
                        "passed_time": 21.14319706,
                        "remaining_time": 4.361262602,
                        "test": [
                          0.00002073389102
                        ]
                      },
                      {
                        "learn": [
                          0.00001911793081
                        ],
                        "iteration": 829,
                        "passed_time": 21.14986177,
                        "remaining_time": 4.331899399,
                        "test": [
                          0.0000207171086
                        ]
                      },
                      {
                        "learn": [
                          0.00001910359418
                        ],
                        "iteration": 830,
                        "passed_time": 21.15645321,
                        "remaining_time": 4.302575924,
                        "test": [
                          0.00002070033704
                        ]
                      },
                      {
                        "learn": [
                          0.00001908255296
                        ],
                        "iteration": 831,
                        "passed_time": 21.16306049,
                        "remaining_time": 4.273310291,
                        "test": [
                          0.00002067665772
                        ]
                      },
                      {
                        "learn": [
                          0.00001906170405
                        ],
                        "iteration": 832,
                        "passed_time": 21.16966388,
                        "remaining_time": 4.244098281,
                        "test": [
                          0.00002065277523
                        ]
                      },
                      {
                        "learn": [
                          0.00001904090167
                        ],
                        "iteration": 833,
                        "passed_time": 21.17621624,
                        "remaining_time": 4.214930332,
                        "test": [
                          0.00002062919671
                        ]
                      },
                      {
                        "learn": [
                          0.00001902657745
                        ],
                        "iteration": 834,
                        "passed_time": 21.18287978,
                        "remaining_time": 4.18583852,
                        "test": [
                          0.0000206148911
                        ]
                      },
                      {
                        "learn": [
                          0.00001901222376
                        ],
                        "iteration": 835,
                        "passed_time": 21.20510643,
                        "remaining_time": 4.159853415,
                        "test": [
                          0.00002060039008
                        ]
                      },
                      {
                        "learn": [
                          0.0000189915439
                        ],
                        "iteration": 836,
                        "passed_time": 21.24076466,
                        "remaining_time": 4.136492998,
                        "test": [
                          0.00002057700233
                        ]
                      },
                      {
                        "learn": [
                          0.00001885209056
                        ],
                        "iteration": 837,
                        "passed_time": 21.25854644,
                        "remaining_time": 4.109647403,
                        "test": [
                          0.00002043450609
                        ]
                      },
                      {
                        "learn": [
                          0.00001883792608
                        ],
                        "iteration": 838,
                        "passed_time": 21.26582364,
                        "remaining_time": 4.080807636,
                        "test": [
                          0.0000204183487
                        ]
                      },
                      {
                        "learn": [
                          0.00001882379572
                        ],
                        "iteration": 839,
                        "passed_time": 21.27318535,
                        "remaining_time": 4.052035304,
                        "test": [
                          0.00002040394227
                        ]
                      },
                      {
                        "learn": [
                          0.00001880980339
                        ],
                        "iteration": 840,
                        "passed_time": 21.28107686,
                        "remaining_time": 4.023414056,
                        "test": [
                          0.00002038775541
                        ]
                      },
                      {
                        "learn": [
                          0.00001879579711
                        ],
                        "iteration": 841,
                        "passed_time": 21.28806206,
                        "remaining_time": 3.994671979,
                        "test": [
                          0.00002037137778
                        ]
                      },
                      {
                        "learn": [
                          0.00001878185441
                        ],
                        "iteration": 842,
                        "passed_time": 21.29469494,
                        "remaining_time": 3.965915903,
                        "test": [
                          0.0000203549955
                        ]
                      },
                      {
                        "learn": [
                          0.00001876150024
                        ],
                        "iteration": 843,
                        "passed_time": 21.30115793,
                        "remaining_time": 3.937180849,
                        "test": [
                          0.00002033200788
                        ]
                      },
                      {
                        "learn": [
                          0.00001874121587
                        ],
                        "iteration": 844,
                        "passed_time": 21.30767207,
                        "remaining_time": 3.908507894,
                        "test": [
                          0.00002030901251
                        ]
                      },
                      {
                        "learn": [
                          0.00001872098267
                        ],
                        "iteration": 845,
                        "passed_time": 21.31415101,
                        "remaining_time": 3.879880917,
                        "test": [
                          0.00002028621721
                        ]
                      },
                      {
                        "learn": [
                          0.00001870084408
                        ],
                        "iteration": 846,
                        "passed_time": 21.32073677,
                        "remaining_time": 3.851325532,
                        "test": [
                          0.00002026342966
                        ]
                      },
                      {
                        "learn": [
                          0.00001868073496
                        ],
                        "iteration": 847,
                        "passed_time": 21.32727987,
                        "remaining_time": 3.822814316,
                        "test": [
                          0.00002024042498
                        ]
                      },
                      {
                        "learn": [
                          0.00001866850137
                        ],
                        "iteration": 848,
                        "passed_time": 21.33391817,
                        "remaining_time": 3.794371783,
                        "test": [
                          0.00002022660326
                        ]
                      },
                      {
                        "learn": [
                          0.00001865475408
                        ],
                        "iteration": 849,
                        "passed_time": 21.34049701,
                        "remaining_time": 3.765970061,
                        "test": [
                          0.00002021063507
                        ]
                      },
                      {
                        "learn": [
                          0.00001864116499
                        ],
                        "iteration": 850,
                        "passed_time": 21.34714006,
                        "remaining_time": 3.737630869,
                        "test": [
                          0.00002019484213
                        ]
                      },
                      {
                        "learn": [
                          0.0000186210993
                        ],
                        "iteration": 851,
                        "passed_time": 21.35365147,
                        "remaining_time": 3.709319738,
                        "test": [
                          0.0000201723415
                        ]
                      },
                      {
                        "learn": [
                          0.00001849050321
                        ],
                        "iteration": 852,
                        "passed_time": 21.36029277,
                        "remaining_time": 3.681082107,
                        "test": [
                          0.00002004682311
                        ]
                      },
                      {
                        "learn": [
                          0.00001847059571
                        ],
                        "iteration": 853,
                        "passed_time": 21.36677547,
                        "remaining_time": 3.652867937,
                        "test": [
                          0.00002002440933
                        ]
                      },
                      {
                        "learn": [
                          0.00001845856063
                        ],
                        "iteration": 854,
                        "passed_time": 21.38497926,
                        "remaining_time": 3.626692389,
                        "test": [
                          0.00002001059535
                        ]
                      },
                      {
                        "learn": [
                          0.00001843889352
                        ],
                        "iteration": 855,
                        "passed_time": 21.40096941,
                        "remaining_time": 3.600163079,
                        "test": [
                          0.00001998838785
                        ]
                      },
                      {
                        "learn": [
                          0.00001842536646
                        ],
                        "iteration": 856,
                        "passed_time": 21.40813836,
                        "remaining_time": 3.572186448,
                        "test": [
                          0.0000199746964
                        ]
                      },
                      {
                        "learn": [
                          0.00001840565437
                        ],
                        "iteration": 857,
                        "passed_time": 21.41464253,
                        "remaining_time": 3.544148298,
                        "test": [
                          0.00001995228107
                        ]
                      },
                      {
                        "learn": [
                          0.00001838956211
                        ],
                        "iteration": 858,
                        "passed_time": 21.42119953,
                        "remaining_time": 3.516168957,
                        "test": [
                          0.00001993274578
                        ]
                      },
                      {
                        "learn": [
                          0.00001836991981
                        ],
                        "iteration": 859,
                        "passed_time": 21.42766885,
                        "remaining_time": 3.488225162,
                        "test": [
                          0.00001991052897
                        ]
                      },
                      {
                        "learn": [
                          0.00001835664091
                        ],
                        "iteration": 860,
                        "passed_time": 21.43422776,
                        "remaining_time": 3.460345713,
                        "test": [
                          0.00001989494386
                        ]
                      },
                      {
                        "learn": [
                          0.00001833719712
                        ],
                        "iteration": 861,
                        "passed_time": 21.44066736,
                        "remaining_time": 3.432496631,
                        "test": [
                          0.00001987302637
                        ]
                      },
                      {
                        "learn": [
                          0.00001832403143
                        ],
                        "iteration": 862,
                        "passed_time": 21.44709381,
                        "remaining_time": 3.404695077,
                        "test": [
                          0.00001985763977
                        ]
                      },
                      {
                        "learn": [
                          0.00001830472568
                        ],
                        "iteration": 863,
                        "passed_time": 21.45347925,
                        "remaining_time": 3.376936549,
                        "test": [
                          0.00001983571608
                        ]
                      },
                      {
                        "learn": [
                          0.00001829142971
                        ],
                        "iteration": 864,
                        "passed_time": 21.45993134,
                        "remaining_time": 3.349237839,
                        "test": [
                          0.00001982239995
                        ]
                      },
                      {
                        "learn": [
                          0.00001827220306
                        ],
                        "iteration": 865,
                        "passed_time": 21.46661181,
                        "remaining_time": 3.321623536,
                        "test": [
                          0.00001980049022
                        ]
                      },
                      {
                        "learn": [
                          0.00001825914748
                        ],
                        "iteration": 866,
                        "passed_time": 21.47326456,
                        "remaining_time": 3.294053272,
                        "test": [
                          0.00001978539365
                        ]
                      },
                      {
                        "learn": [
                          0.00001824602522
                        ],
                        "iteration": 867,
                        "passed_time": 21.4798437,
                        "remaining_time": 3.26652001,
                        "test": [
                          0.00001976989849
                        ]
                      },
                      {
                        "learn": [
                          0.00001810794133
                        ],
                        "iteration": 868,
                        "passed_time": 21.48638224,
                        "remaining_time": 3.239028853,
                        "test": [
                          0.00001962937501
                        ]
                      },
                      {
                        "learn": [
                          0.00001808903572
                        ],
                        "iteration": 869,
                        "passed_time": 21.49313185,
                        "remaining_time": 3.211617403,
                        "test": [
                          0.00001960806238
                        ]
                      },
                      {
                        "learn": [
                          0.00001807003705
                        ],
                        "iteration": 870,
                        "passed_time": 21.49966286,
                        "remaining_time": 3.18422102,
                        "test": [
                          0.00001958663654
                        ]
                      },
                      {
                        "learn": [
                          0.00001805449226
                        ],
                        "iteration": 871,
                        "passed_time": 21.50635155,
                        "remaining_time": 3.15689564,
                        "test": [
                          0.00001956857152
                        ]
                      },
                      {
                        "learn": [
                          0.00001804158247
                        ],
                        "iteration": 872,
                        "passed_time": 21.51296201,
                        "remaining_time": 3.129606158,
                        "test": [
                          0.00001955356334
                        ]
                      },
                      {
                        "learn": [
                          0.00001802865251
                        ],
                        "iteration": 873,
                        "passed_time": 21.51958705,
                        "remaining_time": 3.102366097,
                        "test": [
                          0.00001954053568
                        ]
                      },
                      {
                        "learn": [
                          0.00001800986942
                        ],
                        "iteration": 874,
                        "passed_time": 21.5261562,
                        "remaining_time": 3.075165172,
                        "test": [
                          0.00001951923391
                        ]
                      },
                      {
                        "learn": [
                          0.00001799116387
                        ],
                        "iteration": 875,
                        "passed_time": 21.53266055,
                        "remaining_time": 3.048002178,
                        "test": [
                          0.00001949811204
                        ]
                      },
                      {
                        "learn": [
                          0.00001797833008
                        ],
                        "iteration": 876,
                        "passed_time": 21.53928365,
                        "remaining_time": 3.020902952,
                        "test": [
                          0.00001948320778
                        ]
                      },
                      {
                        "learn": [
                          0.00001795977031
                        ],
                        "iteration": 877,
                        "passed_time": 21.54587872,
                        "remaining_time": 2.993846474,
                        "test": [
                          0.00001946207505
                        ]
                      },
                      {
                        "learn": [
                          0.000017941209
                        ],
                        "iteration": 878,
                        "passed_time": 21.55368082,
                        "remaining_time": 2.967002706,
                        "test": [
                          0.00001944105554
                        ]
                      },
                      {
                        "learn": [
                          0.00001792850393
                        ],
                        "iteration": 879,
                        "passed_time": 21.56086781,
                        "remaining_time": 2.940118338,
                        "test": [
                          0.000019426356
                        ]
                      },
                      {
                        "learn": [
                          0.00001791002327
                        ],
                        "iteration": 880,
                        "passed_time": 21.56741594,
                        "remaining_time": 2.913192392,
                        "test": [
                          0.00001940532098
                        ]
                      },
                      {
                        "learn": [
                          0.0000178916279
                        ],
                        "iteration": 881,
                        "passed_time": 21.57394024,
                        "remaining_time": 2.886309466,
                        "test": [
                          0.00001938458839
                        ]
                      },
                      {
                        "learn": [
                          0.00001787321392
                        ],
                        "iteration": 882,
                        "passed_time": 21.58051398,
                        "remaining_time": 2.859479202,
                        "test": [
                          0.00001936356888
                        ]
                      },
                      {
                        "learn": [
                          0.00001786065464
                        ],
                        "iteration": 883,
                        "passed_time": 21.58712502,
                        "remaining_time": 2.832699664,
                        "test": [
                          0.00001934896084
                        ]
                      },
                      {
                        "learn": [
                          0.00001784237249
                        ],
                        "iteration": 884,
                        "passed_time": 21.59522721,
                        "remaining_time": 2.806159468,
                        "test": [
                          0.00001932842367
                        ]
                      },
                      {
                        "learn": [
                          0.0000178241834
                        ],
                        "iteration": 885,
                        "passed_time": 21.60172134,
                        "remaining_time": 2.779453987,
                        "test": [
                          0.00001930769108
                        ]
                      },
                      {
                        "learn": [
                          0.00001768713242
                        ],
                        "iteration": 886,
                        "passed_time": 21.60837438,
                        "remaining_time": 2.752814324,
                        "test": [
                          0.000019168261
                        ]
                      },
                      {
                        "learn": [
                          0.00001767575338
                        ],
                        "iteration": 887,
                        "passed_time": 21.61502791,
                        "remaining_time": 2.726219736,
                        "test": [
                          0.00001915365451
                        ]
                      },
                      {
                        "learn": [
                          0.00001766007211
                        ],
                        "iteration": 888,
                        "passed_time": 21.62154664,
                        "remaining_time": 2.69965318,
                        "test": [
                          0.000019135087
                        ]
                      },
                      {
                        "learn": [
                          0.00001764761828
                        ],
                        "iteration": 889,
                        "passed_time": 21.62810027,
                        "remaining_time": 2.673135989,
                        "test": [
                          0.00001912245482
                        ]
                      },
                      {
                        "learn": [
                          0.00001763522805
                        ],
                        "iteration": 890,
                        "passed_time": 21.63462139,
                        "remaining_time": 2.646659631,
                        "test": [
                          0.00001910992655
                        ]
                      },
                      {
                        "learn": [
                          0.00001761730881
                        ],
                        "iteration": 891,
                        "passed_time": 21.6412034,
                        "remaining_time": 2.620235389,
                        "test": [
                          0.00001908969181
                        ]
                      },
                      {
                        "learn": [
                          0.00001760237818
                        ],
                        "iteration": 892,
                        "passed_time": 21.64784307,
                        "remaining_time": 2.593862495,
                        "test": [
                          0.00001907143757
                        ]
                      },
                      {
                        "learn": [
                          0.00001758776084
                        ],
                        "iteration": 893,
                        "passed_time": 21.65457732,
                        "remaining_time": 2.567544962,
                        "test": [
                          0.00001905474666
                        ]
                      },
                      {
                        "learn": [
                          0.00001757542334
                        ],
                        "iteration": 894,
                        "passed_time": 21.66115559,
                        "remaining_time": 2.541252891,
                        "test": [
                          0.00001904221219
                        ]
                      },
                      {
                        "learn": [
                          0.00001756323162
                        ],
                        "iteration": 895,
                        "passed_time": 21.66776301,
                        "remaining_time": 2.515008206,
                        "test": [
                          0.00001903570146
                        ]
                      },
                      {
                        "learn": [
                          0.00001754545817
                        ],
                        "iteration": 896,
                        "passed_time": 21.67417576,
                        "remaining_time": 2.488784953,
                        "test": [
                          0.00001901546206
                        ]
                      },
                      {
                        "learn": [
                          0.000017533268
                        ],
                        "iteration": 897,
                        "passed_time": 21.68083844,
                        "remaining_time": 2.46263421,
                        "test": [
                          0.00001900321916
                        ]
                      },
                      {
                        "learn": [
                          0.00001752243643
                        ],
                        "iteration": 898,
                        "passed_time": 21.68739742,
                        "remaining_time": 2.436515172,
                        "test": [
                          0.00001899098247
                        ]
                      },
                      {
                        "learn": [
                          0.00001751036569
                        ],
                        "iteration": 899,
                        "passed_time": 21.69402612,
                        "remaining_time": 2.410447347,
                        "test": [
                          0.00001897686452
                        ]
                      },
                      {
                        "learn": [
                          0.00001749827478
                        ],
                        "iteration": 900,
                        "passed_time": 21.70066255,
                        "remaining_time": 2.384423521,
                        "test": [
                          0.00001896284738
                        ]
                      },
                      {
                        "learn": [
                          0.00001748625831
                        ],
                        "iteration": 901,
                        "passed_time": 21.7072516,
                        "remaining_time": 2.358437535,
                        "test": [
                          0.00001894883024
                        ]
                      },
                      {
                        "learn": [
                          0.00001734979358
                        ],
                        "iteration": 902,
                        "passed_time": 21.71371093,
                        "remaining_time": 2.332480576,
                        "test": [
                          0.00001881008721
                        ]
                      },
                      {
                        "learn": [
                          0.00001734005075
                        ],
                        "iteration": 903,
                        "passed_time": 21.72074068,
                        "remaining_time": 2.306627329,
                        "test": [
                          0.00001879793737
                        ]
                      },
                      {
                        "learn": [
                          0.00001732800637
                        ],
                        "iteration": 904,
                        "passed_time": 21.72723795,
                        "remaining_time": 2.280759785,
                        "test": [
                          0.00001878402414
                        ]
                      },
                      {
                        "learn": [
                          0.00001731067803
                        ],
                        "iteration": 905,
                        "passed_time": 21.73362965,
                        "remaining_time": 2.254924048,
                        "test": [
                          0.00001876418177
                        ]
                      },
                      {
                        "learn": [
                          0.0000172932768
                        ],
                        "iteration": 906,
                        "passed_time": 21.74015997,
                        "remaining_time": 2.229145399,
                        "test": [
                          0.00001874434406
                        ]
                      },
                      {
                        "learn": [
                          0.00001728599372
                        ],
                        "iteration": 907,
                        "passed_time": 21.74709589,
                        "remaining_time": 2.203450245,
                        "test": [
                          0.00001873408012
                        ]
                      },
                      {
                        "learn": [
                          0.00001726858628
                        ],
                        "iteration": 908,
                        "passed_time": 21.75574768,
                        "remaining_time": 2.177968139,
                        "test": [
                          0.00001871452778
                        ]
                      },
                      {
                        "learn": [
                          0.00001725150609
                        ],
                        "iteration": 909,
                        "passed_time": 21.76237312,
                        "remaining_time": 2.152322616,
                        "test": [
                          0.00001869487462
                        ]
                      },
                      {
                        "learn": [
                          0.00001723422583
                        ],
                        "iteration": 910,
                        "passed_time": 21.76897852,
                        "remaining_time": 2.126716891,
                        "test": [
                          0.00001867553165
                        ]
                      },
                      {
                        "learn": [
                          0.00001722251334
                        ],
                        "iteration": 911,
                        "passed_time": 21.77564124,
                        "remaining_time": 2.101158365,
                        "test": [
                          0.00001866190068
                        ]
                      },
                      {
                        "learn": [
                          0.00001720549829
                        ],
                        "iteration": 912,
                        "passed_time": 21.78306487,
                        "remaining_time": 2.075713739,
                        "test": [
                          0.00001864238091
                        ]
                      },
                      {
                        "learn": [
                          0.00001719372066
                        ],
                        "iteration": 913,
                        "passed_time": 21.79054227,
                        "remaining_time": 2.050313605,
                        "test": [
                          0.00001862884455
                        ]
                      },
                      {
                        "learn": [
                          0.0000171820485
                        ],
                        "iteration": 914,
                        "passed_time": 21.79730886,
                        "remaining_time": 2.024886615,
                        "test": [
                          0.00001861720496
                        ]
                      },
                      {
                        "learn": [
                          0.00001716499002
                        ],
                        "iteration": 915,
                        "passed_time": 21.8039982,
                        "remaining_time": 1.999493285,
                        "test": [
                          0.00001859774722
                        ]
                      },
                      {
                        "learn": [
                          0.00001715326668
                        ],
                        "iteration": 916,
                        "passed_time": 21.81066995,
                        "remaining_time": 1.974139156,
                        "test": [
                          0.00001858422637
                        ]
                      },
                      {
                        "learn": [
                          0.00001713929761
                        ],
                        "iteration": 917,
                        "passed_time": 21.81730649,
                        "remaining_time": 1.948822584,
                        "test": [
                          0.0000185670283
                        ]
                      },
                      {
                        "learn": [
                          0.00001712769834
                        ],
                        "iteration": 918,
                        "passed_time": 21.82390432,
                        "remaining_time": 1.923543253,
                        "test": [
                          0.00001855559963
                        ]
                      },
                      {
                        "learn": [
                          0.00001711599827
                        ],
                        "iteration": 919,
                        "passed_time": 21.83117064,
                        "remaining_time": 1.898362664,
                        "test": [
                          0.00001854384372
                        ]
                      },
                      {
                        "learn": [
                          0.00001710446569
                        ],
                        "iteration": 920,
                        "passed_time": 21.8384371,
                        "remaining_time": 1.873220989,
                        "test": [
                          0.0000185319048
                        ]
                      },
                      {
                        "learn": [
                          0.00001708776081
                        ],
                        "iteration": 921,
                        "passed_time": 21.84563349,
                        "remaining_time": 1.848112161,
                        "test": [
                          0.00001851314497
                        ]
                      },
                      {
                        "learn": [
                          0.00001695211341
                        ],
                        "iteration": 922,
                        "passed_time": 21.85302306,
                        "remaining_time": 1.823058262,
                        "test": [
                          0.00001837516655
                        ]
                      },
                      {
                        "learn": [
                          0.00001694059168
                        ],
                        "iteration": 923,
                        "passed_time": 21.86058025,
                        "remaining_time": 1.798056384,
                        "test": [
                          0.0000183635254
                        ]
                      },
                      {
                        "learn": [
                          0.00001692908547
                        ],
                        "iteration": 924,
                        "passed_time": 21.86828484,
                        "remaining_time": 1.773104176,
                        "test": [
                          0.00001835188736
                        ]
                      },
                      {
                        "learn": [
                          0.00001691770178
                        ],
                        "iteration": 925,
                        "passed_time": 21.87551196,
                        "remaining_time": 1.748151064,
                        "test": [
                          0.00001833865653
                        ]
                      },
                      {
                        "learn": [
                          0.0000169011644
                        ],
                        "iteration": 926,
                        "passed_time": 21.88253601,
                        "remaining_time": 1.723220204,
                        "test": [
                          0.0000183199851
                        ]
                      },
                      {
                        "learn": [
                          0.000016887459
                        ],
                        "iteration": 927,
                        "passed_time": 21.88960304,
                        "remaining_time": 1.69833127,
                        "test": [
                          0.00001830428677
                        ]
                      },
                      {
                        "learn": [
                          0.00001687610632
                        ],
                        "iteration": 928,
                        "passed_time": 21.89667192,
                        "remaining_time": 1.673480846,
                        "test": [
                          0.00001829283484
                        ]
                      },
                      {
                        "learn": [
                          0.00001685973645
                        ],
                        "iteration": 929,
                        "passed_time": 21.90708855,
                        "remaining_time": 1.648920644,
                        "test": [
                          0.00001827418358
                        ]
                      },
                      {
                        "learn": [
                          0.00001684327041
                        ],
                        "iteration": 930,
                        "passed_time": 21.91421159,
                        "remaining_time": 1.624146723,
                        "test": [
                          0.00001825540979
                        ]
                      },
                      {
                        "learn": [
                          0.00001682687572
                        ],
                        "iteration": 931,
                        "passed_time": 21.9209786,
                        "remaining_time": 1.599384705,
                        "test": [
                          0.00001823695083
                        ]
                      },
                      {
                        "learn": [
                          0.00001681559594
                        ],
                        "iteration": 932,
                        "passed_time": 21.92780254,
                        "remaining_time": 1.574665348,
                        "test": [
                          0.00001822559196
                        ]
                      },
                      {
                        "learn": [
                          0.00001679934394
                        ],
                        "iteration": 933,
                        "passed_time": 21.9344967,
                        "remaining_time": 1.549975142,
                        "test": [
                          0.0000182072214
                        ]
                      },
                      {
                        "learn": [
                          0.00001678305936
                        ],
                        "iteration": 934,
                        "passed_time": 21.94109758,
                        "remaining_time": 1.525316944,
                        "test": [
                          0.00001818877021
                        ]
                      },
                      {
                        "learn": [
                          0.00001677192537
                        ],
                        "iteration": 935,
                        "passed_time": 21.94774041,
                        "remaining_time": 1.500700199,
                        "test": [
                          0.00001817740667
                        ]
                      },
                      {
                        "learn": [
                          0.00001675577417
                        ],
                        "iteration": 936,
                        "passed_time": 21.95440565,
                        "remaining_time": 1.476123325,
                        "test": [
                          0.00001815923774
                        ]
                      },
                      {
                        "learn": [
                          0.00001674471927
                        ],
                        "iteration": 937,
                        "passed_time": 21.96110713,
                        "remaining_time": 1.451587038,
                        "test": [
                          0.00001814621318
                        ]
                      },
                      {
                        "learn": [
                          0.00001672857273
                        ],
                        "iteration": 938,
                        "passed_time": 21.96802583,
                        "remaining_time": 1.427102849,
                        "test": [
                          0.00001812803805
                        ]
                      },
                      {
                        "learn": [
                          0.00001659858615
                        ],
                        "iteration": 939,
                        "passed_time": 21.98898502,
                        "remaining_time": 1.403552235,
                        "test": [
                          0.00001799807163
                        ]
                      },
                      {
                        "learn": [
                          0.00001658760104
                        ],
                        "iteration": 940,
                        "passed_time": 22.00644375,
                        "remaining_time": 1.379787653,
                        "test": [
                          0.00001798525025
                        ]
                      },
                      {
                        "learn": [
                          0.00001657666246
                        ],
                        "iteration": 941,
                        "passed_time": 22.01322842,
                        "remaining_time": 1.355379244,
                        "test": [
                          0.00001797220863
                        ]
                      },
                      {
                        "learn": [
                          0.00001656552381
                        ],
                        "iteration": 942,
                        "passed_time": 22.02297509,
                        "remaining_time": 1.331187254,
                        "test": [
                          0.00001796125764
                        ]
                      },
                      {
                        "learn": [
                          0.0000165496797
                        ],
                        "iteration": 943,
                        "passed_time": 22.03061426,
                        "remaining_time": 1.306900846,
                        "test": [
                          0.0000179430794
                        ]
                      },
                      {
                        "learn": [
                          0.0000165387954
                        ],
                        "iteration": 944,
                        "passed_time": 22.03758368,
                        "remaining_time": 1.28261069,
                        "test": [
                          0.00001793054493
                        ]
                      },
                      {
                        "learn": [
                          0.00001652284117
                        ],
                        "iteration": 945,
                        "passed_time": 22.04409886,
                        "remaining_time": 1.258331225,
                        "test": [
                          0.00001791266137
                        ]
                      },
                      {
                        "learn": [
                          0.00001651200495
                        ],
                        "iteration": 946,
                        "passed_time": 22.05090049,
                        "remaining_time": 1.234105307,
                        "test": [
                          0.00001789993148
                        ]
                      },
                      {
                        "learn": [
                          0.00001649901761
                        ],
                        "iteration": 947,
                        "passed_time": 22.05754994,
                        "remaining_time": 1.209907803,
                        "test": [
                          0.00001788471393
                        ]
                      },
                      {
                        "learn": [
                          0.00001648818139
                        ],
                        "iteration": 948,
                        "passed_time": 22.06442569,
                        "remaining_time": 1.185759442,
                        "test": [
                          0.00001787405297
                        ]
                      },
                      {
                        "learn": [
                          0.0000164724753
                        ],
                        "iteration": 949,
                        "passed_time": 22.07100177,
                        "remaining_time": 1.161631672,
                        "test": [
                          0.00001785618181
                        ]
                      },
                      {
                        "learn": [
                          0.00001646171042
                        ],
                        "iteration": 950,
                        "passed_time": 22.07771535,
                        "remaining_time": 1.137547899,
                        "test": [
                          0.00001784363803
                        ]
                      },
                      {
                        "learn": [
                          0.0000164509471
                        ],
                        "iteration": 951,
                        "passed_time": 22.08439544,
                        "remaining_time": 1.11349893,
                        "test": [
                          0.00001783277855
                        ]
                      },
                      {
                        "learn": [
                          0.00001643534492
                        ],
                        "iteration": 952,
                        "passed_time": 22.09105606,
                        "remaining_time": 1.089485451,
                        "test": [
                          0.00001781500355
                        ]
                      },
                      {
                        "learn": [
                          0.00001641976601
                        ],
                        "iteration": 953,
                        "passed_time": 22.09767608,
                        "remaining_time": 1.065506394,
                        "test": [
                          0.00001779742551
                        ]
                      },
                      {
                        "learn": [
                          0.00001640905076
                        ],
                        "iteration": 954,
                        "passed_time": 22.1043767,
                        "remaining_time": 1.041567488,
                        "test": [
                          0.00001778497789
                        ]
                      },
                      {
                        "learn": [
                          0.00001639354475
                        ],
                        "iteration": 955,
                        "passed_time": 22.1110316,
                        "remaining_time": 1.017662542,
                        "test": [
                          0.00001776740141
                        ]
                      },
                      {
                        "learn": [
                          0.00001638290549
                        ],
                        "iteration": 956,
                        "passed_time": 22.11771324,
                        "remaining_time": 0.9937948477,
                        "test": [
                          0.0000177549631
                        ]
                      },
                      {
                        "learn": [
                          0.00001636746927
                        ],
                        "iteration": 957,
                        "passed_time": 22.12425575,
                        "remaining_time": 0.9699569329,
                        "test": [
                          0.00001773759599
                        ]
                      },
                      {
                        "learn": [
                          0.00001635697424
                        ],
                        "iteration": 958,
                        "passed_time": 22.13093787,
                        "remaining_time": 0.9461610559,
                        "test": [
                          0.00001772525073
                        ]
                      },
                      {
                        "learn": [
                          0.00001634152561
                        ],
                        "iteration": 959,
                        "passed_time": 22.13746168,
                        "remaining_time": 0.9223942365,
                        "test": [
                          0.00001770796892
                        ]
                      },
                      {
                        "learn": [
                          0.00001632621346
                        ],
                        "iteration": 960,
                        "passed_time": 22.14408813,
                        "remaining_time": 0.8986674684,
                        "test": [
                          0.00001769038003
                        ]
                      },
                      {
                        "learn": [
                          0.00001631584871
                        ],
                        "iteration": 961,
                        "passed_time": 22.15091848,
                        "remaining_time": 0.8749843057,
                        "test": [
                          0.00001767823639
                        ]
                      },
                      {
                        "learn": [
                          0.00001618770152
                        ],
                        "iteration": 962,
                        "passed_time": 22.15778893,
                        "remaining_time": 0.8513376849,
                        "test": [
                          0.00001755439762
                        ]
                      },
                      {
                        "learn": [
                          0.00001617817272
                        ],
                        "iteration": 963,
                        "passed_time": 22.16438474,
                        "remaining_time": 0.8277156128,
                        "test": [
                          0.00001754205857
                        ]
                      },
                      {
                        "learn": [
                          0.0000161676808
                        ],
                        "iteration": 964,
                        "passed_time": 22.17103845,
                        "remaining_time": 0.8041309282,
                        "test": [
                          0.00001753168762
                        ]
                      },
                      {
                        "learn": [
                          0.00001615249272
                        ],
                        "iteration": 965,
                        "passed_time": 22.1776393,
                        "remaining_time": 0.7805794371,
                        "test": [
                          0.00001751449576
                        ]
                      },
                      {
                        "learn": [
                          0.00001613735892
                        ],
                        "iteration": 966,
                        "passed_time": 22.18413791,
                        "remaining_time": 0.7570595151,
                        "test": [
                          0.00001749721861
                        ]
                      },
                      {
                        "learn": [
                          0.00001612224684
                        ],
                        "iteration": 967,
                        "passed_time": 22.19070564,
                        "remaining_time": 0.733577046,
                        "test": [
                          0.00001748022992
                        ]
                      },
                      {
                        "learn": [
                          0.00001611305923
                        ],
                        "iteration": 968,
                        "passed_time": 22.19744489,
                        "remaining_time": 0.710134976,
                        "test": [
                          0.00001746975816
                        ]
                      },
                      {
                        "learn": [
                          0.00001610274102
                        ],
                        "iteration": 969,
                        "passed_time": 22.20408103,
                        "remaining_time": 0.6867241556,
                        "test": [
                          0.00001745761917
                        ]
                      },
                      {
                        "learn": [
                          0.00001609237317
                        ],
                        "iteration": 970,
                        "passed_time": 22.21071975,
                        "remaining_time": 0.6633479637,
                        "test": [
                          0.00001744714742
                        ]
                      },
                      {
                        "learn": [
                          0.00001607738671
                        ],
                        "iteration": 971,
                        "passed_time": 22.2298387,
                        "remaining_time": 0.6403657239,
                        "test": [
                          0.00001743026419
                        ]
                      },
                      {
                        "learn": [
                          0.00001606714294
                        ],
                        "iteration": 972,
                        "passed_time": 22.24056247,
                        "remaining_time": 0.6171584654,
                        "test": [
                          0.00001741999095
                        ]
                      },
                      {
                        "learn": [
                          0.00001605682317
                        ],
                        "iteration": 973,
                        "passed_time": 22.25225802,
                        "remaining_time": 0.5940027808,
                        "test": [
                          0.00001740952695
                        ]
                      },
                      {
                        "learn": [
                          0.00001604669882
                        ],
                        "iteration": 974,
                        "passed_time": 22.28122685,
                        "remaining_time": 0.5713135089,
                        "test": [
                          0.00001739756942
                        ]
                      },
                      {
                        "learn": [
                          0.00001603639921
                        ],
                        "iteration": 975,
                        "passed_time": 22.29675651,
                        "remaining_time": 0.5482808977,
                        "test": [
                          0.00001738710386
                        ]
                      },
                      {
                        "learn": [
                          0.00001602620507
                        ],
                        "iteration": 976,
                        "passed_time": 22.3034975,
                        "remaining_time": 0.5250567477,
                        "test": [
                          0.00001737554802
                        ]
                      },
                      {
                        "learn": [
                          0.00001601610398
                        ],
                        "iteration": 977,
                        "passed_time": 22.31017822,
                        "remaining_time": 0.5018649498,
                        "test": [
                          0.0000173636184
                        ]
                      },
                      {
                        "learn": [
                          0.00001600128657
                        ],
                        "iteration": 978,
                        "passed_time": 22.31677205,
                        "remaining_time": 0.4787050184,
                        "test": [
                          0.00001734691819
                        ]
                      },
                      {
                        "learn": [
                          0.00001587220727
                        ],
                        "iteration": 979,
                        "passed_time": 22.32326101,
                        "remaining_time": 0.4555767553,
                        "test": [
                          0.00001721626162
                        ]
                      },
                      {
                        "learn": [
                          0.00001586223026
                        ],
                        "iteration": 980,
                        "passed_time": 22.32975698,
                        "remaining_time": 0.4324825511,
                        "test": [
                          0.0000172045057
                        ]
                      },
                      {
                        "learn": [
                          0.00001584751055
                        ],
                        "iteration": 981,
                        "passed_time": 22.33616333,
                        "remaining_time": 0.4094205091,
                        "test": [
                          0.00001718791715
                        ]
                      },
                      {
                        "learn": [
                          0.00001583852612
                        ],
                        "iteration": 982,
                        "passed_time": 22.34269152,
                        "remaining_time": 0.3863944616,
                        "test": [
                          0.00001717774007
                        ]
                      },
                      {
                        "learn": [
                          0.00001582857547
                        ],
                        "iteration": 983,
                        "passed_time": 22.34933955,
                        "remaining_time": 0.3634038952,
                        "test": [
                          0.0000171658849
                        ]
                      },
                      {
                        "learn": [
                          0.00001581842785
                        ],
                        "iteration": 984,
                        "passed_time": 22.35599988,
                        "remaining_time": 0.3404466986,
                        "test": [
                          0.00001715582878
                        ]
                      },
                      {
                        "learn": [
                          0.00001580392838
                        ],
                        "iteration": 985,
                        "passed_time": 22.36250855,
                        "remaining_time": 0.3175204053,
                        "test": [
                          0.00001713912857
                        ]
                      },
                      {
                        "learn": [
                          0.00001579382574
                        ],
                        "iteration": 986,
                        "passed_time": 22.3690488,
                        "remaining_time": 0.2946277958,
                        "test": [
                          0.00001712906315
                        ]
                      },
                      {
                        "learn": [
                          0.00001578388439
                        ],
                        "iteration": 987,
                        "passed_time": 22.37573123,
                        "remaining_time": 0.2717700149,
                        "test": [
                          0.00001711918384
                        ]
                      },
                      {
                        "learn": [
                          0.00001577405782
                        ],
                        "iteration": 988,
                        "passed_time": 22.38234346,
                        "remaining_time": 0.2489441639,
                        "test": [
                          0.00001710763575
                        ]
                      },
                      {
                        "learn": [
                          0.00001576202894
                        ],
                        "iteration": 989,
                        "passed_time": 22.38891262,
                        "remaining_time": 0.2261506326,
                        "test": [
                          0.00001709834268
                        ]
                      },
                      {
                        "learn": [
                          0.00001574945415
                        ],
                        "iteration": 990,
                        "passed_time": 22.39554432,
                        "remaining_time": 0.2033904126,
                        "test": [
                          0.00001708322285
                        ]
                      },
                      {
                        "learn": [
                          0.00001573757572
                        ],
                        "iteration": 991,
                        "passed_time": 22.40218176,
                        "remaining_time": 0.1806627561,
                        "test": [
                          0.00001706850624
                        ]
                      },
                      {
                        "learn": [
                          0.00001572772743
                        ],
                        "iteration": 992,
                        "passed_time": 22.40921093,
                        "remaining_time": 0.1579702684,
                        "test": [
                          0.00001705705431
                        ]
                      },
                      {
                        "learn": [
                          0.00001571779849
                        ],
                        "iteration": 993,
                        "passed_time": 22.41585933,
                        "remaining_time": 0.135306998,
                        "test": [
                          0.00001704569543
                        ]
                      },
                      {
                        "learn": [
                          0.0000157036216
                        ],
                        "iteration": 994,
                        "passed_time": 22.42241887,
                        "remaining_time": 0.1126754717,
                        "test": [
                          0.00001702940155
                        ]
                      },
                      {
                        "learn": [
                          0.00001569645639
                        ],
                        "iteration": 995,
                        "passed_time": 22.4292532,
                        "remaining_time": 0.09007732208,
                        "test": [
                          0.00001702801504
                        ]
                      },
                      {
                        "learn": [
                          0.00001568475631
                        ],
                        "iteration": 996,
                        "passed_time": 22.43709324,
                        "remaining_time": 0.06751382118,
                        "test": [
                          0.00001701369702
                        ]
                      },
                      {
                        "learn": [
                          0.00001567045535
                        ],
                        "iteration": 997,
                        "passed_time": 22.44354344,
                        "remaining_time": 0.04497704096,
                        "test": [
                          0.00001699749309
                        ]
                      },
                      {
                        "learn": [
                          0.00001566072803
                        ],
                        "iteration": 998,
                        "passed_time": 22.45025558,
                        "remaining_time": 0.02247272831,
                        "test": [
                          0.00001698614042
                        ]
                      },
                      {
                        "learn": [
                          0.00001565102553
                        ],
                        "iteration": 999,
                        "passed_time": 22.45700572,
                        "remaining_time": 0,
                        "test": [
                          0.00001697635726
                        ]
                      }
                    ],
                    "meta": {
                      "test_sets": [
                        "test"
                      ],
                      "test_metrics": [
                        {
                          "best_value": "Min",
                          "name": "MultiClass"
                        }
                      ],
                      "learn_metrics": [
                        {
                          "best_value": "Min",
                          "name": "MultiClass"
                        }
                      ],
                      "launch_mode": "Train",
                      "parameters": "",
                      "iteration_count": 1000,
                      "learn_sets": [
                        "learn"
                      ],
                      "name": "experiment"
                    }
                  }
                }
              }
            },
            "layout": "IPY_MODEL_6b00305a72804f6ab1018e1f84310841"
          }
        }
      }
    },
    "accelerator": "GPU"
  },
  "cells": [
    {
      "cell_type": "markdown",
      "metadata": {
        "id": "view-in-github",
        "colab_type": "text"
      },
      "source": [
        "<a href=\"https://colab.research.google.com/github/Yanina-Kutovaya/GNN/blob/main/notebooks/5_1_CatBoost.ipynb\" target=\"_parent\"><img src=\"https://colab.research.google.com/assets/colab-badge.svg\" alt=\"Open In Colab\"/></a>"
      ]
    },
    {
      "cell_type": "markdown",
      "source": [
        "# Реализация CatBoostClassifier с использованием GPU (CUDA 12.5) для классификации узлов на датасете Bitcoin-OTC\n",
        "\n",
        "Задача — предсказать \"уровень доверия\" пользователей\n",
        "\n",
        "Признаки узлов/рёбер - синтетические"
      ],
      "metadata": {
        "id": "YCOQl0-4rgpv"
      }
    },
    {
      "cell_type": "markdown",
      "source": [
        "Небходимо выбрать среду выполнения с GPU: Среда выполнения → Сменить среду выполнения → Графический процессор T4"
      ],
      "metadata": {
        "id": "dE5Com4Fr4PG"
      }
    },
    {
      "cell_type": "markdown",
      "source": [
        "## 1. Установка зависимостей"
      ],
      "metadata": {
        "id": "5hgp6VWTshjH"
      }
    },
    {
      "cell_type": "markdown",
      "source": [
        "Требования:\n",
        "- CatBoost ≥1.2.2\n",
        "- PyTorch Geometric для загрузки данных\n"
      ],
      "metadata": {
        "id": "2_ESRcv8srxJ"
      }
    },
    {
      "cell_type": "markdown",
      "source": [
        "* CatBoost автоматически использует доступные GPU через CUDA, явная установка CUDA 12.5 не требуется"
      ],
      "metadata": {
        "id": "dwH_a7CotLHY"
      }
    },
    {
      "cell_type": "code",
      "source": [
        "install = True\n",
        "if install:\n",
        "  !pip install -q catboost\n",
        "  !pip install -q torch-geometric"
      ],
      "metadata": {
        "id": "syNkpHxOr0o5",
        "colab": {
          "base_uri": "https://localhost:8080/"
        },
        "outputId": "923f88fc-66aa-412b-f4fa-304a1accf71c"
      },
      "execution_count": 1,
      "outputs": [
        {
          "output_type": "stream",
          "name": "stdout",
          "text": [
            "\u001b[2K   \u001b[90m━━━━━━━━━━━━━━━━━━━━━━━━━━━━━━━━━━━━━━━━\u001b[0m \u001b[32m99.2/99.2 MB\u001b[0m \u001b[31m6.5 MB/s\u001b[0m eta \u001b[36m0:00:00\u001b[0m\n",
            "\u001b[2K     \u001b[90m━━━━━━━━━━━━━━━━━━━━━━━━━━━━━━━━━━━━━━━━\u001b[0m \u001b[32m63.1/63.1 kB\u001b[0m \u001b[31m2.7 MB/s\u001b[0m eta \u001b[36m0:00:00\u001b[0m\n",
            "\u001b[2K   \u001b[90m━━━━━━━━━━━━━━━━━━━━━━━━━━━━━━━━━━━━━━━━\u001b[0m \u001b[32m1.1/1.1 MB\u001b[0m \u001b[31m26.1 MB/s\u001b[0m eta \u001b[36m0:00:00\u001b[0m\n",
            "\u001b[?25h"
          ]
        }
      ]
    },
    {
      "cell_type": "markdown",
      "source": [
        "## 2. Импорт библиотек"
      ],
      "metadata": {
        "id": "ozuwHyaWsB-5"
      }
    },
    {
      "cell_type": "code",
      "source": [
        "import numpy as np\n",
        "import pandas as pd\n",
        "from catboost import CatBoostClassifier, Pool\n",
        "from torch_geometric.datasets import BitcoinOTC\n",
        "from sklearn.model_selection import train_test_split\n",
        "from sklearn.metrics import classification_report"
      ],
      "metadata": {
        "id": "wllZ2lz2tUEZ"
      },
      "execution_count": 2,
      "outputs": []
    },
    {
      "cell_type": "markdown",
      "source": [
        "## 3. Загрузка данных"
      ],
      "metadata": {
        "id": "HRF04tYPxl_7"
      }
    },
    {
      "cell_type": "code",
      "source": [
        "dataset = BitcoinOTC(root='/tmp/BitcoinOTC')\n",
        "data = dataset[0]"
      ],
      "metadata": {
        "id": "V8wKGX0ltWRC",
        "colab": {
          "base_uri": "https://localhost:8080/"
        },
        "outputId": "cc988647-bc6e-4d25-e850-67c75bd944c7"
      },
      "execution_count": 3,
      "outputs": [
        {
          "output_type": "stream",
          "name": "stderr",
          "text": [
            "Downloading https://snap.stanford.edu/data/soc-sign-bitcoinotc.csv.gz\n",
            "Extracting /tmp/BitcoinOTC/raw/soc-sign-bitcoinotc.csv.gz\n",
            "Processing...\n",
            "Done!\n"
          ]
        }
      ]
    },
    {
      "cell_type": "markdown",
      "source": [
        "## 4. Создание признаков узлов с учётом рёбер"
      ],
      "metadata": {
        "id": "KDJSrnVsxuq1"
      }
    },
    {
      "cell_type": "code",
      "source": [
        "def create_node_features(data):\n",
        "    num_nodes = data.num_nodes\n",
        "    features = []\n",
        "\n",
        "    # Степень узлов\n",
        "    degrees = np.zeros(num_nodes)\n",
        "    for src in data.edge_index[0].unique().cpu().numpy():\n",
        "        degrees[src] = (data.edge_index[0].cpu().numpy() == src).sum()\n",
        "\n",
        "    # Статистики по рёбрам\n",
        "    edge_attrs = [[] for _ in range(num_nodes)]\n",
        "    for i in range(data.edge_index.size(1)):\n",
        "        src = data.edge_index[0, i].item()\n",
        "        attr = data.edge_attr[i].item()\n",
        "        edge_attrs[src].append(attr)\n",
        "\n",
        "    # Создание фичей\n",
        "    for node_id in range(num_nodes):\n",
        "        node_feats = [\n",
        "            degrees[node_id],  # Степень узла\n",
        "            np.mean(edge_attrs[node_id]) if edge_attrs[node_id] else 0,  # Среднее значение рёбер\n",
        "            np.max(edge_attrs[node_id]) if edge_attrs[node_id] else 0,   # Максимум\n",
        "            np.min(edge_attrs[node_id]) if edge_attrs[node_id] else 0,   # Минимум\n",
        "            len(edge_attrs[node_id])                                      # Количество рёбер\n",
        "        ]\n",
        "        features.append(node_feats)\n",
        "\n",
        "    return np.array(features)"
      ],
      "metadata": {
        "id": "cEa_9JUvtXqZ"
      },
      "execution_count": 4,
      "outputs": []
    },
    {
      "cell_type": "markdown",
      "source": [
        "## 5. Подготовка данных"
      ],
      "metadata": {
        "id": "N3tBESn5x1bB"
      }
    },
    {
      "cell_type": "code",
      "source": [
        "X = create_node_features(data)\n",
        "y = np.zeros(data.num_nodes)\n",
        "\n",
        "# Создание меток (3 класса)\n",
        "q1 = np.quantile(X[:, 0], 0.5)\n",
        "q2 = np.quantile(X[:, 0], 0.999)\n",
        "y[X[:, 0] > q2] = 2\n",
        "y[(X[:, 0] > q1) & (X[:, 0] <= q2)] = 1"
      ],
      "metadata": {
        "id": "lbVFWlgjtbez"
      },
      "execution_count": 5,
      "outputs": []
    },
    {
      "cell_type": "markdown",
      "source": [
        "## 6. Разделение данных"
      ],
      "metadata": {
        "id": "p7oQxlCzx6QZ"
      }
    },
    {
      "cell_type": "code",
      "source": [
        "X_train, X_test, y_train, y_test = train_test_split(\n",
        "    X, y,\n",
        "    test_size=0.2,\n",
        "    stratify=y,\n",
        "    random_state=42\n",
        ")"
      ],
      "metadata": {
        "id": "vIC2EBNKthNL"
      },
      "execution_count": 6,
      "outputs": []
    },
    {
      "cell_type": "markdown",
      "source": [
        "## 7. Создание CatBoost модели с GPU"
      ],
      "metadata": {
        "id": "6hA_2K_Lx-r1"
      }
    },
    {
      "cell_type": "code",
      "source": [
        "model = CatBoostClassifier(\n",
        "    iterations=1000,\n",
        "    learning_rate=0.1,\n",
        "    depth=8,\n",
        "    loss_function='MultiClass',\n",
        "    task_type='GPU',  # Включение GPU\n",
        "    devices='0:1',    # Использование первого GPU\n",
        "    verbose=100,\n",
        "    early_stopping_rounds=50\n",
        ")"
      ],
      "metadata": {
        "id": "_zQpjgzitizP"
      },
      "execution_count": 7,
      "outputs": []
    },
    {
      "cell_type": "markdown",
      "source": [
        "## 8. Обучение"
      ],
      "metadata": {
        "id": "9rCWtMJVyDp7"
      }
    },
    {
      "cell_type": "code",
      "source": [
        "model.fit(\n",
        "    X_train, y_train,\n",
        "    eval_set=(X_test, y_test),\n",
        "    plot=True\n",
        ")"
      ],
      "metadata": {
        "colab": {
          "base_uri": "https://localhost:8080/",
          "height": 260,
          "referenced_widgets": [
            "eea5d62f6bc64bfab81a977510f37aff"
          ]
        },
        "id": "3Gt9avFytk6w",
        "outputId": "2ca58b7a-7dbd-47b4-c536-2350a19aa7f8"
      },
      "execution_count": 8,
      "outputs": [
        {
          "output_type": "display_data",
          "data": {
            "text/plain": [
              "MetricVisualizer(layout=Layout(align_self='stretch', height='500px'))"
            ],
            "application/vnd.jupyter.widget-view+json": {
              "version_major": 2,
              "version_minor": 0,
              "model_id": "eea5d62f6bc64bfab81a977510f37aff"
            }
          },
          "metadata": {}
        },
        {
          "output_type": "stream",
          "name": "stdout",
          "text": [
            "0:\tlearn: 0.9095124\ttest: 0.9095340\tbest: 0.9095340 (0)\ttotal: 23.4ms\tremaining: 23.4s\n",
            "100:\tlearn: 0.0003852\ttest: 0.0004015\tbest: 0.0004015 (100)\ttotal: 2.15s\tremaining: 19.2s\n",
            "200:\tlearn: 0.0001087\ttest: 0.0001161\tbest: 0.0001161 (200)\ttotal: 7.38s\tremaining: 29.4s\n",
            "300:\tlearn: 0.0000629\ttest: 0.0000676\tbest: 0.0000676 (300)\ttotal: 11.1s\tremaining: 25.7s\n",
            "400:\tlearn: 0.0000440\ttest: 0.0000476\tbest: 0.0000476 (400)\ttotal: 15.9s\tremaining: 23.8s\n",
            "500:\tlearn: 0.0000337\ttest: 0.0000365\tbest: 0.0000365 (500)\ttotal: 18.7s\tremaining: 18.6s\n",
            "600:\tlearn: 0.0000273\ttest: 0.0000296\tbest: 0.0000296 (600)\ttotal: 19.5s\tremaining: 12.9s\n",
            "700:\tlearn: 0.0000229\ttest: 0.0000248\tbest: 0.0000248 (700)\ttotal: 20.2s\tremaining: 8.63s\n",
            "800:\tlearn: 0.0000198\ttest: 0.0000215\tbest: 0.0000215 (800)\ttotal: 20.9s\tremaining: 5.2s\n",
            "900:\tlearn: 0.0000175\ttest: 0.0000190\tbest: 0.0000190 (900)\ttotal: 21.7s\tremaining: 2.38s\n",
            "999:\tlearn: 0.0000157\ttest: 0.0000170\tbest: 0.0000170 (999)\ttotal: 22.5s\tremaining: 0us\n",
            "bestTest = 1.697635726e-05\n",
            "bestIteration = 999\n"
          ]
        },
        {
          "output_type": "execute_result",
          "data": {
            "text/plain": [
              "<catboost.core.CatBoostClassifier at 0x783562e233d0>"
            ]
          },
          "metadata": {},
          "execution_count": 8
        }
      ]
    },
    {
      "cell_type": "markdown",
      "source": [
        "## 9. Оценка"
      ],
      "metadata": {
        "id": "Y1Um4P5GyK05"
      }
    },
    {
      "cell_type": "code",
      "source": [
        "y_pred = model.predict(X_test)\n",
        "print(classification_report(y_test, y_pred, labels=[0, 1, 2]))"
      ],
      "metadata": {
        "colab": {
          "base_uri": "https://localhost:8080/"
        },
        "id": "KgEKu4uuty6F",
        "outputId": "488b9ab7-335b-471b-b1a6-0ab885b013ed"
      },
      "execution_count": 9,
      "outputs": [
        {
          "output_type": "stream",
          "name": "stdout",
          "text": [
            "              precision    recall  f1-score   support\n",
            "\n",
            "           0       1.00      1.00      1.00      1198\n",
            "           1       1.00      1.00      1.00         2\n",
            "           2       1.00      1.00      1.00         1\n",
            "\n",
            "    accuracy                           1.00      1201\n",
            "   macro avg       1.00      1.00      1.00      1201\n",
            "weighted avg       1.00      1.00      1.00      1201\n",
            "\n"
          ]
        }
      ]
    },
    {
      "cell_type": "markdown",
      "source": [
        "## 10. Важность признаков"
      ],
      "metadata": {
        "id": "6EXQ93LVyPSR"
      }
    },
    {
      "cell_type": "code",
      "source": [
        "feature_names = ['Degree', 'EdgeMean', 'EdgeMax', 'EdgeMin', 'EdgeCount']\n",
        "print(\"\\nFeature Importance:\")\n",
        "for name, score in zip(feature_names, model.get_feature_importance()):\n",
        "    print(f\"{name}: {score:.2f}\")"
      ],
      "metadata": {
        "colab": {
          "base_uri": "https://localhost:8080/"
        },
        "id": "5p5L1DUvsKws",
        "outputId": "5a5bb0df-3273-4250-d478-291dca4c2ce5"
      },
      "execution_count": 10,
      "outputs": [
        {
          "output_type": "stream",
          "name": "stdout",
          "text": [
            "\n",
            "Feature Importance:\n",
            "Degree: 65.38\n",
            "EdgeMean: 5.44\n",
            "EdgeMax: 0.22\n",
            "EdgeMin: 0.94\n",
            "EdgeCount: 28.03\n"
          ]
        }
      ]
    }
  ]
}