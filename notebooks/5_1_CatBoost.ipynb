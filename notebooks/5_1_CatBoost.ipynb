{
  "nbformat": 4,
  "nbformat_minor": 0,
  "metadata": {
    "colab": {
      "provenance": [],
      "gpuType": "T4",
      "authorship_tag": "ABX9TyO6Ts/q4rq68pNabZs6QlGt",
      "include_colab_link": true
    },
    "kernelspec": {
      "name": "python3",
      "display_name": "Python 3"
    },
    "language_info": {
      "name": "python"
    },
    "widgets": {
      "application/vnd.jupyter.widget-state+json": {
        "477282d693ed4344927d57b477e4f693": {
          "model_module": "catboost-widget",
          "model_name": "CatboostWidgetModel",
          "model_module_version": "^1.0.0",
          "state": {
            "_dom_classes": [],
            "_model_module": "catboost-widget",
            "_model_module_version": "^1.0.0",
            "_model_name": "CatboostWidgetModel",
            "_view_count": null,
            "_view_module": "catboost-widget",
            "_view_module_version": "^1.0.0",
            "_view_name": "CatboostWidgetView",
            "data": {
              "catboost_info": {
                "path": "catboost_info",
                "name": "catboost_info",
                "content": {
                  "passed_iterations": 999,
                  "total_iterations": 1000,
                  "data": {
                    "iterations": [
                      {
                        "learn": [
                          0.9095123571
                        ],
                        "iteration": 0,
                        "passed_time": 0.06894653082,
                        "remaining_time": 68.87758428,
                        "test": [
                          0.9095340065
                        ]
                      },
                      {
                        "learn": [
                          0.7691730687
                        ],
                        "iteration": 1,
                        "passed_time": 0.1375762929,
                        "remaining_time": 68.65057015,
                        "test": [
                          0.769208033
                        ]
                      },
                      {
                        "learn": [
                          0.6595520477
                        ],
                        "iteration": 2,
                        "passed_time": 0.2365179318,
                        "remaining_time": 78.60279268,
                        "test": [
                          0.6595953974
                        ]
                      },
                      {
                        "learn": [
                          0.5711204408
                        ],
                        "iteration": 3,
                        "passed_time": 0.3681320381,
                        "remaining_time": 91.6648775,
                        "test": [
                          0.5711692283
                        ]
                      },
                      {
                        "learn": [
                          0.4981785503
                        ],
                        "iteration": 4,
                        "passed_time": 0.445938869,
                        "remaining_time": 88.74183493,
                        "test": [
                          0.4982309461
                        ]
                      },
                      {
                        "learn": [
                          0.437027778
                        ],
                        "iteration": 5,
                        "passed_time": 0.5225479581,
                        "remaining_time": 86.56877839,
                        "test": [
                          0.4370823081
                        ]
                      },
                      {
                        "learn": [
                          0.3851239334
                        ],
                        "iteration": 6,
                        "passed_time": 0.5752944832,
                        "remaining_time": 81.60963168,
                        "test": [
                          0.3851796578
                        ]
                      },
                      {
                        "learn": [
                          0.3406391382
                        ],
                        "iteration": 7,
                        "passed_time": 0.6273101843,
                        "remaining_time": 77.78646285,
                        "test": [
                          0.3406955233
                        ]
                      },
                      {
                        "learn": [
                          0.3022154745
                        ],
                        "iteration": 8,
                        "passed_time": 0.6836528127,
                        "remaining_time": 75.27777082,
                        "test": [
                          0.3022718342
                        ]
                      },
                      {
                        "learn": [
                          0.2688151668
                        ],
                        "iteration": 9,
                        "passed_time": 0.7223981057,
                        "remaining_time": 71.51741247,
                        "test": [
                          0.2688711962
                        ]
                      },
                      {
                        "learn": [
                          0.2396282415
                        ],
                        "iteration": 10,
                        "passed_time": 0.7594089,
                        "remaining_time": 68.27776383,
                        "test": [
                          0.2396837373
                        ]
                      },
                      {
                        "learn": [
                          0.2140099925
                        ],
                        "iteration": 11,
                        "passed_time": 0.7996450102,
                        "remaining_time": 65.83743917,
                        "test": [
                          0.2140647259
                        ]
                      },
                      {
                        "learn": [
                          0.1914399438
                        ],
                        "iteration": 12,
                        "passed_time": 0.8372589567,
                        "remaining_time": 63.56727618,
                        "test": [
                          0.1914937625
                        ]
                      },
                      {
                        "learn": [
                          0.1714916626
                        ],
                        "iteration": 13,
                        "passed_time": 0.8750145016,
                        "remaining_time": 61.62602132,
                        "test": [
                          0.1715444903
                        ]
                      },
                      {
                        "learn": [
                          0.1538118462
                        ],
                        "iteration": 14,
                        "passed_time": 0.9125437533,
                        "remaining_time": 59.92370647,
                        "test": [
                          0.1538635813
                        ]
                      },
                      {
                        "learn": [
                          0.1381051908
                        ],
                        "iteration": 15,
                        "passed_time": 0.9505806698,
                        "remaining_time": 58.46071119,
                        "test": [
                          0.1381557824
                        ]
                      },
                      {
                        "learn": [
                          0.1241225498
                        ],
                        "iteration": 16,
                        "passed_time": 0.9834399083,
                        "remaining_time": 56.86596646,
                        "test": [
                          0.1241719852
                        ]
                      },
                      {
                        "learn": [
                          0.111652333
                        ],
                        "iteration": 17,
                        "passed_time": 1.005242101,
                        "remaining_time": 54.84154129,
                        "test": [
                          0.1117005868
                        ]
                      },
                      {
                        "learn": [
                          0.100512877
                        ],
                        "iteration": 18,
                        "passed_time": 1.022836252,
                        "remaining_time": 52.81065072,
                        "test": [
                          0.100559981
                        ]
                      },
                      {
                        "learn": [
                          0.09054835412
                        ],
                        "iteration": 19,
                        "passed_time": 1.049796452,
                        "remaining_time": 51.44002613,
                        "test": [
                          0.09059427025
                        ]
                      },
                      {
                        "learn": [
                          0.08162380476
                        ],
                        "iteration": 20,
                        "passed_time": 1.085040778,
                        "remaining_time": 50.5835677,
                        "test": [
                          0.08166854566
                        ]
                      },
                      {
                        "learn": [
                          0.07362192934
                        ],
                        "iteration": 21,
                        "passed_time": 1.122483642,
                        "remaining_time": 49.89950008,
                        "test": [
                          0.07366552678
                        ]
                      },
                      {
                        "learn": [
                          0.0664402043
                        ],
                        "iteration": 22,
                        "passed_time": 1.160075029,
                        "remaining_time": 49.27796971,
                        "test": [
                          0.0664826837
                        ]
                      },
                      {
                        "learn": [
                          0.05998910972
                        ],
                        "iteration": 23,
                        "passed_time": 1.199849858,
                        "remaining_time": 48.79389424,
                        "test": [
                          0.06003047743
                        ]
                      },
                      {
                        "learn": [
                          0.05418988052
                        ],
                        "iteration": 24,
                        "passed_time": 1.237954044,
                        "remaining_time": 48.28020772,
                        "test": [
                          0.0542301556
                        ]
                      },
                      {
                        "learn": [
                          0.04897267376
                        ],
                        "iteration": 25,
                        "passed_time": 1.275835151,
                        "remaining_time": 47.79474757,
                        "test": [
                          0.04901188796
                        ]
                      },
                      {
                        "learn": [
                          0.04427643521
                        ],
                        "iteration": 26,
                        "passed_time": 1.314357201,
                        "remaining_time": 47.36553911,
                        "test": [
                          0.04431461712
                        ]
                      },
                      {
                        "learn": [
                          0.04004681577
                        ],
                        "iteration": 27,
                        "passed_time": 1.352681479,
                        "remaining_time": 46.95737133,
                        "test": [
                          0.04008398127
                        ]
                      },
                      {
                        "learn": [
                          0.03623538053
                        ],
                        "iteration": 28,
                        "passed_time": 1.391586774,
                        "remaining_time": 46.59416407,
                        "test": [
                          0.03627157092
                        ]
                      },
                      {
                        "learn": [
                          0.03279931658
                        ],
                        "iteration": 29,
                        "passed_time": 1.431859854,
                        "remaining_time": 46.29680193,
                        "test": [
                          0.03283455092
                        ]
                      },
                      {
                        "learn": [
                          0.02970034991
                        ],
                        "iteration": 30,
                        "passed_time": 1.470845167,
                        "remaining_time": 45.97577314,
                        "test": [
                          0.02973465677
                        ]
                      },
                      {
                        "learn": [
                          0.02690425304
                        ],
                        "iteration": 31,
                        "passed_time": 1.510172163,
                        "remaining_time": 45.68270794,
                        "test": [
                          0.0269376642
                        ]
                      },
                      {
                        "learn": [
                          0.02438071804
                        ],
                        "iteration": 32,
                        "passed_time": 1.553568854,
                        "remaining_time": 45.52427521,
                        "test": [
                          0.0244132589
                        ]
                      },
                      {
                        "learn": [
                          0.0221024703
                        ],
                        "iteration": 33,
                        "passed_time": 1.585359259,
                        "remaining_time": 45.04285425,
                        "test": [
                          0.02213416786
                        ]
                      },
                      {
                        "learn": [
                          0.02004502715
                        ],
                        "iteration": 34,
                        "passed_time": 1.60921473,
                        "remaining_time": 44.36834897,
                        "test": [
                          0.02007590682
                        ]
                      },
                      {
                        "learn": [
                          0.0181863437
                        ],
                        "iteration": 35,
                        "passed_time": 1.636983893,
                        "remaining_time": 43.83479091,
                        "test": [
                          0.01821643248
                        ]
                      },
                      {
                        "learn": [
                          0.0165072353
                        ],
                        "iteration": 36,
                        "passed_time": 1.670866042,
                        "remaining_time": 43.48767562,
                        "test": [
                          0.01653655701
                        ]
                      },
                      {
                        "learn": [
                          0.01498964804
                        ],
                        "iteration": 37,
                        "passed_time": 1.689468683,
                        "remaining_time": 42.77023349,
                        "test": [
                          0.0150182265
                        ]
                      },
                      {
                        "learn": [
                          0.01361795468
                        ],
                        "iteration": 38,
                        "passed_time": 1.725902939,
                        "remaining_time": 42.52801857,
                        "test": [
                          0.0136458169
                        ]
                      },
                      {
                        "learn": [
                          0.01237777469
                        ],
                        "iteration": 39,
                        "passed_time": 1.743062118,
                        "remaining_time": 41.83349083,
                        "test": [
                          0.0124049413
                        ]
                      },
                      {
                        "learn": [
                          0.01125640456
                        ],
                        "iteration": 40,
                        "passed_time": 1.7583244,
                        "remaining_time": 41.12763657,
                        "test": [
                          0.0112828994
                        ]
                      },
                      {
                        "learn": [
                          0.01024217629
                        ],
                        "iteration": 41,
                        "passed_time": 1.780312912,
                        "remaining_time": 40.60808975,
                        "test": [
                          0.01026802317
                        ]
                      },
                      {
                        "learn": [
                          0.009324563731
                        ],
                        "iteration": 42,
                        "passed_time": 1.823871906,
                        "remaining_time": 40.59175382,
                        "test": [
                          0.009349781707
                        ]
                      },
                      {
                        "learn": [
                          0.008494578829
                        ],
                        "iteration": 43,
                        "passed_time": 1.87631899,
                        "remaining_time": 40.76729442,
                        "test": [
                          0.008519189344
                        ]
                      },
                      {
                        "learn": [
                          0.007743339951
                        ],
                        "iteration": 44,
                        "passed_time": 1.88719079,
                        "remaining_time": 40.05038232,
                        "test": [
                          0.007767363651
                        ]
                      },
                      {
                        "learn": [
                          0.007063553593
                        ],
                        "iteration": 45,
                        "passed_time": 1.912079523,
                        "remaining_time": 39.65486663,
                        "test": [
                          0.007087010329
                        ]
                      },
                      {
                        "learn": [
                          0.006448115238
                        ],
                        "iteration": 46,
                        "passed_time": 1.968256942,
                        "remaining_time": 39.90955033,
                        "test": [
                          0.006471023274
                        ]
                      },
                      {
                        "learn": [
                          0.005891113456
                        ],
                        "iteration": 47,
                        "passed_time": 2.00526083,
                        "remaining_time": 39.77100646,
                        "test": [
                          0.005913489863
                        ]
                      },
                      {
                        "learn": [
                          0.005386676915
                        ],
                        "iteration": 48,
                        "passed_time": 2.026081834,
                        "remaining_time": 39.32252703,
                        "test": [
                          0.005408542341
                        ]
                      },
                      {
                        "learn": [
                          0.004929679518
                        ],
                        "iteration": 49,
                        "passed_time": 2.047833659,
                        "remaining_time": 38.90883953,
                        "test": [
                          0.004951047461
                        ]
                      },
                      {
                        "learn": [
                          0.004515890873
                        ],
                        "iteration": 50,
                        "passed_time": 2.077869897,
                        "remaining_time": 38.66467709,
                        "test": [
                          0.004536779199
                        ]
                      },
                      {
                        "learn": [
                          0.00414086222
                        ],
                        "iteration": 51,
                        "passed_time": 2.097892258,
                        "remaining_time": 38.24618962,
                        "test": [
                          0.004161286414
                        ]
                      },
                      {
                        "learn": [
                          0.003801041698
                        ],
                        "iteration": 52,
                        "passed_time": 2.10604532,
                        "remaining_time": 37.63065883,
                        "test": [
                          0.003821017244
                        ]
                      },
                      {
                        "learn": [
                          0.003492901665
                        ],
                        "iteration": 53,
                        "passed_time": 2.117862263,
                        "remaining_time": 37.10180928,
                        "test": [
                          0.003512444445
                        ]
                      },
                      {
                        "learn": [
                          0.003213375236
                        ],
                        "iteration": 54,
                        "passed_time": 2.175735185,
                        "remaining_time": 37.38308635,
                        "test": [
                          0.003232497756
                        ]
                      },
                      {
                        "learn": [
                          0.002960105423
                        ],
                        "iteration": 55,
                        "passed_time": 2.228756335,
                        "remaining_time": 37.57046394,
                        "test": [
                          0.002978821777
                        ]
                      },
                      {
                        "learn": [
                          0.002763013856
                        ],
                        "iteration": 56,
                        "passed_time": 2.241395074,
                        "remaining_time": 37.08132552,
                        "test": [
                          0.002782520704
                        ]
                      },
                      {
                        "learn": [
                          0.00258692099
                        ],
                        "iteration": 57,
                        "passed_time": 2.253711983,
                        "remaining_time": 36.60339117,
                        "test": [
                          0.002607251286
                        ]
                      },
                      {
                        "learn": [
                          0.002392966185
                        ],
                        "iteration": 58,
                        "passed_time": 2.306325562,
                        "remaining_time": 36.78393819,
                        "test": [
                          0.002412833739
                        ]
                      },
                      {
                        "learn": [
                          0.002216793119
                        ],
                        "iteration": 59,
                        "passed_time": 2.314784499,
                        "remaining_time": 36.26495715,
                        "test": [
                          0.002236215399
                        ]
                      },
                      {
                        "learn": [
                          0.002056519455
                        ],
                        "iteration": 60,
                        "passed_time": 2.31732581,
                        "remaining_time": 35.67162189,
                        "test": [
                          0.002075511748
                        ]
                      },
                      {
                        "learn": [
                          0.001910910817
                        ],
                        "iteration": 61,
                        "passed_time": 2.326766684,
                        "remaining_time": 35.20172821,
                        "test": [
                          0.001929488408
                        ]
                      },
                      {
                        "learn": [
                          0.001778211919
                        ],
                        "iteration": 62,
                        "passed_time": 2.336317691,
                        "remaining_time": 34.7480901,
                        "test": [
                          0.001796389698
                        ]
                      },
                      {
                        "learn": [
                          0.001686899192
                        ],
                        "iteration": 63,
                        "passed_time": 2.337641239,
                        "remaining_time": 34.18800312,
                        "test": [
                          0.001705748155
                        ]
                      },
                      {
                        "learn": [
                          0.001605444606
                        ],
                        "iteration": 64,
                        "passed_time": 2.339024684,
                        "remaining_time": 33.64597046,
                        "test": [
                          0.001624980934
                        ]
                      },
                      {
                        "learn": [
                          0.001502006179
                        ],
                        "iteration": 65,
                        "passed_time": 2.348611982,
                        "remaining_time": 33.23641805,
                        "test": [
                          0.001520824174
                        ]
                      },
                      {
                        "learn": [
                          0.001406863071
                        ],
                        "iteration": 66,
                        "passed_time": 2.351090458,
                        "remaining_time": 32.7398119,
                        "test": [
                          0.001425259616
                        ]
                      },
                      {
                        "learn": [
                          0.001319891904
                        ],
                        "iteration": 67,
                        "passed_time": 2.360387205,
                        "remaining_time": 32.35118934,
                        "test": [
                          0.001337882184
                        ]
                      },
                      {
                        "learn": [
                          0.001240360151
                        ],
                        "iteration": 68,
                        "passed_time": 2.369921131,
                        "remaining_time": 31.97676192,
                        "test": [
                          0.001257959254
                        ]
                      },
                      {
                        "learn": [
                          0.001180374553
                        ],
                        "iteration": 69,
                        "passed_time": 2.371968065,
                        "remaining_time": 31.51329001,
                        "test": [
                          0.001198407117
                        ]
                      },
                      {
                        "learn": [
                          0.00111275549
                        ],
                        "iteration": 70,
                        "passed_time": 2.381254301,
                        "remaining_time": 31.15753868,
                        "test": [
                          0.001130393006
                        ]
                      },
                      {
                        "learn": [
                          0.001050677923
                        ],
                        "iteration": 71,
                        "passed_time": 2.390488882,
                        "remaining_time": 30.81074559,
                        "test": [
                          0.001067934683
                        ]
                      },
                      {
                        "learn": [
                          0.001005543559
                        ],
                        "iteration": 72,
                        "passed_time": 2.392412742,
                        "remaining_time": 30.38036454,
                        "test": [
                          0.001023183556
                        ]
                      },
                      {
                        "learn": [
                          0.0009537189827
                        ],
                        "iteration": 73,
                        "passed_time": 2.402227495,
                        "remaining_time": 30.06030622,
                        "test": [
                          0.0009714051349
                        ]
                      },
                      {
                        "learn": [
                          0.0009162914346
                        ],
                        "iteration": 74,
                        "passed_time": 2.404373571,
                        "remaining_time": 29.65394071,
                        "test": [
                          0.0009343436517
                        ]
                      },
                      {
                        "learn": [
                          0.0008821403057
                        ],
                        "iteration": 75,
                        "passed_time": 2.406810585,
                        "remaining_time": 29.26174975,
                        "test": [
                          0.0009005583891
                        ]
                      },
                      {
                        "learn": [
                          0.0008390141367
                        ],
                        "iteration": 76,
                        "passed_time": 2.409287226,
                        "remaining_time": 28.88015726,
                        "test": [
                          0.0008570201987
                        ]
                      },
                      {
                        "learn": [
                          0.0008105192454
                        ],
                        "iteration": 77,
                        "passed_time": 2.41126264,
                        "remaining_time": 28.50236095,
                        "test": [
                          0.0008288645724
                        ]
                      },
                      {
                        "learn": [
                          0.0007933136525
                        ],
                        "iteration": 78,
                        "passed_time": 2.412531098,
                        "remaining_time": 28.12583723,
                        "test": [
                          0.0008120964111
                        ]
                      },
                      {
                        "learn": [
                          0.0007586672741
                        ],
                        "iteration": 79,
                        "passed_time": 2.41634225,
                        "remaining_time": 27.78793587,
                        "test": [
                          0.0007774881975
                        ]
                      },
                      {
                        "learn": [
                          0.0007252242543
                        ],
                        "iteration": 80,
                        "passed_time": 2.425534963,
                        "remaining_time": 27.51934113,
                        "test": [
                          0.0007436186646
                        ]
                      },
                      {
                        "learn": [
                          0.0006954504191
                        ],
                        "iteration": 81,
                        "passed_time": 2.431326412,
                        "remaining_time": 27.21899569,
                        "test": [
                          0.0007138747558
                        ]
                      },
                      {
                        "learn": [
                          0.0006677755508
                        ],
                        "iteration": 82,
                        "passed_time": 2.440585215,
                        "remaining_time": 26.96405593,
                        "test": [
                          0.0006862234613
                        ]
                      },
                      {
                        "learn": [
                          0.0006407962354
                        ],
                        "iteration": 83,
                        "passed_time": 2.443030529,
                        "remaining_time": 26.64066625,
                        "test": [
                          0.0006588406606
                        ]
                      },
                      {
                        "learn": [
                          0.0006167648436
                        ],
                        "iteration": 84,
                        "passed_time": 2.44618369,
                        "remaining_time": 26.33244796,
                        "test": [
                          0.0006344040466
                        ]
                      },
                      {
                        "learn": [
                          0.0006087306735
                        ],
                        "iteration": 85,
                        "passed_time": 2.447470703,
                        "remaining_time": 26.01149096,
                        "test": [
                          0.0006266756915
                        ]
                      },
                      {
                        "learn": [
                          0.0005870586033
                        ],
                        "iteration": 86,
                        "passed_time": 2.45317852,
                        "remaining_time": 25.74427573,
                        "test": [
                          0.0006045979524
                        ]
                      },
                      {
                        "learn": [
                          0.0005667845375
                        ],
                        "iteration": 87,
                        "passed_time": 2.462690983,
                        "remaining_time": 25.52243382,
                        "test": [
                          0.000584348056
                        ]
                      },
                      {
                        "learn": [
                          0.0005473528774
                        ],
                        "iteration": 88,
                        "passed_time": 2.47203711,
                        "remaining_time": 25.30366076,
                        "test": [
                          0.0005645426882
                        ]
                      },
                      {
                        "learn": [
                          0.0005285445101
                        ],
                        "iteration": 89,
                        "passed_time": 2.482509917,
                        "remaining_time": 25.10093361,
                        "test": [
                          0.0005453745094
                        ]
                      },
                      {
                        "learn": [
                          0.0005119384377
                        ],
                        "iteration": 90,
                        "passed_time": 2.492141029,
                        "remaining_time": 24.89402412,
                        "test": [
                          0.0005296349128
                        ]
                      },
                      {
                        "learn": [
                          0.0004951286872
                        ],
                        "iteration": 91,
                        "passed_time": 2.501322211,
                        "remaining_time": 24.68696269,
                        "test": [
                          0.0005124704129
                        ]
                      },
                      {
                        "learn": [
                          0.000480369664
                        ],
                        "iteration": 92,
                        "passed_time": 2.51070076,
                        "remaining_time": 24.48608161,
                        "test": [
                          0.0004977158563
                        ]
                      },
                      {
                        "learn": [
                          0.0004663845582
                        ],
                        "iteration": 93,
                        "passed_time": 2.521903051,
                        "remaining_time": 24.30685281,
                        "test": [
                          0.0004833765967
                        ]
                      },
                      {
                        "learn": [
                          0.0004523581609
                        ],
                        "iteration": 94,
                        "passed_time": 2.531279645,
                        "remaining_time": 24.11376925,
                        "test": [
                          0.0004690204631
                        ]
                      },
                      {
                        "learn": [
                          0.0004389175864
                        ],
                        "iteration": 95,
                        "passed_time": 2.538801118,
                        "remaining_time": 23.90704386,
                        "test": [
                          0.0004552613686
                        ]
                      },
                      {
                        "learn": [
                          0.0004270527881
                        ],
                        "iteration": 96,
                        "passed_time": 2.547890386,
                        "remaining_time": 23.71902081,
                        "test": [
                          0.0004430762139
                        ]
                      },
                      {
                        "learn": [
                          0.0004159675897
                        ],
                        "iteration": 97,
                        "passed_time": 2.556335407,
                        "remaining_time": 23.52871976,
                        "test": [
                          0.0004319974922
                        ]
                      },
                      {
                        "learn": [
                          0.0004044333217
                        ],
                        "iteration": 98,
                        "passed_time": 2.565344443,
                        "remaining_time": 23.34722569,
                        "test": [
                          0.0004201661439
                        ]
                      },
                      {
                        "learn": [
                          0.0003945287519
                        ],
                        "iteration": 99,
                        "passed_time": 2.573725709,
                        "remaining_time": 23.16353138,
                        "test": [
                          0.000409963526
                        ]
                      },
                      {
                        "learn": [
                          0.0003849152324
                        ],
                        "iteration": 100,
                        "passed_time": 2.582003917,
                        "remaining_time": 22.9823913,
                        "test": [
                          0.0004003556146
                        ]
                      },
                      {
                        "learn": [
                          0.0003750282561
                        ],
                        "iteration": 101,
                        "passed_time": 2.590306617,
                        "remaining_time": 22.8048563,
                        "test": [
                          0.000390191236
                        ]
                      },
                      {
                        "learn": [
                          0.0003663526288
                        ],
                        "iteration": 102,
                        "passed_time": 2.59861912,
                        "remaining_time": 22.63069273,
                        "test": [
                          0.0003824791096
                        ]
                      },
                      {
                        "learn": [
                          0.0003580786257
                        ],
                        "iteration": 103,
                        "passed_time": 2.606944315,
                        "remaining_time": 22.45982795,
                        "test": [
                          0.0003741966199
                        ]
                      },
                      {
                        "learn": [
                          0.0003494609157
                        ],
                        "iteration": 104,
                        "passed_time": 2.615042537,
                        "remaining_time": 22.29012449,
                        "test": [
                          0.0003652980087
                        ]
                      },
                      {
                        "learn": [
                          0.0003418823414
                        ],
                        "iteration": 105,
                        "passed_time": 2.623329012,
                        "remaining_time": 22.1250579,
                        "test": [
                          0.0003574460273
                        ]
                      },
                      {
                        "learn": [
                          0.0003346977236
                        ],
                        "iteration": 106,
                        "passed_time": 2.631621334,
                        "remaining_time": 21.96297057,
                        "test": [
                          0.0003502534688
                        ]
                      },
                      {
                        "learn": [
                          0.0003272115837
                        ],
                        "iteration": 107,
                        "passed_time": 2.639860255,
                        "remaining_time": 21.80329026,
                        "test": [
                          0.0003425036987
                        ]
                      },
                      {
                        "learn": [
                          0.0003205915722
                        ],
                        "iteration": 108,
                        "passed_time": 2.648461142,
                        "remaining_time": 21.6493475,
                        "test": [
                          0.0003358739103
                        ]
                      },
                      {
                        "learn": [
                          0.0003142460349
                        ],
                        "iteration": 109,
                        "passed_time": 2.656754203,
                        "remaining_time": 21.49555673,
                        "test": [
                          0.0003295162635
                        ]
                      },
                      {
                        "learn": [
                          0.0003078503722
                        ],
                        "iteration": 110,
                        "passed_time": 2.66508576,
                        "remaining_time": 21.34469586,
                        "test": [
                          0.0003227473397
                        ]
                      },
                      {
                        "learn": [
                          0.0003014177109
                        ],
                        "iteration": 111,
                        "passed_time": 2.673315407,
                        "remaining_time": 21.19557216,
                        "test": [
                          0.000316072215
                        ]
                      },
                      {
                        "learn": [
                          0.0002957843275
                        ],
                        "iteration": 112,
                        "passed_time": 2.681835597,
                        "remaining_time": 21.05122279,
                        "test": [
                          0.0003102044827
                        ]
                      },
                      {
                        "learn": [
                          0.0002904206291
                        ],
                        "iteration": 113,
                        "passed_time": 2.690132273,
                        "remaining_time": 20.90751925,
                        "test": [
                          0.0003046117456
                        ]
                      },
                      {
                        "learn": [
                          0.0002846036922
                        ],
                        "iteration": 114,
                        "passed_time": 2.698220971,
                        "remaining_time": 20.76457008,
                        "test": [
                          0.0002985702367
                        ]
                      },
                      {
                        "learn": [
                          0.0002790813541
                        ],
                        "iteration": 115,
                        "passed_time": 2.710328725,
                        "remaining_time": 20.65457407,
                        "test": [
                          0.0002928293813
                        ]
                      },
                      {
                        "learn": [
                          0.0002741833759
                        ],
                        "iteration": 116,
                        "passed_time": 2.718672795,
                        "remaining_time": 20.51784682,
                        "test": [
                          0.0002877197843
                        ]
                      },
                      {
                        "learn": [
                          0.0002696706195
                        ],
                        "iteration": 117,
                        "passed_time": 2.727010446,
                        "remaining_time": 20.38324757,
                        "test": [
                          0.0002832023379
                        ]
                      },
                      {
                        "learn": [
                          0.0002651848116
                        ],
                        "iteration": 118,
                        "passed_time": 2.744718166,
                        "remaining_time": 20.32014037,
                        "test": [
                          0.0002793887573
                        ]
                      },
                      {
                        "learn": [
                          0.0002602988685
                        ],
                        "iteration": 119,
                        "passed_time": 2.765017455,
                        "remaining_time": 20.27679467,
                        "test": [
                          0.0002742885154
                        ]
                      },
                      {
                        "learn": [
                          0.0002562380105
                        ],
                        "iteration": 120,
                        "passed_time": 2.777500814,
                        "remaining_time": 20.17705137,
                        "test": [
                          0.0002700260885
                        ]
                      },
                      {
                        "learn": [
                          0.0002516711086
                        ],
                        "iteration": 121,
                        "passed_time": 2.80450883,
                        "remaining_time": 20.18326846,
                        "test": [
                          0.000265254615
                        ]
                      },
                      {
                        "learn": [
                          0.0002477779972
                        ],
                        "iteration": 122,
                        "passed_time": 2.812795168,
                        "remaining_time": 20.05545823,
                        "test": [
                          0.000261167404
                        ]
                      },
                      {
                        "learn": [
                          0.0002434064605
                        ],
                        "iteration": 123,
                        "passed_time": 2.820525047,
                        "remaining_time": 19.92564469,
                        "test": [
                          0.0002566009735
                        ]
                      },
                      {
                        "learn": [
                          0.0002394347366
                        ],
                        "iteration": 124,
                        "passed_time": 2.828142393,
                        "remaining_time": 19.79699675,
                        "test": [
                          0.0002524398398
                        ]
                      },
                      {
                        "learn": [
                          0.0002358628501
                        ],
                        "iteration": 125,
                        "passed_time": 2.835775527,
                        "remaining_time": 19.67037945,
                        "test": [
                          0.0002488582507
                        ]
                      },
                      {
                        "learn": [
                          0.0002325581671
                        ],
                        "iteration": 126,
                        "passed_time": 2.843602538,
                        "remaining_time": 19.54696863,
                        "test": [
                          0.0002454157723
                        ]
                      },
                      {
                        "learn": [
                          0.0002289174201
                        ],
                        "iteration": 127,
                        "passed_time": 2.851248942,
                        "remaining_time": 19.42413342,
                        "test": [
                          0.0002415948218
                        ]
                      },
                      {
                        "learn": [
                          0.0002255312708
                        ],
                        "iteration": 128,
                        "passed_time": 2.859059502,
                        "remaining_time": 19.30419245,
                        "test": [
                          0.0002381990444
                        ]
                      },
                      {
                        "learn": [
                          0.0002225213603
                        ],
                        "iteration": 129,
                        "passed_time": 2.866770565,
                        "remaining_time": 19.1853107,
                        "test": [
                          0.0002351786374
                        ]
                      },
                      {
                        "learn": [
                          0.000218969921
                        ],
                        "iteration": 130,
                        "passed_time": 2.874296075,
                        "remaining_time": 19.06689533,
                        "test": [
                          0.0002314540171
                        ]
                      },
                      {
                        "learn": [
                          0.0002161227942
                        ],
                        "iteration": 131,
                        "passed_time": 2.88206502,
                        "remaining_time": 18.95176089,
                        "test": [
                          0.0002285957237
                        ]
                      },
                      {
                        "learn": [
                          0.0002132924173
                        ],
                        "iteration": 132,
                        "passed_time": 2.889773624,
                        "remaining_time": 18.83784761,
                        "test": [
                          0.000225602166
                        ]
                      },
                      {
                        "learn": [
                          0.0002105985454
                        ],
                        "iteration": 133,
                        "passed_time": 2.898502542,
                        "remaining_time": 18.73211344,
                        "test": [
                          0.0002227484634
                        ]
                      },
                      {
                        "learn": [
                          0.0002073897832
                        ],
                        "iteration": 134,
                        "passed_time": 2.905990318,
                        "remaining_time": 18.61986389,
                        "test": [
                          0.000219378121
                        ]
                      },
                      {
                        "learn": [
                          0.0002043322535
                        ],
                        "iteration": 135,
                        "passed_time": 2.913528945,
                        "remaining_time": 18.509478,
                        "test": [
                          0.0002161633413
                        ]
                      },
                      {
                        "learn": [
                          0.0002018186472
                        ],
                        "iteration": 136,
                        "passed_time": 2.921094185,
                        "remaining_time": 18.40076118,
                        "test": [
                          0.0002135001154
                        ]
                      },
                      {
                        "learn": [
                          0.0001990506294
                        ],
                        "iteration": 137,
                        "passed_time": 2.928742919,
                        "remaining_time": 18.29403186,
                        "test": [
                          0.0002105815722
                        ]
                      },
                      {
                        "learn": [
                          0.0001965731407
                        ],
                        "iteration": 138,
                        "passed_time": 2.936410288,
                        "remaining_time": 18.18884359,
                        "test": [
                          0.000207960891
                        ]
                      },
                      {
                        "learn": [
                          0.0001942295268
                        ],
                        "iteration": 139,
                        "passed_time": 2.944011718,
                        "remaining_time": 18.08464341,
                        "test": [
                          0.0002054769257
                        ]
                      },
                      {
                        "learn": [
                          0.000191530022
                        ],
                        "iteration": 140,
                        "passed_time": 2.951460421,
                        "remaining_time": 17.98088299,
                        "test": [
                          0.0002026354567
                        ]
                      },
                      {
                        "learn": [
                          0.0001893387945
                        ],
                        "iteration": 141,
                        "passed_time": 2.959002248,
                        "remaining_time": 17.87904175,
                        "test": [
                          0.0002003100442
                        ]
                      },
                      {
                        "learn": [
                          0.0001869611225
                        ],
                        "iteration": 142,
                        "passed_time": 2.966617672,
                        "remaining_time": 17.77896045,
                        "test": [
                          0.0001977428757
                        ]
                      },
                      {
                        "learn": [
                          0.0001847990025
                        ],
                        "iteration": 143,
                        "passed_time": 2.974630843,
                        "remaining_time": 17.68252779,
                        "test": [
                          0.0001954523153
                        ]
                      },
                      {
                        "learn": [
                          0.0001823045034
                        ],
                        "iteration": 144,
                        "passed_time": 2.982192837,
                        "remaining_time": 17.58465432,
                        "test": [
                          0.000192828036
                        ]
                      },
                      {
                        "learn": [
                          0.0001800727661
                        ],
                        "iteration": 145,
                        "passed_time": 2.989787212,
                        "remaining_time": 17.48820739,
                        "test": [
                          0.0001904688012
                        ]
                      },
                      {
                        "learn": [
                          0.0001780765316
                        ],
                        "iteration": 146,
                        "passed_time": 2.997386866,
                        "remaining_time": 17.39299998,
                        "test": [
                          0.0001884690307
                        ]
                      },
                      {
                        "learn": [
                          0.0001760925307
                        ],
                        "iteration": 147,
                        "passed_time": 3.005063903,
                        "remaining_time": 17.29942193,
                        "test": [
                          0.0001863650885
                        ]
                      },
                      {
                        "learn": [
                          0.0001739163904
                        ],
                        "iteration": 148,
                        "passed_time": 3.012579678,
                        "remaining_time": 17.20607588,
                        "test": [
                          0.0001840675428
                        ]
                      },
                      {
                        "learn": [
                          0.0001720786095
                        ],
                        "iteration": 149,
                        "passed_time": 3.020264956,
                        "remaining_time": 17.11483475,
                        "test": [
                          0.0001822261762
                        ]
                      },
                      {
                        "learn": [
                          0.0001699398648
                        ],
                        "iteration": 150,
                        "passed_time": 3.027745687,
                        "remaining_time": 17.02355025,
                        "test": [
                          0.0001799693389
                        ]
                      },
                      {
                        "learn": [
                          0.0001682468646
                        ],
                        "iteration": 151,
                        "passed_time": 3.03533021,
                        "remaining_time": 16.93394749,
                        "test": [
                          0.0001781647722
                        ]
                      },
                      {
                        "learn": [
                          0.0001662626155
                        ],
                        "iteration": 152,
                        "passed_time": 3.043050292,
                        "remaining_time": 16.8461673,
                        "test": [
                          0.00017606686
                        ]
                      },
                      {
                        "learn": [
                          0.0001643552049
                        ],
                        "iteration": 153,
                        "passed_time": 3.050689509,
                        "remaining_time": 16.75898263,
                        "test": [
                          0.0001740508234
                        ]
                      },
                      {
                        "learn": [
                          0.0001624082646
                        ],
                        "iteration": 154,
                        "passed_time": 3.058300277,
                        "remaining_time": 16.67266925,
                        "test": [
                          0.0001719950339
                        ]
                      },
                      {
                        "learn": [
                          0.0001608832963
                        ],
                        "iteration": 155,
                        "passed_time": 3.065912253,
                        "remaining_time": 16.58737142,
                        "test": [
                          0.0001704665669
                        ]
                      },
                      {
                        "learn": [
                          0.0001589686026
                        ],
                        "iteration": 156,
                        "passed_time": 3.07366375,
                        "remaining_time": 16.50381236,
                        "test": [
                          0.0001684457535
                        ]
                      },
                      {
                        "learn": [
                          0.0001575850527
                        ],
                        "iteration": 157,
                        "passed_time": 3.082536689,
                        "remaining_time": 16.42718919,
                        "test": [
                          0.0001670582705
                        ]
                      },
                      {
                        "learn": [
                          0.0001559724642
                        ],
                        "iteration": 158,
                        "passed_time": 3.090227185,
                        "remaining_time": 16.34516392,
                        "test": [
                          0.0001653455924
                        ]
                      },
                      {
                        "learn": [
                          0.0001544880554
                        ],
                        "iteration": 159,
                        "passed_time": 3.097953405,
                        "remaining_time": 16.26425537,
                        "test": [
                          0.0001637627565
                        ]
                      },
                      {
                        "learn": [
                          0.0001530237341
                        ],
                        "iteration": 160,
                        "passed_time": 3.105524096,
                        "remaining_time": 16.18344545,
                        "test": [
                          0.000162200554
                        ]
                      },
                      {
                        "learn": [
                          0.000151296862
                        ],
                        "iteration": 161,
                        "passed_time": 3.113065427,
                        "remaining_time": 16.10338782,
                        "test": [
                          0.0001603755154
                        ]
                      },
                      {
                        "learn": [
                          0.0001498902966
                        ],
                        "iteration": 162,
                        "passed_time": 3.122578256,
                        "remaining_time": 16.03434356,
                        "test": [
                          0.0001588283381
                        ]
                      },
                      {
                        "learn": [
                          0.0001483089
                        ],
                        "iteration": 163,
                        "passed_time": 3.131022394,
                        "remaining_time": 15.96057757,
                        "test": [
                          0.0001571527205
                        ]
                      },
                      {
                        "learn": [
                          0.0001469918656
                        ],
                        "iteration": 164,
                        "passed_time": 3.140442918,
                        "remaining_time": 15.89254446,
                        "test": [
                          0.0001558336638
                        ]
                      },
                      {
                        "learn": [
                          0.0001456827843
                        ],
                        "iteration": 165,
                        "passed_time": 3.148913954,
                        "remaining_time": 15.82044722,
                        "test": [
                          0.000154436255
                        ]
                      },
                      {
                        "learn": [
                          0.0001445004684
                        ],
                        "iteration": 166,
                        "passed_time": 3.156252181,
                        "remaining_time": 15.74346148,
                        "test": [
                          0.0001532516809
                        ]
                      },
                      {
                        "learn": [
                          0.0001432067101
                        ],
                        "iteration": 167,
                        "passed_time": 3.163605079,
                        "remaining_time": 15.66737754,
                        "test": [
                          0.0001518706993
                        ]
                      },
                      {
                        "learn": [
                          0.0001419206196
                        ],
                        "iteration": 168,
                        "passed_time": 3.173494199,
                        "remaining_time": 15.60457798,
                        "test": [
                          0.0001504987751
                        ]
                      },
                      {
                        "learn": [
                          0.0001406418865
                        ],
                        "iteration": 169,
                        "passed_time": 3.180868813,
                        "remaining_time": 15.53012421,
                        "test": [
                          0.0001491360943
                        ]
                      },
                      {
                        "learn": [
                          0.0001394894101
                        ],
                        "iteration": 170,
                        "passed_time": 3.188177952,
                        "remaining_time": 15.45613756,
                        "test": [
                          0.0001479001541
                        ]
                      },
                      {
                        "learn": [
                          0.0001382250199
                        ],
                        "iteration": 171,
                        "passed_time": 3.19545537,
                        "remaining_time": 15.38277353,
                        "test": [
                          0.0001465538509
                        ]
                      },
                      {
                        "learn": [
                          0.0001372053016
                        ],
                        "iteration": 172,
                        "passed_time": 3.202754618,
                        "remaining_time": 15.31027786,
                        "test": [
                          0.0001455333385
                        ]
                      },
                      {
                        "learn": [
                          0.0001357279898
                        ],
                        "iteration": 173,
                        "passed_time": 3.209961388,
                        "remaining_time": 15.23809257,
                        "test": [
                          0.0001439730715
                        ]
                      },
                      {
                        "learn": [
                          0.0001347243761
                        ],
                        "iteration": 174,
                        "passed_time": 3.217277189,
                        "remaining_time": 15.16716389,
                        "test": [
                          0.0001428909817
                        ]
                      },
                      {
                        "learn": [
                          0.0001335158932
                        ],
                        "iteration": 175,
                        "passed_time": 3.224608734,
                        "remaining_time": 15.0970318,
                        "test": [
                          0.0001416038117
                        ]
                      },
                      {
                        "learn": [
                          0.000132190335
                        ],
                        "iteration": 176,
                        "passed_time": 3.231811488,
                        "remaining_time": 15.02701048,
                        "test": [
                          0.0001401992935
                        ]
                      },
                      {
                        "learn": [
                          0.0001308773454
                        ],
                        "iteration": 177,
                        "passed_time": 3.239023193,
                        "remaining_time": 14.95773632,
                        "test": [
                          0.0001388086219
                        ]
                      },
                      {
                        "learn": [
                          0.00012969529
                        ],
                        "iteration": 178,
                        "passed_time": 3.246231063,
                        "remaining_time": 14.889138,
                        "test": [
                          0.0001375505966
                        ]
                      },
                      {
                        "learn": [
                          0.0001287299901
                        ],
                        "iteration": 179,
                        "passed_time": 3.253496104,
                        "remaining_time": 14.82148225,
                        "test": [
                          0.0001365129993
                        ]
                      },
                      {
                        "learn": [
                          0.0001276515356
                        ],
                        "iteration": 180,
                        "passed_time": 3.260661133,
                        "remaining_time": 14.75404126,
                        "test": [
                          0.0001353634759
                        ]
                      },
                      {
                        "learn": [
                          0.0001266979605
                        ],
                        "iteration": 181,
                        "passed_time": 3.268127723,
                        "remaining_time": 14.68861801,
                        "test": [
                          0.0001343394894
                        ]
                      },
                      {
                        "learn": [
                          0.0001255506952
                        ],
                        "iteration": 182,
                        "passed_time": 3.275296985,
                        "remaining_time": 14.62250075,
                        "test": [
                          0.0001331207953
                        ]
                      },
                      {
                        "learn": [
                          0.0001244146709
                        ],
                        "iteration": 183,
                        "passed_time": 3.282452504,
                        "remaining_time": 14.55696328,
                        "test": [
                          0.0001319141238
                        ]
                      },
                      {
                        "learn": [
                          0.0001234811708
                        ],
                        "iteration": 184,
                        "passed_time": 3.290110312,
                        "remaining_time": 14.49426975,
                        "test": [
                          0.0001309809836
                        ]
                      },
                      {
                        "learn": [
                          0.000122362951
                        ],
                        "iteration": 185,
                        "passed_time": 3.297391864,
                        "remaining_time": 14.43052138,
                        "test": [
                          0.0001297939653
                        ]
                      },
                      {
                        "learn": [
                          0.0001214422676
                        ],
                        "iteration": 186,
                        "passed_time": 3.30474567,
                        "remaining_time": 14.36769107,
                        "test": [
                          0.0001288081064
                        ]
                      },
                      {
                        "learn": [
                          0.0001203410954
                        ],
                        "iteration": 187,
                        "passed_time": 3.31205334,
                        "remaining_time": 14.30525166,
                        "test": [
                          0.0001276401209
                        ]
                      },
                      {
                        "learn": [
                          0.0001193307446
                        ],
                        "iteration": 188,
                        "passed_time": 3.319254101,
                        "remaining_time": 14.24293691,
                        "test": [
                          0.0001265371248
                        ]
                      },
                      {
                        "learn": [
                          0.0001184272329
                        ],
                        "iteration": 189,
                        "passed_time": 3.326511887,
                        "remaining_time": 14.18144541,
                        "test": [
                          0.0001256340102
                        ]
                      },
                      {
                        "learn": [
                          0.0001174699977
                        ],
                        "iteration": 190,
                        "passed_time": 3.335780028,
                        "remaining_time": 14.12903687,
                        "test": [
                          0.0001246124183
                        ]
                      },
                      {
                        "learn": [
                          0.0001165221548
                        ],
                        "iteration": 191,
                        "passed_time": 3.342902815,
                        "remaining_time": 14.06804935,
                        "test": [
                          0.000123601534
                        ]
                      },
                      {
                        "learn": [
                          0.0001156363981
                        ],
                        "iteration": 192,
                        "passed_time": 3.35013223,
                        "remaining_time": 14.00806585,
                        "test": [
                          0.000122656644
                        ]
                      },
                      {
                        "learn": [
                          0.0001147037665
                        ],
                        "iteration": 193,
                        "passed_time": 3.357211764,
                        "remaining_time": 13.94800351,
                        "test": [
                          0.0001216627701
                        ]
                      },
                      {
                        "learn": [
                          0.0001138284815
                        ],
                        "iteration": 194,
                        "passed_time": 3.364549693,
                        "remaining_time": 13.8895513,
                        "test": [
                          0.0001207294561
                        ]
                      },
                      {
                        "learn": [
                          0.0001129104037
                        ],
                        "iteration": 195,
                        "passed_time": 3.371598495,
                        "remaining_time": 13.83043464,
                        "test": [
                          0.0001197520343
                        ]
                      },
                      {
                        "learn": [
                          0.0001120006884
                        ],
                        "iteration": 196,
                        "passed_time": 3.378812114,
                        "remaining_time": 13.77251841,
                        "test": [
                          0.0001187840916
                        ]
                      },
                      {
                        "learn": [
                          0.000111141111
                        ],
                        "iteration": 197,
                        "passed_time": 3.385965576,
                        "remaining_time": 13.71487067,
                        "test": [
                          0.000117924936
                        ]
                      },
                      {
                        "learn": [
                          0.0001105235255
                        ],
                        "iteration": 198,
                        "passed_time": 3.393120973,
                        "remaining_time": 13.65773819,
                        "test": [
                          0.0001173074622
                        ]
                      },
                      {
                        "learn": [
                          0.0001095142045
                        ],
                        "iteration": 199,
                        "passed_time": 3.400187504,
                        "remaining_time": 13.60075001,
                        "test": [
                          0.0001162411668
                        ]
                      },
                      {
                        "learn": [
                          0.0001087505975
                        ],
                        "iteration": 200,
                        "passed_time": 3.407143457,
                        "remaining_time": 13.54381902,
                        "test": [
                          0.0001154215037
                        ]
                      },
                      {
                        "learn": [
                          0.0001079101026
                        ],
                        "iteration": 201,
                        "passed_time": 3.414325768,
                        "remaining_time": 13.48827704,
                        "test": [
                          0.0001145280296
                        ]
                      },
                      {
                        "learn": [
                          0.0001073110784
                        ],
                        "iteration": 202,
                        "passed_time": 3.421487794,
                        "remaining_time": 13.43313188,
                        "test": [
                          0.000113928993
                        ]
                      },
                      {
                        "learn": [
                          0.0001064464388
                        ],
                        "iteration": 203,
                        "passed_time": 3.42858664,
                        "remaining_time": 13.37821062,
                        "test": [
                          0.0001130100591
                        ]
                      },
                      {
                        "learn": [
                          0.0001057372502
                        ],
                        "iteration": 204,
                        "passed_time": 3.435770262,
                        "remaining_time": 13.32408467,
                        "test": [
                          0.0001123010194
                        ]
                      },
                      {
                        "learn": [
                          0.0001050318459
                        ],
                        "iteration": 205,
                        "passed_time": 3.442945863,
                        "remaining_time": 13.27038357,
                        "test": [
                          0.0001115952677
                        ]
                      },
                      {
                        "learn": [
                          0.0001044488891
                        ],
                        "iteration": 206,
                        "passed_time": 3.45006058,
                        "remaining_time": 13.21689874,
                        "test": [
                          0.000111011765
                        ]
                      },
                      {
                        "learn": [
                          0.0001036317571
                        ],
                        "iteration": 207,
                        "passed_time": 3.457142335,
                        "remaining_time": 13.16373428,
                        "test": [
                          0.0001101441353
                        ]
                      },
                      {
                        "learn": [
                          0.0001030560214
                        ],
                        "iteration": 208,
                        "passed_time": 3.464286101,
                        "remaining_time": 13.11124548,
                        "test": [
                          0.0001095184974
                        ]
                      },
                      {
                        "learn": [
                          0.0001023412495
                        ],
                        "iteration": 209,
                        "passed_time": 3.471342462,
                        "remaining_time": 13.05885974,
                        "test": [
                          0.000108752136
                        ]
                      },
                      {
                        "learn": [
                          0.0001016545492
                        ],
                        "iteration": 210,
                        "passed_time": 3.47864561,
                        "remaining_time": 13.00782648,
                        "test": [
                          0.0001080170658
                        ]
                      },
                      {
                        "learn": [
                          0.0001009711616
                        ],
                        "iteration": 211,
                        "passed_time": 3.485964626,
                        "remaining_time": 12.95726474,
                        "test": [
                          0.0001072858295
                        ]
                      },
                      {
                        "learn": [
                          0.0001004100355
                        ],
                        "iteration": 212,
                        "passed_time": 3.493461445,
                        "remaining_time": 12.907766,
                        "test": [
                          0.0001066772517
                        ]
                      },
                      {
                        "learn": [
                          0.0000998522469
                        ],
                        "iteration": 213,
                        "passed_time": 3.500494217,
                        "remaining_time": 12.85695539,
                        "test": [
                          0.0001060726938
                        ]
                      },
                      {
                        "learn": [
                          0.00009904257165
                        ],
                        "iteration": 214,
                        "passed_time": 3.507489178,
                        "remaining_time": 12.80641397,
                        "test": [
                          0.0001052141214
                        ]
                      },
                      {
                        "learn": [
                          0.00009849181183
                        ],
                        "iteration": 215,
                        "passed_time": 3.514605263,
                        "remaining_time": 12.7567154,
                        "test": [
                          0.0001046637959
                        ]
                      },
                      {
                        "learn": [
                          0.00009781131513
                        ],
                        "iteration": 216,
                        "passed_time": 3.521655117,
                        "remaining_time": 12.70717031,
                        "test": [
                          0.0001039357606
                        ]
                      },
                      {
                        "learn": [
                          0.00009714887104
                        ],
                        "iteration": 217,
                        "passed_time": 3.528801815,
                        "remaining_time": 12.65836247,
                        "test": [
                          0.0001032281354
                        ]
                      },
                      {
                        "learn": [
                          0.00009665739328
                        ],
                        "iteration": 218,
                        "passed_time": 3.536134025,
                        "remaining_time": 12.61059668,
                        "test": [
                          0.0001028993172
                        ]
                      },
                      {
                        "learn": [
                          0.00009600004859
                        ],
                        "iteration": 219,
                        "passed_time": 3.543406547,
                        "remaining_time": 12.56298685,
                        "test": [
                          0.0001023850163
                        ]
                      },
                      {
                        "learn": [
                          0.00009548849582
                        ],
                        "iteration": 220,
                        "passed_time": 3.550581019,
                        "remaining_time": 12.51539644,
                        "test": [
                          0.0001018043921
                        ]
                      },
                      {
                        "learn": [
                          0.00009482873791
                        ],
                        "iteration": 221,
                        "passed_time": 3.557517153,
                        "remaining_time": 12.46733489,
                        "test": [
                          0.0001010969343
                        ]
                      },
                      {
                        "learn": [
                          0.00009417469357
                        ],
                        "iteration": 222,
                        "passed_time": 3.564430321,
                        "remaining_time": 12.41956215,
                        "test": [
                          0.0001003959594
                        ]
                      },
                      {
                        "learn": [
                          0.00009364941212
                        ],
                        "iteration": 223,
                        "passed_time": 3.571411482,
                        "remaining_time": 12.37238978,
                        "test": [
                          0.00009986997693
                        ]
                      },
                      {
                        "learn": [
                          0.00009300440029
                        ],
                        "iteration": 224,
                        "passed_time": 3.578339745,
                        "remaining_time": 12.32539245,
                        "test": [
                          0.00009917902088
                        ]
                      },
                      {
                        "learn": [
                          0.00009248565749
                        ],
                        "iteration": 225,
                        "passed_time": 3.585388071,
                        "remaining_time": 12.27916092,
                        "test": [
                          0.00009861773347
                        ]
                      },
                      {
                        "learn": [
                          0.00009196928449
                        ],
                        "iteration": 226,
                        "passed_time": 3.592417297,
                        "remaining_time": 12.23320956,
                        "test": [
                          0.00009810059742
                        ]
                      },
                      {
                        "learn": [
                          0.00009133656828
                        ],
                        "iteration": 227,
                        "passed_time": 3.599304227,
                        "remaining_time": 12.18711782,
                        "test": [
                          0.00009742325837
                        ]
                      },
                      {
                        "learn": [
                          0.00009082656022
                        ],
                        "iteration": 228,
                        "passed_time": 3.608670173,
                        "remaining_time": 12.14971486,
                        "test": [
                          0.00009687194022
                        ]
                      },
                      {
                        "learn": [
                          0.00009031907084
                        ],
                        "iteration": 229,
                        "passed_time": 3.61583224,
                        "remaining_time": 12.1051775,
                        "test": [
                          0.00009632333307
                        ]
                      },
                      {
                        "learn": [
                          0.00008969814776
                        ],
                        "iteration": 230,
                        "passed_time": 3.622741276,
                        "remaining_time": 12.06012139,
                        "test": [
                          0.00009565915816
                        ]
                      },
                      {
                        "learn": [
                          0.00008919634713
                        ],
                        "iteration": 231,
                        "passed_time": 3.629778798,
                        "remaining_time": 12.01581947,
                        "test": [
                          0.00009511772242
                        ]
                      },
                      {
                        "learn": [
                          0.0000888159891
                        ],
                        "iteration": 232,
                        "passed_time": 3.63684552,
                        "remaining_time": 11.97193353,
                        "test": [
                          0.0000946977479
                        ]
                      },
                      {
                        "learn": [
                          0.0000882064249
                        ],
                        "iteration": 233,
                        "passed_time": 3.643804026,
                        "remaining_time": 11.92800805,
                        "test": [
                          0.00009404606714
                        ]
                      },
                      {
                        "learn": [
                          0.00008771219892
                        ],
                        "iteration": 234,
                        "passed_time": 3.650764454,
                        "remaining_time": 11.88440344,
                        "test": [
                          0.00009355181634
                        ]
                      },
                      {
                        "learn": [
                          0.00008722059087
                        ],
                        "iteration": 235,
                        "passed_time": 3.657740705,
                        "remaining_time": 11.84116059,
                        "test": [
                          0.00009302198763
                        ]
                      },
                      {
                        "learn": [
                          0.00008662183964
                        ],
                        "iteration": 236,
                        "passed_time": 3.664580091,
                        "remaining_time": 11.79778316,
                        "test": [
                          0.00009238255287
                        ]
                      },
                      {
                        "learn": [
                          0.00008602743095
                        ],
                        "iteration": 237,
                        "passed_time": 3.671722627,
                        "remaining_time": 11.75568337,
                        "test": [
                          0.00009174809964
                        ]
                      },
                      {
                        "learn": [
                          0.00008555652448
                        ],
                        "iteration": 238,
                        "passed_time": 3.678586808,
                        "remaining_time": 11.71298979,
                        "test": [
                          0.00009123751464
                        ]
                      },
                      {
                        "learn": [
                          0.00008508970001
                        ],
                        "iteration": 239,
                        "passed_time": 3.685564775,
                        "remaining_time": 11.67095512,
                        "test": [
                          0.00009073172506
                        ]
                      },
                      {
                        "learn": [
                          0.00008450844926
                        ],
                        "iteration": 240,
                        "passed_time": 3.692493733,
                        "remaining_time": 11.62905703,
                        "test": [
                          0.00009011172633
                        ]
                      },
                      {
                        "learn": [
                          0.00008403356625
                        ],
                        "iteration": 241,
                        "passed_time": 3.702973247,
                        "remaining_time": 11.5985691,
                        "test": [
                          0.00008960140188
                        ]
                      },
                      {
                        "learn": [
                          0.00008356056295
                        ],
                        "iteration": 242,
                        "passed_time": 3.710050718,
                        "remaining_time": 11.55764771,
                        "test": [
                          0.00008912811941
                        ]
                      },
                      {
                        "learn": [
                          0.00008298884721
                        ],
                        "iteration": 243,
                        "passed_time": 3.716872695,
                        "remaining_time": 11.51621212,
                        "test": [
                          0.0000885190267
                        ]
                      },
                      {
                        "learn": [
                          0.00008265895584
                        ],
                        "iteration": 244,
                        "passed_time": 3.723721591,
                        "remaining_time": 11.47514205,
                        "test": [
                          0.00008815195688
                        ]
                      },
                      {
                        "learn": [
                          0.00008219363886
                        ],
                        "iteration": 245,
                        "passed_time": 3.730738509,
                        "remaining_time": 11.43486519,
                        "test": [
                          0.00008765261288
                        ]
                      },
                      {
                        "learn": [
                          0.00008172991621
                        ],
                        "iteration": 246,
                        "passed_time": 3.73771154,
                        "remaining_time": 11.39472384,
                        "test": [
                          0.00008718841876
                        ]
                      },
                      {
                        "learn": [
                          0.00008117119711
                        ],
                        "iteration": 247,
                        "passed_time": 3.744599883,
                        "remaining_time": 11.35459319,
                        "test": [
                          0.00008659368748
                        ]
                      },
                      {
                        "learn": [
                          0.00008073532264
                        ],
                        "iteration": 248,
                        "passed_time": 3.751498351,
                        "remaining_time": 11.31476009,
                        "test": [
                          0.00008612217926
                        ]
                      },
                      {
                        "learn": [
                          0.00008030301526
                        ],
                        "iteration": 249,
                        "passed_time": 3.758312635,
                        "remaining_time": 11.2749379,
                        "test": [
                          0.00008565480887
                        ]
                      },
                      {
                        "learn": [
                          0.00007987264963
                        ],
                        "iteration": 250,
                        "passed_time": 3.772415566,
                        "remaining_time": 11.25712852,
                        "test": [
                          0.00008520017456
                        ]
                      },
                      {
                        "learn": [
                          0.00007944505082
                        ],
                        "iteration": 251,
                        "passed_time": 3.807700651,
                        "remaining_time": 11.30222257,
                        "test": [
                          0.00008474717182
                        ]
                      },
                      {
                        "learn": [
                          0.00007911287651
                        ],
                        "iteration": 252,
                        "passed_time": 3.820484778,
                        "remaining_time": 11.28024557,
                        "test": [
                          0.000084414799
                        ]
                      },
                      {
                        "learn": [
                          0.00007878245784
                        ],
                        "iteration": 253,
                        "passed_time": 3.827332468,
                        "remaining_time": 11.2409056,
                        "test": [
                          0.00008408424385
                        ]
                      },
                      {
                        "learn": [
                          0.00007833480264
                        ],
                        "iteration": 254,
                        "passed_time": 3.834203572,
                        "remaining_time": 11.20188887,
                        "test": [
                          0.00008363621643
                        ]
                      },
                      {
                        "learn": [
                          0.00007800796348
                        ],
                        "iteration": 255,
                        "passed_time": 3.841301835,
                        "remaining_time": 11.16378346,
                        "test": [
                          0.0000832778131
                        ]
                      },
                      {
                        "learn": [
                          0.0000776826442
                        ],
                        "iteration": 256,
                        "passed_time": 3.84863032,
                        "remaining_time": 11.12658493,
                        "test": [
                          0.00008305112562
                        ]
                      },
                      {
                        "learn": [
                          0.00007715074967
                        ],
                        "iteration": 257,
                        "passed_time": 3.855622108,
                        "remaining_time": 11.08864963,
                        "test": [
                          0.00008248494974
                        ]
                      },
                      {
                        "learn": [
                          0.00007682936972
                        ],
                        "iteration": 258,
                        "passed_time": 3.862591896,
                        "remaining_time": 11.05089033,
                        "test": [
                          0.00008216273229
                        ]
                      },
                      {
                        "learn": [
                          0.00007630299643
                        ],
                        "iteration": 259,
                        "passed_time": 3.869461452,
                        "remaining_time": 11.01308259,
                        "test": [
                          0.00008160260496
                        ]
                      },
                      {
                        "learn": [
                          0.00007601769069
                        ],
                        "iteration": 260,
                        "passed_time": 3.876398488,
                        "remaining_time": 10.975703,
                        "test": [
                          0.00008128434544
                        ]
                      },
                      {
                        "learn": [
                          0.00007549768855
                        ],
                        "iteration": 261,
                        "passed_time": 3.883344953,
                        "remaining_time": 10.93858235,
                        "test": [
                          0.00008073153221
                        ]
                      },
                      {
                        "learn": [
                          0.00007506540599
                        ],
                        "iteration": 262,
                        "passed_time": 3.891657791,
                        "remaining_time": 10.90552012,
                        "test": [
                          0.00008029833771
                        ]
                      },
                      {
                        "learn": [
                          0.00007478841313
                        ],
                        "iteration": 263,
                        "passed_time": 3.900516192,
                        "remaining_time": 10.87416635,
                        "test": [
                          0.00007998909209
                        ]
                      },
                      {
                        "learn": [
                          0.00007427679212
                        ],
                        "iteration": 264,
                        "passed_time": 3.908422671,
                        "remaining_time": 10.84034212,
                        "test": [
                          0.00007944540442
                        ]
                      },
                      {
                        "learn": [
                          0.00007396894232
                        ],
                        "iteration": 265,
                        "passed_time": 3.916087813,
                        "remaining_time": 10.80604682,
                        "test": [
                          0.00007913679778
                        ]
                      },
                      {
                        "learn": [
                          0.00007358107787
                        ],
                        "iteration": 266,
                        "passed_time": 3.923132799,
                        "remaining_time": 10.77024847,
                        "test": [
                          0.00007871728853
                        ]
                      },
                      {
                        "learn": [
                          0.00007307723624
                        ],
                        "iteration": 267,
                        "passed_time": 3.930032175,
                        "remaining_time": 10.73426699,
                        "test": [
                          0.00007818245967
                        ]
                      },
                      {
                        "learn": [
                          0.00007289378818
                        ],
                        "iteration": 268,
                        "passed_time": 3.936989445,
                        "remaining_time": 10.69865905,
                        "test": [
                          0.00007799783292
                        ]
                      },
                      {
                        "learn": [
                          0.00007243592177
                        ],
                        "iteration": 269,
                        "passed_time": 3.943917911,
                        "remaining_time": 10.66318546,
                        "test": [
                          0.00007749610052
                        ]
                      },
                      {
                        "learn": [
                          0.0000722555073
                        ],
                        "iteration": 270,
                        "passed_time": 3.950858811,
                        "remaining_time": 10.62795599,
                        "test": [
                          0.0000773147493
                        ]
                      },
                      {
                        "learn": [
                          0.00007176050586
                        ],
                        "iteration": 271,
                        "passed_time": 3.95776989,
                        "remaining_time": 10.59285471,
                        "test": [
                          0.00007678951128
                        ]
                      },
                      {
                        "learn": [
                          0.00007126828986
                        ],
                        "iteration": 272,
                        "passed_time": 3.964689316,
                        "remaining_time": 10.55798217,
                        "test": [
                          0.0000762677349
                        ]
                      },
                      {
                        "learn": [
                          0.00007109302441
                        ],
                        "iteration": 273,
                        "passed_time": 3.972595619,
                        "remaining_time": 10.52592854,
                        "test": [
                          0.00007606507415
                        ]
                      },
                      {
                        "learn": [
                          0.00007068120768
                        ],
                        "iteration": 274,
                        "passed_time": 3.979651122,
                        "remaining_time": 10.4918075,
                        "test": [
                          0.00007562642664
                        ]
                      },
                      {
                        "learn": [
                          0.00007050840508
                        ],
                        "iteration": 275,
                        "passed_time": 3.986597604,
                        "remaining_time": 10.45759661,
                        "test": [
                          0.00007545266248
                        ]
                      },
                      {
                        "learn": [
                          0.00007002417938
                        ],
                        "iteration": 276,
                        "passed_time": 3.993405543,
                        "remaining_time": 10.42322097,
                        "test": [
                          0.00007493953398
                        ]
                      },
                      {
                        "learn": [
                          0.00006978030159
                        ],
                        "iteration": 277,
                        "passed_time": 4.000426028,
                        "remaining_time": 10.38959566,
                        "test": [
                          0.00007466712562
                        ]
                      },
                      {
                        "learn": [
                          0.00006937442796
                        ],
                        "iteration": 278,
                        "passed_time": 4.007343881,
                        "remaining_time": 10.35589584,
                        "test": [
                          0.00007423520287
                        ]
                      },
                      {
                        "learn": [
                          0.00006905392271
                        ],
                        "iteration": 279,
                        "passed_time": 4.016039127,
                        "remaining_time": 10.32695775,
                        "test": [
                          0.00007387423123
                        ]
                      },
                      {
                        "learn": [
                          0.00006876960335
                        ],
                        "iteration": 280,
                        "passed_time": 4.023128705,
                        "remaining_time": 10.2940553,
                        "test": [
                          0.00007356439006
                        ]
                      },
                      {
                        "learn": [
                          0.00006848665499
                        ],
                        "iteration": 281,
                        "passed_time": 4.030147844,
                        "remaining_time": 10.26115657,
                        "test": [
                          0.00007325639757
                        ]
                      },
                      {
                        "learn": [
                          0.00006820483569
                        ],
                        "iteration": 282,
                        "passed_time": 4.037158597,
                        "remaining_time": 10.22841948,
                        "test": [
                          0.000072949621
                        ]
                      },
                      {
                        "learn": [
                          0.00006785311369
                        ],
                        "iteration": 283,
                        "passed_time": 4.04405524,
                        "remaining_time": 10.19557589,
                        "test": [
                          0.00007257061537
                        ]
                      },
                      {
                        "learn": [
                          0.0000675738565
                        ],
                        "iteration": 284,
                        "passed_time": 4.050990101,
                        "remaining_time": 10.16301025,
                        "test": [
                          0.00007229101698
                        ]
                      },
                      {
                        "learn": [
                          0.00006722601179
                        ],
                        "iteration": 285,
                        "passed_time": 4.057921759,
                        "remaining_time": 10.13061586,
                        "test": [
                          0.00007191655241
                        ]
                      },
                      {
                        "learn": [
                          0.0000668804314
                        ],
                        "iteration": 286,
                        "passed_time": 4.064862603,
                        "remaining_time": 10.09842173,
                        "test": [
                          0.00007154466856
                        ]
                      },
                      {
                        "learn": [
                          0.00006653722701
                        ],
                        "iteration": 287,
                        "passed_time": 4.071824436,
                        "remaining_time": 10.06645486,
                        "test": [
                          0.0000711755019
                        ]
                      },
                      {
                        "learn": [
                          0.00006626367097
                        ],
                        "iteration": 288,
                        "passed_time": 4.078767153,
                        "remaining_time": 10.034614,
                        "test": [
                          0.00007090139374
                        ]
                      },
                      {
                        "learn": [
                          0.00006599123159
                        ],
                        "iteration": 289,
                        "passed_time": 4.085814825,
                        "remaining_time": 10.00320181,
                        "test": [
                          0.00007062823474
                        ]
                      },
                      {
                        "learn": [
                          0.00006565305836
                        ],
                        "iteration": 290,
                        "passed_time": 4.092663532,
                        "remaining_time": 9.971472317,
                        "test": [
                          0.00007026465137
                        ]
                      },
                      {
                        "learn": [
                          0.00006531732317
                        ],
                        "iteration": 291,
                        "passed_time": 4.099611067,
                        "remaining_time": 9.940152861,
                        "test": [
                          0.00006990358047
                        ]
                      },
                      {
                        "learn": [
                          0.00006504886653
                        ],
                        "iteration": 292,
                        "passed_time": 4.106559521,
                        "remaining_time": 9.909001984,
                        "test": [
                          0.00006961182914
                        ]
                      },
                      {
                        "learn": [
                          0.00006471651232
                        ],
                        "iteration": 293,
                        "passed_time": 4.113443998,
                        "remaining_time": 9.877862117,
                        "test": [
                          0.00006925492089
                        ]
                      },
                      {
                        "learn": [
                          0.00006456938041
                        ],
                        "iteration": 294,
                        "passed_time": 4.120606585,
                        "remaining_time": 9.84755133,
                        "test": [
                          0.00006910700733
                        ]
                      },
                      {
                        "learn": [
                          0.00006418562898
                        ],
                        "iteration": 295,
                        "passed_time": 4.127609773,
                        "remaining_time": 9.817017839,
                        "test": [
                          0.00006870090416
                        ]
                      },
                      {
                        "learn": [
                          0.00006397690726
                        ],
                        "iteration": 296,
                        "passed_time": 4.134451961,
                        "remaining_time": 9.786261712,
                        "test": [
                          0.00006846770905
                        ]
                      },
                      {
                        "learn": [
                          0.00006371432548
                        ],
                        "iteration": 297,
                        "passed_time": 4.141468487,
                        "remaining_time": 9.756076771,
                        "test": [
                          0.00006820457514
                        ]
                      },
                      {
                        "learn": [
                          0.00006339007944
                        ],
                        "iteration": 298,
                        "passed_time": 4.148331198,
                        "remaining_time": 9.725686187,
                        "test": [
                          0.00006785623413
                        ]
                      },
                      {
                        "learn": [
                          0.00006306772551
                        ],
                        "iteration": 299,
                        "passed_time": 4.155187605,
                        "remaining_time": 9.695437746,
                        "test": [
                          0.00006751009541
                        ]
                      },
                      {
                        "learn": [
                          0.0000628564665
                        ],
                        "iteration": 300,
                        "passed_time": 4.16489524,
                        "remaining_time": 9.671966023,
                        "test": [
                          0.00006726850057
                        ]
                      },
                      {
                        "learn": [
                          0.00006271708295
                        ],
                        "iteration": 301,
                        "passed_time": 4.171807609,
                        "remaining_time": 9.642124872,
                        "test": [
                          0.0000671073174
                        ]
                      },
                      {
                        "learn": [
                          0.0000623406084
                        ],
                        "iteration": 302,
                        "passed_time": 4.17874763,
                        "remaining_time": 9.612498674,
                        "test": [
                          0.00006673050165
                        ]
                      },
                      {
                        "learn": [
                          0.00006214248871
                        ],
                        "iteration": 303,
                        "passed_time": 4.185620371,
                        "remaining_time": 9.582867692,
                        "test": [
                          0.00006650925477
                        ]
                      },
                      {
                        "learn": [
                          0.00006178337197
                        ],
                        "iteration": 304,
                        "passed_time": 4.192509928,
                        "remaining_time": 9.553424261,
                        "test": [
                          0.00006613454826
                        ]
                      },
                      {
                        "learn": [
                          0.00006164794634
                        ],
                        "iteration": 305,
                        "passed_time": 4.199390346,
                        "remaining_time": 9.524107517,
                        "test": [
                          0.00006597799921
                        ]
                      },
                      {
                        "learn": [
                          0.0000614539893
                        ],
                        "iteration": 306,
                        "passed_time": 4.206111725,
                        "remaining_time": 9.494577933,
                        "test": [
                          0.00006576170284
                        ]
                      },
                      {
                        "learn": [
                          0.00006108266378
                        ],
                        "iteration": 307,
                        "passed_time": 4.212919396,
                        "remaining_time": 9.46539033,
                        "test": [
                          0.00006538978177
                        ]
                      },
                      {
                        "learn": [
                          0.00006095000498
                        ],
                        "iteration": 308,
                        "passed_time": 4.219753643,
                        "remaining_time": 9.436407015,
                        "test": [
                          0.0000652568314
                        ]
                      },
                      {
                        "learn": [
                          0.00006052235655
                        ],
                        "iteration": 309,
                        "passed_time": 4.226474316,
                        "remaining_time": 9.407313801,
                        "test": [
                          0.00006480675057
                        ]
                      },
                      {
                        "learn": [
                          0.00006033434881
                        ],
                        "iteration": 310,
                        "passed_time": 4.233349259,
                        "remaining_time": 9.378706236,
                        "test": [
                          0.00006459693081
                        ]
                      },
                      {
                        "learn": [
                          0.00006014813392
                        ],
                        "iteration": 311,
                        "passed_time": 4.240252473,
                        "remaining_time": 9.350300325,
                        "test": [
                          0.00006438882945
                        ]
                      },
                      {
                        "learn": [
                          0.00005978216215
                        ],
                        "iteration": 312,
                        "passed_time": 4.247237028,
                        "remaining_time": 9.322210346,
                        "test": [
                          0.0000640031611
                        ]
                      },
                      {
                        "learn": [
                          0.0000596548633
                        ],
                        "iteration": 313,
                        "passed_time": 4.254248798,
                        "remaining_time": 9.294314254,
                        "test": [
                          0.00006385628354
                        ]
                      },
                      {
                        "learn": [
                          0.00005929041142
                        ],
                        "iteration": 314,
                        "passed_time": 4.261299605,
                        "remaining_time": 9.26663565,
                        "test": [
                          0.00006347246387
                        ]
                      },
                      {
                        "learn": [
                          0.00005910928973
                        ],
                        "iteration": 315,
                        "passed_time": 4.268274119,
                        "remaining_time": 9.238922459,
                        "test": [
                          0.00006326996441
                        ]
                      },
                      {
                        "learn": [
                          0.00005898452818
                        ],
                        "iteration": 316,
                        "passed_time": 4.275378341,
                        "remaining_time": 9.211619581,
                        "test": [
                          0.0000631449361
                        ]
                      },
                      {
                        "learn": [
                          0.00005862273766
                        ],
                        "iteration": 317,
                        "passed_time": 4.282371028,
                        "remaining_time": 9.184204532,
                        "test": [
                          0.00006284215468
                        ]
                      },
                      {
                        "learn": [
                          0.00005849968831
                        ],
                        "iteration": 318,
                        "passed_time": 4.289356648,
                        "remaining_time": 9.156902437,
                        "test": [
                          0.00006269979958
                        ]
                      },
                      {
                        "learn": [
                          0.00005832332482
                        ],
                        "iteration": 319,
                        "passed_time": 4.296453909,
                        "remaining_time": 9.129964557,
                        "test": [
                          0.00006250234989
                        ]
                      },
                      {
                        "learn": [
                          0.00005791063958
                        ],
                        "iteration": 320,
                        "passed_time": 4.303339011,
                        "remaining_time": 9.102701521,
                        "test": [
                          0.00006206910576
                        ]
                      },
                      {
                        "learn": [
                          0.00005780530164
                        ],
                        "iteration": 321,
                        "passed_time": 4.310369368,
                        "remaining_time": 9.075870906,
                        "test": [
                          0.00006201261535
                        ]
                      },
                      {
                        "learn": [
                          0.00005751394114
                        ],
                        "iteration": 322,
                        "passed_time": 4.31727775,
                        "remaining_time": 9.048907235,
                        "test": [
                          0.00006170078281
                        ]
                      },
                      {
                        "learn": [
                          0.00005722419358
                        ],
                        "iteration": 323,
                        "passed_time": 4.326135134,
                        "remaining_time": 9.026133799,
                        "test": [
                          0.00006139048877
                        ]
                      },
                      {
                        "learn": [
                          0.00005705477817
                        ],
                        "iteration": 324,
                        "passed_time": 4.333008449,
                        "remaining_time": 8.999325241,
                        "test": [
                          0.00006120086188
                        ]
                      },
                      {
                        "learn": [
                          0.00005681947382
                        ],
                        "iteration": 325,
                        "passed_time": 4.340029977,
                        "remaining_time": 8.972945413,
                        "test": [
                          0.00006094705825
                        ]
                      },
                      {
                        "learn": [
                          0.00005658452308
                        ],
                        "iteration": 326,
                        "passed_time": 4.346992233,
                        "remaining_time": 8.946561996,
                        "test": [
                          0.00006071153057
                        ]
                      },
                      {
                        "learn": [
                          0.00005646935237
                        ],
                        "iteration": 327,
                        "passed_time": 4.35399994,
                        "remaining_time": 8.920390121,
                        "test": [
                          0.00006059557199
                        ]
                      },
                      {
                        "learn": [
                          0.00005623595254
                        ],
                        "iteration": 328,
                        "passed_time": 4.361128737,
                        "remaining_time": 8.89458171,
                        "test": [
                          0.00006036147736
                        ]
                      },
                      {
                        "learn": [
                          0.00005595298557
                        ],
                        "iteration": 329,
                        "passed_time": 4.372520422,
                        "remaining_time": 8.877541464,
                        "test": [
                          0.00006005865251
                        ]
                      },
                      {
                        "learn": [
                          0.00005579040658
                        ],
                        "iteration": 330,
                        "passed_time": 4.379254255,
                        "remaining_time": 8.851121137,
                        "test": [
                          0.00005987649481
                        ]
                      },
                      {
                        "learn": [
                          0.00005555963089
                        ],
                        "iteration": 331,
                        "passed_time": 4.386130723,
                        "remaining_time": 8.825106394,
                        "test": [
                          0.00005962830549
                        ]
                      },
                      {
                        "learn": [
                          0.0000552805288
                        ],
                        "iteration": 332,
                        "passed_time": 4.392752681,
                        "remaining_time": 8.798696811,
                        "test": [
                          0.00005932953783
                        ]
                      },
                      {
                        "learn": [
                          0.00005517019072
                        ],
                        "iteration": 333,
                        "passed_time": 4.399565094,
                        "remaining_time": 8.772785488,
                        "test": [
                          0.00005921862281
                        ]
                      },
                      {
                        "learn": [
                          0.00005489311722
                        ],
                        "iteration": 334,
                        "passed_time": 4.406256363,
                        "remaining_time": 8.746747706,
                        "test": [
                          0.00005892257855
                        ]
                      },
                      {
                        "learn": [
                          0.00005461752638
                        ],
                        "iteration": 335,
                        "passed_time": 4.413073365,
                        "remaining_time": 8.721073555,
                        "test": [
                          0.00005862799215
                        ]
                      },
                      {
                        "learn": [
                          0.00005446216223
                        ],
                        "iteration": 336,
                        "passed_time": 4.419833214,
                        "remaining_time": 8.695398875,
                        "test": [
                          0.00005845396743
                        ]
                      },
                      {
                        "learn": [
                          0.00005424802473
                        ],
                        "iteration": 337,
                        "passed_time": 4.426713729,
                        "remaining_time": 8.670072451,
                        "test": [
                          0.00005822721791
                        ]
                      },
                      {
                        "learn": [
                          0.00005409480084
                        ],
                        "iteration": 338,
                        "passed_time": 4.4334532,
                        "remaining_time": 8.644579838,
                        "test": [
                          0.00005805551336
                        ]
                      },
                      {
                        "learn": [
                          0.00005387021019
                        ],
                        "iteration": 339,
                        "passed_time": 4.440286201,
                        "remaining_time": 8.619379096,
                        "test": [
                          0.00005783021549
                        ]
                      },
                      {
                        "learn": [
                          0.00005367447271
                        ],
                        "iteration": 340,
                        "passed_time": 4.447263711,
                        "remaining_time": 8.594565354,
                        "test": [
                          0.00005769709142
                        ]
                      },
                      {
                        "learn": [
                          0.00005357007153
                        ],
                        "iteration": 341,
                        "passed_time": 4.454066608,
                        "remaining_time": 8.569519965,
                        "test": [
                          0.0000575761327
                        ]
                      },
                      {
                        "learn": [
                          0.0000533587877
                        ],
                        "iteration": 342,
                        "passed_time": 4.460977733,
                        "remaining_time": 8.544788252,
                        "test": [
                          0.00005735231131
                        ]
                      },
                      {
                        "learn": [
                          0.00005325552178
                        ],
                        "iteration": 343,
                        "passed_time": 4.467913209,
                        "remaining_time": 8.520206584,
                        "test": [
                          0.00005723248786
                        ]
                      },
                      {
                        "learn": [
                          0.00005303399574
                        ],
                        "iteration": 344,
                        "passed_time": 4.475015938,
                        "remaining_time": 8.496044751,
                        "test": [
                          0.00005699476409
                        ]
                      },
                      {
                        "learn": [
                          0.00005279141451
                        ],
                        "iteration": 345,
                        "passed_time": 4.482091147,
                        "remaining_time": 8.47192951,
                        "test": [
                          0.00005672667966
                        ]
                      },
                      {
                        "learn": [
                          0.00005268989182
                        ],
                        "iteration": 346,
                        "passed_time": 4.489162438,
                        "remaining_time": 8.447905107,
                        "test": [
                          0.00005662446217
                        ]
                      },
                      {
                        "learn": [
                          0.00005244892975
                        ],
                        "iteration": 347,
                        "passed_time": 4.496556018,
                        "remaining_time": 8.424581965,
                        "test": [
                          0.00005635821402
                        ]
                      },
                      {
                        "learn": [
                          0.00005234893315
                        ],
                        "iteration": 348,
                        "passed_time": 4.50356938,
                        "remaining_time": 8.400640879,
                        "test": [
                          0.00005624219961
                        ]
                      },
                      {
                        "learn": [
                          0.00005213032902
                        ],
                        "iteration": 349,
                        "passed_time": 4.510550226,
                        "remaining_time": 8.376736135,
                        "test": [
                          0.00005602300614
                        ]
                      },
                      {
                        "learn": [
                          0.00005198724189
                        ],
                        "iteration": 350,
                        "passed_time": 4.517540708,
                        "remaining_time": 8.35294564,
                        "test": [
                          0.00005586225722
                        ]
                      },
                      {
                        "learn": [
                          0.0000517263537
                        ],
                        "iteration": 351,
                        "passed_time": 4.524439485,
                        "remaining_time": 8.32908178,
                        "test": [
                          0.00005558433382
                        ]
                      },
                      {
                        "learn": [
                          0.00005158557743
                        ],
                        "iteration": 352,
                        "passed_time": 4.531342736,
                        "remaining_time": 8.305322239,
                        "test": [
                          0.00005542619664
                        ]
                      },
                      {
                        "learn": [
                          0.00005136999138
                        ],
                        "iteration": 353,
                        "passed_time": 4.538315825,
                        "remaining_time": 8.281785375,
                        "test": [
                          0.00005519531549
                        ]
                      },
                      {
                        "learn": [
                          0.00005115502569
                        ],
                        "iteration": 354,
                        "passed_time": 4.545288313,
                        "remaining_time": 8.258340738,
                        "test": [
                          0.00005496514777
                        ]
                      },
                      {
                        "learn": [
                          0.00005101683634
                        ],
                        "iteration": 355,
                        "passed_time": 4.552215122,
                        "remaining_time": 8.234906008,
                        "test": [
                          0.00005481019306
                        ]
                      },
                      {
                        "learn": [
                          0.00005080301833
                        ],
                        "iteration": 356,
                        "passed_time": 4.559196466,
                        "remaining_time": 8.211661983,
                        "test": [
                          0.00005458146458
                        ]
                      },
                      {
                        "learn": [
                          0.00005066661873
                        ],
                        "iteration": 357,
                        "passed_time": 4.566309148,
                        "remaining_time": 8.188744338,
                        "test": [
                          0.00005442836476
                        ]
                      },
                      {
                        "learn": [
                          0.00005045409417
                        ],
                        "iteration": 358,
                        "passed_time": 4.573359878,
                        "remaining_time": 8.165804128,
                        "test": [
                          0.00005421527568
                        ]
                      },
                      {
                        "learn": [
                          0.00005031945021
                        ],
                        "iteration": 359,
                        "passed_time": 4.580275361,
                        "remaining_time": 8.142711753,
                        "test": [
                          0.00005406431612
                        ]
                      },
                      {
                        "learn": [
                          0.00005010814157
                        ],
                        "iteration": 360,
                        "passed_time": 4.587205661,
                        "remaining_time": 8.119735229,
                        "test": [
                          0.00005383849715
                        ]
                      },
                      {
                        "learn": [
                          0.00004989724858
                        ],
                        "iteration": 361,
                        "passed_time": 4.594161353,
                        "remaining_time": 8.096892108,
                        "test": [
                          0.00005367121579
                        ]
                      },
                      {
                        "learn": [
                          0.00004976505505
                        ],
                        "iteration": 362,
                        "passed_time": 4.601070633,
                        "remaining_time": 8.074055078,
                        "test": [
                          0.00005352276251
                        ]
                      },
                      {
                        "learn": [
                          0.00004963393476
                        ],
                        "iteration": 363,
                        "passed_time": 4.608009946,
                        "remaining_time": 8.051358038,
                        "test": [
                          0.00005337540107
                        ]
                      },
                      {
                        "learn": [
                          0.00004938496688
                        ],
                        "iteration": 364,
                        "passed_time": 4.614949445,
                        "remaining_time": 8.028747665,
                        "test": [
                          0.00005311019514
                        ]
                      },
                      {
                        "learn": [
                          0.00004917667941
                        ],
                        "iteration": 365,
                        "passed_time": 4.622043726,
                        "remaining_time": 8.006491045,
                        "test": [
                          0.00005288776956
                        ]
                      },
                      {
                        "learn": [
                          0.00004908773462
                        ],
                        "iteration": 366,
                        "passed_time": 4.62907656,
                        "remaining_time": 7.984211069,
                        "test": [
                          0.00005279805241
                        ]
                      },
                      {
                        "learn": [
                          0.00004901587777
                        ],
                        "iteration": 367,
                        "passed_time": 4.636864285,
                        "remaining_time": 7.963310402,
                        "test": [
                          0.00005270909831
                        ]
                      },
                      {
                        "learn": [
                          0.00004880902955
                        ],
                        "iteration": 368,
                        "passed_time": 4.644411468,
                        "remaining_time": 7.942069475,
                        "test": [
                          0.00005248812439
                        ]
                      },
                      {
                        "learn": [
                          0.000048563514
                        ],
                        "iteration": 369,
                        "passed_time": 4.6510843,
                        "remaining_time": 7.919413808,
                        "test": [
                          0.00005222710592
                        ]
                      },
                      {
                        "learn": [
                          0.00004843789945
                        ],
                        "iteration": 370,
                        "passed_time": 4.657899047,
                        "remaining_time": 7.897084906,
                        "test": [
                          0.00005208592331
                        ]
                      },
                      {
                        "learn": [
                          0.00004831310377
                        ],
                        "iteration": 371,
                        "passed_time": 4.664731868,
                        "remaining_time": 7.874869928,
                        "test": [
                          0.00005194594421
                        ]
                      },
                      {
                        "learn": [
                          0.00004822755547
                        ],
                        "iteration": 372,
                        "passed_time": 4.671794818,
                        "remaining_time": 7.853124266,
                        "test": [
                          0.00005184657729
                        ]
                      },
                      {
                        "learn": [
                          0.00004786655282
                        ],
                        "iteration": 373,
                        "passed_time": 4.678658953,
                        "remaining_time": 7.831124345,
                        "test": [
                          0.00005147052769
                        ]
                      },
                      {
                        "learn": [
                          0.00004776042702
                        ],
                        "iteration": 374,
                        "passed_time": 4.685639713,
                        "remaining_time": 7.809399522,
                        "test": [
                          0.000051344178
                        ]
                      },
                      {
                        "learn": [
                          0.00004763904646
                        ],
                        "iteration": 375,
                        "passed_time": 4.695635727,
                        "remaining_time": 7.792757164,
                        "test": [
                          0.00005120797382
                        ]
                      },
                      {
                        "learn": [
                          0.00004755570045
                        ],
                        "iteration": 376,
                        "passed_time": 4.702706209,
                        "remaining_time": 7.771315565,
                        "test": [
                          0.00005111123724
                        ]
                      },
                      {
                        "learn": [
                          0.00004735366627
                        ],
                        "iteration": 377,
                        "passed_time": 4.709712698,
                        "remaining_time": 7.749844704,
                        "test": [
                          0.00005090874399
                        ]
                      },
                      {
                        "learn": [
                          0.00004715221212
                        ],
                        "iteration": 378,
                        "passed_time": 4.716781496,
                        "remaining_time": 7.728552266,
                        "test": [
                          0.0000506944545
                        ]
                      },
                      {
                        "learn": [
                          0.00004707002
                        ],
                        "iteration": 379,
                        "passed_time": 4.723833837,
                        "remaining_time": 7.707307839,
                        "test": [
                          0.00005061161099
                        ]
                      },
                      {
                        "learn": [
                          0.0000469674737
                        ],
                        "iteration": 380,
                        "passed_time": 4.730851232,
                        "remaining_time": 7.686081135,
                        "test": [
                          0.00005048956973
                        ]
                      },
                      {
                        "learn": [
                          0.00004688624935
                        ],
                        "iteration": 381,
                        "passed_time": 4.737826468,
                        "remaining_time": 7.664860621,
                        "test": [
                          0.00005040779015
                        ]
                      },
                      {
                        "learn": [
                          0.00004656755557
                        ],
                        "iteration": 382,
                        "passed_time": 4.744804095,
                        "remaining_time": 7.643718347,
                        "test": [
                          0.00005007645644
                        ]
                      },
                      {
                        "learn": [
                          0.00004648707565
                        ],
                        "iteration": 383,
                        "passed_time": 4.751771393,
                        "remaining_time": 7.622633276,
                        "test": [
                          0.00004999537167
                        ]
                      },
                      {
                        "learn": [
                          0.00004637141485
                        ],
                        "iteration": 384,
                        "passed_time": 4.758706054,
                        "remaining_time": 7.601569411,
                        "test": [
                          0.00004986528118
                        ]
                      },
                      {
                        "learn": [
                          0.00004625668459
                        ],
                        "iteration": 385,
                        "passed_time": 4.765626394,
                        "remaining_time": 7.580555973,
                        "test": [
                          0.0000497365617
                        ]
                      },
                      {
                        "learn": [
                          0.00004594006904
                        ],
                        "iteration": 386,
                        "passed_time": 4.772664235,
                        "remaining_time": 7.559801489,
                        "test": [
                          0.00004940753885
                        ]
                      },
                      {
                        "learn": [
                          0.0000458616053
                        ],
                        "iteration": 387,
                        "passed_time": 4.779548445,
                        "remaining_time": 7.538875382,
                        "test": [
                          0.00004932851058
                        ]
                      },
                      {
                        "learn": [
                          0.00004574867411
                        ],
                        "iteration": 388,
                        "passed_time": 4.786532675,
                        "remaining_time": 7.518178571,
                        "test": [
                          0.00004920162738
                        ]
                      },
                      {
                        "learn": [
                          0.00004563660211
                        ],
                        "iteration": 389,
                        "passed_time": 4.8154095,
                        "remaining_time": 7.531794346,
                        "test": [
                          0.00004907591047
                        ]
                      },
                      {
                        "learn": [
                          0.00004552531798
                        ],
                        "iteration": 390,
                        "passed_time": 4.844893339,
                        "remaining_time": 7.546138219,
                        "test": [
                          0.00004895088836
                        ]
                      },
                      {
                        "learn": [
                          0.00004517695526
                        ],
                        "iteration": 391,
                        "passed_time": 4.851885474,
                        "remaining_time": 7.525373388,
                        "test": [
                          0.00004858921571
                        ]
                      },
                      {
                        "learn": [
                          0.00004506734922
                        ],
                        "iteration": 392,
                        "passed_time": 4.858806023,
                        "remaining_time": 7.504568081,
                        "test": [
                          0.00004846585308
                        ]
                      },
                      {
                        "learn": [
                          0.00004499204624
                        ],
                        "iteration": 393,
                        "passed_time": 4.867034949,
                        "remaining_time": 7.485845632,
                        "test": [
                          0.00004837873216
                        ]
                      },
                      {
                        "learn": [
                          0.00004491709067
                        ],
                        "iteration": 394,
                        "passed_time": 4.87459527,
                        "remaining_time": 7.466152249,
                        "test": [
                          0.0000482918966
                        ]
                      },
                      {
                        "learn": [
                          0.00004480916582
                        ],
                        "iteration": 395,
                        "passed_time": 4.881590983,
                        "remaining_time": 7.445658974,
                        "test": [
                          0.00004817075798
                        ]
                      },
                      {
                        "learn": [
                          0.00004446427404
                        ],
                        "iteration": 396,
                        "passed_time": 4.888423142,
                        "remaining_time": 7.424985276,
                        "test": [
                          0.0000478127765
                        ]
                      },
                      {
                        "learn": [
                          0.00004437516485
                        ],
                        "iteration": 397,
                        "passed_time": 4.895406327,
                        "remaining_time": 7.404609569,
                        "test": [
                          0.00004774394083
                        ]
                      },
                      {
                        "learn": [
                          0.00004430199593
                        ],
                        "iteration": 398,
                        "passed_time": 4.903975068,
                        "remaining_time": 7.386689263,
                        "test": [
                          0.00004765946266
                        ]
                      },
                      {
                        "learn": [
                          0.00004422913098
                        ],
                        "iteration": 399,
                        "passed_time": 4.911133294,
                        "remaining_time": 7.366699941,
                        "test": [
                          0.00004758576333
                        ]
                      },
                      {
                        "learn": [
                          0.00004415673752
                        ],
                        "iteration": 400,
                        "passed_time": 4.918145855,
                        "remaining_time": 7.346557025,
                        "test": [
                          0.000047501859
                        ]
                      },
                      {
                        "learn": [
                          0.00004381456914
                        ],
                        "iteration": 401,
                        "passed_time": 4.924857389,
                        "remaining_time": 7.326031638,
                        "test": [
                          0.0000471470817
                        ]
                      },
                      {
                        "learn": [
                          0.00004371097443
                        ],
                        "iteration": 402,
                        "passed_time": 4.931552453,
                        "remaining_time": 7.305550409,
                        "test": [
                          0.00004703051517
                        ]
                      },
                      {
                        "learn": [
                          0.00004360816448
                        ],
                        "iteration": 403,
                        "passed_time": 4.938257804,
                        "remaining_time": 7.285152601,
                        "test": [
                          0.00004691511492
                        ]
                      },
                      {
                        "learn": [
                          0.00004350600902
                        ],
                        "iteration": 404,
                        "passed_time": 4.9449789,
                        "remaining_time": 7.264845545,
                        "test": [
                          0.00004680029161
                        ]
                      },
                      {
                        "learn": [
                          0.00004343583646
                        ],
                        "iteration": 405,
                        "passed_time": 4.951775193,
                        "remaining_time": 7.244715431,
                        "test": [
                          0.00004671911688
                        ]
                      },
                      {
                        "learn": [
                          0.00004312803009
                        ],
                        "iteration": 406,
                        "passed_time": 4.95868646,
                        "remaining_time": 7.224818356,
                        "test": [
                          0.00004641091347
                        ]
                      },
                      {
                        "learn": [
                          0.00004305842827
                        ],
                        "iteration": 407,
                        "passed_time": 4.965772534,
                        "remaining_time": 7.205238579,
                        "test": [
                          0.00004634070059
                        ]
                      },
                      {
                        "learn": [
                          0.00004298937236
                        ],
                        "iteration": 408,
                        "passed_time": 4.973135089,
                        "remaining_time": 7.186119407,
                        "test": [
                          0.00004626048743
                        ]
                      },
                      {
                        "learn": [
                          0.00004292053669
                        ],
                        "iteration": 409,
                        "passed_time": 4.980134363,
                        "remaining_time": 7.166534815,
                        "test": [
                          0.00004618086361
                        ]
                      },
                      {
                        "learn": [
                          0.00004285194606
                        ],
                        "iteration": 410,
                        "passed_time": 4.987157224,
                        "remaining_time": 7.147045267,
                        "test": [
                          0.0000461012522
                        ]
                      },
                      {
                        "learn": [
                          0.00004263440896
                        ],
                        "iteration": 411,
                        "passed_time": 4.994031977,
                        "remaining_time": 7.12740486,
                        "test": [
                          0.00004587161179
                        ]
                      },
                      {
                        "learn": [
                          0.00004241736815
                        ],
                        "iteration": 412,
                        "passed_time": 5.001000138,
                        "remaining_time": 7.107959034,
                        "test": [
                          0.00004564264757
                        ]
                      },
                      {
                        "learn": [
                          0.00004232005464
                        ],
                        "iteration": 413,
                        "passed_time": 5.007876283,
                        "remaining_time": 7.088443241,
                        "test": [
                          0.00004553320282
                        ]
                      },
                      {
                        "learn": [
                          0.00004225301492
                        ],
                        "iteration": 414,
                        "passed_time": 5.014860018,
                        "remaining_time": 7.069140025,
                        "test": [
                          0.000045465825
                        ]
                      },
                      {
                        "learn": [
                          0.00004218658936
                        ],
                        "iteration": 415,
                        "passed_time": 5.021809996,
                        "remaining_time": 7.049848648,
                        "test": [
                          0.00004538863302
                        ]
                      },
                      {
                        "learn": [
                          0.00004200141979
                        ],
                        "iteration": 416,
                        "passed_time": 5.028762217,
                        "remaining_time": 7.030619598,
                        "test": [
                          0.0000451930134
                        ]
                      },
                      {
                        "learn": [
                          0.00004193536335
                        ],
                        "iteration": 417,
                        "passed_time": 5.035765182,
                        "remaining_time": 7.011519942,
                        "test": [
                          0.00004512641104
                        ]
                      },
                      {
                        "learn": [
                          0.00004172140886
                        ],
                        "iteration": 418,
                        "passed_time": 5.042561185,
                        "remaining_time": 6.992191046,
                        "test": [
                          0.0000449009767
                        ]
                      },
                      {
                        "learn": [
                          0.00004162706999
                        ],
                        "iteration": 419,
                        "passed_time": 5.049486569,
                        "remaining_time": 6.9731005,
                        "test": [
                          0.00004479481368
                        ]
                      },
                      {
                        "learn": [
                          0.00004156767317
                        ],
                        "iteration": 420,
                        "passed_time": 5.056611995,
                        "remaining_time": 6.954342862,
                        "test": [
                          0.00004471956964
                        ]
                      },
                      {
                        "learn": [
                          0.00004150317075
                        ],
                        "iteration": 421,
                        "passed_time": 5.063699444,
                        "remaining_time": 6.935588338,
                        "test": [
                          0.00004464502041
                        ]
                      },
                      {
                        "learn": [
                          0.00004129122933
                        ],
                        "iteration": 422,
                        "passed_time": 5.070623469,
                        "remaining_time": 6.916666056,
                        "test": [
                          0.00004442150609
                        ]
                      },
                      {
                        "learn": [
                          0.00004107990518
                        ],
                        "iteration": 423,
                        "passed_time": 5.077673325,
                        "remaining_time": 6.897971309,
                        "test": [
                          0.00004419908672
                        ]
                      },
                      {
                        "learn": [
                          0.00004101659386
                        ],
                        "iteration": 424,
                        "passed_time": 5.084639637,
                        "remaining_time": 6.879218332,
                        "test": [
                          0.00004412566655
                        ]
                      },
                      {
                        "learn": [
                          0.00004095340661
                        ],
                        "iteration": 425,
                        "passed_time": 5.091605899,
                        "remaining_time": 6.860520625,
                        "test": [
                          0.00004406200472
                        ]
                      },
                      {
                        "learn": [
                          0.00004089055746
                        ],
                        "iteration": 426,
                        "passed_time": 5.098567173,
                        "remaining_time": 6.841871171,
                        "test": [
                          0.00004398938482
                        ]
                      },
                      {
                        "learn": [
                          0.00004082789752
                        ],
                        "iteration": 427,
                        "passed_time": 5.106014306,
                        "remaining_time": 6.823925661,
                        "test": [
                          0.00004392618517
                        ]
                      },
                      {
                        "learn": [
                          0.00004061889353
                        ],
                        "iteration": 428,
                        "passed_time": 5.114641761,
                        "remaining_time": 6.807600106,
                        "test": [
                          0.00004370608906
                        ]
                      },
                      {
                        "learn": [
                          0.00004052923221
                        ],
                        "iteration": 429,
                        "passed_time": 5.126213693,
                        "remaining_time": 6.7952135,
                        "test": [
                          0.00004360550312
                        ]
                      },
                      {
                        "learn": [
                          0.00004035393885
                        ],
                        "iteration": 430,
                        "passed_time": 5.133782667,
                        "remaining_time": 6.777546027,
                        "test": [
                          0.00004344791807
                        ]
                      },
                      {
                        "learn": [
                          0.00004029272126
                        ],
                        "iteration": 431,
                        "passed_time": 5.140627132,
                        "remaining_time": 6.75897271,
                        "test": [
                          0.0000433770476
                        ]
                      },
                      {
                        "learn": [
                          0.00004023184486
                        ],
                        "iteration": 432,
                        "passed_time": 5.147633723,
                        "remaining_time": 6.740665868,
                        "test": [
                          0.00004330608408
                        ]
                      },
                      {
                        "learn": [
                          0.00004017113287
                        ],
                        "iteration": 433,
                        "passed_time": 5.157049457,
                        "remaining_time": 6.725552978,
                        "test": [
                          0.00004324522629
                        ]
                      },
                      {
                        "learn": [
                          0.00003999193741
                        ],
                        "iteration": 434,
                        "passed_time": 5.164251729,
                        "remaining_time": 6.707591326,
                        "test": [
                          0.00004305614532
                        ]
                      },
                      {
                        "learn": [
                          0.00003990463658
                        ],
                        "iteration": 435,
                        "passed_time": 5.171196049,
                        "remaining_time": 6.689345348,
                        "test": [
                          0.00004295815871
                        ]
                      },
                      {
                        "learn": [
                          0.0000397259157
                        ],
                        "iteration": 436,
                        "passed_time": 5.178131799,
                        "remaining_time": 6.671140052,
                        "test": [
                          0.00004277908733
                        ]
                      },
                      {
                        "learn": [
                          0.00003963966019
                        ],
                        "iteration": 437,
                        "passed_time": 5.18495892,
                        "remaining_time": 6.652846833,
                        "test": [
                          0.00004268207779
                        ]
                      },
                      {
                        "learn": [
                          0.00003958057355
                        ],
                        "iteration": 438,
                        "passed_time": 5.191905698,
                        "remaining_time": 6.634758762,
                        "test": [
                          0.00004261376943
                        ]
                      },
                      {
                        "learn": [
                          0.00003952183741
                        ],
                        "iteration": 439,
                        "passed_time": 5.198846617,
                        "remaining_time": 6.616713876,
                        "test": [
                          0.00004254532458
                        ]
                      },
                      {
                        "learn": [
                          0.00003931784287
                        ],
                        "iteration": 440,
                        "passed_time": 5.206071817,
                        "remaining_time": 6.599079695,
                        "test": [
                          0.00004233079005
                        ]
                      },
                      {
                        "learn": [
                          0.00003925959683
                        ],
                        "iteration": 441,
                        "passed_time": 5.213116389,
                        "remaining_time": 6.581264582,
                        "test": [
                          0.00004226322922
                        ]
                      },
                      {
                        "learn": [
                          0.00003920649981
                        ],
                        "iteration": 442,
                        "passed_time": 5.220131246,
                        "remaining_time": 6.563460732,
                        "test": [
                          0.00004219636631
                        ]
                      },
                      {
                        "learn": [
                          0.0000390299409
                        ],
                        "iteration": 443,
                        "passed_time": 5.227103429,
                        "remaining_time": 6.545652042,
                        "test": [
                          0.00004201029411
                        ]
                      },
                      {
                        "learn": [
                          0.00003897226869
                        ],
                        "iteration": 444,
                        "passed_time": 5.234141746,
                        "remaining_time": 6.527974537,
                        "test": [
                          0.0000419524544
                        ]
                      },
                      {
                        "learn": [
                          0.00003891520444
                        ],
                        "iteration": 445,
                        "passed_time": 5.241371511,
                        "remaining_time": 6.510582549,
                        "test": [
                          0.00004188607538
                        ]
                      },
                      {
                        "learn": [
                          0.00003883238575
                        ],
                        "iteration": 446,
                        "passed_time": 5.248328111,
                        "remaining_time": 6.492898088,
                        "test": [
                          0.00004179327191
                        ]
                      },
                      {
                        "learn": [
                          0.00003865685664
                        ],
                        "iteration": 447,
                        "passed_time": 5.255382594,
                        "remaining_time": 6.475382125,
                        "test": [
                          0.00004160875062
                        ]
                      },
                      {
                        "learn": [
                          0.00003860036003
                        ],
                        "iteration": 448,
                        "passed_time": 5.262452843,
                        "remaining_time": 6.457932108,
                        "test": [
                          0.00004155181355
                        ]
                      },
                      {
                        "learn": [
                          0.00003839986434
                        ],
                        "iteration": 449,
                        "passed_time": 5.269366905,
                        "remaining_time": 6.440337328,
                        "test": [
                          0.00004134125865
                        ]
                      },
                      {
                        "learn": [
                          0.00003834410286
                        ],
                        "iteration": 450,
                        "passed_time": 5.276324002,
                        "remaining_time": 6.4228423,
                        "test": [
                          0.00004127663835
                        ]
                      },
                      {
                        "learn": [
                          0.00003826336239
                        ],
                        "iteration": 451,
                        "passed_time": 5.283188556,
                        "remaining_time": 6.4052817,
                        "test": [
                          0.0000411860589
                        ]
                      },
                      {
                        "learn": [
                          0.00003818319265
                        ],
                        "iteration": 452,
                        "passed_time": 5.290107112,
                        "remaining_time": 6.387833533,
                        "test": [
                          0.00004109569657
                        ]
                      },
                      {
                        "learn": [
                          0.00003800923617
                        ],
                        "iteration": 453,
                        "passed_time": 5.297088931,
                        "remaining_time": 6.370507834,
                        "test": [
                          0.0000409215788
                        ]
                      },
                      {
                        "learn": [
                          0.00003792975194
                        ],
                        "iteration": 454,
                        "passed_time": 5.303986634,
                        "remaining_time": 6.353126848,
                        "test": [
                          0.0000408322897
                        ]
                      },
                      {
                        "learn": [
                          0.00003787539868
                        ],
                        "iteration": 455,
                        "passed_time": 5.312626916,
                        "remaining_time": 6.337870707,
                        "test": [
                          0.00004076941573
                        ]
                      },
                      {
                        "learn": [
                          0.00003782737625
                        ],
                        "iteration": 456,
                        "passed_time": 5.320133011,
                        "remaining_time": 6.321295897,
                        "test": [
                          0.00004071487947
                        ]
                      },
                      {
                        "learn": [
                          0.00003765458606
                        ],
                        "iteration": 457,
                        "passed_time": 5.327106972,
                        "remaining_time": 6.304130958,
                        "test": [
                          0.00004053342278
                        ]
                      },
                      {
                        "learn": [
                          0.00003758664371
                        ],
                        "iteration": 458,
                        "passed_time": 5.334266291,
                        "remaining_time": 6.287228897,
                        "test": [
                          0.00004045262027
                        ]
                      },
                      {
                        "learn": [
                          0.00003750905159
                        ],
                        "iteration": 459,
                        "passed_time": 5.341126562,
                        "remaining_time": 6.270018138,
                        "test": [
                          0.00004036547453
                        ]
                      },
                      {
                        "learn": [
                          0.00003733706477
                        ],
                        "iteration": 460,
                        "passed_time": 5.348052036,
                        "remaining_time": 6.252928519,
                        "test": [
                          0.00004018506936
                        ]
                      },
                      {
                        "learn": [
                          0.00003726017366
                        ],
                        "iteration": 461,
                        "passed_time": 5.354933886,
                        "remaining_time": 6.235832101,
                        "test": [
                          0.00004009888829
                        ]
                      },
                      {
                        "learn": [
                          0.00003718385949
                        ],
                        "iteration": 462,
                        "passed_time": 5.361768766,
                        "remaining_time": 6.218725329,
                        "test": [
                          0.00004001320662
                        ]
                      },
                      {
                        "learn": [
                          0.00003713143247
                        ],
                        "iteration": 463,
                        "passed_time": 5.368700045,
                        "remaining_time": 6.201774189,
                        "test": [
                          0.00003996043529
                        ]
                      },
                      {
                        "learn": [
                          0.00003693690159
                        ],
                        "iteration": 464,
                        "passed_time": 5.376033004,
                        "remaining_time": 6.185328295,
                        "test": [
                          0.00003975672302
                        ]
                      },
                      {
                        "learn": [
                          0.00003686184986
                        ],
                        "iteration": 465,
                        "passed_time": 5.38291383,
                        "remaining_time": 6.168403402,
                        "test": [
                          0.00003967231929
                        ]
                      },
                      {
                        "learn": [
                          0.0000368103844
                        ],
                        "iteration": 466,
                        "passed_time": 5.389963708,
                        "remaining_time": 6.151714468,
                        "test": [
                          0.00003961264951
                        ]
                      },
                      {
                        "learn": [
                          0.00003662928443
                        ],
                        "iteration": 467,
                        "passed_time": 5.3969096,
                        "remaining_time": 6.13494852,
                        "test": [
                          0.00003941856219
                        ]
                      },
                      {
                        "learn": [
                          0.00003657824702
                        ],
                        "iteration": 468,
                        "passed_time": 5.403883665,
                        "remaining_time": 6.118256346,
                        "test": [
                          0.00003936716187
                        ]
                      },
                      {
                        "learn": [
                          0.00003650450736
                        ],
                        "iteration": 469,
                        "passed_time": 5.410775998,
                        "remaining_time": 6.101513359,
                        "test": [
                          0.00003928430285
                        ]
                      },
                      {
                        "learn": [
                          0.0000364540624
                        ],
                        "iteration": 470,
                        "passed_time": 5.417770575,
                        "remaining_time": 6.084927037,
                        "test": [
                          0.00003922600718
                        ]
                      },
                      {
                        "learn": [
                          0.0000363809245
                        ],
                        "iteration": 471,
                        "passed_time": 5.424625383,
                        "remaining_time": 6.068225005,
                        "test": [
                          0.00003914395153
                        ]
                      },
                      {
                        "learn": [
                          0.00003621199918
                        ],
                        "iteration": 472,
                        "passed_time": 5.431543464,
                        "remaining_time": 6.051635107,
                        "test": [
                          0.00003896723753
                        ]
                      },
                      {
                        "learn": [
                          0.00003613968016
                        ],
                        "iteration": 473,
                        "passed_time": 5.438583163,
                        "remaining_time": 6.035220978,
                        "test": [
                          0.00003888594494
                        ]
                      },
                      {
                        "learn": [
                          0.00003606786364
                        ],
                        "iteration": 474,
                        "passed_time": 5.445439331,
                        "remaining_time": 6.018643471,
                        "test": [
                          0.00003880533164
                        ]
                      },
                      {
                        "learn": [
                          0.00003589946563
                        ],
                        "iteration": 475,
                        "passed_time": 5.452341424,
                        "remaining_time": 6.002157366,
                        "test": [
                          0.00003863679095
                        ]
                      },
                      {
                        "learn": [
                          0.00003585038547
                        ],
                        "iteration": 476,
                        "passed_time": 5.459364851,
                        "remaining_time": 5.985844481,
                        "test": [
                          0.00003858732927
                        ]
                      },
                      {
                        "learn": [
                          0.00003577940954
                        ],
                        "iteration": 477,
                        "passed_time": 5.46629248,
                        "remaining_time": 5.969465846,
                        "test": [
                          0.00003850769304
                        ]
                      },
                      {
                        "learn": [
                          0.00003573091252
                        ],
                        "iteration": 478,
                        "passed_time": 5.47322157,
                        "remaining_time": 5.953128263,
                        "test": [
                          0.00003845145698
                        ]
                      },
                      {
                        "learn": [
                          0.000035660619
                        ],
                        "iteration": 479,
                        "passed_time": 5.480071842,
                        "remaining_time": 5.936744495,
                        "test": [
                          0.00003837260242
                        ]
                      },
                      {
                        "learn": [
                          0.00003547173344
                        ],
                        "iteration": 480,
                        "passed_time": 5.486913547,
                        "remaining_time": 5.920391125,
                        "test": [
                          0.00003817524268
                        ]
                      },
                      {
                        "learn": [
                          0.00003542402119
                        ],
                        "iteration": 481,
                        "passed_time": 5.493862694,
                        "remaining_time": 5.904192688,
                        "test": [
                          0.00003811986892
                        ]
                      },
                      {
                        "learn": [
                          0.00003535470163
                        ],
                        "iteration": 482,
                        "passed_time": 5.500715423,
                        "remaining_time": 5.887929346,
                        "test": [
                          0.00003804218995
                        ]
                      },
                      {
                        "learn": [
                          0.00003517841568
                        ],
                        "iteration": 483,
                        "passed_time": 5.507693982,
                        "remaining_time": 5.871839038,
                        "test": [
                          0.00003785406434
                        ]
                      },
                      {
                        "learn": [
                          0.00003513126176
                        ],
                        "iteration": 484,
                        "passed_time": 5.514702315,
                        "remaining_time": 5.855817922,
                        "test": [
                          0.00003779918067
                        ]
                      },
                      {
                        "learn": [
                          0.00003508435288
                        ],
                        "iteration": 485,
                        "passed_time": 5.521578437,
                        "remaining_time": 5.839694067,
                        "test": [
                          0.00003774491116
                        ]
                      },
                      {
                        "learn": [
                          0.00003501638882
                        ],
                        "iteration": 486,
                        "passed_time": 5.528365438,
                        "remaining_time": 5.823514311,
                        "test": [
                          0.00003766869315
                        ]
                      },
                      {
                        "learn": [
                          0.000034969756
                        ],
                        "iteration": 487,
                        "passed_time": 5.535585281,
                        "remaining_time": 5.807827181,
                        "test": [
                          0.00003762178117
                        ]
                      },
                      {
                        "learn": [
                          0.00003478342635
                        ],
                        "iteration": 488,
                        "passed_time": 5.542371782,
                        "remaining_time": 5.791721841,
                        "test": [
                          0.0000374274364
                        ]
                      },
                      {
                        "learn": [
                          0.00003471654793
                        ],
                        "iteration": 489,
                        "passed_time": 5.549245425,
                        "remaining_time": 5.775745239,
                        "test": [
                          0.00003735219546
                        ]
                      },
                      {
                        "learn": [
                          0.00003465001381
                        ],
                        "iteration": 490,
                        "passed_time": 5.55606061,
                        "remaining_time": 5.759745113,
                        "test": [
                          0.00003727755318
                        ]
                      },
                      {
                        "learn": [
                          0.00003446486595
                        ],
                        "iteration": 491,
                        "passed_time": 5.562893012,
                        "remaining_time": 5.743800101,
                        "test": [
                          0.00003708439331
                        ]
                      },
                      {
                        "learn": [
                          0.00003439901423
                        ],
                        "iteration": 492,
                        "passed_time": 5.569702201,
                        "remaining_time": 5.727868187,
                        "test": [
                          0.00003701042412
                        ]
                      },
                      {
                        "learn": [
                          0.00003435383307
                        ],
                        "iteration": 493,
                        "passed_time": 5.576540062,
                        "remaining_time": 5.712002574,
                        "test": [
                          0.00003696506305
                        ]
                      },
                      {
                        "learn": [
                          0.00003428851796
                        ],
                        "iteration": 494,
                        "passed_time": 5.583281186,
                        "remaining_time": 5.696074746,
                        "test": [
                          0.00003689198098
                        ]
                      },
                      {
                        "learn": [
                          0.0000342237736
                        ],
                        "iteration": 495,
                        "passed_time": 5.590057578,
                        "remaining_time": 5.680219797,
                        "test": [
                          0.00003681928974
                        ]
                      },
                      {
                        "learn": [
                          0.00003417059903
                        ],
                        "iteration": 496,
                        "passed_time": 5.596972619,
                        "remaining_time": 5.664541705,
                        "test": [
                          0.00003675855913
                        ]
                      },
                      {
                        "learn": [
                          0.00003400722287
                        ],
                        "iteration": 497,
                        "passed_time": 5.60389241,
                        "remaining_time": 5.648903594,
                        "test": [
                          0.000036594879
                        ]
                      },
                      {
                        "learn": [
                          0.00003396312114
                        ],
                        "iteration": 498,
                        "passed_time": 5.611018837,
                        "remaining_time": 5.633507891,
                        "test": [
                          0.00003655038644
                        ]
                      },
                      {
                        "learn": [
                          0.00003389935075
                        ],
                        "iteration": 499,
                        "passed_time": 5.617771051,
                        "remaining_time": 5.617771051,
                        "test": [
                          0.00003647887389
                        ]
                      },
                      {
                        "learn": [
                          0.00003373673764
                        ],
                        "iteration": 500,
                        "passed_time": 5.624685716,
                        "remaining_time": 5.602231881,
                        "test": [
                          0.0000363094926
                        ]
                      },
                      {
                        "learn": [
                          0.00003367363104
                        ],
                        "iteration": 501,
                        "passed_time": 5.631341787,
                        "remaining_time": 5.586470538,
                        "test": [
                          0.00003623875551
                        ]
                      },
                      {
                        "learn": [
                          0.00003363549722
                        ],
                        "iteration": 502,
                        "passed_time": 5.638118646,
                        "remaining_time": 5.570864745,
                        "test": [
                          0.00003619505392
                        ]
                      },
                      {
                        "learn": [
                          0.00003357294894
                        ],
                        "iteration": 503,
                        "passed_time": 5.644779968,
                        "remaining_time": 5.555180286,
                        "test": [
                          0.00003612480071
                        ]
                      },
                      {
                        "learn": [
                          0.00003352993905
                        ],
                        "iteration": 504,
                        "passed_time": 5.651614828,
                        "remaining_time": 5.539701663,
                        "test": [
                          0.00003607500403
                        ]
                      },
                      {
                        "learn": [
                          0.00003348724245
                        ],
                        "iteration": 505,
                        "passed_time": 5.658489298,
                        "remaining_time": 5.524295876,
                        "test": [
                          0.00003602560129
                        ]
                      },
                      {
                        "learn": [
                          0.00003330652089
                        ],
                        "iteration": 506,
                        "passed_time": 5.66526103,
                        "remaining_time": 5.508823842,
                        "test": [
                          0.00003583722753
                        ]
                      },
                      {
                        "learn": [
                          0.00003326413137
                        ],
                        "iteration": 507,
                        "passed_time": 5.672216668,
                        "remaining_time": 5.493564175,
                        "test": [
                          0.00003578841723
                        ]
                      },
                      {
                        "learn": [
                          0.00003322191555
                        ],
                        "iteration": 508,
                        "passed_time": 5.679052473,
                        "remaining_time": 5.478221541,
                        "test": [
                          0.00003573968138
                        ]
                      },
                      {
                        "learn": [
                          0.0000330420563
                        ],
                        "iteration": 509,
                        "passed_time": 5.689017045,
                        "remaining_time": 5.465918337,
                        "test": [
                          0.00003555219785
                        ]
                      },
                      {
                        "learn": [
                          0.00003300470414
                        ],
                        "iteration": 510,
                        "passed_time": 5.696016982,
                        "remaining_time": 5.450787288,
                        "test": [
                          0.00003551015883
                        ]
                      },
                      {
                        "learn": [
                          0.00003296302183
                        ],
                        "iteration": 511,
                        "passed_time": 5.702819746,
                        "remaining_time": 5.435500071,
                        "test": [
                          0.00003546172385
                        ]
                      },
                      {
                        "learn": [
                          0.00003292152874
                        ],
                        "iteration": 512,
                        "passed_time": 5.710566498,
                        "remaining_time": 5.421142075,
                        "test": [
                          0.00003541369522
                        ]
                      },
                      {
                        "learn": [
                          0.00003286137507
                        ],
                        "iteration": 513,
                        "passed_time": 5.717370926,
                        "remaining_time": 5.405918813,
                        "test": [
                          0.00003534636703
                        ]
                      },
                      {
                        "learn": [
                          0.00003282013322
                        ],
                        "iteration": 514,
                        "passed_time": 5.724239193,
                        "remaining_time": 5.390788366,
                        "test": [
                          0.00003530472194
                        ]
                      },
                      {
                        "learn": [
                          0.00003277901855
                        ],
                        "iteration": 515,
                        "passed_time": 5.731270853,
                        "remaining_time": 5.375843203,
                        "test": [
                          0.00003526345528
                        ]
                      },
                      {
                        "learn": [
                          0.00003260079086
                        ],
                        "iteration": 516,
                        "passed_time": 5.738044423,
                        "remaining_time": 5.360687536,
                        "test": [
                          0.00003507811511
                        ]
                      },
                      {
                        "learn": [
                          0.00003255156802
                        ],
                        "iteration": 517,
                        "passed_time": 5.744857205,
                        "remaining_time": 5.345600719,
                        "test": [
                          0.00003501866556
                        ]
                      },
                      {
                        "learn": [
                          0.0000323738056
                        ],
                        "iteration": 518,
                        "passed_time": 5.751646686,
                        "remaining_time": 5.330524192,
                        "test": [
                          0.00003483363557
                        ]
                      },
                      {
                        "learn": [
                          0.00003231531451
                        ],
                        "iteration": 519,
                        "passed_time": 5.758516704,
                        "remaining_time": 5.315553881,
                        "test": [
                          0.00003476806301
                        ]
                      },
                      {
                        "learn": [
                          0.00003225716772
                        ],
                        "iteration": 520,
                        "passed_time": 5.76527209,
                        "remaining_time": 5.300509273,
                        "test": [
                          0.00003470309221
                        ]
                      },
                      {
                        "learn": [
                          0.00003219923806
                        ],
                        "iteration": 521,
                        "passed_time": 5.772104889,
                        "remaining_time": 5.285567312,
                        "test": [
                          0.00003463782364
                        ]
                      },
                      {
                        "learn": [
                          0.00003215968051
                        ],
                        "iteration": 522,
                        "passed_time": 5.77889069,
                        "remaining_time": 5.270613498,
                        "test": [
                          0.00003459204072
                        ]
                      },
                      {
                        "learn": [
                          0.00003210224093
                        ],
                        "iteration": 523,
                        "passed_time": 5.785616281,
                        "remaining_time": 5.255636164,
                        "test": [
                          0.00003452794464
                        ]
                      },
                      {
                        "learn": [
                          0.00003206293152
                        ],
                        "iteration": 524,
                        "passed_time": 5.792502788,
                        "remaining_time": 5.240835855,
                        "test": [
                          0.00003448225477
                        ]
                      },
                      {
                        "learn": [
                          0.00003202374618
                        ],
                        "iteration": 525,
                        "passed_time": 5.799395273,
                        "remaining_time": 5.226071025,
                        "test": [
                          0.00003444295466
                        ]
                      },
                      {
                        "learn": [
                          0.00003184810541
                        ],
                        "iteration": 526,
                        "passed_time": 5.806096821,
                        "remaining_time": 5.211164699,
                        "test": [
                          0.00003426043715
                        ]
                      },
                      {
                        "learn": [
                          0.00003180919614
                        ],
                        "iteration": 527,
                        "passed_time": 5.818477522,
                        "remaining_time": 5.201366269,
                        "test": [
                          0.00003422133246
                        ]
                      },
                      {
                        "learn": [
                          0.0000316341261
                        ],
                        "iteration": 528,
                        "passed_time": 5.850604267,
                        "remaining_time": 5.209139149,
                        "test": [
                          0.0000340394136
                        ]
                      },
                      {
                        "learn": [
                          0.00003158741884
                        ],
                        "iteration": 529,
                        "passed_time": 5.867817947,
                        "remaining_time": 5.20353667,
                        "test": [
                          0.00003398321476
                        ]
                      },
                      {
                        "learn": [
                          0.00003154916095
                        ],
                        "iteration": 530,
                        "passed_time": 5.880335571,
                        "remaining_time": 5.193742717,
                        "test": [
                          0.00003393897035
                        ]
                      },
                      {
                        "learn": [
                          0.00003150334391
                        ],
                        "iteration": 531,
                        "passed_time": 5.889728094,
                        "remaining_time": 5.181189376,
                        "test": [
                          0.00003388654952
                        ]
                      },
                      {
                        "learn": [
                          0.0000314654055
                        ],
                        "iteration": 532,
                        "passed_time": 5.896835412,
                        "remaining_time": 5.166645661,
                        "test": [
                          0.00003384271765
                        ]
                      },
                      {
                        "learn": [
                          0.00003142741747
                        ],
                        "iteration": 533,
                        "passed_time": 5.903788391,
                        "remaining_time": 5.151995113,
                        "test": [
                          0.00003380449698
                        ]
                      },
                      {
                        "learn": [
                          0.00003137259584
                        ],
                        "iteration": 534,
                        "passed_time": 5.910531296,
                        "remaining_time": 5.137190753,
                        "test": [
                          0.0000337431336
                        ]
                      },
                      {
                        "learn": [
                          0.00003133487766
                        ],
                        "iteration": 535,
                        "passed_time": 5.917831586,
                        "remaining_time": 5.122898985,
                        "test": [
                          0.0000337052045
                        ]
                      },
                      {
                        "learn": [
                          0.00003117836584
                        ],
                        "iteration": 536,
                        "passed_time": 5.924711819,
                        "remaining_time": 5.108271084,
                        "test": [
                          0.0000335485593
                        ]
                      },
                      {
                        "learn": [
                          0.00003112415216
                        ],
                        "iteration": 537,
                        "passed_time": 5.931447934,
                        "remaining_time": 5.093548226,
                        "test": [
                          0.00003348780078
                        ]
                      },
                      {
                        "learn": [
                          0.00003095129373
                        ],
                        "iteration": 538,
                        "passed_time": 5.938202857,
                        "remaining_time": 5.078871089,
                        "test": [
                          0.00003330843162
                        ]
                      },
                      {
                        "learn": [
                          0.00003089772523
                        ],
                        "iteration": 539,
                        "passed_time": 5.944945301,
                        "remaining_time": 5.064212664,
                        "test": [
                          0.00003324825003
                        ]
                      },
                      {
                        "learn": [
                          0.00003084429942
                        ],
                        "iteration": 540,
                        "passed_time": 5.951747643,
                        "remaining_time": 5.049634322,
                        "test": [
                          0.00003318826076
                        ]
                      },
                      {
                        "learn": [
                          0.0000308075273
                        ],
                        "iteration": 541,
                        "passed_time": 5.958657577,
                        "remaining_time": 5.035175591,
                        "test": [
                          0.00003315150415
                        ]
                      },
                      {
                        "learn": [
                          0.00003075466292
                        ],
                        "iteration": 542,
                        "passed_time": 5.965865957,
                        "remaining_time": 5.020995842,
                        "test": [
                          0.00003309193053
                        ]
                      },
                      {
                        "learn": [
                          0.00003071828163
                        ],
                        "iteration": 543,
                        "passed_time": 5.972746971,
                        "remaining_time": 5.006567314,
                        "test": [
                          0.00003305003729
                        ]
                      },
                      {
                        "learn": [
                          0.00003066583599
                        ],
                        "iteration": 544,
                        "passed_time": 5.979663698,
                        "remaining_time": 4.992196298,
                        "test": [
                          0.00003299124223
                        ]
                      },
                      {
                        "learn": [
                          0.00003062970595
                        ],
                        "iteration": 545,
                        "passed_time": 5.986575639,
                        "remaining_time": 4.977848608,
                        "test": [
                          0.00003295466862
                        ]
                      },
                      {
                        "learn": [
                          0.00003057775351
                        ],
                        "iteration": 546,
                        "passed_time": 5.993352359,
                        "remaining_time": 4.963416122,
                        "test": [
                          0.00003289644739
                        ]
                      },
                      {
                        "learn": [
                          0.00003042307796
                        ],
                        "iteration": 547,
                        "passed_time": 6.000388826,
                        "remaining_time": 4.94922582,
                        "test": [
                          0.0000327362413
                        ]
                      },
                      {
                        "learn": [
                          0.00003038761171
                        ],
                        "iteration": 548,
                        "passed_time": 6.007220663,
                        "remaining_time": 4.934893477,
                        "test": [
                          0.00003269515144
                        ]
                      },
                      {
                        "learn": [
                          0.00003023702127
                        ],
                        "iteration": 549,
                        "passed_time": 6.014201133,
                        "remaining_time": 4.920710018,
                        "test": [
                          0.00003254066821
                        ]
                      },
                      {
                        "learn": [
                          0.00003018565817
                        ],
                        "iteration": 550,
                        "passed_time": 6.020989826,
                        "remaining_time": 4.906396428,
                        "test": [
                          0.00003248293707
                        ]
                      },
                      {
                        "learn": [
                          0.0000301346797
                        ],
                        "iteration": 551,
                        "passed_time": 6.027832783,
                        "remaining_time": 4.892154143,
                        "test": [
                          0.00003242579217
                        ]
                      },
                      {
                        "learn": [
                          0.00003008384081
                        ],
                        "iteration": 552,
                        "passed_time": 6.034486253,
                        "remaining_time": 4.877785452,
                        "test": [
                          0.00003236864417
                        ]
                      },
                      {
                        "learn": [
                          0.00003003329659
                        ],
                        "iteration": 553,
                        "passed_time": 6.04124288,
                        "remaining_time": 4.863527661,
                        "test": [
                          0.00003231208551
                        ]
                      },
                      {
                        "learn": [
                          0.0000299986182
                        ],
                        "iteration": 554,
                        "passed_time": 6.048936855,
                        "remaining_time": 4.85004847,
                        "test": [
                          0.00003227197583
                        ]
                      },
                      {
                        "learn": [
                          0.00002996784191
                        ],
                        "iteration": 555,
                        "passed_time": 6.055975774,
                        "remaining_time": 4.836066985,
                        "test": [
                          0.00003223716716
                        ]
                      },
                      {
                        "learn": [
                          0.00002991786842
                        ],
                        "iteration": 556,
                        "passed_time": 6.062728773,
                        "remaining_time": 4.821883028,
                        "test": [
                          0.00003218131883
                        ]
                      },
                      {
                        "learn": [
                          0.00002987685611
                        ],
                        "iteration": 557,
                        "passed_time": 6.069747752,
                        "remaining_time": 4.807936391,
                        "test": [
                          0.00003213427037
                        ]
                      },
                      {
                        "learn": [
                          0.00002983615708
                        ],
                        "iteration": 558,
                        "passed_time": 6.076690119,
                        "remaining_time": 4.793954101,
                        "test": [
                          0.00003208782986
                        ]
                      },
                      {
                        "learn": [
                          0.00002966774046
                        ],
                        "iteration": 559,
                        "passed_time": 6.083405866,
                        "remaining_time": 4.779818895,
                        "test": [
                          0.00003191353839
                        ]
                      },
                      {
                        "learn": [
                          0.00002949974258
                        ],
                        "iteration": 560,
                        "passed_time": 6.091717676,
                        "remaining_time": 4.766959108,
                        "test": [
                          0.00003173945473
                        ]
                      },
                      {
                        "learn": [
                          0.00002945089196
                        ],
                        "iteration": 561,
                        "passed_time": 6.09935913,
                        "remaining_time": 4.753593059,
                        "test": [
                          0.00003168485953
                        ]
                      },
                      {
                        "learn": [
                          0.00002940229259
                        ],
                        "iteration": 562,
                        "passed_time": 6.106968451,
                        "remaining_time": 4.740222403,
                        "test": [
                          0.00003163027364
                        ]
                      },
                      {
                        "learn": [
                          0.00002936875877
                        ],
                        "iteration": 563,
                        "passed_time": 6.115377886,
                        "remaining_time": 4.727490707,
                        "test": [
                          0.00003159663126
                        ]
                      },
                      {
                        "learn": [
                          0.00002933533352
                        ],
                        "iteration": 564,
                        "passed_time": 6.122290079,
                        "remaining_time": 4.713621565,
                        "test": [
                          0.00003156310675
                        ]
                      },
                      {
                        "learn": [
                          0.0000293021409
                        ],
                        "iteration": 565,
                        "passed_time": 6.129189345,
                        "remaining_time": 4.699767095,
                        "test": [
                          0.00003152465344
                        ]
                      },
                      {
                        "learn": [
                          0.00002925422083
                        ],
                        "iteration": 566,
                        "passed_time": 6.136005623,
                        "remaining_time": 4.685873782,
                        "test": [
                          0.00003147093916
                        ]
                      },
                      {
                        "learn": [
                          0.00002922496753
                        ],
                        "iteration": 567,
                        "passed_time": 6.14548886,
                        "remaining_time": 4.67403378,
                        "test": [
                          0.00003143779617
                        ]
                      },
                      {
                        "learn": [
                          0.00002917730491
                        ],
                        "iteration": 568,
                        "passed_time": 6.152433665,
                        "remaining_time": 4.660279278,
                        "test": [
                          0.00003138456577
                        ]
                      },
                      {
                        "learn": [
                          0.00002915094871
                        ],
                        "iteration": 569,
                        "passed_time": 6.159496454,
                        "remaining_time": 4.646637676,
                        "test": [
                          0.00003135152205
                        ]
                      },
                      {
                        "learn": [
                          0.00002911156485
                        ],
                        "iteration": 570,
                        "passed_time": 6.16640873,
                        "remaining_time": 4.632906034,
                        "test": [
                          0.00003130402072
                        ]
                      },
                      {
                        "learn": [
                          0.00002896371643
                        ],
                        "iteration": 571,
                        "passed_time": 6.173376821,
                        "remaining_time": 4.619239999,
                        "test": [
                          0.00003115245941
                        ]
                      },
                      {
                        "learn": [
                          0.00002881226988
                        ],
                        "iteration": 572,
                        "passed_time": 6.18022115,
                        "remaining_time": 4.605505115,
                        "test": [
                          0.00003100109661
                        ]
                      },
                      {
                        "learn": [
                          0.0000287655347
                        ],
                        "iteration": 573,
                        "passed_time": 6.187056337,
                        "remaining_time": 4.591787456,
                        "test": [
                          0.00003094845556
                        ]
                      },
                      {
                        "learn": [
                          0.00002871893911
                        ],
                        "iteration": 574,
                        "passed_time": 6.193871043,
                        "remaining_time": 4.578078597,
                        "test": [
                          0.00003089650622
                        ]
                      },
                      {
                        "learn": [
                          0.00002867263198
                        ],
                        "iteration": 575,
                        "passed_time": 6.200691416,
                        "remaining_time": 4.564397848,
                        "test": [
                          0.00003084435215
                        ]
                      },
                      {
                        "learn": [
                          0.00002864349655
                        ],
                        "iteration": 576,
                        "passed_time": 6.207669489,
                        "remaining_time": 4.550856488,
                        "test": [
                          0.00003080766068
                        ]
                      },
                      {
                        "learn": [
                          0.00002859746239
                        ],
                        "iteration": 577,
                        "passed_time": 6.214491179,
                        "remaining_time": 4.537223663,
                        "test": [
                          0.00003075630689
                        ]
                      },
                      {
                        "learn": [
                          0.00002856590753
                        ],
                        "iteration": 578,
                        "passed_time": 6.221455431,
                        "remaining_time": 4.523718025,
                        "test": [
                          0.00003071971467
                        ]
                      },
                      {
                        "learn": [
                          0.00002853445194
                        ],
                        "iteration": 579,
                        "passed_time": 6.228384228,
                        "remaining_time": 4.510209268,
                        "test": [
                          0.00003068341403
                        ]
                      },
                      {
                        "learn": [
                          0.00002850314213
                        ],
                        "iteration": 580,
                        "passed_time": 6.235255509,
                        "remaining_time": 4.496681684,
                        "test": [
                          0.00003064720644
                        ]
                      },
                      {
                        "learn": [
                          0.00002847178579
                        ],
                        "iteration": 581,
                        "passed_time": 6.242104565,
                        "remaining_time": 4.483161011,
                        "test": [
                          0.00003061572913
                        ]
                      },
                      {
                        "learn": [
                          0.00002844054423
                        ],
                        "iteration": 582,
                        "passed_time": 6.249041937,
                        "remaining_time": 4.469726394,
                        "test": [
                          0.00003058435108
                        ]
                      },
                      {
                        "learn": [
                          0.00002840942983
                        ],
                        "iteration": 583,
                        "passed_time": 6.255911702,
                        "remaining_time": 4.45626587,
                        "test": [
                          0.00003055326771
                        ]
                      },
                      {
                        "learn": [
                          0.0000281406413
                        ],
                        "iteration": 584,
                        "passed_time": 6.263004288,
                        "remaining_time": 4.442985948,
                        "test": [
                          0.00003028438612
                        ]
                      },
                      {
                        "learn": [
                          0.00002810981227
                        ],
                        "iteration": 585,
                        "passed_time": 6.27002441,
                        "remaining_time": 4.429675949,
                        "test": [
                          0.00003024866241
                        ]
                      },
                      {
                        "learn": [
                          0.00002807902047
                        ],
                        "iteration": 586,
                        "passed_time": 6.276832616,
                        "remaining_time": 4.41623828,
                        "test": [
                          0.0000302132551
                        ]
                      },
                      {
                        "learn": [
                          0.00002803442865
                        ],
                        "iteration": 587,
                        "passed_time": 6.283667838,
                        "remaining_time": 4.40284209,
                        "test": [
                          0.00003016306139
                        ]
                      },
                      {
                        "learn": [
                          0.00002799752315
                        ],
                        "iteration": 588,
                        "passed_time": 6.290548669,
                        "remaining_time": 4.389500005,
                        "test": [
                          0.00003011850369
                        ]
                      },
                      {
                        "learn": [
                          0.00002796711597
                        ],
                        "iteration": 589,
                        "passed_time": 6.299363857,
                        "remaining_time": 4.377524036,
                        "test": [
                          0.00003008791971
                        ]
                      },
                      {
                        "learn": [
                          0.00002792301734
                        ],
                        "iteration": 590,
                        "passed_time": 6.306177805,
                        "remaining_time": 4.364173811,
                        "test": [
                          0.00003003851076
                        ]
                      },
                      {
                        "learn": [
                          0.00002789288933
                        ],
                        "iteration": 591,
                        "passed_time": 6.312990657,
                        "remaining_time": 4.350844913,
                        "test": [
                          0.00003000377033
                        ]
                      },
                      {
                        "learn": [
                          0.00002784923116
                        ],
                        "iteration": 592,
                        "passed_time": 6.319730324,
                        "remaining_time": 4.33748776,
                        "test": [
                          0.00002995495693
                        ]
                      },
                      {
                        "learn": [
                          0.00002780571878
                        ],
                        "iteration": 593,
                        "passed_time": 6.326568156,
                        "remaining_time": 4.324219986,
                        "test": [
                          0.00002990601946
                        ]
                      },
                      {
                        "learn": [
                          0.00002777589784
                        ],
                        "iteration": 594,
                        "passed_time": 6.33347204,
                        "remaining_time": 4.311018784,
                        "test": [
                          0.00002987601862
                        ]
                      },
                      {
                        "learn": [
                          0.00002774616997
                        ],
                        "iteration": 595,
                        "passed_time": 6.340418918,
                        "remaining_time": 4.297867857,
                        "test": [
                          0.0000298462225
                        ]
                      },
                      {
                        "learn": [
                          0.00002770310114
                        ],
                        "iteration": 596,
                        "passed_time": 6.347338704,
                        "remaining_time": 4.284719427,
                        "test": [
                          0.00002979819076
                        ]
                      },
                      {
                        "learn": [
                          0.00002755466647
                        ],
                        "iteration": 597,
                        "passed_time": 6.354354755,
                        "remaining_time": 4.271656541,
                        "test": [
                          0.00002964505372
                        ]
                      },
                      {
                        "learn": [
                          0.0000274064086
                        ],
                        "iteration": 598,
                        "passed_time": 6.361212879,
                        "remaining_time": 4.258508121,
                        "test": [
                          0.00002949218964
                        ]
                      },
                      {
                        "learn": [
                          0.0000273769816
                        ],
                        "iteration": 599,
                        "passed_time": 6.368075421,
                        "remaining_time": 4.245383614,
                        "test": [
                          0.00002947665261
                        ]
                      },
                      {
                        "learn": [
                          0.00002733450523
                        ],
                        "iteration": 600,
                        "passed_time": 6.374891929,
                        "remaining_time": 4.232249384,
                        "test": [
                          0.000029429021
                        ]
                      },
                      {
                        "learn": [
                          0.00002730542253
                        ],
                        "iteration": 601,
                        "passed_time": 6.381592338,
                        "remaining_time": 4.219059386,
                        "test": [
                          0.00002941358943
                        ]
                      },
                      {
                        "learn": [
                          0.00002727641117
                        ],
                        "iteration": 602,
                        "passed_time": 6.388296883,
                        "remaining_time": 4.205893636,
                        "test": [
                          0.00002937982298
                        ]
                      },
                      {
                        "learn": [
                          0.00002723442488
                        ],
                        "iteration": 603,
                        "passed_time": 6.394853857,
                        "remaining_time": 4.192652529,
                        "test": [
                          0.00002933278072
                        ]
                      },
                      {
                        "learn": [
                          0.00002719264022
                        ],
                        "iteration": 604,
                        "passed_time": 6.401569814,
                        "remaining_time": 4.179537317,
                        "test": [
                          0.00002928601452
                        ]
                      },
                      {
                        "learn": [
                          0.00002715096101
                        ],
                        "iteration": 605,
                        "passed_time": 6.408092202,
                        "remaining_time": 4.166317373,
                        "test": [
                          0.00002923905601
                        ]
                      },
                      {
                        "learn": [
                          0.00002712246145
                        ],
                        "iteration": 606,
                        "passed_time": 6.414822369,
                        "remaining_time": 4.153254021,
                        "test": [
                          0.00002920610534
                        ]
                      },
                      {
                        "learn": [
                          0.00002708119169
                        ],
                        "iteration": 607,
                        "passed_time": 6.421415353,
                        "remaining_time": 4.140123057,
                        "test": [
                          0.00002915973618
                        ]
                      },
                      {
                        "learn": [
                          0.00002705283792
                        ],
                        "iteration": 608,
                        "passed_time": 6.428184103,
                        "remaining_time": 4.127126411,
                        "test": [
                          0.00002912685374
                        ]
                      },
                      {
                        "learn": [
                          0.00002701190935
                        ],
                        "iteration": 609,
                        "passed_time": 6.434786059,
                        "remaining_time": 4.114043546,
                        "test": [
                          0.00002908096846
                        ]
                      },
                      {
                        "learn": [
                          0.00002698683111
                        ],
                        "iteration": 610,
                        "passed_time": 6.441629381,
                        "remaining_time": 4.101135563,
                        "test": [
                          0.0000290526302
                        ]
                      },
                      {
                        "learn": [
                          0.00002683983568
                        ],
                        "iteration": 611,
                        "passed_time": 6.448490841,
                        "remaining_time": 4.088258899,
                        "test": [
                          0.00002890538663
                        ]
                      },
                      {
                        "learn": [
                          0.00002668022514
                        ],
                        "iteration": 612,
                        "passed_time": 6.455523428,
                        "remaining_time": 4.075509897,
                        "test": [
                          0.00002874109854
                        ]
                      },
                      {
                        "learn": [
                          0.00002665239868
                        ],
                        "iteration": 613,
                        "passed_time": 6.462496617,
                        "remaining_time": 4.062742173,
                        "test": [
                          0.00002870881476
                        ]
                      },
                      {
                        "learn": [
                          0.00002662479555
                        ],
                        "iteration": 614,
                        "passed_time": 6.469219594,
                        "remaining_time": 4.049836656,
                        "test": [
                          0.00002867672949
                        ]
                      },
                      {
                        "learn": [
                          0.00002659700941
                        ],
                        "iteration": 615,
                        "passed_time": 6.475967368,
                        "remaining_time": 4.036966671,
                        "test": [
                          0.00002864877586
                        ]
                      },
                      {
                        "learn": [
                          0.00002655694936
                        ],
                        "iteration": 616,
                        "passed_time": 6.482710616,
                        "remaining_time": 4.024113721,
                        "test": [
                          0.00002860388626
                        ]
                      },
                      {
                        "learn": [
                          0.00002651701958
                        ],
                        "iteration": 617,
                        "passed_time": 6.489442461,
                        "remaining_time": 4.011273495,
                        "test": [
                          0.00002855910523
                        ]
                      },
                      {
                        "learn": [
                          0.00002647736587
                        ],
                        "iteration": 618,
                        "passed_time": 6.496386859,
                        "remaining_time": 3.998583834,
                        "test": [
                          0.0000285144855
                        ]
                      },
                      {
                        "learn": [
                          0.00002643765322
                        ],
                        "iteration": 619,
                        "passed_time": 6.503149536,
                        "remaining_time": 3.985801328,
                        "test": [
                          0.00002846998053
                        ]
                      },
                      {
                        "learn": [
                          0.00002641063013
                        ],
                        "iteration": 620,
                        "passed_time": 6.510000677,
                        "remaining_time": 3.973092201,
                        "test": [
                          0.00002843868313
                        ]
                      },
                      {
                        "learn": [
                          0.00002638375283
                        ],
                        "iteration": 621,
                        "passed_time": 6.516775362,
                        "remaining_time": 3.960355445,
                        "test": [
                          0.00002840736091
                        ]
                      },
                      {
                        "learn": [
                          0.00002634446203
                        ],
                        "iteration": 622,
                        "passed_time": 6.523582254,
                        "remaining_time": 3.947657319,
                        "test": [
                          0.0000283634515
                        ]
                      },
                      {
                        "learn": [
                          0.00002630553414
                        ],
                        "iteration": 623,
                        "passed_time": 6.530127849,
                        "remaining_time": 3.934820627,
                        "test": [
                          0.00002831965375
                        ]
                      },
                      {
                        "learn": [
                          0.00002627868165
                        ],
                        "iteration": 624,
                        "passed_time": 6.536869518,
                        "remaining_time": 3.922121711,
                        "test": [
                          0.00002829258723
                        ]
                      },
                      {
                        "learn": [
                          0.00002625203388
                        ],
                        "iteration": 625,
                        "passed_time": 6.54357771,
                        "remaining_time": 3.909421827,
                        "test": [
                          0.00002826601391
                        ]
                      },
                      {
                        "learn": [
                          0.00002610881648
                        ],
                        "iteration": 626,
                        "passed_time": 6.550427006,
                        "remaining_time": 3.896824997,
                        "test": [
                          0.00002811647499
                        ]
                      },
                      {
                        "learn": [
                          0.00002595780729
                        ],
                        "iteration": 627,
                        "passed_time": 6.557176876,
                        "remaining_time": 3.884187576,
                        "test": [
                          0.00002795867281
                        ]
                      },
                      {
                        "learn": [
                          0.00002593127584
                        ],
                        "iteration": 628,
                        "passed_time": 6.56385965,
                        "remaining_time": 3.871529301,
                        "test": [
                          0.00002793200022
                        ]
                      },
                      {
                        "learn": [
                          0.00002589310325
                        ],
                        "iteration": 629,
                        "passed_time": 6.57057434,
                        "remaining_time": 3.858908739,
                        "test": [
                          0.00002788906168
                        ]
                      },
                      {
                        "learn": [
                          0.0000258550113
                        ],
                        "iteration": 630,
                        "passed_time": 6.579604906,
                        "remaining_time": 3.847661189,
                        "test": [
                          0.00002784633096
                        ]
                      },
                      {
                        "learn": [
                          0.00002581702327
                        ],
                        "iteration": 631,
                        "passed_time": 6.586212316,
                        "remaining_time": 3.835009703,
                        "test": [
                          0.00002780368708
                        ]
                      },
                      {
                        "learn": [
                          0.00002577927562
                        ],
                        "iteration": 632,
                        "passed_time": 6.592839881,
                        "remaining_time": 3.822388999,
                        "test": [
                          0.00002776134098
                        ]
                      },
                      {
                        "learn": [
                          0.00002575333197
                        ],
                        "iteration": 633,
                        "passed_time": 6.599713828,
                        "remaining_time": 3.809929434,
                        "test": [
                          0.00002773536941
                        ]
                      },
                      {
                        "learn": [
                          0.00002571589916
                        ],
                        "iteration": 634,
                        "passed_time": 6.606408006,
                        "remaining_time": 3.797384129,
                        "test": [
                          0.00002769320943
                        ]
                      },
                      {
                        "learn": [
                          0.0000256785439
                        ],
                        "iteration": 635,
                        "passed_time": 6.612974814,
                        "remaining_time": 3.784784327,
                        "test": [
                          0.00002765135652
                        ]
                      },
                      {
                        "learn": [
                          0.00002565296626
                        ],
                        "iteration": 636,
                        "passed_time": 6.619651942,
                        "remaining_time": 3.772266334,
                        "test": [
                          0.00002762181165
                        ]
                      },
                      {
                        "learn": [
                          0.00002562751735
                        ],
                        "iteration": 637,
                        "passed_time": 6.626541474,
                        "remaining_time": 3.759887169,
                        "test": [
                          0.00002759226988
                        ]
                      },
                      {
                        "learn": [
                          0.00002560198779
                        ],
                        "iteration": 638,
                        "passed_time": 6.633316201,
                        "remaining_time": 3.747460326,
                        "test": [
                          0.00002756669224
                        ]
                      },
                      {
                        "learn": [
                          0.00002557653267
                        ],
                        "iteration": 639,
                        "passed_time": 6.640038132,
                        "remaining_time": 3.735021449,
                        "test": [
                          0.00002754097192
                        ]
                      },
                      {
                        "learn": [
                          0.000025551152
                        ],
                        "iteration": 640,
                        "passed_time": 6.647098512,
                        "remaining_time": 3.722789962,
                        "test": [
                          0.00002751567965
                        ]
                      },
                      {
                        "learn": [
                          0.00002551453497
                        ],
                        "iteration": 641,
                        "passed_time": 6.653925924,
                        "remaining_time": 3.710444674,
                        "test": [
                          0.00002747450604
                        ]
                      },
                      {
                        "learn": [
                          0.00002535906691
                        ],
                        "iteration": 642,
                        "passed_time": 6.660763098,
                        "remaining_time": 3.698121969,
                        "test": [
                          0.00002731443332
                        ]
                      },
                      {
                        "learn": [
                          0.00002533409258
                        ],
                        "iteration": 643,
                        "passed_time": 6.667618264,
                        "remaining_time": 3.685826245,
                        "test": [
                          0.00002728559877
                        ]
                      },
                      {
                        "learn": [
                          0.00002517895486
                        ],
                        "iteration": 644,
                        "passed_time": 6.677574573,
                        "remaining_time": 3.675254222,
                        "test": [
                          0.00002712599753
                        ]
                      },
                      {
                        "learn": [
                          0.00002515862551
                        ],
                        "iteration": 645,
                        "passed_time": 6.684703495,
                        "remaining_time": 3.663134733,
                        "test": [
                          0.00002710099063
                        ]
                      },
                      {
                        "learn": [
                          0.00002512266917
                        ],
                        "iteration": 646,
                        "passed_time": 6.691556734,
                        "remaining_time": 3.650880258,
                        "test": [
                          0.00002706060799
                        ]
                      },
                      {
                        "learn": [
                          0.00002509794608
                        ],
                        "iteration": 647,
                        "passed_time": 6.698642017,
                        "remaining_time": 3.638768503,
                        "test": [
                          0.00002703570344
                        ]
                      },
                      {
                        "learn": [
                          0.00002507333156
                        ],
                        "iteration": 648,
                        "passed_time": 6.705505593,
                        "remaining_time": 3.626552331,
                        "test": [
                          0.0000270072318
                        ]
                      },
                      {
                        "learn": [
                          0.00002503771332
                        ],
                        "iteration": 649,
                        "passed_time": 6.712256337,
                        "remaining_time": 3.614291874,
                        "test": [
                          0.00002696724309
                        ]
                      },
                      {
                        "learn": [
                          0.00002501323838
                        ],
                        "iteration": 650,
                        "passed_time": 6.719131891,
                        "remaining_time": 3.602115253,
                        "test": [
                          0.00002693888002
                        ]
                      },
                      {
                        "learn": [
                          0.00002497774731
                        ],
                        "iteration": 651,
                        "passed_time": 6.725911449,
                        "remaining_time": 3.589903657,
                        "test": [
                          0.00002689908052
                        ]
                      },
                      {
                        "learn": [
                          0.00002494240203
                        ],
                        "iteration": 652,
                        "passed_time": 6.732663626,
                        "remaining_time": 3.577694147,
                        "test": [
                          0.00002685938338
                        ]
                      },
                      {
                        "learn": [
                          0.00002491835204
                        ],
                        "iteration": 653,
                        "passed_time": 6.739546773,
                        "remaining_time": 3.565570617,
                        "test": [
                          0.00002683133669
                        ]
                      },
                      {
                        "learn": [
                          0.00002489422605
                        ],
                        "iteration": 654,
                        "passed_time": 6.746472134,
                        "remaining_time": 3.553485323,
                        "test": [
                          0.00002680354745
                        ]
                      },
                      {
                        "learn": [
                          0.00002485929642
                        ],
                        "iteration": 655,
                        "passed_time": 6.753264065,
                        "remaining_time": 3.54134579,
                        "test": [
                          0.0000267643497
                        ]
                      },
                      {
                        "learn": [
                          0.00002483533638
                        ],
                        "iteration": 656,
                        "passed_time": 6.760131554,
                        "remaining_time": 3.529261983,
                        "test": [
                          0.00002673667213
                        ]
                      },
                      {
                        "learn": [
                          0.00002481152833
                        ],
                        "iteration": 657,
                        "passed_time": 6.76701624,
                        "remaining_time": 3.51720297,
                        "test": [
                          0.00002670919307
                        ]
                      },
                      {
                        "learn": [
                          0.00002466266561
                        ],
                        "iteration": 658,
                        "passed_time": 6.773919015,
                        "remaining_time": 3.50516902,
                        "test": [
                          0.00002655452994
                        ]
                      },
                      {
                        "learn": [
                          0.00002462805546
                        ],
                        "iteration": 659,
                        "passed_time": 6.780688417,
                        "remaining_time": 3.493081912,
                        "test": [
                          0.00002651570751
                        ]
                      },
                      {
                        "learn": [
                          0.00002459381287
                        ],
                        "iteration": 660,
                        "passed_time": 6.787438902,
                        "remaining_time": 3.481001192,
                        "test": [
                          0.0000264770898
                        ]
                      },
                      {
                        "learn": [
                          0.00002445122204
                        ],
                        "iteration": 661,
                        "passed_time": 6.794356637,
                        "remaining_time": 3.469021969,
                        "test": [
                          0.00002633465406
                        ]
                      },
                      {
                        "learn": [
                          0.00002441710663
                        ],
                        "iteration": 662,
                        "passed_time": 6.801150626,
                        "remaining_time": 3.456995114,
                        "test": [
                          0.00002629631862
                        ]
                      },
                      {
                        "learn": [
                          0.00002438318509
                        ],
                        "iteration": 663,
                        "passed_time": 6.807932672,
                        "remaining_time": 3.444977979,
                        "test": [
                          0.00002625811035
                        ]
                      },
                      {
                        "learn": [
                          0.00002435522214
                        ],
                        "iteration": 664,
                        "passed_time": 6.814813047,
                        "remaining_time": 3.433026121,
                        "test": [
                          0.00002622637249
                        ]
                      },
                      {
                        "learn": [
                          0.00002433199569
                        ],
                        "iteration": 665,
                        "passed_time": 6.821680963,
                        "remaining_time": 3.421083246,
                        "test": [
                          0.00002619938973
                        ]
                      },
                      {
                        "learn": [
                          0.00002429849289
                        ],
                        "iteration": 666,
                        "passed_time": 6.828444851,
                        "remaining_time": 3.409103651,
                        "test": [
                          0.00002616184836
                        ]
                      },
                      {
                        "learn": [
                          0.00002426491255
                        ],
                        "iteration": 667,
                        "passed_time": 6.860308997,
                        "remaining_time": 3.409614651,
                        "test": [
                          0.00002612411157
                        ]
                      },
                      {
                        "learn": [
                          0.00002423153382
                        ],
                        "iteration": 668,
                        "passed_time": 6.873683421,
                        "remaining_time": 3.400880736,
                        "test": [
                          0.00002608666635
                        ]
                      },
                      {
                        "learn": [
                          0.00002419827297
                        ],
                        "iteration": 669,
                        "passed_time": 6.884233474,
                        "remaining_time": 3.39074186,
                        "test": [
                          0.00002604953132
                        ]
                      },
                      {
                        "learn": [
                          0.00002416526956
                        ],
                        "iteration": 670,
                        "passed_time": 6.897957416,
                        "remaining_time": 3.382157958,
                        "test": [
                          0.00002601239008
                        ]
                      },
                      {
                        "learn": [
                          0.00002413779671
                        ],
                        "iteration": 671,
                        "passed_time": 6.914841041,
                        "remaining_time": 3.375100984,
                        "test": [
                          0.00002597906719
                        ]
                      },
                      {
                        "learn": [
                          0.00002410490807
                        ],
                        "iteration": 672,
                        "passed_time": 6.925458472,
                        "remaining_time": 3.364970164,
                        "test": [
                          0.00002594212912
                        ]
                      },
                      {
                        "learn": [
                          0.00002407807109
                        ],
                        "iteration": 673,
                        "passed_time": 6.933708167,
                        "remaining_time": 3.353692674,
                        "test": [
                          0.0000259114707
                        ]
                      },
                      {
                        "learn": [
                          0.0000240454275
                        ],
                        "iteration": 674,
                        "passed_time": 6.94052451,
                        "remaining_time": 3.341734023,
                        "test": [
                          0.00002587491415
                        ]
                      },
                      {
                        "learn": [
                          0.00002402293928
                        ],
                        "iteration": 675,
                        "passed_time": 6.947402976,
                        "remaining_time": 3.329820361,
                        "test": [
                          0.00002584890846
                        ]
                      },
                      {
                        "learn": [
                          0.00002388169929
                        ],
                        "iteration": 676,
                        "passed_time": 6.954362674,
                        "remaining_time": 3.31796033,
                        "test": [
                          0.00002570783287
                        ]
                      },
                      {
                        "learn": [
                          0.00002385943284
                        ],
                        "iteration": 677,
                        "passed_time": 6.96121405,
                        "remaining_time": 3.30606331,
                        "test": [
                          0.00002568193419
                        ]
                      },
                      {
                        "learn": [
                          0.00002382732897
                        ],
                        "iteration": 678,
                        "passed_time": 6.967996876,
                        "remaining_time": 3.294148744,
                        "test": [
                          0.00002564575917
                        ]
                      },
                      {
                        "learn": [
                          0.00002367612437
                        ],
                        "iteration": 679,
                        "passed_time": 6.976251751,
                        "remaining_time": 3.282942,
                        "test": [
                          0.00002549099523
                        ]
                      },
                      {
                        "learn": [
                          0.00002364416473
                        ],
                        "iteration": 680,
                        "passed_time": 6.983032971,
                        "remaining_time": 3.271053624,
                        "test": [
                          0.00002545512574
                        ]
                      },
                      {
                        "learn": [
                          0.00002362222242
                        ],
                        "iteration": 681,
                        "passed_time": 6.989979529,
                        "remaining_time": 3.259257317,
                        "test": [
                          0.00002542970629
                        ]
                      },
                      {
                        "learn": [
                          0.00002360029718
                        ],
                        "iteration": 682,
                        "passed_time": 6.996797601,
                        "remaining_time": 3.247415578,
                        "test": [
                          0.00002540775158
                        ]
                      },
                      {
                        "learn": [
                          0.00002357845879
                        ],
                        "iteration": 683,
                        "passed_time": 7.003631566,
                        "remaining_time": 3.23559587,
                        "test": [
                          0.0000253824314
                        ]
                      },
                      {
                        "learn": [
                          0.00002354687137
                        ],
                        "iteration": 684,
                        "passed_time": 7.010391325,
                        "remaining_time": 3.223756595,
                        "test": [
                          0.00002534694653
                        ]
                      },
                      {
                        "learn": [
                          0.00002352506865
                        ],
                        "iteration": 685,
                        "passed_time": 7.017485662,
                        "remaining_time": 3.212085274,
                        "test": [
                          0.00002532527099
                        ]
                      },
                      {
                        "learn": [
                          0.00002350341172
                        ],
                        "iteration": 686,
                        "passed_time": 7.02462216,
                        "remaining_time": 3.200446486,
                        "test": [
                          0.00002530005316
                        ]
                      },
                      {
                        "learn": [
                          0.00002348190522
                        ],
                        "iteration": 687,
                        "passed_time": 7.031685886,
                        "remaining_time": 3.188787785,
                        "test": [
                          0.00002527531922
                        ]
                      },
                      {
                        "learn": [
                          0.00002345068692
                        ],
                        "iteration": 688,
                        "passed_time": 7.038658381,
                        "remaining_time": 3.177101243,
                        "test": [
                          0.00002524014144
                        ]
                      },
                      {
                        "learn": [
                          0.00002342927968
                        ],
                        "iteration": 689,
                        "passed_time": 7.045551841,
                        "remaining_time": 3.165392856,
                        "test": [
                          0.00002521885052
                        ]
                      },
                      {
                        "learn": [
                          0.00002339813582
                        ],
                        "iteration": 690,
                        "passed_time": 7.052457727,
                        "remaining_time": 3.153703962,
                        "test": [
                          0.00002518376889
                        ]
                      },
                      {
                        "learn": [
                          0.0000233672339
                        ],
                        "iteration": 691,
                        "passed_time": 7.059235567,
                        "remaining_time": 3.1419719,
                        "test": [
                          0.0000251490781
                        ]
                      },
                      {
                        "learn": [
                          0.00002333641108
                        ],
                        "iteration": 692,
                        "passed_time": 7.065988259,
                        "remaining_time": 3.130242995,
                        "test": [
                          0.00002511468507
                        ]
                      },
                      {
                        "learn": [
                          0.00002331527525
                        ],
                        "iteration": 693,
                        "passed_time": 7.073479624,
                        "remaining_time": 3.118854128,
                        "test": [
                          0.0000250933042
                        ]
                      },
                      {
                        "learn": [
                          0.00002317530236
                        ],
                        "iteration": 694,
                        "passed_time": 7.081411775,
                        "remaining_time": 3.107669916,
                        "test": [
                          0.00002495007284
                        ]
                      },
                      {
                        "learn": [
                          0.0000231581105
                        ],
                        "iteration": 695,
                        "passed_time": 7.08826617,
                        "remaining_time": 3.096024304,
                        "test": [
                          0.00002492899285
                        ]
                      },
                      {
                        "learn": [
                          0.00002313709564
                        ],
                        "iteration": 696,
                        "passed_time": 7.095016263,
                        "remaining_time": 3.084347098,
                        "test": [
                          0.00002490474434
                        ]
                      },
                      {
                        "learn": [
                          0.00002311620331
                        ],
                        "iteration": 697,
                        "passed_time": 7.101832716,
                        "remaining_time": 3.072712722,
                        "test": [
                          0.00002488050669
                        ]
                      },
                      {
                        "learn": [
                          0.00002308589694
                        ],
                        "iteration": 698,
                        "passed_time": 7.108484686,
                        "remaining_time": 3.061021302,
                        "test": [
                          0.00002484650915
                        ]
                      },
                      {
                        "learn": [
                          0.00002294611946
                        ],
                        "iteration": 699,
                        "passed_time": 7.115209146,
                        "remaining_time": 3.049375348,
                        "test": [
                          0.00002470681076
                        ]
                      },
                      {
                        "learn": [
                          0.00002292537446
                        ],
                        "iteration": 700,
                        "passed_time": 7.121867588,
                        "remaining_time": 3.037715276,
                        "test": [
                          0.00002468275922
                        ]
                      },
                      {
                        "learn": [
                          0.00002290470546
                        ],
                        "iteration": 701,
                        "passed_time": 7.131036177,
                        "remaining_time": 3.027135015,
                        "test": [
                          0.00002466206851
                        ]
                      },
                      {
                        "learn": [
                          0.00002288408453
                        ],
                        "iteration": 702,
                        "passed_time": 7.137825688,
                        "remaining_time": 3.015553669,
                        "test": [
                          0.00002463822013
                        ]
                      },
                      {
                        "learn": [
                          0.00002285419691
                        ],
                        "iteration": 703,
                        "passed_time": 7.144357875,
                        "remaining_time": 3.003877743,
                        "test": [
                          0.00002460461032
                        ]
                      },
                      {
                        "learn": [
                          0.00002282437288
                        ],
                        "iteration": 704,
                        "passed_time": 7.151062371,
                        "remaining_time": 2.99228851,
                        "test": [
                          0.00002457139134
                        ]
                      },
                      {
                        "learn": [
                          0.00002280399545
                        ],
                        "iteration": 705,
                        "passed_time": 7.157689009,
                        "remaining_time": 2.980680692,
                        "test": [
                          0.00002455079213
                        ]
                      },
                      {
                        "learn": [
                          0.00002278364128
                        ],
                        "iteration": 706,
                        "passed_time": 7.164310904,
                        "remaining_time": 2.969085,
                        "test": [
                          0.00002452724929
                        ]
                      },
                      {
                        "learn": [
                          0.00002275409486
                        ],
                        "iteration": 707,
                        "passed_time": 7.170904782,
                        "remaining_time": 2.957491803,
                        "test": [
                          0.00002449412491
                        ]
                      },
                      {
                        "learn": [
                          0.00002273374224
                        ],
                        "iteration": 708,
                        "passed_time": 7.177798621,
                        "remaining_time": 2.946035823,
                        "test": [
                          0.00002447374748
                        ]
                      },
                      {
                        "learn": [
                          0.00002271531275
                        ],
                        "iteration": 709,
                        "passed_time": 7.184792803,
                        "remaining_time": 2.93463368,
                        "test": [
                          0.0000244503861
                        ]
                      },
                      {
                        "learn": [
                          0.00002268609357
                        ],
                        "iteration": 710,
                        "passed_time": 7.191625875,
                        "remaining_time": 2.92317845,
                        "test": [
                          0.00002441755639
                        ]
                      },
                      {
                        "learn": [
                          0.00002266600927
                        ],
                        "iteration": 711,
                        "passed_time": 7.198533724,
                        "remaining_time": 2.91176645,
                        "test": [
                          0.00002439440128
                        ]
                      },
                      {
                        "learn": [
                          0.00002264850567
                        ],
                        "iteration": 712,
                        "passed_time": 7.205644,
                        "remaining_time": 2.900448567,
                        "test": [
                          0.00002438493451
                        ]
                      },
                      {
                        "learn": [
                          0.00002262854854
                        ],
                        "iteration": 713,
                        "passed_time": 7.212537853,
                        "remaining_time": 2.889055779,
                        "test": [
                          0.00002436482849
                        ]
                      },
                      {
                        "learn": [
                          0.00002248457119
                        ],
                        "iteration": 714,
                        "passed_time": 7.219414121,
                        "remaining_time": 2.877668566,
                        "test": [
                          0.00002421604486
                        ]
                      },
                      {
                        "learn": [
                          0.00002245563427
                        ],
                        "iteration": 715,
                        "passed_time": 7.226257888,
                        "remaining_time": 2.866281062,
                        "test": [
                          0.00002418361685
                        ]
                      },
                      {
                        "learn": [
                          0.00002243591908
                        ],
                        "iteration": 716,
                        "passed_time": 7.233413619,
                        "remaining_time": 2.855029364,
                        "test": [
                          0.00002416095182
                        ]
                      },
                      {
                        "learn": [
                          0.00002241778737
                        ],
                        "iteration": 717,
                        "passed_time": 7.240484212,
                        "remaining_time": 2.843755638,
                        "test": [
                          0.00002413799057
                        ]
                      },
                      {
                        "learn": [
                          0.00002238923974
                        ],
                        "iteration": 718,
                        "passed_time": 7.247368005,
                        "remaining_time": 2.832420597,
                        "test": [
                          0.00002410604644
                        ]
                      },
                      {
                        "learn": [
                          0.00002236071847
                        ],
                        "iteration": 719,
                        "passed_time": 7.254195242,
                        "remaining_time": 2.821075927,
                        "test": [
                          0.00002407390845
                        ]
                      },
                      {
                        "learn": [
                          0.00002221816175
                        ],
                        "iteration": 720,
                        "passed_time": 7.261016913,
                        "remaining_time": 2.809741635,
                        "test": [
                          0.00002392659973
                        ]
                      },
                      {
                        "learn": [
                          0.00002219874589
                        ],
                        "iteration": 721,
                        "passed_time": 7.26793214,
                        "remaining_time": 2.798455865,
                        "test": [
                          0.00002390414718
                        ]
                      },
                      {
                        "learn": [
                          0.00002217927729
                        ],
                        "iteration": 722,
                        "passed_time": 7.275182291,
                        "remaining_time": 2.787310504,
                        "test": [
                          0.00002388157366
                        ]
                      },
                      {
                        "learn": [
                          0.00002216001186
                        ],
                        "iteration": 723,
                        "passed_time": 7.284147299,
                        "remaining_time": 2.776829633,
                        "test": [
                          0.00002385919866
                        ]
                      },
                      {
                        "learn": [
                          0.00002213185661
                        ],
                        "iteration": 724,
                        "passed_time": 7.291004671,
                        "remaining_time": 2.765553496,
                        "test": [
                          0.00002382755385
                        ]
                      },
                      {
                        "learn": [
                          0.00002211255861
                        ],
                        "iteration": 725,
                        "passed_time": 7.297932812,
                        "remaining_time": 2.75431624,
                        "test": [
                          0.00002380546576
                        ]
                      },
                      {
                        "learn": [
                          0.00002208463134
                        ],
                        "iteration": 726,
                        "passed_time": 7.304712035,
                        "remaining_time": 2.743034918,
                        "test": [
                          0.00002377412494
                        ]
                      },
                      {
                        "learn": [
                          0.00002206561096
                        ],
                        "iteration": 727,
                        "passed_time": 7.311581308,
                        "remaining_time": 2.731799609,
                        "test": [
                          0.00002375203995
                        ]
                      },
                      {
                        "learn": [
                          0.00002203775038
                        ],
                        "iteration": 728,
                        "passed_time": 7.318400472,
                        "remaining_time": 2.720557651,
                        "test": [
                          0.00002372097519
                        ]
                      },
                      {
                        "learn": [
                          0.00002201012088
                        ],
                        "iteration": 729,
                        "passed_time": 7.33003301,
                        "remaining_time": 2.7111081,
                        "test": [
                          0.00002368992438
                        ]
                      },
                      {
                        "learn": [
                          0.00002198253947
                        ],
                        "iteration": 730,
                        "passed_time": 7.336801237,
                        "remaining_time": 2.699862562,
                        "test": [
                          0.00002365906589
                        ]
                      },
                      {
                        "learn": [
                          0.00002196531814
                        ],
                        "iteration": 731,
                        "passed_time": 7.343748817,
                        "remaining_time": 2.688694922,
                        "test": [
                          0.00002363727558
                        ]
                      },
                      {
                        "learn": [
                          0.00002194635979
                        ],
                        "iteration": 732,
                        "passed_time": 7.350642472,
                        "remaining_time": 2.677519154,
                        "test": [
                          0.00002361815593
                        ]
                      },
                      {
                        "learn": [
                          0.00002192743092
                        ],
                        "iteration": 733,
                        "passed_time": 7.357722952,
                        "remaining_time": 2.666422759,
                        "test": [
                          0.00002359923791
                        ]
                      },
                      {
                        "learn": [
                          0.00002190880136
                        ],
                        "iteration": 734,
                        "passed_time": 7.364590876,
                        "remaining_time": 2.655260656,
                        "test": [
                          0.00002357786169
                        ]
                      },
                      {
                        "learn": [
                          0.00002188992832
                        ],
                        "iteration": 735,
                        "passed_time": 7.371488694,
                        "remaining_time": 2.644120945,
                        "test": [
                          0.00002355883666
                        ]
                      },
                      {
                        "learn": [
                          0.00002175241051
                        ],
                        "iteration": 736,
                        "passed_time": 7.378373571,
                        "remaining_time": 2.632988126,
                        "test": [
                          0.00002342129559
                        ]
                      },
                      {
                        "learn": [
                          0.00002173375459
                        ],
                        "iteration": 737,
                        "passed_time": 7.385369803,
                        "remaining_time": 2.621906353,
                        "test": [
                          0.00002340247217
                        ]
                      },
                      {
                        "learn": [
                          0.00002171721412
                        ],
                        "iteration": 738,
                        "passed_time": 7.392422087,
                        "remaining_time": 2.610855432,
                        "test": [
                          0.00002338393877
                        ]
                      },
                      {
                        "learn": [
                          0.00002169873655
                        ],
                        "iteration": 739,
                        "passed_time": 7.399417188,
                        "remaining_time": 2.599795228,
                        "test": [
                          0.00002336244779
                        ]
                      },
                      {
                        "learn": [
                          0.00002167178791
                        ],
                        "iteration": 740,
                        "passed_time": 7.406287557,
                        "remaining_time": 2.588702399,
                        "test": [
                          0.00002333227015
                        ]
                      },
                      {
                        "learn": [
                          0.00002165330879
                        ],
                        "iteration": 741,
                        "passed_time": 7.413268595,
                        "remaining_time": 2.577659431,
                        "test": [
                          0.00002331383911
                        ]
                      },
                      {
                        "learn": [
                          0.00002150769678
                        ],
                        "iteration": 742,
                        "passed_time": 7.420154105,
                        "remaining_time": 2.566594354,
                        "test": [
                          0.00002316485386
                        ]
                      },
                      {
                        "learn": [
                          0.00002148108003
                        ],
                        "iteration": 743,
                        "passed_time": 7.427076688,
                        "remaining_time": 2.555553269,
                        "test": [
                          0.00002313498175
                        ]
                      },
                      {
                        "learn": [
                          0.00002146273274
                        ],
                        "iteration": 744,
                        "passed_time": 7.434047669,
                        "remaining_time": 2.544539806,
                        "test": [
                          0.00002312523272
                        ]
                      },
                      {
                        "learn": [
                          0.00002144451418
                        ],
                        "iteration": 745,
                        "passed_time": 7.440938512,
                        "remaining_time": 2.533509895,
                        "test": [
                          0.00002310688698
                        ]
                      },
                      {
                        "learn": [
                          0.00002141815488
                        ],
                        "iteration": 746,
                        "passed_time": 7.447800397,
                        "remaining_time": 2.522481259,
                        "test": [
                          0.0000230773266
                        ]
                      },
                      {
                        "learn": [
                          0.0000213999751
                        ],
                        "iteration": 747,
                        "passed_time": 7.454700899,
                        "remaining_time": 2.511476774,
                        "test": [
                          0.00002305918559
                        ]
                      },
                      {
                        "learn": [
                          0.00002137370885
                        ],
                        "iteration": 748,
                        "passed_time": 7.461485611,
                        "remaining_time": 2.500444444,
                        "test": [
                          0.00002302969655
                        ]
                      },
                      {
                        "learn": [
                          0.00002135583304
                        ],
                        "iteration": 749,
                        "passed_time": 7.468319332,
                        "remaining_time": 2.489439777,
                        "test": [
                          0.00002300889106
                        ]
                      },
                      {
                        "learn": [
                          0.00002132968157
                        ],
                        "iteration": 750,
                        "passed_time": 7.475128193,
                        "remaining_time": 2.478437976,
                        "test": [
                          0.0000229796052
                        ]
                      },
                      {
                        "learn": [
                          0.00002130369604
                        ],
                        "iteration": 751,
                        "passed_time": 7.481997983,
                        "remaining_time": 2.46746742,
                        "test": [
                          0.00002295042634
                        ]
                      },
                      {
                        "learn": [
                          0.00002128586831
                        ],
                        "iteration": 752,
                        "passed_time": 7.488912366,
                        "remaining_time": 2.456522383,
                        "test": [
                          0.00002293237373
                        ]
                      },
                      {
                        "learn": [
                          0.00002126809951
                        ],
                        "iteration": 753,
                        "passed_time": 7.495813641,
                        "remaining_time": 2.445583761,
                        "test": [
                          0.00002291186757
                        ]
                      },
                      {
                        "learn": [
                          0.00002124233111
                        ],
                        "iteration": 754,
                        "passed_time": 7.502557946,
                        "remaining_time": 2.434604896,
                        "test": [
                          0.00002288297563
                        ]
                      },
                      {
                        "learn": [
                          0.00002122465847
                        ],
                        "iteration": 755,
                        "passed_time": 7.509491543,
                        "remaining_time": 2.423698329,
                        "test": [
                          0.0000228652332
                        ]
                      },
                      {
                        "learn": [
                          0.00002119896451
                        ],
                        "iteration": 756,
                        "passed_time": 7.516274889,
                        "remaining_time": 2.412754027,
                        "test": [
                          0.00002283632886
                        ]
                      },
                      {
                        "learn": [
                          0.00002117334655
                        ],
                        "iteration": 757,
                        "passed_time": 7.523070129,
                        "remaining_time": 2.4018245,
                        "test": [
                          0.00002280763388
                        ]
                      },
                      {
                        "learn": [
                          0.00002103698262
                        ],
                        "iteration": 758,
                        "passed_time": 7.53021394,
                        "remaining_time": 2.391016547,
                        "test": [
                          0.0000226686117
                        ]
                      },
                      {
                        "learn": [
                          0.00002101948679
                        ],
                        "iteration": 759,
                        "passed_time": 7.537098281,
                        "remaining_time": 2.380136299,
                        "test": [
                          0.00002265097473
                        ]
                      },
                      {
                        "learn": [
                          0.0000209941604
                        ],
                        "iteration": 760,
                        "passed_time": 7.543844197,
                        "remaining_time": 2.369223079,
                        "test": [
                          0.00002262256357
                        ]
                      },
                      {
                        "learn": [
                          0.00002097682585
                        ],
                        "iteration": 761,
                        "passed_time": 7.550849386,
                        "remaining_time": 2.358401777,
                        "test": [
                          0.00002260255526
                        ]
                      },
                      {
                        "learn": [
                          0.00002095944478
                        ],
                        "iteration": 762,
                        "passed_time": 7.557713336,
                        "remaining_time": 2.347546606,
                        "test": [
                          0.00002258500049
                        ]
                      },
                      {
                        "learn": [
                          0.00002093424712
                        ],
                        "iteration": 763,
                        "passed_time": 7.56449149,
                        "remaining_time": 2.336675382,
                        "test": [
                          0.00002255688245
                        ]
                      },
                      {
                        "learn": [
                          0.00002091718864
                        ],
                        "iteration": 764,
                        "passed_time": 7.571435175,
                        "remaining_time": 2.325865707,
                        "test": [
                          0.00002253687414
                        ]
                      },
                      {
                        "learn": [
                          0.00002089218639
                        ],
                        "iteration": 765,
                        "passed_time": 7.578228658,
                        "remaining_time": 2.315020243,
                        "test": [
                          0.00002250879178
                        ]
                      },
                      {
                        "learn": [
                          0.00002087055272
                        ],
                        "iteration": 766,
                        "passed_time": 7.585333001,
                        "remaining_time": 2.304279777,
                        "test": [
                          0.0000224832343
                        ]
                      },
                      {
                        "learn": [
                          0.00002072679094
                        ],
                        "iteration": 767,
                        "passed_time": 7.592729006,
                        "remaining_time": 2.293636887,
                        "test": [
                          0.00002233649788
                        ]
                      },
                      {
                        "learn": [
                          0.00002070977744
                        ],
                        "iteration": 768,
                        "passed_time": 7.599632379,
                        "remaining_time": 2.28285446,
                        "test": [
                          0.00002231679354
                        ]
                      },
                      {
                        "learn": [
                          0.00002069287095
                        ],
                        "iteration": 769,
                        "passed_time": 7.606523285,
                        "remaining_time": 2.272078384,
                        "test": [
                          0.00002229707215
                        ]
                      },
                      {
                        "learn": [
                          0.00002066815717
                        ],
                        "iteration": 770,
                        "passed_time": 7.613246275,
                        "remaining_time": 2.261262512,
                        "test": [
                          0.00002226955277
                        ]
                      },
                      {
                        "learn": [
                          0.00002064366672
                        ],
                        "iteration": 771,
                        "passed_time": 7.620013109,
                        "remaining_time": 2.250470193,
                        "test": [
                          0.00002224193878
                        ]
                      },
                      {
                        "learn": [
                          0.00002061917937
                        ],
                        "iteration": 772,
                        "passed_time": 7.626801875,
                        "remaining_time": 2.239694729,
                        "test": [
                          0.00002221442095
                        ]
                      },
                      {
                        "learn": [
                          0.00002060239386
                        ],
                        "iteration": 773,
                        "passed_time": 7.633699278,
                        "remaining_time": 2.228961288,
                        "test": [
                          0.00002219764319
                        ]
                      },
                      {
                        "learn": [
                          0.00002057807711
                        ],
                        "iteration": 774,
                        "passed_time": 7.640524483,
                        "remaining_time": 2.218216786,
                        "test": [
                          0.00002217033783
                        ]
                      },
                      {
                        "learn": [
                          0.00002055392941
                        ],
                        "iteration": 775,
                        "passed_time": 7.647295803,
                        "remaining_time": 2.20746683,
                        "test": [
                          0.00002214310072
                        ]
                      },
                      {
                        "learn": [
                          0.00002052976465
                        ],
                        "iteration": 776,
                        "passed_time": 7.65406897,
                        "remaining_time": 2.196727645,
                        "test": [
                          0.00002211608228
                        ]
                      },
                      {
                        "learn": [
                          0.00002051323658
                        ],
                        "iteration": 777,
                        "passed_time": 7.664185664,
                        "remaining_time": 2.186952722,
                        "test": [
                          0.00002209684012
                        ]
                      },
                      {
                        "learn": [
                          0.00002049978398
                        ],
                        "iteration": 778,
                        "passed_time": 7.671415879,
                        "remaining_time": 2.176358035,
                        "test": [
                          0.00002208009337
                        ]
                      },
                      {
                        "learn": [
                          0.00002047573243
                        ],
                        "iteration": 779,
                        "passed_time": 7.678282266,
                        "remaining_time": 2.165669357,
                        "test": [
                          0.00002205315714
                        ]
                      },
                      {
                        "learn": [
                          0.00002045946182
                        ],
                        "iteration": 780,
                        "passed_time": 7.685195673,
                        "remaining_time": 2.155003652,
                        "test": [
                          0.00002203432441
                        ]
                      },
                      {
                        "learn": [
                          0.00002043559794
                        ],
                        "iteration": 781,
                        "passed_time": 7.691937597,
                        "remaining_time": 2.144299739,
                        "test": [
                          0.00002200770146
                        ]
                      },
                      {
                        "learn": [
                          0.00002041919084
                        ],
                        "iteration": 782,
                        "passed_time": 7.698793314,
                        "remaining_time": 2.133637483,
                        "test": [
                          0.00002198865161
                        ]
                      },
                      {
                        "learn": [
                          0.00002027662172
                        ],
                        "iteration": 783,
                        "passed_time": 7.705553613,
                        "remaining_time": 2.122958649,
                        "test": [
                          0.00002184311404
                        ]
                      },
                      {
                        "learn": [
                          0.00002025713141
                        ],
                        "iteration": 784,
                        "passed_time": 7.712418987,
                        "remaining_time": 2.112318576,
                        "test": [
                          0.00002182100734
                        ]
                      },
                      {
                        "learn": [
                          0.00002023361958
                        ],
                        "iteration": 785,
                        "passed_time": 7.719120767,
                        "remaining_time": 2.101643568,
                        "test": [
                          0.0000217945705
                        ]
                      },
                      {
                        "learn": [
                          0.00002021745288
                        ],
                        "iteration": 786,
                        "passed_time": 7.726020765,
                        "remaining_time": 2.091032304,
                        "test": [
                          0.00002177829833
                        ]
                      },
                      {
                        "learn": [
                          0.00002020137302
                        ],
                        "iteration": 787,
                        "passed_time": 7.732868799,
                        "remaining_time": 2.080416479,
                        "test": [
                          0.00002175976183
                        ]
                      },
                      {
                        "learn": [
                          0.00002017798993
                        ],
                        "iteration": 788,
                        "passed_time": 7.739705164,
                        "remaining_time": 2.069807084,
                        "test": [
                          0.00002173343355
                        ]
                      },
                      {
                        "learn": [
                          0.00002016201088
                        ],
                        "iteration": 789,
                        "passed_time": 7.746731071,
                        "remaining_time": 2.059257626,
                        "test": [
                          0.00002171487534
                        ]
                      },
                      {
                        "learn": [
                          0.00002014600547
                        ],
                        "iteration": 790,
                        "passed_time": 7.753588956,
                        "remaining_time": 2.048672682,
                        "test": [
                          0.00002169663352
                        ]
                      },
                      {
                        "learn": [
                          0.00002012287052
                        ],
                        "iteration": 791,
                        "passed_time": 7.760411827,
                        "remaining_time": 2.038087955,
                        "test": [
                          0.00002167059371
                        ]
                      },
                      {
                        "learn": [
                          0.00002009975883
                        ],
                        "iteration": 792,
                        "passed_time": 7.767177476,
                        "remaining_time": 2.027497777,
                        "test": [
                          0.0000216445632
                        ]
                      },
                      {
                        "learn": [
                          0.00001996504662
                        ],
                        "iteration": 793,
                        "passed_time": 7.774024214,
                        "remaining_time": 2.016938272,
                        "test": [
                          0.00002150731836
                        ]
                      },
                      {
                        "learn": [
                          0.00001994200628
                        ],
                        "iteration": 794,
                        "passed_time": 7.780917295,
                        "remaining_time": 2.006400057,
                        "test": [
                          0.00002148147086
                        ]
                      },
                      {
                        "learn": [
                          0.00001991902021
                        ],
                        "iteration": 795,
                        "passed_time": 7.787708218,
                        "remaining_time": 1.99584482,
                        "test": [
                          0.00002145589633
                        ]
                      },
                      {
                        "learn": [
                          0.00001990345836
                        ],
                        "iteration": 796,
                        "passed_time": 7.794539769,
                        "remaining_time": 1.985309376,
                        "test": [
                          0.00002143786232
                        ]
                      },
                      {
                        "learn": [
                          0.0000198877104
                        ],
                        "iteration": 797,
                        "passed_time": 7.801361495,
                        "remaining_time": 1.974780729,
                        "test": [
                          0.0000214221826
                        ]
                      },
                      {
                        "learn": [
                          0.00001987212529
                        ],
                        "iteration": 798,
                        "passed_time": 7.808249177,
                        "remaining_time": 1.964277953,
                        "test": [
                          0.00002140411448
                        ]
                      },
                      {
                        "learn": [
                          0.00001985656034
                        ],
                        "iteration": 799,
                        "passed_time": 7.815081495,
                        "remaining_time": 1.953770374,
                        "test": [
                          0.00002138597812
                        ]
                      },
                      {
                        "learn": [
                          0.00001984095041
                        ],
                        "iteration": 800,
                        "passed_time": 7.821858857,
                        "remaining_time": 1.943258318,
                        "test": [
                          0.00002136802786
                        ]
                      },
                      {
                        "learn": [
                          0.00001982544129
                        ],
                        "iteration": 801,
                        "passed_time": 7.829769254,
                        "remaining_time": 1.933035302,
                        "test": [
                          0.00002135244275
                        ]
                      },
                      {
                        "learn": [
                          0.00001981000817
                        ],
                        "iteration": 802,
                        "passed_time": 7.837394222,
                        "remaining_time": 1.922748022,
                        "test": [
                          0.00002133448009
                        ]
                      },
                      {
                        "learn": [
                          0.00001979454248
                        ],
                        "iteration": 803,
                        "passed_time": 7.843968385,
                        "remaining_time": 1.912211198,
                        "test": [
                          0.00002131900974
                        ]
                      },
                      {
                        "learn": [
                          0.0000197790256
                        ],
                        "iteration": 804,
                        "passed_time": 7.857628893,
                        "remaining_time": 1.903400788,
                        "test": [
                          0.0000213012518
                        ]
                      },
                      {
                        "learn": [
                          0.00001975672659
                        ],
                        "iteration": 805,
                        "passed_time": 7.873469231,
                        "remaining_time": 1.895103016,
                        "test": [
                          0.00002127589129
                        ]
                      },
                      {
                        "learn": [
                          0.00001974141289
                        ],
                        "iteration": 806,
                        "passed_time": 7.901821912,
                        "remaining_time": 1.88977897,
                        "test": [
                          0.00002126070476
                        ]
                      },
                      {
                        "learn": [
                          0.00001972611624
                        ],
                        "iteration": 807,
                        "passed_time": 7.910502878,
                        "remaining_time": 1.879723456,
                        "test": [
                          0.00002124303832
                        ]
                      },
                      {
                        "learn": [
                          0.00001971082891
                        ],
                        "iteration": 808,
                        "passed_time": 7.921882603,
                        "remaining_time": 1.870308501,
                        "test": [
                          0.00002122548045
                        ]
                      },
                      {
                        "learn": [
                          0.00001956974245
                        ],
                        "iteration": 809,
                        "passed_time": 7.947406413,
                        "remaining_time": 1.864206443,
                        "test": [
                          0.00002108161166
                        ]
                      },
                      {
                        "learn": [
                          0.00001955447528
                        ],
                        "iteration": 810,
                        "passed_time": 7.960241239,
                        "remaining_time": 1.855099376,
                        "test": [
                          0.00002106653215
                        ]
                      },
                      {
                        "learn": [
                          0.00001953940817
                        ],
                        "iteration": 811,
                        "passed_time": 7.967228736,
                        "remaining_time": 1.844629313,
                        "test": [
                          0.00002104878351
                        ]
                      },
                      {
                        "learn": [
                          0.00001952556783
                        ],
                        "iteration": 812,
                        "passed_time": 7.974210429,
                        "remaining_time": 1.834166483,
                        "test": [
                          0.00002103950751
                        ]
                      },
                      {
                        "learn": [
                          0.00001951186397
                        ],
                        "iteration": 813,
                        "passed_time": 7.981142838,
                        "remaining_time": 1.823700943,
                        "test": [
                          0.00002103002368
                        ]
                      },
                      {
                        "learn": [
                          0.00001949679221
                        ],
                        "iteration": 814,
                        "passed_time": 7.988006058,
                        "remaining_time": 1.813228369,
                        "test": [
                          0.00002101274963
                        ]
                      },
                      {
                        "learn": [
                          0.00001948179955
                        ],
                        "iteration": 815,
                        "passed_time": 7.994889365,
                        "remaining_time": 1.802769171,
                        "test": [
                          0.00002099549108
                        ]
                      },
                      {
                        "learn": [
                          0.00001946001389
                        ],
                        "iteration": 816,
                        "passed_time": 8.001669216,
                        "remaining_time": 1.792295553,
                        "test": [
                          0.00002097092774
                        ]
                      },
                      {
                        "learn": [
                          0.00001943825925
                        ],
                        "iteration": 817,
                        "passed_time": 8.008426702,
                        "remaining_time": 1.78182599,
                        "test": [
                          0.00002094634578
                        ]
                      },
                      {
                        "learn": [
                          0.00001942333948
                        ],
                        "iteration": 818,
                        "passed_time": 8.018068002,
                        "remaining_time": 1.772002819,
                        "test": [
                          0.00002093847025
                        ]
                      },
                      {
                        "learn": [
                          0.00001940848949
                        ],
                        "iteration": 819,
                        "passed_time": 8.025181158,
                        "remaining_time": 1.761625132,
                        "test": [
                          0.00002092150638
                        ]
                      },
                      {
                        "learn": [
                          0.00001939371396
                        ],
                        "iteration": 820,
                        "passed_time": 8.032030548,
                        "remaining_time": 1.751197891,
                        "test": [
                          0.00002090433934
                        ]
                      },
                      {
                        "learn": [
                          0.00001925993385
                        ],
                        "iteration": 821,
                        "passed_time": 8.038935841,
                        "remaining_time": 1.74079146,
                        "test": [
                          0.00002076807622
                        ]
                      },
                      {
                        "learn": [
                          0.00001923861657
                        ],
                        "iteration": 822,
                        "passed_time": 8.04568441,
                        "remaining_time": 1.730359831,
                        "test": [
                          0.00002074399211
                        ]
                      },
                      {
                        "learn": [
                          0.00001922085087
                        ],
                        "iteration": 823,
                        "passed_time": 8.052509337,
                        "remaining_time": 1.719953451,
                        "test": [
                          0.00002072385817
                        ]
                      },
                      {
                        "learn": [
                          0.0000192062723
                        ],
                        "iteration": 824,
                        "passed_time": 8.060745205,
                        "remaining_time": 1.709855043,
                        "test": [
                          0.0000207069796
                        ]
                      },
                      {
                        "learn": [
                          0.00001918495502
                        ],
                        "iteration": 825,
                        "passed_time": 8.068652459,
                        "remaining_time": 1.699691922,
                        "test": [
                          0.00002068300405
                        ]
                      },
                      {
                        "learn": [
                          0.00001916729323
                        ],
                        "iteration": 826,
                        "passed_time": 8.077304144,
                        "remaining_time": 1.689689984,
                        "test": [
                          0.00002066159061
                        ]
                      },
                      {
                        "learn": [
                          0.00001914607676
                        ],
                        "iteration": 827,
                        "passed_time": 8.08436975,
                        "remaining_time": 1.679361832,
                        "test": [
                          0.00002063790508
                        ]
                      },
                      {
                        "learn": [
                          0.00001912496264
                        ],
                        "iteration": 828,
                        "passed_time": 8.091201588,
                        "remaining_time": 1.668993331,
                        "test": [
                          0.00002061414977
                        ]
                      },
                      {
                        "learn": [
                          0.00001911057483
                        ],
                        "iteration": 829,
                        "passed_time": 8.098141592,
                        "remaining_time": 1.658655507,
                        "test": [
                          0.0000205973751
                        ]
                      },
                      {
                        "learn": [
                          0.00001909612344
                        ],
                        "iteration": 830,
                        "passed_time": 8.105092187,
                        "remaining_time": 1.648328014,
                        "test": [
                          0.00002058079741
                        ]
                      },
                      {
                        "learn": [
                          0.00001907519853
                        ],
                        "iteration": 831,
                        "passed_time": 8.114569498,
                        "remaining_time": 1.638518841,
                        "test": [
                          0.00002055721579
                        ]
                      },
                      {
                        "learn": [
                          0.0000190542271
                        ],
                        "iteration": 832,
                        "passed_time": 8.121493151,
                        "remaining_time": 1.628198507,
                        "test": [
                          0.00002053373654
                        ]
                      },
                      {
                        "learn": [
                          0.00001903340611
                        ],
                        "iteration": 833,
                        "passed_time": 8.128300308,
                        "remaining_time": 1.617863131,
                        "test": [
                          0.00002051033328
                        ]
                      },
                      {
                        "learn": [
                          0.0000190191796
                        ],
                        "iteration": 834,
                        "passed_time": 8.135635087,
                        "remaining_time": 1.607640466,
                        "test": [
                          0.00002049602767
                        ]
                      },
                      {
                        "learn": [
                          0.00001900489415
                        ],
                        "iteration": 835,
                        "passed_time": 8.142544872,
                        "remaining_time": 1.597341338,
                        "test": [
                          0.00002048172361
                        ]
                      },
                      {
                        "learn": [
                          0.00001898426082
                        ],
                        "iteration": 836,
                        "passed_time": 8.149347947,
                        "remaining_time": 1.587029529,
                        "test": [
                          0.00002045833275
                        ]
                      },
                      {
                        "learn": [
                          0.00001896366006
                        ],
                        "iteration": 837,
                        "passed_time": 8.156557188,
                        "remaining_time": 1.576804612,
                        "test": [
                          0.00002043534204
                        ]
                      },
                      {
                        "learn": [
                          0.00001883067246
                        ],
                        "iteration": 838,
                        "passed_time": 8.16339848,
                        "remaining_time": 1.566516276,
                        "test": [
                          0.00002030005599
                        ]
                      },
                      {
                        "learn": [
                          0.00001881653435
                        ],
                        "iteration": 839,
                        "passed_time": 8.170300654,
                        "remaining_time": 1.556247744,
                        "test": [
                          0.00002028585429
                        ]
                      },
                      {
                        "learn": [
                          0.00001880250325
                        ],
                        "iteration": 840,
                        "passed_time": 8.177394517,
                        "remaining_time": 1.546023458,
                        "test": [
                          0.00002026966277
                        ]
                      },
                      {
                        "learn": [
                          0.0000187884675
                        ],
                        "iteration": 841,
                        "passed_time": 8.184264101,
                        "remaining_time": 1.535764523,
                        "test": [
                          0.00002025348987
                        ]
                      },
                      {
                        "learn": [
                          0.00001877445346
                        ],
                        "iteration": 842,
                        "passed_time": 8.191143084,
                        "remaining_time": 1.525515379,
                        "test": [
                          0.00002023740536
                        ]
                      },
                      {
                        "learn": [
                          0.000018754197
                        ],
                        "iteration": 843,
                        "passed_time": 8.197937931,
                        "remaining_time": 1.51525867,
                        "test": [
                          0.00002021450304
                        ]
                      },
                      {
                        "learn": [
                          0.00001873388161
                        ],
                        "iteration": 844,
                        "passed_time": 8.204726801,
                        "remaining_time": 1.505009058,
                        "test": [
                          0.00002019171394
                        ]
                      },
                      {
                        "learn": [
                          0.00001871367788
                        ],
                        "iteration": 845,
                        "passed_time": 8.211472701,
                        "remaining_time": 1.494759806,
                        "test": [
                          0.00002016911095
                        ]
                      },
                      {
                        "learn": [
                          0.00001869356255
                        ],
                        "iteration": 846,
                        "passed_time": 8.218273911,
                        "remaining_time": 1.484528817,
                        "test": [
                          0.00002014652347
                        ]
                      },
                      {
                        "learn": [
                          0.0000186734069
                        ],
                        "iteration": 847,
                        "passed_time": 8.225154115,
                        "remaining_time": 1.474320077,
                        "test": [
                          0.00002012382743
                        ]
                      },
                      {
                        "learn": [
                          0.00001866129118
                        ],
                        "iteration": 848,
                        "passed_time": 8.232182028,
                        "remaining_time": 1.464145449,
                        "test": [
                          0.0000201099111
                        ]
                      },
                      {
                        "learn": [
                          0.00001864750357
                        ],
                        "iteration": 849,
                        "passed_time": 8.239019199,
                        "remaining_time": 1.453944565,
                        "test": [
                          0.00002009431513
                        ]
                      },
                      {
                        "learn": [
                          0.00001863385865
                        ],
                        "iteration": 850,
                        "passed_time": 8.245878168,
                        "remaining_time": 1.443755402,
                        "test": [
                          0.00002007834074
                        ]
                      },
                      {
                        "learn": [
                          0.00001849504273
                        ],
                        "iteration": 851,
                        "passed_time": 8.252670747,
                        "remaining_time": 1.433562524,
                        "test": [
                          0.00001993711005
                        ]
                      },
                      {
                        "learn": [
                          0.00001848313173
                        ],
                        "iteration": 852,
                        "passed_time": 8.259702557,
                        "remaining_time": 1.423418846,
                        "test": [
                          0.00001993079163
                        ]
                      },
                      {
                        "learn": [
                          0.00001846338707
                        ],
                        "iteration": 853,
                        "passed_time": 8.268683365,
                        "remaining_time": 1.413615657,
                        "test": [
                          0.00001990829876
                        ]
                      },
                      {
                        "learn": [
                          0.00001845129771
                        ],
                        "iteration": 854,
                        "passed_time": 8.275663093,
                        "remaining_time": 1.403475027,
                        "test": [
                          0.00001989478101
                        ]
                      },
                      {
                        "learn": [
                          0.00001843166006
                        ],
                        "iteration": 855,
                        "passed_time": 8.282402716,
                        "remaining_time": 1.393301391,
                        "test": [
                          0.00001987277047
                        ]
                      },
                      {
                        "learn": [
                          0.00001841808803
                        ],
                        "iteration": 856,
                        "passed_time": 8.289274772,
                        "remaining_time": 1.383157867,
                        "test": [
                          0.00001985905576
                        ]
                      },
                      {
                        "learn": [
                          0.00001839852173
                        ],
                        "iteration": 857,
                        "passed_time": 8.296288409,
                        "remaining_time": 1.373045401,
                        "test": [
                          0.00001983704366
                        ]
                      },
                      {
                        "learn": [
                          0.00001838237674
                        ],
                        "iteration": 858,
                        "passed_time": 8.303263418,
                        "remaining_time": 1.362933809,
                        "test": [
                          0.00001982459915
                        ]
                      },
                      {
                        "learn": [
                          0.00001836286006
                        ],
                        "iteration": 859,
                        "passed_time": 8.310094702,
                        "remaining_time": 1.352806114,
                        "test": [
                          0.00001980268786
                        ]
                      },
                      {
                        "learn": [
                          0.00001834956565
                        ],
                        "iteration": 860,
                        "passed_time": 8.317125756,
                        "remaining_time": 1.342718328,
                        "test": [
                          0.0000197871896
                        ]
                      },
                      {
                        "learn": [
                          0.0000183300893
                        ],
                        "iteration": 861,
                        "passed_time": 8.323969859,
                        "remaining_time": 1.332607704,
                        "test": [
                          0.00001976548459
                        ]
                      },
                      {
                        "learn": [
                          0.00001831688948
                        ],
                        "iteration": 862,
                        "passed_time": 8.331369223,
                        "remaining_time": 1.322592797,
                        "test": [
                          0.00001975009024
                        ]
                      },
                      {
                        "learn": [
                          0.00001829756822
                        ],
                        "iteration": 863,
                        "passed_time": 8.338241527,
                        "remaining_time": 1.312500981,
                        "test": [
                          0.0000197285915
                        ]
                      },
                      {
                        "learn": [
                          0.00001828426915
                        ],
                        "iteration": 864,
                        "passed_time": 8.34516769,
                        "remaining_time": 1.302425015,
                        "test": [
                          0.0000197150691
                        ]
                      },
                      {
                        "learn": [
                          0.00001826514331
                        ],
                        "iteration": 865,
                        "passed_time": 8.35207238,
                        "remaining_time": 1.292353001,
                        "test": [
                          0.00001969354399
                        ]
                      },
                      {
                        "learn": [
                          0.0000182521141
                        ],
                        "iteration": 866,
                        "passed_time": 8.35897279,
                        "remaining_time": 1.282287637,
                        "test": [
                          0.00001967844121
                        ]
                      },
                      {
                        "learn": [
                          0.00001823886001
                        ],
                        "iteration": 867,
                        "passed_time": 8.366006116,
                        "remaining_time": 1.272249778,
                        "test": [
                          0.00001966333688
                        ]
                      },
                      {
                        "learn": [
                          0.00001821983652
                        ],
                        "iteration": 868,
                        "passed_time": 8.372880434,
                        "remaining_time": 1.262194864,
                        "test": [
                          0.00001964192499
                        ]
                      },
                      {
                        "learn": [
                          0.00001808187981
                        ],
                        "iteration": 869,
                        "passed_time": 8.379769097,
                        "remaining_time": 1.252149405,
                        "test": [
                          0.0000195017055
                        ]
                      },
                      {
                        "learn": [
                          0.00001806298505
                        ],
                        "iteration": 870,
                        "passed_time": 8.386600864,
                        "remaining_time": 1.242102769,
                        "test": [
                          0.000019480275
                        ]
                      },
                      {
                        "learn": [
                          0.00001804747903
                        ],
                        "iteration": 871,
                        "passed_time": 8.39356025,
                        "remaining_time": 1.232082238,
                        "test": [
                          0.00001946260236
                        ]
                      },
                      {
                        "learn": [
                          0.00001803452427
                        ],
                        "iteration": 872,
                        "passed_time": 8.400691535,
                        "remaining_time": 1.222093728,
                        "test": [
                          0.00001944750734
                        ]
                      },
                      {
                        "learn": [
                          0.00001802164239
                        ],
                        "iteration": 873,
                        "passed_time": 8.407630623,
                        "remaining_time": 1.212084049,
                        "test": [
                          0.00001943249916
                        ]
                      },
                      {
                        "learn": [
                          0.00001800280812
                        ],
                        "iteration": 874,
                        "passed_time": 8.414978978,
                        "remaining_time": 1.202139854,
                        "test": [
                          0.00001941137109
                        ]
                      },
                      {
                        "learn": [
                          0.00001798417857
                        ],
                        "iteration": 875,
                        "passed_time": 8.421818341,
                        "remaining_time": 1.192129537,
                        "test": [
                          0.00001939036089
                        ]
                      },
                      {
                        "learn": [
                          0.00001797132151
                        ],
                        "iteration": 876,
                        "passed_time": 8.428647646,
                        "remaining_time": 1.18212504,
                        "test": [
                          0.00001937555278
                        ]
                      },
                      {
                        "learn": [
                          0.00001795264232
                        ],
                        "iteration": 877,
                        "passed_time": 8.435494286,
                        "remaining_time": 1.172130186,
                        "test": [
                          0.00001935452397
                        ]
                      },
                      {
                        "learn": [
                          0.0000179341539
                        ],
                        "iteration": 878,
                        "passed_time": 8.442316803,
                        "remaining_time": 1.162139173,
                        "test": [
                          0.00001933379448
                        ]
                      },
                      {
                        "learn": [
                          0.00001792149071
                        ],
                        "iteration": 879,
                        "passed_time": 8.449238595,
                        "remaining_time": 1.152168899,
                        "test": [
                          0.00001931909493
                        ]
                      },
                      {
                        "learn": [
                          0.00001790303331
                        ],
                        "iteration": 880,
                        "passed_time": 8.456101943,
                        "remaining_time": 1.142197652,
                        "test": [
                          0.00001929835769
                        ]
                      },
                      {
                        "learn": [
                          0.00001788469067
                        ],
                        "iteration": 881,
                        "passed_time": 8.462987749,
                        "remaining_time": 1.132236456,
                        "test": [
                          0.00001927773212
                        ]
                      },
                      {
                        "learn": [
                          0.00001786628135
                        ],
                        "iteration": 882,
                        "passed_time": 8.469862956,
                        "remaining_time": 1.122280822,
                        "test": [
                          0.00001925709568
                        ]
                      },
                      {
                        "learn": [
                          0.00001785374378
                        ],
                        "iteration": 883,
                        "passed_time": 8.476803025,
                        "remaining_time": 1.112340668,
                        "test": [
                          0.00001924248764
                        ]
                      },
                      {
                        "learn": [
                          0.00001783546008
                        ],
                        "iteration": 884,
                        "passed_time": 8.483604551,
                        "remaining_time": 1.102389292,
                        "test": [
                          0.00001922215519
                        ]
                      },
                      {
                        "learn": [
                          0.00001769830984
                        ],
                        "iteration": 885,
                        "passed_time": 8.490445258,
                        "remaining_time": 1.092450067,
                        "test": [
                          0.00001908271115
                        ]
                      },
                      {
                        "learn": [
                          0.00001768024327
                        ],
                        "iteration": 886,
                        "passed_time": 8.497248902,
                        "remaining_time": 1.082513107,
                        "test": [
                          0.00001906237094
                        ]
                      },
                      {
                        "learn": [
                          0.00001766879133
                        ],
                        "iteration": 887,
                        "passed_time": 8.50422563,
                        "remaining_time": 1.072605034,
                        "test": [
                          0.00001904776445
                        ]
                      },
                      {
                        "learn": [
                          0.000017653169
                        ],
                        "iteration": 888,
                        "passed_time": 8.511075741,
                        "remaining_time": 1.062687747,
                        "test": [
                          0.00001902940166
                        ]
                      },
                      {
                        "learn": [
                          0.00001764077876
                        ],
                        "iteration": 889,
                        "passed_time": 8.518079273,
                        "remaining_time": 1.052796315,
                        "test": [
                          0.00001901696645
                        ]
                      },
                      {
                        "learn": [
                          0.00001762836681
                        ],
                        "iteration": 890,
                        "passed_time": 8.525073123,
                        "remaining_time": 1.04291018,
                        "test": [
                          0.00001900462894
                        ]
                      },
                      {
                        "learn": [
                          0.00001761044913
                        ],
                        "iteration": 891,
                        "passed_time": 8.531982188,
                        "remaining_time": 1.033020265,
                        "test": [
                          0.00001898419723
                        ]
                      },
                      {
                        "learn": [
                          0.00001759556503
                        ],
                        "iteration": 892,
                        "passed_time": 8.538878784,
                        "remaining_time": 1.023135532,
                        "test": [
                          0.00001896632917
                        ]
                      },
                      {
                        "learn": [
                          0.00001758087479
                        ],
                        "iteration": 893,
                        "passed_time": 8.545758357,
                        "remaining_time": 1.013255465,
                        "test": [
                          0.00001894953745
                        ]
                      },
                      {
                        "learn": [
                          0.00001756868152
                        ],
                        "iteration": 894,
                        "passed_time": 8.552652452,
                        "remaining_time": 1.003383807,
                        "test": [
                          0.00001893730231
                        ]
                      },
                      {
                        "learn": [
                          0.00001755636883
                        ],
                        "iteration": 895,
                        "passed_time": 8.559584237,
                        "remaining_time": 0.9935231704,
                        "test": [
                          0.00001892496636
                        ]
                      },
                      {
                        "learn": [
                          0.0000175385473
                        ],
                        "iteration": 896,
                        "passed_time": 8.566374841,
                        "remaining_time": 0.9836528524,
                        "test": [
                          0.00001890502318
                        ]
                      },
                      {
                        "learn": [
                          0.00001752645019
                        ],
                        "iteration": 897,
                        "passed_time": 8.573327896,
                        "remaining_time": 0.9738078456,
                        "test": [
                          0.00001889278493
                        ]
                      },
                      {
                        "learn": [
                          0.00001751559381
                        ],
                        "iteration": 898,
                        "passed_time": 8.580298739,
                        "remaining_time": 0.963971271,
                        "test": [
                          0.00001888054204
                        ]
                      },
                      {
                        "learn": [
                          0.00001750357579
                        ],
                        "iteration": 899,
                        "passed_time": 8.587216277,
                        "remaining_time": 0.9541351418,
                        "test": [
                          0.000018866528
                        ]
                      },
                      {
                        "learn": [
                          0.00001749146007
                        ],
                        "iteration": 900,
                        "passed_time": 8.594104929,
                        "remaining_time": 0.9443023174,
                        "test": [
                          0.00001885270782
                        ]
                      },
                      {
                        "learn": [
                          0.0000174794405
                        ],
                        "iteration": 901,
                        "passed_time": 8.600842742,
                        "remaining_time": 0.9344596328,
                        "test": [
                          0.00001883878373
                        ]
                      },
                      {
                        "learn": [
                          0.00001746193846
                        ],
                        "iteration": 902,
                        "passed_time": 8.607636089,
                        "remaining_time": 0.9246297903,
                        "test": [
                          0.00001881906389
                        ]
                      },
                      {
                        "learn": [
                          0.00001733321588
                        ],
                        "iteration": 903,
                        "passed_time": 8.614548332,
                        "remaining_time": 0.9148192919,
                        "test": [
                          0.00001868800874
                        ]
                      },
                      {
                        "learn": [
                          0.00001732121647
                        ],
                        "iteration": 904,
                        "passed_time": 8.621291059,
                        "remaining_time": 0.904997404,
                        "test": [
                          0.00001867429402
                        ]
                      },
                      {
                        "learn": [
                          0.00001730383541
                        ],
                        "iteration": 905,
                        "passed_time": 8.628028609,
                        "remaining_time": 0.8951817762,
                        "test": [
                          0.00001865464397
                        ]
                      },
                      {
                        "learn": [
                          0.00001728643572
                        ],
                        "iteration": 906,
                        "passed_time": 8.63466689,
                        "remaining_time": 0.8853627572,
                        "test": [
                          0.00001863520329
                        ]
                      },
                      {
                        "learn": [
                          0.00001727923174
                        ],
                        "iteration": 907,
                        "passed_time": 8.641638644,
                        "remaining_time": 0.8755845322,
                        "test": [
                          0.00001862493935
                        ]
                      },
                      {
                        "learn": [
                          0.00001726202592
                        ],
                        "iteration": 908,
                        "passed_time": 8.651462281,
                        "remaining_time": 0.8660979841,
                        "test": [
                          0.00001860547696
                        ]
                      },
                      {
                        "learn": [
                          0.00001724468983
                        ],
                        "iteration": 909,
                        "passed_time": 8.65832218,
                        "remaining_time": 0.8563175783,
                        "test": [
                          0.00001858593237
                        ]
                      },
                      {
                        "learn": [
                          0.00001722756621
                        ],
                        "iteration": 910,
                        "passed_time": 8.665152291,
                        "remaining_time": 0.8465406739,
                        "test": [
                          0.0000185667693
                        ]
                      },
                      {
                        "learn": [
                          0.00001721584442
                        ],
                        "iteration": 911,
                        "passed_time": 8.672048521,
                        "remaining_time": 0.8367766117,
                        "test": [
                          0.00001855315695
                        ]
                      },
                      {
                        "learn": [
                          0.00001719868513
                        ],
                        "iteration": 912,
                        "passed_time": 8.678826623,
                        "remaining_time": 0.8270075752,
                        "test": [
                          0.00001853400009
                        ]
                      },
                      {
                        "learn": [
                          0.00001718703313
                        ],
                        "iteration": 913,
                        "passed_time": 8.685632959,
                        "remaining_time": 0.8172477401,
                        "test": [
                          0.00001852056609
                        ]
                      },
                      {
                        "learn": [
                          0.00001717526171
                        ],
                        "iteration": 914,
                        "passed_time": 8.692721785,
                        "remaining_time": 0.807520603,
                        "test": [
                          0.00001850882723
                        ]
                      },
                      {
                        "learn": [
                          0.00001715822649
                        ],
                        "iteration": 915,
                        "passed_time": 8.699562225,
                        "remaining_time": 0.7977764486,
                        "test": [
                          0.00001848967037
                        ]
                      },
                      {
                        "learn": [
                          0.00001714665514
                        ],
                        "iteration": 916,
                        "passed_time": 8.706502017,
                        "remaining_time": 0.7880476199,
                        "test": [
                          0.00001847613401
                        ]
                      },
                      {
                        "learn": [
                          0.00001713262869
                        ],
                        "iteration": 917,
                        "passed_time": 8.713595295,
                        "remaining_time": 0.7783385776,
                        "test": [
                          0.00001845925389
                        ]
                      },
                      {
                        "learn": [
                          0.00001712105734
                        ],
                        "iteration": 918,
                        "passed_time": 8.720454779,
                        "remaining_time": 0.7686146214,
                        "test": [
                          0.00001844751038
                        ]
                      },
                      {
                        "learn": [
                          0.00001710947823
                        ],
                        "iteration": 919,
                        "passed_time": 8.727362488,
                        "remaining_time": 0.7589010859,
                        "test": [
                          0.00001843595919
                        ]
                      },
                      {
                        "learn": [
                          0.00001709785725
                        ],
                        "iteration": 920,
                        "passed_time": 8.73428658,
                        "remaining_time": 0.7491950487,
                        "test": [
                          0.00001842420328
                        ]
                      },
                      {
                        "learn": [
                          0.00001696216642
                        ],
                        "iteration": 921,
                        "passed_time": 8.741065096,
                        "remaining_time": 0.7394827305,
                        "test": [
                          0.00001828673821
                        ]
                      },
                      {
                        "learn": [
                          0.00001694537625
                        ],
                        "iteration": 922,
                        "passed_time": 8.747843609,
                        "remaining_time": 0.7297767691,
                        "test": [
                          0.00001826777366
                        ]
                      },
                      {
                        "learn": [
                          0.00001693395068
                        ],
                        "iteration": 923,
                        "passed_time": 8.754708321,
                        "remaining_time": 0.7200842342,
                        "test": [
                          0.00001825625038
                        ]
                      },
                      {
                        "learn": [
                          0.00001692246618
                        ],
                        "iteration": 924,
                        "passed_time": 8.761642976,
                        "remaining_time": 0.7104034845,
                        "test": [
                          0.00001824479224
                        ]
                      },
                      {
                        "learn": [
                          0.00001691116468
                        ],
                        "iteration": 925,
                        "passed_time": 8.768471963,
                        "remaining_time": 0.7007202217,
                        "test": [
                          0.00001823176769
                        ]
                      },
                      {
                        "learn": [
                          0.00001689445051
                        ],
                        "iteration": 926,
                        "passed_time": 8.775307159,
                        "remaining_time": 0.6910436058,
                        "test": [
                          0.00001821310711
                        ]
                      },
                      {
                        "learn": [
                          0.00001688089243
                        ],
                        "iteration": 927,
                        "passed_time": 8.782162144,
                        "remaining_time": 0.6813746491,
                        "test": [
                          0.00001819758404
                        ]
                      },
                      {
                        "learn": [
                          0.00001686953821
                        ],
                        "iteration": 928,
                        "passed_time": 8.789027514,
                        "remaining_time": 0.6717125441,
                        "test": [
                          0.00001818613521
                        ]
                      },
                      {
                        "learn": [
                          0.00001685304736
                        ],
                        "iteration": 929,
                        "passed_time": 8.798420957,
                        "remaining_time": 0.6622467387,
                        "test": [
                          0.00001816767315
                        ]
                      },
                      {
                        "learn": [
                          0.0000168367023
                        ],
                        "iteration": 930,
                        "passed_time": 8.805177302,
                        "remaining_time": 0.6525856432,
                        "test": [
                          0.00001814910874
                        ]
                      },
                      {
                        "learn": [
                          0.00001682030606
                        ],
                        "iteration": 931,
                        "passed_time": 8.811965162,
                        "remaining_time": 0.6429330805,
                        "test": [
                          0.00001813083434
                        ]
                      },
                      {
                        "learn": [
                          0.00001680902318
                        ],
                        "iteration": 932,
                        "passed_time": 8.819819251,
                        "remaining_time": 0.633363226,
                        "test": [
                          0.00001811949097
                        ]
                      },
                      {
                        "learn": [
                          0.0000167927293
                        ],
                        "iteration": 933,
                        "passed_time": 8.826377557,
                        "remaining_time": 0.6237054804,
                        "test": [
                          0.00001810121348
                        ]
                      },
                      {
                        "learn": [
                          0.00001677658586
                        ],
                        "iteration": 934,
                        "passed_time": 8.832964021,
                        "remaining_time": 0.6140563223,
                        "test": [
                          0.0000180830461
                        ]
                      },
                      {
                        "learn": [
                          0.00001676540688
                        ],
                        "iteration": 935,
                        "passed_time": 8.839619116,
                        "remaining_time": 0.6044184011,
                        "test": [
                          0.00001807169187
                        ]
                      },
                      {
                        "learn": [
                          0.00001674915798
                        ],
                        "iteration": 936,
                        "passed_time": 8.846175723,
                        "remaining_time": 0.5947802247,
                        "test": [
                          0.00001805352139
                        ]
                      },
                      {
                        "learn": [
                          0.00001673817287
                        ],
                        "iteration": 937,
                        "passed_time": 8.853068414,
                        "remaining_time": 0.5851708333,
                        "test": [
                          0.0000180407915
                        ]
                      },
                      {
                        "learn": [
                          0.00001672207751
                        ],
                        "iteration": 938,
                        "passed_time": 8.859736565,
                        "remaining_time": 0.5755526416,
                        "test": [
                          0.00001802260551
                        ]
                      },
                      {
                        "learn": [
                          0.00001671101641
                        ],
                        "iteration": 939,
                        "passed_time": 8.866456542,
                        "remaining_time": 0.5659440346,
                        "test": [
                          0.00001801175533
                        ]
                      },
                      {
                        "learn": [
                          0.00001658102828
                        ],
                        "iteration": 940,
                        "passed_time": 8.873195749,
                        "remaining_time": 0.5563427728,
                        "test": [
                          0.00001788001932
                        ]
                      },
                      {
                        "learn": [
                          0.00001657006953
                        ],
                        "iteration": 941,
                        "passed_time": 8.87980101,
                        "remaining_time": 0.5467393403,
                        "test": [
                          0.0000178674802
                        ]
                      },
                      {
                        "learn": [
                          0.00001655911079
                        ],
                        "iteration": 942,
                        "passed_time": 8.913285511,
                        "remaining_time": 0.5387669927,
                        "test": [
                          0.00001785621438
                        ]
                      },
                      {
                        "learn": [
                          0.00001654316121
                        ],
                        "iteration": 943,
                        "passed_time": 8.932605065,
                        "remaining_time": 0.5299003004,
                        "test": [
                          0.00001783854174
                        ]
                      },
                      {
                        "learn": [
                          0.00001653229708
                        ],
                        "iteration": 944,
                        "passed_time": 8.949514803,
                        "remaining_time": 0.5208712319,
                        "test": [
                          0.00001782590491
                        ]
                      },
                      {
                        "learn": [
                          0.00001651644676
                        ],
                        "iteration": 945,
                        "passed_time": 8.984283893,
                        "remaining_time": 0.5128449579,
                        "test": [
                          0.00001780784919
                        ]
                      },
                      {
                        "learn": [
                          0.00001650558572
                        ],
                        "iteration": 946,
                        "passed_time": 8.991319869,
                        "remaining_time": 0.5032100877,
                        "test": [
                          0.00001779550393
                        ]
                      },
                      {
                        "learn": [
                          0.00001649259683
                        ],
                        "iteration": 947,
                        "passed_time": 8.99945797,
                        "remaining_time": 0.4936411545,
                        "test": [
                          0.00001778048645
                        ]
                      },
                      {
                        "learn": [
                          0.00001648168772
                        ],
                        "iteration": 948,
                        "passed_time": 9.006344654,
                        "remaining_time": 0.4840079846,
                        "test": [
                          0.00001776982859
                        ]
                      },
                      {
                        "learn": [
                          0.00001646603127
                        ],
                        "iteration": 949,
                        "passed_time": 9.013151177,
                        "remaining_time": 0.4743763777,
                        "test": [
                          0.00001775214044
                        ]
                      },
                      {
                        "learn": [
                          0.00001645536564
                        ],
                        "iteration": 950,
                        "passed_time": 9.020007568,
                        "remaining_time": 0.4647532816,
                        "test": [
                          0.00001773979673
                        ]
                      },
                      {
                        "learn": [
                          0.00001644452787
                        ],
                        "iteration": 951,
                        "passed_time": 9.026938422,
                        "remaining_time": 0.4551397524,
                        "test": [
                          0.0000177289512
                        ]
                      },
                      {
                        "learn": [
                          0.00001642895051
                        ],
                        "iteration": 952,
                        "passed_time": 9.033701844,
                        "remaining_time": 0.4455235957,
                        "test": [
                          0.00001771135766
                        ]
                      },
                      {
                        "learn": [
                          0.00001641342123
                        ],
                        "iteration": 953,
                        "passed_time": 9.04285329,
                        "remaining_time": 0.4360285653,
                        "test": [
                          0.00001769367882
                        ]
                      },
                      {
                        "learn": [
                          0.0000164026579
                        ],
                        "iteration": 954,
                        "passed_time": 9.050259366,
                        "remaining_time": 0.426452012,
                        "test": [
                          0.00001768144212
                        ]
                      },
                      {
                        "learn": [
                          0.0000163871736
                        ],
                        "iteration": 955,
                        "passed_time": 9.057489167,
                        "remaining_time": 0.4168718864,
                        "test": [
                          0.00001766405175
                        ]
                      },
                      {
                        "learn": [
                          0.00001637653435
                        ],
                        "iteration": 956,
                        "passed_time": 9.065467307,
                        "remaining_time": 0.407330297,
                        "test": [
                          0.0000176519019
                        ]
                      },
                      {
                        "learn": [
                          0.00001636117101
                        ],
                        "iteration": 957,
                        "passed_time": 9.072167108,
                        "remaining_time": 0.3977359275,
                        "test": [
                          0.00001763452549
                        ]
                      },
                      {
                        "learn": [
                          0.00001635061551
                        ],
                        "iteration": 958,
                        "passed_time": 9.079224717,
                        "remaining_time": 0.388162892,
                        "test": [
                          0.00001762238805
                        ]
                      },
                      {
                        "learn": [
                          0.00001633525062
                        ],
                        "iteration": 959,
                        "passed_time": 9.08624066,
                        "remaining_time": 0.3785933608,
                        "test": [
                          0.00001760500543
                        ]
                      },
                      {
                        "learn": [
                          0.00001631994002
                        ],
                        "iteration": 960,
                        "passed_time": 9.093198368,
                        "remaining_time": 0.3690267808,
                        "test": [
                          0.00001758791283
                        ]
                      },
                      {
                        "learn": [
                          0.00001619049471
                        ],
                        "iteration": 961,
                        "passed_time": 9.103006578,
                        "remaining_time": 0.3595782224,
                        "test": [
                          0.00001745666536
                        ]
                      },
                      {
                        "learn": [
                          0.00001618140482
                        ],
                        "iteration": 962,
                        "passed_time": 9.110178636,
                        "remaining_time": 0.3500276319,
                        "test": [
                          0.00001745182342
                        ]
                      },
                      {
                        "learn": [
                          0.00001617187602
                        ],
                        "iteration": 963,
                        "passed_time": 9.117329983,
                        "remaining_time": 0.3404812027,
                        "test": [
                          0.00001743978214
                        ]
                      },
                      {
                        "learn": [
                          0.00001616138565
                        ],
                        "iteration": 964,
                        "passed_time": 9.124489217,
                        "remaining_time": 0.3309400234,
                        "test": [
                          0.00001742921267
                        ]
                      },
                      {
                        "learn": [
                          0.00001614617896
                        ],
                        "iteration": 965,
                        "passed_time": 9.131454138,
                        "remaining_time": 0.3213969365,
                        "test": [
                          0.00001741232014
                        ]
                      },
                      {
                        "learn": [
                          0.00001613103585
                        ],
                        "iteration": 966,
                        "passed_time": 9.138344959,
                        "remaining_time": 0.3118566532,
                        "test": [
                          0.00001739533145
                        ]
                      },
                      {
                        "learn": [
                          0.00001611594703
                        ],
                        "iteration": 967,
                        "passed_time": 9.145237234,
                        "remaining_time": 0.302321892,
                        "test": [
                          0.00001737824505
                        ]
                      },
                      {
                        "learn": [
                          0.000016106716
                        ],
                        "iteration": 968,
                        "passed_time": 9.152411532,
                        "remaining_time": 0.2928016073,
                        "test": [
                          0.00001736797492
                        ]
                      },
                      {
                        "learn": [
                          0.00001609639469
                        ],
                        "iteration": 969,
                        "passed_time": 9.159305867,
                        "remaining_time": 0.2832775011,
                        "test": [
                          0.00001735593984
                        ]
                      },
                      {
                        "learn": [
                          0.00001608615091
                        ],
                        "iteration": 970,
                        "passed_time": 9.166412089,
                        "remaining_time": 0.2737651396,
                        "test": [
                          0.0000173456697
                        ]
                      },
                      {
                        "learn": [
                          0.00001607116135
                        ],
                        "iteration": 971,
                        "passed_time": 9.173349397,
                        "remaining_time": 0.2642528633,
                        "test": [
                          0.00001732867636
                        ]
                      },
                      {
                        "learn": [
                          0.00001606089431
                        ],
                        "iteration": 972,
                        "passed_time": 9.180383606,
                        "remaining_time": 0.2547485687,
                        "test": [
                          0.00001731841243
                        ]
                      },
                      {
                        "learn": [
                          0.00001605061952
                        ],
                        "iteration": 973,
                        "passed_time": 9.187406236,
                        "remaining_time": 0.2452490371,
                        "test": [
                          0.00001730813919
                        ]
                      },
                      {
                        "learn": [
                          0.00001604037265
                        ],
                        "iteration": 974,
                        "passed_time": 9.194378924,
                        "remaining_time": 0.2357533057,
                        "test": [
                          0.00001729618786
                        ]
                      },
                      {
                        "learn": [
                          0.00001603012887
                        ],
                        "iteration": 975,
                        "passed_time": 9.20148363,
                        "remaining_time": 0.2262659909,
                        "test": [
                          0.00001728592082
                        ]
                      },
                      {
                        "learn": [
                          0.00001602002934
                        ],
                        "iteration": 976,
                        "passed_time": 9.208445305,
                        "remaining_time": 0.2167801863,
                        "test": [
                          0.00001727436653
                        ]
                      },
                      {
                        "learn": [
                          0.00001600990498
                        ],
                        "iteration": 977,
                        "passed_time": 9.21585907,
                        "remaining_time": 0.2073097132,
                        "test": [
                          0.00001726263078
                        ]
                      },
                      {
                        "learn": [
                          0.0000159951372
                        ],
                        "iteration": 978,
                        "passed_time": 9.222912631,
                        "remaining_time": 0.1978357153,
                        "test": [
                          0.00001724593521
                        ]
                      },
                      {
                        "learn": [
                          0.00001598498958
                        ],
                        "iteration": 979,
                        "passed_time": 9.229883492,
                        "remaining_time": 0.1883649692,
                        "test": [
                          0.00001723436851
                        ]
                      },
                      {
                        "learn": [
                          0.000015856008
                        ],
                        "iteration": 980,
                        "passed_time": 9.237123151,
                        "remaining_time": 0.1789045259,
                        "test": [
                          0.00001710371504
                        ]
                      },
                      {
                        "learn": [
                          0.00001584126193
                        ],
                        "iteration": 981,
                        "passed_time": 9.245704087,
                        "remaining_time": 0.169473191,
                        "test": [
                          0.00001708702103
                        ]
                      },
                      {
                        "learn": [
                          0.0000158322775
                        ],
                        "iteration": 982,
                        "passed_time": 9.252749074,
                        "remaining_time": 0.1600170237,
                        "test": [
                          0.00001707694941
                        ]
                      },
                      {
                        "learn": [
                          0.00001582234701
                        ],
                        "iteration": 983,
                        "passed_time": 9.25966881,
                        "remaining_time": 0.1505637205,
                        "test": [
                          0.00001706539201
                        ]
                      },
                      {
                        "learn": [
                          0.00001581223041
                        ],
                        "iteration": 984,
                        "passed_time": 9.266633122,
                        "remaining_time": 0.1411162404,
                        "test": [
                          0.00001705532504
                        ]
                      },
                      {
                        "learn": [
                          0.00001579772783
                        ],
                        "iteration": 985,
                        "passed_time": 9.273524574,
                        "remaining_time": 0.1316727627,
                        "test": [
                          0.00001703911956
                        ]
                      },
                      {
                        "learn": [
                          0.00001578773376
                        ],
                        "iteration": 986,
                        "passed_time": 9.280485921,
                        "remaining_time": 0.1222353769,
                        "test": [
                          0.00001702904329
                        ]
                      },
                      {
                        "learn": [
                          0.00001577775984
                        ],
                        "iteration": 987,
                        "passed_time": 9.287489596,
                        "remaining_time": 0.1128035174,
                        "test": [
                          0.00001701897322
                        ]
                      },
                      {
                        "learn": [
                          0.00001576778128
                        ],
                        "iteration": 988,
                        "passed_time": 9.294472861,
                        "remaining_time": 0.1033763412,
                        "test": [
                          0.00001700752129
                        ]
                      },
                      {
                        "learn": [
                          0.00001575577722
                        ],
                        "iteration": 989,
                        "passed_time": 9.301673874,
                        "remaining_time": 0.09395630176,
                        "test": [
                          0.00001699310091
                        ]
                      },
                      {
                        "learn": [
                          0.00001574330789
                        ],
                        "iteration": 990,
                        "passed_time": 9.308671303,
                        "remaining_time": 0.08453889175,
                        "test": [
                          0.00001697808188
                        ]
                      },
                      {
                        "learn": [
                          0.00001573140154
                        ],
                        "iteration": 991,
                        "passed_time": 9.31566062,
                        "remaining_time": 0.07512629532,
                        "test": [
                          0.00001696345368
                        ]
                      },
                      {
                        "learn": [
                          0.00001572159977
                        ],
                        "iteration": 992,
                        "passed_time": 9.32276419,
                        "remaining_time": 0.06571938502,
                        "test": [
                          0.00001695230572
                        ]
                      },
                      {
                        "learn": [
                          0.00001571179801
                        ],
                        "iteration": 993,
                        "passed_time": 9.329760031,
                        "remaining_time": 0.05631645894,
                        "test": [
                          0.00001694094064
                        ]
                      },
                      {
                        "learn": [
                          0.00001569747224
                        ],
                        "iteration": 994,
                        "passed_time": 9.336712077,
                        "remaining_time": 0.04691815114,
                        "test": [
                          0.00001692504069
                        ]
                      },
                      {
                        "learn": [
                          0.00001569028997
                        ],
                        "iteration": 995,
                        "passed_time": 9.343987599,
                        "remaining_time": 0.03752605462,
                        "test": [
                          0.00001692366193
                        ]
                      },
                      {
                        "learn": [
                          0.00001567858058
                        ],
                        "iteration": 996,
                        "passed_time": 9.351020866,
                        "remaining_time": 0.02813747502,
                        "test": [
                          0.00001690933616
                        ]
                      },
                      {
                        "learn": [
                          0.00001566435717
                        ],
                        "iteration": 997,
                        "passed_time": 9.35795272,
                        "remaining_time": 0.01875341227,
                        "test": [
                          0.00001689325941
                        ]
                      },
                      {
                        "learn": [
                          0.00001565465001
                        ],
                        "iteration": 998,
                        "passed_time": 9.364965413,
                        "remaining_time": 0.009374339752,
                        "test": [
                          0.00001688190053
                        ]
                      },
                      {
                        "learn": [
                          0.00001564482188
                        ],
                        "iteration": 999,
                        "passed_time": 9.371968463,
                        "remaining_time": 0,
                        "test": [
                          0.0000168724105
                        ]
                      }
                    ],
                    "meta": {
                      "test_sets": [
                        "test"
                      ],
                      "test_metrics": [
                        {
                          "best_value": "Min",
                          "name": "MultiClass"
                        }
                      ],
                      "learn_metrics": [
                        {
                          "best_value": "Min",
                          "name": "MultiClass"
                        }
                      ],
                      "launch_mode": "Train",
                      "parameters": "",
                      "iteration_count": 1000,
                      "learn_sets": [
                        "learn"
                      ],
                      "name": "experiment"
                    }
                  }
                }
              }
            },
            "layout": "IPY_MODEL_aff527b985c6462f9636733367e0f5c3"
          }
        }
      }
    },
    "accelerator": "GPU"
  },
  "cells": [
    {
      "cell_type": "markdown",
      "metadata": {
        "id": "view-in-github",
        "colab_type": "text"
      },
      "source": [
        "<a href=\"https://colab.research.google.com/github/Yanina-Kutovaya/GNN/blob/main/notebooks/5_1_CatBoost.ipynb\" target=\"_parent\"><img src=\"https://colab.research.google.com/assets/colab-badge.svg\" alt=\"Open In Colab\"/></a>"
      ]
    },
    {
      "cell_type": "markdown",
      "source": [
        "# Реализация CatBoostClassifier с использованием GPU (CUDA 12.5) для классификации узлов на датасете Bitcoin-OTC\n",
        "\n",
        "Задача — предсказать \"уровень доверия\" пользователей\n",
        "\n",
        "Признаки узлов/рёбер - синтетические"
      ],
      "metadata": {
        "id": "YCOQl0-4rgpv"
      }
    },
    {
      "cell_type": "markdown",
      "source": [
        "Небходимо выбрать среду выполнения с GPU: Среда выполнения → Сменить среду выполнения → Графический процессор T4"
      ],
      "metadata": {
        "id": "dE5Com4Fr4PG"
      }
    },
    {
      "cell_type": "markdown",
      "source": [
        "## 1. Установка зависимостей"
      ],
      "metadata": {
        "id": "5hgp6VWTshjH"
      }
    },
    {
      "cell_type": "markdown",
      "source": [
        "Требования:\n",
        "- CatBoost ≥1.2.2\n",
        "- PyTorch Geometric для загрузки данных\n"
      ],
      "metadata": {
        "id": "2_ESRcv8srxJ"
      }
    },
    {
      "cell_type": "markdown",
      "source": [
        "* CatBoost автоматически использует доступные GPU через CUDA, явная установка CUDA 12.5 не требуется"
      ],
      "metadata": {
        "id": "dwH_a7CotLHY"
      }
    },
    {
      "cell_type": "code",
      "source": [
        "install = True\n",
        "if install:\n",
        "  !pip install -q catboost\n",
        "  !pip install -q torch-geometric"
      ],
      "metadata": {
        "id": "syNkpHxOr0o5"
      },
      "execution_count": 1,
      "outputs": []
    },
    {
      "cell_type": "code",
      "source": [
        "from google.colab import output\n",
        "output.disable_custom_widget_manager()"
      ],
      "metadata": {
        "id": "o_R7X6z6ubi0"
      },
      "execution_count": 25,
      "outputs": []
    },
    {
      "cell_type": "markdown",
      "source": [
        "## 2. Импорт библиотек"
      ],
      "metadata": {
        "id": "ozuwHyaWsB-5"
      }
    },
    {
      "cell_type": "code",
      "source": [
        "import numpy as np\n",
        "import pandas as pd\n",
        "from catboost import CatBoostClassifier, Pool\n",
        "from torch_geometric.datasets import BitcoinOTC\n",
        "from sklearn.model_selection import train_test_split\n",
        "from sklearn.metrics import classification_report"
      ],
      "metadata": {
        "id": "wllZ2lz2tUEZ"
      },
      "execution_count": 17,
      "outputs": []
    },
    {
      "cell_type": "markdown",
      "source": [
        "## 3. Загрузка данных"
      ],
      "metadata": {
        "id": "HRF04tYPxl_7"
      }
    },
    {
      "cell_type": "code",
      "source": [
        "dataset = BitcoinOTC(root='/tmp/BitcoinOTC')\n",
        "data = dataset[0]"
      ],
      "metadata": {
        "id": "V8wKGX0ltWRC"
      },
      "execution_count": 18,
      "outputs": []
    },
    {
      "cell_type": "markdown",
      "source": [
        "## 4. Создание признаков узлов с учётом рёбер"
      ],
      "metadata": {
        "id": "KDJSrnVsxuq1"
      }
    },
    {
      "cell_type": "code",
      "source": [
        "def create_node_features(data):\n",
        "    num_nodes = data.num_nodes\n",
        "    features = []\n",
        "\n",
        "    # Степень узлов\n",
        "    degrees = np.zeros(num_nodes)\n",
        "    for src in data.edge_index[0].unique().cpu().numpy():\n",
        "        degrees[src] = (data.edge_index[0].cpu().numpy() == src).sum()\n",
        "\n",
        "    # Статистики по рёбрам\n",
        "    edge_attrs = [[] for _ in range(num_nodes)]\n",
        "    for i in range(data.edge_index.size(1)):\n",
        "        src = data.edge_index[0, i].item()\n",
        "        attr = data.edge_attr[i].item()\n",
        "        edge_attrs[src].append(attr)\n",
        "\n",
        "    # Создание фичей\n",
        "    for node_id in range(num_nodes):\n",
        "        node_feats = [\n",
        "            degrees[node_id],  # Степень узла\n",
        "            np.mean(edge_attrs[node_id]) if edge_attrs[node_id] else 0,  # Среднее значение рёбер\n",
        "            np.max(edge_attrs[node_id]) if edge_attrs[node_id] else 0,   # Максимум\n",
        "            np.min(edge_attrs[node_id]) if edge_attrs[node_id] else 0,   # Минимум\n",
        "            len(edge_attrs[node_id])                                      # Количество рёбер\n",
        "        ]\n",
        "        features.append(node_feats)\n",
        "\n",
        "    return np.array(features)"
      ],
      "metadata": {
        "id": "cEa_9JUvtXqZ"
      },
      "execution_count": 19,
      "outputs": []
    },
    {
      "cell_type": "markdown",
      "source": [
        "## 5. Подготовка данных"
      ],
      "metadata": {
        "id": "N3tBESn5x1bB"
      }
    },
    {
      "cell_type": "code",
      "source": [
        "X = create_node_features(data)\n",
        "X"
      ],
      "metadata": {
        "colab": {
          "base_uri": "https://localhost:8080/"
        },
        "id": "63tjiuFEp58V",
        "outputId": "f06037c0-0f07-433c-e372-bacc1ee63aef"
      },
      "execution_count": 20,
      "outputs": [
        {
          "output_type": "execute_result",
          "data": {
            "text/plain": [
              "array([[2. , 2.5, 4. , 1. , 2. ],\n",
              "       [3. , 5. , 5. , 5. , 3. ],\n",
              "       [0. , 0. , 0. , 0. , 0. ],\n",
              "       ...,\n",
              "       [0. , 0. , 0. , 0. , 0. ],\n",
              "       [0. , 0. , 0. , 0. , 0. ],\n",
              "       [0. , 0. , 0. , 0. , 0. ]])"
            ]
          },
          "metadata": {},
          "execution_count": 20
        }
      ]
    },
    {
      "cell_type": "code",
      "source": [
        "y = np.zeros(data.num_nodes)\n",
        "\n",
        "# Создание меток (3 класса)\n",
        "q1 = np.quantile(X[:, 0], 0.5)\n",
        "q2 = np.quantile(X[:, 0], 0.999)\n",
        "y[X[:, 0] > q2] = 2\n",
        "y[(X[:, 0] > q1) & (X[:, 0] <= q2)] = 1"
      ],
      "metadata": {
        "id": "lbVFWlgjtbez"
      },
      "execution_count": 21,
      "outputs": []
    },
    {
      "cell_type": "markdown",
      "source": [
        "## 6. Разделение данных"
      ],
      "metadata": {
        "id": "p7oQxlCzx6QZ"
      }
    },
    {
      "cell_type": "code",
      "source": [
        "X_train, X_test, y_train, y_test = train_test_split(\n",
        "    X, y,\n",
        "    test_size=0.2,\n",
        "    stratify=y,\n",
        "    random_state=42\n",
        ")"
      ],
      "metadata": {
        "id": "vIC2EBNKthNL"
      },
      "execution_count": 22,
      "outputs": []
    },
    {
      "cell_type": "markdown",
      "source": [
        "## 7. Создание CatBoost модели с GPU"
      ],
      "metadata": {
        "id": "6hA_2K_Lx-r1"
      }
    },
    {
      "cell_type": "code",
      "source": [
        "model = CatBoostClassifier(\n",
        "    iterations=1000,\n",
        "    learning_rate=0.1,\n",
        "    depth=8,\n",
        "    loss_function='MultiClass',\n",
        "    task_type='GPU',  # Включение GPU\n",
        "    devices='0:1',    # Использование первого GPU\n",
        "    verbose=100,\n",
        "    early_stopping_rounds=50\n",
        ")"
      ],
      "metadata": {
        "id": "_zQpjgzitizP"
      },
      "execution_count": 23,
      "outputs": []
    },
    {
      "cell_type": "markdown",
      "source": [
        "## 8. Обучение"
      ],
      "metadata": {
        "id": "9rCWtMJVyDp7"
      }
    },
    {
      "cell_type": "code",
      "source": [
        "model.fit(\n",
        "    X_train, y_train,\n",
        "    eval_set=(X_test, y_test),\n",
        "    plot=True\n",
        ")"
      ],
      "metadata": {
        "colab": {
          "base_uri": "https://localhost:8080/",
          "height": 260,
          "referenced_widgets": [
            "477282d693ed4344927d57b477e4f693"
          ]
        },
        "id": "3Gt9avFytk6w",
        "outputId": "6f637c42-3a36-4278-af47-2f99c2cee512"
      },
      "execution_count": 24,
      "outputs": [
        {
          "output_type": "display_data",
          "data": {
            "text/plain": [
              "MetricVisualizer(layout=Layout(align_self='stretch', height='500px'))"
            ],
            "application/vnd.jupyter.widget-view+json": {
              "version_major": 2,
              "version_minor": 0,
              "model_id": "477282d693ed4344927d57b477e4f693"
            }
          },
          "metadata": {}
        },
        {
          "output_type": "stream",
          "name": "stdout",
          "text": [
            "0:\tlearn: 0.9095124\ttest: 0.9095340\tbest: 0.9095340 (0)\ttotal: 68.9ms\tremaining: 1m 8s\n",
            "100:\tlearn: 0.0003849\ttest: 0.0004004\tbest: 0.0004004 (100)\ttotal: 2.58s\tremaining: 23s\n",
            "200:\tlearn: 0.0001088\ttest: 0.0001154\tbest: 0.0001154 (200)\ttotal: 3.41s\tremaining: 13.5s\n",
            "300:\tlearn: 0.0000629\ttest: 0.0000673\tbest: 0.0000673 (300)\ttotal: 4.16s\tremaining: 9.67s\n",
            "400:\tlearn: 0.0000442\ttest: 0.0000475\tbest: 0.0000475 (400)\ttotal: 4.92s\tremaining: 7.35s\n",
            "500:\tlearn: 0.0000337\ttest: 0.0000363\tbest: 0.0000363 (500)\ttotal: 5.62s\tremaining: 5.6s\n",
            "600:\tlearn: 0.0000273\ttest: 0.0000294\tbest: 0.0000294 (600)\ttotal: 6.37s\tremaining: 4.23s\n",
            "700:\tlearn: 0.0000229\ttest: 0.0000247\tbest: 0.0000247 (700)\ttotal: 7.12s\tremaining: 3.04s\n",
            "800:\tlearn: 0.0000198\ttest: 0.0000214\tbest: 0.0000214 (800)\ttotal: 7.82s\tremaining: 1.94s\n",
            "900:\tlearn: 0.0000175\ttest: 0.0000189\tbest: 0.0000189 (900)\ttotal: 8.59s\tremaining: 944ms\n",
            "999:\tlearn: 0.0000156\ttest: 0.0000169\tbest: 0.0000169 (999)\ttotal: 9.37s\tremaining: 0us\n",
            "bestTest = 1.68724105e-05\n",
            "bestIteration = 999\n"
          ]
        },
        {
          "output_type": "execute_result",
          "data": {
            "text/plain": [
              "<catboost.core.CatBoostClassifier at 0x7a84118c7b50>"
            ]
          },
          "metadata": {},
          "execution_count": 24
        }
      ]
    },
    {
      "cell_type": "markdown",
      "source": [
        "## 9. Оценка"
      ],
      "metadata": {
        "id": "Y1Um4P5GyK05"
      }
    },
    {
      "cell_type": "code",
      "source": [
        "y_pred = model.predict(X_test)\n",
        "print(classification_report(y_test, y_pred, labels=[0, 1, 2]))"
      ],
      "metadata": {
        "colab": {
          "base_uri": "https://localhost:8080/"
        },
        "id": "KgEKu4uuty6F",
        "outputId": "c13422f3-24b6-4ae4-8240-f7c1d7678252"
      },
      "execution_count": 11,
      "outputs": [
        {
          "output_type": "stream",
          "name": "stdout",
          "text": [
            "              precision    recall  f1-score   support\n",
            "\n",
            "           0       1.00      1.00      1.00      1198\n",
            "           1       1.00      1.00      1.00         2\n",
            "           2       1.00      1.00      1.00         1\n",
            "\n",
            "    accuracy                           1.00      1201\n",
            "   macro avg       1.00      1.00      1.00      1201\n",
            "weighted avg       1.00      1.00      1.00      1201\n",
            "\n"
          ]
        }
      ]
    },
    {
      "cell_type": "markdown",
      "source": [
        "## 10. Важность признаков"
      ],
      "metadata": {
        "id": "6EXQ93LVyPSR"
      }
    },
    {
      "cell_type": "code",
      "source": [
        "feature_names = ['Degree', 'EdgeMean', 'EdgeMax', 'EdgeMin', 'EdgeCount']\n",
        "print(\"\\nFeature Importance:\")\n",
        "for name, score in zip(feature_names, model.get_feature_importance()):\n",
        "    print(f\"{name}: {score:.2f}\")"
      ],
      "metadata": {
        "colab": {
          "base_uri": "https://localhost:8080/"
        },
        "id": "5p5L1DUvsKws",
        "outputId": "3186148d-293c-4582-82f9-e9fd814e9f36"
      },
      "execution_count": 12,
      "outputs": [
        {
          "output_type": "stream",
          "name": "stdout",
          "text": [
            "\n",
            "Feature Importance:\n",
            "Degree: 62.75\n",
            "EdgeMean: 7.94\n",
            "EdgeMax: 0.29\n",
            "EdgeMin: 0.56\n",
            "EdgeCount: 28.47\n"
          ]
        }
      ]
    },
    {
      "cell_type": "markdown",
      "source": [
        "## 11. Сохранение модели"
      ],
      "metadata": {
        "id": "3xXSoaINrwI9"
      }
    },
    {
      "cell_type": "code",
      "source": [
        "model.save_model('catboost_model.cbm')"
      ],
      "metadata": {
        "id": "_1WjdzZYrVtq"
      },
      "execution_count": 13,
      "outputs": []
    },
    {
      "cell_type": "markdown",
      "source": [
        "## 12. Загрузка модели"
      ],
      "metadata": {
        "id": "w2jSGq9br_D5"
      }
    },
    {
      "cell_type": "code",
      "source": [
        "loaded_model = CatBoostClassifier()\n",
        "loaded_model.load_model('catboost_model.cbm')"
      ],
      "metadata": {
        "colab": {
          "base_uri": "https://localhost:8080/"
        },
        "id": "anX3Sw_crcet",
        "outputId": "cccbb4d6-9f18-4bc8-d1c3-133a508fa056"
      },
      "execution_count": 14,
      "outputs": [
        {
          "output_type": "execute_result",
          "data": {
            "text/plain": [
              "<catboost.core.CatBoostClassifier at 0x7a8411907e50>"
            ]
          },
          "metadata": {},
          "execution_count": 14
        }
      ]
    },
    {
      "cell_type": "code",
      "source": [
        "y_pred = loaded_model.predict(X_test)\n",
        "print(classification_report(y_test, y_pred, labels=[0, 1, 2]))"
      ],
      "metadata": {
        "colab": {
          "base_uri": "https://localhost:8080/"
        },
        "id": "eVD6fffSriNn",
        "outputId": "5b64b078-f42c-439a-934a-ec578de8ab12"
      },
      "execution_count": 15,
      "outputs": [
        {
          "output_type": "stream",
          "name": "stdout",
          "text": [
            "              precision    recall  f1-score   support\n",
            "\n",
            "           0       1.00      1.00      1.00      1198\n",
            "           1       1.00      1.00      1.00         2\n",
            "           2       1.00      1.00      1.00         1\n",
            "\n",
            "    accuracy                           1.00      1201\n",
            "   macro avg       1.00      1.00      1.00      1201\n",
            "weighted avg       1.00      1.00      1.00      1201\n",
            "\n"
          ]
        }
      ]
    }
  ]
}