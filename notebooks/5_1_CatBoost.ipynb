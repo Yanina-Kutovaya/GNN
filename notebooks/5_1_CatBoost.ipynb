{
  "nbformat": 4,
  "nbformat_minor": 0,
  "metadata": {
    "colab": {
      "provenance": [],
      "gpuType": "T4",
      "authorship_tag": "ABX9TyOTnI4Y+LchX3vq8YMEOJ08",
      "include_colab_link": true
    },
    "kernelspec": {
      "name": "python3",
      "display_name": "Python 3"
    },
    "language_info": {
      "name": "python"
    },
    "accelerator": "GPU"
  },
  "cells": [
    {
      "cell_type": "markdown",
      "metadata": {
        "id": "view-in-github",
        "colab_type": "text"
      },
      "source": [
        "<a href=\"https://colab.research.google.com/github/Yanina-Kutovaya/GNN/blob/main/notebooks/5_1_CatBoost.ipynb\" target=\"_parent\"><img src=\"https://colab.research.google.com/assets/colab-badge.svg\" alt=\"Open In Colab\"/></a>"
      ]
    },
    {
      "cell_type": "markdown",
      "source": [
        "# Реализация CatBoostClassifier с использованием GPU (CUDA 12.5) для классификации узлов на датасете Bitcoin-OTC\n",
        "\n",
        "Задача — предсказать \"уровень доверия\" пользователей\n",
        "\n",
        "Признаки узлов/рёбер - синтетические"
      ],
      "metadata": {
        "id": "EcGS6p9Ly_rp"
      }
    },
    {
      "cell_type": "markdown",
      "source": [
        "Небходимо выбрать среду выполнения с GPU: Среда выполнения → Сменить среду выполнения → Графический процессор T4\n"
      ],
      "metadata": {
        "id": "RhSTgy_uzGAq"
      }
    },
    {
      "cell_type": "markdown",
      "source": [
        "## 1. Установка зависимостей"
      ],
      "metadata": {
        "id": "8iplLbMXzMIy"
      }
    },
    {
      "cell_type": "markdown",
      "source": [
        "Требования:\n",
        "- CatBoost ≥1.2.2\n",
        "- PyTorch Geometric для загрузки данных"
      ],
      "metadata": {
        "id": "7-ysHwJxBjmE"
      }
    },
    {
      "cell_type": "markdown",
      "source": [
        "* CatBoost автоматически использует доступные GPU через CUDA, явная установка CUDA 12.5 не требуется"
      ],
      "metadata": {
        "id": "MQTinyURBnXX"
      }
    },
    {
      "cell_type": "code",
      "source": [
        "install = True\n",
        "if install:\n",
        "  !pip install -q torch torchvision torchaudio\n",
        "  !pip install -q torch-geometric\n",
        "  !pip install -q catboost\n",
        "  !pip install -q networkx\n",
        "  !pip install -q matplotlib"
      ],
      "metadata": {
        "colab": {
          "base_uri": "https://localhost:8080/"
        },
        "id": "9km0NymOA-BK",
        "outputId": "878492ee-1d89-4bba-be51-bc589583e846"
      },
      "execution_count": 1,
      "outputs": [
        {
          "output_type": "stream",
          "name": "stdout",
          "text": [
            "\u001b[2K   \u001b[90m━━━━━━━━━━━━━━━━━━━━━━━━━━━━━━━━━━━━━━━━\u001b[0m \u001b[32m363.4/363.4 MB\u001b[0m \u001b[31m4.0 MB/s\u001b[0m eta \u001b[36m0:00:00\u001b[0m\n",
            "\u001b[2K   \u001b[90m━━━━━━━━━━━━━━━━━━━━━━━━━━━━━━━━━━━━━━━━\u001b[0m \u001b[32m13.8/13.8 MB\u001b[0m \u001b[31m43.9 MB/s\u001b[0m eta \u001b[36m0:00:00\u001b[0m\n",
            "\u001b[2K   \u001b[90m━━━━━━━━━━━━━━━━━━━━━━━━━━━━━━━━━━━━━━━━\u001b[0m \u001b[32m24.6/24.6 MB\u001b[0m \u001b[31m27.6 MB/s\u001b[0m eta \u001b[36m0:00:00\u001b[0m\n",
            "\u001b[2K   \u001b[90m━━━━━━━━━━━━━━━━━━━━━━━━━━━━━━━━━━━━━━━━\u001b[0m \u001b[32m883.7/883.7 kB\u001b[0m \u001b[31m33.5 MB/s\u001b[0m eta \u001b[36m0:00:00\u001b[0m\n",
            "\u001b[2K   \u001b[90m━━━━━━━━━━━━━━━━━━━━━━━━━━━━━━━━━━━━━━━━\u001b[0m \u001b[32m664.8/664.8 MB\u001b[0m \u001b[31m2.8 MB/s\u001b[0m eta \u001b[36m0:00:00\u001b[0m\n",
            "\u001b[2K   \u001b[90m━━━━━━━━━━━━━━━━━━━━━━━━━━━━━━━━━━━━━━━━\u001b[0m \u001b[32m211.5/211.5 MB\u001b[0m \u001b[31m5.6 MB/s\u001b[0m eta \u001b[36m0:00:00\u001b[0m\n",
            "\u001b[2K   \u001b[90m━━━━━━━━━━━━━━━━━━━━━━━━━━━━━━━━━━━━━━━━\u001b[0m \u001b[32m56.3/56.3 MB\u001b[0m \u001b[31m15.5 MB/s\u001b[0m eta \u001b[36m0:00:00\u001b[0m\n",
            "\u001b[2K   \u001b[90m━━━━━━━━━━━━━━━━━━━━━━━━━━━━━━━━━━━━━━━━\u001b[0m \u001b[32m127.9/127.9 MB\u001b[0m \u001b[31m7.5 MB/s\u001b[0m eta \u001b[36m0:00:00\u001b[0m\n",
            "\u001b[2K   \u001b[90m━━━━━━━━━━━━━━━━━━━━━━━━━━━━━━━━━━━━━━━━\u001b[0m \u001b[32m207.5/207.5 MB\u001b[0m \u001b[31m6.6 MB/s\u001b[0m eta \u001b[36m0:00:00\u001b[0m\n",
            "\u001b[2K   \u001b[90m━━━━━━━━━━━━━━━━━━━━━━━━━━━━━━━━━━━━━━━━\u001b[0m \u001b[32m21.1/21.1 MB\u001b[0m \u001b[31m95.2 MB/s\u001b[0m eta \u001b[36m0:00:00\u001b[0m\n",
            "\u001b[2K     \u001b[90m━━━━━━━━━━━━━━━━━━━━━━━━━━━━━━━━━━━━━━━━\u001b[0m \u001b[32m63.1/63.1 kB\u001b[0m \u001b[31m2.5 MB/s\u001b[0m eta \u001b[36m0:00:00\u001b[0m\n",
            "\u001b[2K   \u001b[90m━━━━━━━━━━━━━━━━━━━━━━━━━━━━━━━━━━━━━━━━\u001b[0m \u001b[32m1.1/1.1 MB\u001b[0m \u001b[31m25.6 MB/s\u001b[0m eta \u001b[36m0:00:00\u001b[0m\n",
            "\u001b[2K   \u001b[90m━━━━━━━━━━━━━━━━━━━━━━━━━━━━━━━━━━━━━━━━\u001b[0m \u001b[32m99.2/99.2 MB\u001b[0m \u001b[31m8.9 MB/s\u001b[0m eta \u001b[36m0:00:00\u001b[0m\n",
            "\u001b[?25h"
          ]
        }
      ]
    },
    {
      "cell_type": "markdown",
      "source": [
        "## 2. Импорт библиотек"
      ],
      "metadata": {
        "id": "uagQqe5fB7nk"
      }
    },
    {
      "cell_type": "code",
      "source": [
        "import torch\n",
        "import numpy as np\n",
        "import networkx as nx\n",
        "import matplotlib.pyplot as plt\n",
        "from torch_geometric.datasets import BitcoinOTC\n",
        "from torch_geometric.utils import to_networkx\n",
        "from catboost import CatBoostClassifier\n",
        "from sklearn.metrics import f1_score, classification_report"
      ],
      "metadata": {
        "id": "BouIGMFyB9bc"
      },
      "execution_count": 2,
      "outputs": []
    },
    {
      "cell_type": "markdown",
      "source": [
        "## 3. Загрузка данных"
      ],
      "metadata": {
        "id": "kVdBpn5kCB7l"
      }
    },
    {
      "cell_type": "code",
      "source": [
        "dataset = BitcoinOTC(root='/tmp/BTC')\n",
        "data = dataset[0]"
      ],
      "metadata": {
        "colab": {
          "base_uri": "https://localhost:8080/"
        },
        "id": "nX8F7lliCChi",
        "outputId": "ab635ec8-56f0-4247-9351-5465ebcb8c7a"
      },
      "execution_count": 3,
      "outputs": [
        {
          "output_type": "stream",
          "name": "stderr",
          "text": [
            "Downloading https://snap.stanford.edu/data/soc-sign-bitcoinotc.csv.gz\n",
            "Extracting /tmp/BTC/raw/soc-sign-bitcoinotc.csv.gz\n",
            "Processing...\n",
            "Done!\n"
          ]
        }
      ]
    },
    {
      "cell_type": "markdown",
      "source": [
        "## 4. Создание признаков узлов и ребер"
      ],
      "metadata": {
        "id": "nLFOAhpzCJLJ"
      }
    },
    {
      "cell_type": "markdown",
      "source": [
        "### 4.1. Признаки узлов"
      ],
      "metadata": {
        "id": "FXlYQdtRC7VW"
      }
    },
    {
      "cell_type": "code",
      "source": [
        "# Создание синтетических признаков узлов\n",
        "G = to_networkx(data, to_undirected=True)\n",
        "degrees = dict(G.degree())\n",
        "pagerank = nx.pagerank(G)\n",
        "clustering = nx.clustering(G)\n",
        "\n",
        "# Метрики узлов как признаки (3 признака)\n",
        "node_degrees = np.array([degrees[i] for i in range(data.num_nodes)]).reshape(-1, 1)\n",
        "node_pagerank = np.array([pagerank[i] for i in range(data.num_nodes)]).reshape(-1, 1)\n",
        "node_clustering = np.array([clustering[i] for i in range(data.num_nodes)]).reshape(-1, 1)\n",
        "\n",
        "# Комбинирование признаков в тензор\n",
        "X_tensor = torch.tensor(np.hstack([\n",
        "    node_degrees,\n",
        "    node_pagerank,\n",
        "    node_clustering\n",
        "]), dtype=torch.float32)"
      ],
      "metadata": {
        "id": "ZIuHfWw-COHY"
      },
      "execution_count": 4,
      "outputs": []
    },
    {
      "cell_type": "markdown",
      "source": [
        "### 4.2. Признаки соседей"
      ],
      "metadata": {
        "id": "wv8wMLCwEEPg"
      }
    },
    {
      "cell_type": "code",
      "source": [
        "# Агрегация признаков соседей (на основе реальных признаков)\n",
        "def aggregate_features(edge_index, features, aggregator='mean'):\n",
        "    \"\"\"Агрегация признаков соседей с обработкой узлов без соседей\"\"\"\n",
        "    num_nodes = features.shape[0]\n",
        "    feat_dim = features.shape[1]\n",
        "    aggregated = torch.zeros((num_nodes, feat_dim))\n",
        "\n",
        "    for i in range(num_nodes):\n",
        "        # Получаем индексы исходящих ребер для узла i\n",
        "        mask = edge_index[0] == i\n",
        "        if not mask.any():\n",
        "            # Нет исходящих ребер — оставляем нули\n",
        "            continue\n",
        "\n",
        "        neighbors = edge_index[1][mask]\n",
        "\n",
        "        if aggregator == 'mean':\n",
        "            aggregated[i] = features[neighbors].mean(dim=0)\n",
        "        elif aggregator == 'max':\n",
        "            if len(neighbors) == 0:\n",
        "                aggregated[i] = torch.zeros(feat_dim)\n",
        "            else:\n",
        "                aggregated[i], _ = features[neighbors].max(dim=0)\n",
        "        elif aggregator == 'sum':\n",
        "            aggregated[i] = features[neighbors].sum(dim=0)\n",
        "\n",
        "    return aggregated.numpy()\n",
        "\n",
        "# Преобразование edge_index в numpy для поиска соседей\n",
        "edge_index_np = data.edge_index.numpy()\n",
        "\n",
        "# Агрегация по соседям (3 типа агрегации)\n",
        "agg_mean = aggregate_features(edge_index_np, X_tensor, 'mean')\n",
        "agg_max = aggregate_features(edge_index_np, X_tensor, 'max')\n",
        "agg_sum = aggregate_features(edge_index_np, X_tensor, 'sum')"
      ],
      "metadata": {
        "id": "tIkTHnHJCTCs"
      },
      "execution_count": 5,
      "outputs": []
    },
    {
      "cell_type": "markdown",
      "source": [
        "### 4.3. Финальная матрица признаков"
      ],
      "metadata": {
        "id": "plIxtjG8Egnw"
      }
    },
    {
      "cell_type": "code",
      "source": [
        "# Финальная матрица признаков (3 + 3 + 3 + 3 = 12 признаков)\n",
        "X = np.hstack([\n",
        "    node_degrees,\n",
        "    node_pagerank,\n",
        "    node_clustering,\n",
        "    agg_mean,\n",
        "    agg_max,\n",
        "    agg_sum\n",
        "])\n",
        "\n",
        "# Проверка формы признаков\n",
        "print(f\"Форма X: {X.shape}\")  # Должно быть (num_nodes, 12)"
      ],
      "metadata": {
        "colab": {
          "base_uri": "https://localhost:8080/"
        },
        "id": "qfCMvLEgCgC0",
        "outputId": "a9ba829f-6666-4b82-e2e9-7eecd714f952"
      },
      "execution_count": 6,
      "outputs": [
        {
          "output_type": "stream",
          "name": "stdout",
          "text": [
            "Форма X: (6005, 12)\n"
          ]
        }
      ]
    },
    {
      "cell_type": "markdown",
      "source": [
        "## 5. Создание меток классов (гарантированно 3 класса)"
      ],
      "metadata": {
        "id": "pLsh3VKsErPw"
      }
    },
    {
      "cell_type": "code",
      "source": [
        "degree_centrality = np.array([degrees[i] for i in range(data.num_nodes)])\n",
        "min_class_size = 5\n",
        "sorted_indices = np.argsort(degree_centrality)\n",
        "num_nodes = len(sorted_indices)\n",
        "class_size = num_nodes // 3\n",
        "\n",
        "labels = np.zeros(num_nodes, dtype=int)\n",
        "for i in range(3):\n",
        "    start_idx = i * class_size\n",
        "    end_idx = (i+1)*class_size if i < 2 else num_nodes\n",
        "    labels[sorted_indices[start_idx:end_idx]] = i"
      ],
      "metadata": {
        "id": "wPqGWE7RCnYL"
      },
      "execution_count": 7,
      "outputs": []
    },
    {
      "cell_type": "markdown",
      "source": [
        "## 6. Стратифицированное разделение данных"
      ],
      "metadata": {
        "id": "l_vqXGTjFIrM"
      }
    },
    {
      "cell_type": "code",
      "source": [
        "def stratified_split(labels, train_ratio=0.6, val_ratio=0.2, seed=12):\n",
        "    np.random.seed(seed)\n",
        "    unique_classes = np.unique(labels)\n",
        "    train_indices, val_indices, test_indices = [], [], []\n",
        "\n",
        "    for cls in unique_classes:\n",
        "        cls_indices = np.where(labels == cls)[0]\n",
        "        np.random.shuffle(cls_indices)\n",
        "\n",
        "        train_end = int(train_ratio * len(cls_indices))\n",
        "        val_end = train_end + int(val_ratio * len(cls_indices))\n",
        "\n",
        "        train_indices.extend(cls_indices[:train_end])\n",
        "        val_indices.extend(cls_indices[train_end:val_end])\n",
        "        test_indices.extend(cls_indices[val_end:])\n",
        "\n",
        "    return (\n",
        "        np.array(train_indices, dtype=int),\n",
        "        np.array(val_indices, dtype=int),\n",
        "        np.array(test_indices, dtype=int)\n",
        "    )\n",
        "\n",
        "train_idx, val_idx, test_idx = stratified_split(labels)\n",
        "\n",
        "X_train, X_val, X_test = X[train_idx], X[val_idx], X[test_idx]\n",
        "y_train, y_val, y_test = labels[train_idx], labels[val_idx], labels[test_idx]"
      ],
      "metadata": {
        "id": "2UP0_7lcFMxS"
      },
      "execution_count": 8,
      "outputs": []
    },
    {
      "cell_type": "markdown",
      "source": [
        "## 7. Модель"
      ],
      "metadata": {
        "id": "TZv-xXeeFlhM"
      }
    },
    {
      "cell_type": "code",
      "source": [
        "# Расчет весов классов\n",
        "class_counts = np.bincount(y_train)\n",
        "min_weight = 1e-2\n",
        "class_weights = {\n",
        "    i: max(1.0 / (count + 1e-5), min_weight)\n",
        "    for i, count in enumerate(class_counts)\n",
        "}\n",
        "\n",
        "# Создание CatBoost модели с GPU\n",
        "model = CatBoostClassifier(\n",
        "    iterations=1000,\n",
        "    learning_rate=0.1,\n",
        "    loss_function='MultiClass',\n",
        "    eval_metric='TotalF1',\n",
        "    task_type='GPU',\n",
        "    devices='0',\n",
        "    class_weights=class_weights,\n",
        "    early_stopping_rounds=50,\n",
        "    verbose=100,\n",
        "    random_seed=42\n",
        ")\n",
        "\n",
        "# Обучение модели\n",
        "model.fit(X_train, y_train, eval_set=(X_val, y_val), use_best_model=True)"
      ],
      "metadata": {
        "colab": {
          "base_uri": "https://localhost:8080/"
        },
        "id": "rMaqgy-JF0jo",
        "outputId": "d43d1a45-c9b8-4364-8efc-fab23e1de149"
      },
      "execution_count": 9,
      "outputs": [
        {
          "output_type": "stream",
          "name": "stdout",
          "text": [
            "0:\tlearn: 0.1776358\ttest: 0.1684334\tbest: 0.1684334 (0)\ttotal: 17.6ms\tremaining: 17.6s\n",
            "bestTest = 0.1684334089\n",
            "bestIteration = 0\n",
            "Shrink model to first 1 iterations.\n"
          ]
        },
        {
          "output_type": "execute_result",
          "data": {
            "text/plain": [
              "<catboost.core.CatBoostClassifier at 0x7bec4dbfa010>"
            ]
          },
          "metadata": {},
          "execution_count": 9
        }
      ]
    },
    {
      "cell_type": "markdown",
      "source": [
        "## 8. Оценка"
      ],
      "metadata": {
        "id": "GYjOoOsLGvqO"
      }
    },
    {
      "cell_type": "code",
      "source": [
        "y_pred = model.predict(X_test)\n",
        "print(classification_report(y_test, y_pred, labels=[0, 1, 2]))"
      ],
      "metadata": {
        "colab": {
          "base_uri": "https://localhost:8080/"
        },
        "id": "_3ohQyxUGxNt",
        "outputId": "578cb4ee-2ff4-4994-e27a-01989c05b7ca"
      },
      "execution_count": 10,
      "outputs": [
        {
          "output_type": "stream",
          "name": "stdout",
          "text": [
            "              precision    recall  f1-score   support\n",
            "\n",
            "           0       0.00      0.00      0.00       401\n",
            "           1       0.33      1.00      0.50       401\n",
            "           2       1.00      0.00      0.01       402\n",
            "\n",
            "    accuracy                           0.33      1204\n",
            "   macro avg       0.44      0.33      0.17      1204\n",
            "weighted avg       0.44      0.33      0.17      1204\n",
            "\n"
          ]
        },
        {
          "output_type": "stream",
          "name": "stderr",
          "text": [
            "/usr/local/lib/python3.11/dist-packages/sklearn/metrics/_classification.py:1565: UndefinedMetricWarning: Precision is ill-defined and being set to 0.0 in labels with no predicted samples. Use `zero_division` parameter to control this behavior.\n",
            "  _warn_prf(average, modifier, f\"{metric.capitalize()} is\", len(result))\n",
            "/usr/local/lib/python3.11/dist-packages/sklearn/metrics/_classification.py:1565: UndefinedMetricWarning: Precision is ill-defined and being set to 0.0 in labels with no predicted samples. Use `zero_division` parameter to control this behavior.\n",
            "  _warn_prf(average, modifier, f\"{metric.capitalize()} is\", len(result))\n",
            "/usr/local/lib/python3.11/dist-packages/sklearn/metrics/_classification.py:1565: UndefinedMetricWarning: Precision is ill-defined and being set to 0.0 in labels with no predicted samples. Use `zero_division` parameter to control this behavior.\n",
            "  _warn_prf(average, modifier, f\"{metric.capitalize()} is\", len(result))\n"
          ]
        }
      ]
    },
    {
      "cell_type": "markdown",
      "source": [
        "## 9. Важность признаков"
      ],
      "metadata": {
        "id": "y3U_Sd0RGObF"
      }
    },
    {
      "cell_type": "code",
      "source": [
        "# Feature Importance\n",
        "feature_importance = model.get_feature_importance()\n",
        "print(f\"Число признаков: {len(feature_importance)}\")  # Должно быть 12\n",
        "\n",
        "# Визуализация важности признаков\n",
        "feature_names = [\n",
        "    'Degree', 'PageRank', 'Clustering',\n",
        "    'Mean_Degree', 'Mean_PageRank', 'Mean_Clustering',\n",
        "    'Max_Degree', 'Max_PageRank', 'Max_Clustering',\n",
        "    'Sum_Degree', 'Sum_PageRank', 'Sum_Clustering'\n",
        "]\n",
        "\n",
        "plt.figure(figsize=(12, 6))\n",
        "plt.bar(feature_names, feature_importance)\n",
        "plt.xticks(rotation=45, ha='right')\n",
        "plt.title('Feature Importance')\n",
        "plt.tight_layout()\n",
        "plt.show()"
      ],
      "metadata": {
        "colab": {
          "base_uri": "https://localhost:8080/",
          "height": 624
        },
        "id": "uJj1ABGB0Rxa",
        "outputId": "5b29c000-375f-41df-9c89-68f0341f6d49"
      },
      "execution_count": 11,
      "outputs": [
        {
          "output_type": "stream",
          "name": "stdout",
          "text": [
            "Число признаков: 12\n"
          ]
        },
        {
          "output_type": "display_data",
          "data": {
            "text/plain": [
              "<Figure size 1200x600 with 1 Axes>"
            ],
            "image/png": "[encoded data removed]"
          },
          "metadata": {}
        }
      ]
    },
    {
      "cell_type": "markdown",
      "source": [
        "## 10. Сохранение модели"
      ],
      "metadata": {
        "id": "vX02cLeoHJxY"
      }
    },
    {
      "cell_type": "code",
      "source": [
        "model.save_model('catboost_model.cbm')\n",
        "print(\"Модель сохранена в 'catboost_model.cbm'\")"
      ],
      "metadata": {
        "colab": {
          "base_uri": "https://localhost:8080/"
        },
        "id": "m91sL6sbHPvl",
        "outputId": "a1093459-d501-4fd6-af4a-4a6bcbfa2340"
      },
      "execution_count": 12,
      "outputs": [
        {
          "output_type": "stream",
          "name": "stdout",
          "text": [
            "Модель сохранена в 'catboost_model.cbm'\n"
          ]
        }
      ]
    },
    {
      "cell_type": "markdown",
      "source": [
        "## 11. Загрузка модели"
      ],
      "metadata": {
        "id": "YoRLjuyuHao6"
      }
    },
    {
      "cell_type": "code",
      "source": [
        "loaded_model = CatBoostClassifier()\n",
        "loaded_model.load_model('catboost_model.cbm')\n",
        "print(\"Модель загружена из 'catboost_model.cbm'\")"
      ],
      "metadata": {
        "colab": {
          "base_uri": "https://localhost:8080/"
        },
        "id": "QVLXL9FLHdoU",
        "outputId": "054f813b-c3ea-4248-a954-7f3e577e279d"
      },
      "execution_count": 13,
      "outputs": [
        {
          "output_type": "stream",
          "name": "stdout",
          "text": [
            "Модель загружена из 'catboost_model.cbm'\n"
          ]
        }
      ]
    },
    {
      "cell_type": "code",
      "source": [
        "# Проверка загруженной модели\n",
        "val_pred = loaded_model.predict(X_val)\n",
        "test_pred = loaded_model.predict(X_test)\n",
        "\n",
        "val_f1 = f1_score(y_val, val_pred, average='weighted')\n",
        "test_f1 = f1_score(y_test, test_pred, average='weighted')\n",
        "\n",
        "print(f'\\nValidation Weighted F1: {val_f1:.4f}')\n",
        "print(f'Test Weighted F1: {test_f1:.4f}')"
      ],
      "metadata": {
        "colab": {
          "base_uri": "https://localhost:8080/"
        },
        "id": "BZRfBfgN6wU5",
        "outputId": "76909aa5-77e0-4a01-dfdd-f26119545797"
      },
      "execution_count": 14,
      "outputs": [
        {
          "output_type": "stream",
          "name": "stdout",
          "text": [
            "\n",
            "Validation Weighted F1: 0.1684\n",
            "Test Weighted F1: 0.1699\n"
          ]
        }
      ]
    }
  ]
}