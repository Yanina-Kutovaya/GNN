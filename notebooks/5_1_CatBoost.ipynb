{
  "nbformat": 4,
  "nbformat_minor": 0,
  "metadata": {
    "colab": {
      "provenance": [],
      "gpuType": "T4",
      "authorship_tag": "ABX9TyO6Ts/q4rq68pNabZs6QlGt",
      "include_colab_link": true
    },
    "kernelspec": {
      "name": "python3",
      "display_name": "Python 3"
    },
    "language_info": {
      "name": "python"
    },
    "widgets": {
      "application/vnd.jupyter.widget-state+json": {
        "d282eb4a2df74a8399de4286eec93935": {
          "model_module": "catboost-widget",
          "model_name": "CatboostWidgetModel",
          "model_module_version": "^1.0.0",
          "state": {
            "_dom_classes": [],
            "_model_module": "catboost-widget",
            "_model_module_version": "^1.0.0",
            "_model_name": "CatboostWidgetModel",
            "_view_count": null,
            "_view_module": "catboost-widget",
            "_view_module_version": "^1.0.0",
            "_view_name": "CatboostWidgetView",
            "data": {
              "catboost_info": {
                "path": "catboost_info",
                "name": "catboost_info",
                "content": {
                  "passed_iterations": 999,
                  "total_iterations": 1000,
                  "data": {
                    "iterations": [
                      {
                        "learn": [
                          0.9095123571
                        ],
                        "iteration": 0,
                        "passed_time": 0.05478122105,
                        "remaining_time": 54.72643983,
                        "test": [
                          0.9095340065
                        ]
                      },
                      {
                        "learn": [
                          0.769172967
                        ],
                        "iteration": 1,
                        "passed_time": 0.08769375714,
                        "remaining_time": 43.75918481,
                        "test": [
                          0.769208033
                        ]
                      },
                      {
                        "learn": [
                          0.6595520477
                        ],
                        "iteration": 2,
                        "passed_time": 0.1276796779,
                        "remaining_time": 42.43221294,
                        "test": [
                          0.6595954482
                        ]
                      },
                      {
                        "learn": [
                          0.5711204408
                        ],
                        "iteration": 3,
                        "passed_time": 0.1681227117,
                        "remaining_time": 41.8625552,
                        "test": [
                          0.5711692283
                        ]
                      },
                      {
                        "learn": [
                          0.4981785503
                        ],
                        "iteration": 4,
                        "passed_time": 0.2089533793,
                        "remaining_time": 41.58172249,
                        "test": [
                          0.4982309461
                        ]
                      },
                      {
                        "learn": [
                          0.4370278288
                        ],
                        "iteration": 5,
                        "passed_time": 0.2310671229,
                        "remaining_time": 38.28012003,
                        "test": [
                          0.4370823081
                        ]
                      },
                      {
                        "learn": [
                          0.3851239334
                        ],
                        "iteration": 6,
                        "passed_time": 0.2444078912,
                        "remaining_time": 34.67100513,
                        "test": [
                          0.3851796578
                        ]
                      },
                      {
                        "learn": [
                          0.3406391382
                        ],
                        "iteration": 7,
                        "passed_time": 0.2537541156,
                        "remaining_time": 31.46551033,
                        "test": [
                          0.3406955233
                        ]
                      },
                      {
                        "learn": [
                          0.3022154745
                        ],
                        "iteration": 8,
                        "passed_time": 0.2689317009,
                        "remaining_time": 29.6123684,
                        "test": [
                          0.3022718596
                        ]
                      },
                      {
                        "learn": [
                          0.2688151668
                        ],
                        "iteration": 9,
                        "passed_time": 0.280168093,
                        "remaining_time": 27.73664121,
                        "test": [
                          0.2688711962
                        ]
                      },
                      {
                        "learn": [
                          0.2396282415
                        ],
                        "iteration": 10,
                        "passed_time": 0.2902609,
                        "remaining_time": 26.09709364,
                        "test": [
                          0.2396837373
                        ]
                      },
                      {
                        "learn": [
                          0.2140099925
                        ],
                        "iteration": 11,
                        "passed_time": 0.2995292934,
                        "remaining_time": 24.66124515,
                        "test": [
                          0.2140647259
                        ]
                      },
                      {
                        "learn": [
                          0.1914399438
                        ],
                        "iteration": 12,
                        "passed_time": 0.3089840619,
                        "remaining_time": 23.4590207,
                        "test": [
                          0.1914937625
                        ]
                      },
                      {
                        "learn": [
                          0.1714916626
                        ],
                        "iteration": 13,
                        "passed_time": 0.3182480734,
                        "remaining_time": 22.41375717,
                        "test": [
                          0.1715444903
                        ]
                      },
                      {
                        "learn": [
                          0.1538118462
                        ],
                        "iteration": 14,
                        "passed_time": 0.3282166096,
                        "remaining_time": 21.5528907,
                        "test": [
                          0.1538635813
                        ]
                      },
                      {
                        "learn": [
                          0.1381051908
                        ],
                        "iteration": 15,
                        "passed_time": 0.3373766798,
                        "remaining_time": 20.74866581,
                        "test": [
                          0.1381557824
                        ]
                      },
                      {
                        "learn": [
                          0.1241225498
                        ],
                        "iteration": 16,
                        "passed_time": 0.3466370314,
                        "remaining_time": 20.04377658,
                        "test": [
                          0.1241719852
                        ]
                      },
                      {
                        "learn": [
                          0.1116523203
                        ],
                        "iteration": 17,
                        "passed_time": 0.3559168265,
                        "remaining_time": 19.4172402,
                        "test": [
                          0.1117005868
                        ]
                      },
                      {
                        "learn": [
                          0.1005128706
                        ],
                        "iteration": 18,
                        "passed_time": 0.3653403789,
                        "remaining_time": 18.86310062,
                        "test": [
                          0.100559981
                        ]
                      },
                      {
                        "learn": [
                          0.09054835412
                        ],
                        "iteration": 19,
                        "passed_time": 0.3754828165,
                        "remaining_time": 18.39865801,
                        "test": [
                          0.09059427025
                        ]
                      },
                      {
                        "learn": [
                          0.08162380476
                        ],
                        "iteration": 20,
                        "passed_time": 0.3848558692,
                        "remaining_time": 17.94161409,
                        "test": [
                          0.08166855201
                        ]
                      },
                      {
                        "learn": [
                          0.07362192934
                        ],
                        "iteration": 21,
                        "passed_time": 0.3942046825,
                        "remaining_time": 17.52418998,
                        "test": [
                          0.07366552678
                        ]
                      },
                      {
                        "learn": [
                          0.06644021065
                        ],
                        "iteration": 22,
                        "passed_time": 0.4035597357,
                        "remaining_time": 17.14251573,
                        "test": [
                          0.0664826837
                        ]
                      },
                      {
                        "learn": [
                          0.05998911607
                        ],
                        "iteration": 23,
                        "passed_time": 0.4136478897,
                        "remaining_time": 16.82168085,
                        "test": [
                          0.06003048378
                        ]
                      },
                      {
                        "learn": [
                          0.05418988688
                        ],
                        "iteration": 24,
                        "passed_time": 0.4229263029,
                        "remaining_time": 16.49412581,
                        "test": [
                          0.0542301556
                        ]
                      },
                      {
                        "learn": [
                          0.04897267376
                        ],
                        "iteration": 25,
                        "passed_time": 0.4367776198,
                        "remaining_time": 16.3623616,
                        "test": [
                          0.04901188796
                        ]
                      },
                      {
                        "learn": [
                          0.04427643521
                        ],
                        "iteration": 26,
                        "passed_time": 0.4477992275,
                        "remaining_time": 16.13735735,
                        "test": [
                          0.04431461712
                        ]
                      },
                      {
                        "learn": [
                          0.04004681895
                        ],
                        "iteration": 27,
                        "passed_time": 0.4913756296,
                        "remaining_time": 17.057754,
                        "test": [
                          0.04008398127
                        ]
                      },
                      {
                        "learn": [
                          0.03623538371
                        ],
                        "iteration": 28,
                        "passed_time": 0.5184115399,
                        "remaining_time": 17.35784846,
                        "test": [
                          0.03627157092
                        ]
                      },
                      {
                        "learn": [
                          0.03279931658
                        ],
                        "iteration": 29,
                        "passed_time": 0.5455775358,
                        "remaining_time": 17.64034032,
                        "test": [
                          0.03283455092
                        ]
                      },
                      {
                        "learn": [
                          0.02970035308
                        ],
                        "iteration": 30,
                        "passed_time": 0.5768644402,
                        "remaining_time": 18.03166589,
                        "test": [
                          0.02973465677
                        ]
                      },
                      {
                        "learn": [
                          0.02690425304
                        ],
                        "iteration": 31,
                        "passed_time": 0.6142913607,
                        "remaining_time": 18.58231366,
                        "test": [
                          0.0269376642
                        ]
                      },
                      {
                        "learn": [
                          0.02438072122
                        ],
                        "iteration": 32,
                        "passed_time": 0.6543090276,
                        "remaining_time": 19.17323726,
                        "test": [
                          0.0244132589
                        ]
                      },
                      {
                        "learn": [
                          0.02210247189
                        ],
                        "iteration": 33,
                        "passed_time": 0.7004642565,
                        "remaining_time": 19.90142564,
                        "test": [
                          0.02213416786
                        ]
                      },
                      {
                        "learn": [
                          0.02004502874
                        ],
                        "iteration": 34,
                        "passed_time": 0.7414701526,
                        "remaining_time": 20.44339135,
                        "test": [
                          0.02007590682
                        ]
                      },
                      {
                        "learn": [
                          0.01818634529
                        ],
                        "iteration": 35,
                        "passed_time": 0.7548176927,
                        "remaining_time": 20.21234044,
                        "test": [
                          0.01821643248
                        ]
                      },
                      {
                        "learn": [
                          0.01650723688
                        ],
                        "iteration": 36,
                        "passed_time": 0.7639583044,
                        "remaining_time": 19.88356344,
                        "test": [
                          0.01653655701
                        ]
                      },
                      {
                        "learn": [
                          0.01498964804
                        ],
                        "iteration": 37,
                        "passed_time": 0.7786262351,
                        "remaining_time": 19.71153785,
                        "test": [
                          0.0150182265
                        ]
                      },
                      {
                        "learn": [
                          0.01361795468
                        ],
                        "iteration": 38,
                        "passed_time": 0.7895487723,
                        "remaining_time": 19.45529154,
                        "test": [
                          0.0136458169
                        ]
                      },
                      {
                        "learn": [
                          0.01237777548
                        ],
                        "iteration": 39,
                        "passed_time": 0.7989915982,
                        "remaining_time": 19.17579836,
                        "test": [
                          0.0124049413
                        ]
                      },
                      {
                        "learn": [
                          0.01125640456
                        ],
                        "iteration": 40,
                        "passed_time": 0.8082225836,
                        "remaining_time": 18.90452336,
                        "test": [
                          0.0112828994
                        ]
                      },
                      {
                        "learn": [
                          0.01024217629
                        ],
                        "iteration": 41,
                        "passed_time": 0.8173164055,
                        "remaining_time": 18.64259801,
                        "test": [
                          0.01026802317
                        ]
                      },
                      {
                        "learn": [
                          0.009324563731
                        ],
                        "iteration": 42,
                        "passed_time": 0.8265356372,
                        "remaining_time": 18.39522337,
                        "test": [
                          0.009349782501
                        ]
                      },
                      {
                        "learn": [
                          0.008494578829
                        ],
                        "iteration": 43,
                        "passed_time": 0.8373342908,
                        "remaining_time": 18.1929905,
                        "test": [
                          0.008519189344
                        ]
                      },
                      {
                        "learn": [
                          0.007743339951
                        ],
                        "iteration": 44,
                        "passed_time": 0.8468700142,
                        "remaining_time": 17.97246363,
                        "test": [
                          0.007767363651
                        ]
                      },
                      {
                        "learn": [
                          0.007063553593
                        ],
                        "iteration": 45,
                        "passed_time": 0.8562040149,
                        "remaining_time": 17.75692674,
                        "test": [
                          0.007087010329
                        ]
                      },
                      {
                        "learn": [
                          0.006448115238
                        ],
                        "iteration": 46,
                        "passed_time": 0.8618176306,
                        "remaining_time": 17.4747277,
                        "test": [
                          0.006471023671
                        ]
                      },
                      {
                        "learn": [
                          0.005891113456
                        ],
                        "iteration": 47,
                        "passed_time": 0.8709080136,
                        "remaining_time": 17.27300894,
                        "test": [
                          0.005913489863
                        ]
                      },
                      {
                        "learn": [
                          0.005386677312
                        ],
                        "iteration": 48,
                        "passed_time": 0.8801225944,
                        "remaining_time": 17.08156301,
                        "test": [
                          0.005408542341
                        ]
                      },
                      {
                        "learn": [
                          0.004929679518
                        ],
                        "iteration": 49,
                        "passed_time": 0.8893908028,
                        "remaining_time": 16.89842525,
                        "test": [
                          0.004951047461
                        ]
                      },
                      {
                        "learn": [
                          0.004515890873
                        ],
                        "iteration": 50,
                        "passed_time": 0.8985173539,
                        "remaining_time": 16.71946998,
                        "test": [
                          0.004536779199
                        ]
                      },
                      {
                        "learn": [
                          0.00414086222
                        ],
                        "iteration": 51,
                        "passed_time": 0.907568508,
                        "remaining_time": 16.54567203,
                        "test": [
                          0.004161286414
                        ]
                      },
                      {
                        "learn": [
                          0.003801041301
                        ],
                        "iteration": 52,
                        "passed_time": 0.9167245073,
                        "remaining_time": 16.37996431,
                        "test": [
                          0.003821017244
                        ]
                      },
                      {
                        "learn": [
                          0.003492901665
                        ],
                        "iteration": 53,
                        "passed_time": 0.9223053219,
                        "remaining_time": 16.15742286,
                        "test": [
                          0.003512444445
                        ]
                      },
                      {
                        "learn": [
                          0.003213375038
                        ],
                        "iteration": 54,
                        "passed_time": 0.9312747941,
                        "remaining_time": 16.00099419,
                        "test": [
                          0.003232497558
                        ]
                      },
                      {
                        "learn": [
                          0.002960105224
                        ],
                        "iteration": 55,
                        "passed_time": 0.9404103179,
                        "remaining_time": 15.85263107,
                        "test": [
                          0.002978821579
                        ]
                      },
                      {
                        "learn": [
                          0.002730015613
                        ],
                        "iteration": 56,
                        "passed_time": 0.9496079622,
                        "remaining_time": 15.71018085,
                        "test": [
                          0.002748338507
                        ]
                      },
                      {
                        "learn": [
                          0.002553016915
                        ],
                        "iteration": 57,
                        "passed_time": 0.9508722042,
                        "remaining_time": 15.44347614,
                        "test": [
                          0.002572096555
                        ]
                      },
                      {
                        "learn": [
                          0.002361364508
                        ],
                        "iteration": 58,
                        "passed_time": 0.9566049628,
                        "remaining_time": 15.25703847,
                        "test": [
                          0.00238003163
                        ]
                      },
                      {
                        "learn": [
                          0.002219363117
                        ],
                        "iteration": 59,
                        "passed_time": 0.957861629,
                        "remaining_time": 15.00649886,
                        "test": [
                          0.002238782419
                        ]
                      },
                      {
                        "learn": [
                          0.002058846667
                        ],
                        "iteration": 60,
                        "passed_time": 0.9664410884,
                        "remaining_time": 14.87685544,
                        "test": [
                          0.002077835982
                        ]
                      },
                      {
                        "learn": [
                          0.001912893602
                        ],
                        "iteration": 61,
                        "passed_time": 0.9687629019,
                        "remaining_time": 14.65644519,
                        "test": [
                          0.001931468414
                        ]
                      },
                      {
                        "learn": [
                          0.001780070433
                        ],
                        "iteration": 62,
                        "passed_time": 0.9791726965,
                        "remaining_time": 14.56325106,
                        "test": [
                          0.001798245432
                        ]
                      },
                      {
                        "learn": [
                          0.001659086304
                        ],
                        "iteration": 63,
                        "passed_time": 0.9820757369,
                        "remaining_time": 14.36285765,
                        "test": [
                          0.001676875884
                        ]
                      },
                      {
                        "learn": [
                          0.001551085567
                        ],
                        "iteration": 64,
                        "passed_time": 0.9840055486,
                        "remaining_time": 14.15454135,
                        "test": [
                          0.001568662832
                        ]
                      },
                      {
                        "learn": [
                          0.00147745919
                        ],
                        "iteration": 65,
                        "passed_time": 0.9851869088,
                        "remaining_time": 13.94188747,
                        "test": [
                          0.001495642031
                        ]
                      },
                      {
                        "learn": [
                          0.001383875927
                        ],
                        "iteration": 66,
                        "passed_time": 0.9875004665,
                        "remaining_time": 13.75131247,
                        "test": [
                          0.001401669278
                        ]
                      },
                      {
                        "learn": [
                          0.0013113136
                        ],
                        "iteration": 67,
                        "passed_time": 0.9896517264,
                        "remaining_time": 13.56405013,
                        "test": [
                          0.001329567113
                        ]
                      },
                      {
                        "learn": [
                          0.0012321227
                        ],
                        "iteration": 68,
                        "passed_time": 0.9924489485,
                        "remaining_time": 13.39086915,
                        "test": [
                          0.001249981165
                        ]
                      },
                      {
                        "learn": [
                          0.001159774671
                        ],
                        "iteration": 69,
                        "passed_time": 1.000599018,
                        "remaining_time": 13.29367267,
                        "test": [
                          0.001177252381
                        ]
                      },
                      {
                        "learn": [
                          0.001093412915
                        ],
                        "iteration": 70,
                        "passed_time": 1.004038529,
                        "remaining_time": 13.13734921,
                        "test": [
                          0.001110523567
                        ]
                      },
                      {
                        "learn": [
                          0.001032572007
                        ],
                        "iteration": 71,
                        "passed_time": 1.012101607,
                        "remaining_time": 13.04486516,
                        "test": [
                          0.001049328208
                        ]
                      },
                      {
                        "learn": [
                          0.0009983212227
                        ],
                        "iteration": 72,
                        "passed_time": 1.013292007,
                        "remaining_time": 12.86742042,
                        "test": [
                          0.001015552077
                        ]
                      },
                      {
                        "learn": [
                          0.0009467290105
                        ],
                        "iteration": 73,
                        "passed_time": 1.016783369,
                        "remaining_time": 12.72353243,
                        "test": [
                          0.0009639973843
                        ]
                      },
                      {
                        "learn": [
                          0.0008991477293
                        ],
                        "iteration": 74,
                        "passed_time": 1.021064983,
                        "remaining_time": 12.59313478,
                        "test": [
                          0.0009160400132
                        ]
                      },
                      {
                        "learn": [
                          0.0008646155476
                        ],
                        "iteration": 75,
                        "passed_time": 1.022894958,
                        "remaining_time": 12.43624922,
                        "test": [
                          0.0008818222819
                        ]
                      },
                      {
                        "learn": [
                          0.0008224546661
                        ],
                        "iteration": 76,
                        "passed_time": 1.025201004,
                        "remaining_time": 12.28909775,
                        "test": [
                          0.0008393010926
                        ]
                      },
                      {
                        "learn": [
                          0.0007836557149
                        ],
                        "iteration": 77,
                        "passed_time": 1.034889673,
                        "remaining_time": 12.23292665,
                        "test": [
                          0.0008001543402
                        ]
                      },
                      {
                        "learn": [
                          0.0007488874968
                        ],
                        "iteration": 78,
                        "passed_time": 1.037801639,
                        "remaining_time": 12.09892797,
                        "test": [
                          0.0007650337052
                        ]
                      },
                      {
                        "learn": [
                          0.0007154492911
                        ],
                        "iteration": 79,
                        "passed_time": 1.040116102,
                        "remaining_time": 11.96133517,
                        "test": [
                          0.0007312697336
                        ]
                      },
                      {
                        "learn": [
                          0.0006845326447
                        ],
                        "iteration": 80,
                        "passed_time": 1.048163387,
                        "remaining_time": 11.89212534,
                        "test": [
                          0.0007000386368
                        ]
                      },
                      {
                        "learn": [
                          0.0006568229367
                        ],
                        "iteration": 81,
                        "passed_time": 1.051046903,
                        "remaining_time": 11.76659826,
                        "test": [
                          0.0006720102101
                        ]
                      },
                      {
                        "learn": [
                          0.0006449607687
                        ],
                        "iteration": 82,
                        "passed_time": 1.052228935,
                        "remaining_time": 11.62522812,
                        "test": [
                          0.0006604419958
                        ]
                      },
                      {
                        "learn": [
                          0.00062046857
                        ],
                        "iteration": 83,
                        "passed_time": 1.057586064,
                        "remaining_time": 11.53272422,
                        "test": [
                          0.0006357076563
                        ]
                      },
                      {
                        "learn": [
                          0.0006109617036
                        ],
                        "iteration": 84,
                        "passed_time": 1.0587853,
                        "remaining_time": 11.39751235,
                        "test": [
                          0.0006264717652
                        ]
                      },
                      {
                        "learn": [
                          0.0006023502469
                        ],
                        "iteration": 85,
                        "passed_time": 1.059965261,
                        "remaining_time": 11.26521219,
                        "test": [
                          0.0006181266683
                        ]
                      },
                      {
                        "learn": [
                          0.0005809044858
                        ],
                        "iteration": 86,
                        "passed_time": 1.064198147,
                        "remaining_time": 11.16796446,
                        "test": [
                          0.0005963452154
                        ]
                      },
                      {
                        "learn": [
                          0.0005608516668
                        ],
                        "iteration": 87,
                        "passed_time": 1.072369561,
                        "remaining_time": 11.11364818,
                        "test": [
                          0.0005763318517
                        ]
                      },
                      {
                        "learn": [
                          0.0005417000642
                        ],
                        "iteration": 88,
                        "passed_time": 1.080569397,
                        "remaining_time": 11.06065979,
                        "test": [
                          0.0005568719526
                        ]
                      },
                      {
                        "learn": [
                          0.0005231136386
                        ],
                        "iteration": 89,
                        "passed_time": 1.085773123,
                        "remaining_time": 10.97837269,
                        "test": [
                          0.0005379879504
                        ]
                      },
                      {
                        "learn": [
                          0.0005066867276
                        ],
                        "iteration": 90,
                        "passed_time": 1.094143916,
                        "remaining_time": 10.9294156,
                        "test": [
                          0.0005210776015
                        ]
                      },
                      {
                        "learn": [
                          0.0004902015518
                        ],
                        "iteration": 91,
                        "passed_time": 1.102132186,
                        "remaining_time": 10.87756549,
                        "test": [
                          0.0005043159417
                        ]
                      },
                      {
                        "learn": [
                          0.0004755212901
                        ],
                        "iteration": 92,
                        "passed_time": 1.107462538,
                        "remaining_time": 10.8007368,
                        "test": [
                          0.000490747721
                        ]
                      },
                      {
                        "learn": [
                          0.0004616151444
                        ],
                        "iteration": 93,
                        "passed_time": 1.115652909,
                        "remaining_time": 10.75299506,
                        "test": [
                          0.0004765485149
                        ]
                      },
                      {
                        "learn": [
                          0.0004476549524
                        ],
                        "iteration": 94,
                        "passed_time": 1.123772558,
                        "remaining_time": 10.70541227,
                        "test": [
                          0.0004623103995
                        ]
                      },
                      {
                        "learn": [
                          0.000434508679
                        ],
                        "iteration": 95,
                        "passed_time": 1.131905504,
                        "remaining_time": 10.65877683,
                        "test": [
                          0.0004488954338
                        ]
                      },
                      {
                        "learn": [
                          0.0004228306849
                        ],
                        "iteration": 96,
                        "passed_time": 1.141353058,
                        "remaining_time": 10.62517331,
                        "test": [
                          0.0004369505339
                        ]
                      },
                      {
                        "learn": [
                          0.0004116915644
                        ],
                        "iteration": 97,
                        "passed_time": 1.149680199,
                        "remaining_time": 10.5817504,
                        "test": [
                          0.0004258383124
                        ]
                      },
                      {
                        "learn": [
                          0.0004005533621
                        ],
                        "iteration": 98,
                        "passed_time": 1.157834293,
                        "remaining_time": 10.5374616,
                        "test": [
                          0.0004144483164
                        ]
                      },
                      {
                        "learn": [
                          0.0003905912968
                        ],
                        "iteration": 99,
                        "passed_time": 1.182565887,
                        "remaining_time": 10.64309298,
                        "test": [
                          0.0004042368894
                        ]
                      },
                      {
                        "learn": [
                          0.0003810362901
                        ],
                        "iteration": 100,
                        "passed_time": 1.197766622,
                        "remaining_time": 10.66130884,
                        "test": [
                          0.0003947064491
                        ]
                      },
                      {
                        "learn": [
                          0.0003712930151
                        ],
                        "iteration": 101,
                        "passed_time": 1.224793538,
                        "remaining_time": 10.78298625,
                        "test": [
                          0.0003847265422
                        ]
                      },
                      {
                        "learn": [
                          0.0003696557733
                        ],
                        "iteration": 102,
                        "passed_time": 1.226197474,
                        "remaining_time": 10.67863237,
                        "test": [
                          0.0003831951098
                        ]
                      },
                      {
                        "learn": [
                          0.00036123859
                        ],
                        "iteration": 103,
                        "passed_time": 1.245954895,
                        "remaining_time": 10.73438063,
                        "test": [
                          0.0003747992174
                        ]
                      },
                      {
                        "learn": [
                          0.0003524192366
                        ],
                        "iteration": 104,
                        "passed_time": 1.271422107,
                        "remaining_time": 10.83735986,
                        "test": [
                          0.0003657486417
                        ]
                      },
                      {
                        "learn": [
                          0.0003448283791
                        ],
                        "iteration": 105,
                        "passed_time": 1.285450544,
                        "remaining_time": 10.84144138,
                        "test": [
                          0.0003577989652
                        ]
                      },
                      {
                        "learn": [
                          0.0003375046755
                        ],
                        "iteration": 106,
                        "passed_time": 1.302617996,
                        "remaining_time": 10.87138196,
                        "test": [
                          0.0003504968503
                        ]
                      },
                      {
                        "learn": [
                          0.0003298100683
                        ],
                        "iteration": 107,
                        "passed_time": 1.318687236,
                        "remaining_time": 10.89137976,
                        "test": [
                          0.0003425866043
                        ]
                      },
                      {
                        "learn": [
                          0.0003230487377
                        ],
                        "iteration": 108,
                        "passed_time": 1.345618591,
                        "remaining_time": 10.99950609,
                        "test": [
                          0.000335844108
                        ]
                      },
                      {
                        "learn": [
                          0.0003166819343
                        ],
                        "iteration": 109,
                        "passed_time": 1.384217726,
                        "remaining_time": 11.19957979,
                        "test": [
                          0.0003294935582
                        ]
                      },
                      {
                        "learn": [
                          0.0003101701145
                        ],
                        "iteration": 110,
                        "passed_time": 1.404595163,
                        "remaining_time": 11.24941532,
                        "test": [
                          0.0003226608361
                        ]
                      },
                      {
                        "learn": [
                          0.0003036410981
                        ],
                        "iteration": 111,
                        "passed_time": 1.419435135,
                        "remaining_time": 11.25409285,
                        "test": [
                          0.0003159321863
                        ]
                      },
                      {
                        "learn": [
                          0.0002978748326
                        ],
                        "iteration": 112,
                        "passed_time": 1.432578278,
                        "remaining_time": 11.2451056,
                        "test": [
                          0.0003099713744
                        ]
                      },
                      {
                        "learn": [
                          0.0002924944836
                        ],
                        "iteration": 113,
                        "passed_time": 1.440932991,
                        "remaining_time": 11.19883009,
                        "test": [
                          0.0003044008464
                        ]
                      },
                      {
                        "learn": [
                          0.0002867017906
                        ],
                        "iteration": 114,
                        "passed_time": 1.469272753,
                        "remaining_time": 11.30701206,
                        "test": [
                          0.0002984228877
                        ]
                      },
                      {
                        "learn": [
                          0.0002809641115
                        ],
                        "iteration": 115,
                        "passed_time": 1.482238055,
                        "remaining_time": 11.29567622,
                        "test": [
                          0.0002925049802
                        ]
                      },
                      {
                        "learn": [
                          0.0002761690891
                        ],
                        "iteration": 116,
                        "passed_time": 1.495229037,
                        "remaining_time": 11.28450632,
                        "test": [
                          0.0002875331538
                        ]
                      },
                      {
                        "learn": [
                          0.0002714014867
                        ],
                        "iteration": 117,
                        "passed_time": 1.507626007,
                        "remaining_time": 11.26886558,
                        "test": [
                          0.0002827839639
                        ]
                      },
                      {
                        "learn": [
                          0.0002667807123
                        ],
                        "iteration": 118,
                        "passed_time": 1.522448373,
                        "remaining_time": 11.27123544,
                        "test": [
                          0.000278179989
                        ]
                      },
                      {
                        "learn": [
                          0.0002619156631
                        ],
                        "iteration": 119,
                        "passed_time": 1.542218322,
                        "remaining_time": 11.30960103,
                        "test": [
                          0.0002731451583
                        ]
                      },
                      {
                        "learn": [
                          0.0002577132627
                        ],
                        "iteration": 120,
                        "passed_time": 1.564378997,
                        "remaining_time": 11.36437305,
                        "test": [
                          0.0002689572
                        ]
                      },
                      {
                        "learn": [
                          0.0002531730613
                        ],
                        "iteration": 121,
                        "passed_time": 1.585811148,
                        "remaining_time": 11.41264088,
                        "test": [
                          0.0002642529989
                        ]
                      },
                      {
                        "learn": [
                          0.0002492671456
                        ],
                        "iteration": 122,
                        "passed_time": 1.608544514,
                        "remaining_time": 11.46905316,
                        "test": [
                          0.0002601876991
                        ]
                      },
                      {
                        "learn": [
                          0.0002453838856
                        ],
                        "iteration": 123,
                        "passed_time": 1.634279998,
                        "remaining_time": 11.54539741,
                        "test": [
                          0.0002563179879
                        ]
                      },
                      {
                        "learn": [
                          0.0002411790037
                        ],
                        "iteration": 124,
                        "passed_time": 1.657420109,
                        "remaining_time": 11.60194076,
                        "test": [
                          0.0002519574689
                        ]
                      },
                      {
                        "learn": [
                          0.000237705507
                        ],
                        "iteration": 125,
                        "passed_time": 1.67425366,
                        "remaining_time": 11.6134738,
                        "test": [
                          0.0002484954118
                        ]
                      },
                      {
                        "learn": [
                          0.0002342567754
                        ],
                        "iteration": 126,
                        "passed_time": 1.687811397,
                        "remaining_time": 11.60204212,
                        "test": [
                          0.0002449350889
                        ]
                      },
                      {
                        "learn": [
                          0.0002305018812
                        ],
                        "iteration": 127,
                        "passed_time": 1.702902984,
                        "remaining_time": 11.60102658,
                        "test": [
                          0.0002410315802
                        ]
                      },
                      {
                        "learn": [
                          0.0002272159829
                        ],
                        "iteration": 128,
                        "passed_time": 1.719770133,
                        "remaining_time": 11.61178128,
                        "test": [
                          0.0002377562033
                        ]
                      },
                      {
                        "learn": [
                          0.0002240691455
                        ],
                        "iteration": 129,
                        "passed_time": 1.730781278,
                        "remaining_time": 11.58292086,
                        "test": [
                          0.0002351241693
                        ]
                      },
                      {
                        "learn": [
                          0.0002206409603
                        ],
                        "iteration": 130,
                        "passed_time": 1.764375279,
                        "remaining_time": 11.7041383,
                        "test": [
                          0.0002315459799
                        ]
                      },
                      {
                        "learn": [
                          0.0002176578247
                        ],
                        "iteration": 131,
                        "passed_time": 1.79407206,
                        "remaining_time": 11.79738294,
                        "test": [
                          0.0002285675592
                        ]
                      },
                      {
                        "learn": [
                          0.0002148119387
                        ],
                        "iteration": 132,
                        "passed_time": 1.818209753,
                        "remaining_time": 11.85254027,
                        "test": [
                          0.0002255796592
                        ]
                      },
                      {
                        "learn": [
                          0.0002118655039
                        ],
                        "iteration": 133,
                        "passed_time": 1.849035365,
                        "remaining_time": 11.94973602,
                        "test": [
                          0.0002224937913
                        ]
                      },
                      {
                        "learn": [
                          0.0002087799337
                        ],
                        "iteration": 134,
                        "passed_time": 1.884105985,
                        "remaining_time": 12.07223465,
                        "test": [
                          0.0002192683164
                        ]
                      },
                      {
                        "learn": [
                          0.0002057259774
                        ],
                        "iteration": 135,
                        "passed_time": 1.902610441,
                        "remaining_time": 12.08717221,
                        "test": [
                          0.0002160777309
                        ]
                      },
                      {
                        "learn": [
                          0.0002031982888
                        ],
                        "iteration": 136,
                        "passed_time": 1.913676723,
                        "remaining_time": 12.05476651,
                        "test": [
                          0.0002134197658
                        ]
                      },
                      {
                        "learn": [
                          0.0002001958227
                        ],
                        "iteration": 137,
                        "passed_time": 1.927506812,
                        "remaining_time": 12.03993385,
                        "test": [
                          0.0002102866012
                        ]
                      },
                      {
                        "learn": [
                          0.0001978239077
                        ],
                        "iteration": 138,
                        "passed_time": 1.947507849,
                        "remaining_time": 12.06333998,
                        "test": [
                          0.000207789782
                        ]
                      },
                      {
                        "learn": [
                          0.0001954671048
                        ],
                        "iteration": 139,
                        "passed_time": 1.976655194,
                        "remaining_time": 12.14231048,
                        "test": [
                          0.0002053106556
                        ]
                      },
                      {
                        "learn": [
                          0.0001927707019
                        ],
                        "iteration": 140,
                        "passed_time": 1.990979338,
                        "remaining_time": 12.1294415,
                        "test": [
                          0.0002024907504
                        ]
                      },
                      {
                        "learn": [
                          0.0001905670918
                        ],
                        "iteration": 141,
                        "passed_time": 2.007196761,
                        "remaining_time": 12.12799169,
                        "test": [
                          0.000200169879
                        ]
                      },
                      {
                        "learn": [
                          0.0001880843673
                        ],
                        "iteration": 142,
                        "passed_time": 2.054907655,
                        "remaining_time": 12.31507595,
                        "test": [
                          0.0001975097054
                        ]
                      },
                      {
                        "learn": [
                          0.0001860290617
                        ],
                        "iteration": 143,
                        "passed_time": 2.070777141,
                        "remaining_time": 12.30961967,
                        "test": [
                          0.0001953420641
                        ]
                      },
                      {
                        "learn": [
                          0.0001835367835
                        ],
                        "iteration": 144,
                        "passed_time": 2.093754469,
                        "remaining_time": 12.34593153,
                        "test": [
                          0.0001927367555
                        ]
                      },
                      {
                        "learn": [
                          0.0001811878469
                        ],
                        "iteration": 145,
                        "passed_time": 2.105309034,
                        "remaining_time": 12.31461586,
                        "test": [
                          0.0001902771582
                        ]
                      },
                      {
                        "learn": [
                          0.0001791792795
                        ],
                        "iteration": 146,
                        "passed_time": 2.128629823,
                        "remaining_time": 12.35184517,
                        "test": [
                          0.0001882767424
                        ]
                      },
                      {
                        "learn": [
                          0.0001771839135
                        ],
                        "iteration": 147,
                        "passed_time": 2.142529249,
                        "remaining_time": 12.33401973,
                        "test": [
                          0.0001861767829
                        ]
                      },
                      {
                        "learn": [
                          0.0001748907353
                        ],
                        "iteration": 148,
                        "passed_time": 2.160052998,
                        "remaining_time": 12.33694699,
                        "test": [
                          0.0001837777208
                        ]
                      },
                      {
                        "learn": [
                          0.0001731602774
                        ],
                        "iteration": 149,
                        "passed_time": 2.205327009,
                        "remaining_time": 12.49685305,
                        "test": [
                          0.0001820548562
                        ]
                      },
                      {
                        "learn": [
                          0.0001710230589
                        ],
                        "iteration": 150,
                        "passed_time": 2.243657355,
                        "remaining_time": 12.61500063,
                        "test": [
                          0.0001798143469
                        ]
                      },
                      {
                        "learn": [
                          0.0001692008739
                        ],
                        "iteration": 151,
                        "passed_time": 2.287563006,
                        "remaining_time": 12.76219361,
                        "test": [
                          0.0001778946282
                        ]
                      },
                      {
                        "learn": [
                          0.0001672178904
                        ],
                        "iteration": 152,
                        "passed_time": 2.329867626,
                        "remaining_time": 12.89802535,
                        "test": [
                          0.0001758122127
                        ]
                      },
                      {
                        "learn": [
                          0.0001653230483
                        ],
                        "iteration": 153,
                        "passed_time": 2.389630087,
                        "remaining_time": 13.1274484,
                        "test": [
                          0.0001738198368
                        ]
                      },
                      {
                        "learn": [
                          0.0001633766911
                        ],
                        "iteration": 154,
                        "passed_time": 2.432598919,
                        "remaining_time": 13.26158766,
                        "test": [
                          0.000171778415
                        ]
                      },
                      {
                        "learn": [
                          0.0001617219426
                        ],
                        "iteration": 155,
                        "passed_time": 2.460846288,
                        "remaining_time": 13.3138094,
                        "test": [
                          0.0001701303912
                        ]
                      },
                      {
                        "learn": [
                          0.0001600453821
                        ],
                        "iteration": 156,
                        "passed_time": 2.4801115,
                        "remaining_time": 13.31677703,
                        "test": [
                          0.0001683611978
                        ]
                      },
                      {
                        "learn": [
                          0.0001584137856
                        ],
                        "iteration": 157,
                        "passed_time": 2.492240311,
                        "remaining_time": 13.28143255,
                        "test": [
                          0.0001667356064
                        ]
                      },
                      {
                        "learn": [
                          0.0001569109768
                        ],
                        "iteration": 158,
                        "passed_time": 2.515628166,
                        "remaining_time": 13.30593263,
                        "test": [
                          0.0001651446686
                        ]
                      },
                      {
                        "learn": [
                          0.0001554175107
                        ],
                        "iteration": 159,
                        "passed_time": 2.527177399,
                        "remaining_time": 13.26768134,
                        "test": [
                          0.0001635649718
                        ]
                      },
                      {
                        "learn": [
                          0.0001538447
                        ],
                        "iteration": 160,
                        "passed_time": 2.539500436,
                        "remaining_time": 13.2337942,
                        "test": [
                          0.000161904181
                        ]
                      },
                      {
                        "learn": [
                          0.0001521178527
                        ],
                        "iteration": 161,
                        "passed_time": 2.552448134,
                        "remaining_time": 13.20340454,
                        "test": [
                          0.000160091438
                        ]
                      },
                      {
                        "learn": [
                          0.0001507006666
                        ],
                        "iteration": 162,
                        "passed_time": 2.565395391,
                        "remaining_time": 13.17322664,
                        "test": [
                          0.0001585463203
                        ]
                      },
                      {
                        "learn": [
                          0.0001491195058
                        ],
                        "iteration": 163,
                        "passed_time": 2.576405354,
                        "remaining_time": 13.13338339,
                        "test": [
                          0.0001568827254
                        ]
                      },
                      {
                        "learn": [
                          0.0001477933769
                        ],
                        "iteration": 164,
                        "passed_time": 2.592234592,
                        "remaining_time": 13.11827809,
                        "test": [
                          0.0001555630359
                        ]
                      },
                      {
                        "learn": [
                          0.0001464761688
                        ],
                        "iteration": 165,
                        "passed_time": 2.660258841,
                        "remaining_time": 13.36539683,
                        "test": [
                          0.0001541682698
                        ]
                      },
                      {
                        "learn": [
                          0.0001451662935
                        ],
                        "iteration": 166,
                        "passed_time": 2.691837999,
                        "remaining_time": 13.42695241,
                        "test": [
                          0.0001528648711
                        ]
                      },
                      {
                        "learn": [
                          0.0001438649543
                        ],
                        "iteration": 167,
                        "passed_time": 2.727216138,
                        "remaining_time": 13.50621326,
                        "test": [
                          0.0001514865447
                        ]
                      },
                      {
                        "learn": [
                          0.0001425711961
                        ],
                        "iteration": 168,
                        "passed_time": 2.757652057,
                        "remaining_time": 13.55981574,
                        "test": [
                          0.0001501173252
                        ]
                      },
                      {
                        "learn": [
                          0.0001414041659
                        ],
                        "iteration": 169,
                        "passed_time": 2.805422933,
                        "remaining_time": 13.69706491,
                        "test": [
                          0.0001488762732
                        ]
                      },
                      {
                        "learn": [
                          0.0001402437612
                        ],
                        "iteration": 170,
                        "passed_time": 2.830178878,
                        "remaining_time": 13.72057479,
                        "test": [
                          0.0001477227049
                        ]
                      },
                      {
                        "learn": [
                          0.0001389724974
                        ],
                        "iteration": 171,
                        "passed_time": 2.848993536,
                        "remaining_time": 13.71492237,
                        "test": [
                          0.0001463782008
                        ]
                      },
                      {
                        "learn": [
                          0.0001378266341
                        ],
                        "iteration": 172,
                        "passed_time": 2.870616133,
                        "remaining_time": 13.7225407,
                        "test": [
                          0.0001452387397
                        ]
                      },
                      {
                        "learn": [
                          0.0001364689907
                        ],
                        "iteration": 173,
                        "passed_time": 2.883927202,
                        "remaining_time": 13.69036706,
                        "test": [
                          0.0001438069378
                        ]
                      },
                      {
                        "learn": [
                          0.0001353398524
                        ],
                        "iteration": 174,
                        "passed_time": 2.906537136,
                        "remaining_time": 13.7022465,
                        "test": [
                          0.0001426082318
                        ]
                      },
                      {
                        "learn": [
                          0.0001342578866
                        ],
                        "iteration": 175,
                        "passed_time": 2.944877517,
                        "remaining_time": 13.7873811,
                        "test": [
                          0.000141454341
                        ]
                      },
                      {
                        "learn": [
                          0.0001328137519
                        ],
                        "iteration": 176,
                        "passed_time": 2.967601143,
                        "remaining_time": 13.79850701,
                        "test": [
                          0.0001399399066
                        ]
                      },
                      {
                        "learn": [
                          0.0001316197359
                        ],
                        "iteration": 177,
                        "passed_time": 2.992834431,
                        "remaining_time": 13.82084215,
                        "test": [
                          0.0001386768688
                        ]
                      },
                      {
                        "learn": [
                          0.0001304376061
                        ],
                        "iteration": 178,
                        "passed_time": 3.017546175,
                        "remaining_time": 13.84025368,
                        "test": [
                          0.0001374271564
                        ]
                      },
                      {
                        "learn": [
                          0.0001292281306
                        ],
                        "iteration": 179,
                        "passed_time": 3.033411326,
                        "remaining_time": 13.81887382,
                        "test": [
                          0.0001361532002
                        ]
                      },
                      {
                        "learn": [
                          0.0001282626197
                        ],
                        "iteration": 180,
                        "passed_time": 3.047895873,
                        "remaining_time": 13.79130785,
                        "test": [
                          0.0001351242632
                        ]
                      },
                      {
                        "learn": [
                          0.0001273029527
                        ],
                        "iteration": 181,
                        "passed_time": 3.068306248,
                        "remaining_time": 13.79051929,
                        "test": [
                          0.0001341020014
                        ]
                      },
                      {
                        "learn": [
                          0.000126155861
                        ],
                        "iteration": 182,
                        "passed_time": 3.083196511,
                        "remaining_time": 13.76487186,
                        "test": [
                          0.0001328910494
                        ]
                      },
                      {
                        "learn": [
                          0.0001250197126
                        ],
                        "iteration": 183,
                        "passed_time": 3.09543147,
                        "remaining_time": 13.72756565,
                        "test": [
                          0.0001316919712
                        ]
                      },
                      {
                        "learn": [
                          0.0001240802446
                        ],
                        "iteration": 184,
                        "passed_time": 3.111066059,
                        "remaining_time": 13.70550723,
                        "test": [
                          0.0001307587193
                        ]
                      },
                      {
                        "learn": [
                          0.0001229617022
                        ],
                        "iteration": 185,
                        "passed_time": 3.139086648,
                        "remaining_time": 13.73772329,
                        "test": [
                          0.0001295787111
                        ]
                      },
                      {
                        "learn": [
                          0.000122035448
                        ],
                        "iteration": 186,
                        "passed_time": 3.157609748,
                        "remaining_time": 13.72800388,
                        "test": [
                          0.0001285945396
                        ]
                      },
                      {
                        "learn": [
                          0.0001209341269
                        ],
                        "iteration": 187,
                        "passed_time": 3.169549737,
                        "remaining_time": 13.68975738,
                        "test": [
                          0.0001274337379
                        ]
                      },
                      {
                        "learn": [
                          0.0001199276719
                        ],
                        "iteration": 188,
                        "passed_time": 3.187192324,
                        "remaining_time": 13.67625912,
                        "test": [
                          0.0001263391416
                        ]
                      },
                      {
                        "learn": [
                          0.0001191374141
                        ],
                        "iteration": 189,
                        "passed_time": 3.212212812,
                        "remaining_time": 13.69417041,
                        "test": [
                          0.0001255545663
                        ]
                      },
                      {
                        "learn": [
                          0.0001180608579
                        ],
                        "iteration": 190,
                        "passed_time": 3.229738412,
                        "remaining_time": 13.67988678,
                        "test": [
                          0.0001244209614
                        ]
                      },
                      {
                        "learn": [
                          0.0001169935204
                        ],
                        "iteration": 191,
                        "passed_time": 3.246093157,
                        "remaining_time": 13.66064204,
                        "test": [
                          0.0001232974808
                        ]
                      },
                      {
                        "learn": [
                          0.0001161026766
                        ],
                        "iteration": 192,
                        "passed_time": 3.283695805,
                        "remaining_time": 13.7302721,
                        "test": [
                          0.0001223534097
                        ]
                      },
                      {
                        "learn": [
                          0.0001152883486
                        ],
                        "iteration": 193,
                        "passed_time": 3.300699734,
                        "remaining_time": 13.71321642,
                        "test": [
                          0.0001214846013
                        ]
                      },
                      {
                        "learn": [
                          0.0001144081627
                        ],
                        "iteration": 194,
                        "passed_time": 3.326373531,
                        "remaining_time": 13.73195227,
                        "test": [
                          0.0001205524909
                        ]
                      },
                      {
                        "learn": [
                          0.0001133705903
                        ],
                        "iteration": 195,
                        "passed_time": 3.360322305,
                        "remaining_time": 13.78417925,
                        "test": [
                          0.0001194620013
                        ]
                      },
                      {
                        "learn": [
                          0.0001125793523
                        ],
                        "iteration": 196,
                        "passed_time": 3.395081158,
                        "remaining_time": 13.83883335,
                        "test": [
                          0.0001186187271
                        ]
                      },
                      {
                        "learn": [
                          0.0001117146134
                        ],
                        "iteration": 197,
                        "passed_time": 3.416004714,
                        "remaining_time": 13.83654435,
                        "test": [
                          0.0001177593607
                        ]
                      },
                      {
                        "learn": [
                          0.000110973017
                        ],
                        "iteration": 198,
                        "passed_time": 3.434937397,
                        "remaining_time": 13.82605455,
                        "test": [
                          0.0001170227396
                        ]
                      },
                      {
                        "learn": [
                          0.0001100821236
                        ],
                        "iteration": 199,
                        "passed_time": 3.457052153,
                        "remaining_time": 13.82820861,
                        "test": [
                          0.0001160808274
                        ]
                      },
                      {
                        "learn": [
                          0.0001091989972
                        ],
                        "iteration": 200,
                        "passed_time": 3.47269923,
                        "remaining_time": 13.80441137,
                        "test": [
                          0.0001151474514
                        ]
                      },
                      {
                        "learn": [
                          0.0001084728726
                        ],
                        "iteration": 201,
                        "passed_time": 3.506173431,
                        "remaining_time": 13.85112078,
                        "test": [
                          0.0001143740551
                        ]
                      },
                      {
                        "learn": [
                          0.0001077502346
                        ],
                        "iteration": 202,
                        "passed_time": 3.525695892,
                        "remaining_time": 13.84226417,
                        "test": [
                          0.0001136562806
                        ]
                      },
                      {
                        "learn": [
                          0.0001068850118
                        ],
                        "iteration": 203,
                        "passed_time": 3.550788976,
                        "remaining_time": 13.85503934,
                        "test": [
                          0.0001127421236
                        ]
                      },
                      {
                        "learn": [
                          0.0001061713566
                        ],
                        "iteration": 204,
                        "passed_time": 3.612972802,
                        "remaining_time": 14.01128477,
                        "test": [
                          0.0001120332079
                        ]
                      },
                      {
                        "learn": [
                          0.0001055803476
                        ],
                        "iteration": 205,
                        "passed_time": 3.668332102,
                        "remaining_time": 14.13910529,
                        "test": [
                          0.0001114463429
                        ]
                      },
                      {
                        "learn": [
                          0.0001048742236
                        ],
                        "iteration": 206,
                        "passed_time": 3.743825621,
                        "remaining_time": 14.34228849,
                        "test": [
                          0.000110744152
                        ]
                      },
                      {
                        "learn": [
                          0.0001041720576
                        ],
                        "iteration": 207,
                        "passed_time": 3.849207799,
                        "remaining_time": 14.65659893,
                        "test": [
                          0.0001099965009
                        ]
                      },
                      {
                        "learn": [
                          0.0001035923205
                        ],
                        "iteration": 208,
                        "passed_time": 3.928283933,
                        "remaining_time": 14.86733297,
                        "test": [
                          0.000109372141
                        ]
                      },
                      {
                        "learn": [
                          0.000102758147
                        ],
                        "iteration": 209,
                        "passed_time": 4.000782505,
                        "remaining_time": 15.05056276,
                        "test": [
                          0.0001084916945
                        ]
                      },
                      {
                        "learn": [
                          0.0001020676687
                        ],
                        "iteration": 210,
                        "passed_time": 4.072755565,
                        "remaining_time": 15.22940351,
                        "test": [
                          0.0001077575176
                        ]
                      },
                      {
                        "learn": [
                          0.0001014994704
                        ],
                        "iteration": 211,
                        "passed_time": 4.153819709,
                        "remaining_time": 15.43966948,
                        "test": [
                          0.000107146446
                        ]
                      },
                      {
                        "learn": [
                          0.0001009348082
                        ],
                        "iteration": 212,
                        "passed_time": 4.209805156,
                        "remaining_time": 15.5545383,
                        "test": [
                          0.0001065387615
                        ]
                      },
                      {
                        "learn": [
                          0.0001001349285
                        ],
                        "iteration": 213,
                        "passed_time": 4.248824423,
                        "remaining_time": 15.60549531,
                        "test": [
                          0.0001057432553
                        ]
                      },
                      {
                        "learn": [
                          0.00009944377394
                        ],
                        "iteration": 214,
                        "passed_time": 4.303626619,
                        "remaining_time": 15.71324138,
                        "test": [
                          0.0001050080983
                        ]
                      },
                      {
                        "learn": [
                          0.00009888933536
                        ],
                        "iteration": 215,
                        "passed_time": 4.357935789,
                        "remaining_time": 15.81769286,
                        "test": [
                          0.0001044577976
                        ]
                      },
                      {
                        "learn": [
                          0.00009820849125
                        ],
                        "iteration": 216,
                        "passed_time": 4.396020649,
                        "remaining_time": 15.86213902,
                        "test": [
                          0.0001037336954
                        ]
                      },
                      {
                        "learn": [
                          0.00009766169556
                        ],
                        "iteration": 217,
                        "passed_time": 4.46074885,
                        "remaining_time": 16.00140184,
                        "test": [
                          0.000103146148
                        ]
                      },
                      {
                        "learn": [
                          0.00009716935549
                        ],
                        "iteration": 218,
                        "passed_time": 4.56386365,
                        "remaining_time": 16.27569639,
                        "test": [
                          0.00010281697
                        ]
                      },
                      {
                        "learn": [
                          0.00009638960043
                        ],
                        "iteration": 219,
                        "passed_time": 4.646592885,
                        "remaining_time": 16.47428387,
                        "test": [
                          0.0001020405277
                        ]
                      },
                      {
                        "learn": [
                          0.00009587417038
                        ],
                        "iteration": 220,
                        "passed_time": 4.717566504,
                        "remaining_time": 16.62888827,
                        "test": [
                          0.0001014613738
                        ]
                      },
                      {
                        "learn": [
                          0.00009521409609
                        ],
                        "iteration": 221,
                        "passed_time": 4.875114563,
                        "remaining_time": 17.08486094,
                        "test": [
                          0.0001007590092
                        ]
                      },
                      {
                        "learn": [
                          0.00009455975396
                        ],
                        "iteration": 222,
                        "passed_time": 4.957858604,
                        "remaining_time": 17.27469119,
                        "test": [
                          0.0001000627118
                        ]
                      },
                      {
                        "learn": [
                          0.00009403119079
                        ],
                        "iteration": 223,
                        "passed_time": 5.028812922,
                        "remaining_time": 17.42124477,
                        "test": [
                          0.000099537418
                        ]
                      },
                      {
                        "learn": [
                          0.00009338577572
                        ],
                        "iteration": 224,
                        "passed_time": 5.136730441,
                        "remaining_time": 17.69318263,
                        "test": [
                          0.00009885115811
                        ]
                      },
                      {
                        "learn": [
                          0.00009286398073
                        ],
                        "iteration": 225,
                        "passed_time": 5.301130205,
                        "remaining_time": 18.15519814,
                        "test": [
                          0.00009829112384
                        ]
                      },
                      {
                        "learn": [
                          0.00009234454933
                        ],
                        "iteration": 226,
                        "passed_time": 5.405219976,
                        "remaining_time": 18.40632177,
                        "test": [
                          0.000097903613
                        ]
                      },
                      {
                        "learn": [
                          0.00009171140507
                        ],
                        "iteration": 227,
                        "passed_time": 5.489922807,
                        "remaining_time": 18.58868599,
                        "test": [
                          0.00009723004577
                        ]
                      },
                      {
                        "learn": [
                          0.00009119853712
                        ],
                        "iteration": 228,
                        "passed_time": 5.520189197,
                        "remaining_time": 18.58544048,
                        "test": [
                          0.00009667963335
                        ]
                      },
                      {
                        "learn": [
                          0.00009068809481
                        ],
                        "iteration": 229,
                        "passed_time": 5.581483876,
                        "remaining_time": 18.68583732,
                        "test": [
                          0.00009613179545
                        ]
                      },
                      {
                        "learn": [
                          0.00009006689257
                        ],
                        "iteration": 230,
                        "passed_time": 5.676185871,
                        "remaining_time": 18.89604734,
                        "test": [
                          0.00009547116903
                        ]
                      },
                      {
                        "learn": [
                          0.00008956233751
                        ],
                        "iteration": 231,
                        "passed_time": 5.710675506,
                        "remaining_time": 18.90430512,
                        "test": [
                          0.00009493050875
                        ]
                      },
                      {
                        "learn": [
                          0.00008906030114
                        ],
                        "iteration": 232,
                        "passed_time": 5.760150774,
                        "remaining_time": 18.96152637,
                        "test": [
                          0.00009439221206
                        ]
                      },
                      {
                        "learn": [
                          0.00008856922661
                        ],
                        "iteration": 233,
                        "passed_time": 5.798507529,
                        "remaining_time": 18.98143918,
                        "test": [
                          0.00009386318982
                        ]
                      },
                      {
                        "learn": [
                          0.0000880722276
                        ],
                        "iteration": 234,
                        "passed_time": 5.838109037,
                        "remaining_time": 19.00490814,
                        "test": [
                          0.00009336894522
                        ]
                      },
                      {
                        "learn": [
                          0.00008757809467
                        ],
                        "iteration": 235,
                        "passed_time": 5.912732776,
                        "remaining_time": 19.14121966,
                        "test": [
                          0.00009283987956
                        ]
                      },
                      {
                        "learn": [
                          0.00008697890297
                        ],
                        "iteration": 236,
                        "passed_time": 6.010273934,
                        "remaining_time": 19.34953169,
                        "test": [
                          0.00009220373273
                        ]
                      },
                      {
                        "learn": [
                          0.00008650321349
                        ],
                        "iteration": 237,
                        "passed_time": 6.096146731,
                        "remaining_time": 19.51791516,
                        "test": [
                          0.00009169134867
                        ]
                      },
                      {
                        "learn": [
                          0.00008591286819
                        ],
                        "iteration": 238,
                        "passed_time": 6.145590265,
                        "remaining_time": 19.56817653,
                        "test": [
                          0.00009106486713
                        ]
                      },
                      {
                        "learn": [
                          0.00008532681582
                        ],
                        "iteration": 239,
                        "passed_time": 6.211308712,
                        "remaining_time": 19.66914425,
                        "test": [
                          0.0000904431624
                        ]
                      },
                      {
                        "learn": [
                          0.00008486388104
                        ],
                        "iteration": 240,
                        "passed_time": 6.278234631,
                        "remaining_time": 19.77253147,
                        "test": [
                          0.00008994503432
                        ]
                      },
                      {
                        "learn": [
                          0.00008438676472
                        ],
                        "iteration": 241,
                        "passed_time": 6.395598072,
                        "remaining_time": 20.03249313,
                        "test": [
                          0.00008943549774
                        ]
                      },
                      {
                        "learn": [
                          0.00008391108764
                        ],
                        "iteration": 242,
                        "passed_time": 6.481587119,
                        "remaining_time": 20.1916109,
                        "test": [
                          0.00008896241379
                        ]
                      },
                      {
                        "learn": [
                          0.00008333884459
                        ],
                        "iteration": 243,
                        "passed_time": 6.567989525,
                        "remaining_time": 20.35000033,
                        "test": [
                          0.00008835601965
                        ]
                      },
                      {
                        "learn": [
                          0.00008288963848
                        ],
                        "iteration": 244,
                        "passed_time": 6.608050335,
                        "remaining_time": 20.36358369,
                        "test": [
                          0.0000878727183
                        ]
                      },
                      {
                        "learn": [
                          0.0000825408384
                        ],
                        "iteration": 245,
                        "passed_time": 6.649661053,
                        "remaining_time": 20.38148144,
                        "test": [
                          0.00008749298063
                        ]
                      },
                      {
                        "learn": [
                          0.00008207467772
                        ],
                        "iteration": 246,
                        "passed_time": 6.693093313,
                        "remaining_time": 20.40445047,
                        "test": [
                          0.00008702939446
                        ]
                      },
                      {
                        "learn": [
                          0.0000815155988
                        ],
                        "iteration": 247,
                        "passed_time": 6.73396831,
                        "remaining_time": 20.41912971,
                        "test": [
                          0.00008643734937
                        ]
                      },
                      {
                        "learn": [
                          0.00008107915359
                        ],
                        "iteration": 248,
                        "passed_time": 6.774146308,
                        "remaining_time": 20.43126055,
                        "test": [
                          0.00008596833501
                        ]
                      },
                      {
                        "learn": [
                          0.00008064651122
                        ],
                        "iteration": 249,
                        "passed_time": 6.815732145,
                        "remaining_time": 20.44719643,
                        "test": [
                          0.00008550335922
                        ]
                      },
                      {
                        "learn": [
                          0.00008021344079
                        ],
                        "iteration": 250,
                        "passed_time": 6.879706738,
                        "remaining_time": 20.52948345,
                        "test": [
                          0.00008504883038
                        ]
                      },
                      {
                        "learn": [
                          0.00007978308757
                        ],
                        "iteration": 251,
                        "passed_time": 6.924463959,
                        "remaining_time": 20.55356763,
                        "test": [
                          0.00008459622467
                        ]
                      },
                      {
                        "learn": [
                          0.00007944851245
                        ],
                        "iteration": 252,
                        "passed_time": 6.969330622,
                        "remaining_time": 20.57743073,
                        "test": [
                          0.00008426407518
                        ]
                      },
                      {
                        "learn": [
                          0.00007911595352
                        ],
                        "iteration": 253,
                        "passed_time": 7.010733859,
                        "remaining_time": 20.59058055,
                        "test": [
                          0.0000839338054
                        ]
                      },
                      {
                        "learn": [
                          0.00007866616427
                        ],
                        "iteration": 254,
                        "passed_time": 7.068395988,
                        "remaining_time": 20.65080396,
                        "test": [
                          0.00008348607575
                        ]
                      },
                      {
                        "learn": [
                          0.00007821844083
                        ],
                        "iteration": 255,
                        "passed_time": 7.106796844,
                        "remaining_time": 20.65412833,
                        "test": [
                          0.00008300951776
                        ]
                      },
                      {
                        "learn": [
                          0.00007800992383
                        ],
                        "iteration": 256,
                        "passed_time": 7.141730863,
                        "remaining_time": 20.64710518,
                        "test": [
                          0.00008289952709
                        ]
                      },
                      {
                        "learn": [
                          0.00007747770671
                        ],
                        "iteration": 257,
                        "passed_time": 7.189266014,
                        "remaining_time": 20.67610613,
                        "test": [
                          0.00008233575822
                        ]
                      },
                      {
                        "learn": [
                          0.00007703532461
                        ],
                        "iteration": 258,
                        "passed_time": 7.207767465,
                        "remaining_time": 20.62145055,
                        "test": [
                          0.00008189511934
                        ]
                      },
                      {
                        "learn": [
                          0.00007674642695
                        ],
                        "iteration": 259,
                        "passed_time": 7.223662693,
                        "remaining_time": 20.55965536,
                        "test": [
                          0.00008157522206
                        ]
                      },
                      {
                        "learn": [
                          0.00007622283911
                        ],
                        "iteration": 260,
                        "passed_time": 7.236302113,
                        "remaining_time": 20.48899334,
                        "test": [
                          0.00008102114949
                        ]
                      },
                      {
                        "learn": [
                          0.00007570247095
                        ],
                        "iteration": 261,
                        "passed_time": 7.260635487,
                        "remaining_time": 20.4517137,
                        "test": [
                          0.00008047085494
                        ]
                      },
                      {
                        "learn": [
                          0.00007550605727
                        ],
                        "iteration": 262,
                        "passed_time": 7.294357667,
                        "remaining_time": 20.44084259,
                        "test": [
                          0.0000802756944
                        ]
                      },
                      {
                        "learn": [
                          0.00007499073889
                        ],
                        "iteration": 263,
                        "passed_time": 7.333320259,
                        "remaining_time": 20.444408,
                        "test": [
                          0.00007973074119
                        ]
                      },
                      {
                        "learn": [
                          0.00007447866501
                        ],
                        "iteration": 264,
                        "passed_time": 7.372711452,
                        "remaining_time": 20.4488412,
                        "test": [
                          0.00007918926823
                        ]
                      },
                      {
                        "learn": [
                          0.00007428787183
                        ],
                        "iteration": 265,
                        "passed_time": 7.411122656,
                        "remaining_time": 20.45024071,
                        "test": [
                          0.00007899984606
                        ]
                      },
                      {
                        "learn": [
                          0.00007378070504
                        ],
                        "iteration": 266,
                        "passed_time": 7.448417336,
                        "remaining_time": 20.44827681,
                        "test": [
                          0.00007846395638
                        ]
                      },
                      {
                        "learn": [
                          0.00007351421496
                        ],
                        "iteration": 267,
                        "passed_time": 7.48098128,
                        "remaining_time": 20.43312797,
                        "test": [
                          0.00007816884267
                        ]
                      },
                      {
                        "learn": [
                          0.0000730911138
                        ],
                        "iteration": 268,
                        "passed_time": 7.527964823,
                        "remaining_time": 20.45703452,
                        "test": [
                          0.00007774680853
                        ]
                      },
                      {
                        "learn": [
                          0.00007263166546
                        ],
                        "iteration": 269,
                        "passed_time": 7.557092803,
                        "remaining_time": 20.4321398,
                        "test": [
                          0.00007724623622
                        ]
                      },
                      {
                        "learn": [
                          0.00007244951396
                        ],
                        "iteration": 270,
                        "passed_time": 7.585454267,
                        "remaining_time": 20.40515188,
                        "test": [
                          0.00007706518276
                        ]
                      },
                      {
                        "learn": [
                          0.00007195418373
                        ],
                        "iteration": 271,
                        "passed_time": 7.604770055,
                        "remaining_time": 20.35394338,
                        "test": [
                          0.00007654215945
                        ]
                      },
                      {
                        "learn": [
                          0.00007169928827
                        ],
                        "iteration": 272,
                        "passed_time": 7.625186122,
                        "remaining_time": 20.30589857,
                        "test": [
                          0.00007626013543
                        ]
                      },
                      {
                        "learn": [
                          0.00007128448758
                        ],
                        "iteration": 273,
                        "passed_time": 7.639252049,
                        "remaining_time": 20.24122988,
                        "test": [
                          0.00007582021618
                        ]
                      },
                      {
                        "learn": [
                          0.0000709899384
                        ],
                        "iteration": 274,
                        "passed_time": 7.651236867,
                        "remaining_time": 20.17144265,
                        "test": [
                          0.00007550098269
                        ]
                      },
                      {
                        "learn": [
                          0.00007069648727
                        ],
                        "iteration": 275,
                        "passed_time": 7.668808122,
                        "remaining_time": 20.11672855,
                        "test": [
                          0.00007520869163
                        ]
                      },
                      {
                        "learn": [
                          0.00007033077604
                        ],
                        "iteration": 276,
                        "passed_time": 7.703073709,
                        "remaining_time": 20.10585665,
                        "test": [
                          0.00007481619927
                        ]
                      },
                      {
                        "learn": [
                          0.00006996749045
                        ],
                        "iteration": 277,
                        "passed_time": 7.717194867,
                        "remaining_time": 20.0424989,
                        "test": [
                          0.00007442691418
                        ]
                      },
                      {
                        "learn": [
                          0.00006956016516
                        ],
                        "iteration": 278,
                        "passed_time": 7.746845066,
                        "remaining_time": 20.0196247,
                        "test": [
                          0.00007399565522
                        ]
                      },
                      {
                        "learn": [
                          0.00006935720043
                        ],
                        "iteration": 279,
                        "passed_time": 7.765794981,
                        "remaining_time": 19.96918709,
                        "test": [
                          0.00007375482963
                        ]
                      },
                      {
                        "learn": [
                          0.00006895249308
                        ],
                        "iteration": 280,
                        "passed_time": 7.779677054,
                        "remaining_time": 19.90600641,
                        "test": [
                          0.00007332679036
                        ]
                      },
                      {
                        "learn": [
                          0.00006878688671
                        ],
                        "iteration": 281,
                        "passed_time": 7.792740105,
                        "remaining_time": 19.84109005,
                        "test": [
                          0.00007313798235
                        ]
                      },
                      {
                        "learn": [
                          0.00006838466082
                        ],
                        "iteration": 282,
                        "passed_time": 7.816022368,
                        "remaining_time": 19.80243123,
                        "test": [
                          0.00007271288982
                        ]
                      },
                      {
                        "learn": [
                          0.00006822121332
                        ],
                        "iteration": 283,
                        "passed_time": 7.864523788,
                        "remaining_time": 19.82746138,
                        "test": [
                          0.00007262669014
                        ]
                      },
                      {
                        "learn": [
                          0.00006782111528
                        ],
                        "iteration": 284,
                        "passed_time": 7.894032361,
                        "remaining_time": 19.8043268,
                        "test": [
                          0.00007230354834
                        ]
                      },
                      {
                        "learn": [
                          0.00006759104681
                        ],
                        "iteration": 285,
                        "passed_time": 7.91703154,
                        "remaining_time": 19.76489692,
                        "test": [
                          0.00007204790224
                        ]
                      },
                      {
                        "learn": [
                          0.00006712538863
                        ],
                        "iteration": 286,
                        "passed_time": 7.93562944,
                        "remaining_time": 19.71464735,
                        "test": [
                          0.00007155701382
                        ]
                      },
                      {
                        "learn": [
                          0.00006689997909
                        ],
                        "iteration": 287,
                        "passed_time": 7.958465424,
                        "remaining_time": 19.67509508,
                        "test": [
                          0.00007130654775
                        ]
                      },
                      {
                        "learn": [
                          0.00006650560082
                        ],
                        "iteration": 288,
                        "passed_time": 7.976635931,
                        "remaining_time": 19.62418044,
                        "test": [
                          0.00007091306901
                        ]
                      },
                      {
                        "learn": [
                          0.00006635027389
                        ],
                        "iteration": 289,
                        "passed_time": 7.989646946,
                        "remaining_time": 19.56085976,
                        "test": [
                          0.00007075822597
                        ]
                      },
                      {
                        "learn": [
                          0.0000658920911
                        ],
                        "iteration": 290,
                        "passed_time": 8.012995594,
                        "remaining_time": 19.52307174,
                        "test": [
                          0.00007027564423
                        ]
                      },
                      {
                        "learn": [
                          0.00006567398327
                        ],
                        "iteration": 291,
                        "passed_time": 8.045680878,
                        "remaining_time": 19.50802076,
                        "test": [
                          0.00007003321189
                        ]
                      },
                      {
                        "learn": [
                          0.00006540393849
                        ],
                        "iteration": 292,
                        "passed_time": 8.084288464,
                        "remaining_time": 19.50713974,
                        "test": [
                          0.0000697413737
                        ]
                      },
                      {
                        "learn": [
                          0.00006507043661
                        ],
                        "iteration": 293,
                        "passed_time": 8.118579794,
                        "remaining_time": 19.49563719,
                        "test": [
                          0.00006938405602
                        ]
                      },
                      {
                        "learn": [
                          0.00006480264996
                        ],
                        "iteration": 294,
                        "passed_time": 8.171797582,
                        "remaining_time": 19.52921117,
                        "test": [
                          0.00006911687112
                        ]
                      },
                      {
                        "learn": [
                          0.00006453607923
                        ],
                        "iteration": 295,
                        "passed_time": 8.186490795,
                        "remaining_time": 19.4705727,
                        "test": [
                          0.00006882918938
                        ]
                      },
                      {
                        "learn": [
                          0.0000642074224
                        ],
                        "iteration": 296,
                        "passed_time": 8.204198973,
                        "remaining_time": 19.41936659,
                        "test": [
                          0.0000684769897
                        ]
                      },
                      {
                        "learn": [
                          0.00006394307257
                        ],
                        "iteration": 297,
                        "passed_time": 8.228082673,
                        "remaining_time": 19.38293301,
                        "test": [
                          0.00006821337191
                        ]
                      },
                      {
                        "learn": [
                          0.00006361780293
                        ],
                        "iteration": 298,
                        "passed_time": 8.312053396,
                        "remaining_time": 19.48745629,
                        "test": [
                          0.0000678648634
                        ]
                      },
                      {
                        "learn": [
                          0.0000632944254
                        ],
                        "iteration": 299,
                        "passed_time": 8.368902697,
                        "remaining_time": 19.52743963,
                        "test": [
                          0.00006751881774
                        ]
                      },
                      {
                        "learn": [
                          0.00006320120319
                        ],
                        "iteration": 300,
                        "passed_time": 8.412070522,
                        "remaining_time": 19.53500762,
                        "test": [
                          0.00006739573117
                        ]
                      },
                      {
                        "learn": [
                          0.00006294116489
                        ],
                        "iteration": 301,
                        "passed_time": 8.453381326,
                        "remaining_time": 19.53794757,
                        "test": [
                          0.00006711527668
                        ]
                      },
                      {
                        "learn": [
                          0.00006268208817
                        ],
                        "iteration": 302,
                        "passed_time": 8.500428713,
                        "remaining_time": 19.55379146,
                        "test": [
                          0.00006685694439
                        ]
                      },
                      {
                        "learn": [
                          0.00006236412022
                        ],
                        "iteration": 303,
                        "passed_time": 8.543841022,
                        "remaining_time": 19.56089918,
                        "test": [
                          0.0000665166185
                        ]
                      },
                      {
                        "learn": [
                          0.0000621222276
                        ],
                        "iteration": 304,
                        "passed_time": 8.585587676,
                        "remaining_time": 19.56388011,
                        "test": [
                          0.00006626041406
                        ]
                      },
                      {
                        "learn": [
                          0.00006186638918
                        ],
                        "iteration": 305,
                        "passed_time": 8.62536621,
                        "remaining_time": 19.56210506,
                        "test": [
                          0.00006598468675
                        ]
                      },
                      {
                        "learn": [
                          0.00006167153881
                        ],
                        "iteration": 306,
                        "passed_time": 8.652389876,
                        "remaining_time": 19.5312905,
                        "test": [
                          0.00006576830352
                        ]
                      },
                      {
                        "learn": [
                          0.00006141751186
                        ],
                        "iteration": 307,
                        "passed_time": 8.671651186,
                        "remaining_time": 19.48306046,
                        "test": [
                          0.00006557836645
                        ]
                      },
                      {
                        "learn": [
                          0.0000611645085
                        ],
                        "iteration": 308,
                        "passed_time": 8.696307254,
                        "remaining_time": 19.44708192,
                        "test": [
                          0.00006532582216
                        ]
                      },
                      {
                        "learn": [
                          0.00006085484103
                        ],
                        "iteration": 309,
                        "passed_time": 8.734767221,
                        "remaining_time": 19.44190123,
                        "test": [
                          0.00006499437369
                        ]
                      },
                      {
                        "learn": [
                          0.00006054694781
                        ],
                        "iteration": 310,
                        "passed_time": 8.76842132,
                        "remaining_time": 19.42585945,
                        "test": [
                          0.00006466515232
                        ]
                      },
                      {
                        "learn": [
                          0.00006035963487
                        ],
                        "iteration": 311,
                        "passed_time": 8.782984146,
                        "remaining_time": 19.36760606,
                        "test": [
                          0.00006445668495
                        ]
                      },
                      {
                        "learn": [
                          0.00006011116018
                        ],
                        "iteration": 312,
                        "passed_time": 8.808913981,
                        "remaining_time": 19.33458117,
                        "test": [
                          0.00006418925191
                        ]
                      },
                      {
                        "learn": [
                          0.00005986362845
                        ],
                        "iteration": 313,
                        "passed_time": 8.873083451,
                        "remaining_time": 19.3851441,
                        "test": [
                          0.00006392307201
                        ]
                      },
                      {
                        "learn": [
                          0.00005961678531
                        ],
                        "iteration": 314,
                        "passed_time": 8.932618733,
                        "remaining_time": 19.42490105,
                        "test": [
                          0.00006365757451
                        ]
                      },
                      {
                        "learn": [
                          0.00005931579054
                        ],
                        "iteration": 315,
                        "passed_time": 8.97624423,
                        "remaining_time": 19.42959194,
                        "test": [
                          0.00006333571067
                        ]
                      },
                      {
                        "learn": [
                          0.00005918963317
                        ],
                        "iteration": 316,
                        "passed_time": 9.017299255,
                        "remaining_time": 19.42843972,
                        "test": [
                          0.0000632100744
                        ]
                      },
                      {
                        "learn": [
                          0.00005894530872
                        ],
                        "iteration": 317,
                        "passed_time": 9.057854708,
                        "remaining_time": 19.42596513,
                        "test": [
                          0.00006296641994
                        ]
                      },
                      {
                        "learn": [
                          0.00005870216916
                        ],
                        "iteration": 318,
                        "passed_time": 9.102189523,
                        "remaining_time": 19.43131995,
                        "test": [
                          0.00006270488657
                        ]
                      },
                      {
                        "learn": [
                          0.00005852477586
                        ],
                        "iteration": 319,
                        "passed_time": 9.142083015,
                        "remaining_time": 19.42692641,
                        "test": [
                          0.00006250723216
                        ]
                      },
                      {
                        "learn": [
                          0.00005823017705
                        ],
                        "iteration": 320,
                        "passed_time": 9.182475979,
                        "remaining_time": 19.42336819,
                        "test": [
                          0.00006219280029
                        ]
                      },
                      {
                        "learn": [
                          0.00005800522039
                        ],
                        "iteration": 321,
                        "passed_time": 9.226095877,
                        "remaining_time": 19.42637579,
                        "test": [
                          0.00006201758447
                        ]
                      },
                      {
                        "learn": [
                          0.00005783199594
                        ],
                        "iteration": 322,
                        "passed_time": 9.263379531,
                        "remaining_time": 19.41581406,
                        "test": [
                          0.00006182438428
                        ]
                      },
                      {
                        "learn": [
                          0.00005754132404
                        ],
                        "iteration": 323,
                        "passed_time": 9.306708402,
                        "remaining_time": 19.41770025,
                        "test": [
                          0.00006151409024
                        ]
                      },
                      {
                        "learn": [
                          0.00005725220305
                        ],
                        "iteration": 324,
                        "passed_time": 9.349568918,
                        "remaining_time": 19.41833544,
                        "test": [
                          0.00006120547119
                        ]
                      },
                      {
                        "learn": [
                          0.00005713450745
                        ],
                        "iteration": 325,
                        "passed_time": 9.38798942,
                        "remaining_time": 19.40952414,
                        "test": [
                          0.00006107037436
                        ]
                      },
                      {
                        "learn": [
                          0.00005689828496
                        ],
                        "iteration": 326,
                        "passed_time": 9.440406676,
                        "remaining_time": 19.42933851,
                        "test": [
                          0.0000608345489
                        ]
                      },
                      {
                        "learn": [
                          0.0000566629558
                        ],
                        "iteration": 327,
                        "passed_time": 9.489888758,
                        "remaining_time": 19.44269892,
                        "test": [
                          0.00006059938724
                        ]
                      },
                      {
                        "learn": [
                          0.00005654721435
                        ],
                        "iteration": 328,
                        "passed_time": 9.535509131,
                        "remaining_time": 19.4478013,
                        "test": [
                          0.00006048381329
                        ]
                      },
                      {
                        "learn": [
                          0.00005614451078
                        ],
                        "iteration": 329,
                        "passed_time": 9.590052172,
                        "remaining_time": 19.47071199,
                        "test": [
                          0.00006006199628
                        ]
                      },
                      {
                        "learn": [
                          0.00005598106328
                        ],
                        "iteration": 330,
                        "passed_time": 9.649485343,
                        "remaining_time": 19.50303835,
                        "test": [
                          0.00005987983237
                        ]
                      },
                      {
                        "learn": [
                          0.00005586809486
                        ],
                        "iteration": 331,
                        "passed_time": 9.71003496,
                        "remaining_time": 19.53705829,
                        "test": [
                          0.00005974986596
                        ]
                      },
                      {
                        "learn": [
                          0.00005546916931
                        ],
                        "iteration": 332,
                        "passed_time": 9.748477625,
                        "remaining_time": 19.52622996,
                        "test": [
                          0.00005933240391
                        ]
                      },
                      {
                        "learn": [
                          0.00005535765874
                        ],
                        "iteration": 333,
                        "passed_time": 9.795437307,
                        "remaining_time": 19.5322193,
                        "test": [
                          0.00005922089335
                        ]
                      },
                      {
                        "learn": [
                          0.00005519882055
                        ],
                        "iteration": 334,
                        "passed_time": 9.836112916,
                        "remaining_time": 19.52541818,
                        "test": [
                          0.00005904396532
                        ]
                      },
                      {
                        "learn": [
                          0.00005492237982
                        ],
                        "iteration": 335,
                        "passed_time": 9.877520797,
                        "remaining_time": 19.51986253,
                        "test": [
                          0.00005874916179
                        ]
                      },
                      {
                        "learn": [
                          0.00005464723565
                        ],
                        "iteration": 336,
                        "passed_time": 9.945507341,
                        "remaining_time": 19.56638388,
                        "test": [
                          0.00005845605186
                        ]
                      },
                      {
                        "learn": [
                          0.00005455091782
                        ],
                        "iteration": 337,
                        "passed_time": 9.985994221,
                        "remaining_time": 19.55836738,
                        "test": [
                          0.00005834811459
                        ]
                      },
                      {
                        "learn": [
                          0.0000542779077
                        ],
                        "iteration": 338,
                        "passed_time": 10.02687617,
                        "remaining_time": 19.55092964,
                        "test": [
                          0.00005805730621
                        ]
                      },
                      {
                        "learn": [
                          0.00005405233067
                        ],
                        "iteration": 339,
                        "passed_time": 10.06722588,
                        "remaining_time": 19.54226199,
                        "test": [
                          0.00005783182224
                        ]
                      },
                      {
                        "learn": [
                          0.00005397492156
                        ],
                        "iteration": 340,
                        "passed_time": 10.1086692,
                        "remaining_time": 19.535522,
                        "test": [
                          0.00005781741116
                        ]
                      },
                      {
                        "learn": [
                          0.00005375046119
                        ],
                        "iteration": 341,
                        "passed_time": 10.15862847,
                        "remaining_time": 19.54496354,
                        "test": [
                          0.00005757724316
                        ]
                      },
                      {
                        "learn": [
                          0.00005353804209
                        ],
                        "iteration": 342,
                        "passed_time": 10.20220069,
                        "remaining_time": 19.54182464,
                        "test": [
                          0.00005735330389
                        ]
                      },
                      {
                        "learn": [
                          0.000053433796
                        ],
                        "iteration": 343,
                        "passed_time": 10.24343609,
                        "remaining_time": 19.53399441,
                        "test": [
                          0.00005723321989
                        ]
                      },
                      {
                        "learn": [
                          0.0000533300462
                        ],
                        "iteration": 344,
                        "passed_time": 10.29792915,
                        "remaining_time": 19.55114084,
                        "test": [
                          0.00005711387412
                        ]
                      },
                      {
                        "learn": [
                          0.00005296749884
                        ],
                        "iteration": 345,
                        "passed_time": 10.35915976,
                        "remaining_time": 19.58060832,
                        "test": [
                          0.00005672680994
                        ]
                      },
                      {
                        "learn": [
                          0.00005286492773
                        ],
                        "iteration": 346,
                        "passed_time": 10.41537182,
                        "remaining_time": 19.60010894,
                        "test": [
                          0.00005662420161
                        ]
                      },
                      {
                        "learn": [
                          0.00005274182255
                        ],
                        "iteration": 347,
                        "passed_time": 10.46551485,
                        "remaining_time": 19.60780369,
                        "test": [
                          0.00005653006747
                        ]
                      },
                      {
                        "learn": [
                          0.00005252185362
                        ],
                        "iteration": 348,
                        "passed_time": 10.52060592,
                        "remaining_time": 19.62439672,
                        "test": [
                          0.00005629458942
                        ]
                      },
                      {
                        "learn": [
                          0.00005230231895
                        ],
                        "iteration": 349,
                        "passed_time": 10.56138316,
                        "remaining_time": 19.6139973,
                        "test": [
                          0.00005607509196
                        ]
                      },
                      {
                        "learn": [
                          0.00005215841914
                        ],
                        "iteration": 350,
                        "passed_time": 10.60333622,
                        "remaining_time": 19.60559887,
                        "test": [
                          0.00005591433064
                        ]
                      },
                      {
                        "learn": [
                          0.00005201579108
                        ],
                        "iteration": 351,
                        "passed_time": 10.64486258,
                        "remaining_time": 19.5962243,
                        "test": [
                          0.00005575464876
                        ]
                      },
                      {
                        "learn": [
                          0.00005163653109
                        ],
                        "iteration": 352,
                        "passed_time": 10.68780011,
                        "remaining_time": 19.58925402,
                        "test": [
                          0.00005535868235
                        ]
                      },
                      {
                        "learn": [
                          0.00005153892601
                        ],
                        "iteration": 353,
                        "passed_time": 10.73127089,
                        "remaining_time": 19.58305366,
                        "test": [
                          0.00005524614818
                        ]
                      },
                      {
                        "learn": [
                          0.00005144184823
                        ],
                        "iteration": 354,
                        "passed_time": 10.80407116,
                        "remaining_time": 19.62993211,
                        "test": [
                          0.00005513449493
                        ]
                      },
                      {
                        "learn": [
                          0.00005118397811
                        ],
                        "iteration": 355,
                        "passed_time": 10.85382451,
                        "remaining_time": 19.63444658,
                        "test": [
                          0.00005486014483
                        ]
                      },
                      {
                        "learn": [
                          0.00005096937223
                        ],
                        "iteration": 356,
                        "passed_time": 10.91128521,
                        "remaining_time": 19.65253891,
                        "test": [
                          0.00005463123644
                        ]
                      },
                      {
                        "learn": [
                          0.00005083233056
                        ],
                        "iteration": 357,
                        "passed_time": 10.99597548,
                        "remaining_time": 19.71903983,
                        "test": [
                          0.00005447793811
                        ]
                      },
                      {
                        "learn": [
                          0.00005073761327
                        ],
                        "iteration": 358,
                        "passed_time": 11.03511155,
                        "remaining_time": 19.70336074,
                        "test": [
                          0.00005438328906
                        ]
                      },
                      {
                        "learn": [
                          0.00005048347775
                        ],
                        "iteration": 359,
                        "passed_time": 11.07454027,
                        "remaining_time": 19.6880716,
                        "test": [
                          0.00005411302095
                        ]
                      },
                      {
                        "learn": [
                          0.00005027124787
                        ],
                        "iteration": 360,
                        "passed_time": 11.11384277,
                        "remaining_time": 19.67242529,
                        "test": [
                          0.00005388690421
                        ]
                      },
                      {
                        "learn": [
                          0.00005017832033
                        ],
                        "iteration": 361,
                        "passed_time": 11.16339987,
                        "remaining_time": 19.67472133,
                        "test": [
                          0.00005379379366
                        ]
                      },
                      {
                        "learn": [
                          0.0000500456026
                        ],
                        "iteration": 362,
                        "passed_time": 11.20000914,
                        "remaining_time": 19.65401054,
                        "test": [
                          0.00005364514186
                        ]
                      },
                      {
                        "learn": [
                          0.00004967592725
                        ],
                        "iteration": 363,
                        "passed_time": 11.24452518,
                        "remaining_time": 19.64702751,
                        "test": [
                          0.00005326009387
                        ]
                      },
                      {
                        "learn": [
                          0.00004954520089
                        ],
                        "iteration": 364,
                        "passed_time": 11.26781918,
                        "remaining_time": 19.6029183,
                        "test": [
                          0.00005311407862
                        ]
                      },
                      {
                        "learn": [
                          0.00004945504328
                        ],
                        "iteration": 365,
                        "passed_time": 11.29677669,
                        "remaining_time": 19.56873339,
                        "test": [
                          0.00005301016132
                        ]
                      },
                      {
                        "learn": [
                          0.00004936512761
                        ],
                        "iteration": 366,
                        "passed_time": 11.32570665,
                        "remaining_time": 19.53452945,
                        "test": [
                          0.00005292015881
                        ]
                      },
                      {
                        "learn": [
                          0.00004905460094
                        ],
                        "iteration": 367,
                        "passed_time": 11.35843459,
                        "remaining_time": 19.5068768,
                        "test": [
                          0.00005259299705
                        ]
                      },
                      {
                        "learn": [
                          0.00004896577711
                        ],
                        "iteration": 368,
                        "passed_time": 11.38490877,
                        "remaining_time": 19.46850252,
                        "test": [
                          0.00005249092844
                        ]
                      },
                      {
                        "learn": [
                          0.00004883852479
                        ],
                        "iteration": 369,
                        "passed_time": 11.42544733,
                        "remaining_time": 19.45414005,
                        "test": [
                          0.0000523485113
                        ]
                      },
                      {
                        "learn": [
                          0.00004871220302
                        ],
                        "iteration": 370,
                        "passed_time": 11.4453612,
                        "remaining_time": 19.40466898,
                        "test": [
                          0.00005220735351
                        ]
                      },
                      {
                        "learn": [
                          0.00004834912525
                        ],
                        "iteration": 371,
                        "passed_time": 11.48201304,
                        "remaining_time": 19.38361341,
                        "test": [
                          0.00005182953897
                        ]
                      },
                      {
                        "learn": [
                          0.00004826273015
                        ],
                        "iteration": 372,
                        "passed_time": 11.50308517,
                        "remaining_time": 19.33628525,
                        "test": [
                          0.00005172990219
                        ]
                      },
                      {
                        "learn": [
                          0.00004813895808
                        ],
                        "iteration": 373,
                        "passed_time": 11.52921917,
                        "remaining_time": 19.29757006,
                        "test": [
                          0.00005159155465
                        ]
                      },
                      {
                        "learn": [
                          0.00004803260275
                        ],
                        "iteration": 374,
                        "passed_time": 11.54993302,
                        "remaining_time": 19.24988836,
                        "test": [
                          0.00005146531973
                        ]
                      },
                      {
                        "learn": [
                          0.00004791072899
                        ],
                        "iteration": 375,
                        "passed_time": 11.58935375,
                        "remaining_time": 19.23339559,
                        "test": [
                          0.00005132882087
                        ]
                      },
                      {
                        "learn": [
                          0.00004758852705
                        ],
                        "iteration": 376,
                        "passed_time": 11.61139871,
                        "remaining_time": 19.18806736,
                        "test": [
                          0.00005099416821
                        ]
                      },
                      {
                        "learn": [
                          0.00004750470957
                        ],
                        "iteration": 377,
                        "passed_time": 11.63427894,
                        "remaining_time": 19.14423678,
                        "test": [
                          0.00005091057717
                        ]
                      },
                      {
                        "learn": [
                          0.00004742146903
                        ],
                        "iteration": 378,
                        "passed_time": 11.70403659,
                        "remaining_time": 19.17732645,
                        "test": [
                          0.0000508147122
                        ]
                      },
                      {
                        "learn": [
                          0.00004733839599
                        ],
                        "iteration": 379,
                        "passed_time": 11.76048912,
                        "remaining_time": 19.18816646,
                        "test": [
                          0.00005073178805
                        ]
                      },
                      {
                        "learn": [
                          0.00004699775991
                        ],
                        "iteration": 380,
                        "passed_time": 11.81677631,
                        "remaining_time": 19.19838462,
                        "test": [
                          0.00005037180279
                        ]
                      },
                      {
                        "learn": [
                          0.00004691571667
                        ],
                        "iteration": 381,
                        "passed_time": 11.89318553,
                        "remaining_time": 19.240808,
                        "test": [
                          0.00005029005112
                        ]
                      },
                      {
                        "learn": [
                          0.00004683419764
                        ],
                        "iteration": 382,
                        "passed_time": 11.95195277,
                        "remaining_time": 19.25419023,
                        "test": [
                          0.00005019623647
                        ]
                      },
                      {
                        "learn": [
                          0.00004675301981
                        ],
                        "iteration": 383,
                        "passed_time": 12.01067556,
                        "remaining_time": 19.26712538,
                        "test": [
                          0.00005011514549
                        ]
                      },
                      {
                        "learn": [
                          0.00004651781783
                        ],
                        "iteration": 384,
                        "passed_time": 12.05326588,
                        "remaining_time": 19.25391823,
                        "test": [
                          0.00004986605353
                        ]
                      },
                      {
                        "learn": [
                          0.00004628348435
                        ],
                        "iteration": 385,
                        "passed_time": 12.09770141,
                        "remaining_time": 19.24349394,
                        "test": [
                          0.00004961832948
                        ]
                      },
                      {
                        "learn": [
                          0.00004620404044
                        ],
                        "iteration": 386,
                        "passed_time": 12.15190994,
                        "remaining_time": 19.24837414,
                        "test": [
                          0.00004952674504
                        ]
                      },
                      {
                        "learn": [
                          0.00004612470199
                        ],
                        "iteration": 387,
                        "passed_time": 12.20141836,
                        "remaining_time": 19.24553618,
                        "test": [
                          0.00004944750585
                        ]
                      },
                      {
                        "learn": [
                          0.00004601139237
                        ],
                        "iteration": 388,
                        "passed_time": 12.24472964,
                        "remaining_time": 19.23272444,
                        "test": [
                          0.000049320542
                        ]
                      },
                      {
                        "learn": [
                          0.00004566079324
                        ],
                        "iteration": 389,
                        "passed_time": 12.29879592,
                        "remaining_time": 19.23657823,
                        "test": [
                          0.000048956909
                        ]
                      },
                      {
                        "learn": [
                          0.00004554901592
                        ],
                        "iteration": 390,
                        "passed_time": 12.35304144,
                        "remaining_time": 19.24041492,
                        "test": [
                          0.0000488318931
                        ]
                      },
                      {
                        "learn": [
                          0.00004543796752
                        ],
                        "iteration": 391,
                        "passed_time": 12.40662343,
                        "remaining_time": 19.24292613,
                        "test": [
                          0.00004870763404
                        ]
                      },
                      {
                        "learn": [
                          0.00004532780936
                        ],
                        "iteration": 392,
                        "passed_time": 12.44448094,
                        "remaining_time": 19.22086497,
                        "test": [
                          0.00004858444201
                        ]
                      },
                      {
                        "learn": [
                          0.00004525183329
                        ],
                        "iteration": 393,
                        "passed_time": 12.47550091,
                        "remaining_time": 19.18820698,
                        "test": [
                          0.00004849724354
                        ]
                      },
                      {
                        "learn": [
                          0.00004493834437
                        ],
                        "iteration": 394,
                        "passed_time": 12.49137209,
                        "remaining_time": 19.13235471,
                        "test": [
                          0.00004817221584
                        ]
                      },
                      {
                        "learn": [
                          0.00004482985498
                        ],
                        "iteration": 395,
                        "passed_time": 12.50531694,
                        "remaining_time": 19.07376625,
                        "test": [
                          0.00004805107411
                        ]
                      },
                      {
                        "learn": [
                          0.0000447222248
                        ],
                        "iteration": 396,
                        "passed_time": 12.51958187,
                        "remaining_time": 19.01588883,
                        "test": [
                          0.0000479308071
                        ]
                      },
                      {
                        "learn": [
                          0.00004463244561
                        ],
                        "iteration": 397,
                        "passed_time": 12.53375154,
                        "remaining_time": 18.95808649,
                        "test": [
                          0.00004782309007
                        ]
                      },
                      {
                        "learn": [
                          0.00004455867804
                        ],
                        "iteration": 398,
                        "passed_time": 12.54675126,
                        "remaining_time": 18.89874061,
                        "test": [
                          0.0000477381094
                        ]
                      },
                      {
                        "learn": [
                          0.00004424711536
                        ],
                        "iteration": 399,
                        "passed_time": 12.55978557,
                        "remaining_time": 18.83967835,
                        "test": [
                          0.00004742679176
                        ]
                      },
                      {
                        "learn": [
                          0.00004417404259
                        ],
                        "iteration": 400,
                        "passed_time": 12.57458288,
                        "remaining_time": 18.78347916,
                        "test": [
                          0.00004734299289
                        ]
                      },
                      {
                        "learn": [
                          0.00004406929091
                        ],
                        "iteration": 401,
                        "passed_time": 12.60878221,
                        "remaining_time": 18.75634766,
                        "test": [
                          0.00004722573155
                        ]
                      },
                      {
                        "learn": [
                          0.00004396530227
                        ],
                        "iteration": 402,
                        "passed_time": 12.63776261,
                        "remaining_time": 18.72144982,
                        "test": [
                          0.00004710934492
                        ]
                      },
                      {
                        "learn": [
                          0.00004386185024
                        ],
                        "iteration": 403,
                        "passed_time": 12.67788483,
                        "remaining_time": 18.70301822,
                        "test": [
                          0.00004699394777
                        ]
                      },
                      {
                        "learn": [
                          0.00004352135064
                        ],
                        "iteration": 404,
                        "passed_time": 12.70033893,
                        "remaining_time": 18.65852263,
                        "test": [
                          0.00004664132004
                        ]
                      },
                      {
                        "learn": [
                          0.00004345056702
                        ],
                        "iteration": 405,
                        "passed_time": 12.71301167,
                        "remaining_time": 18.59982496,
                        "test": [
                          0.00004656031901
                        ]
                      },
                      {
                        "learn": [
                          0.0000433799416
                        ],
                        "iteration": 406,
                        "passed_time": 12.72815527,
                        "remaining_time": 18.54495349,
                        "test": [
                          0.00004648944855
                        ]
                      },
                      {
                        "learn": [
                          0.00004330973182
                        ],
                        "iteration": 407,
                        "passed_time": 12.74256861,
                        "remaining_time": 18.4892172,
                        "test": [
                          0.00004641944659
                        ]
                      },
                      {
                        "learn": [
                          0.00004323989116
                        ],
                        "iteration": 408,
                        "passed_time": 12.75771195,
                        "remaining_time": 18.43473781,
                        "test": [
                          0.00004633913417
                        ]
                      },
                      {
                        "learn": [
                          0.00004305157013
                        ],
                        "iteration": 409,
                        "passed_time": 12.77782581,
                        "remaining_time": 18.387603,
                        "test": [
                          0.00004614058953
                        ]
                      },
                      {
                        "learn": [
                          0.00004286351587
                        ],
                        "iteration": 410,
                        "passed_time": 12.79308614,
                        "remaining_time": 18.33364413,
                        "test": [
                          0.00004594206041
                        ]
                      },
                      {
                        "learn": [
                          0.00004276439709
                        ],
                        "iteration": 411,
                        "passed_time": 12.81942031,
                        "remaining_time": 18.29567754,
                        "test": [
                          0.00004583133461
                        ]
                      },
                      {
                        "learn": [
                          0.0000426659328
                        ],
                        "iteration": 412,
                        "passed_time": 12.85524468,
                        "remaining_time": 18.27125576,
                        "test": [
                          0.00004572109579
                        ]
                      },
                      {
                        "learn": [
                          0.00004256808887
                        ],
                        "iteration": 413,
                        "passed_time": 12.90268168,
                        "remaining_time": 18.26321609,
                        "test": [
                          0.00004561193951
                        ]
                      },
                      {
                        "learn": [
                          0.00004238163824
                        ],
                        "iteration": 414,
                        "passed_time": 12.95516577,
                        "remaining_time": 18.26210114,
                        "test": [
                          0.00004542544546
                        ]
                      },
                      {
                        "learn": [
                          0.00004219541095
                        ],
                        "iteration": 415,
                        "passed_time": 12.99708156,
                        "remaining_time": 18.24590295,
                        "test": [
                          0.00004522954358
                        ]
                      },
                      {
                        "learn": [
                          0.00004212861938
                        ],
                        "iteration": 416,
                        "passed_time": 13.03661635,
                        "remaining_time": 18.2262526,
                        "test": [
                          0.00004515263076
                        ]
                      },
                      {
                        "learn": [
                          0.00004206207596
                        ],
                        "iteration": 417,
                        "passed_time": 13.07048143,
                        "remaining_time": 18.1986129,
                        "test": [
                          0.0000450860222
                        ]
                      },
                      {
                        "learn": [
                          0.0000419665615
                        ],
                        "iteration": 418,
                        "passed_time": 13.10911204,
                        "remaining_time": 18.17755153,
                        "test": [
                          0.00004497940941
                        ]
                      },
                      {
                        "learn": [
                          0.00004187176356
                        ],
                        "iteration": 419,
                        "passed_time": 13.14760998,
                        "remaining_time": 18.15622331,
                        "test": [
                          0.00004487352866
                        ]
                      },
                      {
                        "learn": [
                          0.00004169278523
                        ],
                        "iteration": 420,
                        "passed_time": 13.18654849,
                        "remaining_time": 18.13541943,
                        "test": [
                          0.00004471381265
                        ]
                      },
                      {
                        "learn": [
                          0.00004150885949
                        ],
                        "iteration": 421,
                        "passed_time": 13.22622483,
                        "remaining_time": 18.11554017,
                        "test": [
                          0.0000445203364
                        ]
                      },
                      {
                        "learn": [
                          0.00004141535191
                        ],
                        "iteration": 422,
                        "passed_time": 13.26790469,
                        "remaining_time": 18.09830024,
                        "test": [
                          0.0000444157429
                        ]
                      },
                      {
                        "learn": [
                          0.00004132257016
                        ],
                        "iteration": 423,
                        "passed_time": 13.33899397,
                        "remaining_time": 18.12089747,
                        "test": [
                          0.00004431200861
                        ]
                      },
                      {
                        "learn": [
                          0.00004125870361
                        ],
                        "iteration": 424,
                        "passed_time": 13.35668128,
                        "remaining_time": 18.07080408,
                        "test": [
                          0.00004423842095
                        ]
                      },
                      {
                        "learn": [
                          0.00004119485567
                        ],
                        "iteration": 425,
                        "passed_time": 13.37584318,
                        "remaining_time": 18.02284972,
                        "test": [
                          0.0000441745575
                        ]
                      },
                      {
                        "learn": [
                          0.00004101271658
                        ],
                        "iteration": 426,
                        "passed_time": 13.40174518,
                        "remaining_time": 17.98407491,
                        "test": [
                          0.00004398304159
                        ]
                      },
                      {
                        "learn": [
                          0.00004083062402
                        ],
                        "iteration": 427,
                        "passed_time": 13.44835673,
                        "remaining_time": 17.9730375,
                        "test": [
                          0.00004380082806
                        ]
                      },
                      {
                        "learn": [
                          0.0000407399453
                        ],
                        "iteration": 428,
                        "passed_time": 13.48264539,
                        "remaining_time": 17.94543244,
                        "test": [
                          0.00004369965278
                        ]
                      },
                      {
                        "learn": [
                          0.00004064983732
                        ],
                        "iteration": 429,
                        "passed_time": 13.50643229,
                        "remaining_time": 17.90387537,
                        "test": [
                          0.00004359903272
                        ]
                      },
                      {
                        "learn": [
                          0.00004059290025
                        ],
                        "iteration": 430,
                        "passed_time": 13.52554491,
                        "remaining_time": 17.85622982,
                        "test": [
                          0.00004356036538
                        ]
                      },
                      {
                        "learn": [
                          0.00004053119567
                        ],
                        "iteration": 431,
                        "passed_time": 13.57733518,
                        "remaining_time": 17.85168144,
                        "test": [
                          0.00004348921265
                        ]
                      },
                      {
                        "learn": [
                          0.00004035085874
                        ],
                        "iteration": 432,
                        "passed_time": 13.61491813,
                        "remaining_time": 17.82831081,
                        "test": [
                          0.00004329955163
                        ]
                      },
                      {
                        "learn": [
                          0.00004017070792
                        ],
                        "iteration": 433,
                        "passed_time": 13.6543681,
                        "remaining_time": 17.80730955,
                        "test": [
                          0.000043119376
                        ]
                      },
                      {
                        "learn": [
                          0.000040109785
                        ],
                        "iteration": 434,
                        "passed_time": 13.67591519,
                        "remaining_time": 17.76297031,
                        "test": [
                          0.00004304928719
                        ]
                      },
                      {
                        "learn": [
                          0.00004002228876
                        ],
                        "iteration": 435,
                        "passed_time": 13.70245131,
                        "remaining_time": 17.72518931,
                        "test": [
                          0.00004295103692
                        ]
                      },
                      {
                        "learn": [
                          0.00003996182491
                        ],
                        "iteration": 436,
                        "passed_time": 13.71909278,
                        "remaining_time": 17.67471221,
                        "test": [
                          0.00004291922772
                        ]
                      },
                      {
                        "learn": [
                          0.00003987523439
                        ],
                        "iteration": 437,
                        "passed_time": 13.73304137,
                        "remaining_time": 17.62093436,
                        "test": [
                          0.00004282232675
                        ]
                      },
                      {
                        "learn": [
                          0.00003969669962
                        ],
                        "iteration": 438,
                        "passed_time": 13.75023284,
                        "remaining_time": 17.57148205,
                        "test": [
                          0.00004263459817
                        ]
                      },
                      {
                        "learn": [
                          0.00003951852156
                        ],
                        "iteration": 439,
                        "passed_time": 13.77981783,
                        "remaining_time": 17.53794996,
                        "test": [
                          0.00004244736589
                        ]
                      },
                      {
                        "learn": [
                          0.00003943305391
                        ],
                        "iteration": 440,
                        "passed_time": 13.79366362,
                        "remaining_time": 17.48448518,
                        "test": [
                          0.0000423516374
                        ]
                      },
                      {
                        "learn": [
                          0.00003937444185
                        ],
                        "iteration": 441,
                        "passed_time": 13.81010334,
                        "remaining_time": 17.43447436,
                        "test": [
                          0.00004228398353
                        ]
                      },
                      {
                        "learn": [
                          0.00003932079271
                        ],
                        "iteration": 442,
                        "passed_time": 13.82515476,
                        "remaining_time": 17.38286953,
                        "test": [
                          0.00004221662743
                        ]
                      },
                      {
                        "learn": [
                          0.00003926254666
                        ],
                        "iteration": 443,
                        "passed_time": 13.85453077,
                        "remaining_time": 17.34936736,
                        "test": [
                          0.0000421497459
                        ]
                      },
                      {
                        "learn": [
                          0.00003908560933
                        ],
                        "iteration": 444,
                        "passed_time": 13.89557454,
                        "remaining_time": 17.33043566,
                        "test": [
                          0.00004197261005
                        ]
                      },
                      {
                        "learn": [
                          0.00003902792782
                        ],
                        "iteration": 445,
                        "passed_time": 13.9304496,
                        "remaining_time": 17.30374233,
                        "test": [
                          0.00004190624343
                        ]
                      },
                      {
                        "learn": [
                          0.00003882582229
                        ],
                        "iteration": 446,
                        "passed_time": 13.9549395,
                        "remaining_time": 17.26416453,
                        "test": [
                          0.00004169413763
                        ]
                      },
                      {
                        "learn": [
                          0.00003876880146
                        ],
                        "iteration": 447,
                        "passed_time": 13.96642359,
                        "remaining_time": 17.20862907,
                        "test": [
                          0.00004162832933
                        ]
                      },
                      {
                        "learn": [
                          0.00003871176513
                        ],
                        "iteration": 448,
                        "passed_time": 13.97840402,
                        "remaining_time": 17.15389892,
                        "test": [
                          0.00004157166522
                        ]
                      },
                      {
                        "learn": [
                          0.00003862988629
                        ],
                        "iteration": 449,
                        "passed_time": 14.02412143,
                        "remaining_time": 17.14059286,
                        "test": [
                          0.00004147965892
                        ]
                      },
                      {
                        "learn": [
                          0.00003857365643
                        ],
                        "iteration": 450,
                        "passed_time": 14.06076425,
                        "remaining_time": 17.11609661,
                        "test": [
                          0.0000414148246
                        ]
                      },
                      {
                        "learn": [
                          0.0000383735919
                        ],
                        "iteration": 451,
                        "passed_time": 14.11864075,
                        "remaining_time": 17.11729011,
                        "test": [
                          0.00004120524058
                        ]
                      },
                      {
                        "learn": [
                          0.00003829300652
                        ],
                        "iteration": 452,
                        "passed_time": 14.15896469,
                        "remaining_time": 17.097028,
                        "test": [
                          0.00004111489376
                        ]
                      },
                      {
                        "learn": [
                          0.00003811860027
                        ],
                        "iteration": 453,
                        "passed_time": 14.18077338,
                        "remaining_time": 17.05441028,
                        "test": [
                          0.00004094057747
                        ]
                      },
                      {
                        "learn": [
                          0.00003803880586
                        ],
                        "iteration": 454,
                        "passed_time": 14.1957324,
                        "remaining_time": 17.00367947,
                        "test": [
                          0.00004085108675
                        ]
                      },
                      {
                        "learn": [
                          0.00003798402455
                        ],
                        "iteration": 455,
                        "passed_time": 14.21762295,
                        "remaining_time": 16.96137475,
                        "test": [
                          0.00004078792431
                        ]
                      },
                      {
                        "learn": [
                          0.00003793548411
                        ],
                        "iteration": 456,
                        "passed_time": 14.23453453,
                        "remaining_time": 16.91324344,
                        "test": [
                          0.00004073339115
                        ]
                      },
                      {
                        "learn": [
                          0.00003788118048
                        ],
                        "iteration": 457,
                        "passed_time": 14.27564883,
                        "remaining_time": 16.8938901,
                        "test": [
                          0.00004067070329
                        ]
                      },
                      {
                        "learn": [
                          0.00003769415292
                        ],
                        "iteration": 458,
                        "passed_time": 14.31725338,
                        "remaining_time": 16.87501978,
                        "test": [
                          0.00004047082177
                        ]
                      },
                      {
                        "learn": [
                          0.00003761620409
                        ],
                        "iteration": 459,
                        "passed_time": 14.35428779,
                        "remaining_time": 16.85068567,
                        "test": [
                          0.00004038359539
                        ]
                      },
                      {
                        "learn": [
                          0.00003744385436
                        ],
                        "iteration": 460,
                        "passed_time": 14.41264043,
                        "remaining_time": 16.85122167,
                        "test": [
                          0.00004020297929
                        ]
                      },
                      {
                        "learn": [
                          0.00003736667788
                        ],
                        "iteration": 461,
                        "passed_time": 14.45285322,
                        "remaining_time": 16.83037886,
                        "test": [
                          0.00004011660281
                        ]
                      },
                      {
                        "learn": [
                          0.00003728992015
                        ],
                        "iteration": 462,
                        "passed_time": 14.49587424,
                        "remaining_time": 16.81270943,
                        "test": [
                          0.00004003064507
                        ]
                      },
                      {
                        "learn": [
                          0.00003723706197
                        ],
                        "iteration": 463,
                        "passed_time": 14.54231186,
                        "remaining_time": 16.7988775,
                        "test": [
                          0.0000399779668
                        ]
                      },
                      {
                        "learn": [
                          0.00003716110451
                        ],
                        "iteration": 464,
                        "passed_time": 14.56474687,
                        "remaining_time": 16.75728941,
                        "test": [
                          0.00003989285896
                        ]
                      },
                      {
                        "learn": [
                          0.00003696660465
                        ],
                        "iteration": 465,
                        "passed_time": 14.57889273,
                        "remaining_time": 16.7062848,
                        "test": [
                          0.00003968952821
                        ]
                      },
                      {
                        "learn": [
                          0.00003691481661
                        ],
                        "iteration": 466,
                        "passed_time": 14.59787635,
                        "remaining_time": 16.66095952,
                        "test": [
                          0.00003962958546
                        ]
                      },
                      {
                        "learn": [
                          0.0000367333351
                        ],
                        "iteration": 467,
                        "passed_time": 14.64362098,
                        "remaining_time": 16.64616743,
                        "test": [
                          0.00003943561292
                        ]
                      },
                      {
                        "learn": [
                          0.00003668186034
                        ],
                        "iteration": 468,
                        "passed_time": 14.69222057,
                        "remaining_time": 16.63447574,
                        "test": [
                          0.00003938418468
                        ]
                      },
                      {
                        "learn": [
                          0.00003660768953
                        ],
                        "iteration": 469,
                        "passed_time": 14.74188791,
                        "remaining_time": 16.62383105,
                        "test": [
                          0.0000393010527
                        ]
                      },
                      {
                        "learn": [
                          0.00003655682893
                        ],
                        "iteration": 470,
                        "passed_time": 14.77425048,
                        "remaining_time": 16.59358493,
                        "test": [
                          0.00003924245615
                        ]
                      },
                      {
                        "learn": [
                          0.00003648342737
                        ],
                        "iteration": 471,
                        "passed_time": 14.8022443,
                        "remaining_time": 16.55844277,
                        "test": [
                          0.000039160385
                        ]
                      },
                      {
                        "learn": [
                          0.00003643306616
                        ],
                        "iteration": 472,
                        "passed_time": 14.81951401,
                        "remaining_time": 16.51138242,
                        "test": [
                          0.0000391023933
                        ]
                      },
                      {
                        "learn": [
                          0.00003624146961
                        ],
                        "iteration": 473,
                        "passed_time": 14.84586048,
                        "remaining_time": 16.47452028,
                        "test": [
                          0.00003890191313
                        ]
                      },
                      {
                        "learn": [
                          0.00003616920332
                        ],
                        "iteration": 474,
                        "passed_time": 14.86819524,
                        "remaining_time": 16.43326842,
                        "test": [
                          0.00003882120057
                        ]
                      },
                      {
                        "learn": [
                          0.00003600051374
                        ],
                        "iteration": 475,
                        "passed_time": 14.88771806,
                        "remaining_time": 16.38900055,
                        "test": [
                          0.00003865273432
                        ]
                      },
                      {
                        "learn": [
                          0.00003595100863
                        ],
                        "iteration": 476,
                        "passed_time": 14.91497905,
                        "remaining_time": 16.35332085,
                        "test": [
                          0.00003860318269
                        ]
                      },
                      {
                        "learn": [
                          0.00003587966669
                        ],
                        "iteration": 477,
                        "passed_time": 14.94882245,
                        "remaining_time": 16.32486469,
                        "test": [
                          0.00003852345961
                        ]
                      },
                      {
                        "learn": [
                          0.00003583076643
                        ],
                        "iteration": 478,
                        "passed_time": 14.96578044,
                        "remaining_time": 16.27802006,
                        "test": [
                          0.00003846701883
                        ]
                      },
                      {
                        "learn": [
                          0.00003576018444
                        ],
                        "iteration": 479,
                        "passed_time": 15.00003574,
                        "remaining_time": 16.25003872,
                        "test": [
                          0.00003838786959
                        ]
                      },
                      {
                        "learn": [
                          0.00003557107865
                        ],
                        "iteration": 480,
                        "passed_time": 15.01699183,
                        "remaining_time": 16.2033654,
                        "test": [
                          0.00003819060291
                        ]
                      },
                      {
                        "learn": [
                          0.00003552287941
                        ],
                        "iteration": 481,
                        "passed_time": 15.05767072,
                        "remaining_time": 16.18231003,
                        "test": [
                          0.0000381351485
                        ]
                      },
                      {
                        "learn": [
                          0.00003545336134
                        ],
                        "iteration": 482,
                        "passed_time": 15.09810283,
                        "remaining_time": 16.16090924,
                        "test": [
                          0.00003805718106
                        ]
                      },
                      {
                        "learn": [
                          0.00003527665354
                        ],
                        "iteration": 483,
                        "passed_time": 15.13495482,
                        "remaining_time": 16.13561299,
                        "test": [
                          0.00003786864601
                        ]
                      },
                      {
                        "learn": [
                          0.00003522904675
                        ],
                        "iteration": 484,
                        "passed_time": 15.17610342,
                        "remaining_time": 16.11483147,
                        "test": [
                          0.00003781396706
                        ]
                      },
                      {
                        "learn": [
                          0.00003518180598
                        ],
                        "iteration": 485,
                        "passed_time": 15.24175556,
                        "remaining_time": 16.11988139,
                        "test": [
                          0.00003775958589
                        ]
                      },
                      {
                        "learn": [
                          0.00003511354104
                        ],
                        "iteration": 486,
                        "passed_time": 15.2998924,
                        "remaining_time": 16.11672444,
                        "test": [
                          0.00003768328723
                        ]
                      },
                      {
                        "learn": [
                          0.00003506648637
                        ],
                        "iteration": 487,
                        "passed_time": 15.3289635,
                        "remaining_time": 16.08284695,
                        "test": [
                          0.00003765858431
                        ]
                      },
                      {
                        "learn": [
                          0.00003499885421
                        ],
                        "iteration": 488,
                        "passed_time": 15.36964821,
                        "remaining_time": 16.06112523,
                        "test": [
                          0.00003758265787
                        ]
                      },
                      {
                        "learn": [
                          0.0000348126083
                        ],
                        "iteration": 489,
                        "passed_time": 15.41760093,
                        "remaining_time": 16.04689077,
                        "test": [
                          0.00003738842477
                        ]
                      },
                      {
                        "learn": [
                          0.00003474568646
                        ],
                        "iteration": 490,
                        "passed_time": 15.45116246,
                        "remaining_time": 16.01760019,
                        "test": [
                          0.00003731357776
                        ]
                      },
                      {
                        "learn": [
                          0.0000346792609
                        ],
                        "iteration": 491,
                        "passed_time": 15.47831176,
                        "remaining_time": 15.98167149,
                        "test": [
                          0.00003723923015
                        ]
                      },
                      {
                        "learn": [
                          0.00003449416267
                        ],
                        "iteration": 492,
                        "passed_time": 15.50686044,
                        "remaining_time": 15.94721753,
                        "test": [
                          0.00003704606097
                        ]
                      },
                      {
                        "learn": [
                          0.00003444858137
                        ],
                        "iteration": 493,
                        "passed_time": 15.52900999,
                        "remaining_time": 15.9062329,
                        "test": [
                          0.00003702204355
                        ]
                      },
                      {
                        "learn": [
                          0.00003438305225
                        ],
                        "iteration": 494,
                        "passed_time": 15.55165937,
                        "remaining_time": 15.86583431,
                        "test": [
                          0.00003694855204
                        ]
                      },
                      {
                        "learn": [
                          0.00003431798839
                        ],
                        "iteration": 495,
                        "passed_time": 15.57895499,
                        "remaining_time": 15.83022846,
                        "test": [
                          0.00003687565608
                        ]
                      },
                      {
                        "learn": [
                          0.0000342647611
                        ],
                        "iteration": 496,
                        "passed_time": 15.60685168,
                        "remaining_time": 15.79526437,
                        "test": [
                          0.00003681465251
                        ]
                      },
                      {
                        "learn": [
                          0.00003410106855
                        ],
                        "iteration": 497,
                        "passed_time": 15.63020969,
                        "remaining_time": 15.75575354,
                        "test": [
                          0.00003665105613
                        ]
                      },
                      {
                        "learn": [
                          0.00003405653567
                        ],
                        "iteration": 498,
                        "passed_time": 15.65383333,
                        "remaining_time": 15.71657414,
                        "test": [
                          0.00003660648912
                        ]
                      },
                      {
                        "learn": [
                          0.00003399244889
                        ],
                        "iteration": 499,
                        "passed_time": 15.69377906,
                        "remaining_time": 15.69377906,
                        "test": [
                          0.00003653476875
                        ]
                      },
                      {
                        "learn": [
                          0.00003382961865
                        ],
                        "iteration": 500,
                        "passed_time": 15.71882969,
                        "remaining_time": 15.65607987,
                        "test": [
                          0.00003636499353
                        ]
                      },
                      {
                        "learn": [
                          0.00003376606849
                        ],
                        "iteration": 501,
                        "passed_time": 15.7352469,
                        "remaining_time": 15.60986645,
                        "test": [
                          0.00003629404862
                        ]
                      },
                      {
                        "learn": [
                          0.00003372759967
                        ],
                        "iteration": 502,
                        "passed_time": 15.76506776,
                        "remaining_time": 15.57701526,
                        "test": [
                          0.00003625026018
                        ]
                      },
                      {
                        "learn": [
                          0.00003366465126
                        ],
                        "iteration": 503,
                        "passed_time": 15.7839544,
                        "remaining_time": 15.53341545,
                        "test": [
                          0.0000361797185
                        ]
                      },
                      {
                        "learn": [
                          0.00003362156072
                        ],
                        "iteration": 504,
                        "passed_time": 15.82924969,
                        "remaining_time": 15.5157992,
                        "test": [
                          0.00003612990942
                        ]
                      },
                      {
                        "learn": [
                          0.00003357838644
                        ],
                        "iteration": 505,
                        "passed_time": 15.87050581,
                        "remaining_time": 15.49413017,
                        "test": [
                          0.00003608031746
                        ]
                      },
                      {
                        "learn": [
                          0.00003339737641
                        ],
                        "iteration": 506,
                        "passed_time": 15.92347356,
                        "remaining_time": 15.48377212,
                        "test": [
                          0.00003589173898
                        ]
                      },
                      {
                        "learn": [
                          0.00003335468291
                        ],
                        "iteration": 507,
                        "passed_time": 15.95694952,
                        "remaining_time": 15.45436843,
                        "test": [
                          0.00003584263401
                        ]
                      },
                      {
                        "learn": [
                          0.0000333121414
                        ],
                        "iteration": 508,
                        "passed_time": 15.99306357,
                        "remaining_time": 15.42749354,
                        "test": [
                          0.00003579342358
                        ]
                      },
                      {
                        "learn": [
                          0.00003325081214
                        ],
                        "iteration": 509,
                        "passed_time": 16.00886818,
                        "remaining_time": 15.38106943,
                        "test": [
                          0.00003572484226
                        ]
                      },
                      {
                        "learn": [
                          0.00003309433134
                        ],
                        "iteration": 510,
                        "passed_time": 16.04990942,
                        "remaining_time": 15.35891528,
                        "test": [
                          0.00003556360636
                        ]
                      },
                      {
                        "learn": [
                          0.00003305241019
                        ],
                        "iteration": 511,
                        "passed_time": 16.07444764,
                        "remaining_time": 15.3209579,
                        "test": [
                          0.00003551526754
                        ]
                      },
                      {
                        "learn": [
                          0.00003301054177
                        ],
                        "iteration": 512,
                        "passed_time": 16.10237003,
                        "remaining_time": 15.28626551,
                        "test": [
                          0.00003546704038
                        ]
                      },
                      {
                        "learn": [
                          0.00003295016788
                        ],
                        "iteration": 513,
                        "passed_time": 16.12425673,
                        "remaining_time": 15.24589255,
                        "test": [
                          0.00003539942062
                        ]
                      },
                      {
                        "learn": [
                          0.00003290859103
                        ],
                        "iteration": 514,
                        "passed_time": 16.16311558,
                        "remaining_time": 15.22157487,
                        "test": [
                          0.00003535786859
                        ]
                      },
                      {
                        "learn": [
                          0.00003274817401
                        ],
                        "iteration": 515,
                        "passed_time": 16.19693167,
                        "remaining_time": 15.19247079,
                        "test": [
                          0.00003519770282
                        ]
                      },
                      {
                        "learn": [
                          0.00003268860659
                        ],
                        "iteration": 516,
                        "passed_time": 16.23456888,
                        "remaining_time": 15.16691832,
                        "test": [
                          0.00003513079338
                        ]
                      },
                      {
                        "learn": [
                          0.00003263897121
                        ],
                        "iteration": 517,
                        "passed_time": 16.26275445,
                        "remaining_time": 15.13252441,
                        "test": [
                          0.00003507103365
                        ]
                      },
                      {
                        "learn": [
                          0.00003258001794
                        ],
                        "iteration": 518,
                        "passed_time": 16.28267294,
                        "remaining_time": 15.09049265,
                        "test": [
                          0.00003500489036
                        ]
                      },
                      {
                        "learn": [
                          0.00003240225243
                        ],
                        "iteration": 519,
                        "passed_time": 16.29713959,
                        "remaining_time": 15.04351347,
                        "test": [
                          0.00003482004027
                        ]
                      },
                      {
                        "learn": [
                          0.00003234378925
                        ],
                        "iteration": 520,
                        "passed_time": 16.32050159,
                        "remaining_time": 15.00483736,
                        "test": [
                          0.00003475448323
                        ]
                      },
                      {
                        "learn": [
                          0.00003228576344
                        ],
                        "iteration": 521,
                        "passed_time": 16.3351708,
                        "remaining_time": 14.95825985,
                        "test": [
                          0.00003468941627
                        ]
                      },
                      {
                        "learn": [
                          0.00003224569408
                        ],
                        "iteration": 522,
                        "passed_time": 16.37590747,
                        "remaining_time": 14.93557909,
                        "test": [
                          0.00003464332627
                        ]
                      },
                      {
                        "learn": [
                          0.00003218816145
                        ],
                        "iteration": 523,
                        "passed_time": 16.41239788,
                        "remaining_time": 14.90897212,
                        "test": [
                          0.0000345787463
                        ]
                      },
                      {
                        "learn": [
                          0.00003214857908
                        ],
                        "iteration": 524,
                        "passed_time": 16.44814577,
                        "remaining_time": 14.8816557,
                        "test": [
                          0.00003453324255
                        ]
                      },
                      {
                        "learn": [
                          0.00003198997042
                        ],
                        "iteration": 525,
                        "passed_time": 16.49011038,
                        "remaining_time": 14.85990936,
                        "test": [
                          0.00003437475797
                        ]
                      },
                      {
                        "learn": [
                          0.0000319331295
                        ],
                        "iteration": 526,
                        "passed_time": 16.57503614,
                        "remaining_time": 14.87664534,
                        "test": [
                          0.00003431114887
                        ]
                      },
                      {
                        "learn": [
                          0.0000318938387
                        ],
                        "iteration": 527,
                        "passed_time": 16.64946979,
                        "remaining_time": 14.88361693,
                        "test": [
                          0.00003427195112
                        ]
                      },
                      {
                        "learn": [
                          0.00003183742894
                        ],
                        "iteration": 528,
                        "passed_time": 16.75299328,
                        "remaining_time": 14.91618116,
                        "test": [
                          0.00003420844438
                        ]
                      },
                      {
                        "learn": [
                          0.000031671531
                        ],
                        "iteration": 529,
                        "passed_time": 16.81759811,
                        "remaining_time": 14.91371908,
                        "test": [
                          0.00003403330301
                        ]
                      },
                      {
                        "learn": [
                          0.00003163287917
                        ],
                        "iteration": 530,
                        "passed_time": 16.92533613,
                        "remaining_time": 14.94911986,
                        "test": [
                          0.00003398868327
                        ]
                      },
                      {
                        "learn": [
                          0.00003158709315
                        ],
                        "iteration": 531,
                        "passed_time": 16.96096908,
                        "remaining_time": 14.92055175,
                        "test": [
                          0.00003393626866
                        ]
                      },
                      {
                        "learn": [
                          0.00003154878873
                        ],
                        "iteration": 532,
                        "passed_time": 17.06653225,
                        "remaining_time": 14.95322807,
                        "test": [
                          0.00003389193739
                        ]
                      },
                      {
                        "learn": [
                          0.00003151056185
                        ],
                        "iteration": 533,
                        "passed_time": 17.17891049,
                        "remaining_time": 14.99133387,
                        "test": [
                          0.00003385403311
                        ]
                      },
                      {
                        "learn": [
                          0.00003145545175
                        ],
                        "iteration": 534,
                        "passed_time": 17.28139486,
                        "remaining_time": 15.02027778,
                        "test": [
                          0.00003379197182
                        ]
                      },
                      {
                        "learn": [
                          0.00003129852739
                        ],
                        "iteration": 535,
                        "passed_time": 17.35245386,
                        "remaining_time": 15.02152722,
                        "test": [
                          0.00003363534833
                        ]
                      },
                      {
                        "learn": [
                          0.00003126067893
                        ],
                        "iteration": 536,
                        "passed_time": 17.41205406,
                        "remaining_time": 15.01262762,
                        "test": [
                          0.00003359750608
                        ]
                      },
                      {
                        "learn": [
                          0.00003120613026
                        ],
                        "iteration": 537,
                        "passed_time": 17.47796472,
                        "remaining_time": 15.00895855,
                        "test": [
                          0.00003353654284
                        ]
                      },
                      {
                        "learn": [
                          0.00003115208409
                        ],
                        "iteration": 538,
                        "passed_time": 17.54957125,
                        "remaining_time": 15.00993014,
                        "test": [
                          0.00003347588667
                        ]
                      },
                      {
                        "learn": [
                          0.00003109815888
                        ],
                        "iteration": 539,
                        "passed_time": 17.62474492,
                        "remaining_time": 15.0136716,
                        "test": [
                          0.00003341541042
                        ]
                      },
                      {
                        "learn": [
                          0.00003092553619
                        ],
                        "iteration": 540,
                        "passed_time": 17.68098305,
                        "remaining_time": 15.00105586,
                        "test": [
                          0.00003323632662
                        ]
                      },
                      {
                        "learn": [
                          0.00003088859967
                        ],
                        "iteration": 541,
                        "passed_time": 17.7572556,
                        "remaining_time": 15.00520861,
                        "test": [
                          0.00003319957622
                        ]
                      },
                      {
                        "learn": [
                          0.00003083544061
                        ],
                        "iteration": 542,
                        "passed_time": 17.81202461,
                        "remaining_time": 14.99096731,
                        "test": [
                          0.00003313968
                        ]
                      },
                      {
                        "learn": [
                          0.00003079889182
                        ],
                        "iteration": 543,
                        "passed_time": 17.851731,
                        "remaining_time": 14.96395098,
                        "test": [
                          0.00003309751691
                        ]
                      },
                      {
                        "learn": [
                          0.00003074618253
                        ],
                        "iteration": 544,
                        "passed_time": 17.92166401,
                        "remaining_time": 14.96212316,
                        "test": [
                          0.00003303870013
                        ]
                      },
                      {
                        "learn": [
                          0.00003070986948
                        ],
                        "iteration": 545,
                        "passed_time": 18.00013324,
                        "remaining_time": 14.96714375,
                        "test": [
                          0.00003300233435
                        ]
                      },
                      {
                        "learn": [
                          0.00003053854335
                        ],
                        "iteration": 546,
                        "passed_time": 18.07837979,
                        "remaining_time": 14.97167467,
                        "test": [
                          0.00003282482008
                        ]
                      },
                      {
                        "learn": [
                          0.00003050263354
                        ],
                        "iteration": 547,
                        "passed_time": 18.13633639,
                        "remaining_time": 14.95916798,
                        "test": [
                          0.00003278333939
                        ]
                      },
                      {
                        "learn": [
                          0.00003046679507
                        ],
                        "iteration": 548,
                        "passed_time": 18.2022227,
                        "remaining_time": 14.95300991,
                        "test": [
                          0.00003274204481
                        ]
                      },
                      {
                        "learn": [
                          0.00003043501688
                        ],
                        "iteration": 549,
                        "passed_time": 18.23924817,
                        "remaining_time": 14.92302123,
                        "test": [
                          0.00003270645138
                        ]
                      },
                      {
                        "learn": [
                          0.00003038342425
                        ],
                        "iteration": 550,
                        "passed_time": 18.2693138,
                        "remaining_time": 14.88733556,
                        "test": [
                          0.00003264872334
                        ]
                      },
                      {
                        "learn": [
                          0.00003021317135
                        ],
                        "iteration": 551,
                        "passed_time": 18.28828053,
                        "remaining_time": 14.84266246,
                        "test": [
                          0.00003247208689
                        ]
                      },
                      {
                        "learn": [
                          0.00003016212774
                        ],
                        "iteration": 552,
                        "passed_time": 18.30416006,
                        "remaining_time": 14.79558688,
                        "test": [
                          0.00003241483653
                        ]
                      },
                      {
                        "learn": [
                          0.00003011131056
                        ],
                        "iteration": 553,
                        "passed_time": 18.33003561,
                        "remaining_time": 14.75667126,
                        "test": [
                          0.00003235809486
                        ]
                      },
                      {
                        "learn": [
                          0.00003007646777
                        ],
                        "iteration": 554,
                        "passed_time": 18.35848969,
                        "remaining_time": 14.71987011,
                        "test": [
                          0.00003231787972
                        ]
                      },
                      {
                        "learn": [
                          0.00003004542472
                        ],
                        "iteration": 555,
                        "passed_time": 18.38851641,
                        "remaining_time": 14.68435483,
                        "test": [
                          0.00003228317031
                        ]
                      },
                      {
                        "learn": [
                          0.00002999515346
                        ],
                        "iteration": 556,
                        "passed_time": 18.43363027,
                        "remaining_time": 14.66085854,
                        "test": [
                          0.00003222680087
                        ]
                      },
                      {
                        "learn": [
                          0.00002983526065
                        ],
                        "iteration": 557,
                        "passed_time": 18.52567185,
                        "remaining_time": 14.67445691,
                        "test": [
                          0.00003206087811
                        ]
                      },
                      {
                        "learn": [
                          0.0000297943507
                        ],
                        "iteration": 558,
                        "passed_time": 18.53998526,
                        "remaining_time": 14.62635689,
                        "test": [
                          0.00003201393511
                        ]
                      },
                      {
                        "learn": [
                          0.00002974483939
                        ],
                        "iteration": 559,
                        "passed_time": 18.55489582,
                        "remaining_time": 14.57884671,
                        "test": [
                          0.00003195837835
                        ]
                      },
                      {
                        "learn": [
                          0.00002969545525
                        ],
                        "iteration": 560,
                        "passed_time": 18.56785313,
                        "remaining_time": 14.52992429,
                        "test": [
                          0.0000319031876
                        ]
                      },
                      {
                        "learn": [
                          0.00002964641542
                        ],
                        "iteration": 561,
                        "passed_time": 18.58177775,
                        "remaining_time": 14.48188373,
                        "test": [
                          0.00003184838768
                        ]
                      },
                      {
                        "learn": [
                          0.00002959753999
                        ],
                        "iteration": 562,
                        "passed_time": 18.59573066,
                        "remaining_time": 14.43398632,
                        "test": [
                          0.0000317934947
                        ]
                      },
                      {
                        "learn": [
                          0.00002944486822
                        ],
                        "iteration": 563,
                        "passed_time": 18.61671622,
                        "remaining_time": 14.39164587,
                        "test": [
                          0.00003164096873
                        ]
                      },
                      {
                        "learn": [
                          0.0000294111638
                        ],
                        "iteration": 564,
                        "passed_time": 18.68321338,
                        "remaining_time": 14.38442092,
                        "test": [
                          0.00003160734186
                        ]
                      },
                      {
                        "learn": [
                          0.0000293778254
                        ],
                        "iteration": 565,
                        "passed_time": 18.70691648,
                        "remaining_time": 14.3441727,
                        "test": [
                          0.0000315689785
                        ]
                      },
                      {
                        "learn": [
                          0.00002932964167
                        ],
                        "iteration": 566,
                        "passed_time": 18.73552572,
                        "remaining_time": 14.30772952,
                        "test": [
                          0.00003151497575
                        ]
                      },
                      {
                        "learn": [
                          0.00002930001926
                        ],
                        "iteration": 567,
                        "passed_time": 18.76743573,
                        "remaining_time": 14.27382436,
                        "test": [
                          0.00003148164045
                        ]
                      },
                      {
                        "learn": [
                          0.00002925227909
                        ],
                        "iteration": 568,
                        "passed_time": 18.84598335,
                        "remaining_time": 14.27525277,
                        "test": [
                          0.00003142821774
                        ]
                      },
                      {
                        "learn": [
                          0.00002910674152
                        ],
                        "iteration": 569,
                        "passed_time": 18.87487131,
                        "remaining_time": 14.23893801,
                        "test": [
                          0.00003127627801
                        ]
                      },
                      {
                        "learn": [
                          0.00002906704748
                        ],
                        "iteration": 570,
                        "passed_time": 18.88431099,
                        "remaining_time": 14.18803751,
                        "test": [
                          0.00003122855024
                        ]
                      },
                      {
                        "learn": [
                          0.00002903784071
                        ],
                        "iteration": 571,
                        "passed_time": 18.89391384,
                        "remaining_time": 14.13740407,
                        "test": [
                          0.00003119580739
                        ]
                      },
                      {
                        "learn": [
                          0.00002900512887
                        ],
                        "iteration": 572,
                        "passed_time": 18.90333084,
                        "remaining_time": 14.08677534,
                        "test": [
                          0.00003116334991
                        ]
                      },
                      {
                        "learn": [
                          0.00002895817037
                        ],
                        "iteration": 573,
                        "passed_time": 18.91277718,
                        "remaining_time": 14.03631199,
                        "test": [
                          0.00003111051965
                        ]
                      },
                      {
                        "learn": [
                          0.0000289114507
                        ],
                        "iteration": 574,
                        "passed_time": 18.92195149,
                        "remaining_time": 13.98579023,
                        "test": [
                          0.00003105808332
                        ]
                      },
                      {
                        "learn": [
                          0.00002874587845
                        ],
                        "iteration": 575,
                        "passed_time": 18.93112749,
                        "remaining_time": 13.93541329,
                        "test": [
                          0.00003088722866
                        ]
                      },
                      {
                        "learn": [
                          0.00002871657242
                        ],
                        "iteration": 576,
                        "passed_time": 18.94059659,
                        "remaining_time": 13.88539403,
                        "test": [
                          0.00003085033557
                        ]
                      },
                      {
                        "learn": [
                          0.00002867033973
                        ],
                        "iteration": 577,
                        "passed_time": 18.94970559,
                        "remaining_time": 13.83525218,
                        "test": [
                          0.00003079858474
                        ]
                      },
                      {
                        "learn": [
                          0.00002863858947
                        ],
                        "iteration": 578,
                        "passed_time": 18.95951921,
                        "remaining_time": 13.7857644,
                        "test": [
                          0.00003076198322
                        ]
                      },
                      {
                        "learn": [
                          0.00002860686401
                        ],
                        "iteration": 579,
                        "passed_time": 18.96878143,
                        "remaining_time": 13.73601414,
                        "test": [
                          0.00003072567638
                        ]
                      },
                      {
                        "learn": [
                          0.00002857535879
                        ],
                        "iteration": 580,
                        "passed_time": 18.97807701,
                        "remaining_time": 13.68642731,
                        "test": [
                          0.00003068938194
                        ]
                      },
                      {
                        "learn": [
                          0.00002842482108
                        ],
                        "iteration": 581,
                        "passed_time": 18.98738358,
                        "remaining_time": 13.63698683,
                        "test": [
                          0.00003053880701
                        ]
                      },
                      {
                        "learn": [
                          0.00002839341822
                        ],
                        "iteration": 582,
                        "passed_time": 18.99665856,
                        "remaining_time": 13.58766144,
                        "test": [
                          0.00003050743206
                        ]
                      },
                      {
                        "learn": [
                          0.00002836208049
                        ],
                        "iteration": 583,
                        "passed_time": 19.0059482,
                        "remaining_time": 13.53848365,
                        "test": [
                          0.00003047615947
                        ]
                      },
                      {
                        "learn": [
                          0.00002833081721
                        ],
                        "iteration": 584,
                        "passed_time": 19.0152548,
                        "remaining_time": 13.48945426,
                        "test": [
                          0.0000304450792
                        ]
                      },
                      {
                        "learn": [
                          0.00002829970902
                        ],
                        "iteration": 585,
                        "passed_time": 19.02458926,
                        "remaining_time": 13.44058012,
                        "test": [
                          0.0000304093679
                        ]
                      },
                      {
                        "learn": [
                          0.00002826879314
                        ],
                        "iteration": 586,
                        "passed_time": 19.03398533,
                        "remaining_time": 13.39188406,
                        "test": [
                          0.0000303736473
                        ]
                      },
                      {
                        "learn": [
                          0.00002822404003
                        ],
                        "iteration": 587,
                        "passed_time": 19.04337452,
                        "remaining_time": 13.34331684,
                        "test": [
                          0.00003032345669
                        ]
                      },
                      {
                        "learn": [
                          0.00002806801209
                        ],
                        "iteration": 588,
                        "passed_time": 19.05260835,
                        "remaining_time": 13.29477425,
                        "test": [
                          0.00003017598358
                        ]
                      },
                      {
                        "learn": [
                          0.0000280372327
                        ],
                        "iteration": 589,
                        "passed_time": 19.0619023,
                        "remaining_time": 13.24640668,
                        "test": [
                          0.0000301453934
                        ]
                      },
                      {
                        "learn": [
                          0.00002799306583
                        ],
                        "iteration": 590,
                        "passed_time": 19.07101913,
                        "remaining_time": 13.19804877,
                        "test": [
                          0.00003009599065
                        ]
                      },
                      {
                        "learn": [
                          0.00002796270828
                        ],
                        "iteration": 591,
                        "passed_time": 19.08042374,
                        "remaining_time": 13.15002177,
                        "test": [
                          0.00003006076324
                        ]
                      },
                      {
                        "learn": [
                          0.00002791883608
                        ],
                        "iteration": 592,
                        "passed_time": 19.08955765,
                        "remaining_time": 13.10193923,
                        "test": [
                          0.00003001167378
                        ]
                      },
                      {
                        "learn": [
                          0.00002787507866
                        ],
                        "iteration": 593,
                        "passed_time": 19.09876419,
                        "remaining_time": 13.05403748,
                        "test": [
                          0.00002996286038
                        ]
                      },
                      {
                        "learn": [
                          0.0000278450437
                        ],
                        "iteration": 594,
                        "passed_time": 19.10808899,
                        "remaining_time": 13.00634629,
                        "test": [
                          0.00002993276338
                        ]
                      },
                      {
                        "learn": [
                          0.0000276962275
                        ],
                        "iteration": 595,
                        "passed_time": 19.11738684,
                        "remaining_time": 12.95876557,
                        "test": [
                          0.00002979802946
                        ]
                      },
                      {
                        "learn": [
                          0.00002765296326
                        ],
                        "iteration": 596,
                        "passed_time": 19.1264504,
                        "remaining_time": 12.91115496,
                        "test": [
                          0.00002974950453
                        ]
                      },
                      {
                        "learn": [
                          0.00002762331603
                        ],
                        "iteration": 597,
                        "passed_time": 19.135625,
                        "remaining_time": 12.86374791,
                        "test": [
                          0.0000297152542
                        ]
                      },
                      {
                        "learn": [
                          0.0000275936688
                        ],
                        "iteration": 598,
                        "passed_time": 19.14482069,
                        "remaining_time": 12.81648263,
                        "test": [
                          0.00002968101006
                        ]
                      },
                      {
                        "learn": [
                          0.00002756409912
                        ],
                        "iteration": 599,
                        "passed_time": 19.15407961,
                        "remaining_time": 12.76938641,
                        "test": [
                          0.00002965170093
                        ]
                      },
                      {
                        "learn": [
                          0.00002752149557
                        ],
                        "iteration": 600,
                        "passed_time": 19.16317995,
                        "remaining_time": 12.72231082,
                        "test": [
                          0.00002960374984
                        ]
                      },
                      {
                        "learn": [
                          0.00002749220194
                        ],
                        "iteration": 601,
                        "passed_time": 19.17264991,
                        "remaining_time": 12.67560575,
                        "test": [
                          0.00002957432594
                        ]
                      },
                      {
                        "learn": [
                          0.00002734406815
                        ],
                        "iteration": 602,
                        "passed_time": 19.18202043,
                        "remaining_time": 12.62895872,
                        "test": [
                          0.00002942188681
                        ]
                      },
                      {
                        "learn": [
                          0.00002730185233
                        ],
                        "iteration": 603,
                        "passed_time": 19.19106334,
                        "remaining_time": 12.58222033,
                        "test": [
                          0.00002937452816
                        ]
                      },
                      {
                        "learn": [
                          0.00002725992187
                        ],
                        "iteration": 604,
                        "passed_time": 19.19916665,
                        "remaining_time": 12.5349931,
                        "test": [
                          0.00002932727808
                        ]
                      },
                      {
                        "learn": [
                          0.00002721806586
                        ],
                        "iteration": 605,
                        "passed_time": 19.2071365,
                        "remaining_time": 12.48780822,
                        "test": [
                          0.00002928031337
                        ]
                      },
                      {
                        "learn": [
                          0.00002718943603
                        ],
                        "iteration": 606,
                        "passed_time": 19.2152729,
                        "remaining_time": 12.44086038,
                        "test": [
                          0.00002924734719
                        ]
                      },
                      {
                        "learn": [
                          0.00002714783127
                        ],
                        "iteration": 607,
                        "passed_time": 19.22327133,
                        "remaining_time": 12.39395125,
                        "test": [
                          0.00002920088807
                        ]
                      },
                      {
                        "learn": [
                          0.0000270004171
                        ],
                        "iteration": 608,
                        "passed_time": 19.23140439,
                        "remaining_time": 12.34725635,
                        "test": [
                          0.00002904902899
                        ]
                      },
                      {
                        "learn": [
                          0.00002695921247
                        ],
                        "iteration": 609,
                        "passed_time": 19.23930226,
                        "remaining_time": 12.30053751,
                        "test": [
                          0.00002900285834
                        ]
                      },
                      {
                        "learn": [
                          0.00002693398844
                        ],
                        "iteration": 610,
                        "passed_time": 19.2495687,
                        "remaining_time": 12.25545372,
                        "test": [
                          0.00002897441151
                        ]
                      },
                      {
                        "learn": [
                          0.00002690574633
                        ],
                        "iteration": 611,
                        "passed_time": 19.25844778,
                        "remaining_time": 12.20960415,
                        "test": [
                          0.00002894616321
                        ]
                      },
                      {
                        "learn": [
                          0.00002686485499
                        ],
                        "iteration": 612,
                        "passed_time": 19.26717731,
                        "remaining_time": 12.16378078,
                        "test": [
                          0.00002890029344
                        ]
                      },
                      {
                        "learn": [
                          0.00002683695409
                        ],
                        "iteration": 613,
                        "passed_time": 19.27566168,
                        "remaining_time": 12.11792412,
                        "test": [
                          0.00002886810891
                        ]
                      },
                      {
                        "learn": [
                          0.00002680904698
                        ],
                        "iteration": 614,
                        "passed_time": 19.28594684,
                        "remaining_time": 12.07331632,
                        "test": [
                          0.00002883601124
                        ]
                      },
                      {
                        "learn": [
                          0.00002678122052
                        ],
                        "iteration": 615,
                        "passed_time": 19.29409992,
                        "remaining_time": 12.02749086,
                        "test": [
                          0.00002880815376
                        ]
                      },
                      {
                        "learn": [
                          0.00002662191395
                        ],
                        "iteration": 616,
                        "passed_time": 19.30207527,
                        "remaining_time": 11.98167719,
                        "test": [
                          0.00002864397113
                        ]
                      },
                      {
                        "learn": [
                          0.00002658189112
                        ],
                        "iteration": 617,
                        "passed_time": 19.31016663,
                        "remaining_time": 11.93605769,
                        "test": [
                          0.00002859887372
                        ]
                      },
                      {
                        "learn": [
                          0.00002654198616
                        ],
                        "iteration": 618,
                        "passed_time": 19.31815215,
                        "remaining_time": 11.8904943,
                        "test": [
                          0.00002855438116
                        ]
                      },
                      {
                        "learn": [
                          0.0000265022518
                        ],
                        "iteration": 619,
                        "passed_time": 19.32732648,
                        "remaining_time": 11.84578074,
                        "test": [
                          0.00002850967147
                        ]
                      },
                      {
                        "learn": [
                          0.00002647502709
                        ],
                        "iteration": 620,
                        "passed_time": 19.33546729,
                        "remaining_time": 11.80055089,
                        "test": [
                          0.00002847826861
                        ]
                      },
                      {
                        "learn": [
                          0.00002644778067
                        ],
                        "iteration": 621,
                        "passed_time": 19.34361783,
                        "remaining_time": 11.75544621,
                        "test": [
                          0.00002844677889
                        ]
                      },
                      {
                        "learn": [
                          0.00002640843094
                        ],
                        "iteration": 622,
                        "passed_time": 19.35166729,
                        "remaining_time": 11.71039899,
                        "test": [
                          0.00002840286017
                        ]
                      },
                      {
                        "learn": [
                          0.00002625042714
                        ],
                        "iteration": 623,
                        "passed_time": 19.3596418,
                        "remaining_time": 11.66542519,
                        "test": [
                          0.00002823994928
                        ]
                      },
                      {
                        "learn": [
                          0.00002622345368
                        ],
                        "iteration": 624,
                        "passed_time": 19.37130679,
                        "remaining_time": 11.62278407,
                        "test": [
                          0.0000282256871
                        ]
                      },
                      {
                        "learn": [
                          0.0000261966105
                        ],
                        "iteration": 625,
                        "passed_time": 19.3911319,
                        "remaining_time": 11.58511714,
                        "test": [
                          0.00002819891526
                        ]
                      },
                      {
                        "learn": [
                          0.00002617201924
                        ],
                        "iteration": 626,
                        "passed_time": 19.40360806,
                        "remaining_time": 11.54313526,
                        "test": [
                          0.00002816799318
                        ]
                      },
                      {
                        "learn": [
                          0.00002613974166
                        ],
                        "iteration": 627,
                        "passed_time": 19.42943916,
                        "remaining_time": 11.50915823,
                        "test": [
                          0.00002814315998
                        ]
                      },
                      {
                        "learn": [
                          0.00002611309079
                        ],
                        "iteration": 628,
                        "passed_time": 19.43724063,
                        "remaining_time": 11.46457277,
                        "test": [
                          0.0000281164905
                        ]
                      },
                      {
                        "learn": [
                          0.00002607475225
                        ],
                        "iteration": 629,
                        "passed_time": 19.44491987,
                        "remaining_time": 11.4200323,
                        "test": [
                          0.00002807327279
                        ]
                      },
                      {
                        "learn": [
                          0.00002603641681
                        ],
                        "iteration": 630,
                        "passed_time": 19.45264386,
                        "remaining_time": 11.37563484,
                        "test": [
                          0.00002803032804
                        ]
                      },
                      {
                        "learn": [
                          0.00002599835433
                        ],
                        "iteration": 631,
                        "passed_time": 19.46038061,
                        "remaining_time": 11.33136086,
                        "test": [
                          0.00002798748875
                        ]
                      },
                      {
                        "learn": [
                          0.00002584152612
                        ],
                        "iteration": 632,
                        "passed_time": 19.46932058,
                        "remaining_time": 11.28789993,
                        "test": [
                          0.00002782613188
                        ]
                      },
                      {
                        "learn": [
                          0.00002581533277
                        ],
                        "iteration": 633,
                        "passed_time": 19.47717052,
                        "remaining_time": 11.24391863,
                        "test": [
                          0.00002779984702
                        ]
                      },
                      {
                        "learn": [
                          0.0000257777092
                        ],
                        "iteration": 634,
                        "passed_time": 19.48476274,
                        "remaining_time": 11.19990299,
                        "test": [
                          0.00002775749783
                        ]
                      },
                      {
                        "learn": [
                          0.00002574023452
                        ],
                        "iteration": 635,
                        "passed_time": 19.49236536,
                        "remaining_time": 11.15600785,
                        "test": [
                          0.00002771564492
                        ]
                      },
                      {
                        "learn": [
                          0.00002571448938
                        ],
                        "iteration": 636,
                        "passed_time": 19.50007622,
                        "remaining_time": 11.11228833,
                        "test": [
                          0.00002768581468
                        ]
                      },
                      {
                        "learn": [
                          0.00002568883109
                        ],
                        "iteration": 637,
                        "passed_time": 19.50776282,
                        "remaining_time": 11.06866793,
                        "test": [
                          0.00002765620467
                        ]
                      },
                      {
                        "learn": [
                          0.00002554414963
                        ],
                        "iteration": 638,
                        "passed_time": 19.51554799,
                        "remaining_time": 11.02521569,
                        "test": [
                          0.00002751149529
                        ]
                      },
                      {
                        "learn": [
                          0.00002551862627
                        ],
                        "iteration": 639,
                        "passed_time": 19.52328416,
                        "remaining_time": 10.98184734,
                        "test": [
                          0.00002748570052
                        ]
                      },
                      {
                        "learn": [
                          0.00002549304243
                        ],
                        "iteration": 640,
                        "passed_time": 19.53094988,
                        "remaining_time": 10.93855071,
                        "test": [
                          0.00002746020043
                        ]
                      },
                      {
                        "learn": [
                          0.0000254562579
                        ],
                        "iteration": 641,
                        "passed_time": 19.53867156,
                        "remaining_time": 10.89539629,
                        "test": [
                          0.00002741902682
                        ]
                      },
                      {
                        "learn": [
                          0.0000254195959
                        ],
                        "iteration": 642,
                        "passed_time": 19.54627388,
                        "remaining_time": 10.85228581,
                        "test": [
                          0.0000273776609
                        ]
                      },
                      {
                        "learn": [
                          0.0000253945068
                        ],
                        "iteration": 643,
                        "passed_time": 19.55408807,
                        "remaining_time": 10.80940272,
                        "test": [
                          0.00002734871778
                        ]
                      },
                      {
                        "learn": [
                          0.00002535801849
                        ],
                        "iteration": 644,
                        "passed_time": 19.56169278,
                        "remaining_time": 10.76651308,
                        "test": [
                          0.00002730783264
                        ]
                      },
                      {
                        "learn": [
                          0.00002533776203
                        ],
                        "iteration": 645,
                        "passed_time": 19.56971405,
                        "remaining_time": 10.72396095,
                        "test": [
                          0.00002728273579
                        ]
                      },
                      {
                        "learn": [
                          0.00002530148
                        ],
                        "iteration": 646,
                        "passed_time": 19.57724577,
                        "remaining_time": 10.68124847,
                        "test": [
                          0.00002724214842
                        ]
                      },
                      {
                        "learn": [
                          0.00002527666541
                        ],
                        "iteration": 647,
                        "passed_time": 19.58480377,
                        "remaining_time": 10.63865884,
                        "test": [
                          0.00002721694611
                        ]
                      },
                      {
                        "learn": [
                          0.0000251330122
                        ],
                        "iteration": 648,
                        "passed_time": 19.59240526,
                        "remaining_time": 10.59620069,
                        "test": [
                          0.00002706979869
                        ]
                      },
                      {
                        "learn": [
                          0.00002509707292
                        ],
                        "iteration": 649,
                        "passed_time": 19.59982872,
                        "remaining_time": 10.55375393,
                        "test": [
                          0.00002702949669
                        ]
                      },
                      {
                        "learn": [
                          0.00002507250182
                        ],
                        "iteration": 650,
                        "passed_time": 19.60746793,
                        "remaining_time": 10.51153043,
                        "test": [
                          0.00002700103436
                        ]
                      },
                      {
                        "learn": [
                          0.00002503701231
                        ],
                        "iteration": 651,
                        "passed_time": 19.61483012,
                        "remaining_time": 10.46926516,
                        "test": [
                          0.00002696105495
                        ]
                      },
                      {
                        "learn": [
                          0.00002500152899
                        ],
                        "iteration": 652,
                        "passed_time": 19.62232999,
                        "remaining_time": 10.42717995,
                        "test": [
                          0.00002692134851
                        ]
                      },
                      {
                        "learn": [
                          0.00002497725102
                        ],
                        "iteration": 653,
                        "passed_time": 19.62980936,
                        "remaining_time": 10.38518966,
                        "test": [
                          0.0000268932739
                        ]
                      },
                      {
                        "learn": [
                          0.0000249529746
                        ],
                        "iteration": 654,
                        "passed_time": 19.63737137,
                        "remaining_time": 10.34334828,
                        "test": [
                          0.0000268652148
                        ]
                      },
                      {
                        "learn": [
                          0.00002479899541
                        ],
                        "iteration": 655,
                        "passed_time": 19.64494254,
                        "remaining_time": 10.30161621,
                        "test": [
                          0.00002670690392
                        ]
                      },
                      {
                        "learn": [
                          0.00002477481825
                        ],
                        "iteration": 656,
                        "passed_time": 19.67918887,
                        "remaining_time": 10.27391443,
                        "test": [
                          0.00002667892547
                        ]
                      },
                      {
                        "learn": [
                          0.00002475090319
                        ],
                        "iteration": 657,
                        "passed_time": 19.68687792,
                        "remaining_time": 10.23238944,
                        "test": [
                          0.00002665145883
                        ]
                      },
                      {
                        "learn": [
                          0.00002472074726
                        ],
                        "iteration": 658,
                        "passed_time": 19.69442175,
                        "remaining_time": 10.19089198,
                        "test": [
                          0.00002661530397
                        ]
                      },
                      {
                        "learn": [
                          0.00002468606887
                        ],
                        "iteration": 659,
                        "passed_time": 19.70542443,
                        "remaining_time": 10.15127925,
                        "test": [
                          0.00002657648464
                        ]
                      },
                      {
                        "learn": [
                          0.00002465161071
                        ],
                        "iteration": 660,
                        "passed_time": 19.71312685,
                        "remaining_time": 10.11006052,
                        "test": [
                          0.00002653757537
                        ]
                      },
                      {
                        "learn": [
                          0.00002462789571
                        ],
                        "iteration": 661,
                        "passed_time": 19.72082033,
                        "remaining_time": 10.06893848,
                        "test": [
                          0.00002651403253
                        ]
                      },
                      {
                        "learn": [
                          0.00002459358954
                        ],
                        "iteration": 662,
                        "passed_time": 19.72836656,
                        "remaining_time": 10.02784243,
                        "test": [
                          0.00002647550787
                        ]
                      },
                      {
                        "learn": [
                          0.00002455947724
                        ],
                        "iteration": 663,
                        "passed_time": 19.73579058,
                        "remaining_time": 9.986785593,
                        "test": [
                          0.00002643738956
                        ]
                      },
                      {
                        "learn": [
                          0.00002453150499
                        ],
                        "iteration": 664,
                        "passed_time": 19.74394919,
                        "remaining_time": 9.946199966,
                        "test": [
                          0.00002640526087
                        ]
                      },
                      {
                        "learn": [
                          0.00002438930188
                        ],
                        "iteration": 665,
                        "passed_time": 19.75151081,
                        "remaining_time": 9.905412328,
                        "test": [
                          0.00002625935419
                        ]
                      },
                      {
                        "learn": [
                          0.00002435553233
                        ],
                        "iteration": 666,
                        "passed_time": 19.75906872,
                        "remaining_time": 9.864722464,
                        "test": [
                          0.00002622134134
                        ]
                      },
                      {
                        "learn": [
                          0.00002432183411
                        ],
                        "iteration": 667,
                        "passed_time": 19.76652099,
                        "remaining_time": 9.824079295,
                        "test": [
                          0.00002618361075
                        ]
                      },
                      {
                        "learn": [
                          0.00002428832511
                        ],
                        "iteration": 668,
                        "passed_time": 19.77408934,
                        "remaining_time": 9.783592782,
                        "test": [
                          0.00002614607869
                        ]
                      },
                      {
                        "learn": [
                          0.0000242549743
                        ],
                        "iteration": 669,
                        "passed_time": 19.78160579,
                        "remaining_time": 9.743178973,
                        "test": [
                          0.00002610854041
                        ]
                      },
                      {
                        "learn": [
                          0.00002422169173
                        ],
                        "iteration": 670,
                        "passed_time": 19.78895252,
                        "remaining_time": 9.702779999,
                        "test": [
                          0.00002607129682
                        ]
                      },
                      {
                        "learn": [
                          0.00002419410722
                        ],
                        "iteration": 671,
                        "passed_time": 19.79650415,
                        "remaining_time": 9.662579404,
                        "test": [
                          0.00002603788707
                        ]
                      },
                      {
                        "learn": [
                          0.00002404221866
                        ],
                        "iteration": 672,
                        "passed_time": 19.80400501,
                        "remaining_time": 9.622451172,
                        "test": [
                          0.00002588173661
                        ]
                      },
                      {
                        "learn": [
                          0.00002401525916
                        ],
                        "iteration": 673,
                        "passed_time": 19.81161198,
                        "remaining_time": 9.582471077,
                        "test": [
                          0.00002585099444
                        ]
                      },
                      {
                        "learn": [
                          0.00002398246668
                        ],
                        "iteration": 674,
                        "passed_time": 19.819037,
                        "remaining_time": 9.542499296,
                        "test": [
                          0.00002581433088
                        ]
                      },
                      {
                        "learn": [
                          0.00002396000638
                        ],
                        "iteration": 675,
                        "passed_time": 19.82666436,
                        "remaining_time": 9.502720786,
                        "test": [
                          0.0000257883407
                        ]
                      },
                      {
                        "learn": [
                          0.00002393741424
                        ],
                        "iteration": 676,
                        "passed_time": 19.83428026,
                        "remaining_time": 9.463031792,
                        "test": [
                          0.00002576568808
                        ]
                      },
                      {
                        "learn": [
                          0.00002391497875
                        ],
                        "iteration": 677,
                        "passed_time": 19.84194786,
                        "remaining_time": 9.423461962,
                        "test": [
                          0.00002573988246
                        ]
                      },
                      {
                        "learn": [
                          0.00002388263138
                        ],
                        "iteration": 678,
                        "passed_time": 19.84961303,
                        "remaining_time": 9.383984952,
                        "test": [
                          0.00002570351513
                        ]
                      },
                      {
                        "learn": [
                          0.00002385038017
                        ],
                        "iteration": 679,
                        "passed_time": 19.85717428,
                        "remaining_time": 9.344552601,
                        "test": [
                          0.00002566743161
                        ]
                      },
                      {
                        "learn": [
                          0.00002381820961
                        ],
                        "iteration": 680,
                        "passed_time": 19.86454031,
                        "remaining_time": 9.305122406,
                        "test": [
                          0.00002563136671
                        ]
                      },
                      {
                        "learn": [
                          0.00002379615564
                        ],
                        "iteration": 681,
                        "passed_time": 19.872054,
                        "remaining_time": 9.265855092,
                        "test": [
                          0.00002560594726
                        ]
                      },
                      {
                        "learn": [
                          0.00002377410012
                        ],
                        "iteration": 682,
                        "passed_time": 19.87974512,
                        "remaining_time": 9.226763109,
                        "test": [
                          0.00002558368703
                        ]
                      },
                      {
                        "learn": [
                          0.00002375212525
                        ],
                        "iteration": 683,
                        "passed_time": 19.88736049,
                        "remaining_time": 9.187727947,
                        "test": [
                          0.00002555837304
                        ]
                      },
                      {
                        "learn": [
                          0.00002360138282
                        ],
                        "iteration": 684,
                        "passed_time": 19.89483385,
                        "remaining_time": 9.148719214,
                        "test": [
                          0.00002540398907
                        ]
                      },
                      {
                        "learn": [
                          0.00002357955994
                        ],
                        "iteration": 685,
                        "passed_time": 19.90247756,
                        "remaining_time": 9.1098804,
                        "test": [
                          0.00002538202506
                        ]
                      },
                      {
                        "learn": [
                          0.00002355778824
                        ],
                        "iteration": 686,
                        "passed_time": 19.91027042,
                        "remaining_time": 9.071200351,
                        "test": [
                          0.00002535700575
                        ]
                      },
                      {
                        "learn": [
                          0.00002353610804
                        ],
                        "iteration": 687,
                        "passed_time": 19.91785411,
                        "remaining_time": 9.032515234,
                        "test": [
                          0.00002533186236
                        ]
                      },
                      {
                        "learn": [
                          0.0000235047393
                        ],
                        "iteration": 688,
                        "passed_time": 19.92539323,
                        "remaining_time": 8.993900282,
                        "test": [
                          0.00002529689861
                        ]
                      },
                      {
                        "learn": [
                          0.00002348308702
                        ],
                        "iteration": 689,
                        "passed_time": 19.93289915,
                        "remaining_time": 8.955360488,
                        "test": [
                          0.00002527512691
                        ]
                      },
                      {
                        "learn": [
                          0.00002345191834
                        ],
                        "iteration": 690,
                        "passed_time": 19.94033333,
                        "remaining_time": 8.916878437,
                        "test": [
                          0.00002524004838
                        ]
                      },
                      {
                        "learn": [
                          0.00002330203977
                        ],
                        "iteration": 691,
                        "passed_time": 19.94779582,
                        "remaining_time": 8.878498716,
                        "test": [
                          0.00002508644452
                        ]
                      },
                      {
                        "learn": [
                          0.0000232709626
                        ],
                        "iteration": 692,
                        "passed_time": 19.95520896,
                        "remaining_time": 8.840186364,
                        "test": [
                          0.0000250515397
                        ]
                      },
                      {
                        "learn": [
                          0.00002324965462
                        ],
                        "iteration": 693,
                        "passed_time": 19.96319725,
                        "remaining_time": 8.802216655,
                        "test": [
                          0.00002503037285
                        ]
                      },
                      {
                        "learn": [
                          0.00002322854051
                        ],
                        "iteration": 694,
                        "passed_time": 19.9710285,
                        "remaining_time": 8.764264305,
                        "test": [
                          0.00002500583898
                        ]
                      },
                      {
                        "learn": [
                          0.00002321126335
                        ],
                        "iteration": 695,
                        "passed_time": 19.97880902,
                        "remaining_time": 8.726376355,
                        "test": [
                          0.00002498445656
                        ]
                      },
                      {
                        "learn": [
                          0.00002319007479
                        ],
                        "iteration": 696,
                        "passed_time": 19.98588341,
                        "remaining_time": 8.688267822,
                        "test": [
                          0.00002496041432
                        ]
                      },
                      {
                        "learn": [
                          0.00002316911112
                        ],
                        "iteration": 697,
                        "passed_time": 19.99291288,
                        "remaining_time": 8.650228782,
                        "test": [
                          0.00002493607431
                        ]
                      },
                      {
                        "learn": [
                          0.0000231387303
                        ],
                        "iteration": 698,
                        "passed_time": 19.99980628,
                        "remaining_time": 8.61221987,
                        "test": [
                          0.0000249017821
                        ]
                      },
                      {
                        "learn": [
                          0.00002311768598
                        ],
                        "iteration": 699,
                        "passed_time": 20.00676618,
                        "remaining_time": 8.574328361,
                        "test": [
                          0.00002488099212
                        ]
                      },
                      {
                        "learn": [
                          0.00002309686964
                        ],
                        "iteration": 700,
                        "passed_time": 20.01378218,
                        "remaining_time": 8.536549032,
                        "test": [
                          0.00002485665832
                        ]
                      },
                      {
                        "learn": [
                          0.00002307600212
                        ],
                        "iteration": 701,
                        "passed_time": 20.0208548,
                        "remaining_time": 8.498881384,
                        "test": [
                          0.0000248359645
                        ]
                      },
                      {
                        "learn": [
                          0.00002305520284
                        ],
                        "iteration": 702,
                        "passed_time": 20.0278597,
                        "remaining_time": 8.461272162,
                        "test": [
                          0.00002481211768
                        ]
                      },
                      {
                        "learn": [
                          0.00002302526249
                        ],
                        "iteration": 703,
                        "passed_time": 20.03473003,
                        "remaining_time": 8.423693307,
                        "test": [
                          0.00002477821319
                        ]
                      },
                      {
                        "learn": [
                          0.00002287636409
                        ],
                        "iteration": 704,
                        "passed_time": 20.04162075,
                        "remaining_time": 8.386210099,
                        "test": [
                          0.00002462589039
                        ]
                      },
                      {
                        "learn": [
                          0.0000228557928
                        ],
                        "iteration": 705,
                        "passed_time": 20.04855318,
                        "remaining_time": 8.348830927,
                        "test": [
                          0.00002460529272
                        ]
                      },
                      {
                        "learn": [
                          0.00002283539366
                        ],
                        "iteration": 706,
                        "passed_time": 20.05563455,
                        "remaining_time": 8.31159961,
                        "test": [
                          0.00002458164132
                        ]
                      },
                      {
                        "learn": [
                          0.00002280567353
                        ],
                        "iteration": 707,
                        "passed_time": 20.06256684,
                        "remaining_time": 8.274391972,
                        "test": [
                          0.00002454833549
                        ]
                      },
                      {
                        "learn": [
                          0.00002278522476
                        ],
                        "iteration": 708,
                        "passed_time": 20.06975147,
                        "remaining_time": 8.237373311,
                        "test": [
                          0.00002452803715
                        ]
                      },
                      {
                        "learn": [
                          0.00002276662157
                        ],
                        "iteration": 709,
                        "passed_time": 20.07686496,
                        "remaining_time": 8.200409633,
                        "test": [
                          0.00002451541273
                        ]
                      },
                      {
                        "learn": [
                          0.00002273722559
                        ],
                        "iteration": 710,
                        "passed_time": 20.08372771,
                        "remaining_time": 8.163428,
                        "test": [
                          0.0000244822837
                        ]
                      },
                      {
                        "learn": [
                          0.00002259818634
                        ],
                        "iteration": 711,
                        "passed_time": 20.09067959,
                        "remaining_time": 8.126567025,
                        "test": [
                          0.00002434022483
                        ]
                      },
                      {
                        "learn": [
                          0.00002258066103
                        ],
                        "iteration": 712,
                        "passed_time": 20.09776085,
                        "remaining_time": 8.089842025,
                        "test": [
                          0.00002433066035
                        ]
                      },
                      {
                        "learn": [
                          0.00002256045575
                        ],
                        "iteration": 713,
                        "passed_time": 20.10470036,
                        "remaining_time": 8.05314328,
                        "test": [
                          0.00002431065824
                        ]
                      },
                      {
                        "learn": [
                          0.00002253535735
                        ],
                        "iteration": 714,
                        "passed_time": 20.11164374,
                        "remaining_time": 8.016529323,
                        "test": [
                          0.00002428060157
                        ]
                      },
                      {
                        "learn": [
                          0.00002250630101
                        ],
                        "iteration": 715,
                        "passed_time": 20.11873904,
                        "remaining_time": 7.980058501,
                        "test": [
                          0.00002424807119
                        ]
                      },
                      {
                        "learn": [
                          0.00002248649897
                        ],
                        "iteration": 716,
                        "passed_time": 20.12568387,
                        "remaining_time": 7.94361023,
                        "test": [
                          0.00002422500603
                        ]
                      },
                      {
                        "learn": [
                          0.00002246833469
                        ],
                        "iteration": 717,
                        "passed_time": 20.13270889,
                        "remaining_time": 7.907275638,
                        "test": [
                          0.0000242022371
                        ]
                      },
                      {
                        "learn": [
                          0.00002243949238
                        ],
                        "iteration": 718,
                        "passed_time": 20.13953418,
                        "remaining_time": 7.870944514,
                        "test": [
                          0.00002416980133
                        ]
                      },
                      {
                        "learn": [
                          0.00002241092614
                        ],
                        "iteration": 719,
                        "passed_time": 20.14633209,
                        "remaining_time": 7.834684702,
                        "test": [
                          0.00002413755787
                        ]
                      },
                      {
                        "learn": [
                          0.00002238719253
                        ],
                        "iteration": 720,
                        "passed_time": 20.15327469,
                        "remaining_time": 7.798562607,
                        "test": [
                          0.00002410897146
                        ]
                      },
                      {
                        "learn": [
                          0.00002236760762
                        ],
                        "iteration": 721,
                        "passed_time": 20.16017683,
                        "remaining_time": 7.76250576,
                        "test": [
                          0.00002408650805
                        ]
                      },
                      {
                        "learn": [
                          0.00002234803976
                        ],
                        "iteration": 722,
                        "passed_time": 20.16708473,
                        "remaining_time": 7.726531772,
                        "test": [
                          0.00002406363365
                        ]
                      },
                      {
                        "learn": [
                          0.00002232854635
                        ],
                        "iteration": 723,
                        "passed_time": 20.17413241,
                        "remaining_time": 7.690691361,
                        "test": [
                          0.00002404145872
                        ]
                      },
                      {
                        "learn": [
                          0.00002230034767
                        ],
                        "iteration": 724,
                        "passed_time": 20.1808489,
                        "remaining_time": 7.654804754,
                        "test": [
                          0.00002400962005
                        ]
                      },
                      {
                        "learn": [
                          0.00002216208853
                        ],
                        "iteration": 725,
                        "passed_time": 20.18766616,
                        "remaining_time": 7.61903654,
                        "test": [
                          0.00002386834283
                        ]
                      },
                      {
                        "learn": [
                          0.00002213400772
                        ],
                        "iteration": 726,
                        "passed_time": 20.194275,
                        "remaining_time": 7.583269706,
                        "test": [
                          0.00002383700045
                        ]
                      },
                      {
                        "learn": [
                          0.00002211478417
                        ],
                        "iteration": 727,
                        "passed_time": 20.20097607,
                        "remaining_time": 7.547617433,
                        "test": [
                          0.00002381472161
                        ]
                      },
                      {
                        "learn": [
                          0.00002208690498
                        ],
                        "iteration": 728,
                        "passed_time": 20.20765201,
                        "remaining_time": 7.512035246,
                        "test": [
                          0.00002378336217
                        ]
                      },
                      {
                        "learn": [
                          0.00002205914676
                        ],
                        "iteration": 729,
                        "passed_time": 20.2186737,
                        "remaining_time": 7.478139589,
                        "test": [
                          0.00002375230671
                        ]
                      },
                      {
                        "learn": [
                          0.00002203146608
                        ],
                        "iteration": 730,
                        "passed_time": 20.22533896,
                        "remaining_time": 7.442703394,
                        "test": [
                          0.00002372125435
                        ]
                      },
                      {
                        "learn": [
                          0.00002201406795
                        ],
                        "iteration": 731,
                        "passed_time": 20.23323081,
                        "remaining_time": 7.407794887,
                        "test": [
                          0.00002370940538
                        ]
                      },
                      {
                        "learn": [
                          0.00002187605851
                        ],
                        "iteration": 732,
                        "passed_time": 20.24000876,
                        "remaining_time": 7.372554349,
                        "test": [
                          0.00002357148124
                        ]
                      },
                      {
                        "learn": [
                          0.00002185713273
                        ],
                        "iteration": 733,
                        "passed_time": 20.2466859,
                        "remaining_time": 7.337354835,
                        "test": [
                          0.0000235523585
                        ]
                      },
                      {
                        "learn": [
                          0.00002183825969
                        ],
                        "iteration": 734,
                        "passed_time": 20.25336777,
                        "remaining_time": 7.302234639,
                        "test": [
                          0.00002353086751
                        ]
                      },
                      {
                        "learn": [
                          0.00002181935872
                        ],
                        "iteration": 735,
                        "passed_time": 20.26166614,
                        "remaining_time": 7.267771552,
                        "test": [
                          0.00002351174942
                        ]
                      },
                      {
                        "learn": [
                          0.00002180057563
                        ],
                        "iteration": 736,
                        "passed_time": 20.26830408,
                        "remaining_time": 7.232786938,
                        "test": [
                          0.00002349311987
                        ]
                      },
                      {
                        "learn": [
                          0.00002178186543
                        ],
                        "iteration": 737,
                        "passed_time": 20.27760782,
                        "remaining_time": 7.198825541,
                        "test": [
                          0.0000234742949
                        ]
                      },
                      {
                        "learn": [
                          0.00002176522415
                        ],
                        "iteration": 738,
                        "passed_time": 20.28438662,
                        "remaining_time": 7.164039118,
                        "test": [
                          0.00002345546838
                        ]
                      },
                      {
                        "learn": [
                          0.00002174658839
                        ],
                        "iteration": 739,
                        "passed_time": 20.29115101,
                        "remaining_time": 7.129323328,
                        "test": [
                          0.00002343398205
                        ]
                      },
                      {
                        "learn": [
                          0.00002171954824
                        ],
                        "iteration": 740,
                        "passed_time": 20.29920092,
                        "remaining_time": 7.095132304,
                        "test": [
                          0.00002340351128
                        ]
                      },
                      {
                        "learn": [
                          0.00002170096056
                        ],
                        "iteration": 741,
                        "passed_time": 20.30592178,
                        "remaining_time": 7.06054962,
                        "test": [
                          0.00002339375915
                        ]
                      },
                      {
                        "learn": [
                          0.00002167413599
                        ],
                        "iteration": 742,
                        "passed_time": 20.31262307,
                        "remaining_time": 7.026035168,
                        "test": [
                          0.00002336359391
                        ]
                      },
                      {
                        "learn": [
                          0.00002164750683
                        ],
                        "iteration": 743,
                        "passed_time": 20.31940931,
                        "remaining_time": 6.991624708,
                        "test": [
                          0.00002333351863
                        ]
                      },
                      {
                        "learn": [
                          0.00002162903237
                        ],
                        "iteration": 744,
                        "passed_time": 20.32624721,
                        "remaining_time": 6.957306094,
                        "test": [
                          0.0000233150907
                        ]
                      },
                      {
                        "learn": [
                          0.00002161069439
                        ],
                        "iteration": 745,
                        "passed_time": 20.33314342,
                        "remaining_time": 6.923081002,
                        "test": [
                          0.00002329666431
                        ]
                      },
                      {
                        "learn": [
                          0.00002158421257
                        ],
                        "iteration": 746,
                        "passed_time": 20.33988809,
                        "remaining_time": 6.888877758,
                        "test": [
                          0.0000232668837
                        ]
                      },
                      {
                        "learn": [
                          0.00002144699254
                        ],
                        "iteration": 747,
                        "passed_time": 20.34677166,
                        "remaining_time": 6.854794729,
                        "test": [
                          0.00002312983582
                        ]
                      },
                      {
                        "learn": [
                          0.00002142060998
                        ],
                        "iteration": 748,
                        "passed_time": 20.35362895,
                        "remaining_time": 6.820775522,
                        "test": [
                          0.00002310005677
                        ]
                      },
                      {
                        "learn": [
                          0.00002140254341
                        ],
                        "iteration": 749,
                        "passed_time": 20.36048431,
                        "remaining_time": 6.786828102,
                        "test": [
                          0.00002307915513
                        ]
                      },
                      {
                        "learn": [
                          0.00002137633455
                        ],
                        "iteration": 750,
                        "passed_time": 20.36718575,
                        "remaining_time": 6.7529018,
                        "test": [
                          0.00002304986616
                        ]
                      },
                      {
                        "learn": [
                          0.0000213503211
                        ],
                        "iteration": 751,
                        "passed_time": 20.37397784,
                        "remaining_time": 6.7190778,
                        "test": [
                          0.00002302037402
                        ]
                      },
                      {
                        "learn": [
                          0.00002133226073
                        ],
                        "iteration": 752,
                        "passed_time": 20.38084521,
                        "remaining_time": 6.685350288,
                        "test": [
                          0.00002300234311
                        ]
                      },
                      {
                        "learn": [
                          0.00002131448108
                        ],
                        "iteration": 753,
                        "passed_time": 20.38775039,
                        "remaining_time": 6.651706361,
                        "test": [
                          0.00002298163844
                        ]
                      },
                      {
                        "learn": [
                          0.00002128861497
                        ],
                        "iteration": 754,
                        "passed_time": 20.39458144,
                        "remaining_time": 6.618109209,
                        "test": [
                          0.00002295243477
                        ]
                      },
                      {
                        "learn": [
                          0.00002115186022
                        ],
                        "iteration": 755,
                        "passed_time": 20.41439751,
                        "remaining_time": 6.588773799,
                        "test": [
                          0.00002281579323
                        ]
                      },
                      {
                        "learn": [
                          0.0000211260701
                        ],
                        "iteration": 756,
                        "passed_time": 20.42566925,
                        "remaining_time": 6.556720776,
                        "test": [
                          0.0000227869075
                        ]
                      },
                      {
                        "learn": [
                          0.00002110040406
                        ],
                        "iteration": 757,
                        "passed_time": 20.44046637,
                        "remaining_time": 6.525848102,
                        "test": [
                          0.00002275811017
                        ]
                      },
                      {
                        "learn": [
                          0.00002108290202
                        ],
                        "iteration": 758,
                        "passed_time": 20.46753461,
                        "remaining_time": 6.49891415,
                        "test": [
                          0.0000227375001
                        ]
                      },
                      {
                        "learn": [
                          0.00002106527126
                        ],
                        "iteration": 759,
                        "passed_time": 20.47570361,
                        "remaining_time": 6.466011667,
                        "test": [
                          0.00002271996084
                        ]
                      },
                      {
                        "learn": [
                          0.00002103984871
                        ],
                        "iteration": 760,
                        "passed_time": 20.48253165,
                        "remaining_time": 6.432753042,
                        "test": [
                          0.00002269125966
                        ]
                      },
                      {
                        "learn": [
                          0.00002102238234
                        ],
                        "iteration": 761,
                        "passed_time": 20.48922869,
                        "remaining_time": 6.399522873,
                        "test": [
                          0.00002267114744
                        ]
                      },
                      {
                        "learn": [
                          0.00002100484928
                        ],
                        "iteration": 762,
                        "passed_time": 20.49586901,
                        "remaining_time": 6.366344635,
                        "test": [
                          0.00002266188074
                        ]
                      },
                      {
                        "learn": [
                          0.00002097965162
                        ],
                        "iteration": 763,
                        "passed_time": 20.50266086,
                        "remaining_time": 6.333282673,
                        "test": [
                          0.0000226335766
                        ]
                      },
                      {
                        "learn": [
                          0.00002096239152
                        ],
                        "iteration": 764,
                        "passed_time": 20.50944258,
                        "remaining_time": 6.300286282,
                        "test": [
                          0.00002261346747
                        ]
                      },
                      {
                        "learn": [
                          0.00002093731327
                        ],
                        "iteration": 765,
                        "passed_time": 20.51595857,
                        "remaining_time": 6.26727716,
                        "test": [
                          0.0000225853572
                        ]
                      },
                      {
                        "learn": [
                          0.00002091565944
                        ],
                        "iteration": 766,
                        "passed_time": 20.5226983,
                        "remaining_time": 6.234405091,
                        "test": [
                          0.00002255941354
                        ]
                      },
                      {
                        "learn": [
                          0.00002089068045
                        ],
                        "iteration": 767,
                        "passed_time": 20.52928456,
                        "remaining_time": 6.201554712,
                        "test": [
                          0.00002253151264
                        ]
                      },
                      {
                        "learn": [
                          0.0000208736716
                        ],
                        "iteration": 768,
                        "passed_time": 20.53594934,
                        "remaining_time": 6.168796226,
                        "test": [
                          0.00002251158807
                        ]
                      },
                      {
                        "learn": [
                          0.00002085663639
                        ],
                        "iteration": 769,
                        "passed_time": 20.5429399,
                        "remaining_time": 6.136202827,
                        "test": [
                          0.00002249185892
                        ]
                      },
                      {
                        "learn": [
                          0.00002083175821
                        ],
                        "iteration": 770,
                        "passed_time": 20.54953646,
                        "remaining_time": 6.103558819,
                        "test": [
                          0.00002246407589
                        ]
                      },
                      {
                        "learn": [
                          0.00002068826009
                        ],
                        "iteration": 771,
                        "passed_time": 20.5561933,
                        "remaining_time": 6.071000094,
                        "test": [
                          0.00002231734412
                        ]
                      },
                      {
                        "learn": [
                          0.00002066367504
                        ],
                        "iteration": 772,
                        "passed_time": 20.56277545,
                        "remaining_time": 6.038486452,
                        "test": [
                          0.00002228982008
                        ]
                      },
                      {
                        "learn": [
                          0.00002064680887
                        ],
                        "iteration": 773,
                        "passed_time": 20.56943006,
                        "remaining_time": 6.006060973,
                        "test": [
                          0.00002227297873
                        ]
                      },
                      {
                        "learn": [
                          0.00002062237115
                        ],
                        "iteration": 774,
                        "passed_time": 20.57596139,
                        "remaining_time": 5.973666211,
                        "test": [
                          0.00002224525153
                        ]
                      },
                      {
                        "learn": [
                          0.00002059804665
                        ],
                        "iteration": 775,
                        "passed_time": 20.58270507,
                        "remaining_time": 5.9413994,
                        "test": [
                          0.00002221801907
                        ]
                      },
                      {
                        "learn": [
                          0.00002057388809
                        ],
                        "iteration": 776,
                        "passed_time": 20.58929037,
                        "remaining_time": 5.909152834,
                        "test": [
                          0.00002219050744
                        ]
                      },
                      {
                        "learn": [
                          0.00002055722045
                        ],
                        "iteration": 777,
                        "passed_time": 20.59617575,
                        "remaining_time": 5.877057861,
                        "test": [
                          0.00002217158166
                        ]
                      },
                      {
                        "learn": [
                          0.0000205437151
                        ],
                        "iteration": 778,
                        "passed_time": 20.60324129,
                        "remaining_time": 5.845078722,
                        "test": [
                          0.00002215470774
                        ]
                      },
                      {
                        "learn": [
                          0.00002040074585
                        ],
                        "iteration": 779,
                        "passed_time": 20.61007219,
                        "remaining_time": 5.813097285,
                        "test": [
                          0.00002200877624
                        ]
                      },
                      {
                        "learn": [
                          0.00002038420072
                        ],
                        "iteration": 780,
                        "passed_time": 20.61683721,
                        "remaining_time": 5.781161778,
                        "test": [
                          0.00002198975741
                        ]
                      },
                      {
                        "learn": [
                          0.00002036025619
                        ],
                        "iteration": 781,
                        "passed_time": 20.62372466,
                        "remaining_time": 5.749324778,
                        "test": [
                          0.00002196281652
                        ]
                      },
                      {
                        "learn": [
                          0.00002034388476
                        ],
                        "iteration": 782,
                        "passed_time": 20.63047882,
                        "remaining_time": 5.717514564,
                        "test": [
                          0.00002194378063
                        ]
                      },
                      {
                        "learn": [
                          0.00002032010773
                        ],
                        "iteration": 783,
                        "passed_time": 20.63697063,
                        "remaining_time": 5.685695989,
                        "test": [
                          0.00002191694365
                        ]
                      },
                      {
                        "learn": [
                          0.00002030054453
                        ],
                        "iteration": 784,
                        "passed_time": 20.64371864,
                        "remaining_time": 5.654012111,
                        "test": [
                          0.00002189476251
                        ]
                      },
                      {
                        "learn": [
                          0.00002027688692
                        ],
                        "iteration": 785,
                        "passed_time": 20.65045097,
                        "remaining_time": 5.622387415,
                        "test": [
                          0.00002186792863
                        ]
                      },
                      {
                        "learn": [
                          0.00002026066593
                        ],
                        "iteration": 786,
                        "passed_time": 20.66849854,
                        "remaining_time": 5.593888424,
                        "test": [
                          0.00002185155721
                        ]
                      },
                      {
                        "learn": [
                          0.00002024451319
                        ],
                        "iteration": 787,
                        "passed_time": 20.69059076,
                        "remaining_time": 5.566504113,
                        "test": [
                          0.00002183292455
                        ]
                      },
                      {
                        "learn": [
                          0.00002022098585
                        ],
                        "iteration": 788,
                        "passed_time": 20.70206038,
                        "remaining_time": 5.536292446,
                        "test": [
                          0.00002180657456
                        ]
                      },
                      {
                        "learn": [
                          0.00002020503318
                        ],
                        "iteration": 789,
                        "passed_time": 20.70895449,
                        "remaining_time": 5.504911953,
                        "test": [
                          0.00002178783954
                        ]
                      },
                      {
                        "learn": [
                          0.00002018893161
                        ],
                        "iteration": 790,
                        "passed_time": 20.7157744,
                        "remaining_time": 5.473573766,
                        "test": [
                          0.00002176970318
                        ]
                      },
                      {
                        "learn": [
                          0.00002016562295
                        ],
                        "iteration": 791,
                        "passed_time": 20.72298237,
                        "remaining_time": 5.442399411,
                        "test": [
                          0.00002174335319
                        ]
                      },
                      {
                        "learn": [
                          0.00002014241511
                        ],
                        "iteration": 792,
                        "passed_time": 20.72965908,
                        "remaining_time": 5.411146822,
                        "test": [
                          0.00002171710245
                        ]
                      },
                      {
                        "learn": [
                          0.00002012653687
                        ],
                        "iteration": 793,
                        "passed_time": 20.7369986,
                        "remaining_time": 5.3801281,
                        "test": [
                          0.00002169887459
                        ]
                      },
                      {
                        "learn": [
                          0.00002010347016
                        ],
                        "iteration": 794,
                        "passed_time": 20.74364431,
                        "remaining_time": 5.348990041,
                        "test": [
                          0.00002167293248
                        ]
                      },
                      {
                        "learn": [
                          0.00002008051046
                        ],
                        "iteration": 795,
                        "passed_time": 20.7502315,
                        "remaining_time": 5.317898526,
                        "test": [
                          0.00002164706948
                        ]
                      },
                      {
                        "learn": [
                          0.00002006468186
                        ],
                        "iteration": 796,
                        "passed_time": 20.75714642,
                        "remaining_time": 5.286951975,
                        "test": [
                          0.00002162863844
                        ]
                      },
                      {
                        "learn": [
                          0.00002004899748
                        ],
                        "iteration": 797,
                        "passed_time": 20.76389626,
                        "remaining_time": 5.256023866,
                        "test": [
                          0.00002161285016
                        ]
                      },
                      {
                        "learn": [
                          0.00001991423255
                        ],
                        "iteration": 798,
                        "passed_time": 20.77062527,
                        "remaining_time": 5.225151038,
                        "test": [
                          0.00002147589068
                        ]
                      },
                      {
                        "learn": [
                          0.00001989859936
                        ],
                        "iteration": 799,
                        "passed_time": 20.77728357,
                        "remaining_time": 5.194320892,
                        "test": [
                          0.00002145776362
                        ]
                      },
                      {
                        "learn": [
                          0.00001988298788
                        ],
                        "iteration": 800,
                        "passed_time": 20.78399867,
                        "remaining_time": 5.163565211,
                        "test": [
                          0.00002143970946
                        ]
                      },
                      {
                        "learn": [
                          0.00001986737795
                        ],
                        "iteration": 801,
                        "passed_time": 20.79087276,
                        "remaining_time": 5.132908736,
                        "test": [
                          0.00002142412124
                        ]
                      },
                      {
                        "learn": [
                          0.00001985174941
                        ],
                        "iteration": 802,
                        "passed_time": 20.79768807,
                        "remaining_time": 5.102297073,
                        "test": [
                          0.00002140597247
                        ]
                      },
                      {
                        "learn": [
                          0.00001983618136
                        ],
                        "iteration": 803,
                        "passed_time": 20.8043596,
                        "remaining_time": 5.071709554,
                        "test": [
                          0.00002139040132
                        ]
                      },
                      {
                        "learn": [
                          0.0000198207715
                        ],
                        "iteration": 804,
                        "passed_time": 20.81099289,
                        "remaining_time": 5.041172191,
                        "test": [
                          0.00002137253171
                        ]
                      },
                      {
                        "learn": [
                          0.00001979823054
                        ],
                        "iteration": 805,
                        "passed_time": 20.81792971,
                        "remaining_time": 5.0107672,
                        "test": [
                          0.00002134728907
                        ]
                      },
                      {
                        "learn": [
                          0.00001966390297
                        ],
                        "iteration": 806,
                        "passed_time": 20.82486109,
                        "remaining_time": 4.980419072,
                        "test": [
                          0.00002121288239
                        ]
                      },
                      {
                        "learn": [
                          0.00001964849155
                        ],
                        "iteration": 807,
                        "passed_time": 20.83176174,
                        "remaining_time": 4.950121602,
                        "test": [
                          0.00002119522992
                        ]
                      },
                      {
                        "learn": [
                          0.00001963312977
                        ],
                        "iteration": 808,
                        "passed_time": 20.83846282,
                        "remaining_time": 4.919834856,
                        "test": [
                          0.00002117747818
                        ]
                      },
                      {
                        "learn": [
                          0.00001961097655
                        ],
                        "iteration": 809,
                        "passed_time": 20.84556576,
                        "remaining_time": 4.88970061,
                        "test": [
                          0.00002115251625
                        ]
                      },
                      {
                        "learn": [
                          0.00001959564268
                        ],
                        "iteration": 810,
                        "passed_time": 20.85233139,
                        "remaining_time": 4.859544554,
                        "test": [
                          0.00002113713276
                        ]
                      },
                      {
                        "learn": [
                          0.00001958041583
                        ],
                        "iteration": 811,
                        "passed_time": 20.85906634,
                        "remaining_time": 4.829439005,
                        "test": [
                          0.00002111956403
                        ]
                      },
                      {
                        "learn": [
                          0.00001956648864
                        ],
                        "iteration": 812,
                        "passed_time": 20.86588428,
                        "remaining_time": 4.799410038,
                        "test": [
                          0.00002110180919
                        ]
                      },
                      {
                        "learn": [
                          0.00001955265606
                        ],
                        "iteration": 813,
                        "passed_time": 20.87264849,
                        "remaining_time": 4.769425821,
                        "test": [
                          0.00002108434592
                        ]
                      },
                      {
                        "learn": [
                          0.00001953753001
                        ],
                        "iteration": 814,
                        "passed_time": 20.87947544,
                        "remaining_time": 4.739512831,
                        "test": [
                          0.00002106689506
                        ]
                      },
                      {
                        "learn": [
                          0.00001952241638
                        ],
                        "iteration": 815,
                        "passed_time": 20.88608286,
                        "remaining_time": 4.709606919,
                        "test": [
                          0.00002104962876
                        ]
                      },
                      {
                        "learn": [
                          0.0000195005051
                        ],
                        "iteration": 816,
                        "passed_time": 20.89266517,
                        "remaining_time": 4.679752419,
                        "test": [
                          0.00002102486225
                        ]
                      },
                      {
                        "learn": [
                          0.00001947880008
                        ],
                        "iteration": 817,
                        "passed_time": 20.89926821,
                        "remaining_time": 4.64995943,
                        "test": [
                          0.00002100050052
                        ]
                      },
                      {
                        "learn": [
                          0.00001946377795
                        ],
                        "iteration": 818,
                        "passed_time": 20.90601243,
                        "remaining_time": 4.620254274,
                        "test": [
                          0.0000209853171
                        ]
                      },
                      {
                        "learn": [
                          0.00001944883336
                        ],
                        "iteration": 819,
                        "passed_time": 20.91279408,
                        "remaining_time": 4.590613334,
                        "test": [
                          0.00002096824466
                        ]
                      },
                      {
                        "learn": [
                          0.0000194340144
                        ],
                        "iteration": 820,
                        "passed_time": 20.91951215,
                        "remaining_time": 4.56101422,
                        "test": [
                          0.00002095088375
                        ]
                      },
                      {
                        "learn": [
                          0.00001941908843
                        ],
                        "iteration": 821,
                        "passed_time": 20.92612214,
                        "remaining_time": 4.531447374,
                        "test": [
                          0.00002093381907
                        ]
                      },
                      {
                        "learn": [
                          0.00001939757418
                        ],
                        "iteration": 822,
                        "passed_time": 20.93270368,
                        "remaining_time": 4.501930195,
                        "test": [
                          0.00002090954109
                        ]
                      },
                      {
                        "learn": [
                          0.00001937990774
                        ],
                        "iteration": 823,
                        "passed_time": 20.93934688,
                        "remaining_time": 4.472481858,
                        "test": [
                          0.00002088920399
                        ]
                      },
                      {
                        "learn": [
                          0.00001936520975
                        ],
                        "iteration": 824,
                        "passed_time": 20.9459932,
                        "remaining_time": 4.443089468,
                        "test": [
                          0.00002087233317
                        ]
                      },
                      {
                        "learn": [
                          0.00001934372342
                        ],
                        "iteration": 825,
                        "passed_time": 20.9525566,
                        "remaining_time": 4.413734683,
                        "test": [
                          0.00002084815755
                        ]
                      },
                      {
                        "learn": [
                          0.00001920702294
                        ],
                        "iteration": 826,
                        "passed_time": 20.95933087,
                        "remaining_time": 4.384479131,
                        "test": [
                          0.00002070783415
                        ]
                      },
                      {
                        "learn": [
                          0.00001918583283
                        ],
                        "iteration": 827,
                        "passed_time": 20.96605708,
                        "remaining_time": 4.355267895,
                        "test": [
                          0.00002068366784
                        ]
                      },
                      {
                        "learn": [
                          0.00001916453571
                        ],
                        "iteration": 828,
                        "passed_time": 20.97263595,
                        "remaining_time": 4.326080516,
                        "test": [
                          0.00002065999317
                        ]
                      },
                      {
                        "learn": [
                          0.00001915009207
                        ],
                        "iteration": 829,
                        "passed_time": 20.9792785,
                        "remaining_time": 4.296960656,
                        "test": [
                          0.00002064322161
                        ]
                      },
                      {
                        "learn": [
                          0.0000191356112
                        ],
                        "iteration": 830,
                        "passed_time": 20.98808886,
                        "remaining_time": 4.26833576,
                        "test": [
                          0.00002062643144
                        ]
                      },
                      {
                        "learn": [
                          0.00001911449089
                        ],
                        "iteration": 831,
                        "passed_time": 20.99465152,
                        "remaining_time": 4.239304635,
                        "test": [
                          0.00002060275677
                        ]
                      },
                      {
                        "learn": [
                          0.00001909359235
                        ],
                        "iteration": 832,
                        "passed_time": 21.00124778,
                        "remaining_time": 4.210334188,
                        "test": [
                          0.00002057926356
                        ]
                      },
                      {
                        "learn": [
                          0.00001907272483
                        ],
                        "iteration": 833,
                        "passed_time": 21.00779081,
                        "remaining_time": 4.181406804,
                        "test": [
                          0.00002055568659
                        ]
                      },
                      {
                        "learn": [
                          0.00001893936502
                        ],
                        "iteration": 834,
                        "passed_time": 21.01456479,
                        "remaining_time": 4.152578671,
                        "test": [
                          0.00002042249583
                        ]
                      },
                      {
                        "learn": [
                          0.00001892498031
                        ],
                        "iteration": 835,
                        "passed_time": 21.0212135,
                        "remaining_time": 4.123778724,
                        "test": [
                          0.00002040799015
                        ]
                      },
                      {
                        "learn": [
                          0.00001890422756
                        ],
                        "iteration": 836,
                        "passed_time": 21.02771163,
                        "remaining_time": 4.095002384,
                        "test": [
                          0.00002038479782
                        ]
                      },
                      {
                        "learn": [
                          0.00001888364851
                        ],
                        "iteration": 837,
                        "passed_time": 21.03420307,
                        "remaining_time": 4.066277921,
                        "test": [
                          0.00002036139921
                        ]
                      },
                      {
                        "learn": [
                          0.00001886937237
                        ],
                        "iteration": 838,
                        "passed_time": 21.04085446,
                        "remaining_time": 4.03763715,
                        "test": [
                          0.00002034523406
                        ]
                      },
                      {
                        "learn": [
                          0.00001885516602
                        ],
                        "iteration": 839,
                        "passed_time": 21.04739423,
                        "remaining_time": 4.009027473,
                        "test": [
                          0.0000203310246
                        ]
                      },
                      {
                        "learn": [
                          0.00001884112406
                        ],
                        "iteration": 840,
                        "passed_time": 21.05393157,
                        "remaining_time": 3.980469822,
                        "test": [
                          0.00002031462991
                        ]
                      },
                      {
                        "learn": [
                          0.00001882700921
                        ],
                        "iteration": 841,
                        "passed_time": 21.06051846,
                        "remaining_time": 3.951973773,
                        "test": [
                          0.00002029826469
                        ]
                      },
                      {
                        "learn": [
                          0.00001881297656
                        ],
                        "iteration": 842,
                        "passed_time": 21.06702175,
                        "remaining_time": 3.923514133,
                        "test": [
                          0.00002028218794
                        ]
                      },
                      {
                        "learn": [
                          0.00001879252624
                        ],
                        "iteration": 843,
                        "passed_time": 21.07352977,
                        "remaining_time": 3.895107398,
                        "test": [
                          0.00002025927942
                        ]
                      },
                      {
                        "learn": [
                          0.0000187723132
                        ],
                        "iteration": 844,
                        "passed_time": 21.08000313,
                        "remaining_time": 3.866746137,
                        "test": [
                          0.00002023628715
                        ]
                      },
                      {
                        "learn": [
                          0.00001875198695
                        ],
                        "iteration": 845,
                        "passed_time": 21.0864092,
                        "remaining_time": 3.83842437,
                        "test": [
                          0.0000202134934
                        ]
                      },
                      {
                        "learn": [
                          0.00001873172584
                        ],
                        "iteration": 846,
                        "passed_time": 21.09287946,
                        "remaining_time": 3.810165948,
                        "test": [
                          0.0000201906981
                        ]
                      },
                      {
                        "learn": [
                          0.00001871161516
                        ],
                        "iteration": 847,
                        "passed_time": 21.09942184,
                        "remaining_time": 3.78197184,
                        "test": [
                          0.00002016799275
                        ]
                      },
                      {
                        "learn": [
                          0.00001869933349
                        ],
                        "iteration": 848,
                        "passed_time": 21.10606651,
                        "remaining_time": 3.753846929,
                        "test": [
                          0.00002015428114
                        ]
                      },
                      {
                        "learn": [
                          0.00001868544353
                        ],
                        "iteration": 849,
                        "passed_time": 21.11264021,
                        "remaining_time": 3.725760038,
                        "test": [
                          0.00002014046871
                        ]
                      },
                      {
                        "learn": [
                          0.00001867167918
                        ],
                        "iteration": 850,
                        "passed_time": 21.11925346,
                        "remaining_time": 3.697730629,
                        "test": [
                          0.00002012447726
                        ]
                      },
                      {
                        "learn": [
                          0.00001865178874
                        ],
                        "iteration": 851,
                        "passed_time": 21.12570464,
                        "remaining_time": 3.669723341,
                        "test": [
                          0.00002010197198
                        ]
                      },
                      {
                        "learn": [
                          0.00001863982501
                        ],
                        "iteration": 852,
                        "passed_time": 21.13227151,
                        "remaining_time": 3.641786531,
                        "test": [
                          0.00002009568303
                        ]
                      },
                      {
                        "learn": [
                          0.00001861988803
                        ],
                        "iteration": 853,
                        "passed_time": 21.13890511,
                        "remaining_time": 3.613911178,
                        "test": [
                          0.00002007316689
                        ]
                      },
                      {
                        "learn": [
                          0.00001860754898
                        ],
                        "iteration": 854,
                        "passed_time": 21.14552806,
                        "remaining_time": 3.586083705,
                        "test": [
                          0.00002005747477
                        ]
                      },
                      {
                        "learn": [
                          0.00001858768335
                        ],
                        "iteration": 855,
                        "passed_time": 21.15205217,
                        "remaining_time": 3.55828915,
                        "test": [
                          0.00002003526726
                        ]
                      },
                      {
                        "learn": [
                          0.00001857421213
                        ],
                        "iteration": 856,
                        "passed_time": 21.15873371,
                        "remaining_time": 3.530570503,
                        "test": [
                          0.00002002175261
                        ]
                      },
                      {
                        "learn": [
                          0.00001843552339
                        ],
                        "iteration": 857,
                        "passed_time": 21.16514488,
                        "remaining_time": 3.502856146,
                        "test": [
                          0.00001988063825
                        ]
                      },
                      {
                        "learn": [
                          0.00001841928069
                        ],
                        "iteration": 858,
                        "passed_time": 21.17171037,
                        "remaining_time": 3.47521672,
                        "test": [
                          0.00001986098819
                        ]
                      },
                      {
                        "learn": [
                          0.00001839959031
                        ],
                        "iteration": 859,
                        "passed_time": 21.17827521,
                        "remaining_time": 3.447626197,
                        "test": [
                          0.00001983888615
                        ]
                      },
                      {
                        "learn": [
                          0.00001838626642
                        ],
                        "iteration": 860,
                        "passed_time": 21.18482813,
                        "remaining_time": 3.42008259,
                        "test": [
                          0.00001982329018
                        ]
                      },
                      {
                        "learn": [
                          0.00001836682419
                        ],
                        "iteration": 861,
                        "passed_time": 21.19130137,
                        "remaining_time": 3.392574929,
                        "test": [
                          0.00001980158206
                        ]
                      },
                      {
                        "learn": [
                          0.0000183534786
                        ],
                        "iteration": 862,
                        "passed_time": 21.19789506,
                        "remaining_time": 3.365135138,
                        "test": [
                          0.00001978617841
                        ]
                      },
                      {
                        "learn": [
                          0.00001833412942
                        ],
                        "iteration": 863,
                        "passed_time": 21.20442324,
                        "remaining_time": 3.337733288,
                        "test": [
                          0.00001976427178
                        ]
                      },
                      {
                        "learn": [
                          0.00001832080709
                        ],
                        "iteration": 864,
                        "passed_time": 21.21204623,
                        "remaining_time": 3.310550567,
                        "test": [
                          0.0000197510456
                        ]
                      },
                      {
                        "learn": [
                          0.00001818257897
                        ],
                        "iteration": 865,
                        "passed_time": 21.21857325,
                        "remaining_time": 3.283243435,
                        "test": [
                          0.00001961032672
                        ]
                      },
                      {
                        "learn": [
                          0.00001816939932
                        ],
                        "iteration": 866,
                        "passed_time": 21.22505132,
                        "remaining_time": 3.255976731,
                        "test": [
                          0.00001959522549
                        ]
                      },
                      {
                        "learn": [
                          0.00001815623052
                        ],
                        "iteration": 867,
                        "passed_time": 21.23158774,
                        "remaining_time": 3.2287668,
                        "test": [
                          0.00001957993505
                        ]
                      },
                      {
                        "learn": [
                          0.00001813712174
                        ],
                        "iteration": 868,
                        "passed_time": 21.23830289,
                        "remaining_time": 3.201631391,
                        "test": [
                          0.00001955851695
                        ]
                      },
                      {
                        "learn": [
                          0.00001811804552
                        ],
                        "iteration": 869,
                        "passed_time": 21.24477405,
                        "remaining_time": 3.174506468,
                        "test": [
                          0.0000195369934
                        ]
                      },
                      {
                        "learn": [
                          0.00001809905306
                        ],
                        "iteration": 870,
                        "passed_time": 21.25378751,
                        "remaining_time": 3.147805498,
                        "test": [
                          0.00001951559082
                        ]
                      },
                      {
                        "learn": [
                          0.00001808347415
                        ],
                        "iteration": 871,
                        "passed_time": 21.26047203,
                        "remaining_time": 3.120803234,
                        "test": [
                          0.00001949791662
                        ]
                      },
                      {
                        "learn": [
                          0.00001807051783
                        ],
                        "iteration": 872,
                        "passed_time": 21.26706481,
                        "remaining_time": 3.09383417,
                        "test": [
                          0.0000194829162
                        ]
                      },
                      {
                        "learn": [
                          0.0000180574638
                        ],
                        "iteration": 873,
                        "passed_time": 21.27363313,
                        "remaining_time": 3.066908209,
                        "test": [
                          0.00001946988544
                        ]
                      },
                      {
                        "learn": [
                          0.00001803855664
                        ],
                        "iteration": 874,
                        "passed_time": 21.2801394,
                        "remaining_time": 3.040019914,
                        "test": [
                          0.00001944876357
                        ]
                      },
                      {
                        "learn": [
                          0.00001801987745
                        ],
                        "iteration": 875,
                        "passed_time": 21.28662561,
                        "remaining_time": 3.013175315,
                        "test": [
                          0.00001942763705
                        ]
                      },
                      {
                        "learn": [
                          0.00001800697232
                        ],
                        "iteration": 876,
                        "passed_time": 21.29327757,
                        "remaining_time": 2.986400389,
                        "test": [
                          0.00001941273434
                        ]
                      },
                      {
                        "learn": [
                          0.00001798834121
                        ],
                        "iteration": 877,
                        "passed_time": 21.29983014,
                        "remaining_time": 2.95965749,
                        "test": [
                          0.00001939170087
                        ]
                      },
                      {
                        "learn": [
                          0.00001796968064
                        ],
                        "iteration": 878,
                        "passed_time": 21.30629804,
                        "remaining_time": 2.932948877,
                        "test": [
                          0.00001937078217
                        ]
                      },
                      {
                        "learn": [
                          0.00001795695386
                        ],
                        "iteration": 879,
                        "passed_time": 21.31296557,
                        "remaining_time": 2.906313487,
                        "test": [
                          0.00001935587171
                        ]
                      },
                      {
                        "learn": [
                          0.00001793846389
                        ],
                        "iteration": 880,
                        "passed_time": 21.31939906,
                        "remaining_time": 2.879691814,
                        "test": [
                          0.00001933514222
                        ]
                      },
                      {
                        "learn": [
                          0.00001791993049
                        ],
                        "iteration": 881,
                        "passed_time": 21.32578385,
                        "remaining_time": 2.853109404,
                        "test": [
                          0.00001931431347
                        ]
                      },
                      {
                        "learn": [
                          0.00001790151496
                        ],
                        "iteration": 882,
                        "passed_time": 21.33217937,
                        "remaining_time": 2.826574163,
                        "test": [
                          0.0000192937856
                        ]
                      },
                      {
                        "learn": [
                          0.00001788893242
                        ],
                        "iteration": 883,
                        "passed_time": 21.33873023,
                        "remaining_time": 2.800104871,
                        "test": [
                          0.0000192790752
                        ]
                      },
                      {
                        "learn": [
                          0.00001787056652
                        ],
                        "iteration": 884,
                        "passed_time": 21.34515326,
                        "remaining_time": 2.773663983,
                        "test": [
                          0.00001925854423
                        ]
                      },
                      {
                        "learn": [
                          0.00001785238208
                        ],
                        "iteration": 885,
                        "passed_time": 21.35162888,
                        "remaining_time": 2.747275048,
                        "test": [
                          0.00001923801481
                        ]
                      },
                      {
                        "learn": [
                          0.00001783416196
                        ],
                        "iteration": 886,
                        "passed_time": 21.35839473,
                        "remaining_time": 2.720967986,
                        "test": [
                          0.00001921758775
                        ]
                      },
                      {
                        "learn": [
                          0.00001782268832
                        ],
                        "iteration": 887,
                        "passed_time": 21.36518442,
                        "remaining_time": 2.694707945,
                        "test": [
                          0.00001920317513
                        ]
                      },
                      {
                        "learn": [
                          0.00001780704272
                        ],
                        "iteration": 888,
                        "passed_time": 21.37170629,
                        "remaining_time": 2.668458266,
                        "test": [
                          0.00001918461071
                        ]
                      },
                      {
                        "learn": [
                          0.00001779448498
                        ],
                        "iteration": 889,
                        "passed_time": 21.37829706,
                        "remaining_time": 2.642261435,
                        "test": [
                          0.00001917197078
                        ]
                      },
                      {
                        "learn": [
                          0.00001766310879
                        ],
                        "iteration": 890,
                        "passed_time": 21.38484858,
                        "remaining_time": 2.616103811,
                        "test": [
                          0.00001904054031
                        ]
                      },
                      {
                        "learn": [
                          0.00001764509185
                        ],
                        "iteration": 891,
                        "passed_time": 21.39139244,
                        "remaining_time": 2.589989219,
                        "test": [
                          0.00001902029781
                        ]
                      },
                      {
                        "learn": [
                          0.00001763018448
                        ],
                        "iteration": 892,
                        "passed_time": 21.39795347,
                        "remaining_time": 2.563920516,
                        "test": [
                          0.00001900223278
                        ]
                      },
                      {
                        "learn": [
                          0.00001761546788
                        ],
                        "iteration": 893,
                        "passed_time": 21.4044561,
                        "remaining_time": 2.537888531,
                        "test": [
                          0.00001898554497
                        ]
                      },
                      {
                        "learn": [
                          0.00001760315519
                        ],
                        "iteration": 894,
                        "passed_time": 21.41108862,
                        "remaining_time": 2.511915425,
                        "test": [
                          0.0000189730043
                        ]
                      },
                      {
                        "learn": [
                          0.00001759078977
                        ],
                        "iteration": 895,
                        "passed_time": 21.41769652,
                        "remaining_time": 2.485982632,
                        "test": [
                          0.00001896076605
                        ]
                      },
                      {
                        "learn": [
                          0.00001757298996
                        ],
                        "iteration": 896,
                        "passed_time": 21.42408272,
                        "remaining_time": 2.460067469,
                        "test": [
                          0.00001894063212
                        ]
                      },
                      {
                        "learn": [
                          0.00001756079979
                        ],
                        "iteration": 897,
                        "passed_time": 21.46248059,
                        "remaining_time": 2.437831871,
                        "test": [
                          0.00001892848693
                        ]
                      },
                      {
                        "learn": [
                          0.00001754987361
                        ],
                        "iteration": 898,
                        "passed_time": 21.49559031,
                        "remaining_time": 2.414966209,
                        "test": [
                          0.00001891634949
                        ]
                      },
                      {
                        "learn": [
                          0.0000174187983
                        ],
                        "iteration": 899,
                        "passed_time": 21.50241878,
                        "remaining_time": 2.389157642,
                        "test": [
                          0.00001878322852
                        ]
                      },
                      {
                        "learn": [
                          0.00001740660813
                        ],
                        "iteration": 900,
                        "passed_time": 21.50923049,
                        "remaining_time": 2.363389366,
                        "test": [
                          0.00001876940524
                        ]
                      },
                      {
                        "learn": [
                          0.00001739451722
                        ],
                        "iteration": 901,
                        "passed_time": 21.51605793,
                        "remaining_time": 2.337664831,
                        "test": [
                          0.00001875529505
                        ]
                      },
                      {
                        "learn": [
                          0.00001737701518
                        ],
                        "iteration": 902,
                        "passed_time": 21.52279081,
                        "remaining_time": 2.311971992,
                        "test": [
                          0.00001873565275
                        ]
                      },
                      {
                        "learn": [
                          0.00001736714208
                        ],
                        "iteration": 903,
                        "passed_time": 21.52979104,
                        "remaining_time": 2.286349491,
                        "test": [
                          0.00001872341295
                        ]
                      },
                      {
                        "learn": [
                          0.00001735512716
                        ],
                        "iteration": 904,
                        "passed_time": 21.53652412,
                        "remaining_time": 2.260740101,
                        "test": [
                          0.00001870969203
                        ]
                      },
                      {
                        "learn": [
                          0.00001733762667
                        ],
                        "iteration": 905,
                        "passed_time": 21.54324549,
                        "remaining_time": 2.235171166,
                        "test": [
                          0.00001869013814
                        ]
                      },
                      {
                        "learn": [
                          0.00001732017271
                        ],
                        "iteration": 906,
                        "passed_time": 21.55033906,
                        "remaining_time": 2.209681954,
                        "test": [
                          0.00001867029732
                        ]
                      },
                      {
                        "learn": [
                          0.00001731303697
                        ],
                        "iteration": 907,
                        "passed_time": 21.55740019,
                        "remaining_time": 2.184229975,
                        "test": [
                          0.00001866002718
                        ]
                      },
                      {
                        "learn": [
                          0.00001729561092
                        ],
                        "iteration": 908,
                        "passed_time": 21.56407951,
                        "remaining_time": 2.158780237,
                        "test": [
                          0.00001864040194
                        ]
                      },
                      {
                        "learn": [
                          0.00001727832911
                        ],
                        "iteration": 909,
                        "passed_time": 21.57081533,
                        "remaining_time": 2.13337734,
                        "test": [
                          0.00001862104501
                        ]
                      },
                      {
                        "learn": [
                          0.0000172610566
                        ],
                        "iteration": 910,
                        "passed_time": 21.57753052,
                        "remaining_time": 2.10801341,
                        "test": [
                          0.00001860169584
                        ]
                      },
                      {
                        "learn": [
                          0.00001724925416
                        ],
                        "iteration": 911,
                        "passed_time": 21.58427123,
                        "remaining_time": 2.082692838,
                        "test": [
                          0.00001858806642
                        ]
                      },
                      {
                        "learn": [
                          0.00001723207316
                        ],
                        "iteration": 912,
                        "passed_time": 21.59103268,
                        "remaining_time": 2.057414943,
                        "test": [
                          0.00001856870639
                        ]
                      },
                      {
                        "learn": [
                          0.00001722027848
                        ],
                        "iteration": 913,
                        "passed_time": 21.59775942,
                        "remaining_time": 2.0321743,
                        "test": [
                          0.00001855518709
                        ]
                      },
                      {
                        "learn": [
                          0.00001720852722
                        ],
                        "iteration": 914,
                        "passed_time": 21.60448422,
                        "remaining_time": 2.006973944,
                        "test": [
                          0.00001854334433
                        ]
                      },
                      {
                        "learn": [
                          0.0000171914951
                        ],
                        "iteration": 915,
                        "passed_time": 21.61125239,
                        "remaining_time": 1.981817904,
                        "test": [
                          0.00001852428207
                        ]
                      },
                      {
                        "learn": [
                          0.00001717982294
                        ],
                        "iteration": 916,
                        "passed_time": 21.61801982,
                        "remaining_time": 1.956701903,
                        "test": [
                          0.00001851096284
                        ]
                      },
                      {
                        "learn": [
                          0.00001716565226
                        ],
                        "iteration": 917,
                        "passed_time": 21.62478093,
                        "remaining_time": 1.931625312,
                        "test": [
                          0.00001849387179
                        ]
                      },
                      {
                        "learn": [
                          0.00001715397855
                        ],
                        "iteration": 918,
                        "passed_time": 21.6315998,
                        "remaining_time": 1.906593671,
                        "test": [
                          0.00001848213139
                        ]
                      },
                      {
                        "learn": [
                          0.00001714237462
                        ],
                        "iteration": 919,
                        "passed_time": 21.63844276,
                        "remaining_time": 1.881603718,
                        "test": [
                          0.00001847059105
                        ]
                      },
                      {
                        "learn": [
                          0.00001713077535
                        ],
                        "iteration": 920,
                        "passed_time": 21.64712435,
                        "remaining_time": 1.856810883,
                        "test": [
                          0.0000184589406
                        ]
                      },
                      {
                        "learn": [
                          0.00001711391539
                        ],
                        "iteration": 921,
                        "passed_time": 21.65372339,
                        "remaining_time": 1.831876816,
                        "test": [
                          0.0000184398768
                        ]
                      },
                      {
                        "learn": [
                          0.00001709712987
                        ],
                        "iteration": 922,
                        "passed_time": 21.66019299,
                        "remaining_time": 1.80697168,
                        "test": [
                          0.00001842092
                        ]
                      },
                      {
                        "learn": [
                          0.00001708560194
                        ],
                        "iteration": 923,
                        "passed_time": 21.6667755,
                        "remaining_time": 1.782115734,
                        "test": [
                          0.00001840946807
                        ]
                      },
                      {
                        "learn": [
                          0.00001707397786
                        ],
                        "iteration": 924,
                        "passed_time": 21.67336477,
                        "remaining_time": 1.757299846,
                        "test": [
                          0.00001839781917
                        ]
                      },
                      {
                        "learn": [
                          0.00001706260192
                        ],
                        "iteration": 925,
                        "passed_time": 21.6833772,
                        "remaining_time": 1.732796882,
                        "test": [
                          0.00001838479151
                        ]
                      },
                      {
                        "learn": [
                          0.00001692707704
                        ],
                        "iteration": 926,
                        "passed_time": 21.70649203,
                        "remaining_time": 1.709356978,
                        "test": [
                          0.00001824722097
                        ]
                      },
                      {
                        "learn": [
                          0.000016913398
                        ],
                        "iteration": 927,
                        "passed_time": 21.72103391,
                        "remaining_time": 1.685252631,
                        "test": [
                          0.00001823151954
                        ]
                      },
                      {
                        "learn": [
                          0.00001690199569
                        ],
                        "iteration": 928,
                        "passed_time": 21.72787073,
                        "remaining_time": 1.660580002,
                        "test": [
                          0.00001822006761
                        ]
                      },
                      {
                        "learn": [
                          0.0000168854335
                        ],
                        "iteration": 929,
                        "passed_time": 21.73474894,
                        "remaining_time": 1.635948845,
                        "test": [
                          0.0000182015978
                        ]
                      },
                      {
                        "learn": [
                          0.00001686900935
                        ],
                        "iteration": 930,
                        "passed_time": 21.74167309,
                        "remaining_time": 1.61135923,
                        "test": [
                          0.00001818314195
                        ]
                      },
                      {
                        "learn": [
                          0.00001685254332
                        ],
                        "iteration": 931,
                        "passed_time": 21.7484083,
                        "remaining_time": 1.586793739,
                        "test": [
                          0.00001816447052
                        ]
                      },
                      {
                        "learn": [
                          0.00001684123717
                        ],
                        "iteration": 932,
                        "passed_time": 21.75520547,
                        "remaining_time": 1.562270918,
                        "test": [
                          0.00001815331636
                        ]
                      },
                      {
                        "learn": [
                          0.00001682489986
                        ],
                        "iteration": 933,
                        "passed_time": 21.76183457,
                        "remaining_time": 1.537774177,
                        "test": [
                          0.00001813485586
                        ]
                      },
                      {
                        "learn": [
                          0.0000168085548
                        ],
                        "iteration": 934,
                        "passed_time": 21.76852309,
                        "remaining_time": 1.513319787,
                        "test": [
                          0.00001811637829
                        ]
                      },
                      {
                        "learn": [
                          0.00001667847052
                        ],
                        "iteration": 935,
                        "passed_time": 21.77536916,
                        "remaining_time": 1.488914131,
                        "test": [
                          0.00001798643824
                        ]
                      },
                      {
                        "learn": [
                          0.00001666222007
                        ],
                        "iteration": 936,
                        "passed_time": 21.78200552,
                        "remaining_time": 1.464531855,
                        "test": [
                          0.00001796806304
                        ]
                      },
                      {
                        "learn": [
                          0.00001665111088
                        ],
                        "iteration": 937,
                        "passed_time": 21.78881749,
                        "remaining_time": 1.440199024,
                        "test": [
                          0.00001795542001
                        ]
                      },
                      {
                        "learn": [
                          0.00001663496434
                        ],
                        "iteration": 938,
                        "passed_time": 21.79552822,
                        "remaining_time": 1.415896935,
                        "test": [
                          0.00001793725107
                        ]
                      },
                      {
                        "learn": [
                          0.00001662383655
                        ],
                        "iteration": 939,
                        "passed_time": 21.80246741,
                        "remaining_time": 1.391646856,
                        "test": [
                          0.00001792619928
                        ]
                      },
                      {
                        "learn": [
                          0.00001661272581
                        ],
                        "iteration": 940,
                        "passed_time": 21.80920592,
                        "remaining_time": 1.367420988,
                        "test": [
                          0.00001791335152
                        ]
                      },
                      {
                        "learn": [
                          0.00001660178878
                        ],
                        "iteration": 941,
                        "passed_time": 21.81602324,
                        "remaining_time": 1.3432371,
                        "test": [
                          0.00001790052703
                        ]
                      },
                      {
                        "learn": [
                          0.0000165907618
                        ],
                        "iteration": 942,
                        "passed_time": 21.82283151,
                        "remaining_time": 1.319089497,
                        "test": [
                          0.00001788956209
                        ]
                      },
                      {
                        "learn": [
                          0.00001657473313
                        ],
                        "iteration": 943,
                        "passed_time": 21.82972042,
                        "remaining_time": 1.294983415,
                        "test": [
                          0.00001787168628
                        ]
                      },
                      {
                        "learn": [
                          0.00001656377128
                        ],
                        "iteration": 944,
                        "passed_time": 21.8364998,
                        "remaining_time": 1.270907396,
                        "test": [
                          0.00001785885558
                        ]
                      },
                      {
                        "learn": [
                          0.00001654789305
                        ],
                        "iteration": 945,
                        "passed_time": 21.84315734,
                        "remaining_time": 1.24686099,
                        "test": [
                          0.00001784097357
                        ]
                      },
                      {
                        "learn": [
                          0.00001653690639
                        ],
                        "iteration": 946,
                        "passed_time": 21.84994793,
                        "remaining_time": 1.222858754,
                        "test": [
                          0.000017828436
                        ]
                      },
                      {
                        "learn": [
                          0.00001652399039
                        ],
                        "iteration": 947,
                        "passed_time": 21.85675765,
                        "remaining_time": 1.198893879,
                        "test": [
                          0.00001781351467
                        ]
                      },
                      {
                        "learn": [
                          0.0000165130363
                        ],
                        "iteration": 948,
                        "passed_time": 21.86350178,
                        "remaining_time": 1.174961634,
                        "test": [
                          0.00001780769875
                        ]
                      },
                      {
                        "learn": [
                          0.00001649733332
                        ],
                        "iteration": 949,
                        "passed_time": 21.87020861,
                        "remaining_time": 1.151063611,
                        "test": [
                          0.0000177899222
                        ]
                      },
                      {
                        "learn": [
                          0.00001648644592
                        ],
                        "iteration": 950,
                        "passed_time": 21.87691536,
                        "remaining_time": 1.127201738,
                        "test": [
                          0.00001777758315
                        ]
                      },
                      {
                        "learn": [
                          0.0000164757074
                        ],
                        "iteration": 951,
                        "passed_time": 21.88364168,
                        "remaining_time": 1.103376892,
                        "test": [
                          0.00001776671901
                        ]
                      },
                      {
                        "learn": [
                          0.00001645992843
                        ],
                        "iteration": 952,
                        "passed_time": 21.89031671,
                        "remaining_time": 1.079585399,
                        "test": [
                          0.00001774914097
                        ]
                      },
                      {
                        "learn": [
                          0.00001644434486
                        ],
                        "iteration": 953,
                        "passed_time": 21.89697783,
                        "remaining_time": 1.05582912,
                        "test": [
                          0.0000177315769
                        ]
                      },
                      {
                        "learn": [
                          0.00001643363272
                        ],
                        "iteration": 954,
                        "passed_time": 21.90373684,
                        "remaining_time": 1.032113254,
                        "test": [
                          0.00001771913548
                        ]
                      },
                      {
                        "learn": [
                          0.00001641805536
                        ],
                        "iteration": 955,
                        "passed_time": 21.91041199,
                        "remaining_time": 1.008429004,
                        "test": [
                          0.00001770175131
                        ]
                      },
                      {
                        "learn": [
                          0.00001640744247
                        ],
                        "iteration": 956,
                        "passed_time": 21.91718293,
                        "remaining_time": 0.9847846037,
                        "test": [
                          0.00001768930679
                        ]
                      },
                      {
                        "learn": [
                          0.00001639193955
                        ],
                        "iteration": 957,
                        "passed_time": 21.92398554,
                        "remaining_time": 0.9611768192,
                        "test": [
                          0.00001767182802
                        ]
                      },
                      {
                        "learn": [
                          0.00001638132356
                        ],
                        "iteration": 958,
                        "passed_time": 21.93076897,
                        "remaining_time": 0.9376032616,
                        "test": [
                          0.00001765977433
                        ]
                      },
                      {
                        "learn": [
                          0.00001636591215
                        ],
                        "iteration": 959,
                        "passed_time": 21.93749316,
                        "remaining_time": 0.9140622152,
                        "test": [
                          0.00001764229555
                        ]
                      },
                      {
                        "learn": [
                          0.00001635055812
                        ],
                        "iteration": 960,
                        "passed_time": 21.95125903,
                        "remaining_time": 0.8908419379,
                        "test": [
                          0.00001762501685
                        ]
                      },
                      {
                        "learn": [
                          0.0000163399685
                        ],
                        "iteration": 961,
                        "passed_time": 21.96937202,
                        "remaining_time": 0.8678130321,
                        "test": [
                          0.0000176128701
                        ]
                      },
                      {
                        "learn": [
                          0.00001633090342
                        ],
                        "iteration": 962,
                        "passed_time": 22.00447335,
                        "remaining_time": 0.845447055,
                        "test": [
                          0.00001760792425
                        ]
                      },
                      {
                        "learn": [
                          0.00001632125364
                        ],
                        "iteration": 963,
                        "passed_time": 22.01891837,
                        "remaining_time": 0.8222832587,
                        "test": [
                          0.0000175957775
                        ]
                      },
                      {
                        "learn": [
                          0.00001631073536
                        ],
                        "iteration": 964,
                        "passed_time": 22.02712962,
                        "remaining_time": 0.798911437,
                        "test": [
                          0.00001758541121
                        ]
                      },
                      {
                        "learn": [
                          0.00001629557209
                        ],
                        "iteration": 965,
                        "passed_time": 22.03517982,
                        "remaining_time": 0.7755653353,
                        "test": [
                          0.00001756823021
                        ]
                      },
                      {
                        "learn": [
                          0.00001616143217
                        ],
                        "iteration": 966,
                        "passed_time": 22.04383516,
                        "remaining_time": 0.7522715204,
                        "test": [
                          0.00001743224005
                        ]
                      },
                      {
                        "learn": [
                          0.00001614624254
                        ],
                        "iteration": 967,
                        "passed_time": 22.06707362,
                        "remaining_time": 0.7294900369,
                        "test": [
                          0.0000174150513
                        ]
                      },
                      {
                        "learn": [
                          0.00001613703478
                        ],
                        "iteration": 968,
                        "passed_time": 22.09313421,
                        "remaining_time": 0.7067978953,
                        "test": [
                          0.00001740458109
                        ]
                      },
                      {
                        "learn": [
                          0.0000161266142
                        ],
                        "iteration": 969,
                        "passed_time": 22.1150643,
                        "remaining_time": 0.6839710608,
                        "test": [
                          0.00001739272747
                        ]
                      },
                      {
                        "learn": [
                          0.00001611624636
                        ],
                        "iteration": 970,
                        "passed_time": 22.13001204,
                        "remaining_time": 0.6609375376,
                        "test": [
                          0.00001738226037
                        ]
                      },
                      {
                        "learn": [
                          0.00001610120406
                        ],
                        "iteration": 971,
                        "passed_time": 22.14798037,
                        "remaining_time": 0.6380076649,
                        "test": [
                          0.00001736549191
                        ]
                      },
                      {
                        "learn": [
                          0.00001609086103
                        ],
                        "iteration": 972,
                        "passed_time": 22.17341107,
                        "remaining_time": 0.6152950656,
                        "test": [
                          0.00001735502015
                        ]
                      },
                      {
                        "learn": [
                          0.0000160805149
                        ],
                        "iteration": 973,
                        "passed_time": 22.19270363,
                        "remaining_time": 0.5924130333,
                        "test": [
                          0.00001734485237
                        ]
                      },
                      {
                        "learn": [
                          0.00001607035022
                        ],
                        "iteration": 974,
                        "passed_time": 22.21308077,
                        "remaining_time": 0.5695661735,
                        "test": [
                          0.00001733309956
                        ]
                      },
                      {
                        "learn": [
                          0.00001606007543
                        ],
                        "iteration": 975,
                        "passed_time": 22.23662516,
                        "remaining_time": 0.5468022581,
                        "test": [
                          0.0000173226278
                        ]
                      },
                      {
                        "learn": [
                          0.00001593087517
                        ],
                        "iteration": 976,
                        "passed_time": 22.25866831,
                        "remaining_time": 0.5240014035,
                        "test": [
                          0.00001719197123
                        ]
                      },
                      {
                        "learn": [
                          0.0000159207229
                        ],
                        "iteration": 977,
                        "passed_time": 22.29325298,
                        "remaining_time": 0.5014842183,
                        "test": [
                          0.00001718021532
                        ]
                      },
                      {
                        "learn": [
                          0.00001590588222
                        ],
                        "iteration": 978,
                        "passed_time": 22.30789236,
                        "remaining_time": 0.478514545,
                        "test": [
                          0.00001716352441
                        ]
                      },
                      {
                        "learn": [
                          0.00001589571134
                        ],
                        "iteration": 979,
                        "passed_time": 22.32743616,
                        "remaining_time": 0.4556619625,
                        "test": [
                          0.0000171517778
                        ]
                      },
                      {
                        "learn": [
                          0.00001588558544
                        ],
                        "iteration": 980,
                        "passed_time": 22.3473655,
                        "remaining_time": 0.4328235927,
                        "test": [
                          0.00001714012115
                        ]
                      },
                      {
                        "learn": [
                          0.00001587087039
                        ],
                        "iteration": 981,
                        "passed_time": 22.36377481,
                        "remaining_time": 0.4099266258,
                        "test": [
                          0.00001712343334
                        ]
                      },
                      {
                        "learn": [
                          0.00001586190767
                        ],
                        "iteration": 982,
                        "passed_time": 22.3872588,
                        "remaining_time": 0.3871652081,
                        "test": [
                          0.00001711355868
                        ]
                      },
                      {
                        "learn": [
                          0.0000158517585
                        ],
                        "iteration": 983,
                        "passed_time": 22.40383708,
                        "remaining_time": 0.3642900338,
                        "test": [
                          0.00001710180432
                        ]
                      },
                      {
                        "learn": [
                          0.00001584168378
                        ],
                        "iteration": 984,
                        "passed_time": 22.42877023,
                        "remaining_time": 0.3415548766,
                        "test": [
                          0.00001709153108
                        ]
                      },
                      {
                        "learn": [
                          0.00001582711606
                        ],
                        "iteration": 985,
                        "passed_time": 22.45262972,
                        "remaining_time": 0.3188000163,
                        "test": [
                          0.00001707533646
                        ]
                      },
                      {
                        "learn": [
                          0.0000158170677
                        ],
                        "iteration": 986,
                        "passed_time": 22.47827371,
                        "remaining_time": 0.2960664218,
                        "test": [
                          0.00001706506322
                        ]
                      },
                      {
                        "learn": [
                          0.00001580706898
                        ],
                        "iteration": 987,
                        "passed_time": 22.54220234,
                        "remaining_time": 0.2737919312,
                        "test": [
                          0.00001705518391
                        ]
                      },
                      {
                        "learn": [
                          0.00001579706559
                        ],
                        "iteration": 988,
                        "passed_time": 22.57672124,
                        "remaining_time": 0.2511061007,
                        "test": [
                          0.00001704363582
                        ]
                      },
                      {
                        "learn": [
                          0.00001578504448
                        ],
                        "iteration": 989,
                        "passed_time": 22.59183014,
                        "remaining_time": 0.2282003045,
                        "test": [
                          0.00001703434276
                        ]
                      },
                      {
                        "learn": [
                          0.00001577251621
                        ],
                        "iteration": 990,
                        "passed_time": 22.62395103,
                        "remaining_time": 0.205464742,
                        "test": [
                          0.00001701942609
                        ]
                      },
                      {
                        "learn": [
                          0.00001576051681
                        ],
                        "iteration": 991,
                        "passed_time": 22.65890321,
                        "remaining_time": 0.1827330904,
                        "test": [
                          0.00001700472034
                        ]
                      },
                      {
                        "learn": [
                          0.00001575053979
                        ],
                        "iteration": 992,
                        "passed_time": 22.67905558,
                        "remaining_time": 0.1598724965,
                        "test": [
                          0.00001699354447
                        ]
                      },
                      {
                        "learn": [
                          0.00001574068685
                        ],
                        "iteration": 993,
                        "passed_time": 22.68799087,
                        "remaining_time": 0.1369496431,
                        "test": [
                          0.00001698189402
                        ]
                      },
                      {
                        "learn": [
                          0.00001572636418
                        ],
                        "iteration": 994,
                        "passed_time": 22.69697364,
                        "remaining_time": 0.1140551439,
                        "test": [
                          0.00001696579866
                        ]
                      },
                      {
                        "learn": [
                          0.00001571927496
                        ],
                        "iteration": 995,
                        "passed_time": 22.70912571,
                        "remaining_time": 0.09120130806,
                        "test": [
                          0.00001696450985
                        ]
                      },
                      {
                        "learn": [
                          0.00001570739962
                        ],
                        "iteration": 996,
                        "passed_time": 22.72447407,
                        "remaining_time": 0.06837855789,
                        "test": [
                          0.00001695018407
                        ]
                      },
                      {
                        "learn": [
                          0.00001569312193
                        ],
                        "iteration": 997,
                        "passed_time": 22.73482596,
                        "remaining_time": 0.04556077346,
                        "test": [
                          0.00001693408561
                        ]
                      },
                      {
                        "learn": [
                          0.00001568326899
                        ],
                        "iteration": 998,
                        "passed_time": 22.75336351,
                        "remaining_time": 0.02277613965,
                        "test": [
                          0.00001692282909
                        ]
                      },
                      {
                        "learn": [
                          0.00001567359285
                        ],
                        "iteration": 999,
                        "passed_time": 22.76440681,
                        "remaining_time": 0,
                        "test": [
                          0.00001691305524
                        ]
                      }
                    ],
                    "meta": {
                      "test_sets": [
                        "test"
                      ],
                      "test_metrics": [
                        {
                          "best_value": "Min",
                          "name": "MultiClass"
                        }
                      ],
                      "learn_metrics": [
                        {
                          "best_value": "Min",
                          "name": "MultiClass"
                        }
                      ],
                      "launch_mode": "Train",
                      "parameters": "",
                      "iteration_count": 1000,
                      "learn_sets": [
                        "learn"
                      ],
                      "name": "experiment"
                    }
                  }
                }
              }
            },
            "layout": "IPY_MODEL_8a88cd51c2904233803e40a143d741e6"
          }
        }
      }
    },
    "accelerator": "GPU"
  },
  "cells": [
    {
      "cell_type": "markdown",
      "metadata": {
        "id": "view-in-github",
        "colab_type": "text"
      },
      "source": [
        "<a href=\"https://colab.research.google.com/github/Yanina-Kutovaya/GNN/blob/main/notebooks/5_1_CatBoost.ipynb\" target=\"_parent\"><img src=\"https://colab.research.google.com/assets/colab-badge.svg\" alt=\"Open In Colab\"/></a>"
      ]
    },
    {
      "cell_type": "markdown",
      "source": [
        "# Реализация CatBoostClassifier с использованием GPU (CUDA 12.5) для классификации узлов на датасете Bitcoin-OTC\n",
        "\n",
        "Задача — предсказать \"уровень доверия\" пользователей\n",
        "\n",
        "Признаки узлов/рёбер - синтетические"
      ],
      "metadata": {
        "id": "YCOQl0-4rgpv"
      }
    },
    {
      "cell_type": "markdown",
      "source": [
        "Небходимо выбрать среду выполнения с GPU: Среда выполнения → Сменить среду выполнения → Графический процессор T4"
      ],
      "metadata": {
        "id": "dE5Com4Fr4PG"
      }
    },
    {
      "cell_type": "markdown",
      "source": [
        "## 1. Установка зависимостей"
      ],
      "metadata": {
        "id": "5hgp6VWTshjH"
      }
    },
    {
      "cell_type": "markdown",
      "source": [
        "Требования:\n",
        "- CatBoost ≥1.2.2\n",
        "- PyTorch Geometric для загрузки данных\n"
      ],
      "metadata": {
        "id": "2_ESRcv8srxJ"
      }
    },
    {
      "cell_type": "markdown",
      "source": [
        "* CatBoost автоматически использует доступные GPU через CUDA, явная установка CUDA 12.5 не требуется"
      ],
      "metadata": {
        "id": "dwH_a7CotLHY"
      }
    },
    {
      "cell_type": "code",
      "source": [
        "install = True\n",
        "if install:\n",
        "  !pip install -q catboost\n",
        "  !pip install -q torch-geometric"
      ],
      "metadata": {
        "id": "syNkpHxOr0o5"
      },
      "execution_count": 1,
      "outputs": []
    },
    {
      "cell_type": "code",
      "source": [
        "from google.colab import output\n",
        "output.disable_custom_widget_manager()"
      ],
      "metadata": {
        "id": "dKE3eVc1t9A4"
      },
      "execution_count": 2,
      "outputs": []
    },
    {
      "cell_type": "markdown",
      "source": [
        "## 2. Импорт библиотек"
      ],
      "metadata": {
        "id": "ozuwHyaWsB-5"
      }
    },
    {
      "cell_type": "code",
      "source": [
        "import numpy as np\n",
        "import pandas as pd\n",
        "from catboost import CatBoostClassifier, Pool\n",
        "from torch_geometric.datasets import BitcoinOTC\n",
        "from sklearn.model_selection import train_test_split\n",
        "from sklearn.metrics import classification_report"
      ],
      "metadata": {
        "id": "wllZ2lz2tUEZ"
      },
      "execution_count": 3,
      "outputs": []
    },
    {
      "cell_type": "markdown",
      "source": [
        "## 3. Загрузка данных"
      ],
      "metadata": {
        "id": "HRF04tYPxl_7"
      }
    },
    {
      "cell_type": "code",
      "source": [
        "dataset = BitcoinOTC(root='/tmp/BitcoinOTC')\n",
        "data = dataset[0]"
      ],
      "metadata": {
        "id": "V8wKGX0ltWRC"
      },
      "execution_count": 4,
      "outputs": []
    },
    {
      "cell_type": "markdown",
      "source": [
        "## 4. Создание признаков узлов с учётом рёбер"
      ],
      "metadata": {
        "id": "KDJSrnVsxuq1"
      }
    },
    {
      "cell_type": "code",
      "source": [
        "def create_node_features(data):\n",
        "    num_nodes = data.num_nodes\n",
        "    features = []\n",
        "\n",
        "    # Степень узлов\n",
        "    degrees = np.zeros(num_nodes)\n",
        "    for src in data.edge_index[0].unique().cpu().numpy():\n",
        "        degrees[src] = (data.edge_index[0].cpu().numpy() == src).sum()\n",
        "\n",
        "    # Статистики по рёбрам\n",
        "    edge_attrs = [[] for _ in range(num_nodes)]\n",
        "    for i in range(data.edge_index.size(1)):\n",
        "        src = data.edge_index[0, i].item()\n",
        "        attr = data.edge_attr[i].item()\n",
        "        edge_attrs[src].append(attr)\n",
        "\n",
        "    # Создание фичей\n",
        "    for node_id in range(num_nodes):\n",
        "        node_feats = [\n",
        "            degrees[node_id],  # Степень узла\n",
        "            np.mean(edge_attrs[node_id]) if edge_attrs[node_id] else 0,  # Среднее значение рёбер\n",
        "            np.max(edge_attrs[node_id]) if edge_attrs[node_id] else 0,   # Максимум\n",
        "            np.min(edge_attrs[node_id]) if edge_attrs[node_id] else 0,   # Минимум\n",
        "            len(edge_attrs[node_id])                                      # Количество рёбер\n",
        "        ]\n",
        "        features.append(node_feats)\n",
        "\n",
        "    return np.array(features)"
      ],
      "metadata": {
        "id": "cEa_9JUvtXqZ"
      },
      "execution_count": 5,
      "outputs": []
    },
    {
      "cell_type": "markdown",
      "source": [
        "## 5. Подготовка данных"
      ],
      "metadata": {
        "id": "N3tBESn5x1bB"
      }
    },
    {
      "cell_type": "code",
      "source": [
        "X = create_node_features(data)\n",
        "X"
      ],
      "metadata": {
        "colab": {
          "base_uri": "https://localhost:8080/"
        },
        "id": "63tjiuFEp58V",
        "outputId": "1d0bba14-1d8d-48ac-aa48-a1dd3f522f57"
      },
      "execution_count": 6,
      "outputs": [
        {
          "output_type": "execute_result",
          "data": {
            "text/plain": [
              "array([[2. , 2.5, 4. , 1. , 2. ],\n",
              "       [3. , 5. , 5. , 5. , 3. ],\n",
              "       [0. , 0. , 0. , 0. , 0. ],\n",
              "       ...,\n",
              "       [0. , 0. , 0. , 0. , 0. ],\n",
              "       [0. , 0. , 0. , 0. , 0. ],\n",
              "       [0. , 0. , 0. , 0. , 0. ]])"
            ]
          },
          "metadata": {},
          "execution_count": 6
        }
      ]
    },
    {
      "cell_type": "code",
      "source": [
        "y = np.zeros(data.num_nodes)\n",
        "\n",
        "# Создание меток (3 класса)\n",
        "q1 = np.quantile(X[:, 0], 0.5)\n",
        "q2 = np.quantile(X[:, 0], 0.999)\n",
        "y[X[:, 0] > q2] = 2\n",
        "y[(X[:, 0] > q1) & (X[:, 0] <= q2)] = 1"
      ],
      "metadata": {
        "id": "lbVFWlgjtbez"
      },
      "execution_count": 7,
      "outputs": []
    },
    {
      "cell_type": "markdown",
      "source": [
        "## 6. Разделение данных"
      ],
      "metadata": {
        "id": "p7oQxlCzx6QZ"
      }
    },
    {
      "cell_type": "code",
      "source": [
        "X_train, X_test, y_train, y_test = train_test_split(\n",
        "    X, y,\n",
        "    test_size=0.2,\n",
        "    stratify=y,\n",
        "    random_state=42\n",
        ")"
      ],
      "metadata": {
        "id": "vIC2EBNKthNL"
      },
      "execution_count": 8,
      "outputs": []
    },
    {
      "cell_type": "markdown",
      "source": [
        "## 7. Создание CatBoost модели с GPU"
      ],
      "metadata": {
        "id": "6hA_2K_Lx-r1"
      }
    },
    {
      "cell_type": "code",
      "source": [
        "model = CatBoostClassifier(\n",
        "    iterations=1000,\n",
        "    learning_rate=0.1,\n",
        "    depth=8,\n",
        "    loss_function='MultiClass',\n",
        "    task_type='GPU',  # Включение GPU\n",
        "    devices='0:1',    # Использование первого GPU\n",
        "    verbose=100,\n",
        "    early_stopping_rounds=50\n",
        ")"
      ],
      "metadata": {
        "id": "_zQpjgzitizP"
      },
      "execution_count": 9,
      "outputs": []
    },
    {
      "cell_type": "markdown",
      "source": [
        "## 8. Обучение"
      ],
      "metadata": {
        "id": "9rCWtMJVyDp7"
      }
    },
    {
      "cell_type": "code",
      "source": [
        "model.fit(\n",
        "    X_train, y_train,\n",
        "    eval_set=(X_test, y_test),\n",
        "    plot=True\n",
        ")"
      ],
      "metadata": {
        "colab": {
          "base_uri": "https://localhost:8080/",
          "height": 260,
          "referenced_widgets": [
            "d282eb4a2df74a8399de4286eec93935"
          ]
        },
        "id": "3Gt9avFytk6w",
        "outputId": "5faf742f-ea39-4b61-a99e-d5e8c08d4a7b"
      },
      "execution_count": 10,
      "outputs": [
        {
          "output_type": "display_data",
          "data": {
            "text/plain": [
              "MetricVisualizer(layout=Layout(align_self='stretch', height='500px'))"
            ],
            "application/vnd.jupyter.widget-view+json": {
              "version_major": 2,
              "version_minor": 0,
              "model_id": "d282eb4a2df74a8399de4286eec93935"
            }
          },
          "metadata": {}
        },
        {
          "output_type": "stream",
          "name": "stdout",
          "text": [
            "0:\tlearn: 0.9095124\ttest: 0.9095340\tbest: 0.9095340 (0)\ttotal: 54.8ms\tremaining: 54.7s\n",
            "100:\tlearn: 0.0003810\ttest: 0.0003947\tbest: 0.0003947 (100)\ttotal: 1.2s\tremaining: 10.7s\n",
            "200:\tlearn: 0.0001092\ttest: 0.0001151\tbest: 0.0001151 (200)\ttotal: 3.47s\tremaining: 13.8s\n",
            "300:\tlearn: 0.0000632\ttest: 0.0000674\tbest: 0.0000674 (300)\ttotal: 8.41s\tremaining: 19.5s\n",
            "400:\tlearn: 0.0000442\ttest: 0.0000473\tbest: 0.0000473 (400)\ttotal: 12.6s\tremaining: 18.8s\n",
            "500:\tlearn: 0.0000338\ttest: 0.0000364\tbest: 0.0000364 (500)\ttotal: 15.7s\tremaining: 15.7s\n",
            "600:\tlearn: 0.0000275\ttest: 0.0000296\tbest: 0.0000296 (600)\ttotal: 19.2s\tremaining: 12.7s\n",
            "700:\tlearn: 0.0000231\ttest: 0.0000249\tbest: 0.0000249 (700)\ttotal: 20s\tremaining: 8.54s\n",
            "800:\tlearn: 0.0000199\ttest: 0.0000214\tbest: 0.0000214 (800)\ttotal: 20.8s\tremaining: 5.16s\n",
            "900:\tlearn: 0.0000174\ttest: 0.0000188\tbest: 0.0000188 (900)\ttotal: 21.5s\tremaining: 2.36s\n",
            "999:\tlearn: 0.0000157\ttest: 0.0000169\tbest: 0.0000169 (999)\ttotal: 22.8s\tremaining: 0us\n",
            "bestTest = 1.691305524e-05\n",
            "bestIteration = 999\n"
          ]
        },
        {
          "output_type": "execute_result",
          "data": {
            "text/plain": [
              "<catboost.core.CatBoostClassifier at 0x7a84118d9ed0>"
            ]
          },
          "metadata": {},
          "execution_count": 10
        }
      ]
    },
    {
      "cell_type": "markdown",
      "source": [
        "## 9. Оценка"
      ],
      "metadata": {
        "id": "Y1Um4P5GyK05"
      }
    },
    {
      "cell_type": "code",
      "source": [
        "y_pred = model.predict(X_test)\n",
        "print(classification_report(y_test, y_pred, labels=[0, 1, 2]))"
      ],
      "metadata": {
        "colab": {
          "base_uri": "https://localhost:8080/"
        },
        "id": "KgEKu4uuty6F",
        "outputId": "c13422f3-24b6-4ae4-8240-f7c1d7678252"
      },
      "execution_count": 11,
      "outputs": [
        {
          "output_type": "stream",
          "name": "stdout",
          "text": [
            "              precision    recall  f1-score   support\n",
            "\n",
            "           0       1.00      1.00      1.00      1198\n",
            "           1       1.00      1.00      1.00         2\n",
            "           2       1.00      1.00      1.00         1\n",
            "\n",
            "    accuracy                           1.00      1201\n",
            "   macro avg       1.00      1.00      1.00      1201\n",
            "weighted avg       1.00      1.00      1.00      1201\n",
            "\n"
          ]
        }
      ]
    },
    {
      "cell_type": "markdown",
      "source": [
        "## 10. Важность признаков"
      ],
      "metadata": {
        "id": "6EXQ93LVyPSR"
      }
    },
    {
      "cell_type": "code",
      "source": [
        "feature_names = ['Degree', 'EdgeMean', 'EdgeMax', 'EdgeMin', 'EdgeCount']\n",
        "print(\"\\nFeature Importance:\")\n",
        "for name, score in zip(feature_names, model.get_feature_importance()):\n",
        "    print(f\"{name}: {score:.2f}\")"
      ],
      "metadata": {
        "colab": {
          "base_uri": "https://localhost:8080/"
        },
        "id": "5p5L1DUvsKws",
        "outputId": "3186148d-293c-4582-82f9-e9fd814e9f36"
      },
      "execution_count": 12,
      "outputs": [
        {
          "output_type": "stream",
          "name": "stdout",
          "text": [
            "\n",
            "Feature Importance:\n",
            "Degree: 62.75\n",
            "EdgeMean: 7.94\n",
            "EdgeMax: 0.29\n",
            "EdgeMin: 0.56\n",
            "EdgeCount: 28.47\n"
          ]
        }
      ]
    },
    {
      "cell_type": "markdown",
      "source": [
        "## 11. Сохранение модели"
      ],
      "metadata": {
        "id": "3xXSoaINrwI9"
      }
    },
    {
      "cell_type": "code",
      "source": [
        "model.save_model('catboost_model.cbm')"
      ],
      "metadata": {
        "id": "_1WjdzZYrVtq"
      },
      "execution_count": 13,
      "outputs": []
    },
    {
      "cell_type": "markdown",
      "source": [
        "## 12. Загрузка модели"
      ],
      "metadata": {
        "id": "w2jSGq9br_D5"
      }
    },
    {
      "cell_type": "code",
      "source": [
        "loaded_model = CatBoostClassifier()\n",
        "loaded_model.load_model('catboost_model.cbm')"
      ],
      "metadata": {
        "colab": {
          "base_uri": "https://localhost:8080/"
        },
        "id": "anX3Sw_crcet",
        "outputId": "cccbb4d6-9f18-4bc8-d1c3-133a508fa056"
      },
      "execution_count": 14,
      "outputs": [
        {
          "output_type": "execute_result",
          "data": {
            "text/plain": [
              "<catboost.core.CatBoostClassifier at 0x7a8411907e50>"
            ]
          },
          "metadata": {},
          "execution_count": 14
        }
      ]
    },
    {
      "cell_type": "code",
      "source": [
        "y_pred = loaded_model.predict(X_test)\n",
        "print(classification_report(y_test, y_pred, labels=[0, 1, 2]))"
      ],
      "metadata": {
        "colab": {
          "base_uri": "https://localhost:8080/"
        },
        "id": "eVD6fffSriNn",
        "outputId": "5b64b078-f42c-439a-934a-ec578de8ab12"
      },
      "execution_count": 15,
      "outputs": [
        {
          "output_type": "stream",
          "name": "stdout",
          "text": [
            "              precision    recall  f1-score   support\n",
            "\n",
            "           0       1.00      1.00      1.00      1198\n",
            "           1       1.00      1.00      1.00         2\n",
            "           2       1.00      1.00      1.00         1\n",
            "\n",
            "    accuracy                           1.00      1201\n",
            "   macro avg       1.00      1.00      1.00      1201\n",
            "weighted avg       1.00      1.00      1.00      1201\n",
            "\n"
          ]
        }
      ]
    }
  ]
}