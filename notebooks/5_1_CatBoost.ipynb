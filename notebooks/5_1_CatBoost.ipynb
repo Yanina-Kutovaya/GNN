{
  "cells": [
    {
      "cell_type": "markdown",
      "metadata": {
        "id": "view-in-github",
        "colab_type": "text"
      },
      "source": [
        "<a href=\"https://colab.research.google.com/github/Yanina-Kutovaya/GNN/blob/main/notebooks/5_1_CatBoost.ipynb\" target=\"_parent\"><img src=\"https://colab.research.google.com/assets/colab-badge.svg\" alt=\"Open In Colab\"/></a>"
      ]
    },
    {
      "cell_type": "markdown",
      "metadata": {
        "id": "YCOQl0-4rgpv"
      },
      "source": [
        "# Реализация CatBoostClassifier с использованием GPU (CUDA 12.5) для классификации узлов на датасете Bitcoin-OTC\n",
        "\n",
        "Задача — предсказать \"уровень доверия\" пользователей\n",
        "\n",
        "Признаки узлов/рёбер - синтетические"
      ]
    },
    {
      "cell_type": "markdown",
      "metadata": {
        "id": "dE5Com4Fr4PG"
      },
      "source": [
        "Небходимо выбрать среду выполнения с GPU: Среда выполнения → Сменить среду выполнения → Графический процессор T4"
      ]
    },
    {
      "cell_type": "markdown",
      "metadata": {
        "id": "5hgp6VWTshjH"
      },
      "source": [
        "## 1. Установка зависимостей"
      ]
    },
    {
      "cell_type": "markdown",
      "metadata": {
        "id": "2_ESRcv8srxJ"
      },
      "source": [
        "Требования:\n",
        "- CatBoost ≥1.2.2\n",
        "- PyTorch Geometric для загрузки данных\n"
      ]
    },
    {
      "cell_type": "markdown",
      "metadata": {
        "id": "dwH_a7CotLHY"
      },
      "source": [
        "* CatBoost автоматически использует доступные GPU через CUDA, явная установка CUDA 12.5 не требуется"
      ]
    },
    {
      "cell_type": "code",
      "execution_count": 1,
      "metadata": {
        "id": "syNkpHxOr0o5",
        "colab": {
          "base_uri": "https://localhost:8080/"
        },
        "outputId": "9f971407-fdde-4411-e84b-6235340a75d0"
      },
      "outputs": [
        {
          "output_type": "stream",
          "name": "stdout",
          "text": [
            "\u001b[2K   \u001b[90m━━━━━━━━━━━━━━━━━━━━━━━━━━━━━━━━━━━━━━━━\u001b[0m \u001b[32m99.2/99.2 MB\u001b[0m \u001b[31m10.0 MB/s\u001b[0m eta \u001b[36m0:00:00\u001b[0m\n",
            "\u001b[2K     \u001b[90m━━━━━━━━━━━━━━━━━━━━━━━━━━━━━━━━━━━━━━━━\u001b[0m \u001b[32m63.1/63.1 kB\u001b[0m \u001b[31m5.0 MB/s\u001b[0m eta \u001b[36m0:00:00\u001b[0m\n",
            "\u001b[2K   \u001b[90m━━━━━━━━━━━━━━━━━━━━━━━━━━━━━━━━━━━━━━━━\u001b[0m \u001b[32m1.1/1.1 MB\u001b[0m \u001b[31m60.2 MB/s\u001b[0m eta \u001b[36m0:00:00\u001b[0m\n",
            "\u001b[?25h"
          ]
        }
      ],
      "source": [
        "install = True\n",
        "if install:\n",
        "  !pip install -q catboost\n",
        "  !pip install -q torch-geometric"
      ]
    },
    {
      "cell_type": "code",
      "execution_count": 2,
      "metadata": {
        "id": "o_R7X6z6ubi0"
      },
      "outputs": [],
      "source": [
        "from google.colab import output\n",
        "output.disable_custom_widget_manager()"
      ]
    },
    {
      "cell_type": "markdown",
      "metadata": {
        "id": "ozuwHyaWsB-5"
      },
      "source": [
        "## 2. Импорт библиотек"
      ]
    },
    {
      "cell_type": "code",
      "execution_count": 3,
      "metadata": {
        "id": "wllZ2lz2tUEZ"
      },
      "outputs": [],
      "source": [
        "import numpy as np\n",
        "import pandas as pd\n",
        "from catboost import CatBoostClassifier, Pool\n",
        "from torch_geometric.datasets import BitcoinOTC\n",
        "from sklearn.model_selection import train_test_split\n",
        "from sklearn.metrics import classification_report"
      ]
    },
    {
      "cell_type": "markdown",
      "metadata": {
        "id": "HRF04tYPxl_7"
      },
      "source": [
        "## 3. Загрузка данных"
      ]
    },
    {
      "cell_type": "code",
      "execution_count": 4,
      "metadata": {
        "id": "V8wKGX0ltWRC",
        "colab": {
          "base_uri": "https://localhost:8080/"
        },
        "outputId": "ff16cc04-37d6-4cd0-9c64-c6205d5b6c8d"
      },
      "outputs": [
        {
          "output_type": "stream",
          "name": "stderr",
          "text": [
            "Downloading https://snap.stanford.edu/data/soc-sign-bitcoinotc.csv.gz\n",
            "Extracting /tmp/BitcoinOTC/raw/soc-sign-bitcoinotc.csv.gz\n",
            "Processing...\n",
            "Done!\n"
          ]
        }
      ],
      "source": [
        "dataset = BitcoinOTC(root='/tmp/BitcoinOTC')\n",
        "data = dataset[0]"
      ]
    },
    {
      "cell_type": "markdown",
      "metadata": {
        "id": "KDJSrnVsxuq1"
      },
      "source": [
        "## 4. Создание признаков узлов с учётом рёбер"
      ]
    },
    {
      "cell_type": "code",
      "execution_count": 5,
      "metadata": {
        "id": "cEa_9JUvtXqZ"
      },
      "outputs": [],
      "source": [
        "def create_node_features(data):\n",
        "    num_nodes = data.num_nodes\n",
        "    features = []\n",
        "\n",
        "    # Степень узлов\n",
        "    degrees = np.zeros(num_nodes)\n",
        "    for src in data.edge_index[0].unique().cpu().numpy():\n",
        "        degrees[src] = (data.edge_index[0].cpu().numpy() == src).sum()\n",
        "\n",
        "    # Статистики по рёбрам\n",
        "    edge_attrs = [[] for _ in range(num_nodes)]\n",
        "    for i in range(data.edge_index.size(1)):\n",
        "        src = data.edge_index[0, i].item()\n",
        "        attr = data.edge_attr[i].item()\n",
        "        edge_attrs[src].append(attr)\n",
        "\n",
        "    # Создание фичей\n",
        "    for node_id in range(num_nodes):\n",
        "        node_feats = [\n",
        "            degrees[node_id],  # Степень узла\n",
        "            np.mean(edge_attrs[node_id]) if edge_attrs[node_id] else 0,  # Среднее значение рёбер\n",
        "            np.max(edge_attrs[node_id]) if edge_attrs[node_id] else 0,   # Максимум\n",
        "            np.min(edge_attrs[node_id]) if edge_attrs[node_id] else 0,   # Минимум\n",
        "            len(edge_attrs[node_id])                                      # Количество рёбер\n",
        "        ]\n",
        "        features.append(node_feats)\n",
        "\n",
        "    return np.array(features)"
      ]
    },
    {
      "cell_type": "markdown",
      "metadata": {
        "id": "N3tBESn5x1bB"
      },
      "source": [
        "## 5. Подготовка данных"
      ]
    },
    {
      "cell_type": "code",
      "execution_count": 6,
      "metadata": {
        "colab": {
          "base_uri": "https://localhost:8080/"
        },
        "id": "63tjiuFEp58V",
        "outputId": "5850f319-92a4-4014-aec2-78e6d42c5865"
      },
      "outputs": [
        {
          "output_type": "execute_result",
          "data": {
            "text/plain": [
              "array([[2. , 2.5, 4. , 1. , 2. ],\n",
              "       [3. , 5. , 5. , 5. , 3. ],\n",
              "       [0. , 0. , 0. , 0. , 0. ],\n",
              "       ...,\n",
              "       [0. , 0. , 0. , 0. , 0. ],\n",
              "       [0. , 0. , 0. , 0. , 0. ],\n",
              "       [0. , 0. , 0. , 0. , 0. ]])"
            ]
          },
          "metadata": {},
          "execution_count": 6
        }
      ],
      "source": [
        "X = create_node_features(data)\n",
        "X"
      ]
    },
    {
      "cell_type": "code",
      "execution_count": 7,
      "metadata": {
        "id": "lbVFWlgjtbez"
      },
      "outputs": [],
      "source": [
        "y = np.zeros(data.num_nodes)\n",
        "\n",
        "# Создание меток (3 класса)\n",
        "q1 = np.quantile(X[:, 0], 0.5)\n",
        "q2 = np.quantile(X[:, 0], 0.999)\n",
        "y[X[:, 0] > q2] = 2\n",
        "y[(X[:, 0] > q1) & (X[:, 0] <= q2)] = 1"
      ]
    },
    {
      "cell_type": "markdown",
      "metadata": {
        "id": "p7oQxlCzx6QZ"
      },
      "source": [
        "## 6. Разделение данных"
      ]
    },
    {
      "cell_type": "code",
      "source": [
        "# Стратифицированное разделение\n",
        "def stratified_split(labels, train_ratio=0.6, val_ratio=0.2, seed=42):\n",
        "    np.random.seed(seed)\n",
        "    unique_classes = np.unique(labels)\n",
        "    train_indices, val_indices, test_indices = [], [], []\n",
        "\n",
        "    for cls in unique_classes:\n",
        "        cls_indices = np.where(labels == cls)[0]\n",
        "        np.random.shuffle(cls_indices)\n",
        "\n",
        "        train_end = int(train_ratio * len(cls_indices))\n",
        "        val_end = train_end + int(val_ratio * len(cls_indices))\n",
        "\n",
        "        train_indices.extend(cls_indices[:train_end])\n",
        "        val_indices.extend(cls_indices[train_end:val_end])\n",
        "        test_indices.extend(cls_indices[val_end:])\n",
        "\n",
        "    return (\n",
        "        np.array(train_indices, dtype=int),\n",
        "        np.array(val_indices, dtype=int),\n",
        "        np.array(test_indices, dtype=int)\n",
        "    )\n",
        "\n",
        "train_idx, val_idx, test_idx = stratified_split(labels=y)\n",
        "\n",
        "X_train, X_val, X_test = X[train_idx], X[val_idx], X[test_idx]\n",
        "y_train, y_val, y_test = y[train_idx], y[val_idx], y[test_idx]"
      ],
      "metadata": {
        "id": "plk8bOJMfKAz"
      },
      "execution_count": 8,
      "outputs": []
    },
    {
      "cell_type": "markdown",
      "metadata": {
        "id": "6hA_2K_Lx-r1"
      },
      "source": [
        "## 7. Создание CatBoost модели с GPU"
      ]
    },
    {
      "cell_type": "code",
      "source": [
        "# Расчет весов классов\n",
        "class_counts = np.bincount(y_train.astype(int))\n",
        "min_weight = 1e-2\n",
        "class_weights = {\n",
        "    i: max(1.0 / (count + 1e-5), min_weight)\n",
        "    for i, count in enumerate(class_counts)\n",
        "}\n",
        "\n",
        "# Обучение модели с оптимизированными параметрами\n",
        "model = CatBoostClassifier(\n",
        "    iterations=1000,\n",
        "    learning_rate=0.1,\n",
        "    depth=8,\n",
        "    #l2_leaf_reg=3.0,\n",
        "    loss_function='MultiClass',\n",
        "    #eval_metric='TotalF1',\n",
        "    task_type='GPU',\n",
        "    devices='0:1',\n",
        "    class_weights=class_weights,\n",
        "    early_stopping_rounds=50,\n",
        "    verbose=50,\n",
        "    random_seed=42,\n",
        "    use_best_model=True,\n",
        "    od_type='Iter',\n",
        ")"
      ],
      "metadata": {
        "id": "qJ_dSpZRgwtQ"
      },
      "execution_count": 9,
      "outputs": []
    },
    {
      "cell_type": "markdown",
      "metadata": {
        "id": "9rCWtMJVyDp7"
      },
      "source": [
        "## 8. Обучение"
      ]
    },
    {
      "cell_type": "code",
      "source": [
        "model.fit(X_train, y_train, eval_set=(X_val, y_val))"
      ],
      "metadata": {
        "colab": {
          "base_uri": "https://localhost:8080/"
        },
        "id": "CG9TC-zIkLOI",
        "outputId": "2f534ca4-eb93-47f0-8615-138b8025a7a6"
      },
      "execution_count": 10,
      "outputs": [
        {
          "output_type": "stream",
          "name": "stdout",
          "text": [
            "0:\tlearn: 0.9522579\ttest: 0.9509105\tbest: 0.9509105 (0)\ttotal: 90.5ms\tremaining: 1m 30s\n",
            "50:\tlearn: 0.0567106\ttest: 0.0515933\tbest: 0.0515933 (50)\ttotal: 1.72s\tremaining: 32.1s\n",
            "100:\tlearn: 0.0257996\ttest: 0.0227413\tbest: 0.0227413 (100)\ttotal: 3.22s\tremaining: 28.7s\n",
            "150:\tlearn: 0.0157167\ttest: 0.0137540\tbest: 0.0137540 (150)\ttotal: 4.64s\tremaining: 26.1s\n",
            "200:\tlearn: 0.0111077\ttest: 0.0096930\tbest: 0.0096930 (200)\ttotal: 6.69s\tremaining: 26.6s\n",
            "250:\tlearn: 0.0085311\ttest: 0.0074353\tbest: 0.0074353 (250)\ttotal: 8.79s\tremaining: 26.2s\n",
            "300:\tlearn: 0.0068666\ttest: 0.0059833\tbest: 0.0059833 (300)\ttotal: 12s\tremaining: 27.9s\n",
            "350:\tlearn: 0.0057343\ttest: 0.0049959\tbest: 0.0049959 (350)\ttotal: 14.3s\tremaining: 26.4s\n",
            "400:\tlearn: 0.0049131\ttest: 0.0042803\tbest: 0.0042803 (400)\ttotal: 15.3s\tremaining: 22.9s\n",
            "450:\tlearn: 0.0043028\ttest: 0.0037487\tbest: 0.0037487 (450)\ttotal: 15.7s\tremaining: 19.2s\n",
            "500:\tlearn: 0.0038156\ttest: 0.0033237\tbest: 0.0033237 (500)\ttotal: 16.1s\tremaining: 16.1s\n",
            "550:\tlearn: 0.0034317\ttest: 0.0029876\tbest: 0.0029876 (550)\ttotal: 16.5s\tremaining: 13.4s\n",
            "600:\tlearn: 0.0031116\ttest: 0.0027092\tbest: 0.0027092 (600)\ttotal: 16.9s\tremaining: 11.2s\n",
            "650:\tlearn: 0.0028474\ttest: 0.0024788\tbest: 0.0024788 (650)\ttotal: 17.2s\tremaining: 9.24s\n",
            "700:\tlearn: 0.0026217\ttest: 0.0022823\tbest: 0.0022823 (700)\ttotal: 17.6s\tremaining: 7.5s\n",
            "750:\tlearn: 0.0024320\ttest: 0.0021165\tbest: 0.0021165 (750)\ttotal: 18s\tremaining: 5.96s\n",
            "800:\tlearn: 0.0022679\ttest: 0.0019734\tbest: 0.0019734 (800)\ttotal: 18.3s\tremaining: 4.55s\n",
            "850:\tlearn: 0.0021218\ttest: 0.0018463\tbest: 0.0018463 (850)\ttotal: 18.7s\tremaining: 3.27s\n",
            "900:\tlearn: 0.0019945\ttest: 0.0017356\tbest: 0.0017356 (900)\ttotal: 19.1s\tremaining: 2.1s\n",
            "950:\tlearn: 0.0018826\ttest: 0.0016377\tbest: 0.0016377 (950)\ttotal: 19.4s\tremaining: 1s\n",
            "999:\tlearn: 0.0017830\ttest: 0.0015511\tbest: 0.0015511 (999)\ttotal: 19.8s\tremaining: 0us\n",
            "bestTest = 0.001551095013\n",
            "bestIteration = 999\n"
          ]
        },
        {
          "output_type": "execute_result",
          "data": {
            "text/plain": [
              "<catboost.core.CatBoostClassifier at 0x790df2451fd0>"
            ]
          },
          "metadata": {},
          "execution_count": 10
        }
      ]
    },
    {
      "cell_type": "markdown",
      "metadata": {
        "id": "Y1Um4P5GyK05"
      },
      "source": [
        "## 9. Оценка"
      ]
    },
    {
      "cell_type": "code",
      "execution_count": 11,
      "metadata": {
        "colab": {
          "base_uri": "https://localhost:8080/"
        },
        "id": "KgEKu4uuty6F",
        "outputId": "7bfc12bf-22ab-4da2-ddd3-e91b5c96e987"
      },
      "outputs": [
        {
          "output_type": "stream",
          "name": "stdout",
          "text": [
            "              precision    recall  f1-score   support\n",
            "\n",
            "           0       1.00      1.00      1.00      1199\n",
            "           1       1.00      1.00      1.00         3\n",
            "           2       1.00      1.00      1.00         1\n",
            "\n",
            "    accuracy                           1.00      1203\n",
            "   macro avg       1.00      1.00      1.00      1203\n",
            "weighted avg       1.00      1.00      1.00      1203\n",
            "\n"
          ]
        }
      ],
      "source": [
        "y_pred = model.predict(X_test)\n",
        "print(classification_report(y_test, y_pred, labels=[0, 1, 2]))"
      ]
    },
    {
      "cell_type": "markdown",
      "metadata": {
        "id": "6EXQ93LVyPSR"
      },
      "source": [
        "## 10. Важность признаков"
      ]
    },
    {
      "cell_type": "code",
      "execution_count": 12,
      "metadata": {
        "colab": {
          "base_uri": "https://localhost:8080/"
        },
        "id": "5p5L1DUvsKws",
        "outputId": "aad383b5-66ce-4b30-c8b7-bdbf4b67f5ce"
      },
      "outputs": [
        {
          "output_type": "stream",
          "name": "stdout",
          "text": [
            "\n",
            "Feature Importance:\n",
            "Degree: 69.03\n",
            "EdgeMean: 3.33\n",
            "EdgeMax: 0.39\n",
            "EdgeMin: 0.95\n",
            "EdgeCount: 26.31\n"
          ]
        }
      ],
      "source": [
        "feature_names = ['Degree', 'EdgeMean', 'EdgeMax', 'EdgeMin', 'EdgeCount']\n",
        "print(\"\\nFeature Importance:\")\n",
        "for name, score in zip(feature_names, model.get_feature_importance()):\n",
        "    print(f\"{name}: {score:.2f}\")"
      ]
    },
    {
      "cell_type": "markdown",
      "metadata": {
        "id": "3xXSoaINrwI9"
      },
      "source": [
        "## 11. Сохранение модели"
      ]
    },
    {
      "cell_type": "code",
      "execution_count": 13,
      "metadata": {
        "id": "_1WjdzZYrVtq"
      },
      "outputs": [],
      "source": [
        "model.save_model('catboost_model.cbm')"
      ]
    },
    {
      "cell_type": "markdown",
      "metadata": {
        "id": "w2jSGq9br_D5"
      },
      "source": [
        "## 12. Загрузка модели"
      ]
    },
    {
      "cell_type": "code",
      "execution_count": 14,
      "metadata": {
        "colab": {
          "base_uri": "https://localhost:8080/"
        },
        "id": "anX3Sw_crcet",
        "outputId": "aebb4705-0712-42a1-dc97-79528df476f5"
      },
      "outputs": [
        {
          "output_type": "execute_result",
          "data": {
            "text/plain": [
              "<catboost.core.CatBoostClassifier at 0x790df3a2dc10>"
            ]
          },
          "metadata": {},
          "execution_count": 14
        }
      ],
      "source": [
        "loaded_model = CatBoostClassifier()\n",
        "loaded_model.load_model('catboost_model.cbm')"
      ]
    },
    {
      "cell_type": "code",
      "execution_count": 15,
      "metadata": {
        "colab": {
          "base_uri": "https://localhost:8080/"
        },
        "id": "eVD6fffSriNn",
        "outputId": "6e7436ff-da9a-4987-dc31-b4e9e93a2482"
      },
      "outputs": [
        {
          "output_type": "stream",
          "name": "stdout",
          "text": [
            "              precision    recall  f1-score   support\n",
            "\n",
            "           0       1.00      1.00      1.00      1199\n",
            "           1       1.00      1.00      1.00         3\n",
            "           2       1.00      1.00      1.00         1\n",
            "\n",
            "    accuracy                           1.00      1203\n",
            "   macro avg       1.00      1.00      1.00      1203\n",
            "weighted avg       1.00      1.00      1.00      1203\n",
            "\n"
          ]
        }
      ],
      "source": [
        "y_pred = loaded_model.predict(X_test)\n",
        "print(classification_report(y_test, y_pred, labels=[0, 1, 2]))"
      ]
    }
  ],
  "metadata": {
    "accelerator": "GPU",
    "colab": {
      "gpuType": "T4",
      "provenance": [],
      "include_colab_link": true
    },
    "kernelspec": {
      "display_name": "Python 3",
      "name": "python3"
    },
    "language_info": {
      "name": "python"
    }
  },
  "nbformat": 4,
  "nbformat_minor": 0
}