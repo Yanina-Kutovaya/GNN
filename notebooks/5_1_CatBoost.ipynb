{
  "nbformat": 4,
  "nbformat_minor": 0,
  "metadata": {
    "colab": {
      "provenance": [],
      "authorship_tag": "ABX9TyO+Rj0sqQw78txDOMn+RyYT",
      "include_colab_link": true
    },
    "kernelspec": {
      "name": "python3",
      "display_name": "Python 3"
    },
    "language_info": {
      "name": "python"
    },
    "widgets": {
      "application/vnd.jupyter.widget-state+json": {
        "461c4da0ba5447bdb24259efe374ecc8": {
          "model_module": "catboost-widget",
          "model_name": "CatboostWidgetModel",
          "model_module_version": "^1.0.0",
          "state": {
            "_dom_classes": [],
            "_model_module": "catboost-widget",
            "_model_module_version": "^1.0.0",
            "_model_name": "CatboostWidgetModel",
            "_view_count": null,
            "_view_module": "catboost-widget",
            "_view_module_version": "^1.0.0",
            "_view_name": "CatboostWidgetView",
            "data": {
              "catboost_info": {
                "path": "catboost_info",
                "name": "catboost_info",
                "content": {
                  "passed_iterations": 999,
                  "total_iterations": 1000,
                  "data": {
                    "iterations": [
                      {
                        "learn": [
                          0.9095123571
                        ],
                        "iteration": 0,
                        "passed_time": 0.06362111039,
                        "remaining_time": 63.55748928,
                        "test": [
                          0.9095340065
                        ]
                      },
                      {
                        "learn": [
                          0.7691730687
                        ],
                        "iteration": 1,
                        "passed_time": 0.1007187942,
                        "remaining_time": 50.2586783,
                        "test": [
                          0.769208033
                        ]
                      },
                      {
                        "learn": [
                          0.6595520477
                        ],
                        "iteration": 2,
                        "passed_time": 0.1121448508,
                        "remaining_time": 37.26947208,
                        "test": [
                          0.6595954482
                        ]
                      },
                      {
                        "learn": [
                          0.5711203392
                        ],
                        "iteration": 3,
                        "passed_time": 0.121344927,
                        "remaining_time": 30.21488683,
                        "test": [
                          0.5711692283
                        ]
                      },
                      {
                        "learn": [
                          0.4981785503
                        ],
                        "iteration": 4,
                        "passed_time": 0.1304946555,
                        "remaining_time": 25.96843645,
                        "test": [
                          0.4982309461
                        ]
                      },
                      {
                        "learn": [
                          0.437027778
                        ],
                        "iteration": 5,
                        "passed_time": 0.1396166434,
                        "remaining_time": 23.12982393,
                        "test": [
                          0.4370823589
                        ]
                      },
                      {
                        "learn": [
                          0.3851239334
                        ],
                        "iteration": 6,
                        "passed_time": 0.1496153775,
                        "remaining_time": 21.22400999,
                        "test": [
                          0.3851796578
                        ]
                      },
                      {
                        "learn": [
                          0.3406391128
                        ],
                        "iteration": 7,
                        "passed_time": 0.1588084148,
                        "remaining_time": 19.69224343,
                        "test": [
                          0.3406955233
                        ]
                      },
                      {
                        "learn": [
                          0.3022154491
                        ],
                        "iteration": 8,
                        "passed_time": 0.1679376103,
                        "remaining_time": 18.49179687,
                        "test": [
                          0.3022718596
                        ]
                      },
                      {
                        "learn": [
                          0.2688151668
                        ],
                        "iteration": 9,
                        "passed_time": 0.1771094218,
                        "remaining_time": 17.53383276,
                        "test": [
                          0.2688711962
                        ]
                      },
                      {
                        "learn": [
                          0.2396282415
                        ],
                        "iteration": 10,
                        "passed_time": 0.186350854,
                        "remaining_time": 16.75463587,
                        "test": [
                          0.2396837373
                        ]
                      },
                      {
                        "learn": [
                          0.2140099925
                        ],
                        "iteration": 11,
                        "passed_time": 0.1958794339,
                        "remaining_time": 16.12740673,
                        "test": [
                          0.2140647259
                        ]
                      },
                      {
                        "learn": [
                          0.1914399438
                        ],
                        "iteration": 12,
                        "passed_time": 0.2050390139,
                        "remaining_time": 15.56719282,
                        "test": [
                          0.1914937625
                        ]
                      },
                      {
                        "learn": [
                          0.1714916626
                        ],
                        "iteration": 13,
                        "passed_time": 0.214374947,
                        "remaining_time": 15.09812127,
                        "test": [
                          0.1715444903
                        ]
                      },
                      {
                        "learn": [
                          0.1538118462
                        ],
                        "iteration": 14,
                        "passed_time": 0.223566841,
                        "remaining_time": 14.68088922,
                        "test": [
                          0.1538635813
                        ]
                      },
                      {
                        "learn": [
                          0.1381051908
                        ],
                        "iteration": 15,
                        "passed_time": 0.2327437746,
                        "remaining_time": 14.31374214,
                        "test": [
                          0.1381557824
                        ]
                      },
                      {
                        "learn": [
                          0.1241225498
                        ],
                        "iteration": 16,
                        "passed_time": 0.241918809,
                        "remaining_time": 13.98859937,
                        "test": [
                          0.1241719852
                        ]
                      },
                      {
                        "learn": [
                          0.1116523203
                        ],
                        "iteration": 17,
                        "passed_time": 0.2510665756,
                        "remaining_time": 13.69707651,
                        "test": [
                          0.1117005868
                        ]
                      },
                      {
                        "learn": [
                          0.100512877
                        ],
                        "iteration": 18,
                        "passed_time": 0.2602258637,
                        "remaining_time": 13.43587223,
                        "test": [
                          0.100559981
                        ]
                      },
                      {
                        "learn": [
                          0.09054835412
                        ],
                        "iteration": 19,
                        "passed_time": 0.2717770521,
                        "remaining_time": 13.31707555,
                        "test": [
                          0.09059427025
                        ]
                      },
                      {
                        "learn": [
                          0.08162380476
                        ],
                        "iteration": 20,
                        "passed_time": 0.2810295957,
                        "remaining_time": 13.1013321,
                        "test": [
                          0.08166855201
                        ]
                      },
                      {
                        "learn": [
                          0.07362192934
                        ],
                        "iteration": 21,
                        "passed_time": 0.2901286396,
                        "remaining_time": 12.8975368,
                        "test": [
                          0.07366552678
                        ]
                      },
                      {
                        "learn": [
                          0.0664402043
                        ],
                        "iteration": 22,
                        "passed_time": 0.299233108,
                        "remaining_time": 12.71090202,
                        "test": [
                          0.0664826837
                        ]
                      },
                      {
                        "learn": [
                          0.05998910972
                        ],
                        "iteration": 23,
                        "passed_time": 0.3132521299,
                        "remaining_time": 12.73891995,
                        "test": [
                          0.06003047743
                        ]
                      },
                      {
                        "learn": [
                          0.05418988688
                        ],
                        "iteration": 24,
                        "passed_time": 0.3249072848,
                        "remaining_time": 12.67138411,
                        "test": [
                          0.0542301556
                        ]
                      },
                      {
                        "learn": [
                          0.04897267058
                        ],
                        "iteration": 25,
                        "passed_time": 0.3690163565,
                        "remaining_time": 13.82392043,
                        "test": [
                          0.04901188796
                        ]
                      },
                      {
                        "learn": [
                          0.04427643839
                        ],
                        "iteration": 26,
                        "passed_time": 0.4080038547,
                        "remaining_time": 14.70325002,
                        "test": [
                          0.04431461712
                        ]
                      },
                      {
                        "learn": [
                          0.04004681895
                        ],
                        "iteration": 27,
                        "passed_time": 0.450852052,
                        "remaining_time": 15.65100695,
                        "test": [
                          0.04008398127
                        ]
                      },
                      {
                        "learn": [
                          0.03623538053
                        ],
                        "iteration": 28,
                        "passed_time": 0.4895125124,
                        "remaining_time": 16.3902293,
                        "test": [
                          0.03627157092
                        ]
                      },
                      {
                        "learn": [
                          0.03279931658
                        ],
                        "iteration": 29,
                        "passed_time": 0.5263218251,
                        "remaining_time": 17.01773901,
                        "test": [
                          0.03283454774
                        ]
                      },
                      {
                        "learn": [
                          0.02970034991
                        ],
                        "iteration": 30,
                        "passed_time": 0.5419440427,
                        "remaining_time": 16.94012185,
                        "test": [
                          0.02973465677
                        ]
                      },
                      {
                        "learn": [
                          0.02690425304
                        ],
                        "iteration": 31,
                        "passed_time": 0.5586681333,
                        "remaining_time": 16.89971103,
                        "test": [
                          0.0269376642
                        ]
                      },
                      {
                        "learn": [
                          0.02438071963
                        ],
                        "iteration": 32,
                        "passed_time": 0.5775802012,
                        "remaining_time": 16.92485014,
                        "test": [
                          0.0244132589
                        ]
                      },
                      {
                        "learn": [
                          0.0221024703
                        ],
                        "iteration": 33,
                        "passed_time": 0.5960045386,
                        "remaining_time": 16.93354072,
                        "test": [
                          0.02213416786
                        ]
                      },
                      {
                        "learn": [
                          0.02004502715
                        ],
                        "iteration": 34,
                        "passed_time": 0.6149117636,
                        "remaining_time": 16.95399577,
                        "test": [
                          0.02007590682
                        ]
                      },
                      {
                        "learn": [
                          0.0181863437
                        ],
                        "iteration": 35,
                        "passed_time": 0.6520229632,
                        "remaining_time": 17.45972601,
                        "test": [
                          0.01821643248
                        ]
                      },
                      {
                        "learn": [
                          0.0165072353
                        ],
                        "iteration": 36,
                        "passed_time": 0.6674921292,
                        "remaining_time": 17.37283569,
                        "test": [
                          0.01653655701
                        ]
                      },
                      {
                        "learn": [
                          0.01498964804
                        ],
                        "iteration": 37,
                        "passed_time": 0.6762513629,
                        "remaining_time": 17.11983713,
                        "test": [
                          0.0150182265
                        ]
                      },
                      {
                        "learn": [
                          0.01361795309
                        ],
                        "iteration": 38,
                        "passed_time": 0.6851526575,
                        "remaining_time": 16.8828642,
                        "test": [
                          0.0136458169
                        ]
                      },
                      {
                        "learn": [
                          0.01237777627
                        ],
                        "iteration": 39,
                        "passed_time": 0.6938377216,
                        "remaining_time": 16.65210532,
                        "test": [
                          0.0124049413
                        ]
                      },
                      {
                        "learn": [
                          0.01125640377
                        ],
                        "iteration": 40,
                        "passed_time": 0.7040316586,
                        "remaining_time": 16.46747221,
                        "test": [
                          0.0112828994
                        ]
                      },
                      {
                        "learn": [
                          0.01024217629
                        ],
                        "iteration": 41,
                        "passed_time": 0.7149146112,
                        "remaining_time": 16.30686185,
                        "test": [
                          0.01026802317
                        ]
                      },
                      {
                        "learn": [
                          0.009324563731
                        ],
                        "iteration": 42,
                        "passed_time": 0.7237639048,
                        "remaining_time": 16.10795481,
                        "test": [
                          0.009349782501
                        ]
                      },
                      {
                        "learn": [
                          0.008494578829
                        ],
                        "iteration": 43,
                        "passed_time": 0.7325377579,
                        "remaining_time": 15.91604765,
                        "test": [
                          0.008519190138
                        ]
                      },
                      {
                        "learn": [
                          0.007743339951
                        ],
                        "iteration": 44,
                        "passed_time": 0.7348482269,
                        "remaining_time": 15.59511237,
                        "test": [
                          0.007767363651
                        ]
                      },
                      {
                        "learn": [
                          0.007063553593
                        ],
                        "iteration": 45,
                        "passed_time": 0.739098334,
                        "remaining_time": 15.32825675,
                        "test": [
                          0.007087010329
                        ]
                      },
                      {
                        "learn": [
                          0.006448115238
                        ],
                        "iteration": 46,
                        "passed_time": 0.7610483496,
                        "remaining_time": 15.43146973,
                        "test": [
                          0.006471023671
                        ]
                      },
                      {
                        "learn": [
                          0.005891113059
                        ],
                        "iteration": 47,
                        "passed_time": 0.7754757887,
                        "remaining_time": 15.38026981,
                        "test": [
                          0.005913489863
                        ]
                      },
                      {
                        "learn": [
                          0.005386677312
                        ],
                        "iteration": 48,
                        "passed_time": 0.7843071595,
                        "remaining_time": 15.2219614,
                        "test": [
                          0.005408542341
                        ]
                      },
                      {
                        "learn": [
                          0.004929679518
                        ],
                        "iteration": 49,
                        "passed_time": 0.7941738214,
                        "remaining_time": 15.08930261,
                        "test": [
                          0.004951047461
                        ]
                      },
                      {
                        "learn": [
                          0.004515890873
                        ],
                        "iteration": 50,
                        "passed_time": 0.8030293839,
                        "remaining_time": 14.94264481,
                        "test": [
                          0.004536779199
                        ]
                      },
                      {
                        "learn": [
                          0.00414086222
                        ],
                        "iteration": 51,
                        "passed_time": 0.8117501064,
                        "remaining_time": 14.79882886,
                        "test": [
                          0.004161286414
                        ]
                      },
                      {
                        "learn": [
                          0.00380437797
                        ],
                        "iteration": 52,
                        "passed_time": 0.8136128534,
                        "remaining_time": 14.53757306,
                        "test": [
                          0.003824592133
                        ]
                      },
                      {
                        "learn": [
                          0.003496109298
                        ],
                        "iteration": 53,
                        "passed_time": 0.8165664679,
                        "remaining_time": 14.30503479,
                        "test": [
                          0.003515880372
                        ]
                      },
                      {
                        "learn": [
                          0.00321645959
                        ],
                        "iteration": 54,
                        "passed_time": 0.8253200067,
                        "remaining_time": 14.1804983,
                        "test": [
                          0.00323580167
                        ]
                      },
                      {
                        "learn": [
                          0.002963073248
                        ],
                        "iteration": 55,
                        "passed_time": 0.8340407023,
                        "remaining_time": 14.05954327,
                        "test": [
                          0.002982000824
                        ]
                      },
                      {
                        "learn": [
                          0.002765968578
                        ],
                        "iteration": 56,
                        "passed_time": 0.8351838298,
                        "remaining_time": 13.81716406,
                        "test": [
                          0.002785685457
                        ]
                      },
                      {
                        "learn": [
                          0.002554916919
                        ],
                        "iteration": 57,
                        "passed_time": 0.8439224438,
                        "remaining_time": 13.70646452,
                        "test": [
                          0.002574198649
                        ]
                      },
                      {
                        "learn": [
                          0.002363273841
                        ],
                        "iteration": 58,
                        "passed_time": 0.8498335883,
                        "remaining_time": 13.55412553,
                        "test": [
                          0.002382135113
                        ]
                      },
                      {
                        "learn": [
                          0.002189168922
                        ],
                        "iteration": 59,
                        "passed_time": 0.8521552657,
                        "remaining_time": 13.3504325,
                        "test": [
                          0.00220762522
                        ]
                      },
                      {
                        "learn": [
                          0.002030662851
                        ],
                        "iteration": 60,
                        "passed_time": 0.8609314375,
                        "remaining_time": 13.25269869,
                        "test": [
                          0.002048727475
                        ]
                      },
                      {
                        "learn": [
                          0.001886715202
                        ],
                        "iteration": 61,
                        "passed_time": 0.8699101476,
                        "remaining_time": 13.16089869,
                        "test": [
                          0.001904401057
                        ]
                      },
                      {
                        "learn": [
                          0.001784049502
                        ],
                        "iteration": 62,
                        "passed_time": 0.8710810085,
                        "remaining_time": 12.95560167,
                        "test": [
                          0.001802386888
                        ]
                      },
                      {
                        "learn": [
                          0.001692230358
                        ],
                        "iteration": 63,
                        "passed_time": 0.8722909419,
                        "remaining_time": 12.75725502,
                        "test": [
                          0.001711237143
                        ]
                      },
                      {
                        "learn": [
                          0.001579839125
                        ],
                        "iteration": 64,
                        "passed_time": 0.8778382316,
                        "remaining_time": 12.62736533,
                        "test": [
                          0.001598426345
                        ]
                      },
                      {
                        "learn": [
                          0.001478028039
                        ],
                        "iteration": 65,
                        "passed_time": 0.8807813291,
                        "remaining_time": 12.46439032,
                        "test": [
                          0.001495958466
                        ]
                      },
                      {
                        "learn": [
                          0.001385535328
                        ],
                        "iteration": 66,
                        "passed_time": 0.8897002119,
                        "remaining_time": 12.38940743,
                        "test": [
                          0.001403058399
                        ]
                      },
                      {
                        "learn": [
                          0.001326812296
                        ],
                        "iteration": 67,
                        "passed_time": 0.8908634837,
                        "remaining_time": 12.2100701,
                        "test": [
                          0.001344908584
                        ]
                      },
                      {
                        "learn": [
                          0.001246816907
                        ],
                        "iteration": 68,
                        "passed_time": 0.8931614675,
                        "remaining_time": 12.05120763,
                        "test": [
                          0.00126451507
                        ]
                      },
                      {
                        "learn": [
                          0.001173564238
                        ],
                        "iteration": 69,
                        "passed_time": 0.8954490726,
                        "remaining_time": 11.89668054,
                        "test": [
                          0.001190879164
                        ]
                      },
                      {
                        "learn": [
                          0.00110643184
                        ],
                        "iteration": 70,
                        "passed_time": 0.8989667922,
                        "remaining_time": 11.76253732,
                        "test": [
                          0.001123377326
                        ]
                      },
                      {
                        "learn": [
                          0.001044833789
                        ],
                        "iteration": 71,
                        "passed_time": 0.901866391,
                        "remaining_time": 11.62405571,
                        "test": [
                          0.001061422739
                        ]
                      },
                      {
                        "learn": [
                          0.0009882744901
                        ],
                        "iteration": 72,
                        "passed_time": 0.9105793585,
                        "remaining_time": 11.56311048,
                        "test": [
                          0.001004519609
                        ]
                      },
                      {
                        "learn": [
                          0.0009373409563
                        ],
                        "iteration": 73,
                        "passed_time": 0.9134961323,
                        "remaining_time": 11.4310462,
                        "test": [
                          0.0009536330249
                        ]
                      },
                      {
                        "learn": [
                          0.0009101364237
                        ],
                        "iteration": 74,
                        "passed_time": 0.9147052638,
                        "remaining_time": 11.28136492,
                        "test": [
                          0.0009268502411
                        ]
                      },
                      {
                        "learn": [
                          0.0008657930495
                        ],
                        "iteration": 75,
                        "passed_time": 0.921984108,
                        "remaining_time": 11.20938573,
                        "test": [
                          0.0008821422909
                        ]
                      },
                      {
                        "learn": [
                          0.0008438624113
                        ],
                        "iteration": 76,
                        "passed_time": 0.9231873188,
                        "remaining_time": 11.06625838,
                        "test": [
                          0.0008606057084
                        ]
                      },
                      {
                        "learn": [
                          0.0008138149207
                        ],
                        "iteration": 77,
                        "passed_time": 0.9250026719,
                        "remaining_time": 10.93400594,
                        "test": [
                          0.0008308362405
                        ]
                      },
                      {
                        "learn": [
                          0.0007773987161
                        ],
                        "iteration": 78,
                        "passed_time": 0.9285555225,
                        "remaining_time": 10.82531185,
                        "test": [
                          0.0007940375438
                        ]
                      },
                      {
                        "learn": [
                          0.0007435760331
                        ],
                        "iteration": 79,
                        "passed_time": 0.9328962327,
                        "remaining_time": 10.72830668,
                        "test": [
                          0.0007602618596
                        ]
                      },
                      {
                        "learn": [
                          0.000712345383
                        ],
                        "iteration": 80,
                        "passed_time": 0.9420175482,
                        "remaining_time": 10.68782873,
                        "test": [
                          0.0007290721039
                        ]
                      },
                      {
                        "learn": [
                          0.0006832394076
                        ],
                        "iteration": 81,
                        "passed_time": 0.9475439337,
                        "remaining_time": 10.60786989,
                        "test": [
                          0.0006996012548
                        ]
                      },
                      {
                        "learn": [
                          0.0006562372628
                        ],
                        "iteration": 82,
                        "passed_time": 0.9564429963,
                        "remaining_time": 10.5669666,
                        "test": [
                          0.0006726369274
                        ]
                      },
                      {
                        "learn": [
                          0.0006300688385
                        ],
                        "iteration": 83,
                        "passed_time": 0.9587498815,
                        "remaining_time": 10.45493918,
                        "test": [
                          0.0006461332581
                        ]
                      },
                      {
                        "learn": [
                          0.0006065829707
                        ],
                        "iteration": 84,
                        "passed_time": 0.9616345149,
                        "remaining_time": 10.35171272,
                        "test": [
                          0.0006223091178
                        ]
                      },
                      {
                        "learn": [
                          0.0005982752942
                        ],
                        "iteration": 85,
                        "passed_time": 0.9628235213,
                        "remaining_time": 10.23279882,
                        "test": [
                          0.0006142594634
                        ]
                      },
                      {
                        "learn": [
                          0.0005771526687
                        ],
                        "iteration": 86,
                        "passed_time": 0.9682850819,
                        "remaining_time": 10.1614285,
                        "test": [
                          0.0005927983668
                        ]
                      },
                      {
                        "learn": [
                          0.0005574244246
                        ],
                        "iteration": 87,
                        "passed_time": 0.9772242476,
                        "remaining_time": 10.12759675,
                        "test": [
                          0.0005731068483
                        ]
                      },
                      {
                        "learn": [
                          0.0005386061811
                        ],
                        "iteration": 88,
                        "passed_time": 0.9856150285,
                        "remaining_time": 10.08871113,
                        "test": [
                          0.0005539758914
                        ]
                      },
                      {
                        "learn": [
                          0.0005202237315
                        ],
                        "iteration": 89,
                        "passed_time": 0.9936859248,
                        "remaining_time": 10.0472688,
                        "test": [
                          0.0005352917956
                        ]
                      },
                      {
                        "learn": [
                          0.0005041265567
                        ],
                        "iteration": 90,
                        "passed_time": 0.9991948561,
                        "remaining_time": 9.980968398,
                        "test": [
                          0.000518706766
                        ]
                      },
                      {
                        "learn": [
                          0.0004877289269
                        ],
                        "iteration": 91,
                        "passed_time": 1.007367005,
                        "remaining_time": 9.942274356,
                        "test": [
                          0.0005020288802
                        ]
                      },
                      {
                        "learn": [
                          0.0004732598373
                        ],
                        "iteration": 92,
                        "passed_time": 1.015788671,
                        "remaining_time": 9.906670152,
                        "test": [
                          0.000487595077
                        ]
                      },
                      {
                        "learn": [
                          0.0004596886389
                        ],
                        "iteration": 93,
                        "passed_time": 1.025625441,
                        "remaining_time": 9.885283504,
                        "test": [
                          0.0004737419352
                        ]
                      },
                      {
                        "learn": [
                          0.0004458153476
                        ],
                        "iteration": 94,
                        "passed_time": 1.041426493,
                        "remaining_time": 9.920957645,
                        "test": [
                          0.00045960685
                        ]
                      },
                      {
                        "learn": [
                          0.0004327607889
                        ],
                        "iteration": 95,
                        "passed_time": 1.078500933,
                        "remaining_time": 10.15588379,
                        "test": [
                          0.0004462985869
                        ]
                      },
                      {
                        "learn": [
                          0.0004299902896
                        ],
                        "iteration": 96,
                        "passed_time": 1.089096983,
                        "remaining_time": 10.13870696,
                        "test": [
                          0.0004436629301
                        ]
                      },
                      {
                        "learn": [
                          0.0004186072417
                        ],
                        "iteration": 97,
                        "passed_time": 1.126998684,
                        "remaining_time": 10.37298789,
                        "test": [
                          0.0004323115952
                        ]
                      },
                      {
                        "learn": [
                          0.0004070810632
                        ],
                        "iteration": 98,
                        "passed_time": 1.164921161,
                        "remaining_time": 10.60195925,
                        "test": [
                          0.0004205369235
                        ]
                      },
                      {
                        "learn": [
                          0.0003970030146
                        ],
                        "iteration": 99,
                        "passed_time": 1.202501565,
                        "remaining_time": 10.82251409,
                        "test": [
                          0.0004102080986
                        ]
                      },
                      {
                        "learn": [
                          0.0003873360941
                        ],
                        "iteration": 100,
                        "passed_time": 1.240058534,
                        "remaining_time": 11.03774874,
                        "test": [
                          0.0004005702608
                        ]
                      },
                      {
                        "learn": [
                          0.0003773383207
                        ],
                        "iteration": 101,
                        "passed_time": 1.27240748,
                        "remaining_time": 11.20217566,
                        "test": [
                          0.0003903395032
                        ]
                      },
                      {
                        "learn": [
                          0.0003684940535
                        ],
                        "iteration": 102,
                        "passed_time": 1.281121825,
                        "remaining_time": 11.15695414,
                        "test": [
                          0.0003815204228
                        ]
                      },
                      {
                        "learn": [
                          0.0003601723071
                        ],
                        "iteration": 103,
                        "passed_time": 1.29467656,
                        "remaining_time": 11.15413652,
                        "test": [
                          0.0003732210095
                        ]
                      },
                      {
                        "learn": [
                          0.0003515628107
                        ],
                        "iteration": 104,
                        "passed_time": 1.334140219,
                        "remaining_time": 11.3719571,
                        "test": [
                          0.0003643884051
                        ]
                      },
                      {
                        "learn": [
                          0.0003440735193
                        ],
                        "iteration": 105,
                        "passed_time": 1.349803666,
                        "remaining_time": 11.38419318,
                        "test": [
                          0.0003565427763
                        ]
                      },
                      {
                        "learn": [
                          0.0003367248771
                        ],
                        "iteration": 106,
                        "passed_time": 1.381169029,
                        "remaining_time": 11.52695274,
                        "test": [
                          0.0003492171371
                        ]
                      },
                      {
                        "learn": [
                          0.0003291238456
                        ],
                        "iteration": 107,
                        "passed_time": 1.402026398,
                        "remaining_time": 11.57969951,
                        "test": [
                          0.0003414081346
                        ]
                      },
                      {
                        "learn": [
                          0.0003225804864
                        ],
                        "iteration": 108,
                        "passed_time": 1.459188125,
                        "remaining_time": 11.9278589,
                        "test": [
                          0.0003348848256
                        ]
                      },
                      {
                        "learn": [
                          0.000316194278
                        ],
                        "iteration": 109,
                        "passed_time": 1.477473653,
                        "remaining_time": 11.95410501,
                        "test": [
                          0.0003285160122
                        ]
                      },
                      {
                        "learn": [
                          0.0003096643683
                        ],
                        "iteration": 110,
                        "passed_time": 1.494475089,
                        "remaining_time": 11.96926445,
                        "test": [
                          0.0003216703121
                        ]
                      },
                      {
                        "learn": [
                          0.0003032318559
                        ],
                        "iteration": 111,
                        "passed_time": 1.508039834,
                        "remaining_time": 11.95660154,
                        "test": [
                          0.0003150452136
                        ]
                      },
                      {
                        "learn": [
                          0.0002975664369
                        ],
                        "iteration": 112,
                        "passed_time": 1.521354709,
                        "remaining_time": 11.9419613,
                        "test": [
                          0.0003091883997
                        ]
                      },
                      {
                        "learn": [
                          0.0002920495829
                        ],
                        "iteration": 113,
                        "passed_time": 1.534325094,
                        "remaining_time": 11.92466696,
                        "test": [
                          0.0003034847166
                        ]
                      },
                      {
                        "learn": [
                          0.0002863554037
                        ],
                        "iteration": 114,
                        "passed_time": 1.555822124,
                        "remaining_time": 11.97306591,
                        "test": [
                          0.0002976119469
                        ]
                      },
                      {
                        "learn": [
                          0.00028071671
                        ],
                        "iteration": 115,
                        "passed_time": 1.569411982,
                        "remaining_time": 11.96000165,
                        "test": [
                          0.0002917997247
                        ]
                      },
                      {
                        "learn": [
                          0.0002757871925
                        ],
                        "iteration": 116,
                        "passed_time": 1.597896587,
                        "remaining_time": 12.0593392,
                        "test": [
                          0.0002866971503
                        ]
                      },
                      {
                        "learn": [
                          0.0002711236874
                        ],
                        "iteration": 117,
                        "passed_time": 1.63804291,
                        "remaining_time": 12.24367667,
                        "test": [
                          0.0002820529509
                        ]
                      },
                      {
                        "learn": [
                          0.0002666073824
                        ],
                        "iteration": 118,
                        "passed_time": 1.677406835,
                        "remaining_time": 12.41844892,
                        "test": [
                          0.0002775544132
                        ]
                      },
                      {
                        "learn": [
                          0.0002618436263
                        ],
                        "iteration": 119,
                        "passed_time": 1.718407712,
                        "remaining_time": 12.60165655,
                        "test": [
                          0.0002726272282
                        ]
                      },
                      {
                        "learn": [
                          0.000257627702
                        ],
                        "iteration": 120,
                        "passed_time": 1.759978254,
                        "remaining_time": 12.78529657,
                        "test": [
                          0.0002684269122
                        ]
                      },
                      {
                        "learn": [
                          0.0002530708748
                        ],
                        "iteration": 121,
                        "passed_time": 1.809656684,
                        "remaining_time": 13.02359482,
                        "test": [
                          0.0002637119664
                        ]
                      },
                      {
                        "learn": [
                          0.0002491516336
                        ],
                        "iteration": 122,
                        "passed_time": 1.829244794,
                        "remaining_time": 13.0426641,
                        "test": [
                          0.0002596363934
                        ]
                      },
                      {
                        "learn": [
                          0.0002452559664
                        ],
                        "iteration": 123,
                        "passed_time": 1.844607787,
                        "remaining_time": 13.03126146,
                        "test": [
                          0.0002557551682
                        ]
                      },
                      {
                        "learn": [
                          0.0002411546854
                        ],
                        "iteration": 124,
                        "passed_time": 1.87582041,
                        "remaining_time": 13.13074287,
                        "test": [
                          0.0002515040071
                        ]
                      },
                      {
                        "learn": [
                          0.0002376695507
                        ],
                        "iteration": 125,
                        "passed_time": 1.893171947,
                        "remaining_time": 13.13200224,
                        "test": [
                          0.0002480314534
                        ]
                      },
                      {
                        "learn": [
                          0.0002342093547
                        ],
                        "iteration": 126,
                        "passed_time": 1.907684532,
                        "remaining_time": 13.11345351,
                        "test": [
                          0.0002444610558
                        ]
                      },
                      {
                        "learn": [
                          0.0002304401425
                        ],
                        "iteration": 127,
                        "passed_time": 1.920601634,
                        "remaining_time": 13.08409863,
                        "test": [
                          0.0002405487628
                        ]
                      },
                      {
                        "learn": [
                          0.0002272624358
                        ],
                        "iteration": 128,
                        "passed_time": 1.941449793,
                        "remaining_time": 13.1085486,
                        "test": [
                          0.0002373826196
                        ]
                      },
                      {
                        "learn": [
                          0.0002241052507
                        ],
                        "iteration": 129,
                        "passed_time": 1.966487298,
                        "remaining_time": 13.16033807,
                        "test": [
                          0.0002342355837
                        ]
                      },
                      {
                        "learn": [
                          0.0002205450767
                        ],
                        "iteration": 130,
                        "passed_time": 1.979755843,
                        "remaining_time": 13.13288418,
                        "test": [
                          0.000230537515
                        ]
                      },
                      {
                        "learn": [
                          0.0002175519409
                        ],
                        "iteration": 131,
                        "passed_time": 2.002258573,
                        "remaining_time": 13.16636698,
                        "test": [
                          0.000227553238
                        ]
                      },
                      {
                        "learn": [
                          0.0002148151646
                        ],
                        "iteration": 132,
                        "passed_time": 2.055687091,
                        "remaining_time": 13.40060682,
                        "test": [
                          0.0002246811974
                        ]
                      },
                      {
                        "learn": [
                          0.0002119779388
                        ],
                        "iteration": 133,
                        "passed_time": 2.118891598,
                        "remaining_time": 13.69373226,
                        "test": [
                          0.0002217112632
                        ]
                      },
                      {
                        "learn": [
                          0.0002088805569
                        ],
                        "iteration": 134,
                        "passed_time": 2.18301514,
                        "remaining_time": 13.98746738,
                        "test": [
                          0.0002184852424
                        ]
                      },
                      {
                        "learn": [
                          0.0002058151982
                        ],
                        "iteration": 135,
                        "passed_time": 2.220220036,
                        "remaining_time": 14.10492729,
                        "test": [
                          0.0002152944584
                        ]
                      },
                      {
                        "learn": [
                          0.0002031597393
                        ],
                        "iteration": 136,
                        "passed_time": 2.232516474,
                        "remaining_time": 14.06322421,
                        "test": [
                          0.0002125151499
                        ]
                      },
                      {
                        "learn": [
                          0.0002003842151
                        ],
                        "iteration": 137,
                        "passed_time": 2.258340061,
                        "remaining_time": 14.10644299,
                        "test": [
                          0.0002096194361
                        ]
                      },
                      {
                        "learn": [
                          0.0001978847159
                        ],
                        "iteration": 138,
                        "passed_time": 2.287215753,
                        "remaining_time": 14.16757384,
                        "test": [
                          0.0002070010627
                        ]
                      },
                      {
                        "learn": [
                          0.0001955199723
                        ],
                        "iteration": 139,
                        "passed_time": 2.308417693,
                        "remaining_time": 14.18028012,
                        "test": [
                          0.000204519827
                        ]
                      },
                      {
                        "learn": [
                          0.0001928133705
                        ],
                        "iteration": 140,
                        "passed_time": 2.321327749,
                        "remaining_time": 14.14198962,
                        "test": [
                          0.0002017001452
                        ]
                      },
                      {
                        "learn": [
                          0.0001904829332
                        ],
                        "iteration": 141,
                        "passed_time": 2.339780147,
                        "remaining_time": 14.13754483,
                        "test": [
                          0.0001992580173
                        ]
                      },
                      {
                        "learn": [
                          0.0001882302275
                        ],
                        "iteration": 142,
                        "passed_time": 2.353892482,
                        "remaining_time": 14.1068941,
                        "test": [
                          0.0001968369694
                        ]
                      },
                      {
                        "learn": [
                          0.0001859295924
                        ],
                        "iteration": 143,
                        "passed_time": 2.36897047,
                        "remaining_time": 14.08221335,
                        "test": [
                          0.000194429855
                        ]
                      },
                      {
                        "learn": [
                          0.0001835469947
                        ],
                        "iteration": 144,
                        "passed_time": 2.386929355,
                        "remaining_time": 14.0746524,
                        "test": [
                          0.0001919436564
                        ]
                      },
                      {
                        "learn": [
                          0.0001811891124
                        ],
                        "iteration": 145,
                        "passed_time": 2.400953896,
                        "remaining_time": 14.0439358,
                        "test": [
                          0.0001894845057
                        ]
                      },
                      {
                        "learn": [
                          0.0001792928931
                        ],
                        "iteration": 146,
                        "passed_time": 2.44610757,
                        "remaining_time": 14.19407998,
                        "test": [
                          0.0001875994406
                        ]
                      },
                      {
                        "learn": [
                          0.0001772908148
                        ],
                        "iteration": 147,
                        "passed_time": 2.511254267,
                        "remaining_time": 14.45667997,
                        "test": [
                          0.0001854979922
                        ]
                      },
                      {
                        "learn": [
                          0.0001751080614
                        ],
                        "iteration": 148,
                        "passed_time": 2.529424628,
                        "remaining_time": 14.44657959,
                        "test": [
                          0.0001832183255
                        ]
                      },
                      {
                        "learn": [
                          0.0001732525257
                        ],
                        "iteration": 149,
                        "passed_time": 2.547768376,
                        "remaining_time": 14.43735413,
                        "test": [
                          0.0001813733732
                        ]
                      },
                      {
                        "learn": [
                          0.0001711072423
                        ],
                        "iteration": 150,
                        "passed_time": 2.575019233,
                        "remaining_time": 14.47808827,
                        "test": [
                          0.0001791336579
                        ]
                      },
                      {
                        "learn": [
                          0.0001692789654
                        ],
                        "iteration": 151,
                        "passed_time": 2.598723607,
                        "remaining_time": 14.49814223,
                        "test": [
                          0.0001772125496
                        ]
                      },
                      {
                        "learn": [
                          0.0001672885747
                        ],
                        "iteration": 152,
                        "passed_time": 2.617926573,
                        "remaining_time": 14.49270462,
                        "test": [
                          0.0001751313003
                        ]
                      },
                      {
                        "learn": [
                          0.0001655068624
                        ],
                        "iteration": 153,
                        "passed_time": 2.642549571,
                        "remaining_time": 14.51686323,
                        "test": [
                          0.0001732601686
                        ]
                      },
                      {
                        "learn": [
                          0.0001635531601
                        ],
                        "iteration": 154,
                        "passed_time": 2.659467419,
                        "remaining_time": 14.4983869,
                        "test": [
                          0.0001712194415
                        ]
                      },
                      {
                        "learn": [
                          0.0001618931385
                        ],
                        "iteration": 155,
                        "passed_time": 2.672205171,
                        "remaining_time": 14.45731516,
                        "test": [
                          0.000169568775
                        ]
                      },
                      {
                        "learn": [
                          0.0001600906687
                        ],
                        "iteration": 156,
                        "passed_time": 2.686177469,
                        "remaining_time": 14.42323316,
                        "test": [
                          0.0001676813029
                        ]
                      },
                      {
                        "learn": [
                          0.0001585729091
                        ],
                        "iteration": 157,
                        "passed_time": 2.711282903,
                        "remaining_time": 14.44873547,
                        "test": [
                          0.0001661722656
                        ]
                      },
                      {
                        "learn": [
                          0.0001569457048
                        ],
                        "iteration": 158,
                        "passed_time": 2.728814051,
                        "remaining_time": 14.43353847,
                        "test": [
                          0.0001644612624
                        ]
                      },
                      {
                        "learn": [
                          0.0001554472014
                        ],
                        "iteration": 159,
                        "passed_time": 2.75314051,
                        "remaining_time": 14.45398768,
                        "test": [
                          0.0001628805358
                        ]
                      },
                      {
                        "learn": [
                          0.0001539883516
                        ],
                        "iteration": 160,
                        "passed_time": 2.779384414,
                        "remaining_time": 14.48387282,
                        "test": [
                          0.0001613410139
                        ]
                      },
                      {
                        "learn": [
                          0.0001522551146
                        ],
                        "iteration": 161,
                        "passed_time": 2.820229966,
                        "remaining_time": 14.58859699,
                        "test": [
                          0.000159529251
                        ]
                      },
                      {
                        "learn": [
                          0.0001508339086
                        ],
                        "iteration": 162,
                        "passed_time": 2.846450135,
                        "remaining_time": 14.61643413,
                        "test": [
                          0.0001579838728
                        ]
                      },
                      {
                        "learn": [
                          0.000149246482
                        ],
                        "iteration": 163,
                        "passed_time": 2.864148423,
                        "remaining_time": 14.60017123,
                        "test": [
                          0.0001563209851
                        ]
                      },
                      {
                        "learn": [
                          0.0001479160478
                        ],
                        "iteration": 164,
                        "passed_time": 2.882836246,
                        "remaining_time": 14.58889858,
                        "test": [
                          0.0001549996702
                        ]
                      },
                      {
                        "learn": [
                          0.0001465943359
                        ],
                        "iteration": 165,
                        "passed_time": 2.902921626,
                        "remaining_time": 14.58455805,
                        "test": [
                          0.0001536041473
                        ]
                      },
                      {
                        "learn": [
                          0.0001452801676
                        ],
                        "iteration": 166,
                        "passed_time": 2.920823494,
                        "remaining_time": 14.56913755,
                        "test": [
                          0.0001522986518
                        ]
                      },
                      {
                        "learn": [
                          0.0001439743495
                        ],
                        "iteration": 167,
                        "passed_time": 2.939250086,
                        "remaining_time": 14.55628614,
                        "test": [
                          0.0001509198539
                        ]
                      },
                      {
                        "learn": [
                          0.0001427952842
                        ],
                        "iteration": 168,
                        "passed_time": 2.952702859,
                        "remaining_time": 14.51891169,
                        "test": [
                          0.0001496689504
                        ]
                      },
                      {
                        "learn": [
                          0.0001416241473
                        ],
                        "iteration": 169,
                        "passed_time": 2.98013461,
                        "remaining_time": 14.55006898,
                        "test": [
                          0.0001484275882
                        ]
                      },
                      {
                        "learn": [
                          0.0001403409228
                        ],
                        "iteration": 170,
                        "passed_time": 2.999059943,
                        "remaining_time": 14.53930229,
                        "test": [
                          0.0001471532349
                        ]
                      },
                      {
                        "learn": [
                          0.0001391844388
                        ],
                        "iteration": 171,
                        "passed_time": 3.014291293,
                        "remaining_time": 14.51065808,
                        "test": [
                          0.0001459273569
                        ]
                      },
                      {
                        "learn": [
                          0.0001380348533
                        ],
                        "iteration": 172,
                        "passed_time": 3.029883376,
                        "remaining_time": 14.48389336,
                        "test": [
                          0.0001447862828
                        ]
                      },
                      {
                        "learn": [
                          0.0001365530873
                        ],
                        "iteration": 173,
                        "passed_time": 3.047395391,
                        "remaining_time": 14.46637123,
                        "test": [
                          0.0001432370211
                        ]
                      },
                      {
                        "learn": [
                          0.0001354203509
                        ],
                        "iteration": 174,
                        "passed_time": 3.080063259,
                        "remaining_time": 14.52029822,
                        "test": [
                          0.0001420380298
                        ]
                      },
                      {
                        "learn": [
                          0.0001343346382
                        ],
                        "iteration": 175,
                        "passed_time": 3.121295557,
                        "remaining_time": 14.61333829,
                        "test": [
                          0.0001408865088
                        ]
                      },
                      {
                        "learn": [
                          0.0001330046382
                        ],
                        "iteration": 176,
                        "passed_time": 3.178432796,
                        "remaining_time": 14.77881464,
                        "test": [
                          0.0001394923631
                        ]
                      },
                      {
                        "learn": [
                          0.0001316870455
                        ],
                        "iteration": 177,
                        "passed_time": 3.231792626,
                        "remaining_time": 14.92434572,
                        "test": [
                          0.0001381117661
                        ]
                      },
                      {
                        "learn": [
                          0.0001305003746
                        ],
                        "iteration": 178,
                        "passed_time": 3.284213835,
                        "remaining_time": 15.06334949,
                        "test": [
                          0.0001368632573
                        ]
                      },
                      {
                        "learn": [
                          0.0001295253721
                        ],
                        "iteration": 179,
                        "passed_time": 3.33602432,
                        "remaining_time": 15.19744413,
                        "test": [
                          0.000135827
                        ]
                      },
                      {
                        "learn": [
                          0.0001284374385
                        ],
                        "iteration": 180,
                        "passed_time": 3.388525209,
                        "remaining_time": 15.33260854,
                        "test": [
                          0.000134678891
                        ]
                      },
                      {
                        "learn": [
                          0.0001273554975
                        ],
                        "iteration": 181,
                        "passed_time": 3.44584029,
                        "remaining_time": 15.48734812,
                        "test": [
                          0.0001335374943
                        ]
                      },
                      {
                        "learn": [
                          0.0001262042122
                        ],
                        "iteration": 182,
                        "passed_time": 3.505644219,
                        "remaining_time": 15.65088157,
                        "test": [
                          0.0001323280188
                        ]
                      },
                      {
                        "learn": [
                          0.000125063833
                        ],
                        "iteration": 183,
                        "passed_time": 3.57928602,
                        "remaining_time": 15.87335539,
                        "test": [
                          0.0001311305163
                        ]
                      },
                      {
                        "learn": [
                          0.0001241214493
                        ],
                        "iteration": 184,
                        "passed_time": 3.597232768,
                        "remaining_time": 15.84726868,
                        "test": [
                          0.0001301959244
                        ]
                      },
                      {
                        "learn": [
                          0.0001229988869
                        ],
                        "iteration": 185,
                        "passed_time": 3.610209101,
                        "remaining_time": 15.79951725,
                        "test": [
                          0.0001290173554
                        ]
                      },
                      {
                        "learn": [
                          0.0001220697169
                        ],
                        "iteration": 186,
                        "passed_time": 3.661437062,
                        "remaining_time": 15.91844027,
                        "test": [
                          0.0001280331964
                        ]
                      },
                      {
                        "learn": [
                          0.0001209645992
                        ],
                        "iteration": 187,
                        "passed_time": 3.714872682,
                        "remaining_time": 16.04508839,
                        "test": [
                          0.0001268736975
                        ]
                      },
                      {
                        "learn": [
                          0.0001200739167
                        ],
                        "iteration": 188,
                        "passed_time": 3.768744857,
                        "remaining_time": 16.17170412,
                        "test": [
                          0.0001258999606
                        ]
                      },
                      {
                        "learn": [
                          0.0001192809665
                        ],
                        "iteration": 189,
                        "passed_time": 3.815013109,
                        "remaining_time": 16.26400326,
                        "test": [
                          0.0001251144671
                        ]
                      },
                      {
                        "learn": [
                          0.0001182007502
                        ],
                        "iteration": 190,
                        "passed_time": 3.828862062,
                        "remaining_time": 16.21753617,
                        "test": [
                          0.0001239822766
                        ]
                      },
                      {
                        "learn": [
                          0.0001171298269
                        ],
                        "iteration": 191,
                        "passed_time": 3.848717343,
                        "remaining_time": 16.19668548,
                        "test": [
                          0.0001228600865
                        ]
                      },
                      {
                        "learn": [
                          0.000116236328
                        ],
                        "iteration": 192,
                        "passed_time": 3.884950241,
                        "remaining_time": 16.24432562,
                        "test": [
                          0.0001219164745
                        ]
                      },
                      {
                        "learn": [
                          0.0001152996268
                        ],
                        "iteration": 193,
                        "passed_time": 3.898813703,
                        "remaining_time": 16.19816415,
                        "test": [
                          0.0001209297595
                        ]
                      },
                      {
                        "learn": [
                          0.0001145357717
                        ],
                        "iteration": 194,
                        "passed_time": 3.917615423,
                        "remaining_time": 16.17272008,
                        "test": [
                          0.0001201168335
                        ]
                      },
                      {
                        "learn": [
                          0.0001136138353
                        ],
                        "iteration": 195,
                        "passed_time": 3.931593558,
                        "remaining_time": 16.12755725,
                        "test": [
                          0.0001191466451
                        ]
                      },
                      {
                        "learn": [
                          0.0001127003358
                        ],
                        "iteration": 196,
                        "passed_time": 3.950449153,
                        "remaining_time": 16.10259223,
                        "test": [
                          0.0001181855512
                        ]
                      },
                      {
                        "learn": [
                          0.0001118333636
                        ],
                        "iteration": 197,
                        "passed_time": 3.965286073,
                        "remaining_time": 16.06141126,
                        "test": [
                          0.000117325614
                        ]
                      },
                      {
                        "learn": [
                          0.0001110895835
                        ],
                        "iteration": 198,
                        "passed_time": 3.98446499,
                        "remaining_time": 16.03797214,
                        "test": [
                          0.0001165884346
                        ]
                      },
                      {
                        "learn": [
                          0.0001101955139
                        ],
                        "iteration": 199,
                        "passed_time": 3.998236338,
                        "remaining_time": 15.99294535,
                        "test": [
                          0.0001156478996
                        ]
                      },
                      {
                        "learn": [
                          0.0001093093352
                        ],
                        "iteration": 200,
                        "passed_time": 4.013538863,
                        "remaining_time": 15.95431618,
                        "test": [
                          0.0001147160001
                        ]
                      },
                      {
                        "learn": [
                          0.0001085810022
                        ],
                        "iteration": 201,
                        "passed_time": 4.031197222,
                        "remaining_time": 15.92522467,
                        "test": [
                          0.000113942703
                        ]
                      },
                      {
                        "learn": [
                          0.0001078562301
                        ],
                        "iteration": 202,
                        "passed_time": 4.063384668,
                        "remaining_time": 15.95328857,
                        "test": [
                          0.0001132240353
                        ]
                      },
                      {
                        "learn": [
                          0.0001069881413
                        ],
                        "iteration": 203,
                        "passed_time": 4.088968403,
                        "remaining_time": 15.95499436,
                        "test": [
                          0.0001123117889
                        ]
                      },
                      {
                        "learn": [
                          0.0001062724141
                        ],
                        "iteration": 204,
                        "passed_time": 4.129244927,
                        "remaining_time": 16.01341325,
                        "test": [
                          0.0001116019056
                        ]
                      },
                      {
                        "learn": [
                          0.0001056793702
                        ],
                        "iteration": 205,
                        "passed_time": 4.165755871,
                        "remaining_time": 16.05636001,
                        "test": [
                          0.0001110144201
                        ]
                      },
                      {
                        "learn": [
                          0.0001049713107
                        ],
                        "iteration": 206,
                        "passed_time": 4.186092759,
                        "remaining_time": 16.03657758,
                        "test": [
                          0.0001103117578
                        ]
                      },
                      {
                        "learn": [
                          0.0001042670478
                        ],
                        "iteration": 207,
                        "passed_time": 4.202296958,
                        "remaining_time": 16.0010538,
                        "test": [
                          0.0001095647766
                        ]
                      },
                      {
                        "learn": [
                          0.0001036852635
                        ],
                        "iteration": 208,
                        "passed_time": 4.236947694,
                        "remaining_time": 16.03552931,
                        "test": [
                          0.0001089403919
                        ]
                      },
                      {
                        "learn": [
                          0.0001028486024
                        ],
                        "iteration": 209,
                        "passed_time": 4.336132782,
                        "remaining_time": 16.31211856,
                        "test": [
                          0.0001080615212
                        ]
                      },
                      {
                        "learn": [
                          0.0001021561079
                        ],
                        "iteration": 210,
                        "passed_time": 4.372320722,
                        "remaining_time": 16.34957843,
                        "test": [
                          0.0001073279151
                        ]
                      },
                      {
                        "learn": [
                          0.0001015860423
                        ],
                        "iteration": 211,
                        "passed_time": 4.391255992,
                        "remaining_time": 16.32221567,
                        "test": [
                          0.0001067170171
                        ]
                      },
                      {
                        "learn": [
                          0.0001010193143
                        ],
                        "iteration": 212,
                        "passed_time": 4.407061186,
                        "remaining_time": 16.28336692,
                        "test": [
                          0.0001061099157
                        ]
                      },
                      {
                        "learn": [
                          0.0001003372108
                        ],
                        "iteration": 213,
                        "passed_time": 4.46933842,
                        "remaining_time": 16.41542055,
                        "test": [
                          0.0001053881586
                        ]
                      },
                      {
                        "learn": [
                          0.00009952458886
                        ],
                        "iteration": 214,
                        "passed_time": 4.535955799,
                        "remaining_time": 16.56151303,
                        "test": [
                          0.0001045356781
                        ]
                      },
                      {
                        "learn": [
                          0.00009896842566
                        ],
                        "iteration": 215,
                        "passed_time": 4.614172319,
                        "remaining_time": 16.74773656,
                        "test": [
                          0.0001039851851
                        ]
                      },
                      {
                        "learn": [
                          0.00009828524898
                        ],
                        "iteration": 216,
                        "passed_time": 4.661008812,
                        "remaining_time": 16.81829447,
                        "test": [
                          0.0001032630619
                        ]
                      },
                      {
                        "learn": [
                          0.00009773654257
                        ],
                        "iteration": 217,
                        "passed_time": 4.698531418,
                        "remaining_time": 16.854365,
                        "test": [
                          0.0001026756882
                        ]
                      },
                      {
                        "learn": [
                          0.00009724320371
                        ],
                        "iteration": 218,
                        "passed_time": 4.749382094,
                        "remaining_time": 16.93729414,
                        "test": [
                          0.000102347174
                        ]
                      },
                      {
                        "learn": [
                          0.00009669976419
                        ],
                        "iteration": 219,
                        "passed_time": 4.799032323,
                        "remaining_time": 17.01475096,
                        "test": [
                          0.00010194653
                        ]
                      },
                      {
                        "learn": [
                          0.00009594507187
                        ],
                        "iteration": 220,
                        "passed_time": 4.840339752,
                        "remaining_time": 17.06165008,
                        "test": [
                          0.0001011294538
                        ]
                      },
                      {
                        "learn": [
                          0.00009528272083
                        ],
                        "iteration": 221,
                        "passed_time": 4.884981759,
                        "remaining_time": 17.11944058,
                        "test": [
                          0.0001004279082
                        ]
                      },
                      {
                        "learn": [
                          0.00009462608957
                        ],
                        "iteration": 222,
                        "passed_time": 4.921767547,
                        "remaining_time": 17.14893894,
                        "test": [
                          0.00009973226836
                        ]
                      },
                      {
                        "learn": [
                          0.0000940960065
                        ],
                        "iteration": 223,
                        "passed_time": 4.972195483,
                        "remaining_time": 17.22510578,
                        "test": [
                          0.00009920658368
                        ]
                      },
                      {
                        "learn": [
                          0.00009344853182
                        ],
                        "iteration": 224,
                        "passed_time": 5.017093653,
                        "remaining_time": 17.28110036,
                        "test": [
                          0.00009852086972
                        ]
                      },
                      {
                        "learn": [
                          0.00009292522934
                        ],
                        "iteration": 225,
                        "passed_time": 5.055567,
                        "remaining_time": 17.31419849,
                        "test": [
                          0.0000979609285
                        ]
                      },
                      {
                        "learn": [
                          0.0000924042036
                        ],
                        "iteration": 226,
                        "passed_time": 5.098501107,
                        "remaining_time": 17.36185619,
                        "test": [
                          0.00009757267322
                        ]
                      },
                      {
                        "learn": [
                          0.0000917691238
                        ],
                        "iteration": 227,
                        "passed_time": 5.15124301,
                        "remaining_time": 17.44192809,
                        "test": [
                          0.0000968994534
                        ]
                      },
                      {
                        "learn": [
                          0.00009125477939
                        ],
                        "iteration": 228,
                        "passed_time": 5.190292483,
                        "remaining_time": 17.47474019,
                        "test": [
                          0.00009634936357
                        ]
                      },
                      {
                        "learn": [
                          0.00009074290403
                        ],
                        "iteration": 229,
                        "passed_time": 5.240731827,
                        "remaining_time": 17.54505872,
                        "test": [
                          0.000095801749
                        ]
                      },
                      {
                        "learn": [
                          0.00009011956154
                        ],
                        "iteration": 230,
                        "passed_time": 5.278387323,
                        "remaining_time": 17.57177425,
                        "test": [
                          0.00009514179258
                        ]
                      },
                      {
                        "learn": [
                          0.00008973259041
                        ],
                        "iteration": 231,
                        "passed_time": 5.314261639,
                        "remaining_time": 17.59203853,
                        "test": [
                          0.00009472009964
                        ]
                      },
                      {
                        "learn": [
                          0.00008922918303
                        ],
                        "iteration": 232,
                        "passed_time": 5.351679252,
                        "remaining_time": 17.61690123,
                        "test": [
                          0.00009418219998
                        ]
                      },
                      {
                        "learn": [
                          0.00008861728627
                        ],
                        "iteration": 233,
                        "passed_time": 5.369993408,
                        "remaining_time": 17.57869637,
                        "test": [
                          0.0000935347439
                        ]
                      },
                      {
                        "learn": [
                          0.00008823786499
                        ],
                        "iteration": 234,
                        "passed_time": 5.388834964,
                        "remaining_time": 17.54237765,
                        "test": [
                          0.0000931591875
                        ]
                      },
                      {
                        "learn": [
                          0.00008774241068
                        ],
                        "iteration": 235,
                        "passed_time": 5.401697863,
                        "remaining_time": 17.4868524,
                        "test": [
                          0.00009263052507
                        ]
                      },
                      {
                        "learn": [
                          0.00008714143233
                        ],
                        "iteration": 236,
                        "passed_time": 5.428113391,
                        "remaining_time": 17.47531864,
                        "test": [
                          0.00009199512888
                        ]
                      },
                      {
                        "learn": [
                          0.00008654497024
                        ],
                        "iteration": 237,
                        "passed_time": 5.456288847,
                        "remaining_time": 17.46929454,
                        "test": [
                          0.00009136430479
                        ]
                      },
                      {
                        "learn": [
                          0.00008595295616
                        ],
                        "iteration": 238,
                        "passed_time": 5.482996096,
                        "remaining_time": 17.45841016,
                        "test": [
                          0.00009073865453
                        ]
                      },
                      {
                        "learn": [
                          0.00008536511714
                        ],
                        "iteration": 239,
                        "passed_time": 5.506832017,
                        "remaining_time": 17.43830139,
                        "test": [
                          0.00009011778109
                        ]
                      },
                      {
                        "learn": [
                          0.00008490048256
                        ],
                        "iteration": 240,
                        "passed_time": 5.52907287,
                        "remaining_time": 17.41313821,
                        "test": [
                          0.00008962042226
                        ]
                      },
                      {
                        "learn": [
                          0.00008442203866
                        ],
                        "iteration": 241,
                        "passed_time": 5.616410848,
                        "remaining_time": 17.59189844,
                        "test": [
                          0.00008911096012
                        ]
                      },
                      {
                        "learn": [
                          0.00008406423708
                        ],
                        "iteration": 242,
                        "passed_time": 5.662391004,
                        "remaining_time": 17.63962959,
                        "test": [
                          0.00008875640927
                        ]
                      },
                      {
                        "learn": [
                          0.00008349048034
                        ],
                        "iteration": 243,
                        "passed_time": 5.723000761,
                        "remaining_time": 17.73192039,
                        "test": [
                          0.00008815066031
                        ]
                      },
                      {
                        "learn": [
                          0.00008292069393
                        ],
                        "iteration": 244,
                        "passed_time": 5.751069933,
                        "remaining_time": 17.7226849,
                        "test": [
                          0.00008754933456
                        ]
                      },
                      {
                        "learn": [
                          0.00008257072757
                        ],
                        "iteration": 245,
                        "passed_time": 5.781682567,
                        "remaining_time": 17.7210921,
                        "test": [
                          0.00008716989467
                        ]
                      },
                      {
                        "learn": [
                          0.00008210341921
                        ],
                        "iteration": 246,
                        "passed_time": 5.813316413,
                        "remaining_time": 17.72237757,
                        "test": [
                          0.0000867059673
                        ]
                      },
                      {
                        "learn": [
                          0.00008166171952
                        ],
                        "iteration": 247,
                        "passed_time": 5.83629821,
                        "remaining_time": 17.69716232,
                        "test": [
                          0.00008623368982
                        ]
                      },
                      {
                        "learn": [
                          0.00008110476845
                        ],
                        "iteration": 248,
                        "passed_time": 5.867160172,
                        "remaining_time": 17.69573208,
                        "test": [
                          0.00008564633469
                        ]
                      },
                      {
                        "learn": [
                          0.00008067055656
                        ],
                        "iteration": 249,
                        "passed_time": 5.883635413,
                        "remaining_time": 17.65090624,
                        "test": [
                          0.00008518222121
                        ]
                      },
                      {
                        "learn": [
                          0.00008023651216
                        ],
                        "iteration": 250,
                        "passed_time": 5.913557716,
                        "remaining_time": 17.64643318,
                        "test": [
                          0.00008472750626
                        ]
                      },
                      {
                        "learn": [
                          0.00007992428258
                        ],
                        "iteration": 251,
                        "passed_time": 5.974818827,
                        "remaining_time": 17.73477969,
                        "test": [
                          0.00008439358252
                        ]
                      },
                      {
                        "learn": [
                          0.00007958886998
                        ],
                        "iteration": 252,
                        "passed_time": 6.003909652,
                        "remaining_time": 17.72695854,
                        "test": [
                          0.0000840612097
                        ]
                      },
                      {
                        "learn": [
                          0.0000791363325
                        ],
                        "iteration": 253,
                        "passed_time": 6.031947437,
                        "remaining_time": 17.71587712,
                        "test": [
                          0.00008361174924
                        ]
                      },
                      {
                        "learn": [
                          0.0000788044932
                        ],
                        "iteration": 254,
                        "passed_time": 6.06087869,
                        "remaining_time": 17.70727304,
                        "test": [
                          0.00008328254028
                        ]
                      },
                      {
                        "learn": [
                          0.00007835575856
                        ],
                        "iteration": 255,
                        "passed_time": 6.117639282,
                        "remaining_time": 17.77938916,
                        "test": [
                          0.00008280637312
                        ]
                      },
                      {
                        "learn": [
                          0.00007802725682
                        ],
                        "iteration": 256,
                        "passed_time": 6.165493352,
                        "remaining_time": 17.82475315,
                        "test": [
                          0.00008248060098
                        ]
                      },
                      {
                        "learn": [
                          0.00007749362527
                        ],
                        "iteration": 257,
                        "passed_time": 6.18307183,
                        "remaining_time": 17.78232286,
                        "test": [
                          0.00008191835821
                        ]
                      },
                      {
                        "learn": [
                          0.00007716921793
                        ],
                        "iteration": 258,
                        "passed_time": 6.199644332,
                        "remaining_time": 17.73720637,
                        "test": [
                          0.00008159669909
                        ]
                      },
                      {
                        "learn": [
                          0.00007676005636
                        ],
                        "iteration": 259,
                        "passed_time": 6.218519195,
                        "remaining_time": 17.69886232,
                        "test": [
                          0.00008115942259
                        ]
                      },
                      {
                        "learn": [
                          0.00007623521538
                        ],
                        "iteration": 260,
                        "passed_time": 6.23140612,
                        "remaining_time": 17.64371311,
                        "test": [
                          0.00008060659075
                        ]
                      },
                      {
                        "learn": [
                          0.00007583236292
                        ],
                        "iteration": 261,
                        "passed_time": 6.256381565,
                        "remaining_time": 17.62293738,
                        "test": [
                          0.00008017652289
                        ]
                      },
                      {
                        "learn": [
                          0.00007551624366
                        ],
                        "iteration": 262,
                        "passed_time": 6.270855654,
                        "remaining_time": 17.57270197,
                        "test": [
                          0.00007986270518
                        ]
                      },
                      {
                        "learn": [
                          0.00007511868291
                        ],
                        "iteration": 263,
                        "passed_time": 6.298332026,
                        "remaining_time": 17.55898625,
                        "test": [
                          0.00007943810894
                        ]
                      },
                      {
                        "learn": [
                          0.00007472419297
                        ],
                        "iteration": 264,
                        "passed_time": 6.316013388,
                        "remaining_time": 17.5179994,
                        "test": [
                          0.00007901679442
                        ]
                      },
                      {
                        "learn": [
                          0.00007429464622
                        ],
                        "iteration": 265,
                        "passed_time": 6.342196097,
                        "remaining_time": 17.50064637,
                        "test": [
                          0.00007858955543
                        ]
                      },
                      {
                        "learn": [
                          0.00007390522466
                        ],
                        "iteration": 266,
                        "passed_time": 6.394914221,
                        "remaining_time": 17.55607537,
                        "test": [
                          0.00007817378077
                        ]
                      },
                      {
                        "learn": [
                          0.00007351859473
                        ],
                        "iteration": 267,
                        "passed_time": 6.460145888,
                        "remaining_time": 17.64487608,
                        "test": [
                          0.00007776099627
                        ]
                      },
                      {
                        "learn": [
                          0.0000730945258
                        ],
                        "iteration": 268,
                        "passed_time": 6.513121099,
                        "remaining_time": 17.69922499,
                        "test": [
                          0.00007733913584
                        ]
                      },
                      {
                        "learn": [
                          0.00007287270198
                        ],
                        "iteration": 269,
                        "passed_time": 6.56384401,
                        "remaining_time": 17.74668936,
                        "test": [
                          0.00007707783821
                        ]
                      },
                      {
                        "learn": [
                          0.00007245170385
                        ],
                        "iteration": 270,
                        "passed_time": 6.606752503,
                        "remaining_time": 17.77240803,
                        "test": [
                          0.00007665905478
                        ]
                      },
                      {
                        "learn": [
                          0.00007207409404
                        ],
                        "iteration": 271,
                        "passed_time": 6.641462071,
                        "remaining_time": 17.77567789,
                        "test": [
                          0.0000762561713
                        ]
                      },
                      {
                        "learn": [
                          0.00007169925104
                        ],
                        "iteration": 272,
                        "passed_time": 6.680870814,
                        "remaining_time": 17.79118345,
                        "test": [
                          0.00007585626558
                        ]
                      },
                      {
                        "learn": [
                          0.00007140252438
                        ],
                        "iteration": 273,
                        "passed_time": 6.723704429,
                        "remaining_time": 17.81536283,
                        "test": [
                          0.00007553595265
                        ]
                      },
                      {
                        "learn": [
                          0.00007110716873
                        ],
                        "iteration": 274,
                        "passed_time": 6.742516637,
                        "remaining_time": 17.77572568,
                        "test": [
                          0.00007521727128
                        ]
                      },
                      {
                        "learn": [
                          0.00007069412368
                        ],
                        "iteration": 275,
                        "passed_time": 6.771099233,
                        "remaining_time": 17.761869,
                        "test": [
                          0.00007480627343
                        ]
                      },
                      {
                        "learn": [
                          0.00007044614528
                        ],
                        "iteration": 276,
                        "passed_time": 6.844776166,
                        "remaining_time": 17.86560711,
                        "test": [
                          0.00007453403877
                        ]
                      },
                      {
                        "learn": [
                          0.00006996289355
                        ],
                        "iteration": 277,
                        "passed_time": 6.890234972,
                        "remaining_time": 17.89478291,
                        "test": [
                          0.00007402686577
                        ]
                      },
                      {
                        "learn": [
                          0.00006979268407
                        ],
                        "iteration": 278,
                        "passed_time": 6.978230178,
                        "remaining_time": 18.03334752,
                        "test": [
                          0.00007383401299
                        ]
                      },
                      {
                        "learn": [
                          0.00006935135659
                        ],
                        "iteration": 279,
                        "passed_time": 7.042527923,
                        "remaining_time": 18.10935752,
                        "test": [
                          0.00007335672296
                        ]
                      },
                      {
                        "learn": [
                          0.00006918378987
                        ],
                        "iteration": 280,
                        "passed_time": 7.109973273,
                        "remaining_time": 18.19242272,
                        "test": [
                          0.00007316692857
                        ]
                      },
                      {
                        "learn": [
                          0.00006877962844
                        ],
                        "iteration": 281,
                        "passed_time": 7.186925738,
                        "remaining_time": 18.29862652,
                        "test": [
                          0.0000727410916
                        ]
                      },
                      {
                        "learn": [
                          0.00006861454318
                        ],
                        "iteration": 282,
                        "passed_time": 7.235724567,
                        "remaining_time": 18.33220676,
                        "test": [
                          0.00007255418811
                        ]
                      },
                      {
                        "learn": [
                          0.00006821254682
                        ],
                        "iteration": 283,
                        "passed_time": 7.275104099,
                        "remaining_time": 18.34145963,
                        "test": [
                          0.00007222988623
                        ]
                      },
                      {
                        "learn": [
                          0.0000680495646
                        ],
                        "iteration": 284,
                        "passed_time": 7.313022716,
                        "remaining_time": 18.34670611,
                        "test": [
                          0.00007206881473
                        ]
                      },
                      {
                        "learn": [
                          0.0000675806619
                        ],
                        "iteration": 285,
                        "passed_time": 7.326963677,
                        "remaining_time": 18.29179044,
                        "test": [
                          0.00007157685308
                        ]
                      },
                      {
                        "learn": [
                          0.00006735192722
                        ],
                        "iteration": 286,
                        "passed_time": 7.345775335,
                        "remaining_time": 18.24926067,
                        "test": [
                          0.00007132542545
                        ]
                      },
                      {
                        "learn": [
                          0.00006688762143
                        ],
                        "iteration": 287,
                        "passed_time": 7.369743649,
                        "remaining_time": 18.21964402,
                        "test": [
                          0.00007083878033
                        ]
                      },
                      {
                        "learn": [
                          0.00006673055128
                        ],
                        "iteration": 288,
                        "passed_time": 7.408639995,
                        "remaining_time": 18.22679251,
                        "test": [
                          0.00007068346581
                        ]
                      },
                      {
                        "learn": [
                          0.0000663366755
                        ],
                        "iteration": 289,
                        "passed_time": 7.44852659,
                        "remaining_time": 18.23604786,
                        "test": [
                          0.00007029142011
                        ]
                      },
                      {
                        "learn": [
                          0.00006611537278
                        ],
                        "iteration": 290,
                        "passed_time": 7.505509515,
                        "remaining_time": 18.2866194,
                        "test": [
                          0.00007004818129
                        ]
                      },
                      {
                        "learn": [
                          0.00006565848655
                        ],
                        "iteration": 291,
                        "passed_time": 7.549744731,
                        "remaining_time": 18.30554544,
                        "test": [
                          0.0000695692473
                        ]
                      },
                      {
                        "learn": [
                          0.00006550675154
                        ],
                        "iteration": 292,
                        "passed_time": 7.589745042,
                        "remaining_time": 18.31382165,
                        "test": [
                          0.00006939718914
                        ]
                      },
                      {
                        "learn": [
                          0.00006505351306
                        ],
                        "iteration": 293,
                        "passed_time": 7.629790128,
                        "remaining_time": 18.32187697,
                        "test": [
                          0.00006892230613
                        ]
                      },
                      {
                        "learn": [
                          0.00006490405478
                        ],
                        "iteration": 294,
                        "passed_time": 7.684613212,
                        "remaining_time": 18.3649231,
                        "test": [
                          0.00006877449803
                        ]
                      },
                      {
                        "learn": [
                          0.00006451793977
                        ],
                        "iteration": 295,
                        "passed_time": 7.738948459,
                        "remaining_time": 18.40614769,
                        "test": [
                          0.0000683684631
                        ]
                      },
                      {
                        "learn": [
                          0.00006430738177
                        ],
                        "iteration": 296,
                        "passed_time": 7.776852351,
                        "remaining_time": 18.4078357,
                        "test": [
                          0.00006813691195
                        ]
                      },
                      {
                        "learn": [
                          0.00006404243019
                        ],
                        "iteration": 297,
                        "passed_time": 7.816738409,
                        "remaining_time": 18.41392739,
                        "test": [
                          0.00006787348027
                        ]
                      },
                      {
                        "learn": [
                          0.00006371629203
                        ],
                        "iteration": 298,
                        "passed_time": 7.85555251,
                        "remaining_time": 18.41719836,
                        "test": [
                          0.00006752646684
                        ]
                      },
                      {
                        "learn": [
                          0.0000635109513
                        ],
                        "iteration": 299,
                        "passed_time": 7.890975447,
                        "remaining_time": 18.41227604,
                        "test": [
                          0.00006730079676
                        ]
                      },
                      {
                        "learn": [
                          0.00006317949042
                        ],
                        "iteration": 300,
                        "passed_time": 7.935884827,
                        "remaining_time": 18.42918104,
                        "test": [
                          0.00006694028419
                        ]
                      },
                      {
                        "learn": [
                          0.000063037948
                        ],
                        "iteration": 301,
                        "passed_time": 7.990643826,
                        "remaining_time": 18.46844169,
                        "test": [
                          0.00006677958491
                        ]
                      },
                      {
                        "learn": [
                          0.00006265926495
                        ],
                        "iteration": 302,
                        "passed_time": 8.057936898,
                        "remaining_time": 18.53591425,
                        "test": [
                          0.0000664028374
                        ]
                      },
                      {
                        "learn": [
                          0.00006245937102
                        ],
                        "iteration": 303,
                        "passed_time": 8.128668966,
                        "remaining_time": 18.61037369,
                        "test": [
                          0.00006618305458
                        ]
                      },
                      {
                        "learn": [
                          0.00006209792171
                        ],
                        "iteration": 304,
                        "passed_time": 8.202590895,
                        "remaining_time": 18.69114975,
                        "test": [
                          0.00006580805649
                        ]
                      },
                      {
                        "learn": [
                          0.00006196042406
                        ],
                        "iteration": 305,
                        "passed_time": 8.245737789,
                        "remaining_time": 18.70111773,
                        "test": [
                          0.00006565207819
                        ]
                      },
                      {
                        "learn": [
                          0.0000617647238
                        ],
                        "iteration": 306,
                        "passed_time": 8.294162857,
                        "remaining_time": 18.72265427,
                        "test": [
                          0.00006543681782
                        ]
                      },
                      {
                        "learn": [
                          0.00006139132006
                        ],
                        "iteration": 307,
                        "passed_time": 8.354253591,
                        "remaining_time": 18.76994638,
                        "test": [
                          0.00006506510147
                        ]
                      },
                      {
                        "learn": [
                          0.00006125670711
                        ],
                        "iteration": 308,
                        "passed_time": 8.381114228,
                        "remaining_time": 18.74223279,
                        "test": [
                          0.00006493184712
                        ]
                      },
                      {
                        "learn": [
                          0.00006082734026
                        ],
                        "iteration": 309,
                        "passed_time": 8.442006801,
                        "remaining_time": 18.7902732,
                        "test": [
                          0.00006448321175
                        ]
                      },
                      {
                        "learn": [
                          0.00006063763893
                        ],
                        "iteration": 310,
                        "passed_time": 8.513661683,
                        "remaining_time": 18.86145627,
                        "test": [
                          0.00006427453345
                        ]
                      },
                      {
                        "learn": [
                          0.0000604496436
                        ],
                        "iteration": 311,
                        "passed_time": 8.606705942,
                        "remaining_time": 18.97889003,
                        "test": [
                          0.00006406788375
                        ]
                      },
                      {
                        "learn": [
                          0.00006008182313
                        ],
                        "iteration": 312,
                        "passed_time": 8.635475027,
                        "remaining_time": 18.95390206,
                        "test": [
                          0.0000636823953
                        ]
                      },
                      {
                        "learn": [
                          0.00005995263218
                        ],
                        "iteration": 313,
                        "passed_time": 8.663521068,
                        "remaining_time": 18.92731036,
                        "test": [
                          0.00006353600163
                        ]
                      },
                      {
                        "learn": [
                          0.00005982427251
                        ],
                        "iteration": 314,
                        "passed_time": 8.76912259,
                        "remaining_time": 19.06936182,
                        "test": [
                          0.0000633903648
                        ]
                      },
                      {
                        "learn": [
                          0.0000594034853
                        ],
                        "iteration": 315,
                        "passed_time": 8.846225121,
                        "remaining_time": 19.14815817,
                        "test": [
                          0.00006295150638
                        ]
                      },
                      {
                        "learn": [
                          0.00005927690608
                        ],
                        "iteration": 316,
                        "passed_time": 8.91637475,
                        "remaining_time": 19.21099039,
                        "test": [
                          0.00006282616168
                        ]
                      },
                      {
                        "learn": [
                          0.00005891326067
                        ],
                        "iteration": 317,
                        "passed_time": 8.98290961,
                        "remaining_time": 19.26523382,
                        "test": [
                          0.00006246389969
                        ]
                      },
                      {
                        "learn": [
                          0.00005878855495
                        ],
                        "iteration": 318,
                        "passed_time": 9.042781955,
                        "remaining_time": 19.3044969,
                        "test": [
                          0.00006232240689
                        ]
                      },
                      {
                        "learn": [
                          0.00005861044203
                        ],
                        "iteration": 319,
                        "passed_time": 9.098450337,
                        "remaining_time": 19.33420697,
                        "test": [
                          0.00006212667561
                        ]
                      },
                      {
                        "learn": [
                          0.00005819622449
                        ],
                        "iteration": 320,
                        "passed_time": 9.20124043,
                        "remaining_time": 19.46305997,
                        "test": [
                          0.00006169446129
                        ]
                      },
                      {
                        "learn": [
                          0.00005808997462
                        ],
                        "iteration": 321,
                        "passed_time": 9.276749795,
                        "remaining_time": 19.53303218,
                        "test": [
                          0.00006163854782
                        ]
                      },
                      {
                        "learn": [
                          0.00005791607397
                        ],
                        "iteration": 322,
                        "passed_time": 9.356228195,
                        "remaining_time": 19.61042256,
                        "test": [
                          0.00006144697298
                        ]
                      },
                      {
                        "learn": [
                          0.00005750577714
                        ],
                        "iteration": 323,
                        "passed_time": 9.425828968,
                        "remaining_time": 19.66623575,
                        "test": [
                          0.00006101913843
                        ]
                      },
                      {
                        "learn": [
                          0.00005733497211
                        ],
                        "iteration": 324,
                        "passed_time": 9.487548661,
                        "remaining_time": 19.70490876,
                        "test": [
                          0.0000608311431
                        ]
                      },
                      {
                        "learn": [
                          0.00005721667476
                        ],
                        "iteration": 325,
                        "passed_time": 9.600474615,
                        "remaining_time": 19.84883402,
                        "test": [
                          0.00006069672867
                        ]
                      },
                      {
                        "learn": [
                          0.00005686118715
                        ],
                        "iteration": 326,
                        "passed_time": 9.709503731,
                        "remaining_time": 19.98316823,
                        "test": [
                          0.00006034255623
                        ]
                      },
                      {
                        "learn": [
                          0.00005674441589
                        ],
                        "iteration": 327,
                        "passed_time": 9.768543368,
                        "remaining_time": 20.01360105,
                        "test": [
                          0.00006022690163
                        ]
                      },
                      {
                        "learn": [
                          0.00005662822158
                        ],
                        "iteration": 328,
                        "passed_time": 9.894032721,
                        "remaining_time": 20.17901506,
                        "test": [
                          0.00006011181157
                        ]
                      },
                      {
                        "learn": [
                          0.00005622489764
                        ],
                        "iteration": 329,
                        "passed_time": 9.944140448,
                        "remaining_time": 20.18961849,
                        "test": [
                          0.00005969152686
                        ]
                      },
                      {
                        "learn": [
                          0.000056060867
                        ],
                        "iteration": 330,
                        "passed_time": 10.01102787,
                        "remaining_time": 20.23376932,
                        "test": [
                          0.00005951072155
                        ]
                      },
                      {
                        "learn": [
                          0.00005594744571
                        ],
                        "iteration": 331,
                        "passed_time": 10.09945499,
                        "remaining_time": 20.32059016,
                        "test": [
                          0.00005938190281
                        ]
                      },
                      {
                        "learn": [
                          0.0000555479122
                        ],
                        "iteration": 332,
                        "passed_time": 10.16228489,
                        "remaining_time": 20.35508716,
                        "test": [
                          0.00005896598547
                        ]
                      },
                      {
                        "learn": [
                          0.00005543604803
                        ],
                        "iteration": 333,
                        "passed_time": 10.24528404,
                        "remaining_time": 20.42921907,
                        "test": [
                          0.00005885503944
                        ]
                      },
                      {
                        "learn": [
                          0.00005527658328
                        ],
                        "iteration": 334,
                        "passed_time": 10.32370719,
                        "remaining_time": 20.49332919,
                        "test": [
                          0.00005867915363
                        ]
                      },
                      {
                        "learn": [
                          0.00005488059825
                        ],
                        "iteration": 335,
                        "passed_time": 10.39466069,
                        "remaining_time": 20.54182946,
                        "test": [
                          0.00005826718801
                        ]
                      },
                      {
                        "learn": [
                          0.00005472389412
                        ],
                        "iteration": 336,
                        "passed_time": 10.49293031,
                        "remaining_time": 20.64336141,
                        "test": [
                          0.00005809435439
                        ]
                      },
                      {
                        "learn": [
                          0.00005462719166
                        ],
                        "iteration": 337,
                        "passed_time": 10.6694441,
                        "remaining_time": 20.89695856,
                        "test": [
                          0.00005798678315
                        ]
                      },
                      {
                        "learn": [
                          0.00005423466207
                        ],
                        "iteration": 338,
                        "passed_time": 10.74700459,
                        "remaining_time": 20.95507384,
                        "test": [
                          0.00005757860796
                        ]
                      },
                      {
                        "learn": [
                          0.00005412748786
                        ],
                        "iteration": 339,
                        "passed_time": 10.86057575,
                        "remaining_time": 21.0822941,
                        "test": [
                          0.00005747242633
                        ]
                      },
                      {
                        "learn": [
                          0.00005404971894
                        ],
                        "iteration": 340,
                        "passed_time": 10.92650806,
                        "remaining_time": 21.11603757,
                        "test": [
                          0.00005745800285
                        ]
                      },
                      {
                        "learn": [
                          0.00005382504144
                        ],
                        "iteration": 341,
                        "passed_time": 10.96736954,
                        "remaining_time": 21.10096245,
                        "test": [
                          0.00005721839937
                        ]
                      },
                      {
                        "learn": [
                          0.0000536122067
                        ],
                        "iteration": 342,
                        "passed_time": 10.99989931,
                        "remaining_time": 21.06977798,
                        "test": [
                          0.00005699505566
                        ]
                      },
                      {
                        "learn": [
                          0.00005350752015
                        ],
                        "iteration": 343,
                        "passed_time": 11.03328942,
                        "remaining_time": 21.04022634,
                        "test": [
                          0.00005687591461
                        ]
                      },
                      {
                        "learn": [
                          0.00005328454245
                        ],
                        "iteration": 344,
                        "passed_time": 11.10829982,
                        "remaining_time": 21.08967068,
                        "test": [
                          0.00005663845759
                        ]
                      },
                      {
                        "learn": [
                          0.00005304074531
                        ],
                        "iteration": 345,
                        "passed_time": 11.14013464,
                        "remaining_time": 21.05678628,
                        "test": [
                          0.00005637142779
                        ]
                      },
                      {
                        "learn": [
                          0.00005293775855
                        ],
                        "iteration": 346,
                        "passed_time": 11.17787027,
                        "remaining_time": 21.03501234,
                        "test": [
                          0.00005626960733
                        ]
                      },
                      {
                        "learn": [
                          0.0000528145231
                        ],
                        "iteration": 347,
                        "passed_time": 11.22644006,
                        "remaining_time": 21.03344516,
                        "test": [
                          0.00005612324467
                        ]
                      },
                      {
                        "learn": [
                          0.00005259420676
                        ],
                        "iteration": 348,
                        "passed_time": 11.2643389,
                        "remaining_time": 21.01170379,
                        "test": [
                          0.00005588878402
                        ]
                      },
                      {
                        "learn": [
                          0.00005237421302
                        ],
                        "iteration": 349,
                        "passed_time": 11.30023457,
                        "remaining_time": 20.98614991,
                        "test": [
                          0.00005566999999
                        ]
                      },
                      {
                        "learn": [
                          0.00005222994719
                        ],
                        "iteration": 350,
                        "passed_time": 11.31693772,
                        "remaining_time": 20.92505008,
                        "test": [
                          0.00005551076476
                        ]
                      },
                      {
                        "learn": [
                          0.00005196781827
                        ],
                        "iteration": 351,
                        "passed_time": 11.34506353,
                        "remaining_time": 20.88523058,
                        "test": [
                          0.00005523350515
                        ]
                      },
                      {
                        "learn": [
                          0.00005170682152
                        ],
                        "iteration": 352,
                        "passed_time": 11.37958068,
                        "remaining_time": 20.85719179,
                        "test": [
                          0.00005495799496
                        ]
                      },
                      {
                        "learn": [
                          0.00005160904273
                        ],
                        "iteration": 353,
                        "passed_time": 11.40020039,
                        "remaining_time": 20.80375552,
                        "test": [
                          0.00005484661467
                        ]
                      },
                      {
                        "learn": [
                          0.0000515115276
                        ],
                        "iteration": 354,
                        "passed_time": 11.46109668,
                        "remaining_time": 20.82368271,
                        "test": [
                          0.00005473571827
                        ]
                      },
                      {
                        "learn": [
                          0.00005125326355
                        ],
                        "iteration": 355,
                        "passed_time": 11.52082971,
                        "remaining_time": 20.84105149,
                        "test": [
                          0.00005446322306
                        ]
                      },
                      {
                        "learn": [
                          0.00005103825754
                        ],
                        "iteration": 356,
                        "passed_time": 11.56051318,
                        "remaining_time": 20.82187668,
                        "test": [
                          0.000054234873
                        ]
                      },
                      {
                        "learn": [
                          0.00005090068855
                        ],
                        "iteration": 357,
                        "passed_time": 11.61419022,
                        "remaining_time": 20.8276819,
                        "test": [
                          0.00005408322484
                        ]
                      },
                      {
                        "learn": [
                          0.00005080565177
                        ],
                        "iteration": 358,
                        "passed_time": 11.6551434,
                        "remaining_time": 20.8104371,
                        "test": [
                          0.00005398892939
                        ]
                      },
                      {
                        "learn": [
                          0.00005055114404
                        ],
                        "iteration": 359,
                        "passed_time": 11.69258998,
                        "remaining_time": 20.78682663,
                        "test": [
                          0.00005372052238
                        ]
                      },
                      {
                        "learn": [
                          0.00005033853263
                        ],
                        "iteration": 360,
                        "passed_time": 11.72957293,
                        "remaining_time": 20.76231884,
                        "test": [
                          0.00005349497637
                        ]
                      },
                      {
                        "learn": [
                          0.00005024532593
                        ],
                        "iteration": 361,
                        "passed_time": 11.76837703,
                        "remaining_time": 20.74095177,
                        "test": [
                          0.00005340263508
                        ]
                      },
                      {
                        "learn": [
                          0.00004999318798
                        ],
                        "iteration": 362,
                        "passed_time": 11.8078523,
                        "remaining_time": 20.72066644,
                        "test": [
                          0.00005313674675
                        ]
                      },
                      {
                        "learn": [
                          0.00004986095724
                        ],
                        "iteration": 363,
                        "passed_time": 11.86067432,
                        "remaining_time": 20.72359579,
                        "test": [
                          0.0000529907253
                        ]
                      },
                      {
                        "learn": [
                          0.00004961078895
                        ],
                        "iteration": 364,
                        "passed_time": 11.93855716,
                        "remaining_time": 20.76981862,
                        "test": [
                          0.00005272715713
                        ]
                      },
                      {
                        "learn": [
                          0.00004952034908
                        ],
                        "iteration": 365,
                        "passed_time": 11.96781386,
                        "remaining_time": 20.73113111,
                        "test": [
                          0.00005262391603
                        ]
                      },
                      {
                        "learn": [
                          0.00004931112796
                        ],
                        "iteration": 366,
                        "passed_time": 11.98603893,
                        "remaining_time": 20.67346769,
                        "test": [
                          0.0000524576893
                        ]
                      },
                      {
                        "learn": [
                          0.00004923818237
                        ],
                        "iteration": 367,
                        "passed_time": 12.01437275,
                        "remaining_time": 20.63337929,
                        "test": [
                          0.00005236903297
                        ]
                      },
                      {
                        "learn": [
                          0.00004903017097
                        ],
                        "iteration": 368,
                        "passed_time": 12.05561864,
                        "remaining_time": 20.61543458,
                        "test": [
                          0.00005214853673
                        ]
                      },
                      {
                        "learn": [
                          0.00004890254644
                        ],
                        "iteration": 369,
                        "passed_time": 12.0739421,
                        "remaining_time": 20.55833384,
                        "test": [
                          0.0000520076581
                        ]
                      },
                      {
                        "learn": [
                          0.00004865690681
                        ],
                        "iteration": 370,
                        "passed_time": 12.09260255,
                        "remaining_time": 20.5020135,
                        "test": [
                          0.00005174864961
                        ]
                      },
                      {
                        "learn": [
                          0.00004853113096
                        ],
                        "iteration": 371,
                        "passed_time": 12.10914471,
                        "remaining_time": 20.44231957,
                        "test": [
                          0.00005160981198
                        ]
                      },
                      {
                        "learn": [
                          0.00004832555759
                        ],
                        "iteration": 372,
                        "passed_time": 12.1235038,
                        "remaining_time": 20.37918735,
                        "test": [
                          0.00005139203294
                        ]
                      },
                      {
                        "learn": [
                          0.00004820138228
                        ],
                        "iteration": 373,
                        "passed_time": 12.14510215,
                        "remaining_time": 20.32843302,
                        "test": [
                          0.00005125495404
                        ]
                      },
                      {
                        "learn": [
                          0.00004809462372
                        ],
                        "iteration": 374,
                        "passed_time": 12.1843353,
                        "remaining_time": 20.30722551,
                        "test": [
                          0.00005112976444
                        ]
                      },
                      {
                        "learn": [
                          0.00004785334836
                        ],
                        "iteration": 375,
                        "passed_time": 12.22426252,
                        "remaining_time": 20.28707396,
                        "test": [
                          0.00005087562271
                        ]
                      },
                      {
                        "learn": [
                          0.00004764993696
                        ],
                        "iteration": 376,
                        "passed_time": 12.26299174,
                        "remaining_time": 20.26483781,
                        "test": [
                          0.00005066065082
                        ]
                      },
                      {
                        "learn": [
                          0.00004756579379
                        ],
                        "iteration": 377,
                        "passed_time": 12.30048722,
                        "remaining_time": 20.24048427,
                        "test": [
                          0.00005057742889
                        ]
                      },
                      {
                        "learn": [
                          0.00004748222135
                        ],
                        "iteration": 378,
                        "passed_time": 12.33885525,
                        "remaining_time": 20.21749105,
                        "test": [
                          0.00005048233938
                        ]
                      },
                      {
                        "learn": [
                          0.00004728001967
                        ],
                        "iteration": 379,
                        "passed_time": 12.37674995,
                        "remaining_time": 20.19364466,
                        "test": [
                          0.0000502809876
                        ]
                      },
                      {
                        "learn": [
                          0.00004705789807
                        ],
                        "iteration": 380,
                        "passed_time": 12.41721218,
                        "remaining_time": 20.17389591,
                        "test": [
                          0.00005004107704
                        ]
                      },
                      {
                        "learn": [
                          0.0000469756346
                        ],
                        "iteration": 381,
                        "passed_time": 12.45811928,
                        "remaining_time": 20.15475841,
                        "test": [
                          0.00004995969449
                        ]
                      },
                      {
                        "learn": [
                          0.00004689384882
                        ],
                        "iteration": 382,
                        "passed_time": 12.49620829,
                        "remaining_time": 20.1309674,
                        "test": [
                          0.00004986654983
                        ]
                      },
                      {
                        "learn": [
                          0.00004669342447
                        ],
                        "iteration": 383,
                        "passed_time": 12.53658143,
                        "remaining_time": 20.11076604,
                        "test": [
                          0.00004966677377
                        ]
                      },
                      {
                        "learn": [
                          0.00004657680521
                        ],
                        "iteration": 384,
                        "passed_time": 12.57628151,
                        "remaining_time": 20.08938475,
                        "test": [
                          0.00004953803257
                        ]
                      },
                      {
                        "learn": [
                          0.00004634227321
                        ],
                        "iteration": 385,
                        "passed_time": 12.61535844,
                        "remaining_time": 20.06691731,
                        "test": [
                          0.00004929135694
                        ]
                      },
                      {
                        "learn": [
                          0.00004626241056
                        ],
                        "iteration": 386,
                        "passed_time": 12.65449909,
                        "remaining_time": 20.04446496,
                        "test": [
                          0.0000492004673
                        ]
                      },
                      {
                        "learn": [
                          0.00004618290461
                        ],
                        "iteration": 387,
                        "passed_time": 12.69460824,
                        "remaining_time": 20.02345424,
                        "test": [
                          0.00004912169649
                        ]
                      },
                      {
                        "learn": [
                          0.00004595018098
                        ],
                        "iteration": 388,
                        "passed_time": 12.73389309,
                        "remaining_time": 20.00105059,
                        "test": [
                          0.00004887707426
                        ]
                      },
                      {
                        "learn": [
                          0.00004583712881
                        ],
                        "iteration": 389,
                        "passed_time": 12.7731855,
                        "remaining_time": 19.97857219,
                        "test": [
                          0.00004875222585
                        ]
                      },
                      {
                        "learn": [
                          0.00004560602744
                        ],
                        "iteration": 390,
                        "passed_time": 12.81254936,
                        "remaining_time": 19.95611908,
                        "test": [
                          0.00004850945232
                        ]
                      },
                      {
                        "learn": [
                          0.00004549466576
                        ],
                        "iteration": 391,
                        "passed_time": 12.8548534,
                        "remaining_time": 19.93813998,
                        "test": [
                          0.0000483864526
                        ]
                      },
                      {
                        "learn": [
                          0.00004538411676
                        ],
                        "iteration": 392,
                        "passed_time": 12.90279829,
                        "remaining_time": 19.92874951,
                        "test": [
                          0.00004826423454
                        ]
                      },
                      {
                        "learn": [
                          0.00004518888798
                        ],
                        "iteration": 393,
                        "passed_time": 12.94668678,
                        "remaining_time": 19.91292434,
                        "test": [
                          0.00004805851539
                        ]
                      },
                      {
                        "learn": [
                          0.00004499404382
                        ],
                        "iteration": 394,
                        "passed_time": 12.98168393,
                        "remaining_time": 19.88333868,
                        "test": [
                          0.00004785315604
                        ]
                      },
                      {
                        "learn": [
                          0.00004488540244
                        ],
                        "iteration": 395,
                        "passed_time": 13.03638676,
                        "remaining_time": 19.88378182,
                        "test": [
                          0.00004773309685
                        ]
                      },
                      {
                        "learn": [
                          0.00004477737212
                        ],
                        "iteration": 396,
                        "passed_time": 13.07516373,
                        "remaining_time": 19.85975751,
                        "test": [
                          0.00004761378831
                        ]
                      },
                      {
                        "learn": [
                          0.00004468741613
                        ],
                        "iteration": 397,
                        "passed_time": 13.10357596,
                        "remaining_time": 19.81998172,
                        "test": [
                          0.00004754630813
                        ]
                      },
                      {
                        "learn": [
                          0.00004449447339
                        ],
                        "iteration": 398,
                        "passed_time": 13.1340117,
                        "remaining_time": 19.78331085,
                        "test": [
                          0.00004734311076
                        ]
                      },
                      {
                        "learn": [
                          0.00004430167023
                        ],
                        "iteration": 399,
                        "passed_time": 13.19152128,
                        "remaining_time": 19.78728192,
                        "test": [
                          0.00004715099
                        ]
                      },
                      {
                        "learn": [
                          0.00004422836483
                        ],
                        "iteration": 400,
                        "passed_time": 13.22590098,
                        "remaining_time": 19.75639573,
                        "test": [
                          0.00004706765641
                        ]
                      },
                      {
                        "learn": [
                          0.00004412324713
                        ],
                        "iteration": 401,
                        "passed_time": 13.25104931,
                        "remaining_time": 19.71175992,
                        "test": [
                          0.00004695129459
                        ]
                      },
                      {
                        "learn": [
                          0.00004401890488
                        ],
                        "iteration": 402,
                        "passed_time": 13.27773961,
                        "remaining_time": 19.66950508,
                        "test": [
                          0.00004683595948
                        ]
                      },
                      {
                        "learn": [
                          0.00004379618773
                        ],
                        "iteration": 403,
                        "passed_time": 13.29682331,
                        "remaining_time": 19.61610568,
                        "test": [
                          0.00004660251933
                        ]
                      },
                      {
                        "learn": [
                          0.00004369331265
                        ],
                        "iteration": 404,
                        "passed_time": 13.31239523,
                        "remaining_time": 19.55771645,
                        "test": [
                          0.00004648887161
                        ]
                      },
                      {
                        "learn": [
                          0.00004350328562
                        ],
                        "iteration": 405,
                        "passed_time": 13.33355961,
                        "remaining_time": 19.50772022,
                        "test": [
                          0.00004628896837
                        ]
                      },
                      {
                        "learn": [
                          0.00004343255784
                        ],
                        "iteration": 406,
                        "passed_time": 13.36468557,
                        "remaining_time": 19.47237971,
                        "test": [
                          0.00004621885475
                        ]
                      },
                      {
                        "learn": [
                          0.00004336212162
                        ],
                        "iteration": 407,
                        "passed_time": 13.41353719,
                        "remaining_time": 19.46277945,
                        "test": [
                          0.00004614895515
                        ]
                      },
                      {
                        "learn": [
                          0.00004317306547
                        ],
                        "iteration": 408,
                        "passed_time": 13.45723027,
                        "remaining_time": 19.44553322,
                        "test": [
                          0.00004595022131
                        ]
                      },
                      {
                        "learn": [
                          0.00004310345744
                        ],
                        "iteration": 409,
                        "passed_time": 13.50937366,
                        "remaining_time": 19.4403182,
                        "test": [
                          0.00004587089216
                        ]
                      },
                      {
                        "learn": [
                          0.00004291532873
                        ],
                        "iteration": 410,
                        "passed_time": 13.5627138,
                        "remaining_time": 19.43658985,
                        "test": [
                          0.0000456731509
                        ]
                      },
                      {
                        "learn": [
                          0.0000428157788
                        ],
                        "iteration": 411,
                        "passed_time": 13.60538824,
                        "remaining_time": 19.41739874,
                        "test": [
                          0.00004556309199
                        ]
                      },
                      {
                        "learn": [
                          0.00004271692057
                        ],
                        "iteration": 412,
                        "passed_time": 13.65257364,
                        "remaining_time": 19.40450539,
                        "test": [
                          0.0000454539078
                        ]
                      },
                      {
                        "learn": [
                          0.00004249988287
                        ],
                        "iteration": 413,
                        "passed_time": 13.69198112,
                        "remaining_time": 19.38043705,
                        "test": [
                          0.0000452265069
                        ]
                      },
                      {
                        "learn": [
                          0.00004243204908
                        ],
                        "iteration": 414,
                        "passed_time": 13.73082905,
                        "remaining_time": 19.35550601,
                        "test": [
                          0.00004515922213
                        ]
                      },
                      {
                        "learn": [
                          0.00004236479844
                        ],
                        "iteration": 415,
                        "passed_time": 13.77290215,
                        "remaining_time": 19.33503571,
                        "test": [
                          0.00004508269704
                        ]
                      },
                      {
                        "learn": [
                          0.00004217885031
                        ],
                        "iteration": 416,
                        "passed_time": 13.81432664,
                        "remaining_time": 19.31355499,
                        "test": [
                          0.00004488746826
                        ]
                      },
                      {
                        "learn": [
                          0.00004211204944
                        ],
                        "iteration": 417,
                        "passed_time": 13.86555664,
                        "remaining_time": 19.30563149,
                        "test": [
                          0.00004482126913
                        ]
                      },
                      {
                        "learn": [
                          0.00004201626822
                        ],
                        "iteration": 418,
                        "passed_time": 13.91935486,
                        "remaining_time": 19.30106247,
                        "test": [
                          0.00004471549384
                        ]
                      },
                      {
                        "learn": [
                          0.00004180216484
                        ],
                        "iteration": 419,
                        "passed_time": 13.98796755,
                        "remaining_time": 19.31671709,
                        "test": [
                          0.00004449140259
                        ]
                      },
                      {
                        "learn": [
                          0.00004174198636
                        ],
                        "iteration": 420,
                        "passed_time": 14.02572854,
                        "remaining_time": 19.28954115,
                        "test": [
                          0.00004441663933
                        ]
                      },
                      {
                        "learn": [
                          0.00004155775354
                        ],
                        "iteration": 421,
                        "passed_time": 14.06577563,
                        "remaining_time": 19.26544624,
                        "test": [
                          0.00004422355701
                        ]
                      },
                      {
                        "learn": [
                          0.00004146412499
                        ],
                        "iteration": 422,
                        "passed_time": 14.10511741,
                        "remaining_time": 19.24031382,
                        "test": [
                          0.00004411992197
                        ]
                      },
                      {
                        "learn": [
                          0.00004137095551
                        ],
                        "iteration": 423,
                        "passed_time": 14.14356799,
                        "remaining_time": 19.21390369,
                        "test": [
                          0.00004401726712
                        ]
                      },
                      {
                        "learn": [
                          0.00004130689044
                        ],
                        "iteration": 424,
                        "passed_time": 14.18629765,
                        "remaining_time": 19.19322624,
                        "test": [
                          0.00004394397102
                        ]
                      },
                      {
                        "learn": [
                          0.00004112402242
                        ],
                        "iteration": 425,
                        "passed_time": 14.22930938,
                        "remaining_time": 19.17282532,
                        "test": [
                          0.00004376187536
                        ]
                      },
                      {
                        "learn": [
                          0.0000410605405
                        ],
                        "iteration": 426,
                        "passed_time": 14.24760215,
                        "remaining_time": 19.11914762,
                        "test": [
                          0.00004368963388
                        ]
                      },
                      {
                        "learn": [
                          0.00004087817498
                        ],
                        "iteration": 427,
                        "passed_time": 14.27740763,
                        "remaining_time": 19.08102141,
                        "test": [
                          0.00004350781739
                        ]
                      },
                      {
                        "learn": [
                          0.00004078735048
                        ],
                        "iteration": 428,
                        "passed_time": 14.33351272,
                        "remaining_time": 19.07793884,
                        "test": [
                          0.00004340740515
                        ]
                      },
                      {
                        "learn": [
                          0.00004069701296
                        ],
                        "iteration": 429,
                        "passed_time": 14.3917785,
                        "remaining_time": 19.07747383,
                        "test": [
                          0.00004330767531
                        ]
                      },
                      {
                        "learn": [
                          0.00004063991769
                        ],
                        "iteration": 430,
                        "passed_time": 14.4252958,
                        "remaining_time": 19.044068,
                        "test": [
                          0.00004326977102
                        ]
                      },
                      {
                        "learn": [
                          0.00004045911859
                        ],
                        "iteration": 431,
                        "passed_time": 14.45086434,
                        "remaining_time": 19.00021052,
                        "test": [
                          0.00004308012242
                        ]
                      },
                      {
                        "learn": [
                          0.0000403975629
                        ],
                        "iteration": 432,
                        "passed_time": 14.4807634,
                        "remaining_time": 18.96210819,
                        "test": [
                          0.00004301002741
                        ]
                      },
                      {
                        "learn": [
                          0.00004021714532
                        ],
                        "iteration": 433,
                        "passed_time": 14.50320729,
                        "remaining_time": 18.91432103,
                        "test": [
                          0.00004283014024
                        ]
                      },
                      {
                        "learn": [
                          0.00004015617277
                        ],
                        "iteration": 434,
                        "passed_time": 14.54041917,
                        "remaining_time": 18.88583179,
                        "test": [
                          0.00004276065939
                        ]
                      },
                      {
                        "learn": [
                          0.00004006820195
                        ],
                        "iteration": 435,
                        "passed_time": 14.57632254,
                        "remaining_time": 18.85560988,
                        "test": [
                          0.00004266324351
                        ]
                      },
                      {
                        "learn": [
                          0.0000400077412
                        ],
                        "iteration": 436,
                        "passed_time": 14.60726771,
                        "remaining_time": 18.81897419,
                        "test": [
                          0.00004260345896
                        ]
                      },
                      {
                        "learn": [
                          0.00003980191659
                        ],
                        "iteration": 437,
                        "passed_time": 14.65613203,
                        "remaining_time": 18.80535662,
                        "test": [
                          0.00004238832267
                        ]
                      },
                      {
                        "learn": [
                          0.00003974215995
                        ],
                        "iteration": 438,
                        "passed_time": 14.69272225,
                        "remaining_time": 18.77589336,
                        "test": [
                          0.00004232029658
                        ]
                      },
                      {
                        "learn": [
                          0.00003968264836
                        ],
                        "iteration": 439,
                        "passed_time": 14.752183,
                        "remaining_time": 18.77550563,
                        "test": [
                          0.00004225244108
                        ]
                      },
                      {
                        "learn": [
                          0.00003947803036
                        ],
                        "iteration": 440,
                        "passed_time": 14.7754918,
                        "remaining_time": 18.72902475,
                        "test": [
                          0.00004203888052
                        ]
                      },
                      {
                        "learn": [
                          0.00003941927251
                        ],
                        "iteration": 441,
                        "passed_time": 14.83404004,
                        "remaining_time": 18.72713652,
                        "test": [
                          0.00004197161437
                        ]
                      },
                      {
                        "learn": [
                          0.00003936542485
                        ],
                        "iteration": 442,
                        "passed_time": 14.86937848,
                        "remaining_time": 18.69580996,
                        "test": [
                          0.00004190496238
                        ]
                      },
                      {
                        "learn": [
                          0.00003918815562
                        ],
                        "iteration": 443,
                        "passed_time": 14.9083581,
                        "remaining_time": 18.66902501,
                        "test": [
                          0.00004171964702
                        ]
                      },
                      {
                        "learn": [
                          0.00003912991268
                        ],
                        "iteration": 444,
                        "passed_time": 14.92627228,
                        "remaining_time": 18.61591262,
                        "test": [
                          0.00004166191278
                        ]
                      },
                      {
                        "learn": [
                          0.0000390721257
                        ],
                        "iteration": 445,
                        "passed_time": 14.95414732,
                        "remaining_time": 18.57533098,
                        "test": [
                          0.00004159608898
                        ]
                      },
                      {
                        "learn": [
                          0.00003886982786
                        ],
                        "iteration": 446,
                        "passed_time": 14.97136179,
                        "remaining_time": 18.52161761,
                        "test": [
                          0.00004138496645
                        ]
                      },
                      {
                        "learn": [
                          0.00003881263023
                        ],
                        "iteration": 447,
                        "passed_time": 15.02860764,
                        "remaining_time": 18.51739156,
                        "test": [
                          0.00004131964514
                        ]
                      },
                      {
                        "learn": [
                          0.00003875545742
                        ],
                        "iteration": 448,
                        "passed_time": 15.06101554,
                        "remaining_time": 18.48244891,
                        "test": [
                          0.00004126316713
                        ]
                      },
                      {
                        "learn": [
                          0.00003867333043
                        ],
                        "iteration": 449,
                        "passed_time": 15.10884598,
                        "remaining_time": 18.4663673,
                        "test": [
                          0.00004117221236
                        ]
                      },
                      {
                        "learn": [
                          0.00003849797813
                        ],
                        "iteration": 450,
                        "passed_time": 15.14980251,
                        "remaining_time": 18.44177734,
                        "test": [
                          0.00004098915823
                        ]
                      },
                      {
                        "learn": [
                          0.00003841660799
                        ],
                        "iteration": 451,
                        "passed_time": 15.17993628,
                        "remaining_time": 18.40399354,
                        "test": [
                          0.00004089937904
                        ]
                      },
                      {
                        "learn": [
                          0.00003833569382
                        ],
                        "iteration": 452,
                        "passed_time": 15.2151106,
                        "remaining_time": 18.37233002,
                        "test": [
                          0.00004080979527
                        ]
                      },
                      {
                        "learn": [
                          0.00003816123794
                        ],
                        "iteration": 453,
                        "passed_time": 15.24982185,
                        "remaining_time": 18.34009412,
                        "test": [
                          0.00004063587912
                        ]
                      },
                      {
                        "learn": [
                          0.00003808120159
                        ],
                        "iteration": 454,
                        "passed_time": 15.2973892,
                        "remaining_time": 18.3232464,
                        "test": [
                          0.00004054745543
                        ]
                      },
                      {
                        "learn": [
                          0.00003802630241
                        ],
                        "iteration": 455,
                        "passed_time": 15.35324771,
                        "remaining_time": 18.31615517,
                        "test": [
                          0.00004048486063
                        ]
                      },
                      {
                        "learn": [
                          0.00003797748901
                        ],
                        "iteration": 456,
                        "passed_time": 15.41502519,
                        "remaining_time": 18.31588332,
                        "test": [
                          0.00004043051047
                        ]
                      },
                      {
                        "learn": [
                          0.00003780413738
                        ],
                        "iteration": 457,
                        "passed_time": 15.46638164,
                        "remaining_time": 18.30301059,
                        "test": [
                          0.00004024932674
                        ]
                      },
                      {
                        "learn": [
                          0.00003773600272
                        ],
                        "iteration": 458,
                        "passed_time": 15.51980156,
                        "remaining_time": 18.29240228,
                        "test": [
                          0.00004016961608
                        ]
                      },
                      {
                        "learn": [
                          0.00003765774992
                        ],
                        "iteration": 459,
                        "passed_time": 15.57305087,
                        "remaining_time": 18.28140754,
                        "test": [
                          0.00004008324269
                        ]
                      },
                      {
                        "learn": [
                          0.00003748521097
                        ],
                        "iteration": 460,
                        "passed_time": 15.62246994,
                        "remaining_time": 18.26575119,
                        "test": [
                          0.00003990321595
                        ]
                      },
                      {
                        "learn": [
                          0.00003740773982
                        ],
                        "iteration": 461,
                        "passed_time": 15.63578703,
                        "remaining_time": 18.20790784,
                        "test": [
                          0.00003981763973
                        ]
                      },
                      {
                        "learn": [
                          0.00003733085181
                        ],
                        "iteration": 462,
                        "passed_time": 15.66695723,
                        "remaining_time": 18.17096335,
                        "test": [
                          0.00003973263115
                        ]
                      },
                      {
                        "learn": [
                          0.00003727779822
                        ],
                        "iteration": 463,
                        "passed_time": 15.68412308,
                        "remaining_time": 18.11786632,
                        "test": [
                          0.00003968024135
                        ]
                      },
                      {
                        "learn": [
                          0.00003708273383
                        ],
                        "iteration": 464,
                        "passed_time": 15.70192464,
                        "remaining_time": 18.06565524,
                        "test": [
                          0.00003947710291
                        ]
                      },
                      {
                        "learn": [
                          0.00003700697489
                        ],
                        "iteration": 465,
                        "passed_time": 15.71644071,
                        "remaining_time": 18.0098269,
                        "test": [
                          0.0000393935739
                        ]
                      },
                      {
                        "learn": [
                          0.00003695502555
                        ],
                        "iteration": 466,
                        "passed_time": 15.73337931,
                        "remaining_time": 17.95694041,
                        "test": [
                          0.00003933419569
                        ]
                      },
                      {
                        "learn": [
                          0.00003689249898
                        ],
                        "iteration": 467,
                        "passed_time": 15.76785191,
                        "remaining_time": 17.92413935,
                        "test": [
                          0.00003925969298
                        ]
                      },
                      {
                        "learn": [
                          0.00003672179632
                        ],
                        "iteration": 468,
                        "passed_time": 15.78611799,
                        "remaining_time": 17.8729822,
                        "test": [
                          0.00003908986503
                        ]
                      },
                      {
                        "learn": [
                          0.00003664747972
                        ],
                        "iteration": 469,
                        "passed_time": 15.81092831,
                        "remaining_time": 17.82934469,
                        "test": [
                          0.00003900768842
                        ]
                      },
                      {
                        "learn": [
                          0.00003659649815
                        ],
                        "iteration": 470,
                        "passed_time": 15.84070269,
                        "remaining_time": 17.79136247,
                        "test": [
                          0.0000389494982
                        ]
                      },
                      {
                        "learn": [
                          0.00003640392452
                        ],
                        "iteration": 471,
                        "passed_time": 15.86069502,
                        "remaining_time": 17.7424724,
                        "test": [
                          0.00003874940266
                        ]
                      },
                      {
                        "learn": [
                          0.00003635350748
                        ],
                        "iteration": 472,
                        "passed_time": 15.88156056,
                        "remaining_time": 17.69467742,
                        "test": [
                          0.00003869178008
                        ]
                      },
                      {
                        "learn": [
                          0.00003628055259
                        ],
                        "iteration": 473,
                        "passed_time": 15.92131833,
                        "remaining_time": 17.66796085,
                        "test": [
                          0.00003861117298
                        ]
                      },
                      {
                        "learn": [
                          0.00003620813741
                        ],
                        "iteration": 474,
                        "passed_time": 15.946832,
                        "remaining_time": 17.62544589,
                        "test": [
                          0.00003853114593
                        ]
                      },
                      {
                        "learn": [
                          0.00003615822597
                        ],
                        "iteration": 475,
                        "passed_time": 15.99219128,
                        "remaining_time": 17.60484923,
                        "test": [
                          0.00003848197892
                        ]
                      },
                      {
                        "learn": [
                          0.00003598958291
                        ],
                        "iteration": 476,
                        "passed_time": 16.03036663,
                        "remaining_time": 17.57627201,
                        "test": [
                          0.00003831392522
                        ]
                      },
                      {
                        "learn": [
                          0.00003591808898
                        ],
                        "iteration": 477,
                        "passed_time": 16.06430664,
                        "remaining_time": 17.54302943,
                        "test": [
                          0.00003823485663
                        ]
                      },
                      {
                        "learn": [
                          0.00003586912048
                        ],
                        "iteration": 478,
                        "passed_time": 16.08421369,
                        "remaining_time": 17.49452053,
                        "test": [
                          0.00003817899899
                        ]
                      },
                      {
                        "learn": [
                          0.00003567938193
                        ],
                        "iteration": 479,
                        "passed_time": 16.13317255,
                        "remaining_time": 17.4776036,
                        "test": [
                          0.00003798201767
                        ]
                      },
                      {
                        "learn": [
                          0.00003560893641
                        ],
                        "iteration": 480,
                        "passed_time": 16.15911574,
                        "remaining_time": 17.43571948,
                        "test": [
                          0.00003790427046
                        ]
                      },
                      {
                        "learn": [
                          0.00003556063791
                        ],
                        "iteration": 481,
                        "passed_time": 16.20328403,
                        "remaining_time": 17.41348782,
                        "test": [
                          0.00003784919758
                        ]
                      },
                      {
                        "learn": [
                          0.00003549098646
                        ],
                        "iteration": 482,
                        "passed_time": 16.24775391,
                        "remaining_time": 17.39148814,
                        "test": [
                          0.00003777199629
                        ]
                      },
                      {
                        "learn": [
                          0.00003543307541
                        ],
                        "iteration": 483,
                        "passed_time": 16.28779113,
                        "remaining_time": 17.36466988,
                        "test": [
                          0.00003770325677
                        ]
                      },
                      {
                        "learn": [
                          0.00003526648266
                        ],
                        "iteration": 484,
                        "passed_time": 16.34640646,
                        "remaining_time": 17.35752439,
                        "test": [
                          0.00003753024945
                        ]
                      },
                      {
                        "learn": [
                          0.00003521903096
                        ],
                        "iteration": 485,
                        "passed_time": 16.40676832,
                        "remaining_time": 17.35201423,
                        "test": [
                          0.00003747605439
                        ]
                      },
                      {
                        "learn": [
                          0.00003515057371
                        ],
                        "iteration": 486,
                        "passed_time": 16.45674753,
                        "remaining_time": 17.33534186,
                        "test": [
                          0.00003740051257
                        ]
                      },
                      {
                        "learn": [
                          0.0000349845455
                        ],
                        "iteration": 487,
                        "passed_time": 16.49325741,
                        "remaining_time": 17.30440122,
                        "test": [
                          0.00003723518227
                        ]
                      },
                      {
                        "learn": [
                          0.00003491667139
                        ],
                        "iteration": 488,
                        "passed_time": 16.55377234,
                        "remaining_time": 17.29852283,
                        "test": [
                          0.00003716033836
                        ]
                      },
                      {
                        "learn": [
                          0.00003484928117
                        ],
                        "iteration": 489,
                        "passed_time": 16.59050868,
                        "remaining_time": 17.2676723,
                        "test": [
                          0.00003708567746
                        ]
                      },
                      {
                        "learn": [
                          0.00003478220423
                        ],
                        "iteration": 490,
                        "passed_time": 16.62060166,
                        "remaining_time": 17.22991089,
                        "test": [
                          0.00003701162142
                        ]
                      },
                      {
                        "learn": [
                          0.00003471546229
                        ],
                        "iteration": 491,
                        "passed_time": 16.67267183,
                        "remaining_time": 17.21487254,
                        "test": [
                          0.0000369379407
                        ]
                      },
                      {
                        "learn": [
                          0.00003453028341
                        ],
                        "iteration": 492,
                        "passed_time": 16.70842528,
                        "remaining_time": 17.18290388,
                        "test": [
                          0.0000367457424
                        ]
                      },
                      {
                        "learn": [
                          0.00003448455322
                        ],
                        "iteration": 493,
                        "passed_time": 16.73064633,
                        "remaining_time": 17.13705879,
                        "test": [
                          0.0000367006822
                        ]
                      },
                      {
                        "learn": [
                          0.00003441891553
                        ],
                        "iteration": 494,
                        "passed_time": 16.74893871,
                        "remaining_time": 17.08730111,
                        "test": [
                          0.00003662806541
                        ]
                      },
                      {
                        "learn": [
                          0.00003435349497
                        ],
                        "iteration": 495,
                        "passed_time": 16.7689077,
                        "remaining_time": 17.03937395,
                        "test": [
                          0.00003655595731
                        ]
                      },
                      {
                        "learn": [
                          0.00003418121347
                        ],
                        "iteration": 496,
                        "passed_time": 16.80918776,
                        "remaining_time": 17.01211558,
                        "test": [
                          0.00003637700069
                        ]
                      },
                      {
                        "learn": [
                          0.00003413634249
                        ],
                        "iteration": 497,
                        "passed_time": 16.84928404,
                        "remaining_time": 16.98461965,
                        "test": [
                          0.00003633262911
                        ]
                      },
                      {
                        "learn": [
                          0.00003409170104
                        ],
                        "iteration": 498,
                        "passed_time": 16.8825454,
                        "remaining_time": 16.95021091,
                        "test": [
                          0.00003628843122
                        ]
                      },
                      {
                        "learn": [
                          0.00003402755533
                        ],
                        "iteration": 499,
                        "passed_time": 16.90439281,
                        "remaining_time": 16.90439281,
                        "test": [
                          0.00003621769413
                        ]
                      },
                      {
                        "learn": [
                          0.00003398333573
                        ],
                        "iteration": 500,
                        "passed_time": 16.92008269,
                        "remaining_time": 16.85253745,
                        "test": [
                          0.00003616732361
                        ]
                      },
                      {
                        "learn": [
                          0.00003380077479
                        ],
                        "iteration": 501,
                        "passed_time": 16.93898064,
                        "remaining_time": 16.80400868,
                        "test": [
                          0.00003597826436
                        ]
                      },
                      {
                        "learn": [
                          0.00003376223773
                        ],
                        "iteration": 502,
                        "passed_time": 16.96098918,
                        "remaining_time": 16.75867122,
                        "test": [
                          0.00003593465582
                        ]
                      },
                      {
                        "learn": [
                          0.0000336992552
                        ],
                        "iteration": 503,
                        "passed_time": 16.99689654,
                        "remaining_time": 16.72710453,
                        "test": [
                          0.0000358650695
                        ]
                      },
                      {
                        "learn": [
                          0.00003365581416
                        ],
                        "iteration": 504,
                        "passed_time": 17.01172726,
                        "remaining_time": 16.67486138,
                        "test": [
                          0.00003581584976
                        ]
                      },
                      {
                        "learn": [
                          0.00003349369114
                        ],
                        "iteration": 505,
                        "passed_time": 17.03008777,
                        "remaining_time": 16.62621217,
                        "test": [
                          0.00003564774332
                        ]
                      },
                      {
                        "learn": [
                          0.0000334315337
                        ],
                        "iteration": 506,
                        "passed_time": 17.05457169,
                        "remaining_time": 16.58363677,
                        "test": [
                          0.00003557906274
                        ]
                      },
                      {
                        "learn": [
                          0.00003338870371
                        ],
                        "iteration": 507,
                        "passed_time": 17.07351918,
                        "remaining_time": 16.53577055,
                        "test": [
                          0.00003553033309
                        ]
                      },
                      {
                        "learn": [
                          0.00003334609706
                        ],
                        "iteration": 508,
                        "passed_time": 17.12337708,
                        "remaining_time": 16.51783526,
                        "test": [
                          0.00003548189501
                        ]
                      },
                      {
                        "learn": [
                          0.00003328456308
                        ],
                        "iteration": 509,
                        "passed_time": 17.15243437,
                        "remaining_time": 16.47978989,
                        "test": [
                          0.00003541389373
                        ]
                      },
                      {
                        "learn": [
                          0.00003312796131
                        ],
                        "iteration": 510,
                        "passed_time": 17.17284139,
                        "remaining_time": 16.43350184,
                        "test": [
                          0.00003525313862
                        ]
                      },
                      {
                        "learn": [
                          0.00003308588507
                        ],
                        "iteration": 511,
                        "passed_time": 17.20393589,
                        "remaining_time": 16.39750139,
                        "test": [
                          0.00003520538914
                        ]
                      },
                      {
                        "learn": [
                          0.00003304396702
                        ],
                        "iteration": 512,
                        "passed_time": 17.23530632,
                        "remaining_time": 16.36178202,
                        "test": [
                          0.00003515754041
                        ]
                      },
                      {
                        "learn": [
                          0.00003298344424
                        ],
                        "iteration": 513,
                        "passed_time": 17.27492607,
                        "remaining_time": 16.33387951,
                        "test": [
                          0.00003509071472
                        ]
                      },
                      {
                        "learn": [
                          0.00003282283491
                        ],
                        "iteration": 514,
                        "passed_time": 17.28437602,
                        "remaining_time": 16.27751916,
                        "test": [
                          0.00003493075367
                        ]
                      },
                      {
                        "learn": [
                          0.00003278129529
                        ],
                        "iteration": 515,
                        "passed_time": 17.29390165,
                        "remaining_time": 16.22141162,
                        "test": [
                          0.00003488969483
                        ]
                      },
                      {
                        "learn": [
                          0.00003272149212
                        ],
                        "iteration": 516,
                        "passed_time": 17.30310099,
                        "remaining_time": 16.16517946,
                        "test": [
                          0.00003482354533
                        ]
                      },
                      {
                        "learn": [
                          0.00003267194359
                        ],
                        "iteration": 517,
                        "passed_time": 17.31241498,
                        "remaining_time": 16.10923556,
                        "test": [
                          0.00003476457346
                        ]
                      },
                      {
                        "learn": [
                          0.00003261263982
                        ],
                        "iteration": 518,
                        "passed_time": 17.321536,
                        "remaining_time": 16.05329251,
                        "test": [
                          0.00003469930179
                        ]
                      },
                      {
                        "learn": [
                          0.00003255365554
                        ],
                        "iteration": 519,
                        "passed_time": 17.33074255,
                        "remaining_time": 15.99760851,
                        "test": [
                          0.00003463422552
                        ]
                      },
                      {
                        "learn": [
                          0.00003237623433
                        ],
                        "iteration": 520,
                        "passed_time": 17.3398576,
                        "remaining_time": 15.9420188,
                        "test": [
                          0.00003445074955
                        ]
                      },
                      {
                        "learn": [
                          0.0000323178456
                        ],
                        "iteration": 521,
                        "passed_time": 17.34913507,
                        "remaining_time": 15.88675587,
                        "test": [
                          0.00003438625643
                        ]
                      },
                      {
                        "learn": [
                          0.00003227790031
                        ],
                        "iteration": 522,
                        "passed_time": 17.35858064,
                        "remaining_time": 15.83182212,
                        "test": [
                          0.00003434094809
                        ]
                      },
                      {
                        "learn": [
                          0.00003222011644
                        ],
                        "iteration": 523,
                        "passed_time": 17.36798842,
                        "remaining_time": 15.77702765,
                        "test": [
                          0.00003427704742
                        ]
                      },
                      {
                        "learn": [
                          0.00003206151089
                        ],
                        "iteration": 524,
                        "passed_time": 17.37905742,
                        "remaining_time": 15.72390909,
                        "test": [
                          0.00003411286479
                        ]
                      },
                      {
                        "learn": [
                          0.00003202180754
                        ],
                        "iteration": 525,
                        "passed_time": 17.38859708,
                        "remaining_time": 15.66957227,
                        "test": [
                          0.00003407374459
                        ]
                      },
                      {
                        "learn": [
                          0.00003196480843
                        ],
                        "iteration": 526,
                        "passed_time": 17.39791642,
                        "remaining_time": 15.61520772,
                        "test": [
                          0.00003401082719
                        ]
                      },
                      {
                        "learn": [
                          0.00003192542147
                        ],
                        "iteration": 527,
                        "passed_time": 17.43509091,
                        "remaining_time": 15.5859146,
                        "test": [
                          0.00003397191171
                        ]
                      },
                      {
                        "learn": [
                          0.00003186878527
                        ],
                        "iteration": 528,
                        "passed_time": 17.44502086,
                        "remaining_time": 15.53233427,
                        "test": [
                          0.0000339094751
                        ]
                      },
                      {
                        "learn": [
                          0.00003182183917
                        ],
                        "iteration": 529,
                        "passed_time": 17.455397,
                        "remaining_time": 15.47931432,
                        "test": [
                          0.00003385373843
                        ]
                      },
                      {
                        "learn": [
                          0.0000316642293
                        ],
                        "iteration": 530,
                        "passed_time": 17.46474602,
                        "remaining_time": 15.4255478,
                        "test": [
                          0.00003369059491
                        ]
                      },
                      {
                        "learn": [
                          0.00003161831921
                        ],
                        "iteration": 531,
                        "passed_time": 17.4738897,
                        "remaining_time": 15.37176763,
                        "test": [
                          0.00003363915737
                        ]
                      },
                      {
                        "learn": [
                          0.0000315798628
                        ],
                        "iteration": 532,
                        "passed_time": 17.48300814,
                        "remaining_time": 15.31813284,
                        "test": [
                          0.0000335953224
                        ]
                      },
                      {
                        "learn": [
                          0.00003154157389
                        ],
                        "iteration": 533,
                        "passed_time": 17.49229905,
                        "remaining_time": 15.26481527,
                        "test": [
                          0.00003355749255
                        ]
                      },
                      {
                        "learn": [
                          0.00003136732584
                        ],
                        "iteration": 534,
                        "passed_time": 17.50124403,
                        "remaining_time": 15.21136163,
                        "test": [
                          0.00003337751854
                        ]
                      },
                      {
                        "learn": [
                          0.00003132928507
                        ],
                        "iteration": 535,
                        "passed_time": 17.51037417,
                        "remaining_time": 15.15823435,
                        "test": [
                          0.00003333997717
                        ]
                      },
                      {
                        "learn": [
                          0.00003129134977
                        ],
                        "iteration": 536,
                        "passed_time": 17.51950304,
                        "remaining_time": 15.10526984,
                        "test": [
                          0.00003330263431
                        ]
                      },
                      {
                        "learn": [
                          0.00003123678869
                        ],
                        "iteration": 537,
                        "passed_time": 17.52865449,
                        "remaining_time": 15.05248769,
                        "test": [
                          0.00003324225421
                        ]
                      },
                      {
                        "learn": [
                          0.00003118246024
                        ],
                        "iteration": 538,
                        "passed_time": 17.53772887,
                        "remaining_time": 14.9998015,
                        "test": [
                          0.00003318218429
                        ]
                      },
                      {
                        "learn": [
                          0.00003112834583
                        ],
                        "iteration": 539,
                        "passed_time": 17.54675595,
                        "remaining_time": 14.94723655,
                        "test": [
                          0.0000331226758
                        ]
                      },
                      {
                        "learn": [
                          0.000031074554
                        ],
                        "iteration": 540,
                        "passed_time": 17.55602403,
                        "remaining_time": 14.89503702,
                        "test": [
                          0.00003306318903
                        ]
                      },
                      {
                        "learn": [
                          0.00003091862842
                        ],
                        "iteration": 541,
                        "passed_time": 17.56520576,
                        "remaining_time": 14.84292295,
                        "test": [
                          0.00003290761706
                        ]
                      },
                      {
                        "learn": [
                          0.0000308653453
                        ],
                        "iteration": 542,
                        "passed_time": 17.57452102,
                        "remaining_time": 14.79107939,
                        "test": [
                          0.00003284890574
                        ]
                      },
                      {
                        "learn": [
                          0.00003082870655
                        ],
                        "iteration": 543,
                        "passed_time": 17.58366468,
                        "remaining_time": 14.73924834,
                        "test": [
                          0.00003280711487
                        ]
                      },
                      {
                        "learn": [
                          0.00003077584217
                        ],
                        "iteration": 544,
                        "passed_time": 17.59261859,
                        "remaining_time": 14.68741552,
                        "test": [
                          0.00003274890294
                        ]
                      },
                      {
                        "learn": [
                          0.00003062040048
                        ],
                        "iteration": 545,
                        "passed_time": 17.60159907,
                        "remaining_time": 14.63576186,
                        "test": [
                          0.00003259381796
                        ]
                      },
                      {
                        "learn": [
                          0.00003056795795
                        ],
                        "iteration": 546,
                        "passed_time": 17.60993201,
                        "remaining_time": 14.58372797,
                        "test": [
                          0.00003253598445
                        ]
                      },
                      {
                        "learn": [
                          0.00003053202332
                        ],
                        "iteration": 547,
                        "passed_time": 17.61820726,
                        "remaining_time": 14.53180599,
                        "test": [
                          0.00003249488529
                        ]
                      },
                      {
                        "learn": [
                          0.00003049611971
                        ],
                        "iteration": 548,
                        "passed_time": 17.62652627,
                        "remaining_time": 14.48007896,
                        "test": [
                          0.0000324540746
                        ]
                      },
                      {
                        "learn": [
                          0.00003046411819
                        ],
                        "iteration": 549,
                        "passed_time": 17.6349061,
                        "remaining_time": 14.42855954,
                        "test": [
                          0.00003241868589
                        ]
                      },
                      {
                        "learn": [
                          0.00003041248213
                        ],
                        "iteration": 550,
                        "passed_time": 17.64315238,
                        "remaining_time": 14.37708787,
                        "test": [
                          0.00003236154409
                        ]
                      },
                      {
                        "learn": [
                          0.0000303610663
                        ],
                        "iteration": 551,
                        "passed_time": 17.65128114,
                        "remaining_time": 14.32567745,
                        "test": [
                          0.00003230489238
                        ]
                      },
                      {
                        "learn": [
                          0.0000301909871
                        ],
                        "iteration": 552,
                        "passed_time": 17.66665625,
                        "remaining_time": 14.28028091,
                        "test": [
                          0.00003212953388
                        ]
                      },
                      {
                        "learn": [
                          0.00003013997761
                        ],
                        "iteration": 553,
                        "passed_time": 17.67503275,
                        "remaining_time": 14.2293585,
                        "test": [
                          0.00003207335675
                        ]
                      },
                      {
                        "learn": [
                          0.00003010500145
                        ],
                        "iteration": 554,
                        "passed_time": 17.68335698,
                        "remaining_time": 14.17854749,
                        "test": [
                          0.00003203343318
                        ]
                      },
                      {
                        "learn": [
                          0.00003007393979
                        ],
                        "iteration": 555,
                        "passed_time": 17.6917058,
                        "remaining_time": 14.12790895,
                        "test": [
                          0.00003199912701
                        ]
                      },
                      {
                        "learn": [
                          0.00002990464225
                        ],
                        "iteration": 556,
                        "passed_time": 17.69983923,
                        "remaining_time": 14.07725095,
                        "test": [
                          0.0000318244447
                        ]
                      },
                      {
                        "learn": [
                          0.00002986351206
                        ],
                        "iteration": 557,
                        "passed_time": 17.70958643,
                        "remaining_time": 14.02802366,
                        "test": [
                          0.00003177820892
                        ]
                      },
                      {
                        "learn": [
                          0.00002982259281
                        ],
                        "iteration": 558,
                        "passed_time": 17.7179288,
                        "remaining_time": 13.97782934,
                        "test": [
                          0.00003173194522
                        ]
                      },
                      {
                        "learn": [
                          0.00002977284265
                        ],
                        "iteration": 559,
                        "passed_time": 17.72612318,
                        "remaining_time": 13.92766821,
                        "test": [
                          0.0000316771515
                        ]
                      },
                      {
                        "learn": [
                          0.00002972337787
                        ],
                        "iteration": 560,
                        "passed_time": 17.73441618,
                        "remaining_time": 13.87773387,
                        "test": [
                          0.00003162264315
                        ]
                      },
                      {
                        "learn": [
                          0.00002967424188
                        ],
                        "iteration": 561,
                        "passed_time": 17.74266379,
                        "remaining_time": 13.82791235,
                        "test": [
                          0.00003156833952
                        ]
                      },
                      {
                        "learn": [
                          0.00002962517413
                        ],
                        "iteration": 562,
                        "passed_time": 17.75081787,
                        "remaining_time": 13.77816591,
                        "test": [
                          0.00003151413205
                        ]
                      },
                      {
                        "learn": [
                          0.00002959139217
                        ],
                        "iteration": 563,
                        "passed_time": 17.75908405,
                        "remaining_time": 13.72865363,
                        "test": [
                          0.0000314807068
                        ]
                      },
                      {
                        "learn": [
                          0.00002943877314
                        ],
                        "iteration": 564,
                        "passed_time": 17.76746021,
                        "remaining_time": 13.67937202,
                        "test": [
                          0.00003132885702
                        ]
                      },
                      {
                        "learn": [
                          0.00002940516178
                        ],
                        "iteration": 565,
                        "passed_time": 17.7757828,
                        "remaining_time": 13.63019388,
                        "test": [
                          0.00003129059292
                        ]
                      },
                      {
                        "learn": [
                          0.00002935702767
                        ],
                        "iteration": 566,
                        "passed_time": 17.78395477,
                        "remaining_time": 13.58104482,
                        "test": [
                          0.00003123726637
                        ]
                      },
                      {
                        "learn": [
                          0.000029327306
                        ],
                        "iteration": 567,
                        "passed_time": 17.79234948,
                        "remaining_time": 13.53220946,
                        "test": [
                          0.0000312043188
                        ]
                      },
                      {
                        "learn": [
                          0.00002916050233
                        ],
                        "iteration": 568,
                        "passed_time": 17.80019708,
                        "remaining_time": 13.48310183,
                        "test": [
                          0.00003103267318
                        ]
                      },
                      {
                        "learn": [
                          0.00002913379252
                        ],
                        "iteration": 569,
                        "passed_time": 17.80804061,
                        "remaining_time": 13.4341359,
                        "test": [
                          0.00003100002028
                        ]
                      },
                      {
                        "learn": [
                          0.0000290941171
                        ],
                        "iteration": 570,
                        "passed_time": 17.81553508,
                        "remaining_time": 13.38505175,
                        "test": [
                          0.00003095269886
                        ]
                      },
                      {
                        "learn": [
                          0.00002906490412
                        ],
                        "iteration": 571,
                        "passed_time": 17.82315643,
                        "remaining_time": 13.33620796,
                        "test": [
                          0.00003092014522
                        ]
                      },
                      {
                        "learn": [
                          0.00002903207752
                        ],
                        "iteration": 572,
                        "passed_time": 17.83096047,
                        "remaining_time": 13.28764419,
                        "test": [
                          0.00003088798551
                        ]
                      },
                      {
                        "learn": [
                          0.00002898496702
                        ],
                        "iteration": 573,
                        "passed_time": 17.83834568,
                        "remaining_time": 13.2389116,
                        "test": [
                          0.00003083612612
                        ]
                      },
                      {
                        "learn": [
                          0.00002893803333
                        ],
                        "iteration": 574,
                        "passed_time": 17.84570294,
                        "remaining_time": 13.19030217,
                        "test": [
                          0.00003078437219
                        ]
                      },
                      {
                        "learn": [
                          0.00002889140981
                        ],
                        "iteration": 575,
                        "passed_time": 17.85305381,
                        "remaining_time": 13.14183128,
                        "test": [
                          0.00003073280437
                        ]
                      },
                      {
                        "learn": [
                          0.0000287430713
                        ],
                        "iteration": 576,
                        "passed_time": 17.86071678,
                        "remaining_time": 13.09373171,
                        "test": [
                          0.0000305773968
                        ]
                      },
                      {
                        "learn": [
                          0.00002869680139
                        ],
                        "iteration": 577,
                        "passed_time": 17.86811089,
                        "remaining_time": 13.04557577,
                        "test": [
                          0.00003052642763
                        ]
                      },
                      {
                        "learn": [
                          0.00002866497668
                        ],
                        "iteration": 578,
                        "passed_time": 17.87560251,
                        "remaining_time": 12.99763153,
                        "test": [
                          0.00003049022004
                        ]
                      },
                      {
                        "learn": [
                          0.00002863325123
                        ],
                        "iteration": 579,
                        "passed_time": 17.88310738,
                        "remaining_time": 12.94983638,
                        "test": [
                          0.00003045411171
                        ]
                      },
                      {
                        "learn": [
                          0.00002848263907
                        ],
                        "iteration": 580,
                        "passed_time": 17.89056306,
                        "remaining_time": 12.90214444,
                        "test": [
                          0.00003029923455
                        ]
                      },
                      {
                        "learn": [
                          0.00002845096325
                        ],
                        "iteration": 581,
                        "passed_time": 17.89802936,
                        "remaining_time": 12.8545984,
                        "test": [
                          0.00003026805812
                        ]
                      },
                      {
                        "learn": [
                          0.00002841943011
                        ],
                        "iteration": 582,
                        "passed_time": 17.90552007,
                        "remaining_time": 12.80720732,
                        "test": [
                          0.00003023685687
                        ]
                      },
                      {
                        "learn": [
                          0.00002838805516
                        ],
                        "iteration": 583,
                        "passed_time": 17.91300547,
                        "remaining_time": 12.7599491,
                        "test": [
                          0.00003020617363
                        ]
                      },
                      {
                        "learn": [
                          0.00002835676707
                        ],
                        "iteration": 584,
                        "passed_time": 17.92044682,
                        "remaining_time": 12.71279561,
                        "test": [
                          0.00003017509026
                        ]
                      },
                      {
                        "learn": [
                          0.00002832562786
                        ],
                        "iteration": 585,
                        "passed_time": 17.92795103,
                        "remaining_time": 12.66582206,
                        "test": [
                          0.00003013957127
                        ]
                      },
                      {
                        "learn": [
                          0.00002829465615
                        ],
                        "iteration": 586,
                        "passed_time": 17.93541429,
                        "remaining_time": 12.61895418,
                        "test": [
                          0.00003010455789
                        ]
                      },
                      {
                        "learn": [
                          0.00002824975415
                        ],
                        "iteration": 587,
                        "passed_time": 17.94268595,
                        "remaining_time": 12.57208607,
                        "test": [
                          0.00003005493801
                        ]
                      },
                      {
                        "learn": [
                          0.00002821255088
                        ],
                        "iteration": 588,
                        "passed_time": 17.95010057,
                        "remaining_time": 12.52545218,
                        "test": [
                          0.00003001054471
                        ]
                      },
                      {
                        "learn": [
                          0.00002806295302
                        ],
                        "iteration": 589,
                        "passed_time": 17.95772051,
                        "remaining_time": 12.47909392,
                        "test": [
                          0.00002986134699
                        ]
                      },
                      {
                        "learn": [
                          0.00002801859074
                        ],
                        "iteration": 590,
                        "passed_time": 17.96518017,
                        "remaining_time": 12.43275582,
                        "test": [
                          0.00002981253049
                        ]
                      },
                      {
                        "learn": [
                          0.00002798815874
                        ],
                        "iteration": 591,
                        "passed_time": 17.97265159,
                        "remaining_time": 12.38655718,
                        "test": [
                          0.00002977798858
                        ]
                      },
                      {
                        "learn": [
                          0.00002794422451
                        ],
                        "iteration": 592,
                        "passed_time": 17.9799941,
                        "remaining_time": 12.34040067,
                        "test": [
                          0.00002972946675
                        ]
                      },
                      {
                        "learn": [
                          0.0000277814284
                        ],
                        "iteration": 593,
                        "passed_time": 17.9873729,
                        "remaining_time": 12.29439966,
                        "test": [
                          0.00002956221021
                        ]
                      },
                      {
                        "learn": [
                          0.00002775131899
                        ],
                        "iteration": 594,
                        "passed_time": 17.99484058,
                        "remaining_time": 12.24858896,
                        "test": [
                          0.00002954629165
                        ]
                      },
                      {
                        "learn": [
                          0.00002772121579
                        ],
                        "iteration": 595,
                        "passed_time": 18.00185284,
                        "remaining_time": 12.20259824,
                        "test": [
                          0.00002951658239
                        ]
                      },
                      {
                        "learn": [
                          0.00002767792984
                        ],
                        "iteration": 596,
                        "passed_time": 18.00867407,
                        "remaining_time": 12.15660913,
                        "test": [
                          0.00002946893837
                        ]
                      },
                      {
                        "learn": [
                          0.00002764818646
                        ],
                        "iteration": 597,
                        "passed_time": 18.0154398,
                        "remaining_time": 12.11071371,
                        "test": [
                          0.00002943508507
                        ]
                      },
                      {
                        "learn": [
                          0.00002761856404
                        ],
                        "iteration": 598,
                        "passed_time": 18.02234538,
                        "remaining_time": 12.06504257,
                        "test": [
                          0.00002940114491
                        ]
                      },
                      {
                        "learn": [
                          0.00002758899745
                        ],
                        "iteration": 599,
                        "passed_time": 18.02927824,
                        "remaining_time": 12.01951883,
                        "test": [
                          0.00002937201259
                        ]
                      },
                      {
                        "learn": [
                          0.00002754614266
                        ],
                        "iteration": 600,
                        "passed_time": 18.03597512,
                        "remaining_time": 11.97396684,
                        "test": [
                          0.00002932476561
                        ]
                      },
                      {
                        "learn": [
                          0.00002751675598
                        ],
                        "iteration": 601,
                        "passed_time": 18.04281462,
                        "remaining_time": 11.92863823,
                        "test": [
                          0.00002930933714
                        ]
                      },
                      {
                        "learn": [
                          0.00002748752129
                        ],
                        "iteration": 602,
                        "passed_time": 18.04956801,
                        "remaining_time": 11.8833806,
                        "test": [
                          0.00002927607938
                        ]
                      },
                      {
                        "learn": [
                          0.00002732630711
                        ],
                        "iteration": 603,
                        "passed_time": 18.05624867,
                        "remaining_time": 11.83820277,
                        "test": [
                          0.00002911050403
                        ]
                      },
                      {
                        "learn": [
                          0.00002728426809
                        ],
                        "iteration": 604,
                        "passed_time": 18.0629389,
                        "remaining_time": 11.79315845,
                        "test": [
                          0.00002906392705
                        ]
                      },
                      {
                        "learn": [
                          0.00002724238726
                        ],
                        "iteration": 605,
                        "passed_time": 18.06964279,
                        "remaining_time": 11.74824961,
                        "test": [
                          0.00002901756098
                        ]
                      },
                      {
                        "learn": [
                          0.0000272135279
                        ],
                        "iteration": 606,
                        "passed_time": 18.10537246,
                        "remaining_time": 11.72225927,
                        "test": [
                          0.00002898470337
                        ]
                      },
                      {
                        "learn": [
                          0.00002705301782
                        ],
                        "iteration": 607,
                        "passed_time": 18.12118533,
                        "remaining_time": 11.68339581,
                        "test": [
                          0.00002881991278
                        ]
                      },
                      {
                        "learn": [
                          0.00002702452757
                        ],
                        "iteration": 608,
                        "passed_time": 18.12789547,
                        "remaining_time": 11.63876376,
                        "test": [
                          0.00002878732191
                        ]
                      },
                      {
                        "learn": [
                          0.00002698312753
                        ],
                        "iteration": 609,
                        "passed_time": 18.13454421,
                        "remaining_time": 11.59421679,
                        "test": [
                          0.00002874184297
                        ]
                      },
                      {
                        "learn": [
                          0.00002695786008
                        ],
                        "iteration": 610,
                        "passed_time": 18.14136739,
                        "remaining_time": 11.54990494,
                        "test": [
                          0.00002871369703
                        ]
                      },
                      {
                        "learn": [
                          0.00002692955904
                        ],
                        "iteration": 611,
                        "passed_time": 18.14808865,
                        "remaining_time": 11.50565097,
                        "test": [
                          0.00002868565344
                        ]
                      },
                      {
                        "learn": [
                          0.00002688865218
                        ],
                        "iteration": 612,
                        "passed_time": 18.15472762,
                        "remaining_time": 11.46146752,
                        "test": [
                          0.00002864045676
                        ]
                      },
                      {
                        "learn": [
                          0.00002686057448
                        ],
                        "iteration": 613,
                        "passed_time": 18.1614198,
                        "remaining_time": 11.41743981,
                        "test": [
                          0.00002860856381
                        ]
                      },
                      {
                        "learn": [
                          0.00002683264255
                        ],
                        "iteration": 614,
                        "passed_time": 18.16815261,
                        "remaining_time": 11.37355895,
                        "test": [
                          0.00002857687558
                        ]
                      },
                      {
                        "learn": [
                          0.0000268046517
                        ],
                        "iteration": 615,
                        "passed_time": 18.17493351,
                        "remaining_time": 11.32982868,
                        "test": [
                          0.000028549015
                        ]
                      },
                      {
                        "learn": [
                          0.00002676432489
                        ],
                        "iteration": 616,
                        "passed_time": 18.18155413,
                        "remaining_time": 11.28611869,
                        "test": [
                          0.00002850449142
                        ]
                      },
                      {
                        "learn": [
                          0.00002660513619
                        ],
                        "iteration": 617,
                        "passed_time": 18.18807501,
                        "remaining_time": 11.24246708,
                        "test": [
                          0.00002834109045
                        ]
                      },
                      {
                        "learn": [
                          0.00002656530877
                        ],
                        "iteration": 618,
                        "passed_time": 18.19459794,
                        "remaining_time": 11.1989367,
                        "test": [
                          0.00002829699182
                        ]
                      },
                      {
                        "learn": [
                          0.00002652542552
                        ],
                        "iteration": 619,
                        "passed_time": 18.20127892,
                        "remaining_time": 11.15562256,
                        "test": [
                          0.00002825298625
                        ]
                      },
                      {
                        "learn": [
                          0.00002649808605
                        ],
                        "iteration": 620,
                        "passed_time": 18.20859632,
                        "remaining_time": 11.11281482,
                        "test": [
                          0.00002822187186
                        ]
                      },
                      {
                        "learn": [
                          0.00002647081792
                        ],
                        "iteration": 621,
                        "passed_time": 18.22972495,
                        "remaining_time": 11.07851452,
                        "test": [
                          0.00002819094978
                        ]
                      },
                      {
                        "learn": [
                          0.00002631250394
                        ],
                        "iteration": 622,
                        "passed_time": 18.24967549,
                        "remaining_time": 11.0435436,
                        "test": [
                          0.00002802842972
                        ]
                      },
                      {
                        "learn": [
                          0.00002627326587
                        ],
                        "iteration": 623,
                        "passed_time": 18.27290094,
                        "remaining_time": 11.01059416,
                        "test": [
                          0.00002798498558
                        ]
                      },
                      {
                        "learn": [
                          0.00002624621796
                        ],
                        "iteration": 624,
                        "passed_time": 18.29241939,
                        "remaining_time": 10.97545163,
                        "test": [
                          0.0000279583223
                        ]
                      },
                      {
                        "learn": [
                          0.00002621929413
                        ],
                        "iteration": 625,
                        "passed_time": 18.32574212,
                        "remaining_time": 10.94860631,
                        "test": [
                          0.00002793164041
                        ]
                      },
                      {
                        "learn": [
                          0.00002619475871
                        ],
                        "iteration": 626,
                        "passed_time": 18.35871915,
                        "remaining_time": 10.92153468,
                        "test": [
                          0.00002790112157
                        ]
                      },
                      {
                        "learn": [
                          0.00002616250594
                        ],
                        "iteration": 627,
                        "passed_time": 18.39253567,
                        "remaining_time": 10.89494151,
                        "test": [
                          0.0000278627303
                        ]
                      },
                      {
                        "learn": [
                          0.00002613575271
                        ],
                        "iteration": 628,
                        "passed_time": 18.4254636,
                        "remaining_time": 10.86780126,
                        "test": [
                          0.00002783644854
                        ]
                      },
                      {
                        "learn": [
                          0.00002609724667
                        ],
                        "iteration": 629,
                        "passed_time": 18.46984736,
                        "remaining_time": 10.84737067,
                        "test": [
                          0.00002779379226
                        ]
                      },
                      {
                        "learn": [
                          0.00002605897948
                        ],
                        "iteration": 630,
                        "passed_time": 18.50272056,
                        "remaining_time": 10.82013294,
                        "test": [
                          0.00002775164468
                        ]
                      },
                      {
                        "learn": [
                          0.00002602084876
                        ],
                        "iteration": 631,
                        "passed_time": 18.53293939,
                        "remaining_time": 10.7913318,
                        "test": [
                          0.00002770928928
                        ]
                      },
                      {
                        "learn": [
                          0.0000258637693
                        ],
                        "iteration": 632,
                        "passed_time": 18.54838055,
                        "remaining_time": 10.75395839,
                        "test": [
                          0.00002754832944
                        ]
                      },
                      {
                        "learn": [
                          0.00002583768606
                        ],
                        "iteration": 633,
                        "passed_time": 18.55990887,
                        "remaining_time": 10.71439534,
                        "test": [
                          0.00002752244473
                        ]
                      },
                      {
                        "learn": [
                          0.00002579993687
                        ],
                        "iteration": 634,
                        "passed_time": 18.57365636,
                        "remaining_time": 10.67619618,
                        "test": [
                          0.00002748086788
                        ]
                      },
                      {
                        "learn": [
                          0.00002576235207
                        ],
                        "iteration": 635,
                        "passed_time": 18.58711055,
                        "remaining_time": 10.63790604,
                        "test": [
                          0.00002743930344
                        ]
                      },
                      {
                        "learn": [
                          0.00002573646115
                        ],
                        "iteration": 636,
                        "passed_time": 18.60170957,
                        "remaining_time": 10.60034627,
                        "test": [
                          0.00002740988264
                        ]
                      },
                      {
                        "learn": [
                          0.00002559193012
                        ],
                        "iteration": 637,
                        "passed_time": 18.61833131,
                        "remaining_time": 10.56400617,
                        "test": [
                          0.00002726191945
                        ]
                      },
                      {
                        "learn": [
                          0.00002556615552
                        ],
                        "iteration": 638,
                        "passed_time": 18.64355847,
                        "remaining_time": 10.53258937,
                        "test": [
                          0.000027236317
                        ]
                      },
                      {
                        "learn": [
                          0.00002554055617
                        ],
                        "iteration": 639,
                        "passed_time": 18.69543666,
                        "remaining_time": 10.51618312,
                        "test": [
                          0.00002721091926
                        ]
                      },
                      {
                        "learn": [
                          0.00002551495371
                        ],
                        "iteration": 640,
                        "passed_time": 18.74366675,
                        "remaining_time": 10.49762303,
                        "test": [
                          0.00002719745425
                        ]
                      },
                      {
                        "learn": [
                          0.0000254779443
                        ],
                        "iteration": 641,
                        "passed_time": 18.7920981,
                        "remaining_time": 10.47908274,
                        "test": [
                          0.00002715665596
                        ]
                      },
                      {
                        "learn": [
                          0.00002544131952
                        ],
                        "iteration": 642,
                        "passed_time": 18.84023774,
                        "remaining_time": 10.46028751,
                        "test": [
                          0.00002711618336
                        ]
                      },
                      {
                        "learn": [
                          0.00002541608463
                        ],
                        "iteration": 643,
                        "passed_time": 18.88863841,
                        "remaining_time": 10.44154546,
                        "test": [
                          0.00002708751631
                        ]
                      },
                      {
                        "learn": [
                          0.00002537959943
                        ],
                        "iteration": 644,
                        "passed_time": 18.93800757,
                        "remaining_time": 10.42324448,
                        "test": [
                          0.00002704714607
                        ]
                      },
                      {
                        "learn": [
                          0.00002535919253
                        ],
                        "iteration": 645,
                        "passed_time": 18.98595656,
                        "remaining_time": 10.40406907,
                        "test": [
                          0.00002702212056
                        ]
                      },
                      {
                        "learn": [
                          0.00002532299735
                        ],
                        "iteration": 646,
                        "passed_time": 19.0176411,
                        "remaining_time": 10.37593093,
                        "test": [
                          0.00002698212874
                        ]
                      },
                      {
                        "learn": [
                          0.00002529800441
                        ],
                        "iteration": 647,
                        "passed_time": 19.04972033,
                        "remaining_time": 10.34799623,
                        "test": [
                          0.00002695743202
                        ]
                      },
                      {
                        "learn": [
                          0.00002527321618
                        ],
                        "iteration": 648,
                        "passed_time": 19.07909111,
                        "remaining_time": 10.31858394,
                        "test": [
                          0.00002692905964
                        ]
                      },
                      {
                        "learn": [
                          0.00002511836694
                        ],
                        "iteration": 649,
                        "passed_time": 19.08765176,
                        "remaining_time": 10.27796633,
                        "test": [
                          0.00002677054714
                        ]
                      },
                      {
                        "learn": [
                          0.00002509376948
                        ],
                        "iteration": 650,
                        "passed_time": 19.09464182,
                        "remaining_time": 10.23660522,
                        "test": [
                          0.00002674238879
                        ]
                      },
                      {
                        "learn": [
                          0.00002505800855
                        ],
                        "iteration": 651,
                        "passed_time": 19.11558314,
                        "remaining_time": 10.20279591,
                        "test": [
                          0.00002670307938
                        ]
                      },
                      {
                        "learn": [
                          0.00002502247096
                        ],
                        "iteration": 652,
                        "passed_time": 19.14684427,
                        "remaining_time": 10.1745099,
                        "test": [
                          0.00002666356214
                        ]
                      },
                      {
                        "learn": [
                          0.00002487921788
                        ],
                        "iteration": 653,
                        "passed_time": 19.15371721,
                        "remaining_time": 10.13331216,
                        "test": [
                          0.00002651708472
                        ]
                      },
                      {
                        "learn": [
                          0.00002485491974
                        ],
                        "iteration": 654,
                        "passed_time": 19.16056124,
                        "remaining_time": 10.09220401,
                        "test": [
                          0.00002648950641
                        ]
                      },
                      {
                        "learn": [
                          0.00002481981796
                        ],
                        "iteration": 655,
                        "passed_time": 19.16717279,
                        "remaining_time": 10.05107841,
                        "test": [
                          0.00002645049787
                        ]
                      },
                      {
                        "learn": [
                          0.00002479568732
                        ],
                        "iteration": 656,
                        "passed_time": 19.17389849,
                        "remaining_time": 10.01011748,
                        "test": [
                          0.00002642281719
                        ]
                      },
                      {
                        "learn": [
                          0.00002477157994
                        ],
                        "iteration": 657,
                        "passed_time": 19.18067745,
                        "remaining_time": 9.969288282,
                        "test": [
                          0.00002639564212
                        ]
                      },
                      {
                        "learn": [
                          0.00002474142712
                        ],
                        "iteration": 658,
                        "passed_time": 19.18738308,
                        "remaining_time": 9.928524479,
                        "test": [
                          0.00002636037438
                        ]
                      },
                      {
                        "learn": [
                          0.00002470677044
                        ],
                        "iteration": 659,
                        "passed_time": 19.19405546,
                        "remaining_time": 9.887846754,
                        "test": [
                          0.00002632194279
                        ]
                      },
                      {
                        "learn": [
                          0.0000246720905
                        ],
                        "iteration": 660,
                        "passed_time": 19.20074141,
                        "remaining_time": 9.847278879,
                        "test": [
                          0.00002628351739
                        ]
                      },
                      {
                        "learn": [
                          0.00002464825919
                        ],
                        "iteration": 661,
                        "passed_time": 19.20746941,
                        "remaining_time": 9.806834835,
                        "test": [
                          0.00002626018547
                        ]
                      },
                      {
                        "learn": [
                          0.00002461395457
                        ],
                        "iteration": 662,
                        "passed_time": 19.21409899,
                        "remaining_time": 9.766442473,
                        "test": [
                          0.00002622214781
                        ]
                      },
                      {
                        "learn": [
                          0.00002457978643
                        ],
                        "iteration": 663,
                        "passed_time": 19.22076261,
                        "remaining_time": 9.726169029,
                        "test": [
                          0.00002618431176
                        ]
                      },
                      {
                        "learn": [
                          0.00002455179402
                        ],
                        "iteration": 664,
                        "passed_time": 19.22744142,
                        "remaining_time": 9.686004326,
                        "test": [
                          0.00002615278483
                        ]
                      },
                      {
                        "learn": [
                          0.00002452840317
                        ],
                        "iteration": 665,
                        "passed_time": 19.23418829,
                        "remaining_time": 9.64597431,
                        "test": [
                          0.00002612627664
                        ]
                      },
                      {
                        "learn": [
                          0.00002437562284
                        ],
                        "iteration": 666,
                        "passed_time": 19.24082773,
                        "remaining_time": 9.605990458,
                        "test": [
                          0.00002597002537
                        ]
                      },
                      {
                        "learn": [
                          0.00002434189361
                        ],
                        "iteration": 667,
                        "passed_time": 19.24745402,
                        "remaining_time": 9.566099902,
                        "test": [
                          0.00002593249176
                        ]
                      },
                      {
                        "learn": [
                          0.00002430826984
                        ],
                        "iteration": 668,
                        "passed_time": 19.25401052,
                        "remaining_time": 9.526274264,
                        "test": [
                          0.00002589544668
                        ]
                      },
                      {
                        "learn": [
                          0.0000242748663
                        ],
                        "iteration": 669,
                        "passed_time": 19.26072356,
                        "remaining_time": 9.486625038,
                        "test": [
                          0.00002585858615
                        ]
                      },
                      {
                        "learn": [
                          0.00002424148447
                        ],
                        "iteration": 670,
                        "passed_time": 19.26737826,
                        "remaining_time": 9.447045376,
                        "test": [
                          0.00002582163413
                        ]
                      },
                      {
                        "learn": [
                          0.00002409494967
                        ],
                        "iteration": 671,
                        "passed_time": 19.27406702,
                        "remaining_time": 9.40758033,
                        "test": [
                          0.00002566991617
                        ]
                      },
                      {
                        "learn": [
                          0.00002406186096
                        ],
                        "iteration": 672,
                        "passed_time": 19.28073655,
                        "remaining_time": 9.368203346,
                        "test": [
                          0.00002563326813
                        ]
                      },
                      {
                        "learn": [
                          0.00002403490611
                        ],
                        "iteration": 673,
                        "passed_time": 19.28751831,
                        "remaining_time": 9.3289777,
                        "test": [
                          0.00002560290592
                        ]
                      },
                      {
                        "learn": [
                          0.0000240020609
                        ],
                        "iteration": 674,
                        "passed_time": 19.29415418,
                        "remaining_time": 9.28977794,
                        "test": [
                          0.00002556663165
                        ]
                      },
                      {
                        "learn": [
                          0.00002397953081
                        ],
                        "iteration": 675,
                        "passed_time": 19.30095836,
                        "remaining_time": 9.250755191,
                        "test": [
                          0.00002554094079
                        ]
                      },
                      {
                        "learn": [
                          0.00002395691851
                        ],
                        "iteration": 676,
                        "passed_time": 19.30770077,
                        "remaining_time": 9.211798151,
                        "test": [
                          0.00002551847118
                        ]
                      },
                      {
                        "learn": [
                          0.0000239345373
                        ],
                        "iteration": 677,
                        "passed_time": 19.31450939,
                        "remaining_time": 9.172967588,
                        "test": [
                          0.00002549304553
                        ]
                      },
                      {
                        "learn": [
                          0.00002390206896
                        ],
                        "iteration": 678,
                        "passed_time": 19.32118188,
                        "remaining_time": 9.134166987,
                        "test": [
                          0.0000254572784
                        ]
                      },
                      {
                        "learn": [
                          0.00002386968437
                        ],
                        "iteration": 679,
                        "passed_time": 19.32778827,
                        "remaining_time": 9.095429773,
                        "test": [
                          0.00002542140891
                        ]
                      },
                      {
                        "learn": [
                          0.00002383748589
                        ],
                        "iteration": 680,
                        "passed_time": 19.33444407,
                        "remaining_time": 9.056810073,
                        "test": [
                          0.00002538602176
                        ]
                      },
                      {
                        "learn": [
                          0.00002381539005
                        ],
                        "iteration": 681,
                        "passed_time": 19.3413006,
                        "remaining_time": 9.018377697,
                        "test": [
                          0.00002536090474
                        ]
                      },
                      {
                        "learn": [
                          0.00002379328025
                        ],
                        "iteration": 682,
                        "passed_time": 19.34812222,
                        "remaining_time": 8.980021589,
                        "test": [
                          0.00002533913924
                        ]
                      },
                      {
                        "learn": [
                          0.00002377125885
                        ],
                        "iteration": 683,
                        "passed_time": 19.3549009,
                        "remaining_time": 8.941737842,
                        "test": [
                          0.00002531390125
                        ]
                      },
                      {
                        "learn": [
                          0.00002373942639
                        ],
                        "iteration": 684,
                        "passed_time": 19.36319396,
                        "remaining_time": 8.90424248,
                        "test": [
                          0.00002527882118
                        ]
                      },
                      {
                        "learn": [
                          0.00002359849968
                        ],
                        "iteration": 685,
                        "passed_time": 19.36995752,
                        "remaining_time": 8.86613216,
                        "test": [
                          0.00002514829954
                        ]
                      },
                      {
                        "learn": [
                          0.00002357677295
                        ],
                        "iteration": 686,
                        "passed_time": 19.37677106,
                        "remaining_time": 8.828135869,
                        "test": [
                          0.0000251235749
                        ]
                      },
                      {
                        "learn": [
                          0.00002355502296
                        ],
                        "iteration": 687,
                        "passed_time": 19.3834587,
                        "remaining_time": 8.790173133,
                        "test": [
                          0.00002509883786
                        ]
                      },
                      {
                        "learn": [
                          0.00002352363096
                        ],
                        "iteration": 688,
                        "passed_time": 19.39010204,
                        "remaining_time": 8.752281181,
                        "test": [
                          0.00002506415792
                        ]
                      },
                      {
                        "learn": [
                          0.00002338299582
                        ],
                        "iteration": 689,
                        "passed_time": 19.39692011,
                        "remaining_time": 8.714558312,
                        "test": [
                          0.00002492376782
                        ]
                      },
                      {
                        "learn": [
                          0.00002335169842
                        ],
                        "iteration": 690,
                        "passed_time": 19.40334137,
                        "remaining_time": 8.676747444,
                        "test": [
                          0.00002488928175
                        ]
                      },
                      {
                        "learn": [
                          0.00002332057782
                        ],
                        "iteration": 691,
                        "passed_time": 19.40976866,
                        "remaining_time": 8.639029984,
                        "test": [
                          0.00002485487011
                        ]
                      },
                      {
                        "learn": [
                          0.00002328968211
                        ],
                        "iteration": 692,
                        "passed_time": 19.41621145,
                        "remaining_time": 8.601409689,
                        "test": [
                          0.00002482046934
                        ]
                      },
                      {
                        "learn": [
                          0.00002326837103
                        ],
                        "iteration": 693,
                        "passed_time": 19.42315859,
                        "remaining_time": 8.564101626,
                        "test": [
                          0.00002479928698
                        ]
                      },
                      {
                        "learn": [
                          0.00002324704134
                        ],
                        "iteration": 694,
                        "passed_time": 19.43064651,
                        "remaining_time": 8.527118253,
                        "test": [
                          0.00002477523854
                        ]
                      },
                      {
                        "learn": [
                          0.00002322967733
                        ],
                        "iteration": 695,
                        "passed_time": 19.43874118,
                        "remaining_time": 8.490484654,
                        "test": [
                          0.0000247541632
                        ]
                      },
                      {
                        "learn": [
                          0.00002320857252
                        ],
                        "iteration": 696,
                        "passed_time": 19.44612974,
                        "remaining_time": 8.453625985,
                        "test": [
                          0.00002473001861
                        ]
                      },
                      {
                        "learn": [
                          0.00002318758093
                        ],
                        "iteration": 697,
                        "passed_time": 19.4530852,
                        "remaining_time": 8.416664368,
                        "test": [
                          0.00002470617179
                        ]
                      },
                      {
                        "learn": [
                          0.00002315707449
                        ],
                        "iteration": 698,
                        "passed_time": 19.45974839,
                        "remaining_time": 8.379662754,
                        "test": [
                          0.00002467245651
                        ]
                      },
                      {
                        "learn": [
                          0.00002313601
                        ],
                        "iteration": 699,
                        "passed_time": 19.4664555,
                        "remaining_time": 8.342766641,
                        "test": [
                          0.00002465146802
                        ]
                      },
                      {
                        "learn": [
                          0.00002311516575
                        ],
                        "iteration": 700,
                        "passed_time": 19.48100454,
                        "remaining_time": 8.309301511,
                        "test": [
                          0.00002462781662
                        ]
                      },
                      {
                        "learn": [
                          0.00002309419897
                        ],
                        "iteration": 701,
                        "passed_time": 19.50136145,
                        "remaining_time": 8.278355716,
                        "test": [
                          0.00002460723136
                        ]
                      },
                      {
                        "learn": [
                          0.00002307343536
                        ],
                        "iteration": 702,
                        "passed_time": 19.50813545,
                        "remaining_time": 8.241701605,
                        "test": [
                          0.00002458359547
                        ]
                      },
                      {
                        "learn": [
                          0.00002304338955
                        ],
                        "iteration": 703,
                        "passed_time": 19.51470041,
                        "remaining_time": 8.20504449,
                        "test": [
                          0.00002455017022
                        ]
                      },
                      {
                        "learn": [
                          0.00002289446789
                        ],
                        "iteration": 704,
                        "passed_time": 19.52126941,
                        "remaining_time": 8.168474436,
                        "test": [
                          0.0000243983437
                        ]
                      },
                      {
                        "learn": [
                          0.00002287379889
                        ],
                        "iteration": 705,
                        "passed_time": 19.52795294,
                        "remaining_time": 8.132037059,
                        "test": [
                          0.000024377943
                        ]
                      },
                      {
                        "learn": [
                          0.00002285330359
                        ],
                        "iteration": 706,
                        "passed_time": 19.53458729,
                        "remaining_time": 8.095663473,
                        "test": [
                          0.00002435458007
                        ]
                      },
                      {
                        "learn": [
                          0.00002282360362
                        ],
                        "iteration": 707,
                        "passed_time": 19.54123268,
                        "remaining_time": 8.059378449,
                        "test": [
                          0.00002432185272
                        ]
                      },
                      {
                        "learn": [
                          0.0000228032324
                        ],
                        "iteration": 708,
                        "passed_time": 19.54786065,
                        "remaining_time": 8.023169886,
                        "test": [
                          0.0000243016614
                        ]
                      },
                      {
                        "learn": [
                          0.00002266557656
                        ],
                        "iteration": 709,
                        "passed_time": 19.55594417,
                        "remaining_time": 7.987639168,
                        "test": [
                          0.0000241593885
                        ]
                      },
                      {
                        "learn": [
                          0.00002263617127
                        ],
                        "iteration": 710,
                        "passed_time": 19.56253974,
                        "remaining_time": 7.95158085,
                        "test": [
                          0.00002412694808
                        ]
                      },
                      {
                        "learn": [
                          0.00002261590396
                        ],
                        "iteration": 711,
                        "passed_time": 19.56917618,
                        "remaining_time": 7.915621824,
                        "test": [
                          0.00002410389378
                        ]
                      },
                      {
                        "learn": [
                          0.00002259847016
                        ],
                        "iteration": 712,
                        "passed_time": 19.57594028,
                        "remaining_time": 7.87979644,
                        "test": [
                          0.00002409472168
                        ]
                      },
                      {
                        "learn": [
                          0.00002257829124
                        ],
                        "iteration": 713,
                        "passed_time": 19.58252588,
                        "remaining_time": 7.843980956,
                        "test": [
                          0.00002407461411
                        ]
                      },
                      {
                        "learn": [
                          0.00002255297261
                        ],
                        "iteration": 714,
                        "passed_time": 19.58916766,
                        "remaining_time": 7.808269627,
                        "test": [
                          0.00002404493586
                        ]
                      },
                      {
                        "learn": [
                          0.00002252399227
                        ],
                        "iteration": 715,
                        "passed_time": 19.59570009,
                        "remaining_time": 7.772596125,
                        "test": [
                          0.00002401271256
                        ]
                      },
                      {
                        "learn": [
                          0.00002250413129
                        ],
                        "iteration": 716,
                        "passed_time": 19.60234537,
                        "remaining_time": 7.737048451,
                        "test": [
                          0.0000239901437
                        ]
                      },
                      {
                        "learn": [
                          0.00002248589722
                        ],
                        "iteration": 717,
                        "passed_time": 19.60911313,
                        "remaining_time": 7.701629391,
                        "test": [
                          0.00002396746006
                        ]
                      },
                      {
                        "learn": [
                          0.0000224570394
                        ],
                        "iteration": 718,
                        "passed_time": 19.6157953,
                        "remaining_time": 7.666256579,
                        "test": [
                          0.00002393572065
                        ]
                      },
                      {
                        "learn": [
                          0.00002242839096
                        ],
                        "iteration": 719,
                        "passed_time": 19.62236702,
                        "remaining_time": 7.630920509,
                        "test": [
                          0.00002390397813
                        ]
                      },
                      {
                        "learn": [
                          0.00002240458911
                        ],
                        "iteration": 720,
                        "passed_time": 19.6290089,
                        "remaining_time": 7.595691376,
                        "test": [
                          0.00002387558404
                        ]
                      },
                      {
                        "learn": [
                          0.00002238499799
                        ],
                        "iteration": 721,
                        "passed_time": 19.635693,
                        "remaining_time": 7.560557691,
                        "test": [
                          0.00002385340135
                        ]
                      },
                      {
                        "learn": [
                          0.00002236543169
                        ],
                        "iteration": 722,
                        "passed_time": 19.64783965,
                        "remaining_time": 7.527595552,
                        "test": [
                          0.00002383102634
                        ]
                      },
                      {
                        "learn": [
                          0.00002234596154
                        ],
                        "iteration": 723,
                        "passed_time": 19.65456177,
                        "remaining_time": 7.492622994,
                        "test": [
                          0.00002380894446
                        ]
                      },
                      {
                        "learn": [
                          0.00002231769462
                        ],
                        "iteration": 724,
                        "passed_time": 19.66112417,
                        "remaining_time": 7.457667788,
                        "test": [
                          0.00002377760053
                        ]
                      },
                      {
                        "learn": [
                          0.00002217942773
                        ],
                        "iteration": 725,
                        "passed_time": 19.66773172,
                        "remaining_time": 7.422807841,
                        "test": [
                          0.00002363660093
                        ]
                      },
                      {
                        "learn": [
                          0.0000221512244
                        ],
                        "iteration": 726,
                        "passed_time": 19.67426358,
                        "remaining_time": 7.38799719,
                        "test": [
                          0.00002360564628
                        ]
                      },
                      {
                        "learn": [
                          0.00002213195897
                        ],
                        "iteration": 727,
                        "passed_time": 19.68384482,
                        "remaining_time": 7.354403558,
                        "test": [
                          0.0000235836652
                        ]
                      },
                      {
                        "learn": [
                          0.00002210398052
                        ],
                        "iteration": 728,
                        "passed_time": 19.69047306,
                        "remaining_time": 7.31977805,
                        "test": [
                          0.00002355281292
                        ]
                      },
                      {
                        "learn": [
                          0.00002207616957
                        ],
                        "iteration": 729,
                        "passed_time": 19.69748234,
                        "remaining_time": 7.28537018,
                        "test": [
                          0.00002352195287
                        ]
                      },
                      {
                        "learn": [
                          0.00002204848889
                        ],
                        "iteration": 730,
                        "passed_time": 19.70404513,
                        "remaining_time": 7.250872968,
                        "test": [
                          0.00002349138285
                        ]
                      },
                      {
                        "learn": [
                          0.00002191211411
                        ],
                        "iteration": 731,
                        "passed_time": 19.71078268,
                        "remaining_time": 7.216516063,
                        "test": [
                          0.00002336083019
                        ]
                      },
                      {
                        "learn": [
                          0.00002189301153
                        ],
                        "iteration": 732,
                        "passed_time": 19.7174206,
                        "remaining_time": 7.182198228,
                        "test": [
                          0.00002334190906
                        ]
                      },
                      {
                        "learn": [
                          0.00002187403302
                        ],
                        "iteration": 733,
                        "passed_time": 19.72410008,
                        "remaining_time": 7.147970875,
                        "test": [
                          0.00002332328106
                        ]
                      },
                      {
                        "learn": [
                          0.00002185513516
                        ],
                        "iteration": 734,
                        "passed_time": 19.73071281,
                        "remaining_time": 7.113794415,
                        "test": [
                          0.00002330178232
                        ]
                      },
                      {
                        "learn": [
                          0.00002183626211
                        ],
                        "iteration": 735,
                        "passed_time": 19.73735223,
                        "remaining_time": 7.07970243,
                        "test": [
                          0.00002328315742
                        ]
                      },
                      {
                        "learn": [
                          0.00002181735495
                        ],
                        "iteration": 736,
                        "passed_time": 19.74522805,
                        "remaining_time": 7.046126156,
                        "test": [
                          0.00002326443016
                        ]
                      },
                      {
                        "learn": [
                          0.00002179855789
                        ],
                        "iteration": 737,
                        "passed_time": 19.75190072,
                        "remaining_time": 7.012192398,
                        "test": [
                          0.00002324578975
                        ]
                      },
                      {
                        "learn": [
                          0.00002178187939
                        ],
                        "iteration": 738,
                        "passed_time": 19.75863746,
                        "remaining_time": 6.978355045,
                        "test": [
                          0.00002322726101
                        ]
                      },
                      {
                        "learn": [
                          0.00002176321882
                        ],
                        "iteration": 739,
                        "passed_time": 19.76539289,
                        "remaining_time": 6.944597503,
                        "test": [
                          0.00002320626321
                        ]
                      },
                      {
                        "learn": [
                          0.00002173620658
                        ],
                        "iteration": 740,
                        "passed_time": 19.77205404,
                        "remaining_time": 6.910879888,
                        "test": [
                          0.00002317610883
                        ]
                      },
                      {
                        "learn": [
                          0.0000217176918
                        ],
                        "iteration": 741,
                        "passed_time": 19.77866514,
                        "remaining_time": 6.877217798,
                        "test": [
                          0.00002315786545
                        ]
                      },
                      {
                        "learn": [
                          0.00002169069508
                        ],
                        "iteration": 742,
                        "passed_time": 19.78674145,
                        "remaining_time": 6.844135334,
                        "test": [
                          0.00002312798248
                        ]
                      },
                      {
                        "learn": [
                          0.00002166397752
                        ],
                        "iteration": 743,
                        "passed_time": 19.79350533,
                        "remaining_time": 6.8106685,
                        "test": [
                          0.0000230984128
                        ]
                      },
                      {
                        "learn": [
                          0.00002164556354
                        ],
                        "iteration": 744,
                        "passed_time": 19.8004671,
                        "remaining_time": 6.777341087,
                        "test": [
                          0.00002308006706
                        ]
                      },
                      {
                        "learn": [
                          0.0000216271294
                        ],
                        "iteration": 745,
                        "passed_time": 19.80708319,
                        "remaining_time": 6.743966661,
                        "test": [
                          0.0000230619338
                        ]
                      },
                      {
                        "learn": [
                          0.00002160049559
                        ],
                        "iteration": 746,
                        "passed_time": 19.81367136,
                        "remaining_time": 6.710654422,
                        "test": [
                          0.00002303253782
                        ]
                      },
                      {
                        "learn": [
                          0.00002158235458
                        ],
                        "iteration": 747,
                        "passed_time": 19.82048763,
                        "remaining_time": 6.677490486,
                        "test": [
                          0.00002301468837
                        ]
                      },
                      {
                        "learn": [
                          0.00002143692092
                        ],
                        "iteration": 748,
                        "passed_time": 19.82707966,
                        "remaining_time": 6.644321755,
                        "test": [
                          0.0000228665034
                        ]
                      },
                      {
                        "learn": [
                          0.00002141885745
                        ],
                        "iteration": 749,
                        "passed_time": 19.83380327,
                        "remaining_time": 6.611267757,
                        "test": [
                          0.00002284569947
                        ]
                      },
                      {
                        "learn": [
                          0.00002139261602
                        ],
                        "iteration": 750,
                        "passed_time": 19.84033435,
                        "remaining_time": 6.578220043,
                        "test": [
                          0.00002281660746
                        ]
                      },
                      {
                        "learn": [
                          0.00002136644128
                        ],
                        "iteration": 751,
                        "passed_time": 19.84685642,
                        "remaining_time": 6.545239882,
                        "test": [
                          0.00002278781013
                        ]
                      },
                      {
                        "learn": [
                          0.00002134846156
                        ],
                        "iteration": 752,
                        "passed_time": 19.85352783,
                        "remaining_time": 6.512378982,
                        "test": [
                          0.00002276986763
                        ]
                      },
                      {
                        "learn": [
                          0.00002121166028
                        ],
                        "iteration": 753,
                        "passed_time": 19.86015258,
                        "remaining_time": 6.479572328,
                        "test": [
                          0.00002263074463
                        ]
                      },
                      {
                        "learn": [
                          0.0000211856825
                        ],
                        "iteration": 754,
                        "passed_time": 19.86669018,
                        "remaining_time": 6.446806747,
                        "test": [
                          0.0000226019473
                        ]
                      },
                      {
                        "learn": [
                          0.00002116783151
                        ],
                        "iteration": 755,
                        "passed_time": 19.87350624,
                        "remaining_time": 6.414200428,
                        "test": [
                          0.00002258429637
                        ]
                      },
                      {
                        "learn": [
                          0.00002114203984
                        ],
                        "iteration": 756,
                        "passed_time": 19.88005141,
                        "remaining_time": 6.381575289,
                        "test": [
                          0.0000225555983
                        ]
                      },
                      {
                        "learn": [
                          0.0000211163707
                        ],
                        "iteration": 757,
                        "passed_time": 19.88658523,
                        "remaining_time": 6.349015336,
                        "test": [
                          0.00002252721506
                        ]
                      },
                      {
                        "learn": [
                          0.00002109876785
                        ],
                        "iteration": 758,
                        "passed_time": 19.89322464,
                        "remaining_time": 6.316557494,
                        "test": [
                          0.00002250710284
                        ]
                      },
                      {
                        "learn": [
                          0.00002108111847
                        ],
                        "iteration": 759,
                        "passed_time": 19.89982382,
                        "remaining_time": 6.284154891,
                        "test": [
                          0.00002248975123
                        ]
                      },
                      {
                        "learn": [
                          0.00002105559822
                        ],
                        "iteration": 760,
                        "passed_time": 19.90635798,
                        "remaining_time": 6.25179968,
                        "test": [
                          0.00002246153239
                        ]
                      },
                      {
                        "learn": [
                          0.00002103817062
                        ],
                        "iteration": 761,
                        "passed_time": 19.91306852,
                        "remaining_time": 6.219567333,
                        "test": [
                          0.00002244143413
                        ]
                      },
                      {
                        "learn": [
                          0.00002102062671
                        ],
                        "iteration": 762,
                        "passed_time": 19.91971917,
                        "remaining_time": 6.187383281,
                        "test": [
                          0.00002242140565
                        ]
                      },
                      {
                        "learn": [
                          0.00002099537011
                        ],
                        "iteration": 763,
                        "passed_time": 19.92650714,
                        "remaining_time": 6.155308487,
                        "test": [
                          0.00002239347683
                        ]
                      },
                      {
                        "learn": [
                          0.00002097806813
                        ],
                        "iteration": 764,
                        "passed_time": 19.93318228,
                        "remaining_time": 6.123265145,
                        "test": [
                          0.00002237375698
                        ]
                      },
                      {
                        "learn": [
                          0.00002095291389
                        ],
                        "iteration": 765,
                        "passed_time": 19.93975202,
                        "remaining_time": 6.091255839,
                        "test": [
                          0.00002234585608
                        ]
                      },
                      {
                        "learn": [
                          0.00002093122749
                        ],
                        "iteration": 766,
                        "passed_time": 19.94655519,
                        "remaining_time": 6.05938378,
                        "test": [
                          0.00002232049867
                        ]
                      },
                      {
                        "learn": [
                          0.00002090620973
                        ],
                        "iteration": 767,
                        "passed_time": 19.95320609,
                        "remaining_time": 6.027531006,
                        "test": [
                          0.00002229269392
                        ]
                      },
                      {
                        "learn": [
                          0.00002088911869
                        ],
                        "iteration": 768,
                        "passed_time": 19.95981152,
                        "remaining_time": 5.995730117,
                        "test": [
                          0.00002227325014
                        ]
                      },
                      {
                        "learn": [
                          0.00002087199197
                        ],
                        "iteration": 769,
                        "passed_time": 19.9664423,
                        "remaining_time": 5.964002244,
                        "test": [
                          0.00002225392423
                        ]
                      },
                      {
                        "learn": [
                          0.00002084720529
                        ],
                        "iteration": 770,
                        "passed_time": 19.97301299,
                        "remaining_time": 5.932321626,
                        "test": [
                          0.0000222264033
                        ]
                      },
                      {
                        "learn": [
                          0.00002082249772
                        ],
                        "iteration": 771,
                        "passed_time": 19.9795471,
                        "remaining_time": 5.900695259,
                        "test": [
                          0.00002219909174
                        ]
                      },
                      {
                        "learn": [
                          0.00002067905388
                        ],
                        "iteration": 772,
                        "passed_time": 19.99906844,
                        "remaining_time": 5.872947654,
                        "test": [
                          0.00002205297723
                        ]
                      },
                      {
                        "learn": [
                          0.00002066213808
                        ],
                        "iteration": 773,
                        "passed_time": 20.01608567,
                        "remaining_time": 5.844490132,
                        "test": [
                          0.00002203610021
                        ]
                      },
                      {
                        "learn": [
                          0.00002063765539
                        ],
                        "iteration": 774,
                        "passed_time": 20.04149142,
                        "remaining_time": 5.81849751,
                        "test": [
                          0.00002200927098
                        ]
                      },
                      {
                        "learn": [
                          0.00002061324248
                        ],
                        "iteration": 775,
                        "passed_time": 20.07701227,
                        "remaining_time": 5.795426222,
                        "test": [
                          0.00002198203852
                        ]
                      },
                      {
                        "learn": [
                          0.00002058894745
                        ],
                        "iteration": 776,
                        "passed_time": 20.10953995,
                        "remaining_time": 5.771463848,
                        "test": [
                          0.00002195531011
                        ]
                      },
                      {
                        "learn": [
                          0.00002057232788
                        ],
                        "iteration": 777,
                        "passed_time": 20.14538574,
                        "remaining_time": 5.748426266,
                        "test": [
                          0.00002193646343
                        ]
                      },
                      {
                        "learn": [
                          0.00002043986915
                        ],
                        "iteration": 778,
                        "passed_time": 20.19172937,
                        "remaining_time": 5.728334005,
                        "test": [
                          0.00002180089202
                        ]
                      },
                      {
                        "learn": [
                          0.00002041565786
                        ],
                        "iteration": 779,
                        "passed_time": 20.22546976,
                        "remaining_time": 5.704619675,
                        "test": [
                          0.00002177435591
                        ]
                      },
                      {
                        "learn": [
                          0.00002039921044
                        ],
                        "iteration": 780,
                        "passed_time": 20.25142688,
                        "remaining_time": 5.678697165,
                        "test": [
                          0.00002175532312
                        ]
                      },
                      {
                        "learn": [
                          0.00002037521318
                        ],
                        "iteration": 781,
                        "passed_time": 20.29134341,
                        "remaining_time": 5.656666064,
                        "test": [
                          0.00002172888938
                        ]
                      },
                      {
                        "learn": [
                          0.00002035887278
                        ],
                        "iteration": 782,
                        "passed_time": 20.33799652,
                        "remaining_time": 5.636456251,
                        "test": [
                          0.00002171013886
                        ]
                      },
                      {
                        "learn": [
                          0.00002033497012
                        ],
                        "iteration": 783,
                        "passed_time": 20.37085537,
                        "remaining_time": 5.612378519,
                        "test": [
                          0.00002168390984
                        ]
                      },
                      {
                        "learn": [
                          0.00002031548136
                        ],
                        "iteration": 784,
                        "passed_time": 20.40180629,
                        "remaining_time": 5.587755864,
                        "test": [
                          0.00002166161703
                        ]
                      },
                      {
                        "learn": [
                          0.00002029175706
                        ],
                        "iteration": 785,
                        "passed_time": 20.43026494,
                        "remaining_time": 5.562438545,
                        "test": [
                          0.00002163548416
                        ]
                      },
                      {
                        "learn": [
                          0.00002027538254
                        ],
                        "iteration": 786,
                        "passed_time": 20.45520391,
                        "remaining_time": 5.536160651,
                        "test": [
                          0.00002161949736
                        ]
                      },
                      {
                        "learn": [
                          0.00002025926081
                        ],
                        "iteration": 787,
                        "passed_time": 20.49119594,
                        "remaining_time": 5.512859822,
                        "test": [
                          0.00002160105392
                        ]
                      },
                      {
                        "learn": [
                          0.00002023575674
                        ],
                        "iteration": 788,
                        "passed_time": 20.51193103,
                        "remaining_time": 5.485446702,
                        "test": [
                          0.0000215749986
                        ]
                      },
                      {
                        "learn": [
                          0.00002021959934
                        ],
                        "iteration": 789,
                        "passed_time": 20.52720306,
                        "remaining_time": 5.456598282,
                        "test": [
                          0.00002155657067
                        ]
                      },
                      {
                        "learn": [
                          0.00002020347761
                        ],
                        "iteration": 790,
                        "passed_time": 20.5400149,
                        "remaining_time": 5.427134152,
                        "test": [
                          0.0000215384219
                        ]
                      },
                      {
                        "learn": [
                          0.00002018021859
                        ],
                        "iteration": 791,
                        "passed_time": 20.55051372,
                        "remaining_time": 5.397104614,
                        "test": [
                          0.00002151255579
                        ]
                      },
                      {
                        "learn": [
                          0.00002015700764
                        ],
                        "iteration": 792,
                        "passed_time": 20.56249366,
                        "remaining_time": 5.367510956,
                        "test": [
                          0.0000214867207
                        ]
                      },
                      {
                        "learn": [
                          0.00002014110304
                        ],
                        "iteration": 793,
                        "passed_time": 20.57646961,
                        "remaining_time": 5.338479521,
                        "test": [
                          0.0000214688635
                        ]
                      },
                      {
                        "learn": [
                          0.00002011794017
                        ],
                        "iteration": 794,
                        "passed_time": 20.59102787,
                        "remaining_time": 5.309636118,
                        "test": [
                          0.00002144310906
                        ]
                      },
                      {
                        "learn": [
                          0.00002009493084
                        ],
                        "iteration": 795,
                        "passed_time": 20.60428497,
                        "remaining_time": 5.280495143,
                        "test": [
                          0.00002141755778
                        ]
                      },
                      {
                        "learn": [
                          0.00002007914411
                        ],
                        "iteration": 796,
                        "passed_time": 20.62128525,
                        "remaining_time": 5.252347434,
                        "test": [
                          0.00002139971764
                        ]
                      },
                      {
                        "learn": [
                          0.00002006326432
                        ],
                        "iteration": 797,
                        "passed_time": 20.63665398,
                        "remaining_time": 5.223814666,
                        "test": [
                          0.00002138401466
                        ]
                      },
                      {
                        "learn": [
                          0.00002004753342
                        ],
                        "iteration": 798,
                        "passed_time": 20.64814755,
                        "remaining_time": 5.194339996,
                        "test": [
                          0.00002136606906
                        ]
                      },
                      {
                        "learn": [
                          0.00001991297631
                        ],
                        "iteration": 799,
                        "passed_time": 20.66325722,
                        "remaining_time": 5.165814305,
                        "test": [
                          0.00002122940736
                        ]
                      },
                      {
                        "learn": [
                          0.0000198973152
                        ],
                        "iteration": 800,
                        "passed_time": 20.67811176,
                        "remaining_time": 5.137258727,
                        "test": [
                          0.00002121165097
                        ]
                      },
                      {
                        "learn": [
                          0.00001988160602
                        ],
                        "iteration": 801,
                        "passed_time": 20.69267112,
                        "remaining_time": 5.108664441,
                        "test": [
                          0.00002119616201
                        ]
                      },
                      {
                        "learn": [
                          0.00001986599919
                        ],
                        "iteration": 802,
                        "passed_time": 20.70833187,
                        "remaining_time": 5.080375317,
                        "test": [
                          0.00002117823037
                        ]
                      },
                      {
                        "learn": [
                          0.000019850366
                        ],
                        "iteration": 803,
                        "passed_time": 20.73946868,
                        "remaining_time": 5.055890375,
                        "test": [
                          0.00002116293838
                        ]
                      },
                      {
                        "learn": [
                          0.00001971601826
                        ],
                        "iteration": 804,
                        "passed_time": 20.77112298,
                        "remaining_time": 5.031514261,
                        "test": [
                          0.00002102636818
                        ]
                      },
                      {
                        "learn": [
                          0.0000196934742
                        ],
                        "iteration": 805,
                        "passed_time": 20.80162246,
                        "remaining_time": 5.006842131,
                        "test": [
                          0.0000210014047
                        ]
                      },
                      {
                        "learn": [
                          0.00001967800696
                        ],
                        "iteration": 806,
                        "passed_time": 20.83314746,
                        "remaining_time": 4.982400817,
                        "test": [
                          0.00002098621352
                        ]
                      },
                      {
                        "learn": [
                          0.00001966259245
                        ],
                        "iteration": 807,
                        "passed_time": 20.86430746,
                        "remaining_time": 4.957855238,
                        "test": [
                          0.0000209686572
                        ]
                      },
                      {
                        "learn": [
                          0.00001964725238
                        ],
                        "iteration": 808,
                        "passed_time": 20.89934022,
                        "remaining_time": 4.934207641,
                        "test": [
                          0.00002095109933
                        ]
                      },
                      {
                        "learn": [
                          0.00001962495492
                        ],
                        "iteration": 809,
                        "passed_time": 20.92960788,
                        "remaining_time": 4.909414194,
                        "test": [
                          0.00002092643518
                        ]
                      },
                      {
                        "learn": [
                          0.00001960956522
                        ],
                        "iteration": 810,
                        "passed_time": 20.96434504,
                        "remaining_time": 4.885648845,
                        "test": [
                          0.00002091124555
                        ]
                      },
                      {
                        "learn": [
                          0.00001959435232
                        ],
                        "iteration": 811,
                        "passed_time": 20.99917675,
                        "remaining_time": 4.861878361,
                        "test": [
                          0.00002089417156
                        ]
                      },
                      {
                        "learn": [
                          0.00001958051664
                        ],
                        "iteration": 812,
                        "passed_time": 21.03416758,
                        "remaining_time": 4.838117266,
                        "test": [
                          0.00002087671294
                        ]
                      },
                      {
                        "learn": [
                          0.00001956663132
                        ],
                        "iteration": 813,
                        "passed_time": 21.06681048,
                        "remaining_time": 4.813792075,
                        "test": [
                          0.00002085944199
                        ]
                      },
                      {
                        "learn": [
                          0.00001955153165
                        ],
                        "iteration": 814,
                        "passed_time": 21.09219396,
                        "remaining_time": 4.78779863,
                        "test": [
                          0.00002084238196
                        ]
                      },
                      {
                        "learn": [
                          0.00001953641491
                        ],
                        "iteration": 815,
                        "passed_time": 21.10643268,
                        "remaining_time": 4.759293643,
                        "test": [
                          0.0000208250133
                        ]
                      },
                      {
                        "learn": [
                          0.00001951446485
                        ],
                        "iteration": 816,
                        "passed_time": 21.12369904,
                        "remaining_time": 4.731501744,
                        "test": [
                          0.00002080093849
                        ]
                      },
                      {
                        "learn": [
                          0.00001949265283
                        ],
                        "iteration": 817,
                        "passed_time": 21.14364643,
                        "remaining_time": 4.704332092,
                        "test": [
                          0.00002077666362
                        ]
                      },
                      {
                        "learn": [
                          0.00001947751128
                        ],
                        "iteration": 818,
                        "passed_time": 21.16725526,
                        "remaining_time": 4.677989258,
                        "test": [
                          0.00002076185861
                        ]
                      },
                      {
                        "learn": [
                          0.00001946256979
                        ],
                        "iteration": 819,
                        "passed_time": 21.19064868,
                        "remaining_time": 4.651605807,
                        "test": [
                          0.00002074469932
                        ]
                      },
                      {
                        "learn": [
                          0.00001944776789
                        ],
                        "iteration": 820,
                        "passed_time": 21.23701859,
                        "remaining_time": 4.630239133,
                        "test": [
                          0.00002072782385
                        ]
                      },
                      {
                        "learn": [
                          0.00001943292256
                        ],
                        "iteration": 821,
                        "passed_time": 21.29156867,
                        "remaining_time": 4.610582998,
                        "test": [
                          0.00002071098715
                        ]
                      },
                      {
                        "learn": [
                          0.00001941128269
                        ],
                        "iteration": 822,
                        "passed_time": 21.3250382,
                        "remaining_time": 4.586308337,
                        "test": [
                          0.000020686993
                        ]
                      },
                      {
                        "learn": [
                          0.00001939357282
                        ],
                        "iteration": 823,
                        "passed_time": 21.35763876,
                        "remaining_time": 4.561825756,
                        "test": [
                          0.00002066705447
                        ]
                      },
                      {
                        "learn": [
                          0.00001937877247
                        ],
                        "iteration": 824,
                        "passed_time": 21.38954264,
                        "remaining_time": 4.537175712,
                        "test": [
                          0.00002065018055
                        ]
                      },
                      {
                        "learn": [
                          0.00001935738074
                        ],
                        "iteration": 825,
                        "passed_time": 21.42161106,
                        "remaining_time": 4.512542766,
                        "test": [
                          0.00002062650278
                        ]
                      },
                      {
                        "learn": [
                          0.0000193396166
                        ],
                        "iteration": 826,
                        "passed_time": 21.45370749,
                        "remaining_time": 4.487897697,
                        "test": [
                          0.00002060557633
                        ]
                      },
                      {
                        "learn": [
                          0.00001919941882
                        ],
                        "iteration": 827,
                        "passed_time": 21.48519882,
                        "remaining_time": 4.463108933,
                        "test": [
                          0.00002046297773
                        ]
                      },
                      {
                        "learn": [
                          0.00001917810309
                        ],
                        "iteration": 828,
                        "passed_time": 21.51895901,
                        "remaining_time": 4.438772003,
                        "test": [
                          0.00002043950313
                        ]
                      },
                      {
                        "learn": [
                          0.00001916347799
                        ],
                        "iteration": 829,
                        "passed_time": 21.55668019,
                        "remaining_time": 4.415223654,
                        "test": [
                          0.00002042292389
                        ]
                      },
                      {
                        "learn": [
                          0.00001914907157
                        ],
                        "iteration": 830,
                        "passed_time": 21.58874625,
                        "remaining_time": 4.390491116,
                        "test": [
                          0.00002040644234
                        ]
                      },
                      {
                        "learn": [
                          0.00001912797762
                        ],
                        "iteration": 831,
                        "passed_time": 21.62398329,
                        "remaining_time": 4.366381242,
                        "test": [
                          0.00002038305304
                        ]
                      },
                      {
                        "learn": [
                          0.00001898802488
                        ],
                        "iteration": 832,
                        "passed_time": 21.63924415,
                        "remaining_time": 4.338239823,
                        "test": [
                          0.00002024115857
                        ]
                      },
                      {
                        "learn": [
                          0.00001896705345
                        ],
                        "iteration": 833,
                        "passed_time": 21.64935088,
                        "remaining_time": 4.309103413,
                        "test": [
                          0.00002021795847
                        ]
                      },
                      {
                        "learn": [
                          0.0000189526796
                        ],
                        "iteration": 834,
                        "passed_time": 21.65901288,
                        "remaining_time": 4.2799247,
                        "test": [
                          0.00002020364976
                        ]
                      },
                      {
                        "learn": [
                          0.00001893846394
                        ],
                        "iteration": 835,
                        "passed_time": 21.66952478,
                        "remaining_time": 4.250959407,
                        "test": [
                          0.00002018945737
                        ]
                      },
                      {
                        "learn": [
                          0.00001891752198
                        ],
                        "iteration": 836,
                        "passed_time": 21.68130026,
                        "remaining_time": 4.222284279,
                        "test": [
                          0.00002016655195
                        ]
                      },
                      {
                        "learn": [
                          0.00001889674906
                        ],
                        "iteration": 837,
                        "passed_time": 21.70283728,
                        "remaining_time": 4.195536562,
                        "test": [
                          0.00002014346818
                        ]
                      },
                      {
                        "learn": [
                          0.00001888258924
                        ],
                        "iteration": 838,
                        "passed_time": 21.72969358,
                        "remaining_time": 4.16982201,
                        "test": [
                          0.00002012749534
                        ]
                      },
                      {
                        "learn": [
                          0.00001886835962
                        ],
                        "iteration": 839,
                        "passed_time": 21.75353665,
                        "remaining_time": 4.14353079,
                        "test": [
                          0.00002011328278
                        ]
                      },
                      {
                        "learn": [
                          0.00001885424943
                        ],
                        "iteration": 840,
                        "passed_time": 21.77140378,
                        "remaining_time": 4.116115577,
                        "test": [
                          0.00002009739059
                        ]
                      },
                      {
                        "learn": [
                          0.00001884018731
                        ],
                        "iteration": 841,
                        "passed_time": 21.7991642,
                        "remaining_time": 4.090579506,
                        "test": [
                          0.00002008130143
                        ]
                      },
                      {
                        "learn": [
                          0.00001882614845
                        ],
                        "iteration": 842,
                        "passed_time": 21.83849122,
                        "remaining_time": 4.067192314,
                        "test": [
                          0.00002006542629
                        ]
                      },
                      {
                        "learn": [
                          0.00001880571984
                        ],
                        "iteration": 843,
                        "passed_time": 21.87562529,
                        "remaining_time": 4.043362021,
                        "test": [
                          0.00002004281245
                        ]
                      },
                      {
                        "learn": [
                          0.00001878531139
                        ],
                        "iteration": 844,
                        "passed_time": 21.89481802,
                        "remaining_time": 4.016209223,
                        "test": [
                          0.00002002020946
                        ]
                      },
                      {
                        "learn": [
                          0.00001876500996
                        ],
                        "iteration": 845,
                        "passed_time": 21.92174629,
                        "remaining_time": 3.990483367,
                        "test": [
                          0.00001999771348
                        ]
                      },
                      {
                        "learn": [
                          0.00001874470077
                        ],
                        "iteration": 846,
                        "passed_time": 21.94970837,
                        "remaining_time": 3.964941417,
                        "test": [
                          0.00001997520665
                        ]
                      },
                      {
                        "learn": [
                          0.000018724511
                        ],
                        "iteration": 847,
                        "passed_time": 21.98378819,
                        "remaining_time": 3.940490336,
                        "test": [
                          0.00001995290298
                        ]
                      },
                      {
                        "learn": [
                          0.00001871213317
                        ],
                        "iteration": 848,
                        "passed_time": 22.01172931,
                        "remaining_time": 3.914924766,
                        "test": [
                          0.00001993927822
                        ]
                      },
                      {
                        "learn": [
                          0.00001869838744
                        ],
                        "iteration": 849,
                        "passed_time": 22.03348696,
                        "remaining_time": 3.888262404,
                        "test": [
                          0.00001992349925
                        ]
                      },
                      {
                        "learn": [
                          0.00001868464791
                        ],
                        "iteration": 850,
                        "passed_time": 22.06559478,
                        "remaining_time": 3.863423763,
                        "test": [
                          0.00001990800564
                        ]
                      },
                      {
                        "learn": [
                          0.00001866463649
                        ],
                        "iteration": 851,
                        "passed_time": 22.10237408,
                        "remaining_time": 3.839379535,
                        "test": [
                          0.00001988579348
                        ]
                      },
                      {
                        "learn": [
                          0.00001865267121
                        ],
                        "iteration": 852,
                        "passed_time": 22.13450788,
                        "remaining_time": 3.814504875,
                        "test": [
                          0.00001987917108
                        ]
                      },
                      {
                        "learn": [
                          0.00001863279937
                        ],
                        "iteration": 853,
                        "passed_time": 22.16487655,
                        "remaining_time": 3.789311448,
                        "test": [
                          0.00001985717295
                        ]
                      },
                      {
                        "learn": [
                          0.00001862062317
                        ],
                        "iteration": 854,
                        "passed_time": 22.19516304,
                        "remaining_time": 3.764091978,
                        "test": [
                          0.000019843649
                        ]
                      },
                      {
                        "learn": [
                          0.00001860080872
                        ],
                        "iteration": 855,
                        "passed_time": 22.24731336,
                        "remaining_time": 3.742538696,
                        "test": [
                          0.00001982194709
                        ]
                      },
                      {
                        "learn": [
                          0.00001858731113
                        ],
                        "iteration": 856,
                        "passed_time": 22.28366162,
                        "remaining_time": 3.718277259,
                        "test": [
                          0.00001980843399
                        ]
                      },
                      {
                        "learn": [
                          0.00001856749823
                        ],
                        "iteration": 857,
                        "passed_time": 22.34131608,
                        "remaining_time": 3.69751385,
                        "test": [
                          0.00001978670882
                        ]
                      },
                      {
                        "learn": [
                          0.00001843228663
                        ],
                        "iteration": 858,
                        "passed_time": 22.39592354,
                        "remaining_time": 3.6761644,
                        "test": [
                          0.00001964826047
                        ]
                      },
                      {
                        "learn": [
                          0.00001841265984
                        ],
                        "iteration": 859,
                        "passed_time": 22.43003939,
                        "remaining_time": 3.651401761,
                        "test": [
                          0.00001962674467
                        ]
                      },
                      {
                        "learn": [
                          0.00001839922429
                        ],
                        "iteration": 860,
                        "passed_time": 22.48214967,
                        "remaining_time": 3.62952242,
                        "test": [
                          0.00001961143872
                        ]
                      },
                      {
                        "learn": [
                          0.00001837974949
                        ],
                        "iteration": 861,
                        "passed_time": 22.51786813,
                        "remaining_time": 3.604948725,
                        "test": [
                          0.00001958992137
                        ]
                      },
                      {
                        "learn": [
                          0.00001836640545
                        ],
                        "iteration": 862,
                        "passed_time": 22.52732444,
                        "remaining_time": 3.576180125,
                        "test": [
                          0.00001957482324
                        ]
                      },
                      {
                        "learn": [
                          0.0000182280517
                        ],
                        "iteration": 863,
                        "passed_time": 22.53657734,
                        "remaining_time": 3.547424211,
                        "test": [
                          0.00001943429512
                        ]
                      },
                      {
                        "learn": [
                          0.00001821472317
                        ],
                        "iteration": 864,
                        "passed_time": 22.54594978,
                        "remaining_time": 3.518732046,
                        "test": [
                          0.00001942118061
                        ]
                      },
                      {
                        "learn": [
                          0.00001819550582
                        ],
                        "iteration": 865,
                        "passed_time": 22.555282,
                        "remaining_time": 3.490078277,
                        "test": [
                          0.00001939995793
                        ]
                      },
                      {
                        "learn": [
                          0.00001818217883
                        ],
                        "iteration": 866,
                        "passed_time": 22.56459154,
                        "remaining_time": 3.461465599,
                        "test": [
                          0.00001938485205
                        ]
                      },
                      {
                        "learn": [
                          0.0000181690271
                        ],
                        "iteration": 867,
                        "passed_time": 22.59111775,
                        "remaining_time": 3.435515602,
                        "test": [
                          0.00001936985628
                        ]
                      },
                      {
                        "learn": [
                          0.00001814987799
                        ],
                        "iteration": 868,
                        "passed_time": 22.6110935,
                        "remaining_time": 3.408576811,
                        "test": [
                          0.00001934872355
                        ]
                      },
                      {
                        "learn": [
                          0.00001813084675
                        ],
                        "iteration": 869,
                        "passed_time": 22.62104255,
                        "remaining_time": 3.380155783,
                        "test": [
                          0.00001932759858
                        ]
                      },
                      {
                        "learn": [
                          0.0000181117178
                        ],
                        "iteration": 870,
                        "passed_time": 22.6302037,
                        "remaining_time": 3.351660479,
                        "test": [
                          0.00001930647206
                        ]
                      },
                      {
                        "learn": [
                          0.00001809614665
                        ],
                        "iteration": 871,
                        "passed_time": 22.63959198,
                        "remaining_time": 3.323242859,
                        "test": [
                          0.00001928900104
                        ]
                      },
                      {
                        "learn": [
                          0.00001808315156
                        ],
                        "iteration": 872,
                        "passed_time": 22.64904342,
                        "remaining_time": 3.294878023,
                        "test": [
                          0.00001927399442
                        ]
                      },
                      {
                        "learn": [
                          0.00001807019679
                        ],
                        "iteration": 873,
                        "passed_time": 22.65844772,
                        "remaining_time": 3.266549671,
                        "test": [
                          0.00001926127849
                        ]
                      },
                      {
                        "learn": [
                          0.00001805123999
                        ],
                        "iteration": 874,
                        "passed_time": 22.66765014,
                        "remaining_time": 3.238235735,
                        "test": [
                          0.00001924014577
                        ]
                      },
                      {
                        "learn": [
                          0.00001803241348
                        ],
                        "iteration": 875,
                        "passed_time": 22.67684152,
                        "remaining_time": 3.209963868,
                        "test": [
                          0.00001921951399
                        ]
                      },
                      {
                        "learn": [
                          0.00001801950834
                        ],
                        "iteration": 876,
                        "passed_time": 22.6862937,
                        "remaining_time": 3.181772092,
                        "test": [
                          0.00001920500055
                        ]
                      },
                      {
                        "learn": [
                          0.00001800079814
                        ],
                        "iteration": 877,
                        "passed_time": 22.69564791,
                        "remaining_time": 3.15360939,
                        "test": [
                          0.00001918426951
                        ]
                      },
                      {
                        "learn": [
                          0.00001798213912
                        ],
                        "iteration": 878,
                        "passed_time": 22.70562452,
                        "remaining_time": 3.125575161,
                        "test": [
                          0.00001916363618
                        ]
                      },
                      {
                        "learn": [
                          0.00001796938752
                        ],
                        "iteration": 879,
                        "passed_time": 22.71516543,
                        "remaining_time": 3.097522559,
                        "test": [
                          0.00001914902969
                        ]
                      },
                      {
                        "learn": [
                          0.00001795082
                        ],
                        "iteration": 880,
                        "passed_time": 22.7247389,
                        "remaining_time": 3.069516378,
                        "test": [
                          0.00001912839791
                        ]
                      },
                      {
                        "learn": [
                          0.00001793231142
                        ],
                        "iteration": 881,
                        "passed_time": 22.73404218,
                        "remaining_time": 3.041515848,
                        "test": [
                          0.0000191080515
                        ]
                      },
                      {
                        "learn": [
                          0.0000179138261
                        ],
                        "iteration": 882,
                        "passed_time": 22.74342691,
                        "remaining_time": 3.013568458,
                        "test": [
                          0.00001908772215
                        ]
                      },
                      {
                        "learn": [
                          0.00001790117221
                        ],
                        "iteration": 883,
                        "passed_time": 22.75373504,
                        "remaining_time": 2.985784236,
                        "test": [
                          0.00001907340723
                        ]
                      },
                      {
                        "learn": [
                          0.00001788292573
                        ],
                        "iteration": 884,
                        "passed_time": 22.76222825,
                        "remaining_time": 2.957803671,
                        "test": [
                          0.00001905287781
                        ]
                      },
                      {
                        "learn": [
                          0.00001786456604
                        ],
                        "iteration": 885,
                        "passed_time": 22.77071494,
                        "remaining_time": 2.929866257,
                        "test": [
                          0.00001903283072
                        ]
                      },
                      {
                        "learn": [
                          0.0000178462234
                        ],
                        "iteration": 886,
                        "passed_time": 22.77923237,
                        "remaining_time": 2.901976616,
                        "test": [
                          0.00001901278829
                        ]
                      },
                      {
                        "learn": [
                          0.00001783482575
                        ],
                        "iteration": 887,
                        "passed_time": 22.78812884,
                        "remaining_time": 2.874178413,
                        "test": [
                          0.00001899848113
                        ]
                      },
                      {
                        "learn": [
                          0.00001781915069
                        ],
                        "iteration": 888,
                        "passed_time": 22.79675848,
                        "remaining_time": 2.846389417,
                        "test": [
                          0.00001898000977
                        ]
                      },
                      {
                        "learn": [
                          0.0000178065852
                        ],
                        "iteration": 889,
                        "passed_time": 22.8053851,
                        "remaining_time": 2.818643103,
                        "test": [
                          0.00001896768312
                        ]
                      },
                      {
                        "learn": [
                          0.00001779410191
                        ],
                        "iteration": 890,
                        "passed_time": 22.81393762,
                        "remaining_time": 2.790930641,
                        "test": [
                          0.00001895543402
                        ]
                      },
                      {
                        "learn": [
                          0.00001765718121
                        ],
                        "iteration": 891,
                        "passed_time": 22.82232839,
                        "remaining_time": 2.763241554,
                        "test": [
                          0.00001881651109
                        ]
                      },
                      {
                        "learn": [
                          0.00001764229866
                        ],
                        "iteration": 892,
                        "passed_time": 22.8308643,
                        "remaining_time": 2.735613079,
                        "test": [
                          0.00001879873454
                        ]
                      },
                      {
                        "learn": [
                          0.00001762755724
                        ],
                        "iteration": 893,
                        "passed_time": 22.83948078,
                        "remaining_time": 2.708036871,
                        "test": [
                          0.00001878204207
                        ]
                      },
                      {
                        "learn": [
                          0.00001761509566
                        ],
                        "iteration": 894,
                        "passed_time": 22.84805108,
                        "remaining_time": 2.680497613,
                        "test": [
                          0.00001876999769
                        ]
                      },
                      {
                        "learn": [
                          0.00001760280469
                        ],
                        "iteration": 895,
                        "passed_time": 22.85663073,
                        "remaining_time": 2.653001781,
                        "test": [
                          0.0000187577703
                        ]
                      },
                      {
                        "learn": [
                          0.00001758495989
                        ],
                        "iteration": 896,
                        "passed_time": 22.86503286,
                        "remaining_time": 2.625527742,
                        "test": [
                          0.00001873802409
                        ]
                      },
                      {
                        "learn": [
                          0.00001745381168
                        ],
                        "iteration": 897,
                        "passed_time": 22.87516294,
                        "remaining_time": 2.59829245,
                        "test": [
                          0.00001860716435
                        ]
                      },
                      {
                        "learn": [
                          0.00001744283123
                        ],
                        "iteration": 898,
                        "passed_time": 22.88388856,
                        "remaining_time": 2.570937424,
                        "test": [
                          0.00001859493076
                        ]
                      },
                      {
                        "learn": [
                          0.00001743066432
                        ],
                        "iteration": 899,
                        "passed_time": 22.89226271,
                        "remaining_time": 2.543584746,
                        "test": [
                          0.00001858120829
                        ]
                      },
                      {
                        "learn": [
                          0.00001741855015
                        ],
                        "iteration": 900,
                        "passed_time": 22.90059724,
                        "remaining_time": 2.516269841,
                        "test": [
                          0.00001856728576
                        ]
                      },
                      {
                        "learn": [
                          0.00001740643133
                        ],
                        "iteration": 901,
                        "passed_time": 22.90905706,
                        "remaining_time": 2.489010634,
                        "test": [
                          0.00001855356639
                        ]
                      },
                      {
                        "learn": [
                          0.00001738880521
                        ],
                        "iteration": 902,
                        "passed_time": 22.917369,
                        "remaining_time": 2.461777179,
                        "test": [
                          0.00001853391944
                        ]
                      },
                      {
                        "learn": [
                          0.00001737896313
                        ],
                        "iteration": 903,
                        "passed_time": 22.92594638,
                        "remaining_time": 2.434613775,
                        "test": [
                          0.00001852227364
                        ]
                      },
                      {
                        "learn": [
                          0.00001736691875
                        ],
                        "iteration": 904,
                        "passed_time": 22.93433123,
                        "remaining_time": 2.407471235,
                        "test": [
                          0.00001850835266
                        ]
                      },
                      {
                        "learn": [
                          0.0000173494167
                        ],
                        "iteration": 905,
                        "passed_time": 22.94276286,
                        "remaining_time": 2.380374954,
                        "test": [
                          0.00001848899728
                        ]
                      },
                      {
                        "learn": [
                          0.00001733201237
                        ],
                        "iteration": 906,
                        "passed_time": 22.95027179,
                        "remaining_time": 2.353225222,
                        "test": [
                          0.00001846983576
                        ]
                      },
                      {
                        "learn": [
                          0.00001732468431
                        ],
                        "iteration": 907,
                        "passed_time": 22.95797956,
                        "remaining_time": 2.326138898,
                        "test": [
                          0.00001845956407
                        ]
                      },
                      {
                        "learn": [
                          0.00001730735287
                        ],
                        "iteration": 908,
                        "passed_time": 22.9654171,
                        "remaining_time": 2.299068158,
                        "test": [
                          0.00001844041961
                        ]
                      },
                      {
                        "learn": [
                          0.00001728997335
                        ],
                        "iteration": 909,
                        "passed_time": 22.9728368,
                        "remaining_time": 2.272038804,
                        "test": [
                          0.00001842106113
                        ]
                      },
                      {
                        "learn": [
                          0.00001727277219
                        ],
                        "iteration": 910,
                        "passed_time": 22.98019278,
                        "remaining_time": 2.245046276,
                        "test": [
                          0.00001840220049
                        ]
                      },
                      {
                        "learn": [
                          0.00001726092322
                        ],
                        "iteration": 911,
                        "passed_time": 22.98768471,
                        "remaining_time": 2.218109928,
                        "test": [
                          0.0000183887789
                        ]
                      },
                      {
                        "learn": [
                          0.00001724374843
                        ],
                        "iteration": 912,
                        "passed_time": 22.99505771,
                        "remaining_time": 2.191204842,
                        "test": [
                          0.00001836973215
                        ]
                      },
                      {
                        "learn": [
                          0.00001723197545
                        ],
                        "iteration": 913,
                        "passed_time": 23.00265431,
                        "remaining_time": 2.164363534,
                        "test": [
                          0.00001835640362
                        ]
                      },
                      {
                        "learn": [
                          0.00001722013114
                        ],
                        "iteration": 914,
                        "passed_time": 23.01014497,
                        "remaining_time": 2.137554451,
                        "test": [
                          0.00001834465391
                        ]
                      },
                      {
                        "learn": [
                          0.00001720299356
                        ],
                        "iteration": 915,
                        "passed_time": 23.01748133,
                        "remaining_time": 2.110773398,
                        "test": [
                          0.00001832579792
                        ]
                      },
                      {
                        "learn": [
                          0.00001719131985
                        ],
                        "iteration": 916,
                        "passed_time": 23.02494117,
                        "remaining_time": 2.084045929,
                        "test": [
                          0.00001831246318
                        ]
                      },
                      {
                        "learn": [
                          0.00001717722361
                        ],
                        "iteration": 917,
                        "passed_time": 23.03240097,
                        "remaining_time": 2.057360435,
                        "test": [
                          0.00001829567301
                        ]
                      },
                      {
                        "learn": [
                          0.00001716557006
                        ],
                        "iteration": 918,
                        "passed_time": 23.04191045,
                        "remaining_time": 2.030897439,
                        "test": [
                          0.00001828422728
                        ]
                      },
                      {
                        "learn": [
                          0.0000171538979
                        ],
                        "iteration": 919,
                        "passed_time": 23.04944334,
                        "remaining_time": 2.004299421,
                        "test": [
                          0.00001827267299
                        ]
                      },
                      {
                        "learn": [
                          0.00001714220402
                        ],
                        "iteration": 920,
                        "passed_time": 23.05697832,
                        "remaining_time": 1.977742983,
                        "test": [
                          0.0000182612195
                        ]
                      },
                      {
                        "learn": [
                          0.00001712536577
                        ],
                        "iteration": 921,
                        "passed_time": 23.06435688,
                        "remaining_time": 1.951214573,
                        "test": [
                          0.00001824265199
                        ]
                      },
                      {
                        "learn": [
                          0.000017108481
                        ],
                        "iteration": 922,
                        "passed_time": 23.07173904,
                        "remaining_time": 1.924727959,
                        "test": [
                          0.00001822399141
                        ]
                      },
                      {
                        "learn": [
                          0.00001709698254
                        ],
                        "iteration": 923,
                        "passed_time": 23.07953429,
                        "remaining_time": 1.898316673,
                        "test": [
                          0.00001821076214
                        ]
                      },
                      {
                        "learn": [
                          0.00001708537396
                        ],
                        "iteration": 924,
                        "passed_time": 23.0871409,
                        "remaining_time": 1.871930344,
                        "test": [
                          0.00001819940171
                        ]
                      },
                      {
                        "learn": [
                          0.00001707397631
                        ],
                        "iteration": 925,
                        "passed_time": 23.09465796,
                        "remaining_time": 1.845577418,
                        "test": [
                          0.00001818617708
                        ]
                      },
                      {
                        "learn": [
                          0.00001705728695
                        ],
                        "iteration": 926,
                        "passed_time": 23.1039097,
                        "remaining_time": 1.819401735,
                        "test": [
                          0.00001816770882
                        ]
                      },
                      {
                        "learn": [
                          0.00001704365753
                        ],
                        "iteration": 927,
                        "passed_time": 23.11167649,
                        "remaining_time": 1.793147314,
                        "test": [
                          0.00001815240442
                        ]
                      },
                      {
                        "learn": [
                          0.00001691329719
                        ],
                        "iteration": 928,
                        "passed_time": 23.11945452,
                        "remaining_time": 1.766933553,
                        "test": [
                          0.00001802234496
                        ]
                      },
                      {
                        "learn": [
                          0.00001689665745
                        ],
                        "iteration": 929,
                        "passed_time": 23.12679562,
                        "remaining_time": 1.740726552,
                        "test": [
                          0.00001800407366
                        ]
                      },
                      {
                        "learn": [
                          0.00001688019142
                        ],
                        "iteration": 930,
                        "passed_time": 23.13425644,
                        "remaining_time": 1.714568952,
                        "test": [
                          0.00001798570311
                        ]
                      },
                      {
                        "learn": [
                          0.00001686379518
                        ],
                        "iteration": 931,
                        "passed_time": 23.14210608,
                        "remaining_time": 1.688479843,
                        "test": [
                          0.00001796762723
                        ]
                      },
                      {
                        "learn": [
                          0.00001685241924
                        ],
                        "iteration": 932,
                        "passed_time": 23.14986869,
                        "remaining_time": 1.662423583,
                        "test": [
                          0.00001795638778
                        ]
                      },
                      {
                        "learn": [
                          0.00001683602455
                        ],
                        "iteration": 933,
                        "passed_time": 23.1573382,
                        "remaining_time": 1.636385783,
                        "test": [
                          0.00001793840495
                        ]
                      },
                      {
                        "learn": [
                          0.00001670087809
                        ],
                        "iteration": 934,
                        "passed_time": 23.16473526,
                        "remaining_time": 1.610382665,
                        "test": [
                          0.00001780154629
                        ]
                      },
                      {
                        "learn": [
                          0.00001668947114
                        ],
                        "iteration": 935,
                        "passed_time": 23.17239996,
                        "remaining_time": 1.584437604,
                        "test": [
                          0.00001779028046
                        ]
                      },
                      {
                        "learn": [
                          0.00001667329978
                        ],
                        "iteration": 936,
                        "passed_time": 23.17990374,
                        "remaining_time": 1.558520742,
                        "test": [
                          0.00001777231005
                        ]
                      },
                      {
                        "learn": [
                          0.0000166621937
                        ],
                        "iteration": 937,
                        "passed_time": 23.18748155,
                        "remaining_time": 1.532648034,
                        "test": [
                          0.00001775966391
                        ]
                      },
                      {
                        "learn": [
                          0.00001664599753
                        ],
                        "iteration": 938,
                        "passed_time": 23.19490204,
                        "remaining_time": 1.506804073,
                        "test": [
                          0.00001774178345
                        ]
                      },
                      {
                        "learn": [
                          0.00001663491161
                        ],
                        "iteration": 939,
                        "passed_time": 23.20238193,
                        "remaining_time": 1.481003102,
                        "test": [
                          0.00001773092707
                        ]
                      },
                      {
                        "learn": [
                          0.00001662378382
                        ],
                        "iteration": 940,
                        "passed_time": 23.21005473,
                        "remaining_time": 1.455253166,
                        "test": [
                          0.00001771838019
                        ]
                      },
                      {
                        "learn": [
                          0.00001661274753
                        ],
                        "iteration": 941,
                        "passed_time": 23.21768978,
                        "remaining_time": 1.429539286,
                        "test": [
                          0.00001770585192
                        ]
                      },
                      {
                        "learn": [
                          0.00001660166316
                        ],
                        "iteration": 942,
                        "passed_time": 23.22513165,
                        "remaining_time": 1.403852072,
                        "test": [
                          0.00001769489008
                        ]
                      },
                      {
                        "learn": [
                          0.00001658563914
                        ],
                        "iteration": 943,
                        "passed_time": 23.23252668,
                        "remaining_time": 1.378200735,
                        "test": [
                          0.00001767720503
                        ]
                      },
                      {
                        "learn": [
                          0.00001657477655
                        ],
                        "iteration": 944,
                        "passed_time": 23.2400432,
                        "remaining_time": 1.352595107,
                        "test": [
                          0.00001766466591
                        ]
                      },
                      {
                        "learn": [
                          0.00001655877735
                        ],
                        "iteration": 945,
                        "passed_time": 23.24734149,
                        "remaining_time": 1.327015265,
                        "test": [
                          0.00001764709097
                        ]
                      },
                      {
                        "learn": [
                          0.00001654778913
                        ],
                        "iteration": 946,
                        "passed_time": 23.25467495,
                        "remaining_time": 1.301476,
                        "test": [
                          0.0000176345441
                        ]
                      },
                      {
                        "learn": [
                          0.00001653480335
                        ],
                        "iteration": 947,
                        "passed_time": 23.26198269,
                        "remaining_time": 1.275973734,
                        "test": [
                          0.00001762002756
                        ]
                      },
                      {
                        "learn": [
                          0.00001652385081
                        ],
                        "iteration": 948,
                        "passed_time": 23.26918093,
                        "remaining_time": 1.250503928,
                        "test": [
                          0.00001760927044
                        ]
                      },
                      {
                        "learn": [
                          0.00001650811836
                        ],
                        "iteration": 949,
                        "passed_time": 23.27606264,
                        "remaining_time": 1.225055929,
                        "test": [
                          0.0000175916831
                        ]
                      },
                      {
                        "learn": [
                          0.00001649723096
                        ],
                        "iteration": 950,
                        "passed_time": 23.28290018,
                        "remaining_time": 1.199644699,
                        "test": [
                          0.0000175794402
                        ]
                      },
                      {
                        "learn": [
                          0.00001648648934
                        ],
                        "iteration": 951,
                        "passed_time": 23.28973476,
                        "remaining_time": 1.174272341,
                        "test": [
                          0.00001756866912
                        ]
                      },
                      {
                        "learn": [
                          0.00001647071657
                        ],
                        "iteration": 952,
                        "passed_time": 23.29692366,
                        "remaining_time": 1.148956361,
                        "test": [
                          0.00001755128805
                        ]
                      },
                      {
                        "learn": [
                          0.00001645508338
                        ],
                        "iteration": 953,
                        "passed_time": 23.30464568,
                        "remaining_time": 1.12370409,
                        "test": [
                          0.00001753391163
                        ]
                      },
                      {
                        "learn": [
                          0.00001644434642
                        ],
                        "iteration": 954,
                        "passed_time": 23.31149119,
                        "remaining_time": 1.098447229,
                        "test": [
                          0.0000175219634
                        ]
                      },
                      {
                        "learn": [
                          0.00001642871477
                        ],
                        "iteration": 955,
                        "passed_time": 23.31824495,
                        "remaining_time": 1.073224663,
                        "test": [
                          0.0000175047762
                        ]
                      },
                      {
                        "learn": [
                          0.00001641812515
                        ],
                        "iteration": 956,
                        "passed_time": 23.32532216,
                        "remaining_time": 1.048055228,
                        "test": [
                          0.00001749243094
                        ]
                      },
                      {
                        "learn": [
                          0.00001640267031
                        ],
                        "iteration": 957,
                        "passed_time": 23.33207654,
                        "remaining_time": 1.02290941,
                        "test": [
                          0.00001747534299
                        ]
                      },
                      {
                        "learn": [
                          0.0000163919318
                        ],
                        "iteration": 958,
                        "passed_time": 23.33898545,
                        "remaining_time": 0.9978085542,
                        "test": [
                          0.00001746340407
                        ]
                      },
                      {
                        "learn": [
                          0.00001637647231
                        ],
                        "iteration": 959,
                        "passed_time": 23.34558082,
                        "remaining_time": 0.972732534,
                        "test": [
                          0.00001744621067
                        ]
                      },
                      {
                        "learn": [
                          0.00001636109502
                        ],
                        "iteration": 960,
                        "passed_time": 23.35220706,
                        "remaining_time": 0.9476962282,
                        "test": [
                          0.00001742912582
                        ]
                      },
                      {
                        "learn": [
                          0.00001635052865
                        ],
                        "iteration": 961,
                        "passed_time": 23.35888807,
                        "remaining_time": 0.9227003602,
                        "test": [
                          0.0000174171838
                        ]
                      },
                      {
                        "learn": [
                          0.00001634138913
                        ],
                        "iteration": 962,
                        "passed_time": 23.37846799,
                        "remaining_time": 0.8982381264,
                        "test": [
                          0.00001741223949
                        ]
                      },
                      {
                        "learn": [
                          0.00001633178589
                        ],
                        "iteration": 963,
                        "passed_time": 23.39013305,
                        "remaining_time": 0.8734904458,
                        "test": [
                          0.00001740039053
                        ]
                      },
                      {
                        "learn": [
                          0.00001632119471
                        ],
                        "iteration": 964,
                        "passed_time": 23.40076035,
                        "remaining_time": 0.8487322408,
                        "test": [
                          0.00001738983502
                        ]
                      },
                      {
                        "learn": [
                          0.000016305957
                        ],
                        "iteration": 965,
                        "passed_time": 23.42906443,
                        "remaining_time": 0.8246254562,
                        "test": [
                          0.00001737323871
                        ]
                      },
                      {
                        "learn": [
                          0.00001629079684
                        ],
                        "iteration": 966,
                        "passed_time": 23.44480281,
                        "remaining_time": 0.8000811713,
                        "test": [
                          0.00001735624847
                        ]
                      },
                      {
                        "learn": [
                          0.00001627566149
                        ],
                        "iteration": 967,
                        "passed_time": 23.45138644,
                        "remaining_time": 0.7752524442,
                        "test": [
                          0.00001733954825
                        ]
                      },
                      {
                        "learn": [
                          0.00001614737316
                        ],
                        "iteration": 968,
                        "passed_time": 23.45813009,
                        "remaining_time": 0.7504664941,
                        "test": [
                          0.0000172103697
                        ]
                      },
                      {
                        "learn": [
                          0.00001613698205
                        ],
                        "iteration": 969,
                        "passed_time": 23.46505712,
                        "remaining_time": 0.7257234161,
                        "test": [
                          0.00001719852694
                        ]
                      },
                      {
                        "learn": [
                          0.00001612668399
                        ],
                        "iteration": 970,
                        "passed_time": 23.47174324,
                        "remaining_time": 0.7010098392,
                        "test": [
                          0.0000171930972
                        ]
                      },
                      {
                        "learn": [
                          0.00001611156881
                        ],
                        "iteration": 971,
                        "passed_time": 23.47828943,
                        "remaining_time": 0.6763293251,
                        "test": [
                          0.00001717629772
                        ]
                      },
                      {
                        "learn": [
                          0.00001610122888
                        ],
                        "iteration": 972,
                        "passed_time": 23.48605349,
                        "remaining_time": 0.6517198811,
                        "test": [
                          0.00001716612994
                        ]
                      },
                      {
                        "learn": [
                          0.0000160908843
                        ],
                        "iteration": 973,
                        "passed_time": 23.49271424,
                        "remaining_time": 0.6271155752,
                        "test": [
                          0.00001715596216
                        ]
                      },
                      {
                        "learn": [
                          0.00001596173366
                        ],
                        "iteration": 974,
                        "passed_time": 23.49936376,
                        "remaining_time": 0.6025477887,
                        "test": [
                          0.00001702550411
                        ]
                      },
                      {
                        "learn": [
                          0.0000159513379
                        ],
                        "iteration": 975,
                        "passed_time": 23.50599379,
                        "remaining_time": 0.5780162407,
                        "test": [
                          0.00001701532237
                        ]
                      },
                      {
                        "learn": [
                          0.00001594118873
                        ],
                        "iteration": 976,
                        "passed_time": 23.51264476,
                        "remaining_time": 0.5535218316,
                        "test": [
                          0.00001700367347
                        ]
                      },
                      {
                        "learn": [
                          0.00001593094341
                        ],
                        "iteration": 977,
                        "passed_time": 23.51929938,
                        "remaining_time": 0.5290639943,
                        "test": [
                          0.00001699191601
                        ]
                      },
                      {
                        "learn": [
                          0.00001591614926
                        ],
                        "iteration": 978,
                        "passed_time": 23.52587848,
                        "remaining_time": 0.5046409071,
                        "test": [
                          0.00001697552132
                        ]
                      },
                      {
                        "learn": [
                          0.00001590595512
                        ],
                        "iteration": 979,
                        "passed_time": 23.5325898,
                        "remaining_time": 0.4802569348,
                        "test": [
                          0.00001696396393
                        ]
                      },
                      {
                        "learn": [
                          0.00001589580595
                        ],
                        "iteration": 980,
                        "passed_time": 23.53919798,
                        "remaining_time": 0.4559069946,
                        "test": [
                          0.0000169525151
                        ]
                      },
                      {
                        "learn": [
                          0.00001588106143
                        ],
                        "iteration": 981,
                        "passed_time": 23.54577227,
                        "remaining_time": 0.4315925671,
                        "test": [
                          0.00001693630807
                        ]
                      },
                      {
                        "learn": [
                          0.000015872077
                        ],
                        "iteration": 982,
                        "passed_time": 23.55251958,
                        "remaining_time": 0.4073172258,
                        "test": [
                          0.00001692603483
                        ]
                      },
                      {
                        "learn": [
                          0.00001586192628
                        ],
                        "iteration": 983,
                        "passed_time": 23.55920153,
                        "remaining_time": 0.3830764476,
                        "test": [
                          0.00001691478916
                        ]
                      },
                      {
                        "learn": [
                          0.00001585180038
                        ],
                        "iteration": 984,
                        "passed_time": 23.56588705,
                        "remaining_time": 0.3588713764,
                        "test": [
                          0.00001690471444
                        ]
                      },
                      {
                        "learn": [
                          0.00001583718458
                        ],
                        "iteration": 985,
                        "passed_time": 23.57243138,
                        "remaining_time": 0.3346998371,
                        "test": [
                          0.00001688861287
                        ]
                      },
                      {
                        "learn": [
                          0.00001582713312
                        ],
                        "iteration": 986,
                        "passed_time": 23.60022389,
                        "remaining_time": 0.310843881,
                        "test": [
                          0.00001687853815
                        ]
                      },
                      {
                        "learn": [
                          0.00001581710648
                        ],
                        "iteration": 987,
                        "passed_time": 23.61659225,
                        "remaining_time": 0.2868412014,
                        "test": [
                          0.00001686878757
                        ]
                      },
                      {
                        "learn": [
                          0.00001580718374
                        ],
                        "iteration": 988,
                        "passed_time": 23.62328382,
                        "remaining_time": 0.2627463317,
                        "test": [
                          0.00001685731392
                        ]
                      },
                      {
                        "learn": [
                          0.000015795113
                        ],
                        "iteration": 989,
                        "passed_time": 23.63146258,
                        "remaining_time": 0.2387016422,
                        "test": [
                          0.00001684298815
                        ]
                      },
                      {
                        "learn": [
                          0.00001578258783
                        ],
                        "iteration": 990,
                        "passed_time": 23.6381356,
                        "remaining_time": 0.2146752981,
                        "test": [
                          0.00001682837235
                        ]
                      },
                      {
                        "learn": [
                          0.00001577051398
                        ],
                        "iteration": 991,
                        "passed_time": 23.64475211,
                        "remaining_time": 0.1906834848,
                        "test": [
                          0.00001681384962
                        ]
                      },
                      {
                        "learn": [
                          0.00001576066104
                        ],
                        "iteration": 992,
                        "passed_time": 23.6514915,
                        "remaining_time": 0.1667275332,
                        "test": [
                          0.00001680277921
                        ]
                      },
                      {
                        "learn": [
                          0.00001575075847
                        ],
                        "iteration": 993,
                        "passed_time": 23.65834815,
                        "remaining_time": 0.1428069305,
                        "test": [
                          0.00001679141723
                        ]
                      },
                      {
                        "learn": [
                          0.0000157363598
                        ],
                        "iteration": 994,
                        "passed_time": 23.66490341,
                        "remaining_time": 0.1189191126,
                        "test": [
                          0.00001677551728
                        ]
                      },
                      {
                        "learn": [
                          0.00001572920234
                        ],
                        "iteration": 995,
                        "passed_time": 23.67166849,
                        "remaining_time": 0.09506694173,
                        "test": [
                          0.00001677423467
                        ]
                      },
                      {
                        "learn": [
                          0.00001571742162
                        ],
                        "iteration": 996,
                        "passed_time": 23.67829991,
                        "remaining_time": 0.07124864566,
                        "test": [
                          0.00001676011207
                        ]
                      },
                      {
                        "learn": [
                          0.00001570309274
                        ],
                        "iteration": 997,
                        "passed_time": 23.68486851,
                        "remaining_time": 0.04746466635,
                        "test": [
                          0.00001674430363
                        ]
                      },
                      {
                        "learn": [
                          0.00001569329253
                        ],
                        "iteration": 998,
                        "passed_time": 23.69157303,
                        "remaining_time": 0.02371528832,
                        "test": [
                          0.00001673323942
                        ]
                      },
                      {
                        "learn": [
                          0.00001568351713
                        ],
                        "iteration": 999,
                        "passed_time": 23.69815304,
                        "remaining_time": 0,
                        "test": [
                          0.00001672355863
                        ]
                      }
                    ],
                    "meta": {
                      "test_sets": [
                        "test"
                      ],
                      "test_metrics": [
                        {
                          "best_value": "Min",
                          "name": "MultiClass"
                        }
                      ],
                      "learn_metrics": [
                        {
                          "best_value": "Min",
                          "name": "MultiClass"
                        }
                      ],
                      "launch_mode": "Train",
                      "parameters": "",
                      "iteration_count": 1000,
                      "learn_sets": [
                        "learn"
                      ],
                      "name": "experiment"
                    }
                  }
                }
              }
            },
            "layout": "IPY_MODEL_0fb6757d9d1d41369e54f1155b894e2d"
          }
        }
      }
    }
  },
  "cells": [
    {
      "cell_type": "markdown",
      "metadata": {
        "id": "view-in-github",
        "colab_type": "text"
      },
      "source": [
        "<a href=\"https://colab.research.google.com/github/Yanina-Kutovaya/GNN/blob/main/notebooks/5_1_CatBoost.ipynb\" target=\"_parent\"><img src=\"https://colab.research.google.com/assets/colab-badge.svg\" alt=\"Open In Colab\"/></a>"
      ]
    },
    {
      "cell_type": "markdown",
      "source": [
        "# Реализация CatBoostClassifier с использованием GPU (CUDA 12.5) для классификации узлов на датасете Bitcoin-OTC\n",
        "\n",
        "Задача — предсказать \"уровень доверия\" пользователей\n",
        "\n",
        "Признаки узлов/рёбер - синтетические"
      ],
      "metadata": {
        "id": "YCOQl0-4rgpv"
      }
    },
    {
      "cell_type": "markdown",
      "source": [
        "Небходимо выбрать среду выполнения с GPU: Среда выполнения → Сменить среду выполнения → Графический процессор T4"
      ],
      "metadata": {
        "id": "dE5Com4Fr4PG"
      }
    },
    {
      "cell_type": "markdown",
      "source": [
        "## 1. Установка зависимостей"
      ],
      "metadata": {
        "id": "5hgp6VWTshjH"
      }
    },
    {
      "cell_type": "markdown",
      "source": [
        "Требования:\n",
        "- CatBoost ≥1.2.2\n",
        "- PyTorch Geometric для загрузки данных\n"
      ],
      "metadata": {
        "id": "2_ESRcv8srxJ"
      }
    },
    {
      "cell_type": "markdown",
      "source": [
        "* CatBoost автоматически использует доступные GPU через CUDA, явная установка CUDA 12.5 не требуется"
      ],
      "metadata": {
        "id": "dwH_a7CotLHY"
      }
    },
    {
      "cell_type": "code",
      "source": [
        "install = True\n",
        "if install:\n",
        "  !pip install -q catboost\n",
        "  !pip install -q torch-geometric"
      ],
      "metadata": {
        "id": "syNkpHxOr0o5"
      },
      "execution_count": 1,
      "outputs": []
    },
    {
      "cell_type": "code",
      "source": [
        "from google.colab import output\n",
        "output.disable_custom_widget_manager()"
      ],
      "metadata": {
        "id": "o_R7X6z6ubi0"
      },
      "execution_count": 2,
      "outputs": []
    },
    {
      "cell_type": "markdown",
      "source": [
        "## 2. Импорт библиотек"
      ],
      "metadata": {
        "id": "ozuwHyaWsB-5"
      }
    },
    {
      "cell_type": "code",
      "source": [
        "import numpy as np\n",
        "import pandas as pd\n",
        "from catboost import CatBoostClassifier, Pool\n",
        "from torch_geometric.datasets import BitcoinOTC\n",
        "from sklearn.model_selection import train_test_split\n",
        "from sklearn.metrics import classification_report"
      ],
      "metadata": {
        "id": "wllZ2lz2tUEZ"
      },
      "execution_count": 3,
      "outputs": []
    },
    {
      "cell_type": "markdown",
      "source": [
        "## 3. Загрузка данных"
      ],
      "metadata": {
        "id": "HRF04tYPxl_7"
      }
    },
    {
      "cell_type": "code",
      "source": [
        "dataset = BitcoinOTC(root='/tmp/BitcoinOTC')\n",
        "data = dataset[0]"
      ],
      "metadata": {
        "id": "V8wKGX0ltWRC"
      },
      "execution_count": 4,
      "outputs": []
    },
    {
      "cell_type": "markdown",
      "source": [
        "## 4. Создание признаков узлов с учётом рёбер"
      ],
      "metadata": {
        "id": "KDJSrnVsxuq1"
      }
    },
    {
      "cell_type": "code",
      "source": [
        "def create_node_features(data):\n",
        "    num_nodes = data.num_nodes\n",
        "    features = []\n",
        "\n",
        "    # Степень узлов\n",
        "    degrees = np.zeros(num_nodes)\n",
        "    for src in data.edge_index[0].unique().cpu().numpy():\n",
        "        degrees[src] = (data.edge_index[0].cpu().numpy() == src).sum()\n",
        "\n",
        "    # Статистики по рёбрам\n",
        "    edge_attrs = [[] for _ in range(num_nodes)]\n",
        "    for i in range(data.edge_index.size(1)):\n",
        "        src = data.edge_index[0, i].item()\n",
        "        attr = data.edge_attr[i].item()\n",
        "        edge_attrs[src].append(attr)\n",
        "\n",
        "    # Создание фичей\n",
        "    for node_id in range(num_nodes):\n",
        "        node_feats = [\n",
        "            degrees[node_id],  # Степень узла\n",
        "            np.mean(edge_attrs[node_id]) if edge_attrs[node_id] else 0,  # Среднее значение рёбер\n",
        "            np.max(edge_attrs[node_id]) if edge_attrs[node_id] else 0,   # Максимум\n",
        "            np.min(edge_attrs[node_id]) if edge_attrs[node_id] else 0,   # Минимум\n",
        "            len(edge_attrs[node_id])                                      # Количество рёбер\n",
        "        ]\n",
        "        features.append(node_feats)\n",
        "\n",
        "    return np.array(features)"
      ],
      "metadata": {
        "id": "cEa_9JUvtXqZ"
      },
      "execution_count": 5,
      "outputs": []
    },
    {
      "cell_type": "markdown",
      "source": [
        "## 5. Подготовка данных"
      ],
      "metadata": {
        "id": "N3tBESn5x1bB"
      }
    },
    {
      "cell_type": "code",
      "source": [
        "X = create_node_features(data)\n",
        "X"
      ],
      "metadata": {
        "colab": {
          "base_uri": "https://localhost:8080/"
        },
        "id": "63tjiuFEp58V",
        "outputId": "7e5a95a0-e035-49c2-d61a-7aaa35c76ad1"
      },
      "execution_count": 6,
      "outputs": [
        {
          "output_type": "execute_result",
          "data": {
            "text/plain": [
              "array([[2. , 2.5, 4. , 1. , 2. ],\n",
              "       [3. , 5. , 5. , 5. , 3. ],\n",
              "       [0. , 0. , 0. , 0. , 0. ],\n",
              "       ...,\n",
              "       [0. , 0. , 0. , 0. , 0. ],\n",
              "       [0. , 0. , 0. , 0. , 0. ],\n",
              "       [0. , 0. , 0. , 0. , 0. ]])"
            ]
          },
          "metadata": {},
          "execution_count": 6
        }
      ]
    },
    {
      "cell_type": "code",
      "source": [
        "y = np.zeros(data.num_nodes)\n",
        "\n",
        "# Создание меток (3 класса)\n",
        "q1 = np.quantile(X[:, 0], 0.5)\n",
        "q2 = np.quantile(X[:, 0], 0.999)\n",
        "y[X[:, 0] > q2] = 2\n",
        "y[(X[:, 0] > q1) & (X[:, 0] <= q2)] = 1"
      ],
      "metadata": {
        "id": "lbVFWlgjtbez"
      },
      "execution_count": 7,
      "outputs": []
    },
    {
      "cell_type": "markdown",
      "source": [
        "## 6. Разделение данных"
      ],
      "metadata": {
        "id": "p7oQxlCzx6QZ"
      }
    },
    {
      "cell_type": "code",
      "source": [
        "X_train, X_test, y_train, y_test = train_test_split(\n",
        "    X, y,\n",
        "    test_size=0.2,\n",
        "    stratify=y,\n",
        "    random_state=42\n",
        ")"
      ],
      "metadata": {
        "id": "vIC2EBNKthNL"
      },
      "execution_count": 8,
      "outputs": []
    },
    {
      "cell_type": "markdown",
      "source": [
        "## 7. Создание CatBoost модели с GPU"
      ],
      "metadata": {
        "id": "6hA_2K_Lx-r1"
      }
    },
    {
      "cell_type": "code",
      "source": [
        "model = CatBoostClassifier(\n",
        "    iterations=1000,\n",
        "    learning_rate=0.1,\n",
        "    depth=8,\n",
        "    loss_function='MultiClass',\n",
        "    task_type='GPU',  # Включение GPU\n",
        "    devices='0:1',    # Использование первого GPU\n",
        "    verbose=100,\n",
        "    early_stopping_rounds=50\n",
        ")"
      ],
      "metadata": {
        "id": "_zQpjgzitizP"
      },
      "execution_count": 9,
      "outputs": []
    },
    {
      "cell_type": "markdown",
      "source": [
        "## 8. Обучение"
      ],
      "metadata": {
        "id": "9rCWtMJVyDp7"
      }
    },
    {
      "cell_type": "code",
      "source": [
        "model.fit(\n",
        "    X_train, y_train,\n",
        "    eval_set=(X_test, y_test),\n",
        "    plot=True\n",
        ")"
      ],
      "metadata": {
        "colab": {
          "base_uri": "https://localhost:8080/",
          "height": 260,
          "referenced_widgets": [
            "461c4da0ba5447bdb24259efe374ecc8"
          ]
        },
        "id": "3Gt9avFytk6w",
        "outputId": "5ff4b557-3072-4b86-98be-6d51caecc068"
      },
      "execution_count": 10,
      "outputs": [
        {
          "output_type": "display_data",
          "data": {
            "text/plain": [
              "MetricVisualizer(layout=Layout(align_self='stretch', height='500px'))"
            ],
            "application/vnd.jupyter.widget-view+json": {
              "version_major": 2,
              "version_minor": 0,
              "model_id": "461c4da0ba5447bdb24259efe374ecc8"
            }
          },
          "metadata": {}
        },
        {
          "output_type": "stream",
          "name": "stdout",
          "text": [
            "0:\tlearn: 0.9095124\ttest: 0.9095340\tbest: 0.9095340 (0)\ttotal: 63.6ms\tremaining: 1m 3s\n",
            "100:\tlearn: 0.0003873\ttest: 0.0004006\tbest: 0.0004006 (100)\ttotal: 1.24s\tremaining: 11s\n",
            "200:\tlearn: 0.0001093\ttest: 0.0001147\tbest: 0.0001147 (200)\ttotal: 4.01s\tremaining: 16s\n",
            "300:\tlearn: 0.0000632\ttest: 0.0000669\tbest: 0.0000669 (300)\ttotal: 7.93s\tremaining: 18.4s\n",
            "400:\tlearn: 0.0000442\ttest: 0.0000471\tbest: 0.0000471 (400)\ttotal: 13.2s\tremaining: 19.8s\n",
            "500:\tlearn: 0.0000340\ttest: 0.0000362\tbest: 0.0000362 (500)\ttotal: 16.9s\tremaining: 16.9s\n",
            "600:\tlearn: 0.0000275\ttest: 0.0000293\tbest: 0.0000293 (600)\ttotal: 18s\tremaining: 12s\n",
            "700:\tlearn: 0.0000231\ttest: 0.0000246\tbest: 0.0000246 (700)\ttotal: 19.5s\tremaining: 8.31s\n",
            "800:\tlearn: 0.0000199\ttest: 0.0000212\tbest: 0.0000212 (800)\ttotal: 20.7s\tremaining: 5.14s\n",
            "900:\tlearn: 0.0000174\ttest: 0.0000186\tbest: 0.0000186 (900)\ttotal: 22.9s\tremaining: 2.52s\n",
            "999:\tlearn: 0.0000157\ttest: 0.0000167\tbest: 0.0000167 (999)\ttotal: 23.7s\tremaining: 0us\n",
            "bestTest = 1.672355863e-05\n",
            "bestIteration = 999\n"
          ]
        },
        {
          "output_type": "execute_result",
          "data": {
            "text/plain": [
              "<catboost.core.CatBoostClassifier at 0x7c016fbab690>"
            ]
          },
          "metadata": {},
          "execution_count": 10
        }
      ]
    },
    {
      "cell_type": "markdown",
      "source": [
        "## 9. Оценка"
      ],
      "metadata": {
        "id": "Y1Um4P5GyK05"
      }
    },
    {
      "cell_type": "code",
      "source": [
        "y_pred = model.predict(X_test)\n",
        "print(classification_report(y_test, y_pred, labels=[0, 1, 2]))"
      ],
      "metadata": {
        "colab": {
          "base_uri": "https://localhost:8080/"
        },
        "id": "KgEKu4uuty6F",
        "outputId": "fe8d277f-334e-4bf9-a334-8203ac963ea8"
      },
      "execution_count": 11,
      "outputs": [
        {
          "output_type": "stream",
          "name": "stdout",
          "text": [
            "              precision    recall  f1-score   support\n",
            "\n",
            "           0       1.00      1.00      1.00      1198\n",
            "           1       1.00      1.00      1.00         2\n",
            "           2       1.00      1.00      1.00         1\n",
            "\n",
            "    accuracy                           1.00      1201\n",
            "   macro avg       1.00      1.00      1.00      1201\n",
            "weighted avg       1.00      1.00      1.00      1201\n",
            "\n"
          ]
        }
      ]
    },
    {
      "cell_type": "markdown",
      "source": [
        "## 10. Важность признаков"
      ],
      "metadata": {
        "id": "6EXQ93LVyPSR"
      }
    },
    {
      "cell_type": "code",
      "source": [
        "feature_names = ['Degree', 'EdgeMean', 'EdgeMax', 'EdgeMin', 'EdgeCount']\n",
        "print(\"\\nFeature Importance:\")\n",
        "for name, score in zip(feature_names, model.get_feature_importance()):\n",
        "    print(f\"{name}: {score:.2f}\")"
      ],
      "metadata": {
        "colab": {
          "base_uri": "https://localhost:8080/"
        },
        "id": "5p5L1DUvsKws",
        "outputId": "250ea6d1-aa7e-4296-90ff-457036393d7b"
      },
      "execution_count": 12,
      "outputs": [
        {
          "output_type": "stream",
          "name": "stdout",
          "text": [
            "\n",
            "Feature Importance:\n",
            "Degree: 67.99\n",
            "EdgeMean: 3.97\n",
            "EdgeMax: 2.63\n",
            "EdgeMin: 0.01\n",
            "EdgeCount: 25.41\n"
          ]
        }
      ]
    },
    {
      "cell_type": "markdown",
      "source": [
        "## 11. Сохранение модели"
      ],
      "metadata": {
        "id": "3xXSoaINrwI9"
      }
    },
    {
      "cell_type": "code",
      "source": [
        "model.save_model('catboost_model.cbm')"
      ],
      "metadata": {
        "id": "_1WjdzZYrVtq"
      },
      "execution_count": 13,
      "outputs": []
    },
    {
      "cell_type": "markdown",
      "source": [
        "## 12. Загрузка модели"
      ],
      "metadata": {
        "id": "w2jSGq9br_D5"
      }
    },
    {
      "cell_type": "code",
      "source": [
        "loaded_model = CatBoostClassifier()\n",
        "loaded_model.load_model('catboost_model.cbm')"
      ],
      "metadata": {
        "colab": {
          "base_uri": "https://localhost:8080/"
        },
        "id": "anX3Sw_crcet",
        "outputId": "4e1c1c79-5f45-431e-b58b-8fcde7c3312d"
      },
      "execution_count": 14,
      "outputs": [
        {
          "output_type": "execute_result",
          "data": {
            "text/plain": [
              "<catboost.core.CatBoostClassifier at 0x7c006e27c310>"
            ]
          },
          "metadata": {},
          "execution_count": 14
        }
      ]
    },
    {
      "cell_type": "markdown",
      "source": [
        "y_pred = loaded_model.predict(X_test)\n",
        "print(classification_report(y_test, y_pred, labels=[0, 1, 2]))"
      ],
      "metadata": {
        "id": "eVD6fffSriNn"
      }
    }
  ]
}