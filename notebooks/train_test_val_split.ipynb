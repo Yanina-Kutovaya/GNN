{
  "nbformat": 4,
  "nbformat_minor": 0,
  "metadata": {
    "colab": {
      "provenance": [],
      "gpuType": "T4",
      "authorship_tag": "ABX9TyN7igShKemw4rqjFeOULRgu",
      "include_colab_link": true
    },
    "kernelspec": {
      "name": "python3",
      "display_name": "Python 3"
    },
    "language_info": {
      "name": "python"
    },
    "accelerator": "GPU"
  },
  "cells": [
    {
      "cell_type": "markdown",
      "metadata": {
        "id": "view-in-github",
        "colab_type": "text"
      },
      "source": [
        "<a href=\"https://colab.research.google.com/github/Yanina-Kutovaya/GNN/blob/main/notebooks/train_test_val_split.ipynb\" target=\"_parent\"><img src=\"https://colab.research.google.com/assets/colab-badge.svg\" alt=\"Open In Colab\"/></a>"
      ]
    },
    {
      "cell_type": "markdown",
      "source": [
        "# Функция train_test_val_split для обучения графовых моделей"
      ],
      "metadata": {
        "id": "p5ENW221cGIc"
      }
    },
    {
      "cell_type": "markdown",
      "source": [
        "## Что делает функция:\n",
        "- принимает объект ```Data``` из PyTorch Geometric,\n",
        "- разбивает индексы на обучающую, валидационную и тестовую выборки  с учетом баланса классов (стратификация) без использования ```sklearn```,\n",
        "- создаёт соответствующие булевы маски и добавляет их в объект ```Data```,\n",
        "- позволяет задать seed для воспроизводимости,\n",
        "- поддерживает логирование,\n",
        "- осуществляет подсчет количества узлов каждого класса в ```train```, ```val```, ```test``` и сохраняет эту статистику в CSV-файл для отслеживания баланса классов после стратификации,\n",
        "- дает возможность указать путь для сохранения файла,\n",
        "- проводит проверку распределения классов и логирование общего баланса классов.\n",
        "- предупреждает, если какой-то класс составляет больше, чем ```threshold``` от всех данных (доминирующий класс),\n",
        "- предупреждает, если какой-то класс имеет меньше, чем ```min_samples``` примеров (малочисленный класс ).\n",
        "\n"
      ],
      "metadata": {
        "id": "GGlkH62LdKw2"
      }
    },
    {
      "cell_type": "markdown",
      "source": [
        "## 1. Установка зависимостей"
      ],
      "metadata": {
        "id": "HqrwEiHUzlcl"
      }
    },
    {
      "cell_type": "code",
      "source": [
        "!nvcc --version"
      ],
      "metadata": {
        "colab": {
          "base_uri": "https://localhost:8080/"
        },
        "id": "YayGX2agb3KE",
        "outputId": "84b7a7c8-b987-47e4-a4b1-59d8c40611fc"
      },
      "execution_count": 1,
      "outputs": [
        {
          "output_type": "stream",
          "name": "stdout",
          "text": [
            "nvcc: NVIDIA (R) Cuda compiler driver\n",
            "Copyright (c) 2005-2024 NVIDIA Corporation\n",
            "Built on Thu_Jun__6_02:18:23_PDT_2024\n",
            "Cuda compilation tools, release 12.5, V12.5.82\n",
            "Build cuda_12.5.r12.5/compiler.34385749_0\n"
          ]
        }
      ]
    },
    {
      "cell_type": "code",
      "source": [
        "install = True\n",
        "if install:\n",
        "  # 1. Установка совместимых версий PyTorch и PyG\n",
        "  !pip install -q torch==2.3.0+cu121 torchvision==0.18.0+cu121 torchaudio==2.3.0+cu121 --extra-index-url https://download.pytorch.org/whl/cu121\n",
        "\n",
        "  # 2. Установка зависимостей PyG для CUDA 12.1+ (совместимо с 12.5)\n",
        "  !pip install -q pyg-lib torch-scatter torch-sparse torch-cluster torch-spline-conv -f https://data.pyg.org/whl/torch-2.3.0+cu121.html --no-cache-dir\n",
        "\n",
        "  # 3. Установка PyTorch Geometric\n",
        "  !pip install -q torch-geometric==2.5.3"
      ],
      "metadata": {
        "colab": {
          "base_uri": "https://localhost:8080/"
        },
        "id": "bNeR9zTJb5bn",
        "outputId": "84d69ebf-7e4b-4d55-a364-2cbab68e1a0e"
      },
      "execution_count": 2,
      "outputs": [
        {
          "output_type": "stream",
          "name": "stdout",
          "text": [
            "\u001b[2K     \u001b[90m━━━━━━━━━━━━━━━━━━━━━━━━━━━━━━━━━━━━━━━\u001b[0m \u001b[32m781.0/781.0 MB\u001b[0m \u001b[31m2.3 MB/s\u001b[0m eta \u001b[36m0:00:00\u001b[0m\n",
            "\u001b[2K     \u001b[90m━━━━━━━━━━━━━━━━━━━━━━━━━━━━━━━━━━━━━━━━\u001b[0m \u001b[32m7.0/7.0 MB\u001b[0m \u001b[31m30.3 MB/s\u001b[0m eta \u001b[36m0:00:00\u001b[0m\n",
            "\u001b[2K     \u001b[90m━━━━━━━━━━━━━━━━━━━━━━━━━━━━━━━━━━━━━━━━\u001b[0m \u001b[32m3.4/3.4 MB\u001b[0m \u001b[31m17.7 MB/s\u001b[0m eta \u001b[36m0:00:00\u001b[0m\n",
            "\u001b[2K     \u001b[90m━━━━━━━━━━━━━━━━━━━━━━━━━━━━━━━━━━━━━━━━\u001b[0m \u001b[32m23.7/23.7 MB\u001b[0m \u001b[31m87.6 MB/s\u001b[0m eta \u001b[36m0:00:00\u001b[0m\n",
            "\u001b[2K     \u001b[90m━━━━━━━━━━━━━━━━━━━━━━━━━━━━━━━━━━━━━━\u001b[0m \u001b[32m823.6/823.6 kB\u001b[0m \u001b[31m53.7 MB/s\u001b[0m eta \u001b[36m0:00:00\u001b[0m\n",
            "\u001b[2K     \u001b[90m━━━━━━━━━━━━━━━━━━━━━━━━━━━━━━━━━━━━━━━\u001b[0m \u001b[32m14.1/14.1 MB\u001b[0m \u001b[31m111.7 MB/s\u001b[0m eta \u001b[36m0:00:00\u001b[0m\n",
            "\u001b[2K     \u001b[90m━━━━━━━━━━━━━━━━━━━━━━━━━━━━━━━━━━━━━━━\u001b[0m \u001b[32m731.7/731.7 MB\u001b[0m \u001b[31m1.9 MB/s\u001b[0m eta \u001b[36m0:00:00\u001b[0m\n",
            "\u001b[2K     \u001b[90m━━━━━━━━━━━━━━━━━━━━━━━━━━━━━━━━━━━━━━━\u001b[0m \u001b[32m410.6/410.6 MB\u001b[0m \u001b[31m3.0 MB/s\u001b[0m eta \u001b[36m0:00:00\u001b[0m\n",
            "\u001b[2K     \u001b[90m━━━━━━━━━━━━━━━━━━━━━━━━━━━━━━━━━━━━━━━\u001b[0m \u001b[32m121.6/121.6 MB\u001b[0m \u001b[31m7.6 MB/s\u001b[0m eta \u001b[36m0:00:00\u001b[0m\n",
            "\u001b[2K     \u001b[90m━━━━━━━━━━━━━━━━━━━━━━━━━━━━━━━━━━━━━━━━\u001b[0m \u001b[32m56.5/56.5 MB\u001b[0m \u001b[31m11.4 MB/s\u001b[0m eta \u001b[36m0:00:00\u001b[0m\n",
            "\u001b[2K     \u001b[90m━━━━━━━━━━━━━━━━━━━━━━━━━━━━━━━━━━━━━━━\u001b[0m \u001b[32m124.2/124.2 MB\u001b[0m \u001b[31m7.7 MB/s\u001b[0m eta \u001b[36m0:00:00\u001b[0m\n",
            "\u001b[2K     \u001b[90m━━━━━━━━━━━━━━━━━━━━━━━━━━━━━━━━━━━━━━━\u001b[0m \u001b[32m196.0/196.0 MB\u001b[0m \u001b[31m6.9 MB/s\u001b[0m eta \u001b[36m0:00:00\u001b[0m\n",
            "\u001b[2K     \u001b[90m━━━━━━━━━━━━━━━━━━━━━━━━━━━━━━━━━━━━━━━\u001b[0m \u001b[32m176.2/176.2 MB\u001b[0m \u001b[31m6.5 MB/s\u001b[0m eta \u001b[36m0:00:00\u001b[0m\n",
            "\u001b[2K     \u001b[90m━━━━━━━━━━━━━━━━━━━━━━━━━━━━━━━━━━━━━━━━\u001b[0m \u001b[32m99.1/99.1 kB\u001b[0m \u001b[31m1.7 MB/s\u001b[0m eta \u001b[36m0:00:00\u001b[0m\n",
            "\u001b[2K     \u001b[90m━━━━━━━━━━━━━━━━━━━━━━━━━━━━━━━━━━━━━━━\u001b[0m \u001b[32m168.1/168.1 MB\u001b[0m \u001b[31m6.8 MB/s\u001b[0m eta \u001b[36m0:00:00\u001b[0m\n",
            "\u001b[2K     \u001b[90m━━━━━━━━━━━━━━━━━━━━━━━━━━━━━━━━━━━━━━━━\u001b[0m \u001b[32m2.5/2.5 MB\u001b[0m \u001b[31m25.7 MB/s\u001b[0m eta \u001b[36m0:00:00\u001b[0m\n",
            "\u001b[2K     \u001b[90m━━━━━━━━━━━━━━━━━━━━━━━━━━━━━━━━━━━━━━━━\u001b[0m \u001b[32m10.9/10.9 MB\u001b[0m \u001b[31m30.7 MB/s\u001b[0m eta \u001b[36m0:00:00\u001b[0m\n",
            "\u001b[2K     \u001b[90m━━━━━━━━━━━━━━━━━━━━━━━━━━━━━━━━━━━━━━━━\u001b[0m \u001b[32m5.1/5.1 MB\u001b[0m \u001b[31m9.2 MB/s\u001b[0m eta \u001b[36m0:00:00\u001b[0m\n",
            "\u001b[2K     \u001b[90m━━━━━━━━━━━━━━━━━━━━━━━━━━━━━━━━━━━━━━━━\u001b[0m \u001b[32m3.4/3.4 MB\u001b[0m \u001b[31m7.1 MB/s\u001b[0m eta \u001b[36m0:00:00\u001b[0m\n",
            "\u001b[2K     \u001b[90m━━━━━━━━━━━━━━━━━━━━━━━━━━━━━━━━━━━━━━\u001b[0m \u001b[32m950.4/950.4 kB\u001b[0m \u001b[31m20.0 MB/s\u001b[0m eta \u001b[36m0:00:00\u001b[0m\n",
            "\u001b[2K     \u001b[90m━━━━━━━━━━━━━━━━━━━━━━━━━━━━━━━━━━━━━━━━\u001b[0m \u001b[32m64.2/64.2 kB\u001b[0m \u001b[31m1.9 MB/s\u001b[0m eta \u001b[36m0:00:00\u001b[0m\n",
            "\u001b[2K   \u001b[90m━━━━━━━━━━━━━━━━━━━━━━━━━━━━━━━━━━━━━━━━\u001b[0m \u001b[32m1.1/1.1 MB\u001b[0m \u001b[31m18.7 MB/s\u001b[0m eta \u001b[36m0:00:00\u001b[0m\n",
            "\u001b[?25h"
          ]
        }
      ]
    },
    {
      "cell_type": "markdown",
      "source": [
        "__Проверка окружения:__"
      ],
      "metadata": {
        "id": "5j9FLrPgzpne"
      }
    },
    {
      "cell_type": "code",
      "source": [
        "import torch\n",
        "print(f\"PyTorch: {torch.__version__}\")          # Должно быть 2.3.0+cu121\n",
        "print(f\"CUDA: {torch.version.cuda}\")            # Должно быть 12.1+\n",
        "print(f\"Available: {torch.cuda.is_available()}\")# Должно быть True"
      ],
      "metadata": {
        "colab": {
          "base_uri": "https://localhost:8080/"
        },
        "id": "eNV_oRqXb6Dm",
        "outputId": "c53f5610-c359-47e1-a543-ea5587f8d457"
      },
      "execution_count": 3,
      "outputs": [
        {
          "output_type": "stream",
          "name": "stdout",
          "text": [
            "PyTorch: 2.3.0+cu121\n",
            "CUDA: 12.1\n",
            "Available: True\n"
          ]
        }
      ]
    },
    {
      "cell_type": "markdown",
      "source": [
        "## 2. Функция train_test_val_split"
      ],
      "metadata": {
        "id": "MT6HLlYxocJ9"
      }
    },
    {
      "cell_type": "code",
      "source": [
        "import numpy as np\n",
        "import torch\n",
        "import logging\n",
        "import csv\n",
        "import warnings\n",
        "from torch_geometric.data import Data\n",
        "from collections import defaultdict\n",
        "\n",
        "# Настройка логгера\n",
        "logger = logging.getLogger(__name__)\n",
        "if not logger.hasHandlers():\n",
        "    handler = logging.StreamHandler()\n",
        "    formatter = logging.Formatter('%(asctime)s - %(name)s - %(levelname)s - %(message)s')\n",
        "    handler.setFormatter(formatter)\n",
        "    logger.addHandler(handler)\n",
        "    logger.setLevel(logging.INFO)\n",
        "\n",
        "# Настройки для предупреждений\n",
        "warnings.simplefilter('always', UserWarning)\n",
        "\n",
        "\n",
        "def train_test_val_split(data: Data,\n",
        "                         train_ratio: float = 0.6,\n",
        "                         val_ratio: float = 0.2,\n",
        "                         test_ratio: float = 0.2,\n",
        "                         seed: int = 42,\n",
        "                         save_stats_path: str = None,\n",
        "                         imbalance_threshold: float = 0.8,\n",
        "                         min_class_samples: int = 5) -> Data:\n",
        "    \"\"\"\n",
        "    Разбивает данные на обучающую, валидационную и тестовую выборки\n",
        "    с **стратификацией по классам**, создаёт булевы маски и добавляет их в объект Data.\n",
        "\n",
        "    Параметры:\n",
        "        data (Data): Объект данных PyG с полем data.y (метки классов).\n",
        "        train_ratio (float): Доля обучающей выборки.\n",
        "        val_ratio (float): Доля валидационной выборки.\n",
        "        test_ratio (float): Доля тестовой выборки.\n",
        "        seed (int): Seed для воспроизводимости.\n",
        "        save_stats_path (str | None): Путь для сохранения статистики распределения классов в формате CSV.\n",
        "        imbalance_threshold (float): Доля, при превышении которой класс считается доминирующим (выдаётся warning).\n",
        "        min_class_samples (int): Минимальное количество элементов в классе, ниже которого будет warning.\n",
        "\n",
        "    Возвращает:\n",
        "        Data: Объект Data с добавленными масками train_mask, val_mask, test_mask.\n",
        "    \"\"\"\n",
        "    logger.info(\"Начало разделения данных на train/val/test с стратификацией\")\n",
        "\n",
        "    # Проверка корректности соотношений\n",
        "    assert abs(train_ratio + val_ratio + test_ratio - 1.0) < 1e-6, \\\n",
        "        \"Сумма долей train, val и test должна быть равна 1.\"\n",
        "    logger.debug(f\"Доли выборок: train={train_ratio}, val={val_ratio}, test={test_ratio}\")\n",
        "\n",
        "    # Устанавливаем фиксированный seed для воспроизводимости\n",
        "    np.random.seed(seed)\n",
        "    logger.debug(f\"Установлен seed={seed} для воспроизводимости\")\n",
        "\n",
        "    # Общее количество узлов\n",
        "    num_nodes = data.num_nodes\n",
        "    logger.info(f\"Общее количество узлов: {num_nodes}\")\n",
        "\n",
        "    # Проверяем наличие меток классов\n",
        "    if not hasattr(data, 'y'):\n",
        "        raise ValueError(\"Данные не содержат меток классов (data.y). \"\n",
        "                         \"Стратификация невозможна.\")\n",
        "    labels = data.y.numpy()\n",
        "\n",
        "    # Словарь: класс -> список индексов узлов этого класса\n",
        "    class_indices = {}\n",
        "    for idx in range(num_nodes):\n",
        "        label = labels[idx]\n",
        "        if label not in class_indices:\n",
        "            class_indices[label] = []\n",
        "        class_indices[label].append(idx)\n",
        "\n",
        "    logger.debug(f\"Количество уникальных классов: {len(class_indices)}\")\n",
        "    logger.debug(\"Распределение классов:\")\n",
        "    for cls, indices in class_indices.items():\n",
        "        logger.debug(f\"Класс {cls}: {len(indices)} узлов\")\n",
        "\n",
        "    # --- Проверка на дисбаланс классов ---\n",
        "    total = len(labels)\n",
        "    for cls, indices in class_indices.items():\n",
        "        count = len(indices)\n",
        "        ratio = count / total\n",
        "\n",
        "        if ratio > imbalance_threshold:\n",
        "            warn_msg = f\"Класс {cls} составляет {ratio:.2%} от всех данных — это больше порога {imbalance_threshold}. Возможен дисбаланс!\"\n",
        "            logger.warning(warn_msg)\n",
        "            warnings.warn(warn_msg, UserWarning)\n",
        "\n",
        "        if count < min_class_samples:\n",
        "            warn_msg = f\"Класс {cls} содержит всего {count} образцов — это меньше минимального порога {min_class_samples}.\"\n",
        "            logger.warning(warn_msg)\n",
        "            warnings.warn(warn_msg, UserWarning)\n",
        "\n",
        "    # Для каждого класса разбиваем индексы пропорционально\n",
        "    train_idx, val_idx, test_idx = [], [], []\n",
        "\n",
        "    for cls, indices in class_indices.items():\n",
        "        num_total = len(indices)\n",
        "        num_train = int(train_ratio * num_total)\n",
        "        num_val = int(val_ratio * num_total)\n",
        "\n",
        "        permuted = np.random.permutation(indices)\n",
        "        train_idx.extend(permuted[:num_train])\n",
        "        val_idx.extend(permuted[num_train:num_train + num_val])\n",
        "        test_idx.extend(permuted[num_train + num_val:])\n",
        "\n",
        "    logger.debug(f\"Количество элементов после стратификации: \"\n",
        "                 f\"train={len(train_idx)}, val={len(val_idx)}, test={len(test_idx)}\")\n",
        "\n",
        "    # Преобразуем в массивы numpy\n",
        "    train_idx = np.array(train_idx)\n",
        "    val_idx = np.array(val_idx)\n",
        "    test_idx = np.array(test_idx)\n",
        "\n",
        "    # Создаем булевы маски\n",
        "    train_mask = torch.zeros(num_nodes, dtype=torch.bool)\n",
        "    val_mask = torch.zeros(num_nodes, dtype=torch.bool)\n",
        "    test_mask = torch.zeros(num_nodes, dtype=torch.bool)\n",
        "\n",
        "    # Заполняем маски\n",
        "    train_mask[train_idx] = True\n",
        "    val_mask[val_idx] = True\n",
        "    test_mask[test_idx] = True\n",
        "\n",
        "    # Добавляем маски в объект Data\n",
        "    data.train_mask = train_mask\n",
        "    data.val_mask = val_mask\n",
        "    data.test_mask = test_mask\n",
        "\n",
        "    logger.info(\"Маски успешно созданы и добавлены в объект Data\")\n",
        "    logger.info(f\"Размеры масок: train={train_mask.sum().item()}, \"\n",
        "                f\"val={val_mask.sum().item()}, \"\n",
        "                f\"test={test_mask.sum().item()}\")\n",
        "\n",
        "    # --- Сохранение статистики ---\n",
        "    if save_stats_path:\n",
        "        stats = []\n",
        "\n",
        "        for cls in sorted(class_indices.keys()):\n",
        "            total_cls = len(class_indices[cls])\n",
        "            train_count = sum([1 for idx in class_indices[cls] if train_mask[idx]])\n",
        "            val_count = sum([1 for idx in class_indices[cls] if val_mask[idx]])\n",
        "            test_count = sum([1 for idx in class_indices[cls] if test_mask[idx]])\n",
        "\n",
        "            stats.append({\n",
        "                'class': cls,\n",
        "                'total': total_cls,\n",
        "                'train': train_count,\n",
        "                'val': val_count,\n",
        "                'test': test_count,\n",
        "                'train_ratio': round(train_count / total_cls, 2) if total_cls else 0,\n",
        "                'val_ratio': round(val_count / total_cls, 2) if total_cls else 0,\n",
        "                'test_ratio': round(test_count / total_cls, 2) if total_cls else 0,\n",
        "            })\n",
        "\n",
        "        with open(save_stats_path, mode='w', newline='', encoding='utf-8') as f:\n",
        "            writer = csv.DictWriter(f, fieldnames=stats[0].keys())\n",
        "            writer.writeheader()\n",
        "            writer.writerows(stats)\n",
        "\n",
        "        logger.info(f\"Статистика распределения классов сохранена в файл: {save_stats_path}\")\n",
        "\n",
        "    return data"
      ],
      "metadata": {
        "id": "TxNH-spJoboi"
      },
      "execution_count": 4,
      "outputs": []
    },
    {
      "cell_type": "markdown",
      "source": [
        "## 3. Пример использования:"
      ],
      "metadata": {
        "id": "0L3Yo2UGdBJu"
      }
    },
    {
      "cell_type": "markdown",
      "source": [
        "### 3.1. Загрузка данных"
      ],
      "metadata": {
        "id": "jJKc5cxt0lc6"
      }
    },
    {
      "cell_type": "code",
      "source": [
        "from torch_geometric.datasets import Planetoid\n",
        "\n",
        "dataset = Planetoid(root='/tmp/Cora', name='Cora')\n",
        "data = dataset[0]"
      ],
      "metadata": {
        "colab": {
          "base_uri": "https://localhost:8080/"
        },
        "id": "nyHmlt9UzEsX",
        "outputId": "780ceeaa-1e4e-4c8c-ed81-3a7437f8d290"
      },
      "execution_count": 5,
      "outputs": [
        {
          "output_type": "stream",
          "name": "stderr",
          "text": [
            "Downloading https://github.com/kimiyoung/planetoid/raw/master/data/ind.cora.x\n",
            "Downloading https://github.com/kimiyoung/planetoid/raw/master/data/ind.cora.tx\n",
            "Downloading https://github.com/kimiyoung/planetoid/raw/master/data/ind.cora.allx\n",
            "Downloading https://github.com/kimiyoung/planetoid/raw/master/data/ind.cora.y\n",
            "Downloading https://github.com/kimiyoung/planetoid/raw/master/data/ind.cora.ty\n",
            "Downloading https://github.com/kimiyoung/planetoid/raw/master/data/ind.cora.ally\n",
            "Downloading https://github.com/kimiyoung/planetoid/raw/master/data/ind.cora.graph\n",
            "Downloading https://github.com/kimiyoung/planetoid/raw/master/data/ind.cora.test.index\n",
            "Processing...\n",
            "Done!\n"
          ]
        }
      ]
    },
    {
      "cell_type": "markdown",
      "source": [
        "### 3.2. Пример вызова функции"
      ],
      "metadata": {
        "id": "d6iwEAuX0suJ"
      }
    },
    {
      "cell_type": "code",
      "source": [
        "data = train_test_val_split(\n",
        "    data,\n",
        "    train_ratio=0.6,\n",
        "    val_ratio=0.2,\n",
        "    test_ratio=0.2,\n",
        "    seed=42,\n",
        "    save_stats_path=\"class_distribution.csv\",\n",
        "    imbalance_threshold=0.7,\n",
        "    min_class_samples=3\n",
        ")"
      ],
      "metadata": {
        "id": "dKIw0ABqcYB6"
      },
      "execution_count": 6,
      "outputs": []
    },
    {
      "cell_type": "code",
      "source": [
        "print(\"Train mask size:\", data.train_mask.sum().item())\n",
        "print(\"Val mask size:\", data.val_mask.sum().item())\n",
        "print(\"Test mask size:\", data.test_mask.sum().item())"
      ],
      "metadata": {
        "colab": {
          "base_uri": "https://localhost:8080/"
        },
        "id": "LeLg3kkuyiOF",
        "outputId": "e9df6092-f7df-4d85-c7ed-c74b6a1684e1"
      },
      "execution_count": 7,
      "outputs": [
        {
          "output_type": "stream",
          "name": "stdout",
          "text": [
            "Train mask size: 1621\n",
            "Val mask size: 539\n",
            "Test mask size: 548\n"
          ]
        }
      ]
    },
    {
      "cell_type": "code",
      "source": [
        "import pandas as pd\n",
        "\n",
        "pd.read_csv('/content/class_distribution.csv')"
      ],
      "metadata": {
        "colab": {
          "base_uri": "https://localhost:8080/",
          "height": 269
        },
        "id": "TkqaimJl0EYN",
        "outputId": "79eca5e5-fc16-4597-8464-aba59b5d5deb"
      },
      "execution_count": 8,
      "outputs": [
        {
          "output_type": "execute_result",
          "data": {
            "text/plain": [
              "   class  total  train  val  test  train_ratio  val_ratio  test_ratio\n",
              "0      0    351    210   70    71          0.6        0.2         0.2\n",
              "1      1    217    130   43    44          0.6        0.2         0.2\n",
              "2      2    418    250   83    85          0.6        0.2         0.2\n",
              "3      3    818    490  163   165          0.6        0.2         0.2\n",
              "4      4    426    255   85    86          0.6        0.2         0.2\n",
              "5      5    298    178   59    61          0.6        0.2         0.2\n",
              "6      6    180    108   36    36          0.6        0.2         0.2"
            ],
            "text/html": [
              "\n",
              "  <div id=\"df-d6895744-7835-4cfa-a65c-8cb22b8c2e35\" class=\"colab-df-container\">\n",
              "    <div>\n",
              "<style scoped>\n",
              "    .dataframe tbody tr th:only-of-type {\n",
              "        vertical-align: middle;\n",
              "    }\n",
              "\n",
              "    .dataframe tbody tr th {\n",
              "        vertical-align: top;\n",
              "    }\n",
              "\n",
              "    .dataframe thead th {\n",
              "        text-align: right;\n",
              "    }\n",
              "</style>\n",
              "<table border=\"1\" class=\"dataframe\">\n",
              "  <thead>\n",
              "    <tr style=\"text-align: right;\">\n",
              "      <th></th>\n",
              "      <th>class</th>\n",
              "      <th>total</th>\n",
              "      <th>train</th>\n",
              "      <th>val</th>\n",
              "      <th>test</th>\n",
              "      <th>train_ratio</th>\n",
              "      <th>val_ratio</th>\n",
              "      <th>test_ratio</th>\n",
              "    </tr>\n",
              "  </thead>\n",
              "  <tbody>\n",
              "    <tr>\n",
              "      <th>0</th>\n",
              "      <td>0</td>\n",
              "      <td>351</td>\n",
              "      <td>210</td>\n",
              "      <td>70</td>\n",
              "      <td>71</td>\n",
              "      <td>0.6</td>\n",
              "      <td>0.2</td>\n",
              "      <td>0.2</td>\n",
              "    </tr>\n",
              "    <tr>\n",
              "      <th>1</th>\n",
              "      <td>1</td>\n",
              "      <td>217</td>\n",
              "      <td>130</td>\n",
              "      <td>43</td>\n",
              "      <td>44</td>\n",
              "      <td>0.6</td>\n",
              "      <td>0.2</td>\n",
              "      <td>0.2</td>\n",
              "    </tr>\n",
              "    <tr>\n",
              "      <th>2</th>\n",
              "      <td>2</td>\n",
              "      <td>418</td>\n",
              "      <td>250</td>\n",
              "      <td>83</td>\n",
              "      <td>85</td>\n",
              "      <td>0.6</td>\n",
              "      <td>0.2</td>\n",
              "      <td>0.2</td>\n",
              "    </tr>\n",
              "    <tr>\n",
              "      <th>3</th>\n",
              "      <td>3</td>\n",
              "      <td>818</td>\n",
              "      <td>490</td>\n",
              "      <td>163</td>\n",
              "      <td>165</td>\n",
              "      <td>0.6</td>\n",
              "      <td>0.2</td>\n",
              "      <td>0.2</td>\n",
              "    </tr>\n",
              "    <tr>\n",
              "      <th>4</th>\n",
              "      <td>4</td>\n",
              "      <td>426</td>\n",
              "      <td>255</td>\n",
              "      <td>85</td>\n",
              "      <td>86</td>\n",
              "      <td>0.6</td>\n",
              "      <td>0.2</td>\n",
              "      <td>0.2</td>\n",
              "    </tr>\n",
              "    <tr>\n",
              "      <th>5</th>\n",
              "      <td>5</td>\n",
              "      <td>298</td>\n",
              "      <td>178</td>\n",
              "      <td>59</td>\n",
              "      <td>61</td>\n",
              "      <td>0.6</td>\n",
              "      <td>0.2</td>\n",
              "      <td>0.2</td>\n",
              "    </tr>\n",
              "    <tr>\n",
              "      <th>6</th>\n",
              "      <td>6</td>\n",
              "      <td>180</td>\n",
              "      <td>108</td>\n",
              "      <td>36</td>\n",
              "      <td>36</td>\n",
              "      <td>0.6</td>\n",
              "      <td>0.2</td>\n",
              "      <td>0.2</td>\n",
              "    </tr>\n",
              "  </tbody>\n",
              "</table>\n",
              "</div>\n",
              "    <div class=\"colab-df-buttons\">\n",
              "\n",
              "  <div class=\"colab-df-container\">\n",
              "    <button class=\"colab-df-convert\" onclick=\"convertToInteractive('df-d6895744-7835-4cfa-a65c-8cb22b8c2e35')\"\n",
              "            title=\"Convert this dataframe to an interactive table.\"\n",
              "            style=\"display:none;\">\n",
              "\n",
              "  <svg xmlns=\"http://www.w3.org/2000/svg\" height=\"24px\" viewBox=\"0 -960 960 960\">\n",
              "    <path d=\"M120-120v-720h720v720H120Zm60-500h600v-160H180v160Zm220 220h160v-160H400v160Zm0 220h160v-160H400v160ZM180-400h160v-160H180v160Zm440 0h160v-160H620v160ZM180-180h160v-160H180v160Zm440 0h160v-160H620v160Z\"/>\n",
              "  </svg>\n",
              "    </button>\n",
              "\n",
              "  <style>\n",
              "    .colab-df-container {\n",
              "      display:flex;\n",
              "      gap: 12px;\n",
              "    }\n",
              "\n",
              "    .colab-df-convert {\n",
              "      background-color: #E8F0FE;\n",
              "      border: none;\n",
              "      border-radius: 50%;\n",
              "      cursor: pointer;\n",
              "      display: none;\n",
              "      fill: #1967D2;\n",
              "      height: 32px;\n",
              "      padding: 0 0 0 0;\n",
              "      width: 32px;\n",
              "    }\n",
              "\n",
              "    .colab-df-convert:hover {\n",
              "      background-color: #E2EBFA;\n",
              "      box-shadow: 0px 1px 2px rgba(60, 64, 67, 0.3), 0px 1px 3px 1px rgba(60, 64, 67, 0.15);\n",
              "      fill: #174EA6;\n",
              "    }\n",
              "\n",
              "    .colab-df-buttons div {\n",
              "      margin-bottom: 4px;\n",
              "    }\n",
              "\n",
              "    [theme=dark] .colab-df-convert {\n",
              "      background-color: #3B4455;\n",
              "      fill: #D2E3FC;\n",
              "    }\n",
              "\n",
              "    [theme=dark] .colab-df-convert:hover {\n",
              "      background-color: #434B5C;\n",
              "      box-shadow: 0px 1px 3px 1px rgba(0, 0, 0, 0.15);\n",
              "      filter: drop-shadow(0px 1px 2px rgba(0, 0, 0, 0.3));\n",
              "      fill: #FFFFFF;\n",
              "    }\n",
              "  </style>\n",
              "\n",
              "    <script>\n",
              "      const buttonEl =\n",
              "        document.querySelector('#df-d6895744-7835-4cfa-a65c-8cb22b8c2e35 button.colab-df-convert');\n",
              "      buttonEl.style.display =\n",
              "        google.colab.kernel.accessAllowed ? 'block' : 'none';\n",
              "\n",
              "      async function convertToInteractive(key) {\n",
              "        const element = document.querySelector('#df-d6895744-7835-4cfa-a65c-8cb22b8c2e35');\n",
              "        const dataTable =\n",
              "          await google.colab.kernel.invokeFunction('convertToInteractive',\n",
              "                                                    [key], {});\n",
              "        if (!dataTable) return;\n",
              "\n",
              "        const docLinkHtml = 'Like what you see? Visit the ' +\n",
              "          '<a target=\"_blank\" href=https://colab.research.google.com/notebooks/data_table.ipynb>data table notebook</a>'\n",
              "          + ' to learn more about interactive tables.';\n",
              "        element.innerHTML = '';\n",
              "        dataTable['output_type'] = 'display_data';\n",
              "        await google.colab.output.renderOutput(dataTable, element);\n",
              "        const docLink = document.createElement('div');\n",
              "        docLink.innerHTML = docLinkHtml;\n",
              "        element.appendChild(docLink);\n",
              "      }\n",
              "    </script>\n",
              "  </div>\n",
              "\n",
              "\n",
              "    <div id=\"df-450a4b5a-7241-4318-bf6e-c42c3696b499\">\n",
              "      <button class=\"colab-df-quickchart\" onclick=\"quickchart('df-450a4b5a-7241-4318-bf6e-c42c3696b499')\"\n",
              "                title=\"Suggest charts\"\n",
              "                style=\"display:none;\">\n",
              "\n",
              "<svg xmlns=\"http://www.w3.org/2000/svg\" height=\"24px\"viewBox=\"0 0 24 24\"\n",
              "     width=\"24px\">\n",
              "    <g>\n",
              "        <path d=\"M19 3H5c-1.1 0-2 .9-2 2v14c0 1.1.9 2 2 2h14c1.1 0 2-.9 2-2V5c0-1.1-.9-2-2-2zM9 17H7v-7h2v7zm4 0h-2V7h2v10zm4 0h-2v-4h2v4z\"/>\n",
              "    </g>\n",
              "</svg>\n",
              "      </button>\n",
              "\n",
              "<style>\n",
              "  .colab-df-quickchart {\n",
              "      --bg-color: #E8F0FE;\n",
              "      --fill-color: #1967D2;\n",
              "      --hover-bg-color: #E2EBFA;\n",
              "      --hover-fill-color: #174EA6;\n",
              "      --disabled-fill-color: #AAA;\n",
              "      --disabled-bg-color: #DDD;\n",
              "  }\n",
              "\n",
              "  [theme=dark] .colab-df-quickchart {\n",
              "      --bg-color: #3B4455;\n",
              "      --fill-color: #D2E3FC;\n",
              "      --hover-bg-color: #434B5C;\n",
              "      --hover-fill-color: #FFFFFF;\n",
              "      --disabled-bg-color: #3B4455;\n",
              "      --disabled-fill-color: #666;\n",
              "  }\n",
              "\n",
              "  .colab-df-quickchart {\n",
              "    background-color: var(--bg-color);\n",
              "    border: none;\n",
              "    border-radius: 50%;\n",
              "    cursor: pointer;\n",
              "    display: none;\n",
              "    fill: var(--fill-color);\n",
              "    height: 32px;\n",
              "    padding: 0;\n",
              "    width: 32px;\n",
              "  }\n",
              "\n",
              "  .colab-df-quickchart:hover {\n",
              "    background-color: var(--hover-bg-color);\n",
              "    box-shadow: 0 1px 2px rgba(60, 64, 67, 0.3), 0 1px 3px 1px rgba(60, 64, 67, 0.15);\n",
              "    fill: var(--button-hover-fill-color);\n",
              "  }\n",
              "\n",
              "  .colab-df-quickchart-complete:disabled,\n",
              "  .colab-df-quickchart-complete:disabled:hover {\n",
              "    background-color: var(--disabled-bg-color);\n",
              "    fill: var(--disabled-fill-color);\n",
              "    box-shadow: none;\n",
              "  }\n",
              "\n",
              "  .colab-df-spinner {\n",
              "    border: 2px solid var(--fill-color);\n",
              "    border-color: transparent;\n",
              "    border-bottom-color: var(--fill-color);\n",
              "    animation:\n",
              "      spin 1s steps(1) infinite;\n",
              "  }\n",
              "\n",
              "  @keyframes spin {\n",
              "    0% {\n",
              "      border-color: transparent;\n",
              "      border-bottom-color: var(--fill-color);\n",
              "      border-left-color: var(--fill-color);\n",
              "    }\n",
              "    20% {\n",
              "      border-color: transparent;\n",
              "      border-left-color: var(--fill-color);\n",
              "      border-top-color: var(--fill-color);\n",
              "    }\n",
              "    30% {\n",
              "      border-color: transparent;\n",
              "      border-left-color: var(--fill-color);\n",
              "      border-top-color: var(--fill-color);\n",
              "      border-right-color: var(--fill-color);\n",
              "    }\n",
              "    40% {\n",
              "      border-color: transparent;\n",
              "      border-right-color: var(--fill-color);\n",
              "      border-top-color: var(--fill-color);\n",
              "    }\n",
              "    60% {\n",
              "      border-color: transparent;\n",
              "      border-right-color: var(--fill-color);\n",
              "    }\n",
              "    80% {\n",
              "      border-color: transparent;\n",
              "      border-right-color: var(--fill-color);\n",
              "      border-bottom-color: var(--fill-color);\n",
              "    }\n",
              "    90% {\n",
              "      border-color: transparent;\n",
              "      border-bottom-color: var(--fill-color);\n",
              "    }\n",
              "  }\n",
              "</style>\n",
              "\n",
              "      <script>\n",
              "        async function quickchart(key) {\n",
              "          const quickchartButtonEl =\n",
              "            document.querySelector('#' + key + ' button');\n",
              "          quickchartButtonEl.disabled = true;  // To prevent multiple clicks.\n",
              "          quickchartButtonEl.classList.add('colab-df-spinner');\n",
              "          try {\n",
              "            const charts = await google.colab.kernel.invokeFunction(\n",
              "                'suggestCharts', [key], {});\n",
              "          } catch (error) {\n",
              "            console.error('Error during call to suggestCharts:', error);\n",
              "          }\n",
              "          quickchartButtonEl.classList.remove('colab-df-spinner');\n",
              "          quickchartButtonEl.classList.add('colab-df-quickchart-complete');\n",
              "        }\n",
              "        (() => {\n",
              "          let quickchartButtonEl =\n",
              "            document.querySelector('#df-450a4b5a-7241-4318-bf6e-c42c3696b499 button');\n",
              "          quickchartButtonEl.style.display =\n",
              "            google.colab.kernel.accessAllowed ? 'block' : 'none';\n",
              "        })();\n",
              "      </script>\n",
              "    </div>\n",
              "    </div>\n",
              "  </div>\n"
            ],
            "application/vnd.google.colaboratory.intrinsic+json": {
              "type": "dataframe",
              "summary": "{\n  \"name\": \"pd\",\n  \"rows\": 7,\n  \"fields\": [\n    {\n      \"column\": \"class\",\n      \"properties\": {\n        \"dtype\": \"number\",\n        \"std\": 2,\n        \"min\": 0,\n        \"max\": 6,\n        \"num_unique_values\": 7,\n        \"samples\": [\n          0,\n          1,\n          5\n        ],\n        \"semantic_type\": \"\",\n        \"description\": \"\"\n      }\n    },\n    {\n      \"column\": \"total\",\n      \"properties\": {\n        \"dtype\": \"number\",\n        \"std\": 211,\n        \"min\": 180,\n        \"max\": 818,\n        \"num_unique_values\": 7,\n        \"samples\": [\n          351,\n          217,\n          298\n        ],\n        \"semantic_type\": \"\",\n        \"description\": \"\"\n      }\n    },\n    {\n      \"column\": \"train\",\n      \"properties\": {\n        \"dtype\": \"number\",\n        \"std\": 126,\n        \"min\": 108,\n        \"max\": 490,\n        \"num_unique_values\": 7,\n        \"samples\": [\n          210,\n          130,\n          178\n        ],\n        \"semantic_type\": \"\",\n        \"description\": \"\"\n      }\n    },\n    {\n      \"column\": \"val\",\n      \"properties\": {\n        \"dtype\": \"number\",\n        \"std\": 42,\n        \"min\": 36,\n        \"max\": 163,\n        \"num_unique_values\": 7,\n        \"samples\": [\n          70,\n          43,\n          59\n        ],\n        \"semantic_type\": \"\",\n        \"description\": \"\"\n      }\n    },\n    {\n      \"column\": \"test\",\n      \"properties\": {\n        \"dtype\": \"number\",\n        \"std\": 42,\n        \"min\": 36,\n        \"max\": 165,\n        \"num_unique_values\": 7,\n        \"samples\": [\n          71,\n          44,\n          61\n        ],\n        \"semantic_type\": \"\",\n        \"description\": \"\"\n      }\n    },\n    {\n      \"column\": \"train_ratio\",\n      \"properties\": {\n        \"dtype\": \"number\",\n        \"std\": 0.0,\n        \"min\": 0.6,\n        \"max\": 0.6,\n        \"num_unique_values\": 1,\n        \"samples\": [\n          0.6\n        ],\n        \"semantic_type\": \"\",\n        \"description\": \"\"\n      }\n    },\n    {\n      \"column\": \"val_ratio\",\n      \"properties\": {\n        \"dtype\": \"number\",\n        \"std\": 2.997944808332385e-17,\n        \"min\": 0.2,\n        \"max\": 0.2,\n        \"num_unique_values\": 1,\n        \"samples\": [\n          0.2\n        ],\n        \"semantic_type\": \"\",\n        \"description\": \"\"\n      }\n    },\n    {\n      \"column\": \"test_ratio\",\n      \"properties\": {\n        \"dtype\": \"number\",\n        \"std\": 2.997944808332385e-17,\n        \"min\": 0.2,\n        \"max\": 0.2,\n        \"num_unique_values\": 1,\n        \"samples\": [\n          0.2\n        ],\n        \"semantic_type\": \"\",\n        \"description\": \"\"\n      }\n    }\n  ]\n}"
            }
          },
          "metadata": {},
          "execution_count": 8
        }
      ]
    },
    {
      "cell_type": "markdown",
      "source": [
        "### 3.3. Пример вывода предупреждений:"
      ],
      "metadata": {
        "id": "1uMS8wGApFvH"
      }
    },
    {
      "cell_type": "markdown",
      "source": [
        "- WARNING:```__main__```:Класс 0 составляет 82.00% от всех данных — это больше порога 0.7. Возможен дисбаланс!\n",
        "- WARNING:```__main__```:Класс 2 содержит всего 2 образца — это меньше минимального порога 3."
      ],
      "metadata": {
        "id": "6dBdai1GpKBh"
      }
    }
  ]
}