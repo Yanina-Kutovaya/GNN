{
  "nbformat": 4,
  "nbformat_minor": 0,
  "metadata": {
    "colab": {
      "provenance": [],
      "toc_visible": true,
      "gpuType": "T4",
      "authorship_tag": "ABX9TyMnzIW+3Z5HOv/4x8XvrvHt",
      "include_colab_link": true
    },
    "kernelspec": {
      "name": "python3",
      "display_name": "Python 3"
    },
    "language_info": {
      "name": "python"
    },
    "accelerator": "GPU"
  },
  "cells": [
    {
      "cell_type": "markdown",
      "metadata": {
        "id": "view-in-github",
        "colab_type": "text"
      },
      "source": [
        "<a href=\"https://colab.research.google.com/github/Yanina-Kutovaya/GNN/blob/main/notebooks/4_1_GIN_NeighborLoader.ipynb\" target=\"_parent\"><img src=\"https://colab.research.google.com/assets/colab-badge.svg\" alt=\"Open In Colab\"/></a>"
      ]
    },
    {
      "cell_type": "markdown",
      "source": [
        "# Реализация Graph Isomorphism Network (GIN) с Neighborhood Sampling для классификации узлов на датасете Bitcoin-OTC\n",
        "\n",
        "Задача — предсказать \"уровень доверия\" пользователей\n",
        "\n",
        "Признаки узлов/рёбер - синтетические"
      ],
      "metadata": {
        "id": "EShmf_LSUZu5"
      }
    },
    {
      "cell_type": "markdown",
      "source": [
        "Небходимо выбрать среду выполнения с GPU: Среда выполнения → Сменить среду выполнения → Графический процессор T4"
      ],
      "metadata": {
        "id": "70-_4LbjdqVS"
      }
    },
    {
      "cell_type": "code",
      "source": [
        "CHECKPOINT_DIR = '/content/checkpoints'\n",
        "BEST_MODEL_PATH = '/content/best_model'"
      ],
      "metadata": {
        "id": "qIwzNqkqyTcE"
      },
      "execution_count": null,
      "outputs": []
    },
    {
      "cell_type": "code",
      "source": [
        "import os\n",
        "\n",
        "os.makedirs(CHECKPOINT_DIR, exist_ok=True)\n",
        "os.makedirs(BEST_MODEL_PATH, exist_ok=True)"
      ],
      "metadata": {
        "id": "coMVkuQHynip"
      },
      "execution_count": null,
      "outputs": []
    },
    {
      "cell_type": "markdown",
      "source": [
        "## 1. Установка зависимостей"
      ],
      "metadata": {
        "id": "XQgvZEGUUp_r"
      }
    },
    {
      "cell_type": "code",
      "source": [
        "!nvcc --version"
      ],
      "metadata": {
        "colab": {
          "base_uri": "https://localhost:8080/"
        },
        "id": "EZLWzVhoSHAO",
        "outputId": "81a9a4c1-232d-4e1a-fb2d-c24f34b31031"
      },
      "execution_count": null,
      "outputs": [
        {
          "output_type": "stream",
          "name": "stdout",
          "text": [
            "nvcc: NVIDIA (R) Cuda compiler driver\n",
            "Copyright (c) 2005-2024 NVIDIA Corporation\n",
            "Built on Thu_Jun__6_02:18:23_PDT_2024\n",
            "Cuda compilation tools, release 12.5, V12.5.82\n",
            "Build cuda_12.5.r12.5/compiler.34385749_0\n"
          ]
        }
      ]
    },
    {
      "cell_type": "markdown",
      "source": [
        "* Google Colab иногда возникают проблемы с кэшированием пакетов, поэтому добавлен флаг ```--no-cache-dir ```"
      ],
      "metadata": {
        "id": "vfCYnTsNhVm1"
      }
    },
    {
      "cell_type": "code",
      "source": [
        "install = True\n",
        "if install:\n",
        "  # 1. Установка совместимых версий PyTorch и PyG\n",
        "  !pip install -q torch==2.3.0+cu121 torchvision==0.18.0+cu121 torchaudio==2.3.0+cu121 --extra-index-url https://download.pytorch.org/whl/cu121\n",
        "\n",
        "  # 2. Установка зависимостей PyG для CUDA 12.1+ (совместимо с 12.5)\n",
        "  !pip install -q pyg-lib torch-scatter torch-sparse torch-cluster torch-spline-conv -f https://data.pyg.org/whl/torch-2.3.0+cu121.html --no-cache-dir\n",
        "\n",
        "  # 3. Установка PyTorch Geometric\n",
        "  !pip install -q torch-geometric==2.5.3\n",
        "\n",
        "  # 4. Установка torchmetrics\n",
        "  !pip install -q torchmetrics"
      ],
      "metadata": {
        "id": "QeDTLlusSHpZ",
        "colab": {
          "base_uri": "https://localhost:8080/"
        },
        "outputId": "ac569435-a4a2-4757-8906-46c8626a71e2"
      },
      "execution_count": null,
      "outputs": [
        {
          "output_type": "stream",
          "name": "stdout",
          "text": [
            "\u001b[2K     \u001b[90m━━━━━━━━━━━━━━━━━━━━━━━━━━━━━━━━━━━━━━━\u001b[0m \u001b[32m781.0/781.0 MB\u001b[0m \u001b[31m2.3 MB/s\u001b[0m eta \u001b[36m0:00:00\u001b[0m\n",
            "\u001b[2K     \u001b[90m━━━━━━━━━━━━━━━━━━━━━━━━━━━━━━━━━━━━━━━━\u001b[0m \u001b[32m7.0/7.0 MB\u001b[0m \u001b[31m97.0 MB/s\u001b[0m eta \u001b[36m0:00:00\u001b[0m\n",
            "\u001b[2K     \u001b[90m━━━━━━━━━━━━━━━━━━━━━━━━━━━━━━━━━━━━━━━━\u001b[0m \u001b[32m3.4/3.4 MB\u001b[0m \u001b[31m95.9 MB/s\u001b[0m eta \u001b[36m0:00:00\u001b[0m\n",
            "\u001b[2K     \u001b[90m━━━━━━━━━━━━━━━━━━━━━━━━━━━━━━━━━━━━━━━━\u001b[0m \u001b[32m23.7/23.7 MB\u001b[0m \u001b[31m95.9 MB/s\u001b[0m eta \u001b[36m0:00:00\u001b[0m\n",
            "\u001b[2K     \u001b[90m━━━━━━━━━━━━━━━━━━━━━━━━━━━━━━━━━━━━━━\u001b[0m \u001b[32m823.6/823.6 kB\u001b[0m \u001b[31m44.3 MB/s\u001b[0m eta \u001b[36m0:00:00\u001b[0m\n",
            "\u001b[2K     \u001b[90m━━━━━━━━━━━━━━━━━━━━━━━━━━━━━━━━━━━━━━━\u001b[0m \u001b[32m14.1/14.1 MB\u001b[0m \u001b[31m111.9 MB/s\u001b[0m eta \u001b[36m0:00:00\u001b[0m\n",
            "\u001b[2K     \u001b[90m━━━━━━━━━━━━━━━━━━━━━━━━━━━━━━━━━━━━━━━\u001b[0m \u001b[32m731.7/731.7 MB\u001b[0m \u001b[31m2.6 MB/s\u001b[0m eta \u001b[36m0:00:00\u001b[0m\n",
            "\u001b[2K     \u001b[90m━━━━━━━━━━━━━━━━━━━━━━━━━━━━━━━━━━━━━━━\u001b[0m \u001b[32m410.6/410.6 MB\u001b[0m \u001b[31m1.2 MB/s\u001b[0m eta \u001b[36m0:00:00\u001b[0m\n",
            "\u001b[2K     \u001b[90m━━━━━━━━━━━━━━━━━━━━━━━━━━━━━━━━━━━━━━━\u001b[0m \u001b[32m121.6/121.6 MB\u001b[0m \u001b[31m7.9 MB/s\u001b[0m eta \u001b[36m0:00:00\u001b[0m\n",
            "\u001b[2K     \u001b[90m━━━━━━━━━━━━━━━━━━━━━━━━━━━━━━━━━━━━━━━━\u001b[0m \u001b[32m56.5/56.5 MB\u001b[0m \u001b[31m13.6 MB/s\u001b[0m eta \u001b[36m0:00:00\u001b[0m\n",
            "\u001b[2K     \u001b[90m━━━━━━━━━━━━━━━━━━━━━━━━━━━━━━━━━━━━━━━\u001b[0m \u001b[32m124.2/124.2 MB\u001b[0m \u001b[31m7.7 MB/s\u001b[0m eta \u001b[36m0:00:00\u001b[0m\n",
            "\u001b[2K     \u001b[90m━━━━━━━━━━━━━━━━━━━━━━━━━━━━━━━━━━━━━━━\u001b[0m \u001b[32m196.0/196.0 MB\u001b[0m \u001b[31m6.4 MB/s\u001b[0m eta \u001b[36m0:00:00\u001b[0m\n",
            "\u001b[2K     \u001b[90m━━━━━━━━━━━━━━━━━━━━━━━━━━━━━━━━━━━━━━━\u001b[0m \u001b[32m176.2/176.2 MB\u001b[0m \u001b[31m6.5 MB/s\u001b[0m eta \u001b[36m0:00:00\u001b[0m\n",
            "\u001b[2K     \u001b[90m━━━━━━━━━━━━━━━━━━━━━━━━━━━━━━━━━━━━━━━━\u001b[0m \u001b[32m99.1/99.1 kB\u001b[0m \u001b[31m8.3 MB/s\u001b[0m eta \u001b[36m0:00:00\u001b[0m\n",
            "\u001b[2K     \u001b[90m━━━━━━━━━━━━━━━━━━━━━━━━━━━━━━━━━━━━━━━\u001b[0m \u001b[32m168.1/168.1 MB\u001b[0m \u001b[31m6.4 MB/s\u001b[0m eta \u001b[36m0:00:00\u001b[0m\n",
            "\u001b[2K     \u001b[90m━━━━━━━━━━━━━━━━━━━━━━━━━━━━━━━━━━━━━━━━\u001b[0m \u001b[32m2.5/2.5 MB\u001b[0m \u001b[31m43.8 MB/s\u001b[0m eta \u001b[36m0:00:00\u001b[0m\n",
            "\u001b[2K     \u001b[90m━━━━━━━━━━━━━━━━━━━━━━━━━━━━━━━━━━━━━━━\u001b[0m \u001b[32m10.9/10.9 MB\u001b[0m \u001b[31m173.6 MB/s\u001b[0m eta \u001b[36m0:00:00\u001b[0m\n",
            "\u001b[2K     \u001b[90m━━━━━━━━━━━━━━━━━━━━━━━━━━━━━━━━━━━━━━━━\u001b[0m \u001b[32m5.1/5.1 MB\u001b[0m \u001b[31m61.5 MB/s\u001b[0m eta \u001b[36m0:00:00\u001b[0m\n",
            "\u001b[2K     \u001b[90m━━━━━━━━━━━━━━━━━━━━━━━━━━━━━━━━━━━━━━━━\u001b[0m \u001b[32m3.4/3.4 MB\u001b[0m \u001b[31m83.9 MB/s\u001b[0m eta \u001b[36m0:00:00\u001b[0m\n",
            "\u001b[2K     \u001b[90m━━━━━━━━━━━━━━━━━━━━━━━━━━━━━━━━━━━━━\u001b[0m \u001b[32m950.4/950.4 kB\u001b[0m \u001b[31m380.6 MB/s\u001b[0m eta \u001b[36m0:00:00\u001b[0m\n",
            "\u001b[2K     \u001b[90m━━━━━━━━━━━━━━━━━━━━━━━━━━━━━━━━━━━━━━━━\u001b[0m \u001b[32m64.2/64.2 kB\u001b[0m \u001b[31m2.8 MB/s\u001b[0m eta \u001b[36m0:00:00\u001b[0m\n",
            "\u001b[2K   \u001b[90m━━━━━━━━━━━━━━━━━━━━━━━━━━━━━━━━━━━━━━━━\u001b[0m \u001b[32m1.1/1.1 MB\u001b[0m \u001b[31m29.2 MB/s\u001b[0m eta \u001b[36m0:00:00\u001b[0m\n",
            "\u001b[2K   \u001b[90m━━━━━━━━━━━━━━━━━━━━━━━━━━━━━━━━━━━━━━━━\u001b[0m \u001b[32m961.5/961.5 kB\u001b[0m \u001b[31m22.2 MB/s\u001b[0m eta \u001b[36m0:00:00\u001b[0m\n",
            "\u001b[?25h"
          ]
        }
      ]
    },
    {
      "cell_type": "markdown",
      "source": [
        "### Принудительная перекомпиляция расширений"
      ],
      "metadata": {
        "id": "oAQy0vJ6hbMu"
      }
    },
    {
      "cell_type": "code",
      "source": [
        "!python -c \"import torch; import torch_geometric; print('Rebuild success')\""
      ],
      "metadata": {
        "colab": {
          "base_uri": "https://localhost:8080/"
        },
        "id": "trIJvI4PSVuY",
        "outputId": "898025a7-ad52-46d8-b2ba-fe4b6aec44dc"
      },
      "execution_count": null,
      "outputs": [
        {
          "output_type": "stream",
          "name": "stdout",
          "text": [
            "Rebuild success\n"
          ]
        }
      ]
    },
    {
      "cell_type": "markdown",
      "source": [
        "### Проверка окружения"
      ],
      "metadata": {
        "id": "dTqrOU61hmp1"
      }
    },
    {
      "cell_type": "code",
      "source": [
        "import torch\n",
        "print(f\"PyTorch: {torch.__version__}\")          # Должно быть 2.3.0+cu121\n",
        "print(f\"CUDA: {torch.version.cuda}\")            # Должно быть 12.1+\n",
        "print(f\"Available: {torch.cuda.is_available()}\")# Должно быть True"
      ],
      "metadata": {
        "colab": {
          "base_uri": "https://localhost:8080/"
        },
        "id": "nPs-mltiSZvN",
        "outputId": "b7265540-61b0-43fb-a42d-b70f62930b38"
      },
      "execution_count": null,
      "outputs": [
        {
          "output_type": "stream",
          "name": "stdout",
          "text": [
            "PyTorch: 2.3.0+cu121\n",
            "CUDA: 12.1\n",
            "Available: True\n"
          ]
        }
      ]
    },
    {
      "cell_type": "markdown",
      "source": [
        "## 2. Импорт библиотек"
      ],
      "metadata": {
        "id": "9srwFGjdb3Lh"
      }
    },
    {
      "cell_type": "code",
      "source": [
        "import torch\n",
        "import torch.nn.functional as F\n",
        "from torch_geometric.datasets import BitcoinOTC\n",
        "from torch_geometric.loader import NeighborLoader\n",
        "from torch_geometric.nn import GINConv\n",
        "from torch.nn import Linear, Sequential, ReLU\n",
        "from torchmetrics.classification import (\n",
        "    MulticlassF1Score,\n",
        "    MulticlassPrecision,\n",
        "    MulticlassRecall\n",
        ")\n",
        "import matplotlib.pyplot as plt"
      ],
      "metadata": {
        "id": "D7PZq0FfSl9o"
      },
      "execution_count": null,
      "outputs": []
    },
    {
      "cell_type": "markdown",
      "source": [
        "## 3. Загрузка и подготовка данных"
      ],
      "metadata": {
        "id": "EMIh5sdEcHul"
      }
    },
    {
      "cell_type": "markdown",
      "source": [
        "Обработка признаков:\n",
        "\n",
        "- Нормализация степеней узлов\n",
        "- Стандартизация признаков рёбер\n",
        "- Явное преобразование типов данных"
      ],
      "metadata": {
        "id": "p_uCpsINe8y4"
      }
    },
    {
      "cell_type": "code",
      "source": [
        "dataset = BitcoinOTC(root='/tmp/BitcoinOTC')\n",
        "data = dataset[0]"
      ],
      "metadata": {
        "id": "z1wyOl7fcQwa",
        "colab": {
          "base_uri": "https://localhost:8080/"
        },
        "outputId": "a2ba35c6-6eed-4b80-d44b-31a53b926ae4"
      },
      "execution_count": null,
      "outputs": [
        {
          "output_type": "stream",
          "name": "stderr",
          "text": [
            "Downloading https://snap.stanford.edu/data/soc-sign-bitcoinotc.csv.gz\n",
            "Extracting /tmp/BitcoinOTC/raw/soc-sign-bitcoinotc.csv.gz\n",
            "Processing...\n",
            "Done!\n"
          ]
        }
      ]
    },
    {
      "cell_type": "code",
      "source": [
        "data"
      ],
      "metadata": {
        "id": "gyjOlfLfBPbv",
        "colab": {
          "base_uri": "https://localhost:8080/"
        },
        "outputId": "febde388-9cab-4270-f6c0-2680ee13a652"
      },
      "execution_count": null,
      "outputs": [
        {
          "output_type": "execute_result",
          "data": {
            "text/plain": [
              "Data(edge_index=[2, 41], edge_attr=[41], num_nodes=6005)"
            ]
          },
          "metadata": {},
          "execution_count": 9
        }
      ]
    },
    {
      "cell_type": "code",
      "source": [
        "data.edge_index"
      ],
      "metadata": {
        "id": "a3wf6kZxBVyb",
        "colab": {
          "base_uri": "https://localhost:8080/"
        },
        "outputId": "f83c9d99-0db1-4f39-d438-4827cd61d635"
      },
      "execution_count": null,
      "outputs": [
        {
          "output_type": "execute_result",
          "data": {
            "text/plain": [
              "tensor([[ 5,  5,  0,  3, 12, 12,  6,  1,  1, 20, 20, 20, 20, 20, 16, 16,  9,  9,\n",
              "          9,  9,  9,  9,  9,  3, 25,  4,  4,  4,  0,  5,  3,  1, 16, 16, 12, 12,\n",
              "         28, 16,  3, 30, 31],\n",
              "        [ 1,  4, 14,  2, 15,  9,  4, 20, 19,  1,  0,  9,  7,  2,  2, 22,  0,  5,\n",
              "         20,  7, 24,  1,  2, 25,  3,  0,  5,  6,  4,  3,  5,  3, 27, 12, 16, 28,\n",
              "         12, 19, 30,  3,  5]])"
            ]
          },
          "metadata": {},
          "execution_count": 10
        }
      ]
    },
    {
      "cell_type": "markdown",
      "source": [
        "### 3.1 Синтетические признаки узлов (степень узла)"
      ],
      "metadata": {
        "id": "f2gNjQ8icVLU"
      }
    },
    {
      "cell_type": "code",
      "source": [
        "degrees = torch.zeros(data.num_nodes, dtype=torch.float32)\n",
        "for src in data.edge_index[0].unique():\n",
        "    degrees[src] = (data.edge_index[0] == src).sum().float()\n",
        "\n",
        "data.x = degrees.view(-1, 1)\n",
        "data.x = (data.x - data.x.mean()) / data.x.std()"
      ],
      "metadata": {
        "id": "vkd9mSy8cUUj"
      },
      "execution_count": null,
      "outputs": []
    },
    {
      "cell_type": "code",
      "source": [
        "data.x"
      ],
      "metadata": {
        "id": "LcPmBlyrCUMn",
        "colab": {
          "base_uri": "https://localhost:8080/"
        },
        "outputId": "4fa54af6-b89c-4181-9f7c-1d48924c2373"
      },
      "execution_count": null,
      "outputs": [
        {
          "output_type": "execute_result",
          "data": {
            "text/plain": [
              "tensor([[11.9611],\n",
              "        [17.9621],\n",
              "        [-0.0410],\n",
              "        ...,\n",
              "        [-0.0410],\n",
              "        [-0.0410],\n",
              "        [-0.0410]])"
            ]
          },
          "metadata": {},
          "execution_count": 12
        }
      ]
    },
    {
      "cell_type": "markdown",
      "source": [
        "### 3.2 Создание меток (3 класса)"
      ],
      "metadata": {
        "id": "oxXes-F1cwry"
      }
    },
    {
      "cell_type": "code",
      "source": [
        "labels = torch.zeros(data.num_nodes, dtype=torch.long)\n",
        "q = torch.quantile(degrees, torch.tensor([0.33, 0.66]))\n",
        "data.y = torch.where(degrees > q[1], 2, torch.where(degrees > q[0], 1, 0))"
      ],
      "metadata": {
        "id": "WMXwYrqYcoQC"
      },
      "execution_count": null,
      "outputs": []
    },
    {
      "cell_type": "code",
      "source": [
        "data.y"
      ],
      "metadata": {
        "id": "XwUt52inDA9l",
        "colab": {
          "base_uri": "https://localhost:8080/"
        },
        "outputId": "a14eebe6-6d31-4d56-de49-b745cb18598a"
      },
      "execution_count": null,
      "outputs": [
        {
          "output_type": "execute_result",
          "data": {
            "text/plain": [
              "tensor([2, 2, 0,  ..., 0, 0, 0])"
            ]
          },
          "metadata": {},
          "execution_count": 14
        }
      ]
    },
    {
      "cell_type": "markdown",
      "source": [
        "### 3.3 Разделение данных"
      ],
      "metadata": {
        "id": "wF4qe7isc0c6"
      }
    },
    {
      "cell_type": "code",
      "source": [
        "data.train_mask = torch.zeros(data.num_nodes, dtype=torch.bool)\n",
        "data.val_mask = torch.zeros(data.num_nodes, dtype=torch.bool)\n",
        "data.test_mask = torch.zeros(data.num_nodes, dtype=torch.bool)\n",
        "indices = torch.randperm(data.num_nodes)\n",
        "data.train_mask[indices[:int(0.6*data.num_nodes)]] = True\n",
        "data.val_mask[indices[int(0.6*data.num_nodes):int(0.8*data.num_nodes)]] = True\n",
        "data.test_mask[indices[int(0.8*data.num_nodes):]] = True"
      ],
      "metadata": {
        "id": "BoZau0S1Snwi"
      },
      "execution_count": null,
      "outputs": []
    },
    {
      "cell_type": "code",
      "source": [
        "data.train_mask"
      ],
      "metadata": {
        "id": "57USPAnlDJIY",
        "colab": {
          "base_uri": "https://localhost:8080/"
        },
        "outputId": "e0da93e1-3b4e-488c-9bb4-caee1c3e797c"
      },
      "execution_count": null,
      "outputs": [
        {
          "output_type": "execute_result",
          "data": {
            "text/plain": [
              "tensor([ True,  True, False,  ...,  True,  True, False])"
            ]
          },
          "metadata": {},
          "execution_count": 16
        }
      ]
    },
    {
      "cell_type": "code",
      "source": [
        "data.val_mask"
      ],
      "metadata": {
        "id": "CQCn21LjDOp8",
        "colab": {
          "base_uri": "https://localhost:8080/"
        },
        "outputId": "6bc84c22-5bec-49be-d119-e18a0c9e3e10"
      },
      "execution_count": null,
      "outputs": [
        {
          "output_type": "execute_result",
          "data": {
            "text/plain": [
              "tensor([False, False, False,  ..., False, False, False])"
            ]
          },
          "metadata": {},
          "execution_count": 17
        }
      ]
    },
    {
      "cell_type": "code",
      "source": [
        "data.test_mask"
      ],
      "metadata": {
        "id": "8OC5EzYHDU37",
        "colab": {
          "base_uri": "https://localhost:8080/"
        },
        "outputId": "864239f9-702e-4a9f-89db-fc2becd6880c"
      },
      "execution_count": null,
      "outputs": [
        {
          "output_type": "execute_result",
          "data": {
            "text/plain": [
              "tensor([False, False,  True,  ..., False, False,  True])"
            ]
          },
          "metadata": {},
          "execution_count": 18
        }
      ]
    },
    {
      "cell_type": "markdown",
      "source": [
        "## 4. Определение модели GIN"
      ],
      "metadata": {
        "id": "56jf9j9jc6Zw"
      }
    },
    {
      "cell_type": "markdown",
      "source": [
        "Архитектура GIN:\n",
        "- Два GIN-слоя с MLP внутри\n",
        "- Dropout (0.5) для регуляризации\n",
        "- Нормализация признаков узлов"
      ],
      "metadata": {
        "id": "jS6ROkDBeRwE"
      }
    },
    {
      "cell_type": "code",
      "source": [
        "class GINNeighborSampler(torch.nn.Module):\n",
        "    def __init__(self, in_channels, hidden_channels, out_channels):\n",
        "        super().__init__()\n",
        "\n",
        "        self.conv1 = GINConv(\n",
        "            Sequential(\n",
        "                Linear(in_channels, hidden_channels),\n",
        "                ReLU(),\n",
        "                Linear(hidden_channels, hidden_channels)\n",
        "            )\n",
        "        )\n",
        "\n",
        "        self.conv2 = GINConv(\n",
        "            Sequential(\n",
        "                Linear(hidden_channels, hidden_channels),\n",
        "                ReLU(),\n",
        "                Linear(hidden_channels, out_channels)\n",
        "            )\n",
        "        )\n",
        "\n",
        "    def forward(self, x, edge_index):\n",
        "        x = self.conv1(x, edge_index)\n",
        "        x = F.relu(x)\n",
        "        x = F.dropout(x, p=0.5, training=self.training)\n",
        "        return self.conv2(x, edge_index)"
      ],
      "metadata": {
        "id": "hhwW_-EHSvQ4"
      },
      "execution_count": null,
      "outputs": []
    },
    {
      "cell_type": "markdown",
      "source": [
        "## 5. Инициализация модели, оптимизатора, шедулера и метрик"
      ],
      "metadata": {
        "id": "zgS0N1FZdDM6"
      }
    },
    {
      "cell_type": "markdown",
      "source": [
        "Преимущества использования **шедулера**:\n",
        "\n",
        "- Автоматическая адаптация learning rate к текущей стадии обучения\n",
        "- Комбинация с ранней остановкой предотвращает переобучение\n",
        "- Видимость изменения LR в логах\n",
        "\n",
        "Преимущества **torchmetrics**:\n",
        "\n",
        "- Оптимизировано для работы с PyTorch и GPU\n",
        "- Поддерживает распределённые вычисления\n",
        "- Автоматическая обработка различных форматов ввода\n",
        "- Интеграция с [PyTorch Lightning](https://github.com/Lightning-AI/pytorch-lightning)"
      ],
      "metadata": {
        "id": "WABmo2cs_Ek6"
      }
    },
    {
      "cell_type": "markdown",
      "source": [
        "### 5.1 Инициализация модели, оптимизатора и шедулера"
      ],
      "metadata": {
        "id": "x-ucVjgE9rro"
      }
    },
    {
      "cell_type": "code",
      "source": [
        "device = torch.device('cuda' if torch.cuda.is_available() else 'cpu')\n",
        "model = GINNeighborSampler(1, 64, 3).to(device)\n",
        "optimizer = torch.optim.Adam(model.parameters(), lr=0.01, weight_decay=5e-4)\n",
        "scheduler = torch.optim.lr_scheduler.ReduceLROnPlateau(\n",
        "    optimizer,\n",
        "    mode='max',    # Мониторим максимизацию точности\n",
        "    factor=0.5,    # Уменьшаем lr в 2 раза\n",
        "    patience=5,     # Ждём 5 эпох без улучшений\n",
        ")"
      ],
      "metadata": {
        "id": "ZMQasuZk1LL6"
      },
      "execution_count": null,
      "outputs": []
    },
    {
      "cell_type": "markdown",
      "source": [
        "### 5.2 Инициализация метрик"
      ],
      "metadata": {
        "id": "wzJZtk_Z96FM"
      }
    },
    {
      "cell_type": "code",
      "source": [
        "num_classes = 3\n",
        "\n",
        "f1_metric = MulticlassF1Score(num_classes=num_classes, average='macro').to(device)\n",
        "precision_metric = MulticlassPrecision(num_classes=num_classes, average='macro').to(device)\n",
        "recall_metric = MulticlassRecall(num_classes=num_classes, average='macro').to(device)"
      ],
      "metadata": {
        "id": "WLRwPAYp9Xbz"
      },
      "execution_count": null,
      "outputs": []
    },
    {
      "cell_type": "markdown",
      "source": [
        "## 6. Настройка NeighborLoader"
      ],
      "metadata": {
        "id": "ZaVQJ6r2evcG"
      }
    },
    {
      "cell_type": "markdown",
      "source": [
        "Neighborhood Sampling:\n",
        "- Использование NeighborLoader для эффективной загрузки подграфов\n",
        "- Балансировка между глубиной сети (2 слоя) и размером выборки\n",
        "- Параметры: 25 соседей на первом слое, 10 на втором\n",
        "- Поддержка многопоточности (2 workers)"
      ],
      "metadata": {
        "id": "FG-8NylTeo7e"
      }
    },
    {
      "cell_type": "code",
      "source": [
        "train_loader = NeighborLoader(\n",
        "    data,\n",
        "    num_neighbors=[25, 10],  # 25 соседей для 1-го слоя, 10 для 2-го\n",
        "    batch_size=512,\n",
        "    input_nodes=data.train_mask,\n",
        "    shuffle=True,\n",
        "    num_workers=2\n",
        ")"
      ],
      "metadata": {
        "id": "scDbN6tSp17N"
      },
      "execution_count": null,
      "outputs": []
    },
    {
      "cell_type": "markdown",
      "source": [
        "## 7. Обучение модели"
      ],
      "metadata": {
        "id": "HKpjtI55dJNq"
      }
    },
    {
      "cell_type": "code",
      "source": [
        "def accuracy(pred, true, mask):\n",
        "    return (pred[mask].argmax(dim=1) == true[mask]).sum().float() / mask.sum()\n",
        "\n",
        "best_val_f1 = 0\n",
        "metrics_history = {\n",
        "    'train_loss': [],\n",
        "    'val_acc': [],\n",
        "    'val_f1': [],\n",
        "    'val_precision': [],\n",
        "    'val_recall': []\n",
        "}\n",
        "patience_counter = 0\n",
        "patience = 15  # Эпох без улучшений для остановки\n",
        "best_model_state = None\n",
        "checkpoint_interval = 5  # Сохранять чекпоинт каждые 5 эпох\n",
        "\n",
        "losses = []\n",
        "\n",
        "model.train()\n",
        "for epoch in range(100):\n",
        "    total_loss = 0\n",
        "    for batch in train_loader:\n",
        "        batch = batch.to(device)\n",
        "        optimizer.zero_grad()\n",
        "        out = model(batch.x, batch.edge_index)\n",
        "        loss = F.cross_entropy(out[batch.train_mask], batch.y[batch.train_mask])\n",
        "        loss.backward()\n",
        "        optimizer.step()\n",
        "        total_loss += loss.item()\n",
        "\n",
        "    # Добавляем loss в список сразу после эпохи\n",
        "    epoch_loss = total_loss / len(train_loader)\n",
        "    losses.append(epoch_loss)\n",
        "\n",
        "    # Валидация\n",
        "    model.eval()\n",
        "    with torch.no_grad():\n",
        "        val_out = model(data.x.to(device), data.edge_index.to(device))\n",
        "\n",
        "        # Вычисление метрик\n",
        "        preds = val_out.argmax(dim=1)\n",
        "        mask = data.val_mask.to(device)\n",
        "\n",
        "        val_acc = accuracy(val_out, data.y.to(device), mask)\n",
        "        val_f1 = f1_metric(preds[mask], data.y.to(device)[mask])\n",
        "        val_precision = precision_metric(preds[mask], data.y.to(device)[mask])\n",
        "        val_recall = recall_metric(preds[mask], data.y.to(device)[mask])\n",
        "\n",
        "    # Обновление истории метрик\n",
        "    metrics_history['train_loss'].append(total_loss / len(train_loader))\n",
        "    metrics_history['val_acc'].append(val_acc.cpu())\n",
        "    metrics_history['val_f1'].append(val_f1.cpu())\n",
        "    metrics_history['val_precision'].append(val_precision.cpu())\n",
        "    metrics_history['val_recall'].append(val_recall.cpu())\n",
        "\n",
        "    # Сброс метрик для следующей эпохи\n",
        "    f1_metric.reset()\n",
        "    precision_metric.reset()\n",
        "    recall_metric.reset()\n",
        "\n",
        "    # Обновление learning rate\n",
        "    scheduler.step(val_acc)\n",
        "\n",
        "    # Ранняя остановка по F1-score\n",
        "    if val_f1 > best_val_f1:\n",
        "        best_val_f1 = val_f1\n",
        "        patience_counter = 0\n",
        "\n",
        "        # Сохранение лучшей модели\n",
        "        torch.save(model.state_dict(), f'best_model/best_model.pth')\n",
        "        print(f'Saved new best model at epoch {epoch}')\n",
        "\n",
        "        # Сохранение чекпоинтов\n",
        "        if epoch % checkpoint_interval == 0:\n",
        "            checkpoint = {\n",
        "                'epoch': epoch,\n",
        "                'model_state': model.state_dict(),\n",
        "                'optimizer_state': optimizer.state_dict(),\n",
        "                'loss': epoch_loss,  # Используем последнее значение\n",
        "                'val_acc': val_acc,\n",
        "                'val_f1': val_f1,\n",
        "                'val_precision': val_precision,\n",
        "                'val_recall': val_recall\n",
        "            }\n",
        "            torch.save(checkpoint, f'checkpoints/checkpoint_epoch_{epoch}.pth')\n",
        "    else:\n",
        "        patience_counter += 1\n",
        "\n",
        "    # Проверка условия остановки\n",
        "    if patience_counter >= patience:\n",
        "        print(f'\\nEarly stopping at epoch {epoch}!')\n",
        "        break\n",
        "\n",
        "    losses.append(total_loss / len(train_loader))\n",
        "\n",
        "    # Логирование\n",
        "    print(f'Epoch {epoch:03d} | Loss: {metrics_history[\"train_loss\"][-1]:.4f} '\n",
        "          f'| Val Acc: {val_acc:.4f} | Val F1: {val_f1:.4f} '\n",
        "          f'| Precision: {val_precision:.4f} | Recall: {val_recall:.4f}')"
      ],
      "metadata": {
        "id": "tvw_-mq7qztk",
        "colab": {
          "base_uri": "https://localhost:8080/"
        },
        "outputId": "d0f74320-dcfd-46b2-9983-ef3d3eedcc60"
      },
      "execution_count": null,
      "outputs": [
        {
          "output_type": "stream",
          "name": "stdout",
          "text": [
            "Saved new best model at epoch 0\n",
            "Epoch 000 | Loss: 0.3665 | Val Acc: 0.9983 | Val F1: 0.8746 | Precision: 0.8000 | Recall: 0.9992\n",
            "Epoch 001 | Loss: 0.0377 | Val Acc: 0.9983 | Val F1: 0.8746 | Precision: 0.8000 | Recall: 0.9992\n",
            "Epoch 002 | Loss: 0.0500 | Val Acc: 0.9975 | Val F1: 0.4994 | Precision: 0.4988 | Recall: 0.5000\n",
            "Epoch 003 | Loss: 0.0682 | Val Acc: 0.9983 | Val F1: 0.8746 | Precision: 0.8000 | Recall: 0.9992\n",
            "Epoch 004 | Loss: 0.0702 | Val Acc: 0.9983 | Val F1: 0.8746 | Precision: 0.8000 | Recall: 0.9992\n",
            "Epoch 005 | Loss: 0.0073 | Val Acc: 0.9983 | Val F1: 0.8746 | Precision: 0.8000 | Recall: 0.9992\n",
            "Epoch 006 | Loss: 0.0093 | Val Acc: 0.9983 | Val F1: 0.8746 | Precision: 0.8000 | Recall: 0.9992\n",
            "Saved new best model at epoch 7\n",
            "Epoch 007 | Loss: 0.0073 | Val Acc: 0.9992 | Val F1: 0.9284 | Precision: 0.8750 | Recall: 0.9996\n",
            "Epoch 008 | Loss: 0.0075 | Val Acc: 0.9983 | Val F1: 0.8746 | Precision: 0.8000 | Recall: 0.9992\n",
            "Epoch 009 | Loss: 0.0069 | Val Acc: 0.9983 | Val F1: 0.8746 | Precision: 0.8000 | Recall: 0.9992\n",
            "Epoch 010 | Loss: 0.0067 | Val Acc: 0.9983 | Val F1: 0.8746 | Precision: 0.8000 | Recall: 0.9992\n",
            "Epoch 011 | Loss: 0.0069 | Val Acc: 0.9983 | Val F1: 0.8746 | Precision: 0.8000 | Recall: 0.9992\n",
            "Epoch 012 | Loss: 0.0070 | Val Acc: 0.9983 | Val F1: 0.8746 | Precision: 0.8000 | Recall: 0.9992\n",
            "Epoch 013 | Loss: 0.0085 | Val Acc: 0.9983 | Val F1: 0.8746 | Precision: 0.8000 | Recall: 0.9992\n",
            "Epoch 014 | Loss: 0.0077 | Val Acc: 0.9983 | Val F1: 0.8746 | Precision: 0.8000 | Recall: 0.9992\n",
            "Epoch 015 | Loss: 0.0068 | Val Acc: 0.9983 | Val F1: 0.8746 | Precision: 0.8000 | Recall: 0.9992\n",
            "Epoch 016 | Loss: 0.0066 | Val Acc: 0.9983 | Val F1: 0.8746 | Precision: 0.8000 | Recall: 0.9992\n",
            "Epoch 017 | Loss: 0.0066 | Val Acc: 0.9983 | Val F1: 0.8746 | Precision: 0.8000 | Recall: 0.9992\n",
            "Epoch 018 | Loss: 0.0188 | Val Acc: 0.9983 | Val F1: 0.8746 | Precision: 0.8000 | Recall: 0.9992\n",
            "Epoch 019 | Loss: 0.0085 | Val Acc: 0.9983 | Val F1: 0.8746 | Precision: 0.8000 | Recall: 0.9992\n",
            "Epoch 020 | Loss: 0.0059 | Val Acc: 0.9983 | Val F1: 0.8746 | Precision: 0.8000 | Recall: 0.9992\n",
            "Epoch 021 | Loss: 0.0059 | Val Acc: 0.9983 | Val F1: 0.8746 | Precision: 0.8000 | Recall: 0.9992\n",
            "\n",
            "Early stopping at epoch 22!\n"
          ]
        }
      ]
    },
    {
      "cell_type": "markdown",
      "source": [
        "## 8. Визуализация обучения"
      ],
      "metadata": {
        "id": "l4LcigE1dTsZ"
      }
    },
    {
      "cell_type": "code",
      "source": [
        "import matplotlib.pyplot as plt\n",
        "import numpy as np\n",
        "\n",
        "plt.figure(figsize=(15, 10))\n",
        "\n",
        "# График Loss\n",
        "plt.subplot(2, 3, 1)\n",
        "plt.plot(metrics_history['train_loss'], label='Training Loss', color='blue')\n",
        "plt.title('Training Loss')\n",
        "plt.xlabel('Epoch')\n",
        "plt.ylabel('Loss')\n",
        "plt.grid(alpha=0.3)\n",
        "plt.legend()\n",
        "\n",
        "# График Accuracy\n",
        "plt.subplot(2, 3, 2)\n",
        "plt.plot(metrics_history['val_acc'], label='Validation Accuracy', color='green')\n",
        "plt.title('Validation Accuracy')\n",
        "plt.xlabel('Epoch')\n",
        "plt.ylabel('Accuracy')\n",
        "plt.grid(alpha=0.3)\n",
        "plt.legend()\n",
        "\n",
        "# График F1-score\n",
        "plt.subplot(2, 3, 3)\n",
        "plt.plot(metrics_history['val_f1'], label='Validation F1', color='red')\n",
        "plt.title('Validation F1-score')\n",
        "plt.xlabel('Epoch')\n",
        "plt.ylabel('F1-score')\n",
        "plt.grid(alpha=0.3)\n",
        "plt.legend()\n",
        "\n",
        "# График Precision\n",
        "plt.subplot(2, 3, 4)\n",
        "plt.plot(metrics_history['val_precision'], label='Validation Precision', color='purple')\n",
        "plt.title('Validation Precision')\n",
        "plt.xlabel('Epoch')\n",
        "plt.ylabel('Precision')\n",
        "plt.grid(alpha=0.3)\n",
        "plt.legend()\n",
        "\n",
        "# График Recall\n",
        "plt.subplot(2, 3, 5)\n",
        "plt.plot(metrics_history['val_recall'], label='Validation Recall', color='orange')\n",
        "plt.title('Validation Recall')\n",
        "plt.xlabel('Epoch')\n",
        "plt.ylabel('Recall')\n",
        "plt.grid(alpha=0.3)\n",
        "plt.legend()\n",
        "\n",
        "# Объединённый график метрик\n",
        "plt.subplot(2, 3, 6)\n",
        "plt.plot(metrics_history['val_f1'], label='F1', color='red')\n",
        "plt.plot(metrics_history['val_precision'], label='Precision', color='purple')\n",
        "plt.plot(metrics_history['val_recall'], label='Recall', color='orange')\n",
        "plt.title('All Validation Metrics')\n",
        "plt.xlabel('Epoch')\n",
        "plt.ylabel('Score')\n",
        "plt.grid(alpha=0.3)\n",
        "plt.legend()\n",
        "\n",
        "plt.tight_layout()\n",
        "plt.show()"
      ],
      "metadata": {
        "id": "d8WQfORMExe9",
        "colab": {
          "base_uri": "https://localhost:8080/",
          "height": 756
        },
        "outputId": "cbab80f3-ec6c-4ca8-ed3f-c740207f7194"
      },
      "execution_count": null,
      "outputs": [
        {
          "output_type": "display_data",
          "data": {
            "text/plain": [
              "<Figure size 1500x1000 with 6 Axes>"
            ],
            "image/png": "[encoded data removed]"
          },
          "metadata": {}
        }
      ]
    },
    {
      "cell_type": "markdown",
      "source": [
        "## 9. Тестирование"
      ],
      "metadata": {
        "id": "v_nW9E1AdYNG"
      }
    },
    {
      "cell_type": "markdown",
      "source": [
        "### 9.1 Загрузка лучшей модели для инференса"
      ],
      "metadata": {
        "id": "IEQGuUJrtRoM"
      }
    },
    {
      "cell_type": "code",
      "source": [
        "def load_best_model(model, device='cuda'):\n",
        "    model.load_state_dict(torch.load('best_model/best_model.pth', map_location=device))\n",
        "    model.eval()\n",
        "    return model\n",
        "\n",
        "# Инициализация новой модели\n",
        "new_model = GINNeighborSampler(1, 64, 3).to(device)\n",
        "#new_optimizer = torch.optim.Adam(new_model.parameters(), lr=0.005)\n",
        "\n",
        "# Загрузка лучшей модели для инференса\n",
        "trained_model = load_best_model(new_model)"
      ],
      "metadata": {
        "id": "L15ZNl-7vuL1"
      },
      "execution_count": null,
      "outputs": []
    },
    {
      "cell_type": "markdown",
      "source": [
        "### 9.2. Пример предсказания для конкретного узла"
      ],
      "metadata": {
        "id": "hFuwHpjxtfMc"
      }
    },
    {
      "cell_type": "code",
      "source": [
        "def predict_node(node_idx, model, data, device='cuda'):\n",
        "    model.eval()\n",
        "    with torch.no_grad():\n",
        "        # Получаем предсказания для всех узлов\n",
        "        logits = model(\n",
        "            data.x.to(device),\n",
        "            data.edge_index.to(device),\n",
        "        )\n",
        "        # Выбираем предсказание для нужного узла\n",
        "        prob = F.softmax(logits[node_idx], dim=-1)\n",
        "    return f\"Node {node_idx}: Class {prob.argmax().item()} (Confidence: {prob.max().item():.2f})\""
      ],
      "metadata": {
        "id": "DcPe4Df46VuE"
      },
      "execution_count": null,
      "outputs": []
    },
    {
      "cell_type": "code",
      "source": [
        "# Пример предсказания для узла с индексом 7\n",
        "print(predict_node(7, trained_model, data, device))"
      ],
      "metadata": {
        "id": "5deXwg-PAvQ0",
        "colab": {
          "base_uri": "https://localhost:8080/"
        },
        "outputId": "647172c1-5f02-422b-ba55-8a75cd77c751"
      },
      "execution_count": null,
      "outputs": [
        {
          "output_type": "stream",
          "name": "stdout",
          "text": [
            "Node 7: Class 2 (Confidence: 0.77)\n"
          ]
        }
      ]
    },
    {
      "cell_type": "code",
      "source": [
        "# Пример предсказания для нескольких узлов с индексами 3, 42, 100\n",
        "for node_idx in [3, 42, 100]:\n",
        "    print(predict_node(node_idx, trained_model, data, device))"
      ],
      "metadata": {
        "id": "sLfyLeyJ6ccr",
        "colab": {
          "base_uri": "https://localhost:8080/"
        },
        "outputId": "e0995160-1ba1-42a5-c146-2f116c2a163b"
      },
      "execution_count": null,
      "outputs": [
        {
          "output_type": "stream",
          "name": "stdout",
          "text": [
            "Node 3: Class 2 (Confidence: 0.86)\n",
            "Node 42: Class 0 (Confidence: 1.00)\n",
            "Node 100: Class 0 (Confidence: 1.00)\n"
          ]
        }
      ]
    },
    {
      "cell_type": "markdown",
      "source": [
        "### 9.3 Тестирование модели на лучших весах"
      ],
      "metadata": {
        "id": "qLTgaqCHA-st"
      }
    },
    {
      "cell_type": "code",
      "source": [
        "model.eval()\n",
        "with torch.no_grad():\n",
        "    test_out = trained_model(data.x.to(device), data.edge_index.to(device))\n",
        "    test_acc = accuracy(test_out, data.y.to(device), data.test_mask.to(device))\n",
        "    print(f'Final Test Accuracy: {test_acc:.4f}')"
      ],
      "metadata": {
        "id": "4OBiGv_UtHW8",
        "colab": {
          "base_uri": "https://localhost:8080/"
        },
        "outputId": "1d68acdb-5caf-490b-9fe6-255c9a0e35f2"
      },
      "execution_count": null,
      "outputs": [
        {
          "output_type": "stream",
          "name": "stdout",
          "text": [
            "Final Test Accuracy: 0.9992\n"
          ]
        }
      ]
    },
    {
      "cell_type": "markdown",
      "source": [
        "## 10. Загрузка чекпоинта для продолжения обучения"
      ],
      "metadata": {
        "id": "yjqJl1kW9-ON"
      }
    },
    {
      "cell_type": "code",
      "source": [
        "# Функция загрузки чекпоинта\n",
        "def load_checkpoint(model, optimizer, checkpoint_path):\n",
        "    checkpoint = torch.load(checkpoint_path)\n",
        "    model.load_state_dict(checkpoint['model_state'])\n",
        "    optimizer.load_state_dict(checkpoint['optimizer_state'])\n",
        "    epoch = checkpoint['epoch']\n",
        "    return model, optimizer, epoch"
      ],
      "metadata": {
        "id": "EsM3AkYz-M-G"
      },
      "execution_count": null,
      "outputs": []
    },
    {
      "cell_type": "code",
      "source": [
        "# Инициализация новой модели\n",
        "new_model = GINNeighborSampler(1, 64, 3).to(device)\n",
        "new_optimizer = torch.optim.Adam(new_model.parameters(), lr=0.005)"
      ],
      "metadata": {
        "id": "480uqUPM-SxO"
      },
      "execution_count": null,
      "outputs": []
    },
    {
      "cell_type": "code",
      "source": [
        "# Загрузка чекпоинта для продолжения обучения\n",
        "loaded_model, loaded_optimizer, start_epoch = load_checkpoint(\n",
        "    new_model,\n",
        "    new_optimizer,\n",
        "    'checkpoints/checkpoint_epoch_0.pth'# последний сохраненный checkpoint\n",
        ")\n",
        "print(f'Resuming training from epoch {start_epoch}')"
      ],
      "metadata": {
        "id": "3IoZ2FGy1YCp",
        "colab": {
          "base_uri": "https://localhost:8080/"
        },
        "outputId": "e5c6005a-b0dc-4ea6-e67a-741b1560884f"
      },
      "execution_count": null,
      "outputs": [
        {
          "output_type": "stream",
          "name": "stdout",
          "text": [
            "Resuming training from epoch 0\n"
          ]
        }
      ]
    },
    {
      "cell_type": "markdown",
      "source": [
        "## 11. Возможные улучшения:\n",
        "\n",
        "- Добавление внимания к ребрам через edge_attr\n",
        "- Эксперименты с глубиной сети\n",
        "- Подбор гиперпараметров через Optuna\n",
        "- Использование более сложных признаков узлов"
      ],
      "metadata": {
        "id": "0Ru-o6e7fIFI"
      }
    }
  ]
}