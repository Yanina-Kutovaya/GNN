{
  "nbformat": 4,
  "nbformat_minor": 0,
  "metadata": {
    "colab": {
      "provenance": [],
      "gpuType": "T4",
      "authorship_tag": "ABX9TyOUBpwV/n22Ag7icUPBHE+T",
      "include_colab_link": true
    },
    "kernelspec": {
      "name": "python3",
      "display_name": "Python 3"
    },
    "language_info": {
      "name": "python"
    },
    "accelerator": "GPU"
  },
  "cells": [
    {
      "cell_type": "markdown",
      "metadata": {
        "id": "view-in-github",
        "colab_type": "text"
      },
      "source": [
        "<a href=\"https://colab.research.google.com/github/Yanina-Kutovaya/GNN/blob/main/notebooks/2_GraphSAGE.ipynb\" target=\"_parent\"><img src=\"https://colab.research.google.com/assets/colab-badge.svg\" alt=\"Open In Colab\"/></a>"
      ]
    },
    {
      "cell_type": "markdown",
      "source": [
        "# Реализация GraphSAGE из PyTorch Geometric для классификации узлов на датасете Bitcoin-OTC с обработкой признаков рёбер\n",
        "\n",
        "Задача — предсказать \"уровень доверия\" пользователей\n",
        "\n",
        "Признаки узлов/рёбер - синтетические"
      ],
      "metadata": {
        "id": "Bwfyji3uEUz1"
      }
    },
    {
      "cell_type": "markdown",
      "source": [
        "Необходимо выбрать среду выполнения с GPU: Runtime → Change runtime type → GPU"
      ],
      "metadata": {
        "id": "L2OTCX5MIX4H"
      }
    },
    {
      "cell_type": "markdown",
      "source": [
        "## 1. Установка зависимостей"
      ],
      "metadata": {
        "id": "0isa3_afF-Yc"
      }
    },
    {
      "cell_type": "code",
      "source": [
        "#!pip install -q torch-scatter -f https://data.pyg.org/whl/torch-2.0.0+cu118.html\n",
        "#!pip install -q torch-sparse -f https://data.pyg.org/whl/torch-2.0.0+cu118.html\n",
        "!pip install -q torch-geometric"
      ],
      "metadata": {
        "colab": {
          "base_uri": "https://localhost:8080/"
        },
        "id": "iQUasCDfGE4G",
        "outputId": "fba256ae-ba8e-463e-b93f-9c32a493be0c"
      },
      "execution_count": 1,
      "outputs": [
        {
          "output_type": "stream",
          "name": "stdout",
          "text": [
            "\u001b[2K     \u001b[90m━━━━━━━━━━━━━━━━━━━━━━━━━━━━━━━━━━━━━━━━\u001b[0m \u001b[32m63.1/63.1 kB\u001b[0m \u001b[31m3.2 MB/s\u001b[0m eta \u001b[36m0:00:00\u001b[0m\n",
            "\u001b[2K   \u001b[90m━━━━━━━━━━━━━━━━━━━━━━━━━━━━━━━━━━━━━━━━\u001b[0m \u001b[32m1.1/1.1 MB\u001b[0m \u001b[31m22.2 MB/s\u001b[0m eta \u001b[36m0:00:00\u001b[0m\n",
            "\u001b[?25h"
          ]
        }
      ]
    },
    {
      "cell_type": "markdown",
      "source": [
        "## 2. Импорт библиотек"
      ],
      "metadata": {
        "id": "Ik-L-JaFGNwF"
      }
    },
    {
      "cell_type": "code",
      "source": [
        "import torch\n",
        "import torch.nn.functional as F\n",
        "from torch_geometric.datasets import BitcoinOTC\n",
        "from torch_geometric.nn import SAGEConv\n",
        "import numpy as np"
      ],
      "metadata": {
        "id": "9vuaT_hSGQJN"
      },
      "execution_count": 2,
      "outputs": []
    },
    {
      "cell_type": "markdown",
      "source": [
        "## 3. Загрузка и подготовка данных"
      ],
      "metadata": {
        "id": "CqEyjRqlGSOH"
      }
    },
    {
      "cell_type": "markdown",
      "source": [
        "Обработка признаков:\n",
        "* Нормализация степеней узлов\n",
        "* Явное преобразование типов данных (float32 для рёбер)\n",
        "* Использование среднего значения признаков рёбер для каждого узла"
      ],
      "metadata": {
        "id": "1rvR5gMhIBmX"
      }
    },
    {
      "cell_type": "code",
      "source": [
        "dataset = BitcoinOTC(root='data/BitcoinOTC', edge_window_size=10)\n",
        "data = dataset[0]"
      ],
      "metadata": {
        "colab": {
          "base_uri": "https://localhost:8080/"
        },
        "id": "aP-H2PlFGWKf",
        "outputId": "a1536328-b4fd-441b-80d7-529f55c81b16"
      },
      "execution_count": 3,
      "outputs": [
        {
          "output_type": "stream",
          "name": "stderr",
          "text": [
            "Downloading https://snap.stanford.edu/data/soc-sign-bitcoinotc.csv.gz\n",
            "Extracting data/BitcoinOTC/raw/soc-sign-bitcoinotc.csv.gz\n",
            "Processing...\n",
            "Done!\n"
          ]
        }
      ]
    },
    {
      "cell_type": "markdown",
      "source": [
        "### 3.1 Создание синтетических признаков узлов (степень + нормализация)"
      ],
      "metadata": {
        "id": "kCSfpFLMGk8f"
      }
    },
    {
      "cell_type": "code",
      "source": [
        "degrees = np.zeros(data.num_nodes)\n",
        "for edge in data.edge_index.t().tolist():\n",
        "    degrees[edge[0]] += 1\n",
        "data.x = torch.tensor(degrees, dtype=torch.float).view(-1, 1)\n",
        "data.x = (data.x - data.x.mean()) / data.x.std()"
      ],
      "metadata": {
        "id": "J1SnglsFGqxs"
      },
      "execution_count": 4,
      "outputs": []
    },
    {
      "cell_type": "markdown",
      "source": [
        "### 3.2 Создание меток (3 класса) и обработка рёбер"
      ],
      "metadata": {
        "id": "DwmOzngfGymz"
      }
    },
    {
      "cell_type": "code",
      "source": [
        "labels = torch.zeros(data.num_nodes, dtype=torch.long)\n",
        "q1 = np.quantile(degrees, 0.33)\n",
        "q2 = np.quantile(degrees, 0.66)\n",
        "labels[degrees > q2] = 2\n",
        "labels[(degrees > q1) & (degrees <= q2)] = 1\n",
        "data.y = labels\n",
        "data.edge_attr = data.edge_attr.to(torch.float32)  # Явное преобразование типа"
      ],
      "metadata": {
        "id": "cPVOF6mOGu9r"
      },
      "execution_count": 5,
      "outputs": []
    },
    {
      "cell_type": "markdown",
      "source": [
        "### 3.3 Разделение данных"
      ],
      "metadata": {
        "id": "rG_0YPn1G9uL"
      }
    },
    {
      "cell_type": "code",
      "source": [
        "data.train_mask = torch.zeros(data.num_nodes, dtype=torch.bool)\n",
        "data.val_mask = torch.zeros(data.num_nodes, dtype=torch.bool)\n",
        "data.test_mask = torch.zeros(data.num_nodes, dtype=torch.bool)\n",
        "indices = torch.randperm(data.num_nodes)\n",
        "split = [0.6, 0.2, 0.2]\n",
        "data.train_mask[indices[:int(split[0]*data.num_nodes)]] = True\n",
        "data.val_mask[indices[int(split[0]*data.num_nodes):int((split[0]+split[1])*data.num_nodes)]] = True\n",
        "data.test_mask[indices[int((split[0]+split[1])*data.num_nodes):]] = True"
      ],
      "metadata": {
        "id": "pNRqPfYRHAc2"
      },
      "execution_count": 6,
      "outputs": []
    },
    {
      "cell_type": "markdown",
      "source": [
        "## 4. Определение модели GraphSAGE"
      ],
      "metadata": {
        "id": "8Eq9yaPdHJLC"
      }
    },
    {
      "cell_type": "markdown",
      "source": [
        "Архитектура GraphSAGE:\n",
        "* Два слоя SAGEConv с dropout-регуляризацией\n",
        "* Объединение признаков узлов и усреднённых признаков рёбер\n",
        "* Активация ReLU между слоями"
      ],
      "metadata": {
        "id": "ED4XdP3YH1BA"
      }
    },
    {
      "cell_type": "code",
      "source": [
        "class BitcoinSAGE(torch.nn.Module):\n",
        "    def __init__(self, node_features, edge_hidden, hidden_channels, out_channels):\n",
        "        super().__init__()\n",
        "        # Кодировщик признаков рёбер\n",
        "        self.edge_encoder = torch.nn.Linear(1, edge_hidden)  # 1 признак -> edge_hidden\n",
        "\n",
        "        # SAGE слои\n",
        "        self.conv1 = SAGEConv(node_features + edge_hidden, hidden_channels)\n",
        "        self.conv2 = SAGEConv(hidden_channels, out_channels)\n",
        "        self.dropout = 0.5\n",
        "\n",
        "    def forward(self, x, edge_index, edge_attr):\n",
        "        # Агрегация признаков рёбер\n",
        "        row = edge_index[0]\n",
        "        edge_features = self.edge_encoder(edge_attr.view(-1, 1))  # [num_edges, edge_hidden]\n",
        "\n",
        "        # Суммирование по узлам\n",
        "        aggregated = torch.zeros(x.size(0), edge_features.size(1)).to(x.device)\n",
        "        aggregated.scatter_add_(0, row.unsqueeze(-1).expand(-1, edge_features.size(1)), edge_features)\n",
        "\n",
        "        # Объединение признаков\n",
        "        x = torch.cat([x, aggregated], dim=1)  # [num_nodes, node_features + edge_hidden]\n",
        "\n",
        "        # GraphSAGE\n",
        "        x = self.conv1(x, edge_index).relu()\n",
        "        x = F.dropout(x, p=self.dropout, training=self.training)\n",
        "        return self.conv2(x, edge_index)"
      ],
      "metadata": {
        "id": "dcyCnsdlHK3r"
      },
      "execution_count": 7,
      "outputs": []
    },
    {
      "cell_type": "markdown",
      "source": [
        "## 5. Инициализация модели"
      ],
      "metadata": {
        "id": "H_1PF9odHb4n"
      }
    },
    {
      "cell_type": "code",
      "source": [
        "device = torch.device('cuda' if torch.cuda.is_available() else 'cpu')\n",
        "model = BitcoinSAGE(\n",
        "    node_features=data.x.size(1),  # 1\n",
        "    edge_hidden=32,\n",
        "    hidden_channels=64,\n",
        "    out_channels=3\n",
        ").to(device)\n",
        "\n",
        "data = data.to(device)\n",
        "optimizer = torch.optim.Adam(model.parameters(), lr=0.01, weight_decay=5e-4)"
      ],
      "metadata": {
        "id": "i26_XbC8HYM1"
      },
      "execution_count": 8,
      "outputs": []
    },
    {
      "cell_type": "markdown",
      "source": [
        "## 6. Обучение модели"
      ],
      "metadata": {
        "id": "-20-WR9AHlaL"
      }
    },
    {
      "cell_type": "code",
      "source": [
        "def accuracy(pred, true, mask):\n",
        "    return (pred[mask].argmax(dim=1) == true[mask]).sum().float() / mask.sum()\n",
        "\n",
        "model.train()\n",
        "for epoch in range(200):\n",
        "    optimizer.zero_grad()\n",
        "    out = model(data.x, data.edge_index, data.edge_attr)\n",
        "    loss = F.cross_entropy(out[data.train_mask], data.y[data.train_mask])\n",
        "    loss.backward()\n",
        "    optimizer.step()\n",
        "\n",
        "    # Валидация\n",
        "    model.eval()\n",
        "    with torch.no_grad():\n",
        "        val_acc = accuracy(out, data.y, data.val_mask)\n",
        "\n",
        "    if epoch % 20 == 0:\n",
        "        print(f'Epoch {epoch:03d} | Loss: {loss.item():.4f} | Val Acc: {val_acc:.4f}')"
      ],
      "metadata": {
        "colab": {
          "base_uri": "https://localhost:8080/"
        },
        "id": "h6m2sB4LHhJt",
        "outputId": "5d825027-7ddc-4603-8af6-435185aa1b82"
      },
      "execution_count": 9,
      "outputs": [
        {
          "output_type": "stream",
          "name": "stdout",
          "text": [
            "Epoch 000 | Loss: 1.0535 | Val Acc: 0.8468\n",
            "Epoch 020 | Loss: 0.0997 | Val Acc: 1.0000\n",
            "Epoch 040 | Loss: 0.0018 | Val Acc: 1.0000\n",
            "Epoch 060 | Loss: 0.0005 | Val Acc: 1.0000\n",
            "Epoch 080 | Loss: 0.0005 | Val Acc: 1.0000\n",
            "Epoch 100 | Loss: 0.0005 | Val Acc: 1.0000\n",
            "Epoch 120 | Loss: 0.0005 | Val Acc: 1.0000\n",
            "Epoch 140 | Loss: 0.0005 | Val Acc: 1.0000\n",
            "Epoch 160 | Loss: 0.0005 | Val Acc: 1.0000\n",
            "Epoch 180 | Loss: 0.0005 | Val Acc: 1.0000\n"
          ]
        }
      ]
    },
    {
      "cell_type": "markdown",
      "source": [
        "## 7. Тестирование"
      ],
      "metadata": {
        "id": "A7e9YKNzHq8P"
      }
    },
    {
      "cell_type": "code",
      "source": [
        "model.eval()\n",
        "with torch.no_grad():\n",
        "    out = model(data.x, data.edge_index, data.edge_attr)\n",
        "    test_acc = accuracy(out, data.y, data.test_mask)\n",
        "    print(f'\\nFinal Test Accuracy: {test_acc:.4f}')"
      ],
      "metadata": {
        "colab": {
          "base_uri": "https://localhost:8080/"
        },
        "id": "DFe91KxKEXau",
        "outputId": "756d41b9-5be2-4b90-9ae5-a7d86fe281c4"
      },
      "execution_count": 10,
      "outputs": [
        {
          "output_type": "stream",
          "name": "stdout",
          "text": [
            "\n",
            "Final Test Accuracy: 1.0000\n"
          ]
        }
      ]
    }
  ]
}