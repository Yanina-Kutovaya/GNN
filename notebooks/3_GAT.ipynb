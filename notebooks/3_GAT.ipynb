{
  "nbformat": 4,
  "nbformat_minor": 0,
  "metadata": {
    "colab": {
      "provenance": [],
      "gpuType": "T4",
      "authorship_tag": "ABX9TyO8hsRGZb90ZyMDgyM4JFvZ",
      "include_colab_link": true
    },
    "kernelspec": {
      "name": "python3",
      "display_name": "Python 3"
    },
    "language_info": {
      "name": "python"
    },
    "accelerator": "GPU"
  },
  "cells": [
    {
      "cell_type": "markdown",
      "metadata": {
        "id": "view-in-github",
        "colab_type": "text"
      },
      "source": [
        "<a href=\"https://colab.research.google.com/github/Yanina-Kutovaya/GNN/blob/main/notebooks/3_GAT.ipynb\" target=\"_parent\"><img src=\"https://colab.research.google.com/assets/colab-badge.svg\" alt=\"Open In Colab\"/></a>"
      ]
    },
    {
      "cell_type": "markdown",
      "source": [
        "# Реализация Graph Attention Network (GAT) из PyTorch Geometric для классификации узлов на датасете Bitcoin-OTC с обработкой признаков рёбер\n",
        "\n",
        "Задача — предсказать \"уровень доверия\" пользователей\n",
        "\n",
        "Признаки узлов/рёбер - синтетические"
      ],
      "metadata": {
        "id": "fDymUc1zMFbR"
      }
    },
    {
      "cell_type": "markdown",
      "source": [
        "Необходимо выбрать среду выполнения с GPU: Runtime → Change runtime type → GPU"
      ],
      "metadata": {
        "id": "RTIXp3p5MQSz"
      }
    },
    {
      "cell_type": "markdown",
      "source": [
        "## 1. Установка зависимостей"
      ],
      "metadata": {
        "id": "EbsFsDxoM_Qp"
      }
    },
    {
      "cell_type": "code",
      "source": [
        "#!pip install -q torch-scatter -f https://data.pyg.org/whl/torch-2.0.0+cu118.html\n",
        "#!pip install -q torch-sparse -f https://data.pyg.org/whl/torch-2.0.0+cu118.html\n",
        "!pip install -q torch-geometric"
      ],
      "metadata": {
        "colab": {
          "base_uri": "https://localhost:8080/"
        },
        "id": "D1ihq0ijMcaV",
        "outputId": "7cd94325-ec6c-48e5-9ecb-abdb7480a9ac"
      },
      "execution_count": 1,
      "outputs": [
        {
          "output_type": "stream",
          "name": "stdout",
          "text": [
            "\u001b[2K     \u001b[90m━━━━━━━━━━━━━━━━━━━━━━━━━━━━━━━━━━━━━━━━\u001b[0m \u001b[32m63.1/63.1 kB\u001b[0m \u001b[31m3.7 MB/s\u001b[0m eta \u001b[36m0:00:00\u001b[0m\n",
            "\u001b[2K   \u001b[90m━━━━━━━━━━━━━━━━━━━━━━━━━━━━━━━━━━━━━━━━\u001b[0m \u001b[32m1.1/1.1 MB\u001b[0m \u001b[31m13.5 MB/s\u001b[0m eta \u001b[36m0:00:00\u001b[0m\n",
            "\u001b[?25h"
          ]
        }
      ]
    },
    {
      "cell_type": "markdown",
      "source": [
        "## 2. Импорт библиотек"
      ],
      "metadata": {
        "id": "YdbU6pKtNE4n"
      }
    },
    {
      "cell_type": "code",
      "source": [
        "import torch\n",
        "import torch.nn.functional as F\n",
        "from torch_geometric.datasets import BitcoinOTC\n",
        "from torch_geometric.nn import GATConv\n",
        "import numpy as np"
      ],
      "metadata": {
        "id": "HJ1CMhwmMd67"
      },
      "execution_count": 2,
      "outputs": []
    },
    {
      "cell_type": "markdown",
      "source": [
        "## 3. Загрузка и подготовка данных"
      ],
      "metadata": {
        "id": "oQtgNvqrNIgf"
      }
    },
    {
      "cell_type": "markdown",
      "source": [
        "Обработка признаков:\n",
        "* Нормализация степеней узлов\n",
        "* Стандартизация признаков рёбер\n",
        "* Явное указание размерности признаков рёбер (edge_dim=1)"
      ],
      "metadata": {
        "id": "ovje1GY5Owhj"
      }
    },
    {
      "cell_type": "code",
      "source": [
        "dataset = BitcoinOTC(root='data/BitcoinOTC', edge_window_size=10)\n",
        "data = dataset[0]"
      ],
      "metadata": {
        "colab": {
          "base_uri": "https://localhost:8080/"
        },
        "id": "WQT0tYxfNM6B",
        "outputId": "5296461b-6790-48f6-c45f-767ffa0e7d15"
      },
      "execution_count": 3,
      "outputs": [
        {
          "output_type": "stream",
          "name": "stderr",
          "text": [
            "Downloading https://snap.stanford.edu/data/soc-sign-bitcoinotc.csv.gz\n",
            "Extracting data/BitcoinOTC/raw/soc-sign-bitcoinotc.csv.gz\n",
            "Processing...\n",
            "Done!\n"
          ]
        }
      ]
    },
    {
      "cell_type": "markdown",
      "source": [
        "### 3.1 Создание синтетических признаков узлов"
      ],
      "metadata": {
        "id": "VCLf_ur2NY4r"
      }
    },
    {
      "cell_type": "code",
      "source": [
        "degrees = np.zeros(data.num_nodes)\n",
        "for edge in data.edge_index.t().tolist():\n",
        "    degrees[edge[0]] += 1\n",
        "data.x = torch.tensor(degrees, dtype=torch.float).view(-1, 1)\n",
        "data.x = (data.x - data.x.mean()) / data.x.std()"
      ],
      "metadata": {
        "id": "zfrxkx0jNZYw"
      },
      "execution_count": 4,
      "outputs": []
    },
    {
      "cell_type": "markdown",
      "source": [
        "### 3.2 Создание меток (3 класса)"
      ],
      "metadata": {
        "id": "T9mNJCJZNcLX"
      }
    },
    {
      "cell_type": "code",
      "source": [
        "labels = torch.zeros(data.num_nodes, dtype=torch.long)\n",
        "q1 = np.quantile(degrees, 0.33)\n",
        "q2 = np.quantile(degrees, 0.66)\n",
        "labels[degrees > q2] = 2\n",
        "labels[(degrees > q1) & (degrees <= q2)] = 1\n",
        "data.y = labels"
      ],
      "metadata": {
        "id": "Yc8bVtMENcne"
      },
      "execution_count": 5,
      "outputs": []
    },
    {
      "cell_type": "markdown",
      "source": [
        "### 3.3 Явное преобразование типа и нормализация признаков рёбер"
      ],
      "metadata": {
        "id": "IDbZBJo9Nfp0"
      }
    },
    {
      "cell_type": "code",
      "source": [
        "data.edge_attr = data.edge_attr.to(torch.float32)\n",
        "data.edge_attr = (data.edge_attr - data.edge_attr.mean()) / data.edge_attr.std()"
      ],
      "metadata": {
        "id": "Un5NSaENNgGR"
      },
      "execution_count": 6,
      "outputs": []
    },
    {
      "cell_type": "markdown",
      "source": [
        "### 3.4 Разделение данных"
      ],
      "metadata": {
        "id": "CJLrwiA3NiFF"
      }
    },
    {
      "cell_type": "code",
      "source": [
        "data.train_mask = torch.zeros(data.num_nodes, dtype=torch.bool)\n",
        "data.val_mask = torch.zeros(data.num_nodes, dtype=torch.bool)\n",
        "data.test_mask = torch.zeros(data.num_nodes, dtype=torch.bool)\n",
        "indices = torch.randperm(data.num_nodes)\n",
        "split = [0.6, 0.2, 0.2]\n",
        "data.train_mask[indices[:int(split[0]*data.num_nodes)]] = True\n",
        "data.val_mask[indices[int(split[0]*data.num_nodes):int((split[0]+split[1])*data.num_nodes)]] = True\n",
        "data.test_mask[indices[int((split[0]+split[1])*data.num_nodes):]] = True"
      ],
      "metadata": {
        "id": "1W8_cXpqMjoT"
      },
      "execution_count": 7,
      "outputs": []
    },
    {
      "cell_type": "markdown",
      "source": [
        "## 4. Определение модели GAT с использованием признаков рёбер"
      ],
      "metadata": {
        "id": "M00Gyf7ENqk5"
      }
    },
    {
      "cell_type": "markdown",
      "source": [
        "Архитектура GAT:\n",
        "\n",
        "* Два слоя GATConv с multi-head attention (8 heads в первом слое)\n",
        "* Использование признаков рёбер через параметр edge_dim\n",
        "* ELU-активация и dropout для регуляризации"
      ],
      "metadata": {
        "id": "tSBRwzn1Oh0G"
      }
    },
    {
      "cell_type": "code",
      "source": [
        "class BitcoinGAT(torch.nn.Module):\n",
        "    def __init__(self, in_channels, out_channels, heads=8):\n",
        "        super().__init__()\n",
        "        self.conv1 = GATConv(\n",
        "            in_channels=in_channels,\n",
        "            out_channels=8,\n",
        "            heads=heads,\n",
        "            edge_dim=1,\n",
        "            dropout=0.6\n",
        "        )\n",
        "        self.conv2 = GATConv(\n",
        "            in_channels=8*heads,\n",
        "            out_channels=out_channels,\n",
        "            heads=1,\n",
        "            edge_dim=1,\n",
        "            concat=False,\n",
        "            dropout=0.6\n",
        "        )\n",
        "        self.dropout = 0.6\n",
        "\n",
        "    def forward(self, x, edge_index, edge_attr):\n",
        "        x = F.dropout(x, p=self.dropout, training=self.training)\n",
        "        x = F.elu(self.conv1(x, edge_index, edge_attr))\n",
        "        x = F.dropout(x, p=self.dropout, training=self.training)\n",
        "        return self.conv2(x, edge_index, edge_attr)"
      ],
      "metadata": {
        "id": "vp5xG5EpMm9D"
      },
      "execution_count": 8,
      "outputs": []
    },
    {
      "cell_type": "markdown",
      "source": [
        "## 5. Инициализация модели"
      ],
      "metadata": {
        "id": "eBkzRKn7NuOV"
      }
    },
    {
      "cell_type": "code",
      "source": [
        "device = torch.device('cuda' if torch.cuda.is_available() else 'cpu')\n",
        "model = BitcoinGAT(\n",
        "    in_channels=1,  # 1 признак узла (нормализованная степень)\n",
        "    out_channels=3  # 3 класса\n",
        ").to(device)\n",
        "\n",
        "data = data.to(device)\n",
        "optimizer = torch.optim.Adam(model.parameters(), lr=0.005, weight_decay=5e-4)"
      ],
      "metadata": {
        "id": "aqCiSxuEMoxH"
      },
      "execution_count": 9,
      "outputs": []
    },
    {
      "cell_type": "markdown",
      "source": [
        "## 6. Обучение модели"
      ],
      "metadata": {
        "id": "dsUO0MDsN2jd"
      }
    },
    {
      "cell_type": "code",
      "source": [
        "def accuracy(pred, true, mask):\n",
        "    return (pred[mask].argmax(dim=1) == true[mask]).sum().float() / mask.sum()\n",
        "\n",
        "model.train()\n",
        "for epoch in range(300):\n",
        "    optimizer.zero_grad()\n",
        "    out = model(data.x, data.edge_index, data.edge_attr)\n",
        "    loss = F.cross_entropy(out[data.train_mask], data.y[data.train_mask])\n",
        "    loss.backward()\n",
        "    optimizer.step()\n",
        "\n",
        "    # Валидация\n",
        "    model.eval()\n",
        "    with torch.no_grad():\n",
        "        val_acc = accuracy(out, data.y, data.val_mask)\n",
        "\n",
        "    if epoch % 30 == 0:\n",
        "        print(f'Epoch {epoch:03d} | Loss: {loss.item():.4f} | Val Acc: {val_acc:.4f}')"
      ],
      "metadata": {
        "colab": {
          "base_uri": "https://localhost:8080/"
        },
        "id": "0f0fsYg7MugN",
        "outputId": "361b1790-cc20-4401-f8df-01f68ed64fe6"
      },
      "execution_count": 10,
      "outputs": [
        {
          "output_type": "stream",
          "name": "stdout",
          "text": [
            "Epoch 000 | Loss: 1.0853 | Val Acc: 0.9292\n",
            "Epoch 030 | Loss: 0.0392 | Val Acc: 0.9983\n",
            "Epoch 060 | Loss: 0.0044 | Val Acc: 1.0000\n",
            "Epoch 090 | Loss: 0.0028 | Val Acc: 1.0000\n",
            "Epoch 120 | Loss: 0.0022 | Val Acc: 1.0000\n",
            "Epoch 150 | Loss: 0.0018 | Val Acc: 1.0000\n",
            "Epoch 180 | Loss: 0.0016 | Val Acc: 1.0000\n",
            "Epoch 210 | Loss: 0.0014 | Val Acc: 1.0000\n",
            "Epoch 240 | Loss: 0.0013 | Val Acc: 1.0000\n",
            "Epoch 270 | Loss: 0.0012 | Val Acc: 1.0000\n"
          ]
        }
      ]
    },
    {
      "cell_type": "markdown",
      "source": [
        "## 7. Тестирование"
      ],
      "metadata": {
        "id": "0wMKIKOCN8ir"
      }
    },
    {
      "cell_type": "code",
      "source": [
        "model.eval()\n",
        "with torch.no_grad():\n",
        "    out = model(data.x, data.edge_index, data.edge_attr)\n",
        "    test_acc = accuracy(out, data.y, data.test_mask)\n",
        "    print(f'\\nFinal Test Accuracy: {test_acc:.4f}')"
      ],
      "metadata": {
        "colab": {
          "base_uri": "https://localhost:8080/"
        },
        "id": "-1nojH1QMMJq",
        "outputId": "4ba354b2-5a93-4bad-8668-246709dfc38f"
      },
      "execution_count": 11,
      "outputs": [
        {
          "output_type": "stream",
          "name": "stdout",
          "text": [
            "\n",
            "Final Test Accuracy: 1.0000\n"
          ]
        }
      ]
    },
    {
      "cell_type": "markdown",
      "source": [
        "## 8. Визуализация внимания (дополнительно):"
      ],
      "metadata": {
        "id": "sLt3pyz5OJIJ"
      }
    },
    {
      "cell_type": "code",
      "source": [
        "# Визуализация весов внимания\n",
        "model.eval()\n",
        "_, (edge_index, attention_weights) = model.conv1(data.x, data.edge_index, return_attention_weights=True)\n",
        "\n",
        "# Для первого узла\n",
        "node_idx = 0\n",
        "mask = edge_index[0] == node_idx\n",
        "related_edges = edge_index[:, mask]\n",
        "related_weights = attention_weights[mask]\n",
        "\n",
        "if len(related_weights) == 0:\n",
        "    print(f\"У узла {node_idx} нет соседей.\")\n",
        "else:\n",
        "    avg_weights = related_weights.mean(dim=1)\n",
        "    top_n = 5\n",
        "    actual_n = min(top_n, len(avg_weights))\n",
        "\n",
        "    top_weights, top_indices = torch.topk(avg_weights, actual_n)\n",
        "\n",
        "    print(f\"\\nТоп-{actual_n} важных связей узла {node_idx}:\")\n",
        "    for i in range(actual_n):\n",
        "        edge_idx = top_indices[i].item()\n",
        "        source = related_edges[0, edge_idx].item()\n",
        "        target = related_edges[1, edge_idx].item()\n",
        "        print(f\"{i+1}. {source} → {target} | Вес: {top_weights[i].item():.4f}\")"
      ],
      "metadata": {
        "colab": {
          "base_uri": "https://localhost:8080/"
        },
        "id": "Y6zm1KhqThWs",
        "outputId": "1345dd03-8924-412d-8dc4-d2a3209edd81"
      },
      "execution_count": 12,
      "outputs": [
        {
          "output_type": "stream",
          "name": "stdout",
          "text": [
            "\n",
            "Топ-3 важных связей узла 0:\n",
            "1. 0 → 14 | Вес: 0.5040\n",
            "2. 0 → 0 | Вес: 0.2767\n",
            "3. 0 → 4 | Вес: 0.2387\n"
          ]
        }
      ]
    },
    {
      "cell_type": "markdown",
      "source": [
        "### 8.1 Визуализация для конкретной головы внимания:"
      ],
      "metadata": {
        "id": "69EDTXdhRku-"
      }
    },
    {
      "cell_type": "code",
      "source": [
        "head_idx = 3  # Выбираем 4-ю голову\n",
        "head_weights = related_weights[:, head_idx]\n",
        "head_weights"
      ],
      "metadata": {
        "colab": {
          "base_uri": "https://localhost:8080/"
        },
        "id": "iCqqtCFBRne8",
        "outputId": "cf691107-73e9-4a61-98ca-287e3aeb1537"
      },
      "execution_count": 13,
      "outputs": [
        {
          "output_type": "execute_result",
          "data": {
            "text/plain": [
              "tensor([0.4960, 0.2505, 0.2544], device='cuda:0', grad_fn=<SelectBackward0>)"
            ]
          },
          "metadata": {},
          "execution_count": 13
        }
      ]
    },
    {
      "cell_type": "markdown",
      "source": [
        "### 8.2 Сортировка по убыванию веса"
      ],
      "metadata": {
        "id": "NHtDiK8YR6f-"
      }
    },
    {
      "cell_type": "code",
      "source": [
        "# Добавить для явной сортировки\n",
        "sorted_indices = torch.argsort(avg_weights, descending=True)\n",
        "sorted_weights = avg_weights[sorted_indices]\n",
        "sorted_edges = related_edges[:, sorted_indices]\n",
        "\n",
        "print(f'sorted_indices: {sorted_indices}')\n",
        "print(f'sorted_weights: {sorted_weights}')\n",
        "print(f'sorted_edges: {sorted_edges}')"
      ],
      "metadata": {
        "colab": {
          "base_uri": "https://localhost:8080/"
        },
        "id": "_PAJT23JUMcU",
        "outputId": "dccacfa2-f07f-4dfb-8a69-17b1ae3a8354"
      },
      "execution_count": 14,
      "outputs": [
        {
          "output_type": "stream",
          "name": "stdout",
          "text": [
            "sorted_indices: tensor([0, 2, 1], device='cuda:0')\n",
            "sorted_weights: tensor([0.5040, 0.2767, 0.2387], device='cuda:0', grad_fn=<IndexBackward0>)\n",
            "sorted_edges: tensor([[ 0,  0,  0],\n",
            "        [14,  0,  4]], device='cuda:0')\n"
          ]
        }
      ]
    },
    {
      "cell_type": "markdown",
      "source": [
        "### 8.3 Визуализация через matplotlib:"
      ],
      "metadata": {
        "id": "1IfLEAyFU6it"
      }
    },
    {
      "cell_type": "code",
      "source": [
        "import matplotlib.pyplot as plt\n",
        "\n",
        "model.eval()\n",
        "_, (edge_index, attention_weights) = model.conv1(data.x, data.edge_index, return_attention_weights=True)\n",
        "\n",
        "node_idx = 0\n",
        "mask = edge_index[0] == node_idx\n",
        "related_edges = edge_index[:, mask]\n",
        "related_weights = attention_weights[mask]\n",
        "\n",
        "if len(related_weights) > 0:\n",
        "    avg_weights = related_weights.mean(dim=1)\n",
        "\n",
        "    # Визуализация\n",
        "    plt.figure(figsize=(12, 6))\n",
        "    plt.bar(\n",
        "        x=range(len(avg_weights)),\n",
        "        height=avg_weights.detach().cpu().numpy(),  # <-- Исправление\n",
        "        color='skyblue'\n",
        "    )\n",
        "    plt.title(f\"Распределение весов внимания для узла {node_idx}\", fontsize=14)\n",
        "    plt.xlabel(\"Индекс ребра\", fontsize=12)\n",
        "    plt.ylabel(\"Средний вес внимания\", fontsize=12)\n",
        "    plt.xticks(rotation=45)\n",
        "    plt.grid(axis='y', linestyle='--', alpha=0.7)\n",
        "    plt.show()\n",
        "else:\n",
        "    print(f\"У узла {node_idx} нет входящих/исходящих связей.\")"
      ],
      "metadata": {
        "colab": {
          "base_uri": "https://localhost:8080/",
          "height": 589
        },
        "id": "v6jERgzEV_zd",
        "outputId": "846fe7dc-8b36-4a7f-9d65-4700b3fd7acb"
      },
      "execution_count": 15,
      "outputs": [
        {
          "output_type": "display_data",
          "data": {
            "text/plain": [
              "<Figure size 1200x600 with 1 Axes>"
            ],
            "image/png": "[encoded data removed]"
          },
          "metadata": {}
        }
      ]
    }
  ]
}