{
  "nbformat": 4,
  "nbformat_minor": 0,
  "metadata": {
    "colab": {
      "provenance": [],
      "authorship_tag": "ABX9TyNGoJMqCSiFzLExzqpx/E01",
      "include_colab_link": true
    },
    "kernelspec": {
      "name": "python3",
      "display_name": "Python 3"
    },
    "language_info": {
      "name": "python"
    }
  },
  "cells": [
    {
      "cell_type": "markdown",
      "metadata": {
        "id": "view-in-github",
        "colab_type": "text"
      },
      "source": [
        "<a href=\"https://colab.research.google.com/github/Yanina-Kutovaya/GNN/blob/main/notebooks/Mock_NeighborLoader.ipynb\" target=\"_parent\"><img src=\"https://colab.research.google.com/assets/colab-badge.svg\" alt=\"Open In Colab\"/></a>"
      ]
    },
    {
      "cell_type": "markdown",
      "source": [
        "# Mock-тест для NeighborLoader"
      ],
      "metadata": {
        "id": "YFKqo9vPeTcj"
      }
    },
    {
      "cell_type": "markdown",
      "source": [
        "Этот тестовый класс проверяет:\n",
        "\n",
        "- Корректную загрузку узлов и рёбер.\n",
        "- Обработку отсутствующих рёбер.\n",
        "- Обработку ошибок БД.\n",
        "\n",
        "Тесты обеспечивают надёжность функции load_graph_from_postgres без необходимости подключения к реальной базе данных."
      ],
      "metadata": {
        "id": "ZQ48chLjeoHn"
      }
    },
    {
      "cell_type": "markdown",
      "source": [],
      "metadata": {
        "id": "QsxttnCyiF8f"
      }
    },
    {
      "cell_type": "markdown",
      "source": [
        "## 1. Установка зависимостей"
      ],
      "metadata": {
        "id": "ICQG4XpjfAvG"
      }
    },
    {
      "cell_type": "code",
      "source": [
        "!pip install -q torch torch-geometric pandas psycopg2-binary"
      ],
      "metadata": {
        "id": "Opayau-EebSY"
      },
      "execution_count": 1,
      "outputs": []
    },
    {
      "cell_type": "markdown",
      "source": [
        "## 2. Полный тест с пояснениями"
      ],
      "metadata": {
        "id": "uNRsI0lBfIE8"
      }
    },
    {
      "cell_type": "markdown",
      "source": [
        "__Функция ```load_graph_from_postgres```__\n",
        "\n",
        "В функцию ```load_graph_from_postgres```\n",
        "\n",
        "* Добавлена обработка исключений вокруг pd.read_sql - Убедились, что даже если SQL-запросы завершаются ошибкой, функция не падает\n",
        "* Убедились, что conn.close() вызывается в finally - Предотвращаем утечки соединений\n",
        "* Возвращается Data(...) с пустыми тензорами - Обеспечивается совместимость с моделью, даже если данные не загружены"
      ],
      "metadata": {
        "id": "D9R_noBpjbO4"
      }
    },
    {
      "cell_type": "markdown",
      "source": [
        "__Что проверяет каждый тест?__\n",
        "\n",
        "- ```test_load_graph_returns_correct_data``` - Загрузка данных из БД с корректными узлами и рёбрами\n",
        "- ```test_load_graph_returns_empty_edges``` - Обработка отсутствия рёбер в БД\n",
        "- ```test_load_graph_handles_db_errors``` - Обработка ошибок подключения или SQL-запросов"
      ],
      "metadata": {
        "id": "jzNEsTA2kED2"
      }
    },
    {
      "cell_type": "code",
      "source": [
        "import unittest\n",
        "from unittest.mock import patch, MagicMock\n",
        "import pandas as pd\n",
        "import torch\n",
        "from torch_geometric.data import Data\n",
        "import psycopg2\n",
        "\n",
        "# === Тестируемая функция ===\n",
        "def load_graph_from_postgres(db_config):\n",
        "    try:\n",
        "        conn = psycopg2.connect(**db_config)\n",
        "        try:\n",
        "            # Загрузка узлов\n",
        "            query_nodes = \"SELECT alias, label, degree, total_received FROM node_attributes\"\n",
        "            nodes_df = pd.read_sql(query_nodes, conn)\n",
        "\n",
        "            # Загрузка рёбер\n",
        "            query_edges = \"SELECT a, b, total_sent FROM edge_attributes\"\n",
        "            edges_df = pd.read_sql(query_edges, conn)\n",
        "        finally:\n",
        "            conn.close()\n",
        "    except Exception as e:\n",
        "        # В случае ошибки возвращаем пустой граф\n",
        "        return Data(\n",
        "            x=torch.tensor([], dtype=torch.float),\n",
        "            edge_index=torch.tensor([], dtype=torch.long).view(2, -1),\n",
        "            edge_attr=torch.tensor([], dtype=torch.float).view(-1, 1),\n",
        "            y=torch.tensor([], dtype=torch.long)\n",
        "        )\n",
        "\n",
        "    # Маппинг alias -> индекс\n",
        "    alias_to_idx = {alias: idx for idx, alias in enumerate(nodes_df['alias'])}\n",
        "\n",
        "    # Формирование edge_index и edge_attr\n",
        "    edges = []\n",
        "    edge_attrs = []\n",
        "    for _, row in edges_df.iterrows():\n",
        "        a_idx = alias_to_idx.get(row['a'])\n",
        "        b_idx = alias_to_idx.get(row['b'])\n",
        "        if a_idx is not None and b_idx is not None:\n",
        "            edges.append([a_idx, b_idx])\n",
        "            edge_attrs.append(row['total_sent'])\n",
        "\n",
        "    edge_index = torch.tensor(edges, dtype=torch.long).T if edges else torch.zeros((2, 0), dtype=torch.long)\n",
        "    edge_attr = torch.tensor(edge_attrs, dtype=torch.float).view(-1, 1) if edge_attrs else torch.zeros((0, 1), dtype=torch.float)\n",
        "\n",
        "    # Формирование признаков узлов и меток\n",
        "    x = torch.tensor(nodes_df[['degree', 'total_received']].fillna(0).values, dtype=torch.float)\n",
        "    y = torch.tensor(nodes_df['label'].fillna(0).values, dtype=torch.long)\n",
        "\n",
        "    return Data(x=x, edge_index=edge_index, edge_attr=edge_attr, y=y)\n",
        "\n",
        "# === Тестовый класс ===\n",
        "class TestLoadGraphFromPostgres(unittest.TestCase):\n",
        "    def setUp(self):\n",
        "        # Конфигурация БД\n",
        "        self.db_config = {\n",
        "            'dbname': 'test_db',\n",
        "            'user': 'test_user',\n",
        "            'password': 'test_pass',\n",
        "            'host': 'localhost',\n",
        "            'port': 5432\n",
        "        }\n",
        "        # Фиктивные данные для узлов\n",
        "        self.nodes_data = pd.DataFrame({\n",
        "            'alias': [1, 2],\n",
        "            'label': [0, 1],\n",
        "            'degree': [2, 1],\n",
        "            'total_received': [100.0, 200.0]\n",
        "        })\n",
        "        # Фиктивные данные для рёбер\n",
        "        self.edges_data = pd.DataFrame({\n",
        "            'a': [1, 2],\n",
        "            'b': [2, 1],\n",
        "            'total_sent': [50.0, 30.0]\n",
        "        })\n",
        "\n",
        "    # ✅ Тест: корректная загрузка данных\n",
        "    @patch('psycopg2.connect')\n",
        "    @patch('pandas.read_sql')\n",
        "    def test_load_graph_returns_correct_data(self, mock_read_sql, mock_connect):\n",
        "        # Настройка мока для подключения к БД\n",
        "        mock_conn = MagicMock()\n",
        "        mock_cursor = MagicMock()\n",
        "        mock_cursor.fetchone.return_value = [2]  # 2 узла\n",
        "        mock_conn.cursor.return_value = mock_cursor\n",
        "        mock_connect.return_value = mock_conn\n",
        "\n",
        "        # Настройка мока для read_sql\n",
        "        def side_effect(query, *args, **kwargs):\n",
        "            if 'SELECT alias' in query:\n",
        "                return self.nodes_data\n",
        "            elif 'SELECT a, b' in query:\n",
        "                return self.edges_data\n",
        "            return pd.DataFrame()\n",
        "\n",
        "        mock_read_sql.side_effect = side_effect\n",
        "\n",
        "        # Вызов тестируемой функции\n",
        "        data = load_graph_from_postgres(self.db_config)\n",
        "\n",
        "        # Проверка структуры Data\n",
        "        self.assertIsInstance(data, Data)\n",
        "        self.assertEqual(data.x.shape, (2, 2))\n",
        "        self.assertEqual(data.edge_index.shape, (2, 2))\n",
        "        self.assertEqual(data.edge_attr.shape, (2, 1))\n",
        "        self.assertEqual(data.y.shape, (2,))\n",
        "\n",
        "        # Проверка содержимого\n",
        "        expected_x = torch.tensor([[2, 100], [1, 200]], dtype=torch.float)\n",
        "        expected_edge_index = torch.tensor([[0, 1], [1, 0]], dtype=torch.long)\n",
        "        expected_edge_attr = torch.tensor([[50.0], [30.0]], dtype=torch.float)\n",
        "        expected_y = torch.tensor([0, 1], dtype=torch.long)\n",
        "\n",
        "        self.assertTrue(torch.equal(data.x, expected_x))\n",
        "        self.assertTrue(torch.equal(data.edge_index, expected_edge_index))\n",
        "        self.assertTrue(torch.equal(data.edge_attr, expected_edge_attr))\n",
        "        self.assertTrue(torch.equal(data.y, expected_y))\n",
        "\n",
        "    # ✅ Тест: обработка отсутствия рёбер\n",
        "    @patch('psycopg2.connect')\n",
        "    @patch('pandas.read_sql')\n",
        "    def test_load_graph_returns_empty_edges(self, mock_read_sql, mock_connect):\n",
        "        # Настройка мока\n",
        "        mock_conn = MagicMock()\n",
        "        mock_cursor = MagicMock()\n",
        "        mock_cursor.fetchone.return_value = [2]\n",
        "        mock_conn.cursor.return_value = mock_cursor\n",
        "        mock_connect.return_value = mock_conn\n",
        "\n",
        "        def side_effect(query, *args, **kwargs):\n",
        "            if 'SELECT alias' in query:\n",
        "                return self.nodes_data\n",
        "            elif 'SELECT a, b' in query:\n",
        "                return pd.DataFrame(columns=['a', 'b', 'total_sent'])\n",
        "            return pd.DataFrame()\n",
        "\n",
        "        mock_read_sql.side_effect = side_effect\n",
        "\n",
        "        data = load_graph_from_postgres(self.db_config)\n",
        "\n",
        "        # Проверка структуры\n",
        "        self.assertIsInstance(data, Data)\n",
        "        self.assertEqual(data.x.shape, (2, 2))\n",
        "        self.assertEqual(data.edge_index.shape, (2, 0))\n",
        "        self.assertEqual(data.edge_attr.shape, (0, 1))\n",
        "        self.assertEqual(data.y.shape, (2,))\n",
        "\n",
        "        # Проверка содержимого\n",
        "        expected_x = torch.tensor([[2, 100], [1, 200]], dtype=torch.float)\n",
        "        expected_edge_index = torch.zeros((2, 0), dtype=torch.long)\n",
        "        expected_edge_attr = torch.zeros((0, 1), dtype=torch.float)\n",
        "        expected_y = torch.tensor([0, 1], dtype=torch.long)\n",
        "\n",
        "        self.assertTrue(torch.equal(data.x, expected_x))\n",
        "        self.assertTrue(torch.equal(data.edge_index, expected_edge_index))\n",
        "        self.assertTrue(torch.equal(data.edge_attr, expected_edge_attr))\n",
        "        self.assertTrue(torch.equal(data.y, expected_y))\n",
        "\n",
        "    # ✅ Тест: обработка ошибок БД\n",
        "    @patch('psycopg2.connect')\n",
        "    @patch('pandas.read_sql')\n",
        "    def test_load_graph_handles_db_errors(self, mock_read_sql, mock_connect):\n",
        "        # Настройка мока для выброса ошибки\n",
        "        mock_conn = MagicMock()\n",
        "        mock_cursor = MagicMock()\n",
        "        mock_cursor.fetchone.side_effect = Exception(\"Database connection failed\")\n",
        "        mock_conn.cursor.return_value = mock_cursor\n",
        "        mock_connect.return_value = mock_conn\n",
        "\n",
        "        # Устанавливаем side_effect для read_sql\n",
        "        mock_read_sql.side_effect = Exception(\"Invalid SQL query\")\n",
        "\n",
        "        # Вызов функции\n",
        "        data = load_graph_from_postgres(self.db_config)\n",
        "\n",
        "        # Проверяем, что возвращается Data с пустыми тензорами\n",
        "        self.assertIsInstance(data, Data)\n",
        "        self.assertTrue(data.x.numel() == 0)\n",
        "        self.assertTrue(data.edge_index.numel() == 0)\n",
        "        self.assertTrue(data.edge_attr.numel() == 0)\n",
        "        self.assertTrue(data.y.numel() == 0)\n",
        "\n"
      ],
      "metadata": {
        "id": "R3-vVg6Qe9sR"
      },
      "execution_count": 2,
      "outputs": []
    },
    {
      "cell_type": "markdown",
      "source": [
        "## 3. Запуск тестов"
      ],
      "metadata": {
        "id": "VoGX3PAVfflO"
      }
    },
    {
      "cell_type": "code",
      "source": [
        "# === Запуск тестов ===\n",
        "if __name__ == '__main__':\n",
        "    unittest.main(argv=[''], exit=False)"
      ],
      "metadata": {
        "colab": {
          "base_uri": "https://localhost:8080/"
        },
        "id": "zwPhO3Z5fbh7",
        "outputId": "4f942aba-ed4a-40f1-d118-17668bf90994"
      },
      "execution_count": 3,
      "outputs": [
        {
          "output_type": "stream",
          "name": "stderr",
          "text": [
            "...\n",
            "----------------------------------------------------------------------\n",
            "Ran 3 tests in 0.024s\n",
            "\n",
            "OK\n"
          ]
        }
      ]
    }
  ]
}