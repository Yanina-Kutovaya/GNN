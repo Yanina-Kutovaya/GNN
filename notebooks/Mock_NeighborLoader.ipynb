{
  "nbformat": 4,
  "nbformat_minor": 0,
  "metadata": {
    "colab": {
      "provenance": [],
      "gpuType": "T4",
      "toc_visible": true,
      "authorship_tag": "ABX9TyOEYV8AvnO64deI4ieYsrPr",
      "include_colab_link": true
    },
    "kernelspec": {
      "name": "python3",
      "display_name": "Python 3"
    },
    "language_info": {
      "name": "python"
    },
    "accelerator": "GPU"
  },
  "cells": [
    {
      "cell_type": "markdown",
      "metadata": {
        "id": "view-in-github",
        "colab_type": "text"
      },
      "source": [
        "<a href=\"https://colab.research.google.com/github/Yanina-Kutovaya/GNN/blob/main/notebooks/Mock_NeighborLoader.ipynb\" target=\"_parent\"><img src=\"https://colab.research.google.com/assets/colab-badge.svg\" alt=\"Open In Colab\"/></a>"
      ]
    },
    {
      "cell_type": "markdown",
      "source": [
        "# Mock-тест load_graph_from_postgres для NeighborLoader"
      ],
      "metadata": {
        "id": "YFKqo9vPeTcj"
      }
    },
    {
      "cell_type": "markdown",
      "source": [
        "Этот тестовый класс охватывает следующие аспекты работы функции load_graph_from_postgres:\n",
        "\n",
        "- Проверка корректной загрузки структуры графа (узлы и рёбра).\n",
        "- Реакция на отсутствие рёбер в данных.\n",
        "- Обработка ошибок подключения или выполнения запросов к БД.\n",
        "- Совместимость с инструментом NeighborLoader для последующего обучения графовых моделей.\n",
        "\n",
        "Основные преимущества тестов:\n",
        "\n",
        "- Исключают зависимость от реальной базы данных за счёт использования моков.\n",
        "- Гарантируют устойчивость функции к различным сценариям, включая крайние случаи.\n",
        "- Проверяют, что загруженный граф может быть использован в составе NeighborLoader — критично для задач обучения на основе соседних узлов в графах (GNN)."
      ],
      "metadata": {
        "id": "ZQ48chLjeoHn"
      }
    },
    {
      "cell_type": "markdown",
      "source": [
        "Небходимо выбрать среду выполнения с GPU: Среда выполнения → Сменить среду выполнения → Графический процессор T4"
      ],
      "metadata": {
        "id": "5Ha-kA1aDHyu"
      }
    },
    {
      "cell_type": "markdown",
      "source": [
        "## 1. Установка зависимостей"
      ],
      "metadata": {
        "id": "ICQG4XpjfAvG"
      }
    },
    {
      "cell_type": "code",
      "source": [
        "!nvcc --version"
      ],
      "metadata": {
        "colab": {
          "base_uri": "https://localhost:8080/"
        },
        "id": "b3qgVO9gKH07",
        "outputId": "26b69331-7cfd-446c-9132-dd662b60e5ad"
      },
      "execution_count": null,
      "outputs": [
        {
          "output_type": "stream",
          "name": "stdout",
          "text": [
            "nvcc: NVIDIA (R) Cuda compiler driver\n",
            "Copyright (c) 2005-2024 NVIDIA Corporation\n",
            "Built on Thu_Jun__6_02:18:23_PDT_2024\n",
            "Cuda compilation tools, release 12.5, V12.5.82\n",
            "Build cuda_12.5.r12.5/compiler.34385749_0\n"
          ]
        }
      ]
    },
    {
      "cell_type": "code",
      "source": [
        "install = True\n",
        "if install:\n",
        "  # 1. Установка совместимых версий PyTorch и PyG\n",
        "  !pip install -q torch==2.3.0+cu121 torchvision==0.18.0+cu121 torchaudio==2.3.0+cu121 --extra-index-url https://download.pytorch.org/whl/cu121\n",
        "\n",
        "  # 2. Установка зависимостей PyG для CUDA 12.1+ (совместимо с 12.5)\n",
        "  !pip install -q pyg-lib torch-scatter torch-sparse torch-cluster torch-spline-conv -f https://data.pyg.org/whl/torch-2.3.0+cu121.html --no-cache-dir\n",
        "\n",
        "  # 3. Установка PyTorch Geometric\n",
        "  !pip install -q torch-geometric==2.5.3"
      ],
      "metadata": {
        "id": "uHI_dX_693fA",
        "colab": {
          "base_uri": "https://localhost:8080/"
        },
        "outputId": "91604be4-b5cd-4547-9e9c-cc33b1d6097e"
      },
      "execution_count": null,
      "outputs": [
        {
          "output_type": "stream",
          "name": "stdout",
          "text": [
            "\u001b[2K     \u001b[90m━━━━━━━━━━━━━━━━━━━━━━━━━━━━━━━━━━━━━━━\u001b[0m \u001b[32m781.0/781.0 MB\u001b[0m \u001b[31m2.2 MB/s\u001b[0m eta \u001b[36m0:00:00\u001b[0m\n",
            "\u001b[2K     \u001b[90m━━━━━━━━━━━━━━━━━━━━━━━━━━━━━━━━━━━━━━━━\u001b[0m \u001b[32m7.0/7.0 MB\u001b[0m \u001b[31m77.0 MB/s\u001b[0m eta \u001b[36m0:00:00\u001b[0m\n",
            "\u001b[2K     \u001b[90m━━━━━━━━━━━━━━━━━━━━━━━━━━━━━━━━━━━━━━━━\u001b[0m \u001b[32m3.4/3.4 MB\u001b[0m \u001b[31m83.0 MB/s\u001b[0m eta \u001b[36m0:00:00\u001b[0m\n",
            "\u001b[2K     \u001b[90m━━━━━━━━━━━━━━━━━━━━━━━━━━━━━━━━━━━━━━━━\u001b[0m \u001b[32m23.7/23.7 MB\u001b[0m \u001b[31m84.9 MB/s\u001b[0m eta \u001b[36m0:00:00\u001b[0m\n",
            "\u001b[2K     \u001b[90m━━━━━━━━━━━━━━━━━━━━━━━━━━━━━━━━━━━━━━\u001b[0m \u001b[32m823.6/823.6 kB\u001b[0m \u001b[31m52.2 MB/s\u001b[0m eta \u001b[36m0:00:00\u001b[0m\n",
            "\u001b[2K     \u001b[90m━━━━━━━━━━━━━━━━━━━━━━━━━━━━━━━━━━━━━━━\u001b[0m \u001b[32m14.1/14.1 MB\u001b[0m \u001b[31m107.8 MB/s\u001b[0m eta \u001b[36m0:00:00\u001b[0m\n",
            "\u001b[2K     \u001b[90m━━━━━━━━━━━━━━━━━━━━━━━━━━━━━━━━━━━━━━━\u001b[0m \u001b[32m731.7/731.7 MB\u001b[0m \u001b[31m2.6 MB/s\u001b[0m eta \u001b[36m0:00:00\u001b[0m\n",
            "\u001b[2K     \u001b[90m━━━━━━━━━━━━━━━━━━━━━━━━━━━━━━━━━━━━━━━\u001b[0m \u001b[32m410.6/410.6 MB\u001b[0m \u001b[31m3.7 MB/s\u001b[0m eta \u001b[36m0:00:00\u001b[0m\n",
            "\u001b[2K     \u001b[90m━━━━━━━━━━━━━━━━━━━━━━━━━━━━━━━━━━━━━━━\u001b[0m \u001b[32m121.6/121.6 MB\u001b[0m \u001b[31m7.7 MB/s\u001b[0m eta \u001b[36m0:00:00\u001b[0m\n",
            "\u001b[2K     \u001b[90m━━━━━━━━━━━━━━━━━━━━━━━━━━━━━━━━━━━━━━━━\u001b[0m \u001b[32m56.5/56.5 MB\u001b[0m \u001b[31m13.2 MB/s\u001b[0m eta \u001b[36m0:00:00\u001b[0m\n",
            "\u001b[2K     \u001b[90m━━━━━━━━━━━━━━━━━━━━━━━━━━━━━━━━━━━━━━━\u001b[0m \u001b[32m124.2/124.2 MB\u001b[0m \u001b[31m7.7 MB/s\u001b[0m eta \u001b[36m0:00:00\u001b[0m\n",
            "\u001b[2K     \u001b[90m━━━━━━━━━━━━━━━━━━━━━━━━━━━━━━━━━━━━━━━\u001b[0m \u001b[32m196.0/196.0 MB\u001b[0m \u001b[31m6.1 MB/s\u001b[0m eta \u001b[36m0:00:00\u001b[0m\n",
            "\u001b[2K     \u001b[90m━━━━━━━━━━━━━━━━━━━━━━━━━━━━━━━━━━━━━━━\u001b[0m \u001b[32m176.2/176.2 MB\u001b[0m \u001b[31m7.5 MB/s\u001b[0m eta \u001b[36m0:00:00\u001b[0m\n",
            "\u001b[2K     \u001b[90m━━━━━━━━━━━━━━━━━━━━━━━━━━━━━━━━━━━━━━━━\u001b[0m \u001b[32m99.1/99.1 kB\u001b[0m \u001b[31m8.7 MB/s\u001b[0m eta \u001b[36m0:00:00\u001b[0m\n",
            "\u001b[2K     \u001b[90m━━━━━━━━━━━━━━━━━━━━━━━━━━━━━━━━━━━━━━━\u001b[0m \u001b[32m168.1/168.1 MB\u001b[0m \u001b[31m6.7 MB/s\u001b[0m eta \u001b[36m0:00:00\u001b[0m\n",
            "\u001b[2K     \u001b[90m━━━━━━━━━━━━━━━━━━━━━━━━━━━━━━━━━━━━━━━━\u001b[0m \u001b[32m2.5/2.5 MB\u001b[0m \u001b[31m5.3 MB/s\u001b[0m eta \u001b[36m0:00:00\u001b[0m\n",
            "\u001b[2K     \u001b[90m━━━━━━━━━━━━━━━━━━━━━━━━━━━━━━━━━━━━━━━\u001b[0m \u001b[32m10.9/10.9 MB\u001b[0m \u001b[31m201.6 MB/s\u001b[0m eta \u001b[36m0:00:00\u001b[0m\n",
            "\u001b[2K     \u001b[90m━━━━━━━━━━━━━━━━━━━━━━━━━━━━━━━━━━━━━━━━\u001b[0m \u001b[32m5.1/5.1 MB\u001b[0m \u001b[31m219.0 MB/s\u001b[0m eta \u001b[36m0:00:00\u001b[0m\n",
            "\u001b[2K     \u001b[90m━━━━━━━━━━━━━━━━━━━━━━━━━━━━━━━━━━━━━━━━\u001b[0m \u001b[32m3.4/3.4 MB\u001b[0m \u001b[31m248.5 MB/s\u001b[0m eta \u001b[36m0:00:00\u001b[0m\n",
            "\u001b[2K     \u001b[90m━━━━━━━━━━━━━━━━━━━━━━━━━━━━━━━━━━━━━━━\u001b[0m \u001b[32m950.4/950.4 kB\u001b[0m \u001b[31m2.4 MB/s\u001b[0m eta \u001b[36m0:00:00\u001b[0m\n",
            "\u001b[2K     \u001b[90m━━━━━━━━━━━━━━━━━━━━━━━━━━━━━━━━━━━━━━━━\u001b[0m \u001b[32m64.2/64.2 kB\u001b[0m \u001b[31m1.7 MB/s\u001b[0m eta \u001b[36m0:00:00\u001b[0m\n",
            "\u001b[2K   \u001b[90m━━━━━━━━━━━━━━━━━━━━━━━━━━━━━━━━━━━━━━━━\u001b[0m \u001b[32m1.1/1.1 MB\u001b[0m \u001b[31m17.3 MB/s\u001b[0m eta \u001b[36m0:00:00\u001b[0m\n",
            "\u001b[?25h"
          ]
        }
      ]
    },
    {
      "cell_type": "markdown",
      "source": [
        "__Проверка окружения:__"
      ],
      "metadata": {
        "id": "R7ptaMPfKVks"
      }
    },
    {
      "cell_type": "code",
      "source": [
        "import torch\n",
        "print(f\"PyTorch: {torch.__version__}\")          # Должно быть 2.3.0+cu121\n",
        "print(f\"CUDA: {torch.version.cuda}\")            # Должно быть 12.1+\n",
        "print(f\"Available: {torch.cuda.is_available()}\")# Должно быть True\n"
      ],
      "metadata": {
        "colab": {
          "base_uri": "https://localhost:8080/"
        },
        "id": "nNAEMptzKQp5",
        "outputId": "5dcdec6a-e131-4d99-a110-a26b24890e60"
      },
      "execution_count": null,
      "outputs": [
        {
          "output_type": "stream",
          "name": "stdout",
          "text": [
            "PyTorch: 2.3.0+cu121\n",
            "CUDA: 12.1\n",
            "Available: True\n"
          ]
        }
      ]
    },
    {
      "cell_type": "markdown",
      "source": [
        "## 2. Полный тест с пояснениями"
      ],
      "metadata": {
        "id": "uNRsI0lBfIE8"
      }
    },
    {
      "cell_type": "markdown",
      "source": [
        "__Функция ```load_graph_from_postgres```__\n",
        "\n",
        "В функцию ```load_graph_from_postgres```\n",
        "\n",
        "* Добавлена обработка исключений вокруг pd.read_sql - Убедились, что даже если SQL-запросы завершаются ошибкой, функция не падает\n",
        "* Убедились, что conn.close() вызывается в finally - Предотвращаем утечки соединений\n",
        "* Возвращается Data(...) с пустыми тензорами - Обеспечивается совместимость с моделью, даже если данные не загружены"
      ],
      "metadata": {
        "id": "D9R_noBpjbO4"
      }
    },
    {
      "cell_type": "markdown",
      "source": [
        "__Что проверяет каждый тест?__\n",
        "- ```test_load_graph_handles_sql_query_errors``` - Корректный sql-запрос\n",
        "- ```test_load_graph_returns_correct_data``` - Загрузка данных из БД с корректными узлами и рёбрами\n",
        "- ```test_load_graph_returns_empty_edges``` - Обработка отсутствия рёбер в БД\n",
        "- ```test_load_graph_handles_db_errors``` - Обработка ошибок подключения или SQL-запросов\n",
        "- ```test_compatibility_with_neighbor_loader ``` - Проверка совместимости результата работы функции загрузки данных с NeighborLoader"
      ],
      "metadata": {
        "id": "jzNEsTA2kED2"
      }
    },
    {
      "cell_type": "code",
      "source": [
        "import logging\n",
        "import unittest\n",
        "from unittest.mock import patch, MagicMock\n",
        "import pandas as pd\n",
        "import torch\n",
        "from torch_geometric.data import Data\n",
        "import psycopg2\n",
        "import warnings\n",
        "from typing import Dict, Any\n",
        "\n",
        "# Настройка логирования\n",
        "logging.basicConfig(\n",
        "    level=logging.INFO,\n",
        "    format='%(asctime)s - %(name)s - %(levelname)s - %(message)s'\n",
        ")\n",
        "logger = logging.getLogger(__name__)\n",
        "\n",
        "# === Тестируемая функция ===\n",
        "def load_graph_from_postgres(db_config: Dict[str, Any]) -> Data:\n",
        "    \"\"\"\n",
        "    Загружает графовые данные из PostgreSQL для использования в GNN-моделях через NeighborLoader.\n",
        "\n",
        "    Args:\n",
        "        db_config (Dict[str, Any]): Конфигурация для подключения к БД в формате:\n",
        "            {\n",
        "                'dbname': str,\n",
        "                'user': str,\n",
        "                'password': str,\n",
        "                'host': str,\n",
        "                'port': int\n",
        "            }\n",
        "\n",
        "    Returns:\n",
        "        Data: Объект PyG с полями:\n",
        "            - x: Признаки узлов (degree, total_received)\n",
        "            - edge_index: Список рёбер в формате COO\n",
        "            - edge_attr: Атрибуты рёбер (total_sent)\n",
        "            - y: Метки классов узлов\n",
        "\n",
        "    Raises:\n",
        "        ValueError: При отсутствии обязательных столбцов в результатах SQL-запросов\n",
        "        psycopg2.OperationalError: При проблемах подключения к БД\n",
        "    \"\"\"\n",
        "    try:\n",
        "        conn = psycopg2.connect(**db_config)\n",
        "        logger.info(\"Установлено соединение с PostgreSQL\")\n",
        "        try:\n",
        "            # Загрузка узлов\n",
        "            query_nodes = \"SELECT alias, label, degree, total_received FROM node_attributes\"\n",
        "            logger.debug(f\"Выполняется SQL-запрос: {query_nodes}\")\n",
        "            nodes_df = pd.read_sql(query_nodes, conn)\n",
        "\n",
        "            # Проверка структуры данных\n",
        "            required_node_cols = ['alias', 'label', 'degree', 'total_received']\n",
        "            if not all(col in nodes_df.columns for col in required_node_cols):\n",
        "                raise ValueError(\"Отсутствуют обязательные колонки в таблице node_attributes\")\n",
        "\n",
        "            # Загрузка рёбер\n",
        "            query_edges = \"SELECT a, b, total_sent FROM edge_attributes\"\n",
        "            logger.debug(f\"Выполняется SQL-запрос: {query_edges}\")\n",
        "            edges_df = pd.read_sql(query_edges, conn)\n",
        "\n",
        "            # Проверка структуры данных\n",
        "            required_edge_cols = ['a', 'b', 'total_sent']\n",
        "            if not all(col in edges_df.columns for col in required_edge_cols):\n",
        "                raise ValueError(\"Отсутствуют обязательные колонки в таблице edge_attributes\")\n",
        "        finally:\n",
        "            if 'conn' in locals():\n",
        "                conn.close()\n",
        "                logger.info(\"Соединение с PostgreSQL закрыто\")\n",
        "\n",
        "        # Создание маппинга alias -> индекс\n",
        "        alias_to_idx = {alias: idx for idx, alias in enumerate(nodes_df['alias'])}\n",
        "        logger.debug(f\"Создано {len(alias_to_idx)} маппингов alias->индекс\")\n",
        "\n",
        "        # Формирование рёбер\n",
        "        edges = []\n",
        "        edge_attrs = []\n",
        "\n",
        "        for _, row in edges_df.iterrows():\n",
        "            a_idx = alias_to_idx.get(row['a'])\n",
        "            b_idx = alias_to_idx.get(row['b'])\n",
        "\n",
        "            if a_idx is not None and b_idx is not None:\n",
        "                edges.append([a_idx, b_idx])\n",
        "                edge_attrs.append(row['total_sent'])\n",
        "            else:\n",
        "                logger.warning(f\"Пропущено ребро с недействительными алиасами: {row['a']}->{row['b']}\")\n",
        "\n",
        "        # Убедимся, что edge_index и edge_attr — contiguous\n",
        "        edge_index = torch.tensor(edges, dtype=torch.long).T.contiguous() if edges else torch.zeros((2, 0), dtype=torch.long)\n",
        "        edge_attr = torch.tensor(edge_attrs, dtype=torch.float).view(-1, 1).contiguous() if edge_attrs else torch.zeros((0, 1), dtype=torch.float)\n",
        "\n",
        "        # Формирование признаков узлов и меток\n",
        "        x = torch.tensor(nodes_df[['degree', 'total_received']].fillna(0).values, dtype=torch.float)\n",
        "        y = torch.tensor(nodes_df['label'].fillna(0).values, dtype=torch.long)\n",
        "\n",
        "        logger.info(f\"Загружен граф с {x.shape[0]} узлами и {edge_index.shape[1]} рёбрами\")\n",
        "\n",
        "        return Data(x=x, edge_index=edge_index, edge_attr=edge_attr, y=y)\n",
        "\n",
        "    except psycopg2.OperationalError as e:\n",
        "        logger.error(f\"Ошибка подключения к БД: {str(e)}\")\n",
        "        # Возвращаем пустой граф при критических ошибках\n",
        "        return Data(\n",
        "            x=torch.tensor([], dtype=torch.float),\n",
        "            edge_index=torch.tensor([], dtype=torch.long).view(2, -1),\n",
        "            edge_attr=torch.tensor([], dtype=torch.float).view(-1, 1),\n",
        "            y=torch.tensor([], dtype=torch.long)\n",
        "        )\n",
        "\n",
        "    except Exception as e:\n",
        "        logger.exception(f\"Неожиданная ошибка при загрузке графа: {str(e)}\")\n",
        "        # В случае ошибки возвращаем пустой граф\n",
        "        return Data(\n",
        "            x=torch.tensor([], dtype=torch.float),\n",
        "            edge_index=torch.tensor([], dtype=torch.long).view(2, -1),\n",
        "            edge_attr=torch.tensor([], dtype=torch.float).view(-1, 1),\n",
        "            y=torch.tensor([], dtype=torch.long)\n",
        "        )\n",
        "\n",
        "# === Тестовый класс ===\n",
        "class TestLoadGraphFromPostgres(unittest.TestCase):\n",
        "    def setUp(self):\n",
        "        # Конфигурация БД\n",
        "        self.db_config = {\n",
        "            'dbname': 'test_db',\n",
        "            'user': 'test_user',\n",
        "            'password': 'test_pass',\n",
        "            'host': 'localhost',\n",
        "            'port': 5432\n",
        "        }\n",
        "        # Фиктивные данные для узлов\n",
        "        self.nodes_data = pd.DataFrame({\n",
        "            'alias': [1, 2],\n",
        "            'label': [0, 1],\n",
        "            'degree': [2, 1],\n",
        "            'total_received': [100.0, 200.0]\n",
        "        })\n",
        "        # Фиктивные данные для рёбер\n",
        "        self.edges_data = pd.DataFrame({\n",
        "            'a': [1, 2],\n",
        "            'b': [2, 1],\n",
        "            'total_sent': [50.0, 30.0]\n",
        "        })\n",
        "\n",
        "    # ✅ Тест: корректный sql-запрос\n",
        "    @patch('logging.Logger.error')\n",
        "    @patch('logging.Logger.exception')\n",
        "    @patch('psycopg2.connect')\n",
        "    @patch('pandas.read_sql')\n",
        "    def test_load_graph_handles_sql_query_errors(\n",
        "        self, mock_read_sql, mock_connect, mock_exception, mock_error\n",
        "    ):\n",
        "        mock_conn = MagicMock()\n",
        "        mock_connect.return_value = mock_conn\n",
        "        mock_read_sql.side_effect = psycopg2.ProgrammingError(\"Invalid SQL query\")\n",
        "\n",
        "        data = load_graph_from_postgres(self.db_config)\n",
        "\n",
        "        self.assertIsInstance(data, Data)\n",
        "        self.assertTrue(data.x.numel() == 0)\n",
        "        self.assertTrue(data.edge_index.numel() == 0)\n",
        "        self.assertTrue(data.edge_attr.numel() == 0)\n",
        "        self.assertTrue(data.y.numel() == 0)\n",
        "\n",
        "        # Проверяем, что logger.exception был вызван с правильным сообщением\n",
        "        mock_exception.assert_called_once_with(\"Неожиданная ошибка при загрузке графа: Invalid SQL query\")\n",
        "        # Проверяем, что logger.error НЕ был вызван\n",
        "        mock_error.assert_not_called()\n",
        "\n",
        "    # ✅ Тест: корректная загрузка данных\n",
        "    @patch('psycopg2.connect')\n",
        "    @patch('pandas.read_sql')\n",
        "    def test_load_graph_returns_correct_data(self, mock_read_sql, mock_connect):\n",
        "        # Настройка мока для подключения к БД\n",
        "        mock_conn = MagicMock()\n",
        "        mock_cursor = MagicMock()\n",
        "        mock_cursor.fetchone.return_value = [2]  # 2 узла\n",
        "        mock_conn.cursor.return_value = mock_cursor\n",
        "        mock_connect.return_value = mock_conn\n",
        "\n",
        "        # Настройка мока для read_sql\n",
        "        def side_effect(query, *args, **kwargs):\n",
        "            if 'SELECT alias' in query:\n",
        "                return self.nodes_data\n",
        "            elif 'SELECT a, b' in query:\n",
        "                return self.edges_data\n",
        "            return pd.DataFrame()\n",
        "\n",
        "        mock_read_sql.side_effect = side_effect\n",
        "\n",
        "        # Вызов тестируемой функции\n",
        "        data = load_graph_from_postgres(self.db_config)\n",
        "\n",
        "        # Проверка структуры Data\n",
        "        self.assertIsInstance(data, Data)\n",
        "        self.assertEqual(data.x.shape, (2, 2))\n",
        "        self.assertEqual(data.edge_index.shape, (2, 2))\n",
        "        self.assertEqual(data.edge_attr.shape, (2, 1))\n",
        "        self.assertEqual(data.y.shape, (2,))\n",
        "\n",
        "        # Проверка содержимого\n",
        "        expected_x = torch.tensor([[2, 100], [1, 200]], dtype=torch.float)\n",
        "        expected_edge_index = torch.tensor([[0, 1], [1, 0]], dtype=torch.long)\n",
        "        expected_edge_attr = torch.tensor([[50.0], [30.0]], dtype=torch.float)\n",
        "        expected_y = torch.tensor([0, 1], dtype=torch.long)\n",
        "\n",
        "        self.assertTrue(torch.equal(data.x, expected_x))\n",
        "        self.assertTrue(torch.equal(data.edge_index, expected_edge_index))\n",
        "        self.assertTrue(torch.equal(data.edge_attr, expected_edge_attr))\n",
        "        self.assertTrue(torch.equal(data.y, expected_y))\n",
        "\n",
        "    # ✅ Тест: обработка отсутствия рёбер\n",
        "    @patch('psycopg2.connect')\n",
        "    @patch('pandas.read_sql')\n",
        "    def test_load_graph_returns_empty_edges(self, mock_read_sql, mock_connect):\n",
        "        # Настройка мока\n",
        "        mock_conn = MagicMock()\n",
        "        mock_cursor = MagicMock()\n",
        "        mock_cursor.fetchone.return_value = [2]\n",
        "        mock_conn.cursor.return_value = mock_cursor\n",
        "        mock_connect.return_value = mock_conn\n",
        "\n",
        "        def side_effect(query, *args, **kwargs):\n",
        "            if 'SELECT alias' in query:\n",
        "                return self.nodes_data\n",
        "            elif 'SELECT a, b' in query:\n",
        "                return pd.DataFrame(columns=['a', 'b', 'total_sent'])\n",
        "            return pd.DataFrame()\n",
        "\n",
        "        mock_read_sql.side_effect = side_effect\n",
        "\n",
        "        data = load_graph_from_postgres(self.db_config)\n",
        "\n",
        "        # Проверка структуры\n",
        "        self.assertIsInstance(data, Data)\n",
        "        self.assertEqual(data.x.shape, (2, 2))\n",
        "        self.assertEqual(data.edge_index.shape, (2, 0))\n",
        "        self.assertEqual(data.edge_attr.shape, (0, 1))\n",
        "        self.assertEqual(data.y.shape, (2,))\n",
        "\n",
        "        # Проверка содержимого\n",
        "        expected_x = torch.tensor([[2, 100], [1, 200]], dtype=torch.float)\n",
        "        expected_edge_index = torch.zeros((2, 0), dtype=torch.long)\n",
        "        expected_edge_attr = torch.zeros((0, 1), dtype=torch.float)\n",
        "        expected_y = torch.tensor([0, 1], dtype=torch.long)\n",
        "\n",
        "        self.assertTrue(torch.equal(data.x, expected_x))\n",
        "        self.assertTrue(torch.equal(data.edge_index, expected_edge_index))\n",
        "        self.assertTrue(torch.equal(data.edge_attr, expected_edge_attr))\n",
        "        self.assertTrue(torch.equal(data.y, expected_y))\n",
        "\n",
        "    # ✅ Тест: обработка ошибок БД\n",
        "    @patch('logging.Logger.error')\n",
        "    @patch('psycopg2.connect')\n",
        "    def test_load_graph_handles_db_errors(self, mock_connect, mock_logger):\n",
        "        mock_connect.side_effect = psycopg2.OperationalError(\"Connection failed\")\n",
        "        data = load_graph_from_postgres(self.db_config)\n",
        "\n",
        "        # Проверяем, что возвращается пустой граф\n",
        "        self.assertIsInstance(data, Data)\n",
        "        self.assertTrue(data.x.numel() == 0)\n",
        "        self.assertTrue(data.edge_index.numel() == 0)\n",
        "        self.assertTrue(data.edge_attr.numel() == 0)\n",
        "        self.assertTrue(data.y.numel() == 0)\n",
        "\n",
        "        # Проверяем, что logger.error был вызван\n",
        "        mock_logger.assert_called_once_with(\"Ошибка подключения к БД: Connection failed\")\n",
        "\n",
        "\n",
        "    # ✅ Тест: совместимость с NeighborLoader\n",
        "    @patch('psycopg2.connect')\n",
        "    @patch('pandas.read_sql')\n",
        "    def test_compatibility_with_neighbor_loader(self, mock_read_sql, mock_connect):\n",
        "        # Настройка мока для подключения к БД\n",
        "        mock_conn = MagicMock()\n",
        "        mock_cursor = MagicMock()\n",
        "        mock_cursor.fetchone.return_value = [2]  # 2 узла\n",
        "        mock_conn.cursor.return_value = mock_cursor\n",
        "        mock_connect.return_value = mock_conn\n",
        "\n",
        "        # Настройка мока для read_sql\n",
        "        def side_effect(query, *args, **kwargs):\n",
        "            if 'SELECT alias' in query:\n",
        "                return self.nodes_data\n",
        "            elif 'SELECT a, b' in query:\n",
        "                return self.edges_data\n",
        "            return pd.DataFrame()\n",
        "\n",
        "        mock_read_sql.side_effect = side_effect\n",
        "\n",
        "        # Вызов тестируемой функции\n",
        "        data = load_graph_from_postgres(self.db_config)\n",
        "\n",
        "        try:\n",
        "            with warnings.catch_warnings():\n",
        "                warnings.filterwarnings(\"ignore\", message=\"An issue occurred while importing 'torch-sparse'.\")\n",
        "                warnings.filterwarnings(\"ignore\", message=\"Using 'NeighborSampler' without a 'pyg-lib' installation is deprecated\")\n",
        "\n",
        "                from torch_geometric.loader import NeighborLoader\n",
        "        except ImportError:\n",
        "            self.skipTest(\"NeighborLoader not available (requires torch_geometric)\")\n",
        "\n",
        "        try:\n",
        "            loader = NeighborLoader(\n",
        "                data,\n",
        "                num_neighbors=[-1],\n",
        "                batch_size=2,\n",
        "                input_nodes=torch.arange(data.num_nodes),\n",
        "                shuffle=False  # Чтобы уменьшить неоднозначность\n",
        "            )\n",
        "\n",
        "            for batch in loader:\n",
        "                self.assertIsInstance(batch, Data)\n",
        "\n",
        "                # Проверка наличия ключевых атрибутов\n",
        "                self.assertTrue(hasattr(batch, 'x'))\n",
        "                self.assertTrue(hasattr(batch, 'edge_index'))\n",
        "                self.assertTrue(hasattr(batch, 'edge_attr'))\n",
        "                self.assertTrue(hasattr(batch, 'y'))\n",
        "\n",
        "                # Проверка размеров\n",
        "                self.assertEqual(batch.x.shape, (2, 2))\n",
        "                self.assertEqual(batch.edge_index.shape[0], 2)  # 2 строки: [from, to]\n",
        "                self.assertEqual(batch.edge_attr.shape, (2, 1))\n",
        "                self.assertEqual(batch.y.shape, (2,))\n",
        "\n",
        "                # Проверка значений признаков\n",
        "                expected_x = torch.tensor([[2, 100], [1, 200]], dtype=torch.float)\n",
        "                expected_edge_attr = torch.tensor([[50.0], [30.0]], dtype=torch.float32)\n",
        "                expected_y = torch.tensor([0, 1], dtype=torch.long)\n",
        "\n",
        "                self.assertTrue(torch.allclose(batch.x, expected_x, atol=1e-4))\n",
        "                # Проверка значений edge_attr в любом порядке\n",
        "                self.assertTrue(\n",
        "                    torch.allclose(\n",
        "                        batch.edge_attr.sort(dim=0).values,\n",
        "                        expected_edge_attr.sort(dim=0).values,\n",
        "                        atol=1e-3\n",
        "                    )\n",
        "                )\n",
        "                self.assertTrue(torch.equal(batch.y, expected_y))\n",
        "\n",
        "                # Проверка, что все индексы рёбер валидны\n",
        "                self.assertLess(batch.edge_index.max(), batch.num_nodes)\n",
        "\n",
        "                break\n",
        "        except ImportError as e:\n",
        "            error_msg = str(e)\n",
        "            if \"requires either 'pyg-lib' or 'torch-sparse'\" in error_msg:\n",
        "                self.skipTest(\"Missing optional packages: pyg-lib or torch-sparse\")\n",
        "            else:\n",
        "                self.fail(f\"Unexpected ImportError: {e}\")\n",
        "        except Exception as e:\n",
        "            self.fail(f\"NeighborLoader raised an unexpected exception: {e}\")"
      ],
      "metadata": {
        "id": "Pwjuo5kRbJpB"
      },
      "execution_count": null,
      "outputs": []
    },
    {
      "cell_type": "markdown",
      "source": [
        "## 3. Запуск тестов"
      ],
      "metadata": {
        "id": "VoGX3PAVfflO"
      }
    },
    {
      "cell_type": "code",
      "source": [
        "# === Запуск тестов ===\n",
        "if __name__ == '__main__':\n",
        "    unittest.main(argv=[''], exit=False)"
      ],
      "metadata": {
        "colab": {
          "base_uri": "https://localhost:8080/"
        },
        "id": "zwPhO3Z5fbh7",
        "outputId": "f4862b40-62ee-4c19-c97a-2ba45bf1fdfb"
      },
      "execution_count": null,
      "outputs": [
        {
          "output_type": "stream",
          "name": "stderr",
          "text": [
            ".....\n",
            "----------------------------------------------------------------------\n",
            "Ran 5 tests in 0.062s\n",
            "\n",
            "OK\n"
          ]
        }
      ]
    }
  ]
}