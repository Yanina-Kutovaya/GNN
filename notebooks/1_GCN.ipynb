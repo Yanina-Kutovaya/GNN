{
  "nbformat": 4,
  "nbformat_minor": 0,
  "metadata": {
    "colab": {
      "provenance": [],
      "toc_visible": true,
      "gpuType": "T4",
      "authorship_tag": "ABX9TyP9/5LZeL9K3pDC3nl61nGj",
      "include_colab_link": true
    },
    "kernelspec": {
      "name": "python3",
      "display_name": "Python 3"
    },
    "language_info": {
      "name": "python"
    },
    "accelerator": "GPU"
  },
  "cells": [
    {
      "cell_type": "markdown",
      "metadata": {
        "id": "view-in-github",
        "colab_type": "text"
      },
      "source": [
        "<a href=\"https://colab.research.google.com/github/Yanina-Kutovaya/GNN/blob/main/notebooks/1_GCN.ipynb\" target=\"_parent\"><img src=\"https://colab.research.google.com/assets/colab-badge.svg\" alt=\"Open In Colab\"/></a>"
      ]
    },
    {
      "cell_type": "markdown",
      "source": [
        "# Реализация Graph Convolutional Network (GCN) из PyTorch Geometric для классификации узлов на датасете Bitcoin-OTC с обработкой признаков рёбер\n",
        "\n",
        "Задача — предсказать \"уровень доверия\" пользователей\n",
        "\n",
        "Признаки узлов/рёбер - синтетические"
      ],
      "metadata": {
        "id": "UJOymdpvE5rA"
      }
    },
    {
      "cell_type": "markdown",
      "source": [
        "Необходимо выбрать среду выполнения с GPU: Runtime → Change runtime type → GPU"
      ],
      "metadata": {
        "id": "HGdiMXqz4pvu"
      }
    },
    {
      "cell_type": "markdown",
      "source": [
        "## 1. Установка зависимостей"
      ],
      "metadata": {
        "id": "GPdOGTPE1r6G"
      }
    },
    {
      "cell_type": "code",
      "source": [
        "#!pip install -q torch-scatter -f https://data.pyg.org/whl/torch-2.0.0+cu118.html\n",
        "#!pip install -q torch-sparse -f https://data.pyg.org/whl/torch-2.0.0+cu118.html\n",
        "!pip install -q torch-geometric"
      ],
      "metadata": {
        "colab": {
          "base_uri": "https://localhost:8080/"
        },
        "id": "oUIbusqr2CaT",
        "outputId": "e5595877-bbb0-4e61-9641-2914af0ed1b5"
      },
      "execution_count": 1,
      "outputs": [
        {
          "output_type": "stream",
          "name": "stdout",
          "text": [
            "\u001b[2K     \u001b[90m━━━━━━━━━━━━━━━━━━━━━━━━━━━━━━━━━━━━━━━━\u001b[0m \u001b[32m63.1/63.1 kB\u001b[0m \u001b[31m2.1 MB/s\u001b[0m eta \u001b[36m0:00:00\u001b[0m\n",
            "\u001b[2K   \u001b[90m━━━━━━━━━━━━━━━━━━━━━━━━━━━━━━━━━━━━━━━━\u001b[0m \u001b[32m1.1/1.1 MB\u001b[0m \u001b[31m18.8 MB/s\u001b[0m eta \u001b[36m0:00:00\u001b[0m\n",
            "\u001b[?25h"
          ]
        }
      ]
    },
    {
      "cell_type": "markdown",
      "source": [
        "## 2. Импорт библиотек"
      ],
      "metadata": {
        "id": "UYuJI9BS2viQ"
      }
    },
    {
      "cell_type": "code",
      "source": [
        "import numpy as np\n",
        "\n",
        "import torch\n",
        "import torch.nn.functional as F\n",
        "from torch_geometric.datasets import BitcoinOTC\n",
        "from torch_geometric.transforms import NormalizeFeatures\n",
        "from torch_geometric.nn import GCNConv"
      ],
      "metadata": {
        "id": "jdqaQiC322CB"
      },
      "execution_count": 2,
      "outputs": []
    },
    {
      "cell_type": "markdown",
      "source": [
        "## 3. Загрузка и подготовка данных"
      ],
      "metadata": {
        "id": "JPe1Lt9v2387"
      }
    },
    {
      "cell_type": "markdown",
      "source": [
        "Датасет Bitcoin-OTC:\n",
        "* 5881 узел (пользователи)\n",
        "* Рёбра содержат признак edge_attr (уровень доверия от -10 до 10)\n",
        "* Синтетические признаки узлов: нормализованная степень узла\n",
        "* Синтетические метки: 3 класса на основе активности пользователей"
      ],
      "metadata": {
        "id": "-o6WzWDs38ga"
      }
    },
    {
      "cell_type": "code",
      "source": [
        "dataset = BitcoinOTC(root='data/BitcoinOTC', edge_window_size=10)\n",
        "data = dataset[0]"
      ],
      "metadata": {
        "colab": {
          "base_uri": "https://localhost:8080/"
        },
        "id": "zWPQfp8d9DL6",
        "outputId": "c0e52ae2-a8ed-4a72-bd7d-d41728924e9d"
      },
      "execution_count": 3,
      "outputs": [
        {
          "output_type": "stream",
          "name": "stderr",
          "text": [
            "Downloading https://snap.stanford.edu/data/soc-sign-bitcoinotc.csv.gz\n",
            "Extracting data/BitcoinOTC/raw/soc-sign-bitcoinotc.csv.gz\n",
            "Processing...\n",
            "Done!\n"
          ]
        }
      ]
    },
    {
      "cell_type": "markdown",
      "source": [
        "### 3.1 Создание синтетических признаков узлов (степень узла)"
      ],
      "metadata": {
        "id": "LuzgXe4_9QJA"
      }
    },
    {
      "cell_type": "code",
      "source": [
        "degrees = np.zeros(data.num_nodes)\n",
        "for edge in data.edge_index.t().tolist():\n",
        "    degrees[edge[0]] += 1\n",
        "data.x = torch.tensor(degrees, dtype=torch.float).view(-1, 1)"
      ],
      "metadata": {
        "id": "bF43tb7N9oHS"
      },
      "execution_count": 4,
      "outputs": []
    },
    {
      "cell_type": "markdown",
      "source": [
        "### 3.2 Нормализация признаков"
      ],
      "metadata": {
        "id": "Yt-AShFp9qxW"
      }
    },
    {
      "cell_type": "code",
      "source": [
        "data.x = (data.x - data.x.mean()) / data.x.std()"
      ],
      "metadata": {
        "id": "C-dTYt209vza"
      },
      "execution_count": 5,
      "outputs": []
    },
    {
      "cell_type": "markdown",
      "source": [
        "### 3.3 Создание синтетических меток (3 класса на основе квантилей степени)"
      ],
      "metadata": {
        "id": "6rzOnaHw9yMF"
      }
    },
    {
      "cell_type": "code",
      "source": [
        "labels = torch.zeros(data.num_nodes, dtype=torch.long)\n",
        "q1 = np.quantile(degrees, 0.33)\n",
        "q2 = np.quantile(degrees, 0.66)\n",
        "labels[degrees > q2] = 2\n",
        "labels[(degrees > q1) & (degrees <= q2)] = 1\n",
        "data.y = labels.to(torch.long)"
      ],
      "metadata": {
        "id": "XEX1Ln6S91WG"
      },
      "execution_count": 6,
      "outputs": []
    },
    {
      "cell_type": "markdown",
      "source": [
        "### 3.4 Разделение данных на train/val/test"
      ],
      "metadata": {
        "id": "QMz0oggd-JWa"
      }
    },
    {
      "cell_type": "code",
      "source": [
        "data.train_mask = torch.zeros(data.num_nodes, dtype=torch.bool)\n",
        "data.val_mask = torch.zeros(data.num_nodes, dtype=torch.bool)\n",
        "data.test_mask = torch.zeros(data.num_nodes, dtype=torch.bool)\n",
        "\n",
        "indices = torch.randperm(data.num_nodes)\n",
        "data.train_mask[indices[:int(0.6*data.num_nodes)]] = True\n",
        "data.val_mask[indices[int(0.6*data.num_nodes):int(0.8*data.num_nodes)]] = True\n",
        "data.test_mask[indices[int(0.8*data.num_nodes):]] = True"
      ],
      "metadata": {
        "id": "qvvF_lqB9cC-"
      },
      "execution_count": 7,
      "outputs": []
    },
    {
      "cell_type": "markdown",
      "source": [
        "## 4. Определение модели GCN с обработкой рёбер"
      ],
      "metadata": {
        "id": "lVkmJK4x3Ef-"
      }
    },
    {
      "cell_type": "markdown",
      "source": [
        "Архитектура модели:\n",
        "* Два GCN-слоя с использованием весов рёбер (edge_weight)\n",
        "* Dropout для регуляризации\n",
        "* Функция потерь: CrossEntropy"
      ],
      "metadata": {
        "id": "Fr3aVwnd4Uoo"
      }
    },
    {
      "cell_type": "code",
      "source": [
        "class EdgeAwareGCN(torch.nn.Module):\n",
        "    def __init__(self, num_classes):\n",
        "        super().__init__()\n",
        "        self.conv1 = GCNConv(1, 16)\n",
        "        self.conv2 = GCNConv(16, num_classes)\n",
        "\n",
        "    def forward(self, x, edge_index, edge_attr):\n",
        "        # Явное преобразование типов\n",
        "        x = x.to(torch.float32)\n",
        "        edge_attr = edge_attr.to(torch.float32)\n",
        "\n",
        "        x = self.conv1(x, edge_index, edge_weight=edge_attr)\n",
        "        x = F.relu(x)\n",
        "        x = F.dropout(x, training=self.training)\n",
        "        return self.conv2(x, edge_index, edge_weight=edge_attr)"
      ],
      "metadata": {
        "id": "Sr76j86fA-P8"
      },
      "execution_count": 8,
      "outputs": []
    },
    {
      "cell_type": "markdown",
      "source": [
        "## 5. Инициализация модели"
      ],
      "metadata": {
        "id": "9sz7Qhes3bQf"
      }
    },
    {
      "cell_type": "code",
      "source": [
        "device = torch.device('cuda' if torch.cuda.is_available() else 'cpu')\n",
        "model = EdgeAwareGCN(num_classes=3).to(device)\n",
        "\n",
        "data.x = data.x.to(torch.float32)\n",
        "data.edge_attr = data.edge_attr.to(torch.float32)\n",
        "data = data.to(device)\n",
        "optimizer = torch.optim.Adam(model.parameters(), lr=0.01, weight_decay=5e-4)"
      ],
      "metadata": {
        "id": "IcNVZB1p3dqC"
      },
      "execution_count": 9,
      "outputs": []
    },
    {
      "cell_type": "markdown",
      "source": [
        "## 6. Обучение"
      ],
      "metadata": {
        "id": "l1C47t5C3fyv"
      }
    },
    {
      "cell_type": "code",
      "source": [
        "def accuracy(pred, true, mask):\n",
        "    return (pred[mask].argmax(dim=1) == true[mask]).sum().float() / mask.sum()\n",
        "\n",
        "model.train()\n",
        "for epoch in range(200):\n",
        "    optimizer.zero_grad()\n",
        "    out = model(data.x, data.edge_index, data.edge_attr)\n",
        "    loss = F.cross_entropy(out[data.train_mask], data.y[data.train_mask])\n",
        "    loss.backward()\n",
        "    optimizer.step()\n",
        "\n",
        "    # Валидация\n",
        "    model.eval()\n",
        "    with torch.no_grad():\n",
        "        val_acc = accuracy(out, data.y, data.val_mask)\n",
        "\n",
        "    if epoch % 20 == 0:\n",
        "        print(f'Epoch {epoch:03d} | Loss: {loss.item():.4f} | Val Acc: {val_acc:.4f}')"
      ],
      "metadata": {
        "colab": {
          "base_uri": "https://localhost:8080/"
        },
        "id": "JCUNFnD_3iKK",
        "outputId": "8cddf23d-e421-4c13-8d24-0162f66ba330"
      },
      "execution_count": 10,
      "outputs": [
        {
          "output_type": "stream",
          "name": "stdout",
          "text": [
            "Epoch 000 | Loss: 1.1168 | Val Acc: 0.0616\n",
            "Epoch 020 | Loss: 0.4567 | Val Acc: 0.9992\n",
            "Epoch 040 | Loss: 0.0659 | Val Acc: 0.9992\n",
            "Epoch 060 | Loss: 0.0166 | Val Acc: 0.9992\n",
            "Epoch 080 | Loss: 0.0097 | Val Acc: 0.9992\n",
            "Epoch 100 | Loss: 0.0075 | Val Acc: 0.9992\n",
            "Epoch 120 | Loss: 0.0063 | Val Acc: 0.9992\n",
            "Epoch 140 | Loss: 0.0056 | Val Acc: 0.9992\n",
            "Epoch 160 | Loss: 0.0051 | Val Acc: 0.9992\n",
            "Epoch 180 | Loss: 0.0048 | Val Acc: 0.9992\n"
          ]
        }
      ]
    },
    {
      "cell_type": "markdown",
      "source": [
        "## 7. Тестирование"
      ],
      "metadata": {
        "id": "1bvspTuP3lMj"
      }
    },
    {
      "cell_type": "code",
      "source": [
        "model.eval()\n",
        "with torch.no_grad():\n",
        "    out = model(data.x, data.edge_index, data.edge_attr)\n",
        "    test_acc = accuracy(out, data.y, data.test_mask)\n",
        "    print(f'Test Accuracy: {test_acc:.4f}')"
      ],
      "metadata": {
        "colab": {
          "base_uri": "https://localhost:8080/"
        },
        "id": "fBbk4kRL1gLp",
        "outputId": "5c11454a-e395-4e38-fcdb-66e0359314c4"
      },
      "execution_count": 11,
      "outputs": [
        {
          "output_type": "stream",
          "name": "stdout",
          "text": [
            "Test Accuracy: 0.9975\n"
          ]
        }
      ]
    }
  ]
}