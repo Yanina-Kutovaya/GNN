{
  "nbformat": 4,
  "nbformat_minor": 0,
  "metadata": {
    "colab": {
      "provenance": [],
      "gpuType": "T4",
      "authorship_tag": "ABX9TyNfgPr1CL9d/f6L33sGgvdj",
      "include_colab_link": true
    },
    "kernelspec": {
      "name": "python3",
      "display_name": "Python 3"
    },
    "language_info": {
      "name": "python"
    },
    "accelerator": "GPU"
  },
  "cells": [
    {
      "cell_type": "markdown",
      "metadata": {
        "id": "view-in-github",
        "colab_type": "text"
      },
      "source": [
        "<a href=\"https://colab.research.google.com/github/Yanina-Kutovaya/GNN/blob/main/notebooks/4_1_GIN_EdgeAtt.ipynb\" target=\"_parent\"><img src=\"https://colab.research.google.com/assets/colab-badge.svg\" alt=\"Open In Colab\"/></a>"
      ]
    },
    {
      "cell_type": "markdown",
      "source": [
        "# Улучшенная реализация Graph Isomorphism Network (GIN) с механизмом внимания на рёбрах для классификации узлов на датасете Bitcoin-OTC.\n",
        "\n",
        "Задача — предсказать \"уровень доверия\" пользователей\n",
        "\n",
        "Признаки узлов/рёбер - синтетические"
      ],
      "metadata": {
        "id": "qWE6KWh_tTo2"
      }
    },
    {
      "cell_type": "markdown",
      "source": [
        "## 1. Установка зависимостей"
      ],
      "metadata": {
        "id": "vn0wC_KWgjI6"
      }
    },
    {
      "cell_type": "code",
      "source": [
        "!nvcc --version"
      ],
      "metadata": {
        "colab": {
          "base_uri": "https://localhost:8080/"
        },
        "id": "YgF_KbdhGDAx",
        "outputId": "5f7526eb-907f-4f38-ba52-fac837ae60db"
      },
      "execution_count": 1,
      "outputs": [
        {
          "output_type": "stream",
          "name": "stdout",
          "text": [
            "nvcc: NVIDIA (R) Cuda compiler driver\n",
            "Copyright (c) 2005-2024 NVIDIA Corporation\n",
            "Built on Thu_Jun__6_02:18:23_PDT_2024\n",
            "Cuda compilation tools, release 12.5, V12.5.82\n",
            "Build cuda_12.5.r12.5/compiler.34385749_0\n"
          ]
        }
      ]
    },
    {
      "cell_type": "markdown",
      "source": [
        "* Google Colab иногда возникают проблемы с кэшированием пакетов, поэтому добавлен флаг ```--no-cache-dir ```"
      ],
      "metadata": {
        "id": "3q6FPw13e_ph"
      }
    },
    {
      "cell_type": "code",
      "source": [
        "install = True\n",
        "if install:\n",
        "  # 1. Установка совместимых версий PyTorch и PyG\n",
        "  !pip install -q torch==2.3.0+cu121 torchvision==0.18.0+cu121 torchaudio==2.3.0+cu121 --extra-index-url https://download.pytorch.org/whl/cu121\n",
        "\n",
        "  # 2. Установка зависимостей PyG для CUDA 12.1+ (совместимо с 12.5)\n",
        "  !pip install -q pyg-lib torch-scatter torch-sparse torch-cluster torch-spline-conv -f https://data.pyg.org/whl/torch-2.3.0+cu121.html --no-cache-dir\n",
        "\n",
        "  # 3. Установка PyTorch Geometric\n",
        "  !pip install -q torch-geometric==2.5.3"
      ],
      "metadata": {
        "colab": {
          "base_uri": "https://localhost:8080/"
        },
        "id": "tuzlOBdxGJN1",
        "outputId": "2e4c9089-cc4a-4cc8-973d-c1e63d0060d7"
      },
      "execution_count": 2,
      "outputs": [
        {
          "output_type": "stream",
          "name": "stdout",
          "text": [
            "\u001b[2K     \u001b[90m━━━━━━━━━━━━━━━━━━━━━━━━━━━━━━━━━━━━━━━\u001b[0m \u001b[32m781.0/781.0 MB\u001b[0m \u001b[31m1.9 MB/s\u001b[0m eta \u001b[36m0:00:00\u001b[0m\n",
            "\u001b[2K     \u001b[90m━━━━━━━━━━━━━━━━━━━━━━━━━━━━━━━━━━━━━━━━\u001b[0m \u001b[32m7.0/7.0 MB\u001b[0m \u001b[31m109.3 MB/s\u001b[0m eta \u001b[36m0:00:00\u001b[0m\n",
            "\u001b[2K     \u001b[90m━━━━━━━━━━━━━━━━━━━━━━━━━━━━━━━━━━━━━━━━\u001b[0m \u001b[32m3.4/3.4 MB\u001b[0m \u001b[31m95.4 MB/s\u001b[0m eta \u001b[36m0:00:00\u001b[0m\n",
            "\u001b[2K     \u001b[90m━━━━━━━━━━━━━━━━━━━━━━━━━━━━━━━━━━━━━━━\u001b[0m \u001b[32m23.7/23.7 MB\u001b[0m \u001b[31m102.1 MB/s\u001b[0m eta \u001b[36m0:00:00\u001b[0m\n",
            "\u001b[2K     \u001b[90m━━━━━━━━━━━━━━━━━━━━━━━━━━━━━━━━━━━━━━\u001b[0m \u001b[32m823.6/823.6 kB\u001b[0m \u001b[31m54.4 MB/s\u001b[0m eta \u001b[36m0:00:00\u001b[0m\n",
            "\u001b[2K     \u001b[90m━━━━━━━━━━━━━━━━━━━━━━━━━━━━━━━━━━━━━━━\u001b[0m \u001b[32m14.1/14.1 MB\u001b[0m \u001b[31m109.6 MB/s\u001b[0m eta \u001b[36m0:00:00\u001b[0m\n",
            "\u001b[2K     \u001b[90m━━━━━━━━━━━━━━━━━━━━━━━━━━━━━━━━━━━━━━━\u001b[0m \u001b[32m731.7/731.7 MB\u001b[0m \u001b[31m2.6 MB/s\u001b[0m eta \u001b[36m0:00:00\u001b[0m\n",
            "\u001b[2K     \u001b[90m━━━━━━━━━━━━━━━━━━━━━━━━━━━━━━━━━━━━━━━\u001b[0m \u001b[32m410.6/410.6 MB\u001b[0m \u001b[31m4.1 MB/s\u001b[0m eta \u001b[36m0:00:00\u001b[0m\n",
            "\u001b[2K     \u001b[90m━━━━━━━━━━━━━━━━━━━━━━━━━━━━━━━━━━━━━━━\u001b[0m \u001b[32m121.6/121.6 MB\u001b[0m \u001b[31m7.6 MB/s\u001b[0m eta \u001b[36m0:00:00\u001b[0m\n",
            "\u001b[2K     \u001b[90m━━━━━━━━━━━━━━━━━━━━━━━━━━━━━━━━━━━━━━━━\u001b[0m \u001b[32m56.5/56.5 MB\u001b[0m \u001b[31m13.3 MB/s\u001b[0m eta \u001b[36m0:00:00\u001b[0m\n",
            "\u001b[2K     \u001b[90m━━━━━━━━━━━━━━━━━━━━━━━━━━━━━━━━━━━━━━━\u001b[0m \u001b[32m124.2/124.2 MB\u001b[0m \u001b[31m7.4 MB/s\u001b[0m eta \u001b[36m0:00:00\u001b[0m\n",
            "\u001b[2K     \u001b[90m━━━━━━━━━━━━━━━━━━━━━━━━━━━━━━━━━━━━━━━\u001b[0m \u001b[32m196.0/196.0 MB\u001b[0m \u001b[31m7.0 MB/s\u001b[0m eta \u001b[36m0:00:00\u001b[0m\n",
            "\u001b[2K     \u001b[90m━━━━━━━━━━━━━━━━━━━━━━━━━━━━━━━━━━━━━━━\u001b[0m \u001b[32m176.2/176.2 MB\u001b[0m \u001b[31m6.0 MB/s\u001b[0m eta \u001b[36m0:00:00\u001b[0m\n",
            "\u001b[2K     \u001b[90m━━━━━━━━━━━━━━━━━━━━━━━━━━━━━━━━━━━━━━━━\u001b[0m \u001b[32m99.1/99.1 kB\u001b[0m \u001b[31m10.3 MB/s\u001b[0m eta \u001b[36m0:00:00\u001b[0m\n",
            "\u001b[2K     \u001b[90m━━━━━━━━━━━━━━━━━━━━━━━━━━━━━━━━━━━━━━━\u001b[0m \u001b[32m168.1/168.1 MB\u001b[0m \u001b[31m6.4 MB/s\u001b[0m eta \u001b[36m0:00:00\u001b[0m\n",
            "\u001b[2K     \u001b[90m━━━━━━━━━━━━━━━━━━━━━━━━━━━━━━━━━━━━━━━━\u001b[0m \u001b[32m2.5/2.5 MB\u001b[0m \u001b[31m17.2 MB/s\u001b[0m eta \u001b[36m0:00:00\u001b[0m\n",
            "\u001b[2K     \u001b[90m━━━━━━━━━━━━━━━━━━━━━━━━━━━━━━━━━━━━━━━━\u001b[0m \u001b[32m10.9/10.9 MB\u001b[0m \u001b[31m93.2 MB/s\u001b[0m eta \u001b[36m0:00:00\u001b[0m\n",
            "\u001b[2K     \u001b[90m━━━━━━━━━━━━━━━━━━━━━━━━━━━━━━━━━━━━━━━━\u001b[0m \u001b[32m5.1/5.1 MB\u001b[0m \u001b[31m210.8 MB/s\u001b[0m eta \u001b[36m0:00:00\u001b[0m\n",
            "\u001b[2K     \u001b[90m━━━━━━━━━━━━━━━━━━━━━━━━━━━━━━━━━━━━━━━━\u001b[0m \u001b[32m3.4/3.4 MB\u001b[0m \u001b[31m243.6 MB/s\u001b[0m eta \u001b[36m0:00:00\u001b[0m\n",
            "\u001b[2K     \u001b[90m━━━━━━━━━━━━━━━━━━━━━━━━━━━━━━━━━━━━━\u001b[0m \u001b[32m950.4/950.4 kB\u001b[0m \u001b[31m311.0 MB/s\u001b[0m eta \u001b[36m0:00:00\u001b[0m\n",
            "\u001b[2K     \u001b[90m━━━━━━━━━━━━━━━━━━━━━━━━━━━━━━━━━━━━━━━━\u001b[0m \u001b[32m64.2/64.2 kB\u001b[0m \u001b[31m2.7 MB/s\u001b[0m eta \u001b[36m0:00:00\u001b[0m\n",
            "\u001b[2K   \u001b[90m━━━━━━━━━━━━━━━━━━━━━━━━━━━━━━━━━━━━━━━━\u001b[0m \u001b[32m1.1/1.1 MB\u001b[0m \u001b[31m29.7 MB/s\u001b[0m eta \u001b[36m0:00:00\u001b[0m\n",
            "\u001b[?25h"
          ]
        }
      ]
    },
    {
      "cell_type": "markdown",
      "source": [
        "### Принудительная перекомпиляция расширений"
      ],
      "metadata": {
        "id": "PXPXjVqzfG9n"
      }
    },
    {
      "cell_type": "code",
      "source": [
        "!python -c \"import torch; import torch_geometric; print('Rebuild success')\""
      ],
      "metadata": {
        "colab": {
          "base_uri": "https://localhost:8080/"
        },
        "id": "6n_Ir7k3fJbt",
        "outputId": "d8b22835-32f0-4b32-e32a-4d1e8f31fb26"
      },
      "execution_count": 3,
      "outputs": [
        {
          "output_type": "stream",
          "name": "stdout",
          "text": [
            "Rebuild success\n"
          ]
        }
      ]
    },
    {
      "cell_type": "markdown",
      "source": [
        "### Проверка окружения"
      ],
      "metadata": {
        "id": "ruNYpzXtfON2"
      }
    },
    {
      "cell_type": "code",
      "source": [
        "import torch\n",
        "print(f\"PyTorch: {torch.__version__}\")          # Должно быть 2.3.0+cu121\n",
        "print(f\"CUDA: {torch.version.cuda}\")            # Должно быть 12.1+\n",
        "print(f\"Available: {torch.cuda.is_available()}\")# Должно быть True"
      ],
      "metadata": {
        "colab": {
          "base_uri": "https://localhost:8080/"
        },
        "id": "4JYfHnlffNPY",
        "outputId": "27203476-6ca3-4fda-8451-af9756d3f426"
      },
      "execution_count": 4,
      "outputs": [
        {
          "output_type": "stream",
          "name": "stdout",
          "text": [
            "PyTorch: 2.3.0+cu121\n",
            "CUDA: 12.1\n",
            "Available: True\n"
          ]
        }
      ]
    },
    {
      "cell_type": "markdown",
      "source": [
        "## 2. Импорт библиотек"
      ],
      "metadata": {
        "id": "jAjxEQqLgnKu"
      }
    },
    {
      "cell_type": "code",
      "source": [
        "import torch\n",
        "import torch.nn.functional as F\n",
        "from torch_geometric.datasets import BitcoinOTC\n",
        "from torch_geometric.loader import NeighborLoader\n",
        "from torch_geometric.nn import GINConv, MessagePassing\n",
        "from torch.nn import Linear, Sequential, ReLU, Parameter\n",
        "import numpy as np\n",
        "import matplotlib.pyplot as plt"
      ],
      "metadata": {
        "id": "K0FD1_-XgtFw"
      },
      "execution_count": 5,
      "outputs": []
    },
    {
      "cell_type": "markdown",
      "source": [
        "## 3. Загрузка и подготовка данных"
      ],
      "metadata": {
        "id": "CI-CcHL0gxsg"
      }
    },
    {
      "cell_type": "code",
      "source": [
        "dataset = BitcoinOTC(root='/tmp/BitcoinOTC')\n",
        "data = dataset[0]"
      ],
      "metadata": {
        "colab": {
          "base_uri": "https://localhost:8080/"
        },
        "id": "rr5P-vWIgwN-",
        "outputId": "4f27da5b-2694-4733-d0a7-b6ce4edf13e6"
      },
      "execution_count": 6,
      "outputs": [
        {
          "output_type": "stream",
          "name": "stderr",
          "text": [
            "Downloading https://snap.stanford.edu/data/soc-sign-bitcoinotc.csv.gz\n",
            "Extracting /tmp/BitcoinOTC/raw/soc-sign-bitcoinotc.csv.gz\n",
            "Processing...\n",
            "Done!\n"
          ]
        }
      ]
    },
    {
      "cell_type": "markdown",
      "source": [
        "### 3.1 Создание синтетических признаков узлов"
      ],
      "metadata": {
        "id": "Z6ljwzWDhBsO"
      }
    },
    {
      "cell_type": "code",
      "source": [
        "degrees = torch.zeros(data.num_nodes)\n",
        "for edge in data.edge_index.t().tolist():\n",
        "    degrees[edge[0]] += 1\n",
        "\n",
        "data.x = degrees.clone().detach().view(-1, 1).float()\n",
        "data.x = (data.x - data.x.mean()) / data.x.std()"
      ],
      "metadata": {
        "id": "5Eb0msaaomxs"
      },
      "execution_count": 7,
      "outputs": []
    },
    {
      "cell_type": "code",
      "source": [
        "# Явное преобразование типа перед нормализацией\n",
        "data.edge_attr = data.edge_attr.to(torch.float32)\n",
        "data.edge_attr = (data.edge_attr - data.edge_attr.mean()) / data.edge_attr.std()"
      ],
      "metadata": {
        "id": "uYv8CpwdyjYa"
      },
      "execution_count": 8,
      "outputs": []
    },
    {
      "cell_type": "markdown",
      "source": [
        "### 3.2 Создание меток (3 класса)"
      ],
      "metadata": {
        "id": "UzmLADQKhHI1"
      }
    },
    {
      "cell_type": "code",
      "source": [
        "labels = torch.zeros(data.num_nodes, dtype=torch.long)\n",
        "q1 = np.quantile(degrees, 0.33)\n",
        "q2 = np.quantile(degrees, 0.66)\n",
        "labels[degrees > q2] = 2\n",
        "labels[(degrees > q1) & (degrees <= q2)] = 1\n",
        "data.y = labels"
      ],
      "metadata": {
        "id": "qJly8BnUhFwG"
      },
      "execution_count": 9,
      "outputs": []
    },
    {
      "cell_type": "code",
      "source": [
        "# Проверка:\n",
        "print(data.x.requires_grad)  # Должно быть False\n",
        "print(data.x.dtype)          # Должно быть torch.float32\n",
        "print(data.edge_attr.dtype)  # Должно быть torch.float32\n",
        "print(data.y.dtype)          # Должно быть torch.int64"
      ],
      "metadata": {
        "colab": {
          "base_uri": "https://localhost:8080/"
        },
        "id": "2IryIk-zw_Za",
        "outputId": "81c443e0-e048-4459-ba3a-33ecb678f3bd"
      },
      "execution_count": 10,
      "outputs": [
        {
          "output_type": "stream",
          "name": "stdout",
          "text": [
            "False\n",
            "torch.float32\n",
            "torch.float32\n",
            "torch.int64\n"
          ]
        }
      ]
    },
    {
      "cell_type": "markdown",
      "source": [
        "### 3.3 Разделение данных"
      ],
      "metadata": {
        "id": "-L22cJI4hS_7"
      }
    },
    {
      "cell_type": "code",
      "source": [
        "data.train_mask = torch.zeros(data.num_nodes, dtype=torch.bool)\n",
        "data.val_mask = torch.zeros(data.num_nodes, dtype=torch.bool)\n",
        "data.test_mask = torch.zeros(data.num_nodes, dtype=torch.bool)\n",
        "\n",
        "indices = torch.randperm(data.num_nodes)\n",
        "split = [0.6, 0.2, 0.2]\n",
        "data.train_mask[indices[:int(split[0]*data.num_nodes)]] = True\n",
        "data.val_mask[indices[int(split[0]*data.num_nodes):int((split[0]+split[1])*data.num_nodes)]] = True\n",
        "data.test_mask[indices[int((split[0]+split[1])*data.num_nodes):]] = True"
      ],
      "metadata": {
        "id": "MOBF2X4jhRUL"
      },
      "execution_count": 11,
      "outputs": []
    },
    {
      "cell_type": "markdown",
      "source": [
        "## 4. Модель GIN с вниманием на рёбрах"
      ],
      "metadata": {
        "id": "yabYwQQhqoAr"
      }
    },
    {
      "cell_type": "markdown",
      "source": [
        "Ключевые улучшения:\n",
        "\n",
        "1. Механизм внимания на рёбрах:\n",
        "\n",
        "  - Кастомный слой EdgeAttGINConv с learnable-параметрами внимания\n",
        "  - Кодирование признаков рёбер через Linear(1, 16)\n",
        "  - Взвешенная агрегация с сигмоидной активацией\n",
        "\n",
        "2. Архитектурные изменения:\n",
        "\n",
        "  - Гибридная модель: стандартный GINConv + кастомный слой с вниманием\n",
        "  - Использование edge_dim=1 в первом слое GINConv\n",
        "  - Улучшенная регуляризация (dropout=0.5)\n",
        "\n",
        "3. Результаты:\n",
        "\n",
        "  - Должна увеличиться точность на 3-5% по сравнению с базовой версией\n",
        "  - Лучшая интерпретируемость (можно анализировать веса внимания)"
      ],
      "metadata": {
        "id": "3dIFej9ZrAqe"
      }
    },
    {
      "cell_type": "markdown",
      "source": [
        "### 4.1 Кастомный GIN с вниманием на рёбрах"
      ],
      "metadata": {
        "id": "kbLpz6UShgHY"
      }
    },
    {
      "cell_type": "code",
      "source": [
        "class EdgeAttGINConv(MessagePassing):\n",
        "    def __init__(self, nn, eps=0.):\n",
        "        super().__init__(aggr='add')\n",
        "        self.nn = nn\n",
        "        self.eps = eps\n",
        "        self.edge_encoder = Linear(1, 16)\n",
        "        self.att = Parameter(torch.Tensor(1, 16))\n",
        "        self.reset_parameters()\n",
        "\n",
        "    def forward(self, x, edge_index, edge_attr, return_attention_weights=False):\n",
        "        # Кодирование признаков рёбер\n",
        "        edge_embed = self.edge_encoder(edge_attr.view(-1, 1))\n",
        "\n",
        "        # Вычисление коэффициентов внимания\n",
        "        alpha = (edge_embed * self.att).sum(dim=-1)\n",
        "        alpha = F.leaky_relu(alpha, 0.2)\n",
        "        alpha = torch.sigmoid(alpha)\n",
        "\n",
        "        # Пропагация с вниманием\n",
        "        out = self.propagate(edge_index, x=x, alpha=alpha)\n",
        "\n",
        "        if return_attention_weights:\n",
        "            return out + (1 + self.eps) * x, (edge_index, alpha)\n",
        "        return out + (1 + self.eps) * x"
      ],
      "metadata": {
        "id": "usJxLExHhc21"
      },
      "execution_count": 12,
      "outputs": []
    },
    {
      "cell_type": "markdown",
      "source": [
        "### 4.2 Архитектура модели"
      ],
      "metadata": {
        "id": "oNAueSPOoZUR"
      }
    },
    {
      "cell_type": "code",
      "source": [
        "class EdgeAttGIN(torch.nn.Module):\n",
        "    def __init__(self, in_channels, hidden_channels, out_channels):\n",
        "        super().__init__()\n",
        "\n",
        "        self.conv1 = GINConv(\n",
        "            Sequential(\n",
        "                Linear(in_channels, hidden_channels),\n",
        "                ReLU(),\n",
        "                Linear(hidden_channels, hidden_channels)\n",
        "            ),\n",
        "            eps=0.\n",
        "        )\n",
        "\n",
        "        self.conv2 = EdgeAttGINConv(\n",
        "            Sequential(\n",
        "                Linear(hidden_channels, hidden_channels),\n",
        "                ReLU(),\n",
        "                Linear(hidden_channels, out_channels)\n",
        "            )\n",
        "        )\n",
        "\n",
        "    def forward(self, x, edge_index, edge_attr):\n",
        "        x = self.conv1(x, edge_index)  # Убрали edge_attr здесь\n",
        "        x = F.relu(x)\n",
        "        x = F.dropout(x, p=0.5, training=self.training)\n",
        "        return self.conv2(x, edge_index, edge_attr)"
      ],
      "metadata": {
        "id": "GHBOLC4MoWyP"
      },
      "execution_count": 13,
      "outputs": []
    },
    {
      "cell_type": "markdown",
      "source": [
        "## 5. Инициализация модели и оптимизатора"
      ],
      "metadata": {
        "id": "zXACV_HZhpmg"
      }
    },
    {
      "cell_type": "code",
      "source": [
        "device = torch.device('cuda' if torch.cuda.is_available() else 'cpu')\n",
        "model = EdgeAttGIN(1, 64, 3).to(device)\n",
        "optimizer = torch.optim.Adam(model.parameters(), lr=0.01)"
      ],
      "metadata": {
        "id": "Dx3pCulbzcMy"
      },
      "execution_count": 14,
      "outputs": []
    },
    {
      "cell_type": "markdown",
      "source": [
        "## 6. Настройка NeighborLoader"
      ],
      "metadata": {
        "id": "tPYkdnSthxdN"
      }
    },
    {
      "cell_type": "code",
      "source": [
        "train_loader = NeighborLoader(\n",
        "    data,\n",
        "    num_neighbors=[25, 10],  # 25 соседей для 1-го слоя, 10 для 2-го\n",
        "    batch_size=512,\n",
        "    input_nodes=data.train_mask,\n",
        "    shuffle=True,\n",
        "    num_workers=2\n",
        ")"
      ],
      "metadata": {
        "id": "Alr4_GSEhtOG"
      },
      "execution_count": 15,
      "outputs": []
    },
    {
      "cell_type": "markdown",
      "source": [
        "## 7. Функция для вычисления точности"
      ],
      "metadata": {
        "id": "YYogFB9Nh3FF"
      }
    },
    {
      "cell_type": "code",
      "source": [
        "def accuracy(pred, true, mask):\n",
        "    return (pred[mask].argmax(dim=1) == true[mask]).sum().float() / mask.sum()"
      ],
      "metadata": {
        "id": "WTEsu6txh3oL"
      },
      "execution_count": 16,
      "outputs": []
    },
    {
      "cell_type": "markdown",
      "source": [
        "## 8. Обучение модели"
      ],
      "metadata": {
        "id": "ACCELJfviJSj"
      }
    },
    {
      "cell_type": "code",
      "source": [
        "losses = []\n",
        "val_accs = []\n",
        "\n",
        "model.train()\n",
        "for epoch in range(10):\n",
        "    total_loss = 0\n",
        "    for batch in train_loader:\n",
        "        batch = batch.to(device)\n",
        "        optimizer.zero_grad()\n",
        "        out = model(batch.x, batch.edge_index, batch.edge_attr)\n",
        "        loss = F.cross_entropy(out[batch.train_mask], batch.y[batch.train_mask])\n",
        "        loss.backward()\n",
        "        optimizer.step()\n",
        "        total_loss += loss.item()\n",
        "\n",
        "    # Валидация\n",
        "    model.eval()\n",
        "    with torch.no_grad():\n",
        "        val_acc = accuracy(model(data.x.to(device), data.edge_index.to(device), data.edge_attr.to(device)),\n",
        "                    data.y.to(device),\n",
        "                    data.val_mask.to(device))\n",
        "\n",
        "    losses.append(total_loss / len(train_loader))\n",
        "    val_accs.append(val_acc.cpu())\n",
        "\n",
        "    print(f'Epoch {epoch:02d} | Loss: {losses[-1]:.4f} | Val Acc: {val_acc:.4f}')"
      ],
      "metadata": {
        "colab": {
          "base_uri": "https://localhost:8080/"
        },
        "id": "kAjmg45npl3r",
        "outputId": "976fa98e-3ca6-4e03-e85a-4138fec478aa"
      },
      "execution_count": 17,
      "outputs": [
        {
          "output_type": "stream",
          "name": "stdout",
          "text": [
            "Epoch 00 | Loss: 4.1883 | Val Acc: 0.9992\n",
            "Epoch 01 | Loss: 2.0006 | Val Acc: 0.9992\n",
            "Epoch 02 | Loss: 0.7655 | Val Acc: 0.9992\n",
            "Epoch 03 | Loss: 0.3164 | Val Acc: 0.9992\n",
            "Epoch 04 | Loss: 0.1682 | Val Acc: 0.9992\n",
            "Epoch 05 | Loss: 0.0641 | Val Acc: 1.0000\n",
            "Epoch 06 | Loss: 0.0460 | Val Acc: 0.9992\n",
            "Epoch 07 | Loss: 0.0549 | Val Acc: 0.9992\n",
            "Epoch 08 | Loss: 0.0232 | Val Acc: 0.9992\n",
            "Epoch 09 | Loss: 0.0457 | Val Acc: 0.9992\n"
          ]
        }
      ]
    },
    {
      "cell_type": "markdown",
      "source": [
        "## 9. Визуализация обучения"
      ],
      "metadata": {
        "id": "K7m8Zs4rinJM"
      }
    },
    {
      "cell_type": "code",
      "source": [
        "plt.figure(figsize=(12, 5))\n",
        "plt.subplot(1, 2, 1)\n",
        "plt.plot(losses, label='Training Loss')\n",
        "plt.title('Learning Curve')\n",
        "plt.xlabel('Epoch')\n",
        "\n",
        "plt.subplot(1, 2, 2)\n",
        "plt.plot(val_accs, label='Validation Accuracy')\n",
        "plt.title('Validation Performance')\n",
        "plt.xlabel('Epoch')\n",
        "plt.show()"
      ],
      "metadata": {
        "colab": {
          "base_uri": "https://localhost:8080/",
          "height": 487
        },
        "id": "yrxciBy3iq4Q",
        "outputId": "f3d4e403-40fe-4caa-d148-cdec8f55aa6e"
      },
      "execution_count": 18,
      "outputs": [
        {
          "output_type": "display_data",
          "data": {
            "text/plain": [
              "<Figure size 1200x500 with 2 Axes>"
            ],
            "image/png": "[encoded data removed]"
          },
          "metadata": {}
        }
      ]
    },
    {
      "cell_type": "markdown",
      "source": [
        "## 10. Тестирование"
      ],
      "metadata": {
        "id": "U0awt6UMishi"
      }
    },
    {
      "cell_type": "code",
      "source": [
        "# Проверка\n",
        "print(\"edge_attr exists:\", hasattr(data, 'edge_attr'))  # Должно быть True\n",
        "print(\"edge_attr shape:\", data.edge_attr.shape)         # Должно совпадать с числом рёбер"
      ],
      "metadata": {
        "colab": {
          "base_uri": "https://localhost:8080/"
        },
        "id": "tFH8CfDb364A",
        "outputId": "9060294d-7f74-42c5-b3b4-e54f5b6bd1d8"
      },
      "execution_count": 19,
      "outputs": [
        {
          "output_type": "stream",
          "name": "stdout",
          "text": [
            "edge_attr exists: True\n",
            "edge_attr shape: torch.Size([41])\n"
          ]
        }
      ]
    },
    {
      "cell_type": "code",
      "source": [
        "model.eval()\n",
        "with torch.no_grad():\n",
        "    # Передаём все три аргумента: x, edge_index, edge_attr\n",
        "    out = model(data.x.to(device),\n",
        "               data.edge_index.to(device),\n",
        "               data.edge_attr.to(device))\n",
        "\n",
        "    test_acc = accuracy(out, data.y.to(device), data.test_mask.to(device))\n",
        "    print(f'Test Accuracy: {test_acc:.4f}')"
      ],
      "metadata": {
        "colab": {
          "base_uri": "https://localhost:8080/"
        },
        "id": "DpOV01cu3B4n",
        "outputId": "0cd375de-b1ef-4386-ab91-faaa622bb3cc"
      },
      "execution_count": 20,
      "outputs": [
        {
          "output_type": "stream",
          "name": "stdout",
          "text": [
            "Test Accuracy: 0.9992\n"
          ]
        }
      ]
    },
    {
      "cell_type": "markdown",
      "source": [
        "## 11. Как использовать механизм внимания"
      ],
      "metadata": {
        "id": "pXR3k32prw1v"
      }
    },
    {
      "cell_type": "code",
      "source": [
        "# Пример получения весов внимания\n",
        "model.eval()\n",
        "with torch.no_grad():\n",
        "    output, (edge_index, attention_weights) = model.conv2(\n",
        "        data.x.to(device),\n",
        "        data.edge_index.to(device),\n",
        "        data.edge_attr.to(device),\n",
        "        return_attention_weights=True\n",
        "    )\n",
        "\n",
        "print(\"Веса внимания:\", attention_weights[:10].cpu().numpy())"
      ],
      "metadata": {
        "colab": {
          "base_uri": "https://localhost:8080/"
        },
        "id": "ugVIBQ1Kr3Jv",
        "outputId": "f92c4f07-a033-4194-93ac-ea4af6c81fff"
      },
      "execution_count": 21,
      "outputs": [
        {
          "output_type": "stream",
          "name": "stdout",
          "text": [
            "Веса внимания: [0.5 0.5 0.5 0.5 0.5 0.5 0.5 0.5 0.5 0.5]\n"
          ]
        }
      ]
    },
    {
      "cell_type": "markdown",
      "source": [
        "# 12. Дальнейшее развитие модели\n",
        "\n",
        "- Экспериментируем с размерностью вектора внимания\n",
        "- Добавим multi-head внимание\n",
        "- Визуализируем распределение весов внимания"
      ],
      "metadata": {
        "id": "DZ_th042sCfz"
      }
    }
  ]
}