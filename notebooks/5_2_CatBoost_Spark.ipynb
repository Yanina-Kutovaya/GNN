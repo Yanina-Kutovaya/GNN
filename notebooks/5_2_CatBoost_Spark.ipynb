{
  "nbformat": 4,
  "nbformat_minor": 0,
  "metadata": {
    "colab": {
      "provenance": [],
      "collapsed_sections": [
        "dF7fAsmayHHZ"
      ],
      "authorship_tag": "ABX9TyOvDWCCOFgg95nlwTaE5MV0",
      "include_colab_link": true
    },
    "kernelspec": {
      "name": "python3",
      "display_name": "Python 3"
    },
    "language_info": {
      "name": "python"
    }
  },
  "cells": [
    {
      "cell_type": "markdown",
      "metadata": {
        "id": "view-in-github",
        "colab_type": "text"
      },
      "source": [
        "<a href=\"https://colab.research.google.com/github/Yanina-Kutovaya/GNN/blob/main/notebooks/5_2_CatBoost_Spark.ipynb\" target=\"_parent\"><img src=\"https://colab.research.google.com/assets/colab-badge.svg\" alt=\"Open In Colab\"/></a>"
      ]
    },
    {
      "cell_type": "markdown",
      "source": [
        "# CatBoost + Spark"
      ],
      "metadata": {
        "id": "O2ecjUbQIqLl"
      }
    },
    {
      "cell_type": "markdown",
      "source": [
        "\n",
        "* catboost-spark — это обертка для использования CatBoost в Spark-кластерах. Она позволяет обучать модели на больших данных, распределенных по узлам кластера.\n",
        "* При работе с небольшими данными, то лучше использовать стандартный CatBoostClassifier без Spark."
      ],
      "metadata": {
        "id": "IdL3h5V9QcbU"
      }
    },
    {
      "cell_type": "markdown",
      "source": [
        "## 1. Установка зависимостей"
      ],
      "metadata": {
        "id": "NZNVJPmAtE95"
      }
    },
    {
      "cell_type": "markdown",
      "source": [
        "Используем Colab с фиксированной версией Spark 3.4 и Scala 2.12 :"
      ],
      "metadata": {
        "id": "JvNscVFl1zcF"
      }
    },
    {
      "cell_type": "code",
      "source": [
        "install = False\n",
        "if install:\n",
        "  # Установить Spark 3.4 с Scala 2.12\n",
        "  !pip install -q pyspark==3.4.0 catboost==1.2.8\n",
        "\n",
        "  # Перезапустить среду после установки\n",
        "  import os\n",
        "  os.kill(os.getpid(), 9)"
      ],
      "metadata": {
        "id": "eetdCFce15Hw"
      },
      "execution_count": 1,
      "outputs": []
    },
    {
      "cell_type": "code",
      "source": [
        "from pyspark.sql import SparkSession\n",
        "\n",
        "spark = SparkSession.builder \\\n",
        "    .appName(\"CatBoostExample\") \\\n",
        "    .config(\"spark.jars.packages\", \"ai.catboost:catboost-spark_3.4_2.12:1.2.8\") \\\n",
        "    .getOrCreate()\n",
        "\n",
        "# Проверка загруженного артефакта\n",
        "print(spark.sparkContext.getConf().get(\"spark.jars.packages\"))"
      ],
      "metadata": {
        "colab": {
          "base_uri": "https://localhost:8080/"
        },
        "id": "oXKDIAjbSsnz",
        "outputId": "ed930841-ee2a-4ee1-e974-72d74fbcc914"
      },
      "execution_count": 2,
      "outputs": [
        {
          "output_type": "stream",
          "name": "stdout",
          "text": [
            "ai.catboost:catboost-spark_3.4_2.12:1.2.8\n"
          ]
        }
      ]
    },
    {
      "cell_type": "code",
      "source": [
        "# Версия Spark\n",
        "print(\"Spark version:\", spark.sparkContext.version)\n",
        "\n",
        "# Версия Scala (выведет \"2.12\" или \"2.13\")\n",
        "scala_version = spark.sparkContext._jvm.scala.util.Properties.versionString()\n",
        "print(\"Scala version:\", scala_version)"
      ],
      "metadata": {
        "colab": {
          "base_uri": "https://localhost:8080/"
        },
        "id": "wAC3bt0xSzP0",
        "outputId": "c21b404a-188b-4bcc-9814-a4342e17dae8"
      },
      "execution_count": 3,
      "outputs": [
        {
          "output_type": "stream",
          "name": "stdout",
          "text": [
            "Spark version: 3.4.0\n",
            "Scala version: version 2.12.17\n"
          ]
        }
      ]
    },
    {
      "cell_type": "code",
      "source": [
        "spark"
      ],
      "metadata": {
        "colab": {
          "base_uri": "https://localhost:8080/",
          "height": 219
        },
        "id": "9E7fIwCkS4nP",
        "outputId": "d25183e1-f4b5-433b-f411-8644f0081153"
      },
      "execution_count": 4,
      "outputs": [
        {
          "output_type": "execute_result",
          "data": {
            "text/plain": [
              "<pyspark.sql.session.SparkSession at 0x784c166bb590>"
            ],
            "text/html": [
              "\n",
              "            <div>\n",
              "                <p><b>SparkSession - in-memory</b></p>\n",
              "                \n",
              "        <div>\n",
              "            <p><b>SparkContext</b></p>\n",
              "\n",
              "            <p><a href=\"http://28e5a21a351e:4040\">Spark UI</a></p>\n",
              "\n",
              "            <dl>\n",
              "              <dt>Version</dt>\n",
              "                <dd><code>v3.4.0</code></dd>\n",
              "              <dt>Master</dt>\n",
              "                <dd><code>local[*]</code></dd>\n",
              "              <dt>AppName</dt>\n",
              "                <dd><code>CatBoostExample</code></dd>\n",
              "            </dl>\n",
              "        </div>\n",
              "        \n",
              "            </div>\n",
              "        "
            ]
          },
          "metadata": {},
          "execution_count": 4
        }
      ]
    },
    {
      "cell_type": "markdown",
      "source": [
        "## 2. Импорт библиотек"
      ],
      "metadata": {
        "id": "kj8s_pDSSK6b"
      }
    },
    {
      "cell_type": "code",
      "source": [
        "import os\n",
        "\n",
        "os.makedirs(\"/content/data\", exist_ok=True)\n",
        "os.makedirs(\"/content/results\", exist_ok=True)"
      ],
      "metadata": {
        "id": "XAG2-MAvR-Oc"
      },
      "execution_count": 5,
      "outputs": []
    },
    {
      "cell_type": "code",
      "source": [
        "# -*- coding: utf-8 -*-\n",
        "import logging\n",
        "import time\n",
        "import pandas as pd\n",
        "import numpy as np\n",
        "\n",
        "from sklearn.datasets import load_iris\n",
        "from pyspark.ml.feature import VectorAssembler, StringIndexer\n",
        "from pyspark.ml.tuning import CrossValidator, ParamGridBuilder\n",
        "from pyspark.ml.evaluation import MulticlassClassificationEvaluator\n",
        "from catboost_spark import CatBoostClassifier"
      ],
      "metadata": {
        "id": "oXYAN_luR-TT"
      },
      "execution_count": 6,
      "outputs": []
    },
    {
      "cell_type": "code",
      "source": [
        "PARQUET_PATH = \"data/iris_data.parquet\""
      ],
      "metadata": {
        "id": "8ejsKITVSlIf"
      },
      "execution_count": 7,
      "outputs": []
    },
    {
      "cell_type": "markdown",
      "source": [
        "## 3. Настройка логгирования"
      ],
      "metadata": {
        "id": "yATzmnN_Sfk6"
      }
    },
    {
      "cell_type": "code",
      "source": [
        "logging.basicConfig(\n",
        "    level=logging.INFO,\n",
        "    format='%(asctime)s - %(levelname)s - %(message)s',\n",
        "    filename='/content/results/training.log',\n",
        "    filemode='w'\n",
        ")\n",
        "console = logging.StreamHandler()\n",
        "console.setLevel(logging.INFO)\n",
        "formatter = logging.Formatter('%(asctime)s - %(levelname)s - %(message)s')\n",
        "console.setFormatter(formatter)\n",
        "logging.getLogger('').addHandler(console)\n",
        "\n",
        "logger = logging.getLogger(\"CatBoostChinookPipeline\")"
      ],
      "metadata": {
        "id": "H-vgCfS1xIr-"
      },
      "execution_count": 8,
      "outputs": []
    },
    {
      "cell_type": "markdown",
      "source": [
        "## 4. Загрузка данных и преобразование в Spark DataFrame"
      ],
      "metadata": {
        "id": "hO1CIryVtPWM"
      }
    },
    {
      "cell_type": "markdown",
      "source": [
        "### 4.1. Сохранение датасета в формате ```PARQUET```"
      ],
      "metadata": {
        "id": "tplqM4wdwTRF"
      }
    },
    {
      "cell_type": "code",
      "source": [
        "from sklearn.datasets import load_iris\n",
        "import pandas as pd\n",
        "\n",
        "# Загрузка данных из sklearn (только для примера)\n",
        "data = load_iris()\n",
        "X, y = data.data, data.target\n",
        "\n",
        "# Преобразование в Pandas DataFrame\n",
        "cols = [f\"{i.split()[0]}_{i.split()[1]}\" for i in data.feature_names]\n",
        "df = pd.DataFrame(X, columns=cols)\n",
        "df[\"label\"] = y\n",
        "\n",
        "df.to_parquet(PARQUET_PATH, compression=\"gzip\")\n",
        "\n",
        "df.head(2)"
      ],
      "metadata": {
        "colab": {
          "base_uri": "https://localhost:8080/",
          "height": 112
        },
        "id": "KJVgYFwMtmP8",
        "outputId": "d98fecd7-a400-490c-ef9f-a0c491a68409"
      },
      "execution_count": 9,
      "outputs": [
        {
          "output_type": "execute_result",
          "data": {
            "text/plain": [
              "   sepal_length  sepal_width  petal_length  petal_width  label\n",
              "0           5.1          3.5           1.4          0.2      0\n",
              "1           4.9          3.0           1.4          0.2      0"
            ],
            "text/html": [
              "\n",
              "  <div id=\"df-d82784af-504d-4b8a-b808-3d4f14496339\" class=\"colab-df-container\">\n",
              "    <div>\n",
              "<style scoped>\n",
              "    .dataframe tbody tr th:only-of-type {\n",
              "        vertical-align: middle;\n",
              "    }\n",
              "\n",
              "    .dataframe tbody tr th {\n",
              "        vertical-align: top;\n",
              "    }\n",
              "\n",
              "    .dataframe thead th {\n",
              "        text-align: right;\n",
              "    }\n",
              "</style>\n",
              "<table border=\"1\" class=\"dataframe\">\n",
              "  <thead>\n",
              "    <tr style=\"text-align: right;\">\n",
              "      <th></th>\n",
              "      <th>sepal_length</th>\n",
              "      <th>sepal_width</th>\n",
              "      <th>petal_length</th>\n",
              "      <th>petal_width</th>\n",
              "      <th>label</th>\n",
              "    </tr>\n",
              "  </thead>\n",
              "  <tbody>\n",
              "    <tr>\n",
              "      <th>0</th>\n",
              "      <td>5.1</td>\n",
              "      <td>3.5</td>\n",
              "      <td>1.4</td>\n",
              "      <td>0.2</td>\n",
              "      <td>0</td>\n",
              "    </tr>\n",
              "    <tr>\n",
              "      <th>1</th>\n",
              "      <td>4.9</td>\n",
              "      <td>3.0</td>\n",
              "      <td>1.4</td>\n",
              "      <td>0.2</td>\n",
              "      <td>0</td>\n",
              "    </tr>\n",
              "  </tbody>\n",
              "</table>\n",
              "</div>\n",
              "    <div class=\"colab-df-buttons\">\n",
              "\n",
              "  <div class=\"colab-df-container\">\n",
              "    <button class=\"colab-df-convert\" onclick=\"convertToInteractive('df-d82784af-504d-4b8a-b808-3d4f14496339')\"\n",
              "            title=\"Convert this dataframe to an interactive table.\"\n",
              "            style=\"display:none;\">\n",
              "\n",
              "  <svg xmlns=\"http://www.w3.org/2000/svg\" height=\"24px\" viewBox=\"0 -960 960 960\">\n",
              "    <path d=\"M120-120v-720h720v720H120Zm60-500h600v-160H180v160Zm220 220h160v-160H400v160Zm0 220h160v-160H400v160ZM180-400h160v-160H180v160Zm440 0h160v-160H620v160ZM180-180h160v-160H180v160Zm440 0h160v-160H620v160Z\"/>\n",
              "  </svg>\n",
              "    </button>\n",
              "\n",
              "  <style>\n",
              "    .colab-df-container {\n",
              "      display:flex;\n",
              "      gap: 12px;\n",
              "    }\n",
              "\n",
              "    .colab-df-convert {\n",
              "      background-color: #E8F0FE;\n",
              "      border: none;\n",
              "      border-radius: 50%;\n",
              "      cursor: pointer;\n",
              "      display: none;\n",
              "      fill: #1967D2;\n",
              "      height: 32px;\n",
              "      padding: 0 0 0 0;\n",
              "      width: 32px;\n",
              "    }\n",
              "\n",
              "    .colab-df-convert:hover {\n",
              "      background-color: #E2EBFA;\n",
              "      box-shadow: 0px 1px 2px rgba(60, 64, 67, 0.3), 0px 1px 3px 1px rgba(60, 64, 67, 0.15);\n",
              "      fill: #174EA6;\n",
              "    }\n",
              "\n",
              "    .colab-df-buttons div {\n",
              "      margin-bottom: 4px;\n",
              "    }\n",
              "\n",
              "    [theme=dark] .colab-df-convert {\n",
              "      background-color: #3B4455;\n",
              "      fill: #D2E3FC;\n",
              "    }\n",
              "\n",
              "    [theme=dark] .colab-df-convert:hover {\n",
              "      background-color: #434B5C;\n",
              "      box-shadow: 0px 1px 3px 1px rgba(0, 0, 0, 0.15);\n",
              "      filter: drop-shadow(0px 1px 2px rgba(0, 0, 0, 0.3));\n",
              "      fill: #FFFFFF;\n",
              "    }\n",
              "  </style>\n",
              "\n",
              "    <script>\n",
              "      const buttonEl =\n",
              "        document.querySelector('#df-d82784af-504d-4b8a-b808-3d4f14496339 button.colab-df-convert');\n",
              "      buttonEl.style.display =\n",
              "        google.colab.kernel.accessAllowed ? 'block' : 'none';\n",
              "\n",
              "      async function convertToInteractive(key) {\n",
              "        const element = document.querySelector('#df-d82784af-504d-4b8a-b808-3d4f14496339');\n",
              "        const dataTable =\n",
              "          await google.colab.kernel.invokeFunction('convertToInteractive',\n",
              "                                                    [key], {});\n",
              "        if (!dataTable) return;\n",
              "\n",
              "        const docLinkHtml = 'Like what you see? Visit the ' +\n",
              "          '<a target=\"_blank\" href=https://colab.research.google.com/notebooks/data_table.ipynb>data table notebook</a>'\n",
              "          + ' to learn more about interactive tables.';\n",
              "        element.innerHTML = '';\n",
              "        dataTable['output_type'] = 'display_data';\n",
              "        await google.colab.output.renderOutput(dataTable, element);\n",
              "        const docLink = document.createElement('div');\n",
              "        docLink.innerHTML = docLinkHtml;\n",
              "        element.appendChild(docLink);\n",
              "      }\n",
              "    </script>\n",
              "  </div>\n",
              "\n",
              "\n",
              "    <div id=\"df-67b789da-58f0-444a-a51e-cfe950b33b74\">\n",
              "      <button class=\"colab-df-quickchart\" onclick=\"quickchart('df-67b789da-58f0-444a-a51e-cfe950b33b74')\"\n",
              "                title=\"Suggest charts\"\n",
              "                style=\"display:none;\">\n",
              "\n",
              "<svg xmlns=\"http://www.w3.org/2000/svg\" height=\"24px\"viewBox=\"0 0 24 24\"\n",
              "     width=\"24px\">\n",
              "    <g>\n",
              "        <path d=\"M19 3H5c-1.1 0-2 .9-2 2v14c0 1.1.9 2 2 2h14c1.1 0 2-.9 2-2V5c0-1.1-.9-2-2-2zM9 17H7v-7h2v7zm4 0h-2V7h2v10zm4 0h-2v-4h2v4z\"/>\n",
              "    </g>\n",
              "</svg>\n",
              "      </button>\n",
              "\n",
              "<style>\n",
              "  .colab-df-quickchart {\n",
              "      --bg-color: #E8F0FE;\n",
              "      --fill-color: #1967D2;\n",
              "      --hover-bg-color: #E2EBFA;\n",
              "      --hover-fill-color: #174EA6;\n",
              "      --disabled-fill-color: #AAA;\n",
              "      --disabled-bg-color: #DDD;\n",
              "  }\n",
              "\n",
              "  [theme=dark] .colab-df-quickchart {\n",
              "      --bg-color: #3B4455;\n",
              "      --fill-color: #D2E3FC;\n",
              "      --hover-bg-color: #434B5C;\n",
              "      --hover-fill-color: #FFFFFF;\n",
              "      --disabled-bg-color: #3B4455;\n",
              "      --disabled-fill-color: #666;\n",
              "  }\n",
              "\n",
              "  .colab-df-quickchart {\n",
              "    background-color: var(--bg-color);\n",
              "    border: none;\n",
              "    border-radius: 50%;\n",
              "    cursor: pointer;\n",
              "    display: none;\n",
              "    fill: var(--fill-color);\n",
              "    height: 32px;\n",
              "    padding: 0;\n",
              "    width: 32px;\n",
              "  }\n",
              "\n",
              "  .colab-df-quickchart:hover {\n",
              "    background-color: var(--hover-bg-color);\n",
              "    box-shadow: 0 1px 2px rgba(60, 64, 67, 0.3), 0 1px 3px 1px rgba(60, 64, 67, 0.15);\n",
              "    fill: var(--button-hover-fill-color);\n",
              "  }\n",
              "\n",
              "  .colab-df-quickchart-complete:disabled,\n",
              "  .colab-df-quickchart-complete:disabled:hover {\n",
              "    background-color: var(--disabled-bg-color);\n",
              "    fill: var(--disabled-fill-color);\n",
              "    box-shadow: none;\n",
              "  }\n",
              "\n",
              "  .colab-df-spinner {\n",
              "    border: 2px solid var(--fill-color);\n",
              "    border-color: transparent;\n",
              "    border-bottom-color: var(--fill-color);\n",
              "    animation:\n",
              "      spin 1s steps(1) infinite;\n",
              "  }\n",
              "\n",
              "  @keyframes spin {\n",
              "    0% {\n",
              "      border-color: transparent;\n",
              "      border-bottom-color: var(--fill-color);\n",
              "      border-left-color: var(--fill-color);\n",
              "    }\n",
              "    20% {\n",
              "      border-color: transparent;\n",
              "      border-left-color: var(--fill-color);\n",
              "      border-top-color: var(--fill-color);\n",
              "    }\n",
              "    30% {\n",
              "      border-color: transparent;\n",
              "      border-left-color: var(--fill-color);\n",
              "      border-top-color: var(--fill-color);\n",
              "      border-right-color: var(--fill-color);\n",
              "    }\n",
              "    40% {\n",
              "      border-color: transparent;\n",
              "      border-right-color: var(--fill-color);\n",
              "      border-top-color: var(--fill-color);\n",
              "    }\n",
              "    60% {\n",
              "      border-color: transparent;\n",
              "      border-right-color: var(--fill-color);\n",
              "    }\n",
              "    80% {\n",
              "      border-color: transparent;\n",
              "      border-right-color: var(--fill-color);\n",
              "      border-bottom-color: var(--fill-color);\n",
              "    }\n",
              "    90% {\n",
              "      border-color: transparent;\n",
              "      border-bottom-color: var(--fill-color);\n",
              "    }\n",
              "  }\n",
              "</style>\n",
              "\n",
              "      <script>\n",
              "        async function quickchart(key) {\n",
              "          const quickchartButtonEl =\n",
              "            document.querySelector('#' + key + ' button');\n",
              "          quickchartButtonEl.disabled = true;  // To prevent multiple clicks.\n",
              "          quickchartButtonEl.classList.add('colab-df-spinner');\n",
              "          try {\n",
              "            const charts = await google.colab.kernel.invokeFunction(\n",
              "                'suggestCharts', [key], {});\n",
              "          } catch (error) {\n",
              "            console.error('Error during call to suggestCharts:', error);\n",
              "          }\n",
              "          quickchartButtonEl.classList.remove('colab-df-spinner');\n",
              "          quickchartButtonEl.classList.add('colab-df-quickchart-complete');\n",
              "        }\n",
              "        (() => {\n",
              "          let quickchartButtonEl =\n",
              "            document.querySelector('#df-67b789da-58f0-444a-a51e-cfe950b33b74 button');\n",
              "          quickchartButtonEl.style.display =\n",
              "            google.colab.kernel.accessAllowed ? 'block' : 'none';\n",
              "        })();\n",
              "      </script>\n",
              "    </div>\n",
              "    </div>\n",
              "  </div>\n"
            ],
            "application/vnd.google.colaboratory.intrinsic+json": {
              "type": "dataframe",
              "variable_name": "df",
              "summary": "{\n  \"name\": \"df\",\n  \"rows\": 150,\n  \"fields\": [\n    {\n      \"column\": \"sepal_length\",\n      \"properties\": {\n        \"dtype\": \"number\",\n        \"std\": 0.8280661279778629,\n        \"min\": 4.3,\n        \"max\": 7.9,\n        \"num_unique_values\": 35,\n        \"samples\": [\n          6.2,\n          4.5,\n          5.6\n        ],\n        \"semantic_type\": \"\",\n        \"description\": \"\"\n      }\n    },\n    {\n      \"column\": \"sepal_width\",\n      \"properties\": {\n        \"dtype\": \"number\",\n        \"std\": 0.435866284936698,\n        \"min\": 2.0,\n        \"max\": 4.4,\n        \"num_unique_values\": 23,\n        \"samples\": [\n          2.3,\n          4.0,\n          3.5\n        ],\n        \"semantic_type\": \"\",\n        \"description\": \"\"\n      }\n    },\n    {\n      \"column\": \"petal_length\",\n      \"properties\": {\n        \"dtype\": \"number\",\n        \"std\": 1.7652982332594667,\n        \"min\": 1.0,\n        \"max\": 6.9,\n        \"num_unique_values\": 43,\n        \"samples\": [\n          6.7,\n          3.8,\n          3.7\n        ],\n        \"semantic_type\": \"\",\n        \"description\": \"\"\n      }\n    },\n    {\n      \"column\": \"petal_width\",\n      \"properties\": {\n        \"dtype\": \"number\",\n        \"std\": 0.7622376689603465,\n        \"min\": 0.1,\n        \"max\": 2.5,\n        \"num_unique_values\": 22,\n        \"samples\": [\n          0.2,\n          1.2,\n          1.3\n        ],\n        \"semantic_type\": \"\",\n        \"description\": \"\"\n      }\n    },\n    {\n      \"column\": \"label\",\n      \"properties\": {\n        \"dtype\": \"number\",\n        \"std\": 0,\n        \"min\": 0,\n        \"max\": 2,\n        \"num_unique_values\": 3,\n        \"samples\": [\n          0,\n          1,\n          2\n        ],\n        \"semantic_type\": \"\",\n        \"description\": \"\"\n      }\n    }\n  ]\n}"
            }
          },
          "metadata": {},
          "execution_count": 9
        }
      ]
    },
    {
      "cell_type": "markdown",
      "source": [
        "### 3.2. Загрузка данных из ```PARQUET```"
      ],
      "metadata": {
        "id": "y6r5LYYSwoCs"
      }
    },
    {
      "cell_type": "code",
      "source": [
        "sdf = spark.read.parquet(PARQUET_PATH, header=True, inferSchema=True)\n",
        "logger.info(\"Данные загружены из parquet.\")\n",
        "sdf.printSchema()\n",
        "sdf.show(5)"
      ],
      "metadata": {
        "colab": {
          "base_uri": "https://localhost:8080/"
        },
        "id": "IK_FBu9fwK9k",
        "outputId": "9edb6d92-7942-4323-a93f-a72acc0ba1f1"
      },
      "execution_count": 10,
      "outputs": [
        {
          "output_type": "stream",
          "name": "stdout",
          "text": [
            "root\n",
            " |-- sepal_length: double (nullable = true)\n",
            " |-- sepal_width: double (nullable = true)\n",
            " |-- petal_length: double (nullable = true)\n",
            " |-- petal_width: double (nullable = true)\n",
            " |-- label: long (nullable = true)\n",
            "\n",
            "+------------+-----------+------------+-----------+-----+\n",
            "|sepal_length|sepal_width|petal_length|petal_width|label|\n",
            "+------------+-----------+------------+-----------+-----+\n",
            "|         5.1|        3.5|         1.4|        0.2|    0|\n",
            "|         4.9|        3.0|         1.4|        0.2|    0|\n",
            "|         4.7|        3.2|         1.3|        0.2|    0|\n",
            "|         4.6|        3.1|         1.5|        0.2|    0|\n",
            "|         5.0|        3.6|         1.4|        0.2|    0|\n",
            "+------------+-----------+------------+-----------+-----+\n",
            "only showing top 5 rows\n",
            "\n"
          ]
        }
      ]
    },
    {
      "cell_type": "markdown",
      "source": [
        "## 4. Стратифицированное разделение данных"
      ],
      "metadata": {
        "id": "dF7fAsmayHHZ"
      }
    },
    {
      "cell_type": "code",
      "source": [
        "from pyspark.sql import SparkSession, DataFrame, Window\n",
        "from pyspark.sql.functions import col, rand, row_number, when\n",
        "from typing import Tuple\n",
        "\n",
        "def stratified_split(\n",
        "    df: DataFrame,\n",
        "    label_col: str,\n",
        "    train_ratio: float = 0.6,\n",
        "    val_ratio: float = 0.2,\n",
        "    test_ratio: float = 0.2,\n",
        "    seed: int = 42\n",
        ") -> Tuple[DataFrame, DataFrame, DataFrame]:\n",
        "    \"\"\"\n",
        "    Стратифицированное разделение данных на train/val/test с использованием оконных функций.\n",
        "\n",
        "    Parameters:\n",
        "        df (DataFrame): Исходный DataFrame.\n",
        "        label_col (str): Название столбца с метками классов.\n",
        "        train_ratio (float): Доля обучающей выборки.\n",
        "        val_ratio (float): Доля валидационной выборки.\n",
        "        test_ratio (float): Доля тестовой выборки.\n",
        "        seed (int): Сид для генерации случайных чисел.\n",
        "\n",
        "    Returns:\n",
        "        tuple[DataFrame, DataFrame, DataFrame]: train_data, val_data, test_data.\n",
        "    \"\"\"\n",
        "    # Проверка суммы долей\n",
        "    assert abs(train_ratio + val_ratio + test_ratio - 1.0) < 1e-9, \"Сумма долей должна быть равна 1.0\"\n",
        "\n",
        "    # Проверка наличия столбца меток\n",
        "    if label_col not in df.columns:\n",
        "        raise ValueError(f\"Столбец '{label_col}' отсутствует в DataFrame.\")\n",
        "\n",
        "    # Добавляем случайное число для сортировки внутри групп\n",
        "    df = df.withColumn(\"__temp_rand__\", rand(seed))\n",
        "\n",
        "    # Окно для нумерации строк внутри групп по случайному числу\n",
        "    window_spec = Window.partitionBy(label_col).orderBy(\"__temp_rand__\")\n",
        "\n",
        "    # Добавляем номер строки в группе, начиная с 1\n",
        "    df_ranked = df.withColumn(\"__temp_row_num__\", row_number().over(window_spec))\n",
        "\n",
        "    # Вычисляем общее количество строк в каждой группе\n",
        "    group_counts = df_ranked.groupBy(label_col).count().withColumnRenamed(\"count\", \"__temp_total__\")\n",
        "\n",
        "    # Присоединяем количество строк к исходному DataFrame\n",
        "    df_with_counts = df_ranked.join(group_counts, on=label_col)\n",
        "\n",
        "    # Вычисляем пороги для train и val\n",
        "    train_threshold = (col(\"__temp_total__\") * train_ratio).cast(\"int\")\n",
        "    val_threshold = (col(\"__temp_total__\") * (train_ratio + val_ratio)).cast(\"int\")\n",
        "\n",
        "    # Присваиваем метки частей\n",
        "    df_partitioned = df_with_counts.withColumn(\n",
        "        \"__temp_partition__\",\n",
        "        when(col(\"__temp_row_num__\") <= train_threshold, \"train\")\n",
        "             .when(col(\"__temp_row_num__\") <= val_threshold, \"val\")\n",
        "             .otherwise(\"test\")\n",
        "    )\n",
        "\n",
        "    # Фильтруем по меткам и убираем временные столбцы\n",
        "    train_data = df_partitioned.filter(col(\"__temp_partition__\") == \"train\").drop(\n",
        "        \"__temp_rand__\", \"__temp_row_num__\", \"__temp_total__\", \"__temp_partition__\"\n",
        "    )\n",
        "    val_data = df_partitioned.filter(col(\"__temp_partition__\") == \"val\").drop(\n",
        "        \"__temp_rand__\", \"__temp_row_num__\", \"__temp_total__\", \"__temp_partition__\"\n",
        "    )\n",
        "    test_data = df_partitioned.filter(col(\"__temp_partition__\") == \"test\").drop(\n",
        "        \"__temp_rand__\", \"__temp_row_num__\", \"__temp_total__\", \"__temp_partition__\"\n",
        "    )\n",
        "\n",
        "    # Если val_ratio или test_ratio равны нулю, возвращаем пустой DataFrame\n",
        "    if val_ratio == 0:\n",
        "        val_data = df.sparkSession.createDataFrame(df.sparkSession.sparkContext.emptyRDD(), df.schema)\n",
        "    if test_ratio == 0:\n",
        "        test_data = df.sparkSession.createDataFrame(df.sparkSession.sparkContext.emptyRDD(), df.schema)\n",
        "\n",
        "    return train_data, val_data, test_data"
      ],
      "metadata": {
        "id": "-EYP2SCAyzft"
      },
      "execution_count": 11,
      "outputs": []
    },
    {
      "cell_type": "code",
      "source": [
        "logger.info(\"Выполняется стратифицированное разделение данных\")\n",
        "\n",
        "train_data, val_data, test_data = stratified_split(sdf, \"label\")\n",
        "\n",
        "logger.info(f\"Разделение завершено: train={train_data.count()}, val={val_data.count()}, test={test_data.count()}\")"
      ],
      "metadata": {
        "id": "KL5itPy-HtrE"
      },
      "execution_count": 12,
      "outputs": []
    },
    {
      "cell_type": "markdown",
      "source": [
        "## 5. Объединение признаков в вектор"
      ],
      "metadata": {
        "id": "YGPm0YNl5YYD"
      }
    },
    {
      "cell_type": "code",
      "source": [
        "logger.info(\"Подготовка признаков\")\n",
        "\n",
        "assembler = VectorAssembler(inputCols=[col for col in sdf.columns if col != \"label\"], outputCol=\"features\")\n",
        "train_assembled = assembler.transform(train_data)\n",
        "val_assembled = assembler.transform(val_data)\n",
        "test_assembled = assembler.transform(test_data)"
      ],
      "metadata": {
        "id": "IIWLu1A-0s3V"
      },
      "execution_count": 13,
      "outputs": []
    },
    {
      "cell_type": "markdown",
      "source": [
        "## 6. Обучение модели"
      ],
      "metadata": {
        "id": "Q9RdQZ-q5dcp"
      }
    },
    {
      "cell_type": "markdown",
      "source": [
        "### 6.1 Обучение модели без кросс-валидации и оптимизации гиперпараметров"
      ],
      "metadata": {
        "id": "rXNTVRRsKbsW"
      }
    },
    {
      "cell_type": "code",
      "source": [
        "single_model = False\n",
        "if single_model:\n",
        "  logger.info(\"Настройка CatBoostClassifier и обучение модели\")\n",
        "\n",
        "  cb = CatBoostClassifier(\n",
        "      labelCol=\"label\",\n",
        "      featuresCol=\"features\",\n",
        "      iterations=100,\n",
        "      learningRate=0.1,\n",
        "      depth=6\n",
        "  )\n",
        "  model = cb.fit(train_assembled)\n",
        "\n",
        "  model_path = \"temp_catboost_model_v1\"\n",
        "\n",
        "  logger.info(f\"Сохранение модели по пути: {model_path}\")\n",
        "  model.save(model_path)  # Сохраняет в формате Spark ML\n",
        "  logger.info(\"Модель успешно сохранена\")"
      ],
      "metadata": {
        "id": "0tsK7uaQ03Rk"
      },
      "execution_count": 14,
      "outputs": []
    },
    {
      "cell_type": "markdown",
      "source": [
        "### 6.2 Обучение модели c кросс-валидацией и оптимизацией гиперпараметров"
      ],
      "metadata": {
        "id": "kZI9dq6oLWXh"
      }
    },
    {
      "cell_type": "code",
      "source": [
        "param_tuning = True\n",
        "if param_tuning:\n",
        "  logger.info(\"Настройка CatBoostClassifier и GridSearch\")\n",
        "  cb = CatBoostClassifier(\n",
        "      labelCol=\"label\",\n",
        "      featuresCol=\"features\"\n",
        "  )\n",
        "\n",
        "  # Сетка гиперпараметров\n",
        "  param_grid = ParamGridBuilder() \\\n",
        "      .addGrid(cb.iterations, [50, 100]) \\\n",
        "      .addGrid(cb.learningRate, [0.03, 0.1]) \\\n",
        "      .addGrid(cb.depth, [4, 6]) \\\n",
        "      .build()\n",
        "\n",
        "  # Оценщик\n",
        "  evaluator = MulticlassClassificationEvaluator(\n",
        "      labelCol=\"label\",\n",
        "      predictionCol=\"prediction\",\n",
        "      metricName=\"f1\"\n",
        "  )\n",
        "\n",
        "  # CrossValidator\n",
        "  cv = CrossValidator(\n",
        "      estimator=cb,\n",
        "      estimatorParamMaps=param_grid,\n",
        "      evaluator=evaluator,\n",
        "      numFolds=3,\n",
        "      parallelism=1 # В Colab parallelism=1, a в production Для распределенного обучения\n",
        "                    # лучше использовать spark-submit с отдельными процессами на каждый воркер\n",
        "\n",
        "  )\n",
        "  logger.info(\"Запуск кросс-валидации\")\n",
        "  cv_model = cv.fit(train_assembled)\n",
        "\n",
        "  # === Лучшая модель ===\n",
        "  best_model = cv_model.bestModel\n",
        "\n",
        "  model_path = \"temp_catboost_model_v2\"\n",
        "\n",
        "  logger.info(f\"Сохранение модели по пути: {model_path}\")\n",
        "  best_model.save(model_path)  # Сохраняет в формате Spark ML\n",
        "  logger.info(\"Модель успешно сохранена\")"
      ],
      "metadata": {
        "id": "sjTr4dm8J6yX"
      },
      "execution_count": 15,
      "outputs": []
    },
    {
      "cell_type": "markdown",
      "source": [
        "## 7. Загрука модели как CatBoostClassificationModel"
      ],
      "metadata": {
        "id": "PqHIJ0CXPDpu"
      }
    },
    {
      "cell_type": "code",
      "source": [
        "from catboost_spark import CatBoostClassificationModel\n",
        "\n",
        "loaded_model = CatBoostClassificationModel.load(model_path)"
      ],
      "metadata": {
        "colab": {
          "base_uri": "https://localhost:8080/"
        },
        "id": "GjXKr2_KPBr_",
        "outputId": "2f7e9143-2e7c-4d9e-f7e3-cb020a771982"
      },
      "execution_count": 16,
      "outputs": [
        {
          "output_type": "stream",
          "name": "stdout",
          "text": [
            "CatBoostMLReader._java_loader_class.  ai.catboost.spark.CatBoostClassificationModel\n"
          ]
        }
      ]
    },
    {
      "cell_type": "markdown",
      "source": [
        "## 8. Оценка\n"
      ],
      "metadata": {
        "id": "Fh-D3ayz5krN"
      }
    },
    {
      "cell_type": "code",
      "source": [
        "logger.info(\"Оценка на тестовой выборке\")\n",
        "predictions = loaded_model.transform(test_assembled)\n",
        "\n",
        "evaluator = MulticlassClassificationEvaluator(labelCol=\"label\", predictionCol=\"prediction\")\n",
        "metrics = {\n",
        "    \"Accuracy\": evaluator.setMetricName(\"accuracy\").evaluate(predictions),\n",
        "    \"F1-Score\": evaluator.setMetricName(\"f1\").evaluate(predictions),\n",
        "    \"Precision\": evaluator.setMetricName(\"weightedPrecision\").evaluate(predictions),\n",
        "    \"Recall\": evaluator.setMetricName(\"weightedRecall\").evaluate(predictions)\n",
        "}\n",
        "\n",
        "print(metrics)"
      ],
      "metadata": {
        "colab": {
          "base_uri": "https://localhost:8080/"
        },
        "id": "F6VIA22ryMmo",
        "outputId": "16f56d3d-86a4-4be2-c110-5d3bc7e0bd89"
      },
      "execution_count": 17,
      "outputs": [
        {
          "output_type": "stream",
          "name": "stdout",
          "text": [
            "{'Accuracy': 0.9, 'F1-Score': 0.8976982097186701, 'Precision': 0.9230769230769231, 'Recall': 0.8999999999999999}\n"
          ]
        }
      ]
    }
  ]
}