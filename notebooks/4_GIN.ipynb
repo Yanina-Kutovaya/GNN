{
  "nbformat": 4,
  "nbformat_minor": 0,
  "metadata": {
    "colab": {
      "provenance": [],
      "gpuType": "T4",
      "authorship_tag": "ABX9TyPKFh8NjVUXSxPt0kd3CD5o",
      "include_colab_link": true
    },
    "kernelspec": {
      "name": "python3",
      "display_name": "Python 3"
    },
    "language_info": {
      "name": "python"
    },
    "accelerator": "GPU"
  },
  "cells": [
    {
      "cell_type": "markdown",
      "metadata": {
        "id": "view-in-github",
        "colab_type": "text"
      },
      "source": [
        "<a href=\"https://colab.research.google.com/github/Yanina-Kutovaya/GNN/blob/main/notebooks/4_GIN.ipynb\" target=\"_parent\"><img src=\"https://colab.research.google.com/assets/colab-badge.svg\" alt=\"Open In Colab\"/></a>"
      ]
    },
    {
      "cell_type": "markdown",
      "source": [
        "# Реализация Graph Isomorphism Network (GIN) из PyTorch Geometric для классификации узлов на датасете Bitcoin-OTC с обработкой признаков рёбер\n",
        "\n",
        "Задача — предсказать \"уровень доверия\" пользователей\n",
        "\n",
        "Признаки узлов/рёбер - синтетические"
      ],
      "metadata": {
        "id": "nMfBkViuX_Fc"
      }
    },
    {
      "cell_type": "markdown",
      "source": [
        "Необходимо выбрать среду выполнения с GPU: Runtime → Change runtime type → GPU"
      ],
      "metadata": {
        "id": "-PgwjLnLX_02"
      }
    },
    {
      "cell_type": "markdown",
      "source": [
        "## 1. Установка зависимостей"
      ],
      "metadata": {
        "id": "mlIGnU84ZYw6"
      }
    },
    {
      "cell_type": "code",
      "source": [
        "!nvcc --version"
      ],
      "metadata": {
        "colab": {
          "base_uri": "https://localhost:8080/"
        },
        "id": "zS_M6FmMIBiZ",
        "outputId": "49664a5e-a0cd-44d7-bc00-4234de02d493"
      },
      "execution_count": 1,
      "outputs": [
        {
          "output_type": "stream",
          "name": "stdout",
          "text": [
            "nvcc: NVIDIA (R) Cuda compiler driver\n",
            "Copyright (c) 2005-2024 NVIDIA Corporation\n",
            "Built on Thu_Jun__6_02:18:23_PDT_2024\n",
            "Cuda compilation tools, release 12.5, V12.5.82\n",
            "Build cuda_12.5.r12.5/compiler.34385749_0\n"
          ]
        }
      ]
    },
    {
      "cell_type": "markdown",
      "source": [
        "* Google Colab иногда возникают проблемы с кэшированием пакетов, поэтому добавлен флаг --no-cache-dir"
      ],
      "metadata": {
        "id": "p_4daFOaUnpB"
      }
    },
    {
      "cell_type": "code",
      "source": [
        "install = False\n",
        "if install:\n",
        "  # 1. Установка совместимых версий PyTorch и PyG\n",
        "  !pip install -q torch==2.3.0+cu121 torchvision==0.18.0+cu121 torchaudio==2.3.0+cu121 --extra-index-url https://download.pytorch.org/whl/cu121\n",
        "\n",
        "  # 2. Установка зависимостей PyG для CUDA 12.1+ (совместимо с 12.5)\n",
        "  !pip install -q pyg-lib torch-scatter torch-sparse torch-cluster torch-spline-conv -f https://data.pyg.org/whl/torch-2.3.0+cu121.html --no-cache-dir\n",
        "\n",
        "  # 3. Установка PyTorch Geometric\n",
        "  !pip install -q torch-geometric==2.5.3"
      ],
      "metadata": {
        "id": "u7T7HI4nSo-8"
      },
      "execution_count": 2,
      "outputs": []
    },
    {
      "cell_type": "markdown",
      "source": [
        "### Принудительная перекомпиляция расширений"
      ],
      "metadata": {
        "id": "Z_MyPJ79VBR3"
      }
    },
    {
      "cell_type": "code",
      "source": [
        "!python -c \"import torch; import torch_geometric; print('Rebuild success')\""
      ],
      "metadata": {
        "colab": {
          "base_uri": "https://localhost:8080/"
        },
        "id": "z7yf-zo5S83Z",
        "outputId": "37df63dd-f09a-49fb-a2fe-e0de4ee5b65e"
      },
      "execution_count": 3,
      "outputs": [
        {
          "output_type": "stream",
          "name": "stdout",
          "text": [
            "Rebuild success\n"
          ]
        }
      ]
    },
    {
      "cell_type": "markdown",
      "source": [
        "### Проверка окружения"
      ],
      "metadata": {
        "id": "KkR3BlTTQYVt"
      }
    },
    {
      "cell_type": "code",
      "source": [
        "import torch\n",
        "print(f\"PyTorch: {torch.__version__}\")          # Должно быть 2.3.0+cu121\n",
        "print(f\"CUDA: {torch.version.cuda}\")            # Должно быть 12.1+\n",
        "print(f\"Available: {torch.cuda.is_available()}\")# Должно быть True"
      ],
      "metadata": {
        "colab": {
          "base_uri": "https://localhost:8080/"
        },
        "id": "9jROagz4O9c-",
        "outputId": "3680db29-06b5-45fe-d650-95b329ca9ed2"
      },
      "execution_count": 4,
      "outputs": [
        {
          "output_type": "stream",
          "name": "stdout",
          "text": [
            "PyTorch: 2.3.0+cu121\n",
            "CUDA: 12.1\n",
            "Available: True\n"
          ]
        }
      ]
    },
    {
      "cell_type": "markdown",
      "source": [
        "## 2. Импорт библиотек"
      ],
      "metadata": {
        "id": "2B_CuDe4Zeky"
      }
    },
    {
      "cell_type": "code",
      "source": [
        "import numpy as np\n",
        "\n",
        "import torch\n",
        "import torch.nn.functional as F\n",
        "from torch_geometric.datasets import BitcoinOTC\n",
        "from torch_geometric.loader import NeighborLoader\n",
        "from torch_geometric.nn import GINConv, global_mean_pool\n",
        "from torch.nn import Linear, Sequential, BatchNorm1d, ReLU\n",
        "\n",
        "import matplotlib.pyplot as plt"
      ],
      "metadata": {
        "id": "gtJKjemOYio8"
      },
      "execution_count": 5,
      "outputs": []
    },
    {
      "cell_type": "markdown",
      "source": [
        "## 3. Загрузка и подготовка данных"
      ],
      "metadata": {
        "id": "5mkpW5NLZjy2"
      }
    },
    {
      "cell_type": "markdown",
      "source": [
        "Обработка признаков:\n",
        "* Агрегация признаков рёбер через суммирование\n",
        "* Нормализация всех признаков\n",
        "* Явное преобразование типов данных"
      ],
      "metadata": {
        "id": "AHYLOyG0b6_H"
      }
    },
    {
      "cell_type": "code",
      "source": [
        "dataset = BitcoinOTC(root='data/BitcoinOTC', edge_window_size=10)\n",
        "data = dataset[0]"
      ],
      "metadata": {
        "id": "4hp3oM04ZkpS"
      },
      "execution_count": 6,
      "outputs": []
    },
    {
      "cell_type": "markdown",
      "source": [
        "### 3.1 Синтетические признаки узлов"
      ],
      "metadata": {
        "id": "igkqHIxtZwvA"
      }
    },
    {
      "cell_type": "code",
      "source": [
        "degrees = np.zeros(data.num_nodes)\n",
        "for edge in data.edge_index.t().tolist():\n",
        "    degrees[edge[0]] += 1\n",
        "data.x = torch.tensor(degrees, dtype=torch.float).view(-1, 1)\n",
        "data.x = (data.x - data.x.mean()) / data.x.std()"
      ],
      "metadata": {
        "id": "qA1l2AR3ZmhW"
      },
      "execution_count": 7,
      "outputs": []
    },
    {
      "cell_type": "markdown",
      "source": [
        "### 3.2 Создание меток (3 класса)"
      ],
      "metadata": {
        "id": "LwL5vwPMZ0xw"
      }
    },
    {
      "cell_type": "code",
      "source": [
        "labels = torch.zeros(data.num_nodes, dtype=torch.long)\n",
        "q1 = np.quantile(degrees, 0.33)\n",
        "q2 = np.quantile(degrees, 0.66)\n",
        "labels[degrees > q2] = 2\n",
        "labels[(degrees > q1) & (degrees <= q2)] = 1\n",
        "data.y = labels"
      ],
      "metadata": {
        "id": "hDmaPegjZn6E"
      },
      "execution_count": 8,
      "outputs": []
    },
    {
      "cell_type": "markdown",
      "source": [
        "### 3.3 Обработка признаков рёбер"
      ],
      "metadata": {
        "id": "clDdhCaFZ57k"
      }
    },
    {
      "cell_type": "code",
      "source": [
        "data.edge_attr = data.edge_attr.to(torch.float32)\n",
        "data.edge_attr = (data.edge_attr - data.edge_attr.mean()) / data.edge_attr.std()"
      ],
      "metadata": {
        "id": "-rsv-r0YZpaT"
      },
      "execution_count": 9,
      "outputs": []
    },
    {
      "cell_type": "markdown",
      "source": [
        "### 3.4 Разделение данных"
      ],
      "metadata": {
        "id": "5OGpvIXqZ9Dp"
      }
    },
    {
      "cell_type": "code",
      "source": [
        "data.train_mask = torch.zeros(data.num_nodes, dtype=torch.bool)\n",
        "data.val_mask = torch.zeros(data.num_nodes, dtype=torch.bool)\n",
        "data.test_mask = torch.zeros(data.num_nodes, dtype=torch.bool)\n",
        "indices = torch.randperm(data.num_nodes)\n",
        "split = [0.6, 0.2, 0.2]\n",
        "data.train_mask[indices[:int(split[0]*data.num_nodes)]] = True\n",
        "data.val_mask[indices[int(split[0]*data.num_nodes):int((split[0]+split[1])*data.num_nodes)]] = True\n",
        "data.test_mask[indices[int((split[0]+split[1])*data.num_nodes):]] = True"
      ],
      "metadata": {
        "id": "S13nfAWnZrJR"
      },
      "execution_count": 10,
      "outputs": []
    },
    {
      "cell_type": "markdown",
      "source": [
        "## 4. Определение модели GIN с обработкой признаков рёбер"
      ],
      "metadata": {
        "id": "1mx_QPdpaAgI"
      }
    },
    {
      "cell_type": "markdown",
      "source": [
        "Архитектура GIN:\n",
        "* Два GIN-слоя с MLP внутри\n",
        "* Batch Normalization и Dropout для регуляризации\n",
        "* Объединение признаков узлов с агрегированными признаками рёбер"
      ],
      "metadata": {
        "id": "bb6KNnw2boy1"
      }
    },
    {
      "cell_type": "code",
      "source": [
        "class GINNeighborSampler(torch.nn.Module):\n",
        "    def __init__(self, hidden_channels=64):\n",
        "        super().__init__()\n",
        "\n",
        "        # MLP для признаков узлов + рёбер\n",
        "        self.node_mlp = Sequential(\n",
        "            Linear(1 + 1, hidden_channels),  # 1 (узлы) + 1 (агрегированные рёбра)\n",
        "            BatchNorm1d(hidden_channels),\n",
        "            ReLU(),\n",
        "            Linear(hidden_channels, hidden_channels)\n",
        "        )\n",
        "\n",
        "        # GIN слои\n",
        "        self.conv1 = GINConv(self.node_mlp)\n",
        "        self.conv2 = GINConv(Sequential(\n",
        "            Linear(hidden_channels, hidden_channels),\n",
        "            BatchNorm1d(hidden_channels),\n",
        "            ReLU(),\n",
        "            Linear(hidden_channels, hidden_channels)\n",
        "        ))\n",
        "\n",
        "        # Классификатор\n",
        "        self.lin = Linear(hidden_channels, 3)\n",
        "        self.dropout = 0.5\n",
        "\n",
        "    def forward(self, x, edge_index, edge_attr):\n",
        "        # Агрегация признаков рёбер (сумма)\n",
        "        row = edge_index[0]\n",
        "        edge_aggregated = torch.zeros(x.size(0), dtype=torch.float32).to(x.device)\n",
        "        edge_aggregated.scatter_add_(0, row, edge_attr.squeeze())\n",
        "\n",
        "        # Объединение с признаками узлов\n",
        "        x = torch.cat([x, edge_aggregated.view(-1, 1)], dim=1)\n",
        "\n",
        "        # Первый GIN слой\n",
        "        x = self.conv1(x, edge_index)\n",
        "        x = F.relu(x)\n",
        "        x = F.dropout(x, p=self.dropout, training=self.training)\n",
        "\n",
        "        # Второй GIN слой\n",
        "        x = self.conv2(x, edge_index)\n",
        "        return self.lin(x)\n"
      ],
      "metadata": {
        "id": "q5wD9e0pYo1y"
      },
      "execution_count": 11,
      "outputs": []
    },
    {
      "cell_type": "markdown",
      "source": [
        "## 5. Инициализация модели и оптимизатора"
      ],
      "metadata": {
        "id": "nM10iPIMaECk"
      }
    },
    {
      "cell_type": "code",
      "source": [
        "device = torch.device('cuda' if torch.cuda.is_available() else 'cpu')\n",
        "model = GINNeighborSampler(hidden_channels=64).to(device)\n",
        "optimizer = torch.optim.Adam(model.parameters(), lr=0.01, weight_decay=5e-4)"
      ],
      "metadata": {
        "id": "zC7kuFIrY5kD"
      },
      "execution_count": 12,
      "outputs": []
    },
    {
      "cell_type": "markdown",
      "source": [
        "## 6. Настройка NeighborLoader"
      ],
      "metadata": {
        "id": "k4Kzpxa6XmBv"
      }
    },
    {
      "cell_type": "code",
      "source": [
        "train_loader = NeighborLoader(\n",
        "    data,\n",
        "    num_neighbors=[25, 10],  # 25 соседей для 1-го слоя, 10 для 2-го\n",
        "    batch_size=512,\n",
        "    input_nodes=data.train_mask,\n",
        "    shuffle=True,\n",
        "    num_workers=2\n",
        ")"
      ],
      "metadata": {
        "id": "4y7C_BHjXP4R"
      },
      "execution_count": 13,
      "outputs": []
    },
    {
      "cell_type": "markdown",
      "source": [
        "## 7. Функция для вычисления точности"
      ],
      "metadata": {
        "id": "BO--QIo_X6LP"
      }
    },
    {
      "cell_type": "code",
      "source": [
        "def accuracy(pred, true, mask):\n",
        "    return (pred[mask].argmax(dim=1) == true[mask]).sum().float() / mask.sum()"
      ],
      "metadata": {
        "id": "SKPopacAX3Y2"
      },
      "execution_count": 14,
      "outputs": []
    },
    {
      "cell_type": "markdown",
      "source": [
        "## 8. Обучение модели"
      ],
      "metadata": {
        "id": "kXYD9AKKYIPz"
      }
    },
    {
      "cell_type": "code",
      "source": [
        "losses = []\n",
        "val_accs = []\n",
        "\n",
        "model.train()\n",
        "for epoch in range(50):\n",
        "    total_loss = 0\n",
        "    for batch in train_loader:\n",
        "        batch = batch.to(device)\n",
        "        optimizer.zero_grad()\n",
        "        out = model(batch.x, batch.edge_index, batch.edge_attr)\n",
        "        loss = F.cross_entropy(out[batch.train_mask], batch.y[batch.train_mask])\n",
        "        loss.backward()\n",
        "        optimizer.step()\n",
        "        total_loss += loss.item()\n",
        "\n",
        "    # Валидация\n",
        "    model.eval()\n",
        "    with torch.no_grad():\n",
        "        val_acc = accuracy(\n",
        "            model(data.x.to(device), data.edge_index.to(device), data.edge_attr.to(device)),\n",
        "            data.y.to(device),\n",
        "            data.val_mask.to(device)\n",
        "        )\n",
        "\n",
        "    losses.append(total_loss / len(train_loader))\n",
        "    val_accs.append(val_acc.cpu())\n",
        "\n",
        "    print(f'Epoch {epoch:02d} | Loss: {losses[-1]:.4f} | Val Acc: {val_acc:.4f}')"
      ],
      "metadata": {
        "colab": {
          "base_uri": "https://localhost:8080/"
        },
        "id": "7jEqON0uYFBU",
        "outputId": "38dd3754-03ab-453c-c359-2abfeb6d553c"
      },
      "execution_count": 15,
      "outputs": [
        {
          "output_type": "stream",
          "name": "stdout",
          "text": [
            "Epoch 00 | Loss: 0.4941 | Val Acc: 0.9992\n",
            "Epoch 01 | Loss: 0.0630 | Val Acc: 0.9992\n",
            "Epoch 02 | Loss: 0.0758 | Val Acc: 0.9992\n",
            "Epoch 03 | Loss: 0.1739 | Val Acc: 0.9992\n",
            "Epoch 04 | Loss: 0.0181 | Val Acc: 0.9983\n",
            "Epoch 05 | Loss: 0.0133 | Val Acc: 0.9992\n",
            "Epoch 06 | Loss: 0.0038 | Val Acc: 0.9992\n",
            "Epoch 07 | Loss: 0.0162 | Val Acc: 0.9992\n",
            "Epoch 08 | Loss: 0.0080 | Val Acc: 0.9992\n",
            "Epoch 09 | Loss: 0.0067 | Val Acc: 0.9992\n",
            "Epoch 10 | Loss: 0.0056 | Val Acc: 0.9992\n",
            "Epoch 11 | Loss: 0.0041 | Val Acc: 0.9992\n",
            "Epoch 12 | Loss: 0.0032 | Val Acc: 0.9992\n",
            "Epoch 13 | Loss: 0.0035 | Val Acc: 0.9992\n",
            "Epoch 14 | Loss: 0.0029 | Val Acc: 0.9992\n",
            "Epoch 15 | Loss: 0.0030 | Val Acc: 0.9992\n",
            "Epoch 16 | Loss: 0.0026 | Val Acc: 0.9992\n",
            "Epoch 17 | Loss: 0.0032 | Val Acc: 0.9992\n",
            "Epoch 18 | Loss: 0.0022 | Val Acc: 0.9992\n",
            "Epoch 19 | Loss: 0.0183 | Val Acc: 1.0000\n",
            "Epoch 20 | Loss: 0.0097 | Val Acc: 0.9992\n",
            "Epoch 21 | Loss: 0.0044 | Val Acc: 0.9992\n",
            "Epoch 22 | Loss: 0.0031 | Val Acc: 0.9992\n",
            "Epoch 23 | Loss: 0.0029 | Val Acc: 0.9992\n",
            "Epoch 24 | Loss: 0.0029 | Val Acc: 0.9992\n",
            "Epoch 25 | Loss: 0.0027 | Val Acc: 0.9992\n",
            "Epoch 26 | Loss: 0.0024 | Val Acc: 0.9992\n",
            "Epoch 27 | Loss: 0.0023 | Val Acc: 0.9992\n",
            "Epoch 28 | Loss: 0.0023 | Val Acc: 0.9992\n",
            "Epoch 29 | Loss: 0.0019 | Val Acc: 0.9992\n",
            "Epoch 30 | Loss: 0.0025 | Val Acc: 0.9992\n",
            "Epoch 31 | Loss: 0.0027 | Val Acc: 0.9992\n",
            "Epoch 32 | Loss: 0.0023 | Val Acc: 0.9992\n",
            "Epoch 33 | Loss: 0.0040 | Val Acc: 0.9992\n",
            "Epoch 34 | Loss: 0.0024 | Val Acc: 0.9992\n",
            "Epoch 35 | Loss: 0.0019 | Val Acc: 0.9992\n",
            "Epoch 36 | Loss: 0.0181 | Val Acc: 0.9992\n",
            "Epoch 37 | Loss: 0.0022 | Val Acc: 0.9992\n",
            "Epoch 38 | Loss: 0.0022 | Val Acc: 0.9992\n",
            "Epoch 39 | Loss: 0.0332 | Val Acc: 0.9992\n",
            "Epoch 40 | Loss: 0.0058 | Val Acc: 0.9992\n",
            "Epoch 41 | Loss: 0.0071 | Val Acc: 0.9992\n",
            "Epoch 42 | Loss: 0.0073 | Val Acc: 0.9992\n",
            "Epoch 43 | Loss: 0.0052 | Val Acc: 0.9992\n",
            "Epoch 44 | Loss: 0.0047 | Val Acc: 0.9992\n",
            "Epoch 45 | Loss: 0.0032 | Val Acc: 0.9992\n",
            "Epoch 46 | Loss: 0.0030 | Val Acc: 0.9992\n",
            "Epoch 47 | Loss: 0.0028 | Val Acc: 0.9992\n",
            "Epoch 48 | Loss: 0.0023 | Val Acc: 0.9992\n",
            "Epoch 49 | Loss: 0.0024 | Val Acc: 0.9992\n"
          ]
        }
      ]
    },
    {
      "cell_type": "markdown",
      "source": [
        "## 9. Визуализация обучения"
      ],
      "metadata": {
        "id": "SarjSueYbUem"
      }
    },
    {
      "cell_type": "code",
      "source": [
        "plt.figure(figsize=(12, 5))\n",
        "plt.subplot(1, 2, 1)\n",
        "plt.plot(losses, label='Training Loss')\n",
        "plt.title('Learning Curve')\n",
        "plt.xlabel('Epoch')\n",
        "\n",
        "plt.subplot(1, 2, 2)\n",
        "plt.plot(val_accs, label='Validation Accuracy')\n",
        "plt.title('Validation Performance')\n",
        "plt.xlabel('Epoch')\n",
        "plt.show()"
      ],
      "metadata": {
        "colab": {
          "base_uri": "https://localhost:8080/",
          "height": 487
        },
        "id": "5SSUpdiqbZdW",
        "outputId": "7bad6c5c-7ea4-4d02-f438-622668435992"
      },
      "execution_count": 16,
      "outputs": [
        {
          "output_type": "display_data",
          "data": {
            "text/plain": [
              "<Figure size 1200x500 with 2 Axes>"
            ],
            "image/png": "[encoded data removed]"
          },
          "metadata": {}
        }
      ]
    },
    {
      "cell_type": "markdown",
      "source": [
        "## 10. Тестирование"
      ],
      "metadata": {
        "id": "AE46URDNbk77"
      }
    },
    {
      "cell_type": "code",
      "source": [
        "model.eval()\n",
        "with torch.no_grad():\n",
        "    test_acc = accuracy(model(data.x.to(device), data.edge_index.to(device), data.edge_attr.to(device)), data.y.to(device), data.test_mask.to(device))\n",
        "    print(f'\\nFinal Test Accuracy: {test_acc:.4f}')"
      ],
      "metadata": {
        "colab": {
          "base_uri": "https://localhost:8080/"
        },
        "id": "UCN9HUFmKoAT",
        "outputId": "15bfa7e5-9426-4397-8e29-a58f8f2389e4"
      },
      "execution_count": 17,
      "outputs": [
        {
          "output_type": "stream",
          "name": "stdout",
          "text": [
            "\n",
            "Final Test Accuracy: 0.9958\n"
          ]
        }
      ]
    }
  ]
}