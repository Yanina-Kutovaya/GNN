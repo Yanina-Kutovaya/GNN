{
  "nbformat": 4,
  "nbformat_minor": 0,
  "metadata": {
    "colab": {
      "provenance": [],
      "gpuType": "T4",
      "authorship_tag": "ABX9TyNeAYeN7BVesMwK1gs8+4ca",
      "include_colab_link": true
    },
    "kernelspec": {
      "name": "python3",
      "display_name": "Python 3"
    },
    "language_info": {
      "name": "python"
    },
    "accelerator": "GPU"
  },
  "cells": [
    {
      "cell_type": "markdown",
      "metadata": {
        "id": "view-in-github",
        "colab_type": "text"
      },
      "source": [
        "<a href=\"https://colab.research.google.com/github/Yanina-Kutovaya/GNN/blob/main/notebooks/4_GIN.ipynb\" target=\"_parent\"><img src=\"https://colab.research.google.com/assets/colab-badge.svg\" alt=\"Open In Colab\"/></a>"
      ]
    },
    {
      "cell_type": "markdown",
      "source": [
        "# Реализация Graph Isomorphism Network (GIN) из PyTorch Geometric для классификации узлов на датасете Bitcoin-OTC с обработкой признаков рёбер\n",
        "\n",
        "Задача — предсказать \"уровень доверия\" пользователей\n",
        "\n",
        "Признаки узлов/рёбер - синтетические"
      ],
      "metadata": {
        "id": "nMfBkViuX_Fc"
      }
    },
    {
      "cell_type": "markdown",
      "source": [
        "Необходимо выбрать среду выполнения с GPU: Runtime → Change runtime type → GPU"
      ],
      "metadata": {
        "id": "-PgwjLnLX_02"
      }
    },
    {
      "cell_type": "markdown",
      "source": [
        "## 1. Установка зависимостей"
      ],
      "metadata": {
        "id": "mlIGnU84ZYw6"
      }
    },
    {
      "cell_type": "code",
      "source": [
        "#!pip install -q torch-scatter -f https://data.pyg.org/whl/torch-2.0.0+cu118.html\n",
        "#!pip install -q torch-sparse -f https://data.pyg.org/whl/torch-2.0.0+cu118.html\n",
        "!pip install -q torch-geometric"
      ],
      "metadata": {
        "colab": {
          "base_uri": "https://localhost:8080/"
        },
        "id": "D1ou9xz7YhBt",
        "outputId": "a90699b3-3208-41c3-80bf-15666e3bc437"
      },
      "execution_count": 1,
      "outputs": [
        {
          "output_type": "stream",
          "name": "stdout",
          "text": [
            "\u001b[?25l     \u001b[90m━━━━━━━━━━━━━━━━━━━━━━━━━━━━━━━━━━━━━━━━\u001b[0m \u001b[32m0.0/63.1 kB\u001b[0m \u001b[31m?\u001b[0m eta \u001b[36m-:--:--\u001b[0m\r\u001b[2K     \u001b[90m━━━━━━━━━━━━━━━━━━━━━━━━━━━━━━━━━━━━━━━━\u001b[0m \u001b[32m63.1/63.1 kB\u001b[0m \u001b[31m3.1 MB/s\u001b[0m eta \u001b[36m0:00:00\u001b[0m\n",
            "\u001b[?25h\u001b[?25l   \u001b[90m━━━━━━━━━━━━━━━━━━━━━━━━━━━━━━━━━━━━━━━━\u001b[0m \u001b[32m0.0/1.1 MB\u001b[0m \u001b[31m?\u001b[0m eta \u001b[36m-:--:--\u001b[0m\r\u001b[2K   \u001b[91m━━━━━━━━━━━━━━━━━━━━━━━━━━━━━━━━━━━━━━━\u001b[0m\u001b[91m╸\u001b[0m \u001b[32m1.1/1.1 MB\u001b[0m \u001b[31m46.3 MB/s\u001b[0m eta \u001b[36m0:00:01\u001b[0m\r\u001b[2K   \u001b[90m━━━━━━━━━━━━━━━━━━━━━━━━━━━━━━━━━━━━━━━━\u001b[0m \u001b[32m1.1/1.1 MB\u001b[0m \u001b[31m30.3 MB/s\u001b[0m eta \u001b[36m0:00:00\u001b[0m\n",
            "\u001b[?25h"
          ]
        }
      ]
    },
    {
      "cell_type": "markdown",
      "source": [
        "## 2. Импорт библиотек"
      ],
      "metadata": {
        "id": "2B_CuDe4Zeky"
      }
    },
    {
      "cell_type": "code",
      "source": [
        "import torch\n",
        "import torch.nn.functional as F\n",
        "from torch_geometric.datasets import BitcoinOTC\n",
        "from torch_geometric.nn import GINConv, global_mean_pool\n",
        "from torch.nn import Linear, Sequential, BatchNorm1d, ReLU\n",
        "import numpy as np"
      ],
      "metadata": {
        "id": "gtJKjemOYio8"
      },
      "execution_count": 2,
      "outputs": []
    },
    {
      "cell_type": "markdown",
      "source": [
        "## 3. Загрузка и подготовка данных"
      ],
      "metadata": {
        "id": "5mkpW5NLZjy2"
      }
    },
    {
      "cell_type": "markdown",
      "source": [
        "Обработка признаков:\n",
        "* Агрегация признаков рёбер через суммирование\n",
        "* Нормализация всех признаков\n",
        "* Явное преобразование типов данных"
      ],
      "metadata": {
        "id": "AHYLOyG0b6_H"
      }
    },
    {
      "cell_type": "code",
      "source": [
        "dataset = BitcoinOTC(root='data/BitcoinOTC', edge_window_size=10)\n",
        "data = dataset[0]"
      ],
      "metadata": {
        "colab": {
          "base_uri": "https://localhost:8080/"
        },
        "id": "4hp3oM04ZkpS",
        "outputId": "975cba2d-059e-4560-e7ea-3b23bbc9e177"
      },
      "execution_count": 3,
      "outputs": [
        {
          "output_type": "stream",
          "name": "stderr",
          "text": [
            "Downloading https://snap.stanford.edu/data/soc-sign-bitcoinotc.csv.gz\n",
            "Extracting data/BitcoinOTC/raw/soc-sign-bitcoinotc.csv.gz\n",
            "Processing...\n",
            "Done!\n"
          ]
        }
      ]
    },
    {
      "cell_type": "markdown",
      "source": [
        "### 3.1 Синтетические признаки узлов"
      ],
      "metadata": {
        "id": "igkqHIxtZwvA"
      }
    },
    {
      "cell_type": "code",
      "source": [
        "degrees = np.zeros(data.num_nodes)\n",
        "for edge in data.edge_index.t().tolist():\n",
        "    degrees[edge[0]] += 1\n",
        "data.x = torch.tensor(degrees, dtype=torch.float).view(-1, 1)\n",
        "data.x = (data.x - data.x.mean()) / data.x.std()"
      ],
      "metadata": {
        "id": "qA1l2AR3ZmhW"
      },
      "execution_count": 4,
      "outputs": []
    },
    {
      "cell_type": "markdown",
      "source": [
        "### 3.2 Создание меток (3 класса)"
      ],
      "metadata": {
        "id": "LwL5vwPMZ0xw"
      }
    },
    {
      "cell_type": "code",
      "source": [
        "labels = torch.zeros(data.num_nodes, dtype=torch.long)\n",
        "q1 = np.quantile(degrees, 0.33)\n",
        "q2 = np.quantile(degrees, 0.66)\n",
        "labels[degrees > q2] = 2\n",
        "labels[(degrees > q1) & (degrees <= q2)] = 1\n",
        "data.y = labels"
      ],
      "metadata": {
        "id": "hDmaPegjZn6E"
      },
      "execution_count": 5,
      "outputs": []
    },
    {
      "cell_type": "markdown",
      "source": [
        "### 3.3 Обработка признаков рёбер"
      ],
      "metadata": {
        "id": "clDdhCaFZ57k"
      }
    },
    {
      "cell_type": "code",
      "source": [
        "data.edge_attr = data.edge_attr.to(torch.float32)\n",
        "data.edge_attr = (data.edge_attr - data.edge_attr.mean()) / data.edge_attr.std()"
      ],
      "metadata": {
        "id": "-rsv-r0YZpaT"
      },
      "execution_count": 6,
      "outputs": []
    },
    {
      "cell_type": "markdown",
      "source": [
        "### 3.4 Разделение данных"
      ],
      "metadata": {
        "id": "5OGpvIXqZ9Dp"
      }
    },
    {
      "cell_type": "code",
      "source": [
        "data.train_mask = torch.zeros(data.num_nodes, dtype=torch.bool)\n",
        "data.val_mask = torch.zeros(data.num_nodes, dtype=torch.bool)\n",
        "data.test_mask = torch.zeros(data.num_nodes, dtype=torch.bool)\n",
        "indices = torch.randperm(data.num_nodes)\n",
        "split = [0.6, 0.2, 0.2]\n",
        "data.train_mask[indices[:int(split[0]*data.num_nodes)]] = True\n",
        "data.val_mask[indices[int(split[0]*data.num_nodes):int((split[0]+split[1])*data.num_nodes)]] = True\n",
        "data.test_mask[indices[int((split[0]+split[1])*data.num_nodes):]] = True"
      ],
      "metadata": {
        "id": "S13nfAWnZrJR"
      },
      "execution_count": 7,
      "outputs": []
    },
    {
      "cell_type": "markdown",
      "source": [
        "## 4. Определение модели GIN с обработкой признаков рёбер"
      ],
      "metadata": {
        "id": "1mx_QPdpaAgI"
      }
    },
    {
      "cell_type": "markdown",
      "source": [
        "Архитектура GIN:\n",
        "* Два GIN-слоя с MLP внутри\n",
        "* Batch Normalization и Dropout для регуляризации\n",
        "* Объединение признаков узлов с агрегированными признаками рёбер"
      ],
      "metadata": {
        "id": "bb6KNnw2boy1"
      }
    },
    {
      "cell_type": "code",
      "source": [
        "class BitcoinGIN(torch.nn.Module):\n",
        "    def __init__(self, hidden_channels=64):\n",
        "        super().__init__()\n",
        "\n",
        "        # MLP для признаков узлов + рёбер\n",
        "        self.node_mlp = Sequential(\n",
        "            Linear(1 + 1, hidden_channels),  # 1 (узлы) + 1 (агрегированные рёбра)\n",
        "            BatchNorm1d(hidden_channels),\n",
        "            ReLU(),\n",
        "            Linear(hidden_channels, hidden_channels)\n",
        "        )\n",
        "\n",
        "        # GIN слои\n",
        "        self.conv1 = GINConv(self.node_mlp)\n",
        "        self.conv2 = GINConv(Sequential(\n",
        "            Linear(hidden_channels, hidden_channels),\n",
        "            BatchNorm1d(hidden_channels),\n",
        "            ReLU(),\n",
        "            Linear(hidden_channels, hidden_channels)\n",
        "        ))\n",
        "\n",
        "        # Классификатор\n",
        "        self.lin = Linear(hidden_channels, 3)\n",
        "        self.dropout = 0.5\n",
        "\n",
        "    def forward(self, x, edge_index, edge_attr):\n",
        "        # Агрегация признаков рёбер (сумма)\n",
        "        row = edge_index[0]\n",
        "        edge_aggregated = torch.zeros(x.size(0), dtype=torch.float32).to(x.device)\n",
        "        edge_aggregated.scatter_add_(0, row, edge_attr.squeeze())\n",
        "\n",
        "        # Объединение с признаками узлов\n",
        "        x = torch.cat([x, edge_aggregated.view(-1, 1)], dim=1)\n",
        "\n",
        "        # Первый GIN слой\n",
        "        x = self.conv1(x, edge_index)\n",
        "        x = F.relu(x)\n",
        "        x = F.dropout(x, p=self.dropout, training=self.training)\n",
        "\n",
        "        # Второй GIN слой\n",
        "        x = self.conv2(x, edge_index)\n",
        "        return self.lin(x)\n"
      ],
      "metadata": {
        "id": "q5wD9e0pYo1y"
      },
      "execution_count": 8,
      "outputs": []
    },
    {
      "cell_type": "markdown",
      "source": [
        "## 5. Инициализация модели"
      ],
      "metadata": {
        "id": "nM10iPIMaECk"
      }
    },
    {
      "cell_type": "code",
      "source": [
        "device = torch.device('cuda' if torch.cuda.is_available() else 'cpu')\n",
        "model = BitcoinGIN(hidden_channels=64).to(device)\n",
        "data = data.to(device)\n",
        "optimizer = torch.optim.Adam(model.parameters(), lr=0.01, weight_decay=5e-4)"
      ],
      "metadata": {
        "id": "zC7kuFIrY5kD"
      },
      "execution_count": 9,
      "outputs": []
    },
    {
      "cell_type": "markdown",
      "source": [
        "## 6. Обучение"
      ],
      "metadata": {
        "id": "4rzlceV2aHGo"
      }
    },
    {
      "cell_type": "code",
      "source": [
        "def accuracy(pred, true, mask):\n",
        "    return (pred[mask].argmax(dim=1) == true[mask]).sum().float() / mask.sum()\n",
        "\n",
        "model.train()\n",
        "train_losses = []\n",
        "val_accuracies = []\n",
        "for epoch in range(300):\n",
        "    optimizer.zero_grad()\n",
        "    out = model(data.x, data.edge_index, data.edge_attr)\n",
        "    loss = F.cross_entropy(out[data.train_mask], data.y[data.train_mask])\n",
        "    loss.backward()\n",
        "    optimizer.step()\n",
        "\n",
        "\n",
        "\n",
        "    # Валидация\n",
        "    model.eval()\n",
        "    with torch.no_grad():\n",
        "        val_acc = accuracy(out, data.y, data.val_mask)\n",
        "\n",
        "    if epoch % 30 == 0:\n",
        "        print(f'Epoch {epoch:03d} | Loss: {loss.item():.4f} | Val Acc: {val_acc:.4f}')\n",
        "\n",
        "    train_losses.append(loss.item())\n",
        "    val_accuracies.append(val_acc.item())"
      ],
      "metadata": {
        "colab": {
          "base_uri": "https://localhost:8080/"
        },
        "id": "LjxIkLRjY7Bk",
        "outputId": "053e4bab-300d-4374-cc06-33b903c89bd0"
      },
      "execution_count": 10,
      "outputs": [
        {
          "output_type": "stream",
          "name": "stdout",
          "text": [
            "Epoch 000 | Loss: 1.1379 | Val Acc: 0.0000\n",
            "Epoch 030 | Loss: 0.0066 | Val Acc: 1.0000\n",
            "Epoch 060 | Loss: 0.0038 | Val Acc: 1.0000\n",
            "Epoch 090 | Loss: 0.0034 | Val Acc: 1.0000\n",
            "Epoch 120 | Loss: 0.0031 | Val Acc: 1.0000\n",
            "Epoch 150 | Loss: 0.0030 | Val Acc: 1.0000\n",
            "Epoch 180 | Loss: 0.0031 | Val Acc: 1.0000\n",
            "Epoch 210 | Loss: 0.0032 | Val Acc: 1.0000\n",
            "Epoch 240 | Loss: 0.0030 | Val Acc: 1.0000\n",
            "Epoch 270 | Loss: 0.0030 | Val Acc: 1.0000\n"
          ]
        }
      ]
    },
    {
      "cell_type": "markdown",
      "source": [
        "## 7. Тестирование"
      ],
      "metadata": {
        "id": "nMDyukGtaKRU"
      }
    },
    {
      "cell_type": "code",
      "source": [
        "model.eval()\n",
        "with torch.no_grad():\n",
        "    out = model(data.x, data.edge_index, data.edge_attr)\n",
        "    test_acc = accuracy(out, data.y, data.test_mask)\n",
        "    print(f'\\nFinal Test Accuracy: {test_acc:.4f}')"
      ],
      "metadata": {
        "colab": {
          "base_uri": "https://localhost:8080/"
        },
        "id": "za5Mu7gZYEhI",
        "outputId": "80f1572b-1ce8-4aca-d040-dc58f3295ef2"
      },
      "execution_count": 11,
      "outputs": [
        {
          "output_type": "stream",
          "name": "stdout",
          "text": [
            "\n",
            "Final Test Accuracy: 0.9983\n"
          ]
        }
      ]
    },
    {
      "cell_type": "markdown",
      "source": [
        "## 8. Визуализация обучения:"
      ],
      "metadata": {
        "id": "aEo91vZkapZR"
      }
    },
    {
      "cell_type": "code",
      "source": [
        "# После обучения:\n",
        "import matplotlib.pyplot as plt\n",
        "\n",
        "plt.figure(figsize=(12,5))\n",
        "plt.subplot(1,2,1)\n",
        "plt.plot(train_losses, label='Train Loss')\n",
        "plt.title('Training Loss')\n",
        "plt.xlabel('Epoch')\n",
        "\n",
        "plt.subplot(1,2,2)\n",
        "plt.plot(val_accuracies, label='Val Accuracy')\n",
        "plt.title('Validation Accuracy')\n",
        "plt.xlabel('Epoch')\n",
        "plt.show()"
      ],
      "metadata": {
        "colab": {
          "base_uri": "https://localhost:8080/",
          "height": 487
        },
        "id": "xmIVkCZRaset",
        "outputId": "16ea8e87-f54e-44ec-9307-ad23ec723209"
      },
      "execution_count": 12,
      "outputs": [
        {
          "output_type": "display_data",
          "data": {
            "text/plain": [
              "<Figure size 1200x500 with 2 Axes>"
            ],
            "image/png": "[encoded data removed]"
          },
          "metadata": {}
        }
      ]
    }
  ]
}