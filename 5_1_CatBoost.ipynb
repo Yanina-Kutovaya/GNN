{
  "nbformat": 4,
  "nbformat_minor": 0,
  "metadata": {
    "colab": {
      "provenance": [],
      "gpuType": "T4",
      "authorship_tag": "ABX9TyNEe2Djulh4XeV+iU3iCBJG",
      "include_colab_link": true
    },
    "kernelspec": {
      "name": "python3",
      "display_name": "Python 3"
    },
    "language_info": {
      "name": "python"
    },
    "widgets": {
      "application/vnd.jupyter.widget-state+json": {
        "bfbc6e0c9d1243a0a948e0c7abb73a21": {
          "model_module": "catboost-widget",
          "model_name": "CatboostWidgetModel",
          "model_module_version": "^1.0.0",
          "state": {
            "_dom_classes": [],
            "_model_module": "catboost-widget",
            "_model_module_version": "^1.0.0",
            "_model_name": "CatboostWidgetModel",
            "_view_count": null,
            "_view_module": "catboost-widget",
            "_view_module_version": "^1.0.0",
            "_view_name": "CatboostWidgetView",
            "data": {
              "catboost_info": {
                "path": "catboost_info",
                "name": "catboost_info",
                "content": {
                  "passed_iterations": 999,
                  "total_iterations": 1000,
                  "data": {
                    "iterations": [
                      {
                        "learn": [
                          0.9095123571
                        ],
                        "iteration": 0,
                        "passed_time": 0.0526548884,
                        "remaining_time": 52.60223351,
                        "test": [
                          0.9095340065
                        ]
                      },
                      {
                        "learn": [
                          0.7691731195
                        ],
                        "iteration": 1,
                        "passed_time": 0.06335628338,
                        "remaining_time": 31.61478541,
                        "test": [
                          0.769208033
                        ]
                      },
                      {
                        "learn": [
                          0.6595520477
                        ],
                        "iteration": 2,
                        "passed_time": 0.08482193422,
                        "remaining_time": 28.18915614,
                        "test": [
                          0.6595953974
                        ]
                      },
                      {
                        "learn": [
                          0.5711204408
                        ],
                        "iteration": 3,
                        "passed_time": 0.1036530327,
                        "remaining_time": 25.80960515,
                        "test": [
                          0.5711692283
                        ]
                      },
                      {
                        "learn": [
                          0.4981785503
                        ],
                        "iteration": 4,
                        "passed_time": 0.1211962666,
                        "remaining_time": 24.11805705,
                        "test": [
                          0.4982309461
                        ]
                      },
                      {
                        "learn": [
                          0.437027778
                        ],
                        "iteration": 5,
                        "passed_time": 0.1401917258,
                        "remaining_time": 23.22509591,
                        "test": [
                          0.4370823081
                        ]
                      },
                      {
                        "learn": [
                          0.3851239334
                        ],
                        "iteration": 6,
                        "passed_time": 0.1540612271,
                        "remaining_time": 21.85468551,
                        "test": [
                          0.3851796578
                        ]
                      },
                      {
                        "learn": [
                          0.3406391382
                        ],
                        "iteration": 7,
                        "passed_time": 0.1679219185,
                        "remaining_time": 20.82231789,
                        "test": [
                          0.3406955233
                        ]
                      },
                      {
                        "learn": [
                          0.3022154745
                        ],
                        "iteration": 8,
                        "passed_time": 0.1832599572,
                        "remaining_time": 20.17895751,
                        "test": [
                          0.3022718342
                        ]
                      },
                      {
                        "learn": [
                          0.2688151668
                        ],
                        "iteration": 9,
                        "passed_time": 0.2240085478,
                        "remaining_time": 22.17684623,
                        "test": [
                          0.2688711962
                        ]
                      },
                      {
                        "learn": [
                          0.2396282415
                        ],
                        "iteration": 10,
                        "passed_time": 0.2658806344,
                        "remaining_time": 23.90508613,
                        "test": [
                          0.2396837373
                        ]
                      },
                      {
                        "learn": [
                          0.2140099925
                        ],
                        "iteration": 11,
                        "passed_time": 0.2965598888,
                        "remaining_time": 24.41676418,
                        "test": [
                          0.2140647259
                        ]
                      },
                      {
                        "learn": [
                          0.1914399438
                        ],
                        "iteration": 12,
                        "passed_time": 0.3058157714,
                        "remaining_time": 23.21847433,
                        "test": [
                          0.1914937371
                        ]
                      },
                      {
                        "learn": [
                          0.1714916626
                        ],
                        "iteration": 13,
                        "passed_time": 0.3157676607,
                        "remaining_time": 22.23906525,
                        "test": [
                          0.1715444903
                        ]
                      },
                      {
                        "learn": [
                          0.1538118462
                        ],
                        "iteration": 14,
                        "passed_time": 0.3253056947,
                        "remaining_time": 21.36174062,
                        "test": [
                          0.1538635813
                        ]
                      },
                      {
                        "learn": [
                          0.1381051781
                        ],
                        "iteration": 15,
                        "passed_time": 0.3355410605,
                        "remaining_time": 20.63577522,
                        "test": [
                          0.1381557824
                        ]
                      },
                      {
                        "learn": [
                          0.124122537
                        ],
                        "iteration": 16,
                        "passed_time": 0.3452844672,
                        "remaining_time": 19.96556655,
                        "test": [
                          0.1241719852
                        ]
                      },
                      {
                        "learn": [
                          0.1116523203
                        ],
                        "iteration": 17,
                        "passed_time": 0.3545491988,
                        "remaining_time": 19.34262851,
                        "test": [
                          0.1117005868
                        ]
                      },
                      {
                        "learn": [
                          0.100512877
                        ],
                        "iteration": 18,
                        "passed_time": 0.3636974745,
                        "remaining_time": 18.77827487,
                        "test": [
                          0.100559981
                        ]
                      },
                      {
                        "learn": [
                          0.09054835412
                        ],
                        "iteration": 19,
                        "passed_time": 0.3732116216,
                        "remaining_time": 18.28736946,
                        "test": [
                          0.09059427025
                        ]
                      },
                      {
                        "learn": [
                          0.08162379841
                        ],
                        "iteration": 20,
                        "passed_time": 0.3825009151,
                        "remaining_time": 17.83182837,
                        "test": [
                          0.08166855201
                        ]
                      },
                      {
                        "learn": [
                          0.07362192934
                        ],
                        "iteration": 21,
                        "passed_time": 0.3918275695,
                        "remaining_time": 17.4185165,
                        "test": [
                          0.07366552678
                        ]
                      },
                      {
                        "learn": [
                          0.06644021065
                        ],
                        "iteration": 22,
                        "passed_time": 0.4011876868,
                        "remaining_time": 17.04175522,
                        "test": [
                          0.0664826837
                        ]
                      },
                      {
                        "learn": [
                          0.05998911607
                        ],
                        "iteration": 23,
                        "passed_time": 0.4115565654,
                        "remaining_time": 16.73663366,
                        "test": [
                          0.06003047743
                        ]
                      },
                      {
                        "learn": [
                          0.05418988688
                        ],
                        "iteration": 24,
                        "passed_time": 0.4208949038,
                        "remaining_time": 16.41490125,
                        "test": [
                          0.0542301556
                        ]
                      },
                      {
                        "learn": [
                          0.04897266741
                        ],
                        "iteration": 25,
                        "passed_time": 0.4301834293,
                        "remaining_time": 16.11533308,
                        "test": [
                          0.04901188796
                        ]
                      },
                      {
                        "learn": [
                          0.04427643839
                        ],
                        "iteration": 26,
                        "passed_time": 0.4406643897,
                        "remaining_time": 15.88023893,
                        "test": [
                          0.04431461712
                        ]
                      },
                      {
                        "learn": [
                          0.04004681577
                        ],
                        "iteration": 27,
                        "passed_time": 0.4499993331,
                        "remaining_time": 15.62140542,
                        "test": [
                          0.0400839781
                        ]
                      },
                      {
                        "learn": [
                          0.03623538371
                        ],
                        "iteration": 28,
                        "passed_time": 0.4603282337,
                        "remaining_time": 15.41305914,
                        "test": [
                          0.03627157092
                        ]
                      },
                      {
                        "learn": [
                          0.03279931658
                        ],
                        "iteration": 29,
                        "passed_time": 0.4695580743,
                        "remaining_time": 15.18237774,
                        "test": [
                          0.03283454774
                        ]
                      },
                      {
                        "learn": [
                          0.02970034991
                        ],
                        "iteration": 30,
                        "passed_time": 0.4787950389,
                        "remaining_time": 14.96620622,
                        "test": [
                          0.02973465677
                        ]
                      },
                      {
                        "learn": [
                          0.02690425304
                        ],
                        "iteration": 31,
                        "passed_time": 0.4886427864,
                        "remaining_time": 14.78144429,
                        "test": [
                          0.0269376642
                        ]
                      },
                      {
                        "learn": [
                          0.02438071804
                        ],
                        "iteration": 32,
                        "passed_time": 0.4980459977,
                        "remaining_time": 14.59425696,
                        "test": [
                          0.02441325732
                        ]
                      },
                      {
                        "learn": [
                          0.0221024703
                        ],
                        "iteration": 33,
                        "passed_time": 0.5122290605,
                        "remaining_time": 14.55333154,
                        "test": [
                          0.02213416786
                        ]
                      },
                      {
                        "learn": [
                          0.02004502715
                        ],
                        "iteration": 34,
                        "passed_time": 0.5366348011,
                        "remaining_time": 14.79578809,
                        "test": [
                          0.02007590523
                        ]
                      },
                      {
                        "learn": [
                          0.0181863437
                        ],
                        "iteration": 35,
                        "passed_time": 0.5557439921,
                        "remaining_time": 14.88158912,
                        "test": [
                          0.01821643248
                        ]
                      },
                      {
                        "learn": [
                          0.0165072353
                        ],
                        "iteration": 36,
                        "passed_time": 0.5693364329,
                        "remaining_time": 14.81813473,
                        "test": [
                          0.01653655701
                        ]
                      },
                      {
                        "learn": [
                          0.01498964804
                        ],
                        "iteration": 37,
                        "passed_time": 0.5843836482,
                        "remaining_time": 14.79413341,
                        "test": [
                          0.0150182265
                        ]
                      },
                      {
                        "learn": [
                          0.01361795468
                        ],
                        "iteration": 38,
                        "passed_time": 0.6011846423,
                        "remaining_time": 14.81380619,
                        "test": [
                          0.0136458169
                        ]
                      },
                      {
                        "learn": [
                          0.01237777627
                        ],
                        "iteration": 39,
                        "passed_time": 0.6150404427,
                        "remaining_time": 14.76097062,
                        "test": [
                          0.0124049413
                        ]
                      },
                      {
                        "learn": [
                          0.01125640297
                        ],
                        "iteration": 40,
                        "passed_time": 0.6340215,
                        "remaining_time": 14.82991752,
                        "test": [
                          0.0112828994
                        ]
                      },
                      {
                        "learn": [
                          0.01024217629
                        ],
                        "iteration": 41,
                        "passed_time": 0.6468348752,
                        "remaining_time": 14.75399549,
                        "test": [
                          0.01026802238
                        ]
                      },
                      {
                        "learn": [
                          0.009324563731
                        ],
                        "iteration": 42,
                        "passed_time": 0.6649025391,
                        "remaining_time": 14.79794721,
                        "test": [
                          0.009349782501
                        ]
                      },
                      {
                        "learn": [
                          0.008494578829
                        ],
                        "iteration": 43,
                        "passed_time": 0.6777456132,
                        "remaining_time": 14.72556378,
                        "test": [
                          0.008519190138
                        ]
                      },
                      {
                        "learn": [
                          0.007743339951
                        ],
                        "iteration": 44,
                        "passed_time": 0.6841859668,
                        "remaining_time": 14.51994663,
                        "test": [
                          0.007767363651
                        ]
                      },
                      {
                        "learn": [
                          0.007063553593
                        ],
                        "iteration": 45,
                        "passed_time": 0.696422202,
                        "remaining_time": 14.44319089,
                        "test": [
                          0.007087010329
                        ]
                      },
                      {
                        "learn": [
                          0.006448115238
                        ],
                        "iteration": 46,
                        "passed_time": 0.7102591764,
                        "remaining_time": 14.40163819,
                        "test": [
                          0.006471023274
                        ]
                      },
                      {
                        "learn": [
                          0.005891113456
                        ],
                        "iteration": 47,
                        "passed_time": 0.7182008573,
                        "remaining_time": 14.244317,
                        "test": [
                          0.005913489863
                        ]
                      },
                      {
                        "learn": [
                          0.005386677312
                        ],
                        "iteration": 48,
                        "passed_time": 0.7364764298,
                        "remaining_time": 14.29365479,
                        "test": [
                          0.005408542341
                        ]
                      },
                      {
                        "learn": [
                          0.004929679518
                        ],
                        "iteration": 49,
                        "passed_time": 0.7606035889,
                        "remaining_time": 14.45146819,
                        "test": [
                          0.004951047461
                        ]
                      },
                      {
                        "learn": [
                          0.004515890873
                        ],
                        "iteration": 50,
                        "passed_time": 0.8195599021,
                        "remaining_time": 15.2502421,
                        "test": [
                          0.004536779199
                        ]
                      },
                      {
                        "learn": [
                          0.00414086222
                        ],
                        "iteration": 51,
                        "passed_time": 0.8710761906,
                        "remaining_time": 15.88038901,
                        "test": [
                          0.004161286414
                        ]
                      },
                      {
                        "learn": [
                          0.00380437797
                        ],
                        "iteration": 52,
                        "passed_time": 0.8730455881,
                        "remaining_time": 15.59951268,
                        "test": [
                          0.003824592133
                        ]
                      },
                      {
                        "learn": [
                          0.003496109298
                        ],
                        "iteration": 53,
                        "passed_time": 0.8760689627,
                        "remaining_time": 15.34743035,
                        "test": [
                          0.003515880372
                        ]
                      },
                      {
                        "learn": [
                          0.003216459789
                        ],
                        "iteration": 54,
                        "passed_time": 0.8848622591,
                        "remaining_time": 15.20354245,
                        "test": [
                          0.00323580167
                        ]
                      },
                      {
                        "learn": [
                          0.002963073248
                        ],
                        "iteration": 55,
                        "passed_time": 0.8937480533,
                        "remaining_time": 15.06603861,
                        "test": [
                          0.002982000626
                        ]
                      },
                      {
                        "learn": [
                          0.002732873062
                        ],
                        "iteration": 56,
                        "passed_time": 0.9028578321,
                        "remaining_time": 14.93675326,
                        "test": [
                          0.002751398841
                        ]
                      },
                      {
                        "learn": [
                          0.002524076155
                        ],
                        "iteration": 57,
                        "passed_time": 0.9052808568,
                        "remaining_time": 14.70300978,
                        "test": [
                          0.002542213834
                        ]
                      },
                      {
                        "learn": [
                          0.002334427973
                        ],
                        "iteration": 58,
                        "passed_time": 0.9090012262,
                        "remaining_time": 14.49779922,
                        "test": [
                          0.002352190454
                        ]
                      },
                      {
                        "learn": [
                          0.002162160127
                        ],
                        "iteration": 59,
                        "passed_time": 0.9178402224,
                        "remaining_time": 14.37949682,
                        "test": [
                          0.002179559323
                        ]
                      },
                      {
                        "learn": [
                          0.002019373205
                        ],
                        "iteration": 60,
                        "passed_time": 0.919768346,
                        "remaining_time": 14.15840126,
                        "test": [
                          0.002037318521
                        ]
                      },
                      {
                        "learn": [
                          0.001876027856
                        ],
                        "iteration": 61,
                        "passed_time": 0.9253191392,
                        "remaining_time": 13.99918311,
                        "test": [
                          0.001893599166
                        ]
                      },
                      {
                        "learn": [
                          0.00177267906
                        ],
                        "iteration": 62,
                        "passed_time": 0.9265915989,
                        "remaining_time": 13.78121156,
                        "test": [
                          0.00179089952
                        ]
                      },
                      {
                        "learn": [
                          0.001652103082
                        ],
                        "iteration": 63,
                        "passed_time": 0.932142803,
                        "remaining_time": 13.63258849,
                        "test": [
                          0.001669936136
                        ]
                      },
                      {
                        "learn": [
                          0.001542152513
                        ],
                        "iteration": 64,
                        "passed_time": 0.9381447814,
                        "remaining_time": 13.49485185,
                        "test": [
                          0.001559610966
                        ]
                      },
                      {
                        "learn": [
                          0.0014425667
                        ],
                        "iteration": 65,
                        "passed_time": 0.947370678,
                        "remaining_time": 13.4067305,
                        "test": [
                          0.001459437941
                        ]
                      },
                      {
                        "learn": [
                          0.00137576374
                        ],
                        "iteration": 66,
                        "passed_time": 0.9486164687,
                        "remaining_time": 13.20983829,
                        "test": [
                          0.001393200257
                        ]
                      },
                      {
                        "learn": [
                          0.001290551729
                        ],
                        "iteration": 67,
                        "passed_time": 0.9521657444,
                        "remaining_time": 13.05027167,
                        "test": [
                          0.001307620097
                        ]
                      },
                      {
                        "learn": [
                          0.001237192321
                        ],
                        "iteration": 68,
                        "passed_time": 0.9534280622,
                        "remaining_time": 12.86436994,
                        "test": [
                          0.001254806114
                        ]
                      },
                      {
                        "learn": [
                          0.001164238717
                        ],
                        "iteration": 69,
                        "passed_time": 0.9558577419,
                        "remaining_time": 12.69925286,
                        "test": [
                          0.001181476023
                        ]
                      },
                      {
                        "learn": [
                          0.001109639076
                        ],
                        "iteration": 70,
                        "passed_time": 0.9578070284,
                        "remaining_time": 12.53243281,
                        "test": [
                          0.001127278874
                        ]
                      },
                      {
                        "learn": [
                          0.001059892176
                        ],
                        "iteration": 71,
                        "passed_time": 0.9598251848,
                        "remaining_time": 12.37108016,
                        "test": [
                          0.001077938834
                        ]
                      },
                      {
                        "learn": [
                          0.001014869576
                        ],
                        "iteration": 72,
                        "passed_time": 0.9618438792,
                        "remaining_time": 12.21409967,
                        "test": [
                          0.001033325874
                        ]
                      },
                      {
                        "learn": [
                          0.0009622478565
                        ],
                        "iteration": 73,
                        "passed_time": 0.9707876653,
                        "remaining_time": 12.14796457,
                        "test": [
                          0.0009807515005
                        ]
                      },
                      {
                        "learn": [
                          0.0009126063688
                        ],
                        "iteration": 74,
                        "passed_time": 0.973795511,
                        "remaining_time": 12.01014464,
                        "test": [
                          0.0009306978921
                        ]
                      },
                      {
                        "learn": [
                          0.0008880485603
                        ],
                        "iteration": 75,
                        "passed_time": 0.9750529807,
                        "remaining_time": 11.8545915,
                        "test": [
                          0.0009066151342
                        ]
                      },
                      {
                        "learn": [
                          0.0008445444155
                        ],
                        "iteration": 76,
                        "passed_time": 0.9840840327,
                        "remaining_time": 11.79622808,
                        "test": [
                          0.0008626949976
                        ]
                      },
                      {
                        "learn": [
                          0.0008247479313
                        ],
                        "iteration": 77,
                        "passed_time": 0.9853402725,
                        "remaining_time": 11.64722732,
                        "test": [
                          0.0008433416027
                        ]
                      },
                      {
                        "learn": [
                          0.0007977518908
                        ],
                        "iteration": 78,
                        "passed_time": 0.987293751,
                        "remaining_time": 11.5100955,
                        "test": [
                          0.0008166736608
                        ]
                      },
                      {
                        "learn": [
                          0.0007614267061
                        ],
                        "iteration": 79,
                        "passed_time": 0.9897091717,
                        "remaining_time": 11.38165547,
                        "test": [
                          0.0007799155111
                        ]
                      },
                      {
                        "learn": [
                          0.0007278978775
                        ],
                        "iteration": 80,
                        "passed_time": 0.9940972329,
                        "remaining_time": 11.27870811,
                        "test": [
                          0.0007459701944
                        ]
                      },
                      {
                        "learn": [
                          0.0006979025969
                        ],
                        "iteration": 81,
                        "passed_time": 1.008304061,
                        "remaining_time": 11.28808692,
                        "test": [
                          0.0007155533139
                        ]
                      },
                      {
                        "learn": [
                          0.0006698923842
                        ],
                        "iteration": 82,
                        "passed_time": 1.035929781,
                        "remaining_time": 11.44515191,
                        "test": [
                          0.0006875818119
                        ]
                      },
                      {
                        "learn": [
                          0.0006443249197
                        ],
                        "iteration": 83,
                        "passed_time": 1.045096336,
                        "remaining_time": 11.39652671,
                        "test": [
                          0.0006617059517
                        ]
                      },
                      {
                        "learn": [
                          0.0006201665765
                        ],
                        "iteration": 84,
                        "passed_time": 1.048195553,
                        "remaining_time": 11.28351683,
                        "test": [
                          0.0006371535032
                        ]
                      },
                      {
                        "learn": [
                          0.0005975110545
                        ],
                        "iteration": 85,
                        "passed_time": 1.051277599,
                        "remaining_time": 11.17288053,
                        "test": [
                          0.0006145359475
                        ]
                      },
                      {
                        "learn": [
                          0.0005900937254
                        ],
                        "iteration": 86,
                        "passed_time": 1.052541435,
                        "remaining_time": 11.04563598,
                        "test": [
                          0.0006073971871
                        ]
                      },
                      {
                        "learn": [
                          0.0005696870504
                        ],
                        "iteration": 87,
                        "passed_time": 1.061545792,
                        "remaining_time": 11.00147457,
                        "test": [
                          0.0005870226718
                        ]
                      },
                      {
                        "learn": [
                          0.000549993249
                        ],
                        "iteration": 88,
                        "passed_time": 1.073254716,
                        "remaining_time": 10.98578704,
                        "test": [
                          0.0005669590833
                        ]
                      },
                      {
                        "learn": [
                          0.0005309249241
                        ],
                        "iteration": 89,
                        "passed_time": 1.082032179,
                        "remaining_time": 10.94054758,
                        "test": [
                          0.0005475341231
                        ]
                      },
                      {
                        "learn": [
                          0.0005143103651
                        ],
                        "iteration": 90,
                        "passed_time": 1.091364202,
                        "remaining_time": 10.90164901,
                        "test": [
                          0.0005303493249
                        ]
                      },
                      {
                        "learn": [
                          0.0004974795222
                        ],
                        "iteration": 91,
                        "passed_time": 1.095808979,
                        "remaining_time": 10.81515818,
                        "test": [
                          0.0005131890434
                        ]
                      },
                      {
                        "learn": [
                          0.0004825899246
                        ],
                        "iteration": 92,
                        "passed_time": 1.106596619,
                        "remaining_time": 10.79229176,
                        "test": [
                          0.0004983318537
                        ]
                      },
                      {
                        "learn": [
                          0.0004684748399
                        ],
                        "iteration": 93,
                        "passed_time": 1.115625643,
                        "remaining_time": 10.75273226,
                        "test": [
                          0.0004838840551
                        ]
                      },
                      {
                        "learn": [
                          0.0004543100269
                        ],
                        "iteration": 94,
                        "passed_time": 1.124478062,
                        "remaining_time": 10.71213312,
                        "test": [
                          0.0004694128314
                        ]
                      },
                      {
                        "learn": [
                          0.0004407318804
                        ],
                        "iteration": 95,
                        "passed_time": 1.133284232,
                        "remaining_time": 10.67175986,
                        "test": [
                          0.0004555387958
                        ]
                      },
                      {
                        "learn": [
                          0.0004288573051
                        ],
                        "iteration": 96,
                        "passed_time": 1.142311528,
                        "remaining_time": 10.63409598,
                        "test": [
                          0.0004433638647
                        ]
                      },
                      {
                        "learn": [
                          0.0004176429467
                        ],
                        "iteration": 97,
                        "passed_time": 1.151337709,
                        "remaining_time": 10.59700626,
                        "test": [
                          0.0004321803757
                        ]
                      },
                      {
                        "learn": [
                          0.0004062101952
                        ],
                        "iteration": 98,
                        "passed_time": 1.160197661,
                        "remaining_time": 10.55897063,
                        "test": [
                          0.0004204715618
                        ]
                      },
                      {
                        "learn": [
                          0.0003960586706
                        ],
                        "iteration": 99,
                        "passed_time": 1.169037434,
                        "remaining_time": 10.52133691,
                        "test": [
                          0.0004100405257
                        ]
                      },
                      {
                        "learn": [
                          0.0003864355727
                        ],
                        "iteration": 100,
                        "passed_time": 1.177932565,
                        "remaining_time": 10.4847661,
                        "test": [
                          0.0004004456171
                        ]
                      },
                      {
                        "learn": [
                          0.0003765324917
                        ],
                        "iteration": 101,
                        "passed_time": 1.186824976,
                        "remaining_time": 10.44871401,
                        "test": [
                          0.0003902846629
                        ]
                      },
                      {
                        "learn": [
                          0.0003678480056
                        ],
                        "iteration": 102,
                        "passed_time": 1.198593183,
                        "remaining_time": 10.43823384,
                        "test": [
                          0.0003816242222
                        ]
                      },
                      {
                        "learn": [
                          0.0003594460336
                        ],
                        "iteration": 103,
                        "passed_time": 1.207894217,
                        "remaining_time": 10.40647325,
                        "test": [
                          0.0003732429704
                        ]
                      },
                      {
                        "learn": [
                          0.0003508136582
                        ],
                        "iteration": 104,
                        "passed_time": 1.217041891,
                        "remaining_time": 10.37383326,
                        "test": [
                          0.000364364335
                        ]
                      },
                      {
                        "learn": [
                          0.0003432271929
                        ],
                        "iteration": 105,
                        "passed_time": 1.225500134,
                        "remaining_time": 10.33582188,
                        "test": [
                          0.0003565300712
                        ]
                      },
                      {
                        "learn": [
                          0.0003360343367
                        ],
                        "iteration": 106,
                        "passed_time": 1.23383464,
                        "remaining_time": 10.29733022,
                        "test": [
                          0.0003493563718
                        ]
                      },
                      {
                        "learn": [
                          0.0003282965024
                        ],
                        "iteration": 107,
                        "passed_time": 1.242314502,
                        "remaining_time": 10.26059755,
                        "test": [
                          0.0003413875385
                        ]
                      },
                      {
                        "learn": [
                          0.0003216686991
                        ],
                        "iteration": 108,
                        "passed_time": 1.250670754,
                        "remaining_time": 10.22337286,
                        "test": [
                          0.0003347757407
                        ]
                      },
                      {
                        "learn": [
                          0.0003154343312
                        ],
                        "iteration": 109,
                        "passed_time": 1.271016613,
                        "remaining_time": 10.28367987,
                        "test": [
                          0.0003285545493
                        ]
                      },
                      {
                        "learn": [
                          0.000308909583
                        ],
                        "iteration": 110,
                        "passed_time": 1.309870644,
                        "remaining_time": 10.49076578,
                        "test": [
                          0.0003216836623
                        ]
                      },
                      {
                        "learn": [
                          0.0003024608418
                        ],
                        "iteration": 111,
                        "passed_time": 1.349614787,
                        "remaining_time": 10.70051724,
                        "test": [
                          0.000315022012
                        ]
                      },
                      {
                        "learn": [
                          0.0002968246047
                        ],
                        "iteration": 112,
                        "passed_time": 1.387820433,
                        "remaining_time": 10.89377632,
                        "test": [
                          0.0003091744291
                        ]
                      },
                      {
                        "learn": [
                          0.0002913355927
                        ],
                        "iteration": 113,
                        "passed_time": 1.428226461,
                        "remaining_time": 11.10007583,
                        "test": [
                          0.0003034792326
                        ]
                      },
                      {
                        "learn": [
                          0.0002856260037
                        ],
                        "iteration": 114,
                        "passed_time": 1.465861533,
                        "remaining_time": 11.2807605,
                        "test": [
                          0.0002975726157
                        ]
                      },
                      {
                        "learn": [
                          0.0002799732898
                        ],
                        "iteration": 115,
                        "passed_time": 1.500814842,
                        "remaining_time": 11.43724414,
                        "test": [
                          0.0002917287302
                        ]
                      },
                      {
                        "learn": [
                          0.0002751883172
                        ],
                        "iteration": 116,
                        "passed_time": 1.509156763,
                        "remaining_time": 11.38961899,
                        "test": [
                          0.0002867520898
                        ]
                      },
                      {
                        "learn": [
                          0.000270550247
                        ],
                        "iteration": 117,
                        "passed_time": 1.517403753,
                        "remaining_time": 11.34195008,
                        "test": [
                          0.0002821307198
                        ]
                      },
                      {
                        "learn": [
                          0.0002660582852
                        ],
                        "iteration": 118,
                        "passed_time": 1.549223789,
                        "remaining_time": 11.46946351,
                        "test": [
                          0.0002776535226
                        ]
                      },
                      {
                        "learn": [
                          0.0002612809307
                        ],
                        "iteration": 119,
                        "passed_time": 1.562485317,
                        "remaining_time": 11.45822565,
                        "test": [
                          0.0002726966346
                        ]
                      },
                      {
                        "learn": [
                          0.0002569761949
                        ],
                        "iteration": 120,
                        "passed_time": 1.583070991,
                        "remaining_time": 11.50016034,
                        "test": [
                          0.0002684044798
                        ]
                      },
                      {
                        "learn": [
                          0.0002523994416
                        ],
                        "iteration": 121,
                        "passed_time": 1.596868147,
                        "remaining_time": 11.49221503,
                        "test": [
                          0.0002636542725
                        ]
                      },
                      {
                        "learn": [
                          0.0002486200307
                        ],
                        "iteration": 122,
                        "passed_time": 1.617906952,
                        "remaining_time": 11.5358081,
                        "test": [
                          0.0002597035913
                        ]
                      },
                      {
                        "learn": [
                          0.0002442390397
                        ],
                        "iteration": 123,
                        "passed_time": 1.661723714,
                        "remaining_time": 11.73927398,
                        "test": [
                          0.0002551576825
                        ]
                      },
                      {
                        "learn": [
                          0.0002401394461
                        ],
                        "iteration": 124,
                        "passed_time": 1.698667422,
                        "remaining_time": 11.89067196,
                        "test": [
                          0.000250897613
                        ]
                      },
                      {
                        "learn": [
                          0.0002365622989
                        ],
                        "iteration": 125,
                        "passed_time": 1.735308034,
                        "remaining_time": 12.03697795,
                        "test": [
                          0.0002473316324
                        ]
                      },
                      {
                        "learn": [
                          0.00023325372
                        ],
                        "iteration": 126,
                        "passed_time": 1.772769346,
                        "remaining_time": 12.1860444,
                        "test": [
                          0.0002439044894
                        ]
                      },
                      {
                        "learn": [
                          0.0002294855997
                        ],
                        "iteration": 127,
                        "passed_time": 1.810431399,
                        "remaining_time": 12.3335639,
                        "test": [
                          0.0002399834616
                        ]
                      },
                      {
                        "learn": [
                          0.0002263322609
                        ],
                        "iteration": 128,
                        "passed_time": 1.849304398,
                        "remaining_time": 12.48638861,
                        "test": [
                          0.0002368400982
                        ]
                      },
                      {
                        "learn": [
                          0.0002231986001
                        ],
                        "iteration": 129,
                        "passed_time": 1.889561098,
                        "remaining_time": 12.64552427,
                        "test": [
                          0.0002342536239
                        ]
                      },
                      {
                        "learn": [
                          0.000219758082
                        ],
                        "iteration": 130,
                        "passed_time": 1.928842437,
                        "remaining_time": 12.79514563,
                        "test": [
                          0.0002306584365
                        ]
                      },
                      {
                        "learn": [
                          0.0002167873289
                        ],
                        "iteration": 131,
                        "passed_time": 1.968714867,
                        "remaining_time": 12.9457917,
                        "test": [
                          0.0002276915297
                        ]
                      },
                      {
                        "learn": [
                          0.0002139525102
                        ],
                        "iteration": 132,
                        "passed_time": 2.007046236,
                        "remaining_time": 13.08352697,
                        "test": [
                          0.0002247073271
                        ]
                      },
                      {
                        "learn": [
                          0.0002111354339
                        ],
                        "iteration": 133,
                        "passed_time": 2.046697189,
                        "remaining_time": 13.22716243,
                        "test": [
                          0.0002217436958
                        ]
                      },
                      {
                        "learn": [
                          0.0002080382257
                        ],
                        "iteration": 134,
                        "passed_time": 2.090319314,
                        "remaining_time": 13.39352746,
                        "test": [
                          0.0002185026374
                        ]
                      },
                      {
                        "learn": [
                          0.0002050921135
                        ],
                        "iteration": 135,
                        "passed_time": 2.129748141,
                        "remaining_time": 13.53016466,
                        "test": [
                          0.0002154159506
                        ]
                      },
                      {
                        "learn": [
                          0.000202455737
                        ],
                        "iteration": 136,
                        "passed_time": 2.169697855,
                        "remaining_time": 13.66751277,
                        "test": [
                          0.0002126430195
                        ]
                      },
                      {
                        "learn": [
                          0.0001995617975
                        ],
                        "iteration": 137,
                        "passed_time": 2.222193032,
                        "remaining_time": 13.88065502,
                        "test": [
                          0.0002096148703
                        ]
                      },
                      {
                        "learn": [
                          0.0001970806115
                        ],
                        "iteration": 138,
                        "passed_time": 2.26191784,
                        "remaining_time": 14.01087238,
                        "test": [
                          0.0002070037054
                        ]
                      },
                      {
                        "learn": [
                          0.0001947332257
                        ],
                        "iteration": 139,
                        "passed_time": 2.292060299,
                        "remaining_time": 14.07979898,
                        "test": [
                          0.0002045280034
                        ]
                      },
                      {
                        "learn": [
                          0.0001920271327
                        ],
                        "iteration": 140,
                        "passed_time": 2.318791343,
                        "remaining_time": 14.12653733,
                        "test": [
                          0.0002016957033
                        ]
                      },
                      {
                        "learn": [
                          0.0001898322822
                        ],
                        "iteration": 141,
                        "passed_time": 2.335632026,
                        "remaining_time": 14.11248083,
                        "test": [
                          0.0001993780331
                        ]
                      },
                      {
                        "learn": [
                          0.0001875673553
                        ],
                        "iteration": 142,
                        "passed_time": 2.381340902,
                        "remaining_time": 14.27139268,
                        "test": [
                          0.0001969367613
                        ]
                      },
                      {
                        "learn": [
                          0.0001852828497
                        ],
                        "iteration": 143,
                        "passed_time": 2.394254013,
                        "remaining_time": 14.23250997,
                        "test": [
                          0.0001945351681
                        ]
                      },
                      {
                        "learn": [
                          0.0001829012819
                        ],
                        "iteration": 144,
                        "passed_time": 2.408032318,
                        "remaining_time": 14.19908712,
                        "test": [
                          0.0001920382496
                        ]
                      },
                      {
                        "learn": [
                          0.000180425704
                        ],
                        "iteration": 145,
                        "passed_time": 2.43579326,
                        "remaining_time": 14.24772222,
                        "test": [
                          0.0001894496785
                        ]
                      },
                      {
                        "learn": [
                          0.0001785450186
                        ],
                        "iteration": 146,
                        "passed_time": 2.457572316,
                        "remaining_time": 14.26060671,
                        "test": [
                          0.0001875768841
                        ]
                      },
                      {
                        "learn": [
                          0.0001765577794
                        ],
                        "iteration": 147,
                        "passed_time": 2.480272662,
                        "remaining_time": 14.27832641,
                        "test": [
                          0.000185480498
                        ]
                      },
                      {
                        "learn": [
                          0.0001744950666
                        ],
                        "iteration": 148,
                        "passed_time": 2.493522578,
                        "remaining_time": 14.24152828,
                        "test": [
                          0.0001833100402
                        ]
                      },
                      {
                        "learn": [
                          0.0001725350863
                        ],
                        "iteration": 149,
                        "passed_time": 2.507628344,
                        "remaining_time": 14.20989395,
                        "test": [
                          0.0001813573305
                        ]
                      },
                      {
                        "learn": [
                          0.000170390932
                        ],
                        "iteration": 150,
                        "passed_time": 2.526084439,
                        "remaining_time": 14.20295158,
                        "test": [
                          0.0001791080493
                        ]
                      },
                      {
                        "learn": [
                          0.0001686950161
                        ],
                        "iteration": 151,
                        "passed_time": 2.540251044,
                        "remaining_time": 14.17192688,
                        "test": [
                          0.0001773106665
                        ]
                      },
                      {
                        "learn": [
                          0.0001667056676
                        ],
                        "iteration": 152,
                        "passed_time": 2.589869078,
                        "remaining_time": 14.3373798,
                        "test": [
                          0.0001752204343
                        ]
                      },
                      {
                        "learn": [
                          0.000164793505
                        ],
                        "iteration": 153,
                        "passed_time": 2.611712496,
                        "remaining_time": 14.34745956,
                        "test": [
                          0.0001732089885
                        ]
                      },
                      {
                        "learn": [
                          0.0001628416141
                        ],
                        "iteration": 154,
                        "passed_time": 2.646371586,
                        "remaining_time": 14.42699348,
                        "test": [
                          0.0001711605689
                        ]
                      },
                      {
                        "learn": [
                          0.0001613137178
                        ],
                        "iteration": 155,
                        "passed_time": 2.68632405,
                        "remaining_time": 14.53370191,
                        "test": [
                          0.0001696391492
                        ]
                      },
                      {
                        "learn": [
                          0.0001595130843
                        ],
                        "iteration": 156,
                        "passed_time": 2.706134093,
                        "remaining_time": 14.53038879,
                        "test": [
                          0.0001677444312
                        ]
                      },
                      {
                        "learn": [
                          0.0001578889942
                        ],
                        "iteration": 157,
                        "passed_time": 2.730508787,
                        "remaining_time": 14.5511924,
                        "test": [
                          0.000166125912
                        ]
                      },
                      {
                        "learn": [
                          0.0001563929474
                        ],
                        "iteration": 158,
                        "passed_time": 2.757615977,
                        "remaining_time": 14.58588073,
                        "test": [
                          0.000164539081
                        ]
                      },
                      {
                        "learn": [
                          0.0001550249811
                        ],
                        "iteration": 159,
                        "passed_time": 2.792900779,
                        "remaining_time": 14.66272909,
                        "test": [
                          0.0001630817821
                        ]
                      },
                      {
                        "learn": [
                          0.0001533185562
                        ],
                        "iteration": 160,
                        "passed_time": 2.822314432,
                        "remaining_time": 14.70758887,
                        "test": [
                          0.0001612860619
                        ]
                      },
                      {
                        "learn": [
                          0.0001517063895
                        ],
                        "iteration": 161,
                        "passed_time": 2.836014972,
                        "remaining_time": 14.67025029,
                        "test": [
                          0.0001595868581
                        ]
                      },
                      {
                        "learn": [
                          0.0001502976653
                        ],
                        "iteration": 162,
                        "passed_time": 2.910073637,
                        "remaining_time": 14.94313886,
                        "test": [
                          0.0001580456611
                        ]
                      },
                      {
                        "learn": [
                          0.0001487121247
                        ],
                        "iteration": 163,
                        "passed_time": 2.943866927,
                        "remaining_time": 15.00654116,
                        "test": [
                          0.0001563765078
                        ]
                      },
                      {
                        "learn": [
                          0.0001473925716
                        ],
                        "iteration": 164,
                        "passed_time": 2.963296676,
                        "remaining_time": 14.99607712,
                        "test": [
                          0.0001550634686
                        ]
                      },
                      {
                        "learn": [
                          0.0001460812818
                        ],
                        "iteration": 165,
                        "passed_time": 2.98364596,
                        "remaining_time": 14.99012488,
                        "test": [
                          0.0001536719904
                        ]
                      },
                      {
                        "learn": [
                          0.0001447775481
                        ],
                        "iteration": 166,
                        "passed_time": 3.000172503,
                        "remaining_time": 14.9649323,
                        "test": [
                          0.0001526544434
                        ]
                      },
                      {
                        "learn": [
                          0.0001434816434
                        ],
                        "iteration": 167,
                        "passed_time": 3.017499975,
                        "remaining_time": 14.9438094,
                        "test": [
                          0.0001512779036
                        ]
                      },
                      {
                        "learn": [
                          0.0001423123923
                        ],
                        "iteration": 168,
                        "passed_time": 3.036027983,
                        "remaining_time": 14.92863464,
                        "test": [
                          0.0001500291094
                        ]
                      },
                      {
                        "learn": [
                          0.000141031488
                        ],
                        "iteration": 169,
                        "passed_time": 3.050950702,
                        "remaining_time": 14.89581813,
                        "test": [
                          0.0001486702004
                        ]
                      },
                      {
                        "learn": [
                          0.0001397576931
                        ],
                        "iteration": 170,
                        "passed_time": 3.100443667,
                        "remaining_time": 15.03080585,
                        "test": [
                          0.000147401753
                        ]
                      },
                      {
                        "learn": [
                          0.0001386100927
                        ],
                        "iteration": 171,
                        "passed_time": 3.121959223,
                        "remaining_time": 15.02896649,
                        "test": [
                          0.0001461772771
                        ]
                      },
                      {
                        "learn": [
                          0.0001374692047
                        ],
                        "iteration": 172,
                        "passed_time": 3.142133396,
                        "remaining_time": 15.02048739,
                        "test": [
                          0.0001450416622
                        ]
                      },
                      {
                        "learn": [
                          0.0001361072808
                        ],
                        "iteration": 173,
                        "passed_time": 3.155942381,
                        "remaining_time": 14.98165751,
                        "test": [
                          0.0001436025028
                        ]
                      },
                      {
                        "learn": [
                          0.0001349826464
                        ],
                        "iteration": 174,
                        "passed_time": 3.187614416,
                        "remaining_time": 15.0273251,
                        "test": [
                          0.0001424043552
                        ]
                      },
                      {
                        "learn": [
                          0.0001337706273
                        ],
                        "iteration": 175,
                        "passed_time": 3.215876674,
                        "remaining_time": 15.05614988,
                        "test": [
                          0.0001411173961
                        ]
                      },
                      {
                        "learn": [
                          0.0001325606928
                        ],
                        "iteration": 176,
                        "passed_time": 3.231488447,
                        "remaining_time": 15.02550843,
                        "test": [
                          0.0001398337994
                        ]
                      },
                      {
                        "learn": [
                          0.0001312442788
                        ],
                        "iteration": 177,
                        "passed_time": 3.245690906,
                        "remaining_time": 14.98852767,
                        "test": [
                          0.0001384456092
                        ]
                      },
                      {
                        "learn": [
                          0.0001299401604
                        ],
                        "iteration": 178,
                        "passed_time": 3.262105054,
                        "remaining_time": 14.96194553,
                        "test": [
                          0.0001370707817
                        ]
                      },
                      {
                        "learn": [
                          0.0001289729621
                        ],
                        "iteration": 179,
                        "passed_time": 3.278366482,
                        "remaining_time": 14.93478064,
                        "test": [
                          0.000136036187
                        ]
                      },
                      {
                        "learn": [
                          0.0001280116822
                        ],
                        "iteration": 180,
                        "passed_time": 3.29215774,
                        "remaining_time": 14.89655905,
                        "test": [
                          0.0001350085156
                        ]
                      },
                      {
                        "learn": [
                          0.0001269373717
                        ],
                        "iteration": 181,
                        "passed_time": 3.336586451,
                        "remaining_time": 14.99630614,
                        "test": [
                          0.0001338688187
                        ]
                      },
                      {
                        "learn": [
                          0.0001257870666
                        ],
                        "iteration": 182,
                        "passed_time": 3.423757652,
                        "remaining_time": 15.28530056,
                        "test": [
                          0.0001326521469
                        ]
                      },
                      {
                        "learn": [
                          0.0001246478908
                        ],
                        "iteration": 183,
                        "passed_time": 3.450481549,
                        "remaining_time": 15.30213557,
                        "test": [
                          0.0001314473614
                        ]
                      },
                      {
                        "learn": [
                          0.0001237126537
                        ],
                        "iteration": 184,
                        "passed_time": 3.521083021,
                        "remaining_time": 15.51179817,
                        "test": [
                          0.0001305173105
                        ]
                      },
                      {
                        "learn": [
                          0.0001225914437
                        ],
                        "iteration": 185,
                        "passed_time": 3.570377302,
                        "remaining_time": 15.62519959,
                        "test": [
                          0.0001293323022
                        ]
                      },
                      {
                        "learn": [
                          0.0001216690234
                        ],
                        "iteration": 186,
                        "passed_time": 3.615134141,
                        "remaining_time": 15.71713399,
                        "test": [
                          0.0001283489
                        ]
                      },
                      {
                        "learn": [
                          0.0001205650223
                        ],
                        "iteration": 187,
                        "passed_time": 3.6624111,
                        "remaining_time": 15.81849901,
                        "test": [
                          0.0001271831602
                        ]
                      },
                      {
                        "learn": [
                          0.0001196709154
                        ],
                        "iteration": 188,
                        "passed_time": 3.7068114,
                        "remaining_time": 15.90594733,
                        "test": [
                          0.0001262003164
                        ]
                      },
                      {
                        "learn": [
                          0.0001187657908
                        ],
                        "iteration": 189,
                        "passed_time": 3.745302802,
                        "remaining_time": 15.96681721,
                        "test": [
                          0.0001253000058
                        ]
                      },
                      {
                        "learn": [
                          0.0001176869269
                        ],
                        "iteration": 190,
                        "passed_time": 3.812345213,
                        "remaining_time": 16.14757737,
                        "test": [
                          0.0001241615869
                        ]
                      },
                      {
                        "learn": [
                          0.0001167363916
                        ],
                        "iteration": 191,
                        "passed_time": 3.861217249,
                        "remaining_time": 16.24928926,
                        "test": [
                          0.0001231525636
                        ]
                      },
                      {
                        "learn": [
                          0.0001159680823
                        ],
                        "iteration": 192,
                        "passed_time": 3.90777826,
                        "remaining_time": 16.33977749,
                        "test": [
                          0.0001223289426
                        ]
                      },
                      {
                        "learn": [
                          0.0001149138716
                        ],
                        "iteration": 193,
                        "passed_time": 3.94958854,
                        "remaining_time": 16.40911528,
                        "test": [
                          0.0001212181299
                        ]
                      },
                      {
                        "learn": [
                          0.0001140372342
                        ],
                        "iteration": 194,
                        "passed_time": 3.992244418,
                        "remaining_time": 16.48080388,
                        "test": [
                          0.0001202873842
                        ]
                      },
                      {
                        "learn": [
                          0.0001132355989
                        ],
                        "iteration": 195,
                        "passed_time": 4.037689485,
                        "remaining_time": 16.56276707,
                        "test": [
                          0.000119430735
                        ]
                      },
                      {
                        "learn": [
                          0.0001122045527
                        ],
                        "iteration": 196,
                        "passed_time": 4.154846288,
                        "remaining_time": 16.93574401,
                        "test": [
                          0.0001183457666
                        ]
                      },
                      {
                        "learn": [
                          0.0001114623483
                        ],
                        "iteration": 197,
                        "passed_time": 4.250570345,
                        "remaining_time": 17.21695665,
                        "test": [
                          0.0001176084011
                        ]
                      },
                      {
                        "learn": [
                          0.0001107245113
                        ],
                        "iteration": 198,
                        "passed_time": 4.314319784,
                        "remaining_time": 17.36567913,
                        "test": [
                          0.0001168746833
                        ]
                      },
                      {
                        "learn": [
                          0.0001098317444
                        ],
                        "iteration": 199,
                        "passed_time": 4.344508434,
                        "remaining_time": 17.37803374,
                        "test": [
                          0.0001159290861
                        ]
                      },
                      {
                        "learn": [
                          0.0001089469306
                        ],
                        "iteration": 200,
                        "passed_time": 4.445125249,
                        "remaining_time": 17.66992574,
                        "test": [
                          0.0001149923106
                        ]
                      },
                      {
                        "learn": [
                          0.0001082240567
                        ],
                        "iteration": 201,
                        "passed_time": 4.532094557,
                        "remaining_time": 17.90401711,
                        "test": [
                          0.000114219944
                        ]
                      },
                      {
                        "learn": [
                          0.0001075046694
                        ],
                        "iteration": 202,
                        "passed_time": 4.630637654,
                        "remaining_time": 18.18038527,
                        "test": [
                          0.000113451064
                        ]
                      },
                      {
                        "learn": [
                          0.0001066379082
                        ],
                        "iteration": 203,
                        "passed_time": 4.736106604,
                        "remaining_time": 18.48010224,
                        "test": [
                          0.0001125340036
                        ]
                      },
                      {
                        "learn": [
                          0.0001060463407
                        ],
                        "iteration": 204,
                        "passed_time": 4.829851256,
                        "remaining_time": 18.73039877,
                        "test": [
                          0.0001119467291
                        ]
                      },
                      {
                        "learn": [
                          0.0001052207345
                        ],
                        "iteration": 205,
                        "passed_time": 4.912481583,
                        "remaining_time": 18.93451639,
                        "test": [
                          0.0001111244977
                        ]
                      },
                      {
                        "learn": [
                          0.0001046365246
                        ],
                        "iteration": 206,
                        "passed_time": 4.969359633,
                        "remaining_time": 19.03720864,
                        "test": [
                          0.0001105438363
                        ]
                      },
                      {
                        "learn": [
                          0.0001039370448
                        ],
                        "iteration": 207,
                        "passed_time": 5.004437129,
                        "remaining_time": 19.05535676,
                        "test": [
                          0.0001097972273
                        ]
                      },
                      {
                        "learn": [
                          0.0001032410948
                        ],
                        "iteration": 208,
                        "passed_time": 5.048130241,
                        "remaining_time": 19.10560297,
                        "test": [
                          0.0001090548864
                        ]
                      },
                      {
                        "learn": [
                          0.0001025243192
                        ],
                        "iteration": 209,
                        "passed_time": 5.120789921,
                        "remaining_time": 19.26392399,
                        "test": [
                          0.0001082906343
                        ]
                      },
                      {
                        "learn": [
                          0.0001018363967
                        ],
                        "iteration": 210,
                        "passed_time": 5.148723218,
                        "remaining_time": 19.25280862,
                        "test": [
                          0.0001075576857
                        ]
                      },
                      {
                        "learn": [
                          0.0001012708288
                        ],
                        "iteration": 211,
                        "passed_time": 5.205853135,
                        "remaining_time": 19.35005788,
                        "test": [
                          0.0001069474454
                        ]
                      },
                      {
                        "learn": [
                          0.0001005895008
                        ],
                        "iteration": 212,
                        "passed_time": 5.285538221,
                        "remaining_time": 19.52919521,
                        "test": [
                          0.0001062222886
                        ]
                      },
                      {
                        "learn": [
                          0.0001000304839
                        ],
                        "iteration": 213,
                        "passed_time": 5.330934022,
                        "remaining_time": 19.57997262,
                        "test": [
                          0.0001056196415
                        ]
                      },
                      {
                        "learn": [
                          0.0000992188483
                        ],
                        "iteration": 214,
                        "passed_time": 5.400160525,
                        "remaining_time": 19.71686517,
                        "test": [
                          0.0001047632776
                        ]
                      },
                      {
                        "learn": [
                          0.000098666947
                        ],
                        "iteration": 215,
                        "passed_time": 5.495894065,
                        "remaining_time": 19.94805994,
                        "test": [
                          0.0001042151977
                        ]
                      },
                      {
                        "learn": [
                          0.00009798463263
                        ],
                        "iteration": 216,
                        "passed_time": 5.579759198,
                        "remaining_time": 20.13341683,
                        "test": [
                          0.000103489036
                        ]
                      },
                      {
                        "learn": [
                          0.00009743994618
                        ],
                        "iteration": 217,
                        "passed_time": 5.673355875,
                        "remaining_time": 20.35121236,
                        "test": [
                          0.0001029027541
                        ]
                      },
                      {
                        "learn": [
                          0.00009694737037
                        ],
                        "iteration": 218,
                        "passed_time": 5.72342782,
                        "remaining_time": 20.41094579,
                        "test": [
                          0.0001025744074
                        ]
                      },
                      {
                        "learn": [
                          0.00009628889662
                        ],
                        "iteration": 219,
                        "passed_time": 5.80637304,
                        "remaining_time": 20.58623169,
                        "test": [
                          0.0001019189921
                        ]
                      },
                      {
                        "learn": [
                          0.00009565746457
                        ],
                        "iteration": 220,
                        "passed_time": 5.858928743,
                        "remaining_time": 20.65206104,
                        "test": [
                          0.0001012224651
                        ]
                      },
                      {
                        "learn": [
                          0.00009499599445
                        ],
                        "iteration": 221,
                        "passed_time": 5.934379284,
                        "remaining_time": 20.79705893,
                        "test": [
                          0.0001005178983
                        ]
                      },
                      {
                        "learn": [
                          0.00009434020688
                        ],
                        "iteration": 222,
                        "passed_time": 5.995921778,
                        "remaining_time": 20.89161983,
                        "test": [
                          0.00009981978942
                        ]
                      },
                      {
                        "learn": [
                          0.00009381386462
                        ],
                        "iteration": 223,
                        "passed_time": 6.060840114,
                        "remaining_time": 20.99648182,
                        "test": [
                          0.00009929651176
                        ]
                      },
                      {
                        "learn": [
                          0.00009316720261
                        ],
                        "iteration": 224,
                        "passed_time": 6.140792849,
                        "remaining_time": 21.15161981,
                        "test": [
                          0.00009860852725
                        ]
                      },
                      {
                        "learn": [
                          0.00009264743001
                        ],
                        "iteration": 225,
                        "passed_time": 6.200282844,
                        "remaining_time": 21.234597,
                        "test": [
                          0.00009804981436
                        ]
                      },
                      {
                        "learn": [
                          0.00009213002099
                        ],
                        "iteration": 226,
                        "passed_time": 6.263798199,
                        "remaining_time": 21.33002647,
                        "test": [
                          0.0000976683955
                        ]
                      },
                      {
                        "learn": [
                          0.00009149575387
                        ],
                        "iteration": 227,
                        "passed_time": 6.395693057,
                        "remaining_time": 21.65559228,
                        "test": [
                          0.00009699260737
                        ]
                      },
                      {
                        "learn": [
                          0.00009098475943
                        ],
                        "iteration": 228,
                        "passed_time": 6.467711067,
                        "remaining_time": 21.7755687,
                        "test": [
                          0.00009644337985
                        ]
                      },
                      {
                        "learn": [
                          0.00009059523241
                        ],
                        "iteration": 229,
                        "passed_time": 6.516693327,
                        "remaining_time": 21.81675592,
                        "test": [
                          0.00009601583067
                        ]
                      },
                      {
                        "learn": [
                          0.00008997276463
                        ],
                        "iteration": 230,
                        "passed_time": 6.571165328,
                        "remaining_time": 21.87543782,
                        "test": [
                          0.00009535329973
                        ]
                      },
                      {
                        "learn": [
                          0.00008947006446
                        ],
                        "iteration": 231,
                        "passed_time": 6.613893415,
                        "remaining_time": 21.89426786,
                        "test": [
                          0.00009481353277
                        ]
                      },
                      {
                        "learn": [
                          0.00008896976511
                        ],
                        "iteration": 232,
                        "passed_time": 6.659002168,
                        "remaining_time": 21.92040628,
                        "test": [
                          0.00009427656986
                        ]
                      },
                      {
                        "learn": [
                          0.00008835863759
                        ],
                        "iteration": 233,
                        "passed_time": 6.703619754,
                        "remaining_time": 21.94432791,
                        "test": [
                          0.00009362696733
                        ]
                      },
                      {
                        "learn": [
                          0.00008786351829
                        ],
                        "iteration": 234,
                        "passed_time": 6.745195502,
                        "remaining_time": 21.95776408,
                        "test": [
                          0.00009313437911
                        ]
                      },
                      {
                        "learn": [
                          0.00008737102312
                        ],
                        "iteration": 235,
                        "passed_time": 6.805387077,
                        "remaining_time": 22.03099884,
                        "test": [
                          0.00009260623158
                        ]
                      },
                      {
                        "learn": [
                          0.00008677075199
                        ],
                        "iteration": 236,
                        "passed_time": 6.840515383,
                        "remaining_time": 22.02241872,
                        "test": [
                          0.00009196844079
                        ]
                      },
                      {
                        "learn": [
                          0.00008617486684
                        ],
                        "iteration": 237,
                        "passed_time": 6.89398527,
                        "remaining_time": 22.07233939,
                        "test": [
                          0.0000913357556
                        ]
                      },
                      {
                        "learn": [
                          0.00008582145125
                        ],
                        "iteration": 238,
                        "passed_time": 6.915225165,
                        "remaining_time": 22.01877134,
                        "test": [
                          0.00009094588117
                        ]
                      },
                      {
                        "learn": [
                          0.00008523436286
                        ],
                        "iteration": 239,
                        "passed_time": 6.933294098,
                        "remaining_time": 21.95543131,
                        "test": [
                          0.00009032293571
                        ]
                      },
                      {
                        "learn": [
                          0.00008465167907
                        ],
                        "iteration": 240,
                        "passed_time": 6.950821324,
                        "remaining_time": 21.89076093,
                        "test": [
                          0.00008970460576
                        ]
                      },
                      {
                        "learn": [
                          0.00008417602061
                        ],
                        "iteration": 241,
                        "passed_time": 6.9765195,
                        "remaining_time": 21.85207347,
                        "test": [
                          0.00008919594389
                        ]
                      },
                      {
                        "learn": [
                          0.00008370219222
                        ],
                        "iteration": 242,
                        "passed_time": 6.991136348,
                        "remaining_time": 21.77897208,
                        "test": [
                          0.00008872464039
                        ]
                      },
                      {
                        "learn": [
                          0.00008324806041
                        ],
                        "iteration": 243,
                        "passed_time": 7.018948975,
                        "remaining_time": 21.74723535,
                        "test": [
                          0.00008823594185
                        ]
                      },
                      {
                        "learn": [
                          0.00008279794236
                        ],
                        "iteration": 244,
                        "passed_time": 7.072660099,
                        "remaining_time": 21.7953403,
                        "test": [
                          0.0000877516293
                        ]
                      },
                      {
                        "learn": [
                          0.00008233186233
                        ],
                        "iteration": 245,
                        "passed_time": 7.126708714,
                        "remaining_time": 21.84365191,
                        "test": [
                          0.00008725389205
                        ]
                      },
                      {
                        "learn": [
                          0.00008186730839
                        ],
                        "iteration": 246,
                        "passed_time": 7.178486192,
                        "remaining_time": 21.88421094,
                        "test": [
                          0.00008679175754
                        ]
                      },
                      {
                        "learn": [
                          0.0000814262973
                        ],
                        "iteration": 247,
                        "passed_time": 7.233579247,
                        "remaining_time": 21.93407901,
                        "test": [
                          0.00008631743286
                        ]
                      },
                      {
                        "learn": [
                          0.00008087010929
                        ],
                        "iteration": 248,
                        "passed_time": 7.284059238,
                        "remaining_time": 21.96919071,
                        "test": [
                          0.0000857285144
                        ]
                      },
                      {
                        "learn": [
                          0.00008043662942
                        ],
                        "iteration": 249,
                        "passed_time": 7.351418825,
                        "remaining_time": 22.05425648,
                        "test": [
                          0.00008526260187
                        ]
                      },
                      {
                        "learn": [
                          0.00008000556898
                        ],
                        "iteration": 250,
                        "passed_time": 7.402392069,
                        "remaining_time": 22.0892098,
                        "test": [
                          0.00008480946264
                        ]
                      },
                      {
                        "learn": [
                          0.00007969636058
                        ],
                        "iteration": 251,
                        "passed_time": 7.417000149,
                        "remaining_time": 22.01554012,
                        "test": [
                          0.00008447717047
                        ]
                      },
                      {
                        "learn": [
                          0.00007924448069
                        ],
                        "iteration": 252,
                        "passed_time": 7.447554354,
                        "remaining_time": 21.98941938,
                        "test": [
                          0.00008402777825
                        ]
                      },
                      {
                        "learn": [
                          0.00007891336721
                        ],
                        "iteration": 253,
                        "passed_time": 7.466234005,
                        "remaining_time": 21.92838806,
                        "test": [
                          0.00008369870577
                        ]
                      },
                      {
                        "learn": [
                          0.00007858391631
                        ],
                        "iteration": 254,
                        "passed_time": 7.485197791,
                        "remaining_time": 21.86851904,
                        "test": [
                          0.00008337147577
                        ]
                      },
                      {
                        "learn": [
                          0.00007813753286
                        ],
                        "iteration": 255,
                        "passed_time": 7.49864981,
                        "remaining_time": 21.79295101,
                        "test": [
                          0.00008289564981
                        ]
                      },
                      {
                        "learn": [
                          0.00007781150016
                        ],
                        "iteration": 256,
                        "passed_time": 7.522052754,
                        "remaining_time": 21.746635,
                        "test": [
                          0.00008257137275
                        ]
                      },
                      {
                        "learn": [
                          0.00007739738809
                        ],
                        "iteration": 257,
                        "passed_time": 7.537281774,
                        "remaining_time": 21.67698867,
                        "test": [
                          0.00008212649058
                        ]
                      },
                      {
                        "learn": [
                          0.00007695635838
                        ],
                        "iteration": 258,
                        "passed_time": 7.577413202,
                        "remaining_time": 21.67900843,
                        "test": [
                          0.00008168722891
                        ]
                      },
                      {
                        "learn": [
                          0.00007642885603
                        ],
                        "iteration": 259,
                        "passed_time": 7.629759594,
                        "remaining_time": 21.71546961,
                        "test": [
                          0.00008112926666
                        ]
                      },
                      {
                        "learn": [
                          0.00007614245845
                        ],
                        "iteration": 260,
                        "passed_time": 7.679891495,
                        "remaining_time": 21.74498013,
                        "test": [
                          0.00008081257046
                        ]
                      },
                      {
                        "learn": [
                          0.00007562136447
                        ],
                        "iteration": 261,
                        "passed_time": 7.744293059,
                        "remaining_time": 21.81407739,
                        "test": [
                          0.00008026193471
                        ]
                      },
                      {
                        "learn": [
                          0.00007518840571
                        ],
                        "iteration": 262,
                        "passed_time": 7.771194107,
                        "remaining_time": 21.77707246,
                        "test": [
                          0.00007983083704
                        ]
                      },
                      {
                        "learn": [
                          0.00007491040165
                        ],
                        "iteration": 263,
                        "passed_time": 7.79201178,
                        "remaining_time": 21.72318436,
                        "test": [
                          0.00007952327881
                        ]
                      },
                      {
                        "learn": [
                          0.00007439758954
                        ],
                        "iteration": 264,
                        "passed_time": 7.834541348,
                        "remaining_time": 21.72976563,
                        "test": [
                          0.00007898165696
                        ]
                      },
                      {
                        "learn": [
                          0.00007420818598
                        ],
                        "iteration": 265,
                        "passed_time": 7.907898467,
                        "remaining_time": 21.82104314,
                        "test": [
                          0.00007879365543
                        ]
                      },
                      {
                        "learn": [
                          0.00007370025614
                        ],
                        "iteration": 266,
                        "passed_time": 7.948857632,
                        "remaining_time": 21.82214474,
                        "test": [
                          0.00007825750519
                        ]
                      },
                      {
                        "learn": [
                          0.00007319543433
                        ],
                        "iteration": 267,
                        "passed_time": 8.004604475,
                        "remaining_time": 21.86332267,
                        "test": [
                          0.00007772436373
                        ]
                      },
                      {
                        "learn": [
                          0.00007301132248
                        ],
                        "iteration": 268,
                        "passed_time": 8.068978604,
                        "remaining_time": 21.92722438,
                        "test": [
                          0.0000775416353
                        ]
                      },
                      {
                        "learn": [
                          0.00007251120303
                        ],
                        "iteration": 269,
                        "passed_time": 8.089695318,
                        "remaining_time": 21.87213919,
                        "test": [
                          0.00007701385379
                        ]
                      },
                      {
                        "learn": [
                          0.00007221151723
                        ],
                        "iteration": 270,
                        "passed_time": 8.113744626,
                        "remaining_time": 21.82627244,
                        "test": [
                          0.00007671539631
                        ]
                      },
                      {
                        "learn": [
                          0.00007183503028
                        ],
                        "iteration": 271,
                        "passed_time": 8.131338074,
                        "remaining_time": 21.7632872,
                        "test": [
                          0.00007631173117
                        ]
                      },
                      {
                        "learn": [
                          0.00007146116746
                        ],
                        "iteration": 272,
                        "passed_time": 8.171451425,
                        "remaining_time": 21.76060508,
                        "test": [
                          0.00007591065295
                        ]
                      },
                      {
                        "learn": [
                          0.00007116667411
                        ],
                        "iteration": 273,
                        "passed_time": 8.230570691,
                        "remaining_time": 21.80800847,
                        "test": [
                          0.00007559126437
                        ]
                      },
                      {
                        "learn": [
                          0.0000707545348
                        ],
                        "iteration": 274,
                        "passed_time": 8.250463127,
                        "remaining_time": 21.75122097,
                        "test": [
                          0.00007515413055
                        ]
                      },
                      {
                        "learn": [
                          0.00007058141581
                        ],
                        "iteration": 275,
                        "passed_time": 8.293712739,
                        "remaining_time": 21.7559711,
                        "test": [
                          0.00007498216545
                        ]
                      },
                      {
                        "learn": [
                          0.00007009668761
                        ],
                        "iteration": 276,
                        "passed_time": 8.32718598,
                        "remaining_time": 21.73485727,
                        "test": [
                          0.000074471506
                        ]
                      },
                      {
                        "learn": [
                          0.00006973333378
                        ],
                        "iteration": 277,
                        "passed_time": 8.353129238,
                        "remaining_time": 21.69409824,
                        "test": [
                          0.00007408216509
                        ]
                      },
                      {
                        "learn": [
                          0.00006944612971
                        ],
                        "iteration": 278,
                        "passed_time": 8.417258355,
                        "remaining_time": 21.75212643,
                        "test": [
                          0.00007377107078
                        ]
                      },
                      {
                        "learn": [
                          0.00006912508475
                        ],
                        "iteration": 279,
                        "passed_time": 8.431687875,
                        "remaining_time": 21.68148311,
                        "test": [
                          0.00007341218977
                        ]
                      },
                      {
                        "learn": [
                          0.00006884051724
                        ],
                        "iteration": 280,
                        "passed_time": 8.458631758,
                        "remaining_time": 21.64326062,
                        "test": [
                          0.00007310414146
                        ]
                      },
                      {
                        "learn": [
                          0.00006855722148
                        ],
                        "iteration": 281,
                        "passed_time": 8.472609573,
                        "remaining_time": 21.57210523,
                        "test": [
                          0.00007279755099
                        ]
                      },
                      {
                        "learn": [
                          0.00006827516644
                        ],
                        "iteration": 282,
                        "passed_time": 8.497496784,
                        "remaining_time": 21.52899362,
                        "test": [
                          0.00007249251145
                        ]
                      },
                      {
                        "learn": [
                          0.00006792291713
                        ],
                        "iteration": 283,
                        "passed_time": 8.515468225,
                        "remaining_time": 21.46857482,
                        "test": [
                          0.00007211578255
                        ]
                      },
                      {
                        "learn": [
                          0.00006764336837
                        ],
                        "iteration": 284,
                        "passed_time": 8.558522534,
                        "remaining_time": 21.47138109,
                        "test": [
                          0.00007183789636
                        ]
                      },
                      {
                        "learn": [
                          0.0000672950894
                        ],
                        "iteration": 285,
                        "passed_time": 8.634310831,
                        "remaining_time": 21.55558718,
                        "test": [
                          0.00007146522465
                        ]
                      },
                      {
                        "learn": [
                          0.00006694915541
                        ],
                        "iteration": 286,
                        "passed_time": 8.675241222,
                        "remaining_time": 21.55208011,
                        "test": [
                          0.00007109543143
                        ]
                      },
                      {
                        "learn": [
                          0.00006660538649
                        ],
                        "iteration": 287,
                        "passed_time": 8.690082403,
                        "remaining_time": 21.48381483,
                        "test": [
                          0.00007072845466
                        ]
                      },
                      {
                        "learn": [
                          0.00006633163814
                        ],
                        "iteration": 288,
                        "passed_time": 8.708197342,
                        "remaining_time": 21.42397339,
                        "test": [
                          0.00007045566788
                        ]
                      },
                      {
                        "learn": [
                          0.00006605892579
                        ],
                        "iteration": 289,
                        "passed_time": 8.737781489,
                        "remaining_time": 21.39249951,
                        "test": [
                          0.00007018422108
                        ]
                      },
                      {
                        "learn": [
                          0.00006572039275
                        ],
                        "iteration": 290,
                        "passed_time": 8.755911668,
                        "remaining_time": 21.33313187,
                        "test": [
                          0.00006982246778
                        ]
                      },
                      {
                        "learn": [
                          0.00006538407441
                        ],
                        "iteration": 291,
                        "passed_time": 8.771919942,
                        "remaining_time": 21.26890178,
                        "test": [
                          0.0000694632766
                        ]
                      },
                      {
                        "learn": [
                          0.00006523434318
                        ],
                        "iteration": 292,
                        "passed_time": 8.791195892,
                        "remaining_time": 21.21288565,
                        "test": [
                          0.00006929254601
                        ]
                      },
                      {
                        "learn": [
                          0.00006478269903
                        ],
                        "iteration": 293,
                        "passed_time": 8.833584719,
                        "remaining_time": 21.21262181,
                        "test": [
                          0.00006881822754
                        ]
                      },
                      {
                        "learn": [
                          0.00006463527555
                        ],
                        "iteration": 294,
                        "passed_time": 8.915834508,
                        "remaining_time": 21.30733332,
                        "test": [
                          0.00006867205099
                        ]
                      },
                      {
                        "learn": [
                          0.00006425123255
                        ],
                        "iteration": 295,
                        "passed_time": 8.962248903,
                        "remaining_time": 21.31561901,
                        "test": [
                          0.00006826707068
                        ]
                      },
                      {
                        "learn": [
                          0.00006404208899
                        ],
                        "iteration": 296,
                        "passed_time": 9.018275769,
                        "remaining_time": 21.34628911,
                        "test": [
                          0.00006803587315
                        ]
                      },
                      {
                        "learn": [
                          0.00006377915359
                        ],
                        "iteration": 297,
                        "passed_time": 9.059137332,
                        "remaining_time": 21.34065237,
                        "test": [
                          0.00006777427154
                        ]
                      },
                      {
                        "learn": [
                          0.00006345446709
                        ],
                        "iteration": 298,
                        "passed_time": 9.109724646,
                        "remaining_time": 21.35758186,
                        "test": [
                          0.00006742762413
                        ]
                      },
                      {
                        "learn": [
                          0.00006325078274
                        ],
                        "iteration": 299,
                        "passed_time": 9.154215998,
                        "remaining_time": 21.35983733,
                        "test": [
                          0.00006720252478
                        ]
                      },
                      {
                        "learn": [
                          0.00006292044471
                        ],
                        "iteration": 300,
                        "passed_time": 9.18989247,
                        "remaining_time": 21.34131175,
                        "test": [
                          0.00006684284971
                        ]
                      },
                      {
                        "learn": [
                          0.00006278068894
                        ],
                        "iteration": 301,
                        "passed_time": 9.230894491,
                        "remaining_time": 21.33498131,
                        "test": [
                          0.00006668349041
                        ]
                      },
                      {
                        "learn": [
                          0.00006240403449
                        ],
                        "iteration": 302,
                        "passed_time": 9.256541231,
                        "remaining_time": 21.29309979,
                        "test": [
                          0.00006630789057
                        ]
                      },
                      {
                        "learn": [
                          0.00006220556119
                        ],
                        "iteration": 303,
                        "passed_time": 9.302613562,
                        "remaining_time": 21.29808894,
                        "test": [
                          0.00006608857923
                        ]
                      },
                      {
                        "learn": [
                          0.00006184624593
                        ],
                        "iteration": 304,
                        "passed_time": 9.347962324,
                        "remaining_time": 21.30109448,
                        "test": [
                          0.00006571508863
                        ]
                      },
                      {
                        "learn": [
                          0.00006171059077
                        ],
                        "iteration": 305,
                        "passed_time": 9.377698357,
                        "remaining_time": 21.26837471,
                        "test": [
                          0.00006556028282
                        ]
                      },
                      {
                        "learn": [
                          0.00006151631735
                        ],
                        "iteration": 306,
                        "passed_time": 9.439793424,
                        "remaining_time": 21.30871936,
                        "test": [
                          0.00006534540708
                        ]
                      },
                      {
                        "learn": [
                          0.00006114464442
                        ],
                        "iteration": 307,
                        "passed_time": 9.468253335,
                        "remaining_time": 21.27282892,
                        "test": [
                          0.00006497519821
                        ]
                      },
                      {
                        "learn": [
                          0.00006101175609
                        ],
                        "iteration": 308,
                        "passed_time": 9.505065745,
                        "remaining_time": 21.25566482,
                        "test": [
                          0.00006484338311
                        ]
                      },
                      {
                        "learn": [
                          0.00006058379127
                        ],
                        "iteration": 309,
                        "passed_time": 9.578349515,
                        "remaining_time": 21.31955215,
                        "test": [
                          0.00006439523782
                        ]
                      },
                      {
                        "learn": [
                          0.00006039544853
                        ],
                        "iteration": 310,
                        "passed_time": 9.631417833,
                        "remaining_time": 21.33777134,
                        "test": [
                          0.00006418674564
                        ]
                      },
                      {
                        "learn": [
                          0.00006020877458
                        ],
                        "iteration": 311,
                        "passed_time": 9.687402285,
                        "remaining_time": 21.36196401,
                        "test": [
                          0.0000639805426
                        ]
                      },
                      {
                        "learn": [
                          0.00005984260428
                        ],
                        "iteration": 312,
                        "passed_time": 9.741562854,
                        "remaining_time": 21.38164115,
                        "test": [
                          0.00006359602812
                        ]
                      },
                      {
                        "learn": [
                          0.00005971498285
                        ],
                        "iteration": 313,
                        "passed_time": 9.800649655,
                        "remaining_time": 21.41161039,
                        "test": [
                          0.0000634505712
                        ]
                      },
                      {
                        "learn": [
                          0.00005946938045
                        ],
                        "iteration": 314,
                        "passed_time": 9.867034445,
                        "remaining_time": 21.45688443,
                        "test": [
                          0.00006318689137
                        ]
                      },
                      {
                        "learn": [
                          0.0000591687765
                        ],
                        "iteration": 315,
                        "passed_time": 9.909216444,
                        "remaining_time": 21.44906344,
                        "test": [
                          0.00006286740353
                        ]
                      },
                      {
                        "learn": [
                          0.0000590439219
                        ],
                        "iteration": 316,
                        "passed_time": 9.952637787,
                        "remaining_time": 21.44369593,
                        "test": [
                          0.00006274341122
                        ]
                      },
                      {
                        "learn": [
                          0.00005880080716
                        ],
                        "iteration": 317,
                        "passed_time": 10.02586462,
                        "remaining_time": 21.50201155,
                        "test": [
                          0.00006250130148
                        ]
                      },
                      {
                        "learn": [
                          0.00005855863537
                        ],
                        "iteration": 318,
                        "passed_time": 10.07329519,
                        "remaining_time": 21.50443268,
                        "test": [
                          0.00006224167263
                        ]
                      },
                      {
                        "learn": [
                          0.00005838185623
                        ],
                        "iteration": 319,
                        "passed_time": 10.13358174,
                        "remaining_time": 21.53386119,
                        "test": [
                          0.00006204631356
                        ]
                      },
                      {
                        "learn": [
                          0.00005796879257
                        ],
                        "iteration": 320,
                        "passed_time": 10.15453794,
                        "remaining_time": 21.47953665,
                        "test": [
                          0.00006161479405
                        ]
                      },
                      {
                        "learn": [
                          0.00005786328093
                        ],
                        "iteration": 321,
                        "passed_time": 10.19331393,
                        "remaining_time": 21.46294051,
                        "test": [
                          0.0000615587565
                        ]
                      },
                      {
                        "learn": [
                          0.00005757167228
                        ],
                        "iteration": 322,
                        "passed_time": 10.21646601,
                        "remaining_time": 21.41345972,
                        "test": [
                          0.00006124883468
                        ]
                      },
                      {
                        "learn": [
                          0.00005728147186
                        ],
                        "iteration": 323,
                        "passed_time": 10.24403105,
                        "remaining_time": 21.37334873,
                        "test": [
                          0.00006094048239
                        ]
                      },
                      {
                        "learn": [
                          0.0000571118083
                        ],
                        "iteration": 324,
                        "passed_time": 10.27267255,
                        "remaining_time": 21.33555068,
                        "test": [
                          0.0000607525677
                        ]
                      },
                      {
                        "learn": [
                          0.00005687618137
                        ],
                        "iteration": 325,
                        "passed_time": 10.28791272,
                        "remaining_time": 21.27010177,
                        "test": [
                          0.00006050032119
                        ]
                      },
                      {
                        "learn": [
                          0.00005664107553
                        ],
                        "iteration": 326,
                        "passed_time": 10.31704396,
                        "remaining_time": 21.23354919,
                        "test": [
                          0.00006026611489
                        ]
                      },
                      {
                        "learn": [
                          0.0000565257001
                        ],
                        "iteration": 327,
                        "passed_time": 10.33652352,
                        "remaining_time": 21.17726771,
                        "test": [
                          0.0000601515025
                        ]
                      },
                      {
                        "learn": [
                          0.00005629205212
                        ],
                        "iteration": 328,
                        "passed_time": 10.36741927,
                        "remaining_time": 21.14449341,
                        "test": [
                          0.00005991855554
                        ]
                      },
                      {
                        "learn": [
                          0.00005600881219
                        ],
                        "iteration": 329,
                        "passed_time": 10.39227807,
                        "remaining_time": 21.09947366,
                        "test": [
                          0.00005961756697
                        ]
                      },
                      {
                        "learn": [
                          0.00005584582997
                        ],
                        "iteration": 330,
                        "passed_time": 10.42009783,
                        "remaining_time": 21.06056027,
                        "test": [
                          0.00005943721453
                        ]
                      },
                      {
                        "learn": [
                          0.0000556149116
                        ],
                        "iteration": 331,
                        "passed_time": 10.4463638,
                        "remaining_time": 21.01858741,
                        "test": [
                          0.00005919006122
                        ]
                      },
                      {
                        "learn": [
                          0.0000553354683
                        ],
                        "iteration": 332,
                        "passed_time": 10.48078534,
                        "remaining_time": 20.9930445,
                        "test": [
                          0.00005889334697
                        ]
                      },
                      {
                        "learn": [
                          0.00005522494411
                        ],
                        "iteration": 333,
                        "passed_time": 10.50903993,
                        "remaining_time": 20.95515148,
                        "test": [
                          0.00005878344315
                        ]
                      },
                      {
                        "learn": [
                          0.00005494765348
                        ],
                        "iteration": 334,
                        "passed_time": 10.54461004,
                        "remaining_time": 20.93183784,
                        "test": [
                          0.00005848914832
                        ]
                      },
                      {
                        "learn": [
                          0.00005479063296
                        ],
                        "iteration": 335,
                        "passed_time": 10.56596463,
                        "remaining_time": 20.88035868,
                        "test": [
                          0.00005831518563
                        ]
                      },
                      {
                        "learn": [
                          0.00005451609674
                        ],
                        "iteration": 336,
                        "passed_time": 10.58397533,
                        "remaining_time": 20.82247965,
                        "test": [
                          0.00005802406707
                        ]
                      },
                      {
                        "learn": [
                          0.00005430179174
                        ],
                        "iteration": 337,
                        "passed_time": 10.61427497,
                        "remaining_time": 20.78890541,
                        "test": [
                          0.00005779837837
                        ]
                      },
                      {
                        "learn": [
                          0.00005414815841
                        ],
                        "iteration": 338,
                        "passed_time": 10.64244773,
                        "remaining_time": 20.75120339,
                        "test": [
                          0.00005762830538
                        ]
                      },
                      {
                        "learn": [
                          0.00005392341267
                        ],
                        "iteration": 339,
                        "passed_time": 10.67899202,
                        "remaining_time": 20.72980804,
                        "test": [
                          0.00005740427306
                        ]
                      },
                      {
                        "learn": [
                          0.00005372751389
                        ],
                        "iteration": 340,
                        "passed_time": 10.72237233,
                        "remaining_time": 20.7215348,
                        "test": [
                          0.0000572713351
                        ]
                      },
                      {
                        "learn": [
                          0.00005362299484
                        ],
                        "iteration": 341,
                        "passed_time": 10.75189945,
                        "remaining_time": 20.68640303,
                        "test": [
                          0.00005715141239
                        ]
                      },
                      {
                        "learn": [
                          0.00005341149389
                        ],
                        "iteration": 342,
                        "passed_time": 10.77843261,
                        "remaining_time": 20.64556917,
                        "test": [
                          0.00005692903644
                        ]
                      },
                      {
                        "learn": [
                          0.00005330806047
                        ],
                        "iteration": 343,
                        "passed_time": 10.80587272,
                        "remaining_time": 20.60654799,
                        "test": [
                          0.00005681046613
                        ]
                      },
                      {
                        "learn": [
                          0.00005308637313
                        ],
                        "iteration": 344,
                        "passed_time": 10.84726055,
                        "remaining_time": 20.59407439,
                        "test": [
                          0.00005657377216
                        ]
                      },
                      {
                        "learn": [
                          0.00005296234981
                        ],
                        "iteration": 345,
                        "passed_time": 10.89760816,
                        "remaining_time": 20.59836918,
                        "test": [
                          0.00005642593924
                        ]
                      },
                      {
                        "learn": [
                          0.00005274172329
                        ],
                        "iteration": 346,
                        "passed_time": 10.94781481,
                        "remaining_time": 20.60208378,
                        "test": [
                          0.00005620596411
                        ]
                      },
                      {
                        "learn": [
                          0.00005250044483
                        ],
                        "iteration": 347,
                        "passed_time": 11.02460593,
                        "remaining_time": 20.65529617,
                        "test": [
                          0.00005594116762
                        ]
                      },
                      {
                        "learn": [
                          0.00005240015667
                        ],
                        "iteration": 348,
                        "passed_time": 11.08251133,
                        "remaining_time": 20.67253546,
                        "test": [
                          0.00005582648699
                        ]
                      },
                      {
                        "learn": [
                          0.0000521814905
                        ],
                        "iteration": 349,
                        "passed_time": 11.12292605,
                        "remaining_time": 20.65686267,
                        "test": [
                          0.00005560816823
                        ]
                      },
                      {
                        "learn": [
                          0.00005191924682
                        ],
                        "iteration": 350,
                        "passed_time": 11.1754108,
                        "remaining_time": 20.66336641,
                        "test": [
                          0.00005533031927
                        ]
                      },
                      {
                        "learn": [
                          0.00005177694135
                        ],
                        "iteration": 351,
                        "passed_time": 11.23032692,
                        "remaining_time": 20.67401093,
                        "test": [
                          0.00005517265357
                        ]
                      },
                      {
                        "learn": [
                          0.0000516358611
                        ],
                        "iteration": 352,
                        "passed_time": 11.28367469,
                        "remaining_time": 20.68140942,
                        "test": [
                          0.0000550160549
                        ]
                      },
                      {
                        "learn": [
                          0.00005142015407
                        ],
                        "iteration": 353,
                        "passed_time": 11.3379009,
                        "remaining_time": 20.69006775,
                        "test": [
                          0.00005478634003
                        ]
                      },
                      {
                        "learn": [
                          0.00005120493093
                        ],
                        "iteration": 354,
                        "passed_time": 11.40612766,
                        "remaining_time": 20.72380942,
                        "test": [
                          0.00005455738822
                        ]
                      },
                      {
                        "learn": [
                          0.00005106657408
                        ],
                        "iteration": 355,
                        "passed_time": 11.44619746,
                        "remaining_time": 20.7060426,
                        "test": [
                          0.00005440370526
                        ]
                      },
                      {
                        "learn": [
                          0.00005097154041
                        ],
                        "iteration": 356,
                        "passed_time": 11.46435388,
                        "remaining_time": 20.64868221,
                        "test": [
                          0.00005429502977
                        ]
                      },
                      {
                        "learn": [
                          0.00005071591912
                        ],
                        "iteration": 357,
                        "passed_time": 11.47604892,
                        "remaining_time": 20.57995365,
                        "test": [
                          0.00005402474305
                        ]
                      },
                      {
                        "learn": [
                          0.00005050309368
                        ],
                        "iteration": 358,
                        "passed_time": 11.52827327,
                        "remaining_time": 20.58390854,
                        "test": [
                          0.00005381242942
                        ]
                      },
                      {
                        "learn": [
                          0.00005036821708
                        ],
                        "iteration": 359,
                        "passed_time": 11.54253954,
                        "remaining_time": 20.52007029,
                        "test": [
                          0.00005366300216
                        ]
                      },
                      {
                        "learn": [
                          0.00005027584477
                        ],
                        "iteration": 360,
                        "passed_time": 11.55607534,
                        "remaining_time": 20.45521369,
                        "test": [
                          0.00005355713072
                        ]
                      },
                      {
                        "learn": [
                          0.00004994573008
                        ],
                        "iteration": 361,
                        "passed_time": 11.57053199,
                        "remaining_time": 20.39226355,
                        "test": [
                          0.00005322767981
                        ]
                      },
                      {
                        "learn": [
                          0.00004981329461
                        ],
                        "iteration": 362,
                        "passed_time": 11.58743861,
                        "remaining_time": 20.33387987,
                        "test": [
                          0.00005308076504
                        ]
                      },
                      {
                        "learn": [
                          0.0000496819696
                        ],
                        "iteration": 363,
                        "passed_time": 11.60091346,
                        "remaining_time": 20.26972792,
                        "test": [
                          0.00005293502895
                        ]
                      },
                      {
                        "learn": [
                          0.00004955152861
                        ],
                        "iteration": 364,
                        "passed_time": 11.61622849,
                        "remaining_time": 20.20905504,
                        "test": [
                          0.00005279045295
                        ]
                      },
                      {
                        "learn": [
                          0.00004922424898
                        ],
                        "iteration": 365,
                        "passed_time": 11.63145979,
                        "remaining_time": 20.14848499,
                        "test": [
                          0.00005245046205
                        ]
                      },
                      {
                        "learn": [
                          0.00004913516461
                        ],
                        "iteration": 366,
                        "passed_time": 11.65008193,
                        "remaining_time": 20.09401053,
                        "test": [
                          0.00005236190498
                        ]
                      },
                      {
                        "learn": [
                          0.00004906318058
                        ],
                        "iteration": 367,
                        "passed_time": 11.67933011,
                        "remaining_time": 20.05797997,
                        "test": [
                          0.00005227372633
                        ]
                      },
                      {
                        "learn": [
                          0.00004897513842
                        ],
                        "iteration": 368,
                        "passed_time": 11.73676494,
                        "remaining_time": 20.07018612,
                        "test": [
                          0.00005217301632
                        ]
                      },
                      {
                        "learn": [
                          0.00004861038566
                        ],
                        "iteration": 369,
                        "passed_time": 11.79371079,
                        "remaining_time": 20.08118323,
                        "test": [
                          0.00005179441702
                        ]
                      },
                      {
                        "learn": [
                          0.00004848453537
                        ],
                        "iteration": 370,
                        "passed_time": 11.85004207,
                        "remaining_time": 20.09077214,
                        "test": [
                          0.00005165478843
                        ]
                      },
                      {
                        "learn": [
                          0.00004835959701
                        ],
                        "iteration": 371,
                        "passed_time": 11.90358411,
                        "remaining_time": 20.09529791,
                        "test": [
                          0.00005151633853
                        ]
                      },
                      {
                        "learn": [
                          0.00004827385019
                        ],
                        "iteration": 372,
                        "passed_time": 11.95609341,
                        "remaining_time": 20.09777632,
                        "test": [
                          0.00005141823715
                        ]
                      },
                      {
                        "learn": [
                          0.00004791258388
                        ],
                        "iteration": 373,
                        "passed_time": 12.02756407,
                        "remaining_time": 20.13169815,
                        "test": [
                          0.00005104391526
                        ]
                      },
                      {
                        "learn": [
                          0.00004780628438
                        ],
                        "iteration": 374,
                        "passed_time": 12.08237982,
                        "remaining_time": 20.1372997,
                        "test": [
                          0.00005091881871
                        ]
                      },
                      {
                        "learn": [
                          0.00004768463396
                        ],
                        "iteration": 375,
                        "passed_time": 12.13309068,
                        "remaining_time": 20.13576751,
                        "test": [
                          0.00005078404447
                        ]
                      },
                      {
                        "learn": [
                          0.00004760106773
                        ],
                        "iteration": 376,
                        "passed_time": 12.15208863,
                        "remaining_time": 20.08156821,
                        "test": [
                          0.00005068857344
                        ]
                      },
                      {
                        "learn": [
                          0.00004728003828
                        ],
                        "iteration": 377,
                        "passed_time": 12.17489208,
                        "remaining_time": 20.03381712,
                        "test": [
                          0.00005036812403
                        ]
                      },
                      {
                        "learn": [
                          0.00004719739639
                        ],
                        "iteration": 378,
                        "passed_time": 12.19022721,
                        "remaining_time": 19.97396068,
                        "test": [
                          0.00005027370451
                        ]
                      },
                      {
                        "learn": [
                          0.00004711502746
                        ],
                        "iteration": 379,
                        "passed_time": 12.20746629,
                        "remaining_time": 19.917445,
                        "test": [
                          0.00005019194044
                        ]
                      },
                      {
                        "learn": [
                          0.00004701225163
                        ],
                        "iteration": 380,
                        "passed_time": 12.22412658,
                        "remaining_time": 19.86019515,
                        "test": [
                          0.0000500709383
                        ]
                      },
                      {
                        "learn": [
                          0.0000469309032
                        ],
                        "iteration": 381,
                        "passed_time": 12.24057932,
                        "remaining_time": 19.80282204,
                        "test": [
                          0.00004999023195
                        ]
                      },
                      {
                        "learn": [
                          0.00004661219081
                        ],
                        "iteration": 382,
                        "passed_time": 12.26839867,
                        "remaining_time": 19.76397384,
                        "test": [
                          0.00004965994975
                        ]
                      },
                      {
                        "learn": [
                          0.00004653152789
                        ],
                        "iteration": 383,
                        "passed_time": 12.28759221,
                        "remaining_time": 19.71134584,
                        "test": [
                          0.00004958011812
                        ]
                      },
                      {
                        "learn": [
                          0.00004641564375
                        ],
                        "iteration": 384,
                        "passed_time": 12.30250686,
                        "remaining_time": 19.65205642,
                        "test": [
                          0.00004945168711
                        ]
                      },
                      {
                        "learn": [
                          0.00004630060331
                        ],
                        "iteration": 385,
                        "passed_time": 12.31612936,
                        "remaining_time": 19.59094152,
                        "test": [
                          0.0000493241091
                        ]
                      },
                      {
                        "learn": [
                          0.000046102769
                        ],
                        "iteration": 386,
                        "passed_time": 12.35940485,
                        "remaining_time": 19.57704179,
                        "test": [
                          0.00004911486937
                        ]
                      },
                      {
                        "learn": [
                          0.00004590515801
                        ],
                        "iteration": 387,
                        "passed_time": 12.37646704,
                        "remaining_time": 19.52164388,
                        "test": [
                          0.00004891807417
                        ]
                      },
                      {
                        "learn": [
                          0.00004579206552
                        ],
                        "iteration": 388,
                        "passed_time": 12.40537186,
                        "remaining_time": 19.48504424,
                        "test": [
                          0.00004879254646
                        ]
                      },
                      {
                        "learn": [
                          0.00004567976709
                        ],
                        "iteration": 389,
                        "passed_time": 12.43504632,
                        "remaining_time": 19.44968783,
                        "test": [
                          0.00004866808578
                        ]
                      },
                      {
                        "learn": [
                          0.00004556836509
                        ],
                        "iteration": 390,
                        "passed_time": 12.46476888,
                        "remaining_time": 19.41443542,
                        "test": [
                          0.00004854469213
                        ]
                      },
                      {
                        "learn": [
                          0.00004521992172
                        ],
                        "iteration": 391,
                        "passed_time": 12.48646305,
                        "remaining_time": 19.36675902,
                        "test": [
                          0.00004818398105
                        ]
                      },
                      {
                        "learn": [
                          0.00004510991244
                        ],
                        "iteration": 392,
                        "passed_time": 12.50087648,
                        "remaining_time": 19.30796952,
                        "test": [
                          0.0000480624547
                        ]
                      },
                      {
                        "learn": [
                          0.00004503453813
                        ],
                        "iteration": 393,
                        "passed_time": 12.51939308,
                        "remaining_time": 19.25571626,
                        "test": [
                          0.00004797590451
                        ]
                      },
                      {
                        "learn": [
                          0.00004495940265
                        ],
                        "iteration": 394,
                        "passed_time": 12.56168987,
                        "remaining_time": 19.24005664,
                        "test": [
                          0.00004789025075
                        ]
                      },
                      {
                        "learn": [
                          0.00004485133201
                        ],
                        "iteration": 395,
                        "passed_time": 12.58562793,
                        "remaining_time": 19.19626078,
                        "test": [
                          0.0000477702474
                        ]
                      },
                      {
                        "learn": [
                          0.00004450620449
                        ],
                        "iteration": 396,
                        "passed_time": 12.62436492,
                        "remaining_time": 19.17504294,
                        "test": [
                          0.00004741353457
                        ]
                      },
                      {
                        "learn": [
                          0.000044416751
                        ],
                        "iteration": 397,
                        "passed_time": 12.66027974,
                        "remaining_time": 19.14946836,
                        "test": [
                          0.00004730734053
                        ]
                      },
                      {
                        "learn": [
                          0.00004434361309
                        ],
                        "iteration": 398,
                        "passed_time": 12.73380677,
                        "remaining_time": 19.18049591,
                        "test": [
                          0.00004722352925
                        ]
                      },
                      {
                        "learn": [
                          0.00004427047519
                        ],
                        "iteration": 399,
                        "passed_time": 12.79142256,
                        "remaining_time": 19.18713384,
                        "test": [
                          0.00004718569941
                        ]
                      },
                      {
                        "learn": [
                          0.00004419796386
                        ],
                        "iteration": 400,
                        "passed_time": 12.844423,
                        "remaining_time": 19.18655706,
                        "test": [
                          0.00004710265738
                        ]
                      },
                      {
                        "learn": [
                          0.00004385561247
                        ],
                        "iteration": 401,
                        "passed_time": 12.87090609,
                        "remaining_time": 19.14627325,
                        "test": [
                          0.00004674895022
                        ]
                      },
                      {
                        "learn": [
                          0.00004375187818
                        ],
                        "iteration": 402,
                        "passed_time": 12.90227125,
                        "remaining_time": 19.11329016,
                        "test": [
                          0.00004663402765
                        ]
                      },
                      {
                        "learn": [
                          0.00004364885111
                        ],
                        "iteration": 403,
                        "passed_time": 12.98320438,
                        "remaining_time": 19.15344013,
                        "test": [
                          0.00004651979679
                        ]
                      },
                      {
                        "learn": [
                          0.00004354655606
                        ],
                        "iteration": 404,
                        "passed_time": 13.05790135,
                        "remaining_time": 19.18383038,
                        "test": [
                          0.00004640622662
                        ]
                      },
                      {
                        "learn": [
                          0.00004347633698
                        ],
                        "iteration": 405,
                        "passed_time": 13.15213902,
                        "remaining_time": 19.24229206,
                        "test": [
                          0.00004632591109
                        ]
                      },
                      {
                        "learn": [
                          0.00004328727151
                        ],
                        "iteration": 406,
                        "passed_time": 13.2194063,
                        "remaining_time": 19.26070746,
                        "test": [
                          0.00004613767382
                        ]
                      },
                      {
                        "learn": [
                          0.0000430986248
                        ],
                        "iteration": 407,
                        "passed_time": 13.28094,
                        "remaining_time": 19.27038353,
                        "test": [
                          0.00004594944275
                        ]
                      },
                      {
                        "learn": [
                          0.00004302924941
                        ],
                        "iteration": 408,
                        "passed_time": 13.32457084,
                        "remaining_time": 19.25384197,
                        "test": [
                          0.00004587029041
                        ]
                      },
                      {
                        "learn": [
                          0.00004296038272
                        ],
                        "iteration": 409,
                        "passed_time": 13.3717588,
                        "remaining_time": 19.24228706,
                        "test": [
                          0.00004579133349
                        ]
                      },
                      {
                        "learn": [
                          0.00004289173316
                        ],
                        "iteration": 410,
                        "passed_time": 13.40569022,
                        "remaining_time": 19.21156092,
                        "test": [
                          0.00004571296591
                        ]
                      },
                      {
                        "learn": [
                          0.00004267395721
                        ],
                        "iteration": 411,
                        "passed_time": 13.4583793,
                        "remaining_time": 19.20758988,
                        "test": [
                          0.00004548430877
                        ]
                      },
                      {
                        "learn": [
                          0.00004245683886
                        ],
                        "iteration": 412,
                        "passed_time": 13.50445489,
                        "remaining_time": 19.1939831,
                        "test": [
                          0.00004525641468
                        ]
                      },
                      {
                        "learn": [
                          0.00004235926479
                        ],
                        "iteration": 413,
                        "passed_time": 13.55492169,
                        "remaining_time": 19.18643505,
                        "test": [
                          0.00004514830372
                        ]
                      },
                      {
                        "learn": [
                          0.00004229220956
                        ],
                        "iteration": 414,
                        "passed_time": 13.61695453,
                        "remaining_time": 19.1949841,
                        "test": [
                          0.00004508169825
                        ]
                      },
                      {
                        "learn": [
                          0.00004222558239
                        ],
                        "iteration": 415,
                        "passed_time": 13.65750447,
                        "remaining_time": 19.17303512,
                        "test": [
                          0.00004500565705
                        ]
                      },
                      {
                        "learn": [
                          0.00004204029495
                        ],
                        "iteration": 416,
                        "passed_time": 13.69735597,
                        "remaining_time": 19.15002045,
                        "test": [
                          0.00004481073224
                        ]
                      },
                      {
                        "learn": [
                          0.00004197410824
                        ],
                        "iteration": 417,
                        "passed_time": 13.73834162,
                        "remaining_time": 19.12850435,
                        "test": [
                          0.0000447451814
                        ]
                      },
                      {
                        "learn": [
                          0.0000417600824
                        ],
                        "iteration": 418,
                        "passed_time": 13.77887342,
                        "remaining_time": 19.10626601,
                        "test": [
                          0.00004452080477
                        ]
                      },
                      {
                        "learn": [
                          0.0000416655264
                        ],
                        "iteration": 419,
                        "passed_time": 13.82131468,
                        "remaining_time": 19.08657742,
                        "test": [
                          0.0000444159135
                        ]
                      },
                      {
                        "learn": [
                          0.00004160589074
                        ],
                        "iteration": 420,
                        "passed_time": 13.87211915,
                        "remaining_time": 19.07828264,
                        "test": [
                          0.00004434172098
                        ]
                      },
                      {
                        "learn": [
                          0.00004154128285
                        ],
                        "iteration": 421,
                        "passed_time": 13.92298256,
                        "remaining_time": 19.0698671,
                        "test": [
                          0.00004426763392
                        ]
                      },
                      {
                        "learn": [
                          0.00004132921737
                        ],
                        "iteration": 422,
                        "passed_time": 13.96109108,
                        "remaining_time": 19.04385238,
                        "test": [
                          0.00004404559297
                        ]
                      },
                      {
                        "learn": [
                          0.00004123671478
                        ],
                        "iteration": 423,
                        "passed_time": 14.00348621,
                        "remaining_time": 19.02360391,
                        "test": [
                          0.00004394292881
                        ]
                      },
                      {
                        "learn": [
                          0.00004105427482
                        ],
                        "iteration": 424,
                        "passed_time": 14.0453675,
                        "remaining_time": 19.00255604,
                        "test": [
                          0.00004375168587
                        ]
                      },
                      {
                        "learn": [
                          0.0000409909852
                        ],
                        "iteration": 425,
                        "passed_time": 14.08659851,
                        "remaining_time": 18.98053414,
                        "test": [
                          0.00004368887394
                        ]
                      },
                      {
                        "learn": [
                          0.00004092812054
                        ],
                        "iteration": 426,
                        "passed_time": 14.13054797,
                        "remaining_time": 18.96207022,
                        "test": [
                          0.00004361704811
                        ]
                      },
                      {
                        "learn": [
                          0.00004086535514
                        ],
                        "iteration": 427,
                        "passed_time": 14.18243132,
                        "remaining_time": 18.95409046,
                        "test": [
                          0.00004355480691
                        ]
                      },
                      {
                        "learn": [
                          0.00004065605958
                        ],
                        "iteration": 428,
                        "passed_time": 14.225286,
                        "remaining_time": 18.93388882,
                        "test": [
                          0.00004333568788
                        ]
                      },
                      {
                        "learn": [
                          0.00004056632072
                        ],
                        "iteration": 429,
                        "passed_time": 14.29600033,
                        "remaining_time": 18.95051206,
                        "test": [
                          0.00004323614105
                        ]
                      },
                      {
                        "learn": [
                          0.00004039083504
                        ],
                        "iteration": 430,
                        "passed_time": 14.35303689,
                        "remaining_time": 18.94867284,
                        "test": [
                          0.00004304685846
                        ]
                      },
                      {
                        "learn": [
                          0.00004032959574
                        ],
                        "iteration": 431,
                        "passed_time": 14.37745485,
                        "remaining_time": 18.90369064,
                        "test": [
                          0.0000429768472
                        ]
                      },
                      {
                        "learn": [
                          0.000040268648
                        ],
                        "iteration": 432,
                        "passed_time": 14.39650738,
                        "remaining_time": 18.85177756,
                        "test": [
                          0.00004290715232
                        ]
                      },
                      {
                        "learn": [
                          0.00004020779022
                        ],
                        "iteration": 433,
                        "passed_time": 14.41979877,
                        "remaining_time": 18.80554402,
                        "test": [
                          0.00004284686217
                        ]
                      },
                      {
                        "learn": [
                          0.00004002839004
                        ],
                        "iteration": 434,
                        "passed_time": 14.44571102,
                        "remaining_time": 18.76282006,
                        "test": [
                          0.00004265882962
                        ]
                      },
                      {
                        "learn": [
                          0.00003994099926
                        ],
                        "iteration": 435,
                        "passed_time": 14.4656903,
                        "remaining_time": 18.71249846,
                        "test": [
                          0.00004256222952
                        ]
                      },
                      {
                        "learn": [
                          0.00003976224116
                        ],
                        "iteration": 436,
                        "passed_time": 14.4816428,
                        "remaining_time": 18.65712791,
                        "test": [
                          0.00004238371336
                        ]
                      },
                      {
                        "learn": [
                          0.00003967581194
                        ],
                        "iteration": 437,
                        "passed_time": 14.50976506,
                        "remaining_time": 18.61755243,
                        "test": [
                          0.00004228798798
                        ]
                      },
                      {
                        "learn": [
                          0.0000396165423
                        ],
                        "iteration": 438,
                        "passed_time": 14.52605023,
                        "remaining_time": 18.56290246,
                        "test": [
                          0.0000422203248
                        ]
                      },
                      {
                        "learn": [
                          0.00003955766658
                        ],
                        "iteration": 439,
                        "passed_time": 14.54913065,
                        "remaining_time": 18.51707537,
                        "test": [
                          0.00004215296249
                        ]
                      },
                      {
                        "learn": [
                          0.00003935365653
                        ],
                        "iteration": 440,
                        "passed_time": 14.5757489,
                        "remaining_time": 18.4758359,
                        "test": [
                          0.00004193977725
                        ]
                      },
                      {
                        "learn": [
                          0.00003929537947
                        ],
                        "iteration": 441,
                        "passed_time": 14.59598829,
                        "remaining_time": 18.42660965,
                        "test": [
                          0.00004187319971
                        ]
                      },
                      {
                        "learn": [
                          0.00003924207152
                        ],
                        "iteration": 442,
                        "passed_time": 14.67599877,
                        "remaining_time": 18.45266663,
                        "test": [
                          0.0000418066935
                        ]
                      },
                      {
                        "learn": [
                          0.00003906535132
                        ],
                        "iteration": 443,
                        "passed_time": 14.69391624,
                        "remaining_time": 18.40048971,
                        "test": [
                          0.00004162178759
                        ]
                      },
                      {
                        "learn": [
                          0.0000390076543
                        ],
                        "iteration": 444,
                        "passed_time": 14.72880413,
                        "remaining_time": 18.36963211,
                        "test": [
                          0.00004156491255
                        ]
                      },
                      {
                        "learn": [
                          0.00003895032019
                        ],
                        "iteration": 445,
                        "passed_time": 14.76841236,
                        "remaining_time": 18.34461983,
                        "test": [
                          0.00004149932448
                        ]
                      },
                      {
                        "learn": [
                          0.00003874859928
                        ],
                        "iteration": 446,
                        "passed_time": 14.80134251,
                        "remaining_time": 18.31128056,
                        "test": [
                          0.00004128858658
                        ]
                      },
                      {
                        "learn": [
                          0.00003869183591
                        ],
                        "iteration": 447,
                        "passed_time": 14.81849248,
                        "remaining_time": 18.25849967,
                        "test": [
                          0.00004122385152
                        ]
                      },
                      {
                        "learn": [
                          0.00003863524624
                        ],
                        "iteration": 448,
                        "passed_time": 14.83247205,
                        "remaining_time": 18.20198686,
                        "test": [
                          0.00004116764337
                        ]
                      },
                      {
                        "learn": [
                          0.00003855355661
                        ],
                        "iteration": 449,
                        "passed_time": 14.85405025,
                        "remaining_time": 18.1549503,
                        "test": [
                          0.00004107709183
                        ]
                      },
                      {
                        "learn": [
                          0.00003837873782
                        ],
                        "iteration": 450,
                        "passed_time": 14.8682784,
                        "remaining_time": 18.09907947,
                        "test": [
                          0.00004089451228
                        ]
                      },
                      {
                        "learn": [
                          0.00003829787018
                        ],
                        "iteration": 451,
                        "passed_time": 14.88254927,
                        "remaining_time": 18.04344469,
                        "test": [
                          0.00004080481064
                        ]
                      },
                      {
                        "learn": [
                          0.00003821744919
                        ],
                        "iteration": 452,
                        "passed_time": 14.89802665,
                        "remaining_time": 17.9894494,
                        "test": [
                          0.00004071581312
                        ]
                      },
                      {
                        "learn": [
                          0.0000380434648
                        ],
                        "iteration": 453,
                        "passed_time": 14.95414597,
                        "remaining_time": 17.98450154,
                        "test": [
                          0.00004054227538
                        ]
                      },
                      {
                        "learn": [
                          0.00003796380997
                        ],
                        "iteration": 454,
                        "passed_time": 14.99918851,
                        "remaining_time": 17.96606096,
                        "test": [
                          0.00004045395405
                        ]
                      },
                      {
                        "learn": [
                          0.00003790948462
                        ],
                        "iteration": 455,
                        "passed_time": 15.02330724,
                        "remaining_time": 17.92254197,
                        "test": [
                          0.00004039194239
                        ]
                      },
                      {
                        "learn": [
                          0.00003786118303
                        ],
                        "iteration": 456,
                        "passed_time": 15.0504676,
                        "remaining_time": 17.88272189,
                        "test": [
                          0.00004033829635
                        ]
                      },
                      {
                        "learn": [
                          0.00003768831529
                        ],
                        "iteration": 457,
                        "passed_time": 15.06659115,
                        "remaining_time": 17.82989608,
                        "test": [
                          0.00004015765855
                        ]
                      },
                      {
                        "learn": [
                          0.00003762035433
                        ],
                        "iteration": 458,
                        "passed_time": 15.09554795,
                        "remaining_time": 17.79235609,
                        "test": [
                          0.00004007785172
                        ]
                      },
                      {
                        "learn": [
                          0.00003754261022
                        ],
                        "iteration": 459,
                        "passed_time": 15.18214983,
                        "remaining_time": 17.82252371,
                        "test": [
                          0.00003999159311
                        ]
                      },
                      {
                        "learn": [
                          0.00003737048382
                        ],
                        "iteration": 460,
                        "passed_time": 15.21747551,
                        "remaining_time": 17.79223275,
                        "test": [
                          0.00003981185793
                        ]
                      },
                      {
                        "learn": [
                          0.00003729354928
                        ],
                        "iteration": 461,
                        "passed_time": 15.2585325,
                        "remaining_time": 17.76859412,
                        "test": [
                          0.00003972683074
                        ]
                      },
                      {
                        "learn": [
                          0.00003721703039
                        ],
                        "iteration": 462,
                        "passed_time": 15.28886441,
                        "remaining_time": 17.73244101,
                        "test": [
                          0.00003964214165
                        ]
                      },
                      {
                        "learn": [
                          0.00003716457545
                        ],
                        "iteration": 463,
                        "passed_time": 15.3234736,
                        "remaining_time": 17.70125399,
                        "test": [
                          0.0000396151961
                        ]
                      },
                      {
                        "learn": [
                          0.00003696993601
                        ],
                        "iteration": 464,
                        "passed_time": 15.3358105,
                        "remaining_time": 17.64442714,
                        "test": [
                          0.00003941224378
                        ]
                      },
                      {
                        "learn": [
                          0.00003689455859
                        ],
                        "iteration": 465,
                        "passed_time": 15.36973095,
                        "remaining_time": 17.61252431,
                        "test": [
                          0.00003932869305
                        ]
                      },
                      {
                        "learn": [
                          0.00003684308693
                        ],
                        "iteration": 466,
                        "passed_time": 15.40147803,
                        "remaining_time": 17.57813231,
                        "test": [
                          0.00003926972428
                        ]
                      },
                      {
                        "learn": [
                          0.00003666194353
                        ],
                        "iteration": 467,
                        "passed_time": 15.439355,
                        "remaining_time": 17.55071979,
                        "test": [
                          0.00003907659543
                        ]
                      },
                      {
                        "learn": [
                          0.00003661071691
                        ],
                        "iteration": 468,
                        "passed_time": 15.46063203,
                        "remaining_time": 17.50446825,
                        "test": [
                          0.00003902607603
                        ]
                      },
                      {
                        "learn": [
                          0.00003653685318
                        ],
                        "iteration": 469,
                        "passed_time": 15.49220607,
                        "remaining_time": 17.4699345,
                        "test": [
                          0.00003894398316
                        ]
                      },
                      {
                        "learn": [
                          0.00003648621901
                        ],
                        "iteration": 470,
                        "passed_time": 15.54862816,
                        "remaining_time": 17.46332123,
                        "test": [
                          0.00003888627373
                        ]
                      },
                      {
                        "learn": [
                          0.00003641311523
                        ],
                        "iteration": 471,
                        "passed_time": 15.56950967,
                        "remaining_time": 17.41673963,
                        "test": [
                          0.00003880507109
                        ]
                      },
                      {
                        "learn": [
                          0.00003624415889
                        ],
                        "iteration": 472,
                        "passed_time": 15.598101,
                        "remaining_time": 17.37885672,
                        "test": [
                          0.00003862913565
                        ]
                      },
                      {
                        "learn": [
                          0.00003617158552
                        ],
                        "iteration": 473,
                        "passed_time": 15.63332853,
                        "remaining_time": 17.34837723,
                        "test": [
                          0.00003854882323
                        ]
                      },
                      {
                        "learn": [
                          0.00003609953326
                        ],
                        "iteration": 474,
                        "passed_time": 15.71350199,
                        "remaining_time": 17.36755483,
                        "test": [
                          0.000038469004
                        ]
                      },
                      {
                        "learn": [
                          0.0000359312314
                        ],
                        "iteration": 475,
                        "passed_time": 15.76339575,
                        "remaining_time": 17.35298187,
                        "test": [
                          0.0000383246079
                        ]
                      },
                      {
                        "learn": [
                          0.00003588200236
                        ],
                        "iteration": 476,
                        "passed_time": 15.78170734,
                        "remaining_time": 17.303633,
                        "test": [
                          0.00003827582862
                        ]
                      },
                      {
                        "learn": [
                          0.0000358109737
                        ],
                        "iteration": 477,
                        "passed_time": 15.80658843,
                        "remaining_time": 17.2615882,
                        "test": [
                          0.00003819696785
                        ]
                      },
                      {
                        "learn": [
                          0.00003576231539
                        ],
                        "iteration": 478,
                        "passed_time": 15.8251539,
                        "remaining_time": 17.21274568,
                        "test": [
                          0.00003814141729
                        ]
                      },
                      {
                        "learn": [
                          0.00003569189779
                        ],
                        "iteration": 479,
                        "passed_time": 15.84683453,
                        "remaining_time": 17.16740407,
                        "test": [
                          0.00003806333818
                        ]
                      },
                      {
                        "learn": [
                          0.0000355029595
                        ],
                        "iteration": 480,
                        "passed_time": 15.87594458,
                        "remaining_time": 17.13017721,
                        "test": [
                          0.00003786662983
                        ]
                      },
                      {
                        "learn": [
                          0.00003545514799
                        ],
                        "iteration": 481,
                        "passed_time": 15.91394096,
                        "remaining_time": 17.10253406,
                        "test": [
                          0.00003781185472
                        ]
                      },
                      {
                        "learn": [
                          0.00003538576019
                        ],
                        "iteration": 482,
                        "passed_time": 15.92862751,
                        "remaining_time": 17.04989735,
                        "test": [
                          0.00003773505667
                        ]
                      },
                      {
                        "learn": [
                          0.00003520918577
                        ],
                        "iteration": 483,
                        "passed_time": 15.94416835,
                        "remaining_time": 16.99832825,
                        "test": [
                          0.00003754742115
                        ]
                      },
                      {
                        "learn": [
                          0.00003516202565
                        ],
                        "iteration": 484,
                        "passed_time": 15.97721918,
                        "remaining_time": 16.96550078,
                        "test": [
                          0.00003749351145
                        ]
                      },
                      {
                        "learn": [
                          0.00003511502681
                        ],
                        "iteration": 485,
                        "passed_time": 16.00680689,
                        "remaining_time": 16.92900976,
                        "test": [
                          0.00003743979407
                        ]
                      },
                      {
                        "learn": [
                          0.00003504687664
                        ],
                        "iteration": 486,
                        "passed_time": 16.02985959,
                        "remaining_time": 16.88566318,
                        "test": [
                          0.00003736425225
                        ]
                      },
                      {
                        "learn": [
                          0.00003500024383
                        ],
                        "iteration": 487,
                        "passed_time": 16.06336726,
                        "remaining_time": 16.85336893,
                        "test": [
                          0.00003731802267
                        ]
                      },
                      {
                        "learn": [
                          0.00003493276055
                        ],
                        "iteration": 488,
                        "passed_time": 16.14188253,
                        "remaining_time": 16.86810219,
                        "test": [
                          0.00003724327492
                        ]
                      },
                      {
                        "learn": [
                          0.00003474670075
                        ],
                        "iteration": 489,
                        "passed_time": 16.22504149,
                        "remaining_time": 16.88728808,
                        "test": [
                          0.00003705000339
                        ]
                      },
                      {
                        "learn": [
                          0.00003468007358
                        ],
                        "iteration": 490,
                        "passed_time": 16.30342739,
                        "remaining_time": 16.90110904,
                        "test": [
                          0.00003697593804
                        ]
                      },
                      {
                        "learn": [
                          0.00003449476443
                        ],
                        "iteration": 491,
                        "passed_time": 16.34638076,
                        "remaining_time": 16.87797038,
                        "test": [
                          0.00003678344196
                        ]
                      },
                      {
                        "learn": [
                          0.00003442891891
                        ],
                        "iteration": 492,
                        "passed_time": 16.4035972,
                        "remaining_time": 16.86941943,
                        "test": [
                          0.00003671046225
                        ]
                      },
                      {
                        "learn": [
                          0.00003438357025
                        ],
                        "iteration": 493,
                        "passed_time": 16.46936182,
                        "remaining_time": 16.86942729,
                        "test": [
                          0.00003666558197
                        ]
                      },
                      {
                        "learn": [
                          0.00003431823964
                        ],
                        "iteration": 494,
                        "passed_time": 16.55141279,
                        "remaining_time": 16.88578476,
                        "test": [
                          0.00003659307994
                        ]
                      },
                      {
                        "learn": [
                          0.00003425329055
                        ],
                        "iteration": 495,
                        "passed_time": 16.63720426,
                        "remaining_time": 16.90554627,
                        "test": [
                          0.00003652116416
                        ]
                      },
                      {
                        "learn": [
                          0.00003420004465
                        ],
                        "iteration": 496,
                        "passed_time": 16.72887717,
                        "remaining_time": 16.93083544,
                        "test": [
                          0.00003646080267
                        ]
                      },
                      {
                        "learn": [
                          0.00003403664988
                        ],
                        "iteration": 497,
                        "passed_time": 16.80479739,
                        "remaining_time": 16.93977568,
                        "test": [
                          0.0000362979259
                        ]
                      },
                      {
                        "learn": [
                          0.00003399240236
                        ],
                        "iteration": 498,
                        "passed_time": 16.9353496,
                        "remaining_time": 17.00322675,
                        "test": [
                          0.00003625392343
                        ]
                      },
                      {
                        "learn": [
                          0.00003392856063
                        ],
                        "iteration": 499,
                        "passed_time": 17.00780967,
                        "remaining_time": 17.00780967,
                        "test": [
                          0.00003618308088
                        ]
                      },
                      {
                        "learn": [
                          0.0000337659165
                        ],
                        "iteration": 500,
                        "passed_time": 17.13382275,
                        "remaining_time": 17.06542425,
                        "test": [
                          0.00003601447194
                        ]
                      },
                      {
                        "learn": [
                          0.00003370262378
                        ],
                        "iteration": 501,
                        "passed_time": 17.22011375,
                        "remaining_time": 17.08290169,
                        "test": [
                          0.00003594430249
                        ]
                      },
                      {
                        "learn": [
                          0.00003366442483
                        ],
                        "iteration": 502,
                        "passed_time": 17.34453207,
                        "remaining_time": 17.13763904,
                        "test": [
                          0.00003590109719
                        ]
                      },
                      {
                        "learn": [
                          0.00003360165632
                        ],
                        "iteration": 503,
                        "passed_time": 17.42613602,
                        "remaining_time": 17.14953069,
                        "test": [
                          0.00003583153258
                        ]
                      },
                      {
                        "learn": [
                          0.00003355873328
                        ],
                        "iteration": 504,
                        "passed_time": 17.55033122,
                        "remaining_time": 17.20279991,
                        "test": [
                          0.00003578261062
                        ]
                      },
                      {
                        "learn": [
                          0.00003351592812
                        ],
                        "iteration": 505,
                        "passed_time": 17.59487607,
                        "remaining_time": 17.17760628,
                        "test": [
                          0.00003573368866
                        ]
                      },
                      {
                        "learn": [
                          0.00003333508869
                        ],
                        "iteration": 506,
                        "passed_time": 17.69961069,
                        "remaining_time": 17.21086404,
                        "test": [
                          0.0000355459849
                        ]
                      },
                      {
                        "learn": [
                          0.00003329264644
                        ],
                        "iteration": 507,
                        "passed_time": 17.811206,
                        "remaining_time": 17.25022313,
                        "test": [
                          0.00003549764297
                        ]
                      },
                      {
                        "learn": [
                          0.00003313144776
                        ],
                        "iteration": 508,
                        "passed_time": 17.9096062,
                        "remaining_time": 17.2762606,
                        "test": [
                          0.00003533040504
                        ]
                      },
                      {
                        "learn": [
                          0.00003307027669
                        ],
                        "iteration": 509,
                        "passed_time": 17.98131757,
                        "remaining_time": 17.27616786,
                        "test": [
                          0.00003526260848
                        ]
                      },
                      {
                        "learn": [
                          0.00003303301759
                        ],
                        "iteration": 510,
                        "passed_time": 18.05870169,
                        "remaining_time": 17.28122334,
                        "test": [
                          0.00003522115261
                        ]
                      },
                      {
                        "learn": [
                          0.00003299122672
                        ],
                        "iteration": 511,
                        "passed_time": 18.14132208,
                        "remaining_time": 17.29094761,
                        "test": [
                          0.00003517359855
                        ]
                      },
                      {
                        "learn": [
                          0.00003294975533
                        ],
                        "iteration": 512,
                        "passed_time": 18.22563489,
                        "remaining_time": 17.3019185,
                        "test": [
                          0.00003512603829
                        ]
                      },
                      {
                        "learn": [
                          0.00003288948069
                        ],
                        "iteration": 513,
                        "passed_time": 18.26580891,
                        "remaining_time": 17.2707843,
                        "test": [
                          0.00003505920329
                        ]
                      },
                      {
                        "learn": [
                          0.00003284809926
                        ],
                        "iteration": 514,
                        "passed_time": 18.36616945,
                        "remaining_time": 17.29629551,
                        "test": [
                          0.00003501833366
                        ]
                      },
                      {
                        "learn": [
                          0.00003280692566
                        ],
                        "iteration": 515,
                        "passed_time": 18.44245236,
                        "remaining_time": 17.29873439,
                        "test": [
                          0.00003497756329
                        ]
                      },
                      {
                        "learn": [
                          0.00003262855218
                        ],
                        "iteration": 516,
                        "passed_time": 18.49812369,
                        "remaining_time": 17.28161266,
                        "test": [
                          0.00003479271941
                        ]
                      },
                      {
                        "learn": [
                          0.00003257921457
                        ],
                        "iteration": 517,
                        "passed_time": 18.54902202,
                        "remaining_time": 17.2599008,
                        "test": [
                          0.00003473384059
                        ]
                      },
                      {
                        "learn": [
                          0.00003240131878
                        ],
                        "iteration": 518,
                        "passed_time": 18.59474243,
                        "remaining_time": 17.23327767,
                        "test": [
                          0.00003454946509
                        ]
                      },
                      {
                        "learn": [
                          0.00003234275635
                        ],
                        "iteration": 519,
                        "passed_time": 18.65983907,
                        "remaining_time": 17.22446683,
                        "test": [
                          0.0000344846835
                        ]
                      },
                      {
                        "learn": [
                          0.00003228453822
                        ],
                        "iteration": 520,
                        "passed_time": 18.74592818,
                        "remaining_time": 17.23474011,
                        "test": [
                          0.00003442000117
                        ]
                      },
                      {
                        "learn": [
                          0.0000322265062
                        ],
                        "iteration": 521,
                        "passed_time": 18.83421643,
                        "remaining_time": 17.24665796,
                        "test": [
                          0.00003435581203
                        ]
                      },
                      {
                        "learn": [
                          0.0000321868773
                        ],
                        "iteration": 522,
                        "passed_time": 19.01196739,
                        "remaining_time": 17.3397867,
                        "test": [
                          0.00003431058744
                        ]
                      },
                      {
                        "learn": [
                          0.00003212941601
                        ],
                        "iteration": 523,
                        "passed_time": 19.12605757,
                        "remaining_time": 17.3740523,
                        "test": [
                          0.00003424679533
                        ]
                      },
                      {
                        "learn": [
                          0.00003209005387
                        ],
                        "iteration": 524,
                        "passed_time": 19.22714905,
                        "remaining_time": 17.39599199,
                        "test": [
                          0.00003420198018
                        ]
                      },
                      {
                        "learn": [
                          0.00003205067001
                        ],
                        "iteration": 525,
                        "passed_time": 19.29218445,
                        "remaining_time": 17.3849723,
                        "test": [
                          0.00003416286929
                        ]
                      },
                      {
                        "learn": [
                          0.00003187497961
                        ],
                        "iteration": 526,
                        "passed_time": 19.31322977,
                        "remaining_time": 17.33426505,
                        "test": [
                          0.00003398122959
                        ]
                      },
                      {
                        "learn": [
                          0.00003183597108
                        ],
                        "iteration": 527,
                        "passed_time": 19.33291697,
                        "remaining_time": 17.28245608,
                        "test": [
                          0.00003394251263
                        ]
                      },
                      {
                        "learn": [
                          0.00003166078007
                        ],
                        "iteration": 528,
                        "passed_time": 19.34680712,
                        "remaining_time": 17.22560709,
                        "test": [
                          0.00003376119552
                        ]
                      },
                      {
                        "learn": [
                          0.00003161408522
                        ],
                        "iteration": 529,
                        "passed_time": 19.38811208,
                        "remaining_time": 17.19323146,
                        "test": [
                          0.00003370563876
                        ]
                      },
                      {
                        "learn": [
                          0.00003157569705
                        ],
                        "iteration": 530,
                        "passed_time": 19.42523157,
                        "remaining_time": 17.15712543,
                        "test": [
                          0.00003366169522
                        ]
                      },
                      {
                        "learn": [
                          0.00003152991413
                        ],
                        "iteration": 531,
                        "passed_time": 19.43590163,
                        "remaining_time": 17.09774805,
                        "test": [
                          0.00003361006536
                        ]
                      },
                      {
                        "learn": [
                          0.00003149179892
                        ],
                        "iteration": 532,
                        "passed_time": 19.44519509,
                        "remaining_time": 17.03734729,
                        "test": [
                          0.0000335664227
                        ]
                      },
                      {
                        "learn": [
                          0.00003145376436
                        ],
                        "iteration": 533,
                        "passed_time": 19.45451107,
                        "remaining_time": 16.9771576,
                        "test": [
                          0.00003352888754
                        ]
                      },
                      {
                        "learn": [
                          0.00003139874421
                        ],
                        "iteration": 534,
                        "passed_time": 19.46378968,
                        "remaining_time": 16.91712561,
                        "test": [
                          0.0000334681135
                        ]
                      },
                      {
                        "learn": [
                          0.00003136095159
                        ],
                        "iteration": 535,
                        "passed_time": 19.47309661,
                        "remaining_time": 16.85730752,
                        "test": [
                          0.00003343057213
                        ]
                      },
                      {
                        "learn": [
                          0.00003132340091
                        ],
                        "iteration": 536,
                        "passed_time": 19.49015409,
                        "remaining_time": 16.80436005,
                        "test": [
                          0.00003339341228
                        ]
                      },
                      {
                        "learn": [
                          0.00003115016406
                        ],
                        "iteration": 537,
                        "passed_time": 19.518973,
                        "remaining_time": 16.76164596,
                        "test": [
                          0.00003321441844
                        ]
                      },
                      {
                        "learn": [
                          0.0000309772715
                        ],
                        "iteration": 538,
                        "passed_time": 19.5285793,
                        "remaining_time": 16.70255112,
                        "test": [
                          0.00003303563242
                        ]
                      },
                      {
                        "learn": [
                          0.00003092345486
                        ],
                        "iteration": 539,
                        "passed_time": 19.53786411,
                        "remaining_time": 16.64336572,
                        "test": [
                          0.00003297604019
                        ]
                      },
                      {
                        "learn": [
                          0.00003087001664
                        ],
                        "iteration": 540,
                        "passed_time": 19.54711844,
                        "remaining_time": 16.58433894,
                        "test": [
                          0.00003291654411
                        ]
                      },
                      {
                        "learn": [
                          0.00003083323832
                        ],
                        "iteration": 541,
                        "passed_time": 19.5565274,
                        "remaining_time": 16.52562647,
                        "test": [
                          0.00003288037374
                        ]
                      },
                      {
                        "learn": [
                          0.00003078022505
                        ],
                        "iteration": 542,
                        "passed_time": 19.56574711,
                        "remaining_time": 16.46693634,
                        "test": [
                          0.0000328214515
                        ]
                      },
                      {
                        "learn": [
                          0.00003074389339
                        ],
                        "iteration": 543,
                        "passed_time": 19.5751517,
                        "remaining_time": 16.40858304,
                        "test": [
                          0.00003278005766
                        ]
                      },
                      {
                        "learn": [
                          0.00003069130197
                        ],
                        "iteration": 544,
                        "passed_time": 19.58433899,
                        "remaining_time": 16.35022796,
                        "test": [
                          0.00003272183643
                        ]
                      },
                      {
                        "learn": [
                          0.00003065511609
                        ],
                        "iteration": 545,
                        "passed_time": 19.59377263,
                        "remaining_time": 16.29225783,
                        "test": [
                          0.0000327030797
                        ]
                      },
                      {
                        "learn": [
                          0.00003060296823
                        ],
                        "iteration": 546,
                        "passed_time": 19.60318794,
                        "remaining_time": 16.23444998,
                        "test": [
                          0.00003264505078
                        ]
                      },
                      {
                        "learn": [
                          0.00003056729726
                        ],
                        "iteration": 547,
                        "passed_time": 19.61279187,
                        "remaining_time": 16.17697431,
                        "test": [
                          0.00003260414393
                        ]
                      },
                      {
                        "learn": [
                          0.00003041265584
                        ],
                        "iteration": 548,
                        "passed_time": 19.62222983,
                        "remaining_time": 16.11953671,
                        "test": [
                          0.000032444735
                        ]
                      },
                      {
                        "learn": [
                          0.00003026217086
                        ],
                        "iteration": 549,
                        "passed_time": 19.63406581,
                        "remaining_time": 16.06423566,
                        "test": [
                          0.00003229044719
                        ]
                      },
                      {
                        "learn": [
                          0.00003021072711
                        ],
                        "iteration": 550,
                        "passed_time": 19.64342779,
                        "remaining_time": 16.00707637,
                        "test": [
                          0.00003223349771
                        ]
                      },
                      {
                        "learn": [
                          0.00003015959355
                        ],
                        "iteration": 551,
                        "passed_time": 19.65298505,
                        "remaining_time": 15.95024874,
                        "test": [
                          0.00003217682118
                        ]
                      },
                      {
                        "learn": [
                          0.00003010873294
                        ],
                        "iteration": 552,
                        "passed_time": 19.66243557,
                        "remaining_time": 15.89350579,
                        "test": [
                          0.00003212016017
                        ]
                      },
                      {
                        "learn": [
                          0.00003005805535
                        ],
                        "iteration": 553,
                        "passed_time": 19.67179729,
                        "remaining_time": 15.83686208,
                        "test": [
                          0.00003206419086
                        ]
                      },
                      {
                        "learn": [
                          0.00003002331492
                        ],
                        "iteration": 554,
                        "passed_time": 19.6830148,
                        "remaining_time": 15.78187673,
                        "test": [
                          0.00003202448442
                        ]
                      },
                      {
                        "learn": [
                          0.0000299925014
                        ],
                        "iteration": 555,
                        "passed_time": 19.69284601,
                        "remaining_time": 15.72594178,
                        "test": [
                          0.00003199015963
                        ]
                      },
                      {
                        "learn": [
                          0.00002994241936
                        ],
                        "iteration": 556,
                        "passed_time": 19.70202997,
                        "remaining_time": 15.66965758,
                        "test": [
                          0.00003193458426
                        ]
                      },
                      {
                        "learn": [
                          0.00002990128918
                        ],
                        "iteration": 557,
                        "passed_time": 19.71329374,
                        "remaining_time": 15.61518966,
                        "test": [
                          0.00003188793283
                        ]
                      },
                      {
                        "learn": [
                          0.00002986056843
                        ],
                        "iteration": 558,
                        "passed_time": 19.72274166,
                        "remaining_time": 15.55944378,
                        "test": [
                          0.00003184188005
                        ]
                      },
                      {
                        "learn": [
                          0.00002969217663
                        ],
                        "iteration": 559,
                        "passed_time": 19.73115595,
                        "remaining_time": 15.50305111,
                        "test": [
                          0.00003166817172
                        ]
                      },
                      {
                        "learn": [
                          0.00002952410431
                        ],
                        "iteration": 560,
                        "passed_time": 19.73920958,
                        "remaining_time": 15.44654725,
                        "test": [
                          0.00003149477357
                        ]
                      },
                      {
                        "learn": [
                          0.0000294751141
                        ],
                        "iteration": 561,
                        "passed_time": 19.75061039,
                        "remaining_time": 15.39282447,
                        "test": [
                          0.00003144026832
                        ]
                      },
                      {
                        "learn": [
                          0.00002942638445
                        ],
                        "iteration": 562,
                        "passed_time": 19.75866504,
                        "remaining_time": 15.33665474,
                        "test": [
                          0.00003138625627
                        ]
                      },
                      {
                        "learn": [
                          0.00002939286615
                        ],
                        "iteration": 563,
                        "passed_time": 19.76697336,
                        "remaining_time": 15.28085175,
                        "test": [
                          0.00003135320323
                        ]
                      },
                      {
                        "learn": [
                          0.00002935940677
                        ],
                        "iteration": 564,
                        "passed_time": 19.77509245,
                        "remaining_time": 15.22507118,
                        "test": [
                          0.00003132016881
                        ]
                      },
                      {
                        "learn": [
                          0.00002932621416
                        ],
                        "iteration": 565,
                        "passed_time": 19.78328706,
                        "remaining_time": 15.16951693,
                        "test": [
                          0.00003128219629
                        ]
                      },
                      {
                        "learn": [
                          0.00002927817001
                        ],
                        "iteration": 566,
                        "passed_time": 19.79131802,
                        "remaining_time": 15.11400477,
                        "test": [
                          0.00003122886663
                        ]
                      },
                      {
                        "learn": [
                          0.00002924887018
                        ],
                        "iteration": 567,
                        "passed_time": 19.79975894,
                        "remaining_time": 15.05897159,
                        "test": [
                          0.00003119602762
                        ]
                      },
                      {
                        "learn": [
                          0.00002920107108
                        ],
                        "iteration": 568,
                        "passed_time": 19.80777978,
                        "remaining_time": 15.00378398,
                        "test": [
                          0.00003114338967
                        ]
                      },
                      {
                        "learn": [
                          0.00002917462803
                        ],
                        "iteration": 569,
                        "passed_time": 19.81616758,
                        "remaining_time": 14.9490387,
                        "test": [
                          0.00003111073677
                        ]
                      },
                      {
                        "learn": [
                          0.00002913514802
                        ],
                        "iteration": 570,
                        "passed_time": 19.82455378,
                        "remaining_time": 14.89445459,
                        "test": [
                          0.00003106380308
                        ]
                      },
                      {
                        "learn": [
                          0.00002910623592
                        ],
                        "iteration": 571,
                        "passed_time": 19.83321278,
                        "remaining_time": 14.84023614,
                        "test": [
                          0.00003103173953
                        ]
                      },
                      {
                        "learn": [
                          0.00002883588407
                        ],
                        "iteration": 572,
                        "passed_time": 19.84153492,
                        "remaining_time": 14.78592568,
                        "test": [
                          0.00003076165443
                        ]
                      },
                      {
                        "learn": [
                          0.00002878896588
                        ],
                        "iteration": 573,
                        "passed_time": 19.84971138,
                        "remaining_time": 14.73166733,
                        "test": [
                          0.00003070970819
                        ]
                      },
                      {
                        "learn": [
                          0.00002874234857
                        ],
                        "iteration": 574,
                        "passed_time": 19.85778639,
                        "remaining_time": 14.67749429,
                        "test": [
                          0.00003065794806
                        ]
                      },
                      {
                        "learn": [
                          0.000028695967
                        ],
                        "iteration": 575,
                        "passed_time": 19.8658958,
                        "remaining_time": 14.62350663,
                        "test": [
                          0.00003060656945
                        ]
                      },
                      {
                        "learn": [
                          0.00002866673542
                        ],
                        "iteration": 576,
                        "passed_time": 19.87421173,
                        "remaining_time": 14.56982939,
                        "test": [
                          0.00003056998964
                        ]
                      },
                      {
                        "learn": [
                          0.00002862060509
                        ],
                        "iteration": 577,
                        "passed_time": 19.88267443,
                        "remaining_time": 14.51641628,
                        "test": [
                          0.00003051900807
                        ]
                      },
                      {
                        "learn": [
                          0.00002858899751
                        ],
                        "iteration": 578,
                        "passed_time": 19.89110518,
                        "remaining_time": 14.4631352,
                        "test": [
                          0.00003048319441
                        ]
                      },
                      {
                        "learn": [
                          0.00002855756673
                        ],
                        "iteration": 579,
                        "passed_time": 19.89943128,
                        "remaining_time": 14.409933,
                        "test": [
                          0.00003044708918
                        ]
                      },
                      {
                        "learn": [
                          0.00002852610803
                        ],
                        "iteration": 580,
                        "passed_time": 19.90764059,
                        "remaining_time": 14.35680104,
                        "test": [
                          0.00003041117937
                        ]
                      },
                      {
                        "learn": [
                          0.00002849474549
                        ],
                        "iteration": 581,
                        "passed_time": 19.91605214,
                        "remaining_time": 14.30396872,
                        "test": [
                          0.00003038029141
                        ]
                      },
                      {
                        "learn": [
                          0.00002846356596
                        ],
                        "iteration": 582,
                        "passed_time": 19.92556326,
                        "remaining_time": 14.25207526,
                        "test": [
                          0.00003034939414
                        ]
                      },
                      {
                        "learn": [
                          0.00002843232439
                        ],
                        "iteration": 583,
                        "passed_time": 19.93427199,
                        "remaining_time": 14.19975539,
                        "test": [
                          0.00003031849998
                        ]
                      },
                      {
                        "learn": [
                          0.0000282823264
                        ],
                        "iteration": 584,
                        "passed_time": 19.94204384,
                        "remaining_time": 14.14691999,
                        "test": [
                          0.00003016890522
                        ]
                      },
                      {
                        "learn": [
                          0.00002813251452
                        ],
                        "iteration": 585,
                        "passed_time": 19.94973889,
                        "remaining_time": 14.09418413,
                        "test": [
                          0.0000300147818
                        ]
                      },
                      {
                        "learn": [
                          0.00002810173512
                        ],
                        "iteration": 586,
                        "passed_time": 19.95750715,
                        "remaining_time": 14.04165324,
                        "test": [
                          0.00002997949236
                        ]
                      },
                      {
                        "learn": [
                          0.00002805712779
                        ],
                        "iteration": 587,
                        "passed_time": 19.96527717,
                        "remaining_time": 13.98927584,
                        "test": [
                          0.0000299300679
                        ]
                      },
                      {
                        "learn": [
                          0.00002802012614
                        ],
                        "iteration": 588,
                        "passed_time": 19.97330264,
                        "remaining_time": 13.93722816,
                        "test": [
                          0.00002988577696
                        ]
                      },
                      {
                        "learn": [
                          0.00002798967554
                        ],
                        "iteration": 589,
                        "passed_time": 19.9809886,
                        "remaining_time": 13.88509377,
                        "test": [
                          0.00002985577612
                        ]
                      },
                      {
                        "learn": [
                          0.00002794547765
                        ],
                        "iteration": 590,
                        "passed_time": 19.98858287,
                        "remaining_time": 13.83304635,
                        "test": [
                          0.00002980675179
                        ]
                      },
                      {
                        "learn": [
                          0.00002791526278
                        ],
                        "iteration": 591,
                        "passed_time": 19.99600265,
                        "remaining_time": 13.78102885,
                        "test": [
                          0.00002977250456
                        ]
                      },
                      {
                        "learn": [
                          0.00002787159221
                        ],
                        "iteration": 592,
                        "passed_time": 20.00341301,
                        "remaining_time": 13.7291553,
                        "test": [
                          0.00002972398583
                        ]
                      },
                      {
                        "learn": [
                          0.00002782795265
                        ],
                        "iteration": 593,
                        "passed_time": 20.01089263,
                        "remaining_time": 13.6774788,
                        "test": [
                          0.0000296756377
                        ]
                      },
                      {
                        "learn": [
                          0.00002779809139
                        ],
                        "iteration": 594,
                        "passed_time": 20.01844912,
                        "remaining_time": 13.62600318,
                        "test": [
                          0.00002964592844
                        ]
                      },
                      {
                        "learn": [
                          0.00002776820222
                        ],
                        "iteration": 595,
                        "passed_time": 20.02605513,
                        "remaining_time": 13.57470851,
                        "test": [
                          0.00002961652315
                        ]
                      },
                      {
                        "learn": [
                          0.00002772515821
                        ],
                        "iteration": 596,
                        "passed_time": 20.03340381,
                        "remaining_time": 13.52338649,
                        "test": [
                          0.00002956877677
                        ]
                      },
                      {
                        "learn": [
                          0.00002757669562
                        ],
                        "iteration": 597,
                        "passed_time": 20.0408465,
                        "remaining_time": 13.47227474,
                        "test": [
                          0.00002941621357
                        ]
                      },
                      {
                        "learn": [
                          0.00002742842535
                        ],
                        "iteration": 598,
                        "passed_time": 20.04829626,
                        "remaining_time": 13.42131353,
                        "test": [
                          0.00002926365968
                        ]
                      },
                      {
                        "learn": [
                          0.00002739889909
                        ],
                        "iteration": 599,
                        "passed_time": 20.05579711,
                        "remaining_time": 13.3705314,
                        "test": [
                          0.00002923462041
                        ]
                      },
                      {
                        "learn": [
                          0.00002735641651
                        ],
                        "iteration": 600,
                        "passed_time": 20.0630953,
                        "remaining_time": 13.31975878,
                        "test": [
                          0.00002918736102
                        ]
                      },
                      {
                        "learn": [
                          0.00002732721284
                        ],
                        "iteration": 601,
                        "passed_time": 20.07056947,
                        "remaining_time": 13.26924693,
                        "test": [
                          0.00002917222722
                        ]
                      },
                      {
                        "learn": [
                          0.00002729818907
                        ],
                        "iteration": 602,
                        "passed_time": 20.07799096,
                        "remaining_time": 13.21884314,
                        "test": [
                          0.00002913925483
                        ]
                      },
                      {
                        "learn": [
                          0.00002725614385
                        ],
                        "iteration": 603,
                        "passed_time": 20.08544825,
                        "remaining_time": 13.16860515,
                        "test": [
                          0.00002909230253
                        ]
                      },
                      {
                        "learn": [
                          0.00002721419789
                        ],
                        "iteration": 604,
                        "passed_time": 20.09285273,
                        "remaining_time": 13.1184741,
                        "test": [
                          0.00002904583721
                        ]
                      },
                      {
                        "learn": [
                          0.00002717255901
                        ],
                        "iteration": 605,
                        "passed_time": 20.1002354,
                        "remaining_time": 13.06846988,
                        "test": [
                          0.00002899957041
                        ]
                      },
                      {
                        "learn": [
                          0.0000271439695
                        ],
                        "iteration": 606,
                        "passed_time": 20.10770829,
                        "remaining_time": 13.01866451,
                        "test": [
                          0.00002896718737
                        ]
                      },
                      {
                        "learn": [
                          0.00002710261599
                        ],
                        "iteration": 607,
                        "passed_time": 20.11505126,
                        "remaining_time": 12.96891463,
                        "test": [
                          0.00002892111288
                        ]
                      },
                      {
                        "learn": [
                          0.00002707424671
                        ],
                        "iteration": 608,
                        "passed_time": 20.12254746,
                        "remaining_time": 12.91940239,
                        "test": [
                          0.00002888881359
                        ]
                      },
                      {
                        "learn": [
                          0.00002703320958
                        ],
                        "iteration": 609,
                        "passed_time": 20.12971369,
                        "remaining_time": 12.86981695,
                        "test": [
                          0.00002884331914
                        ]
                      },
                      {
                        "learn": [
                          0.00002700813754
                        ],
                        "iteration": 610,
                        "passed_time": 20.13682498,
                        "remaining_time": 12.82033538,
                        "test": [
                          0.00002881527245
                        ]
                      },
                      {
                        "learn": [
                          0.00002686098392
                        ],
                        "iteration": 611,
                        "passed_time": 20.14398646,
                        "remaining_time": 12.7710241,
                        "test": [
                          0.00002866860271
                        ]
                      },
                      {
                        "learn": [
                          0.00002682039655
                        ],
                        "iteration": 612,
                        "passed_time": 20.15147251,
                        "remaining_time": 12.72205524,
                        "test": [
                          0.0000286233378
                        ]
                      },
                      {
                        "learn": [
                          0.00002667365858
                        ],
                        "iteration": 613,
                        "passed_time": 20.15938713,
                        "remaining_time": 12.67349093,
                        "test": [
                          0.0000284726388
                        ]
                      },
                      {
                        "learn": [
                          0.00002664581971
                        ],
                        "iteration": 614,
                        "passed_time": 20.16743192,
                        "remaining_time": 12.62514031,
                        "test": [
                          0.0000284408389
                        ]
                      },
                      {
                        "learn": [
                          0.00002661809251
                        ],
                        "iteration": 615,
                        "passed_time": 20.17480634,
                        "remaining_time": 12.57650265,
                        "test": [
                          0.00002841347461
                        ]
                      },
                      {
                        "learn": [
                          0.00002657790838
                        ],
                        "iteration": 616,
                        "passed_time": 20.18177061,
                        "remaining_time": 12.52774416,
                        "test": [
                          0.0000283690627
                        ]
                      },
                      {
                        "learn": [
                          0.00002653795689
                        ],
                        "iteration": 617,
                        "passed_time": 20.18878888,
                        "remaining_time": 12.47915429,
                        "test": [
                          0.00002832444296
                        ]
                      },
                      {
                        "learn": [
                          0.0000264981698
                        ],
                        "iteration": 618,
                        "passed_time": 20.19573213,
                        "remaining_time": 12.43065257,
                        "test": [
                          0.00002828043119
                        ]
                      },
                      {
                        "learn": [
                          0.00002645859053
                        ],
                        "iteration": 619,
                        "passed_time": 20.20261591,
                        "remaining_time": 12.38224846,
                        "test": [
                          0.00002823632015
                        ]
                      },
                      {
                        "learn": [
                          0.00002643144026
                        ],
                        "iteration": 620,
                        "passed_time": 20.20970228,
                        "remaining_time": 12.33410172,
                        "test": [
                          0.00002820541358
                        ]
                      },
                      {
                        "learn": [
                          0.00002640437065
                        ],
                        "iteration": 621,
                        "passed_time": 20.21677488,
                        "remaining_time": 12.28607863,
                        "test": [
                          0.00002817441085
                        ]
                      },
                      {
                        "learn": [
                          0.000026365176
                        ],
                        "iteration": 622,
                        "passed_time": 20.22382673,
                        "remaining_time": 12.23817444,
                        "test": [
                          0.00002813107217
                        ]
                      },
                      {
                        "learn": [
                          0.00002632606511
                        ],
                        "iteration": 623,
                        "passed_time": 20.23077867,
                        "remaining_time": 12.19034099,
                        "test": [
                          0.0000280877521
                        ]
                      },
                      {
                        "learn": [
                          0.00002629928086
                        ],
                        "iteration": 624,
                        "passed_time": 20.23783134,
                        "remaining_time": 12.1426988,
                        "test": [
                          0.00002806117257
                        ]
                      },
                      {
                        "learn": [
                          0.00002627253073
                        ],
                        "iteration": 625,
                        "passed_time": 20.24487498,
                        "remaining_time": 12.0951809,
                        "test": [
                          0.00002803478226
                        ]
                      },
                      {
                        "learn": [
                          0.00002612929472
                        ],
                        "iteration": 626,
                        "passed_time": 20.25194087,
                        "remaining_time": 12.04780533,
                        "test": [
                          0.00002788546356
                        ]
                      },
                      {
                        "learn": [
                          0.00002609713191
                        ],
                        "iteration": 627,
                        "passed_time": 20.25892094,
                        "remaining_time": 12.00050731,
                        "test": [
                          0.00002784724909
                        ]
                      },
                      {
                        "learn": [
                          0.0000259516967
                        ],
                        "iteration": 628,
                        "passed_time": 20.27012714,
                        "remaining_time": 11.95583016,
                        "test": [
                          0.00002770205893
                        ]
                      },
                      {
                        "learn": [
                          0.00002591330853
                        ],
                        "iteration": 629,
                        "passed_time": 20.27706366,
                        "remaining_time": 11.90875167,
                        "test": [
                          0.00002765961047
                        ]
                      },
                      {
                        "learn": [
                          0.00002587513904
                        ],
                        "iteration": 630,
                        "passed_time": 20.28514391,
                        "remaining_time": 11.86246926,
                        "test": [
                          0.00002761714651
                        ]
                      },
                      {
                        "learn": [
                          0.00002583722699
                        ],
                        "iteration": 631,
                        "passed_time": 20.29211301,
                        "remaining_time": 11.81566074,
                        "test": [
                          0.00002757501443
                        ]
                      },
                      {
                        "learn": [
                          0.00002579940336
                        ],
                        "iteration": 632,
                        "passed_time": 20.3151452,
                        "remaining_time": 11.77829113,
                        "test": [
                          0.00002753314912
                        ]
                      },
                      {
                        "learn": [
                          0.0000257734597
                        ],
                        "iteration": 633,
                        "passed_time": 20.33065701,
                        "remaining_time": 11.73662534,
                        "test": [
                          0.00002750725509
                        ]
                      },
                      {
                        "learn": [
                          0.00002573590747
                        ],
                        "iteration": 634,
                        "passed_time": 20.33755767,
                        "remaining_time": 11.6900922,
                        "test": [
                          0.0000274655914
                        ]
                      },
                      {
                        "learn": [
                          0.00002569849483
                        ],
                        "iteration": 635,
                        "passed_time": 20.34477189,
                        "remaining_time": 11.64386316,
                        "test": [
                          0.00002742402386
                        ]
                      },
                      {
                        "learn": [
                          0.00002567287531
                        ],
                        "iteration": 636,
                        "passed_time": 20.35208007,
                        "remaining_time": 11.59781015,
                        "test": [
                          0.00002739487912
                        ]
                      },
                      {
                        "learn": [
                          0.00002564731784
                        ],
                        "iteration": 637,
                        "passed_time": 20.35921341,
                        "remaining_time": 11.55177939,
                        "test": [
                          0.00002736562892
                        ]
                      },
                      {
                        "learn": [
                          0.00002562172159
                        ],
                        "iteration": 638,
                        "passed_time": 20.36654392,
                        "remaining_time": 11.50598177,
                        "test": [
                          0.0000273404235
                        ]
                      },
                      {
                        "learn": [
                          0.00002559636728
                        ],
                        "iteration": 639,
                        "passed_time": 20.37374281,
                        "remaining_time": 11.46023033,
                        "test": [
                          0.00002731511883
                        ]
                      },
                      {
                        "learn": [
                          0.00002557091061
                        ],
                        "iteration": 640,
                        "passed_time": 20.38104834,
                        "remaining_time": 11.4146589,
                        "test": [
                          0.00002729020498
                        ]
                      },
                      {
                        "learn": [
                          0.00002541531383
                        ],
                        "iteration": 641,
                        "passed_time": 20.38837399,
                        "remaining_time": 11.36921789,
                        "test": [
                          0.00002713034009
                        ]
                      },
                      {
                        "learn": [
                          0.0000253786906
                        ],
                        "iteration": 642,
                        "passed_time": 20.39552552,
                        "remaining_time": 11.32379877,
                        "test": [
                          0.00002708995434
                        ]
                      },
                      {
                        "learn": [
                          0.00002535371316
                        ],
                        "iteration": 643,
                        "passed_time": 20.41628679,
                        "remaining_time": 11.28602189,
                        "test": [
                          0.00002706110118
                        ]
                      },
                      {
                        "learn": [
                          0.00002519842191
                        ],
                        "iteration": 644,
                        "passed_time": 20.42792724,
                        "remaining_time": 11.24327778,
                        "test": [
                          0.00002690218544
                        ]
                      },
                      {
                        "learn": [
                          0.00002517819336
                        ],
                        "iteration": 645,
                        "passed_time": 20.44747875,
                        "remaining_time": 11.20496513,
                        "test": [
                          0.00002687727469
                        ]
                      },
                      {
                        "learn": [
                          0.00002514213621
                        ],
                        "iteration": 646,
                        "passed_time": 20.46361139,
                        "remaining_time": 11.16484516,
                        "test": [
                          0.00002683739145
                        ]
                      },
                      {
                        "learn": [
                          0.00002511731232
                        ],
                        "iteration": 647,
                        "passed_time": 20.47151132,
                        "remaining_time": 11.12032714,
                        "test": [
                          0.0000268126544
                        ]
                      },
                      {
                        "learn": [
                          0.0000250926978
                        ],
                        "iteration": 648,
                        "passed_time": 20.47884742,
                        "remaining_time": 11.07561702,
                        "test": [
                          0.00002678470387
                        ]
                      },
                      {
                        "learn": [
                          0.00002505696013
                        ],
                        "iteration": 649,
                        "passed_time": 20.48577722,
                        "remaining_time": 11.03080312,
                        "test": [
                          0.00002674519594
                        ]
                      },
                      {
                        "learn": [
                          0.00002503251311
                        ],
                        "iteration": 650,
                        "passed_time": 20.49282244,
                        "remaining_time": 10.98616748,
                        "test": [
                          0.00002671712754
                        ]
                      },
                      {
                        "learn": [
                          0.00002499702049
                        ],
                        "iteration": 651,
                        "passed_time": 20.49992126,
                        "remaining_time": 10.94167576,
                        "test": [
                          0.00002667762891
                        ]
                      },
                      {
                        "learn": [
                          0.00002496167676
                        ],
                        "iteration": 652,
                        "passed_time": 20.52525125,
                        "remaining_time": 10.9069865,
                        "test": [
                          0.00002663860487
                        ]
                      },
                      {
                        "learn": [
                          0.00002493751976
                        ],
                        "iteration": 653,
                        "passed_time": 20.53893577,
                        "remaining_time": 10.8661648,
                        "test": [
                          0.00002661102655
                        ]
                      },
                      {
                        "learn": [
                          0.00002491334259
                        ],
                        "iteration": 654,
                        "passed_time": 20.54609599,
                        "remaining_time": 10.82198949,
                        "test": [
                          0.00002658325282
                        ]
                      },
                      {
                        "learn": [
                          0.00002487826717
                        ],
                        "iteration": 655,
                        "passed_time": 20.55347682,
                        "remaining_time": 10.77804272,
                        "test": [
                          0.00002654452966
                        ]
                      },
                      {
                        "learn": [
                          0.00002485443896
                        ],
                        "iteration": 656,
                        "passed_time": 20.56083269,
                        "remaining_time": 10.73419423,
                        "test": [
                          0.00002651735458
                        ]
                      },
                      {
                        "learn": [
                          0.00002483050219
                        ],
                        "iteration": 657,
                        "passed_time": 20.56830784,
                        "remaining_time": 10.69051866,
                        "test": [
                          0.00002648997478
                        ]
                      },
                      {
                        "learn": [
                          0.00002468149678
                        ],
                        "iteration": 658,
                        "passed_time": 20.57563789,
                        "remaining_time": 10.64687787,
                        "test": [
                          0.00002633549465
                        ]
                      },
                      {
                        "learn": [
                          0.00002464695952
                        ],
                        "iteration": 659,
                        "passed_time": 20.58248302,
                        "remaining_time": 10.60309731,
                        "test": [
                          0.00002629716232
                        ]
                      },
                      {
                        "learn": [
                          0.00002461254634
                        ],
                        "iteration": 660,
                        "passed_time": 20.58937076,
                        "remaining_time": 10.55945036,
                        "test": [
                          0.00002625904711
                        ]
                      },
                      {
                        "learn": [
                          0.00002446990587
                        ],
                        "iteration": 661,
                        "passed_time": 20.59639629,
                        "remaining_time": 10.51598481,
                        "test": [
                          0.00002611679747
                        ]
                      },
                      {
                        "learn": [
                          0.00002443580753
                        ],
                        "iteration": 662,
                        "passed_time": 20.60327876,
                        "remaining_time": 10.47255647,
                        "test": [
                          0.00002607896142
                        ]
                      },
                      {
                        "learn": [
                          0.00002440172158
                        ],
                        "iteration": 663,
                        "passed_time": 20.61019434,
                        "remaining_time": 10.42925497,
                        "test": [
                          0.00002604112228
                        ]
                      },
                      {
                        "learn": [
                          0.00002437390133
                        ],
                        "iteration": 664,
                        "passed_time": 20.61946109,
                        "remaining_time": 10.38724732,
                        "test": [
                          0.00002600957983
                        ]
                      },
                      {
                        "learn": [
                          0.00002435067797
                        ],
                        "iteration": 665,
                        "passed_time": 20.6264846,
                        "remaining_time": 10.344213,
                        "test": [
                          0.00002598309181
                        ]
                      },
                      {
                        "learn": [
                          0.00002431690842
                        ],
                        "iteration": 666,
                        "passed_time": 20.63347891,
                        "remaining_time": 10.30127208,
                        "test": [
                          0.00002594574585
                        ]
                      },
                      {
                        "learn": [
                          0.00002428333118
                        ],
                        "iteration": 667,
                        "passed_time": 20.6406164,
                        "remaining_time": 10.25850995,
                        "test": [
                          0.0000259084914
                        ]
                      },
                      {
                        "learn": [
                          0.00002424989352
                        ],
                        "iteration": 668,
                        "passed_time": 20.64777456,
                        "remaining_time": 10.21586454,
                        "test": [
                          0.00002587144321
                        ]
                      },
                      {
                        "learn": [
                          0.00002421668849
                        ],
                        "iteration": 669,
                        "passed_time": 20.65544778,
                        "remaining_time": 10.17357876,
                        "test": [
                          0.0000258345982
                        ]
                      },
                      {
                        "learn": [
                          0.00002418350828
                        ],
                        "iteration": 670,
                        "passed_time": 20.66455672,
                        "remaining_time": 10.13210009,
                        "test": [
                          0.00002579764928
                        ]
                      },
                      {
                        "learn": [
                          0.00002415593928
                        ],
                        "iteration": 671,
                        "passed_time": 20.67165369,
                        "remaining_time": 10.08973573,
                        "test": [
                          0.00002576483198
                        ]
                      },
                      {
                        "learn": [
                          0.00002412309717
                        ],
                        "iteration": 672,
                        "passed_time": 20.67868507,
                        "remaining_time": 10.04744431,
                        "test": [
                          0.00002572837159
                        ]
                      },
                      {
                        "learn": [
                          0.0000240961144
                        ],
                        "iteration": 673,
                        "passed_time": 20.68597022,
                        "remaining_time": 10.00538025,
                        "test": [
                          0.00002569801404
                        ]
                      },
                      {
                        "learn": [
                          0.00002406347391
                        ],
                        "iteration": 674,
                        "passed_time": 20.69527082,
                        "remaining_time": 9.964389652,
                        "test": [
                          0.00002566175838
                        ]
                      },
                      {
                        "learn": [
                          0.00002392221065
                        ],
                        "iteration": 675,
                        "passed_time": 20.70245261,
                        "remaining_time": 9.922477288,
                        "test": [
                          0.00002551732506
                        ]
                      },
                      {
                        "learn": [
                          0.00002389964954
                        ],
                        "iteration": 676,
                        "passed_time": 20.70951117,
                        "remaining_time": 9.880608727,
                        "test": [
                          0.00002549515632
                        ]
                      },
                      {
                        "learn": [
                          0.00002387738
                        ],
                        "iteration": 677,
                        "passed_time": 20.71668929,
                        "remaining_time": 9.838899633,
                        "test": [
                          0.00002546964382
                        ]
                      },
                      {
                        "learn": [
                          0.00002384510862
                        ],
                        "iteration": 678,
                        "passed_time": 20.72412801,
                        "remaining_time": 9.79741545,
                        "test": [
                          0.0000254339651
                        ]
                      },
                      {
                        "learn": [
                          0.00002381300009
                        ],
                        "iteration": 679,
                        "passed_time": 20.73525189,
                        "remaining_time": 9.757765594,
                        "test": [
                          0.00002539830498
                        ]
                      },
                      {
                        "learn": [
                          0.00002366203588
                        ],
                        "iteration": 680,
                        "passed_time": 20.74271149,
                        "remaining_time": 9.71648306,
                        "test": [
                          0.00002524380159
                        ]
                      },
                      {
                        "learn": [
                          0.00002363999432
                        ],
                        "iteration": 681,
                        "passed_time": 20.74995126,
                        "remaining_time": 9.675197214,
                        "test": [
                          0.00002521869853
                        ]
                      },
                      {
                        "learn": [
                          0.00002361806753
                        ],
                        "iteration": 682,
                        "passed_time": 20.75680226,
                        "remaining_time": 9.633830624,
                        "test": [
                          0.00002519691442
                        ]
                      },
                      {
                        "learn": [
                          0.00002359615005
                        ],
                        "iteration": 683,
                        "passed_time": 20.76394035,
                        "remaining_time": 9.59269759,
                        "test": [
                          0.00002517208122
                        ]
                      },
                      {
                        "learn": [
                          0.00002356454246
                        ],
                        "iteration": 684,
                        "passed_time": 20.77074561,
                        "remaining_time": 9.551510757,
                        "test": [
                          0.00002513699649
                        ]
                      },
                      {
                        "learn": [
                          0.00002354271493
                        ],
                        "iteration": 685,
                        "passed_time": 20.77782991,
                        "remaining_time": 9.510551884,
                        "test": [
                          0.00002511542331
                        ]
                      },
                      {
                        "learn": [
                          0.00002352108591
                        ],
                        "iteration": 686,
                        "passed_time": 20.78477962,
                        "remaining_time": 9.469630306,
                        "test": [
                          0.00002509068316
                        ]
                      },
                      {
                        "learn": [
                          0.00002349951583
                        ],
                        "iteration": 687,
                        "passed_time": 20.79191175,
                        "remaining_time": 9.428890213,
                        "test": [
                          0.00002506614463
                        ]
                      },
                      {
                        "learn": [
                          0.00002346824324
                        ],
                        "iteration": 688,
                        "passed_time": 20.79883885,
                        "remaining_time": 9.388155127,
                        "test": [
                          0.00002503145384
                        ]
                      },
                      {
                        "learn": [
                          0.00002344668712
                        ],
                        "iteration": 689,
                        "passed_time": 20.80594278,
                        "remaining_time": 9.347597482,
                        "test": [
                          0.00002501017533
                        ]
                      },
                      {
                        "learn": [
                          0.0000234156177
                        ],
                        "iteration": 690,
                        "passed_time": 20.81300263,
                        "remaining_time": 9.307116949,
                        "test": [
                          0.00002497587226
                        ]
                      },
                      {
                        "learn": [
                          0.0000233846646
                        ],
                        "iteration": 691,
                        "passed_time": 20.82006497,
                        "remaining_time": 9.266734121,
                        "test": [
                          0.00002494129313
                        ]
                      },
                      {
                        "learn": [
                          0.00002335381076
                        ],
                        "iteration": 692,
                        "passed_time": 20.82715902,
                        "remaining_time": 9.226461502,
                        "test": [
                          0.00002490728473
                        ]
                      },
                      {
                        "learn": [
                          0.00002333257878
                        ],
                        "iteration": 693,
                        "passed_time": 20.83419219,
                        "remaining_time": 9.186257651,
                        "test": [
                          0.00002488619543
                        ]
                      },
                      {
                        "learn": [
                          0.00002319251127
                        ],
                        "iteration": 694,
                        "passed_time": 20.84136373,
                        "remaining_time": 9.146209982,
                        "test": [
                          0.00002474314397
                        ]
                      },
                      {
                        "learn": [
                          0.00002317534268
                        ],
                        "iteration": 695,
                        "passed_time": 20.84878933,
                        "remaining_time": 9.106367754,
                        "test": [
                          0.00002472236176
                        ]
                      },
                      {
                        "learn": [
                          0.00002315440072
                        ],
                        "iteration": 696,
                        "passed_time": 20.85595689,
                        "remaining_time": 9.066506369,
                        "test": [
                          0.00002469830866
                        ]
                      },
                      {
                        "learn": [
                          0.00002313344014
                        ],
                        "iteration": 697,
                        "passed_time": 20.86337342,
                        "remaining_time": 9.02684638,
                        "test": [
                          0.00002467455955
                        ]
                      },
                      {
                        "learn": [
                          0.00002310302986
                        ],
                        "iteration": 698,
                        "passed_time": 20.87051685,
                        "remaining_time": 8.987161046,
                        "test": [
                          0.00002464094509
                        ]
                      },
                      {
                        "learn": [
                          0.00002296327875
                        ],
                        "iteration": 699,
                        "passed_time": 20.87806763,
                        "remaining_time": 8.947743271,
                        "test": [
                          0.00002450135216
                        ]
                      },
                      {
                        "learn": [
                          0.00002294248412
                        ],
                        "iteration": 700,
                        "passed_time": 20.88527038,
                        "remaining_time": 8.908267966,
                        "test": [
                          0.00002447769765
                        ]
                      },
                      {
                        "learn": [
                          0.00002292172206
                        ],
                        "iteration": 701,
                        "passed_time": 20.89258777,
                        "remaining_time": 8.868933269,
                        "test": [
                          0.0000244572008
                        ]
                      },
                      {
                        "learn": [
                          0.00002290109959
                        ],
                        "iteration": 702,
                        "passed_time": 20.90072192,
                        "remaining_time": 8.830034725,
                        "test": [
                          0.00002443364245
                        ]
                      },
                      {
                        "learn": [
                          0.00002287118405
                        ],
                        "iteration": 703,
                        "passed_time": 20.90765249,
                        "remaining_time": 8.790717525,
                        "test": [
                          0.00002440042192
                        ]
                      },
                      {
                        "learn": [
                          0.00002284133365
                        ],
                        "iteration": 704,
                        "passed_time": 20.91462725,
                        "remaining_time": 8.751510691,
                        "test": [
                          0.00002436741231
                        ]
                      },
                      {
                        "learn": [
                          0.00002282090504
                        ],
                        "iteration": 705,
                        "passed_time": 20.92165808,
                        "remaining_time": 8.712418519,
                        "test": [
                          0.00002434710777
                        ]
                      },
                      {
                        "learn": [
                          0.00002280048883
                        ],
                        "iteration": 706,
                        "passed_time": 20.92858087,
                        "remaining_time": 8.673372269,
                        "test": [
                          0.0000243238503
                        ]
                      },
                      {
                        "learn": [
                          0.00002277093931
                        ],
                        "iteration": 707,
                        "passed_time": 20.93543018,
                        "remaining_time": 8.63438646,
                        "test": [
                          0.00002429111055
                        ]
                      },
                      {
                        "learn": [
                          0.00002275063167
                        ],
                        "iteration": 708,
                        "passed_time": 20.94239126,
                        "remaining_time": 8.595537173,
                        "test": [
                          0.00002427111619
                        ]
                      },
                      {
                        "learn": [
                          0.0000227320564
                        ],
                        "iteration": 709,
                        "passed_time": 20.94951064,
                        "remaining_time": 8.556842375,
                        "test": [
                          0.00002424814564
                        ]
                      },
                      {
                        "learn": [
                          0.00002270272865
                        ],
                        "iteration": 710,
                        "passed_time": 20.9565028,
                        "remaining_time": 8.518184682,
                        "test": [
                          0.0000242155098
                        ]
                      },
                      {
                        "learn": [
                          0.00002268270173
                        ],
                        "iteration": 711,
                        "passed_time": 20.96343612,
                        "remaining_time": 8.47959214,
                        "test": [
                          0.00002419265866
                        ]
                      },
                      {
                        "learn": [
                          0.00002266530205
                        ],
                        "iteration": 712,
                        "passed_time": 20.97047521,
                        "remaining_time": 8.441130975,
                        "test": [
                          0.0000241832834
                        ]
                      },
                      {
                        "learn": [
                          0.000022645241
                        ],
                        "iteration": 713,
                        "passed_time": 20.97748453,
                        "remaining_time": 8.402745906,
                        "test": [
                          0.0000241633728
                        ]
                      },
                      {
                        "learn": [
                          0.0000225010884
                        ],
                        "iteration": 714,
                        "passed_time": 20.98444344,
                        "remaining_time": 8.364428503,
                        "test": [
                          0.00002401498775
                        ]
                      },
                      {
                        "learn": [
                          0.00002247220267
                        ],
                        "iteration": 715,
                        "passed_time": 20.99134987,
                        "remaining_time": 8.326177882,
                        "test": [
                          0.00002398295057
                        ]
                      },
                      {
                        "learn": [
                          0.00002245229671
                        ],
                        "iteration": 716,
                        "passed_time": 20.99833957,
                        "remaining_time": 8.288047557,
                        "test": [
                          0.00002396037859
                        ]
                      },
                      {
                        "learn": [
                          0.00002243430148
                        ],
                        "iteration": 717,
                        "passed_time": 21.00536607,
                        "remaining_time": 8.250018429,
                        "test": [
                          0.00002393780042
                        ]
                      },
                      {
                        "learn": [
                          0.00002240568871
                        ],
                        "iteration": 718,
                        "passed_time": 21.01233222,
                        "remaining_time": 8.212051951,
                        "test": [
                          0.00002390606721
                        ]
                      },
                      {
                        "learn": [
                          0.00002237714573
                        ],
                        "iteration": 719,
                        "passed_time": 21.01916504,
                        "remaining_time": 8.174119737,
                        "test": [
                          0.00002387452322
                        ]
                      },
                      {
                        "learn": [
                          0.00002223453318
                        ],
                        "iteration": 720,
                        "passed_time": 21.02593184,
                        "remaining_time": 8.136248243,
                        "test": [
                          0.0000237272083
                        ]
                      },
                      {
                        "learn": [
                          0.0000222150196
                        ],
                        "iteration": 721,
                        "passed_time": 21.03308752,
                        "remaining_time": 8.098612645,
                        "test": [
                          0.00002370504112
                        ]
                      },
                      {
                        "learn": [
                          0.00002219550603
                        ],
                        "iteration": 722,
                        "passed_time": 21.03992019,
                        "remaining_time": 8.060937609,
                        "test": [
                          0.00002368285687
                        ]
                      },
                      {
                        "learn": [
                          0.00002217618477
                        ],
                        "iteration": 723,
                        "passed_time": 21.04697108,
                        "remaining_time": 8.023430966,
                        "test": [
                          0.00002366068194
                        ]
                      },
                      {
                        "learn": [
                          0.00002214801711
                        ],
                        "iteration": 724,
                        "passed_time": 21.05392662,
                        "remaining_time": 7.985972166,
                        "test": [
                          0.00002362941866
                        ]
                      },
                      {
                        "learn": [
                          0.00002212879201
                        ],
                        "iteration": 725,
                        "passed_time": 21.06094484,
                        "remaining_time": 7.948621056,
                        "test": [
                          0.00002360753839
                        ]
                      },
                      {
                        "learn": [
                          0.00002210083837
                        ],
                        "iteration": 726,
                        "passed_time": 21.06779553,
                        "remaining_time": 7.911290482,
                        "test": [
                          0.00002357647673
                        ]
                      },
                      {
                        "learn": [
                          0.0000220816598
                        ],
                        "iteration": 727,
                        "passed_time": 21.07470573,
                        "remaining_time": 7.874065877,
                        "test": [
                          0.00002355459957
                        ]
                      },
                      {
                        "learn": [
                          0.00002205382868
                        ],
                        "iteration": 728,
                        "passed_time": 21.08155003,
                        "remaining_time": 7.836899943,
                        "test": [
                          0.00002352392563
                        ]
                      },
                      {
                        "learn": [
                          0.00002202617437
                        ],
                        "iteration": 729,
                        "passed_time": 21.09079158,
                        "remaining_time": 7.800703734,
                        "test": [
                          0.000023493261
                        ]
                      },
                      {
                        "learn": [
                          0.00002199847043
                        ],
                        "iteration": 730,
                        "passed_time": 21.09777383,
                        "remaining_time": 7.763749878,
                        "test": [
                          0.00002346270494
                        ]
                      },
                      {
                        "learn": [
                          0.00002198121964
                        ],
                        "iteration": 731,
                        "passed_time": 21.1048606,
                        "remaining_time": 7.726916177,
                        "test": [
                          0.00002344091773
                        ]
                      },
                      {
                        "learn": [
                          0.00002196224579
                        ],
                        "iteration": 732,
                        "passed_time": 21.1120151,
                        "remaining_time": 7.690188311,
                        "test": [
                          0.00002342239984
                        ]
                      },
                      {
                        "learn": [
                          0.00002194342547
                        ],
                        "iteration": 733,
                        "passed_time": 21.11903127,
                        "remaining_time": 7.653490895,
                        "test": [
                          0.00002340376718
                        ]
                      },
                      {
                        "learn": [
                          0.00002192461601
                        ],
                        "iteration": 734,
                        "passed_time": 21.12608281,
                        "remaining_time": 7.616887001,
                        "test": [
                          0.00002338247161
                        ]
                      },
                      {
                        "learn": [
                          0.00002178682525
                        ],
                        "iteration": 735,
                        "passed_time": 21.13359829,
                        "remaining_time": 7.580529822,
                        "test": [
                          0.00002325381417
                        ]
                      },
                      {
                        "learn": [
                          0.00002176814761
                        ],
                        "iteration": 736,
                        "passed_time": 21.14182825,
                        "remaining_time": 7.544505876,
                        "test": [
                          0.00002323507605
                        ]
                      },
                      {
                        "learn": [
                          0.00002174954132
                        ],
                        "iteration": 737,
                        "passed_time": 21.14966643,
                        "remaining_time": 7.508418163,
                        "test": [
                          0.00002321664656
                        ]
                      },
                      {
                        "learn": [
                          0.00002173295277
                        ],
                        "iteration": 738,
                        "passed_time": 21.15692938,
                        "remaining_time": 7.472203744,
                        "test": [
                          0.00002319831168
                        ]
                      },
                      {
                        "learn": [
                          0.00002171443954
                        ],
                        "iteration": 739,
                        "passed_time": 21.1639235,
                        "remaining_time": 7.435973121,
                        "test": [
                          0.00002317700991
                        ]
                      },
                      {
                        "learn": [
                          0.00002168750485
                        ],
                        "iteration": 740,
                        "passed_time": 21.17107532,
                        "remaining_time": 7.399876528,
                        "test": [
                          0.00002314733011
                        ]
                      },
                      {
                        "learn": [
                          0.00002166902108
                        ],
                        "iteration": 741,
                        "passed_time": 21.17818522,
                        "remaining_time": 7.363843378,
                        "test": [
                          0.00002312898903
                        ]
                      },
                      {
                        "learn": [
                          0.0000216422663
                        ],
                        "iteration": 742,
                        "passed_time": 21.18516644,
                        "remaining_time": 7.327843574,
                        "test": [
                          0.00002309911226
                        ]
                      },
                      {
                        "learn": [
                          0.00002149660621
                        ],
                        "iteration": 743,
                        "passed_time": 21.19207365,
                        "remaining_time": 7.291896309,
                        "test": [
                          0.00002295082337
                        ]
                      },
                      {
                        "learn": [
                          0.00002147836439
                        ],
                        "iteration": 744,
                        "passed_time": 21.19899406,
                        "remaining_time": 7.256031524,
                        "test": [
                          0.00002293258
                        ]
                      },
                      {
                        "learn": [
                          0.00002146002951
                        ],
                        "iteration": 745,
                        "passed_time": 21.20591885,
                        "remaining_time": 7.220245827,
                        "test": [
                          0.0000229146406
                        ]
                      },
                      {
                        "learn": [
                          0.00002143362833
                        ],
                        "iteration": 746,
                        "passed_time": 21.21289412,
                        "remaining_time": 7.1845545,
                        "test": [
                          0.00002288524462
                        ]
                      },
                      {
                        "learn": [
                          0.00002141538341
                        ],
                        "iteration": 747,
                        "passed_time": 21.21968613,
                        "remaining_time": 7.148878215,
                        "test": [
                          0.00002286741999
                        ]
                      },
                      {
                        "learn": [
                          0.0000213891032
                        ],
                        "iteration": 748,
                        "passed_time": 21.22635931,
                        "remaining_time": 7.113239235,
                        "test": [
                          0.00002283821787
                        ]
                      },
                      {
                        "learn": [
                          0.0000213711607
                        ],
                        "iteration": 749,
                        "passed_time": 21.23316383,
                        "remaining_time": 7.077721276,
                        "test": [
                          0.0000228176078
                        ]
                      },
                      {
                        "learn": [
                          0.00002134502008
                        ],
                        "iteration": 750,
                        "passed_time": 21.23979302,
                        "remaining_time": 7.042221654,
                        "test": [
                          0.00002278852045
                        ]
                      },
                      {
                        "learn": [
                          0.00002131903921
                        ],
                        "iteration": 751,
                        "passed_time": 21.24629424,
                        "remaining_time": 7.006756611,
                        "test": [
                          0.00002275971846
                        ]
                      },
                      {
                        "learn": [
                          0.0000213011665
                        ],
                        "iteration": 752,
                        "passed_time": 21.25311838,
                        "remaining_time": 6.971474422,
                        "test": [
                          0.00002274197603
                        ]
                      },
                      {
                        "learn": [
                          0.00002128337134
                        ],
                        "iteration": 753,
                        "passed_time": 21.25981873,
                        "remaining_time": 6.93622733,
                        "test": [
                          0.00002272166839
                        ]
                      },
                      {
                        "learn": [
                          0.00002125753004
                        ],
                        "iteration": 754,
                        "passed_time": 21.26637024,
                        "remaining_time": 6.901007563,
                        "test": [
                          0.00002269306182
                        ]
                      },
                      {
                        "learn": [
                          0.00002123977986
                        ],
                        "iteration": 755,
                        "passed_time": 21.2733278,
                        "remaining_time": 6.865994685,
                        "test": [
                          0.00002267561096
                        ]
                      },
                      {
                        "learn": [
                          0.00002121409055
                        ],
                        "iteration": 756,
                        "passed_time": 21.28005111,
                        "remaining_time": 6.830980739,
                        "test": [
                          0.0000226471052
                        ]
                      },
                      {
                        "learn": [
                          0.00002118856565
                        ],
                        "iteration": 757,
                        "passed_time": 21.28673801,
                        "remaining_time": 6.796029815,
                        "test": [
                          0.0000226187933
                        ]
                      },
                      {
                        "learn": [
                          0.0000210520823
                        ],
                        "iteration": 758,
                        "passed_time": 21.29333492,
                        "remaining_time": 6.76112479,
                        "test": [
                          0.00002247977267
                        ]
                      },
                      {
                        "learn": [
                          0.00002103457871
                        ],
                        "iteration": 759,
                        "passed_time": 21.29992581,
                        "remaining_time": 6.726292362,
                        "test": [
                          0.00002246233111
                        ]
                      },
                      {
                        "learn": [
                          0.00002100918253
                        ],
                        "iteration": 760,
                        "passed_time": 21.3067572,
                        "remaining_time": 6.691609685,
                        "test": [
                          0.00002243411227
                        ]
                      },
                      {
                        "learn": [
                          0.00002099183093
                        ],
                        "iteration": 761,
                        "passed_time": 21.31352598,
                        "remaining_time": 6.656980555,
                        "test": [
                          0.00002241452115
                        ]
                      },
                      {
                        "learn": [
                          0.00002097444986
                        ],
                        "iteration": 762,
                        "passed_time": 21.32034535,
                        "remaining_time": 6.622440167,
                        "test": [
                          0.00002239439652
                        ]
                      },
                      {
                        "learn": [
                          0.00002094929407
                        ],
                        "iteration": 763,
                        "passed_time": 21.32683258,
                        "remaining_time": 6.587869748,
                        "test": [
                          0.00002236647235
                        ]
                      },
                      {
                        "learn": [
                          0.00002093209135
                        ],
                        "iteration": 764,
                        "passed_time": 21.3336071,
                        "remaining_time": 6.553461005,
                        "test": [
                          0.00002234685332
                        ]
                      },
                      {
                        "learn": [
                          0.00002090705653
                        ],
                        "iteration": 765,
                        "passed_time": 21.34050853,
                        "remaining_time": 6.519163179,
                        "test": [
                          0.00002231894466
                        ]
                      },
                      {
                        "learn": [
                          0.00002088538564
                        ],
                        "iteration": 766,
                        "passed_time": 21.34733293,
                        "remaining_time": 6.484913392,
                        "test": [
                          0.00002229348799
                        ]
                      },
                      {
                        "learn": [
                          0.00002074158664
                        ],
                        "iteration": 767,
                        "passed_time": 21.35399764,
                        "remaining_time": 6.450686788,
                        "test": [
                          0.00002214717341
                        ]
                      },
                      {
                        "learn": [
                          0.00002072460881
                        ],
                        "iteration": 768,
                        "passed_time": 21.36076323,
                        "remaining_time": 6.416562168,
                        "test": [
                          0.00002212764123
                        ]
                      },
                      {
                        "learn": [
                          0.0000207076682
                        ],
                        "iteration": 769,
                        "passed_time": 21.36751476,
                        "remaining_time": 6.382504409,
                        "test": [
                          0.00002210809509
                        ]
                      },
                      {
                        "learn": [
                          0.0000206830118
                        ],
                        "iteration": 770,
                        "passed_time": 21.37435725,
                        "remaining_time": 6.3485445,
                        "test": [
                          0.00002208077578
                        ]
                      },
                      {
                        "learn": [
                          0.00002065840038
                        ],
                        "iteration": 771,
                        "passed_time": 21.3810324,
                        "remaining_time": 6.314605424,
                        "test": [
                          0.00002205365808
                        ]
                      },
                      {
                        "learn": [
                          0.0000206338572
                        ],
                        "iteration": 772,
                        "passed_time": 21.38774707,
                        "remaining_time": 6.280748493,
                        "test": [
                          0.00002202653418
                        ]
                      },
                      {
                        "learn": [
                          0.00002061697088
                        ],
                        "iteration": 773,
                        "passed_time": 21.39447774,
                        "remaining_time": 6.246966367,
                        "test": [
                          0.00002200985568
                        ]
                      },
                      {
                        "learn": [
                          0.00002059268049
                        ],
                        "iteration": 774,
                        "passed_time": 21.40122189,
                        "remaining_time": 6.213257969,
                        "test": [
                          0.00002198274574
                        ]
                      },
                      {
                        "learn": [
                          0.00002056844284
                        ],
                        "iteration": 775,
                        "passed_time": 21.40842785,
                        "remaining_time": 6.17975237,
                        "test": [
                          0.00002195592117
                        ]
                      },
                      {
                        "learn": [
                          0.00002054424707
                        ],
                        "iteration": 776,
                        "passed_time": 21.41505862,
                        "remaining_time": 6.146149384,
                        "test": [
                          0.00002192908884
                        ]
                      },
                      {
                        "learn": [
                          0.00002052765386
                        ],
                        "iteration": 777,
                        "passed_time": 21.42188598,
                        "remaining_time": 6.112671834,
                        "test": [
                          0.0000219100576
                        ]
                      },
                      {
                        "learn": [
                          0.00002051424158
                        ],
                        "iteration": 778,
                        "passed_time": 21.44155541,
                        "remaining_time": 6.082905964,
                        "test": [
                          0.00002189368307
                        ]
                      },
                      {
                        "learn": [
                          0.00002049024897
                        ],
                        "iteration": 779,
                        "passed_time": 21.47635661,
                        "remaining_time": 6.057433917,
                        "test": [
                          0.00002186714697
                        ]
                      },
                      {
                        "learn": [
                          0.00002047382326
                        ],
                        "iteration": 780,
                        "passed_time": 21.48873279,
                        "remaining_time": 6.025649783,
                        "test": [
                          0.00002184829719
                        ]
                      },
                      {
                        "learn": [
                          0.00002044992681
                        ],
                        "iteration": 781,
                        "passed_time": 21.49547301,
                        "remaining_time": 5.992344138,
                        "test": [
                          0.00002182196426
                        ]
                      },
                      {
                        "learn": [
                          0.00002043358485
                        ],
                        "iteration": 782,
                        "passed_time": 21.50273797,
                        "remaining_time": 5.959251774,
                        "test": [
                          0.00002180321838
                        ]
                      },
                      {
                        "learn": [
                          0.00002029093043
                        ],
                        "iteration": 783,
                        "passed_time": 21.51071151,
                        "remaining_time": 5.926420518,
                        "test": [
                          0.00002165806854
                        ]
                      },
                      {
                        "learn": [
                          0.00002027153938
                        ],
                        "iteration": 784,
                        "passed_time": 21.51744834,
                        "remaining_time": 5.893313876,
                        "test": [
                          0.00002163595564
                        ]
                      },
                      {
                        "learn": [
                          0.00002024788952
                        ],
                        "iteration": 785,
                        "passed_time": 21.54966722,
                        "remaining_time": 5.867212195,
                        "test": [
                          0.00002160972662
                        ]
                      },
                      {
                        "learn": [
                          0.00002023171196
                        ],
                        "iteration": 786,
                        "passed_time": 21.55734082,
                        "remaining_time": 5.834451836,
                        "test": [
                          0.00002159384218
                        ]
                      },
                      {
                        "learn": [
                          0.00002021548477
                        ],
                        "iteration": 787,
                        "passed_time": 21.56421776,
                        "remaining_time": 5.80154082,
                        "test": [
                          0.00002157530568
                        ]
                      },
                      {
                        "learn": [
                          0.00002019222885
                        ],
                        "iteration": 788,
                        "passed_time": 21.57099346,
                        "remaining_time": 5.76866872,
                        "test": [
                          0.00002154937754
                        ]
                      },
                      {
                        "learn": [
                          0.00002017615365
                        ],
                        "iteration": 789,
                        "passed_time": 21.57773001,
                        "remaining_time": 5.735852281,
                        "test": [
                          0.0000215311171
                        ]
                      },
                      {
                        "learn": [
                          0.00002016019786
                        ],
                        "iteration": 790,
                        "passed_time": 21.58460355,
                        "remaining_time": 5.70313798,
                        "test": [
                          0.00002151297143
                        ]
                      },
                      {
                        "learn": [
                          0.00002013696055
                        ],
                        "iteration": 791,
                        "passed_time": 21.59136137,
                        "remaining_time": 5.67045854,
                        "test": [
                          0.0000214872294
                        ]
                      },
                      {
                        "learn": [
                          0.00002011387833
                        ],
                        "iteration": 792,
                        "passed_time": 21.59802643,
                        "remaining_time": 5.637820265,
                        "test": [
                          0.00002146157111
                        ]
                      },
                      {
                        "learn": [
                          0.00001997908548
                        ],
                        "iteration": 793,
                        "passed_time": 21.60681021,
                        "remaining_time": 5.605797108,
                        "test": [
                          0.00002132451548
                        ]
                      },
                      {
                        "learn": [
                          0.00001995607305
                        ],
                        "iteration": 794,
                        "passed_time": 21.61362998,
                        "remaining_time": 5.57332597,
                        "test": [
                          0.00002129905261
                        ]
                      },
                      {
                        "learn": [
                          0.00001993306062
                        ],
                        "iteration": 795,
                        "passed_time": 21.6202377,
                        "remaining_time": 5.540864937,
                        "test": [
                          0.00002127369365
                        ]
                      },
                      {
                        "learn": [
                          0.00001991745379
                        ],
                        "iteration": 796,
                        "passed_time": 21.62699482,
                        "remaining_time": 5.508506837,
                        "test": [
                          0.0000212557465
                        ]
                      },
                      {
                        "learn": [
                          0.00001990169343
                        ],
                        "iteration": 797,
                        "passed_time": 21.63365676,
                        "remaining_time": 5.476188803,
                        "test": [
                          0.00002124756699
                        ]
                      },
                      {
                        "learn": [
                          0.00001988604317
                        ],
                        "iteration": 798,
                        "passed_time": 21.64042487,
                        "remaining_time": 5.443961702,
                        "test": [
                          0.00002122980905
                        ]
                      },
                      {
                        "learn": [
                          0.00001987045186
                        ],
                        "iteration": 799,
                        "passed_time": 21.64997907,
                        "remaining_time": 5.412494768,
                        "test": [
                          0.00002121175178
                        ]
                      },
                      {
                        "learn": [
                          0.00001985491947
                        ],
                        "iteration": 800,
                        "passed_time": 21.65654416,
                        "remaining_time": 5.380339934,
                        "test": [
                          0.00002119419546
                        ]
                      },
                      {
                        "learn": [
                          0.0000198393111
                        ],
                        "iteration": 801,
                        "passed_time": 21.66315023,
                        "remaining_time": 5.348259035,
                        "test": [
                          0.00002117871736
                        ]
                      },
                      {
                        "learn": [
                          0.00001982382369
                        ],
                        "iteration": 802,
                        "passed_time": 21.66992115,
                        "remaining_time": 5.316282026,
                        "test": [
                          0.00002116105867
                        ]
                      },
                      {
                        "learn": [
                          0.00001980830837
                        ],
                        "iteration": 803,
                        "passed_time": 21.67822797,
                        "remaining_time": 5.284742142,
                        "test": [
                          0.00002114566898
                        ]
                      },
                      {
                        "learn": [
                          0.00001979297295
                        ],
                        "iteration": 804,
                        "passed_time": 21.68507503,
                        "remaining_time": 5.252906373,
                        "test": [
                          0.0000211281111
                        ]
                      },
                      {
                        "learn": [
                          0.00001977041959
                        ],
                        "iteration": 805,
                        "passed_time": 21.69171536,
                        "remaining_time": 5.221082854,
                        "test": [
                          0.00002110313522
                        ]
                      },
                      {
                        "learn": [
                          0.0000197551307
                        ],
                        "iteration": 806,
                        "passed_time": 21.69834413,
                        "remaining_time": 5.18931898,
                        "test": [
                          0.00002108805415
                        ]
                      },
                      {
                        "learn": [
                          0.00001973979374
                        ],
                        "iteration": 807,
                        "passed_time": 21.70513665,
                        "remaining_time": 5.157656235,
                        "test": [
                          0.00002107060019
                        ]
                      },
                      {
                        "learn": [
                          0.00001972454827
                        ],
                        "iteration": 808,
                        "passed_time": 21.71195332,
                        "remaining_time": 5.126060673,
                        "test": [
                          0.00002105323928
                        ]
                      },
                      {
                        "learn": [
                          0.00001958341839
                        ],
                        "iteration": 809,
                        "passed_time": 21.71858634,
                        "remaining_time": 5.094483216,
                        "test": [
                          0.00002090975667
                        ]
                      },
                      {
                        "learn": [
                          0.00001956810004
                        ],
                        "iteration": 810,
                        "passed_time": 21.72872819,
                        "remaining_time": 5.063784991,
                        "test": [
                          0.00002089475935
                        ]
                      },
                      {
                        "learn": [
                          0.00001955303138
                        ],
                        "iteration": 811,
                        "passed_time": 21.73557483,
                        "remaining_time": 5.032374467,
                        "test": [
                          0.00002087740155
                        ]
                      },
                      {
                        "learn": [
                          0.00001953914762
                        ],
                        "iteration": 812,
                        "passed_time": 21.74253856,
                        "remaining_time": 5.001051304,
                        "test": [
                          0.00002086013214
                        ]
                      },
                      {
                        "learn": [
                          0.00001952536001
                        ],
                        "iteration": 813,
                        "passed_time": 21.74936456,
                        "remaining_time": 4.969756522,
                        "test": [
                          0.00002085065917
                        ]
                      },
                      {
                        "learn": [
                          0.00001951034718
                        ],
                        "iteration": 814,
                        "passed_time": 21.75612167,
                        "remaining_time": 4.938506146,
                        "test": [
                          0.00002083369065
                        ]
                      },
                      {
                        "learn": [
                          0.00001949535142
                        ],
                        "iteration": 815,
                        "passed_time": 21.76297465,
                        "remaining_time": 4.907337422,
                        "test": [
                          0.000020816429
                        ]
                      },
                      {
                        "learn": [
                          0.00001947347115
                        ],
                        "iteration": 816,
                        "passed_time": 21.76984572,
                        "remaining_time": 4.876232272,
                        "test": [
                          0.00002079224563
                        ]
                      },
                      {
                        "learn": [
                          0.00001945168084
                        ],
                        "iteration": 817,
                        "passed_time": 21.77654811,
                        "remaining_time": 4.845148846,
                        "test": [
                          0.00002076807157
                        ]
                      },
                      {
                        "learn": [
                          0.00001943671609
                        ],
                        "iteration": 818,
                        "passed_time": 21.78328801,
                        "remaining_time": 4.814133248,
                        "test": [
                          0.00002075347128
                        ]
                      },
                      {
                        "learn": [
                          0.00001942196692
                        ],
                        "iteration": 819,
                        "passed_time": 21.79002271,
                        "remaining_time": 4.783175716,
                        "test": [
                          0.00002073620808
                        ]
                      },
                      {
                        "learn": [
                          0.00001940702078
                        ],
                        "iteration": 820,
                        "passed_time": 21.79673348,
                        "remaining_time": 4.752271976,
                        "test": [
                          0.00002071943342
                        ]
                      },
                      {
                        "learn": [
                          0.00001927333218
                        ],
                        "iteration": 821,
                        "passed_time": 21.80359683,
                        "remaining_time": 4.72146014,
                        "test": [
                          0.00002058355183
                        ]
                      },
                      {
                        "learn": [
                          0.00001925182103
                        ],
                        "iteration": 822,
                        "passed_time": 21.81026055,
                        "remaining_time": 4.690663569,
                        "test": [
                          0.00002055977325
                        ]
                      },
                      {
                        "learn": [
                          0.00001923417476
                        ],
                        "iteration": 823,
                        "passed_time": 21.81701242,
                        "remaining_time": 4.659944401,
                        "test": [
                          0.00002053994019
                        ]
                      },
                      {
                        "learn": [
                          0.00001921954966
                        ],
                        "iteration": 824,
                        "passed_time": 21.82375929,
                        "remaining_time": 4.629282273,
                        "test": [
                          0.00002052316087
                        ]
                      },
                      {
                        "learn": [
                          0.00001919823082
                        ],
                        "iteration": 825,
                        "passed_time": 21.83037338,
                        "remaining_time": 4.598650083,
                        "test": [
                          0.0000204994071
                        ]
                      },
                      {
                        "learn": [
                          0.00001918050235
                        ],
                        "iteration": 826,
                        "passed_time": 21.83716613,
                        "remaining_time": 4.568113351,
                        "test": [
                          0.00002047817357
                        ]
                      },
                      {
                        "learn": [
                          0.00001915933085
                        ],
                        "iteration": 827,
                        "passed_time": 21.84392451,
                        "remaining_time": 4.53762683,
                        "test": [
                          0.00002045459506
                        ]
                      },
                      {
                        "learn": [
                          0.00001913809266
                        ],
                        "iteration": 828,
                        "passed_time": 21.85085367,
                        "remaining_time": 4.507232784,
                        "test": [
                          0.00002043130811
                        ]
                      },
                      {
                        "learn": [
                          0.00001912370951
                        ],
                        "iteration": 829,
                        "passed_time": 21.86051743,
                        "remaining_time": 4.477455377,
                        "test": [
                          0.00002041482813
                        ]
                      },
                      {
                        "learn": [
                          0.00001910930309
                        ],
                        "iteration": 830,
                        "passed_time": 21.8687273,
                        "remaining_time": 4.447430703,
                        "test": [
                          0.00002039824578
                        ]
                      },
                      {
                        "learn": [
                          0.00001908823085
                        ],
                        "iteration": 831,
                        "passed_time": 21.87578631,
                        "remaining_time": 4.417226082,
                        "test": [
                          0.00002037515735
                        ]
                      },
                      {
                        "learn": [
                          0.00001906736333
                        ],
                        "iteration": 832,
                        "passed_time": 21.88296521,
                        "remaining_time": 4.387101068,
                        "test": [
                          0.00002035167654
                        ]
                      },
                      {
                        "learn": [
                          0.0000190464865
                        ],
                        "iteration": 833,
                        "passed_time": 21.89052575,
                        "remaining_time": 4.357107044,
                        "test": [
                          0.00002032867032
                        ]
                      },
                      {
                        "learn": [
                          0.00001903222897
                        ],
                        "iteration": 834,
                        "passed_time": 21.8972295,
                        "remaining_time": 4.326997447,
                        "test": [
                          0.00002031445776
                        ]
                      },
                      {
                        "learn": [
                          0.00001901787373
                        ],
                        "iteration": 835,
                        "passed_time": 21.90393873,
                        "remaining_time": 4.296944919,
                        "test": [
                          0.00002030035067
                        ]
                      },
                      {
                        "learn": [
                          0.00001899717526
                        ],
                        "iteration": 836,
                        "passed_time": 21.91050776,
                        "remaining_time": 4.266920867,
                        "test": [
                          0.00002027755381
                        ]
                      },
                      {
                        "learn": [
                          0.00001897652022
                        ],
                        "iteration": 837,
                        "passed_time": 21.91712745,
                        "remaining_time": 4.236962586,
                        "test": [
                          0.00002025456155
                        ]
                      },
                      {
                        "learn": [
                          0.00001884350626
                        ],
                        "iteration": 838,
                        "passed_time": 21.9239181,
                        "remaining_time": 4.207092746,
                        "test": [
                          0.00002011946472
                        ]
                      },
                      {
                        "learn": [
                          0.0000188293697
                        ],
                        "iteration": 839,
                        "passed_time": 21.93059327,
                        "remaining_time": 4.177255861,
                        "test": [
                          0.00002010536848
                        ]
                      },
                      {
                        "learn": [
                          0.00001881524089
                        ],
                        "iteration": 840,
                        "passed_time": 21.93727779,
                        "remaining_time": 4.147475824,
                        "test": [
                          0.00002008956779
                        ]
                      },
                      {
                        "learn": [
                          0.00001880140055
                        ],
                        "iteration": 841,
                        "passed_time": 21.94395926,
                        "remaining_time": 4.117750076,
                        "test": [
                          0.00002007358719
                        ]
                      },
                      {
                        "learn": [
                          0.00001878731362
                        ],
                        "iteration": 842,
                        "passed_time": 21.95063696,
                        "remaining_time": 4.088078295,
                        "test": [
                          0.00002005742359
                        ]
                      },
                      {
                        "learn": [
                          0.00001876697962
                        ],
                        "iteration": 843,
                        "passed_time": 21.95734635,
                        "remaining_time": 4.058466861,
                        "test": [
                          0.00002003500981
                        ]
                      },
                      {
                        "learn": [
                          0.00001874664871
                        ],
                        "iteration": 844,
                        "passed_time": 21.96428909,
                        "remaining_time": 4.028952436,
                        "test": [
                          0.00002001231687
                        ]
                      },
                      {
                        "learn": [
                          0.00001872641397
                        ],
                        "iteration": 845,
                        "passed_time": 21.97133839,
                        "remaining_time": 3.999510771,
                        "test": [
                          0.00001998989533
                        ]
                      },
                      {
                        "learn": [
                          0.00001870625211
                        ],
                        "iteration": 846,
                        "passed_time": 21.97834317,
                        "remaining_time": 3.970113937,
                        "test": [
                          0.00001996769248
                        ]
                      },
                      {
                        "learn": [
                          0.00001868613989
                        ],
                        "iteration": 847,
                        "passed_time": 21.98491874,
                        "remaining_time": 3.940692981,
                        "test": [
                          0.00001994528801
                        ]
                      },
                      {
                        "learn": [
                          0.00001867396213
                        ],
                        "iteration": 848,
                        "passed_time": 21.99169938,
                        "remaining_time": 3.911362317,
                        "test": [
                          0.00001993157019
                        ]
                      },
                      {
                        "learn": [
                          0.00001866008922
                        ],
                        "iteration": 849,
                        "passed_time": 21.99843194,
                        "remaining_time": 3.882076226,
                        "test": [
                          0.0000199181517
                        ]
                      },
                      {
                        "learn": [
                          0.00001864642879
                        ],
                        "iteration": 850,
                        "passed_time": 22.00513275,
                        "remaining_time": 3.852837579,
                        "test": [
                          0.00001990255573
                        ]
                      },
                      {
                        "learn": [
                          0.00001862648716
                        ],
                        "iteration": 851,
                        "passed_time": 22.01173656,
                        "remaining_time": 3.82363499,
                        "test": [
                          0.00001988044593
                        ]
                      },
                      {
                        "learn": [
                          0.00001849569101
                        ],
                        "iteration": 852,
                        "passed_time": 22.01863459,
                        "remaining_time": 3.794536091,
                        "test": [
                          0.00001975492288
                        ]
                      },
                      {
                        "learn": [
                          0.00001847592774
                        ],
                        "iteration": 853,
                        "passed_time": 22.02522298,
                        "remaining_time": 3.765436246,
                        "test": [
                          0.00001973301625
                        ]
                      },
                      {
                        "learn": [
                          0.00001846349408
                        ],
                        "iteration": 854,
                        "passed_time": 22.03199301,
                        "remaining_time": 3.736419867,
                        "test": [
                          0.00001971771651
                        ]
                      },
                      {
                        "learn": [
                          0.00001844373236
                        ],
                        "iteration": 855,
                        "passed_time": 22.03859597,
                        "remaining_time": 3.707427359,
                        "test": [
                          0.00001969559895
                        ]
                      },
                      {
                        "learn": [
                          0.00001843020996
                        ],
                        "iteration": 856,
                        "passed_time": 22.04529158,
                        "remaining_time": 3.678502563,
                        "test": [
                          0.00001968228903
                        ]
                      },
                      {
                        "learn": [
                          0.00001841056766
                        ],
                        "iteration": 857,
                        "passed_time": 22.05190658,
                        "remaining_time": 3.649616241,
                        "test": [
                          0.00001966068017
                        ]
                      },
                      {
                        "learn": [
                          0.00001839425672
                        ],
                        "iteration": 858,
                        "passed_time": 22.05865407,
                        "remaining_time": 3.62080352,
                        "test": [
                          0.00001964103632
                        ]
                      },
                      {
                        "learn": [
                          0.00001837483465
                        ],
                        "iteration": 859,
                        "passed_time": 22.06562021,
                        "remaining_time": 3.592077708,
                        "test": [
                          0.00001961942902
                        ]
                      },
                      {
                        "learn": [
                          0.00001836143633
                        ],
                        "iteration": 860,
                        "passed_time": 22.07231622,
                        "remaining_time": 3.563358832,
                        "test": [
                          0.00001960442239
                        ]
                      },
                      {
                        "learn": [
                          0.00001834206233
                        ],
                        "iteration": 861,
                        "passed_time": 22.07896671,
                        "remaining_time": 3.534683766,
                        "test": [
                          0.00001958279648
                        ]
                      },
                      {
                        "learn": [
                          0.00001832873845
                        ],
                        "iteration": 862,
                        "passed_time": 22.0857024,
                        "remaining_time": 3.506073267,
                        "test": [
                          0.00001956740523
                        ]
                      },
                      {
                        "learn": [
                          0.00001830938927
                        ],
                        "iteration": 863,
                        "passed_time": 22.09237134,
                        "remaining_time": 3.477502896,
                        "test": [
                          0.00001954628026
                        ]
                      },
                      {
                        "learn": [
                          0.00001829619412
                        ],
                        "iteration": 864,
                        "passed_time": 22.09900521,
                        "remaining_time": 3.448977692,
                        "test": [
                          0.00001953305718
                        ]
                      },
                      {
                        "learn": [
                          0.00001827697211
                        ],
                        "iteration": 865,
                        "passed_time": 22.10564015,
                        "remaining_time": 3.420503211,
                        "test": [
                          0.00001951172749
                        ]
                      },
                      {
                        "learn": [
                          0.00001826374284
                        ],
                        "iteration": 866,
                        "passed_time": 22.11257208,
                        "remaining_time": 3.392124667,
                        "test": [
                          0.00001949683564
                        ]
                      },
                      {
                        "learn": [
                          0.00001825074619
                        ],
                        "iteration": 867,
                        "passed_time": 22.11947348,
                        "remaining_time": 3.363790898,
                        "test": [
                          0.00001948172665
                        ]
                      },
                      {
                        "learn": [
                          0.00001823161415
                        ],
                        "iteration": 868,
                        "passed_time": 22.12601767,
                        "remaining_time": 3.335452607,
                        "test": [
                          0.00001946059548
                        ]
                      },
                      {
                        "learn": [
                          0.00001809373033
                        ],
                        "iteration": 869,
                        "passed_time": 22.13258544,
                        "remaining_time": 3.307167939,
                        "test": [
                          0.00001932066756
                        ]
                      },
                      {
                        "learn": [
                          0.00001807468048
                        ],
                        "iteration": 870,
                        "passed_time": 22.13926782,
                        "remaining_time": 3.278950113,
                        "test": [
                          0.00001929974576
                        ]
                      },
                      {
                        "learn": [
                          0.00001805918687
                        ],
                        "iteration": 871,
                        "passed_time": 22.14642003,
                        "remaining_time": 3.250850646,
                        "test": [
                          0.0000192818684
                        ]
                      },
                      {
                        "learn": [
                          0.00001804625226
                        ],
                        "iteration": 872,
                        "passed_time": 22.15312131,
                        "remaining_time": 3.22273357,
                        "test": [
                          0.00001926695793
                        ]
                      },
                      {
                        "learn": [
                          0.0000180332215
                        ],
                        "iteration": 873,
                        "passed_time": 22.1600469,
                        "remaining_time": 3.194697836,
                        "test": [
                          0.00001925453823
                        ]
                      },
                      {
                        "learn": [
                          0.00001801446322
                        ],
                        "iteration": 874,
                        "passed_time": 22.166736,
                        "remaining_time": 3.166676572,
                        "test": [
                          0.00001923360247
                        ]
                      },
                      {
                        "learn": [
                          0.00001799575457
                        ],
                        "iteration": 875,
                        "passed_time": 22.17335327,
                        "remaining_time": 3.138693842,
                        "test": [
                          0.00001921287453
                        ]
                      },
                      {
                        "learn": [
                          0.00001798292698
                        ],
                        "iteration": 876,
                        "passed_time": 22.18011172,
                        "remaining_time": 3.110779637,
                        "test": [
                          0.00001919826184
                        ]
                      },
                      {
                        "learn": [
                          0.0000179643424
                        ],
                        "iteration": 877,
                        "passed_time": 22.1867551,
                        "remaining_time": 3.082897634,
                        "test": [
                          0.00001917734469
                        ]
                      },
                      {
                        "learn": [
                          0.00001794568183
                        ],
                        "iteration": 878,
                        "passed_time": 22.19333255,
                        "remaining_time": 3.055054879,
                        "test": [
                          0.00001915690678
                        ]
                      },
                      {
                        "learn": [
                          0.00001793299847
                        ],
                        "iteration": 879,
                        "passed_time": 22.20000531,
                        "remaining_time": 3.027273452,
                        "test": [
                          0.00001914230184
                        ]
                      },
                      {
                        "learn": [
                          0.00001791454107
                        ],
                        "iteration": 880,
                        "passed_time": 22.20659439,
                        "remaining_time": 2.99952864,
                        "test": [
                          0.00001912185772
                        ]
                      },
                      {
                        "learn": [
                          0.00001789607592
                        ],
                        "iteration": 881,
                        "passed_time": 22.21303575,
                        "remaining_time": 2.971812038,
                        "test": [
                          0.0000191014198
                        ]
                      },
                      {
                        "learn": [
                          0.00001787774104
                        ],
                        "iteration": 882,
                        "passed_time": 22.21968387,
                        "remaining_time": 2.944171022,
                        "test": [
                          0.00001908098654
                        ]
                      },
                      {
                        "learn": [
                          0.00001786517865
                        ],
                        "iteration": 883,
                        "passed_time": 22.22631826,
                        "remaining_time": 2.916575699,
                        "test": [
                          0.00001906667162
                        ]
                      },
                      {
                        "learn": [
                          0.00001784691976
                        ],
                        "iteration": 884,
                        "passed_time": 22.2328258,
                        "remaining_time": 2.889011262,
                        "test": [
                          0.00001904633762
                        ]
                      },
                      {
                        "learn": [
                          0.00001770976797
                        ],
                        "iteration": 885,
                        "passed_time": 22.23942119,
                        "remaining_time": 2.861505661,
                        "test": [
                          0.00001890728906
                        ]
                      },
                      {
                        "learn": [
                          0.00001769165177
                        ],
                        "iteration": 886,
                        "passed_time": 22.24594404,
                        "remaining_time": 2.834037967,
                        "test": [
                          0.00001888725748
                        ]
                      },
                      {
                        "learn": [
                          0.00001768019984
                        ],
                        "iteration": 887,
                        "passed_time": 22.25262281,
                        "remaining_time": 2.806637111,
                        "test": [
                          0.00001887283866
                        ]
                      },
                      {
                        "learn": [
                          0.00001766447204
                        ],
                        "iteration": 888,
                        "passed_time": 22.25933597,
                        "remaining_time": 2.779287168,
                        "test": [
                          0.00001885476743
                        ]
                      },
                      {
                        "learn": [
                          0.00001765206785
                        ],
                        "iteration": 889,
                        "passed_time": 22.2658991,
                        "remaining_time": 2.751965057,
                        "test": [
                          0.00001884233532
                        ]
                      },
                      {
                        "learn": [
                          0.00001763967606
                        ],
                        "iteration": 890,
                        "passed_time": 22.27263288,
                        "remaining_time": 2.72471042,
                        "test": [
                          0.00001883009397
                        ]
                      },
                      {
                        "learn": [
                          0.00001762165912
                        ],
                        "iteration": 891,
                        "passed_time": 22.2792414,
                        "remaining_time": 2.697486626,
                        "test": [
                          0.00001881004999
                        ]
                      },
                      {
                        "learn": [
                          0.00001760677502
                        ],
                        "iteration": 892,
                        "passed_time": 22.28595146,
                        "remaining_time": 2.670321172,
                        "test": [
                          0.0000187923789
                        ]
                      },
                      {
                        "learn": [
                          0.00001759208168
                        ],
                        "iteration": 893,
                        "passed_time": 22.29255534,
                        "remaining_time": 2.643188888,
                        "test": [
                          0.00001877568799
                        ]
                      },
                      {
                        "learn": [
                          0.00001757991478
                        ],
                        "iteration": 894,
                        "passed_time": 22.29951145,
                        "remaining_time": 2.616143801,
                        "test": [
                          0.00001876374597
                        ]
                      },
                      {
                        "learn": [
                          0.00001756760209
                        ],
                        "iteration": 895,
                        "passed_time": 22.30616709,
                        "remaining_time": 2.58910868,
                        "test": [
                          0.00001875160543
                        ]
                      },
                      {
                        "learn": [
                          0.00001754980382
                        ],
                        "iteration": 896,
                        "passed_time": 22.31277186,
                        "remaining_time": 2.562113157,
                        "test": [
                          0.00001873177702
                        ]
                      },
                      {
                        "learn": [
                          0.00001753761055
                        ],
                        "iteration": 897,
                        "passed_time": 22.31953946,
                        "remaining_time": 2.535181542,
                        "test": [
                          0.00001871973574
                        ]
                      },
                      {
                        "learn": [
                          0.00001752680535
                        ],
                        "iteration": 898,
                        "passed_time": 22.32630573,
                        "remaining_time": 2.508294637,
                        "test": [
                          0.0000187075952
                        ]
                      },
                      {
                        "learn": [
                          0.00001751471444
                        ],
                        "iteration": 899,
                        "passed_time": 22.33301076,
                        "remaining_time": 2.48144564,
                        "test": [
                          0.00001869397044
                        ]
                      },
                      {
                        "learn": [
                          0.00001750259872
                        ],
                        "iteration": 900,
                        "passed_time": 22.33990264,
                        "remaining_time": 2.454661888,
                        "test": [
                          0.00001868034413
                        ]
                      },
                      {
                        "learn": [
                          0.00001749050936
                        ],
                        "iteration": 901,
                        "passed_time": 22.34681384,
                        "remaining_time": 2.427924342,
                        "test": [
                          0.0000186665224
                        ]
                      },
                      {
                        "learn": [
                          0.00001747300732
                        ],
                        "iteration": 902,
                        "passed_time": 22.35344495,
                        "remaining_time": 2.401200621,
                        "test": [
                          0.00001864698401
                        ]
                      },
                      {
                        "learn": [
                          0.00001734424907
                        ],
                        "iteration": 903,
                        "passed_time": 22.36169237,
                        "remaining_time": 2.374692995,
                        "test": [
                          0.00001851622043
                        ]
                      },
                      {
                        "learn": [
                          0.00001733233341
                        ],
                        "iteration": 904,
                        "passed_time": 22.36838368,
                        "remaining_time": 2.348062376,
                        "test": [
                          0.00001850250107
                        ]
                      },
                      {
                        "learn": [
                          0.00001731482982
                        ],
                        "iteration": 905,
                        "passed_time": 22.37514277,
                        "remaining_time": 2.321482804,
                        "test": [
                          0.00001848324029
                        ]
                      },
                      {
                        "learn": [
                          0.00001729747512
                        ],
                        "iteration": 906,
                        "passed_time": 22.38189516,
                        "remaining_time": 2.294946251,
                        "test": [
                          0.00001846388801
                        ]
                      },
                      {
                        "learn": [
                          0.0000172902184
                        ],
                        "iteration": 907,
                        "passed_time": 22.38895519,
                        "remaining_time": 2.268484446,
                        "test": [
                          0.00001845370938
                        ]
                      },
                      {
                        "learn": [
                          0.00001727293814
                        ],
                        "iteration": 908,
                        "passed_time": 22.39560278,
                        "remaining_time": 2.242024041,
                        "test": [
                          0.00001843445946
                        ]
                      },
                      {
                        "learn": [
                          0.00001725565633
                        ],
                        "iteration": 909,
                        "passed_time": 22.40378599,
                        "remaining_time": 2.215759054,
                        "test": [
                          0.00001841541736
                        ]
                      },
                      {
                        "learn": [
                          0.00001723847533
                        ],
                        "iteration": 910,
                        "passed_time": 22.41047926,
                        "remaining_time": 2.189388205,
                        "test": [
                          0.00001839625275
                        ]
                      },
                      {
                        "learn": [
                          0.0000172267008
                        ],
                        "iteration": 911,
                        "passed_time": 22.41732222,
                        "remaining_time": 2.163074951,
                        "test": [
                          0.00001838291801
                        ]
                      },
                      {
                        "learn": [
                          0.00001720957098
                        ],
                        "iteration": 912,
                        "passed_time": 22.42378396,
                        "remaining_time": 2.136768022,
                        "test": [
                          0.00001836395811
                        ]
                      },
                      {
                        "learn": [
                          0.00001719785074
                        ],
                        "iteration": 913,
                        "passed_time": 22.43047618,
                        "remaining_time": 2.110526205,
                        "test": [
                          0.00001835053652
                        ]
                      },
                      {
                        "learn": [
                          0.00001718609793
                        ],
                        "iteration": 914,
                        "passed_time": 22.43725235,
                        "remaining_time": 2.084334918,
                        "test": [
                          0.00001833907838
                        ]
                      },
                      {
                        "learn": [
                          0.00001716904255
                        ],
                        "iteration": 915,
                        "passed_time": 22.44380746,
                        "remaining_time": 2.05816575,
                        "test": [
                          0.00001832012934
                        ]
                      },
                      {
                        "learn": [
                          0.00001715748981
                        ],
                        "iteration": 916,
                        "passed_time": 22.49175065,
                        "remaining_time": 2.0357855,
                        "test": [
                          0.00001830689231
                        ]
                      },
                      {
                        "learn": [
                          0.00001714344941
                        ],
                        "iteration": 917,
                        "passed_time": 22.5169666,
                        "remaining_time": 2.011319457,
                        "test": [
                          0.00001829002769
                        ]
                      },
                      {
                        "learn": [
                          0.00001713185014
                        ],
                        "iteration": 918,
                        "passed_time": 22.52360695,
                        "remaining_time": 1.985214541,
                        "test": [
                          0.00001827856955
                        ]
                      },
                      {
                        "learn": [
                          0.0000171202245
                        ],
                        "iteration": 919,
                        "passed_time": 22.53008862,
                        "remaining_time": 1.959138141,
                        "test": [
                          0.00001826702146
                        ]
                      },
                      {
                        "learn": [
                          0.00001710859576
                        ],
                        "iteration": 920,
                        "passed_time": 22.53688943,
                        "remaining_time": 1.933131667,
                        "test": [
                          0.00001825586576
                        ]
                      },
                      {
                        "learn": [
                          0.00001709181335
                        ],
                        "iteration": 921,
                        "passed_time": 22.5681214,
                        "remaining_time": 1.909233698,
                        "test": [
                          0.00001823720518
                        ]
                      },
                      {
                        "learn": [
                          0.00001695616749
                        ],
                        "iteration": 922,
                        "passed_time": 22.57816701,
                        "remaining_time": 1.883552394,
                        "test": [
                          0.00001809962689
                        ]
                      },
                      {
                        "learn": [
                          0.00001694466128
                        ],
                        "iteration": 923,
                        "passed_time": 22.58494252,
                        "remaining_time": 1.857635965,
                        "test": [
                          0.00001808827112
                        ]
                      },
                      {
                        "learn": [
                          0.00001693309458
                        ],
                        "iteration": 924,
                        "passed_time": 22.59167304,
                        "remaining_time": 1.831757274,
                        "test": [
                          0.00001807693085
                        ]
                      },
                      {
                        "learn": [
                          0.00001692170778
                        ],
                        "iteration": 925,
                        "passed_time": 22.60045867,
                        "remaining_time": 1.80608417,
                        "test": [
                          0.00001806408154
                        ]
                      },
                      {
                        "learn": [
                          0.00001690511613
                        ],
                        "iteration": 926,
                        "passed_time": 22.60720108,
                        "remaining_time": 1.780286601,
                        "test": [
                          0.00001804551403
                        ]
                      },
                      {
                        "learn": [
                          0.00001689155961
                        ],
                        "iteration": 927,
                        "passed_time": 22.61400899,
                        "remaining_time": 1.75453518,
                        "test": [
                          0.00001803020653
                        ]
                      },
                      {
                        "learn": [
                          0.0000168802333
                        ],
                        "iteration": 928,
                        "passed_time": 22.62083877,
                        "remaining_time": 1.728826214,
                        "test": [
                          0.0000180187577
                        ]
                      },
                      {
                        "learn": [
                          0.00001686364785
                        ],
                        "iteration": 929,
                        "passed_time": 22.62752588,
                        "remaining_time": 1.703147109,
                        "test": [
                          0.00001800058566
                        ]
                      },
                      {
                        "learn": [
                          0.00001684719732
                        ],
                        "iteration": 930,
                        "passed_time": 22.63424791,
                        "remaining_time": 1.677511392,
                        "test": [
                          0.00001798251444
                        ]
                      },
                      {
                        "learn": [
                          0.00001683085071
                        ],
                        "iteration": 931,
                        "passed_time": 22.64132087,
                        "remaining_time": 1.651941866,
                        "test": [
                          0.00001796434706
                        ]
                      },
                      {
                        "learn": [
                          0.00001681954922
                        ],
                        "iteration": 932,
                        "passed_time": 22.64799994,
                        "remaining_time": 1.626383704,
                        "test": [
                          0.00001795308899
                        ]
                      },
                      {
                        "learn": [
                          0.00001680328015
                        ],
                        "iteration": 933,
                        "passed_time": 22.65455439,
                        "remaining_time": 1.600857163,
                        "test": [
                          0.00001793501001
                        ]
                      },
                      {
                        "learn": [
                          0.0000167870359
                        ],
                        "iteration": 934,
                        "passed_time": 22.66148912,
                        "remaining_time": 1.575397639,
                        "test": [
                          0.0000179171373
                        ]
                      },
                      {
                        "learn": [
                          0.00001677577938
                        ],
                        "iteration": 935,
                        "passed_time": 22.6701612,
                        "remaining_time": 1.550096492,
                        "test": [
                          0.00001790598004
                        ]
                      },
                      {
                        "learn": [
                          0.00001675963439
                        ],
                        "iteration": 936,
                        "passed_time": 22.6767517,
                        "remaining_time": 1.524690883,
                        "test": [
                          0.00001788809492
                        ]
                      },
                      {
                        "learn": [
                          0.00001674857639
                        ],
                        "iteration": 937,
                        "passed_time": 22.68349947,
                        "remaining_time": 1.499335786,
                        "test": [
                          0.00001787537589
                        ]
                      },
                      {
                        "learn": [
                          0.00001673245001
                        ],
                        "iteration": 938,
                        "passed_time": 22.6901299,
                        "remaining_time": 1.474012699,
                        "test": [
                          0.00001785749388
                        ]
                      },
                      {
                        "learn": [
                          0.00001660249135
                        ],
                        "iteration": 939,
                        "passed_time": 22.69688476,
                        "remaining_time": 1.448737325,
                        "test": [
                          0.00001772772598
                        ]
                      },
                      {
                        "learn": [
                          0.00001659150314
                        ],
                        "iteration": 940,
                        "passed_time": 22.7037608,
                        "remaining_time": 1.423508913,
                        "test": [
                          0.00001771520702
                        ]
                      },
                      {
                        "learn": [
                          0.00001658054594
                        ],
                        "iteration": 941,
                        "passed_time": 22.71066624,
                        "remaining_time": 1.398321276,
                        "test": [
                          0.00001770255934
                        ]
                      },
                      {
                        "learn": [
                          0.00001656940574
                        ],
                        "iteration": 942,
                        "passed_time": 22.71741545,
                        "remaining_time": 1.37316297,
                        "test": [
                          0.00001769189372
                        ]
                      },
                      {
                        "learn": [
                          0.00001655351045
                        ],
                        "iteration": 943,
                        "passed_time": 22.72706815,
                        "remaining_time": 1.348215907,
                        "test": [
                          0.00001767411716
                        ]
                      },
                      {
                        "learn": [
                          0.00001654255015
                        ],
                        "iteration": 944,
                        "passed_time": 22.73375944,
                        "remaining_time": 1.323128856,
                        "test": [
                          0.00001766167265
                        ]
                      },
                      {
                        "learn": [
                          0.00001652676963
                        ],
                        "iteration": 945,
                        "passed_time": 22.74039852,
                        "remaining_time": 1.298077717,
                        "test": [
                          0.00001764389299
                        ]
                      },
                      {
                        "learn": [
                          0.00001651588998
                        ],
                        "iteration": 946,
                        "passed_time": 22.7470278,
                        "remaining_time": 1.273064914,
                        "test": [
                          0.00001763175556
                        ]
                      },
                      {
                        "learn": [
                          0.00001650282045
                        ],
                        "iteration": 947,
                        "passed_time": 22.75367372,
                        "remaining_time": 1.248091807,
                        "test": [
                          0.0000176170374
                        ]
                      },
                      {
                        "learn": [
                          0.00001649200904
                        ],
                        "iteration": 948,
                        "passed_time": 22.76029776,
                        "remaining_time": 1.22315615,
                        "test": [
                          0.00001760616861
                        ]
                      },
                      {
                        "learn": [
                          0.00001647625798
                        ],
                        "iteration": 949,
                        "passed_time": 22.76692733,
                        "remaining_time": 1.198259333,
                        "test": [
                          0.00001758888215
                        ]
                      },
                      {
                        "learn": [
                          0.00001646551481
                        ],
                        "iteration": 950,
                        "passed_time": 22.77357268,
                        "remaining_time": 1.173401747,
                        "test": [
                          0.00001757653069
                        ]
                      },
                      {
                        "learn": [
                          0.00001645467704
                        ],
                        "iteration": 951,
                        "passed_time": 22.78032856,
                        "remaining_time": 1.148587995,
                        "test": [
                          0.00001756577666
                        ]
                      },
                      {
                        "learn": [
                          0.00001643900197
                        ],
                        "iteration": 952,
                        "passed_time": 22.78693223,
                        "remaining_time": 1.123804632,
                        "test": [
                          0.0000175484933
                        ]
                      },
                      {
                        "learn": [
                          0.00001642347269
                        ],
                        "iteration": 953,
                        "passed_time": 22.79335574,
                        "remaining_time": 1.099050696,
                        "test": [
                          0.00001753120994
                        ]
                      },
                      {
                        "learn": [
                          0.00001641280707
                        ],
                        "iteration": 954,
                        "passed_time": 22.79998395,
                        "remaining_time": 1.074344794,
                        "test": [
                          0.00001751916401
                        ]
                      },
                      {
                        "learn": [
                          0.00001639732432
                        ],
                        "iteration": 955,
                        "passed_time": 22.80658918,
                        "remaining_time": 1.049675653,
                        "test": [
                          0.0000175018853
                        ]
                      },
                      {
                        "learn": [
                          0.00001638663698
                        ],
                        "iteration": 956,
                        "passed_time": 22.81332535,
                        "remaining_time": 1.025050146,
                        "test": [
                          0.0000174896393
                        ]
                      },
                      {
                        "learn": [
                          0.00001637125504
                        ],
                        "iteration": 957,
                        "passed_time": 22.8198494,
                        "remaining_time": 1.000452687,
                        "test": [
                          0.00001747274056
                        ]
                      },
                      {
                        "learn": [
                          0.00001636061268
                        ],
                        "iteration": 958,
                        "passed_time": 22.82667159,
                        "remaining_time": 0.9759056677,
                        "test": [
                          0.00001746050697
                        ]
                      },
                      {
                        "learn": [
                          0.00001634538583
                        ],
                        "iteration": 959,
                        "passed_time": 22.83324182,
                        "remaining_time": 0.951385076,
                        "test": [
                          0.00001744352138
                        ]
                      },
                      {
                        "learn": [
                          0.00001632994805
                        ],
                        "iteration": 960,
                        "passed_time": 22.83980664,
                        "remaining_time": 0.9269016221,
                        "test": [
                          0.0000174266273
                        ]
                      },
                      {
                        "learn": [
                          0.00001620052601
                        ],
                        "iteration": 961,
                        "passed_time": 22.84665963,
                        "remaining_time": 0.9024668047,
                        "test": [
                          0.0000172956621
                        ]
                      },
                      {
                        "learn": [
                          0.00001619136477
                        ],
                        "iteration": 962,
                        "passed_time": 22.85358832,
                        "remaining_time": 0.8780714101,
                        "test": [
                          0.0000172907302
                        ]
                      },
                      {
                        "learn": [
                          0.0000161818825
                        ],
                        "iteration": 963,
                        "passed_time": 22.86042257,
                        "remaining_time": 0.8537087265,
                        "test": [
                          0.00001728440093
                        ]
                      },
                      {
                        "learn": [
                          0.00001617131303
                        ],
                        "iteration": 964,
                        "passed_time": 22.86722408,
                        "remaining_time": 0.8293811841,
                        "test": [
                          0.00001727394778
                        ]
                      },
                      {
                        "learn": [
                          0.00001615617924
                        ],
                        "iteration": 965,
                        "passed_time": 22.8739656,
                        "remaining_time": 0.8050878162,
                        "test": [
                          0.00001725704905
                        ]
                      },
                      {
                        "learn": [
                          0.00001614099426
                        ],
                        "iteration": 966,
                        "passed_time": 22.88164009,
                        "remaining_time": 0.7808625882,
                        "test": [
                          0.00001724036124
                        ]
                      },
                      {
                        "learn": [
                          0.00001612590699
                        ],
                        "iteration": 967,
                        "passed_time": 22.88870694,
                        "remaining_time": 0.7566514692,
                        "test": [
                          0.00001722366722
                        ]
                      },
                      {
                        "learn": [
                          0.00001611667441
                        ],
                        "iteration": 968,
                        "passed_time": 22.89724778,
                        "remaining_time": 0.7325228907,
                        "test": [
                          0.00001721330093
                        ]
                      },
                      {
                        "learn": [
                          0.00001610632828
                        ],
                        "iteration": 969,
                        "passed_time": 22.90478125,
                        "remaining_time": 0.7083952963,
                        "test": [
                          0.00001720154346
                        ]
                      },
                      {
                        "learn": [
                          0.00001609598059
                        ],
                        "iteration": 970,
                        "passed_time": 22.91172722,
                        "remaining_time": 0.6842843352,
                        "test": [
                          0.00001719117717
                        ]
                      },
                      {
                        "learn": [
                          0.00001608107013
                        ],
                        "iteration": 971,
                        "passed_time": 22.91824463,
                        "remaining_time": 0.6601963474,
                        "test": [
                          0.0000171744816
                        ]
                      },
                      {
                        "learn": [
                          0.00001607079999
                        ],
                        "iteration": 972,
                        "passed_time": 22.92498888,
                        "remaining_time": 0.6361507704,
                        "test": [
                          0.00001716440378
                        ]
                      },
                      {
                        "learn": [
                          0.00001606045385
                        ],
                        "iteration": 973,
                        "passed_time": 22.9316172,
                        "remaining_time": 0.6121376256,
                        "test": [
                          0.0000171542329
                        ]
                      },
                      {
                        "learn": [
                          0.00001605018217
                        ],
                        "iteration": 974,
                        "passed_time": 22.93809746,
                        "remaining_time": 0.5881563452,
                        "test": [
                          0.0000171425809
                        ]
                      },
                      {
                        "learn": [
                          0.00001603998492
                        ],
                        "iteration": 975,
                        "passed_time": 22.94455879,
                        "remaining_time": 0.5642104621,
                        "test": [
                          0.00001713251238
                        ]
                      },
                      {
                        "learn": [
                          0.00001602976286
                        ],
                        "iteration": 976,
                        "passed_time": 22.9511162,
                        "remaining_time": 0.5403026332,
                        "test": [
                          0.00001712105114
                        ]
                      },
                      {
                        "learn": [
                          0.00001601956406
                        ],
                        "iteration": 977,
                        "passed_time": 22.95778314,
                        "remaining_time": 0.5164327496,
                        "test": [
                          0.00001710940379
                        ]
                      },
                      {
                        "learn": [
                          0.00001600481799
                        ],
                        "iteration": 978,
                        "passed_time": 22.96434209,
                        "remaining_time": 0.4925956935,
                        "test": [
                          0.00001709300134
                        ]
                      },
                      {
                        "learn": [
                          0.00001599470295
                        ],
                        "iteration": 979,
                        "passed_time": 22.97118147,
                        "remaining_time": 0.4687996218,
                        "test": [
                          0.00001708144395
                        ]
                      },
                      {
                        "learn": [
                          0.00001586567018
                        ],
                        "iteration": 980,
                        "passed_time": 22.9783565,
                        "remaining_time": 0.4450446214,
                        "test": [
                          0.00001695088664
                        ]
                      },
                      {
                        "learn": [
                          0.00001585102337
                        ],
                        "iteration": 981,
                        "passed_time": 22.98500406,
                        "remaining_time": 0.4213137201,
                        "test": [
                          0.00001693478352
                        ]
                      },
                      {
                        "learn": [
                          0.00001584198465
                        ],
                        "iteration": 982,
                        "passed_time": 22.99171777,
                        "remaining_time": 0.3976187204,
                        "test": [
                          0.0000169247119
                        ]
                      },
                      {
                        "learn": [
                          0.00001583203555
                        ],
                        "iteration": 983,
                        "passed_time": 22.99847612,
                        "remaining_time": 0.3739589613,
                        "test": [
                          0.0000169131576
                        ]
                      },
                      {
                        "learn": [
                          0.00001582201201
                        ],
                        "iteration": 984,
                        "passed_time": 23.00509886,
                        "remaining_time": 0.3503314547,
                        "test": [
                          0.0000169033729
                        ]
                      },
                      {
                        "learn": [
                          0.00001580739001
                        ],
                        "iteration": 985,
                        "passed_time": 23.01158022,
                        "remaining_time": 0.3267364332,
                        "test": [
                          0.00001688707902
                        ]
                      },
                      {
                        "learn": [
                          0.00001579744091
                        ],
                        "iteration": 986,
                        "passed_time": 23.01824507,
                        "remaining_time": 0.3031785065,
                        "test": [
                          0.00001687729897
                        ]
                      },
                      {
                        "learn": [
                          0.0000157872995
                        ],
                        "iteration": 987,
                        "passed_time": 23.02491994,
                        "remaining_time": 0.2796548981,
                        "test": [
                          0.00001686742897
                        ]
                      },
                      {
                        "learn": [
                          0.00001577744191
                        ],
                        "iteration": 988,
                        "passed_time": 23.03149034,
                        "remaining_time": 0.2561641999,
                        "test": [
                          0.00001685606544
                        ]
                      },
                      {
                        "learn": [
                          0.00001576538977
                        ],
                        "iteration": 989,
                        "passed_time": 23.03817906,
                        "remaining_time": 0.2327088794,
                        "test": [
                          0.00001684165126
                        ]
                      },
                      {
                        "learn": [
                          0.00001575296542
                        ],
                        "iteration": 990,
                        "passed_time": 23.04464821,
                        "remaining_time": 0.2092854025,
                        "test": [
                          0.00001682702461
                        ]
                      },
                      {
                        "learn": [
                          0.00001574096446
                        ],
                        "iteration": 991,
                        "passed_time": 23.05123612,
                        "remaining_time": 0.1858970655,
                        "test": [
                          0.00001681259338
                        ]
                      },
                      {
                        "learn": [
                          0.00001573108825
                        ],
                        "iteration": 992,
                        "passed_time": 23.05797858,
                        "remaining_time": 0.1625436556,
                        "test": [
                          0.00001680136012
                        ]
                      },
                      {
                        "learn": [
                          0.00001572133302
                        ],
                        "iteration": 993,
                        "passed_time": 23.06467517,
                        "remaining_time": 0.1392233914,
                        "test": [
                          0.0000167900974
                        ]
                      },
                      {
                        "learn": [
                          0.00001570696227
                        ],
                        "iteration": 994,
                        "passed_time": 23.07120523,
                        "remaining_time": 0.1159357047,
                        "test": [
                          0.0000167742843
                        ]
                      },
                      {
                        "learn": [
                          0.00001569984823
                        ],
                        "iteration": 995,
                        "passed_time": 23.0781813,
                        "remaining_time": 0.09268345903,
                        "test": [
                          0.00001677301256
                        ]
                      },
                      {
                        "learn": [
                          0.0000156880458
                        ],
                        "iteration": 996,
                        "passed_time": 23.08485506,
                        "remaining_time": 0.06946295406,
                        "test": [
                          0.00001675897835
                        ]
                      },
                      {
                        "learn": [
                          0.00001567379912
                        ],
                        "iteration": 997,
                        "passed_time": 23.09161976,
                        "remaining_time": 0.0462757911,
                        "test": [
                          0.00001674296984
                        ]
                      },
                      {
                        "learn": [
                          0.00001566414469
                        ],
                        "iteration": 998,
                        "passed_time": 23.09840838,
                        "remaining_time": 0.02312152991,
                        "test": [
                          0.00001673200955
                        ]
                      },
                      {
                        "learn": [
                          0.00001565431191
                        ],
                        "iteration": 999,
                        "passed_time": 23.10520481,
                        "remaining_time": 0,
                        "test": [
                          0.00001672233651
                        ]
                      }
                    ],
                    "meta": {
                      "test_sets": [
                        "test"
                      ],
                      "test_metrics": [
                        {
                          "best_value": "Min",
                          "name": "MultiClass"
                        }
                      ],
                      "learn_metrics": [
                        {
                          "best_value": "Min",
                          "name": "MultiClass"
                        }
                      ],
                      "launch_mode": "Train",
                      "parameters": "",
                      "iteration_count": 1000,
                      "learn_sets": [
                        "learn"
                      ],
                      "name": "experiment"
                    }
                  }
                }
              }
            },
            "layout": "IPY_MODEL_d5e7b22ad77449e69f6566d752934b47"
          }
        }
      }
    },
    "accelerator": "GPU"
  },
  "cells": [
    {
      "cell_type": "markdown",
      "metadata": {
        "id": "view-in-github",
        "colab_type": "text"
      },
      "source": [
        "<a href=\"https://colab.research.google.com/github/Yanina-Kutovaya/GNN/blob/main/5_1_CatBoost.ipynb\" target=\"_parent\"><img src=\"https://colab.research.google.com/assets/colab-badge.svg\" alt=\"Open In Colab\"/></a>"
      ]
    },
    {
      "cell_type": "markdown",
      "source": [
        "# Реализация CatBoostClassifier с использованием GPU (CUDA 12.5) для классификации узлов на датасете Bitcoin-OTC\n",
        "\n",
        "Задача — предсказать \"уровень доверия\" пользователей\n",
        "\n",
        "Признаки узлов/рёбер - синтетические"
      ],
      "metadata": {
        "id": "YCOQl0-4rgpv"
      }
    },
    {
      "cell_type": "markdown",
      "source": [
        "Небходимо выбрать среду выполнения с GPU: Среда выполнения → Сменить среду выполнения → Графический процессор T4"
      ],
      "metadata": {
        "id": "dE5Com4Fr4PG"
      }
    },
    {
      "cell_type": "markdown",
      "source": [
        "## 1. Установка зависимостей"
      ],
      "metadata": {
        "id": "5hgp6VWTshjH"
      }
    },
    {
      "cell_type": "markdown",
      "source": [
        "Требования:\n",
        "- CatBoost ≥1.2.2\n",
        "- PyTorch Geometric для загрузки данных\n"
      ],
      "metadata": {
        "id": "2_ESRcv8srxJ"
      }
    },
    {
      "cell_type": "markdown",
      "source": [
        "* CatBoost автоматически использует доступные GPU через CUDA, явная установка CUDA 12.5 не требуется"
      ],
      "metadata": {
        "id": "dwH_a7CotLHY"
      }
    },
    {
      "cell_type": "code",
      "source": [
        "install = True\n",
        "if install:\n",
        "  !pip install -q catboost\n",
        "  !pip install -q torch-geometric"
      ],
      "metadata": {
        "id": "syNkpHxOr0o5"
      },
      "execution_count": 1,
      "outputs": []
    },
    {
      "cell_type": "markdown",
      "source": [
        "## 2. Импорт библиотек"
      ],
      "metadata": {
        "id": "ozuwHyaWsB-5"
      }
    },
    {
      "cell_type": "code",
      "source": [
        "import numpy as np\n",
        "import pandas as pd\n",
        "from catboost import CatBoostClassifier, Pool\n",
        "from torch_geometric.datasets import BitcoinOTC\n",
        "from sklearn.model_selection import train_test_split\n",
        "from sklearn.metrics import classification_report"
      ],
      "metadata": {
        "id": "wllZ2lz2tUEZ"
      },
      "execution_count": 2,
      "outputs": []
    },
    {
      "cell_type": "markdown",
      "source": [
        "## 3. Загрузка данных"
      ],
      "metadata": {
        "id": "HRF04tYPxl_7"
      }
    },
    {
      "cell_type": "code",
      "source": [
        "dataset = BitcoinOTC(root='/tmp/BitcoinOTC')\n",
        "data = dataset[0]"
      ],
      "metadata": {
        "id": "V8wKGX0ltWRC"
      },
      "execution_count": 3,
      "outputs": []
    },
    {
      "cell_type": "markdown",
      "source": [
        "## 4. Создание признаков узлов с учётом рёбер"
      ],
      "metadata": {
        "id": "KDJSrnVsxuq1"
      }
    },
    {
      "cell_type": "code",
      "source": [
        "def create_node_features(data):\n",
        "    num_nodes = data.num_nodes\n",
        "    features = []\n",
        "\n",
        "    # Степень узлов\n",
        "    degrees = np.zeros(num_nodes)\n",
        "    for src in data.edge_index[0].unique().cpu().numpy():\n",
        "        degrees[src] = (data.edge_index[0].cpu().numpy() == src).sum()\n",
        "\n",
        "    # Статистики по рёбрам\n",
        "    edge_attrs = [[] for _ in range(num_nodes)]\n",
        "    for i in range(data.edge_index.size(1)):\n",
        "        src = data.edge_index[0, i].item()\n",
        "        attr = data.edge_attr[i].item()\n",
        "        edge_attrs[src].append(attr)\n",
        "\n",
        "    # Создание фичей\n",
        "    for node_id in range(num_nodes):\n",
        "        node_feats = [\n",
        "            degrees[node_id],  # Степень узла\n",
        "            np.mean(edge_attrs[node_id]) if edge_attrs[node_id] else 0,  # Среднее значение рёбер\n",
        "            np.max(edge_attrs[node_id]) if edge_attrs[node_id] else 0,   # Максимум\n",
        "            np.min(edge_attrs[node_id]) if edge_attrs[node_id] else 0,   # Минимум\n",
        "            len(edge_attrs[node_id])                                      # Количество рёбер\n",
        "        ]\n",
        "        features.append(node_feats)\n",
        "\n",
        "    return np.array(features)"
      ],
      "metadata": {
        "id": "cEa_9JUvtXqZ"
      },
      "execution_count": 4,
      "outputs": []
    },
    {
      "cell_type": "markdown",
      "source": [
        "## 5. Подготовка данных"
      ],
      "metadata": {
        "id": "N3tBESn5x1bB"
      }
    },
    {
      "cell_type": "code",
      "source": [
        "X = create_node_features(data)\n",
        "X"
      ],
      "metadata": {
        "colab": {
          "base_uri": "https://localhost:8080/"
        },
        "id": "63tjiuFEp58V",
        "outputId": "376d85f9-b489-4000-9278-d9a35bd40c8c"
      },
      "execution_count": 5,
      "outputs": [
        {
          "output_type": "execute_result",
          "data": {
            "text/plain": [
              "array([[2. , 2.5, 4. , 1. , 2. ],\n",
              "       [3. , 5. , 5. , 5. , 3. ],\n",
              "       [0. , 0. , 0. , 0. , 0. ],\n",
              "       ...,\n",
              "       [0. , 0. , 0. , 0. , 0. ],\n",
              "       [0. , 0. , 0. , 0. , 0. ],\n",
              "       [0. , 0. , 0. , 0. , 0. ]])"
            ]
          },
          "metadata": {},
          "execution_count": 5
        }
      ]
    },
    {
      "cell_type": "code",
      "source": [
        "y = np.zeros(data.num_nodes)\n",
        "\n",
        "# Создание меток (3 класса)\n",
        "q1 = np.quantile(X[:, 0], 0.5)\n",
        "q2 = np.quantile(X[:, 0], 0.999)\n",
        "y[X[:, 0] > q2] = 2\n",
        "y[(X[:, 0] > q1) & (X[:, 0] <= q2)] = 1"
      ],
      "metadata": {
        "id": "lbVFWlgjtbez"
      },
      "execution_count": 6,
      "outputs": []
    },
    {
      "cell_type": "markdown",
      "source": [
        "## 6. Разделение данных"
      ],
      "metadata": {
        "id": "p7oQxlCzx6QZ"
      }
    },
    {
      "cell_type": "code",
      "source": [
        "X_train, X_test, y_train, y_test = train_test_split(\n",
        "    X, y,\n",
        "    test_size=0.2,\n",
        "    stratify=y,\n",
        "    random_state=42\n",
        ")"
      ],
      "metadata": {
        "id": "vIC2EBNKthNL"
      },
      "execution_count": 7,
      "outputs": []
    },
    {
      "cell_type": "markdown",
      "source": [
        "## 7. Создание CatBoost модели с GPU"
      ],
      "metadata": {
        "id": "6hA_2K_Lx-r1"
      }
    },
    {
      "cell_type": "code",
      "source": [
        "model = CatBoostClassifier(\n",
        "    iterations=1000,\n",
        "    learning_rate=0.1,\n",
        "    depth=8,\n",
        "    loss_function='MultiClass',\n",
        "    task_type='GPU',  # Включение GPU\n",
        "    devices='0:1',    # Использование первого GPU\n",
        "    verbose=100,\n",
        "    early_stopping_rounds=50\n",
        ")"
      ],
      "metadata": {
        "id": "_zQpjgzitizP"
      },
      "execution_count": 8,
      "outputs": []
    },
    {
      "cell_type": "markdown",
      "source": [
        "## 8. Обучение"
      ],
      "metadata": {
        "id": "9rCWtMJVyDp7"
      }
    },
    {
      "cell_type": "code",
      "source": [
        "model.fit(\n",
        "    X_train, y_train,\n",
        "    eval_set=(X_test, y_test),\n",
        "    plot=True\n",
        ")"
      ],
      "metadata": {
        "colab": {
          "base_uri": "https://localhost:8080/",
          "height": 260,
          "referenced_widgets": [
            "bfbc6e0c9d1243a0a948e0c7abb73a21"
          ]
        },
        "id": "3Gt9avFytk6w",
        "outputId": "c9ea668c-f3ce-44d9-9026-bf3b11573dc1"
      },
      "execution_count": 9,
      "outputs": [
        {
          "output_type": "display_data",
          "data": {
            "text/plain": [
              "MetricVisualizer(layout=Layout(align_self='stretch', height='500px'))"
            ],
            "application/vnd.jupyter.widget-view+json": {
              "version_major": 2,
              "version_minor": 0,
              "model_id": "bfbc6e0c9d1243a0a948e0c7abb73a21"
            }
          },
          "metadata": {}
        },
        {
          "output_type": "stream",
          "name": "stdout",
          "text": [
            "0:\tlearn: 0.9095124\ttest: 0.9095340\tbest: 0.9095340 (0)\ttotal: 52.7ms\tremaining: 52.6s\n",
            "100:\tlearn: 0.0003864\ttest: 0.0004004\tbest: 0.0004004 (100)\ttotal: 1.18s\tremaining: 10.5s\n",
            "200:\tlearn: 0.0001089\ttest: 0.0001150\tbest: 0.0001150 (200)\ttotal: 4.45s\tremaining: 17.7s\n",
            "300:\tlearn: 0.0000629\ttest: 0.0000668\tbest: 0.0000668 (300)\ttotal: 9.19s\tremaining: 21.3s\n",
            "400:\tlearn: 0.0000442\ttest: 0.0000471\tbest: 0.0000471 (400)\ttotal: 12.8s\tremaining: 19.2s\n",
            "500:\tlearn: 0.0000338\ttest: 0.0000360\tbest: 0.0000360 (500)\ttotal: 17.1s\tremaining: 17.1s\n",
            "600:\tlearn: 0.0000274\ttest: 0.0000292\tbest: 0.0000292 (600)\ttotal: 20.1s\tremaining: 13.3s\n",
            "700:\tlearn: 0.0000229\ttest: 0.0000245\tbest: 0.0000245 (700)\ttotal: 20.9s\tremaining: 8.91s\n",
            "800:\tlearn: 0.0000199\ttest: 0.0000212\tbest: 0.0000212 (800)\ttotal: 21.7s\tremaining: 5.38s\n",
            "900:\tlearn: 0.0000175\ttest: 0.0000187\tbest: 0.0000187 (900)\ttotal: 22.3s\tremaining: 2.45s\n",
            "999:\tlearn: 0.0000157\ttest: 0.0000167\tbest: 0.0000167 (999)\ttotal: 23.1s\tremaining: 0us\n",
            "bestTest = 1.672233651e-05\n",
            "bestIteration = 999\n"
          ]
        },
        {
          "output_type": "execute_result",
          "data": {
            "text/plain": [
              "<catboost.core.CatBoostClassifier at 0x7e1ba27b7250>"
            ]
          },
          "metadata": {},
          "execution_count": 9
        }
      ]
    },
    {
      "cell_type": "markdown",
      "source": [
        "## 9. Оценка"
      ],
      "metadata": {
        "id": "Y1Um4P5GyK05"
      }
    },
    {
      "cell_type": "code",
      "source": [
        "y_pred = model.predict(X_test)\n",
        "print(classification_report(y_test, y_pred, labels=[0, 1, 2]))"
      ],
      "metadata": {
        "colab": {
          "base_uri": "https://localhost:8080/"
        },
        "id": "KgEKu4uuty6F",
        "outputId": "3b9605de-591e-454d-b9e1-2e62e6efec81"
      },
      "execution_count": 10,
      "outputs": [
        {
          "output_type": "stream",
          "name": "stdout",
          "text": [
            "              precision    recall  f1-score   support\n",
            "\n",
            "           0       1.00      1.00      1.00      1198\n",
            "           1       1.00      1.00      1.00         2\n",
            "           2       1.00      1.00      1.00         1\n",
            "\n",
            "    accuracy                           1.00      1201\n",
            "   macro avg       1.00      1.00      1.00      1201\n",
            "weighted avg       1.00      1.00      1.00      1201\n",
            "\n"
          ]
        }
      ]
    },
    {
      "cell_type": "markdown",
      "source": [
        "## 10. Важность признаков"
      ],
      "metadata": {
        "id": "6EXQ93LVyPSR"
      }
    },
    {
      "cell_type": "code",
      "source": [
        "feature_names = ['Degree', 'EdgeMean', 'EdgeMax', 'EdgeMin', 'EdgeCount']\n",
        "print(\"\\nFeature Importance:\")\n",
        "for name, score in zip(feature_names, model.get_feature_importance()):\n",
        "    print(f\"{name}: {score:.2f}\")"
      ],
      "metadata": {
        "colab": {
          "base_uri": "https://localhost:8080/"
        },
        "id": "5p5L1DUvsKws",
        "outputId": "1672f061-4f72-49ad-9e23-7d857d665bf8"
      },
      "execution_count": 11,
      "outputs": [
        {
          "output_type": "stream",
          "name": "stdout",
          "text": [
            "\n",
            "Feature Importance:\n",
            "Degree: 67.70\n",
            "EdgeMean: 0.62\n",
            "EdgeMax: 6.18\n",
            "EdgeMin: 0.34\n",
            "EdgeCount: 25.16\n"
          ]
        }
      ]
    },
    {
      "cell_type": "markdown",
      "source": [
        "## 11. Сохранение модели"
      ],
      "metadata": {
        "id": "3xXSoaINrwI9"
      }
    },
    {
      "cell_type": "code",
      "source": [
        "model.save_model('catboost_model.cbm')"
      ],
      "metadata": {
        "id": "_1WjdzZYrVtq"
      },
      "execution_count": 12,
      "outputs": []
    },
    {
      "cell_type": "markdown",
      "source": [
        "## 12. Загрузка модели"
      ],
      "metadata": {
        "id": "w2jSGq9br_D5"
      }
    },
    {
      "cell_type": "code",
      "source": [
        "loaded_model = CatBoostClassifier()\n",
        "loaded_model.load_model('catboost_model.cbm')"
      ],
      "metadata": {
        "colab": {
          "base_uri": "https://localhost:8080/"
        },
        "id": "anX3Sw_crcet",
        "outputId": "157cbea6-14db-463b-e8c7-45a1f41e31bd"
      },
      "execution_count": 13,
      "outputs": [
        {
          "output_type": "execute_result",
          "data": {
            "text/plain": [
              "<catboost.core.CatBoostClassifier at 0x7e1ba2818750>"
            ]
          },
          "metadata": {},
          "execution_count": 13
        }
      ]
    },
    {
      "cell_type": "markdown",
      "source": [],
      "metadata": {
        "id": "rhT98YFor6vD"
      }
    },
    {
      "cell_type": "code",
      "source": [
        "y_pred = loaded_model.predict(X_test)\n",
        "print(classification_report(y_test, y_pred, labels=[0, 1, 2]))"
      ],
      "metadata": {
        "colab": {
          "base_uri": "https://localhost:8080/"
        },
        "id": "eVD6fffSriNn",
        "outputId": "68935560-48b7-4bb0-929f-c39763afe733"
      },
      "execution_count": 14,
      "outputs": [
        {
          "output_type": "stream",
          "name": "stdout",
          "text": [
            "              precision    recall  f1-score   support\n",
            "\n",
            "           0       1.00      1.00      1.00      1198\n",
            "           1       1.00      1.00      1.00         2\n",
            "           2       1.00      1.00      1.00         1\n",
            "\n",
            "    accuracy                           1.00      1201\n",
            "   macro avg       1.00      1.00      1.00      1201\n",
            "weighted avg       1.00      1.00      1.00      1201\n",
            "\n"
          ]
        }
      ]
    }
  ]
}