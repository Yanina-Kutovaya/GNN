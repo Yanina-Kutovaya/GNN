{
  "nbformat": 4,
  "nbformat_minor": 0,
  "metadata": {
    "colab": {
      "provenance": [],
      "gpuType": "T4",
      "authorship_tag": "ABX9TyPFlJ1w6HPfPtRlSmKzylVW",
      "include_colab_link": true
    },
    "kernelspec": {
      "name": "python3",
      "display_name": "Python 3"
    },
    "language_info": {
      "name": "python"
    },
    "widgets": {
      "application/vnd.jupyter.widget-state+json": {
        "24feed89065f45239655cc2fc49b640b": {
          "model_module": "catboost-widget",
          "model_name": "CatboostWidgetModel",
          "model_module_version": "^1.0.0",
          "state": {
            "_dom_classes": [],
            "_model_module": "catboost-widget",
            "_model_module_version": "^1.0.0",
            "_model_name": "CatboostWidgetModel",
            "_view_count": null,
            "_view_module": "catboost-widget",
            "_view_module_version": "^1.0.0",
            "_view_name": "CatboostWidgetView",
            "data": {
              "catboost_info": {
                "path": "catboost_info",
                "name": "catboost_info",
                "content": {
                  "passed_iterations": 999,
                  "total_iterations": 1000,
                  "data": {
                    "iterations": [
                      {
                        "learn": [
                          0.9095123571
                        ],
                        "iteration": 0,
                        "passed_time": 0.06053303334,
                        "remaining_time": 60.47250031,
                        "test": [
                          0.9095340065
                        ]
                      },
                      {
                        "learn": [
                          0.7691731703
                        ],
                        "iteration": 1,
                        "passed_time": 0.1178642553,
                        "remaining_time": 58.81426338,
                        "test": [
                          0.769208033
                        ]
                      },
                      {
                        "learn": [
                          0.6595520477
                        ],
                        "iteration": 2,
                        "passed_time": 0.1721281042,
                        "remaining_time": 57.20390664,
                        "test": [
                          0.6595954482
                        ]
                      },
                      {
                        "learn": [
                          0.5711203392
                        ],
                        "iteration": 3,
                        "passed_time": 0.211506263,
                        "remaining_time": 52.66505948,
                        "test": [
                          0.5711692283
                        ]
                      },
                      {
                        "learn": [
                          0.4981785503
                        ],
                        "iteration": 4,
                        "passed_time": 0.2269452645,
                        "remaining_time": 45.16210763,
                        "test": [
                          0.4982309461
                        ]
                      },
                      {
                        "learn": [
                          0.437027778
                        ],
                        "iteration": 5,
                        "passed_time": 0.2372132185,
                        "remaining_time": 39.2983232,
                        "test": [
                          0.4370823081
                        ]
                      },
                      {
                        "learn": [
                          0.3851239334
                        ],
                        "iteration": 6,
                        "passed_time": 0.2465868783,
                        "remaining_time": 34.98011002,
                        "test": [
                          0.3851796578
                        ]
                      },
                      {
                        "learn": [
                          0.3406391382
                        ],
                        "iteration": 7,
                        "passed_time": 0.255914497,
                        "remaining_time": 31.73339762,
                        "test": [
                          0.3406955233
                        ]
                      },
                      {
                        "learn": [
                          0.3022154745
                        ],
                        "iteration": 8,
                        "passed_time": 0.2677034545,
                        "remaining_time": 29.47712482,
                        "test": [
                          0.3022718342
                        ]
                      },
                      {
                        "learn": [
                          0.2688151414
                        ],
                        "iteration": 9,
                        "passed_time": 0.2770860009,
                        "remaining_time": 27.43151409,
                        "test": [
                          0.2688711962
                        ]
                      },
                      {
                        "learn": [
                          0.2396282415
                        ],
                        "iteration": 10,
                        "passed_time": 0.2867040086,
                        "remaining_time": 25.77729678,
                        "test": [
                          0.2396837373
                        ]
                      },
                      {
                        "learn": [
                          0.2140099925
                        ],
                        "iteration": 11,
                        "passed_time": 0.2965481891,
                        "remaining_time": 24.4158009,
                        "test": [
                          0.2140647259
                        ]
                      },
                      {
                        "learn": [
                          0.1914399438
                        ],
                        "iteration": 12,
                        "passed_time": 0.3059372442,
                        "remaining_time": 23.22769693,
                        "test": [
                          0.1914937625
                        ]
                      },
                      {
                        "learn": [
                          0.1714916626
                        ],
                        "iteration": 13,
                        "passed_time": 0.3153768233,
                        "remaining_time": 22.21153913,
                        "test": [
                          0.1715444903
                        ]
                      },
                      {
                        "learn": [
                          0.1538118462
                        ],
                        "iteration": 14,
                        "passed_time": 0.3250035557,
                        "remaining_time": 21.34190016,
                        "test": [
                          0.1538635813
                        ]
                      },
                      {
                        "learn": [
                          0.1381051908
                        ],
                        "iteration": 15,
                        "passed_time": 0.3343085763,
                        "remaining_time": 20.55997744,
                        "test": [
                          0.1381557824
                        ]
                      },
                      {
                        "learn": [
                          0.1241225498
                        ],
                        "iteration": 16,
                        "passed_time": 0.3436758183,
                        "remaining_time": 19.87254879,
                        "test": [
                          0.1241719852
                        ]
                      },
                      {
                        "learn": [
                          0.1116523203
                        ],
                        "iteration": 17,
                        "passed_time": 0.3530219622,
                        "remaining_time": 19.25930927,
                        "test": [
                          0.1117005868
                        ]
                      },
                      {
                        "learn": [
                          0.100512877
                        ],
                        "iteration": 18,
                        "passed_time": 0.3623414553,
                        "remaining_time": 18.70826145,
                        "test": [
                          0.100559981
                        ]
                      },
                      {
                        "learn": [
                          0.09054835412
                        ],
                        "iteration": 19,
                        "passed_time": 0.3716985727,
                        "remaining_time": 18.21323006,
                        "test": [
                          0.09059427025
                        ]
                      },
                      {
                        "learn": [
                          0.08162380476
                        ],
                        "iteration": 20,
                        "passed_time": 0.3807953219,
                        "remaining_time": 17.75231524,
                        "test": [
                          0.08166854566
                        ]
                      },
                      {
                        "learn": [
                          0.07362192934
                        ],
                        "iteration": 21,
                        "passed_time": 0.3946761394,
                        "remaining_time": 17.54514838,
                        "test": [
                          0.07366552678
                        ]
                      },
                      {
                        "learn": [
                          0.06644021065
                        ],
                        "iteration": 22,
                        "passed_time": 0.4037915038,
                        "remaining_time": 17.15236084,
                        "test": [
                          0.06648267735
                        ]
                      },
                      {
                        "learn": [
                          0.05998911607
                        ],
                        "iteration": 23,
                        "passed_time": 0.4330872779,
                        "remaining_time": 17.61221597,
                        "test": [
                          0.06003047743
                        ]
                      },
                      {
                        "learn": [
                          0.05418988052
                        ],
                        "iteration": 24,
                        "passed_time": 0.4523983803,
                        "remaining_time": 17.64353683,
                        "test": [
                          0.0542301556
                        ]
                      },
                      {
                        "learn": [
                          0.04897266741
                        ],
                        "iteration": 25,
                        "passed_time": 0.465326909,
                        "remaining_time": 17.4318619,
                        "test": [
                          0.04901188796
                        ]
                      },
                      {
                        "learn": [
                          0.04427643839
                        ],
                        "iteration": 26,
                        "passed_time": 0.4827883324,
                        "remaining_time": 17.39826102,
                        "test": [
                          0.04431461712
                        ]
                      },
                      {
                        "learn": [
                          0.04004681895
                        ],
                        "iteration": 27,
                        "passed_time": 0.4998221134,
                        "remaining_time": 17.35096765,
                        "test": [
                          0.04008398127
                        ]
                      },
                      {
                        "learn": [
                          0.03623538053
                        ],
                        "iteration": 28,
                        "passed_time": 0.5136261881,
                        "remaining_time": 17.19762168,
                        "test": [
                          0.03627157092
                        ]
                      },
                      {
                        "learn": [
                          0.03279931976
                        ],
                        "iteration": 29,
                        "passed_time": 0.5313739027,
                        "remaining_time": 17.18108952,
                        "test": [
                          0.03283455092
                        ]
                      },
                      {
                        "learn": [
                          0.02970034991
                        ],
                        "iteration": 30,
                        "passed_time": 0.5447211122,
                        "remaining_time": 17.02692767,
                        "test": [
                          0.02973465677
                        ]
                      },
                      {
                        "learn": [
                          0.02690425304
                        ],
                        "iteration": 31,
                        "passed_time": 0.5626742204,
                        "remaining_time": 17.02089517,
                        "test": [
                          0.0269376642
                        ]
                      },
                      {
                        "learn": [
                          0.02438072122
                        ],
                        "iteration": 32,
                        "passed_time": 0.5766841647,
                        "remaining_time": 16.89859355,
                        "test": [
                          0.02441325732
                        ]
                      },
                      {
                        "learn": [
                          0.0221024703
                        ],
                        "iteration": 33,
                        "passed_time": 0.5944454877,
                        "remaining_time": 16.88924533,
                        "test": [
                          0.02213416786
                        ]
                      },
                      {
                        "learn": [
                          0.02004502715
                        ],
                        "iteration": 34,
                        "passed_time": 0.6069920571,
                        "remaining_time": 16.73563815,
                        "test": [
                          0.02007590682
                        ]
                      },
                      {
                        "learn": [
                          0.01818634529
                        ],
                        "iteration": 35,
                        "passed_time": 0.6298464119,
                        "remaining_time": 16.86588725,
                        "test": [
                          0.01821643248
                        ]
                      },
                      {
                        "learn": [
                          0.0165072353
                        ],
                        "iteration": 36,
                        "passed_time": 0.6479793517,
                        "remaining_time": 16.8649761,
                        "test": [
                          0.01653655701
                        ]
                      },
                      {
                        "learn": [
                          0.01498964804
                        ],
                        "iteration": 37,
                        "passed_time": 0.6618839033,
                        "remaining_time": 16.75611355,
                        "test": [
                          0.0150182265
                        ]
                      },
                      {
                        "learn": [
                          0.01361795468
                        ],
                        "iteration": 38,
                        "passed_time": 0.6767952375,
                        "remaining_time": 16.6769288,
                        "test": [
                          0.0136458169
                        ]
                      },
                      {
                        "learn": [
                          0.01237777548
                        ],
                        "iteration": 39,
                        "passed_time": 0.6976221966,
                        "remaining_time": 16.74293272,
                        "test": [
                          0.0124049413
                        ]
                      },
                      {
                        "learn": [
                          0.01125640456
                        ],
                        "iteration": 40,
                        "passed_time": 0.7108241161,
                        "remaining_time": 16.62634945,
                        "test": [
                          0.0112828994
                        ]
                      },
                      {
                        "learn": [
                          0.0102421755
                        ],
                        "iteration": 41,
                        "passed_time": 0.7284896541,
                        "remaining_time": 16.61650211,
                        "test": [
                          0.01026802317
                        ]
                      },
                      {
                        "learn": [
                          0.009324563731
                        ],
                        "iteration": 42,
                        "passed_time": 0.7493324575,
                        "remaining_time": 16.67700376,
                        "test": [
                          0.009349781707
                        ]
                      },
                      {
                        "learn": [
                          0.008494579623
                        ],
                        "iteration": 43,
                        "passed_time": 0.7787682218,
                        "remaining_time": 16.92050955,
                        "test": [
                          0.008519189344
                        ]
                      },
                      {
                        "learn": [
                          0.007743339951
                        ],
                        "iteration": 44,
                        "passed_time": 0.7813479778,
                        "remaining_time": 16.58194042,
                        "test": [
                          0.007767363651
                        ]
                      },
                      {
                        "learn": [
                          0.007063553593
                        ],
                        "iteration": 45,
                        "passed_time": 0.7968503117,
                        "remaining_time": 16.52598255,
                        "test": [
                          0.007087010329
                        ]
                      },
                      {
                        "learn": [
                          0.006448115238
                        ],
                        "iteration": 46,
                        "passed_time": 0.8219085489,
                        "remaining_time": 16.66550739,
                        "test": [
                          0.006471024068
                        ]
                      },
                      {
                        "learn": [
                          0.005891113456
                        ],
                        "iteration": 47,
                        "passed_time": 0.8296068196,
                        "remaining_time": 16.45386859,
                        "test": [
                          0.005913489863
                        ]
                      },
                      {
                        "learn": [
                          0.005386677312
                        ],
                        "iteration": 48,
                        "passed_time": 0.843466429,
                        "remaining_time": 16.37013416,
                        "test": [
                          0.005408542341
                        ]
                      },
                      {
                        "learn": [
                          0.004929679915
                        ],
                        "iteration": 49,
                        "passed_time": 0.8577972781,
                        "remaining_time": 16.29814828,
                        "test": [
                          0.004951047461
                        ]
                      },
                      {
                        "learn": [
                          0.00451589127
                        ],
                        "iteration": 50,
                        "passed_time": 0.8760325267,
                        "remaining_time": 16.30107584,
                        "test": [
                          0.004536779199
                        ]
                      },
                      {
                        "learn": [
                          0.004140862617
                        ],
                        "iteration": 51,
                        "passed_time": 0.8898059906,
                        "remaining_time": 16.22184768,
                        "test": [
                          0.004161286414
                        ]
                      },
                      {
                        "learn": [
                          0.00380437797
                        ],
                        "iteration": 52,
                        "passed_time": 0.8919224527,
                        "remaining_time": 15.93680307,
                        "test": [
                          0.003824592133
                        ]
                      },
                      {
                        "learn": [
                          0.003496108901
                        ],
                        "iteration": 53,
                        "passed_time": 0.8976097319,
                        "remaining_time": 15.72479271,
                        "test": [
                          0.003515880372
                        ]
                      },
                      {
                        "learn": [
                          0.003216459789
                        ],
                        "iteration": 54,
                        "passed_time": 0.9095272412,
                        "remaining_time": 15.62733169,
                        "test": [
                          0.00323580167
                        ]
                      },
                      {
                        "learn": [
                          0.002963073248
                        ],
                        "iteration": 55,
                        "passed_time": 0.9184511524,
                        "remaining_time": 15.48246228,
                        "test": [
                          0.002982001023
                        ]
                      },
                      {
                        "learn": [
                          0.002765968578
                        ],
                        "iteration": 56,
                        "passed_time": 0.9197107977,
                        "remaining_time": 15.21556635,
                        "test": [
                          0.002785685457
                        ]
                      },
                      {
                        "learn": [
                          0.002554916919
                        ],
                        "iteration": 57,
                        "passed_time": 0.9284904629,
                        "remaining_time": 15.07996579,
                        "test": [
                          0.002574198649
                        ]
                      },
                      {
                        "learn": [
                          0.002363273643
                        ],
                        "iteration": 58,
                        "passed_time": 0.9341885647,
                        "remaining_time": 14.89951592,
                        "test": [
                          0.002382135113
                        ]
                      },
                      {
                        "learn": [
                          0.002189168922
                        ],
                        "iteration": 59,
                        "passed_time": 0.9486969525,
                        "remaining_time": 14.86291892,
                        "test": [
                          0.00220762522
                        ]
                      },
                      {
                        "learn": [
                          0.002046022288
                        ],
                        "iteration": 60,
                        "passed_time": 0.9507003241,
                        "remaining_time": 14.63455089,
                        "test": [
                          0.002065074335
                        ]
                      },
                      {
                        "learn": [
                          0.001900967511
                        ],
                        "iteration": 61,
                        "passed_time": 0.9537708549,
                        "remaining_time": 14.42963003,
                        "test": [
                          0.001919602673
                        ]
                      },
                      {
                        "learn": [
                          0.00176891816
                        ],
                        "iteration": 62,
                        "passed_time": 0.9562162094,
                        "remaining_time": 14.22181886,
                        "test": [
                          0.001787151127
                        ]
                      },
                      {
                        "learn": [
                          0.001677144874
                        ],
                        "iteration": 63,
                        "passed_time": 0.9574958559,
                        "remaining_time": 14.00337689,
                        "test": [
                          0.001696046246
                        ]
                      },
                      {
                        "learn": [
                          0.001565733718
                        ],
                        "iteration": 64,
                        "passed_time": 0.9632410558,
                        "remaining_time": 13.85585211,
                        "test": [
                          0.001584219595
                        ]
                      },
                      {
                        "learn": [
                          0.001464647119
                        ],
                        "iteration": 65,
                        "passed_time": 0.9663148714,
                        "remaining_time": 13.67481954,
                        "test": [
                          0.001482482556
                        ]
                      },
                      {
                        "learn": [
                          0.001398780959
                        ],
                        "iteration": 66,
                        "passed_time": 0.9675720778,
                        "remaining_time": 13.47380222,
                        "test": [
                          0.001417223957
                        ]
                      },
                      {
                        "learn": [
                          0.001312240673
                        ],
                        "iteration": 67,
                        "passed_time": 0.9765760947,
                        "remaining_time": 13.38483706,
                        "test": [
                          0.001330276016
                        ]
                      },
                      {
                        "learn": [
                          0.001233138014
                        ],
                        "iteration": 68,
                        "passed_time": 0.9811635132,
                        "remaining_time": 13.23859755,
                        "test": [
                          0.001250780989
                        ]
                      },
                      {
                        "learn": [
                          0.001160641594
                        ],
                        "iteration": 69,
                        "passed_time": 0.9848460209,
                        "remaining_time": 13.08438285,
                        "test": [
                          0.001177906395
                        ]
                      },
                      {
                        "learn": [
                          0.001094252343
                        ],
                        "iteration": 70,
                        "passed_time": 0.987908917,
                        "remaining_time": 12.92630118,
                        "test": [
                          0.001111152269
                        ]
                      },
                      {
                        "learn": [
                          0.001033384635
                        ],
                        "iteration": 71,
                        "passed_time": 0.9966906341,
                        "remaining_time": 12.84623484,
                        "test": [
                          0.00104993279
                        ]
                      },
                      {
                        "learn": [
                          0.000977298997
                        ],
                        "iteration": 72,
                        "passed_time": 0.9997926266,
                        "remaining_time": 12.69599678,
                        "test": [
                          0.0009935076886
                        ]
                      },
                      {
                        "learn": [
                          0.0009466574452
                        ],
                        "iteration": 73,
                        "passed_time": 1.00106182,
                        "remaining_time": 12.52680062,
                        "test": [
                          0.000963307638
                        ]
                      },
                      {
                        "learn": [
                          0.0008992096665
                        ],
                        "iteration": 74,
                        "passed_time": 1.008452849,
                        "remaining_time": 12.43758513,
                        "test": [
                          0.0009154971692
                        ]
                      },
                      {
                        "learn": [
                          0.0008745656025
                        ],
                        "iteration": 75,
                        "passed_time": 1.009728015,
                        "remaining_time": 12.27616692,
                        "test": [
                          0.0008912671119
                        ]
                      },
                      {
                        "learn": [
                          0.0008318940368
                        ],
                        "iteration": 76,
                        "passed_time": 1.013421043,
                        "remaining_time": 12.1478912,
                        "test": [
                          0.0008482449656
                        ]
                      },
                      {
                        "learn": [
                          0.0008022735061
                        ],
                        "iteration": 77,
                        "passed_time": 1.015389512,
                        "remaining_time": 12.00242474,
                        "test": [
                          0.000818904145
                        ]
                      },
                      {
                        "learn": [
                          0.0007846246254
                        ],
                        "iteration": 78,
                        "passed_time": 1.01663313,
                        "remaining_time": 11.85214066,
                        "test": [
                          0.00080163994
                        ]
                      },
                      {
                        "learn": [
                          0.0007504190037
                        ],
                        "iteration": 79,
                        "passed_time": 1.020360203,
                        "remaining_time": 11.73414234,
                        "test": [
                          0.0007674792327
                        ]
                      },
                      {
                        "learn": [
                          0.0007185719095
                        ],
                        "iteration": 80,
                        "passed_time": 1.029557396,
                        "remaining_time": 11.68102774,
                        "test": [
                          0.0007356708989
                        ]
                      },
                      {
                        "learn": [
                          0.0006892026017
                        ],
                        "iteration": 81,
                        "passed_time": 1.035341492,
                        "remaining_time": 11.59077426,
                        "test": [
                          0.0007059243101
                        ]
                      },
                      {
                        "learn": [
                          0.0006618155329
                        ],
                        "iteration": 82,
                        "passed_time": 1.044354927,
                        "remaining_time": 11.53823456,
                        "test": [
                          0.0006785729247
                        ]
                      },
                      {
                        "learn": [
                          0.000635243822
                        ],
                        "iteration": 83,
                        "passed_time": 1.047347117,
                        "remaining_time": 11.42107095,
                        "test": [
                          0.0006516540577
                        ]
                      },
                      {
                        "learn": [
                          0.0006114975499
                        ],
                        "iteration": 84,
                        "passed_time": 1.050745642,
                        "remaining_time": 11.31096779,
                        "test": [
                          0.0006275584954
                        ]
                      },
                      {
                        "learn": [
                          0.0006030111091
                        ],
                        "iteration": 85,
                        "passed_time": 1.052743897,
                        "remaining_time": 11.1884642,
                        "test": [
                          0.0006193430795
                        ]
                      },
                      {
                        "learn": [
                          0.0005816269874
                        ],
                        "iteration": 86,
                        "passed_time": 1.058513192,
                        "remaining_time": 11.10830511,
                        "test": [
                          0.0005976089728
                        ]
                      },
                      {
                        "learn": [
                          0.0005616380908
                        ],
                        "iteration": 87,
                        "passed_time": 1.067592876,
                        "remaining_time": 11.06414435,
                        "test": [
                          0.0005776548664
                        ]
                      },
                      {
                        "learn": [
                          0.0005425291693
                        ],
                        "iteration": 88,
                        "passed_time": 1.076589828,
                        "remaining_time": 11.01992509,
                        "test": [
                          0.0005582226107
                        ]
                      },
                      {
                        "learn": [
                          0.0005239835885
                        ],
                        "iteration": 89,
                        "passed_time": 1.085421039,
                        "remaining_time": 10.97481272,
                        "test": [
                          0.0005393649617
                        ]
                      },
                      {
                        "learn": [
                          0.0005075146415
                        ],
                        "iteration": 90,
                        "passed_time": 1.091246572,
                        "remaining_time": 10.900474,
                        "test": [
                          0.0005223936681
                        ]
                      },
                      {
                        "learn": [
                          0.0004910759684
                        ],
                        "iteration": 91,
                        "passed_time": 1.100085906,
                        "remaining_time": 10.85736959,
                        "test": [
                          0.0005056654583
                        ]
                      },
                      {
                        "learn": [
                          0.0004763508419
                        ],
                        "iteration": 92,
                        "passed_time": 1.108992736,
                        "remaining_time": 10.81566034,
                        "test": [
                          0.0004909742285
                        ]
                      },
                      {
                        "learn": [
                          0.0004625235569
                        ],
                        "iteration": 93,
                        "passed_time": 1.121522693,
                        "remaining_time": 10.80956979,
                        "test": [
                          0.0004768549254
                        ]
                      },
                      {
                        "learn": [
                          0.0004486131926
                        ],
                        "iteration": 94,
                        "passed_time": 1.130456154,
                        "remaining_time": 10.76908231,
                        "test": [
                          0.0004626741814
                        ]
                      },
                      {
                        "learn": [
                          0.0004355235957
                        ],
                        "iteration": 95,
                        "passed_time": 1.161329298,
                        "remaining_time": 10.93585089,
                        "test": [
                          0.0004493229395
                        ]
                      },
                      {
                        "learn": [
                          0.0004327791517
                        ],
                        "iteration": 96,
                        "passed_time": 1.168073756,
                        "remaining_time": 10.87392373,
                        "test": [
                          0.0004467193927
                        ]
                      },
                      {
                        "learn": [
                          0.0004212611125
                        ],
                        "iteration": 97,
                        "passed_time": 1.184698712,
                        "remaining_time": 10.90406365,
                        "test": [
                          0.0004352320243
                        ]
                      },
                      {
                        "learn": [
                          0.0004095820513
                        ],
                        "iteration": 98,
                        "passed_time": 1.212938179,
                        "remaining_time": 11.03896262,
                        "test": [
                          0.0004232964051
                        ]
                      },
                      {
                        "learn": [
                          0.0003992506457
                        ],
                        "iteration": 99,
                        "passed_time": 1.263249639,
                        "remaining_time": 11.36924675,
                        "test": [
                          0.0004127057119
                        ]
                      },
                      {
                        "learn": [
                          0.0003895656106
                        ],
                        "iteration": 100,
                        "passed_time": 1.289362053,
                        "remaining_time": 11.47659886,
                        "test": [
                          0.0004030485435
                        ]
                      },
                      {
                        "learn": [
                          0.0003794219025
                        ],
                        "iteration": 101,
                        "passed_time": 1.330117729,
                        "remaining_time": 11.71025216,
                        "test": [
                          0.0003926647543
                        ]
                      },
                      {
                        "learn": [
                          0.0003706830229
                        ],
                        "iteration": 102,
                        "passed_time": 1.369977877,
                        "remaining_time": 11.93077821,
                        "test": [
                          0.0003839497463
                        ]
                      },
                      {
                        "learn": [
                          0.0003621103017
                        ],
                        "iteration": 103,
                        "passed_time": 1.410089217,
                        "remaining_time": 12.14846095,
                        "test": [
                          0.000375397919
                        ]
                      },
                      {
                        "learn": [
                          0.000353353903
                        ],
                        "iteration": 104,
                        "passed_time": 1.419898907,
                        "remaining_time": 12.10294783,
                        "test": [
                          0.0003664118612
                        ]
                      },
                      {
                        "learn": [
                          0.0003459736469
                        ],
                        "iteration": 105,
                        "passed_time": 1.429025156,
                        "remaining_time": 12.05234424,
                        "test": [
                          0.0003586655404
                        ]
                      },
                      {
                        "learn": [
                          0.0003384939092
                        ],
                        "iteration": 106,
                        "passed_time": 1.473767023,
                        "remaining_time": 12.29975656,
                        "test": [
                          0.0003512078628
                        ]
                      },
                      {
                        "learn": [
                          0.0003308674924
                        ],
                        "iteration": 107,
                        "passed_time": 1.514304258,
                        "remaining_time": 12.50703147,
                        "test": [
                          0.0003433672713
                        ]
                      },
                      {
                        "learn": [
                          0.000324074821
                        ],
                        "iteration": 108,
                        "passed_time": 1.553741154,
                        "remaining_time": 12.70076484,
                        "test": [
                          0.0003365934838
                        ]
                      },
                      {
                        "learn": [
                          0.0003176778431
                        ],
                        "iteration": 109,
                        "passed_time": 1.592932088,
                        "remaining_time": 12.88826871,
                        "test": [
                          0.000330212958
                        ]
                      },
                      {
                        "learn": [
                          0.0003111305136
                        ],
                        "iteration": 110,
                        "passed_time": 1.632625142,
                        "remaining_time": 13.07570947,
                        "test": [
                          0.0003233417732
                        ]
                      },
                      {
                        "learn": [
                          0.0003045566076
                        ],
                        "iteration": 111,
                        "passed_time": 1.672829977,
                        "remaining_time": 13.26315196,
                        "test": [
                          0.0003165699461
                        ]
                      },
                      {
                        "learn": [
                          0.0002988812379
                        ],
                        "iteration": 112,
                        "passed_time": 1.713250778,
                        "remaining_time": 13.44826054,
                        "test": [
                          0.0003106982682
                        ]
                      },
                      {
                        "learn": [
                          0.0002933547062
                        ],
                        "iteration": 113,
                        "passed_time": 1.753757316,
                        "remaining_time": 13.63007879,
                        "test": [
                          0.0003049800934
                        ]
                      },
                      {
                        "learn": [
                          0.0002875209698
                        ],
                        "iteration": 114,
                        "passed_time": 1.793534201,
                        "remaining_time": 13.80241537,
                        "test": [
                          0.0002989629028
                        ]
                      },
                      {
                        "learn": [
                          0.0002818628215
                        ],
                        "iteration": 115,
                        "passed_time": 1.835739844,
                        "remaining_time": 13.98960364,
                        "test": [
                          0.0002931267098
                        ]
                      },
                      {
                        "learn": [
                          0.000276924197
                        ],
                        "iteration": 116,
                        "passed_time": 1.875497842,
                        "remaining_time": 14.15439824,
                        "test": [
                          0.0002880097428
                        ]
                      },
                      {
                        "learn": [
                          0.0002722523294
                        ],
                        "iteration": 117,
                        "passed_time": 1.91536675,
                        "remaining_time": 14.31655486,
                        "test": [
                          0.0002833566102
                        ]
                      },
                      {
                        "learn": [
                          0.0002677277115
                        ],
                        "iteration": 118,
                        "passed_time": 1.950576733,
                        "remaining_time": 14.44082439,
                        "test": [
                          0.0002788486429
                        ]
                      },
                      {
                        "learn": [
                          0.0002628275496
                        ],
                        "iteration": 119,
                        "passed_time": 1.969523463,
                        "remaining_time": 14.44317206,
                        "test": [
                          0.0002737810818
                        ]
                      },
                      {
                        "learn": [
                          0.0002586038087
                        ],
                        "iteration": 120,
                        "passed_time": 1.983234632,
                        "remaining_time": 14.40713423,
                        "test": [
                          0.0002695718822
                        ]
                      },
                      {
                        "learn": [
                          0.0002540305294
                        ],
                        "iteration": 121,
                        "passed_time": 2.009068338,
                        "remaining_time": 14.45870492,
                        "test": [
                          0.0002648364892
                        ]
                      },
                      {
                        "learn": [
                          0.0002501038687
                        ],
                        "iteration": 122,
                        "passed_time": 2.076936042,
                        "remaining_time": 14.80872284,
                        "test": [
                          0.0002607497
                        ]
                      },
                      {
                        "learn": [
                          0.0002462012285
                        ],
                        "iteration": 123,
                        "passed_time": 2.12601976,
                        "remaining_time": 15.01930089,
                        "test": [
                          0.000256860683
                        ]
                      },
                      {
                        "learn": [
                          0.0002420846866
                        ],
                        "iteration": 124,
                        "passed_time": 2.166643206,
                        "remaining_time": 15.16650244,
                        "test": [
                          0.0002525906876
                        ]
                      },
                      {
                        "learn": [
                          0.0002385929016
                        ],
                        "iteration": 125,
                        "passed_time": 2.207201993,
                        "remaining_time": 15.31027414,
                        "test": [
                          0.0002491106399
                        ]
                      },
                      {
                        "learn": [
                          0.0002351280652
                        ],
                        "iteration": 126,
                        "passed_time": 2.247020129,
                        "remaining_time": 15.44605175,
                        "test": [
                          0.0002455326739
                        ]
                      },
                      {
                        "learn": [
                          0.0002313449321
                        ],
                        "iteration": 127,
                        "passed_time": 2.306909861,
                        "remaining_time": 15.71582343,
                        "test": [
                          0.0002416031347
                        ]
                      },
                      {
                        "learn": [
                          0.0002281609721
                        ],
                        "iteration": 128,
                        "passed_time": 2.346504554,
                        "remaining_time": 15.84345323,
                        "test": [
                          0.0002384298449
                        ]
                      },
                      {
                        "learn": [
                          0.0002248788456
                        ],
                        "iteration": 129,
                        "passed_time": 2.421815168,
                        "remaining_time": 16.20753228,
                        "test": [
                          0.0002351572472
                        ]
                      },
                      {
                        "learn": [
                          0.0002213055446
                        ],
                        "iteration": 130,
                        "passed_time": 2.439019411,
                        "remaining_time": 16.17944938,
                        "test": [
                          0.0002314427016
                        ]
                      },
                      {
                        "learn": [
                          0.0002183069992
                        ],
                        "iteration": 131,
                        "passed_time": 2.485955082,
                        "remaining_time": 16.34703797,
                        "test": [
                          0.0002284522954
                        ]
                      },
                      {
                        "learn": [
                          0.000215564193
                        ],
                        "iteration": 132,
                        "passed_time": 2.535133434,
                        "remaining_time": 16.52602021,
                        "test": [
                          0.0002255706019
                        ]
                      },
                      {
                        "learn": [
                          0.0002127211854
                        ],
                        "iteration": 133,
                        "passed_time": 2.577316961,
                        "remaining_time": 16.6563917,
                        "test": [
                          0.0002225913374
                        ]
                      },
                      {
                        "learn": [
                          0.0002094931547
                        ],
                        "iteration": 134,
                        "passed_time": 2.606867574,
                        "remaining_time": 16.70326261,
                        "test": [
                          0.0002192317397
                        ]
                      },
                      {
                        "learn": [
                          0.0002065353176
                        ],
                        "iteration": 135,
                        "passed_time": 2.624948817,
                        "remaining_time": 16.67614543,
                        "test": [
                          0.0002161456236
                        ]
                      },
                      {
                        "learn": [
                          0.0002038746353
                        ],
                        "iteration": 136,
                        "passed_time": 2.650251194,
                        "remaining_time": 16.69464803,
                        "test": [
                          0.0002133580022
                        ]
                      },
                      {
                        "learn": [
                          0.000200969492
                        ],
                        "iteration": 137,
                        "passed_time": 2.669253062,
                        "remaining_time": 16.67316043,
                        "test": [
                          0.0002103300515
                        ]
                      },
                      {
                        "learn": [
                          0.000198465216
                        ],
                        "iteration": 138,
                        "passed_time": 2.684862399,
                        "remaining_time": 16.63069443,
                        "test": [
                          0.0002077043205
                        ]
                      },
                      {
                        "learn": [
                          0.0001962145079
                        ],
                        "iteration": 139,
                        "passed_time": 2.720762501,
                        "remaining_time": 16.71325536,
                        "test": [
                          0.0002053343287
                        ]
                      },
                      {
                        "learn": [
                          0.0001934980423
                        ],
                        "iteration": 140,
                        "passed_time": 2.762000099,
                        "remaining_time": 16.82665309,
                        "test": [
                          0.0002025021527
                        ]
                      },
                      {
                        "learn": [
                          0.0001911632251
                        ],
                        "iteration": 141,
                        "passed_time": 2.810314634,
                        "remaining_time": 16.98063349,
                        "test": [
                          0.0002000530519
                        ]
                      },
                      {
                        "learn": [
                          0.0001887813099
                        ],
                        "iteration": 142,
                        "passed_time": 2.85035319,
                        "remaining_time": 17.0821866,
                        "test": [
                          0.0001975007473
                        ]
                      },
                      {
                        "learn": [
                          0.0001865953927
                        ],
                        "iteration": 143,
                        "passed_time": 2.891210587,
                        "remaining_time": 17.18664071,
                        "test": [
                          0.000195205832
                        ]
                      },
                      {
                        "learn": [
                          0.0001840849999
                        ],
                        "iteration": 144,
                        "passed_time": 2.931938897,
                        "remaining_time": 17.28832936,
                        "test": [
                          0.0001925897415
                        ]
                      },
                      {
                        "learn": [
                          0.0001817186434
                        ],
                        "iteration": 145,
                        "passed_time": 2.999333878,
                        "remaining_time": 17.54404885,
                        "test": [
                          0.0001901199577
                        ]
                      },
                      {
                        "learn": [
                          0.0001796996911
                        ],
                        "iteration": 146,
                        "passed_time": 3.014907208,
                        "remaining_time": 17.49466563,
                        "test": [
                          0.000188111651
                        ]
                      },
                      {
                        "learn": [
                          0.0001778126904
                        ],
                        "iteration": 147,
                        "passed_time": 3.037615801,
                        "remaining_time": 17.48681529,
                        "test": [
                          0.0001861228608
                        ]
                      },
                      {
                        "learn": [
                          0.0001756220709
                        ],
                        "iteration": 148,
                        "passed_time": 3.052545009,
                        "remaining_time": 17.43433425,
                        "test": [
                          0.0001838333303
                        ]
                      },
                      {
                        "learn": [
                          0.0001736441992
                        ],
                        "iteration": 149,
                        "passed_time": 3.070484141,
                        "remaining_time": 17.39941013,
                        "test": [
                          0.0001818655954
                        ]
                      },
                      {
                        "learn": [
                          0.0001714915459
                        ],
                        "iteration": 150,
                        "passed_time": 3.097567851,
                        "remaining_time": 17.41612652,
                        "test": [
                          0.0001796166615
                        ]
                      },
                      {
                        "learn": [
                          0.0001697786816
                        ],
                        "iteration": 151,
                        "passed_time": 3.139054927,
                        "remaining_time": 17.51262222,
                        "test": [
                          0.0001778088566
                        ]
                      },
                      {
                        "learn": [
                          0.0001677809955
                        ],
                        "iteration": 152,
                        "passed_time": 3.171362164,
                        "remaining_time": 17.55649512,
                        "test": [
                          0.0001757185376
                        ]
                      },
                      {
                        "learn": [
                          0.0001659917147
                        ],
                        "iteration": 153,
                        "passed_time": 3.192483728,
                        "remaining_time": 17.53793009,
                        "test": [
                          0.0001738380135
                        ]
                      },
                      {
                        "learn": [
                          0.0001640313
                        ],
                        "iteration": 154,
                        "passed_time": 3.222623175,
                        "remaining_time": 17.56849409,
                        "test": [
                          0.0001717888123
                        ]
                      },
                      {
                        "learn": [
                          0.0001623685116
                        ],
                        "iteration": 155,
                        "passed_time": 3.253694556,
                        "remaining_time": 17.60332183,
                        "test": [
                          0.0001701350812
                        ]
                      },
                      {
                        "learn": [
                          0.0001604407902
                        ],
                        "iteration": 156,
                        "passed_time": 3.378909949,
                        "remaining_time": 18.14280947,
                        "test": [
                          0.0001681207568
                        ]
                      },
                      {
                        "learn": [
                          0.0001589203382
                        ],
                        "iteration": 157,
                        "passed_time": 3.458281558,
                        "remaining_time": 18.4295764,
                        "test": [
                          0.0001666084813
                        ]
                      },
                      {
                        "learn": [
                          0.0001574094895
                        ],
                        "iteration": 158,
                        "passed_time": 3.5134013,
                        "remaining_time": 18.58346222,
                        "test": [
                          0.0001650126178
                        ]
                      },
                      {
                        "learn": [
                          0.0001559082564
                        ],
                        "iteration": 159,
                        "passed_time": 3.571353359,
                        "remaining_time": 18.74960514,
                        "test": [
                          0.0001634277223
                        ]
                      },
                      {
                        "learn": [
                          0.0001543239566
                        ],
                        "iteration": 160,
                        "passed_time": 3.593152091,
                        "remaining_time": 18.72456276,
                        "test": [
                          0.0001617611497
                        ]
                      },
                      {
                        "learn": [
                          0.0001525852975
                        ],
                        "iteration": 161,
                        "passed_time": 3.610794234,
                        "remaining_time": 18.67805906,
                        "test": [
                          0.0001599425752
                        ]
                      },
                      {
                        "learn": [
                          0.0001512806704
                        ],
                        "iteration": 162,
                        "passed_time": 3.627239186,
                        "remaining_time": 18.62576196,
                        "test": [
                          0.0001588568749
                        ]
                      },
                      {
                        "learn": [
                          0.0001496880328
                        ],
                        "iteration": 163,
                        "passed_time": 3.64445792,
                        "remaining_time": 18.57784647,
                        "test": [
                          0.0001571844832
                        ]
                      },
                      {
                        "learn": [
                          0.0001482362677
                        ],
                        "iteration": 164,
                        "passed_time": 3.658599325,
                        "remaining_time": 18.51472992,
                        "test": [
                          0.0001557386115
                        ]
                      },
                      {
                        "learn": [
                          0.0001469122604
                        ],
                        "iteration": 165,
                        "passed_time": 3.736392776,
                        "remaining_time": 18.77199744,
                        "test": [
                          0.0001543366368
                        ]
                      },
                      {
                        "learn": [
                          0.0001455958836
                        ],
                        "iteration": 166,
                        "passed_time": 3.76815152,
                        "remaining_time": 18.79563004,
                        "test": [
                          0.0001530259674
                        ]
                      },
                      {
                        "learn": [
                          0.0001442879314
                        ],
                        "iteration": 167,
                        "passed_time": 3.821570639,
                        "remaining_time": 18.92587364,
                        "test": [
                          0.0001516413133
                        ]
                      },
                      {
                        "learn": [
                          0.0001431067445
                        ],
                        "iteration": 168,
                        "passed_time": 3.916929053,
                        "remaining_time": 19.26016594,
                        "test": [
                          0.0001503843426
                        ]
                      },
                      {
                        "learn": [
                          0.0001419332006
                        ],
                        "iteration": 169,
                        "passed_time": 3.967369367,
                        "remaining_time": 19.3700975,
                        "test": [
                          0.0001491365534
                        ]
                      },
                      {
                        "learn": [
                          0.0001406480033
                        ],
                        "iteration": 170,
                        "passed_time": 3.985634903,
                        "remaining_time": 19.32217155,
                        "test": [
                          0.0001478574606
                        ]
                      },
                      {
                        "learn": [
                          0.0001393704242
                        ],
                        "iteration": 171,
                        "passed_time": 4.028203844,
                        "remaining_time": 19.39158595,
                        "test": [
                          0.000146506728
                        ]
                      },
                      {
                        "learn": [
                          0.0001383377278
                        ],
                        "iteration": 172,
                        "passed_time": 4.07077869,
                        "remaining_time": 19.45973397,
                        "test": [
                          0.0001454798878
                        ]
                      },
                      {
                        "learn": [
                          0.0001368514579
                        ],
                        "iteration": 173,
                        "passed_time": 4.105923144,
                        "remaining_time": 19.49133631,
                        "test": [
                          0.0001439224125
                        ]
                      },
                      {
                        "learn": [
                          0.0001358354866
                        ],
                        "iteration": 174,
                        "passed_time": 4.162296872,
                        "remaining_time": 19.62225668,
                        "test": [
                          0.000142836402
                        ]
                      },
                      {
                        "learn": [
                          0.0001345071988
                        ],
                        "iteration": 175,
                        "passed_time": 4.191844828,
                        "remaining_time": 19.62545533,
                        "test": [
                          0.0001414401223
                        ]
                      },
                      {
                        "learn": [
                          0.0001332919663
                        ],
                        "iteration": 176,
                        "passed_time": 4.205981567,
                        "remaining_time": 19.55662616,
                        "test": [
                          0.0001401572948
                        ]
                      },
                      {
                        "learn": [
                          0.0001319702668
                        ],
                        "iteration": 177,
                        "passed_time": 4.22834092,
                        "remaining_time": 19.52638335,
                        "test": [
                          0.0001387690922
                        ]
                      },
                      {
                        "learn": [
                          0.0001306608257
                        ],
                        "iteration": 178,
                        "passed_time": 4.245508192,
                        "remaining_time": 19.47241467,
                        "test": [
                          0.0001373945625
                        ]
                      },
                      {
                        "learn": [
                          0.0001296840862
                        ],
                        "iteration": 179,
                        "passed_time": 4.26341097,
                        "remaining_time": 19.42220553,
                        "test": [
                          0.0001363534415
                        ]
                      },
                      {
                        "learn": [
                          0.0001287133395
                        ],
                        "iteration": 180,
                        "passed_time": 4.276318059,
                        "remaining_time": 19.34974856,
                        "test": [
                          0.0001353192687
                        ]
                      },
                      {
                        "learn": [
                          0.0001276298725
                        ],
                        "iteration": 181,
                        "passed_time": 4.294309852,
                        "remaining_time": 19.30079922,
                        "test": [
                          0.0001341733185
                        ]
                      },
                      {
                        "learn": [
                          0.0001264748029
                        ],
                        "iteration": 182,
                        "passed_time": 4.331767697,
                        "remaining_time": 19.33909404,
                        "test": [
                          0.0001329568825
                        ]
                      },
                      {
                        "learn": [
                          0.0001253308876
                        ],
                        "iteration": 183,
                        "passed_time": 4.388381656,
                        "remaining_time": 19.46151865,
                        "test": [
                          0.0001317527049
                        ]
                      },
                      {
                        "learn": [
                          0.0001243869778
                        ],
                        "iteration": 184,
                        "passed_time": 4.451137042,
                        "remaining_time": 19.60906318,
                        "test": [
                          0.0001308143784
                        ]
                      },
                      {
                        "learn": [
                          0.0001232611399
                        ],
                        "iteration": 185,
                        "passed_time": 4.515513381,
                        "remaining_time": 19.76144028,
                        "test": [
                          0.0001296296058
                        ]
                      },
                      {
                        "learn": [
                          0.0001223304563
                        ],
                        "iteration": 186,
                        "passed_time": 4.556183542,
                        "remaining_time": 19.80843433,
                        "test": [
                          0.0001286409305
                        ]
                      },
                      {
                        "learn": [
                          0.0001212219265
                        ],
                        "iteration": 187,
                        "passed_time": 4.59346316,
                        "remaining_time": 19.83985152,
                        "test": [
                          0.0001274750294
                        ]
                      },
                      {
                        "learn": [
                          0.0001202089329
                        ],
                        "iteration": 188,
                        "passed_time": 4.644746535,
                        "remaining_time": 19.93063196,
                        "test": [
                          0.0001263766488
                        ]
                      },
                      {
                        "learn": [
                          0.0001194146923
                        ],
                        "iteration": 189,
                        "passed_time": 4.682716724,
                        "remaining_time": 19.96316077,
                        "test": [
                          0.0001255878923
                        ]
                      },
                      {
                        "learn": [
                          0.0001184503353
                        ],
                        "iteration": 190,
                        "passed_time": 4.721299689,
                        "remaining_time": 19.99754685,
                        "test": [
                          0.0001245684593
                        ]
                      },
                      {
                        "learn": [
                          0.0001173765584
                        ],
                        "iteration": 191,
                        "passed_time": 4.759626267,
                        "remaining_time": 20.03009387,
                        "test": [
                          0.0001234408099
                        ]
                      },
                      {
                        "learn": [
                          0.0001164815954
                        ],
                        "iteration": 192,
                        "passed_time": 4.801835245,
                        "remaining_time": 20.07814012,
                        "test": [
                          0.000122492694
                        ]
                      },
                      {
                        "learn": [
                          0.0001155421647
                        ],
                        "iteration": 193,
                        "passed_time": 4.851120793,
                        "remaining_time": 20.15465649,
                        "test": [
                          0.0001215008797
                        ]
                      },
                      {
                        "learn": [
                          0.0001147770936
                        ],
                        "iteration": 194,
                        "passed_time": 4.904904338,
                        "remaining_time": 20.24845124,
                        "test": [
                          0.0001206842936
                        ]
                      },
                      {
                        "learn": [
                          0.000113733516
                        ],
                        "iteration": 195,
                        "passed_time": 4.973246378,
                        "remaining_time": 20.40045963,
                        "test": [
                          0.0001195898337
                        ]
                      },
                      {
                        "learn": [
                          0.0001128173614
                        ],
                        "iteration": 196,
                        "passed_time": 5.043777947,
                        "remaining_time": 20.5591558,
                        "test": [
                          0.000118623566
                        ]
                      },
                      {
                        "learn": [
                          0.0001120681841
                        ],
                        "iteration": 197,
                        "passed_time": 5.111381923,
                        "remaining_time": 20.7036783,
                        "test": [
                          0.0001178794136
                        ]
                      },
                      {
                        "learn": [
                          0.0001113232873
                        ],
                        "iteration": 198,
                        "passed_time": 5.150516523,
                        "remaining_time": 20.73147605,
                        "test": [
                          0.0001171392317
                        ]
                      },
                      {
                        "learn": [
                          0.0001104267734
                        ],
                        "iteration": 199,
                        "passed_time": 5.172392167,
                        "remaining_time": 20.68956867,
                        "test": [
                          0.0001161937089
                        ]
                      },
                      {
                        "learn": [
                          0.000109538225
                        ],
                        "iteration": 200,
                        "passed_time": 5.192147809,
                        "remaining_time": 20.63943333,
                        "test": [
                          0.0001152570822
                        ]
                      },
                      {
                        "learn": [
                          0.0001088087753
                        ],
                        "iteration": 201,
                        "passed_time": 5.205706101,
                        "remaining_time": 20.56511618,
                        "test": [
                          0.0001144802119
                        ]
                      },
                      {
                        "learn": [
                          0.0001080829982
                        ],
                        "iteration": 202,
                        "passed_time": 5.227948379,
                        "remaining_time": 20.52549191,
                        "test": [
                          0.0001137589262
                        ]
                      },
                      {
                        "learn": [
                          0.0001072125272
                        ],
                        "iteration": 203,
                        "passed_time": 5.259462598,
                        "remaining_time": 20.5222168,
                        "test": [
                          0.0001128417417
                        ]
                      },
                      {
                        "learn": [
                          0.0001064959439
                        ],
                        "iteration": 204,
                        "passed_time": 5.294587472,
                        "remaining_time": 20.53266849,
                        "test": [
                          0.0001121292404
                        ]
                      },
                      {
                        "learn": [
                          0.0001057831076
                        ],
                        "iteration": 205,
                        "passed_time": 5.324978982,
                        "remaining_time": 20.52443355,
                        "test": [
                          0.0001114204117
                        ]
                      },
                      {
                        "learn": [
                          0.0001050740059
                        ],
                        "iteration": 206,
                        "passed_time": 5.337228616,
                        "remaining_time": 20.4464845,
                        "test": [
                          0.0001107148212
                        ]
                      },
                      {
                        "learn": [
                          0.0001044875627
                        ],
                        "iteration": 207,
                        "passed_time": 5.363131995,
                        "remaining_time": 20.42115644,
                        "test": [
                          0.0001100831534
                        ]
                      },
                      {
                        "learn": [
                          0.0001037861038
                        ],
                        "iteration": 208,
                        "passed_time": 5.422030999,
                        "remaining_time": 20.52070105,
                        "test": [
                          0.00010933714
                        ]
                      },
                      {
                        "learn": [
                          0.0001029470357
                        ],
                        "iteration": 209,
                        "passed_time": 5.458109768,
                        "remaining_time": 20.53288913,
                        "test": [
                          0.0001084535297
                        ]
                      },
                      {
                        "learn": [
                          0.0001023727268
                        ],
                        "iteration": 210,
                        "passed_time": 5.476460453,
                        "remaining_time": 20.47832842,
                        "test": [
                          0.0001078357953
                        ]
                      },
                      {
                        "learn": [
                          0.0001018017431
                        ],
                        "iteration": 211,
                        "passed_time": 5.506907629,
                        "remaining_time": 20.46907175,
                        "test": [
                          0.0001072219816
                        ]
                      },
                      {
                        "learn": [
                          0.0001009961561
                        ],
                        "iteration": 212,
                        "passed_time": 5.523859361,
                        "remaining_time": 20.40975266,
                        "test": [
                          0.0001063738437
                        ]
                      },
                      {
                        "learn": [
                          0.0001004320336
                        ],
                        "iteration": 213,
                        "passed_time": 5.537797851,
                        "remaining_time": 20.3397622,
                        "test": [
                          0.0001057677722
                        ]
                      },
                      {
                        "learn": [
                          0.00009973650545
                        ],
                        "iteration": 214,
                        "passed_time": 5.563619936,
                        "remaining_time": 20.31368209,
                        "test": [
                          0.0001050305307
                        ]
                      },
                      {
                        "learn": [
                          0.00009917937449
                        ],
                        "iteration": 215,
                        "passed_time": 5.635514429,
                        "remaining_time": 20.45483015,
                        "test": [
                          0.0001044775624
                        ]
                      },
                      {
                        "learn": [
                          0.00009849433051
                        ],
                        "iteration": 216,
                        "passed_time": 5.687055918,
                        "remaining_time": 20.52057504,
                        "test": [
                          0.0001037513634
                        ]
                      },
                      {
                        "learn": [
                          0.00009782594954
                        ],
                        "iteration": 217,
                        "passed_time": 5.727805529,
                        "remaining_time": 20.54653176,
                        "test": [
                          0.0001030426339
                        ]
                      },
                      {
                        "learn": [
                          0.00009721249565
                        ],
                        "iteration": 218,
                        "passed_time": 5.768932574,
                        "remaining_time": 20.5732253,
                        "test": [
                          0.0001025945569
                        ]
                      },
                      {
                        "learn": [
                          0.00009666830549
                        ],
                        "iteration": 219,
                        "passed_time": 5.818120613,
                        "remaining_time": 20.62788217,
                        "test": [
                          0.0001020533817
                        ]
                      },
                      {
                        "learn": [
                          0.00009615080343
                        ],
                        "iteration": 220,
                        "passed_time": 5.859318175,
                        "remaining_time": 20.65343375,
                        "test": [
                          0.0001014724163
                        ]
                      },
                      {
                        "learn": [
                          0.00009548677121
                        ],
                        "iteration": 221,
                        "passed_time": 5.900567948,
                        "remaining_time": 20.67856695,
                        "test": [
                          0.0001007680293
                        ]
                      },
                      {
                        "learn": [
                          0.00009482845875
                        ],
                        "iteration": 222,
                        "passed_time": 5.935891083,
                        "remaining_time": 20.68245458,
                        "test": [
                          0.0001000700197
                        ]
                      },
                      {
                        "learn": [
                          0.0000942975444
                        ],
                        "iteration": 223,
                        "passed_time": 5.996654153,
                        "remaining_time": 20.77412332,
                        "test": [
                          0.00009954261045
                        ]
                      },
                      {
                        "learn": [
                          0.00009364850019
                        ],
                        "iteration": 224,
                        "passed_time": 6.035491755,
                        "remaining_time": 20.78891605,
                        "test": [
                          0.00009885452669
                        ]
                      },
                      {
                        "learn": [
                          0.00009312442846
                        ],
                        "iteration": 225,
                        "passed_time": 6.116036036,
                        "remaining_time": 20.94607032,
                        "test": [
                          0.00009829290428
                        ]
                      },
                      {
                        "learn": [
                          0.00009260277615
                        ],
                        "iteration": 226,
                        "passed_time": 6.150542169,
                        "remaining_time": 20.94435725,
                        "test": [
                          0.00009790371846
                        ]
                      },
                      {
                        "learn": [
                          0.00009196610822
                        ],
                        "iteration": 227,
                        "passed_time": 6.181312804,
                        "remaining_time": 20.92970827,
                        "test": [
                          0.00009722820329
                        ]
                      },
                      {
                        "learn": [
                          0.00009145103178
                        ],
                        "iteration": 228,
                        "passed_time": 6.212255779,
                        "remaining_time": 20.91549871,
                        "test": [
                          0.00009667610968
                        ]
                      },
                      {
                        "learn": [
                          0.00009093846781
                        ],
                        "iteration": 229,
                        "passed_time": 6.28740533,
                        "remaining_time": 21.04913958,
                        "test": [
                          0.00009612685735
                        ]
                      },
                      {
                        "learn": [
                          0.0000903137357
                        ],
                        "iteration": 230,
                        "passed_time": 6.428500053,
                        "remaining_time": 21.40050451,
                        "test": [
                          0.00009546451872
                        ]
                      },
                      {
                        "learn": [
                          0.00008980712724
                        ],
                        "iteration": 231,
                        "passed_time": 6.543702558,
                        "remaining_time": 21.66191192,
                        "test": [
                          0.00009492198494
                        ]
                      },
                      {
                        "learn": [
                          0.00008930300644
                        ],
                        "iteration": 232,
                        "passed_time": 6.761090594,
                        "remaining_time": 22.2564656,
                        "test": [
                          0.00009438263983
                        ]
                      },
                      {
                        "learn": [
                          0.00008868981311
                        ],
                        "iteration": 233,
                        "passed_time": 6.87884437,
                        "remaining_time": 22.51792644,
                        "test": [
                          0.00009373290702
                        ]
                      },
                      {
                        "learn": [
                          0.00008830975285
                        ],
                        "iteration": 234,
                        "passed_time": 6.979267498,
                        "remaining_time": 22.71974313,
                        "test": [
                          0.00009335593617
                        ]
                      },
                      {
                        "learn": [
                          0.00008781364716
                        ],
                        "iteration": 235,
                        "passed_time": 7.093290342,
                        "remaining_time": 22.96302467,
                        "test": [
                          0.00009282527617
                        ]
                      },
                      {
                        "learn": [
                          0.00008721132883
                        ],
                        "iteration": 236,
                        "passed_time": 7.211283174,
                        "remaining_time": 23.21607199,
                        "test": [
                          0.00009218788241
                        ]
                      },
                      {
                        "learn": [
                          0.00008661346471
                        ],
                        "iteration": 237,
                        "passed_time": 7.339295956,
                        "remaining_time": 23.49808201,
                        "test": [
                          0.00009155533991
                        ]
                      },
                      {
                        "learn": [
                          0.00008602010444
                        ],
                        "iteration": 238,
                        "passed_time": 7.470143581,
                        "remaining_time": 23.7856873,
                        "test": [
                          0.00009092740671
                        ]
                      },
                      {
                        "learn": [
                          0.00008554989278
                        ],
                        "iteration": 239,
                        "passed_time": 7.554880309,
                        "remaining_time": 23.92378765,
                        "test": [
                          0.000090423441
                        ]
                      },
                      {
                        "learn": [
                          0.00008496509355
                        ],
                        "iteration": 240,
                        "passed_time": 7.665352306,
                        "remaining_time": 24.1410888,
                        "test": [
                          0.0000898053592
                        ]
                      },
                      {
                        "learn": [
                          0.00008460506487
                        ],
                        "iteration": 241,
                        "passed_time": 7.755535809,
                        "remaining_time": 24.29213282,
                        "test": [
                          0.00008941348099
                        ]
                      },
                      {
                        "learn": [
                          0.00008412783688
                        ],
                        "iteration": 242,
                        "passed_time": 7.845771706,
                        "remaining_time": 24.44135466,
                        "test": [
                          0.00008893869104
                        ]
                      },
                      {
                        "learn": [
                          0.0000835528332
                        ],
                        "iteration": 243,
                        "passed_time": 7.936954697,
                        "remaining_time": 24.59154816,
                        "test": [
                          0.00008833133534
                        ]
                      },
                      {
                        "learn": [
                          0.00008298179366
                        ],
                        "iteration": 244,
                        "passed_time": 7.993482583,
                        "remaining_time": 24.63297694,
                        "test": [
                          0.00008772828498
                        ]
                      },
                      {
                        "learn": [
                          0.00008263154193
                        ],
                        "iteration": 245,
                        "passed_time": 8.101339904,
                        "remaining_time": 24.83093613,
                        "test": [
                          0.00008734710806
                        ]
                      },
                      {
                        "learn": [
                          0.00008228259916
                        ],
                        "iteration": 246,
                        "passed_time": 8.24378593,
                        "remaining_time": 25.13186561,
                        "test": [
                          0.00008700068398
                        ]
                      },
                      {
                        "learn": [
                          0.00008172087129
                        ],
                        "iteration": 247,
                        "passed_time": 8.355183315,
                        "remaining_time": 25.33507199,
                        "test": [
                          0.00008640777658
                        ]
                      },
                      {
                        "learn": [
                          0.00008116289663
                        ],
                        "iteration": 248,
                        "passed_time": 8.413493397,
                        "remaining_time": 25.37563671,
                        "test": [
                          0.00008581889534
                        ]
                      },
                      {
                        "learn": [
                          0.00008072753086
                        ],
                        "iteration": 249,
                        "passed_time": 8.452113998,
                        "remaining_time": 25.35634199,
                        "test": [
                          0.00008535306346
                        ]
                      },
                      {
                        "learn": [
                          0.00008041209399
                        ],
                        "iteration": 250,
                        "passed_time": 8.499363953,
                        "remaining_time": 25.36264383,
                        "test": [
                          0.00008501600068
                        ]
                      },
                      {
                        "learn": [
                          0.0000799806117
                        ],
                        "iteration": 251,
                        "passed_time": 8.554785274,
                        "remaining_time": 25.39277534,
                        "test": [
                          0.00008456206739
                        ]
                      },
                      {
                        "learn": [
                          0.00007952583471
                        ],
                        "iteration": 252,
                        "passed_time": 8.599015623,
                        "remaining_time": 25.38918842,
                        "test": [
                          0.00008410964158
                        ]
                      },
                      {
                        "learn": [
                          0.00007931074805
                        ],
                        "iteration": 253,
                        "passed_time": 8.636167518,
                        "remaining_time": 25.364492,
                        "test": [
                          0.00008389676962
                        ]
                      },
                      {
                        "learn": [
                          0.00007885944511
                        ],
                        "iteration": 254,
                        "passed_time": 8.676817533,
                        "remaining_time": 25.34991789,
                        "test": [
                          0.00008344750768
                        ]
                      },
                      {
                        "learn": [
                          0.00007841031964
                        ],
                        "iteration": 255,
                        "passed_time": 8.718908768,
                        "remaining_time": 25.33932861,
                        "test": [
                          0.00008297000673
                        ]
                      },
                      {
                        "learn": [
                          0.00007820050608
                        ],
                        "iteration": 256,
                        "passed_time": 8.767796501,
                        "remaining_time": 25.34814319,
                        "test": [
                          0.0000827622838
                        ]
                      },
                      {
                        "learn": [
                          0.00007766585093
                        ],
                        "iteration": 257,
                        "passed_time": 8.823068013,
                        "remaining_time": 25.37487002,
                        "test": [
                          0.00008219850252
                        ]
                      },
                      {
                        "learn": [
                          0.0000772220606
                        ],
                        "iteration": 258,
                        "passed_time": 8.905096824,
                        "remaining_time": 25.4775164,
                        "test": [
                          0.00008175661671
                        ]
                      },
                      {
                        "learn": [
                          0.0000769308862
                        ],
                        "iteration": 259,
                        "passed_time": 8.954599003,
                        "remaining_time": 25.48616639,
                        "test": [
                          0.00008143681868
                        ]
                      },
                      {
                        "learn": [
                          0.00007640507745
                        ],
                        "iteration": 260,
                        "passed_time": 8.98514713,
                        "remaining_time": 25.44070394,
                        "test": [
                          0.0000808827213
                        ]
                      },
                      {
                        "learn": [
                          0.00007588248839
                        ],
                        "iteration": 261,
                        "passed_time": 9.01666117,
                        "remaining_time": 25.39807612,
                        "test": [
                          0.00008033232129
                        ]
                      },
                      {
                        "learn": [
                          0.0000756848588
                        ],
                        "iteration": 262,
                        "passed_time": 9.065681337,
                        "remaining_time": 25.40458991,
                        "test": [
                          0.00008013627983
                        ]
                      },
                      {
                        "learn": [
                          0.00007516743117
                        ],
                        "iteration": 263,
                        "passed_time": 9.128241795,
                        "remaining_time": 25.44843167,
                        "test": [
                          0.00007959143208
                        ]
                      },
                      {
                        "learn": [
                          0.00007465311778
                        ],
                        "iteration": 264,
                        "passed_time": 9.184532445,
                        "remaining_time": 25.47408056,
                        "test": [
                          0.0000790497544
                        ]
                      },
                      {
                        "learn": [
                          0.00007446120795
                        ],
                        "iteration": 265,
                        "passed_time": 9.22543954,
                        "remaining_time": 25.45666399,
                        "test": [
                          0.00007885958159
                        ]
                      },
                      {
                        "learn": [
                          0.00007395188849
                        ],
                        "iteration": 266,
                        "passed_time": 9.248961951,
                        "remaining_time": 25.39134498,
                        "test": [
                          0.00007832338173
                        ]
                      },
                      {
                        "learn": [
                          0.00007356453274
                        ],
                        "iteration": 267,
                        "passed_time": 9.301905758,
                        "remaining_time": 25.40669782,
                        "test": [
                          0.0000779093503
                        ]
                      },
                      {
                        "learn": [
                          0.00007325910237
                        ],
                        "iteration": 268,
                        "passed_time": 9.331962706,
                        "remaining_time": 25.35934847,
                        "test": [
                          0.00007760554527
                        ]
                      },
                      {
                        "learn": [
                          0.0000727985746
                        ],
                        "iteration": 269,
                        "passed_time": 9.376775786,
                        "remaining_time": 25.35202342,
                        "test": [
                          0.00007710496676
                        ]
                      },
                      {
                        "learn": [
                          0.00007261525681
                        ],
                        "iteration": 270,
                        "passed_time": 9.416004125,
                        "remaining_time": 25.32939855,
                        "test": [
                          0.00007692315026
                        ]
                      },
                      {
                        "learn": [
                          0.00007211790419
                        ],
                        "iteration": 271,
                        "passed_time": 9.453906542,
                        "remaining_time": 25.3031028,
                        "test": [
                          0.00007640022
                        ]
                      },
                      {
                        "learn": [
                          0.00007174227954
                        ],
                        "iteration": 272,
                        "passed_time": 9.473601809,
                        "remaining_time": 25.22823632,
                        "test": [
                          0.00007599888743
                        ]
                      },
                      {
                        "learn": [
                          0.00007144529853
                        ],
                        "iteration": 273,
                        "passed_time": 9.496954886,
                        "remaining_time": 25.16346441,
                        "test": [
                          0.00007567781145
                        ]
                      },
                      {
                        "learn": [
                          0.0000711496451
                        ],
                        "iteration": 274,
                        "passed_time": 9.519156662,
                        "remaining_time": 25.09595847,
                        "test": [
                          0.00007535806926
                        ]
                      },
                      {
                        "learn": [
                          0.00007085511453
                        ],
                        "iteration": 275,
                        "passed_time": 9.55871532,
                        "remaining_time": 25.0743112,
                        "test": [
                          0.00007506513303
                        ]
                      },
                      {
                        "learn": [
                          0.00007036864311
                        ],
                        "iteration": 276,
                        "passed_time": 9.607393072,
                        "remaining_time": 25.07633643,
                        "test": [
                          0.00007455402072
                        ]
                      },
                      {
                        "learn": [
                          0.00007012254441
                        ],
                        "iteration": 277,
                        "passed_time": 9.658917909,
                        "remaining_time": 25.08539112,
                        "test": [
                          0.00007428333697
                        ]
                      },
                      {
                        "learn": [
                          0.00006971412108
                        ],
                        "iteration": 278,
                        "passed_time": 9.71019654,
                        "remaining_time": 25.09337529,
                        "test": [
                          0.00007385179884
                        ]
                      },
                      {
                        "learn": [
                          0.00006951019478
                        ],
                        "iteration": 279,
                        "passed_time": 9.727956546,
                        "remaining_time": 25.0147454,
                        "test": [
                          0.00007361117797
                        ]
                      },
                      {
                        "learn": [
                          0.00006910443902
                        ],
                        "iteration": 280,
                        "passed_time": 9.746543862,
                        "remaining_time": 24.93866561,
                        "test": [
                          0.00007318281611
                        ]
                      },
                      {
                        "learn": [
                          0.00006893788349
                        ],
                        "iteration": 281,
                        "passed_time": 9.760821382,
                        "remaining_time": 24.8520204,
                        "test": [
                          0.00007299372894
                        ]
                      },
                      {
                        "learn": [
                          0.00006853458437
                        ],
                        "iteration": 282,
                        "passed_time": 9.786480909,
                        "remaining_time": 24.79472372,
                        "test": [
                          0.00007256805946
                        ]
                      },
                      {
                        "learn": [
                          0.00006837016289
                        ],
                        "iteration": 283,
                        "passed_time": 9.805964205,
                        "remaining_time": 24.72207877,
                        "test": [
                          0.00007240543705
                        ]
                      },
                      {
                        "learn": [
                          0.0000679691219
                        ],
                        "iteration": 284,
                        "passed_time": 9.819695939,
                        "remaining_time": 24.63537753,
                        "test": [
                          0.00007200587252
                        ]
                      },
                      {
                        "learn": [
                          0.00006761850415
                        ],
                        "iteration": 285,
                        "passed_time": 9.844627181,
                        "remaining_time": 24.57714618,
                        "test": [
                          0.00007163235091
                        ]
                      },
                      {
                        "learn": [
                          0.00006727013213
                        ],
                        "iteration": 286,
                        "passed_time": 9.894564908,
                        "remaining_time": 24.58127101,
                        "test": [
                          0.00007126162714
                        ]
                      },
                      {
                        "learn": [
                          0.00006692422915
                        ],
                        "iteration": 287,
                        "passed_time": 9.944481864,
                        "remaining_time": 24.58496905,
                        "test": [
                          0.00007089313048
                        ]
                      },
                      {
                        "learn": [
                          0.00006664788147
                        ],
                        "iteration": 288,
                        "passed_time": 9.969791336,
                        "remaining_time": 24.52775654,
                        "test": [
                          0.00007061834612
                        ]
                      },
                      {
                        "learn": [
                          0.00006649164882
                        ],
                        "iteration": 289,
                        "passed_time": 9.991679953,
                        "remaining_time": 24.46238885,
                        "test": [
                          0.00007046313707
                        ]
                      },
                      {
                        "learn": [
                          0.0000660320702
                        ],
                        "iteration": 290,
                        "passed_time": 10.02218986,
                        "remaining_time": 24.41832513,
                        "test": [
                          0.0000699816968
                        ]
                      },
                      {
                        "learn": [
                          0.00006581238664
                        ],
                        "iteration": 291,
                        "passed_time": 10.06967149,
                        "remaining_time": 24.41550484,
                        "test": [
                          0.00006974010196
                        ]
                      },
                      {
                        "learn": [
                          0.00006554140512
                        ],
                        "iteration": 292,
                        "passed_time": 10.11011477,
                        "remaining_time": 24.39539638,
                        "test": [
                          0.00006944845608
                        ]
                      },
                      {
                        "learn": [
                          0.00006520644538
                        ],
                        "iteration": 293,
                        "passed_time": 10.1541259,
                        "remaining_time": 24.3837173,
                        "test": [
                          0.00006909220542
                        ]
                      },
                      {
                        "learn": [
                          0.00006493779642
                        ],
                        "iteration": 294,
                        "passed_time": 10.19584303,
                        "remaining_time": 24.36633674,
                        "test": [
                          0.00006882493988
                        ]
                      },
                      {
                        "learn": [
                          0.00006467043783
                        ],
                        "iteration": 295,
                        "passed_time": 10.2369705,
                        "remaining_time": 24.34738929,
                        "test": [
                          0.0000685370224
                        ]
                      },
                      {
                        "learn": [
                          0.00006434032934
                        ],
                        "iteration": 296,
                        "passed_time": 10.27728291,
                        "remaining_time": 24.32636326,
                        "test": [
                          0.00006818598901
                        ]
                      },
                      {
                        "learn": [
                          0.00006407511721
                        ],
                        "iteration": 297,
                        "passed_time": 10.32203904,
                        "remaining_time": 24.31567586,
                        "test": [
                          0.00006792227196
                        ]
                      },
                      {
                        "learn": [
                          0.00006374850758
                        ],
                        "iteration": 298,
                        "passed_time": 10.35264635,
                        "remaining_time": 24.27158894,
                        "test": [
                          0.00006757479946
                        ]
                      },
                      {
                        "learn": [
                          0.00006342383969
                        ],
                        "iteration": 299,
                        "passed_time": 10.38381401,
                        "remaining_time": 24.22889937,
                        "test": [
                          0.00006722963472
                        ]
                      },
                      {
                        "learn": [
                          0.0000632109181
                        ],
                        "iteration": 300,
                        "passed_time": 10.40566364,
                        "remaining_time": 24.16464747,
                        "test": [
                          0.00006698752497
                        ]
                      },
                      {
                        "learn": [
                          0.00006306925781
                        ],
                        "iteration": 301,
                        "passed_time": 10.42919808,
                        "remaining_time": 24.1045704,
                        "test": [
                          0.00006682655893
                        ]
                      },
                      {
                        "learn": [
                          0.00006280927535
                        ],
                        "iteration": 302,
                        "passed_time": 10.44307629,
                        "remaining_time": 24.02252202,
                        "test": [
                          0.00006656786683
                        ]
                      },
                      {
                        "learn": [
                          0.00006249000463
                        ],
                        "iteration": 303,
                        "passed_time": 10.4696554,
                        "remaining_time": 23.97000051,
                        "test": [
                          0.00006622857074
                        ]
                      },
                      {
                        "learn": [
                          0.00006224751646
                        ],
                        "iteration": 304,
                        "passed_time": 10.55339389,
                        "remaining_time": 24.04789756,
                        "test": [
                          0.00006597209334
                        ]
                      },
                      {
                        "learn": [
                          0.00006199072888
                        ],
                        "iteration": 305,
                        "passed_time": 10.61913248,
                        "remaining_time": 24.08391483,
                        "test": [
                          0.00006569694297
                        ]
                      },
                      {
                        "learn": [
                          0.00006179453233
                        ],
                        "iteration": 306,
                        "passed_time": 10.67371657,
                        "remaining_time": 24.09408984,
                        "test": [
                          0.00006548121112
                        ]
                      },
                      {
                        "learn": [
                          0.00006153993464
                        ],
                        "iteration": 307,
                        "passed_time": 10.75616042,
                        "remaining_time": 24.16643834,
                        "test": [
                          0.00006522769907
                        ]
                      },
                      {
                        "learn": [
                          0.00006128613722
                        ],
                        "iteration": 308,
                        "passed_time": 10.86027612,
                        "remaining_time": 24.28624853,
                        "test": [
                          0.00006497527266
                        ]
                      },
                      {
                        "learn": [
                          0.00006097530966
                        ],
                        "iteration": 309,
                        "passed_time": 10.97387675,
                        "remaining_time": 24.42572568,
                        "test": [
                          0.00006464526343
                        ]
                      },
                      {
                        "learn": [
                          0.00006066610747
                        ],
                        "iteration": 310,
                        "passed_time": 11.04588256,
                        "remaining_time": 24.4714247,
                        "test": [
                          0.0000643172952
                        ]
                      },
                      {
                        "learn": [
                          0.00006047775853
                        ],
                        "iteration": 311,
                        "passed_time": 11.08748431,
                        "remaining_time": 24.44932438,
                        "test": [
                          0.00006410995689
                        ]
                      },
                      {
                        "learn": [
                          0.00006022860143
                        ],
                        "iteration": 312,
                        "passed_time": 11.13153333,
                        "remaining_time": 24.43247093,
                        "test": [
                          0.00006384310079
                        ]
                      },
                      {
                        "learn": [
                          0.00005998020739
                        ],
                        "iteration": 313,
                        "passed_time": 11.1727097,
                        "remaining_time": 24.40916833,
                        "test": [
                          0.0000635771132
                        ]
                      },
                      {
                        "learn": [
                          0.00005973279972
                        ],
                        "iteration": 314,
                        "passed_time": 11.21234015,
                        "remaining_time": 24.38239048,
                        "test": [
                          0.00006331210579
                        ]
                      },
                      {
                        "learn": [
                          0.00005943055182
                        ],
                        "iteration": 315,
                        "passed_time": 11.25298853,
                        "remaining_time": 24.35773467,
                        "test": [
                          0.00006299166879
                        ]
                      },
                      {
                        "learn": [
                          0.00005930371204
                        ],
                        "iteration": 316,
                        "passed_time": 11.27691704,
                        "remaining_time": 24.29695375,
                        "test": [
                          0.00006286605113
                        ]
                      },
                      {
                        "learn": [
                          0.00005905887889
                        ],
                        "iteration": 317,
                        "passed_time": 11.29371384,
                        "remaining_time": 24.22110956,
                        "test": [
                          0.00006262219195
                        ]
                      },
                      {
                        "learn": [
                          0.00005881494527
                        ],
                        "iteration": 318,
                        "passed_time": 11.32640216,
                        "remaining_time": 24.17956073,
                        "test": [
                          0.00006236132237
                        ]
                      },
                      {
                        "learn": [
                          0.00005863651596
                        ],
                        "iteration": 319,
                        "passed_time": 11.3455483,
                        "remaining_time": 24.10929014,
                        "test": [
                          0.00006216508239
                        ]
                      },
                      {
                        "learn": [
                          0.00005834075086
                        ],
                        "iteration": 320,
                        "passed_time": 11.35686483,
                        "remaining_time": 24.02277639,
                        "test": [
                          0.00006185170514
                        ]
                      },
                      {
                        "learn": [
                          0.00005811529791
                        ],
                        "iteration": 321,
                        "passed_time": 11.3757125,
                        "remaining_time": 23.9525872,
                        "test": [
                          0.00006167677469
                        ]
                      },
                      {
                        "learn": [
                          0.00005794096301
                        ],
                        "iteration": 322,
                        "passed_time": 11.40165717,
                        "remaining_time": 23.89759104,
                        "test": [
                          0.00006148503236
                        ]
                      },
                      {
                        "learn": [
                          0.0000575303684
                        ],
                        "iteration": 323,
                        "passed_time": 11.42604648,
                        "remaining_time": 23.83952907,
                        "test": [
                          0.00006105669531
                        ]
                      },
                      {
                        "learn": [
                          0.00005735906708
                        ],
                        "iteration": 324,
                        "passed_time": 11.44835726,
                        "remaining_time": 23.7773574,
                        "test": [
                          0.00006086834017
                        ]
                      },
                      {
                        "learn": [
                          0.00005724065186
                        ],
                        "iteration": 325,
                        "passed_time": 11.46204245,
                        "remaining_time": 23.69759697,
                        "test": [
                          0.00006073372102
                        ]
                      },
                      {
                        "learn": [
                          0.00005688519526
                        ],
                        "iteration": 326,
                        "passed_time": 11.50698666,
                        "remaining_time": 23.68257498,
                        "test": [
                          0.0000603789034
                        ]
                      },
                      {
                        "learn": [
                          0.00005676815105
                        ],
                        "iteration": 327,
                        "passed_time": 11.52581149,
                        "remaining_time": 23.61385769,
                        "test": [
                          0.00006026274631
                        ]
                      },
                      {
                        "learn": [
                          0.00005665177683
                        ],
                        "iteration": 328,
                        "passed_time": 11.55206733,
                        "remaining_time": 23.56059933,
                        "test": [
                          0.00006014726541
                        ]
                      },
                      {
                        "learn": [
                          0.00005624803725
                        ],
                        "iteration": 329,
                        "passed_time": 11.5936261,
                        "remaining_time": 23.53857421,
                        "test": [
                          0.00005972689385
                        ]
                      },
                      {
                        "learn": [
                          0.00005608358475
                        ],
                        "iteration": 330,
                        "passed_time": 11.63149835,
                        "remaining_time": 23.50898006,
                        "test": [
                          0.00005954557364
                        ]
                      },
                      {
                        "learn": [
                          0.00005597013865
                        ],
                        "iteration": 331,
                        "passed_time": 11.66261628,
                        "remaining_time": 23.46574602,
                        "test": [
                          0.0000594164137
                        ]
                      },
                      {
                        "learn": [
                          0.00005557022052
                        ],
                        "iteration": 332,
                        "passed_time": 11.68137889,
                        "remaining_time": 23.39783699,
                        "test": [
                          0.00005900006831
                        ]
                      },
                      {
                        "learn": [
                          0.00005545817644
                        ],
                        "iteration": 333,
                        "passed_time": 11.71946957,
                        "remaining_time": 23.36876268,
                        "test": [
                          0.00005888886173
                        ]
                      },
                      {
                        "learn": [
                          0.0000552983891
                        ],
                        "iteration": 334,
                        "passed_time": 11.77185216,
                        "remaining_time": 23.36800504,
                        "test": [
                          0.00005871276499
                        ]
                      },
                      {
                        "learn": [
                          0.0000549021001
                        ],
                        "iteration": 335,
                        "passed_time": 11.79516621,
                        "remaining_time": 23.30949513,
                        "test": [
                          0.00005830047678
                        ]
                      },
                      {
                        "learn": [
                          0.00005474502374
                        ],
                        "iteration": 336,
                        "passed_time": 11.83181736,
                        "remaining_time": 23.27743297,
                        "test": [
                          0.00005812728336
                        ]
                      },
                      {
                        "learn": [
                          0.00005464819721
                        ],
                        "iteration": 337,
                        "passed_time": 11.87121749,
                        "remaining_time": 23.25072774,
                        "test": [
                          0.00005801945156
                        ]
                      },
                      {
                        "learn": [
                          0.00005437427516
                        ],
                        "iteration": 338,
                        "passed_time": 11.91373194,
                        "remaining_time": 23.23002009,
                        "test": [
                          0.00005772979085
                        ]
                      },
                      {
                        "learn": [
                          0.00005414810878
                        ],
                        "iteration": 339,
                        "passed_time": 11.95197723,
                        "remaining_time": 23.20089699,
                        "test": [
                          0.00005750450539
                        ]
                      },
                      {
                        "learn": [
                          0.00005407032125
                        ],
                        "iteration": 340,
                        "passed_time": 12.01065265,
                        "remaining_time": 23.21120263,
                        "test": [
                          0.00005748998265
                        ]
                      },
                      {
                        "learn": [
                          0.00005384542042
                        ],
                        "iteration": 341,
                        "passed_time": 12.05150603,
                        "remaining_time": 23.18681569,
                        "test": [
                          0.0000572499139
                        ]
                      },
                      {
                        "learn": [
                          0.00005363241818
                        ],
                        "iteration": 342,
                        "passed_time": 12.0908064,
                        "remaining_time": 23.15935802,
                        "test": [
                          0.00005702619176
                        ]
                      },
                      {
                        "learn": [
                          0.00005352765719
                        ],
                        "iteration": 343,
                        "passed_time": 12.15514748,
                        "remaining_time": 23.17958356,
                        "test": [
                          0.00005690666609
                        ]
                      },
                      {
                        "learn": [
                          0.00005342353517
                        ],
                        "iteration": 344,
                        "passed_time": 12.19862192,
                        "remaining_time": 23.15970249,
                        "test": [
                          0.00005678792207
                        ]
                      },
                      {
                        "learn": [
                          0.00005306051633
                        ],
                        "iteration": 345,
                        "passed_time": 12.22393675,
                        "remaining_time": 23.10536022,
                        "test": [
                          0.00005640150928
                        ]
                      },
                      {
                        "learn": [
                          0.00005295746754
                        ],
                        "iteration": 346,
                        "passed_time": 12.27060152,
                        "remaining_time": 23.09136252,
                        "test": [
                          0.00005629919873
                        ]
                      },
                      {
                        "learn": [
                          0.00005283392811
                        ],
                        "iteration": 347,
                        "passed_time": 12.3009773,
                        "remaining_time": 23.04665861,
                        "test": [
                          0.0000561525507
                        ]
                      },
                      {
                        "learn": [
                          0.00005261341325
                        ],
                        "iteration": 348,
                        "passed_time": 12.31489613,
                        "remaining_time": 22.9713392,
                        "test": [
                          0.00005591789774
                        ]
                      },
                      {
                        "learn": [
                          0.00005239332645
                        ],
                        "iteration": 349,
                        "passed_time": 12.33177203,
                        "remaining_time": 22.90186234,
                        "test": [
                          0.00005569871667
                        ]
                      },
                      {
                        "learn": [
                          0.00005224881249
                        ],
                        "iteration": 350,
                        "passed_time": 12.34963694,
                        "remaining_time": 22.83451389,
                        "test": [
                          0.00005553909682
                        ]
                      },
                      {
                        "learn": [
                          0.00005210526629
                        ],
                        "iteration": 351,
                        "passed_time": 12.36858401,
                        "remaining_time": 22.76943874,
                        "test": [
                          0.00005538095344
                        ]
                      },
                      {
                        "learn": [
                          0.00005172511297
                        ],
                        "iteration": 352,
                        "passed_time": 12.38236163,
                        "remaining_time": 22.69515008,
                        "test": [
                          0.0000549859548
                        ]
                      },
                      {
                        "learn": [
                          0.00005162703951
                        ],
                        "iteration": 353,
                        "passed_time": 12.40949805,
                        "remaining_time": 22.64558118,
                        "test": [
                          0.00005487417748
                        ]
                      },
                      {
                        "learn": [
                          0.00005152961433
                        ],
                        "iteration": 354,
                        "passed_time": 12.43541074,
                        "remaining_time": 22.59391529,
                        "test": [
                          0.00005476308876
                        ]
                      },
                      {
                        "learn": [
                          0.00005127098737
                        ],
                        "iteration": 355,
                        "passed_time": 12.45029956,
                        "remaining_time": 22.52245202,
                        "test": [
                          0.00005449040744
                        ]
                      },
                      {
                        "learn": [
                          0.00005105595034
                        ],
                        "iteration": 356,
                        "passed_time": 12.48773876,
                        "remaining_time": 22.49192164,
                        "test": [
                          0.00005426166655
                        ]
                      },
                      {
                        "learn": [
                          0.00005091805566
                        ],
                        "iteration": 357,
                        "passed_time": 12.50744334,
                        "remaining_time": 22.42954923,
                        "test": [
                          0.00005410993774
                        ]
                      },
                      {
                        "learn": [
                          0.00005082303129
                        ],
                        "iteration": 358,
                        "passed_time": 12.53553991,
                        "remaining_time": 22.38239855,
                        "test": [
                          0.00005401526388
                        ]
                      },
                      {
                        "learn": [
                          0.00005044919019
                        ],
                        "iteration": 359,
                        "passed_time": 12.57053157,
                        "remaining_time": 22.34761168,
                        "test": [
                          0.00005362754212
                        ]
                      },
                      {
                        "learn": [
                          0.00005035540035
                        ],
                        "iteration": 360,
                        "passed_time": 12.58673187,
                        "remaining_time": 22.2795614,
                        "test": [
                          0.00005352082077
                        ]
                      },
                      {
                        "learn": [
                          0.00005026215642
                        ],
                        "iteration": 361,
                        "passed_time": 12.61034783,
                        "remaining_time": 22.22486717,
                        "test": [
                          0.00005342808865
                        ]
                      },
                      {
                        "learn": [
                          0.00005012863532
                        ],
                        "iteration": 362,
                        "passed_time": 12.61997678,
                        "remaining_time": 22.14579947,
                        "test": [
                          0.00005328080785
                        ]
                      },
                      {
                        "learn": [
                          0.00004975822173
                        ],
                        "iteration": 363,
                        "passed_time": 12.65087334,
                        "remaining_time": 22.1042732,
                        "test": [
                          0.00005289688272
                        ]
                      },
                      {
                        "learn": [
                          0.00004962683779
                        ],
                        "iteration": 364,
                        "passed_time": 12.68596877,
                        "remaining_time": 22.07011005,
                        "test": [
                          0.00005275202135
                        ]
                      },
                      {
                        "learn": [
                          0.0000495362025
                        ],
                        "iteration": 365,
                        "passed_time": 12.69954868,
                        "remaining_time": 21.99867175,
                        "test": [
                          0.0000526486934
                        ]
                      },
                      {
                        "learn": [
                          0.00004944597665
                        ],
                        "iteration": 366,
                        "passed_time": 12.71559247,
                        "remaining_time": 21.93179846,
                        "test": [
                          0.0000525590631
                        ]
                      },
                      {
                        "learn": [
                          0.00004913506845
                        ],
                        "iteration": 367,
                        "passed_time": 12.73347196,
                        "remaining_time": 21.86835402,
                        "test": [
                          0.00005223240384
                        ]
                      },
                      {
                        "learn": [
                          0.00004904588481
                        ],
                        "iteration": 368,
                        "passed_time": 12.75175743,
                        "remaining_time": 21.80585078,
                        "test": [
                          0.00005213052754
                        ]
                      },
                      {
                        "learn": [
                          0.00004891794079
                        ],
                        "iteration": 369,
                        "passed_time": 12.76930351,
                        "remaining_time": 21.7423276,
                        "test": [
                          0.00005198955586
                        ]
                      },
                      {
                        "learn": [
                          0.00004879100486
                        ],
                        "iteration": 370,
                        "passed_time": 12.80872366,
                        "remaining_time": 21.71613796,
                        "test": [
                          0.00005184955814
                        ]
                      },
                      {
                        "learn": [
                          0.00004842712371
                        ],
                        "iteration": 371,
                        "passed_time": 12.83731865,
                        "remaining_time": 21.67160245,
                        "test": [
                          0.00005147290059
                        ]
                      },
                      {
                        "learn": [
                          0.0000483403657
                        ],
                        "iteration": 372,
                        "passed_time": 12.85734365,
                        "remaining_time": 21.61274656,
                        "test": [
                          0.00005137394931
                        ]
                      },
                      {
                        "learn": [
                          0.00004821599498
                        ],
                        "iteration": 373,
                        "passed_time": 12.8713405,
                        "remaining_time": 21.54400843,
                        "test": [
                          0.00005123683629
                        ]
                      },
                      {
                        "learn": [
                          0.00004810904409
                        ],
                        "iteration": 374,
                        "passed_time": 12.88534507,
                        "remaining_time": 21.47557512,
                        "test": [
                          0.00005111165599
                        ]
                      },
                      {
                        "learn": [
                          0.00004786752369
                        ],
                        "iteration": 375,
                        "passed_time": 12.90407712,
                        "remaining_time": 21.41527692,
                        "test": [
                          0.00005085749876
                        ]
                      },
                      {
                        "learn": [
                          0.00004766403165
                        ],
                        "iteration": 376,
                        "passed_time": 12.92177399,
                        "remaining_time": 21.35348858,
                        "test": [
                          0.00005064264473
                        ]
                      },
                      {
                        "learn": [
                          0.00004757982334
                        ],
                        "iteration": 377,
                        "passed_time": 12.94652852,
                        "remaining_time": 21.30354692,
                        "test": [
                          0.00005055894822
                        ]
                      },
                      {
                        "learn": [
                          0.00004749614234
                        ],
                        "iteration": 378,
                        "passed_time": 12.98670131,
                        "remaining_time": 21.27900136,
                        "test": [
                          0.0000504636695
                        ]
                      },
                      {
                        "learn": [
                          0.00004741275291
                        ],
                        "iteration": 379,
                        "passed_time": 13.05697163,
                        "remaining_time": 21.30348002,
                        "test": [
                          0.00005038112067
                        ]
                      },
                      {
                        "learn": [
                          0.00004707161123
                        ],
                        "iteration": 380,
                        "passed_time": 13.08472381,
                        "remaining_time": 21.2583833,
                        "test": [
                          0.00005002241337
                        ]
                      },
                      {
                        "learn": [
                          0.00004698914304
                        ],
                        "iteration": 381,
                        "passed_time": 13.13903694,
                        "remaining_time": 21.25634772,
                        "test": [
                          0.00004994074545
                        ]
                      },
                      {
                        "learn": [
                          0.00004690730763
                        ],
                        "iteration": 382,
                        "passed_time": 13.19135658,
                        "remaining_time": 21.2508277,
                        "test": [
                          0.00004984759768
                        ]
                      },
                      {
                        "learn": [
                          0.00004682577619
                        ],
                        "iteration": 383,
                        "passed_time": 13.24815784,
                        "remaining_time": 21.2522532,
                        "test": [
                          0.00004976660596
                        ]
                      },
                      {
                        "learn": [
                          0.00004647106404
                        ],
                        "iteration": 384,
                        "passed_time": 13.30485636,
                        "remaining_time": 21.2532121,
                        "test": [
                          0.0000493999766
                        ]
                      },
                      {
                        "learn": [
                          0.00004635512717
                        ],
                        "iteration": 385,
                        "passed_time": 13.35577638,
                        "remaining_time": 21.24468056,
                        "test": [
                          0.00004927220628
                        ]
                      },
                      {
                        "learn": [
                          0.00004627528313
                        ],
                        "iteration": 386,
                        "passed_time": 13.43235134,
                        "remaining_time": 21.27656685,
                        "test": [
                          0.00004918101266
                        ]
                      },
                      {
                        "learn": [
                          0.00004619570894
                        ],
                        "iteration": 387,
                        "passed_time": 13.50047984,
                        "remaining_time": 21.29457129,
                        "test": [
                          0.0000491021519
                        ]
                      },
                      {
                        "learn": [
                          0.00004608166419
                        ],
                        "iteration": 388,
                        "passed_time": 13.56541772,
                        "remaining_time": 21.3071214,
                        "test": [
                          0.00004897652803
                        ]
                      },
                      {
                        "learn": [
                          0.00004573076107
                        ],
                        "iteration": 389,
                        "passed_time": 13.63114753,
                        "remaining_time": 21.3205128,
                        "test": [
                          0.00004861397757
                        ]
                      },
                      {
                        "learn": [
                          0.00004561829205
                        ],
                        "iteration": 390,
                        "passed_time": 13.68795353,
                        "remaining_time": 21.31960026,
                        "test": [
                          0.00004849000388
                        ]
                      },
                      {
                        "learn": [
                          0.00004550677218
                        ],
                        "iteration": 391,
                        "passed_time": 13.74546188,
                        "remaining_time": 21.31949189,
                        "test": [
                          0.00004836701037
                        ]
                      },
                      {
                        "learn": [
                          0.00004539599054
                        ],
                        "iteration": 392,
                        "passed_time": 13.81522638,
                        "remaining_time": 21.33802141,
                        "test": [
                          0.00004824490397
                        ]
                      },
                      {
                        "learn": [
                          0.00004531962364
                        ],
                        "iteration": 393,
                        "passed_time": 13.89540213,
                        "remaining_time": 21.37211597,
                        "test": [
                          0.00004815799087
                        ]
                      },
                      {
                        "learn": [
                          0.00004500587107
                        ],
                        "iteration": 394,
                        "passed_time": 13.97667949,
                        "remaining_time": 21.40731922,
                        "test": [
                          0.00004783363627
                        ]
                      },
                      {
                        "learn": [
                          0.00004489691021
                        ],
                        "iteration": 395,
                        "passed_time": 14.09075522,
                        "remaining_time": 21.49195998,
                        "test": [
                          0.00004771355226
                        ]
                      },
                      {
                        "learn": [
                          0.000044788731
                        ],
                        "iteration": 396,
                        "passed_time": 14.19214351,
                        "remaining_time": 21.55632881,
                        "test": [
                          0.00004759435538
                        ]
                      },
                      {
                        "learn": [
                          0.00004469869747
                        ],
                        "iteration": 397,
                        "passed_time": 14.28290423,
                        "remaining_time": 21.60378981,
                        "test": [
                          0.00004748759991
                        ]
                      },
                      {
                        "learn": [
                          0.00004450566167
                        ],
                        "iteration": 398,
                        "passed_time": 14.32104995,
                        "remaining_time": 21.57130582,
                        "test": [
                          0.00004728438083
                        ]
                      },
                      {
                        "learn": [
                          0.00004431278717
                        ],
                        "iteration": 399,
                        "passed_time": 14.37992174,
                        "remaining_time": 21.56988261,
                        "test": [
                          0.00004709228178
                        ]
                      },
                      {
                        "learn": [
                          0.00004423950038
                        ],
                        "iteration": 400,
                        "passed_time": 14.51110443,
                        "remaining_time": 21.67618841,
                        "test": [
                          0.00004700876518
                        ]
                      },
                      {
                        "learn": [
                          0.00004413413763
                        ],
                        "iteration": 401,
                        "passed_time": 14.6303795,
                        "remaining_time": 21.76359935,
                        "test": [
                          0.00004689266082
                        ]
                      },
                      {
                        "learn": [
                          0.00004402957826
                        ],
                        "iteration": 402,
                        "passed_time": 14.74634533,
                        "remaining_time": 21.84508229,
                        "test": [
                          0.00004677735672
                        ]
                      },
                      {
                        "learn": [
                          0.00004380686421
                        ],
                        "iteration": 403,
                        "passed_time": 14.80030233,
                        "remaining_time": 21.83410937,
                        "test": [
                          0.00004654410578
                        ]
                      },
                      {
                        "learn": [
                          0.00004358468988
                        ],
                        "iteration": 404,
                        "passed_time": 14.82659316,
                        "remaining_time": 21.78227884,
                        "test": [
                          0.00004631172956
                        ]
                      },
                      {
                        "learn": [
                          0.00004351371705
                        ],
                        "iteration": 405,
                        "passed_time": 14.88765721,
                        "remaining_time": 21.78144922,
                        "test": [
                          0.00004623082779
                        ]
                      },
                      {
                        "learn": [
                          0.00004344276594
                        ],
                        "iteration": 406,
                        "passed_time": 14.9252169,
                        "remaining_time": 21.74607769,
                        "test": [
                          0.00004616054667
                        ]
                      },
                      {
                        "learn": [
                          0.00004337225528
                        ],
                        "iteration": 407,
                        "passed_time": 14.95376602,
                        "remaining_time": 21.69762128,
                        "test": [
                          0.00004609064397
                        ]
                      },
                      {
                        "learn": [
                          0.00004330222851
                        ],
                        "iteration": 408,
                        "passed_time": 14.97897457,
                        "remaining_time": 21.64443514,
                        "test": [
                          0.00004601100464
                        ]
                      },
                      {
                        "learn": [
                          0.00004311365934
                        ],
                        "iteration": 409,
                        "passed_time": 15.00084976,
                        "remaining_time": 21.58658868,
                        "test": [
                          0.00004581276399
                        ]
                      },
                      {
                        "learn": [
                          0.0000429253135
                        ],
                        "iteration": 410,
                        "passed_time": 15.04548322,
                        "remaining_time": 21.56153191,
                        "test": [
                          0.0000456148118
                        ]
                      },
                      {
                        "learn": [
                          0.00004282568602
                        ],
                        "iteration": 411,
                        "passed_time": 15.0886804,
                        "remaining_time": 21.53433028,
                        "test": [
                          0.00004550496692
                        ]
                      },
                      {
                        "learn": [
                          0.00004272670373
                        ],
                        "iteration": 412,
                        "passed_time": 15.15994018,
                        "remaining_time": 21.54693677,
                        "test": [
                          0.00004539606499
                        ]
                      },
                      {
                        "learn": [
                          0.00004262837591
                        ],
                        "iteration": 413,
                        "passed_time": 15.20322723,
                        "remaining_time": 21.51954386,
                        "test": [
                          0.00004528778652
                        ]
                      },
                      {
                        "learn": [
                          0.00004244163992
                        ],
                        "iteration": 414,
                        "passed_time": 15.24176292,
                        "remaining_time": 21.48537665,
                        "test": [
                          0.0000451016771
                        ]
                      },
                      {
                        "learn": [
                          0.00004225545295
                        ],
                        "iteration": 415,
                        "passed_time": 15.29368396,
                        "remaining_time": 21.4699794,
                        "test": [
                          0.00004490586517
                        ]
                      },
                      {
                        "learn": [
                          0.00004218823023
                        ],
                        "iteration": 416,
                        "passed_time": 15.34822211,
                        "remaining_time": 21.45806593,
                        "test": [
                          0.0000448295448
                        ]
                      },
                      {
                        "learn": [
                          0.00004212146037
                        ],
                        "iteration": 417,
                        "passed_time": 15.40487965,
                        "remaining_time": 21.44889942,
                        "test": [
                          0.00004476353489
                        ]
                      },
                      {
                        "learn": [
                          0.00004202544342
                        ],
                        "iteration": 418,
                        "passed_time": 15.46859461,
                        "remaining_time": 21.44929229,
                        "test": [
                          0.0000446577565
                        ]
                      },
                      {
                        "learn": [
                          0.00004193026396
                        ],
                        "iteration": 419,
                        "passed_time": 15.54623959,
                        "remaining_time": 21.46861657,
                        "test": [
                          0.00004455255504
                        ]
                      },
                      {
                        "learn": [
                          0.00004175101577
                        ],
                        "iteration": 420,
                        "passed_time": 15.56758373,
                        "remaining_time": 21.41004984,
                        "test": [
                          0.00004435918735
                        ]
                      },
                      {
                        "learn": [
                          0.00004156681086
                        ],
                        "iteration": 421,
                        "passed_time": 15.59530644,
                        "remaining_time": 21.36039603,
                        "test": [
                          0.00004416590031
                        ]
                      },
                      {
                        "learn": [
                          0.00004147290935
                        ],
                        "iteration": 422,
                        "passed_time": 15.63782566,
                        "remaining_time": 21.33102933,
                        "test": [
                          0.00004406257546
                        ]
                      },
                      {
                        "learn": [
                          0.00004137966233
                        ],
                        "iteration": 423,
                        "passed_time": 15.67202475,
                        "remaining_time": 21.29029777,
                        "test": [
                          0.00004395992991
                        ]
                      },
                      {
                        "learn": [
                          0.00004131561897
                        ],
                        "iteration": 424,
                        "passed_time": 15.71455965,
                        "remaining_time": 21.26087482,
                        "test": [
                          0.00004388690057
                        ]
                      },
                      {
                        "learn": [
                          0.00004113263929
                        ],
                        "iteration": 425,
                        "passed_time": 15.77755417,
                        "remaining_time": 21.25895797,
                        "test": [
                          0.0000437046188
                        ]
                      },
                      {
                        "learn": [
                          0.0000410690457
                        ],
                        "iteration": 426,
                        "passed_time": 15.82395755,
                        "remaining_time": 21.23449104,
                        "test": [
                          0.00004363239593
                        ]
                      },
                      {
                        "learn": [
                          0.00004088676393
                        ],
                        "iteration": 427,
                        "passed_time": 15.87629704,
                        "remaining_time": 21.21785492,
                        "test": [
                          0.00004345066008
                        ]
                      },
                      {
                        "learn": [
                          0.00004079574091
                        ],
                        "iteration": 428,
                        "passed_time": 15.92895785,
                        "remaining_time": 21.20148003,
                        "test": [
                          0.00004335025094
                        ]
                      },
                      {
                        "learn": [
                          0.00004070527622
                        ],
                        "iteration": 429,
                        "passed_time": 15.95183095,
                        "remaining_time": 21.14545032,
                        "test": [
                          0.00004325071652
                        ]
                      },
                      {
                        "learn": [
                          0.00004064821507
                        ],
                        "iteration": 430,
                        "passed_time": 15.97177143,
                        "remaining_time": 21.08570288,
                        "test": [
                          0.00004317995462
                        ]
                      },
                      {
                        "learn": [
                          0.00004046743458
                        ],
                        "iteration": 431,
                        "passed_time": 15.9916502,
                        "remaining_time": 21.02605859,
                        "test": [
                          0.00004299047041
                        ]
                      },
                      {
                        "learn": [
                          0.00004040568347
                        ],
                        "iteration": 432,
                        "passed_time": 16.02428075,
                        "remaining_time": 20.98329603,
                        "test": [
                          0.00004292047465
                        ]
                      },
                      {
                        "learn": [
                          0.0000402252659
                        ],
                        "iteration": 433,
                        "passed_time": 16.06352017,
                        "remaining_time": 20.94919912,
                        "test": [
                          0.00004274079841
                        ]
                      },
                      {
                        "learn": [
                          0.00004016414446
                        ],
                        "iteration": 434,
                        "passed_time": 16.09478533,
                        "remaining_time": 20.90472117,
                        "test": [
                          0.00004267139201
                        ]
                      },
                      {
                        "learn": [
                          0.00004007624498
                        ],
                        "iteration": 435,
                        "passed_time": 16.12395468,
                        "remaining_time": 20.85759275,
                        "test": [
                          0.00004257439488
                        ]
                      },
                      {
                        "learn": [
                          0.00004001565395
                        ],
                        "iteration": 436,
                        "passed_time": 16.17290685,
                        "remaining_time": 20.83603332,
                        "test": [
                          0.00004251449866
                        ]
                      },
                      {
                        "learn": [
                          0.00003992863229
                        ],
                        "iteration": 437,
                        "passed_time": 16.23476885,
                        "remaining_time": 20.83091345,
                        "test": [
                          0.0000424184693
                        ]
                      },
                      {
                        "learn": [
                          0.0000397498897
                        ],
                        "iteration": 438,
                        "passed_time": 16.27640332,
                        "remaining_time": 20.79968625,
                        "test": [
                          0.00004223152859
                        ]
                      },
                      {
                        "learn": [
                          0.00003957140456
                        ],
                        "iteration": 439,
                        "passed_time": 16.2903846,
                        "remaining_time": 20.73321677,
                        "test": [
                          0.00004204495699
                        ]
                      },
                      {
                        "learn": [
                          0.00003948564223
                        ],
                        "iteration": 440,
                        "passed_time": 16.32230026,
                        "remaining_time": 20.68971847,
                        "test": [
                          0.0000419504041
                        ]
                      },
                      {
                        "learn": [
                          0.0000394267386
                        ],
                        "iteration": 441,
                        "passed_time": 16.36896053,
                        "remaining_time": 20.66488682,
                        "test": [
                          0.00004188342952
                        ]
                      },
                      {
                        "learn": [
                          0.00003937295608
                        ],
                        "iteration": 442,
                        "passed_time": 16.39085305,
                        "remaining_time": 20.60881523,
                        "test": [
                          0.00004181694193
                        ]
                      },
                      {
                        "learn": [
                          0.00003931452082
                        ],
                        "iteration": 443,
                        "passed_time": 16.43791154,
                        "remaining_time": 20.58441175,
                        "test": [
                          0.00004175045744
                        ]
                      },
                      {
                        "learn": [
                          0.00003913729192
                        ],
                        "iteration": 444,
                        "passed_time": 16.50452483,
                        "remaining_time": 20.58429501,
                        "test": [
                          0.00004157400399
                        ]
                      },
                      {
                        "learn": [
                          0.00003907953596
                        ],
                        "iteration": 445,
                        "passed_time": 16.55313835,
                        "remaining_time": 20.56152163,
                        "test": [
                          0.00004150810575
                        ]
                      },
                      {
                        "learn": [
                          0.00003887706131
                        ],
                        "iteration": 446,
                        "passed_time": 16.59525803,
                        "remaining_time": 20.53059886,
                        "test": [
                          0.00004129736474
                        ]
                      },
                      {
                        "learn": [
                          0.00003881981406
                        ],
                        "iteration": 447,
                        "passed_time": 16.6372762,
                        "remaining_time": 20.49950103,
                        "test": [
                          0.00004123213339
                        ]
                      },
                      {
                        "learn": [
                          0.00003876264744
                        ],
                        "iteration": 448,
                        "passed_time": 16.67912816,
                        "remaining_time": 20.46815059,
                        "test": [
                          0.00004117576084
                        ]
                      },
                      {
                        "learn": [
                          0.00003868034365
                        ],
                        "iteration": 449,
                        "passed_time": 16.71994558,
                        "remaining_time": 20.43548904,
                        "test": [
                          0.00004108508213
                        ]
                      },
                      {
                        "learn": [
                          0.00003862393079
                        ],
                        "iteration": 450,
                        "passed_time": 16.7606214,
                        "remaining_time": 20.40261896,
                        "test": [
                          0.00004102094882
                        ]
                      },
                      {
                        "learn": [
                          0.00003842349094
                        ],
                        "iteration": 451,
                        "passed_time": 16.80178903,
                        "remaining_time": 20.37031059,
                        "test": [
                          0.00004081234497
                        ]
                      },
                      {
                        "learn": [
                          0.00003834255815
                        ],
                        "iteration": 452,
                        "passed_time": 16.84549533,
                        "remaining_time": 20.34102858,
                        "test": [
                          0.00004072315513
                        ]
                      },
                      {
                        "learn": [
                          0.00003816805575
                        ],
                        "iteration": 453,
                        "passed_time": 16.88747245,
                        "remaining_time": 20.30960344,
                        "test": [
                          0.00004054931963
                        ]
                      },
                      {
                        "learn": [
                          0.00003808789842
                        ],
                        "iteration": 454,
                        "passed_time": 16.93842252,
                        "remaining_time": 20.28887972,
                        "test": [
                          0.0000404610014
                        ]
                      },
                      {
                        "learn": [
                          0.0000380329279
                        ],
                        "iteration": 455,
                        "passed_time": 16.98185269,
                        "remaining_time": 20.25905233,
                        "test": [
                          0.00004039861132
                        ]
                      },
                      {
                        "learn": [
                          0.00003798414242
                        ],
                        "iteration": 456,
                        "passed_time": 17.02398047,
                        "remaining_time": 20.22761794,
                        "test": [
                          0.00004034417431
                        ]
                      },
                      {
                        "learn": [
                          0.00003792955963
                        ],
                        "iteration": 457,
                        "passed_time": 17.06588298,
                        "remaining_time": 20.19587026,
                        "test": [
                          0.00004028226811
                        ]
                      },
                      {
                        "learn": [
                          0.00003774235216
                        ],
                        "iteration": 458,
                        "passed_time": 17.10970102,
                        "remaining_time": 20.16633606,
                        "test": [
                          0.00004008354977
                        ]
                      },
                      {
                        "learn": [
                          0.00003766407764
                        ],
                        "iteration": 459,
                        "passed_time": 17.16412478,
                        "remaining_time": 20.14918996,
                        "test": [
                          0.00003999748657
                        ]
                      },
                      {
                        "learn": [
                          0.00003749143323
                        ],
                        "iteration": 460,
                        "passed_time": 17.19403221,
                        "remaining_time": 20.1032177,
                        "test": [
                          0.00003981754668
                        ]
                      },
                      {
                        "learn": [
                          0.00003741399
                        ],
                        "iteration": 461,
                        "passed_time": 17.23949059,
                        "remaining_time": 20.07542411,
                        "test": [
                          0.00003973214727
                        ]
                      },
                      {
                        "learn": [
                          0.00003733693449
                        ],
                        "iteration": 462,
                        "passed_time": 17.28143599,
                        "remaining_time": 20.04347976,
                        "test": [
                          0.00003964754813
                        ]
                      },
                      {
                        "learn": [
                          0.00003728393673
                        ],
                        "iteration": 463,
                        "passed_time": 17.32435195,
                        "remaining_time": 20.01261346,
                        "test": [
                          0.00003959505906
                        ]
                      },
                      {
                        "learn": [
                          0.00003720763187
                        ],
                        "iteration": 464,
                        "passed_time": 17.3653042,
                        "remaining_time": 19.97943601,
                        "test": [
                          0.00003951121677
                        ]
                      },
                      {
                        "learn": [
                          0.0000370129428
                        ],
                        "iteration": 465,
                        "passed_time": 17.41098172,
                        "remaining_time": 19.95164,
                        "test": [
                          0.00003930876694
                        ]
                      },
                      {
                        "learn": [
                          0.00003696093762
                        ],
                        "iteration": 466,
                        "passed_time": 17.45237879,
                        "remaining_time": 19.918882,
                        "test": [
                          0.00003924989122
                        ]
                      },
                      {
                        "learn": [
                          0.00003677923589
                        ],
                        "iteration": 467,
                        "passed_time": 17.49204573,
                        "remaining_time": 19.88412036,
                        "test": [
                          0.00003905659177
                        ]
                      },
                      {
                        "learn": [
                          0.0000367275409
                        ],
                        "iteration": 468,
                        "passed_time": 17.53878812,
                        "remaining_time": 19.8573486,
                        "test": [
                          0.00003900556677
                        ]
                      },
                      {
                        "learn": [
                          0.00003665314676
                        ],
                        "iteration": 469,
                        "passed_time": 17.60004098,
                        "remaining_time": 19.84685473,
                        "test": [
                          0.00003892358247
                        ]
                      },
                      {
                        "learn": [
                          0.00003660211245
                        ],
                        "iteration": 470,
                        "passed_time": 17.65001361,
                        "remaining_time": 19.823476,
                        "test": [
                          0.0000388654791
                        ]
                      },
                      {
                        "learn": [
                          0.00003652840071
                        ],
                        "iteration": 471,
                        "passed_time": 17.69127655,
                        "remaining_time": 19.79024157,
                        "test": [
                          0.00003878438503
                        ]
                      },
                      {
                        "learn": [
                          0.00003635890776
                        ],
                        "iteration": 472,
                        "passed_time": 17.73288551,
                        "remaining_time": 19.7573587,
                        "test": [
                          0.00003860824796
                        ]
                      },
                      {
                        "learn": [
                          0.00003628597458
                        ],
                        "iteration": 473,
                        "passed_time": 17.78616577,
                        "remaining_time": 19.7373907,
                        "test": [
                          0.00003852773393
                        ]
                      },
                      {
                        "learn": [
                          0.00003621346014
                        ],
                        "iteration": 474,
                        "passed_time": 17.82694967,
                        "remaining_time": 19.70347069,
                        "test": [
                          0.00003844800465
                        ]
                      },
                      {
                        "learn": [
                          0.00003604461547
                        ],
                        "iteration": 475,
                        "passed_time": 17.87199304,
                        "remaining_time": 19.67421082,
                        "test": [
                          0.00003827974312
                        ]
                      },
                      {
                        "learn": [
                          0.00003599488393
                        ],
                        "iteration": 476,
                        "passed_time": 17.93237069,
                        "remaining_time": 19.66169784,
                        "test": [
                          0.00003823096384
                        ]
                      },
                      {
                        "learn": [
                          0.00003592337138
                        ],
                        "iteration": 477,
                        "passed_time": 18.01966811,
                        "remaining_time": 19.67838233,
                        "test": [
                          0.00003815193247
                        ]
                      },
                      {
                        "learn": [
                          0.00003587421988
                        ],
                        "iteration": 478,
                        "passed_time": 18.0655763,
                        "remaining_time": 19.64961431,
                        "test": [
                          0.00003809607173
                        ]
                      },
                      {
                        "learn": [
                          0.00003580335872
                        ],
                        "iteration": 479,
                        "passed_time": 18.10872677,
                        "remaining_time": 19.61778733,
                        "test": [
                          0.00003801807947
                        ]
                      },
                      {
                        "learn": [
                          0.00003561401099
                        ],
                        "iteration": 480,
                        "passed_time": 18.15164277,
                        "remaining_time": 19.58566029,
                        "test": [
                          0.00003782179297
                        ]
                      },
                      {
                        "learn": [
                          0.00003556561944
                        ],
                        "iteration": 481,
                        "passed_time": 18.1974971,
                        "remaining_time": 19.55664626,
                        "test": [
                          0.00003776681934
                        ]
                      },
                      {
                        "learn": [
                          0.00003549588734
                        ],
                        "iteration": 482,
                        "passed_time": 18.23640448,
                        "remaining_time": 19.52012654,
                        "test": [
                          0.00003769002129
                        ]
                      },
                      {
                        "learn": [
                          0.00003531892209
                        ],
                        "iteration": 483,
                        "passed_time": 18.2757087,
                        "remaining_time": 19.48402002,
                        "test": [
                          0.00003750246331
                        ]
                      },
                      {
                        "learn": [
                          0.00003527128118
                        ],
                        "iteration": 484,
                        "passed_time": 18.30647149,
                        "remaining_time": 19.43883056,
                        "test": [
                          0.00003744837061
                        ]
                      },
                      {
                        "learn": [
                          0.00003522381708
                        ],
                        "iteration": 485,
                        "passed_time": 18.3329851,
                        "remaining_time": 19.38920647,
                        "test": [
                          0.0000373942717
                        ]
                      },
                      {
                        "learn": [
                          0.00003515533501
                        ],
                        "iteration": 486,
                        "passed_time": 18.35337088,
                        "remaining_time": 19.3332223,
                        "test": [
                          0.00003731912072
                        ]
                      },
                      {
                        "learn": [
                          0.00003510810044
                        ],
                        "iteration": 487,
                        "passed_time": 18.39849982,
                        "remaining_time": 19.30334408,
                        "test": [
                          0.00003727239484
                        ]
                      },
                      {
                        "learn": [
                          0.00003492132412
                        ],
                        "iteration": 488,
                        "passed_time": 18.44738798,
                        "remaining_time": 19.27733181,
                        "test": [
                          0.0000370789434
                        ]
                      },
                      {
                        "learn": [
                          0.00003485376951
                        ],
                        "iteration": 489,
                        "passed_time": 18.48836836,
                        "remaining_time": 19.24299564,
                        "test": [
                          0.00003700467954
                        ]
                      },
                      {
                        "learn": [
                          0.00003478667396
                        ],
                        "iteration": 490,
                        "passed_time": 18.518485,
                        "remaining_time": 19.1973704,
                        "test": [
                          0.00003693080651
                        ]
                      },
                      {
                        "learn": [
                          0.00003471985137
                        ],
                        "iteration": 491,
                        "passed_time": 18.54947089,
                        "remaining_time": 19.15270571,
                        "test": [
                          0.00003685742666
                        ]
                      },
                      {
                        "learn": [
                          0.00003453457013
                        ],
                        "iteration": 492,
                        "passed_time": 18.61374609,
                        "remaining_time": 19.14233117,
                        "test": [
                          0.00003666551993
                        ]
                      },
                      {
                        "learn": [
                          0.00003448883374
                        ],
                        "iteration": 493,
                        "passed_time": 18.64151712,
                        "remaining_time": 19.09434749,
                        "test": [
                          0.00003662025812
                        ]
                      },
                      {
                        "learn": [
                          0.00003442306267
                        ],
                        "iteration": 494,
                        "passed_time": 18.66894426,
                        "remaining_time": 19.04609465,
                        "test": [
                          0.0000365479422
                        ]
                      },
                      {
                        "learn": [
                          0.00003435764831
                        ],
                        "iteration": 495,
                        "passed_time": 18.69956935,
                        "remaining_time": 19.00117531,
                        "test": [
                          0.00003647602642
                        ]
                      },
                      {
                        "learn": [
                          0.00003430413254
                        ],
                        "iteration": 496,
                        "passed_time": 18.73181066,
                        "remaining_time": 18.95794922,
                        "test": [
                          0.00003641619224
                        ]
                      },
                      {
                        "learn": [
                          0.00003414040278
                        ],
                        "iteration": 497,
                        "passed_time": 18.77095927,
                        "remaining_time": 18.92173002,
                        "test": [
                          0.00003625298668
                        ]
                      },
                      {
                        "learn": [
                          0.00003409571791
                        ],
                        "iteration": 498,
                        "passed_time": 18.80137201,
                        "remaining_time": 18.87672821,
                        "test": [
                          0.0000362088074
                        ]
                      },
                      {
                        "learn": [
                          0.00003403145742
                        ],
                        "iteration": 499,
                        "passed_time": 18.83317171,
                        "remaining_time": 18.83317171,
                        "test": [
                          0.00003613796175
                        ]
                      },
                      {
                        "learn": [
                          0.00003386837594
                        ],
                        "iteration": 500,
                        "passed_time": 18.87230558,
                        "remaining_time": 18.79696703,
                        "test": [
                          0.00003596896509
                        ]
                      },
                      {
                        "learn": [
                          0.00003380475443
                        ],
                        "iteration": 501,
                        "passed_time": 18.91231805,
                        "remaining_time": 18.76162229,
                        "test": [
                          0.00003589888869
                        ]
                      },
                      {
                        "learn": [
                          0.00003376613673
                        ],
                        "iteration": 502,
                        "passed_time": 18.95238539,
                        "remaining_time": 18.7263132,
                        "test": [
                          0.00003585558723
                        ]
                      },
                      {
                        "learn": [
                          0.00003370300531
                        ],
                        "iteration": 503,
                        "passed_time": 18.99146648,
                        "remaining_time": 18.69001464,
                        "test": [
                          0.00003578611878
                        ]
                      },
                      {
                        "learn": [
                          0.00003365963871
                        ],
                        "iteration": 504,
                        "passed_time": 19.03811213,
                        "remaining_time": 18.66111981,
                        "test": [
                          0.00003573710066
                        ]
                      },
                      {
                        "learn": [
                          0.00003361639308
                        ],
                        "iteration": 505,
                        "passed_time": 19.08342655,
                        "remaining_time": 18.63085517,
                        "test": [
                          0.00003568788403
                        ]
                      },
                      {
                        "learn": [
                          0.00003343523107
                        ],
                        "iteration": 506,
                        "passed_time": 19.12340407,
                        "remaining_time": 18.59534163,
                        "test": [
                          0.00003550048735
                        ]
                      },
                      {
                        "learn": [
                          0.00003339240419
                        ],
                        "iteration": 507,
                        "passed_time": 19.16267267,
                        "remaining_time": 18.55912392,
                        "test": [
                          0.00003545195931
                        ]
                      },
                      {
                        "learn": [
                          0.00003334967347
                        ],
                        "iteration": 508,
                        "passed_time": 19.20154914,
                        "remaining_time": 18.52251596,
                        "test": [
                          0.0000354036298
                        ]
                      },
                      {
                        "learn": [
                          0.00003328818912
                        ],
                        "iteration": 509,
                        "passed_time": 19.24082576,
                        "remaining_time": 18.48628357,
                        "test": [
                          0.00003533582083
                        ]
                      },
                      {
                        "learn": [
                          0.00003313150669
                        ],
                        "iteration": 510,
                        "passed_time": 19.28161714,
                        "remaining_time": 18.45148881,
                        "test": [
                          0.00003517515256
                        ]
                      },
                      {
                        "learn": [
                          0.00003308946147
                        ],
                        "iteration": 511,
                        "passed_time": 19.32214911,
                        "remaining_time": 18.41642337,
                        "test": [
                          0.0000351274155
                        ]
                      },
                      {
                        "learn": [
                          0.00003304756514
                        ],
                        "iteration": 512,
                        "passed_time": 19.38144364,
                        "remaining_time": 18.39914825,
                        "test": [
                          0.00003507965361
                        ]
                      },
                      {
                        "learn": [
                          0.00003298688106
                        ],
                        "iteration": 513,
                        "passed_time": 19.41013881,
                        "remaining_time": 18.35277716,
                        "test": [
                          0.00003501301093
                        ]
                      },
                      {
                        "learn": [
                          0.00003294519875
                        ],
                        "iteration": 514,
                        "passed_time": 19.43064975,
                        "remaining_time": 18.29876724,
                        "test": [
                          0.00003497205445
                        ]
                      },
                      {
                        "learn": [
                          0.00003278467938
                        ],
                        "iteration": 515,
                        "passed_time": 19.44971293,
                        "remaining_time": 18.24352918,
                        "test": [
                          0.0000348120934
                        ]
                      },
                      {
                        "learn": [
                          0.0000327248545
                        ],
                        "iteration": 516,
                        "passed_time": 19.477644,
                        "remaining_time": 18.19671577,
                        "test": [
                          0.00003474625099
                        ]
                      },
                      {
                        "learn": [
                          0.00003267516639
                        ],
                        "iteration": 517,
                        "passed_time": 19.51540975,
                        "remaining_time": 18.15912645,
                        "test": [
                          0.00003468726671
                        ]
                      },
                      {
                        "learn": [
                          0.0000326158254
                        ],
                        "iteration": 518,
                        "passed_time": 19.55185227,
                        "remaining_time": 18.1203101,
                        "test": [
                          0.00003462229591
                        ]
                      },
                      {
                        "learn": [
                          0.00003243797613
                        ],
                        "iteration": 519,
                        "passed_time": 19.60212651,
                        "remaining_time": 18.09427062,
                        "test": [
                          0.00003443841049
                        ]
                      },
                      {
                        "learn": [
                          0.00003237938888
                        ],
                        "iteration": 520,
                        "passed_time": 19.65517048,
                        "remaining_time": 18.07068456,
                        "test": [
                          0.00003437401973
                        ]
                      },
                      {
                        "learn": [
                          0.00003232097844
                        ],
                        "iteration": 521,
                        "passed_time": 19.70703158,
                        "remaining_time": 18.04590249,
                        "test": [
                          0.00003430975305
                        ]
                      },
                      {
                        "learn": [
                          0.00003228096181
                        ],
                        "iteration": 522,
                        "passed_time": 19.75736191,
                        "remaining_time": 18.01962071,
                        "test": [
                          0.00003426434235
                        ]
                      },
                      {
                        "learn": [
                          0.00003222315623
                        ],
                        "iteration": 523,
                        "passed_time": 19.79745294,
                        "remaining_time": 17.9839458,
                        "test": [
                          0.0000342008232
                        ]
                      },
                      {
                        "learn": [
                          0.00003218338154
                        ],
                        "iteration": 524,
                        "passed_time": 19.84411228,
                        "remaining_time": 17.95419682,
                        "test": [
                          0.00003415582194
                        ]
                      },
                      {
                        "learn": [
                          0.00003202484423
                        ],
                        "iteration": 525,
                        "passed_time": 19.88501258,
                        "remaining_time": 17.91919384,
                        "test": [
                          0.00003399770028
                        ]
                      },
                      {
                        "learn": [
                          0.00003196772414
                        ],
                        "iteration": 526,
                        "passed_time": 19.91296089,
                        "remaining_time": 17.87254365,
                        "test": [
                          0.00003393488835
                        ]
                      },
                      {
                        "learn": [
                          0.00003192831237
                        ],
                        "iteration": 527,
                        "passed_time": 19.93082449,
                        "remaining_time": 17.81694917,
                        "test": [
                          0.00003389606592
                        ]
                      },
                      {
                        "learn": [
                          0.00003187164515
                        ],
                        "iteration": 528,
                        "passed_time": 19.95426322,
                        "remaining_time": 17.76646121,
                        "test": [
                          0.00003383373477
                        ]
                      },
                      {
                        "learn": [
                          0.00003170569758
                        ],
                        "iteration": 529,
                        "passed_time": 19.98398325,
                        "remaining_time": 17.72164553,
                        "test": [
                          0.0000336592851
                        ]
                      },
                      {
                        "learn": [
                          0.00003166696821
                        ],
                        "iteration": 530,
                        "passed_time": 20.0176729,
                        "remaining_time": 17.68039283,
                        "test": [
                          0.00003361524851
                        ]
                      },
                      {
                        "learn": [
                          0.00003162096196
                        ],
                        "iteration": 531,
                        "passed_time": 20.05798515,
                        "remaining_time": 17.64499446,
                        "test": [
                          0.00003356380166
                        ]
                      },
                      {
                        "learn": [
                          0.00003158265754
                        ],
                        "iteration": 532,
                        "passed_time": 20.07932799,
                        "remaining_time": 17.59295717,
                        "test": [
                          0.00003352026136
                        ]
                      },
                      {
                        "learn": [
                          0.00003154418252
                        ],
                        "iteration": 533,
                        "passed_time": 20.11185307,
                        "remaining_time": 17.55079313,
                        "test": [
                          0.00003348232916
                        ]
                      },
                      {
                        "learn": [
                          0.00003148889561
                        ],
                        "iteration": 534,
                        "passed_time": 20.1385987,
                        "remaining_time": 17.50364186,
                        "test": [
                          0.0000334216699
                        ]
                      },
                      {
                        "learn": [
                          0.00003133194954
                        ],
                        "iteration": 535,
                        "passed_time": 20.15762727,
                        "remaining_time": 17.44988629,
                        "test": [
                          0.00003326501539
                        ]
                      },
                      {
                        "learn": [
                          0.00003129398322
                        ],
                        "iteration": 536,
                        "passed_time": 20.19620859,
                        "remaining_time": 17.41311839,
                        "test": [
                          0.00003322767564
                        ]
                      },
                      {
                        "learn": [
                          0.00003123933218
                        ],
                        "iteration": 537,
                        "passed_time": 20.23400675,
                        "remaining_time": 17.37567123,
                        "test": [
                          0.00003316748785
                        ]
                      },
                      {
                        "learn": [
                          0.00003118497893
                        ],
                        "iteration": 538,
                        "passed_time": 20.26525339,
                        "remaining_time": 17.33261932,
                        "test": [
                          0.0000331077002
                        ]
                      },
                      {
                        "learn": [
                          0.00003113088932
                        ],
                        "iteration": 539,
                        "passed_time": 20.30360529,
                        "remaining_time": 17.29566376,
                        "test": [
                          0.00003304829717
                        ]
                      },
                      {
                        "learn": [
                          0.00003095810844
                        ],
                        "iteration": 540,
                        "passed_time": 20.3430919,
                        "remaining_time": 17.25966577,
                        "test": [
                          0.00003287019976
                        ]
                      },
                      {
                        "learn": [
                          0.00003092109437
                        ],
                        "iteration": 541,
                        "passed_time": 20.38746287,
                        "remaining_time": 17.22778227,
                        "test": [
                          0.00003283373472
                        ]
                      },
                      {
                        "learn": [
                          0.00003086774611
                        ],
                        "iteration": 542,
                        "passed_time": 20.3967529,
                        "remaining_time": 17.16632795,
                        "test": [
                          0.00003277491483
                        ]
                      },
                      {
                        "learn": [
                          0.00003083105153
                        ],
                        "iteration": 543,
                        "passed_time": 20.40599014,
                        "remaining_time": 17.10502115,
                        "test": [
                          0.00003273323563
                        ]
                      },
                      {
                        "learn": [
                          0.00003077817785
                        ],
                        "iteration": 544,
                        "passed_time": 20.41513284,
                        "remaining_time": 17.0438265,
                        "test": [
                          0.00003267520361
                        ]
                      },
                      {
                        "learn": [
                          0.00003074166007
                        ],
                        "iteration": 545,
                        "passed_time": 20.42679242,
                        "remaining_time": 16.98491531,
                        "test": [
                          0.00003263921935
                        ]
                      },
                      {
                        "learn": [
                          0.00003057027811
                        ],
                        "iteration": 546,
                        "passed_time": 20.43606081,
                        "remaining_time": 16.92419661,
                        "test": [
                          0.00003246239058
                        ]
                      },
                      {
                        "learn": [
                          0.00003053425043
                        ],
                        "iteration": 547,
                        "passed_time": 20.44529983,
                        "remaining_time": 16.86364146,
                        "test": [
                          0.00003242170396
                        ]
                      },
                      {
                        "learn": [
                          0.00003049828478
                        ],
                        "iteration": 548,
                        "passed_time": 20.45493109,
                        "remaining_time": 16.80359549,
                        "test": [
                          0.00003238089327
                        ]
                      },
                      {
                        "learn": [
                          0.00003046637632
                        ],
                        "iteration": 549,
                        "passed_time": 20.46458643,
                        "remaining_time": 16.74375253,
                        "test": [
                          0.000032345396
                        ]
                      },
                      {
                        "learn": [
                          0.00003041469994
                        ],
                        "iteration": 550,
                        "passed_time": 20.47388048,
                        "remaining_time": 16.68379734,
                        "test": [
                          0.00003228863883
                        ]
                      },
                      {
                        "learn": [
                          0.00003024420509
                        ],
                        "iteration": 551,
                        "passed_time": 20.48300854,
                        "remaining_time": 16.62389099,
                        "test": [
                          0.00003211318107
                        ]
                      },
                      {
                        "learn": [
                          0.00003019305602
                        ],
                        "iteration": 552,
                        "passed_time": 20.49211968,
                        "remaining_time": 16.56415461,
                        "test": [
                          0.00003205692019
                        ]
                      },
                      {
                        "learn": [
                          0.00003014213648
                        ],
                        "iteration": 553,
                        "passed_time": 20.501581,
                        "remaining_time": 16.5048829,
                        "test": [
                          0.00003200083301
                        ]
                      },
                      {
                        "learn": [
                          0.00003010705486
                        ],
                        "iteration": 554,
                        "passed_time": 20.51092596,
                        "remaining_time": 16.44569739,
                        "test": [
                          0.00003196091564
                        ]
                      },
                      {
                        "learn": [
                          0.00003007594046
                        ],
                        "iteration": 555,
                        "passed_time": 20.52064897,
                        "remaining_time": 16.38699306,
                        "test": [
                          0.00003192651021
                        ]
                      },
                      {
                        "learn": [
                          0.0000300254986
                        ],
                        "iteration": 556,
                        "passed_time": 20.52984634,
                        "remaining_time": 16.32804655,
                        "test": [
                          0.00003187111784
                        ]
                      },
                      {
                        "learn": [
                          0.00002986546311
                        ],
                        "iteration": 557,
                        "passed_time": 20.53917181,
                        "remaining_time": 16.26937982,
                        "test": [
                          0.00003170616286
                        ]
                      },
                      {
                        "learn": [
                          0.00002982447561
                        ],
                        "iteration": 558,
                        "passed_time": 20.54871776,
                        "remaining_time": 16.21106356,
                        "test": [
                          0.00003166020003
                        ]
                      },
                      {
                        "learn": [
                          0.00002977464481
                        ],
                        "iteration": 559,
                        "passed_time": 20.55801662,
                        "remaining_time": 16.15272734,
                        "test": [
                          0.00003160539701
                        ]
                      },
                      {
                        "learn": [
                          0.00002972518934
                        ],
                        "iteration": 560,
                        "passed_time": 20.56721547,
                        "remaining_time": 16.09448769,
                        "test": [
                          0.00003155120815
                        ]
                      },
                      {
                        "learn": [
                          0.00002967585173
                        ],
                        "iteration": 561,
                        "passed_time": 20.57653724,
                        "remaining_time": 16.03651834,
                        "test": [
                          0.00003149689212
                        ]
                      },
                      {
                        "learn": [
                          0.00002962685842
                        ],
                        "iteration": 562,
                        "passed_time": 20.58781648,
                        "remaining_time": 15.98024121,
                        "test": [
                          0.00003144307237
                        ]
                      },
                      {
                        "learn": [
                          0.00002947416495
                        ],
                        "iteration": 563,
                        "passed_time": 20.59731939,
                        "remaining_time": 15.92275045,
                        "test": [
                          0.00003129083486
                        ]
                      },
                      {
                        "learn": [
                          0.00002944045743
                        ],
                        "iteration": 564,
                        "passed_time": 20.60678176,
                        "remaining_time": 15.86539834,
                        "test": [
                          0.00003127304901
                        ]
                      },
                      {
                        "learn": [
                          0.00002940699185
                        ],
                        "iteration": 565,
                        "passed_time": 20.61654001,
                        "remaining_time": 15.80844234,
                        "test": [
                          0.00003123509509
                        ]
                      },
                      {
                        "learn": [
                          0.00002935863442
                        ],
                        "iteration": 566,
                        "passed_time": 20.62589508,
                        "remaining_time": 15.75134492,
                        "test": [
                          0.00003118176233
                        ]
                      },
                      {
                        "learn": [
                          0.00002932893756
                        ],
                        "iteration": 567,
                        "passed_time": 20.63857477,
                        "remaining_time": 15.69694419,
                        "test": [
                          0.00003114901018
                        ]
                      },
                      {
                        "learn": [
                          0.00002928106711
                        ],
                        "iteration": 568,
                        "passed_time": 20.64787952,
                        "remaining_time": 15.64013369,
                        "test": [
                          0.00003109618302
                        ]
                      },
                      {
                        "learn": [
                          0.00002913541478
                        ],
                        "iteration": 569,
                        "passed_time": 20.66657231,
                        "remaining_time": 15.5905721,
                        "test": [
                          0.00003094472407
                        ]
                      },
                      {
                        "learn": [
                          0.00002909560287
                        ],
                        "iteration": 570,
                        "passed_time": 20.6906508,
                        "remaining_time": 15.54516496,
                        "test": [
                          0.00003089759186
                        ]
                      },
                      {
                        "learn": [
                          0.0000290663961
                        ],
                        "iteration": 571,
                        "passed_time": 20.69901308,
                        "remaining_time": 15.48807272,
                        "test": [
                          0.00003086523983
                        ]
                      },
                      {
                        "learn": [
                          0.00002903366565
                        ],
                        "iteration": 572,
                        "passed_time": 20.70730772,
                        "remaining_time": 15.43110017,
                        "test": [
                          0.00003084795027
                        ]
                      },
                      {
                        "learn": [
                          0.00002898657997
                        ],
                        "iteration": 573,
                        "passed_time": 20.71538264,
                        "remaining_time": 15.37413415,
                        "test": [
                          0.00003079587995
                        ]
                      },
                      {
                        "learn": [
                          0.00002893961526
                        ],
                        "iteration": 574,
                        "passed_time": 20.72481986,
                        "remaining_time": 15.31834512,
                        "test": [
                          0.00003074422218
                        ]
                      },
                      {
                        "learn": [
                          0.00002877394375
                        ],
                        "iteration": 575,
                        "passed_time": 20.73449936,
                        "remaining_time": 15.26289536,
                        "test": [
                          0.00003057395067
                        ]
                      },
                      {
                        "learn": [
                          0.00002874445781
                        ],
                        "iteration": 576,
                        "passed_time": 20.74427993,
                        "remaining_time": 15.20767836,
                        "test": [
                          0.00003053765623
                        ]
                      },
                      {
                        "learn": [
                          0.00002869811036
                        ],
                        "iteration": 577,
                        "passed_time": 20.75242819,
                        "remaining_time": 15.15142681,
                        "test": [
                          0.0000304864048
                        ]
                      },
                      {
                        "learn": [
                          0.00002866631047
                        ],
                        "iteration": 578,
                        "passed_time": 20.76068006,
                        "remaining_time": 15.09541676,
                        "test": [
                          0.00003045038952
                        ]
                      },
                      {
                        "learn": [
                          0.0000286345602
                        ],
                        "iteration": 579,
                        "passed_time": 20.76895994,
                        "remaining_time": 15.03959168,
                        "test": [
                          0.00003041449212
                        ]
                      },
                      {
                        "learn": [
                          0.00002860282854
                        ],
                        "iteration": 580,
                        "passed_time": 20.77735343,
                        "remaining_time": 14.9840122,
                        "test": [
                          0.000030378573
                        ]
                      },
                      {
                        "learn": [
                          0.00002845242111
                        ],
                        "iteration": 581,
                        "passed_time": 20.78557339,
                        "remaining_time": 14.92847024,
                        "test": [
                          0.00003022820279
                        ]
                      },
                      {
                        "learn": [
                          0.00002842079802
                        ],
                        "iteration": 582,
                        "passed_time": 20.79385925,
                        "remaining_time": 14.87313775,
                        "test": [
                          0.00003019721557
                        ]
                      },
                      {
                        "learn": [
                          0.00002838928659
                        ],
                        "iteration": 583,
                        "passed_time": 20.80204083,
                        "remaining_time": 14.81789209,
                        "test": [
                          0.0000301663152
                        ]
                      },
                      {
                        "learn": [
                          0.00002835809775
                        ],
                        "iteration": 584,
                        "passed_time": 20.81026281,
                        "remaining_time": 14.76283601,
                        "test": [
                          0.00003013542103
                        ]
                      },
                      {
                        "learn": [
                          0.00002832696164
                        ],
                        "iteration": 585,
                        "passed_time": 20.81854138,
                        "remaining_time": 14.70797974,
                        "test": [
                          0.00003009983071
                        ]
                      },
                      {
                        "learn": [
                          0.00002829592169
                        ],
                        "iteration": 586,
                        "passed_time": 20.8266856,
                        "remaining_time": 14.65318765,
                        "test": [
                          0.0000300647739
                        ]
                      },
                      {
                        "learn": [
                          0.00002825109414
                        ],
                        "iteration": 587,
                        "passed_time": 20.83469417,
                        "remaining_time": 14.59845918,
                        "test": [
                          0.0000300152936
                        ]
                      },
                      {
                        "learn": [
                          0.00002809481495
                        ],
                        "iteration": 588,
                        "passed_time": 20.8429052,
                        "remaining_time": 14.54403063,
                        "test": [
                          0.00002985239203
                        ]
                      },
                      {
                        "learn": [
                          0.00002806410069
                        ],
                        "iteration": 589,
                        "passed_time": 20.85131134,
                        "remaining_time": 14.48989432,
                        "test": [
                          0.00002982178323
                        ]
                      },
                      {
                        "learn": [
                          0.00002801980045
                        ],
                        "iteration": 590,
                        "passed_time": 20.85957181,
                        "remaining_time": 14.43581196,
                        "test": [
                          0.00002977317145
                        ]
                      },
                      {
                        "learn": [
                          0.00002798934674
                        ],
                        "iteration": 591,
                        "passed_time": 20.86776246,
                        "remaining_time": 14.38183629,
                        "test": [
                          0.00002973863264
                        ]
                      },
                      {
                        "learn": [
                          0.00002794530705
                        ],
                        "iteration": 592,
                        "passed_time": 20.87535155,
                        "remaining_time": 14.32760216,
                        "test": [
                          0.00002969010461
                        ]
                      },
                      {
                        "learn": [
                          0.00002790144726
                        ],
                        "iteration": 593,
                        "passed_time": 20.88336527,
                        "remaining_time": 14.27381532,
                        "test": [
                          0.00002964206666
                        ]
                      },
                      {
                        "learn": [
                          0.00002775238292
                        ],
                        "iteration": 594,
                        "passed_time": 20.89130411,
                        "remaining_time": 14.22013137,
                        "test": [
                          0.00002949323806
                        ]
                      },
                      {
                        "learn": [
                          0.00002772235416
                        ],
                        "iteration": 595,
                        "passed_time": 20.89915636,
                        "remaining_time": 14.16654223,
                        "test": [
                          0.00002946362805
                        ]
                      },
                      {
                        "learn": [
                          0.00002767897206
                        ],
                        "iteration": 596,
                        "passed_time": 20.90684111,
                        "remaining_time": 14.11299325,
                        "test": [
                          0.00002941570487
                        ]
                      },
                      {
                        "learn": [
                          0.00002764917284
                        ],
                        "iteration": 597,
                        "passed_time": 20.9145525,
                        "remaining_time": 14.05961556,
                        "test": [
                          0.00002938193842
                        ]
                      },
                      {
                        "learn": [
                          0.00002761958454
                        ],
                        "iteration": 598,
                        "passed_time": 20.92248561,
                        "remaining_time": 14.00653878,
                        "test": [
                          0.00002934848215
                        ]
                      },
                      {
                        "learn": [
                          0.0000275899311
                        ],
                        "iteration": 599,
                        "passed_time": 20.930364,
                        "remaining_time": 13.953576,
                        "test": [
                          0.00002931915751
                        ]
                      },
                      {
                        "learn": [
                          0.00002754716006
                        ],
                        "iteration": 600,
                        "passed_time": 20.93808611,
                        "remaining_time": 13.9006595,
                        "test": [
                          0.00002927209664
                        ]
                      },
                      {
                        "learn": [
                          0.00002751771134
                        ],
                        "iteration": 601,
                        "passed_time": 20.9538812,
                        "remaining_time": 13.85323043,
                        "test": [
                          0.00002924297672
                        ]
                      },
                      {
                        "learn": [
                          0.00002736955273
                        ],
                        "iteration": 602,
                        "passed_time": 20.96182123,
                        "remaining_time": 13.80073471,
                        "test": [
                          0.00002909099976
                        ]
                      },
                      {
                        "learn": [
                          0.00002732727798
                        ],
                        "iteration": 603,
                        "passed_time": 20.96957671,
                        "remaining_time": 13.74826552,
                        "test": [
                          0.00002904423667
                        ]
                      },
                      {
                        "learn": [
                          0.00002728515521
                        ],
                        "iteration": 604,
                        "passed_time": 20.97744056,
                        "remaining_time": 13.69601491,
                        "test": [
                          0.00002899786751
                        ]
                      },
                      {
                        "learn": [
                          0.00002724315341
                        ],
                        "iteration": 605,
                        "passed_time": 20.98505638,
                        "remaining_time": 13.64374953,
                        "test": [
                          0.00002895179302
                        ]
                      },
                      {
                        "learn": [
                          0.00002721448016
                        ],
                        "iteration": 606,
                        "passed_time": 20.99270133,
                        "remaining_time": 13.59165012,
                        "test": [
                          0.00002891913391
                        ]
                      },
                      {
                        "learn": [
                          0.00002717283507
                        ],
                        "iteration": 607,
                        "passed_time": 21.00029243,
                        "remaining_time": 13.53966222,
                        "test": [
                          0.00002887325174
                        ]
                      },
                      {
                        "learn": [
                          0.00002702534645
                        ],
                        "iteration": 608,
                        "passed_time": 21.00824732,
                        "remaining_time": 13.4880537,
                        "test": [
                          0.00002872175867
                        ]
                      },
                      {
                        "learn": [
                          0.00002698399294
                        ],
                        "iteration": 609,
                        "passed_time": 21.01597083,
                        "remaining_time": 13.43644037,
                        "test": [
                          0.00002867636348
                        ]
                      },
                      {
                        "learn": [
                          0.00002695867586
                        ],
                        "iteration": 610,
                        "passed_time": 21.0239144,
                        "remaining_time": 13.3851108,
                        "test": [
                          0.00002864841915
                        ]
                      },
                      {
                        "learn": [
                          0.00002693040583
                        ],
                        "iteration": 611,
                        "passed_time": 21.03181444,
                        "remaining_time": 13.33389543,
                        "test": [
                          0.0000286202732
                        ]
                      },
                      {
                        "learn": [
                          0.00002688944625
                        ],
                        "iteration": 612,
                        "passed_time": 21.03946464,
                        "remaining_time": 13.28266365,
                        "test": [
                          0.00002857527504
                        ]
                      },
                      {
                        "learn": [
                          0.00002686134063
                        ],
                        "iteration": 613,
                        "passed_time": 21.04731216,
                        "remaining_time": 13.23169787,
                        "test": [
                          0.00002854328903
                        ]
                      },
                      {
                        "learn": [
                          0.00002683345833
                        ],
                        "iteration": 614,
                        "passed_time": 21.05515742,
                        "remaining_time": 13.18087091,
                        "test": [
                          0.0000285115946
                        ]
                      },
                      {
                        "learn": [
                          0.00002680535891
                        ],
                        "iteration": 615,
                        "passed_time": 21.06288728,
                        "remaining_time": 13.13011155,
                        "test": [
                          0.00002848415276
                        ]
                      },
                      {
                        "learn": [
                          0.00002664611128
                        ],
                        "iteration": 616,
                        "passed_time": 21.07034873,
                        "remaining_time": 13.07932506,
                        "test": [
                          0.00002832081383
                        ]
                      },
                      {
                        "learn": [
                          0.00002660590544
                        ],
                        "iteration": 617,
                        "passed_time": 21.0776654,
                        "remaining_time": 13.02858929,
                        "test": [
                          0.00002827650428
                        ]
                      },
                      {
                        "learn": [
                          0.00002656592914
                        ],
                        "iteration": 618,
                        "passed_time": 21.0848176,
                        "remaining_time": 12.97789258,
                        "test": [
                          0.00002823239324
                        ]
                      },
                      {
                        "learn": [
                          0.00002652612343
                        ],
                        "iteration": 619,
                        "passed_time": 21.09199127,
                        "remaining_time": 12.92734949,
                        "test": [
                          0.00002818846832
                        ]
                      },
                      {
                        "learn": [
                          0.00002649870952
                        ],
                        "iteration": 620,
                        "passed_time": 21.09936815,
                        "remaining_time": 12.8770701,
                        "test": [
                          0.00002815757105
                        ]
                      },
                      {
                        "learn": [
                          0.00002647151583
                        ],
                        "iteration": 621,
                        "passed_time": 21.10667931,
                        "remaining_time": 12.82688871,
                        "test": [
                          0.00002812655902
                        ]
                      },
                      {
                        "learn": [
                          0.00002643199859
                        ],
                        "iteration": 622,
                        "passed_time": 21.11398894,
                        "remaining_time": 12.77684403,
                        "test": [
                          0.00002808311797
                        ]
                      },
                      {
                        "learn": [
                          0.00002627386762
                        ],
                        "iteration": 623,
                        "passed_time": 21.12112429,
                        "remaining_time": 12.7268313,
                        "test": [
                          0.00002792119037
                        ]
                      },
                      {
                        "learn": [
                          0.00002624684143
                        ],
                        "iteration": 624,
                        "passed_time": 21.12865582,
                        "remaining_time": 12.67719349,
                        "test": [
                          0.00002789431307
                        ]
                      },
                      {
                        "learn": [
                          0.00002621988658
                        ],
                        "iteration": 625,
                        "passed_time": 21.13601845,
                        "remaining_time": 12.6275893,
                        "test": [
                          0.00002786773354
                        ]
                      },
                      {
                        "learn": [
                          0.00002619535736
                        ],
                        "iteration": 626,
                        "passed_time": 21.14599421,
                        "remaining_time": 12.57967439,
                        "test": [
                          0.00002783741011
                        ]
                      },
                      {
                        "learn": [
                          0.00002616303325
                        ],
                        "iteration": 627,
                        "passed_time": 21.15342459,
                        "remaining_time": 12.53037253,
                        "test": [
                          0.00002779910569
                        ]
                      },
                      {
                        "learn": [
                          0.00002613630174
                        ],
                        "iteration": 628,
                        "passed_time": 21.16090395,
                        "remaining_time": 12.4812327,
                        "test": [
                          0.00002777262852
                        ]
                      },
                      {
                        "learn": [
                          0.00002609786704
                        ],
                        "iteration": 629,
                        "passed_time": 21.16813485,
                        "remaining_time": 12.4320792,
                        "test": [
                          0.00002773027312
                        ]
                      },
                      {
                        "learn": [
                          0.00002605948507
                        ],
                        "iteration": 630,
                        "passed_time": 21.17530743,
                        "remaining_time": 12.38302447,
                        "test": [
                          0.00002768802628
                        ]
                      },
                      {
                        "learn": [
                          0.0000260212706
                        ],
                        "iteration": 631,
                        "passed_time": 21.18244597,
                        "remaining_time": 12.33408247,
                        "test": [
                          0.00002764617027
                        ]
                      },
                      {
                        "learn": [
                          0.00002586423768
                        ],
                        "iteration": 632,
                        "passed_time": 21.18974526,
                        "remaining_time": 12.28536574,
                        "test": [
                          0.00002748520113
                        ]
                      },
                      {
                        "learn": [
                          0.00002583812497
                        ],
                        "iteration": 633,
                        "passed_time": 21.19712533,
                        "remaining_time": 12.2368263,
                        "test": [
                          0.00002745940946
                        ]
                      },
                      {
                        "learn": [
                          0.00002580035717
                        ],
                        "iteration": 634,
                        "passed_time": 21.20438796,
                        "remaining_time": 12.18834899,
                        "test": [
                          0.00002741795049
                        ]
                      },
                      {
                        "learn": [
                          0.00002576273205
                        ],
                        "iteration": 635,
                        "passed_time": 21.21162321,
                        "remaining_time": 12.13998561,
                        "test": [
                          0.00002737638295
                        ]
                      },
                      {
                        "learn": [
                          0.00002573695589
                        ],
                        "iteration": 636,
                        "passed_time": 21.21889307,
                        "remaining_time": 12.09177109,
                        "test": [
                          0.00002734703039
                        ]
                      },
                      {
                        "learn": [
                          0.00002571120765
                        ],
                        "iteration": 637,
                        "passed_time": 21.22627536,
                        "remaining_time": 12.04374872,
                        "test": [
                          0.00002731788876
                        ]
                      },
                      {
                        "learn": [
                          0.0000255665572
                        ],
                        "iteration": 638,
                        "passed_time": 21.23360226,
                        "remaining_time": 11.99582225,
                        "test": [
                          0.00002717378733
                        ]
                      },
                      {
                        "learn": [
                          0.00002554083688
                        ],
                        "iteration": 639,
                        "passed_time": 21.24080943,
                        "remaining_time": 11.9479553,
                        "test": [
                          0.00002714827173
                        ]
                      },
                      {
                        "learn": [
                          0.00002551530267
                        ],
                        "iteration": 640,
                        "passed_time": 21.24941621,
                        "remaining_time": 11.90099909,
                        "test": [
                          0.00002712317177
                        ]
                      },
                      {
                        "learn": [
                          0.00002547839252
                        ],
                        "iteration": 641,
                        "passed_time": 21.25666533,
                        "remaining_time": 11.85340528,
                        "test": [
                          0.0000270823952
                        ]
                      },
                      {
                        "learn": [
                          0.0000254416204
                        ],
                        "iteration": 642,
                        "passed_time": 21.2645906,
                        "remaining_time": 11.80631236,
                        "test": [
                          0.0000270419195
                        ]
                      },
                      {
                        "learn": [
                          0.00002541638861
                        ],
                        "iteration": 643,
                        "passed_time": 21.27158923,
                        "remaining_time": 11.75882883,
                        "test": [
                          0.00002701336101
                        ]
                      },
                      {
                        "learn": [
                          0.00002537990341
                        ],
                        "iteration": 644,
                        "passed_time": 21.27830329,
                        "remaining_time": 11.71131422,
                        "test": [
                          0.00002697317068
                        ]
                      },
                      {
                        "learn": [
                          0.00002535947325
                        ],
                        "iteration": 645,
                        "passed_time": 21.2874636,
                        "remaining_time": 11.66526643,
                        "test": [
                          0.00002694824442
                        ]
                      },
                      {
                        "learn": [
                          0.00002532316485
                        ],
                        "iteration": 646,
                        "passed_time": 21.2943926,
                        "remaining_time": 11.61811528,
                        "test": [
                          0.00002690845113
                        ]
                      },
                      {
                        "learn": [
                          0.00002529825721
                        ],
                        "iteration": 647,
                        "passed_time": 21.30131054,
                        "remaining_time": 11.57108227,
                        "test": [
                          0.0000268837451
                        ]
                      },
                      {
                        "learn": [
                          0.0000251545311
                        ],
                        "iteration": 648,
                        "passed_time": 21.3083604,
                        "remaining_time": 11.52424422,
                        "test": [
                          0.00002673656046
                        ]
                      },
                      {
                        "learn": [
                          0.00002511859802
                        ],
                        "iteration": 649,
                        "passed_time": 21.31522116,
                        "remaining_time": 11.47742678,
                        "test": [
                          0.0000266971611
                        ]
                      },
                      {
                        "learn": [
                          0.00002509397575
                        ],
                        "iteration": 650,
                        "passed_time": 21.32224238,
                        "remaining_time": 11.43081811,
                        "test": [
                          0.00002666917954
                        ]
                      },
                      {
                        "learn": [
                          0.00002505833424
                        ],
                        "iteration": 651,
                        "passed_time": 21.32914559,
                        "remaining_time": 11.38426789,
                        "test": [
                          0.00002662978328
                        ]
                      },
                      {
                        "learn": [
                          0.00002502270359
                        ],
                        "iteration": 652,
                        "passed_time": 21.33598386,
                        "remaining_time": 11.33780459,
                        "test": [
                          0.0000265906941
                        ]
                      },
                      {
                        "learn": [
                          0.00002499837909
                        ],
                        "iteration": 653,
                        "passed_time": 21.34301659,
                        "remaining_time": 11.29156535,
                        "test": [
                          0.00002656310648
                        ]
                      },
                      {
                        "learn": [
                          0.00002497414299
                        ],
                        "iteration": 654,
                        "passed_time": 21.35014399,
                        "remaining_time": 11.24549569,
                        "test": [
                          0.00002653543511
                        ]
                      },
                      {
                        "learn": [
                          0.00002481992187
                        ],
                        "iteration": 655,
                        "passed_time": 21.35710123,
                        "remaining_time": 11.19945552,
                        "test": [
                          0.00002637780973
                        ]
                      },
                      {
                        "learn": [
                          0.00002479576797
                        ],
                        "iteration": 656,
                        "passed_time": 21.3719934,
                        "remaining_time": 11.15767692,
                        "test": [
                          0.00002635021281
                        ]
                      },
                      {
                        "learn": [
                          0.00002477181103
                        ],
                        "iteration": 657,
                        "passed_time": 21.40983799,
                        "remaining_time": 11.12790972,
                        "test": [
                          0.00002632314009
                        ]
                      },
                      {
                        "learn": [
                          0.00002474163494
                        ],
                        "iteration": 658,
                        "passed_time": 21.42723592,
                        "remaining_time": 11.08753786,
                        "test": [
                          0.00002628786305
                        ]
                      },
                      {
                        "learn": [
                          0.00002470687435
                        ],
                        "iteration": 659,
                        "passed_time": 21.43434762,
                        "remaining_time": 11.04193665,
                        "test": [
                          0.00002624982228
                        ]
                      },
                      {
                        "learn": [
                          0.00002467229987
                        ],
                        "iteration": 660,
                        "passed_time": 21.44139623,
                        "remaining_time": 10.99641955,
                        "test": [
                          0.00002621139379
                        ]
                      },
                      {
                        "learn": [
                          0.00002464833673
                        ],
                        "iteration": 661,
                        "passed_time": 21.44858281,
                        "remaining_time": 10.95108911,
                        "test": [
                          0.00002618825418
                        ]
                      },
                      {
                        "learn": [
                          0.00002461405072
                        ],
                        "iteration": 662,
                        "passed_time": 21.45553893,
                        "remaining_time": 10.90575659,
                        "test": [
                          0.00002615031267
                        ]
                      },
                      {
                        "learn": [
                          0.00002457981279
                        ],
                        "iteration": 663,
                        "passed_time": 21.46253028,
                        "remaining_time": 10.86055749,
                        "test": [
                          0.00002611268445
                        ]
                      },
                      {
                        "learn": [
                          0.00002455187467
                        ],
                        "iteration": 664,
                        "passed_time": 21.46973562,
                        "remaining_time": 10.8155811,
                        "test": [
                          0.00002608134052
                        ]
                      },
                      {
                        "learn": [
                          0.00002440942341
                        ],
                        "iteration": 665,
                        "passed_time": 21.47693154,
                        "remaining_time": 10.77071342,
                        "test": [
                          0.00002593583862
                        ]
                      },
                      {
                        "learn": [
                          0.00002437561974
                        ],
                        "iteration": 666,
                        "passed_time": 21.48391613,
                        "remaining_time": 10.72585318,
                        "test": [
                          0.00002589850352
                        ]
                      },
                      {
                        "learn": [
                          0.0000243418781
                        ],
                        "iteration": 667,
                        "passed_time": 21.49099143,
                        "remaining_time": 10.68115143,
                        "test": [
                          0.00002586135298
                        ]
                      },
                      {
                        "learn": [
                          0.00002430826829
                        ],
                        "iteration": 668,
                        "passed_time": 21.49805252,
                        "remaining_time": 10.63655513,
                        "test": [
                          0.0000258243963
                        ]
                      },
                      {
                        "learn": [
                          0.00002427485079
                        ],
                        "iteration": 669,
                        "passed_time": 21.50508503,
                        "remaining_time": 10.5920568,
                        "test": [
                          0.00002578754664
                        ]
                      },
                      {
                        "learn": [
                          0.00002424151239
                        ],
                        "iteration": 670,
                        "passed_time": 21.51211096,
                        "remaining_time": 10.54766692,
                        "test": [
                          0.00002575099319
                        ]
                      },
                      {
                        "learn": [
                          0.00002421385653
                        ],
                        "iteration": 671,
                        "passed_time": 21.51925346,
                        "remaining_time": 10.50344514,
                        "test": [
                          0.00002571809525
                        ]
                      },
                      {
                        "learn": [
                          0.00002406179272
                        ],
                        "iteration": 672,
                        "passed_time": 21.52625591,
                        "remaining_time": 10.4592655,
                        "test": [
                          0.00002556291721
                        ]
                      },
                      {
                        "learn": [
                          0.00002403468433
                        ],
                        "iteration": 673,
                        "passed_time": 21.53341841,
                        "remaining_time": 10.4152736,
                        "test": [
                          0.00002553255191
                        ]
                      },
                      {
                        "learn": [
                          0.00002400187479
                        ],
                        "iteration": 674,
                        "passed_time": 21.54076748,
                        "remaining_time": 10.37148064,
                        "test": [
                          0.0000254964839
                        ]
                      },
                      {
                        "learn": [
                          0.00002397931213
                        ],
                        "iteration": 675,
                        "passed_time": 21.5478963,
                        "remaining_time": 10.32768994,
                        "test": [
                          0.00002547106446
                        ]
                      },
                      {
                        "learn": [
                          0.0000239568208
                        ],
                        "iteration": 676,
                        "passed_time": 21.55504943,
                        "remaining_time": 10.28401915,
                        "test": [
                          0.00002544861656
                        ]
                      },
                      {
                        "learn": [
                          0.00002393433723
                        ],
                        "iteration": 677,
                        "passed_time": 21.56220133,
                        "remaining_time": 10.2404555,
                        "test": [
                          0.00002542309165
                        ]
                      },
                      {
                        "learn": [
                          0.00002390189216
                        ],
                        "iteration": 678,
                        "passed_time": 21.5714339,
                        "remaining_time": 10.19798274,
                        "test": [
                          0.00002538742223
                        ]
                      },
                      {
                        "learn": [
                          0.00002386959287
                        ],
                        "iteration": 679,
                        "passed_time": 21.57848471,
                        "remaining_time": 10.15458104,
                        "test": [
                          0.00002535183656
                        ]
                      },
                      {
                        "learn": [
                          0.00002383732304
                        ],
                        "iteration": 680,
                        "passed_time": 21.58550607,
                        "remaining_time": 10.1112723,
                        "test": [
                          0.00002531646026
                        ]
                      },
                      {
                        "learn": [
                          0.00002381524892
                        ],
                        "iteration": 681,
                        "passed_time": 21.59260121,
                        "remaining_time": 10.06810438,
                        "test": [
                          0.00002529142854
                        ]
                      },
                      {
                        "learn": [
                          0.00002379316083
                        ],
                        "iteration": 682,
                        "passed_time": 21.59972535,
                        "remaining_time": 10.02505554,
                        "test": [
                          0.00002526966304
                        ]
                      },
                      {
                        "learn": [
                          0.00002377103552
                        ],
                        "iteration": 683,
                        "passed_time": 21.60678843,
                        "remaining_time": 9.982083542,
                        "test": [
                          0.00002524464373
                        ]
                      },
                      {
                        "learn": [
                          0.00002362034117
                        ],
                        "iteration": 684,
                        "passed_time": 21.61377655,
                        "remaining_time": 9.939181917,
                        "test": [
                          0.0000250907514
                        ]
                      },
                      {
                        "learn": [
                          0.00002359840662
                        ],
                        "iteration": 685,
                        "passed_time": 21.62088478,
                        "remaining_time": 9.896439971,
                        "test": [
                          0.00002506907586
                        ]
                      },
                      {
                        "learn": [
                          0.00002357658064
                        ],
                        "iteration": 686,
                        "passed_time": 21.63139829,
                        "remaining_time": 9.855353225,
                        "test": [
                          0.00002504433881
                        ]
                      },
                      {
                        "learn": [
                          0.00002355480429
                        ],
                        "iteration": 687,
                        "passed_time": 21.63864676,
                        "remaining_time": 9.812874695,
                        "test": [
                          0.00002501960797
                        ]
                      },
                      {
                        "learn": [
                          0.00002352341693
                        ],
                        "iteration": 688,
                        "passed_time": 21.64569432,
                        "remaining_time": 9.770407739,
                        "test": [
                          0.00002498500403
                        ]
                      },
                      {
                        "learn": [
                          0.00002350175845
                        ],
                        "iteration": 689,
                        "passed_time": 21.65288041,
                        "remaining_time": 9.728105689,
                        "test": [
                          0.00002496391473
                        ]
                      },
                      {
                        "learn": [
                          0.00002347048896
                        ],
                        "iteration": 690,
                        "passed_time": 21.65993498,
                        "remaining_time": 9.685846467,
                        "test": [
                          0.00002492942555
                        ]
                      },
                      {
                        "learn": [
                          0.00002332046305
                        ],
                        "iteration": 691,
                        "passed_time": 21.66699476,
                        "remaining_time": 9.643691311,
                        "test": [
                          0.00002477622182
                        ]
                      },
                      {
                        "learn": [
                          0.00002328939209
                        ],
                        "iteration": 692,
                        "passed_time": 21.68014865,
                        "remaining_time": 9.604337135,
                        "test": [
                          0.00002474221808
                        ]
                      },
                      {
                        "learn": [
                          0.00002326800501
                        ],
                        "iteration": 693,
                        "passed_time": 21.70522812,
                        "remaining_time": 9.570316723,
                        "test": [
                          0.00002472082945
                        ]
                      },
                      {
                        "learn": [
                          0.00002324675131
                        ],
                        "iteration": 694,
                        "passed_time": 21.71360522,
                        "remaining_time": 9.528992221,
                        "test": [
                          0.00002469690354
                        ]
                      },
                      {
                        "learn": [
                          0.00002322958737
                        ],
                        "iteration": 695,
                        "passed_time": 21.72229697,
                        "remaining_time": 9.487899825,
                        "test": [
                          0.00002467601431
                        ]
                      },
                      {
                        "learn": [
                          0.00002320832592
                        ],
                        "iteration": 696,
                        "passed_time": 21.73071793,
                        "remaining_time": 9.446782686,
                        "test": [
                          0.00002465207598
                        ]
                      },
                      {
                        "learn": [
                          0.00002318721491
                        ],
                        "iteration": 697,
                        "passed_time": 21.7379818,
                        "remaining_time": 9.4052586,
                        "test": [
                          0.00002462802444
                        ]
                      },
                      {
                        "learn": [
                          0.00002315673794
                        ],
                        "iteration": 698,
                        "passed_time": 21.74482383,
                        "remaining_time": 9.363650889,
                        "test": [
                          0.00002459440998
                        ]
                      },
                      {
                        "learn": [
                          0.00002313564244
                        ],
                        "iteration": 699,
                        "passed_time": 21.75181813,
                        "remaining_time": 9.322207769,
                        "test": [
                          0.00002457361535
                        ]
                      },
                      {
                        "learn": [
                          0.00002311478112
                        ],
                        "iteration": 700,
                        "passed_time": 21.75883183,
                        "remaining_time": 9.280871207,
                        "test": [
                          0.00002455016091
                        ]
                      },
                      {
                        "learn": [
                          0.00002309390895
                        ],
                        "iteration": 701,
                        "passed_time": 21.7658572,
                        "remaining_time": 9.239637386,
                        "test": [
                          0.00002452947175
                        ]
                      },
                      {
                        "learn": [
                          0.00002307314069
                        ],
                        "iteration": 702,
                        "passed_time": 21.77282066,
                        "remaining_time": 9.198474732,
                        "test": [
                          0.0000245059258
                        ]
                      },
                      {
                        "learn": [
                          0.00002304302508
                        ],
                        "iteration": 703,
                        "passed_time": 21.77971147,
                        "remaining_time": 9.157378686,
                        "test": [
                          0.00002447280143
                        ]
                      },
                      {
                        "learn": [
                          0.00002289412979
                        ],
                        "iteration": 704,
                        "passed_time": 21.78648538,
                        "remaining_time": 9.116330764,
                        "test": [
                          0.00002432086014
                        ]
                      },
                      {
                        "learn": [
                          0.00002287353058
                        ],
                        "iteration": 705,
                        "passed_time": 21.79324154,
                        "remaining_time": 9.07537254,
                        "test": [
                          0.00002430057266
                        ]
                      },
                      {
                        "learn": [
                          0.00002285298565
                        ],
                        "iteration": 706,
                        "passed_time": 21.79996512,
                        "remaining_time": 9.034497566,
                        "test": [
                          0.00002427730433
                        ]
                      },
                      {
                        "learn": [
                          0.00002282318953
                        ],
                        "iteration": 707,
                        "passed_time": 21.8066674,
                        "remaining_time": 8.993710283,
                        "test": [
                          0.00002424477241
                        ]
                      },
                      {
                        "learn": [
                          0.00002280281675
                        ],
                        "iteration": 708,
                        "passed_time": 21.81340011,
                        "remaining_time": 8.953031637,
                        "test": [
                          0.00002422448958
                        ]
                      },
                      {
                        "learn": [
                          0.00002278414377
                        ],
                        "iteration": 709,
                        "passed_time": 21.82025315,
                        "remaining_time": 8.912497764,
                        "test": [
                          0.00002420151437
                        ]
                      },
                      {
                        "learn": [
                          0.00002275466094
                        ],
                        "iteration": 710,
                        "passed_time": 21.82690967,
                        "remaining_time": 8.871978753,
                        "test": [
                          0.00002416888474
                        ]
                      },
                      {
                        "learn": [
                          0.0000226155488
                        ],
                        "iteration": 711,
                        "passed_time": 21.83368061,
                        "remaining_time": 8.831601145,
                        "test": [
                          0.0000240273082
                        ]
                      },
                      {
                        "learn": [
                          0.00002259807777
                        ],
                        "iteration": 712,
                        "passed_time": 21.84082745,
                        "remaining_time": 8.791469114,
                        "test": [
                          0.00002401764602
                        ]
                      },
                      {
                        "learn": [
                          0.00002257785388
                        ],
                        "iteration": 713,
                        "passed_time": 21.84775028,
                        "remaining_time": 8.751339749,
                        "test": [
                          0.00002399793703
                        ]
                      },
                      {
                        "learn": [
                          0.00002255258643
                        ],
                        "iteration": 714,
                        "passed_time": 21.85463701,
                        "remaining_time": 8.71128888,
                        "test": [
                          0.00002396845574
                        ]
                      },
                      {
                        "learn": [
                          0.00002252357817
                        ],
                        "iteration": 715,
                        "passed_time": 21.86139475,
                        "remaining_time": 8.671279483,
                        "test": [
                          0.00002393660932
                        ]
                      },
                      {
                        "learn": [
                          0.00002250364275
                        ],
                        "iteration": 716,
                        "passed_time": 21.86828925,
                        "remaining_time": 8.631416816,
                        "test": [
                          0.0000239140389
                        ]
                      },
                      {
                        "learn": [
                          0.00002248550329
                        ],
                        "iteration": 717,
                        "passed_time": 21.87524559,
                        "remaining_time": 8.591670273,
                        "test": [
                          0.00002389145917
                        ]
                      },
                      {
                        "learn": [
                          0.000022456616
                        ],
                        "iteration": 718,
                        "passed_time": 21.88200348,
                        "remaining_time": 8.551937381,
                        "test": [
                          0.00002385991363
                        ]
                      },
                      {
                        "learn": [
                          0.00002242788071
                        ],
                        "iteration": 719,
                        "passed_time": 21.88888338,
                        "remaining_time": 8.512343535,
                        "test": [
                          0.00002382816026
                        ]
                      },
                      {
                        "learn": [
                          0.00002240419518
                        ],
                        "iteration": 720,
                        "passed_time": 21.89571092,
                        "remaining_time": 8.472820177,
                        "test": [
                          0.00002379997554
                        ]
                      },
                      {
                        "learn": [
                          0.00002238453117
                        ],
                        "iteration": 721,
                        "passed_time": 21.90254417,
                        "remaining_time": 8.433389584,
                        "test": [
                          0.00002377769514
                        ]
                      },
                      {
                        "learn": [
                          0.00002236496487
                        ],
                        "iteration": 722,
                        "passed_time": 21.90943381,
                        "remaining_time": 8.394070769,
                        "test": [
                          0.00002375533564
                        ]
                      },
                      {
                        "learn": [
                          0.00002234542338
                        ],
                        "iteration": 723,
                        "passed_time": 21.91624145,
                        "remaining_time": 8.354810277,
                        "test": [
                          0.00002373345227
                        ]
                      },
                      {
                        "learn": [
                          0.00002231712544
                        ],
                        "iteration": 724,
                        "passed_time": 21.92296291,
                        "remaining_time": 8.315606621,
                        "test": [
                          0.00002370218589
                        ]
                      },
                      {
                        "learn": [
                          0.0000221788632
                        ],
                        "iteration": 725,
                        "passed_time": 21.92970117,
                        "remaining_time": 8.276498788,
                        "test": [
                          0.00002356140342
                        ]
                      },
                      {
                        "learn": [
                          0.00002215068778
                        ],
                        "iteration": 726,
                        "passed_time": 21.93670962,
                        "remaining_time": 8.237581466,
                        "test": [
                          0.00002353044101
                        ]
                      },
                      {
                        "learn": [
                          0.00002213144251
                        ],
                        "iteration": 727,
                        "passed_time": 21.94352593,
                        "remaining_time": 8.198680016,
                        "test": [
                          0.00002350864605
                        ]
                      },
                      {
                        "learn": [
                          0.00002210343615
                        ],
                        "iteration": 728,
                        "passed_time": 21.95021927,
                        "remaining_time": 8.159820881,
                        "test": [
                          0.00002347788991
                        ]
                      },
                      {
                        "learn": [
                          0.00002207555851
                        ],
                        "iteration": 729,
                        "passed_time": 21.956968,
                        "remaining_time": 8.121070356,
                        "test": [
                          0.00002344721443
                        ]
                      },
                      {
                        "learn": [
                          0.00002204792281
                        ],
                        "iteration": 730,
                        "passed_time": 21.96676487,
                        "remaining_time": 8.083529071,
                        "test": [
                          0.00002341684602
                        ]
                      },
                      {
                        "learn": [
                          0.00002203040526
                        ],
                        "iteration": 731,
                        "passed_time": 21.97351938,
                        "remaining_time": 8.044949717,
                        "test": [
                          0.00002339515962
                        ]
                      },
                      {
                        "learn": [
                          0.00002189251989
                        ],
                        "iteration": 732,
                        "passed_time": 21.98020793,
                        "remaining_time": 8.006433176,
                        "test": [
                          0.00002325733164
                        ]
                      },
                      {
                        "learn": [
                          0.00002187342351
                        ],
                        "iteration": 733,
                        "passed_time": 21.98696829,
                        "remaining_time": 7.96802938,
                        "test": [
                          0.00002323879669
                        ]
                      },
                      {
                        "learn": [
                          0.00002185457373
                        ],
                        "iteration": 734,
                        "passed_time": 21.99379598,
                        "remaining_time": 7.929735966,
                        "test": [
                          0.00002321741116
                        ]
                      },
                      {
                        "learn": [
                          0.00002183567122
                        ],
                        "iteration": 735,
                        "passed_time": 22.00053856,
                        "remaining_time": 7.891497526,
                        "test": [
                          0.00002319877075
                        ]
                      },
                      {
                        "learn": [
                          0.00002181689433
                        ],
                        "iteration": 736,
                        "passed_time": 22.00739614,
                        "remaining_time": 7.853385596,
                        "test": [
                          0.00002318015516
                        ]
                      },
                      {
                        "learn": [
                          0.00002179801973
                        ],
                        "iteration": 737,
                        "passed_time": 22.01415198,
                        "remaining_time": 7.815322246,
                        "test": [
                          0.00002316162021
                        ]
                      },
                      {
                        "learn": [
                          0.00002178133037
                        ],
                        "iteration": 738,
                        "passed_time": 22.02113237,
                        "remaining_time": 7.777422936,
                        "test": [
                          0.00002314299376
                        ]
                      },
                      {
                        "learn": [
                          0.00002176275199
                        ],
                        "iteration": 739,
                        "passed_time": 22.02805087,
                        "remaining_time": 7.73958544,
                        "test": [
                          0.00002312218828
                        ]
                      },
                      {
                        "learn": [
                          0.00002173564515
                        ],
                        "iteration": 740,
                        "passed_time": 22.0348017,
                        "remaining_time": 7.701772794,
                        "test": [
                          0.00002309219985
                        ]
                      },
                      {
                        "learn": [
                          0.00002171708384
                        ],
                        "iteration": 741,
                        "passed_time": 22.04161994,
                        "remaining_time": 7.664067311,
                        "test": [
                          0.00002307398284
                        ]
                      },
                      {
                        "learn": [
                          0.00002169015226
                        ],
                        "iteration": 742,
                        "passed_time": 22.04840673,
                        "remaining_time": 7.62643409,
                        "test": [
                          0.00002304429373
                        ]
                      },
                      {
                        "learn": [
                          0.00002166329046
                        ],
                        "iteration": 743,
                        "passed_time": 22.05540382,
                        "remaining_time": 7.588956153,
                        "test": [
                          0.00002301481555
                        ]
                      },
                      {
                        "learn": [
                          0.00002164491991
                        ],
                        "iteration": 744,
                        "passed_time": 22.06221502,
                        "remaining_time": 7.551496417,
                        "test": [
                          0.00002299666368
                        ]
                      },
                      {
                        "learn": [
                          0.00002162651059
                        ],
                        "iteration": 745,
                        "passed_time": 22.0690177,
                        "remaining_time": 7.514115946,
                        "test": [
                          0.00002297852731
                        ]
                      },
                      {
                        "learn": [
                          0.00002159993726
                        ],
                        "iteration": 746,
                        "passed_time": 22.07566045,
                        "remaining_time": 7.476763177,
                        "test": [
                          0.0000229493345
                        ]
                      },
                      {
                        "learn": [
                          0.00002146269087
                        ],
                        "iteration": 747,
                        "passed_time": 22.08229791,
                        "remaining_time": 7.439490739,
                        "test": [
                          0.00002281238743
                        ]
                      },
                      {
                        "learn": [
                          0.00002143635794
                        ],
                        "iteration": 748,
                        "passed_time": 22.08888331,
                        "remaining_time": 7.402282658,
                        "test": [
                          0.00002278329077
                        ]
                      },
                      {
                        "learn": [
                          0.00002141824329
                        ],
                        "iteration": 749,
                        "passed_time": 22.09558457,
                        "remaining_time": 7.365194858,
                        "test": [
                          0.00002276289008
                        ]
                      },
                      {
                        "learn": [
                          0.00002139203288
                        ],
                        "iteration": 750,
                        "passed_time": 22.10226676,
                        "remaining_time": 7.328181657,
                        "test": [
                          0.00002273398883
                        ]
                      },
                      {
                        "learn": [
                          0.0000213657992
                        ],
                        "iteration": 751,
                        "passed_time": 22.10877124,
                        "remaining_time": 7.291190514,
                        "test": [
                          0.00002270521942
                        ]
                      },
                      {
                        "learn": [
                          0.0000213476768
                        ],
                        "iteration": 752,
                        "passed_time": 22.11554507,
                        "remaining_time": 7.254368703,
                        "test": [
                          0.00002268726606
                        ]
                      },
                      {
                        "learn": [
                          0.00002132983666
                        ],
                        "iteration": 753,
                        "passed_time": 22.12222204,
                        "remaining_time": 7.21759499,
                        "test": [
                          0.00002266715229
                        ]
                      },
                      {
                        "learn": [
                          0.00002118504353
                        ],
                        "iteration": 754,
                        "passed_time": 22.128817,
                        "remaining_time": 7.180874391,
                        "test": [
                          0.00002251955666
                        ]
                      },
                      {
                        "learn": [
                          0.00002116719563
                        ],
                        "iteration": 755,
                        "passed_time": 22.13676737,
                        "remaining_time": 7.144670949,
                        "test": [
                          0.00002250199878
                        ]
                      },
                      {
                        "learn": [
                          0.00002114140707
                        ],
                        "iteration": 756,
                        "passed_time": 22.14341313,
                        "remaining_time": 7.10812337,
                        "test": [
                          0.00002247369154
                        ]
                      },
                      {
                        "learn": [
                          0.00002111564022
                        ],
                        "iteration": 757,
                        "passed_time": 22.15003636,
                        "remaining_time": 7.071647493,
                        "test": [
                          0.00002244527573
                        ]
                      },
                      {
                        "learn": [
                          0.00002109798309
                        ],
                        "iteration": 758,
                        "passed_time": 22.15926938,
                        "remaining_time": 7.036078946,
                        "test": [
                          0.00002242527052
                        ]
                      },
                      {
                        "learn": [
                          0.00002108040816
                        ],
                        "iteration": 759,
                        "passed_time": 22.16598975,
                        "remaining_time": 6.999786237,
                        "test": [
                          0.00002240791582
                        ]
                      },
                      {
                        "learn": [
                          0.00002105498406
                        ],
                        "iteration": 760,
                        "passed_time": 22.17271424,
                        "remaining_time": 6.963572542,
                        "test": [
                          0.00002237979934
                        ]
                      },
                      {
                        "learn": [
                          0.00002103748512
                        ],
                        "iteration": 761,
                        "passed_time": 22.18089338,
                        "remaining_time": 6.927890583,
                        "test": [
                          0.00002236007484
                        ]
                      },
                      {
                        "learn": [
                          0.00002101993965
                        ],
                        "iteration": 762,
                        "passed_time": 22.18770956,
                        "remaining_time": 6.891857359,
                        "test": [
                          0.00002234263949
                        ]
                      },
                      {
                        "learn": [
                          0.00002099462877
                        ],
                        "iteration": 763,
                        "passed_time": 22.19437802,
                        "remaining_time": 6.85585499,
                        "test": [
                          0.00002231491074
                        ]
                      },
                      {
                        "learn": [
                          0.00002097733145
                        ],
                        "iteration": 764,
                        "passed_time": 22.2057301,
                        "remaining_time": 6.82136807,
                        "test": [
                          0.0000222952948
                        ]
                      },
                      {
                        "learn": [
                          0.00002095214464
                        ],
                        "iteration": 765,
                        "passed_time": 22.21238652,
                        "remaining_time": 6.785507109,
                        "test": [
                          0.00002226749781
                        ]
                      },
                      {
                        "learn": [
                          0.00002093049701
                        ],
                        "iteration": 766,
                        "passed_time": 22.219118,
                        "remaining_time": 6.749745102,
                        "test": [
                          0.0000222422226
                        ]
                      },
                      {
                        "learn": [
                          0.0000209054684
                        ],
                        "iteration": 767,
                        "passed_time": 22.22583514,
                        "remaining_time": 6.714054364,
                        "test": [
                          0.00002221459776
                        ]
                      },
                      {
                        "learn": [
                          0.0000208883851
                        ],
                        "iteration": 768,
                        "passed_time": 22.23249654,
                        "remaining_time": 6.678422238,
                        "test": [
                          0.00002219537886
                        ]
                      },
                      {
                        "learn": [
                          0.00002087128165
                        ],
                        "iteration": 769,
                        "passed_time": 22.23922791,
                        "remaining_time": 6.64288626,
                        "test": [
                          0.00002217584512
                        ]
                      },
                      {
                        "learn": [
                          0.00002084649032
                        ],
                        "iteration": 770,
                        "passed_time": 22.2457932,
                        "remaining_time": 6.607375672,
                        "test": [
                          0.00002214853046
                        ]
                      },
                      {
                        "learn": [
                          0.00002070288054
                        ],
                        "iteration": 771,
                        "passed_time": 22.25241294,
                        "remaining_time": 6.571956152,
                        "test": [
                          0.00002200248419
                        ]
                      },
                      {
                        "learn": [
                          0.00002067821949
                        ],
                        "iteration": 772,
                        "passed_time": 22.25904692,
                        "remaining_time": 6.536615331,
                        "test": [
                          0.00002197535409
                        ]
                      },
                      {
                        "learn": [
                          0.0000206612339
                        ],
                        "iteration": 773,
                        "passed_time": 22.26571425,
                        "remaining_time": 6.501358424,
                        "test": [
                          0.00002195880431
                        ]
                      },
                      {
                        "learn": [
                          0.00002063689079
                        ],
                        "iteration": 774,
                        "passed_time": 22.27239658,
                        "remaining_time": 6.466179652,
                        "test": [
                          0.00002193176416
                        ]
                      },
                      {
                        "learn": [
                          0.00002061247788
                        ],
                        "iteration": 775,
                        "passed_time": 22.27904823,
                        "remaining_time": 6.43106547,
                        "test": [
                          0.00002190493649
                        ]
                      },
                      {
                        "learn": [
                          0.00002058808979
                        ],
                        "iteration": 776,
                        "passed_time": 22.28566567,
                        "remaining_time": 6.39601473,
                        "test": [
                          0.00002187829648
                        ]
                      },
                      {
                        "learn": [
                          0.00002057154312
                        ],
                        "iteration": 777,
                        "passed_time": 22.2922326,
                        "remaining_time": 6.361022671,
                        "test": [
                          0.00002185926369
                        ]
                      },
                      {
                        "learn": [
                          0.00002055798504
                        ],
                        "iteration": 778,
                        "passed_time": 22.29934049,
                        "remaining_time": 6.326257059,
                        "test": [
                          0.00002184280076
                        ]
                      },
                      {
                        "learn": [
                          0.00002041492428
                        ],
                        "iteration": 779,
                        "passed_time": 22.30611599,
                        "remaining_time": 6.291468612,
                        "test": [
                          0.00002169737796
                        ]
                      },
                      {
                        "learn": [
                          0.00002039834814
                        ],
                        "iteration": 780,
                        "passed_time": 22.31290265,
                        "remaining_time": 6.256755033,
                        "test": [
                          0.00002167872359
                        ]
                      },
                      {
                        "learn": [
                          0.00002037438034
                        ],
                        "iteration": 781,
                        "passed_time": 22.31968763,
                        "remaining_time": 6.22211241,
                        "test": [
                          0.00002165228054
                        ]
                      },
                      {
                        "learn": [
                          0.00002035798255
                        ],
                        "iteration": 782,
                        "passed_time": 22.32667576,
                        "remaining_time": 6.187597241,
                        "test": [
                          0.00002163373784
                        ]
                      },
                      {
                        "learn": [
                          0.00002033406284
                        ],
                        "iteration": 783,
                        "passed_time": 22.3336241,
                        "remaining_time": 6.153141334,
                        "test": [
                          0.00002160749641
                        ]
                      },
                      {
                        "learn": [
                          0.00002031459579
                        ],
                        "iteration": 784,
                        "passed_time": 22.34051064,
                        "remaining_time": 6.118738583,
                        "test": [
                          0.00002158568438
                        ]
                      },
                      {
                        "learn": [
                          0.00002029087149
                        ],
                        "iteration": 785,
                        "passed_time": 22.34739785,
                        "remaining_time": 6.08440603,
                        "test": [
                          0.0000215593561
                        ]
                      },
                      {
                        "learn": [
                          0.00002027462414
                        ],
                        "iteration": 786,
                        "passed_time": 22.35434607,
                        "remaining_time": 6.050159737,
                        "test": [
                          0.00002154347477
                        ]
                      },
                      {
                        "learn": [
                          0.00002025837524
                        ],
                        "iteration": 787,
                        "passed_time": 22.36130459,
                        "remaining_time": 6.015985498,
                        "test": [
                          0.00002152522984
                        ]
                      },
                      {
                        "learn": [
                          0.0000202348417
                        ],
                        "iteration": 788,
                        "passed_time": 22.36801042,
                        "remaining_time": 5.981812671,
                        "test": [
                          0.00002149927688
                        ]
                      },
                      {
                        "learn": [
                          0.00002021864088
                        ],
                        "iteration": 789,
                        "passed_time": 22.37491319,
                        "remaining_time": 5.947761734,
                        "test": [
                          0.00002148103816
                        ]
                      },
                      {
                        "learn": [
                          0.00002020261685
                        ],
                        "iteration": 790,
                        "passed_time": 22.38175885,
                        "remaining_time": 5.913764347,
                        "test": [
                          0.00002146269707
                        ]
                      },
                      {
                        "learn": [
                          0.00002017933301
                        ],
                        "iteration": 791,
                        "passed_time": 22.4040902,
                        "remaining_time": 5.883902477,
                        "test": [
                          0.00002143703879
                        ]
                      },
                      {
                        "learn": [
                          0.00002015614378
                        ],
                        "iteration": 792,
                        "passed_time": 22.41225071,
                        "remaining_time": 5.850360527,
                        "test": [
                          0.0000214113805
                        ]
                      },
                      {
                        "learn": [
                          0.00002014014612
                        ],
                        "iteration": 793,
                        "passed_time": 22.4197874,
                        "remaining_time": 5.81672066,
                        "test": [
                          0.00002139333099
                        ]
                      },
                      {
                        "learn": [
                          0.00002011698171
                        ],
                        "iteration": 794,
                        "passed_time": 22.44054653,
                        "remaining_time": 5.786556023,
                        "test": [
                          0.00002136787742
                        ]
                      },
                      {
                        "learn": [
                          0.00002009397083
                        ],
                        "iteration": 795,
                        "passed_time": 22.45325959,
                        "remaining_time": 5.75435296,
                        "test": [
                          0.00002134252932
                        ]
                      },
                      {
                        "learn": [
                          0.00002007816393
                        ],
                        "iteration": 796,
                        "passed_time": 22.46702075,
                        "remaining_time": 5.722465763,
                        "test": [
                          0.00002132466592
                        ]
                      },
                      {
                        "learn": [
                          0.00002006235394
                        ],
                        "iteration": 797,
                        "passed_time": 22.47453355,
                        "remaining_time": 5.689042327,
                        "test": [
                          0.00002130909166
                        ]
                      },
                      {
                        "learn": [
                          0.00001992774254
                        ],
                        "iteration": 798,
                        "passed_time": 22.48143176,
                        "remaining_time": 5.655529142,
                        "test": [
                          0.0000211723338
                        ]
                      },
                      {
                        "learn": [
                          0.00001991204111
                        ],
                        "iteration": 799,
                        "passed_time": 22.48836799,
                        "remaining_time": 5.622091997,
                        "test": [
                          0.00002115457741
                        ]
                      },
                      {
                        "learn": [
                          0.00001989633037
                        ],
                        "iteration": 800,
                        "passed_time": 22.49529904,
                        "remaining_time": 5.588719738,
                        "test": [
                          0.00002113681637
                        ]
                      },
                      {
                        "learn": [
                          0.00001988069253
                        ],
                        "iteration": 801,
                        "passed_time": 22.50218104,
                        "remaining_time": 5.555401303,
                        "test": [
                          0.0000211212235
                        ]
                      },
                      {
                        "learn": [
                          0.00001986510897
                        ],
                        "iteration": 802,
                        "passed_time": 22.50908878,
                        "remaining_time": 5.522155031,
                        "test": [
                          0.00002110357723
                        ]
                      },
                      {
                        "learn": [
                          0.00001984955177
                        ],
                        "iteration": 803,
                        "passed_time": 22.5160443,
                        "remaining_time": 5.488985923,
                        "test": [
                          0.00002108828369
                        ]
                      },
                      {
                        "learn": [
                          0.00001983398992
                        ],
                        "iteration": 804,
                        "passed_time": 22.52297841,
                        "remaining_time": 5.455876758,
                        "test": [
                          0.0000210706188
                        ]
                      },
                      {
                        "learn": [
                          0.00001969258863
                        ],
                        "iteration": 805,
                        "passed_time": 22.52981659,
                        "remaining_time": 5.422809453,
                        "test": [
                          0.00002092714704
                        ]
                      },
                      {
                        "learn": [
                          0.00001967707331
                        ],
                        "iteration": 806,
                        "passed_time": 22.53678011,
                        "remaining_time": 5.389837126,
                        "test": [
                          0.00002091165809
                        ]
                      },
                      {
                        "learn": [
                          0.0000196616588
                        ],
                        "iteration": 807,
                        "passed_time": 22.54531437,
                        "remaining_time": 5.357302425,
                        "test": [
                          0.00002089430338
                        ]
                      },
                      {
                        "learn": [
                          0.00001964631873
                        ],
                        "iteration": 808,
                        "passed_time": 22.55204517,
                        "remaining_time": 5.32440127,
                        "test": [
                          0.00002087694248
                        ]
                      },
                      {
                        "learn": [
                          0.00001962404608
                        ],
                        "iteration": 809,
                        "passed_time": 22.55856803,
                        "remaining_time": 5.291515958,
                        "test": [
                          0.00002085246909
                        ]
                      },
                      {
                        "learn": [
                          0.00001960870911
                        ],
                        "iteration": 810,
                        "passed_time": 22.5652949,
                        "remaining_time": 5.258743202,
                        "test": [
                          0.00002083728566
                        ]
                      },
                      {
                        "learn": [
                          0.00001959341557
                        ],
                        "iteration": 811,
                        "passed_time": 22.57204293,
                        "remaining_time": 5.226039495,
                        "test": [
                          0.0000208200116
                        ]
                      },
                      {
                        "learn": [
                          0.00001957955662
                        ],
                        "iteration": 812,
                        "passed_time": 22.57890545,
                        "remaining_time": 5.193425977,
                        "test": [
                          0.00002080295002
                        ]
                      },
                      {
                        "learn": [
                          0.00001956564184
                        ],
                        "iteration": 813,
                        "passed_time": 22.58569902,
                        "remaining_time": 5.160859972,
                        "test": [
                          0.00002078568062
                        ]
                      },
                      {
                        "learn": [
                          0.00001955052666
                        ],
                        "iteration": 814,
                        "passed_time": 22.59234788,
                        "remaining_time": 5.128324364,
                        "test": [
                          0.00002076844068
                        ]
                      },
                      {
                        "learn": [
                          0.00001953540527
                        ],
                        "iteration": 815,
                        "passed_time": 22.59901,
                        "remaining_time": 5.095855196,
                        "test": [
                          0.00002075126433
                        ]
                      },
                      {
                        "learn": [
                          0.00001951345211
                        ],
                        "iteration": 816,
                        "passed_time": 22.6056435,
                        "remaining_time": 5.063442792,
                        "test": [
                          0.00002072729034
                        ]
                      },
                      {
                        "learn": [
                          0.00001949164163
                        ],
                        "iteration": 817,
                        "passed_time": 22.61579237,
                        "remaining_time": 5.031875564,
                        "test": [
                          0.00002070319692
                        ]
                      },
                      {
                        "learn": [
                          0.00001947655126
                        ],
                        "iteration": 818,
                        "passed_time": 22.62271548,
                        "remaining_time": 4.999647743,
                        "test": [
                          0.00002068821356
                        ]
                      },
                      {
                        "learn": [
                          0.00001946163614
                        ],
                        "iteration": 819,
                        "passed_time": 22.62965061,
                        "remaining_time": 4.96748428,
                        "test": [
                          0.00002067123883
                        ]
                      },
                      {
                        "learn": [
                          0.00001944670862
                        ],
                        "iteration": 820,
                        "passed_time": 22.63632145,
                        "remaining_time": 4.935324653,
                        "test": [
                          0.00002065456343
                        ]
                      },
                      {
                        "learn": [
                          0.00001943186019
                        ],
                        "iteration": 821,
                        "passed_time": 22.64327075,
                        "remaining_time": 4.903287339,
                        "test": [
                          0.00002063769726
                        ]
                      },
                      {
                        "learn": [
                          0.00001941025288
                        ],
                        "iteration": 822,
                        "passed_time": 22.64992291,
                        "remaining_time": 4.87124709,
                        "test": [
                          0.00002061390938
                        ]
                      },
                      {
                        "learn": [
                          0.00001939253371
                        ],
                        "iteration": 823,
                        "passed_time": 22.65658872,
                        "remaining_time": 4.839271378,
                        "test": [
                          0.00002059417402
                        ]
                      },
                      {
                        "learn": [
                          0.00001937778609
                        ],
                        "iteration": 824,
                        "passed_time": 22.66333364,
                        "remaining_time": 4.807373803,
                        "test": [
                          0.000020577297
                        ]
                      },
                      {
                        "learn": [
                          0.00001935629666
                        ],
                        "iteration": 825,
                        "passed_time": 22.66985709,
                        "remaining_time": 4.775490477,
                        "test": [
                          0.00002055381619
                        ]
                      },
                      {
                        "learn": [
                          0.00001921967218
                        ],
                        "iteration": 826,
                        "passed_time": 22.67653626,
                        "remaining_time": 4.743701056,
                        "test": [
                          0.00002041389293
                        ]
                      },
                      {
                        "learn": [
                          0.00001919840608
                        ],
                        "iteration": 827,
                        "passed_time": 22.69903984,
                        "remaining_time": 4.715259483,
                        "test": [
                          0.00002039039971
                        ]
                      },
                      {
                        "learn": [
                          0.00001917709034
                        ],
                        "iteration": 828,
                        "passed_time": 22.72304487,
                        "remaining_time": 4.687141945,
                        "test": [
                          0.00002036711122
                        ]
                      },
                      {
                        "learn": [
                          0.00001916263429
                        ],
                        "iteration": 829,
                        "passed_time": 22.72990041,
                        "remaining_time": 4.655521771,
                        "test": [
                          0.00002035043271
                        ]
                      },
                      {
                        "learn": [
                          0.00001914811311
                        ],
                        "iteration": 830,
                        "passed_time": 22.73668559,
                        "remaining_time": 4.623946889,
                        "test": [
                          0.00002033404733
                        ]
                      },
                      {
                        "learn": [
                          0.00001912701915
                        ],
                        "iteration": 831,
                        "passed_time": 22.74327904,
                        "remaining_time": 4.592392882,
                        "test": [
                          0.00002031086585
                        ]
                      },
                      {
                        "learn": [
                          0.00001910599654
                        ],
                        "iteration": 832,
                        "passed_time": 22.74984668,
                        "remaining_time": 4.560893631,
                        "test": [
                          0.00002028787358
                        ]
                      },
                      {
                        "learn": [
                          0.00001908495532
                        ],
                        "iteration": 833,
                        "passed_time": 22.75646984,
                        "remaining_time": 4.52946522,
                        "test": [
                          0.00002026467969
                        ]
                      },
                      {
                        "learn": [
                          0.00001895171183
                        ],
                        "iteration": 834,
                        "passed_time": 22.76316701,
                        "remaining_time": 4.498110845,
                        "test": [
                          0.00002013186891
                        ]
                      },
                      {
                        "learn": [
                          0.0000189372837
                        ],
                        "iteration": 835,
                        "passed_time": 22.7699401,
                        "remaining_time": 4.466830355,
                        "test": [
                          0.0000201176579
                        ]
                      },
                      {
                        "learn": [
                          0.00001891649062
                        ],
                        "iteration": 836,
                        "passed_time": 22.77653495,
                        "remaining_time": 4.435573712,
                        "test": [
                          0.00002009476179
                        ]
                      },
                      {
                        "learn": [
                          0.00001889578595
                        ],
                        "iteration": 837,
                        "passed_time": 22.78336902,
                        "remaining_time": 4.404422173,
                        "test": [
                          0.00002007206109
                        ]
                      },
                      {
                        "learn": [
                          0.00001888158115
                        ],
                        "iteration": 838,
                        "passed_time": 22.79006509,
                        "remaining_time": 4.373302122,
                        "test": [
                          0.00002005587578
                        ]
                      },
                      {
                        "learn": [
                          0.00001886729725
                        ],
                        "iteration": 839,
                        "passed_time": 22.79671391,
                        "remaining_time": 4.342231222,
                        "test": [
                          0.00002004187725
                        ]
                      },
                      {
                        "learn": [
                          0.00001885321187
                        ],
                        "iteration": 840,
                        "passed_time": 22.80342931,
                        "remaining_time": 4.311230987,
                        "test": [
                          0.00002002577723
                        ]
                      },
                      {
                        "learn": [
                          0.00001883912338
                        ],
                        "iteration": 841,
                        "passed_time": 22.81020175,
                        "remaining_time": 4.28029914,
                        "test": [
                          0.00002000979974
                        ]
                      },
                      {
                        "learn": [
                          0.00001882508763
                        ],
                        "iteration": 842,
                        "passed_time": 22.81691396,
                        "remaining_time": 4.249413395,
                        "test": [
                          0.00001999390754
                        ]
                      },
                      {
                        "learn": [
                          0.00001880458923
                        ],
                        "iteration": 843,
                        "passed_time": 22.82370701,
                        "remaining_time": 4.218599873,
                        "test": [
                          0.00001997150617
                        ]
                      },
                      {
                        "learn": [
                          0.00001878425212
                        ],
                        "iteration": 844,
                        "passed_time": 22.8304164,
                        "remaining_time": 4.18782786,
                        "test": [
                          0.00001994919631
                        ]
                      },
                      {
                        "learn": [
                          0.00001876384988
                        ],
                        "iteration": 845,
                        "passed_time": 22.83699825,
                        "remaining_time": 4.157089516,
                        "test": [
                          0.00001992679028
                        ]
                      },
                      {
                        "learn": [
                          0.00001874363839
                        ],
                        "iteration": 846,
                        "passed_time": 22.8436699,
                        "remaining_time": 4.126424434,
                        "test": [
                          0.00001990448817
                        ]
                      },
                      {
                        "learn": [
                          0.00001872342846
                        ],
                        "iteration": 847,
                        "passed_time": 22.85064062,
                        "remaining_time": 4.095869545,
                        "test": [
                          0.00001988219691
                        ]
                      },
                      {
                        "learn": [
                          0.00001871109251
                        ],
                        "iteration": 848,
                        "passed_time": 22.85754922,
                        "remaining_time": 4.065359166,
                        "test": [
                          0.00001986857991
                        ]
                      },
                      {
                        "learn": [
                          0.00001869737469
                        ],
                        "iteration": 849,
                        "passed_time": 22.86436928,
                        "remaining_time": 4.034888697,
                        "test": [
                          0.00001985297618
                        ]
                      },
                      {
                        "learn": [
                          0.00001868356537
                        ],
                        "iteration": 850,
                        "passed_time": 22.87113304,
                        "remaining_time": 4.004463952,
                        "test": [
                          0.00001983749188
                        ]
                      },
                      {
                        "learn": [
                          0.00001866347951
                        ],
                        "iteration": 851,
                        "passed_time": 22.87779789,
                        "remaining_time": 3.974077567,
                        "test": [
                          0.00001981517581
                        ]
                      },
                      {
                        "learn": [
                          0.00001865165226
                        ],
                        "iteration": 852,
                        "passed_time": 22.88451827,
                        "remaining_time": 3.943756373,
                        "test": [
                          0.00001980886825
                        ]
                      },
                      {
                        "learn": [
                          0.00001863172149
                        ],
                        "iteration": 853,
                        "passed_time": 22.89114524,
                        "remaining_time": 3.91347448,
                        "test": [
                          0.00001978705002
                        ]
                      },
                      {
                        "learn": [
                          0.00001861946619
                        ],
                        "iteration": 854,
                        "passed_time": 22.89800125,
                        "remaining_time": 3.883286762,
                        "test": [
                          0.00001977353227
                        ]
                      },
                      {
                        "learn": [
                          0.00001859974634
                        ],
                        "iteration": 855,
                        "passed_time": 22.90459271,
                        "remaining_time": 3.853109054,
                        "test": [
                          0.00001975170784
                        ]
                      },
                      {
                        "learn": [
                          0.00001858608281
                        ],
                        "iteration": 856,
                        "passed_time": 22.91182712,
                        "remaining_time": 3.823093673,
                        "test": [
                          0.0000197382878
                        ]
                      },
                      {
                        "learn": [
                          0.0000184474623
                        ],
                        "iteration": 857,
                        "passed_time": 22.91895932,
                        "remaining_time": 3.79311448,
                        "test": [
                          0.00001959796595
                        ]
                      },
                      {
                        "learn": [
                          0.00001843112655
                        ],
                        "iteration": 858,
                        "passed_time": 22.92571391,
                        "remaining_time": 3.763126497,
                        "test": [
                          0.00001957842601
                        ]
                      },
                      {
                        "learn": [
                          0.00001841152768
                        ],
                        "iteration": 859,
                        "passed_time": 22.93238436,
                        "remaining_time": 3.733178849,
                        "test": [
                          0.00001955690245
                        ]
                      },
                      {
                        "learn": [
                          0.00001839816037
                        ],
                        "iteration": 860,
                        "passed_time": 22.93933572,
                        "remaining_time": 3.703330621,
                        "test": [
                          0.00001954179812
                        ]
                      },
                      {
                        "learn": [
                          0.0000183786592
                        ],
                        "iteration": 861,
                        "passed_time": 22.94598466,
                        "remaining_time": 3.673487103,
                        "test": [
                          0.00001952027302
                        ]
                      },
                      {
                        "learn": [
                          0.00001836531826
                        ],
                        "iteration": 862,
                        "passed_time": 22.95275246,
                        "remaining_time": 3.643716208,
                        "test": [
                          0.00001950518109
                        ]
                      },
                      {
                        "learn": [
                          0.00001834585121
                        ],
                        "iteration": 863,
                        "passed_time": 22.95936309,
                        "remaining_time": 3.61397382,
                        "test": [
                          0.00001948366374
                        ]
                      },
                      {
                        "learn": [
                          0.00001833255059
                        ],
                        "iteration": 864,
                        "passed_time": 22.96612556,
                        "remaining_time": 3.584308614,
                        "test": [
                          0.00001947073379
                        ]
                      },
                      {
                        "learn": [
                          0.00001819429766
                        ],
                        "iteration": 865,
                        "passed_time": 22.97276863,
                        "remaining_time": 3.554677825,
                        "test": [
                          0.0000193306058
                        ]
                      },
                      {
                        "learn": [
                          0.00001818109319
                        ],
                        "iteration": 866,
                        "passed_time": 22.97949226,
                        "remaining_time": 3.525112422,
                        "test": [
                          0.00001931559763
                        ]
                      },
                      {
                        "learn": [
                          0.00001816794611
                        ],
                        "iteration": 867,
                        "passed_time": 22.98619979,
                        "remaining_time": 3.495597203,
                        "test": [
                          0.00001930071198
                        ]
                      },
                      {
                        "learn": [
                          0.00001814872101
                        ],
                        "iteration": 868,
                        "passed_time": 22.99280005,
                        "remaining_time": 3.466118305,
                        "test": [
                          0.00001927978242
                        ]
                      },
                      {
                        "learn": [
                          0.00001812963549
                        ],
                        "iteration": 869,
                        "passed_time": 22.99947697,
                        "remaining_time": 3.436703455,
                        "test": [
                          0.0000192586559
                        ]
                      },
                      {
                        "learn": [
                          0.00001811058719
                        ],
                        "iteration": 870,
                        "passed_time": 23.00600046,
                        "remaining_time": 3.407318094,
                        "test": [
                          0.00001923772324
                        ]
                      },
                      {
                        "learn": [
                          0.00001809494004
                        ],
                        "iteration": 871,
                        "passed_time": 23.01269562,
                        "remaining_time": 3.378010366,
                        "test": [
                          0.00001922024757
                        ]
                      },
                      {
                        "learn": [
                          0.00001808194495
                        ],
                        "iteration": 872,
                        "passed_time": 23.0196789,
                        "remaining_time": 3.348796358,
                        "test": [
                          0.00001920544877
                        ]
                      },
                      {
                        "learn": [
                          0.00001806891574
                        ],
                        "iteration": 873,
                        "passed_time": 23.02642501,
                        "remaining_time": 3.319599028,
                        "test": [
                          0.00001919271578
                        ]
                      },
                      {
                        "learn": [
                          0.00001804998221
                        ],
                        "iteration": 874,
                        "passed_time": 23.03317552,
                        "remaining_time": 3.290453646,
                        "test": [
                          0.00001917178312
                        ]
                      },
                      {
                        "learn": [
                          0.00001803125339
                        ],
                        "iteration": 875,
                        "passed_time": 23.03973722,
                        "remaining_time": 3.261332666,
                        "test": [
                          0.00001915134365
                        ]
                      },
                      {
                        "learn": [
                          0.0000180183467
                        ],
                        "iteration": 876,
                        "passed_time": 23.0465164,
                        "remaining_time": 3.232293635,
                        "test": [
                          0.00001913663481
                        ]
                      },
                      {
                        "learn": [
                          0.00001799958998
                        ],
                        "iteration": 877,
                        "passed_time": 23.0531005,
                        "remaining_time": 3.203278202,
                        "test": [
                          0.00001911600613
                        ]
                      },
                      {
                        "learn": [
                          0.0000179810023
                        ],
                        "iteration": 878,
                        "passed_time": 23.05962709,
                        "remaining_time": 3.17430589,
                        "test": [
                          0.00001909546895
                        ]
                      },
                      {
                        "learn": [
                          0.00001796822278
                        ],
                        "iteration": 879,
                        "passed_time": 23.06648108,
                        "remaining_time": 3.145429239,
                        "test": [
                          0.00001908096172
                        ]
                      },
                      {
                        "learn": [
                          0.00001794958548
                        ],
                        "iteration": 880,
                        "passed_time": 23.07312106,
                        "remaining_time": 3.116573673,
                        "test": [
                          0.00001906062462
                        ]
                      },
                      {
                        "learn": [
                          0.00001793113273
                        ],
                        "iteration": 881,
                        "passed_time": 23.07959864,
                        "remaining_time": 3.087746757,
                        "test": [
                          0.00001904028596
                        ]
                      },
                      {
                        "learn": [
                          0.00001791274357
                        ],
                        "iteration": 882,
                        "passed_time": 23.08621529,
                        "remaining_time": 3.058988889,
                        "test": [
                          0.00001901995816
                        ]
                      },
                      {
                        "learn": [
                          0.00001789998576
                        ],
                        "iteration": 883,
                        "passed_time": 23.09282803,
                        "remaining_time": 3.030280602,
                        "test": [
                          0.00001900573629
                        ]
                      },
                      {
                        "learn": [
                          0.00001788169586
                        ],
                        "iteration": 884,
                        "passed_time": 23.09943575,
                        "remaining_time": 3.001621595,
                        "test": [
                          0.00001898561631
                        ]
                      },
                      {
                        "learn": [
                          0.00001786338114
                        ],
                        "iteration": 885,
                        "passed_time": 23.10618874,
                        "remaining_time": 2.973031057,
                        "test": [
                          0.00001896536296
                        ]
                      },
                      {
                        "learn": [
                          0.00001784518895
                        ],
                        "iteration": 886,
                        "passed_time": 23.11297534,
                        "remaining_time": 2.94449404,
                        "test": [
                          0.00001894542133
                        ]
                      },
                      {
                        "learn": [
                          0.00001783362069
                        ],
                        "iteration": 887,
                        "passed_time": 23.11974822,
                        "remaining_time": 2.91600428,
                        "test": [
                          0.0000189377164
                        ]
                      },
                      {
                        "learn": [
                          0.00001781792236
                        ],
                        "iteration": 888,
                        "passed_time": 23.12656644,
                        "remaining_time": 2.887569038,
                        "test": [
                          0.00001891955677
                        ]
                      },
                      {
                        "learn": [
                          0.00001780545458
                        ],
                        "iteration": 889,
                        "passed_time": 23.13318266,
                        "remaining_time": 2.859157407,
                        "test": [
                          0.0000189070161
                        ]
                      },
                      {
                        "learn": [
                          0.00001767408459
                        ],
                        "iteration": 890,
                        "passed_time": 23.13980339,
                        "remaining_time": 2.830795252,
                        "test": [
                          0.00001877596715
                        ]
                      },
                      {
                        "learn": [
                          0.00001765592652
                        ],
                        "iteration": 891,
                        "passed_time": 23.14647278,
                        "remaining_time": 2.802487736,
                        "test": [
                          0.00001875622559
                        ]
                      },
                      {
                        "learn": [
                          0.00001764103932
                        ],
                        "iteration": 892,
                        "passed_time": 23.15319612,
                        "remaining_time": 2.774235145,
                        "test": [
                          0.00001873834978
                        ]
                      },
                      {
                        "learn": [
                          0.000017626301
                        ],
                        "iteration": 893,
                        "passed_time": 23.1601061,
                        "remaining_time": 2.746052848,
                        "test": [
                          0.00001872186204
                        ]
                      },
                      {
                        "learn": [
                          0.00001761391232
                        ],
                        "iteration": 894,
                        "passed_time": 23.16676897,
                        "remaining_time": 2.717889097,
                        "test": [
                          0.00001870981766
                        ]
                      },
                      {
                        "learn": [
                          0.00001760157326
                        ],
                        "iteration": 895,
                        "passed_time": 23.17348707,
                        "remaining_time": 2.68977975,
                        "test": [
                          0.00001869758096
                        ]
                      },
                      {
                        "learn": [
                          0.00001758380291
                        ],
                        "iteration": 896,
                        "passed_time": 23.18000493,
                        "remaining_time": 2.661695104,
                        "test": [
                          0.00001867822713
                        ]
                      },
                      {
                        "learn": [
                          0.00001757150883
                        ],
                        "iteration": 897,
                        "passed_time": 23.18715101,
                        "remaining_time": 2.633729848,
                        "test": [
                          0.00001866599199
                        ]
                      },
                      {
                        "learn": [
                          0.0000174416727
                        ],
                        "iteration": 898,
                        "passed_time": 23.19391868,
                        "remaining_time": 2.605768394,
                        "test": [
                          0.00001853514466
                        ]
                      },
                      {
                        "learn": [
                          0.00001742947943
                        ],
                        "iteration": 899,
                        "passed_time": 23.20062707,
                        "remaining_time": 2.577847453,
                        "test": [
                          0.00001852131518
                        ]
                      },
                      {
                        "learn": [
                          0.00001741746141
                        ],
                        "iteration": 900,
                        "passed_time": 23.20721914,
                        "remaining_time": 2.549960816,
                        "test": [
                          0.00001850760512
                        ]
                      },
                      {
                        "learn": [
                          0.00001740522317
                        ],
                        "iteration": 901,
                        "passed_time": 23.21393583,
                        "remaining_time": 2.522134935,
                        "test": [
                          0.00001849387644
                        ]
                      },
                      {
                        "learn": [
                          0.0000173876715
                        ],
                        "iteration": 902,
                        "passed_time": 23.22064931,
                        "remaining_time": 2.494355463,
                        "test": [
                          0.00001847442181
                        ]
                      },
                      {
                        "learn": [
                          0.00001737777668
                        ],
                        "iteration": 903,
                        "passed_time": 23.22757267,
                        "remaining_time": 2.466644885,
                        "test": [
                          0.00001846248134
                        ]
                      },
                      {
                        "learn": [
                          0.00001736571214
                        ],
                        "iteration": 904,
                        "passed_time": 23.23441903,
                        "remaining_time": 2.438972163,
                        "test": [
                          0.00001844885192
                        ]
                      },
                      {
                        "learn": [
                          0.00001734818838
                        ],
                        "iteration": 905,
                        "passed_time": 23.24107376,
                        "remaining_time": 2.411325534,
                        "test": [
                          0.00001842959425
                        ]
                      },
                      {
                        "learn": [
                          0.00001733078095
                        ],
                        "iteration": 906,
                        "passed_time": 23.24771941,
                        "remaining_time": 2.383724261,
                        "test": [
                          0.00001841025128
                        ]
                      },
                      {
                        "learn": [
                          0.00001732344824
                        ],
                        "iteration": 907,
                        "passed_time": 23.25465112,
                        "remaining_time": 2.356198131,
                        "test": [
                          0.00001840492234
                        ]
                      },
                      {
                        "learn": [
                          0.00001730609508
                        ],
                        "iteration": 908,
                        "passed_time": 23.26123792,
                        "remaining_time": 2.328682784,
                        "test": [
                          0.00001838576703
                        ]
                      },
                      {
                        "learn": [
                          0.00001728881327
                        ],
                        "iteration": 909,
                        "passed_time": 23.26780183,
                        "remaining_time": 2.30121117,
                        "test": [
                          0.00001836680093
                        ]
                      },
                      {
                        "learn": [
                          0.00001727143686
                        ],
                        "iteration": 910,
                        "passed_time": 23.27439527,
                        "remaining_time": 2.273788342,
                        "test": [
                          0.00001834765027
                        ]
                      },
                      {
                        "learn": [
                          0.00001725964217
                        ],
                        "iteration": 911,
                        "passed_time": 23.28106678,
                        "remaining_time": 2.246418724,
                        "test": [
                          0.00001833431243
                        ]
                      },
                      {
                        "learn": [
                          0.00001724246737
                        ],
                        "iteration": 912,
                        "passed_time": 23.28778377,
                        "remaining_time": 2.219098782,
                        "test": [
                          0.0000183155495
                        ]
                      },
                      {
                        "learn": [
                          0.00001723071611
                        ],
                        "iteration": 913,
                        "passed_time": 23.29445932,
                        "remaining_time": 2.191820023,
                        "test": [
                          0.0000183020302
                        ]
                      },
                      {
                        "learn": [
                          0.00001721889041
                        ],
                        "iteration": 914,
                        "passed_time": 23.30135149,
                        "remaining_time": 2.164606423,
                        "test": [
                          0.00001829048211
                        ]
                      },
                      {
                        "learn": [
                          0.00001720173422
                        ],
                        "iteration": 915,
                        "passed_time": 23.30798497,
                        "remaining_time": 2.137413469,
                        "test": [
                          0.00001827161682
                        ]
                      },
                      {
                        "learn": [
                          0.00001719006206
                        ],
                        "iteration": 916,
                        "passed_time": 23.31577054,
                        "remaining_time": 2.110369634,
                        "test": [
                          0.00001825849765
                        ]
                      },
                      {
                        "learn": [
                          0.00001717603872
                        ],
                        "iteration": 917,
                        "passed_time": 23.32241462,
                        "remaining_time": 2.083265794,
                        "test": [
                          0.00001824180054
                        ]
                      },
                      {
                        "learn": [
                          0.00001716433864
                        ],
                        "iteration": 918,
                        "passed_time": 23.32909356,
                        "remaining_time": 2.056209552,
                        "test": [
                          0.00001823025245
                        ]
                      },
                      {
                        "learn": [
                          0.00001715262305
                        ],
                        "iteration": 919,
                        "passed_time": 23.33571779,
                        "remaining_time": 2.029192851,
                        "test": [
                          0.00001821860665
                        ]
                      },
                      {
                        "learn": [
                          0.0000171409695
                        ],
                        "iteration": 920,
                        "passed_time": 23.34247519,
                        "remaining_time": 2.002231856,
                        "test": [
                          0.00001820735013
                        ]
                      },
                      {
                        "learn": [
                          0.00001712410953
                        ],
                        "iteration": 921,
                        "passed_time": 23.34901497,
                        "remaining_time": 1.975296277,
                        "test": [
                          0.00001818878261
                        ]
                      },
                      {
                        "learn": [
                          0.00001710731936
                        ],
                        "iteration": 922,
                        "passed_time": 23.35730674,
                        "remaining_time": 1.94855105,
                        "test": [
                          0.0000181702182
                        ]
                      },
                      {
                        "learn": [
                          0.00001709567046
                        ],
                        "iteration": 923,
                        "passed_time": 23.36400256,
                        "remaining_time": 1.921714496,
                        "test": [
                          0.00001815876006
                        ]
                      },
                      {
                        "learn": [
                          0.0000170842449
                        ],
                        "iteration": 924,
                        "passed_time": 23.37068987,
                        "remaining_time": 1.8949208,
                        "test": [
                          0.0000181475144
                        ]
                      },
                      {
                        "learn": [
                          0.00001707271387
                        ],
                        "iteration": 925,
                        "passed_time": 23.37751882,
                        "remaining_time": 1.86818185,
                        "test": [
                          0.00001813457049
                        ]
                      },
                      {
                        "learn": [
                          0.00001693710058
                        ],
                        "iteration": 926,
                        "passed_time": 23.38693385,
                        "remaining_time": 1.841689505,
                        "test": [
                          0.00001799710387
                        ]
                      },
                      {
                        "learn": [
                          0.00001692341689
                        ],
                        "iteration": 927,
                        "passed_time": 23.3937539,
                        "remaining_time": 1.81503263,
                        "test": [
                          0.00001798199178
                        ]
                      },
                      {
                        "learn": [
                          0.0000169120394
                        ],
                        "iteration": 928,
                        "passed_time": 23.40066017,
                        "remaining_time": 1.788425051,
                        "test": [
                          0.00001797065772
                        ]
                      },
                      {
                        "learn": [
                          0.00001689542293
                        ],
                        "iteration": 929,
                        "passed_time": 23.41004577,
                        "remaining_time": 1.762046456,
                        "test": [
                          0.00001795258184
                        ]
                      },
                      {
                        "learn": [
                          0.00001687898481
                        ],
                        "iteration": 930,
                        "passed_time": 23.41678123,
                        "remaining_time": 1.735507954,
                        "test": [
                          0.00001793430589
                        ]
                      },
                      {
                        "learn": [
                          0.00001686241487
                        ],
                        "iteration": 931,
                        "passed_time": 23.42351342,
                        "remaining_time": 1.709011709,
                        "test": [
                          0.00001791634013
                        ]
                      },
                      {
                        "learn": [
                          0.00001685113354
                        ],
                        "iteration": 932,
                        "passed_time": 23.4428219,
                        "remaining_time": 1.683460951,
                        "test": [
                          0.00001790498125
                        ]
                      },
                      {
                        "learn": [
                          0.00001683481639
                        ],
                        "iteration": 933,
                        "passed_time": 23.45369792,
                        "remaining_time": 1.65732769,
                        "test": [
                          0.0000178872109
                        ]
                      },
                      {
                        "learn": [
                          0.00001681844652
                        ],
                        "iteration": 934,
                        "passed_time": 23.46456031,
                        "remaining_time": 1.631226118,
                        "test": [
                          0.00001786912727
                        ]
                      },
                      {
                        "learn": [
                          0.0000166883095
                        ],
                        "iteration": 935,
                        "passed_time": 23.49440621,
                        "remaining_time": 1.606455126,
                        "test": [
                          0.00001773916861
                        ]
                      },
                      {
                        "learn": [
                          0.00001667204354
                        ],
                        "iteration": 936,
                        "passed_time": 23.5057916,
                        "remaining_time": 1.580432093,
                        "test": [
                          0.00001772138741
                        ]
                      },
                      {
                        "learn": [
                          0.00001666086457
                        ],
                        "iteration": 937,
                        "passed_time": 23.51494419,
                        "remaining_time": 1.554292686,
                        "test": [
                          0.00001770874903
                        ]
                      },
                      {
                        "learn": [
                          0.00001664473974
                        ],
                        "iteration": 938,
                        "passed_time": 23.52364982,
                        "remaining_time": 1.528160425,
                        "test": [
                          0.00001769097558
                        ]
                      },
                      {
                        "learn": [
                          0.00001663365692
                        ],
                        "iteration": 939,
                        "passed_time": 23.53035248,
                        "remaining_time": 1.501937392,
                        "test": [
                          0.00001767981832
                        ]
                      },
                      {
                        "learn": [
                          0.00001662254929
                        ],
                        "iteration": 940,
                        "passed_time": 23.53702347,
                        "remaining_time": 1.475753862,
                        "test": [
                          0.0000176673769
                        ]
                      },
                      {
                        "learn": [
                          0.00001661148974
                        ],
                        "iteration": 941,
                        "passed_time": 23.54362538,
                        "remaining_time": 1.449607507,
                        "test": [
                          0.00001765483157
                        ]
                      },
                      {
                        "learn": [
                          0.00001660043484
                        ],
                        "iteration": 942,
                        "passed_time": 23.55022596,
                        "remaining_time": 1.423502523,
                        "test": [
                          0.00001764407445
                        ]
                      },
                      {
                        "learn": [
                          0.00001658435653
                        ],
                        "iteration": 943,
                        "passed_time": 23.5569006,
                        "remaining_time": 1.397443256,
                        "test": [
                          0.0000176263894
                        ]
                      },
                      {
                        "learn": [
                          0.00001657342416
                        ],
                        "iteration": 944,
                        "passed_time": 23.5635515,
                        "remaining_time": 1.371423632,
                        "test": [
                          0.00001761385493
                        ]
                      },
                      {
                        "learn": [
                          0.00001655747303
                        ],
                        "iteration": 945,
                        "passed_time": 23.5699626,
                        "remaining_time": 1.345431269,
                        "test": [
                          0.00001759657157
                        ]
                      },
                      {
                        "learn": [
                          0.00001654660889
                        ],
                        "iteration": 946,
                        "passed_time": 23.57654464,
                        "remaining_time": 1.319489827,
                        "test": [
                          0.0000175840309
                        ]
                      },
                      {
                        "learn": [
                          0.00001653352075
                        ],
                        "iteration": 947,
                        "passed_time": 23.58316052,
                        "remaining_time": 1.293591084,
                        "test": [
                          0.00001756931429
                        ]
                      },
                      {
                        "learn": [
                          0.00001652263334
                        ],
                        "iteration": 948,
                        "passed_time": 23.59290565,
                        "remaining_time": 1.267901147,
                        "test": [
                          0.00001755864402
                        ]
                      },
                      {
                        "learn": [
                          0.00001650680784
                        ],
                        "iteration": 949,
                        "passed_time": 23.59972064,
                        "remaining_time": 1.24209056,
                        "test": [
                          0.00001754136686
                        ]
                      },
                      {
                        "learn": [
                          0.00001649597007
                        ],
                        "iteration": 950,
                        "passed_time": 23.60653481,
                        "remaining_time": 1.21631988,
                        "test": [
                          0.00001752891769
                        ]
                      },
                      {
                        "learn": [
                          0.00001648511213
                        ],
                        "iteration": 951,
                        "passed_time": 23.61326832,
                        "remaining_time": 1.190584957,
                        "test": [
                          0.00001751826603
                        ]
                      },
                      {
                        "learn": [
                          0.0000164694076
                        ],
                        "iteration": 952,
                        "passed_time": 23.62002718,
                        "remaining_time": 1.164891162,
                        "test": [
                          0.00001750108503
                        ]
                      },
                      {
                        "learn": [
                          0.00001645370462
                        ],
                        "iteration": 953,
                        "passed_time": 23.6267337,
                        "remaining_time": 1.139234539,
                        "test": [
                          0.00001748370241
                        ]
                      },
                      {
                        "learn": [
                          0.00001644296455
                        ],
                        "iteration": 954,
                        "passed_time": 23.633457,
                        "remaining_time": 1.113618393,
                        "test": [
                          0.00001747174643
                        ]
                      },
                      {
                        "learn": [
                          0.0000164274787
                        ],
                        "iteration": 955,
                        "passed_time": 23.64010686,
                        "remaining_time": 1.088038391,
                        "test": [
                          0.00001745455922
                        ]
                      },
                      {
                        "learn": [
                          0.00001641684254
                        ],
                        "iteration": 956,
                        "passed_time": 23.64695298,
                        "remaining_time": 1.062506769,
                        "test": [
                          0.0000174426048
                        ]
                      },
                      {
                        "learn": [
                          0.00001640129
                        ],
                        "iteration": 957,
                        "passed_time": 23.65364,
                        "remaining_time": 1.037007182,
                        "test": [
                          0.0000174255153
                        ]
                      },
                      {
                        "learn": [
                          0.00001639067246
                        ],
                        "iteration": 958,
                        "passed_time": 23.66172343,
                        "remaining_time": 1.011606528,
                        "test": [
                          0.0000174132755
                        ]
                      },
                      {
                        "learn": [
                          0.00001637523623
                        ],
                        "iteration": 959,
                        "passed_time": 23.66946807,
                        "remaining_time": 0.9862278363,
                        "test": [
                          0.00001739638762
                        ]
                      },
                      {
                        "learn": [
                          0.00001635981707
                        ],
                        "iteration": 960,
                        "passed_time": 23.67768067,
                        "remaining_time": 0.9609048347,
                        "test": [
                          0.00001737939893
                        ]
                      },
                      {
                        "learn": [
                          0.00001634929258
                        ],
                        "iteration": 961,
                        "passed_time": 23.68563809,
                        "remaining_time": 0.935607326,
                        "test": [
                          0.0000173674445
                        ]
                      },
                      {
                        "learn": [
                          0.00001634020734
                        ],
                        "iteration": 962,
                        "passed_time": 23.69252233,
                        "remaining_time": 0.9103045962,
                        "test": [
                          0.00001736269871
                        ]
                      },
                      {
                        "learn": [
                          0.00001633048002
                        ],
                        "iteration": 963,
                        "passed_time": 23.70862743,
                        "remaining_time": 0.8853844269,
                        "test": [
                          0.00001735075514
                        ]
                      },
                      {
                        "learn": [
                          0.00001631996173
                        ],
                        "iteration": 964,
                        "passed_time": 23.72768856,
                        "remaining_time": 0.8605897405,
                        "test": [
                          0.00001734028338
                        ]
                      },
                      {
                        "learn": [
                          0.00001630470076
                        ],
                        "iteration": 965,
                        "passed_time": 23.74142729,
                        "remaining_time": 0.8356195942,
                        "test": [
                          0.00001732339551
                        ]
                      },
                      {
                        "learn": [
                          0.00001617068647
                        ],
                        "iteration": 966,
                        "passed_time": 23.74818458,
                        "remaining_time": 0.8104344272,
                        "test": [
                          0.00001718789389
                        ]
                      },
                      {
                        "learn": [
                          0.00001615539758
                        ],
                        "iteration": 967,
                        "passed_time": 23.75463039,
                        "remaining_time": 0.7852770377,
                        "test": [
                          0.00001717131309
                        ]
                      },
                      {
                        "learn": [
                          0.00001614606729
                        ],
                        "iteration": 968,
                        "passed_time": 23.76131354,
                        "remaining_time": 0.7601658614,
                        "test": [
                          0.00001716084133
                        ]
                      },
                      {
                        "learn": [
                          0.00001613574752
                        ],
                        "iteration": 969,
                        "passed_time": 23.7679101,
                        "remaining_time": 0.7350900031,
                        "test": [
                          0.00001714919398
                        ]
                      },
                      {
                        "learn": [
                          0.00001612530368
                        ],
                        "iteration": 970,
                        "passed_time": 23.77448058,
                        "remaining_time": 0.7100514283,
                        "test": [
                          0.0000171390138
                        ]
                      },
                      {
                        "learn": [
                          0.00001611024123
                        ],
                        "iteration": 971,
                        "passed_time": 23.78106677,
                        "remaining_time": 0.6850513063,
                        "test": [
                          0.00001712241904
                        ]
                      },
                      {
                        "learn": [
                          0.00001609994007
                        ],
                        "iteration": 972,
                        "passed_time": 23.78785171,
                        "remaining_time": 0.6600945489,
                        "test": [
                          0.00001711224816
                        ]
                      },
                      {
                        "learn": [
                          0.00001608962496
                        ],
                        "iteration": 973,
                        "passed_time": 23.79443023,
                        "remaining_time": 0.6351695955,
                        "test": [
                          0.00001710207573
                        ]
                      },
                      {
                        "learn": [
                          0.00001607930364
                        ],
                        "iteration": 974,
                        "passed_time": 23.80098122,
                        "remaining_time": 0.6102815698,
                        "test": [
                          0.00001709022366
                        ]
                      },
                      {
                        "learn": [
                          0.00001595012819
                        ],
                        "iteration": 975,
                        "passed_time": 23.8075843,
                        "remaining_time": 0.5854324007,
                        "test": [
                          0.00001696134754
                        ]
                      },
                      {
                        "learn": [
                          0.00001593988442
                        ],
                        "iteration": 976,
                        "passed_time": 23.81426524,
                        "remaining_time": 0.560622416,
                        "test": [
                          0.00001694959628
                        ]
                      },
                      {
                        "learn": [
                          0.00001592966391
                        ],
                        "iteration": 977,
                        "passed_time": 23.8209398,
                        "remaining_time": 0.5358493615,
                        "test": [
                          0.00001693835527
                        ]
                      },
                      {
                        "learn": [
                          0.00001591486666
                        ],
                        "iteration": 978,
                        "passed_time": 23.82771487,
                        "remaining_time": 0.5111154364,
                        "test": [
                          0.00001692185357
                        ]
                      },
                      {
                        "learn": [
                          0.00001590467096
                        ],
                        "iteration": 979,
                        "passed_time": 23.83428768,
                        "remaining_time": 0.4864140342,
                        "test": [
                          0.00001691039388
                        ]
                      },
                      {
                        "learn": [
                          0.00001589449698
                        ],
                        "iteration": 980,
                        "passed_time": 23.84081639,
                        "remaining_time": 0.4617487374,
                        "test": [
                          0.00001689883959
                        ]
                      },
                      {
                        "learn": [
                          0.00001587975401
                        ],
                        "iteration": 981,
                        "passed_time": 23.84737413,
                        "remaining_time": 0.4371209107,
                        "test": [
                          0.00001688264186
                        ]
                      },
                      {
                        "learn": [
                          0.0000158707184
                        ],
                        "iteration": 982,
                        "passed_time": 23.8540153,
                        "remaining_time": 0.412531292,
                        "test": [
                          0.00001687256714
                        ]
                      },
                      {
                        "learn": [
                          0.0000158606933
                        ],
                        "iteration": 983,
                        "passed_time": 23.86066913,
                        "remaining_time": 0.3879783598,
                        "test": [
                          0.00001686130442
                        ]
                      },
                      {
                        "learn": [
                          0.00001585056895
                        ],
                        "iteration": 984,
                        "passed_time": 23.86739458,
                        "remaining_time": 0.3634628616,
                        "test": [
                          0.0000168512328
                        ]
                      },
                      {
                        "learn": [
                          0.00001583582598
                        ],
                        "iteration": 985,
                        "passed_time": 23.87425239,
                        "remaining_time": 0.3389853281,
                        "test": [
                          0.00001683522583
                        ]
                      },
                      {
                        "learn": [
                          0.0000158258257
                        ],
                        "iteration": 986,
                        "passed_time": 23.88083754,
                        "remaining_time": 0.3145399069,
                        "test": [
                          0.00001682515887
                        ]
                      },
                      {
                        "learn": [
                          0.00001581579906
                        ],
                        "iteration": 987,
                        "passed_time": 23.88775869,
                        "remaining_time": 0.2901347209,
                        "test": [
                          0.00001681537571
                        ]
                      },
                      {
                        "learn": [
                          0.00001580580343
                        ],
                        "iteration": 988,
                        "passed_time": 23.89437656,
                        "remaining_time": 0.2657615189,
                        "test": [
                          0.0000168041254
                        ]
                      },
                      {
                        "learn": [
                          0.00001579380248
                        ],
                        "iteration": 989,
                        "passed_time": 23.90134111,
                        "remaining_time": 0.241427688,
                        "test": [
                          0.00001678979497
                        ]
                      },
                      {
                        "learn": [
                          0.00001578122923
                        ],
                        "iteration": 990,
                        "passed_time": 23.90822247,
                        "remaining_time": 0.2171281557,
                        "test": [
                          0.00001677496826
                        ]
                      },
                      {
                        "learn": [
                          0.00001576925154
                        ],
                        "iteration": 991,
                        "passed_time": 23.91506376,
                        "remaining_time": 0.1928634175,
                        "test": [
                          0.00001676085186
                        ]
                      },
                      {
                        "learn": [
                          0.00001575937688
                        ],
                        "iteration": 992,
                        "passed_time": 23.92187787,
                        "remaining_time": 0.1686335802,
                        "test": [
                          0.00001674969149
                        ]
                      },
                      {
                        "learn": [
                          0.00001574940142
                        ],
                        "iteration": 993,
                        "passed_time": 23.92850368,
                        "remaining_time": 0.144437648,
                        "test": [
                          0.00001673852803
                        ]
                      },
                      {
                        "learn": [
                          0.00001573502602
                        ],
                        "iteration": 994,
                        "passed_time": 23.9350034,
                        "remaining_time": 0.120276399,
                        "test": [
                          0.00001672261878
                        ]
                      },
                      {
                        "learn": [
                          0.00001572791664
                        ],
                        "iteration": 995,
                        "passed_time": 23.94179448,
                        "remaining_time": 0.09615178507,
                        "test": [
                          0.00001672134083
                        ]
                      },
                      {
                        "learn": [
                          0.00001571601184
                        ],
                        "iteration": 996,
                        "passed_time": 23.9484607,
                        "remaining_time": 0.07206156679,
                        "test": [
                          0.00001670721822
                        ]
                      },
                      {
                        "learn": [
                          0.00001570168762
                        ],
                        "iteration": 997,
                        "passed_time": 23.95516532,
                        "remaining_time": 0.04800634333,
                        "test": [
                          0.00001669149198
                        ]
                      },
                      {
                        "learn": [
                          0.00001569198666
                        ],
                        "iteration": 998,
                        "passed_time": 23.96186642,
                        "remaining_time": 0.02398585227,
                        "test": [
                          0.00001668024476
                        ]
                      },
                      {
                        "learn": [
                          0.00001568216164
                        ],
                        "iteration": 999,
                        "passed_time": 23.96852205,
                        "remaining_time": 0,
                        "test": [
                          0.00001667511124
                        ]
                      }
                    ],
                    "meta": {
                      "test_sets": [
                        "test"
                      ],
                      "test_metrics": [
                        {
                          "best_value": "Min",
                          "name": "MultiClass"
                        }
                      ],
                      "learn_metrics": [
                        {
                          "best_value": "Min",
                          "name": "MultiClass"
                        }
                      ],
                      "launch_mode": "Train",
                      "parameters": "",
                      "iteration_count": 1000,
                      "learn_sets": [
                        "learn"
                      ],
                      "name": "experiment"
                    }
                  }
                }
              }
            },
            "layout": "IPY_MODEL_a44a4f9717554950997497e437582541"
          }
        }
      }
    },
    "accelerator": "GPU"
  },
  "cells": [
    {
      "cell_type": "markdown",
      "metadata": {
        "id": "view-in-github",
        "colab_type": "text"
      },
      "source": [
        "<a href=\"https://colab.research.google.com/github/Yanina-Kutovaya/GNN/blob/main/nptebooks/5_1_CatBoost.ipynb\" target=\"_parent\"><img src=\"https://colab.research.google.com/assets/colab-badge.svg\" alt=\"Open In Colab\"/></a>"
      ]
    },
    {
      "cell_type": "markdown",
      "source": [
        "# Реализация CatBoostClassifier с использованием GPU (CUDA 12.5) для классификации узлов на датасете Bitcoin-OTC\n",
        "\n",
        "Задача — предсказать \"уровень доверия\" пользователей\n",
        "\n",
        "Признаки узлов/рёбер - синтетические"
      ],
      "metadata": {
        "id": "YCOQl0-4rgpv"
      }
    },
    {
      "cell_type": "markdown",
      "source": [
        "Небходимо выбрать среду выполнения с GPU: Среда выполнения → Сменить среду выполнения → Графический процессор T4"
      ],
      "metadata": {
        "id": "dE5Com4Fr4PG"
      }
    },
    {
      "cell_type": "markdown",
      "source": [
        "## 1. Установка зависимостей"
      ],
      "metadata": {
        "id": "5hgp6VWTshjH"
      }
    },
    {
      "cell_type": "markdown",
      "source": [
        "Требования:\n",
        "- CatBoost ≥1.2.2\n",
        "- PyTorch Geometric для загрузки данных\n"
      ],
      "metadata": {
        "id": "2_ESRcv8srxJ"
      }
    },
    {
      "cell_type": "markdown",
      "source": [
        "* CatBoost автоматически использует доступные GPU через CUDA, явная установка CUDA 12.5 не требуется"
      ],
      "metadata": {
        "id": "dwH_a7CotLHY"
      }
    },
    {
      "cell_type": "code",
      "source": [
        "install = True\n",
        "if install:\n",
        "  !pip install -q catboost\n",
        "  !pip install -q torch-geometric"
      ],
      "metadata": {
        "id": "syNkpHxOr0o5"
      },
      "execution_count": 1,
      "outputs": []
    },
    {
      "cell_type": "markdown",
      "source": [
        "## 2. Импорт библиотек"
      ],
      "metadata": {
        "id": "ozuwHyaWsB-5"
      }
    },
    {
      "cell_type": "code",
      "source": [
        "import numpy as np\n",
        "import pandas as pd\n",
        "from catboost import CatBoostClassifier, Pool\n",
        "from torch_geometric.datasets import BitcoinOTC\n",
        "from sklearn.model_selection import train_test_split\n",
        "from sklearn.metrics import classification_report"
      ],
      "metadata": {
        "id": "wllZ2lz2tUEZ"
      },
      "execution_count": 2,
      "outputs": []
    },
    {
      "cell_type": "markdown",
      "source": [
        "## 3. Загрузка данных"
      ],
      "metadata": {
        "id": "HRF04tYPxl_7"
      }
    },
    {
      "cell_type": "code",
      "source": [
        "dataset = BitcoinOTC(root='/tmp/BitcoinOTC')\n",
        "data = dataset[0]"
      ],
      "metadata": {
        "id": "V8wKGX0ltWRC"
      },
      "execution_count": 3,
      "outputs": []
    },
    {
      "cell_type": "markdown",
      "source": [
        "## 4. Создание признаков узлов с учётом рёбер"
      ],
      "metadata": {
        "id": "KDJSrnVsxuq1"
      }
    },
    {
      "cell_type": "code",
      "source": [
        "def create_node_features(data):\n",
        "    num_nodes = data.num_nodes\n",
        "    features = []\n",
        "\n",
        "    # Степень узлов\n",
        "    degrees = np.zeros(num_nodes)\n",
        "    for src in data.edge_index[0].unique().cpu().numpy():\n",
        "        degrees[src] = (data.edge_index[0].cpu().numpy() == src).sum()\n",
        "\n",
        "    # Статистики по рёбрам\n",
        "    edge_attrs = [[] for _ in range(num_nodes)]\n",
        "    for i in range(data.edge_index.size(1)):\n",
        "        src = data.edge_index[0, i].item()\n",
        "        attr = data.edge_attr[i].item()\n",
        "        edge_attrs[src].append(attr)\n",
        "\n",
        "    # Создание фичей\n",
        "    for node_id in range(num_nodes):\n",
        "        node_feats = [\n",
        "            degrees[node_id],  # Степень узла\n",
        "            np.mean(edge_attrs[node_id]) if edge_attrs[node_id] else 0,  # Среднее значение рёбер\n",
        "            np.max(edge_attrs[node_id]) if edge_attrs[node_id] else 0,   # Максимум\n",
        "            np.min(edge_attrs[node_id]) if edge_attrs[node_id] else 0,   # Минимум\n",
        "            len(edge_attrs[node_id])                                      # Количество рёбер\n",
        "        ]\n",
        "        features.append(node_feats)\n",
        "\n",
        "    return np.array(features)"
      ],
      "metadata": {
        "id": "cEa_9JUvtXqZ"
      },
      "execution_count": 4,
      "outputs": []
    },
    {
      "cell_type": "markdown",
      "source": [
        "## 5. Подготовка данных"
      ],
      "metadata": {
        "id": "N3tBESn5x1bB"
      }
    },
    {
      "cell_type": "code",
      "source": [
        "X = create_node_features(data)\n",
        "X"
      ],
      "metadata": {
        "colab": {
          "base_uri": "https://localhost:8080/"
        },
        "id": "63tjiuFEp58V",
        "outputId": "117e59fa-e0ce-4bab-86bd-2afc6047a27e"
      },
      "execution_count": 5,
      "outputs": [
        {
          "output_type": "execute_result",
          "data": {
            "text/plain": [
              "array([[2. , 2.5, 4. , 1. , 2. ],\n",
              "       [3. , 5. , 5. , 5. , 3. ],\n",
              "       [0. , 0. , 0. , 0. , 0. ],\n",
              "       ...,\n",
              "       [0. , 0. , 0. , 0. , 0. ],\n",
              "       [0. , 0. , 0. , 0. , 0. ],\n",
              "       [0. , 0. , 0. , 0. , 0. ]])"
            ]
          },
          "metadata": {},
          "execution_count": 5
        }
      ]
    },
    {
      "cell_type": "code",
      "source": [
        "y = np.zeros(data.num_nodes)\n",
        "\n",
        "# Создание меток (3 класса)\n",
        "q1 = np.quantile(X[:, 0], 0.5)\n",
        "q2 = np.quantile(X[:, 0], 0.999)\n",
        "y[X[:, 0] > q2] = 2\n",
        "y[(X[:, 0] > q1) & (X[:, 0] <= q2)] = 1"
      ],
      "metadata": {
        "id": "lbVFWlgjtbez"
      },
      "execution_count": 6,
      "outputs": []
    },
    {
      "cell_type": "markdown",
      "source": [
        "## 6. Разделение данных"
      ],
      "metadata": {
        "id": "p7oQxlCzx6QZ"
      }
    },
    {
      "cell_type": "code",
      "source": [
        "X_train, X_test, y_train, y_test = train_test_split(\n",
        "    X, y,\n",
        "    test_size=0.2,\n",
        "    stratify=y,\n",
        "    random_state=42\n",
        ")"
      ],
      "metadata": {
        "id": "vIC2EBNKthNL"
      },
      "execution_count": 7,
      "outputs": []
    },
    {
      "cell_type": "markdown",
      "source": [
        "## 7. Создание CatBoost модели с GPU"
      ],
      "metadata": {
        "id": "6hA_2K_Lx-r1"
      }
    },
    {
      "cell_type": "code",
      "source": [
        "model = CatBoostClassifier(\n",
        "    iterations=1000,\n",
        "    learning_rate=0.1,\n",
        "    depth=8,\n",
        "    loss_function='MultiClass',\n",
        "    task_type='GPU',  # Включение GPU\n",
        "    devices='0:1',    # Использование первого GPU\n",
        "    verbose=100,\n",
        "    early_stopping_rounds=50\n",
        ")"
      ],
      "metadata": {
        "id": "_zQpjgzitizP"
      },
      "execution_count": 8,
      "outputs": []
    },
    {
      "cell_type": "markdown",
      "source": [
        "## 8. Обучение"
      ],
      "metadata": {
        "id": "9rCWtMJVyDp7"
      }
    },
    {
      "cell_type": "code",
      "source": [
        "model.fit(\n",
        "    X_train, y_train,\n",
        "    eval_set=(X_test, y_test),\n",
        "    plot=True\n",
        ")"
      ],
      "metadata": {
        "colab": {
          "base_uri": "https://localhost:8080/",
          "height": 260,
          "referenced_widgets": [
            "24feed89065f45239655cc2fc49b640b"
          ]
        },
        "id": "3Gt9avFytk6w",
        "outputId": "6f5d4573-27f1-4e20-ee0c-c6f429d39426"
      },
      "execution_count": 9,
      "outputs": [
        {
          "output_type": "display_data",
          "data": {
            "text/plain": [
              "MetricVisualizer(layout=Layout(align_self='stretch', height='500px'))"
            ],
            "application/vnd.jupyter.widget-view+json": {
              "version_major": 2,
              "version_minor": 0,
              "model_id": "24feed89065f45239655cc2fc49b640b"
            }
          },
          "metadata": {}
        },
        {
          "output_type": "stream",
          "name": "stdout",
          "text": [
            "0:\tlearn: 0.9095124\ttest: 0.9095340\tbest: 0.9095340 (0)\ttotal: 60.5ms\tremaining: 1m\n",
            "100:\tlearn: 0.0003896\ttest: 0.0004030\tbest: 0.0004030 (100)\ttotal: 1.29s\tremaining: 11.5s\n",
            "200:\tlearn: 0.0001095\ttest: 0.0001153\tbest: 0.0001153 (200)\ttotal: 5.19s\tremaining: 20.6s\n",
            "300:\tlearn: 0.0000632\ttest: 0.0000670\tbest: 0.0000670 (300)\ttotal: 10.4s\tremaining: 24.2s\n",
            "400:\tlearn: 0.0000442\ttest: 0.0000470\tbest: 0.0000470 (400)\ttotal: 14.5s\tremaining: 21.7s\n",
            "500:\tlearn: 0.0000339\ttest: 0.0000360\tbest: 0.0000360 (500)\ttotal: 18.9s\tremaining: 18.8s\n",
            "600:\tlearn: 0.0000275\ttest: 0.0000293\tbest: 0.0000293 (600)\ttotal: 20.9s\tremaining: 13.9s\n",
            "700:\tlearn: 0.0000231\ttest: 0.0000246\tbest: 0.0000246 (700)\ttotal: 21.8s\tremaining: 9.28s\n",
            "800:\tlearn: 0.0000199\ttest: 0.0000211\tbest: 0.0000211 (800)\ttotal: 22.5s\tremaining: 5.59s\n",
            "900:\tlearn: 0.0000174\ttest: 0.0000185\tbest: 0.0000185 (900)\ttotal: 23.2s\tremaining: 2.55s\n",
            "999:\tlearn: 0.0000157\ttest: 0.0000167\tbest: 0.0000167 (999)\ttotal: 24s\tremaining: 0us\n",
            "bestTest = 1.667511124e-05\n",
            "bestIteration = 999\n"
          ]
        },
        {
          "output_type": "execute_result",
          "data": {
            "text/plain": [
              "<catboost.core.CatBoostClassifier at 0x7adf284e9b90>"
            ]
          },
          "metadata": {},
          "execution_count": 9
        }
      ]
    },
    {
      "cell_type": "markdown",
      "source": [
        "## 9. Оценка"
      ],
      "metadata": {
        "id": "Y1Um4P5GyK05"
      }
    },
    {
      "cell_type": "code",
      "source": [
        "y_pred = model.predict(X_test)\n",
        "print(classification_report(y_test, y_pred, labels=[0, 1, 2]))"
      ],
      "metadata": {
        "colab": {
          "base_uri": "https://localhost:8080/"
        },
        "id": "KgEKu4uuty6F",
        "outputId": "005f5f2f-a77a-47b0-b02c-e40ab7cf5c2a"
      },
      "execution_count": 10,
      "outputs": [
        {
          "output_type": "stream",
          "name": "stdout",
          "text": [
            "              precision    recall  f1-score   support\n",
            "\n",
            "           0       1.00      1.00      1.00      1198\n",
            "           1       1.00      1.00      1.00         2\n",
            "           2       1.00      1.00      1.00         1\n",
            "\n",
            "    accuracy                           1.00      1201\n",
            "   macro avg       1.00      1.00      1.00      1201\n",
            "weighted avg       1.00      1.00      1.00      1201\n",
            "\n"
          ]
        }
      ]
    },
    {
      "cell_type": "markdown",
      "source": [
        "## 10. Важность признаков"
      ],
      "metadata": {
        "id": "6EXQ93LVyPSR"
      }
    },
    {
      "cell_type": "code",
      "source": [
        "feature_names = ['Degree', 'EdgeMean', 'EdgeMax', 'EdgeMin', 'EdgeCount']\n",
        "print(\"\\nFeature Importance:\")\n",
        "for name, score in zip(feature_names, model.get_feature_importance()):\n",
        "    print(f\"{name}: {score:.2f}\")"
      ],
      "metadata": {
        "colab": {
          "base_uri": "https://localhost:8080/"
        },
        "id": "5p5L1DUvsKws",
        "outputId": "638d30fa-dd97-45ba-d9ad-3eb8288f4ffd"
      },
      "execution_count": 11,
      "outputs": [
        {
          "output_type": "stream",
          "name": "stdout",
          "text": [
            "\n",
            "Feature Importance:\n",
            "Degree: 65.54\n",
            "EdgeMean: 2.91\n",
            "EdgeMax: 6.74\n",
            "EdgeMin: 0.02\n",
            "EdgeCount: 24.79\n"
          ]
        }
      ]
    },
    {
      "cell_type": "markdown",
      "source": [
        "## 11. Сохранение модели"
      ],
      "metadata": {
        "id": "3xXSoaINrwI9"
      }
    },
    {
      "cell_type": "code",
      "source": [
        "model.save_model('catboost_model.cbm')"
      ],
      "metadata": {
        "id": "_1WjdzZYrVtq"
      },
      "execution_count": 12,
      "outputs": []
    },
    {
      "cell_type": "markdown",
      "source": [
        "## 12. Загрузка модели"
      ],
      "metadata": {
        "id": "w2jSGq9br_D5"
      }
    },
    {
      "cell_type": "code",
      "source": [
        "loaded_model = CatBoostClassifier()\n",
        "loaded_model.load_model('catboost_model.cbm')"
      ],
      "metadata": {
        "colab": {
          "base_uri": "https://localhost:8080/"
        },
        "id": "anX3Sw_crcet",
        "outputId": "793effc4-4ab1-4a45-a188-71a91f4b3504"
      },
      "execution_count": 13,
      "outputs": [
        {
          "output_type": "execute_result",
          "data": {
            "text/plain": [
              "<catboost.core.CatBoostClassifier at 0x7ade26b6de10>"
            ]
          },
          "metadata": {},
          "execution_count": 13
        }
      ]
    },
    {
      "cell_type": "code",
      "source": [
        "y_pred = loaded_model.predict(X_test)\n",
        "print(classification_report(y_test, y_pred, labels=[0, 1, 2]))"
      ],
      "metadata": {
        "colab": {
          "base_uri": "https://localhost:8080/"
        },
        "id": "eVD6fffSriNn",
        "outputId": "e869b07b-1578-40fc-d1a9-486bfd051b24"
      },
      "execution_count": 14,
      "outputs": [
        {
          "output_type": "stream",
          "name": "stdout",
          "text": [
            "              precision    recall  f1-score   support\n",
            "\n",
            "           0       1.00      1.00      1.00      1198\n",
            "           1       1.00      1.00      1.00         2\n",
            "           2       1.00      1.00      1.00         1\n",
            "\n",
            "    accuracy                           1.00      1201\n",
            "   macro avg       1.00      1.00      1.00      1201\n",
            "weighted avg       1.00      1.00      1.00      1201\n",
            "\n"
          ]
        }
      ]
    }
  ]
}